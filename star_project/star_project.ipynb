{
 "cells": [
  {
   "cell_type": "markdown",
   "id": "c38dcf89",
   "metadata": {},
   "source": [
    "# Прогнозирование температуры звезды\n",
    "\n",
    "**Цель** - исследовать данные о температурах на поверхности звезды.\n",
    "\n",
    "**Задача** - Необходимо разработать нейронную сеть, которая поможет предсказывать абсолютную температуру на поверхности звезды. Метрика RMSE < 4500.\n",
    "\n",
    "Согласно документации данные находятся в файле `6_class.csv `\n",
    "\n",
    "**Описание признаков**\n",
    "- `Относительная светимость L/Lo` — светимость звезды относительно Солнца.\n",
    "- `Относительный радиус R/Ro` — радиус звезды относительно радиуса Солнца.\n",
    "- `Абсолютная звёздная величина Mv` — физическая величина, характеризующая блеск звезды.\n",
    "- `Звёздный цвет` (white, red, blue, yellow, yellow-orange и др.) — цвет звезды, который определяют на основе спектрального анализа.\n",
    "- `Тип звезды`.\n",
    "- `Абсолютная температура T(K)` — температура на поверхности звезды в Кельвинах.\n",
    "\n",
    "**План исследования**\n",
    "1. Изучить данные\n",
    "2. Предобработка данных\n",
    "3. Исследовательский анализ данных\n",
    "4. Подготовка данных к построению модели\n",
    "5. Построение базовой нейронной сети\n",
    "6. Улучшение нейронной сети\n",
    "7. Общий вывод"
   ]
  },
  {
   "cell_type": "markdown",
   "id": "cb216062",
   "metadata": {},
   "source": [
    "## Изученние даных\n",
    "### Импорт библиотек"
   ]
  },
  {
   "cell_type": "code",
   "execution_count": 1,
   "id": "b97e69ec",
   "metadata": {},
   "outputs": [],
   "source": [
    "import os\n",
    "import time\n",
    "\n",
    "import pandas as pd\n",
    "import numpy as np\n",
    "import seaborn as sns\n",
    "import matplotlib.pyplot as plt\n",
    "import matplotlib.colors as mcolors\n",
    "import torch\n",
    "import torch.nn as nn\n",
    "\n",
    "from scipy.stats import shapiro\n",
    "from sklearn.preprocessing import StandardScaler, OneHotEncoder\n",
    "from sklearn.model_selection import train_test_split\n",
    "\n",
    "from tqdm.notebook import tqdm\n",
    "import statsmodels.api as sm"
   ]
  },
  {
   "cell_type": "code",
   "execution_count": 2,
   "id": "e70083f0",
   "metadata": {},
   "outputs": [],
   "source": [
    "%matplotlib inline\n",
    "torch.use_deterministic_algorithms(True)\n",
    "pd.options.mode.chained_assignment = None"
   ]
  },
  {
   "cell_type": "markdown",
   "id": "7d13816f",
   "metadata": {},
   "source": [
    "### Функции"
   ]
  },
  {
   "cell_type": "code",
   "execution_count": 3,
   "id": "225fb8d0",
   "metadata": {
    "scrolled": true
   },
   "outputs": [],
   "source": [
    "def test_shapiro(data, alpha):\n",
    "    '''\n",
    "    Функция проверяет данные на нормальное\n",
    "    распределени, используя тест Шапиро-Уилка и\n",
    "    строит график QQ-plot. Принимает столбец и \n",
    "    сверяет его p-value с уровнем статистической \n",
    "    значимости, выводит ответ о нормальности и график.\n",
    "    '''\n",
    "\n",
    "    stat, p = shapiro(data)\n",
    "\n",
    "    if p > alpha:\n",
    "        print('Не отвергаем H0. Данные получены из нормального распределения')\n",
    "    else:\n",
    "        print('Отвегаем H0 и принимаем H1. \\\n",
    "Данные не получены из нормального распределения')\n",
    "\n",
    "    sm.qqplot(data, line='s')\n",
    "    plt.title(f'QQ-plot {data.name}')"
   ]
  },
  {
   "cell_type": "markdown",
   "id": "d550151e",
   "metadata": {},
   "source": [
    "### Константы"
   ]
  },
  {
   "cell_type": "code",
   "execution_count": 4,
   "id": "f3846748",
   "metadata": {},
   "outputs": [],
   "source": [
    "ALPHA = 0.05 \n",
    "RANDOM_STATE = 42 \n",
    "TEST_SIZE = 0.25"
   ]
  },
  {
   "cell_type": "markdown",
   "id": "corresponding-armstrong",
   "metadata": {
    "ExecuteTime": {
     "end_time": "2022-05-05T04:58:05.692448Z",
     "start_time": "2022-05-05T04:58:05.688565Z"
    }
   },
   "source": [
    "### Загрузка данных"
   ]
  },
  {
   "cell_type": "markdown",
   "id": "a7a6f1fc",
   "metadata": {},
   "source": [
    "Сохарним датасет в переменную `star_df`"
   ]
  },
  {
   "cell_type": "code",
   "execution_count": 5,
   "id": "spectacular-folder",
   "metadata": {},
   "outputs": [],
   "source": [
    "pth = '/datasets/6_class.csv'"
   ]
  },
  {
   "cell_type": "code",
   "execution_count": 6,
   "id": "ac22232c",
   "metadata": {},
   "outputs": [],
   "source": [
    "if os.path.exists(pth):\n",
    "    star_df = pd.read_csv(pth, sep=',', index_col=0)\n",
    "else:\n",
    "    print('Файл не найден')"
   ]
  },
  {
   "cell_type": "code",
   "execution_count": 7,
   "id": "d79529f2",
   "metadata": {},
   "outputs": [
    {
     "data": {
      "text/plain": [
       "(240, 6)"
      ]
     },
     "execution_count": 7,
     "metadata": {},
     "output_type": "execute_result"
    }
   ],
   "source": [
    "star_df.shape"
   ]
  },
  {
   "cell_type": "markdown",
   "id": "ef0540ae",
   "metadata": {},
   "source": [
    "Изучим данные. Выведем первые 5 строк, полную информацию и описательную статистику датасета."
   ]
  },
  {
   "cell_type": "code",
   "execution_count": 8,
   "id": "a33e8777",
   "metadata": {},
   "outputs": [
    {
     "data": {
      "text/html": [
       "<div>\n",
       "<style scoped>\n",
       "    .dataframe tbody tr th:only-of-type {\n",
       "        vertical-align: middle;\n",
       "    }\n",
       "\n",
       "    .dataframe tbody tr th {\n",
       "        vertical-align: top;\n",
       "    }\n",
       "\n",
       "    .dataframe thead th {\n",
       "        text-align: right;\n",
       "    }\n",
       "</style>\n",
       "<table border=\"1\" class=\"dataframe\">\n",
       "  <thead>\n",
       "    <tr style=\"text-align: right;\">\n",
       "      <th></th>\n",
       "      <th>Temperature (K)</th>\n",
       "      <th>Luminosity(L/Lo)</th>\n",
       "      <th>Radius(R/Ro)</th>\n",
       "      <th>Absolute magnitude(Mv)</th>\n",
       "      <th>Star type</th>\n",
       "      <th>Star color</th>\n",
       "    </tr>\n",
       "  </thead>\n",
       "  <tbody>\n",
       "    <tr>\n",
       "      <th>0</th>\n",
       "      <td>3068</td>\n",
       "      <td>0.002400</td>\n",
       "      <td>0.1700</td>\n",
       "      <td>16.12</td>\n",
       "      <td>0</td>\n",
       "      <td>Red</td>\n",
       "    </tr>\n",
       "    <tr>\n",
       "      <th>1</th>\n",
       "      <td>3042</td>\n",
       "      <td>0.000500</td>\n",
       "      <td>0.1542</td>\n",
       "      <td>16.60</td>\n",
       "      <td>0</td>\n",
       "      <td>Red</td>\n",
       "    </tr>\n",
       "    <tr>\n",
       "      <th>2</th>\n",
       "      <td>2600</td>\n",
       "      <td>0.000300</td>\n",
       "      <td>0.1020</td>\n",
       "      <td>18.70</td>\n",
       "      <td>0</td>\n",
       "      <td>Red</td>\n",
       "    </tr>\n",
       "    <tr>\n",
       "      <th>3</th>\n",
       "      <td>2800</td>\n",
       "      <td>0.000200</td>\n",
       "      <td>0.1600</td>\n",
       "      <td>16.65</td>\n",
       "      <td>0</td>\n",
       "      <td>Red</td>\n",
       "    </tr>\n",
       "    <tr>\n",
       "      <th>4</th>\n",
       "      <td>1939</td>\n",
       "      <td>0.000138</td>\n",
       "      <td>0.1030</td>\n",
       "      <td>20.06</td>\n",
       "      <td>0</td>\n",
       "      <td>Red</td>\n",
       "    </tr>\n",
       "  </tbody>\n",
       "</table>\n",
       "</div>"
      ],
      "text/plain": [
       "   Temperature (K)  Luminosity(L/Lo)  Radius(R/Ro)  Absolute magnitude(Mv)  \\\n",
       "0             3068          0.002400        0.1700                   16.12   \n",
       "1             3042          0.000500        0.1542                   16.60   \n",
       "2             2600          0.000300        0.1020                   18.70   \n",
       "3             2800          0.000200        0.1600                   16.65   \n",
       "4             1939          0.000138        0.1030                   20.06   \n",
       "\n",
       "   Star type Star color  \n",
       "0          0        Red  \n",
       "1          0        Red  \n",
       "2          0        Red  \n",
       "3          0        Red  \n",
       "4          0        Red  "
      ]
     },
     "execution_count": 8,
     "metadata": {},
     "output_type": "execute_result"
    }
   ],
   "source": [
    "star_df.head()  # Смотрим на первые 5 строк"
   ]
  },
  {
   "cell_type": "code",
   "execution_count": 9,
   "id": "c8c8ec8f",
   "metadata": {
    "scrolled": false
   },
   "outputs": [
    {
     "name": "stdout",
     "output_type": "stream",
     "text": [
      "<class 'pandas.core.frame.DataFrame'>\n",
      "Int64Index: 240 entries, 0 to 239\n",
      "Data columns (total 6 columns):\n",
      " #   Column                  Non-Null Count  Dtype  \n",
      "---  ------                  --------------  -----  \n",
      " 0   Temperature (K)         240 non-null    int64  \n",
      " 1   Luminosity(L/Lo)        240 non-null    float64\n",
      " 2   Radius(R/Ro)            240 non-null    float64\n",
      " 3   Absolute magnitude(Mv)  240 non-null    float64\n",
      " 4   Star type               240 non-null    int64  \n",
      " 5   Star color              240 non-null    object \n",
      "dtypes: float64(3), int64(2), object(1)\n",
      "memory usage: 13.1+ KB\n"
     ]
    }
   ],
   "source": [
    "star_df.info()  # Выводим полную информацию"
   ]
  },
  {
   "cell_type": "code",
   "execution_count": 10,
   "id": "fd36753f",
   "metadata": {},
   "outputs": [
    {
     "data": {
      "text/html": [
       "<div>\n",
       "<style scoped>\n",
       "    .dataframe tbody tr th:only-of-type {\n",
       "        vertical-align: middle;\n",
       "    }\n",
       "\n",
       "    .dataframe tbody tr th {\n",
       "        vertical-align: top;\n",
       "    }\n",
       "\n",
       "    .dataframe thead th {\n",
       "        text-align: right;\n",
       "    }\n",
       "</style>\n",
       "<table border=\"1\" class=\"dataframe\">\n",
       "  <thead>\n",
       "    <tr style=\"text-align: right;\">\n",
       "      <th></th>\n",
       "      <th>Temperature (K)</th>\n",
       "      <th>Luminosity(L/Lo)</th>\n",
       "      <th>Radius(R/Ro)</th>\n",
       "      <th>Absolute magnitude(Mv)</th>\n",
       "      <th>Star type</th>\n",
       "    </tr>\n",
       "  </thead>\n",
       "  <tbody>\n",
       "    <tr>\n",
       "      <th>count</th>\n",
       "      <td>240.000000</td>\n",
       "      <td>240.000000</td>\n",
       "      <td>240.000000</td>\n",
       "      <td>240.000000</td>\n",
       "      <td>240.000000</td>\n",
       "    </tr>\n",
       "    <tr>\n",
       "      <th>mean</th>\n",
       "      <td>10497.462500</td>\n",
       "      <td>107188.361635</td>\n",
       "      <td>237.157781</td>\n",
       "      <td>4.382396</td>\n",
       "      <td>2.500000</td>\n",
       "    </tr>\n",
       "    <tr>\n",
       "      <th>std</th>\n",
       "      <td>9552.425037</td>\n",
       "      <td>179432.244940</td>\n",
       "      <td>517.155763</td>\n",
       "      <td>10.532512</td>\n",
       "      <td>1.711394</td>\n",
       "    </tr>\n",
       "    <tr>\n",
       "      <th>min</th>\n",
       "      <td>1939.000000</td>\n",
       "      <td>0.000080</td>\n",
       "      <td>0.008400</td>\n",
       "      <td>-11.920000</td>\n",
       "      <td>0.000000</td>\n",
       "    </tr>\n",
       "    <tr>\n",
       "      <th>25%</th>\n",
       "      <td>3344.250000</td>\n",
       "      <td>0.000865</td>\n",
       "      <td>0.102750</td>\n",
       "      <td>-6.232500</td>\n",
       "      <td>1.000000</td>\n",
       "    </tr>\n",
       "    <tr>\n",
       "      <th>50%</th>\n",
       "      <td>5776.000000</td>\n",
       "      <td>0.070500</td>\n",
       "      <td>0.762500</td>\n",
       "      <td>8.313000</td>\n",
       "      <td>2.500000</td>\n",
       "    </tr>\n",
       "    <tr>\n",
       "      <th>75%</th>\n",
       "      <td>15055.500000</td>\n",
       "      <td>198050.000000</td>\n",
       "      <td>42.750000</td>\n",
       "      <td>13.697500</td>\n",
       "      <td>4.000000</td>\n",
       "    </tr>\n",
       "    <tr>\n",
       "      <th>max</th>\n",
       "      <td>40000.000000</td>\n",
       "      <td>849420.000000</td>\n",
       "      <td>1948.500000</td>\n",
       "      <td>20.060000</td>\n",
       "      <td>5.000000</td>\n",
       "    </tr>\n",
       "  </tbody>\n",
       "</table>\n",
       "</div>"
      ],
      "text/plain": [
       "       Temperature (K)  Luminosity(L/Lo)  Radius(R/Ro)  \\\n",
       "count       240.000000        240.000000    240.000000   \n",
       "mean      10497.462500     107188.361635    237.157781   \n",
       "std        9552.425037     179432.244940    517.155763   \n",
       "min        1939.000000          0.000080      0.008400   \n",
       "25%        3344.250000          0.000865      0.102750   \n",
       "50%        5776.000000          0.070500      0.762500   \n",
       "75%       15055.500000     198050.000000     42.750000   \n",
       "max       40000.000000     849420.000000   1948.500000   \n",
       "\n",
       "       Absolute magnitude(Mv)   Star type  \n",
       "count              240.000000  240.000000  \n",
       "mean                 4.382396    2.500000  \n",
       "std                 10.532512    1.711394  \n",
       "min                -11.920000    0.000000  \n",
       "25%                 -6.232500    1.000000  \n",
       "50%                  8.313000    2.500000  \n",
       "75%                 13.697500    4.000000  \n",
       "max                 20.060000    5.000000  "
      ]
     },
     "execution_count": 10,
     "metadata": {},
     "output_type": "execute_result"
    }
   ],
   "source": [
    "star_df.describe()  # Выводим описательную статистику"
   ]
  },
  {
   "cell_type": "markdown",
   "id": "548e72b6",
   "metadata": {},
   "source": [
    "Рассмотрим полученную информацию.\n",
    "\n",
    "Всего в таблице 6 столбцов, тип данных - `float`(3), `int`(2) и `object`(1). Количество значений в столбцах одинаковое, а вероятно пропусков нет.\n",
    "\n",
    "Исходя из описательной статистики можно заметить, что у признаков сильно отличается значение медианы и среднего. Возможно два варианта либо же в данных присутствуют выбросы, либо же данные просто не стандартизированы. \n",
    "\n",
    "Возможно, стоит изменить тип данных для экономии памяти. А также привести два столбца к типу `category`."
   ]
  },
  {
   "cell_type": "markdown",
   "id": "b5dc7b6b",
   "metadata": {},
   "source": [
    "### Вывод"
   ]
  },
  {
   "cell_type": "markdown",
   "id": "8dc95602",
   "metadata": {},
   "source": [
    "Каждая строка таблицы содержит информацию об изученных звездах. Что необходимо будет сделать:\n",
    "\n",
    "- Изменить тип данных для экономии памяти. А также привести два столбца к типу `category`.\n",
    "- Изменить названия столбцов: `Temperature (K)`, `Absolute magnitude(Mv)`, `Star type` и `Star color`\n",
    "- Еще раз проверить данные на наличие пропусков.\n",
    "- Сделать проверку на явные и неявные дубликаты.\n",
    "- При исследовательском анализе более пристальное внимание уделить выбросам."
   ]
  },
  {
   "cell_type": "markdown",
   "id": "simple-subdivision",
   "metadata": {},
   "source": [
    "## Предобработка данных\n",
    "### Изменение типов данных"
   ]
  },
  {
   "cell_type": "markdown",
   "id": "8bd1de7c",
   "metadata": {},
   "source": [
    "Изменим тип данных на более экономичный вариант, а также столбцы `Star color` и `Star type` приведем к типу `category`."
   ]
  },
  {
   "cell_type": "code",
   "execution_count": 11,
   "id": "flush-dream",
   "metadata": {},
   "outputs": [],
   "source": [
    "# Меняем типы данных\n",
    "star_df['Temperature (K)'] = star_df['Temperature (K)'].astype('int32')\n",
    "star_df['Luminosity(L/Lo)'] = star_df['Luminosity(L/Lo)'].astype('float32')\n",
    "star_df['Radius(R/Ro)'] = star_df['Radius(R/Ro)'].astype('float32')\n",
    "star_df['Absolute magnitude(Mv)'] = star_df['Absolute magnitude(Mv)'].astype(\n",
    "    'float32')\n",
    "star_df['Star color'] = star_df['Star color'].astype('category')\n",
    "star_df['Star type'] = star_df['Star type'].astype('category')"
   ]
  },
  {
   "cell_type": "markdown",
   "id": "f9775733",
   "metadata": {},
   "source": [
    "### Изменение названия столбцов"
   ]
  },
  {
   "cell_type": "markdown",
   "id": "5ed7abb6",
   "metadata": {},
   "source": [
    "Изменим названия столбцов для более удобно обращения к ним в последующем."
   ]
  },
  {
   "cell_type": "code",
   "execution_count": 13,
   "id": "0669619f",
   "metadata": {},
   "outputs": [],
   "source": [
    "# Меняем названия столбцов\n",
    "star_df = star_df.rename(columns={'Temperature (K)': 'temperature',\n",
    "                                  'Absolute magnitude(Mv)': 'magnitude',\n",
    "                                  'Star type': 'type', 'Star color': 'color',\n",
    "                                  'Radius(R/Ro)': 'radius', 'Luminosity(L/Lo)': 'luminosity'})"
   ]
  },
  {
   "cell_type": "markdown",
   "id": "455d0eae",
   "metadata": {},
   "source": [
    "Проверим результаты изменений"
   ]
  },
  {
   "cell_type": "code",
   "execution_count": 14,
   "id": "aa308115",
   "metadata": {},
   "outputs": [
    {
     "data": {
      "text/plain": [
       "Index(['temperature', 'luminosity', 'radius', 'magnitude', 'type', 'color'], dtype='object')"
      ]
     },
     "execution_count": 14,
     "metadata": {},
     "output_type": "execute_result"
    }
   ],
   "source": [
    "star_df.columns  # Выводим названия столбцов"
   ]
  },
  {
   "cell_type": "code",
   "execution_count": 15,
   "id": "0ba0a019",
   "metadata": {},
   "outputs": [
    {
     "data": {
      "text/plain": [
       "temperature       int32\n",
       "luminosity      float32\n",
       "radius          float32\n",
       "magnitude       float32\n",
       "type           category\n",
       "color          category\n",
       "dtype: object"
      ]
     },
     "execution_count": 15,
     "metadata": {},
     "output_type": "execute_result"
    }
   ],
   "source": [
    "star_df.dtypes  # Выводим типы данных"
   ]
  },
  {
   "cell_type": "markdown",
   "id": "280142e5",
   "metadata": {},
   "source": [
    "### Работа с пропусками"
   ]
  },
  {
   "cell_type": "markdown",
   "id": "24826c0b",
   "metadata": {},
   "source": [
    "Хоть первичная проверка при изучении данных показала, что пропусков нет. На всякий случай еще раз проверим."
   ]
  },
  {
   "cell_type": "code",
   "execution_count": 16,
   "id": "eaae94f3",
   "metadata": {
    "scrolled": true
   },
   "outputs": [],
   "source": [
    "# Считаем количество пропусков\n",
    "count_na = pd.Series(star_df.isna().sum(), name='Пропуски')"
   ]
  },
  {
   "cell_type": "code",
   "execution_count": 17,
   "id": "969c3588",
   "metadata": {},
   "outputs": [],
   "source": [
    "# Считаем долю пропусков\n",
    "proportion_na = pd.Series(\n",
    "    (star_df.isna().sum() / len(star_df)).round(4) * 100, name='Доля')"
   ]
  },
  {
   "cell_type": "code",
   "execution_count": 18,
   "id": "99839ad5",
   "metadata": {},
   "outputs": [
    {
     "data": {
      "text/html": [
       "<div>\n",
       "<style scoped>\n",
       "    .dataframe tbody tr th:only-of-type {\n",
       "        vertical-align: middle;\n",
       "    }\n",
       "\n",
       "    .dataframe tbody tr th {\n",
       "        vertical-align: top;\n",
       "    }\n",
       "\n",
       "    .dataframe thead th {\n",
       "        text-align: right;\n",
       "    }\n",
       "</style>\n",
       "<table border=\"1\" class=\"dataframe\">\n",
       "  <thead>\n",
       "    <tr style=\"text-align: right;\">\n",
       "      <th></th>\n",
       "      <th>Пропуски</th>\n",
       "      <th>Доля</th>\n",
       "    </tr>\n",
       "  </thead>\n",
       "  <tbody>\n",
       "    <tr>\n",
       "      <th>temperature</th>\n",
       "      <td>0</td>\n",
       "      <td>0.0</td>\n",
       "    </tr>\n",
       "    <tr>\n",
       "      <th>luminosity</th>\n",
       "      <td>0</td>\n",
       "      <td>0.0</td>\n",
       "    </tr>\n",
       "    <tr>\n",
       "      <th>radius</th>\n",
       "      <td>0</td>\n",
       "      <td>0.0</td>\n",
       "    </tr>\n",
       "    <tr>\n",
       "      <th>magnitude</th>\n",
       "      <td>0</td>\n",
       "      <td>0.0</td>\n",
       "    </tr>\n",
       "    <tr>\n",
       "      <th>type</th>\n",
       "      <td>0</td>\n",
       "      <td>0.0</td>\n",
       "    </tr>\n",
       "    <tr>\n",
       "      <th>color</th>\n",
       "      <td>0</td>\n",
       "      <td>0.0</td>\n",
       "    </tr>\n",
       "  </tbody>\n",
       "</table>\n",
       "</div>"
      ],
      "text/plain": [
       "             Пропуски  Доля\n",
       "temperature         0   0.0\n",
       "luminosity          0   0.0\n",
       "radius              0   0.0\n",
       "magnitude           0   0.0\n",
       "type                0   0.0\n",
       "color               0   0.0"
      ]
     },
     "execution_count": 18,
     "metadata": {},
     "output_type": "execute_result"
    }
   ],
   "source": [
    "# Выводим таблицу с пропусками\n",
    "pd.concat([count_na, proportion_na], axis=1)"
   ]
  },
  {
   "cell_type": "markdown",
   "id": "ee3493a5",
   "metadata": {},
   "source": [
    "Пропусков не обнаружено"
   ]
  },
  {
   "cell_type": "markdown",
   "id": "5a7a6b71",
   "metadata": {},
   "source": [
    "### Работа с явными дубликатами"
   ]
  },
  {
   "cell_type": "code",
   "execution_count": 19,
   "id": "34f2356c",
   "metadata": {},
   "outputs": [
    {
     "data": {
      "text/plain": [
       "0"
      ]
     },
     "execution_count": 19,
     "metadata": {},
     "output_type": "execute_result"
    }
   ],
   "source": [
    "star_df.duplicated().sum()  # Проверяем наличие явных дубликатов"
   ]
  },
  {
   "cell_type": "markdown",
   "id": "b2670d4c",
   "metadata": {},
   "source": [
    "Явных дубликатов не обнаружено"
   ]
  },
  {
   "cell_type": "markdown",
   "id": "1913fe95",
   "metadata": {},
   "source": [
    "### Работа с неявными дубликатами"
   ]
  },
  {
   "cell_type": "markdown",
   "id": "68dac3b2",
   "metadata": {},
   "source": [
    "Необходимо проверить столбцы `type` и `color`, так как в этих столбцах возможны ошибки в написании категорий. (одно и то же значение может быть написано по-разному)"
   ]
  },
  {
   "cell_type": "code",
   "execution_count": 20,
   "id": "25f8dd8a",
   "metadata": {},
   "outputs": [
    {
     "data": {
      "text/plain": [
       "0    40\n",
       "1    40\n",
       "2    40\n",
       "3    40\n",
       "4    40\n",
       "5    40\n",
       "Name: type, dtype: int64"
      ]
     },
     "execution_count": 20,
     "metadata": {},
     "output_type": "execute_result"
    }
   ],
   "source": [
    "# Выводим количество уникальных значений\n",
    "types = star_df['type'].value_counts()\n",
    "types"
   ]
  },
  {
   "cell_type": "markdown",
   "id": "46756275",
   "metadata": {},
   "source": [
    "Все соответствует  документации. Неявных дубликатов не обнаружено."
   ]
  },
  {
   "cell_type": "code",
   "execution_count": 21,
   "id": "7d5819c8",
   "metadata": {
    "scrolled": false
   },
   "outputs": [
    {
     "data": {
      "text/plain": [
       "Red                   112\n",
       "Blue                   55\n",
       "Blue-white             26\n",
       "Blue White             10\n",
       "yellow-white            8\n",
       "White                   7\n",
       "Blue white              3\n",
       "white                   3\n",
       "Yellowish White         3\n",
       "Whitish                 2\n",
       "yellowish               2\n",
       "Orange                  2\n",
       "Blue                    1\n",
       "White-Yellow            1\n",
       "Orange-Red              1\n",
       "Yellowish               1\n",
       "Blue-White              1\n",
       "Blue white              1\n",
       "Pale yellow orange      1\n",
       "Name: color, dtype: int64"
      ]
     },
     "execution_count": 21,
     "metadata": {},
     "output_type": "execute_result"
    }
   ],
   "source": [
    "star_df['color'].value_counts()  # Выводим количество уникальных значений"
   ]
  },
  {
   "cell_type": "markdown",
   "id": "1ab2f1c8",
   "metadata": {},
   "source": [
    "Видно, что один и тот же цвет записан по-разному. Необходимо это исправить"
   ]
  },
  {
   "cell_type": "markdown",
   "id": "71381db7",
   "metadata": {},
   "source": [
    "Для начала приведем все названия к одному регистру и удалим пробелы в начале и конце."
   ]
  },
  {
   "cell_type": "code",
   "execution_count": 22,
   "id": "db5b9cff",
   "metadata": {},
   "outputs": [],
   "source": [
    "star_df['color'] = star_df['color'].str.lower().str.strip()"
   ]
  },
  {
   "cell_type": "code",
   "execution_count": 23,
   "id": "cf2016ba",
   "metadata": {},
   "outputs": [
    {
     "data": {
      "text/plain": [
       "red                   112\n",
       "blue                   56\n",
       "blue-white             27\n",
       "blue white             14\n",
       "white                  10\n",
       "yellow-white            8\n",
       "yellowish               3\n",
       "yellowish white         3\n",
       "whitish                 2\n",
       "orange                  2\n",
       "white-yellow            1\n",
       "pale yellow orange      1\n",
       "orange-red              1\n",
       "Name: color, dtype: int64"
      ]
     },
     "execution_count": 23,
     "metadata": {},
     "output_type": "execute_result"
    }
   ],
   "source": [
    "star_df['color'].value_counts()"
   ]
  },
  {
   "cell_type": "markdown",
   "id": "fb88f8bf",
   "metadata": {},
   "source": [
    "Остальные значение придется изменять вручную. Множество вариантов написания `blue-white` и `yellow-white`."
   ]
  },
  {
   "cell_type": "code",
   "execution_count": 24,
   "id": "8d48e950",
   "metadata": {},
   "outputs": [],
   "source": [
    "# Создаем список кортежей для замены\n",
    "replace_val = [('blue white', 'blue-white'), ('white-yellow', 'yellow-white')]"
   ]
  },
  {
   "cell_type": "code",
   "execution_count": 25,
   "id": "60adafc6",
   "metadata": {},
   "outputs": [],
   "source": [
    "star_df['color'] = star_df['color'].replace(replace_val)  # Заменяем значения"
   ]
  },
  {
   "cell_type": "code",
   "execution_count": 26,
   "id": "a41714ba",
   "metadata": {},
   "outputs": [
    {
     "data": {
      "text/plain": [
       "red                   115\n",
       "blue                   77\n",
       "white                  26\n",
       "whitish                 7\n",
       "yellowish               5\n",
       "yellowish white         4\n",
       "orange-red              3\n",
       "orange                  2\n",
       "pale yellow orange      1\n",
       "Name: color, dtype: int64"
      ]
     },
     "execution_count": 26,
     "metadata": {},
     "output_type": "execute_result"
    }
   ],
   "source": [
    "star_df['color'].value_counts()  # Делаем проверку"
   ]
  },
  {
   "cell_type": "markdown",
   "id": "3f14ec25",
   "metadata": {},
   "source": [
    "Видно, что звезд цветов pale yellow orange, orange и orange-red очень мало и их можно объединить в один цвет `orange`."
   ]
  },
  {
   "cell_type": "code",
   "execution_count": 27,
   "id": "c014bf5e",
   "metadata": {},
   "outputs": [],
   "source": [
    "# Создаем словарь для замены\n",
    "replace_orange = {'pale yellow orange': 'orange', 'orange-red': 'orange'}"
   ]
  },
  {
   "cell_type": "code",
   "execution_count": 28,
   "id": "2a6b4147",
   "metadata": {},
   "outputs": [],
   "source": [
    "star_df['color'] = star_df['color'].replace(\n",
    "    replace_orange)  # Заменяем значения"
   ]
  },
  {
   "cell_type": "code",
   "execution_count": 29,
   "id": "59c6294c",
   "metadata": {},
   "outputs": [
    {
     "data": {
      "text/plain": [
       "red                115\n",
       "blue                77\n",
       "white               26\n",
       "whitish              7\n",
       "orange               6\n",
       "yellowish            5\n",
       "yellowish white      4\n",
       "Name: color, dtype: int64"
      ]
     },
     "execution_count": 29,
     "metadata": {},
     "output_type": "execute_result"
    }
   ],
   "source": [
    "color = star_df['color'].value_counts()  # Делаем проверку\n",
    "color"
   ]
  },
  {
   "cell_type": "markdown",
   "id": "9f44de71",
   "metadata": {},
   "source": [
    "Неявные дубликаты исправлены."
   ]
  },
  {
   "cell_type": "markdown",
   "id": "77bf11fb",
   "metadata": {},
   "source": [
    "### Вывод"
   ]
  },
  {
   "cell_type": "markdown",
   "id": "295c2bfa",
   "metadata": {},
   "source": [
    "На данном этапе были сделаны следующие действия:\n",
    "- Изменили тип данных в столбцах для экономичного управления памятью\n",
    "- Изменили тип данных в столбцах `color` и `type` на `category`\n",
    "- Изменили названия столбцов для удобства\n",
    "- Сделали проверку на пропуски в данных. В результате не обнаружены.\n",
    "- Сделали проверку на явные дубликаты. В результате не обнаружены.\n",
    "- Сделали проверку на неявные дубликаты и исправили. Были найдены несколько неявных дубликатов в цветах звезд. Привели цвета к нижнему регистру и удалили пробелы, тем самым исправили часть дубликатов. Затем пришлось изменить несколько названий одних и тех же цветов. \n",
    "    - `blue white` на `blue-white`.\n",
    "    - `white-yellow` на `yellow-white`.\n",
    "- Цвета pale yellow orange, orange и orange-red объединили в один цвет `orange` из-за малого количества их по отдельности."
   ]
  },
  {
   "cell_type": "markdown",
   "id": "f8a83124",
   "metadata": {},
   "source": [
    "## Исследовательский анализ данных"
   ]
  },
  {
   "cell_type": "markdown",
   "id": "68c80ba7",
   "metadata": {},
   "source": [
    "Исследуем данные в датафрейме.\n",
    "- Исследуем категориальные данные. Построим гистограмму и круговую диаграмму для визуализации количества категорий.\n",
    "- Исследуем количественные данные. Построим диаграммы рассеяния для изучения выбросов и гистограмму для изучения распределений."
   ]
  },
  {
   "cell_type": "markdown",
   "id": "037113b0",
   "metadata": {},
   "source": [
    "### Категориальные данные"
   ]
  },
  {
   "cell_type": "code",
   "execution_count": 30,
   "id": "8494819f",
   "metadata": {
    "scrolled": false
   },
   "outputs": [
    {
     "data": {
      "image/png": "[encoded data removed]",
      "text/plain": [
       "<Figure size 1080x576 with 2 Axes>"
      ]
     },
     "metadata": {
      "needs_background": "light"
     },
     "output_type": "display_data"
    }
   ],
   "source": [
    "# Строим plot и pie\n",
    "plt.figure(figsize=(15, 8))\n",
    "\n",
    "plt.suptitle('Star color', fontsize=20, fontweight='bold')\n",
    "\n",
    "plt.subplot(1, 2, 1)\n",
    "color.plot(kind='bar', color=mcolors.TABLEAU_COLORS)\n",
    "plt.legend()\n",
    "plt.xlabel('Color')\n",
    "plt.ylabel('Count')\n",
    "\n",
    "plt.subplot(1, 2, 2)\n",
    "plt.pie(color.values, labels=color.index, autopct='%.1f%%');"
   ]
  },
  {
   "cell_type": "markdown",
   "id": "71ec20c5",
   "metadata": {},
   "source": [
    "В данных преобладают звезды трех цветов: `red` - 47.9%, `blue` - 32.1% и `white` - 10.8%. Первые два цвета составляют 80% данных. Все остальные цвета незначительные. Самые редкие цвета - `yellowish white` - 1.7%, `yellowish` - 2.1% и `orange` - 2.5%."
   ]
  },
  {
   "cell_type": "code",
   "execution_count": 31,
   "id": "c77cf304",
   "metadata": {
    "scrolled": false
   },
   "outputs": [
    {
     "data": {
      "image/png": "[encoded data removed]",
      "text/plain": [
       "<Figure size 864x360 with 2 Axes>"
      ]
     },
     "metadata": {
      "needs_background": "light"
     },
     "output_type": "display_data"
    }
   ],
   "source": [
    "# Строим plot и pie\n",
    "plt.figure(figsize=(12, 5))\n",
    "\n",
    "plt.suptitle('Star type', fontsize=20, fontweight='bold')\n",
    "\n",
    "plt.subplot(1, 2, 1)\n",
    "sns.countplot(x='type', data=star_df)\n",
    "\n",
    "plt.subplot(1, 2, 2)\n",
    "plt.pie(types.values, labels=types.index, autopct='%.1f%%');"
   ]
  },
  {
   "cell_type": "markdown",
   "id": "d25cdfb7",
   "metadata": {},
   "source": [
    "В данных есть 5 типов звезд они имеют одинаковое соотношение между собой, что и показывают графики."
   ]
  },
  {
   "cell_type": "markdown",
   "id": "f85ae37b",
   "metadata": {},
   "source": [
    "### Количественные данные"
   ]
  },
  {
   "cell_type": "code",
   "execution_count": 32,
   "id": "be1af6fb",
   "metadata": {
    "scrolled": false
   },
   "outputs": [
    {
     "data": {
      "image/png": "[encoded data removed]",
      "text/plain": [
       "<Figure size 1440x720 with 4 Axes>"
      ]
     },
     "metadata": {
      "needs_background": "light"
     },
     "output_type": "display_data"
    }
   ],
   "source": [
    "# Строим boxplot\n",
    "plt.figure(figsize=(20, 10))\n",
    "\n",
    "plt.suptitle('Диаграммы рассеяния', fontsize=20, fontweight='bold')\n",
    "\n",
    "plt.subplot(2, 2, 1)\n",
    "sns.boxplot(y=star_df['temperature'], width=.1)\n",
    "plt.title('Temperature(K)')\n",
    "\n",
    "plt.subplot(2, 2, 2)\n",
    "sns.boxplot(y=star_df['luminosity'], width=.1, color='red')\n",
    "plt.title('Luminosity(L/Lo)')\n",
    "\n",
    "plt.subplot(2, 2, 3)\n",
    "sns.boxplot(y=star_df['radius'], width=.1, color='orange')\n",
    "plt.title('Radius(R/Ro)')\n",
    "\n",
    "plt.subplot(2, 2, 4)\n",
    "sns.boxplot(y=star_df['magnitude'], width=.1, color='green')\n",
    "plt.title('Absolute magnitude(Mv)');"
   ]
  },
  {
   "cell_type": "markdown",
   "id": "f99945c3",
   "metadata": {},
   "source": [
    "Как видно из графиков `boxplot` в трех столбцах есть выбивающиеся значения. Посмотрим на эти значения по-другому. Построим pairplot для детально просмотра данных, возможно, получиться выделить какие-нибудь новые категории.\n"
   ]
  },
  {
   "cell_type": "code",
   "execution_count": 36,
   "id": "e79e251c",
   "metadata": {
    "scrolled": false
   },
   "outputs": [
    {
     "data": {
      "text/plain": [
       "<Figure size 1440x720 with 0 Axes>"
      ]
     },
     "metadata": {},
     "output_type": "display_data"
    },
    {
     "data": {
      "image/png": "[encoded data removed]",
      "text/plain": [
       "<Figure size 832.875x720 with 20 Axes>"
      ]
     },
     "metadata": {
      "needs_background": "light"
     },
     "output_type": "display_data"
    }
   ],
   "source": [
    "plt.figure(figsize=(20, 10))\n",
    "sns.pairplot(star_df, hue='color', palette='Set1')\n",
    "plt.suptitle('Pair-plot star_df', fontsize=15, fontweight='bold', y=1.02)\n",
    "plt.show();"
   ]
  },
  {
   "cell_type": "markdown",
   "id": "a46328be",
   "metadata": {},
   "source": [
    "По графику pairplot хорошо заметно, что радиус и светимость, можно разбить кластеры, чтобы создать новые столбцы. Также можно отметить, что чем выше температура, тем меньше абсолютная магнитуда звезды. Такой же вывод можно сделать и для радиуса, чем он больше, тем меньше магнитуда."
   ]
  },
  {
   "cell_type": "markdown",
   "id": "fdc43c03",
   "metadata": {},
   "source": [
    "Теперь построим гистограммы распределений."
   ]
  },
  {
   "cell_type": "code",
   "execution_count": 37,
   "id": "28957478",
   "metadata": {},
   "outputs": [
    {
     "data": {
      "image/png": "[encoded data removed]",
      "text/plain": [
       "<Figure size 1440x1080 with 4 Axes>"
      ]
     },
     "metadata": {
      "needs_background": "light"
     },
     "output_type": "display_data"
    }
   ],
   "source": [
    "plt.figure(figsize=(20, 15))\n",
    "\n",
    "plt.suptitle('Гистограммы распределений', fontsize=25, fontweight='bold')\n",
    "\n",
    "plt.subplot(2, 2, 1)\n",
    "sns.histplot(star_df['temperature'], bins=40)\n",
    "plt.title('Temperature(K)', fontsize=20, fontweight='bold')\n",
    "\n",
    "plt.subplot(2, 2, 2)\n",
    "sns.histplot(star_df['luminosity'], bins=40)\n",
    "plt.title('Luminosity(L/Lo)', fontsize=20, fontweight='bold')\n",
    "\n",
    "plt.subplot(2, 2, 3)\n",
    "sns.histplot(star_df['radius'], bins=40)\n",
    "plt.title('Radius(R/Ro)', fontsize=20, fontweight='bold')\n",
    "\n",
    "plt.subplot(2, 2, 4)\n",
    "sns.histplot(star_df['magnitude'], bins=40)\n",
    "plt.title('Absolute magnitude(Mv)', fontsize=20, fontweight='bold');"
   ]
  },
  {
   "cell_type": "markdown",
   "id": "c2f813a9",
   "metadata": {},
   "source": [
    "Как можно увидеть из графиков данные распределены ненормально. Здесь также хорошо видны, как можно создать категории на их основе.\n",
    "\n",
    "Хоть визуально и видно, что данные распределены ненормально стоит все же провести статистический тест, а также построить график QQ-plot. Воспользуемся тестом Шапиро-Уилка, чтобы определить нормально ли распределены у нас данные.\n",
    "\n",
    "Необходимо сформулировать гипотезы:\n",
    "- **H0** - данные получены из нормального распределения\n",
    "- **H1** - данные не получены из нормального распределения\n",
    "\n",
    "Для проведения теста была написана функция `test_shapiro`. Пусть верна нулевая гипотеза, тогда:"
   ]
  },
  {
   "cell_type": "code",
   "execution_count": 38,
   "id": "27785d08",
   "metadata": {
    "scrolled": true
   },
   "outputs": [
    {
     "name": "stdout",
     "output_type": "stream",
     "text": [
      "Отвегаем H0 и принимаем H1. Данные не получены из нормального распределения\n"
     ]
    },
    {
     "data": {
      "image/png": "[encoded data removed]",
      "text/plain": [
       "<Figure size 432x288 with 1 Axes>"
      ]
     },
     "metadata": {
      "needs_background": "light"
     },
     "output_type": "display_data"
    }
   ],
   "source": [
    "test_shapiro(star_df['temperature'], ALPHA)"
   ]
  },
  {
   "cell_type": "markdown",
   "id": "17f24760",
   "metadata": {},
   "source": [
    "Пресутсвуют  отклонения около 0 и в крайних частях графика (положительные и отрицательные квантили), что может указывать на наличие выбросов или особую структуру данных в этих областях."
   ]
  },
  {
   "cell_type": "code",
   "execution_count": 39,
   "id": "c4fa3179",
   "metadata": {},
   "outputs": [
    {
     "name": "stdout",
     "output_type": "stream",
     "text": [
      "Отвегаем H0 и принимаем H1. Данные не получены из нормального распределения\n"
     ]
    },
    {
     "data": {
      "image/png": "[encoded data removed]",
      "text/plain": [
       "<Figure size 432x288 with 1 Axes>"
      ]
     },
     "metadata": {
      "needs_background": "light"
     },
     "output_type": "display_data"
    }
   ],
   "source": [
    "test_shapiro(star_df['luminosity'], ALPHA)"
   ]
  },
  {
   "cell_type": "markdown",
   "id": "c5710447",
   "metadata": {},
   "source": [
    "В районе около 0, данные имеют горизонтальное распределение, что указывает на наличие большого количества значений, равных нулю или близких к нему. (Гистограмма выше это подтверждает) Это означает, что распределение данных здесь сильно отличается от нормального, и, вероятно, имеет большое количество одинаковых или почти одинаковых значений. Таким образом, данные существенно отклоняются от нормального распределения, особенно в области, близкой к нулю. Это свидетельствует о наличии большого количества одинаковых значений и выбросов в данных."
   ]
  },
  {
   "cell_type": "code",
   "execution_count": 40,
   "id": "5a5b2c47",
   "metadata": {},
   "outputs": [
    {
     "name": "stdout",
     "output_type": "stream",
     "text": [
      "Отвегаем H0 и принимаем H1. Данные не получены из нормального распределения\n"
     ]
    },
    {
     "data": {
      "image/png": "[encoded data removed]",
      "text/plain": [
       "<Figure size 432x288 with 1 Axes>"
      ]
     },
     "metadata": {
      "needs_background": "light"
     },
     "output_type": "display_data"
    }
   ],
   "source": [
    "test_shapiro(star_df['radius'], ALPHA)"
   ]
  },
  {
   "cell_type": "markdown",
   "id": "d8d64d41",
   "metadata": {},
   "source": [
    "График показывает, что распределение данных отличается от нормального, особенно в положительных квантилях. Это может указывать на наличие выбросов или на то, что данные имеют распределение с тяжелым хвостом (что и подтверждала гистограмма)"
   ]
  },
  {
   "cell_type": "code",
   "execution_count": 41,
   "id": "eaf9b7e9",
   "metadata": {},
   "outputs": [
    {
     "name": "stdout",
     "output_type": "stream",
     "text": [
      "Отвегаем H0 и принимаем H1. Данные не получены из нормального распределения\n"
     ]
    },
    {
     "data": {
      "image/png": "[encoded data removed]",
      "text/plain": [
       "<Figure size 432x288 with 1 Axes>"
      ]
     },
     "metadata": {
      "needs_background": "light"
     },
     "output_type": "display_data"
    }
   ],
   "source": [
    "test_shapiro(star_df['magnitude'], ALPHA)"
   ]
  },
  {
   "cell_type": "markdown",
   "id": "27d7cf56",
   "metadata": {},
   "source": [
    "Как и ожидалось, наши данные распределены ненормально, зато теперь мы доказали это не только визуально."
   ]
  },
  {
   "cell_type": "markdown",
   "id": "d0895a27",
   "metadata": {},
   "source": [
    "### Вывод"
   ]
  },
  {
   "cell_type": "markdown",
   "id": "b7a4552f",
   "metadata": {},
   "source": [
    "Провели исследовательский анализ категориальных и количественных данных.\n",
    "\n",
    "- Для категориальных данных (цвет и тип):\n",
    "\n",
    "В данных преобладают звезды трех цветов: `red` - 47.9%, `blue` - 32.1% и `white` - 10.8%. Первые два цвета составляют 80% данных. Все остальные цвета незначительные. Самые редкие цвета - `yellowish white` - 1.7%, `yellowish` - 2.1% и `orange` - 2.5%.\n",
    "\n",
    "По типу звезд данные имеют одинаковое соотношение - 16.7%\n",
    "\n",
    "- Для количественных данных:\n",
    "\n",
    "Необходимо было сделать упор на редкие выбивающиеся значения, так как по описательной статистике стало заметно, что в данных они присутствуют. В трех столбцах такие значения были найдены. В результате для каждого из столбца был проведен более детальный анализ. По итогу все выбивающиеся значения не посчитали аномальными, так как эти редкие значения соответствуют редким звездам (огромным, ярким и т.п.) и такие звезды меньше изучены, отсюда и редкость. Также стоит отметить, что на основе столбцов `radius` и `luminosity` можно создать новые категории, так как данные очень хорошо распределены на отдельные кластеры, что подтверждается графиком pairplot. Все количественные признаки распределены ненормально, что также было проверено с помощью статистического теста Шапиро-Уилка и графика QQ-plot."
   ]
  },
  {
   "cell_type": "markdown",
   "id": "e65d3fc5",
   "metadata": {},
   "source": [
    "## Подготовка данных к построению модели"
   ]
  },
  {
   "cell_type": "markdown",
   "id": "42995df3",
   "metadata": {},
   "source": [
    "Создадим на основе столбца `radius` новый столбец, который будет включать в себя категории, если радиус < 250 то это будет `small` в противном случае `large`."
   ]
  },
  {
   "cell_type": "code",
   "execution_count": 47,
   "id": "53ddfc33",
   "metadata": {},
   "outputs": [],
   "source": [
    "# Создаем новый столбец\n",
    "star_df['radius_cat'] = (\n",
    "    star_df['radius']\n",
    "    .where(star_df['radius'] <= 250, 'large')\n",
    "    .where(star_df['radius'] > 250, 'small'))"
   ]
  },
  {
   "cell_type": "code",
   "execution_count": 48,
   "id": "7c07bf03",
   "metadata": {},
   "outputs": [
    {
     "data": {
      "text/plain": [
       "small    200\n",
       "large     40\n",
       "Name: radius_cat, dtype: int64"
      ]
     },
     "execution_count": 48,
     "metadata": {},
     "output_type": "execute_result"
    }
   ],
   "source": [
    "star_df['radius_cat'].value_counts()  # Проверка"
   ]
  },
  {
   "cell_type": "markdown",
   "id": "747de0bd",
   "metadata": {},
   "source": [
    "И также создадим на основе столбца `luminosity` новый столбец, который будет включать в себя категории, если светимость < 100000 то это будет `faintly bright`, больше 500000 то `Very bright` и в противном случае `bright`."
   ]
  },
  {
   "cell_type": "code",
   "execution_count": 49,
   "id": "3425d16d",
   "metadata": {},
   "outputs": [],
   "source": [
    "# Создаем новый столбец\n",
    "star_df['luminosity_cat'] = (\n",
    "    star_df['luminosity']\n",
    "    .where(star_df['luminosity'] >= 100000, 'faintly bright')\n",
    "    .where(star_df['luminosity'] < 100000, 'bright')\n",
    "    .where(star_df['luminosity'] <= 500000, 'Very bright')\n",
    ")"
   ]
  },
  {
   "cell_type": "code",
   "execution_count": 50,
   "id": "e9f9d21f",
   "metadata": {},
   "outputs": [
    {
     "data": {
      "text/plain": [
       "faintly bright    155\n",
       "bright             73\n",
       "Very bright        12\n",
       "Name: luminosity_cat, dtype: int64"
      ]
     },
     "execution_count": 50,
     "metadata": {},
     "output_type": "execute_result"
    }
   ],
   "source": [
    "star_df['luminosity_cat'].value_counts() # Проверка"
   ]
  },
  {
   "cell_type": "markdown",
   "id": "eae042b1",
   "metadata": {},
   "source": [
    "Создадим новые столбцы за основу возьмем метод `pd.factorize` и объединим радиус, светимость и магнитуды с типом звезды и ее цветом. В результате у нас получиться 6 новых признаков."
   ]
  },
  {
   "cell_type": "code",
   "execution_count": 51,
   "id": "4b555da3",
   "metadata": {},
   "outputs": [],
   "source": [
    "# Создаем новые столбцы\n",
    "star_df['luminosity_type'] = pd.factorize((star_df['luminosity'].astype('str') +\n",
    "                                           star_df['type'].astype('str')).to_numpy())[0]\n",
    "\n",
    "star_df['luminosity_color'] = pd.factorize((star_df['luminosity'].astype('str') +\n",
    "                                            star_df['color'].astype('str')).to_numpy())[0]\n",
    "\n",
    "star_df['radius_type'] = pd.factorize((star_df['radius'].astype('str') +\n",
    "                                       star_df['type'].astype('str')).to_numpy())[0]\n",
    "\n",
    "star_df['radius_color'] = pd.factorize((star_df['radius'].astype('str') +\n",
    "                                        star_df['color'].astype('str')).to_numpy())[0]\n",
    "\n",
    "star_df['magnitude_type'] = pd.factorize((star_df['magnitude'].astype('str') +\n",
    "                                          star_df['type'].astype('str')).to_numpy())[0]\n",
    "\n",
    "star_df['magnitude_color'] = pd.factorize((star_df['magnitude'].astype('str') +\n",
    "                                           star_df['color'].astype('str')).to_numpy())[0]"
   ]
  },
  {
   "cell_type": "markdown",
   "id": "aea96f0a",
   "metadata": {},
   "source": [
    "Посмотрим на новые столбцы."
   ]
  },
  {
   "cell_type": "code",
   "execution_count": 52,
   "id": "424ccf7f",
   "metadata": {},
   "outputs": [
    {
     "data": {
      "text/html": [
       "<div>\n",
       "<style scoped>\n",
       "    .dataframe tbody tr th:only-of-type {\n",
       "        vertical-align: middle;\n",
       "    }\n",
       "\n",
       "    .dataframe tbody tr th {\n",
       "        vertical-align: top;\n",
       "    }\n",
       "\n",
       "    .dataframe thead th {\n",
       "        text-align: right;\n",
       "    }\n",
       "</style>\n",
       "<table border=\"1\" class=\"dataframe\">\n",
       "  <thead>\n",
       "    <tr style=\"text-align: right;\">\n",
       "      <th></th>\n",
       "      <th>luminosity_type</th>\n",
       "      <th>luminosity_color</th>\n",
       "      <th>radius_type</th>\n",
       "      <th>radius_color</th>\n",
       "      <th>magnitude_type</th>\n",
       "      <th>magnitude_color</th>\n",
       "    </tr>\n",
       "  </thead>\n",
       "  <tbody>\n",
       "    <tr>\n",
       "      <th>0</th>\n",
       "      <td>0</td>\n",
       "      <td>0</td>\n",
       "      <td>0</td>\n",
       "      <td>0</td>\n",
       "      <td>0</td>\n",
       "      <td>0</td>\n",
       "    </tr>\n",
       "    <tr>\n",
       "      <th>1</th>\n",
       "      <td>1</td>\n",
       "      <td>1</td>\n",
       "      <td>1</td>\n",
       "      <td>1</td>\n",
       "      <td>1</td>\n",
       "      <td>1</td>\n",
       "    </tr>\n",
       "    <tr>\n",
       "      <th>2</th>\n",
       "      <td>2</td>\n",
       "      <td>2</td>\n",
       "      <td>2</td>\n",
       "      <td>2</td>\n",
       "      <td>2</td>\n",
       "      <td>2</td>\n",
       "    </tr>\n",
       "    <tr>\n",
       "      <th>3</th>\n",
       "      <td>3</td>\n",
       "      <td>3</td>\n",
       "      <td>3</td>\n",
       "      <td>3</td>\n",
       "      <td>3</td>\n",
       "      <td>3</td>\n",
       "    </tr>\n",
       "    <tr>\n",
       "      <th>4</th>\n",
       "      <td>4</td>\n",
       "      <td>4</td>\n",
       "      <td>4</td>\n",
       "      <td>4</td>\n",
       "      <td>4</td>\n",
       "      <td>4</td>\n",
       "    </tr>\n",
       "    <tr>\n",
       "      <th>...</th>\n",
       "      <td>...</td>\n",
       "      <td>...</td>\n",
       "      <td>...</td>\n",
       "      <td>...</td>\n",
       "      <td>...</td>\n",
       "      <td>...</td>\n",
       "    </tr>\n",
       "    <tr>\n",
       "      <th>235</th>\n",
       "      <td>223</td>\n",
       "      <td>220</td>\n",
       "      <td>209</td>\n",
       "      <td>210</td>\n",
       "      <td>227</td>\n",
       "      <td>230</td>\n",
       "    </tr>\n",
       "    <tr>\n",
       "      <th>236</th>\n",
       "      <td>224</td>\n",
       "      <td>221</td>\n",
       "      <td>213</td>\n",
       "      <td>214</td>\n",
       "      <td>228</td>\n",
       "      <td>231</td>\n",
       "    </tr>\n",
       "    <tr>\n",
       "      <th>237</th>\n",
       "      <td>225</td>\n",
       "      <td>222</td>\n",
       "      <td>214</td>\n",
       "      <td>215</td>\n",
       "      <td>229</td>\n",
       "      <td>232</td>\n",
       "    </tr>\n",
       "    <tr>\n",
       "      <th>238</th>\n",
       "      <td>226</td>\n",
       "      <td>223</td>\n",
       "      <td>215</td>\n",
       "      <td>216</td>\n",
       "      <td>230</td>\n",
       "      <td>233</td>\n",
       "    </tr>\n",
       "    <tr>\n",
       "      <th>239</th>\n",
       "      <td>227</td>\n",
       "      <td>224</td>\n",
       "      <td>216</td>\n",
       "      <td>217</td>\n",
       "      <td>231</td>\n",
       "      <td>234</td>\n",
       "    </tr>\n",
       "  </tbody>\n",
       "</table>\n",
       "<p>240 rows × 6 columns</p>\n",
       "</div>"
      ],
      "text/plain": [
       "     luminosity_type  luminosity_color  radius_type  radius_color  \\\n",
       "0                  0                 0            0             0   \n",
       "1                  1                 1            1             1   \n",
       "2                  2                 2            2             2   \n",
       "3                  3                 3            3             3   \n",
       "4                  4                 4            4             4   \n",
       "..               ...               ...          ...           ...   \n",
       "235              223               220          209           210   \n",
       "236              224               221          213           214   \n",
       "237              225               222          214           215   \n",
       "238              226               223          215           216   \n",
       "239              227               224          216           217   \n",
       "\n",
       "     magnitude_type  magnitude_color  \n",
       "0                 0                0  \n",
       "1                 1                1  \n",
       "2                 2                2  \n",
       "3                 3                3  \n",
       "4                 4                4  \n",
       "..              ...              ...  \n",
       "235             227              230  \n",
       "236             228              231  \n",
       "237             229              232  \n",
       "238             230              233  \n",
       "239             231              234  \n",
       "\n",
       "[240 rows x 6 columns]"
      ]
     },
     "execution_count": 52,
     "metadata": {},
     "output_type": "execute_result"
    }
   ],
   "source": [
    "# Проверяем новые столбцы\n",
    "star_df[['luminosity_type', 'luminosity_color', 'radius_type',\n",
    "         'radius_color', 'magnitude_type', 'magnitude_color']]"
   ]
  },
  {
   "cell_type": "markdown",
   "id": "18e3c417",
   "metadata": {},
   "source": [
    "Прологарифмируем наши количественные столбцы и также создадим на их основе новые столбцы. Для того чтобы внести в наши данные нелинейность, так как логарифмическая функция является нелинейной, и применение её к признакам трансформирует их распределение, что может помочь в улучшении качества моделей. Для магнитуды возьмем значения по модулю, так как в нем пресутсвуют отрицательные значения, а следовательно логарифм взять не получить"
   ]
  },
  {
   "cell_type": "code",
   "execution_count": 53,
   "id": "292e0906",
   "metadata": {},
   "outputs": [],
   "source": [
    "# Логарифмируем количественные признаки и сохраняем их в датафрейме\n",
    "star_df['radius_log'] = star_df['radius'].apply(lambda x: np.log(x))\n",
    "star_df['luminosity_log'] = star_df['luminosity'].apply(lambda x: np.log(x))\n",
    "star_df['magnitude_log'] = star_df['magnitude'].apply(lambda x: np.log(abs(x)))"
   ]
  },
  {
   "cell_type": "markdown",
   "id": "47a5d4a6",
   "metadata": {},
   "source": [
    "*p.s. Для того чтобы удовлетворять условию задачи, пришлось создавать много новых признаков*"
   ]
  },
  {
   "cell_type": "markdown",
   "id": "464dc8cc",
   "metadata": {},
   "source": [
    "Подготовим тренировчную и тестовую выборки. Наш целевой признак - `temperature`"
   ]
  },
  {
   "cell_type": "code",
   "execution_count": 54,
   "id": "4d4a17c4",
   "metadata": {},
   "outputs": [],
   "source": [
    "X = star_df.drop(columns=['temperature'], axis=1)\n",
    "y = star_df['temperature']"
   ]
  },
  {
   "cell_type": "markdown",
   "id": "7eb27aee",
   "metadata": {},
   "source": [
    "Проверим не появились ли дубилкаты"
   ]
  },
  {
   "cell_type": "code",
   "execution_count": 55,
   "id": "838ba9b6",
   "metadata": {
    "scrolled": true
   },
   "outputs": [
    {
     "data": {
      "text/plain": [
       "0"
      ]
     },
     "execution_count": 55,
     "metadata": {},
     "output_type": "execute_result"
    }
   ],
   "source": [
    "X.duplicated().sum()  # Проверяем дубликаты"
   ]
  },
  {
   "cell_type": "code",
   "execution_count": 56,
   "id": "3edc5c35",
   "metadata": {},
   "outputs": [],
   "source": [
    "# Разделим данные на тренировчные и тестовые\n",
    "X_train, X_test, y_train, y_test = train_test_split(\n",
    "    X,\n",
    "    y,\n",
    "    random_state=RANDOM_STATE,\n",
    "    test_size=TEST_SIZE,\n",
    "    shuffle=True\n",
    ")"
   ]
  },
  {
   "cell_type": "code",
   "execution_count": 57,
   "id": "f0ac99a3",
   "metadata": {},
   "outputs": [],
   "source": [
    "fact = y_test.copy()"
   ]
  },
  {
   "cell_type": "markdown",
   "id": "b7c30abc",
   "metadata": {},
   "source": [
    "Проверим правильно ли разбили данные"
   ]
  },
  {
   "cell_type": "code",
   "execution_count": 58,
   "id": "85f45ce6",
   "metadata": {},
   "outputs": [
    {
     "data": {
      "text/plain": [
       "((180, 16), (180,))"
      ]
     },
     "execution_count": 58,
     "metadata": {},
     "output_type": "execute_result"
    }
   ],
   "source": [
    "X_train.shape, y_train.shape  # Размерность тренировочной"
   ]
  },
  {
   "cell_type": "code",
   "execution_count": 59,
   "id": "3be6290f",
   "metadata": {},
   "outputs": [
    {
     "data": {
      "text/plain": [
       "((60, 16), (60,))"
      ]
     },
     "execution_count": 59,
     "metadata": {},
     "output_type": "execute_result"
    }
   ],
   "source": [
    "X_test.shape, y_test.shape  # Размерность тестовой"
   ]
  },
  {
   "cell_type": "markdown",
   "id": "769e0e45",
   "metadata": {},
   "source": [
    "Сделаем масштабирование данных"
   ]
  },
  {
   "cell_type": "code",
   "execution_count": 60,
   "id": "d558d4a2",
   "metadata": {},
   "outputs": [],
   "source": [
    "# Создаем список столбцов\n",
    "num_columns = ['luminosity', 'radius', 'magnitude', 'radius_log', 'luminosity_log',\n",
    "               'magnitude_log', 'luminosity_type', 'luminosity_color', 'radius_type',\n",
    "               'radius_color', 'magnitude_type', 'magnitude_color']"
   ]
  },
  {
   "cell_type": "code",
   "execution_count": 61,
   "id": "df559342",
   "metadata": {},
   "outputs": [],
   "source": [
    "scaler = StandardScaler()  # Инициализируем стандартизатор\n",
    "\n",
    "X_train[num_columns] = scaler.fit_transform(X_train[num_columns])\n",
    "X_test[num_columns] = scaler.transform(X_test[num_columns])"
   ]
  },
  {
   "cell_type": "markdown",
   "id": "9b259995",
   "metadata": {},
   "source": [
    "Теперь необходимо закодировать категориальные признаки, для этого воспользуемся `OneHotEncoder`\n"
   ]
  },
  {
   "cell_type": "code",
   "execution_count": 62,
   "id": "473783e8",
   "metadata": {},
   "outputs": [],
   "source": [
    "# Создаем список категориальных столбцов\n",
    "cat_columns = ['color', 'radius_cat', 'luminosity_cat', 'type']"
   ]
  },
  {
   "cell_type": "code",
   "execution_count": 63,
   "id": "44a95392",
   "metadata": {},
   "outputs": [],
   "source": [
    "# Инициализируем кодировщик\n",
    "encoder = OneHotEncoder(drop='first', sparse=False)\n",
    "\n",
    "X_train_ohe = encoder.fit_transform(X_train[cat_columns])\n",
    "X_test_ohe = encoder.transform(X_test[cat_columns])"
   ]
  },
  {
   "cell_type": "code",
   "execution_count": 64,
   "id": "b907650a",
   "metadata": {},
   "outputs": [],
   "source": [
    "new_name = encoder.get_feature_names()  # Получаем новые названия столбцов"
   ]
  },
  {
   "cell_type": "code",
   "execution_count": 65,
   "id": "1f10b558",
   "metadata": {},
   "outputs": [],
   "source": [
    "# Получаем индексы выборок\n",
    "idx_train = X_train.index\n",
    "idx_test = X_test.index"
   ]
  },
  {
   "cell_type": "code",
   "execution_count": 66,
   "id": "eb6e9736",
   "metadata": {},
   "outputs": [],
   "source": [
    "# Добавляем новые столбцы\n",
    "X_train[new_name] = pd.DataFrame(\n",
    "    X_train_ohe, columns=new_name, index=idx_train)\n",
    "X_test[new_name] = pd.DataFrame(X_test_ohe, columns=new_name, index=idx_test)"
   ]
  },
  {
   "cell_type": "code",
   "execution_count": 67,
   "id": "5925e7e8",
   "metadata": {},
   "outputs": [],
   "source": [
    "# Удаляем незакодированные категориальные столбцы\n",
    "X_train = X_train.drop(columns=cat_columns, axis=1)\n",
    "X_test = X_test.drop(columns=cat_columns, axis=1)"
   ]
  },
  {
   "cell_type": "markdown",
   "id": "e59d9ebb",
   "metadata": {},
   "source": [
    "Проверим результат"
   ]
  },
  {
   "cell_type": "code",
   "execution_count": 68,
   "id": "5dac5729",
   "metadata": {},
   "outputs": [
    {
     "data": {
      "text/html": [
       "<div>\n",
       "<style scoped>\n",
       "    .dataframe tbody tr th:only-of-type {\n",
       "        vertical-align: middle;\n",
       "    }\n",
       "\n",
       "    .dataframe tbody tr th {\n",
       "        vertical-align: top;\n",
       "    }\n",
       "\n",
       "    .dataframe thead th {\n",
       "        text-align: right;\n",
       "    }\n",
       "</style>\n",
       "<table border=\"1\" class=\"dataframe\">\n",
       "  <thead>\n",
       "    <tr style=\"text-align: right;\">\n",
       "      <th></th>\n",
       "      <th>luminosity</th>\n",
       "      <th>radius</th>\n",
       "      <th>magnitude</th>\n",
       "      <th>luminosity_type</th>\n",
       "      <th>luminosity_color</th>\n",
       "      <th>radius_type</th>\n",
       "      <th>radius_color</th>\n",
       "      <th>magnitude_type</th>\n",
       "      <th>magnitude_color</th>\n",
       "      <th>radius_log</th>\n",
       "      <th>...</th>\n",
       "      <th>x0_yellowish</th>\n",
       "      <th>x0_yellowish white</th>\n",
       "      <th>x1_small</th>\n",
       "      <th>x2_bright</th>\n",
       "      <th>x2_faintly bright</th>\n",
       "      <th>x3_1</th>\n",
       "      <th>x3_2</th>\n",
       "      <th>x3_3</th>\n",
       "      <th>x3_4</th>\n",
       "      <th>x3_5</th>\n",
       "    </tr>\n",
       "  </thead>\n",
       "  <tbody>\n",
       "    <tr>\n",
       "      <th>95</th>\n",
       "      <td>-0.590699</td>\n",
       "      <td>-0.427420</td>\n",
       "      <td>-0.651610</td>\n",
       "      <td>-0.258168</td>\n",
       "      <td>-0.243879</td>\n",
       "      <td>-0.211378</td>\n",
       "      <td>-0.211535</td>\n",
       "      <td>-0.267728</td>\n",
       "      <td>-0.288593</td>\n",
       "      <td>0.331521</td>\n",
       "      <td>...</td>\n",
       "      <td>1.0</td>\n",
       "      <td>0.0</td>\n",
       "      <td>1.0</td>\n",
       "      <td>0.0</td>\n",
       "      <td>1.0</td>\n",
       "      <td>0.0</td>\n",
       "      <td>0.0</td>\n",
       "      <td>1.0</td>\n",
       "      <td>0.0</td>\n",
       "      <td>0.0</td>\n",
       "    </tr>\n",
       "    <tr>\n",
       "      <th>126</th>\n",
       "      <td>-0.594615</td>\n",
       "      <td>-0.441198</td>\n",
       "      <td>1.183989</td>\n",
       "      <td>0.193151</td>\n",
       "      <td>0.211269</td>\n",
       "      <td>0.168277</td>\n",
       "      <td>0.167580</td>\n",
       "      <td>0.193283</td>\n",
       "      <td>0.166548</td>\n",
       "      <td>-0.775897</td>\n",
       "      <td>...</td>\n",
       "      <td>0.0</td>\n",
       "      <td>0.0</td>\n",
       "      <td>1.0</td>\n",
       "      <td>0.0</td>\n",
       "      <td>1.0</td>\n",
       "      <td>0.0</td>\n",
       "      <td>0.0</td>\n",
       "      <td>0.0</td>\n",
       "      <td>0.0</td>\n",
       "      <td>0.0</td>\n",
       "    </tr>\n",
       "    <tr>\n",
       "      <th>120</th>\n",
       "      <td>-0.594615</td>\n",
       "      <td>-0.441202</td>\n",
       "      <td>1.210786</td>\n",
       "      <td>0.099774</td>\n",
       "      <td>0.117100</td>\n",
       "      <td>0.135264</td>\n",
       "      <td>0.134613</td>\n",
       "      <td>0.101081</td>\n",
       "      <td>0.075520</td>\n",
       "      <td>-0.781463</td>\n",
       "      <td>...</td>\n",
       "      <td>0.0</td>\n",
       "      <td>0.0</td>\n",
       "      <td>1.0</td>\n",
       "      <td>0.0</td>\n",
       "      <td>1.0</td>\n",
       "      <td>0.0</td>\n",
       "      <td>0.0</td>\n",
       "      <td>0.0</td>\n",
       "      <td>0.0</td>\n",
       "      <td>0.0</td>\n",
       "    </tr>\n",
       "    <tr>\n",
       "      <th>67</th>\n",
       "      <td>-0.594615</td>\n",
       "      <td>-0.441203</td>\n",
       "      <td>1.142836</td>\n",
       "      <td>-0.693925</td>\n",
       "      <td>-0.683333</td>\n",
       "      <td>-0.624048</td>\n",
       "      <td>-0.623616</td>\n",
       "      <td>-0.698005</td>\n",
       "      <td>-0.713391</td>\n",
       "      <td>-0.781744</td>\n",
       "      <td>...</td>\n",
       "      <td>0.0</td>\n",
       "      <td>0.0</td>\n",
       "      <td>1.0</td>\n",
       "      <td>0.0</td>\n",
       "      <td>1.0</td>\n",
       "      <td>0.0</td>\n",
       "      <td>0.0</td>\n",
       "      <td>0.0</td>\n",
       "      <td>0.0</td>\n",
       "      <td>0.0</td>\n",
       "    </tr>\n",
       "    <tr>\n",
       "      <th>101</th>\n",
       "      <td>4.142061</td>\n",
       "      <td>-0.413374</td>\n",
       "      <td>-1.027726</td>\n",
       "      <td>-0.164792</td>\n",
       "      <td>-0.149711</td>\n",
       "      <td>-0.112338</td>\n",
       "      <td>-0.112636</td>\n",
       "      <td>-0.175526</td>\n",
       "      <td>-0.197565</td>\n",
       "      <td>0.510103</td>\n",
       "      <td>...</td>\n",
       "      <td>0.0</td>\n",
       "      <td>0.0</td>\n",
       "      <td>1.0</td>\n",
       "      <td>0.0</td>\n",
       "      <td>0.0</td>\n",
       "      <td>0.0</td>\n",
       "      <td>0.0</td>\n",
       "      <td>0.0</td>\n",
       "      <td>1.0</td>\n",
       "      <td>0.0</td>\n",
       "    </tr>\n",
       "  </tbody>\n",
       "</table>\n",
       "<p>5 rows × 26 columns</p>\n",
       "</div>"
      ],
      "text/plain": [
       "     luminosity    radius  magnitude  luminosity_type  luminosity_color  \\\n",
       "95    -0.590699 -0.427420  -0.651610        -0.258168         -0.243879   \n",
       "126   -0.594615 -0.441198   1.183989         0.193151          0.211269   \n",
       "120   -0.594615 -0.441202   1.210786         0.099774          0.117100   \n",
       "67    -0.594615 -0.441203   1.142836        -0.693925         -0.683333   \n",
       "101    4.142061 -0.413374  -1.027726        -0.164792         -0.149711   \n",
       "\n",
       "     radius_type  radius_color  magnitude_type  magnitude_color  radius_log  \\\n",
       "95     -0.211378     -0.211535       -0.267728        -0.288593    0.331521   \n",
       "126     0.168277      0.167580        0.193283         0.166548   -0.775897   \n",
       "120     0.135264      0.134613        0.101081         0.075520   -0.781463   \n",
       "67     -0.624048     -0.623616       -0.698005        -0.713391   -0.781744   \n",
       "101    -0.112338     -0.112636       -0.175526        -0.197565    0.510103   \n",
       "\n",
       "     ...  x0_yellowish  x0_yellowish white  x1_small  x2_bright  \\\n",
       "95   ...           1.0                 0.0       1.0        0.0   \n",
       "126  ...           0.0                 0.0       1.0        0.0   \n",
       "120  ...           0.0                 0.0       1.0        0.0   \n",
       "67   ...           0.0                 0.0       1.0        0.0   \n",
       "101  ...           0.0                 0.0       1.0        0.0   \n",
       "\n",
       "     x2_faintly bright  x3_1  x3_2  x3_3  x3_4  x3_5  \n",
       "95                 1.0   0.0   0.0   1.0   0.0   0.0  \n",
       "126                1.0   0.0   0.0   0.0   0.0   0.0  \n",
       "120                1.0   0.0   0.0   0.0   0.0   0.0  \n",
       "67                 1.0   0.0   0.0   0.0   0.0   0.0  \n",
       "101                0.0   0.0   0.0   0.0   1.0   0.0  \n",
       "\n",
       "[5 rows x 26 columns]"
      ]
     },
     "execution_count": 68,
     "metadata": {},
     "output_type": "execute_result"
    }
   ],
   "source": [
    "X_train.head()  # Выводим первые 5 строк"
   ]
  },
  {
   "cell_type": "code",
   "execution_count": 69,
   "id": "b4b50bb4",
   "metadata": {
    "scrolled": true
   },
   "outputs": [
    {
     "data": {
      "text/html": [
       "<div>\n",
       "<style scoped>\n",
       "    .dataframe tbody tr th:only-of-type {\n",
       "        vertical-align: middle;\n",
       "    }\n",
       "\n",
       "    .dataframe tbody tr th {\n",
       "        vertical-align: top;\n",
       "    }\n",
       "\n",
       "    .dataframe thead th {\n",
       "        text-align: right;\n",
       "    }\n",
       "</style>\n",
       "<table border=\"1\" class=\"dataframe\">\n",
       "  <thead>\n",
       "    <tr style=\"text-align: right;\">\n",
       "      <th></th>\n",
       "      <th>luminosity</th>\n",
       "      <th>radius</th>\n",
       "      <th>magnitude</th>\n",
       "      <th>luminosity_type</th>\n",
       "      <th>luminosity_color</th>\n",
       "      <th>radius_type</th>\n",
       "      <th>radius_color</th>\n",
       "      <th>magnitude_type</th>\n",
       "      <th>magnitude_color</th>\n",
       "      <th>radius_log</th>\n",
       "      <th>...</th>\n",
       "      <th>x0_yellowish</th>\n",
       "      <th>x0_yellowish white</th>\n",
       "      <th>x1_small</th>\n",
       "      <th>x2_bright</th>\n",
       "      <th>x2_faintly bright</th>\n",
       "      <th>x3_1</th>\n",
       "      <th>x3_2</th>\n",
       "      <th>x3_3</th>\n",
       "      <th>x3_4</th>\n",
       "      <th>x3_5</th>\n",
       "    </tr>\n",
       "  </thead>\n",
       "  <tbody>\n",
       "    <tr>\n",
       "      <th>24</th>\n",
       "      <td>-0.594614</td>\n",
       "      <td>-0.441357</td>\n",
       "      <td>0.706427</td>\n",
       "      <td>-1.316434</td>\n",
       "      <td>-1.295430</td>\n",
       "      <td>-1.317333</td>\n",
       "      <td>-1.332396</td>\n",
       "      <td>-1.358788</td>\n",
       "      <td>-1.365760</td>\n",
       "      <td>-1.262294</td>\n",
       "      <td>...</td>\n",
       "      <td>0.0</td>\n",
       "      <td>0.0</td>\n",
       "      <td>1.0</td>\n",
       "      <td>0.0</td>\n",
       "      <td>1.0</td>\n",
       "      <td>0.0</td>\n",
       "      <td>1.0</td>\n",
       "      <td>0.0</td>\n",
       "      <td>0.0</td>\n",
       "      <td>0.0</td>\n",
       "    </tr>\n",
       "    <tr>\n",
       "      <th>6</th>\n",
       "      <td>-0.594615</td>\n",
       "      <td>-0.441131</td>\n",
       "      <td>1.216528</td>\n",
       "      <td>-1.596563</td>\n",
       "      <td>-1.562241</td>\n",
       "      <td>-1.597948</td>\n",
       "      <td>-1.596129</td>\n",
       "      <td>-1.635395</td>\n",
       "      <td>-1.638844</td>\n",
       "      <td>-0.696500</td>\n",
       "      <td>...</td>\n",
       "      <td>0.0</td>\n",
       "      <td>0.0</td>\n",
       "      <td>1.0</td>\n",
       "      <td>0.0</td>\n",
       "      <td>1.0</td>\n",
       "      <td>0.0</td>\n",
       "      <td>0.0</td>\n",
       "      <td>0.0</td>\n",
       "      <td>0.0</td>\n",
       "      <td>0.0</td>\n",
       "    </tr>\n",
       "    <tr>\n",
       "      <th>93</th>\n",
       "      <td>-0.594612</td>\n",
       "      <td>-0.439124</td>\n",
       "      <td>0.025973</td>\n",
       "      <td>-0.289294</td>\n",
       "      <td>-0.275269</td>\n",
       "      <td>-0.244392</td>\n",
       "      <td>-0.244502</td>\n",
       "      <td>-0.298462</td>\n",
       "      <td>-0.318936</td>\n",
       "      <td>-0.135669</td>\n",
       "      <td>...</td>\n",
       "      <td>1.0</td>\n",
       "      <td>0.0</td>\n",
       "      <td>1.0</td>\n",
       "      <td>0.0</td>\n",
       "      <td>1.0</td>\n",
       "      <td>0.0</td>\n",
       "      <td>0.0</td>\n",
       "      <td>1.0</td>\n",
       "      <td>0.0</td>\n",
       "      <td>0.0</td>\n",
       "    </tr>\n",
       "    <tr>\n",
       "      <th>109</th>\n",
       "      <td>1.456197</td>\n",
       "      <td>-0.307335</td>\n",
       "      <td>-0.985616</td>\n",
       "      <td>-0.055853</td>\n",
       "      <td>-0.024153</td>\n",
       "      <td>-0.013297</td>\n",
       "      <td>-0.013736</td>\n",
       "      <td>-0.052589</td>\n",
       "      <td>-0.076194</td>\n",
       "      <td>0.911816</td>\n",
       "      <td>...</td>\n",
       "      <td>0.0</td>\n",
       "      <td>0.0</td>\n",
       "      <td>1.0</td>\n",
       "      <td>1.0</td>\n",
       "      <td>0.0</td>\n",
       "      <td>0.0</td>\n",
       "      <td>0.0</td>\n",
       "      <td>0.0</td>\n",
       "      <td>1.0</td>\n",
       "      <td>0.0</td>\n",
       "    </tr>\n",
       "    <tr>\n",
       "      <th>104</th>\n",
       "      <td>0.057916</td>\n",
       "      <td>-0.417376</td>\n",
       "      <td>-0.997100</td>\n",
       "      <td>-0.118104</td>\n",
       "      <td>-0.102626</td>\n",
       "      <td>-0.128845</td>\n",
       "      <td>-0.129119</td>\n",
       "      <td>-0.129425</td>\n",
       "      <td>-0.152051</td>\n",
       "      <td>0.470551</td>\n",
       "      <td>...</td>\n",
       "      <td>0.0</td>\n",
       "      <td>0.0</td>\n",
       "      <td>1.0</td>\n",
       "      <td>1.0</td>\n",
       "      <td>0.0</td>\n",
       "      <td>0.0</td>\n",
       "      <td>0.0</td>\n",
       "      <td>0.0</td>\n",
       "      <td>1.0</td>\n",
       "      <td>0.0</td>\n",
       "    </tr>\n",
       "  </tbody>\n",
       "</table>\n",
       "<p>5 rows × 26 columns</p>\n",
       "</div>"
      ],
      "text/plain": [
       "     luminosity    radius  magnitude  luminosity_type  luminosity_color  \\\n",
       "24    -0.594614 -0.441357   0.706427        -1.316434         -1.295430   \n",
       "6     -0.594615 -0.441131   1.216528        -1.596563         -1.562241   \n",
       "93    -0.594612 -0.439124   0.025973        -0.289294         -0.275269   \n",
       "109    1.456197 -0.307335  -0.985616        -0.055853         -0.024153   \n",
       "104    0.057916 -0.417376  -0.997100        -0.118104         -0.102626   \n",
       "\n",
       "     radius_type  radius_color  magnitude_type  magnitude_color  radius_log  \\\n",
       "24     -1.317333     -1.332396       -1.358788        -1.365760   -1.262294   \n",
       "6      -1.597948     -1.596129       -1.635395        -1.638844   -0.696500   \n",
       "93     -0.244392     -0.244502       -0.298462        -0.318936   -0.135669   \n",
       "109    -0.013297     -0.013736       -0.052589        -0.076194    0.911816   \n",
       "104    -0.128845     -0.129119       -0.129425        -0.152051    0.470551   \n",
       "\n",
       "     ...  x0_yellowish  x0_yellowish white  x1_small  x2_bright  \\\n",
       "24   ...           0.0                 0.0       1.0        0.0   \n",
       "6    ...           0.0                 0.0       1.0        0.0   \n",
       "93   ...           1.0                 0.0       1.0        0.0   \n",
       "109  ...           0.0                 0.0       1.0        1.0   \n",
       "104  ...           0.0                 0.0       1.0        1.0   \n",
       "\n",
       "     x2_faintly bright  x3_1  x3_2  x3_3  x3_4  x3_5  \n",
       "24                 1.0   0.0   1.0   0.0   0.0   0.0  \n",
       "6                  1.0   0.0   0.0   0.0   0.0   0.0  \n",
       "93                 1.0   0.0   0.0   1.0   0.0   0.0  \n",
       "109                0.0   0.0   0.0   0.0   1.0   0.0  \n",
       "104                0.0   0.0   0.0   0.0   1.0   0.0  \n",
       "\n",
       "[5 rows x 26 columns]"
      ]
     },
     "execution_count": 69,
     "metadata": {},
     "output_type": "execute_result"
    }
   ],
   "source": [
    "X_test.head()  # Выводим первые 5 строк"
   ]
  },
  {
   "cell_type": "code",
   "execution_count": 70,
   "id": "bf7fe365",
   "metadata": {},
   "outputs": [
    {
     "data": {
      "text/plain": [
       "(180, 26)"
      ]
     },
     "execution_count": 70,
     "metadata": {},
     "output_type": "execute_result"
    }
   ],
   "source": [
    "X_train.shape  # Размерность тренировочной"
   ]
  },
  {
   "cell_type": "code",
   "execution_count": 71,
   "id": "c53fb5b0",
   "metadata": {},
   "outputs": [
    {
     "data": {
      "text/plain": [
       "(60, 26)"
      ]
     },
     "execution_count": 71,
     "metadata": {},
     "output_type": "execute_result"
    }
   ],
   "source": [
    "X_test.shape  # Размерность тестовой"
   ]
  },
  {
   "cell_type": "code",
   "execution_count": 72,
   "id": "a08ce764",
   "metadata": {},
   "outputs": [],
   "source": [
    "# Переведем данные в тензор\n",
    "X_train = torch.FloatTensor(X_train.values)\n",
    "X_test = torch.FloatTensor(X_test.values)\n",
    "y_train = torch.FloatTensor(y_train.values)\n",
    "y_test = torch.FloatTensor(y_test.values)"
   ]
  },
  {
   "cell_type": "markdown",
   "id": "17235a1b",
   "metadata": {},
   "source": [
    "Приступим к построению базовой нейронной сети."
   ]
  },
  {
   "cell_type": "markdown",
   "id": "funded-electric",
   "metadata": {},
   "source": [
    "## Построение базовой нейронной сети"
   ]
  },
  {
   "cell_type": "markdown",
   "id": "7cf9e854",
   "metadata": {},
   "source": [
    "Начнем с базовой нейронной сети с 2 скрытыми слоями. Функция активации `ReLU`. Оценивать модель будем по метрике `RMSE`. Целевой признак температура (столбец `temperature`)\n",
    "\n",
    "*p.s. Использовал только ReLU, так как с другими функциями активации результаты были хуже.*"
   ]
  },
  {
   "cell_type": "code",
   "execution_count": 73,
   "id": "forced-concentrate",
   "metadata": {},
   "outputs": [],
   "source": [
    "# Класс архетиктуры нейронной сети\n",
    "class StarNet(nn.Module):\n",
    "    def __init__(self, n_in_neurons, n_hidden_neurons_1, n_hidden_neurons_2, n_out_neurons):\n",
    "        super(StarNet, self).__init__()\n",
    "\n",
    "        self.fc1 = nn.Linear(n_in_neurons, n_hidden_neurons_1)\n",
    "        self.act1 = nn.ReLU()\n",
    "\n",
    "        self.fc2 = nn.Linear(n_hidden_neurons_1, n_hidden_neurons_2)\n",
    "        self.act2 = nn.ReLU()\n",
    "\n",
    "        self.fc3 = nn.Linear(n_hidden_neurons_2, n_out_neurons)\n",
    "\n",
    "    def forward(self, x):\n",
    "        out = self.fc1(x)\n",
    "        out = self.act1(out)\n",
    "\n",
    "        out = self.fc2(out)\n",
    "        out = self.act2(out)\n",
    "\n",
    "        out = self.fc3(out)\n",
    "        return out"
   ]
  },
  {
   "cell_type": "code",
   "execution_count": 74,
   "id": "cdc6bd58",
   "metadata": {},
   "outputs": [],
   "source": [
    "def baseline(*args):\n",
    "    '''\n",
    "    Функция для обучения нейронной сети. На вход получает\n",
    "    12 аргументов (количество нейронов, скорость обучения и выборки)\n",
    "    Считает RMSE на тестовой выборке и выводи предсказания.\n",
    "    '''\n",
    "\n",
    "    model = StarNet(n_in_neurons, n_hidden_neurons_1,\n",
    "                    n_hidden_neurons_2, n_out_neurons)  # Вызываем класс\n",
    "\n",
    "    loss = nn.MSELoss()  # В качестве функции потерь используем MSE\n",
    "    # Создаем Adam оптимизатор\n",
    "    optimizer = torch.optim.Adam(model.parameters(), lr=learning_rate)\n",
    "\n",
    "    # Цикл обучения\n",
    "    for epoch in range(num_epochs):\n",
    "        model.train()\n",
    "        optimizer.zero_grad()  # Обнуление градиентов\n",
    "\n",
    "        preds = model.forward(X_train).flatten()  # Прямое распространение\n",
    "        # Берем корень от MSE, чтобы получить RMSE\n",
    "        loss_value = torch.sqrt(loss(preds, y_train))\n",
    "\n",
    "        loss_value.backward()\n",
    "        optimizer.step()\n",
    "\n",
    "        if epoch % 100 == 0 or epoch == num_epochs - 1:\n",
    "            model.eval()\n",
    "            test_preds = model.forward(X_test)\n",
    "            RMSE = torch.sqrt(torch.mean((test_preds-y_test)**2)\n",
    "                              ).float().data  # Считаем RMSE\n",
    "            print(\n",
    "                'Эпоха [{}/{}], Значение RMSE: {:.4f}'.format(epoch, num_epochs, RMSE))\n",
    "\n",
    "    return test_preds"
   ]
  },
  {
   "cell_type": "markdown",
   "id": "32bb8d5f",
   "metadata": {},
   "source": [
    "Отдельно зададим параметры базовой нейронной сети"
   ]
  },
  {
   "cell_type": "code",
   "execution_count": 75,
   "id": "a2bbc7c2",
   "metadata": {},
   "outputs": [],
   "source": [
    "# Задаем параметры нейронной сети\n",
    "n_in_neurons = 26\n",
    "n_hidden_neurons_1 = 27\n",
    "n_hidden_neurons_2 = 13\n",
    "n_out_neurons = 1\n",
    "learning_rate = 0.01\n",
    "num_epochs = 1000"
   ]
  },
  {
   "cell_type": "markdown",
   "id": "387273ae",
   "metadata": {},
   "source": [
    "Начнем обучение"
   ]
  },
  {
   "cell_type": "code",
   "execution_count": 76,
   "id": "db69f38d",
   "metadata": {
    "scrolled": false
   },
   "outputs": [
    {
     "name": "stdout",
     "output_type": "stream",
     "text": [
      "Эпоха [0/1000], Значение RMSE: 14626.6650\n",
      "Эпоха [100/1000], Значение RMSE: 13450.3730\n",
      "Эпоха [200/1000], Значение RMSE: 11818.3916\n",
      "Эпоха [300/1000], Значение RMSE: 11940.0117\n",
      "Эпоха [400/1000], Значение RMSE: 12229.2617\n",
      "Эпоха [500/1000], Значение RMSE: 12461.2559\n",
      "Эпоха [600/1000], Значение RMSE: 12635.1133\n",
      "Эпоха [700/1000], Значение RMSE: 12756.9180\n",
      "Эпоха [800/1000], Значение RMSE: 12853.4092\n",
      "Эпоха [900/1000], Значение RMSE: 12987.9629\n",
      "Эпоха [999/1000], Значение RMSE: 13167.8057\n"
     ]
    }
   ],
   "source": [
    "# Вызваем функцию обучения нейронной сети\n",
    "preds = baseline(n_in_neurons, n_hidden_neurons_1, n_hidden_neurons_2,\n",
    "                 n_out_neurons, learning_rate, X_train, X_test, y_train, y_test, num_epochs)"
   ]
  },
  {
   "cell_type": "markdown",
   "id": "f377fdfb",
   "metadata": {},
   "source": [
    "После обучения необходимо построить график «Факт — Прогноз», где по горизонтальной оси будут отложены условные номера звёзд, а по вертикальной — температура в Кельвинах."
   ]
  },
  {
   "cell_type": "code",
   "execution_count": 77,
   "id": "b2c81bcf",
   "metadata": {},
   "outputs": [],
   "source": [
    "fact_pred = pd.DataFrame(fact)  # Создаем датафрейм с фактическими данными"
   ]
  },
  {
   "cell_type": "code",
   "execution_count": 78,
   "id": "229c019b",
   "metadata": {},
   "outputs": [],
   "source": [
    "fact_pred['Прогноз'] = preds.detach().numpy()  # Создаем столбец прогноза"
   ]
  },
  {
   "cell_type": "code",
   "execution_count": 79,
   "id": "75ba893c",
   "metadata": {},
   "outputs": [],
   "source": [
    "# Переименновываем столбец\n",
    "fact_pred = fact_pred.rename(columns={'temperature': 'Факт'})"
   ]
  },
  {
   "cell_type": "code",
   "execution_count": 80,
   "id": "630e6a68",
   "metadata": {},
   "outputs": [
    {
     "data": {
      "image/png": "[encoded data removed]",
      "text/plain": [
       "<Figure size 1440x720 with 1 Axes>"
      ]
     },
     "metadata": {
      "needs_background": "light"
     },
     "output_type": "display_data"
    }
   ],
   "source": [
    "# Создаем график факт-прогноз\n",
    "plt.figure(figsize=(20, 10))\n",
    "fact_pred['Факт'].plot(kind='bar', color='#069AF3')\n",
    "fact_pred['Прогноз'].plot(kind='bar', color='red', alpha=0.5)\n",
    "plt.legend(frameon=True)\n",
    "plt.xticks(rotation=60)\n",
    "plt.xlabel('Номер звезды в таблице данных', fontsize=20)\n",
    "plt.ylabel('Температура звезды', fontsize=20)\n",
    "plt.title('Факт-Прогноз', fontsize=30, fontweight='bold');"
   ]
  },
  {
   "cell_type": "markdown",
   "id": "df2c9069",
   "metadata": {},
   "source": [
    "Ясно, что результаты модели не являются удовлетворительными и приходим к выводу, что необходимо улучшить нашу базовую модель."
   ]
  },
  {
   "cell_type": "markdown",
   "id": "growing-supply",
   "metadata": {},
   "source": [
    "## Улучшение нейронной сети"
   ]
  },
  {
   "cell_type": "markdown",
   "id": "a84fb8a3",
   "metadata": {},
   "source": [
    "Постараемся улучшить нейронную сеть при помощи перебора параметров нейросети. Архитектуру нейронной сети: количество слоёв, нейронов, вид функции активации — оставим как в Baseline, чтобы в дальнейшим сравнить их. Параметры для перебора:\n",
    "- Размер батча\n",
    "- Dropout\n",
    "\n",
    "Создадим новый класс архитектуры нейронной сети. А также напишем две функции для обучения модели и для оценки модели на тестовой выборке. \n",
    "Метрика все такая же. Необходимо, чтобы `RMSE` < 4500."
   ]
  },
  {
   "cell_type": "code",
   "execution_count": 81,
   "id": "62e4076c",
   "metadata": {},
   "outputs": [],
   "source": [
    "# Класс архетиктуры нейронной сети\n",
    "class StarNetImproved(nn.Module):\n",
    "    def __init__(self, dropout_rate, n_in_neurons, n_hidden_neurons_1, n_hidden_neurons_2, n_out_neurons):\n",
    "        super(StarNetImproved, self).__init__()\n",
    "\n",
    "        self.fc1 = nn.Linear(n_in_neurons, n_hidden_neurons_1)\n",
    "        self.dp1 = nn.Dropout(dropout_rate)\n",
    "\n",
    "        self.fc2 = nn.Linear(n_hidden_neurons_1, n_hidden_neurons_2)\n",
    "        self.dp2 = nn.Dropout(dropout_rate)\n",
    "\n",
    "        self.fc3 = nn.Linear(n_hidden_neurons_2, n_out_neurons)\n",
    "\n",
    "    def forward(self, x):\n",
    "        out = self.fc1(x)\n",
    "        out = torch.relu(out)\n",
    "        out = self.dp1(out)\n",
    "\n",
    "        out = self.fc2(out)\n",
    "        out = torch.relu(out)\n",
    "        out = self.dp2(out)\n",
    "\n",
    "        out = self.fc3(out)\n",
    "        return out"
   ]
  },
  {
   "cell_type": "code",
   "execution_count": 82,
   "id": "2f896612",
   "metadata": {},
   "outputs": [],
   "source": [
    "def train(model, optimizer, loss, train_loader, epochs):\n",
    "    '''\n",
    "    Функция обучения нейронной сети. На вход получает модель,\n",
    "    оптимизатор, функцию потерь, количество эпох и датасет.\n",
    "    '''\n",
    "\n",
    "    model.train()\n",
    "    for epoch in range(epochs):\n",
    "        for X_batch, y_batch in train_loader:\n",
    "            optimizer.zero_grad()\n",
    "            preds = model(X_batch).flatten()\n",
    "            loss_value = torch.sqrt(loss(preds, y_batch))\n",
    "            loss_value.backward()\n",
    "            optimizer.step()"
   ]
  },
  {
   "cell_type": "code",
   "execution_count": 83,
   "id": "a8507a57",
   "metadata": {},
   "outputs": [],
   "source": [
    "def preds_test_rmse(model, test_loader):\n",
    "    '''\n",
    "    Функция для оценки модели на тестовых данных\n",
    "    при помощи метрики RMSE. На вход получает модель и\n",
    "    тестовые данные. На выходе функции значение метрики RMSE\n",
    "    и предсказанные значения.\n",
    "    '''\n",
    "\n",
    "    model.eval()\n",
    "    y_pred = []\n",
    "    y_true = []\n",
    "    with torch.no_grad():\n",
    "        for X_batch, y_batch in test_loader:\n",
    "            preds = model(X_batch)\n",
    "            y_pred.extend(preds.numpy().flatten())\n",
    "            y_true.extend(y_batch.numpy())\n",
    "    y_pred = torch.tensor(y_pred)\n",
    "    y_true = torch.tensor(y_true)\n",
    "    rmse = torch.sqrt(torch.mean((y_pred - y_true) ** 2))\n",
    "    return rmse.item(), y_pred"
   ]
  },
  {
   "cell_type": "markdown",
   "id": "67e574b0",
   "metadata": {},
   "source": [
    "Приступим к перебору параметров для нейронной сети."
   ]
  },
  {
   "cell_type": "code",
   "execution_count": 84,
   "id": "aab72fff",
   "metadata": {
    "scrolled": false
   },
   "outputs": [
    {
     "data": {
      "application/vnd.jupyter.widget-view+json": {
       "model_id": "33d72316afc9486f9aa0ffe567253f5d",
       "version_major": 2,
       "version_minor": 0
      },
      "text/plain": [
       "  0%|          | 0/3 [00:00<?, ?it/s]"
      ]
     },
     "metadata": {},
     "output_type": "display_data"
    },
    {
     "name": "stdout",
     "output_type": "stream",
     "text": [
      "Лучший результат (RMSE): 4497.91 с параметрами: {'batch_size': 40, 'dropout_rate': 0.4}\n",
      "Время выполнения: 164.10 секунд\n"
     ]
    }
   ],
   "source": [
    "# Сохраняем время начала работы\n",
    "start_time = time.time()\n",
    "\n",
    "# Подготовка данных\n",
    "train_dataset = torch.utils.data.TensorDataset(X_train, y_train)\n",
    "test_dataset = torch.utils.data.TensorDataset(X_test, y_test)\n",
    "\n",
    "# Перебор параметров\n",
    "param_grid = {\n",
    "    'batch_size': [10, 20, 40],\n",
    "    'dropout_rate': [0.2, 0.4, 0.6],\n",
    "}\n",
    "\n",
    "best_rmse = float('inf')\n",
    "best_params = {}\n",
    "\n",
    "# Цикл перебора параметров\n",
    "for batch_size in tqdm(param_grid['batch_size']):\n",
    "    for dropout_rate in param_grid['dropout_rate']:\n",
    "        train_loader = torch.utils.data.DataLoader(\n",
    "            train_dataset, batch_size=batch_size, shuffle=True)\n",
    "        test_loader = torch.utils.data.DataLoader(\n",
    "            test_dataset, batch_size=batch_size)\n",
    "\n",
    "        model = StarNetImproved(\n",
    "            dropout_rate, n_in_neurons, n_hidden_neurons_1, n_hidden_neurons_2, n_out_neurons)\n",
    "        loss = nn.MSELoss()  # Функция потерь\n",
    "        optimizer = torch.optim.Adam(\n",
    "            model.parameters(), lr=learning_rate)  # Оптимизатор ADAM\n",
    "\n",
    "        train(model, optimizer, loss, train_loader, num_epochs)\n",
    "        rmse, test_preds = preds_test_rmse(model, test_loader)\n",
    "\n",
    "        # Находим лучшую метрику и соотвествующие ей предсказания\n",
    "        if rmse < best_rmse:\n",
    "            best_rmse = rmse\n",
    "            preds = test_preds\n",
    "            best_params = {'batch_size': batch_size,\n",
    "                           'dropout_rate': dropout_rate}\n",
    "\n",
    "print(f\"Лучший результат (RMSE): {best_rmse:.2f} с параметрами: {best_params}\")\n",
    "\n",
    "# Считаем время выполнения\n",
    "end_time = time.time()\n",
    "execution_time = end_time - start_time\n",
    "print(f\"Время выполнения: {execution_time:.2f} секунд\")"
   ]
  },
  {
   "cell_type": "markdown",
   "id": "e1d1a220",
   "metadata": {},
   "source": [
    "Метрика RMSE 4497, что удовлетворяет условию задачи. По итогу обучения, необходимо также построить график \"Факт-Прогноз\""
   ]
  },
  {
   "cell_type": "code",
   "execution_count": 85,
   "id": "5f05b516",
   "metadata": {},
   "outputs": [],
   "source": [
    "fact_pred['Прогноз'] = preds.detach().numpy()  # Сохраням новые предсказния"
   ]
  },
  {
   "cell_type": "code",
   "execution_count": 86,
   "id": "706cba06",
   "metadata": {
    "scrolled": false
   },
   "outputs": [
    {
     "data": {
      "image/png": "[encoded data removed]",
      "text/plain": [
       "<Figure size 1440x720 with 1 Axes>"
      ]
     },
     "metadata": {
      "needs_background": "light"
     },
     "output_type": "display_data"
    }
   ],
   "source": [
    "# Строим график факт-прогноз\n",
    "plt.figure(figsize=(20, 10))\n",
    "fact_pred['Факт'].plot(kind='bar', color='#069AF3')\n",
    "fact_pred['Прогноз'].plot(kind='bar', color='red', alpha=0.5)\n",
    "plt.legend(frameon=True)\n",
    "plt.xticks(rotation=60)\n",
    "plt.xlabel('Номер звезды в таблице данных', fontsize=20)\n",
    "plt.ylabel('Температура звезды', fontsize=20)\n",
    "plt.title('Факт-Прогноз', fontsize=30, fontweight='bold');"
   ]
  },
  {
   "cell_type": "markdown",
   "id": "5194d588",
   "metadata": {},
   "source": [
    "Сведем результаты двух нейросетей в таблицу, для лучшего их сравнения.\n",
    "\n",
    "**Модель** | **Метрика RMSE** | **Количество эпох** | **Удовлетворяет условиям** | **Количество сильно отличающихся точек** |\n",
    ":------------- | :-------------: | :-----------: | :------------: | :-----------: |\n",
    "**Baseline** | 11818 |   200 |  ❌ | 15 |\n",
    "**ImprovedBaseline** | 4497 | 1000 |  ✅  | 10|\n",
    " Разница, %| 61.95 | 800 | 100 | 35|\n",
    " \n",
    " В результате видно, что по всем показателям улчшение нейронной сети пошло на пользу."
   ]
  },
  {
   "cell_type": "markdown",
   "id": "accurate-infrastructure",
   "metadata": {},
   "source": [
    "## Выводы"
   ]
  },
  {
   "cell_type": "markdown",
   "id": "368d5867",
   "metadata": {},
   "source": [
    "Данные были получены из файла:\n",
    "\n",
    "`6_class.csv`\n",
    "\n",
    "Сначала был сделан обзор данных. Само исследование проходило в 6 этапов:\n",
    "\n",
    "1. Изучить данные\n",
    "2. Предобработка данных\n",
    "3. Исследовательский анализ данных\n",
    "4. Подготовка данных к построению модели\n",
    "5. Построение базовой нейронной сети\n",
    "6. Улучшение нейронной сети\n",
    "7. Общий вывод\n",
    "\n",
    "**1. Изучение данных**\n",
    "\n",
    "Загрузили файл и сохранили его в переменной `star_df`. Далее изучили данные, используя `info`, `describe`\n",
    "\n",
    "Всего в таблице 6 столбцов, тип данных - `float`(3), `int`(2) и `object`(1). Количество значений в столбцах одинаковые, а вероятно пропусков нет.\n",
    "\n",
    "Исходя из описательной статистики заметили, что у признаков сильно отличаются значения медианы и среднего. Предположили два варианта либо же в данных присутствуют выбросы, либо же данные просто не стандартизированы.\n",
    "\n",
    "По итогу первого пункта были намечены действия для следующего.\n",
    "\n",
    "**2. Предобработка данных**\n",
    "\n",
    "По итогу данного этапа были сделаны действия намеченные в прошлом этапе:\n",
    "\n",
    "- Изменили тип данных в столбцах для экономичного управления памятью\n",
    "- Изменили названия столбцов для удобства\n",
    "- Изменили тип данных в столбцах `color` и `type` на `category`\n",
    "- Сделали проверку на пропуски в данных. В результате не обнаружены.\n",
    "- Сделали проверку на явные дубликаты. В результате не обнаружены.\n",
    "- Сделали проверку на неявные дубликаты и исправили. Были найдены несколько неявных дубликатов в цветах звезд. Привели цвета к нижнему регистру и удалили пробелы, тем самым исправили часть дубликатов. Затем пришлось изменить несколько названий одних и тех же цветов.\n",
    "    - blue white на blue-white.\n",
    "    - white-yellow на yellow-white.\n",
    "- Цвета pale yellow orange, orange и orange-red объединили в один цвет `orange` из-за малого количества их по отдельности.\n",
    "\n",
    "**3. Исследовательский анализ данных**\n",
    "\n",
    "Далее мы приступили к исследованию данных и оно проходило в два этапа:\n",
    "\n",
    "- Анализ категориальных данных.\n",
    "- Анализ количественных данных.\n",
    "\n",
    "*Для категориальных данных (цвет и тип) построили круговую диаграмму (`pie`) и `barplot`:*\n",
    "\n",
    "В результате в данных преобладают звезды трех цветов: `red` - 47.9%, `blue` - 32.1% и `white` - 10.8%. Первые два цвета составляют 80% данных. Все остальные цвета незначительные. Самые редкие цвета - `yellowish white` - 1.7%, `yellowish` - 2.1% и `orange` - 2.5%.\n",
    "\n",
    "По типу звезд данные имеют одинаковое соотношение - 16.7%\n",
    "\n",
    "*Для количественных данных:*\n",
    "\n",
    "Были построены диаграммы рассеяния и гистограммы распределений. По итогу их изучения, как и предполагалось ранее (по описательной статистике) были найдены редкие выбивающиеся значения, поэтому сделали упор эти значения. В трех столбцах такие значения были найдены. В результате был проведен более детальный анализ. По итогу все выбивающиеся значения не посчитали аномальными, так как эти редкие значения соответствуют редким звездам (огромным, ярким и т.п.) и такие звезды меньше изучены, отсюда и редкость. \n",
    "\n",
    "Также во время обучения отметили для себя, что на основе столбцов `radius` и `luminosity` можно создать новые категории, так как данные очень хорошо распределены на отдельные кластеры (для этого построили график Pair-plot). Все количественные признаки распределены ненормально, что также было проверено с помощью статистического теста Шапиро-Уилка и графика QQ-plot.\n",
    "\n",
    "**4. Подготовка данных к построению модели**\n",
    "\n",
    "Для подготовки данных заменили названия цветов цифрами, как сделано в столбце тип звезды.\n",
    "\n",
    "Чтобы сохранить редкие значения было принято решение создать два новых столбца `radius_cat` и `luminosity_cat`.\n",
    "\n",
    "Новый столбец по радиусу включал в себя две категории, если радиус < 250 то это будет `small` в противном случае `large`.\n",
    "\n",
    "Новый столбец по светимости включал в себя три категории, если светимость < 100000 то это будет `faintly bright`, больше 500000 то `Very bright` и в противном случае `bright`.\n",
    "\n",
    "Далее создали еще несколько новых столбцов, в которых за основу взяли метод `pd.factorize` и объединили радиус, светимость и магнитуду с типом звезды и ее цветом. В результате у нас получилось 6 новых признаков.\n",
    "\n",
    "И чтобы внести в данные нелинейность решили прологарифмировать наши количественные столбцы и создать на их основе новые столбцы. Для магнитуды возьмем значения по модулю, так как в нем пресутсвуют отрицательные значения, а следовательно логарифм взять не получить.\n",
    "\n",
    "Затем подготовили тренировочную и тестовую выборки. Целевой признак - `temperature`. Сделали масштабирование количественных данных методом `StandardScaler`, категориальные данные закодировали при помощи `OneHotEncoder` и затем перевели данные в тензор.\n",
    "\n",
    "**5. Построение базовой нейронной сети**\n",
    "\n",
    "Было перепробовано множество различных комбинаций скрытых слоев, количества нейронов в них и функций активаций. По итогу остановились на 2 скрытых слоях с 27 и 13 нейронами. Функция активации `ReLU`. Оценивали модель по метрике `RMSE` < 4500. Целевой признак температура (столбец temperature). \n",
    "\n",
    "Был cоздан класс архитектуры нейронной сети `StarNet` и написана функция `baseline` для обучения. Количество эпох - 1000. По итогу лучшее значение метрики `RMSE` было на 200 эпохе и составляло 11818. И был построен график \"Факт-Прогноз\".\n",
    "\n",
    "Было ясно, что такой результат вообще не удовлетворяет условиям задачи, поэтому необходимо улучшить нашу базовую модель.\n",
    "\n",
    "**6. Улучшение нейронной сети**\n",
    "\n",
    "Улучшать нейронную сеть решили при помощи перебора ее параметров. Архитектуру нейронной сети: количество слоёв, нейронов, вид функции активации и количество эпох — оставили как в `Baseline`, чтобы в дальнейшим сравнить их. Параметры для перебора:\n",
    "\n",
    "- Размер батча\n",
    "- Dropout\n",
    "\n",
    "Также был создан новый класс архитектуры нейронной сети. И написаны две функции для обучения модели и для оценки модели на тестовой выборке. В результате получили `RMSE` - 4497 при параметрах нейросети:\n",
    "\n",
    "- Размер батча - 40\n",
    "- Dropout - 0.4\n",
    "\n",
    "В конце также был построен график \"Факт-Прогноз\"\n",
    "\n",
    "**Вывод**\n",
    "\n",
    "Были обучены две нейронных сети. Результат сравнения сведен в таблицу.\n",
    "\n",
    "**Модель** | **Метрика RMSE** | **Количество эпох** | **Удовлетворяет условиям** | **Количество сильно отличающихся точек** |\n",
    ":------------- | :-------------: | :-----------: | :------------: | :-----------: |\n",
    "**Baseline** | 11818 |   200 |  ❌ | 15 |\n",
    "**ImprovedBaseline** | 4497 | 1000 |  ✅  | 10|\n",
    " Разница, %| 61.95 | 800 | 100 | 35|\n",
    " \n",
    "Достоинство работы заключается в том, что было достигнуто необходимое условие по метрике `RMSE`\n",
    "\n",
    "Недостатки работы в том, что метрика близка к минимально возможной. Так же видно, что модель плохо предсказывает температуру редких звезд.\n",
    "\n",
    "Как можно улучшить работу? Добиться уменьшения метрики, стоит добавить еще больше нелинейности в данные, либо увеличить количество скрытых слоев, либо же попытаться синтезировать значения, чтобы было больше данных для обучения."
   ]
  }
 ],
 "metadata": {
  "ExecuteTimeLog": [
   {
    "duration": 490,
    "start_time": "2024-07-29T10:35:55.599Z"
   },
   {
    "duration": 999,
    "start_time": "2024-07-29T10:36:01.991Z"
   },
   {
    "duration": 3,
    "start_time": "2024-07-29T10:37:59.269Z"
   },
   {
    "duration": 70,
    "start_time": "2024-07-29T10:38:46.352Z"
   },
   {
    "duration": 20,
    "start_time": "2024-07-29T10:39:02.969Z"
   },
   {
    "duration": 25,
    "start_time": "2024-07-29T10:39:20.693Z"
   },
   {
    "duration": 7,
    "start_time": "2024-07-29T10:39:21.216Z"
   },
   {
    "duration": 26,
    "start_time": "2024-07-29T10:39:28.012Z"
   },
   {
    "duration": 10,
    "start_time": "2024-07-29T10:39:28.337Z"
   },
   {
    "duration": 13,
    "start_time": "2024-07-29T10:40:41.362Z"
   },
   {
    "duration": 7,
    "start_time": "2024-07-29T10:42:47.162Z"
   },
   {
    "duration": 4,
    "start_time": "2024-07-29T10:42:54.335Z"
   },
   {
    "duration": 28,
    "start_time": "2024-07-29T10:44:16.423Z"
   },
   {
    "duration": 26,
    "start_time": "2024-07-29T10:46:45.965Z"
   },
   {
    "duration": 10,
    "start_time": "2024-07-29T10:46:50.466Z"
   },
   {
    "duration": 11,
    "start_time": "2024-07-29T10:46:53.959Z"
   },
   {
    "duration": 22,
    "start_time": "2024-07-29T10:46:56.277Z"
   },
   {
    "duration": 26,
    "start_time": "2024-07-29T11:00:58.586Z"
   },
   {
    "duration": 10,
    "start_time": "2024-07-29T11:00:59.356Z"
   },
   {
    "duration": 10,
    "start_time": "2024-07-29T11:00:59.772Z"
   },
   {
    "duration": 25,
    "start_time": "2024-07-29T11:01:00.583Z"
   },
   {
    "duration": 27,
    "start_time": "2024-07-29T11:04:57.203Z"
   },
   {
    "duration": 10,
    "start_time": "2024-07-29T11:04:58.086Z"
   },
   {
    "duration": 11,
    "start_time": "2024-07-29T11:04:58.502Z"
   },
   {
    "duration": 24,
    "start_time": "2024-07-29T11:04:59.166Z"
   },
   {
    "duration": 6,
    "start_time": "2024-07-29T11:13:44.069Z"
   },
   {
    "duration": 50,
    "start_time": "2024-07-29T11:16:18.308Z"
   },
   {
    "duration": 10,
    "start_time": "2024-07-29T11:16:24.117Z"
   },
   {
    "duration": 3,
    "start_time": "2024-07-29T11:16:27.984Z"
   },
   {
    "duration": 4,
    "start_time": "2024-07-29T11:18:20.553Z"
   },
   {
    "duration": 10,
    "start_time": "2024-07-29T11:18:29.396Z"
   },
   {
    "duration": 12,
    "start_time": "2024-07-29T11:18:32.119Z"
   },
   {
    "duration": 6,
    "start_time": "2024-07-29T11:18:40.038Z"
   },
   {
    "duration": 4,
    "start_time": "2024-07-29T11:19:41.915Z"
   },
   {
    "duration": 15,
    "start_time": "2024-07-29T11:20:21.268Z"
   },
   {
    "duration": 13,
    "start_time": "2024-07-29T11:20:24.621Z"
   },
   {
    "duration": 5,
    "start_time": "2024-07-29T11:20:35.894Z"
   },
   {
    "duration": 4,
    "start_time": "2024-07-29T11:20:55.547Z"
   },
   {
    "duration": 5,
    "start_time": "2024-07-29T11:21:21.918Z"
   },
   {
    "duration": 6,
    "start_time": "2024-07-29T11:21:24.213Z"
   },
   {
    "duration": 7,
    "start_time": "2024-07-29T11:22:33.874Z"
   },
   {
    "duration": 10,
    "start_time": "2024-07-29T11:28:35.142Z"
   },
   {
    "duration": 10,
    "start_time": "2024-07-29T11:28:37.403Z"
   },
   {
    "duration": 7,
    "start_time": "2024-07-29T11:28:41.711Z"
   },
   {
    "duration": 6,
    "start_time": "2024-07-29T11:34:50.438Z"
   },
   {
    "duration": 4,
    "start_time": "2024-07-29T11:35:40.704Z"
   },
   {
    "duration": 6,
    "start_time": "2024-07-29T11:35:56.304Z"
   },
   {
    "duration": 4,
    "start_time": "2024-07-29T11:36:03.354Z"
   },
   {
    "duration": 7,
    "start_time": "2024-07-29T11:37:01.111Z"
   },
   {
    "duration": 4,
    "start_time": "2024-07-29T11:41:31.065Z"
   },
   {
    "duration": 6,
    "start_time": "2024-07-29T11:41:59.232Z"
   },
   {
    "duration": 11,
    "start_time": "2024-07-29T11:48:07.839Z"
   },
   {
    "duration": 4,
    "start_time": "2024-07-29T11:48:21.178Z"
   },
   {
    "duration": 5,
    "start_time": "2024-07-29T11:48:23.798Z"
   },
   {
    "duration": 3,
    "start_time": "2024-07-29T11:50:16.695Z"
   },
   {
    "duration": 4,
    "start_time": "2024-07-29T11:50:21.599Z"
   },
   {
    "duration": 6,
    "start_time": "2024-07-29T11:50:29.688Z"
   },
   {
    "duration": 18,
    "start_time": "2024-07-29T12:29:54.607Z"
   },
   {
    "duration": 19,
    "start_time": "2024-07-29T12:30:05.781Z"
   },
   {
    "duration": 12,
    "start_time": "2024-07-29T12:30:09.951Z"
   },
   {
    "duration": 6,
    "start_time": "2024-07-29T12:30:16.717Z"
   },
   {
    "duration": 7,
    "start_time": "2024-07-29T12:30:28.001Z"
   },
   {
    "duration": 4,
    "start_time": "2024-07-29T12:30:33.971Z"
   },
   {
    "duration": 158,
    "start_time": "2024-07-29T12:30:37.766Z"
   },
   {
    "duration": 12,
    "start_time": "2024-07-29T12:30:43.787Z"
   },
   {
    "duration": 106,
    "start_time": "2024-07-29T12:30:49.867Z"
   },
   {
    "duration": 142,
    "start_time": "2024-07-29T12:30:52.402Z"
   },
   {
    "duration": 142,
    "start_time": "2024-07-29T12:31:02.020Z"
   },
   {
    "duration": 10,
    "start_time": "2024-07-29T12:31:09.267Z"
   },
   {
    "duration": 9,
    "start_time": "2024-07-29T12:31:11.911Z"
   },
   {
    "duration": 5,
    "start_time": "2024-07-29T12:31:26.968Z"
   },
   {
    "duration": 7,
    "start_time": "2024-07-29T12:31:41.679Z"
   },
   {
    "duration": 218,
    "start_time": "2024-07-29T12:43:58.566Z"
   },
   {
    "duration": 4,
    "start_time": "2024-07-29T12:44:13.474Z"
   },
   {
    "duration": 200,
    "start_time": "2024-07-29T12:44:20.807Z"
   },
   {
    "duration": 228,
    "start_time": "2024-07-29T12:44:33.898Z"
   },
   {
    "duration": 190,
    "start_time": "2024-07-29T12:47:24.119Z"
   },
   {
    "duration": 16,
    "start_time": "2024-07-29T12:47:32.709Z"
   },
   {
    "duration": 180,
    "start_time": "2024-07-29T12:47:37.223Z"
   },
   {
    "duration": 339,
    "start_time": "2024-07-29T12:48:11.983Z"
   },
   {
    "duration": 4,
    "start_time": "2024-07-29T12:48:24.679Z"
   },
   {
    "duration": 244,
    "start_time": "2024-07-29T12:48:25.562Z"
   },
   {
    "duration": 4,
    "start_time": "2024-07-29T12:50:50.540Z"
   },
   {
    "duration": 225,
    "start_time": "2024-07-29T12:54:25.148Z"
   },
   {
    "duration": 208,
    "start_time": "2024-07-29T12:54:30.236Z"
   },
   {
    "duration": 214,
    "start_time": "2024-07-29T12:54:37.025Z"
   },
   {
    "duration": 190,
    "start_time": "2024-07-29T12:55:01.935Z"
   },
   {
    "duration": 219,
    "start_time": "2024-07-29T12:57:15.183Z"
   },
   {
    "duration": 220,
    "start_time": "2024-07-29T12:57:23.365Z"
   },
   {
    "duration": 14,
    "start_time": "2024-07-29T12:57:34.324Z"
   },
   {
    "duration": 202,
    "start_time": "2024-07-29T12:57:46.556Z"
   },
   {
    "duration": 305,
    "start_time": "2024-07-29T12:57:52.803Z"
   },
   {
    "duration": 145,
    "start_time": "2024-07-29T12:58:01.195Z"
   },
   {
    "duration": 202,
    "start_time": "2024-07-29T12:58:11.957Z"
   },
   {
    "duration": 313,
    "start_time": "2024-07-29T12:59:15.749Z"
   },
   {
    "duration": 202,
    "start_time": "2024-07-29T12:59:33.405Z"
   },
   {
    "duration": 239,
    "start_time": "2024-07-29T13:00:02.404Z"
   },
   {
    "duration": 212,
    "start_time": "2024-07-29T13:00:20.837Z"
   },
   {
    "duration": 204,
    "start_time": "2024-07-29T13:01:44.521Z"
   },
   {
    "duration": 168,
    "start_time": "2024-07-29T13:02:21.540Z"
   },
   {
    "duration": 148,
    "start_time": "2024-07-29T13:02:28.998Z"
   },
   {
    "duration": 201,
    "start_time": "2024-07-29T13:02:41.069Z"
   },
   {
    "duration": 377,
    "start_time": "2024-07-29T13:04:36.792Z"
   },
   {
    "duration": 349,
    "start_time": "2024-07-29T13:04:48.882Z"
   },
   {
    "duration": 363,
    "start_time": "2024-07-29T13:05:09.704Z"
   },
   {
    "duration": 468,
    "start_time": "2024-07-29T13:05:13.140Z"
   },
   {
    "duration": 354,
    "start_time": "2024-07-29T13:05:16.888Z"
   },
   {
    "duration": 347,
    "start_time": "2024-07-29T13:05:21.762Z"
   },
   {
    "duration": 297,
    "start_time": "2024-07-29T13:05:30.237Z"
   },
   {
    "duration": 375,
    "start_time": "2024-07-29T13:05:50.294Z"
   },
   {
    "duration": 372,
    "start_time": "2024-07-29T13:06:38.674Z"
   },
   {
    "duration": 362,
    "start_time": "2024-07-29T13:07:18.352Z"
   },
   {
    "duration": 386,
    "start_time": "2024-07-29T13:07:25.731Z"
   },
   {
    "duration": 345,
    "start_time": "2024-07-29T13:07:40.351Z"
   },
   {
    "duration": 188,
    "start_time": "2024-07-29T13:11:29.072Z"
   },
   {
    "duration": 523,
    "start_time": "2024-07-29T13:11:39.019Z"
   },
   {
    "duration": 276,
    "start_time": "2024-07-29T13:11:52.043Z"
   },
   {
    "duration": 333,
    "start_time": "2024-07-29T13:12:09.777Z"
   },
   {
    "duration": 371,
    "start_time": "2024-07-29T13:12:21.717Z"
   },
   {
    "duration": 307,
    "start_time": "2024-07-29T13:13:07.841Z"
   },
   {
    "duration": 309,
    "start_time": "2024-07-29T13:13:45.224Z"
   },
   {
    "duration": 272,
    "start_time": "2024-07-29T13:13:55.319Z"
   },
   {
    "duration": 333,
    "start_time": "2024-07-29T13:14:29.867Z"
   },
   {
    "duration": 389,
    "start_time": "2024-07-29T13:14:57.017Z"
   },
   {
    "duration": 416,
    "start_time": "2024-07-29T13:15:05.853Z"
   },
   {
    "duration": 365,
    "start_time": "2024-07-29T13:15:15.679Z"
   },
   {
    "duration": 363,
    "start_time": "2024-07-29T13:15:26.133Z"
   },
   {
    "duration": 251,
    "start_time": "2024-07-29T13:15:30.912Z"
   },
   {
    "duration": 236,
    "start_time": "2024-07-29T13:15:35.477Z"
   },
   {
    "duration": 339,
    "start_time": "2024-07-29T13:16:49.460Z"
   },
   {
    "duration": 329,
    "start_time": "2024-07-29T13:16:59.129Z"
   },
   {
    "duration": 335,
    "start_time": "2024-07-29T13:17:03.382Z"
   },
   {
    "duration": 372,
    "start_time": "2024-07-29T13:17:11.478Z"
   },
   {
    "duration": 2,
    "start_time": "2024-07-29T13:22:59.311Z"
   },
   {
    "duration": 377,
    "start_time": "2024-07-29T13:23:45.066Z"
   },
   {
    "duration": 364,
    "start_time": "2024-07-29T13:26:08.813Z"
   },
   {
    "duration": 218,
    "start_time": "2024-07-29T13:26:12.461Z"
   },
   {
    "duration": 3,
    "start_time": "2024-07-29T13:38:50.432Z"
   },
   {
    "duration": 4,
    "start_time": "2024-07-29T13:39:32.097Z"
   },
   {
    "duration": 3,
    "start_time": "2024-07-29T13:39:48.397Z"
   },
   {
    "duration": 13,
    "start_time": "2024-07-29T13:40:02.566Z"
   },
   {
    "duration": 77,
    "start_time": "2024-07-29T13:47:43.417Z"
   },
   {
    "duration": 77,
    "start_time": "2024-07-29T13:48:01.367Z"
   },
   {
    "duration": 516,
    "start_time": "2024-07-29T13:48:26.365Z"
   },
   {
    "duration": 351,
    "start_time": "2024-07-29T13:48:29.718Z"
   },
   {
    "duration": 387,
    "start_time": "2024-07-29T13:48:36.702Z"
   },
   {
    "duration": 382,
    "start_time": "2024-07-29T13:48:41.348Z"
   },
   {
    "duration": 327,
    "start_time": "2024-07-29T13:48:46.317Z"
   },
   {
    "duration": 398,
    "start_time": "2024-07-29T13:48:49.533Z"
   },
   {
    "duration": 960,
    "start_time": "2024-07-29T15:14:29.816Z"
   },
   {
    "duration": 989,
    "start_time": "2024-07-29T15:14:53.885Z"
   },
   {
    "duration": 1092,
    "start_time": "2024-07-29T15:14:59.874Z"
   },
   {
    "duration": 1252,
    "start_time": "2024-07-29T15:19:54.706Z"
   },
   {
    "duration": 1067,
    "start_time": "2024-07-29T15:20:27.451Z"
   },
   {
    "duration": 1241,
    "start_time": "2024-07-29T15:20:44.050Z"
   },
   {
    "duration": 8,
    "start_time": "2024-07-29T15:21:29.675Z"
   },
   {
    "duration": 9,
    "start_time": "2024-07-29T15:21:45.194Z"
   },
   {
    "duration": 182,
    "start_time": "2024-07-29T15:21:58.707Z"
   },
   {
    "duration": 156,
    "start_time": "2024-07-29T15:22:21.823Z"
   },
   {
    "duration": 158,
    "start_time": "2024-07-29T15:22:32.180Z"
   },
   {
    "duration": 628,
    "start_time": "2024-07-29T15:25:55.638Z"
   },
   {
    "duration": 732,
    "start_time": "2024-07-29T15:26:12.333Z"
   },
   {
    "duration": 9,
    "start_time": "2024-07-29T15:30:46.080Z"
   },
   {
    "duration": 39,
    "start_time": "2024-07-29T15:31:14.677Z"
   },
   {
    "duration": 11,
    "start_time": "2024-07-29T15:31:54.721Z"
   },
   {
    "duration": 9,
    "start_time": "2024-07-29T15:32:20.876Z"
   },
   {
    "duration": 123,
    "start_time": "2024-07-29T15:33:10.927Z"
   },
   {
    "duration": 111,
    "start_time": "2024-07-29T15:33:32.473Z"
   },
   {
    "duration": 132,
    "start_time": "2024-07-29T15:33:49.903Z"
   },
   {
    "duration": 760,
    "start_time": "2024-07-29T15:35:56.532Z"
   },
   {
    "duration": 850,
    "start_time": "2024-07-29T15:36:44.618Z"
   },
   {
    "duration": 682,
    "start_time": "2024-07-29T15:36:48.698Z"
   },
   {
    "duration": 694,
    "start_time": "2024-07-29T15:36:58.804Z"
   },
   {
    "duration": 644,
    "start_time": "2024-07-29T15:37:13.476Z"
   },
   {
    "duration": 896,
    "start_time": "2024-07-29T15:37:17.109Z"
   },
   {
    "duration": 250,
    "start_time": "2024-07-29T15:38:05.606Z"
   },
   {
    "duration": 716,
    "start_time": "2024-07-29T15:38:36.265Z"
   },
   {
    "duration": 224,
    "start_time": "2024-07-29T15:38:48.033Z"
   },
   {
    "duration": 246,
    "start_time": "2024-07-29T15:39:00.060Z"
   },
   {
    "duration": 236,
    "start_time": "2024-07-29T15:39:13.108Z"
   },
   {
    "duration": 245,
    "start_time": "2024-07-29T15:40:46.700Z"
   },
   {
    "duration": 201,
    "start_time": "2024-07-29T15:41:38.605Z"
   },
   {
    "duration": 201,
    "start_time": "2024-07-29T15:41:49.323Z"
   },
   {
    "duration": 195,
    "start_time": "2024-07-29T15:41:53.776Z"
   },
   {
    "duration": 225,
    "start_time": "2024-07-29T15:42:07.496Z"
   },
   {
    "duration": 200,
    "start_time": "2024-07-29T15:42:14.259Z"
   },
   {
    "duration": 200,
    "start_time": "2024-07-29T15:42:19.561Z"
   },
   {
    "duration": 199,
    "start_time": "2024-07-29T15:42:23.229Z"
   },
   {
    "duration": 416,
    "start_time": "2024-07-29T15:42:27.176Z"
   },
   {
    "duration": 214,
    "start_time": "2024-07-29T15:43:08.590Z"
   },
   {
    "duration": 194,
    "start_time": "2024-07-29T15:43:17.663Z"
   },
   {
    "duration": 193,
    "start_time": "2024-07-29T15:46:57.016Z"
   },
   {
    "duration": 188,
    "start_time": "2024-07-29T15:47:13.762Z"
   },
   {
    "duration": 201,
    "start_time": "2024-07-29T15:47:53.395Z"
   },
   {
    "duration": 209,
    "start_time": "2024-07-29T15:48:05.774Z"
   },
   {
    "duration": 223,
    "start_time": "2024-07-29T15:48:16.836Z"
   },
   {
    "duration": 212,
    "start_time": "2024-07-29T15:48:21.237Z"
   },
   {
    "duration": 201,
    "start_time": "2024-07-29T15:48:40.175Z"
   },
   {
    "duration": 199,
    "start_time": "2024-07-29T15:48:43.251Z"
   },
   {
    "duration": 219,
    "start_time": "2024-07-29T15:48:52.545Z"
   },
   {
    "duration": 204,
    "start_time": "2024-07-29T15:48:54.477Z"
   },
   {
    "duration": 201,
    "start_time": "2024-07-29T15:48:59.226Z"
   },
   {
    "duration": 203,
    "start_time": "2024-07-29T15:49:09.933Z"
   },
   {
    "duration": 203,
    "start_time": "2024-07-29T15:49:17.071Z"
   },
   {
    "duration": 203,
    "start_time": "2024-07-29T15:49:28.892Z"
   },
   {
    "duration": 203,
    "start_time": "2024-07-29T15:49:32.691Z"
   },
   {
    "duration": 207,
    "start_time": "2024-07-29T15:49:35.605Z"
   },
   {
    "duration": 211,
    "start_time": "2024-07-29T15:49:38.206Z"
   },
   {
    "duration": 203,
    "start_time": "2024-07-29T15:49:42.378Z"
   },
   {
    "duration": 203,
    "start_time": "2024-07-29T15:49:46.257Z"
   },
   {
    "duration": 216,
    "start_time": "2024-07-29T15:49:53.619Z"
   },
   {
    "duration": 200,
    "start_time": "2024-07-29T15:50:04.980Z"
   },
   {
    "duration": 203,
    "start_time": "2024-07-29T15:50:17.093Z"
   },
   {
    "duration": 202,
    "start_time": "2024-07-29T15:50:21.005Z"
   },
   {
    "duration": 191,
    "start_time": "2024-07-29T15:50:26.161Z"
   },
   {
    "duration": 190,
    "start_time": "2024-07-29T15:50:29.925Z"
   },
   {
    "duration": 198,
    "start_time": "2024-07-29T15:50:37.368Z"
   },
   {
    "duration": 189,
    "start_time": "2024-07-29T15:50:47.900Z"
   },
   {
    "duration": 190,
    "start_time": "2024-07-29T15:50:53.855Z"
   },
   {
    "duration": 425,
    "start_time": "2024-07-29T15:50:57.080Z"
   },
   {
    "duration": 221,
    "start_time": "2024-07-29T15:51:00.860Z"
   },
   {
    "duration": 221,
    "start_time": "2024-07-29T15:51:06.785Z"
   },
   {
    "duration": 209,
    "start_time": "2024-07-29T15:51:11.237Z"
   },
   {
    "duration": 192,
    "start_time": "2024-07-29T15:53:12.622Z"
   },
   {
    "duration": 191,
    "start_time": "2024-07-29T15:53:15.469Z"
   },
   {
    "duration": 194,
    "start_time": "2024-07-29T15:53:18.087Z"
   },
   {
    "duration": 204,
    "start_time": "2024-07-29T15:53:23.521Z"
   },
   {
    "duration": 204,
    "start_time": "2024-07-29T15:53:33.845Z"
   },
   {
    "duration": 193,
    "start_time": "2024-07-29T15:53:42.319Z"
   },
   {
    "duration": 210,
    "start_time": "2024-07-29T15:53:48.489Z"
   },
   {
    "duration": 223,
    "start_time": "2024-07-29T15:53:53.429Z"
   },
   {
    "duration": 204,
    "start_time": "2024-07-29T15:53:58.927Z"
   },
   {
    "duration": 226,
    "start_time": "2024-07-29T15:54:02.805Z"
   },
   {
    "duration": 209,
    "start_time": "2024-07-29T15:54:08.024Z"
   },
   {
    "duration": 236,
    "start_time": "2024-07-29T15:54:15.959Z"
   },
   {
    "duration": 210,
    "start_time": "2024-07-29T15:54:24.189Z"
   },
   {
    "duration": 241,
    "start_time": "2024-07-29T15:54:30.783Z"
   },
   {
    "duration": 207,
    "start_time": "2024-07-29T15:54:34.366Z"
   },
   {
    "duration": 206,
    "start_time": "2024-07-29T15:54:40.516Z"
   },
   {
    "duration": 211,
    "start_time": "2024-07-29T15:54:44.017Z"
   },
   {
    "duration": 207,
    "start_time": "2024-07-29T15:54:53.734Z"
   },
   {
    "duration": 200,
    "start_time": "2024-07-29T15:54:58.232Z"
   },
   {
    "duration": 205,
    "start_time": "2024-07-29T15:55:12.514Z"
   },
   {
    "duration": 205,
    "start_time": "2024-07-29T15:55:24.341Z"
   },
   {
    "duration": 210,
    "start_time": "2024-07-29T15:55:27.971Z"
   },
   {
    "duration": 208,
    "start_time": "2024-07-29T15:55:37.361Z"
   },
   {
    "duration": 200,
    "start_time": "2024-07-29T15:55:42.040Z"
   },
   {
    "duration": 222,
    "start_time": "2024-07-29T15:57:18.949Z"
   },
   {
    "duration": 229,
    "start_time": "2024-07-29T15:57:49.301Z"
   },
   {
    "duration": 233,
    "start_time": "2024-07-29T15:57:55.896Z"
   },
   {
    "duration": 514,
    "start_time": "2024-07-29T15:59:44.046Z"
   },
   {
    "duration": 180,
    "start_time": "2024-07-29T15:59:53.722Z"
   },
   {
    "duration": 237,
    "start_time": "2024-07-29T15:59:59.990Z"
   },
   {
    "duration": 225,
    "start_time": "2024-07-29T16:03:17.463Z"
   },
   {
    "duration": 3,
    "start_time": "2024-07-29T16:09:52.550Z"
   },
   {
    "duration": 73,
    "start_time": "2024-07-29T16:09:52.555Z"
   },
   {
    "duration": 42,
    "start_time": "2024-07-29T16:09:52.629Z"
   },
   {
    "duration": 127,
    "start_time": "2024-07-29T16:09:52.673Z"
   },
   {
    "duration": 12,
    "start_time": "2024-07-29T16:09:52.802Z"
   },
   {
    "duration": 31,
    "start_time": "2024-07-29T16:09:52.816Z"
   },
   {
    "duration": 36,
    "start_time": "2024-07-29T16:09:52.849Z"
   },
   {
    "duration": 1038,
    "start_time": "2024-07-29T16:09:52.887Z"
   },
   {
    "duration": 0,
    "start_time": "2024-07-29T16:09:53.927Z"
   },
   {
    "duration": 0,
    "start_time": "2024-07-29T16:09:53.928Z"
   },
   {
    "duration": 0,
    "start_time": "2024-07-29T16:09:53.929Z"
   },
   {
    "duration": 0,
    "start_time": "2024-07-29T16:09:53.930Z"
   },
   {
    "duration": 0,
    "start_time": "2024-07-29T16:09:53.932Z"
   },
   {
    "duration": 0,
    "start_time": "2024-07-29T16:09:53.933Z"
   },
   {
    "duration": 1,
    "start_time": "2024-07-29T16:09:53.933Z"
   },
   {
    "duration": 0,
    "start_time": "2024-07-29T16:09:53.934Z"
   },
   {
    "duration": 0,
    "start_time": "2024-07-29T16:09:53.935Z"
   },
   {
    "duration": 0,
    "start_time": "2024-07-29T16:09:53.936Z"
   },
   {
    "duration": 0,
    "start_time": "2024-07-29T16:09:53.937Z"
   },
   {
    "duration": 0,
    "start_time": "2024-07-29T16:09:53.939Z"
   },
   {
    "duration": 0,
    "start_time": "2024-07-29T16:09:53.940Z"
   },
   {
    "duration": 0,
    "start_time": "2024-07-29T16:09:53.941Z"
   },
   {
    "duration": 0,
    "start_time": "2024-07-29T16:09:53.941Z"
   },
   {
    "duration": 0,
    "start_time": "2024-07-29T16:09:53.943Z"
   },
   {
    "duration": 1,
    "start_time": "2024-07-29T16:09:53.943Z"
   },
   {
    "duration": 0,
    "start_time": "2024-07-29T16:09:53.944Z"
   },
   {
    "duration": 1,
    "start_time": "2024-07-29T16:09:53.945Z"
   },
   {
    "duration": 7,
    "start_time": "2024-07-29T16:10:15.563Z"
   },
   {
    "duration": 1166,
    "start_time": "2024-07-29T16:10:28.859Z"
   },
   {
    "duration": 5,
    "start_time": "2024-07-29T16:10:30.027Z"
   },
   {
    "duration": 94,
    "start_time": "2024-07-29T16:10:30.034Z"
   },
   {
    "duration": 89,
    "start_time": "2024-07-29T16:10:30.130Z"
   },
   {
    "duration": 41,
    "start_time": "2024-07-29T16:10:30.223Z"
   },
   {
    "duration": 71,
    "start_time": "2024-07-29T16:10:30.267Z"
   },
   {
    "duration": 85,
    "start_time": "2024-07-29T16:10:30.340Z"
   },
   {
    "duration": 63,
    "start_time": "2024-07-29T16:10:30.427Z"
   },
   {
    "duration": 135,
    "start_time": "2024-07-29T16:10:30.492Z"
   },
   {
    "duration": 144,
    "start_time": "2024-07-29T16:10:30.629Z"
   },
   {
    "duration": 43,
    "start_time": "2024-07-29T16:10:30.774Z"
   },
   {
    "duration": 67,
    "start_time": "2024-07-29T16:10:30.819Z"
   },
   {
    "duration": 168,
    "start_time": "2024-07-29T16:10:30.888Z"
   },
   {
    "duration": 79,
    "start_time": "2024-07-29T16:10:31.058Z"
   },
   {
    "duration": 215,
    "start_time": "2024-07-29T16:10:31.138Z"
   },
   {
    "duration": 62,
    "start_time": "2024-07-29T16:10:31.354Z"
   },
   {
    "duration": 78,
    "start_time": "2024-07-29T16:10:31.418Z"
   },
   {
    "duration": 43,
    "start_time": "2024-07-29T16:10:31.497Z"
   },
   {
    "duration": 30,
    "start_time": "2024-07-29T16:10:31.541Z"
   },
   {
    "duration": 69,
    "start_time": "2024-07-29T16:10:31.572Z"
   },
   {
    "duration": 501,
    "start_time": "2024-07-29T16:10:31.642Z"
   },
   {
    "duration": 359,
    "start_time": "2024-07-29T16:10:32.145Z"
   },
   {
    "duration": 0,
    "start_time": "2024-07-29T16:10:32.506Z"
   },
   {
    "duration": 0,
    "start_time": "2024-07-29T16:10:32.507Z"
   },
   {
    "duration": 0,
    "start_time": "2024-07-29T16:10:32.508Z"
   },
   {
    "duration": 0,
    "start_time": "2024-07-29T16:10:32.509Z"
   },
   {
    "duration": 0,
    "start_time": "2024-07-29T16:10:32.511Z"
   },
   {
    "duration": 7,
    "start_time": "2024-07-29T16:10:59.615Z"
   },
   {
    "duration": 225,
    "start_time": "2024-07-29T16:11:03.279Z"
   },
   {
    "duration": 455,
    "start_time": "2024-07-29T16:11:05.475Z"
   },
   {
    "duration": 5,
    "start_time": "2024-07-29T16:11:08.239Z"
   },
   {
    "duration": 218,
    "start_time": "2024-07-29T16:11:11.151Z"
   },
   {
    "duration": 231,
    "start_time": "2024-07-29T16:11:13.703Z"
   },
   {
    "duration": 219,
    "start_time": "2024-07-29T16:12:14.497Z"
   },
   {
    "duration": 289,
    "start_time": "2024-07-29T16:12:21.026Z"
   },
   {
    "duration": 220,
    "start_time": "2024-07-29T16:12:26.572Z"
   },
   {
    "duration": 212,
    "start_time": "2024-07-29T16:12:32.593Z"
   },
   {
    "duration": 210,
    "start_time": "2024-07-29T16:12:36.193Z"
   },
   {
    "duration": 220,
    "start_time": "2024-07-29T16:12:40.464Z"
   },
   {
    "duration": 220,
    "start_time": "2024-07-29T16:12:45.093Z"
   },
   {
    "duration": 258,
    "start_time": "2024-07-29T16:13:08.663Z"
   },
   {
    "duration": 213,
    "start_time": "2024-07-29T16:13:15.678Z"
   },
   {
    "duration": 215,
    "start_time": "2024-07-29T16:13:24.445Z"
   },
   {
    "duration": 217,
    "start_time": "2024-07-29T16:13:28.859Z"
   },
   {
    "duration": 220,
    "start_time": "2024-07-29T16:13:31.949Z"
   },
   {
    "duration": 320,
    "start_time": "2024-07-29T16:14:04.635Z"
   },
   {
    "duration": 212,
    "start_time": "2024-07-29T16:14:17.607Z"
   },
   {
    "duration": 198,
    "start_time": "2024-07-29T16:14:49.238Z"
   },
   {
    "duration": 255,
    "start_time": "2024-07-29T16:14:55.909Z"
   },
   {
    "duration": 200,
    "start_time": "2024-07-29T16:20:33.200Z"
   },
   {
    "duration": 208,
    "start_time": "2024-07-29T16:20:46.459Z"
   },
   {
    "duration": 199,
    "start_time": "2024-07-29T16:20:50.600Z"
   },
   {
    "duration": 195,
    "start_time": "2024-07-29T16:20:54.235Z"
   },
   {
    "duration": 204,
    "start_time": "2024-07-29T16:20:57.002Z"
   },
   {
    "duration": 206,
    "start_time": "2024-07-29T16:21:24.074Z"
   },
   {
    "duration": 218,
    "start_time": "2024-07-29T16:21:42.087Z"
   },
   {
    "duration": 205,
    "start_time": "2024-07-29T16:21:46.684Z"
   },
   {
    "duration": 297,
    "start_time": "2024-07-29T16:22:09.051Z"
   },
   {
    "duration": 218,
    "start_time": "2024-07-29T16:22:14.164Z"
   },
   {
    "duration": 198,
    "start_time": "2024-07-29T16:22:35.621Z"
   },
   {
    "duration": 213,
    "start_time": "2024-07-29T16:22:40.875Z"
   },
   {
    "duration": 201,
    "start_time": "2024-07-29T16:22:48.324Z"
   },
   {
    "duration": 194,
    "start_time": "2024-07-29T16:22:51.480Z"
   },
   {
    "duration": 227,
    "start_time": "2024-07-29T16:22:54.767Z"
   },
   {
    "duration": 196,
    "start_time": "2024-07-29T16:22:58.167Z"
   },
   {
    "duration": 191,
    "start_time": "2024-07-29T16:23:27.648Z"
   },
   {
    "duration": 208,
    "start_time": "2024-07-29T16:23:31.658Z"
   },
   {
    "duration": 224,
    "start_time": "2024-07-29T16:23:35.652Z"
   },
   {
    "duration": 192,
    "start_time": "2024-07-29T16:23:40.236Z"
   },
   {
    "duration": 285,
    "start_time": "2024-07-29T16:23:46.146Z"
   },
   {
    "duration": 223,
    "start_time": "2024-07-29T16:23:50.794Z"
   },
   {
    "duration": 209,
    "start_time": "2024-07-29T16:25:14.274Z"
   },
   {
    "duration": 221,
    "start_time": "2024-07-29T16:25:29.393Z"
   },
   {
    "duration": 208,
    "start_time": "2024-07-29T16:25:35.335Z"
   },
   {
    "duration": 200,
    "start_time": "2024-07-29T16:25:59.873Z"
   },
   {
    "duration": 215,
    "start_time": "2024-07-29T16:26:11.104Z"
   },
   {
    "duration": 198,
    "start_time": "2024-07-29T16:26:17.285Z"
   },
   {
    "duration": 199,
    "start_time": "2024-07-29T16:26:24.270Z"
   },
   {
    "duration": 204,
    "start_time": "2024-07-29T16:26:32.041Z"
   },
   {
    "duration": 228,
    "start_time": "2024-07-29T16:26:40.797Z"
   },
   {
    "duration": 203,
    "start_time": "2024-07-29T16:26:45.592Z"
   },
   {
    "duration": 299,
    "start_time": "2024-07-29T16:26:53.346Z"
   },
   {
    "duration": 238,
    "start_time": "2024-07-29T16:26:55.983Z"
   },
   {
    "duration": 230,
    "start_time": "2024-07-29T16:27:32.636Z"
   },
   {
    "duration": 236,
    "start_time": "2024-07-29T16:27:36.747Z"
   },
   {
    "duration": 219,
    "start_time": "2024-07-29T16:27:40.035Z"
   },
   {
    "duration": 202,
    "start_time": "2024-07-29T16:29:52.467Z"
   },
   {
    "duration": 214,
    "start_time": "2024-07-29T16:29:57.608Z"
   },
   {
    "duration": 1023,
    "start_time": "2024-07-29T16:30:47.323Z"
   },
   {
    "duration": 11,
    "start_time": "2024-07-29T16:36:12.585Z"
   },
   {
    "duration": 3,
    "start_time": "2024-07-29T16:36:15.807Z"
   },
   {
    "duration": 75,
    "start_time": "2024-07-29T16:40:10.484Z"
   },
   {
    "duration": 61,
    "start_time": "2024-07-29T16:40:17.664Z"
   },
   {
    "duration": 81,
    "start_time": "2024-07-29T16:40:20.987Z"
   },
   {
    "duration": 70,
    "start_time": "2024-07-29T16:40:29.152Z"
   },
   {
    "duration": 63,
    "start_time": "2024-07-29T16:40:33.343Z"
   },
   {
    "duration": 61,
    "start_time": "2024-07-29T16:40:47.137Z"
   },
   {
    "duration": 58,
    "start_time": "2024-07-29T16:40:51.162Z"
   },
   {
    "duration": 3,
    "start_time": "2024-07-29T16:41:09.472Z"
   },
   {
    "duration": 81,
    "start_time": "2024-07-29T16:41:19.813Z"
   },
   {
    "duration": 75,
    "start_time": "2024-07-29T16:41:27.174Z"
   },
   {
    "duration": 60,
    "start_time": "2024-07-29T16:41:31.492Z"
   },
   {
    "duration": 99,
    "start_time": "2024-07-29T16:41:39.935Z"
   },
   {
    "duration": 4,
    "start_time": "2024-07-29T16:42:15.110Z"
   },
   {
    "duration": 10,
    "start_time": "2024-07-29T16:43:04.776Z"
   },
   {
    "duration": 3,
    "start_time": "2024-07-29T16:43:09.949Z"
   },
   {
    "duration": 12,
    "start_time": "2024-07-29T16:43:17.033Z"
   },
   {
    "duration": 3,
    "start_time": "2024-07-29T16:45:01.137Z"
   },
   {
    "duration": 13,
    "start_time": "2024-07-29T16:45:05.341Z"
   },
   {
    "duration": 3,
    "start_time": "2024-07-29T16:45:52.774Z"
   },
   {
    "duration": 4,
    "start_time": "2024-07-29T16:45:58.690Z"
   },
   {
    "duration": 4,
    "start_time": "2024-07-29T16:46:06.773Z"
   },
   {
    "duration": 3,
    "start_time": "2024-07-29T16:46:16.850Z"
   },
   {
    "duration": 4,
    "start_time": "2024-07-29T16:46:19.777Z"
   },
   {
    "duration": 4,
    "start_time": "2024-07-29T16:46:34.234Z"
   },
   {
    "duration": 4,
    "start_time": "2024-07-29T16:46:47.494Z"
   },
   {
    "duration": 5,
    "start_time": "2024-07-29T16:47:03.232Z"
   },
   {
    "duration": 315,
    "start_time": "2024-07-29T16:50:36.842Z"
   },
   {
    "duration": 384,
    "start_time": "2024-07-29T16:51:02.182Z"
   },
   {
    "duration": 374,
    "start_time": "2024-07-29T16:51:13.782Z"
   },
   {
    "duration": 425,
    "start_time": "2024-07-29T16:52:00.252Z"
   },
   {
    "duration": 412,
    "start_time": "2024-07-29T16:52:06.132Z"
   },
   {
    "duration": 367,
    "start_time": "2024-07-29T16:52:12.323Z"
   },
   {
    "duration": 357,
    "start_time": "2024-07-29T16:52:21.758Z"
   },
   {
    "duration": 358,
    "start_time": "2024-07-29T16:52:42.463Z"
   },
   {
    "duration": 1546,
    "start_time": "2024-07-30T08:51:05.421Z"
   },
   {
    "duration": 7,
    "start_time": "2024-07-30T08:51:06.974Z"
   },
   {
    "duration": 9,
    "start_time": "2024-07-30T08:51:06.983Z"
   },
   {
    "duration": 13,
    "start_time": "2024-07-30T08:51:06.993Z"
   },
   {
    "duration": 15,
    "start_time": "2024-07-30T08:51:07.009Z"
   },
   {
    "duration": 73,
    "start_time": "2024-07-30T08:51:07.026Z"
   },
   {
    "duration": 14,
    "start_time": "2024-07-30T08:51:07.101Z"
   },
   {
    "duration": 14,
    "start_time": "2024-07-30T08:51:07.117Z"
   },
   {
    "duration": 52,
    "start_time": "2024-07-30T08:51:07.133Z"
   },
   {
    "duration": 8,
    "start_time": "2024-07-30T08:51:07.188Z"
   },
   {
    "duration": 9,
    "start_time": "2024-07-30T08:51:07.198Z"
   },
   {
    "duration": 8,
    "start_time": "2024-07-30T08:51:07.209Z"
   },
   {
    "duration": 8,
    "start_time": "2024-07-30T08:51:07.218Z"
   },
   {
    "duration": 28,
    "start_time": "2024-07-30T08:51:07.229Z"
   },
   {
    "duration": 11,
    "start_time": "2024-07-30T08:51:07.260Z"
   },
   {
    "duration": 7,
    "start_time": "2024-07-30T08:51:07.273Z"
   },
   {
    "duration": 6,
    "start_time": "2024-07-30T08:51:07.283Z"
   },
   {
    "duration": 34,
    "start_time": "2024-07-30T08:51:07.290Z"
   },
   {
    "duration": 18,
    "start_time": "2024-07-30T08:51:07.325Z"
   },
   {
    "duration": 14,
    "start_time": "2024-07-30T08:51:07.345Z"
   },
   {
    "duration": 7,
    "start_time": "2024-07-30T08:51:07.362Z"
   },
   {
    "duration": 8,
    "start_time": "2024-07-30T08:51:07.372Z"
   },
   {
    "duration": 413,
    "start_time": "2024-07-30T08:51:07.382Z"
   },
   {
    "duration": 244,
    "start_time": "2024-07-30T08:51:07.797Z"
   },
   {
    "duration": 467,
    "start_time": "2024-07-30T08:51:08.042Z"
   },
   {
    "duration": 260,
    "start_time": "2024-07-30T08:51:08.511Z"
   },
   {
    "duration": 273,
    "start_time": "2024-07-30T08:51:08.774Z"
   },
   {
    "duration": 258,
    "start_time": "2024-07-30T08:51:09.050Z"
   },
   {
    "duration": 1387,
    "start_time": "2024-07-30T08:51:09.310Z"
   },
   {
    "duration": 4,
    "start_time": "2024-07-30T08:51:10.698Z"
   },
   {
    "duration": 7,
    "start_time": "2024-07-30T08:51:10.704Z"
   },
   {
    "duration": 6,
    "start_time": "2024-07-30T08:51:10.713Z"
   },
   {
    "duration": 5,
    "start_time": "2024-07-30T08:51:10.720Z"
   },
   {
    "duration": 310,
    "start_time": "2024-07-30T09:11:38.656Z"
   },
   {
    "duration": 591,
    "start_time": "2024-07-30T09:15:31.768Z"
   },
   {
    "duration": 4,
    "start_time": "2024-07-30T09:15:33.088Z"
   },
   {
    "duration": 3,
    "start_time": "2024-07-30T09:22:04.168Z"
   },
   {
    "duration": 4,
    "start_time": "2024-07-30T09:22:34.866Z"
   },
   {
    "duration": 6,
    "start_time": "2024-07-30T09:22:35.535Z"
   },
   {
    "duration": 327,
    "start_time": "2024-07-30T09:22:55.093Z"
   },
   {
    "duration": 1815,
    "start_time": "2024-07-30T09:23:24.257Z"
   },
   {
    "duration": 5,
    "start_time": "2024-07-30T09:23:26.074Z"
   },
   {
    "duration": 77,
    "start_time": "2024-07-30T09:23:26.080Z"
   },
   {
    "duration": 19,
    "start_time": "2024-07-30T09:23:26.159Z"
   },
   {
    "duration": 17,
    "start_time": "2024-07-30T09:23:26.180Z"
   },
   {
    "duration": 124,
    "start_time": "2024-07-30T09:23:26.199Z"
   },
   {
    "duration": 13,
    "start_time": "2024-07-30T09:23:26.325Z"
   },
   {
    "duration": 21,
    "start_time": "2024-07-30T09:23:26.340Z"
   },
   {
    "duration": 63,
    "start_time": "2024-07-30T09:23:26.363Z"
   },
   {
    "duration": 17,
    "start_time": "2024-07-30T09:23:26.428Z"
   },
   {
    "duration": 25,
    "start_time": "2024-07-30T09:23:26.447Z"
   },
   {
    "duration": 17,
    "start_time": "2024-07-30T09:23:26.474Z"
   },
   {
    "duration": 19,
    "start_time": "2024-07-30T09:23:26.493Z"
   },
   {
    "duration": 21,
    "start_time": "2024-07-30T09:23:26.515Z"
   },
   {
    "duration": 10,
    "start_time": "2024-07-30T09:23:26.538Z"
   },
   {
    "duration": 20,
    "start_time": "2024-07-30T09:23:26.550Z"
   },
   {
    "duration": 26,
    "start_time": "2024-07-30T09:23:26.572Z"
   },
   {
    "duration": 24,
    "start_time": "2024-07-30T09:23:26.600Z"
   },
   {
    "duration": 23,
    "start_time": "2024-07-30T09:23:26.625Z"
   },
   {
    "duration": 9,
    "start_time": "2024-07-30T09:23:26.649Z"
   },
   {
    "duration": 16,
    "start_time": "2024-07-30T09:23:26.660Z"
   },
   {
    "duration": 35,
    "start_time": "2024-07-30T09:23:26.677Z"
   },
   {
    "duration": 20,
    "start_time": "2024-07-30T09:23:26.713Z"
   },
   {
    "duration": 28,
    "start_time": "2024-07-30T09:23:26.734Z"
   },
   {
    "duration": 31,
    "start_time": "2024-07-30T09:23:26.764Z"
   },
   {
    "duration": 388,
    "start_time": "2024-07-30T09:23:26.796Z"
   },
   {
    "duration": 250,
    "start_time": "2024-07-30T09:23:27.185Z"
   },
   {
    "duration": 459,
    "start_time": "2024-07-30T09:23:27.437Z"
   },
   {
    "duration": 238,
    "start_time": "2024-07-30T09:23:27.898Z"
   },
   {
    "duration": 227,
    "start_time": "2024-07-30T09:23:28.138Z"
   },
   {
    "duration": 216,
    "start_time": "2024-07-30T09:23:28.366Z"
   },
   {
    "duration": 1241,
    "start_time": "2024-07-30T09:23:28.584Z"
   },
   {
    "duration": 4,
    "start_time": "2024-07-30T09:23:29.827Z"
   },
   {
    "duration": 28,
    "start_time": "2024-07-30T09:23:29.833Z"
   },
   {
    "duration": 18,
    "start_time": "2024-07-30T09:23:29.863Z"
   },
   {
    "duration": 41,
    "start_time": "2024-07-30T09:23:29.882Z"
   },
   {
    "duration": 10,
    "start_time": "2024-07-30T09:24:40.245Z"
   },
   {
    "duration": 3,
    "start_time": "2024-07-30T09:27:26.641Z"
   },
   {
    "duration": 1891,
    "start_time": "2024-07-30T09:27:32.438Z"
   },
   {
    "duration": 5,
    "start_time": "2024-07-30T09:27:34.331Z"
   },
   {
    "duration": 8,
    "start_time": "2024-07-30T09:27:34.338Z"
   },
   {
    "duration": 20,
    "start_time": "2024-07-30T09:27:34.355Z"
   },
   {
    "duration": 24,
    "start_time": "2024-07-30T09:27:34.377Z"
   },
   {
    "duration": 119,
    "start_time": "2024-07-30T09:27:34.403Z"
   },
   {
    "duration": 13,
    "start_time": "2024-07-30T09:27:34.524Z"
   },
   {
    "duration": 22,
    "start_time": "2024-07-30T09:27:34.539Z"
   },
   {
    "duration": 24,
    "start_time": "2024-07-30T09:27:34.563Z"
   },
   {
    "duration": 7,
    "start_time": "2024-07-30T09:27:34.589Z"
   },
   {
    "duration": 6,
    "start_time": "2024-07-30T09:27:34.597Z"
   },
   {
    "duration": 21,
    "start_time": "2024-07-30T09:27:34.604Z"
   },
   {
    "duration": 36,
    "start_time": "2024-07-30T09:27:34.627Z"
   },
   {
    "duration": 11,
    "start_time": "2024-07-30T09:27:34.667Z"
   },
   {
    "duration": 8,
    "start_time": "2024-07-30T09:27:34.680Z"
   },
   {
    "duration": 7,
    "start_time": "2024-07-30T09:27:34.690Z"
   },
   {
    "duration": 15,
    "start_time": "2024-07-30T09:27:34.699Z"
   },
   {
    "duration": 7,
    "start_time": "2024-07-30T09:27:34.715Z"
   },
   {
    "duration": 7,
    "start_time": "2024-07-30T09:27:34.724Z"
   },
   {
    "duration": 25,
    "start_time": "2024-07-30T09:27:34.732Z"
   },
   {
    "duration": 13,
    "start_time": "2024-07-30T09:27:34.759Z"
   },
   {
    "duration": 12,
    "start_time": "2024-07-30T09:27:34.774Z"
   },
   {
    "duration": 9,
    "start_time": "2024-07-30T09:27:34.788Z"
   },
   {
    "duration": 5,
    "start_time": "2024-07-30T09:27:34.799Z"
   },
   {
    "duration": 13,
    "start_time": "2024-07-30T09:27:34.805Z"
   },
   {
    "duration": 66,
    "start_time": "2024-07-30T09:27:34.819Z"
   },
   {
    "duration": 400,
    "start_time": "2024-07-30T09:27:34.888Z"
   },
   {
    "duration": 254,
    "start_time": "2024-07-30T09:27:35.290Z"
   },
   {
    "duration": 441,
    "start_time": "2024-07-30T09:27:35.545Z"
   },
   {
    "duration": 286,
    "start_time": "2024-07-30T09:27:35.988Z"
   },
   {
    "duration": 487,
    "start_time": "2024-07-30T09:27:36.276Z"
   },
   {
    "duration": 418,
    "start_time": "2024-07-30T09:27:36.765Z"
   },
   {
    "duration": 1520,
    "start_time": "2024-07-30T09:27:37.185Z"
   },
   {
    "duration": 4,
    "start_time": "2024-07-30T09:27:38.707Z"
   },
   {
    "duration": 23,
    "start_time": "2024-07-30T09:27:38.714Z"
   },
   {
    "duration": 14,
    "start_time": "2024-07-30T09:27:38.739Z"
   },
   {
    "duration": 15,
    "start_time": "2024-07-30T09:27:38.755Z"
   },
   {
    "duration": 7,
    "start_time": "2024-07-30T09:31:08.079Z"
   },
   {
    "duration": 64,
    "start_time": "2024-07-30T09:31:23.442Z"
   },
   {
    "duration": 4,
    "start_time": "2024-07-30T09:31:29.907Z"
   },
   {
    "duration": 139,
    "start_time": "2024-07-30T09:31:39.972Z"
   },
   {
    "duration": 4,
    "start_time": "2024-07-30T09:31:46.599Z"
   },
   {
    "duration": 5,
    "start_time": "2024-07-30T09:32:40.735Z"
   },
   {
    "duration": 3,
    "start_time": "2024-07-30T09:35:13.107Z"
   },
   {
    "duration": 4,
    "start_time": "2024-07-30T09:35:18.658Z"
   },
   {
    "duration": 5,
    "start_time": "2024-07-30T09:36:36.080Z"
   },
   {
    "duration": 5,
    "start_time": "2024-07-30T09:37:12.996Z"
   },
   {
    "duration": 6,
    "start_time": "2024-07-30T09:37:43.128Z"
   },
   {
    "duration": 6,
    "start_time": "2024-07-30T09:37:46.907Z"
   },
   {
    "duration": 6,
    "start_time": "2024-07-30T09:37:53.370Z"
   },
   {
    "duration": 14,
    "start_time": "2024-07-30T09:49:35.069Z"
   },
   {
    "duration": 8,
    "start_time": "2024-07-30T09:51:45.623Z"
   },
   {
    "duration": 9,
    "start_time": "2024-07-30T09:52:25.201Z"
   },
   {
    "duration": 6,
    "start_time": "2024-07-30T09:53:21.087Z"
   },
   {
    "duration": 6,
    "start_time": "2024-07-30T09:53:26.081Z"
   },
   {
    "duration": 7,
    "start_time": "2024-07-30T10:02:04.126Z"
   },
   {
    "duration": 6,
    "start_time": "2024-07-30T10:02:18.247Z"
   },
   {
    "duration": 6,
    "start_time": "2024-07-30T10:02:27.317Z"
   },
   {
    "duration": 20,
    "start_time": "2024-07-30T10:04:09.861Z"
   },
   {
    "duration": 15,
    "start_time": "2024-07-30T10:04:18.503Z"
   },
   {
    "duration": 15,
    "start_time": "2024-07-30T10:04:38.438Z"
   },
   {
    "duration": 15,
    "start_time": "2024-07-30T10:04:46.161Z"
   },
   {
    "duration": 14,
    "start_time": "2024-07-30T10:04:54.722Z"
   },
   {
    "duration": 6,
    "start_time": "2024-07-30T10:06:00.179Z"
   },
   {
    "duration": 7,
    "start_time": "2024-07-30T10:06:00.849Z"
   },
   {
    "duration": 6,
    "start_time": "2024-07-30T10:09:22.284Z"
   },
   {
    "duration": 14,
    "start_time": "2024-07-30T10:09:51.489Z"
   },
   {
    "duration": 4,
    "start_time": "2024-07-30T10:09:54.106Z"
   },
   {
    "duration": 3,
    "start_time": "2024-07-30T10:13:00.881Z"
   },
   {
    "duration": 6,
    "start_time": "2024-07-30T10:13:07.427Z"
   },
   {
    "duration": 4,
    "start_time": "2024-07-30T10:13:49.649Z"
   },
   {
    "duration": 4,
    "start_time": "2024-07-30T10:14:01.419Z"
   },
   {
    "duration": 7,
    "start_time": "2024-07-30T10:14:15.944Z"
   },
   {
    "duration": 15,
    "start_time": "2024-07-30T10:15:29.849Z"
   },
   {
    "duration": 3,
    "start_time": "2024-07-30T10:16:07.417Z"
   },
   {
    "duration": 17,
    "start_time": "2024-07-30T10:17:25.514Z"
   },
   {
    "duration": 18,
    "start_time": "2024-07-30T10:18:42.909Z"
   },
   {
    "duration": 17,
    "start_time": "2024-07-30T10:19:06.474Z"
   },
   {
    "duration": 66,
    "start_time": "2024-07-30T10:19:11.443Z"
   },
   {
    "duration": 19,
    "start_time": "2024-07-30T10:19:15.763Z"
   },
   {
    "duration": 19,
    "start_time": "2024-07-30T10:19:28.633Z"
   },
   {
    "duration": 8,
    "start_time": "2024-07-30T10:20:07.677Z"
   },
   {
    "duration": 14,
    "start_time": "2024-07-30T10:20:12.079Z"
   },
   {
    "duration": 18,
    "start_time": "2024-07-30T10:20:31.681Z"
   },
   {
    "duration": 12,
    "start_time": "2024-07-30T10:20:38.921Z"
   },
   {
    "duration": 8,
    "start_time": "2024-07-30T10:23:17.384Z"
   },
   {
    "duration": 4,
    "start_time": "2024-07-30T10:23:19.214Z"
   },
   {
    "duration": 4,
    "start_time": "2024-07-30T10:23:19.541Z"
   },
   {
    "duration": 15,
    "start_time": "2024-07-30T10:23:22.814Z"
   },
   {
    "duration": 12,
    "start_time": "2024-07-30T10:23:23.784Z"
   },
   {
    "duration": 12,
    "start_time": "2024-07-30T10:23:24.239Z"
   },
   {
    "duration": 8,
    "start_time": "2024-07-30T10:23:55.040Z"
   },
   {
    "duration": 8,
    "start_time": "2024-07-30T10:24:00.719Z"
   },
   {
    "duration": 6,
    "start_time": "2024-07-30T10:43:15.372Z"
   },
   {
    "duration": 19,
    "start_time": "2024-07-30T10:44:31.636Z"
   },
   {
    "duration": 8,
    "start_time": "2024-07-30T10:44:43.974Z"
   },
   {
    "duration": 33,
    "start_time": "2024-07-30T10:44:44.367Z"
   },
   {
    "duration": 11,
    "start_time": "2024-07-30T10:45:04.329Z"
   },
   {
    "duration": 4,
    "start_time": "2024-07-30T10:45:35.015Z"
   },
   {
    "duration": 27,
    "start_time": "2024-07-30T10:45:35.391Z"
   },
   {
    "duration": 7,
    "start_time": "2024-07-30T10:45:50.479Z"
   },
   {
    "duration": 7,
    "start_time": "2024-07-30T10:46:04.119Z"
   },
   {
    "duration": 11,
    "start_time": "2024-07-30T10:46:04.380Z"
   },
   {
    "duration": 4,
    "start_time": "2024-07-30T10:46:08.128Z"
   },
   {
    "duration": 18,
    "start_time": "2024-07-30T11:23:59.477Z"
   },
   {
    "duration": 3,
    "start_time": "2024-07-30T11:24:03.413Z"
   },
   {
    "duration": 4,
    "start_time": "2024-07-30T11:24:05.195Z"
   },
   {
    "duration": 5,
    "start_time": "2024-07-30T11:24:08.565Z"
   },
   {
    "duration": 3,
    "start_time": "2024-07-30T11:24:09.530Z"
   },
   {
    "duration": 691,
    "start_time": "2024-07-30T11:24:10.372Z"
   },
   {
    "duration": 504,
    "start_time": "2024-07-30T11:24:37.295Z"
   },
   {
    "duration": 711,
    "start_time": "2024-07-30T11:26:37.045Z"
   },
   {
    "duration": 15,
    "start_time": "2024-07-30T11:26:59.384Z"
   },
   {
    "duration": 771,
    "start_time": "2024-07-30T11:29:06.632Z"
   },
   {
    "duration": 716,
    "start_time": "2024-07-30T11:29:38.868Z"
   },
   {
    "duration": 561,
    "start_time": "2024-07-30T11:29:42.532Z"
   },
   {
    "duration": 905,
    "start_time": "2024-07-30T11:30:05.954Z"
   },
   {
    "duration": 5,
    "start_time": "2024-07-30T11:30:53.815Z"
   },
   {
    "duration": 3,
    "start_time": "2024-07-30T11:30:54.207Z"
   },
   {
    "duration": 11,
    "start_time": "2024-07-30T11:30:54.668Z"
   },
   {
    "duration": 4,
    "start_time": "2024-07-30T11:30:54.980Z"
   },
   {
    "duration": 3,
    "start_time": "2024-07-30T11:30:55.480Z"
   },
   {
    "duration": 3,
    "start_time": "2024-07-30T11:30:55.793Z"
   },
   {
    "duration": 53,
    "start_time": "2024-07-30T11:30:56.235Z"
   },
   {
    "duration": 5,
    "start_time": "2024-07-30T11:31:11.480Z"
   },
   {
    "duration": 3,
    "start_time": "2024-07-30T11:31:11.881Z"
   },
   {
    "duration": 4,
    "start_time": "2024-07-30T11:31:12.180Z"
   },
   {
    "duration": 3,
    "start_time": "2024-07-30T11:31:12.406Z"
   },
   {
    "duration": 3,
    "start_time": "2024-07-30T11:31:12.635Z"
   },
   {
    "duration": 4,
    "start_time": "2024-07-30T11:31:12.876Z"
   },
   {
    "duration": 543,
    "start_time": "2024-07-30T11:31:13.240Z"
   },
   {
    "duration": 6,
    "start_time": "2024-07-30T11:31:27.645Z"
   },
   {
    "duration": 3,
    "start_time": "2024-07-30T11:31:27.908Z"
   },
   {
    "duration": 12,
    "start_time": "2024-07-30T11:31:28.152Z"
   },
   {
    "duration": 5,
    "start_time": "2024-07-30T11:31:28.482Z"
   },
   {
    "duration": 4,
    "start_time": "2024-07-30T11:31:28.906Z"
   },
   {
    "duration": 3,
    "start_time": "2024-07-30T11:31:29.284Z"
   },
   {
    "duration": 517,
    "start_time": "2024-07-30T11:31:29.677Z"
   },
   {
    "duration": 10,
    "start_time": "2024-07-30T11:31:57.262Z"
   },
   {
    "duration": 3,
    "start_time": "2024-07-30T11:31:57.589Z"
   },
   {
    "duration": 5,
    "start_time": "2024-07-30T11:31:57.867Z"
   },
   {
    "duration": 4,
    "start_time": "2024-07-30T11:31:58.129Z"
   },
   {
    "duration": 4,
    "start_time": "2024-07-30T11:31:58.423Z"
   },
   {
    "duration": 3,
    "start_time": "2024-07-30T11:31:58.785Z"
   },
   {
    "duration": 18,
    "start_time": "2024-07-30T11:31:59.307Z"
   },
   {
    "duration": 10,
    "start_time": "2024-07-30T11:32:10.764Z"
   },
   {
    "duration": 2,
    "start_time": "2024-07-30T11:32:10.944Z"
   },
   {
    "duration": 4,
    "start_time": "2024-07-30T11:32:11.123Z"
   },
   {
    "duration": 4,
    "start_time": "2024-07-30T11:32:11.303Z"
   },
   {
    "duration": 3,
    "start_time": "2024-07-30T11:32:11.484Z"
   },
   {
    "duration": 2,
    "start_time": "2024-07-30T11:32:11.697Z"
   },
   {
    "duration": 44,
    "start_time": "2024-07-30T11:32:12.252Z"
   },
   {
    "duration": 5,
    "start_time": "2024-07-30T11:32:22.335Z"
   },
   {
    "duration": 2,
    "start_time": "2024-07-30T11:32:22.531Z"
   },
   {
    "duration": 4,
    "start_time": "2024-07-30T11:32:22.681Z"
   },
   {
    "duration": 4,
    "start_time": "2024-07-30T11:32:22.842Z"
   },
   {
    "duration": 11,
    "start_time": "2024-07-30T11:32:23.005Z"
   },
   {
    "duration": 3,
    "start_time": "2024-07-30T11:32:23.186Z"
   },
   {
    "duration": 562,
    "start_time": "2024-07-30T11:32:23.628Z"
   },
   {
    "duration": 6,
    "start_time": "2024-07-30T11:35:00.895Z"
   },
   {
    "duration": 10,
    "start_time": "2024-07-30T11:35:26.637Z"
   },
   {
    "duration": 6,
    "start_time": "2024-07-30T11:36:05.232Z"
   },
   {
    "duration": 11,
    "start_time": "2024-07-30T11:36:18.312Z"
   },
   {
    "duration": 8,
    "start_time": "2024-07-30T11:36:21.943Z"
   },
   {
    "duration": 10,
    "start_time": "2024-07-30T11:38:31.882Z"
   },
   {
    "duration": 7,
    "start_time": "2024-07-30T11:38:32.162Z"
   },
   {
    "duration": 12,
    "start_time": "2024-07-30T11:38:32.372Z"
   },
   {
    "duration": 3,
    "start_time": "2024-07-30T11:38:32.583Z"
   },
   {
    "duration": 3,
    "start_time": "2024-07-30T11:38:32.927Z"
   },
   {
    "duration": 2,
    "start_time": "2024-07-30T11:38:33.419Z"
   },
   {
    "duration": 45,
    "start_time": "2024-07-30T11:38:33.843Z"
   },
   {
    "duration": 4,
    "start_time": "2024-07-30T11:38:43.643Z"
   },
   {
    "duration": 3,
    "start_time": "2024-07-30T11:38:43.823Z"
   },
   {
    "duration": 4,
    "start_time": "2024-07-30T11:38:43.980Z"
   },
   {
    "duration": 4,
    "start_time": "2024-07-30T11:38:44.133Z"
   },
   {
    "duration": 4,
    "start_time": "2024-07-30T11:38:44.280Z"
   },
   {
    "duration": 3,
    "start_time": "2024-07-30T11:38:44.625Z"
   },
   {
    "duration": 745,
    "start_time": "2024-07-30T11:38:45.050Z"
   },
   {
    "duration": 5,
    "start_time": "2024-07-30T11:38:55.894Z"
   },
   {
    "duration": 4,
    "start_time": "2024-07-30T11:39:13.633Z"
   },
   {
    "duration": 7,
    "start_time": "2024-07-30T11:39:13.872Z"
   },
   {
    "duration": 5,
    "start_time": "2024-07-30T11:39:14.075Z"
   },
   {
    "duration": 8,
    "start_time": "2024-07-30T11:39:14.255Z"
   },
   {
    "duration": 3,
    "start_time": "2024-07-30T11:39:14.417Z"
   },
   {
    "duration": 3,
    "start_time": "2024-07-30T11:39:14.597Z"
   },
   {
    "duration": 544,
    "start_time": "2024-07-30T11:39:14.942Z"
   },
   {
    "duration": 5,
    "start_time": "2024-07-30T11:39:22.334Z"
   },
   {
    "duration": 4,
    "start_time": "2024-07-30T11:41:02.693Z"
   },
   {
    "duration": 3,
    "start_time": "2024-07-30T11:41:03.019Z"
   },
   {
    "duration": 22,
    "start_time": "2024-07-30T11:41:03.297Z"
   },
   {
    "duration": 17,
    "start_time": "2024-07-30T11:41:03.526Z"
   },
   {
    "duration": 4,
    "start_time": "2024-07-30T11:41:03.805Z"
   },
   {
    "duration": 4,
    "start_time": "2024-07-30T11:42:20.314Z"
   },
   {
    "duration": 3,
    "start_time": "2024-07-30T11:42:20.543Z"
   },
   {
    "duration": 4,
    "start_time": "2024-07-30T11:42:20.780Z"
   },
   {
    "duration": 16,
    "start_time": "2024-07-30T11:42:21.364Z"
   },
   {
    "duration": 3,
    "start_time": "2024-07-30T11:42:21.851Z"
   },
   {
    "duration": 2,
    "start_time": "2024-07-30T11:42:22.145Z"
   },
   {
    "duration": 688,
    "start_time": "2024-07-30T11:42:22.474Z"
   },
   {
    "duration": 8,
    "start_time": "2024-07-30T11:42:29.889Z"
   },
   {
    "duration": 3,
    "start_time": "2024-07-30T11:43:07.882Z"
   },
   {
    "duration": 6406,
    "start_time": "2024-07-30T11:43:08.061Z"
   },
   {
    "duration": 5538,
    "start_time": "2024-07-30T11:43:25.824Z"
   },
   {
    "duration": 14,
    "start_time": "2024-07-30T11:43:56.969Z"
   },
   {
    "duration": 10,
    "start_time": "2024-07-30T11:43:57.262Z"
   },
   {
    "duration": 4,
    "start_time": "2024-07-30T11:43:57.586Z"
   },
   {
    "duration": 9,
    "start_time": "2024-07-30T11:43:57.872Z"
   },
   {
    "duration": 3,
    "start_time": "2024-07-30T11:43:58.110Z"
   },
   {
    "duration": 2,
    "start_time": "2024-07-30T11:43:58.438Z"
   },
   {
    "duration": 30,
    "start_time": "2024-07-30T11:43:58.831Z"
   },
   {
    "duration": 3,
    "start_time": "2024-07-30T11:44:09.716Z"
   },
   {
    "duration": 3,
    "start_time": "2024-07-30T11:44:09.911Z"
   },
   {
    "duration": 5,
    "start_time": "2024-07-30T11:44:10.060Z"
   },
   {
    "duration": 3,
    "start_time": "2024-07-30T11:44:10.222Z"
   },
   {
    "duration": 3,
    "start_time": "2024-07-30T11:44:10.419Z"
   },
   {
    "duration": 27,
    "start_time": "2024-07-30T11:44:10.844Z"
   },
   {
    "duration": 5,
    "start_time": "2024-07-30T11:44:20.221Z"
   },
   {
    "duration": 3,
    "start_time": "2024-07-30T11:44:20.400Z"
   },
   {
    "duration": 6,
    "start_time": "2024-07-30T11:44:20.566Z"
   },
   {
    "duration": 3,
    "start_time": "2024-07-30T11:44:20.712Z"
   },
   {
    "duration": 4,
    "start_time": "2024-07-30T11:44:20.860Z"
   },
   {
    "duration": 3,
    "start_time": "2024-07-30T11:44:21.022Z"
   },
   {
    "duration": 4980,
    "start_time": "2024-07-30T11:44:21.186Z"
   },
   {
    "duration": 6,
    "start_time": "2024-07-30T11:44:31.771Z"
   },
   {
    "duration": 50863,
    "start_time": "2024-07-30T11:44:32.113Z"
   },
   {
    "duration": 6,
    "start_time": "2024-07-30T11:45:43.472Z"
   },
   {
    "duration": 2,
    "start_time": "2024-07-30T11:45:43.668Z"
   },
   {
    "duration": 4,
    "start_time": "2024-07-30T11:45:43.882Z"
   },
   {
    "duration": 3,
    "start_time": "2024-07-30T11:45:44.731Z"
   },
   {
    "duration": 3,
    "start_time": "2024-07-30T11:45:44.944Z"
   },
   {
    "duration": 3,
    "start_time": "2024-07-30T11:45:45.287Z"
   },
   {
    "duration": 18,
    "start_time": "2024-07-30T11:45:45.729Z"
   },
   {
    "duration": 6,
    "start_time": "2024-07-30T11:45:53.912Z"
   },
   {
    "duration": 4,
    "start_time": "2024-07-30T11:45:54.092Z"
   },
   {
    "duration": 5,
    "start_time": "2024-07-30T11:45:54.255Z"
   },
   {
    "duration": 13,
    "start_time": "2024-07-30T11:45:54.402Z"
   },
   {
    "duration": 4,
    "start_time": "2024-07-30T11:45:54.583Z"
   },
   {
    "duration": 3,
    "start_time": "2024-07-30T11:45:54.844Z"
   },
   {
    "duration": 41026,
    "start_time": "2024-07-30T11:45:55.140Z"
   },
   {
    "duration": 2,
    "start_time": "2024-07-30T11:47:05.483Z"
   },
   {
    "duration": 16050,
    "start_time": "2024-07-30T11:47:05.712Z"
   },
   {
    "duration": 3,
    "start_time": "2024-07-30T11:48:12.353Z"
   },
   {
    "duration": 4299,
    "start_time": "2024-07-30T11:48:13.076Z"
   },
   {
    "duration": 3,
    "start_time": "2024-07-30T11:48:29.257Z"
   },
   {
    "duration": 4,
    "start_time": "2024-07-30T11:48:29.501Z"
   },
   {
    "duration": 4,
    "start_time": "2024-07-30T11:48:29.681Z"
   },
   {
    "duration": 3,
    "start_time": "2024-07-30T11:48:29.862Z"
   },
   {
    "duration": 4,
    "start_time": "2024-07-30T11:48:30.059Z"
   },
   {
    "duration": 4247,
    "start_time": "2024-07-30T11:48:30.434Z"
   },
   {
    "duration": 4,
    "start_time": "2024-07-30T11:48:43.560Z"
   },
   {
    "duration": 38420,
    "start_time": "2024-07-30T11:48:43.836Z"
   },
   {
    "duration": 5,
    "start_time": "2024-07-30T11:50:24.990Z"
   },
   {
    "duration": 3,
    "start_time": "2024-07-30T11:50:36.162Z"
   },
   {
    "duration": 14,
    "start_time": "2024-07-30T11:50:36.521Z"
   },
   {
    "duration": 5,
    "start_time": "2024-07-30T11:50:42.490Z"
   },
   {
    "duration": 4,
    "start_time": "2024-07-30T11:50:45.942Z"
   },
   {
    "duration": 5,
    "start_time": "2024-07-30T11:50:52.993Z"
   },
   {
    "duration": 3,
    "start_time": "2024-07-30T11:51:03.818Z"
   },
   {
    "duration": 7,
    "start_time": "2024-07-30T11:51:07.288Z"
   },
   {
    "duration": 7,
    "start_time": "2024-07-30T11:51:09.368Z"
   },
   {
    "duration": 3,
    "start_time": "2024-07-30T11:51:09.840Z"
   },
   {
    "duration": 11,
    "start_time": "2024-07-30T11:51:10.185Z"
   },
   {
    "duration": 11,
    "start_time": "2024-07-30T11:51:15.502Z"
   },
   {
    "duration": 3,
    "start_time": "2024-07-30T11:51:21.817Z"
   },
   {
    "duration": 4,
    "start_time": "2024-07-30T11:51:22.176Z"
   },
   {
    "duration": 4,
    "start_time": "2024-07-30T11:51:22.455Z"
   },
   {
    "duration": 29728,
    "start_time": "2024-07-30T11:51:22.833Z"
   },
   {
    "duration": 4,
    "start_time": "2024-07-30T11:52:12.252Z"
   },
   {
    "duration": 5,
    "start_time": "2024-07-30T11:52:27.178Z"
   },
   {
    "duration": 5,
    "start_time": "2024-07-30T11:52:30.698Z"
   },
   {
    "duration": 5,
    "start_time": "2024-07-30T11:52:38.291Z"
   },
   {
    "duration": 3,
    "start_time": "2024-07-30T11:52:40.517Z"
   },
   {
    "duration": 780,
    "start_time": "2024-07-30T11:52:53.392Z"
   },
   {
    "duration": 5,
    "start_time": "2024-07-30T11:53:08.678Z"
   },
   {
    "duration": 13,
    "start_time": "2024-07-30T11:53:39.805Z"
   },
   {
    "duration": 13,
    "start_time": "2024-07-30T12:05:55.346Z"
   },
   {
    "duration": 7,
    "start_time": "2024-07-30T12:06:03.378Z"
   },
   {
    "duration": 5,
    "start_time": "2024-07-30T12:06:12.476Z"
   },
   {
    "duration": 11,
    "start_time": "2024-07-30T12:06:14.865Z"
   },
   {
    "duration": 5,
    "start_time": "2024-07-30T12:06:47.867Z"
   },
   {
    "duration": 14,
    "start_time": "2024-07-30T12:06:50.943Z"
   },
   {
    "duration": 5,
    "start_time": "2024-07-30T12:07:26.421Z"
   },
   {
    "duration": 5,
    "start_time": "2024-07-30T12:07:28.713Z"
   },
   {
    "duration": 14,
    "start_time": "2024-07-30T12:07:31.234Z"
   },
   {
    "duration": 2,
    "start_time": "2024-07-30T12:07:34.278Z"
   },
   {
    "duration": 8,
    "start_time": "2024-07-30T12:07:37.059Z"
   },
   {
    "duration": 4,
    "start_time": "2024-07-30T12:08:09.980Z"
   },
   {
    "duration": 3,
    "start_time": "2024-07-30T12:08:10.291Z"
   },
   {
    "duration": 5,
    "start_time": "2024-07-30T12:08:12.338Z"
   },
   {
    "duration": 13,
    "start_time": "2024-07-30T12:08:14.794Z"
   },
   {
    "duration": 6,
    "start_time": "2024-07-30T12:08:19.673Z"
   },
   {
    "duration": 4,
    "start_time": "2024-07-30T12:08:23.176Z"
   },
   {
    "duration": 3,
    "start_time": "2024-07-30T12:08:35.682Z"
   },
   {
    "duration": 3,
    "start_time": "2024-07-30T12:08:36.041Z"
   },
   {
    "duration": 2,
    "start_time": "2024-07-30T12:08:36.353Z"
   },
   {
    "duration": 28472,
    "start_time": "2024-07-30T12:08:36.795Z"
   },
   {
    "duration": 7,
    "start_time": "2024-07-30T12:09:17.899Z"
   },
   {
    "duration": 17,
    "start_time": "2024-07-30T12:09:29.627Z"
   },
   {
    "duration": 6,
    "start_time": "2024-07-30T12:10:16.045Z"
   },
   {
    "duration": 5,
    "start_time": "2024-07-30T12:10:24.381Z"
   },
   {
    "duration": 5,
    "start_time": "2024-07-30T12:10:29.172Z"
   },
   {
    "duration": 4,
    "start_time": "2024-07-30T12:10:31.184Z"
   },
   {
    "duration": 4,
    "start_time": "2024-07-30T12:10:33.720Z"
   },
   {
    "duration": 8,
    "start_time": "2024-07-30T12:10:42.358Z"
   },
   {
    "duration": 5,
    "start_time": "2024-07-30T12:11:22.884Z"
   },
   {
    "duration": 6,
    "start_time": "2024-07-30T12:11:24.930Z"
   },
   {
    "duration": 3,
    "start_time": "2024-07-30T12:11:37.906Z"
   },
   {
    "duration": 6,
    "start_time": "2024-07-30T12:11:40.687Z"
   },
   {
    "duration": 5,
    "start_time": "2024-07-30T12:11:53.840Z"
   },
   {
    "duration": 5,
    "start_time": "2024-07-30T12:13:23.062Z"
   },
   {
    "duration": 7,
    "start_time": "2024-07-30T12:14:23.387Z"
   },
   {
    "duration": 13,
    "start_time": "2024-07-30T12:14:51.661Z"
   },
   {
    "duration": 6,
    "start_time": "2024-07-30T12:16:41.797Z"
   },
   {
    "duration": 14,
    "start_time": "2024-07-30T12:17:05.955Z"
   },
   {
    "duration": 5,
    "start_time": "2024-07-30T12:17:12.928Z"
   },
   {
    "duration": 11,
    "start_time": "2024-07-30T12:17:49.914Z"
   },
   {
    "duration": 8,
    "start_time": "2024-07-30T12:17:54.170Z"
   },
   {
    "duration": 16,
    "start_time": "2024-07-30T12:18:14.498Z"
   },
   {
    "duration": 5,
    "start_time": "2024-07-30T12:18:22.429Z"
   },
   {
    "duration": 5,
    "start_time": "2024-07-30T12:18:27.122Z"
   },
   {
    "duration": 4,
    "start_time": "2024-07-30T12:18:27.610Z"
   },
   {
    "duration": 4,
    "start_time": "2024-07-30T12:18:27.906Z"
   },
   {
    "duration": 4,
    "start_time": "2024-07-30T12:18:28.298Z"
   },
   {
    "duration": 2,
    "start_time": "2024-07-30T12:18:28.641Z"
   },
   {
    "duration": 30343,
    "start_time": "2024-07-30T12:18:29.213Z"
   },
   {
    "duration": 5,
    "start_time": "2024-07-30T12:19:03.667Z"
   },
   {
    "duration": 6,
    "start_time": "2024-07-30T12:19:06.204Z"
   },
   {
    "duration": 9,
    "start_time": "2024-07-30T12:19:14.643Z"
   },
   {
    "duration": 4,
    "start_time": "2024-07-30T12:19:19.534Z"
   },
   {
    "duration": 18,
    "start_time": "2024-07-30T12:19:38.835Z"
   },
   {
    "duration": 5,
    "start_time": "2024-07-30T12:19:51.254Z"
   },
   {
    "duration": 11,
    "start_time": "2024-07-30T12:19:55.654Z"
   },
   {
    "duration": 6,
    "start_time": "2024-07-30T12:20:17.959Z"
   },
   {
    "duration": 13,
    "start_time": "2024-07-30T12:20:50.560Z"
   },
   {
    "duration": 16,
    "start_time": "2024-07-30T12:21:52.769Z"
   },
   {
    "duration": 6,
    "start_time": "2024-07-30T12:22:55.263Z"
   },
   {
    "duration": 19,
    "start_time": "2024-07-30T12:22:58.339Z"
   },
   {
    "duration": 6,
    "start_time": "2024-07-30T12:23:02.496Z"
   },
   {
    "duration": 3,
    "start_time": "2024-07-30T12:23:10.486Z"
   },
   {
    "duration": 4,
    "start_time": "2024-07-30T12:23:10.779Z"
   },
   {
    "duration": 11,
    "start_time": "2024-07-30T12:24:24.287Z"
   },
   {
    "duration": 4,
    "start_time": "2024-07-30T12:24:49.888Z"
   },
   {
    "duration": 4,
    "start_time": "2024-07-30T12:24:57.075Z"
   },
   {
    "duration": 13,
    "start_time": "2024-07-30T12:24:57.535Z"
   },
   {
    "duration": 11,
    "start_time": "2024-07-30T12:25:04.294Z"
   },
   {
    "duration": 5,
    "start_time": "2024-07-30T12:25:11.678Z"
   },
   {
    "duration": 197,
    "start_time": "2024-07-30T12:28:07.642Z"
   },
   {
    "duration": 175,
    "start_time": "2024-07-30T12:28:13.614Z"
   },
   {
    "duration": 2369,
    "start_time": "2024-07-30T12:28:32.124Z"
   },
   {
    "duration": 1064,
    "start_time": "2024-07-30T12:28:40.424Z"
   },
   {
    "duration": 172,
    "start_time": "2024-07-30T12:29:31.105Z"
   },
   {
    "duration": 167,
    "start_time": "2024-07-30T12:30:23.564Z"
   },
   {
    "duration": 2197,
    "start_time": "2024-07-30T12:30:30.744Z"
   },
   {
    "duration": 2197,
    "start_time": "2024-07-30T12:30:53.715Z"
   },
   {
    "duration": 2173,
    "start_time": "2024-07-30T12:31:02.500Z"
   },
   {
    "duration": 2353,
    "start_time": "2024-07-30T12:31:25.314Z"
   },
   {
    "duration": 2216,
    "start_time": "2024-07-30T12:31:38.829Z"
   },
   {
    "duration": 2505,
    "start_time": "2024-07-30T12:34:48.541Z"
   },
   {
    "duration": 2168,
    "start_time": "2024-07-30T12:35:07.947Z"
   },
   {
    "duration": 2209,
    "start_time": "2024-07-30T12:35:23.998Z"
   },
   {
    "duration": 2163,
    "start_time": "2024-07-30T12:35:29.970Z"
   },
   {
    "duration": 2316,
    "start_time": "2024-07-30T12:35:58.030Z"
   },
   {
    "duration": 197,
    "start_time": "2024-07-30T12:40:56.622Z"
   },
   {
    "duration": 255,
    "start_time": "2024-07-30T12:41:04.922Z"
   },
   {
    "duration": 14,
    "start_time": "2024-07-30T12:41:23.083Z"
   },
   {
    "duration": 17,
    "start_time": "2024-07-30T12:41:29.674Z"
   },
   {
    "duration": 2385,
    "start_time": "2024-07-30T12:43:46.660Z"
   },
   {
    "duration": 21,
    "start_time": "2024-07-30T12:44:05.063Z"
   },
   {
    "duration": 2276,
    "start_time": "2024-07-30T12:44:17.236Z"
   },
   {
    "duration": 2317,
    "start_time": "2024-07-30T12:45:26.704Z"
   },
   {
    "duration": 2415,
    "start_time": "2024-07-30T12:45:36.061Z"
   },
   {
    "duration": 2322,
    "start_time": "2024-07-30T12:45:48.623Z"
   },
   {
    "duration": 2224,
    "start_time": "2024-07-30T12:46:09.688Z"
   },
   {
    "duration": 2298,
    "start_time": "2024-07-30T12:46:24.343Z"
   },
   {
    "duration": 2379,
    "start_time": "2024-07-30T12:54:27.042Z"
   },
   {
    "duration": 2407,
    "start_time": "2024-07-30T12:57:46.612Z"
   },
   {
    "duration": 2458,
    "start_time": "2024-07-30T12:57:53.678Z"
   },
   {
    "duration": 2311,
    "start_time": "2024-07-30T12:58:02.233Z"
   },
   {
    "duration": 2335,
    "start_time": "2024-07-30T12:58:15.362Z"
   },
   {
    "duration": 2349,
    "start_time": "2024-07-30T12:58:29.839Z"
   },
   {
    "duration": 2390,
    "start_time": "2024-07-30T12:58:54.075Z"
   },
   {
    "duration": 2488,
    "start_time": "2024-07-30T12:58:57.148Z"
   },
   {
    "duration": 2489,
    "start_time": "2024-07-30T12:59:08.321Z"
   },
   {
    "duration": 2846,
    "start_time": "2024-07-30T12:59:19.767Z"
   },
   {
    "duration": 2383,
    "start_time": "2024-07-30T13:00:24.247Z"
   },
   {
    "duration": 2389,
    "start_time": "2024-07-30T13:01:09.942Z"
   },
   {
    "duration": 2320,
    "start_time": "2024-07-30T13:01:57.775Z"
   },
   {
    "duration": 2432,
    "start_time": "2024-07-30T13:02:47.288Z"
   },
   {
    "duration": 2515,
    "start_time": "2024-07-30T13:03:13.050Z"
   },
   {
    "duration": 2622,
    "start_time": "2024-07-30T13:03:27.239Z"
   },
   {
    "duration": 2828,
    "start_time": "2024-07-30T13:03:42.377Z"
   },
   {
    "duration": 2491,
    "start_time": "2024-07-30T13:03:53.456Z"
   },
   {
    "duration": 2346,
    "start_time": "2024-07-30T13:04:19.955Z"
   },
   {
    "duration": 2521,
    "start_time": "2024-07-30T13:04:39.705Z"
   },
   {
    "duration": 2553,
    "start_time": "2024-07-30T13:04:47.276Z"
   },
   {
    "duration": 2454,
    "start_time": "2024-07-30T13:06:56.484Z"
   },
   {
    "duration": 2479,
    "start_time": "2024-07-30T13:08:16.077Z"
   },
   {
    "duration": 2425,
    "start_time": "2024-07-30T13:10:04.106Z"
   },
   {
    "duration": 2844,
    "start_time": "2024-07-30T13:10:25.202Z"
   },
   {
    "duration": 2560,
    "start_time": "2024-07-30T13:11:24.867Z"
   },
   {
    "duration": 2498,
    "start_time": "2024-07-30T13:13:13.443Z"
   },
   {
    "duration": 2559,
    "start_time": "2024-07-30T13:13:20.740Z"
   },
   {
    "duration": 2500,
    "start_time": "2024-07-30T13:13:56.039Z"
   },
   {
    "duration": 2520,
    "start_time": "2024-07-30T13:14:07.796Z"
   },
   {
    "duration": 66,
    "start_time": "2024-07-30T13:20:10.759Z"
   },
   {
    "duration": 53869,
    "start_time": "2024-07-30T13:20:34.810Z"
   },
   {
    "duration": 54845,
    "start_time": "2024-07-30T13:21:43.638Z"
   },
   {
    "duration": 71,
    "start_time": "2024-07-30T13:26:36.037Z"
   },
   {
    "duration": 5,
    "start_time": "2024-07-30T13:26:59.538Z"
   },
   {
    "duration": 56645,
    "start_time": "2024-07-30T13:27:23.912Z"
   },
   {
    "duration": 55423,
    "start_time": "2024-07-30T13:28:37.055Z"
   },
   {
    "duration": 5,
    "start_time": "2024-07-30T13:30:44.133Z"
   },
   {
    "duration": 5310,
    "start_time": "2024-07-30T13:30:49.046Z"
   },
   {
    "duration": 6,
    "start_time": "2024-07-30T13:30:59.411Z"
   },
   {
    "duration": 5759,
    "start_time": "2024-07-30T13:31:00.638Z"
   },
   {
    "duration": 10,
    "start_time": "2024-07-30T13:31:16.267Z"
   },
   {
    "duration": 5893,
    "start_time": "2024-07-30T13:31:16.511Z"
   },
   {
    "duration": 2306,
    "start_time": "2024-07-31T10:08:05.698Z"
   },
   {
    "duration": 5,
    "start_time": "2024-07-31T10:08:08.007Z"
   },
   {
    "duration": 33,
    "start_time": "2024-07-31T10:08:08.013Z"
   },
   {
    "duration": 20,
    "start_time": "2024-07-31T10:08:08.048Z"
   },
   {
    "duration": 4,
    "start_time": "2024-07-31T10:08:08.071Z"
   },
   {
    "duration": 180,
    "start_time": "2024-07-31T10:08:08.076Z"
   },
   {
    "duration": 10,
    "start_time": "2024-07-31T10:08:08.259Z"
   },
   {
    "duration": 18,
    "start_time": "2024-07-31T10:08:08.272Z"
   },
   {
    "duration": 27,
    "start_time": "2024-07-31T10:08:08.292Z"
   },
   {
    "duration": 37,
    "start_time": "2024-07-31T10:08:08.322Z"
   },
   {
    "duration": 14,
    "start_time": "2024-07-31T10:08:08.362Z"
   },
   {
    "duration": 26,
    "start_time": "2024-07-31T10:08:08.378Z"
   },
   {
    "duration": 28,
    "start_time": "2024-07-31T10:08:08.405Z"
   },
   {
    "duration": 36,
    "start_time": "2024-07-31T10:08:08.435Z"
   },
   {
    "duration": 20,
    "start_time": "2024-07-31T10:08:08.474Z"
   },
   {
    "duration": 29,
    "start_time": "2024-07-31T10:08:08.496Z"
   },
   {
    "duration": 49,
    "start_time": "2024-07-31T10:08:08.527Z"
   },
   {
    "duration": 26,
    "start_time": "2024-07-31T10:08:08.577Z"
   },
   {
    "duration": 38,
    "start_time": "2024-07-31T10:08:08.605Z"
   },
   {
    "duration": 26,
    "start_time": "2024-07-31T10:08:08.644Z"
   },
   {
    "duration": 26,
    "start_time": "2024-07-31T10:08:08.672Z"
   },
   {
    "duration": 30,
    "start_time": "2024-07-31T10:08:08.700Z"
   },
   {
    "duration": 18,
    "start_time": "2024-07-31T10:08:08.731Z"
   },
   {
    "duration": 18,
    "start_time": "2024-07-31T10:08:08.751Z"
   },
   {
    "duration": 26,
    "start_time": "2024-07-31T10:08:08.771Z"
   },
   {
    "duration": 34,
    "start_time": "2024-07-31T10:08:08.799Z"
   },
   {
    "duration": 30,
    "start_time": "2024-07-31T10:08:08.834Z"
   },
   {
    "duration": 23,
    "start_time": "2024-07-31T10:08:08.869Z"
   },
   {
    "duration": 797,
    "start_time": "2024-07-31T10:08:08.893Z"
   },
   {
    "duration": 588,
    "start_time": "2024-07-31T10:08:09.691Z"
   },
   {
    "duration": 718,
    "start_time": "2024-07-31T10:08:10.281Z"
   },
   {
    "duration": 289,
    "start_time": "2024-07-31T10:08:11.000Z"
   },
   {
    "duration": 246,
    "start_time": "2024-07-31T10:08:11.291Z"
   },
   {
    "duration": 236,
    "start_time": "2024-07-31T10:08:11.538Z"
   },
   {
    "duration": 1348,
    "start_time": "2024-07-31T10:08:11.776Z"
   },
   {
    "duration": 4,
    "start_time": "2024-07-31T10:08:13.126Z"
   },
   {
    "duration": 50,
    "start_time": "2024-07-31T10:08:13.132Z"
   },
   {
    "duration": 11,
    "start_time": "2024-07-31T10:08:13.183Z"
   },
   {
    "duration": 14,
    "start_time": "2024-07-31T10:08:13.196Z"
   },
   {
    "duration": 38,
    "start_time": "2024-07-31T10:08:13.213Z"
   },
   {
    "duration": 22,
    "start_time": "2024-07-31T10:08:13.253Z"
   },
   {
    "duration": 10,
    "start_time": "2024-07-31T10:08:13.277Z"
   },
   {
    "duration": 70,
    "start_time": "2024-07-31T10:08:13.288Z"
   },
   {
    "duration": 0,
    "start_time": "2024-07-31T10:08:13.360Z"
   },
   {
    "duration": 0,
    "start_time": "2024-07-31T10:08:13.361Z"
   },
   {
    "duration": 0,
    "start_time": "2024-07-31T10:08:13.363Z"
   },
   {
    "duration": 0,
    "start_time": "2024-07-31T10:08:13.364Z"
   },
   {
    "duration": 0,
    "start_time": "2024-07-31T10:08:13.369Z"
   },
   {
    "duration": 0,
    "start_time": "2024-07-31T10:08:13.370Z"
   },
   {
    "duration": 0,
    "start_time": "2024-07-31T10:08:13.372Z"
   },
   {
    "duration": 0,
    "start_time": "2024-07-31T10:08:13.374Z"
   },
   {
    "duration": 0,
    "start_time": "2024-07-31T10:08:13.376Z"
   },
   {
    "duration": 0,
    "start_time": "2024-07-31T10:08:13.377Z"
   },
   {
    "duration": 0,
    "start_time": "2024-07-31T10:08:13.378Z"
   },
   {
    "duration": 0,
    "start_time": "2024-07-31T10:08:13.379Z"
   },
   {
    "duration": 0,
    "start_time": "2024-07-31T10:08:13.380Z"
   },
   {
    "duration": 0,
    "start_time": "2024-07-31T10:08:13.383Z"
   },
   {
    "duration": 0,
    "start_time": "2024-07-31T10:08:13.384Z"
   },
   {
    "duration": 0,
    "start_time": "2024-07-31T10:08:13.385Z"
   },
   {
    "duration": 0,
    "start_time": "2024-07-31T10:08:13.386Z"
   },
   {
    "duration": 0,
    "start_time": "2024-07-31T10:08:13.388Z"
   },
   {
    "duration": 0,
    "start_time": "2024-07-31T10:08:13.389Z"
   },
   {
    "duration": 0,
    "start_time": "2024-07-31T10:08:13.390Z"
   },
   {
    "duration": 0,
    "start_time": "2024-07-31T10:08:13.391Z"
   },
   {
    "duration": 0,
    "start_time": "2024-07-31T10:08:13.392Z"
   },
   {
    "duration": 0,
    "start_time": "2024-07-31T10:08:13.393Z"
   },
   {
    "duration": 0,
    "start_time": "2024-07-31T10:08:13.395Z"
   },
   {
    "duration": 0,
    "start_time": "2024-07-31T10:08:13.396Z"
   },
   {
    "duration": 0,
    "start_time": "2024-07-31T10:08:13.397Z"
   },
   {
    "duration": 4,
    "start_time": "2024-07-31T10:08:23.595Z"
   },
   {
    "duration": 6,
    "start_time": "2024-07-31T10:08:24.509Z"
   },
   {
    "duration": 7,
    "start_time": "2024-07-31T10:08:25.376Z"
   },
   {
    "duration": 3,
    "start_time": "2024-07-31T10:08:27.389Z"
   },
   {
    "duration": 5,
    "start_time": "2024-07-31T10:08:28.140Z"
   },
   {
    "duration": 4,
    "start_time": "2024-07-31T10:08:28.601Z"
   },
   {
    "duration": 3,
    "start_time": "2024-07-31T10:08:29.825Z"
   },
   {
    "duration": 14,
    "start_time": "2024-07-31T10:08:30.235Z"
   },
   {
    "duration": 10,
    "start_time": "2024-07-31T10:08:33.312Z"
   },
   {
    "duration": 10,
    "start_time": "2024-07-31T10:08:34.278Z"
   },
   {
    "duration": 6,
    "start_time": "2024-07-31T10:08:36.909Z"
   },
   {
    "duration": 9,
    "start_time": "2024-07-31T10:08:40.461Z"
   },
   {
    "duration": 3,
    "start_time": "2024-07-31T10:08:43.715Z"
   },
   {
    "duration": 6,
    "start_time": "2024-07-31T10:08:45.320Z"
   },
   {
    "duration": 177,
    "start_time": "2024-07-31T10:08:47.741Z"
   },
   {
    "duration": 3,
    "start_time": "2024-07-31T10:09:21.230Z"
   },
   {
    "duration": 38857,
    "start_time": "2024-07-31T10:09:21.606Z"
   },
   {
    "duration": 3,
    "start_time": "2024-07-31T10:10:06.439Z"
   },
   {
    "duration": 4,
    "start_time": "2024-07-31T10:10:07.160Z"
   },
   {
    "duration": 2,
    "start_time": "2024-07-31T10:10:07.796Z"
   },
   {
    "duration": 39217,
    "start_time": "2024-07-31T10:10:08.941Z"
   },
   {
    "duration": 3,
    "start_time": "2024-07-31T10:11:38.066Z"
   },
   {
    "duration": 16,
    "start_time": "2024-07-31T10:11:38.473Z"
   },
   {
    "duration": 7,
    "start_time": "2024-07-31T10:12:05.797Z"
   },
   {
    "duration": 15,
    "start_time": "2024-07-31T10:12:10.168Z"
   },
   {
    "duration": 4,
    "start_time": "2024-07-31T10:12:13.717Z"
   },
   {
    "duration": 4,
    "start_time": "2024-07-31T10:12:28.876Z"
   },
   {
    "duration": 4,
    "start_time": "2024-07-31T10:16:07.147Z"
   },
   {
    "duration": 4,
    "start_time": "2024-07-31T10:16:07.882Z"
   },
   {
    "duration": 7,
    "start_time": "2024-07-31T10:16:09.160Z"
   },
   {
    "duration": 38918,
    "start_time": "2024-07-31T10:16:10.041Z"
   },
   {
    "duration": 4,
    "start_time": "2024-07-31T10:17:05.490Z"
   },
   {
    "duration": 38284,
    "start_time": "2024-07-31T10:18:41.189Z"
   },
   {
    "duration": 4,
    "start_time": "2024-07-31T10:19:30.811Z"
   },
   {
    "duration": 4,
    "start_time": "2024-07-31T10:19:40.381Z"
   },
   {
    "duration": 11,
    "start_time": "2024-07-31T10:19:40.857Z"
   },
   {
    "duration": 4,
    "start_time": "2024-07-31T10:19:42.590Z"
   },
   {
    "duration": 2391,
    "start_time": "2024-07-31T10:19:43.082Z"
   },
   {
    "duration": 4,
    "start_time": "2024-07-31T10:35:04.898Z"
   },
   {
    "duration": 4,
    "start_time": "2024-07-31T10:35:05.798Z"
   },
   {
    "duration": 2,
    "start_time": "2024-07-31T10:35:06.944Z"
   },
   {
    "duration": 13,
    "start_time": "2024-07-31T10:35:07.468Z"
   },
   {
    "duration": 3,
    "start_time": "2024-07-31T10:35:23.325Z"
   },
   {
    "duration": 3,
    "start_time": "2024-07-31T10:35:23.733Z"
   },
   {
    "duration": 94236,
    "start_time": "2024-07-31T10:35:24.732Z"
   },
   {
    "duration": 62015,
    "start_time": "2024-07-31T10:43:42.553Z"
   },
   {
    "duration": 3,
    "start_time": "2024-07-31T10:44:50.301Z"
   },
   {
    "duration": 3,
    "start_time": "2024-07-31T10:44:52.216Z"
   },
   {
    "duration": 61998,
    "start_time": "2024-07-31T10:44:53.771Z"
   },
   {
    "duration": 23826,
    "start_time": "2024-07-31T10:46:35.340Z"
   },
   {
    "duration": 10561,
    "start_time": "2024-07-31T10:50:18.451Z"
   },
   {
    "duration": 3,
    "start_time": "2024-07-31T10:50:42.760Z"
   },
   {
    "duration": 3,
    "start_time": "2024-07-31T10:50:55.406Z"
   },
   {
    "duration": 53820,
    "start_time": "2024-07-31T10:50:56.060Z"
   },
   {
    "duration": 8980,
    "start_time": "2024-07-31T10:52:06.736Z"
   },
   {
    "duration": 3,
    "start_time": "2024-07-31T10:54:04.345Z"
   },
   {
    "duration": 5365,
    "start_time": "2024-07-31T10:54:08.357Z"
   },
   {
    "duration": 5439,
    "start_time": "2024-07-31T10:54:21.006Z"
   },
   {
    "duration": 5,
    "start_time": "2024-07-31T11:04:41.406Z"
   },
   {
    "duration": 6,
    "start_time": "2024-07-31T11:04:44.941Z"
   },
   {
    "duration": 4,
    "start_time": "2024-07-31T11:04:46.301Z"
   },
   {
    "duration": 25763,
    "start_time": "2024-07-31T11:04:48.198Z"
   },
   {
    "duration": 9,
    "start_time": "2024-07-31T11:18:46.753Z"
   },
   {
    "duration": 4,
    "start_time": "2024-07-31T11:18:47.193Z"
   },
   {
    "duration": 5,
    "start_time": "2024-07-31T11:18:47.913Z"
   },
   {
    "duration": 23,
    "start_time": "2024-07-31T11:18:49.255Z"
   },
   {
    "duration": 18,
    "start_time": "2024-07-31T11:19:12.072Z"
   },
   {
    "duration": 11217,
    "start_time": "2024-07-31T11:19:44.733Z"
   },
   {
    "duration": 81508,
    "start_time": "2024-07-31T11:20:21.665Z"
   },
   {
    "duration": 752490,
    "start_time": "2024-07-31T11:27:00.614Z"
   },
   {
    "duration": 7,
    "start_time": "2024-07-31T11:40:48.554Z"
   },
   {
    "duration": 7,
    "start_time": "2024-07-31T11:40:49.126Z"
   },
   {
    "duration": 7,
    "start_time": "2024-07-31T11:40:50.204Z"
   },
   {
    "duration": 6,
    "start_time": "2024-07-31T11:40:53.428Z"
   },
   {
    "duration": 5,
    "start_time": "2024-07-31T11:40:54.899Z"
   },
   {
    "duration": 8,
    "start_time": "2024-07-31T11:40:57.876Z"
   },
   {
    "duration": 4,
    "start_time": "2024-07-31T11:40:58.269Z"
   },
   {
    "duration": 2,
    "start_time": "2024-07-31T11:41:01.574Z"
   },
   {
    "duration": 14,
    "start_time": "2024-07-31T11:41:01.885Z"
   },
   {
    "duration": 7,
    "start_time": "2024-07-31T11:41:06.203Z"
   },
   {
    "duration": 42,
    "start_time": "2024-07-31T11:41:17.181Z"
   },
   {
    "duration": 3,
    "start_time": "2024-07-31T11:41:27.767Z"
   },
   {
    "duration": 756955,
    "start_time": "2024-07-31T11:41:31.319Z"
   },
   {
    "duration": 142,
    "start_time": "2024-07-31T12:08:43.397Z"
   },
   {
    "duration": 6,
    "start_time": "2024-07-31T12:09:56.553Z"
   },
   {
    "duration": 4,
    "start_time": "2024-07-31T12:09:56.815Z"
   },
   {
    "duration": 6,
    "start_time": "2024-07-31T12:09:57.158Z"
   },
   {
    "duration": 17,
    "start_time": "2024-07-31T12:09:57.634Z"
   },
   {
    "duration": 3,
    "start_time": "2024-07-31T12:10:41.179Z"
   },
   {
    "duration": 2215,
    "start_time": "2024-07-31T12:10:45.169Z"
   },
   {
    "duration": 6,
    "start_time": "2024-07-31T12:10:54.982Z"
   },
   {
    "duration": 5,
    "start_time": "2024-07-31T12:11:00.757Z"
   },
   {
    "duration": 2387413,
    "start_time": "2024-07-31T12:11:41.874Z"
   },
   {
    "duration": 2383,
    "start_time": "2024-07-31T12:51:43.663Z"
   },
   {
    "duration": 4,
    "start_time": "2024-07-31T12:52:08.010Z"
   },
   {
    "duration": 4,
    "start_time": "2024-07-31T12:52:18.127Z"
   },
   {
    "duration": 12,
    "start_time": "2024-07-31T12:52:32.762Z"
   },
   {
    "duration": 18,
    "start_time": "2024-07-31T12:52:45.887Z"
   },
   {
    "duration": 13,
    "start_time": "2024-07-31T12:52:57.179Z"
   },
   {
    "duration": 12,
    "start_time": "2024-07-31T12:53:49.088Z"
   },
   {
    "duration": 4,
    "start_time": "2024-07-31T12:53:59.120Z"
   },
   {
    "duration": 2350,
    "start_time": "2024-07-31T12:53:59.564Z"
   },
   {
    "duration": 5,
    "start_time": "2024-07-31T12:55:32.003Z"
   },
   {
    "duration": 6,
    "start_time": "2024-07-31T12:55:33.377Z"
   },
   {
    "duration": 3,
    "start_time": "2024-07-31T12:55:34.932Z"
   },
   {
    "duration": 16,
    "start_time": "2024-07-31T12:55:35.291Z"
   },
   {
    "duration": 3,
    "start_time": "2024-07-31T12:55:55.916Z"
   },
   {
    "duration": 10,
    "start_time": "2024-07-31T12:55:56.325Z"
   },
   {
    "duration": 6,
    "start_time": "2024-07-31T12:56:12.073Z"
   },
   {
    "duration": 3,
    "start_time": "2024-07-31T12:56:12.480Z"
   },
   {
    "duration": 22,
    "start_time": "2024-07-31T12:56:12.774Z"
   },
   {
    "duration": 6,
    "start_time": "2024-07-31T12:56:29.671Z"
   },
   {
    "duration": 3,
    "start_time": "2024-07-31T12:56:30.129Z"
   },
   {
    "duration": 25,
    "start_time": "2024-07-31T12:56:30.521Z"
   },
   {
    "duration": 5,
    "start_time": "2024-07-31T12:56:55.501Z"
   },
   {
    "duration": 6,
    "start_time": "2024-07-31T12:56:55.845Z"
   },
   {
    "duration": 2,
    "start_time": "2024-07-31T12:56:57.315Z"
   },
   {
    "duration": 54065,
    "start_time": "2024-07-31T12:56:58.117Z"
   },
   {
    "duration": 6,
    "start_time": "2024-07-31T13:01:55.717Z"
   },
   {
    "duration": 1413,
    "start_time": "2024-07-31T13:01:57.090Z"
   },
   {
    "duration": 74,
    "start_time": "2024-07-31T13:01:58.505Z"
   },
   {
    "duration": 6,
    "start_time": "2024-07-31T13:04:08.414Z"
   },
   {
    "duration": 2,
    "start_time": "2024-07-31T13:04:08.758Z"
   },
   {
    "duration": 13,
    "start_time": "2024-07-31T13:04:09.166Z"
   },
   {
    "duration": 6,
    "start_time": "2024-07-31T13:04:23.112Z"
   },
   {
    "duration": 4,
    "start_time": "2024-07-31T13:04:23.389Z"
   },
   {
    "duration": 39580,
    "start_time": "2024-07-31T13:04:23.782Z"
   },
   {
    "duration": 5,
    "start_time": "2024-07-31T13:08:37.436Z"
   },
   {
    "duration": 31,
    "start_time": "2024-07-31T13:08:42.297Z"
   },
   {
    "duration": 5,
    "start_time": "2024-07-31T13:18:00.377Z"
   },
   {
    "duration": 29,
    "start_time": "2024-07-31T13:18:04.893Z"
   },
   {
    "duration": 6,
    "start_time": "2024-07-31T13:18:30.442Z"
   },
   {
    "duration": 14770,
    "start_time": "2024-07-31T13:18:35.515Z"
   },
   {
    "duration": 4,
    "start_time": "2024-07-31T13:20:48.416Z"
   },
   {
    "duration": 3234,
    "start_time": "2024-07-31T13:20:52.586Z"
   },
   {
    "duration": 3,
    "start_time": "2024-07-31T13:21:14.632Z"
   },
   {
    "duration": 3259,
    "start_time": "2024-07-31T13:21:19.868Z"
   },
   {
    "duration": 3,
    "start_time": "2024-07-31T13:21:31.012Z"
   },
   {
    "duration": 5,
    "start_time": "2024-07-31T13:21:55.218Z"
   },
   {
    "duration": 3207,
    "start_time": "2024-07-31T13:21:58.687Z"
   },
   {
    "duration": 3,
    "start_time": "2024-07-31T13:22:10.204Z"
   },
   {
    "duration": 3138,
    "start_time": "2024-07-31T13:22:13.624Z"
   },
   {
    "duration": 3,
    "start_time": "2024-07-31T13:22:38.403Z"
   },
   {
    "duration": 4,
    "start_time": "2024-07-31T13:23:16.721Z"
   },
   {
    "duration": 4,
    "start_time": "2024-07-31T13:23:20.480Z"
   },
   {
    "duration": 1017198,
    "start_time": "2024-07-31T13:23:32.923Z"
   },
   {
    "duration": 4,
    "start_time": "2024-07-31T13:41:03.864Z"
   },
   {
    "duration": 2212,
    "start_time": "2024-07-31T13:41:04.584Z"
   },
   {
    "duration": 5,
    "start_time": "2024-07-31T14:58:23.432Z"
   },
   {
    "duration": 20,
    "start_time": "2024-07-31T15:28:15.268Z"
   },
   {
    "duration": 5,
    "start_time": "2024-07-31T15:28:24.795Z"
   },
   {
    "duration": 6,
    "start_time": "2024-07-31T15:28:26.627Z"
   },
   {
    "duration": 15,
    "start_time": "2024-07-31T15:28:33.952Z"
   },
   {
    "duration": 13,
    "start_time": "2024-07-31T15:28:34.874Z"
   },
   {
    "duration": 12,
    "start_time": "2024-07-31T15:28:38.189Z"
   },
   {
    "duration": 2000,
    "start_time": "2024-08-01T10:02:50.918Z"
   },
   {
    "duration": 6,
    "start_time": "2024-08-01T10:02:52.920Z"
   },
   {
    "duration": 7,
    "start_time": "2024-08-01T10:02:52.927Z"
   },
   {
    "duration": 9,
    "start_time": "2024-08-01T10:02:52.936Z"
   },
   {
    "duration": 19,
    "start_time": "2024-08-01T10:02:52.947Z"
   },
   {
    "duration": 170,
    "start_time": "2024-08-01T10:02:52.967Z"
   },
   {
    "duration": 5,
    "start_time": "2024-08-01T10:02:53.139Z"
   },
   {
    "duration": 16,
    "start_time": "2024-08-01T10:02:53.145Z"
   },
   {
    "duration": 11,
    "start_time": "2024-08-01T10:02:53.163Z"
   },
   {
    "duration": 28,
    "start_time": "2024-08-01T10:02:53.177Z"
   },
   {
    "duration": 8,
    "start_time": "2024-08-01T10:02:53.206Z"
   },
   {
    "duration": 7,
    "start_time": "2024-08-01T10:02:53.215Z"
   },
   {
    "duration": 13,
    "start_time": "2024-08-01T10:02:53.224Z"
   },
   {
    "duration": 7,
    "start_time": "2024-08-01T10:02:53.238Z"
   },
   {
    "duration": 11,
    "start_time": "2024-08-01T10:02:53.246Z"
   },
   {
    "duration": 7,
    "start_time": "2024-08-01T10:02:53.258Z"
   },
   {
    "duration": 24,
    "start_time": "2024-08-01T10:02:53.267Z"
   },
   {
    "duration": 8,
    "start_time": "2024-08-01T10:02:53.293Z"
   },
   {
    "duration": 6,
    "start_time": "2024-08-01T10:02:53.302Z"
   },
   {
    "duration": 7,
    "start_time": "2024-08-01T10:02:53.309Z"
   },
   {
    "duration": 4,
    "start_time": "2024-08-01T10:02:53.318Z"
   },
   {
    "duration": 6,
    "start_time": "2024-08-01T10:02:53.324Z"
   },
   {
    "duration": 4,
    "start_time": "2024-08-01T10:02:53.331Z"
   },
   {
    "duration": 4,
    "start_time": "2024-08-01T10:02:53.336Z"
   },
   {
    "duration": 44,
    "start_time": "2024-08-01T10:02:53.342Z"
   },
   {
    "duration": 13,
    "start_time": "2024-08-01T10:02:53.387Z"
   },
   {
    "duration": 5,
    "start_time": "2024-08-01T10:02:53.401Z"
   },
   {
    "duration": 5,
    "start_time": "2024-08-01T10:02:53.410Z"
   },
   {
    "duration": 337,
    "start_time": "2024-08-01T10:02:53.417Z"
   },
   {
    "duration": 254,
    "start_time": "2024-08-01T10:02:53.756Z"
   },
   {
    "duration": 473,
    "start_time": "2024-08-01T10:02:54.012Z"
   },
   {
    "duration": 237,
    "start_time": "2024-08-01T10:02:54.487Z"
   },
   {
    "duration": 234,
    "start_time": "2024-08-01T10:02:54.725Z"
   },
   {
    "duration": 232,
    "start_time": "2024-08-01T10:02:54.960Z"
   },
   {
    "duration": 1747,
    "start_time": "2024-08-01T10:02:55.194Z"
   },
   {
    "duration": 3,
    "start_time": "2024-08-01T10:02:56.943Z"
   },
   {
    "duration": 41,
    "start_time": "2024-08-01T10:02:56.986Z"
   },
   {
    "duration": 8,
    "start_time": "2024-08-01T10:02:57.028Z"
   },
   {
    "duration": 5,
    "start_time": "2024-08-01T10:02:57.037Z"
   },
   {
    "duration": 58,
    "start_time": "2024-08-01T10:02:57.043Z"
   },
   {
    "duration": 0,
    "start_time": "2024-08-01T10:02:57.102Z"
   },
   {
    "duration": 0,
    "start_time": "2024-08-01T10:02:57.103Z"
   },
   {
    "duration": 0,
    "start_time": "2024-08-01T10:02:57.104Z"
   },
   {
    "duration": 0,
    "start_time": "2024-08-01T10:02:57.105Z"
   },
   {
    "duration": 0,
    "start_time": "2024-08-01T10:02:57.106Z"
   },
   {
    "duration": 0,
    "start_time": "2024-08-01T10:02:57.107Z"
   },
   {
    "duration": 0,
    "start_time": "2024-08-01T10:02:57.108Z"
   },
   {
    "duration": 0,
    "start_time": "2024-08-01T10:02:57.109Z"
   },
   {
    "duration": 0,
    "start_time": "2024-08-01T10:02:57.110Z"
   },
   {
    "duration": 0,
    "start_time": "2024-08-01T10:02:57.111Z"
   },
   {
    "duration": 0,
    "start_time": "2024-08-01T10:02:57.111Z"
   },
   {
    "duration": 0,
    "start_time": "2024-08-01T10:02:57.112Z"
   },
   {
    "duration": 0,
    "start_time": "2024-08-01T10:02:57.113Z"
   },
   {
    "duration": 0,
    "start_time": "2024-08-01T10:02:57.114Z"
   },
   {
    "duration": 0,
    "start_time": "2024-08-01T10:02:57.115Z"
   },
   {
    "duration": 0,
    "start_time": "2024-08-01T10:02:57.116Z"
   },
   {
    "duration": 0,
    "start_time": "2024-08-01T10:02:57.117Z"
   },
   {
    "duration": 0,
    "start_time": "2024-08-01T10:02:57.118Z"
   },
   {
    "duration": 0,
    "start_time": "2024-08-01T10:02:57.119Z"
   },
   {
    "duration": 0,
    "start_time": "2024-08-01T10:02:57.120Z"
   },
   {
    "duration": 0,
    "start_time": "2024-08-01T10:02:57.121Z"
   },
   {
    "duration": 0,
    "start_time": "2024-08-01T10:02:57.121Z"
   },
   {
    "duration": 0,
    "start_time": "2024-08-01T10:02:57.123Z"
   },
   {
    "duration": 0,
    "start_time": "2024-08-01T10:02:57.123Z"
   },
   {
    "duration": 0,
    "start_time": "2024-08-01T10:02:57.124Z"
   },
   {
    "duration": 0,
    "start_time": "2024-08-01T10:02:57.125Z"
   },
   {
    "duration": 0,
    "start_time": "2024-08-01T10:02:57.126Z"
   },
   {
    "duration": 0,
    "start_time": "2024-08-01T10:02:57.127Z"
   },
   {
    "duration": 0,
    "start_time": "2024-08-01T10:02:57.128Z"
   },
   {
    "duration": 0,
    "start_time": "2024-08-01T10:02:57.129Z"
   },
   {
    "duration": 0,
    "start_time": "2024-08-01T10:02:57.184Z"
   },
   {
    "duration": 184,
    "start_time": "2024-08-01T10:03:44.803Z"
   },
   {
    "duration": 256,
    "start_time": "2024-08-01T10:04:11.823Z"
   },
   {
    "duration": 257,
    "start_time": "2024-08-01T10:13:23.165Z"
   },
   {
    "duration": 260,
    "start_time": "2024-08-01T10:15:51.664Z"
   },
   {
    "duration": 267,
    "start_time": "2024-08-01T10:16:14.039Z"
   },
   {
    "duration": 252,
    "start_time": "2024-08-01T10:16:20.818Z"
   },
   {
    "duration": 268,
    "start_time": "2024-08-01T10:16:27.366Z"
   },
   {
    "duration": 309,
    "start_time": "2024-08-01T10:17:38.869Z"
   },
   {
    "duration": 283,
    "start_time": "2024-08-01T10:17:44.106Z"
   },
   {
    "duration": 2,
    "start_time": "2024-08-01T10:18:07.219Z"
   },
   {
    "duration": 2,
    "start_time": "2024-08-01T10:18:13.569Z"
   },
   {
    "duration": 4,
    "start_time": "2024-08-01T10:18:26.481Z"
   },
   {
    "duration": 4,
    "start_time": "2024-08-01T10:18:27.152Z"
   },
   {
    "duration": 5,
    "start_time": "2024-08-01T10:18:27.429Z"
   },
   {
    "duration": 4,
    "start_time": "2024-08-01T10:18:29.329Z"
   },
   {
    "duration": 5,
    "start_time": "2024-08-01T10:18:29.607Z"
   },
   {
    "duration": 6,
    "start_time": "2024-08-01T10:18:30.294Z"
   },
   {
    "duration": 6,
    "start_time": "2024-08-01T10:18:30.622Z"
   },
   {
    "duration": 5,
    "start_time": "2024-08-01T10:18:31.342Z"
   },
   {
    "duration": 5,
    "start_time": "2024-08-01T10:18:32.864Z"
   },
   {
    "duration": 6,
    "start_time": "2024-08-01T10:18:33.193Z"
   },
   {
    "duration": 3,
    "start_time": "2024-08-01T10:18:33.536Z"
   },
   {
    "duration": 4,
    "start_time": "2024-08-01T10:18:35.024Z"
   },
   {
    "duration": 4,
    "start_time": "2024-08-01T10:18:35.585Z"
   },
   {
    "duration": 3,
    "start_time": "2024-08-01T10:18:36.497Z"
   },
   {
    "duration": 13,
    "start_time": "2024-08-01T10:18:36.939Z"
   },
   {
    "duration": 12,
    "start_time": "2024-08-01T10:18:38.542Z"
   },
   {
    "duration": 12,
    "start_time": "2024-08-01T10:18:39.084Z"
   },
   {
    "duration": 6,
    "start_time": "2024-08-01T10:18:39.590Z"
   },
   {
    "duration": 5,
    "start_time": "2024-08-01T10:20:16.192Z"
   },
   {
    "duration": 6,
    "start_time": "2024-08-01T10:20:28.741Z"
   },
   {
    "duration": 3,
    "start_time": "2024-08-01T10:20:34.025Z"
   },
   {
    "duration": 39060,
    "start_time": "2024-08-01T10:20:41.035Z"
   },
   {
    "duration": 3,
    "start_time": "2024-08-01T10:22:58.408Z"
   },
   {
    "duration": 4,
    "start_time": "2024-08-01T10:22:58.833Z"
   },
   {
    "duration": 3,
    "start_time": "2024-08-01T10:22:59.209Z"
   },
   {
    "duration": 2229,
    "start_time": "2024-08-01T10:22:59.602Z"
   },
   {
    "duration": 4,
    "start_time": "2024-08-01T10:24:37.778Z"
   },
   {
    "duration": 3,
    "start_time": "2024-08-01T10:24:39.888Z"
   },
   {
    "duration": 4,
    "start_time": "2024-08-01T10:24:41.656Z"
   },
   {
    "duration": 25,
    "start_time": "2024-08-01T10:24:51.746Z"
   },
   {
    "duration": 5,
    "start_time": "2024-08-01T10:25:04.485Z"
   },
   {
    "duration": 995747,
    "start_time": "2024-08-01T10:25:07.346Z"
   },
   {
    "duration": 5,
    "start_time": "2024-08-01T10:41:54.621Z"
   },
   {
    "duration": 1208027,
    "start_time": "2024-08-01T10:41:59.349Z"
   },
   {
    "duration": 6,
    "start_time": "2024-08-01T11:03:31.091Z"
   },
   {
    "duration": 18,
    "start_time": "2024-08-01T11:03:35.819Z"
   },
   {
    "duration": 992633,
    "start_time": "2024-08-01T11:03:40.481Z"
   },
   {
    "duration": 4949513,
    "start_time": "2024-08-01T11:21:43.062Z"
   },
   {
    "duration": 3,
    "start_time": "2024-08-01T12:49:10.542Z"
   },
   {
    "duration": 42325,
    "start_time": "2024-08-01T12:49:14.273Z"
   },
   {
    "duration": 3,
    "start_time": "2024-08-01T12:50:32.043Z"
   },
   {
    "duration": 39568,
    "start_time": "2024-08-01T12:50:33.138Z"
   },
   {
    "duration": 2,
    "start_time": "2024-08-01T12:56:15.983Z"
   },
   {
    "duration": 4,
    "start_time": "2024-08-01T12:56:26.481Z"
   },
   {
    "duration": 5,
    "start_time": "2024-08-01T12:56:29.260Z"
   },
   {
    "duration": 3,
    "start_time": "2024-08-01T12:56:31.241Z"
   },
   {
    "duration": 4,
    "start_time": "2024-08-01T12:56:32.664Z"
   },
   {
    "duration": 4,
    "start_time": "2024-08-01T12:56:33.254Z"
   },
   {
    "duration": 2,
    "start_time": "2024-08-01T12:56:36.328Z"
   },
   {
    "duration": 13,
    "start_time": "2024-08-01T12:56:36.671Z"
   },
   {
    "duration": 11,
    "start_time": "2024-08-01T12:56:39.473Z"
   },
   {
    "duration": 13,
    "start_time": "2024-08-01T12:56:39.925Z"
   },
   {
    "duration": 5,
    "start_time": "2024-08-01T12:56:42.052Z"
   },
   {
    "duration": 3,
    "start_time": "2024-08-01T12:56:47.972Z"
   },
   {
    "duration": 38834,
    "start_time": "2024-08-01T12:56:49.656Z"
   },
   {
    "duration": 3,
    "start_time": "2024-08-01T12:57:44.566Z"
   },
   {
    "duration": 4,
    "start_time": "2024-08-01T12:58:07.050Z"
   },
   {
    "duration": 7,
    "start_time": "2024-08-01T12:58:08.525Z"
   },
   {
    "duration": 5,
    "start_time": "2024-08-01T12:58:11.389Z"
   },
   {
    "duration": 5,
    "start_time": "2024-08-01T12:58:11.634Z"
   },
   {
    "duration": 2,
    "start_time": "2024-08-01T12:58:14.746Z"
   },
   {
    "duration": 12,
    "start_time": "2024-08-01T12:58:14.957Z"
   },
   {
    "duration": 5,
    "start_time": "2024-08-01T12:58:17.036Z"
   },
   {
    "duration": 3504,
    "start_time": "2024-08-01T13:00:07.306Z"
   },
   {
    "duration": 84,
    "start_time": "2024-08-01T13:00:13.706Z"
   },
   {
    "duration": 20,
    "start_time": "2024-08-01T13:01:08.492Z"
   },
   {
    "duration": 463,
    "start_time": "2024-08-01T13:01:20.692Z"
   },
   {
    "duration": 1141,
    "start_time": "2024-08-01T13:01:43.444Z"
   },
   {
    "duration": 15,
    "start_time": "2024-08-01T13:06:56.447Z"
   },
   {
    "duration": 20,
    "start_time": "2024-08-01T13:07:16.467Z"
   },
   {
    "duration": 5,
    "start_time": "2024-08-01T13:07:37.068Z"
   },
   {
    "duration": 7,
    "start_time": "2024-08-01T13:07:38.771Z"
   },
   {
    "duration": 5,
    "start_time": "2024-08-01T13:07:41.880Z"
   },
   {
    "duration": 3,
    "start_time": "2024-08-01T13:07:42.290Z"
   },
   {
    "duration": 4,
    "start_time": "2024-08-01T13:07:43.418Z"
   },
   {
    "duration": 6,
    "start_time": "2024-08-01T13:07:44.122Z"
   },
   {
    "duration": 2,
    "start_time": "2024-08-01T13:07:46.922Z"
   },
   {
    "duration": 13,
    "start_time": "2024-08-01T13:07:47.297Z"
   },
   {
    "duration": 13,
    "start_time": "2024-08-01T13:07:50.948Z"
   },
   {
    "duration": 14,
    "start_time": "2024-08-01T13:07:52.356Z"
   },
   {
    "duration": 7,
    "start_time": "2024-08-01T13:07:55.499Z"
   },
   {
    "duration": 3,
    "start_time": "2024-08-01T13:08:05.334Z"
   },
   {
    "duration": 39379,
    "start_time": "2024-08-01T13:08:09.017Z"
   },
   {
    "duration": 3,
    "start_time": "2024-08-01T13:08:55.455Z"
   },
   {
    "duration": 42516,
    "start_time": "2024-08-01T13:08:56.190Z"
   },
   {
    "duration": 137570,
    "start_time": "2024-08-01T13:13:05.434Z"
   },
   {
    "duration": 5,
    "start_time": "2024-08-01T13:17:11.288Z"
   },
   {
    "duration": 977799,
    "start_time": "2024-08-01T13:17:13.874Z"
   },
   {
    "duration": 4,
    "start_time": "2024-08-01T13:38:30.522Z"
   },
   {
    "duration": 5,
    "start_time": "2024-08-01T13:38:32.893Z"
   },
   {
    "duration": 3,
    "start_time": "2024-08-01T13:38:34.888Z"
   },
   {
    "duration": 4,
    "start_time": "2024-08-01T13:38:36.345Z"
   },
   {
    "duration": 4,
    "start_time": "2024-08-01T13:38:36.672Z"
   },
   {
    "duration": 2,
    "start_time": "2024-08-01T13:38:38.864Z"
   },
   {
    "duration": 13,
    "start_time": "2024-08-01T13:38:39.124Z"
   },
   {
    "duration": 2,
    "start_time": "2024-08-01T13:38:47.652Z"
   },
   {
    "duration": 17,
    "start_time": "2024-08-01T13:38:57.415Z"
   },
   {
    "duration": 5,
    "start_time": "2024-08-01T13:39:12.471Z"
   },
   {
    "duration": 166325,
    "start_time": "2024-08-01T13:39:17.281Z"
   },
   {
    "duration": 5,
    "start_time": "2024-08-01T13:42:06.264Z"
   },
   {
    "duration": 2,
    "start_time": "2024-08-01T13:42:20.875Z"
   },
   {
    "duration": 968267,
    "start_time": "2024-08-01T13:42:35.430Z"
   },
   {
    "duration": 97419,
    "start_time": "2024-08-01T13:59:11.866Z"
   },
   {
    "duration": 4,
    "start_time": "2024-08-01T14:03:11.914Z"
   },
   {
    "duration": 5,
    "start_time": "2024-08-01T14:03:13.501Z"
   },
   {
    "duration": 4,
    "start_time": "2024-08-01T14:03:16.920Z"
   },
   {
    "duration": 4,
    "start_time": "2024-08-01T14:03:17.149Z"
   },
   {
    "duration": 3,
    "start_time": "2024-08-01T14:03:18.917Z"
   },
   {
    "duration": 13,
    "start_time": "2024-08-01T14:03:19.179Z"
   },
   {
    "duration": 6,
    "start_time": "2024-08-01T14:03:21.289Z"
   },
   {
    "duration": 3,
    "start_time": "2024-08-01T14:03:28.939Z"
   },
   {
    "duration": 5,
    "start_time": "2024-08-01T14:03:35.108Z"
   },
   {
    "duration": 99953,
    "start_time": "2024-08-01T14:03:37.269Z"
   },
   {
    "duration": 4,
    "start_time": "2024-08-01T14:06:00.518Z"
   },
   {
    "duration": 8,
    "start_time": "2024-08-01T14:07:34.398Z"
   },
   {
    "duration": 25,
    "start_time": "2024-08-01T14:07:41.418Z"
   },
   {
    "duration": 7,
    "start_time": "2024-08-01T14:08:07.866Z"
   },
   {
    "duration": 25,
    "start_time": "2024-08-01T14:08:10.521Z"
   },
   {
    "duration": 5,
    "start_time": "2024-08-01T14:08:40.712Z"
   },
   {
    "duration": 24,
    "start_time": "2024-08-01T14:08:42.970Z"
   },
   {
    "duration": 5,
    "start_time": "2024-08-01T14:08:58.986Z"
   },
   {
    "duration": 11,
    "start_time": "2024-08-01T14:09:00.457Z"
   },
   {
    "duration": 7,
    "start_time": "2024-08-01T14:09:00.834Z"
   },
   {
    "duration": 5,
    "start_time": "2024-08-01T14:09:03.614Z"
   },
   {
    "duration": 4,
    "start_time": "2024-08-01T14:09:03.974Z"
   },
   {
    "duration": 3,
    "start_time": "2024-08-01T14:09:15.884Z"
   },
   {
    "duration": 18,
    "start_time": "2024-08-01T14:09:16.180Z"
   },
   {
    "duration": 6,
    "start_time": "2024-08-01T14:09:18.241Z"
   },
   {
    "duration": 3,
    "start_time": "2024-08-01T14:09:23.181Z"
   },
   {
    "duration": 5,
    "start_time": "2024-08-01T14:09:26.356Z"
   },
   {
    "duration": 100543,
    "start_time": "2024-08-01T14:09:29.223Z"
   },
   {
    "duration": 4,
    "start_time": "2024-08-01T14:11:42.728Z"
   },
   {
    "duration": 5,
    "start_time": "2024-08-01T14:11:44.725Z"
   },
   {
    "duration": 3,
    "start_time": "2024-08-01T14:12:01.106Z"
   },
   {
    "duration": 15,
    "start_time": "2024-08-01T14:12:01.434Z"
   },
   {
    "duration": 6,
    "start_time": "2024-08-01T14:12:04.117Z"
   },
   {
    "duration": 99128,
    "start_time": "2024-08-01T14:12:10.499Z"
   },
   {
    "duration": 1969,
    "start_time": "2024-08-01T14:15:08.419Z"
   },
   {
    "duration": 5,
    "start_time": "2024-08-01T14:15:10.390Z"
   },
   {
    "duration": 6,
    "start_time": "2024-08-01T14:15:10.397Z"
   },
   {
    "duration": 3,
    "start_time": "2024-08-01T14:15:10.405Z"
   },
   {
    "duration": 3,
    "start_time": "2024-08-01T14:15:10.410Z"
   },
   {
    "duration": 111,
    "start_time": "2024-08-01T14:15:10.415Z"
   },
   {
    "duration": 5,
    "start_time": "2024-08-01T14:15:10.528Z"
   },
   {
    "duration": 14,
    "start_time": "2024-08-01T14:15:10.535Z"
   },
   {
    "duration": 34,
    "start_time": "2024-08-01T14:15:10.551Z"
   },
   {
    "duration": 24,
    "start_time": "2024-08-01T14:15:10.588Z"
   },
   {
    "duration": 7,
    "start_time": "2024-08-01T14:15:10.614Z"
   },
   {
    "duration": 43,
    "start_time": "2024-08-01T14:15:10.623Z"
   },
   {
    "duration": 27,
    "start_time": "2024-08-01T14:15:10.668Z"
   },
   {
    "duration": 18,
    "start_time": "2024-08-01T14:15:10.697Z"
   },
   {
    "duration": 10,
    "start_time": "2024-08-01T14:15:10.717Z"
   },
   {
    "duration": 12,
    "start_time": "2024-08-01T14:15:10.729Z"
   },
   {
    "duration": 18,
    "start_time": "2024-08-01T14:15:10.743Z"
   },
   {
    "duration": 25,
    "start_time": "2024-08-01T14:15:10.763Z"
   },
   {
    "duration": 9,
    "start_time": "2024-08-01T14:15:10.790Z"
   },
   {
    "duration": 20,
    "start_time": "2024-08-01T14:15:10.801Z"
   },
   {
    "duration": 6,
    "start_time": "2024-08-01T14:15:10.823Z"
   },
   {
    "duration": 9,
    "start_time": "2024-08-01T14:15:10.831Z"
   },
   {
    "duration": 5,
    "start_time": "2024-08-01T14:15:10.842Z"
   },
   {
    "duration": 13,
    "start_time": "2024-08-01T14:15:10.848Z"
   },
   {
    "duration": 24,
    "start_time": "2024-08-01T14:15:10.862Z"
   },
   {
    "duration": 9,
    "start_time": "2024-08-01T14:15:10.888Z"
   },
   {
    "duration": 15,
    "start_time": "2024-08-01T14:15:10.898Z"
   },
   {
    "duration": 24,
    "start_time": "2024-08-01T14:15:10.917Z"
   },
   {
    "duration": 363,
    "start_time": "2024-08-01T14:15:10.943Z"
   },
   {
    "duration": 244,
    "start_time": "2024-08-01T14:15:11.307Z"
   },
   {
    "duration": 455,
    "start_time": "2024-08-01T14:15:11.553Z"
   },
   {
    "duration": 252,
    "start_time": "2024-08-01T14:15:12.011Z"
   },
   {
    "duration": 237,
    "start_time": "2024-08-01T14:15:12.265Z"
   },
   {
    "duration": 223,
    "start_time": "2024-08-01T14:15:12.504Z"
   },
   {
    "duration": 1242,
    "start_time": "2024-08-01T14:15:12.728Z"
   },
   {
    "duration": 5,
    "start_time": "2024-08-01T14:15:13.971Z"
   },
   {
    "duration": 11,
    "start_time": "2024-08-01T14:15:13.977Z"
   },
   {
    "duration": 5,
    "start_time": "2024-08-01T14:15:13.990Z"
   },
   {
    "duration": 14,
    "start_time": "2024-08-01T14:15:13.996Z"
   },
   {
    "duration": 6,
    "start_time": "2024-08-01T14:15:14.012Z"
   },
   {
    "duration": 5,
    "start_time": "2024-08-01T14:15:14.020Z"
   },
   {
    "duration": 5,
    "start_time": "2024-08-01T14:15:14.027Z"
   },
   {
    "duration": 7,
    "start_time": "2024-08-01T14:15:14.033Z"
   },
   {
    "duration": 11,
    "start_time": "2024-08-01T14:15:14.042Z"
   },
   {
    "duration": 16,
    "start_time": "2024-08-01T14:15:14.055Z"
   },
   {
    "duration": 18,
    "start_time": "2024-08-01T14:15:14.073Z"
   },
   {
    "duration": 12,
    "start_time": "2024-08-01T14:15:14.094Z"
   },
   {
    "duration": 18,
    "start_time": "2024-08-01T14:15:14.109Z"
   },
   {
    "duration": 17,
    "start_time": "2024-08-01T14:15:14.130Z"
   },
   {
    "duration": 162,
    "start_time": "2024-08-01T14:15:14.150Z"
   },
   {
    "duration": 0,
    "start_time": "2024-08-01T14:15:14.314Z"
   },
   {
    "duration": 0,
    "start_time": "2024-08-01T14:15:14.315Z"
   },
   {
    "duration": 0,
    "start_time": "2024-08-01T14:15:14.317Z"
   },
   {
    "duration": 0,
    "start_time": "2024-08-01T14:15:14.318Z"
   },
   {
    "duration": 0,
    "start_time": "2024-08-01T14:15:14.319Z"
   },
   {
    "duration": 0,
    "start_time": "2024-08-01T14:15:14.320Z"
   },
   {
    "duration": 0,
    "start_time": "2024-08-01T14:15:14.321Z"
   },
   {
    "duration": 0,
    "start_time": "2024-08-01T14:15:14.323Z"
   },
   {
    "duration": 0,
    "start_time": "2024-08-01T14:15:14.323Z"
   },
   {
    "duration": 0,
    "start_time": "2024-08-01T14:15:14.324Z"
   },
   {
    "duration": 0,
    "start_time": "2024-08-01T14:15:14.326Z"
   },
   {
    "duration": 0,
    "start_time": "2024-08-01T14:15:14.327Z"
   },
   {
    "duration": 0,
    "start_time": "2024-08-01T14:15:14.328Z"
   },
   {
    "duration": 0,
    "start_time": "2024-08-01T14:15:14.329Z"
   },
   {
    "duration": 0,
    "start_time": "2024-08-01T14:15:14.330Z"
   },
   {
    "duration": 1,
    "start_time": "2024-08-01T14:15:14.331Z"
   },
   {
    "duration": 0,
    "start_time": "2024-08-01T14:15:14.332Z"
   },
   {
    "duration": 0,
    "start_time": "2024-08-01T14:15:14.334Z"
   },
   {
    "duration": 0,
    "start_time": "2024-08-01T14:15:14.335Z"
   },
   {
    "duration": 0,
    "start_time": "2024-08-01T14:15:14.336Z"
   },
   {
    "duration": 0,
    "start_time": "2024-08-01T14:15:14.337Z"
   },
   {
    "duration": 0,
    "start_time": "2024-08-01T14:15:14.339Z"
   },
   {
    "duration": 0,
    "start_time": "2024-08-01T14:15:14.340Z"
   },
   {
    "duration": 0,
    "start_time": "2024-08-01T14:15:14.341Z"
   },
   {
    "duration": 0,
    "start_time": "2024-08-01T14:15:14.385Z"
   },
   {
    "duration": 0,
    "start_time": "2024-08-01T14:15:14.387Z"
   },
   {
    "duration": 6,
    "start_time": "2024-08-01T14:16:10.288Z"
   },
   {
    "duration": 5,
    "start_time": "2024-08-01T14:16:11.105Z"
   },
   {
    "duration": 8,
    "start_time": "2024-08-01T14:16:11.972Z"
   },
   {
    "duration": 6,
    "start_time": "2024-08-01T14:16:12.414Z"
   },
   {
    "duration": 3,
    "start_time": "2024-08-01T14:16:13.724Z"
   },
   {
    "duration": 4,
    "start_time": "2024-08-01T14:16:14.165Z"
   },
   {
    "duration": 4,
    "start_time": "2024-08-01T14:16:14.706Z"
   },
   {
    "duration": 2,
    "start_time": "2024-08-01T14:16:15.507Z"
   },
   {
    "duration": 14,
    "start_time": "2024-08-01T14:16:15.915Z"
   },
   {
    "duration": 13,
    "start_time": "2024-08-01T14:16:18.387Z"
   },
   {
    "duration": 13,
    "start_time": "2024-08-01T14:16:18.648Z"
   },
   {
    "duration": 8,
    "start_time": "2024-08-01T14:16:21.298Z"
   },
   {
    "duration": 3,
    "start_time": "2024-08-01T14:16:32.181Z"
   },
   {
    "duration": 5,
    "start_time": "2024-08-01T14:17:02.041Z"
   },
   {
    "duration": 4,
    "start_time": "2024-08-01T14:17:02.336Z"
   },
   {
    "duration": 4,
    "start_time": "2024-08-01T14:17:02.647Z"
   },
   {
    "duration": 96317,
    "start_time": "2024-08-01T14:17:05.248Z"
   },
   {
    "duration": 3,
    "start_time": "2024-08-01T14:19:41.927Z"
   },
   {
    "duration": 100578,
    "start_time": "2024-08-01T14:19:45.707Z"
   },
   {
    "duration": 3,
    "start_time": "2024-08-01T14:22:04.393Z"
   },
   {
    "duration": 197175,
    "start_time": "2024-08-01T14:22:07.292Z"
   },
   {
    "duration": 3,
    "start_time": "2024-08-01T14:25:43.807Z"
   },
   {
    "duration": 5,
    "start_time": "2024-08-01T14:28:34.664Z"
   },
   {
    "duration": 61,
    "start_time": "2024-08-01T14:29:03.330Z"
   },
   {
    "duration": 66,
    "start_time": "2024-08-01T14:29:41.883Z"
   },
   {
    "duration": 70,
    "start_time": "2024-08-01T14:35:23.475Z"
   },
   {
    "duration": 3,
    "start_time": "2024-08-01T14:35:39.971Z"
   },
   {
    "duration": 98129,
    "start_time": "2024-08-01T14:35:43.456Z"
   },
   {
    "duration": 7580128,
    "start_time": "2024-08-01T14:37:50.480Z"
   },
   {
    "duration": 1719,
    "start_time": "2024-08-01T17:32:16.950Z"
   },
   {
    "duration": 5,
    "start_time": "2024-08-01T17:32:18.671Z"
   },
   {
    "duration": 6,
    "start_time": "2024-08-01T17:32:18.685Z"
   },
   {
    "duration": 5,
    "start_time": "2024-08-01T17:32:18.692Z"
   },
   {
    "duration": 3,
    "start_time": "2024-08-01T17:32:18.699Z"
   },
   {
    "duration": 118,
    "start_time": "2024-08-01T17:32:18.703Z"
   },
   {
    "duration": 5,
    "start_time": "2024-08-01T17:32:18.822Z"
   },
   {
    "duration": 11,
    "start_time": "2024-08-01T17:32:18.829Z"
   },
   {
    "duration": 11,
    "start_time": "2024-08-01T17:32:18.841Z"
   },
   {
    "duration": 41,
    "start_time": "2024-08-01T17:32:18.853Z"
   },
   {
    "duration": 8,
    "start_time": "2024-08-01T17:32:18.895Z"
   },
   {
    "duration": 10,
    "start_time": "2024-08-01T17:32:18.904Z"
   },
   {
    "duration": 9,
    "start_time": "2024-08-01T17:32:18.915Z"
   },
   {
    "duration": 8,
    "start_time": "2024-08-01T17:32:18.927Z"
   },
   {
    "duration": 11,
    "start_time": "2024-08-01T17:32:18.936Z"
   },
   {
    "duration": 5,
    "start_time": "2024-08-01T17:32:18.949Z"
   },
   {
    "duration": 7,
    "start_time": "2024-08-01T17:32:18.956Z"
   },
   {
    "duration": 34,
    "start_time": "2024-08-01T17:32:18.965Z"
   },
   {
    "duration": 6,
    "start_time": "2024-08-01T17:32:19.000Z"
   },
   {
    "duration": 14,
    "start_time": "2024-08-01T17:32:19.007Z"
   },
   {
    "duration": 5,
    "start_time": "2024-08-01T17:32:19.022Z"
   },
   {
    "duration": 5,
    "start_time": "2024-08-01T17:32:19.028Z"
   },
   {
    "duration": 5,
    "start_time": "2024-08-01T17:32:19.035Z"
   },
   {
    "duration": 5,
    "start_time": "2024-08-01T17:32:19.041Z"
   },
   {
    "duration": 8,
    "start_time": "2024-08-01T17:32:19.047Z"
   },
   {
    "duration": 6,
    "start_time": "2024-08-01T17:32:19.056Z"
   },
   {
    "duration": 6,
    "start_time": "2024-08-01T17:32:19.063Z"
   },
   {
    "duration": 23,
    "start_time": "2024-08-01T17:32:19.070Z"
   },
   {
    "duration": 306,
    "start_time": "2024-08-01T17:32:19.094Z"
   },
   {
    "duration": 229,
    "start_time": "2024-08-01T17:32:19.402Z"
   },
   {
    "duration": 407,
    "start_time": "2024-08-01T17:32:19.632Z"
   },
   {
    "duration": 218,
    "start_time": "2024-08-01T17:32:20.041Z"
   },
   {
    "duration": 203,
    "start_time": "2024-08-01T17:32:20.260Z"
   },
   {
    "duration": 209,
    "start_time": "2024-08-01T17:32:20.465Z"
   },
   {
    "duration": 1122,
    "start_time": "2024-08-01T17:32:20.675Z"
   },
   {
    "duration": 4,
    "start_time": "2024-08-01T17:32:21.799Z"
   },
   {
    "duration": 29,
    "start_time": "2024-08-01T17:32:21.805Z"
   },
   {
    "duration": 24,
    "start_time": "2024-08-01T17:32:21.836Z"
   },
   {
    "duration": 9,
    "start_time": "2024-08-01T17:32:21.861Z"
   },
   {
    "duration": 10,
    "start_time": "2024-08-01T17:32:21.871Z"
   },
   {
    "duration": 19,
    "start_time": "2024-08-01T17:32:21.886Z"
   },
   {
    "duration": 49,
    "start_time": "2024-08-01T17:32:21.907Z"
   },
   {
    "duration": 56,
    "start_time": "2024-08-01T17:32:21.958Z"
   },
   {
    "duration": 0,
    "start_time": "2024-08-01T17:32:22.016Z"
   },
   {
    "duration": 0,
    "start_time": "2024-08-01T17:32:22.018Z"
   },
   {
    "duration": 0,
    "start_time": "2024-08-01T17:32:22.019Z"
   },
   {
    "duration": 0,
    "start_time": "2024-08-01T17:32:22.021Z"
   },
   {
    "duration": 0,
    "start_time": "2024-08-01T17:32:22.022Z"
   },
   {
    "duration": 0,
    "start_time": "2024-08-01T17:32:22.023Z"
   },
   {
    "duration": 0,
    "start_time": "2024-08-01T17:32:22.025Z"
   },
   {
    "duration": 0,
    "start_time": "2024-08-01T17:32:22.026Z"
   },
   {
    "duration": 0,
    "start_time": "2024-08-01T17:32:22.028Z"
   },
   {
    "duration": 0,
    "start_time": "2024-08-01T17:32:22.029Z"
   },
   {
    "duration": 0,
    "start_time": "2024-08-01T17:32:22.031Z"
   },
   {
    "duration": 0,
    "start_time": "2024-08-01T17:32:22.032Z"
   },
   {
    "duration": 0,
    "start_time": "2024-08-01T17:32:22.034Z"
   },
   {
    "duration": 0,
    "start_time": "2024-08-01T17:32:22.036Z"
   },
   {
    "duration": 0,
    "start_time": "2024-08-01T17:32:22.037Z"
   },
   {
    "duration": 0,
    "start_time": "2024-08-01T17:32:22.039Z"
   },
   {
    "duration": 0,
    "start_time": "2024-08-01T17:32:22.040Z"
   },
   {
    "duration": 0,
    "start_time": "2024-08-01T17:32:22.041Z"
   },
   {
    "duration": 0,
    "start_time": "2024-08-01T17:32:22.043Z"
   },
   {
    "duration": 0,
    "start_time": "2024-08-01T17:32:22.045Z"
   },
   {
    "duration": 0,
    "start_time": "2024-08-01T17:32:22.046Z"
   },
   {
    "duration": 0,
    "start_time": "2024-08-01T17:32:22.048Z"
   },
   {
    "duration": 0,
    "start_time": "2024-08-01T17:32:22.049Z"
   },
   {
    "duration": 0,
    "start_time": "2024-08-01T17:32:22.051Z"
   },
   {
    "duration": 0,
    "start_time": "2024-08-01T17:32:22.052Z"
   },
   {
    "duration": 0,
    "start_time": "2024-08-01T17:32:22.086Z"
   },
   {
    "duration": 0,
    "start_time": "2024-08-01T17:32:22.087Z"
   },
   {
    "duration": 0,
    "start_time": "2024-08-01T17:32:22.088Z"
   },
   {
    "duration": 0,
    "start_time": "2024-08-01T17:32:22.089Z"
   },
   {
    "duration": 0,
    "start_time": "2024-08-01T17:32:22.090Z"
   },
   {
    "duration": 0,
    "start_time": "2024-08-01T17:32:22.091Z"
   },
   {
    "duration": 0,
    "start_time": "2024-08-01T17:32:22.092Z"
   },
   {
    "duration": 0,
    "start_time": "2024-08-01T17:32:22.093Z"
   },
   {
    "duration": 0,
    "start_time": "2024-08-01T17:32:22.094Z"
   },
   {
    "duration": 0,
    "start_time": "2024-08-01T17:32:22.095Z"
   },
   {
    "duration": 0,
    "start_time": "2024-08-01T17:32:22.096Z"
   },
   {
    "duration": 5,
    "start_time": "2024-08-01T17:32:55.288Z"
   },
   {
    "duration": 7,
    "start_time": "2024-08-01T17:32:56.042Z"
   },
   {
    "duration": 5,
    "start_time": "2024-08-01T17:32:56.435Z"
   },
   {
    "duration": 3,
    "start_time": "2024-08-01T17:32:56.990Z"
   },
   {
    "duration": 4,
    "start_time": "2024-08-01T17:32:57.841Z"
   },
   {
    "duration": 5,
    "start_time": "2024-08-01T17:32:58.185Z"
   },
   {
    "duration": 3,
    "start_time": "2024-08-01T17:33:01.179Z"
   },
   {
    "duration": 15,
    "start_time": "2024-08-01T17:33:01.555Z"
   },
   {
    "duration": 10,
    "start_time": "2024-08-01T17:33:06.642Z"
   },
   {
    "duration": 10,
    "start_time": "2024-08-01T17:33:06.854Z"
   },
   {
    "duration": 132,
    "start_time": "2024-08-01T17:33:07.345Z"
   },
   {
    "duration": 5,
    "start_time": "2024-08-01T17:34:54.590Z"
   },
   {
    "duration": 5,
    "start_time": "2024-08-01T17:34:56.062Z"
   },
   {
    "duration": 5,
    "start_time": "2024-08-01T17:34:56.391Z"
   },
   {
    "duration": 6,
    "start_time": "2024-08-01T17:35:01.333Z"
   },
   {
    "duration": 6,
    "start_time": "2024-08-01T17:35:01.807Z"
   },
   {
    "duration": 6,
    "start_time": "2024-08-01T17:35:03.443Z"
   },
   {
    "duration": 6,
    "start_time": "2024-08-01T17:35:03.999Z"
   },
   {
    "duration": 4,
    "start_time": "2024-08-01T17:35:09.317Z"
   },
   {
    "duration": 6,
    "start_time": "2024-08-01T17:35:10.314Z"
   },
   {
    "duration": 6,
    "start_time": "2024-08-01T17:35:10.738Z"
   },
   {
    "duration": 3,
    "start_time": "2024-08-01T17:35:12.440Z"
   },
   {
    "duration": 4,
    "start_time": "2024-08-01T17:35:13.880Z"
   },
   {
    "duration": 5,
    "start_time": "2024-08-01T17:35:14.256Z"
   },
   {
    "duration": 3,
    "start_time": "2024-08-01T17:35:16.285Z"
   },
   {
    "duration": 13,
    "start_time": "2024-08-01T17:35:16.580Z"
   },
   {
    "duration": 12,
    "start_time": "2024-08-01T17:35:18.658Z"
   },
   {
    "duration": 12,
    "start_time": "2024-08-01T17:35:19.787Z"
   },
   {
    "duration": 5,
    "start_time": "2024-08-01T17:35:21.881Z"
   },
   {
    "duration": 5,
    "start_time": "2024-08-01T17:35:49.722Z"
   },
   {
    "duration": 3,
    "start_time": "2024-08-01T17:35:53.469Z"
   },
   {
    "duration": 6,
    "start_time": "2024-08-01T17:35:55.630Z"
   },
   {
    "duration": 5,
    "start_time": "2024-08-01T17:36:24.989Z"
   },
   {
    "duration": 30,
    "start_time": "2024-08-01T17:36:27.526Z"
   },
   {
    "duration": 2,
    "start_time": "2024-08-01T17:36:35.399Z"
   },
   {
    "duration": 26455,
    "start_time": "2024-08-01T17:36:36.839Z"
   },
   {
    "duration": 6,
    "start_time": "2024-08-01T17:37:14.852Z"
   },
   {
    "duration": 5,
    "start_time": "2024-08-01T17:37:32.623Z"
   },
   {
    "duration": 3,
    "start_time": "2024-08-01T17:37:36.159Z"
   },
   {
    "duration": 22,
    "start_time": "2024-08-01T17:37:38.792Z"
   },
   {
    "duration": 5,
    "start_time": "2024-08-01T17:37:48.642Z"
   },
   {
    "duration": 36679,
    "start_time": "2024-08-01T17:37:51.015Z"
   },
   {
    "duration": 5,
    "start_time": "2024-08-01T17:38:37.735Z"
   },
   {
    "duration": 37671,
    "start_time": "2024-08-01T17:38:46.019Z"
   },
   {
    "duration": 4,
    "start_time": "2024-08-01T17:39:32.385Z"
   },
   {
    "duration": 3,
    "start_time": "2024-08-01T17:39:34.510Z"
   },
   {
    "duration": 37383,
    "start_time": "2024-08-01T17:39:36.409Z"
   },
   {
    "duration": 4,
    "start_time": "2024-08-01T17:40:18.387Z"
   },
   {
    "duration": 3,
    "start_time": "2024-08-01T17:40:27.924Z"
   },
   {
    "duration": 34685,
    "start_time": "2024-08-01T17:40:30.609Z"
   },
   {
    "duration": 6,
    "start_time": "2024-08-01T17:41:27.323Z"
   },
   {
    "duration": 4,
    "start_time": "2024-08-01T17:41:42.995Z"
   },
   {
    "duration": 27378,
    "start_time": "2024-08-01T17:41:47.607Z"
   },
   {
    "duration": 4,
    "start_time": "2024-08-01T17:43:25.999Z"
   },
   {
    "duration": 11,
    "start_time": "2024-08-01T17:43:28.438Z"
   },
   {
    "duration": 4,
    "start_time": "2024-08-01T17:43:50.282Z"
   },
   {
    "duration": 5,
    "start_time": "2024-08-01T17:43:52.087Z"
   },
   {
    "duration": 3,
    "start_time": "2024-08-01T17:43:52.557Z"
   },
   {
    "duration": 4,
    "start_time": "2024-08-01T17:43:53.259Z"
   },
   {
    "duration": 4,
    "start_time": "2024-08-01T17:43:53.587Z"
   },
   {
    "duration": 3,
    "start_time": "2024-08-01T17:43:56.695Z"
   },
   {
    "duration": 12,
    "start_time": "2024-08-01T17:43:57.104Z"
   },
   {
    "duration": 3,
    "start_time": "2024-08-01T17:43:57.660Z"
   },
   {
    "duration": 17,
    "start_time": "2024-08-01T17:43:58.249Z"
   },
   {
    "duration": 10,
    "start_time": "2024-08-01T17:44:16.655Z"
   },
   {
    "duration": 10,
    "start_time": "2024-08-01T17:44:19.357Z"
   },
   {
    "duration": 3,
    "start_time": "2024-08-01T17:44:26.789Z"
   },
   {
    "duration": 10,
    "start_time": "2024-08-01T17:44:33.104Z"
   },
   {
    "duration": 4,
    "start_time": "2024-08-01T17:44:49.460Z"
   },
   {
    "duration": 3,
    "start_time": "2024-08-01T17:45:21.350Z"
   },
   {
    "duration": 23,
    "start_time": "2024-08-01T17:45:25.230Z"
   },
   {
    "duration": 3,
    "start_time": "2024-08-01T17:45:41.417Z"
   },
   {
    "duration": 28,
    "start_time": "2024-08-01T17:45:50.964Z"
   },
   {
    "duration": 26,
    "start_time": "2024-08-01T17:45:53.457Z"
   },
   {
    "duration": 25,
    "start_time": "2024-08-01T17:46:10.466Z"
   },
   {
    "duration": 7,
    "start_time": "2024-08-01T17:46:33.940Z"
   },
   {
    "duration": 28,
    "start_time": "2024-08-01T17:46:43.295Z"
   },
   {
    "duration": 3,
    "start_time": "2024-08-01T17:46:52.061Z"
   },
   {
    "duration": 31435,
    "start_time": "2024-08-01T17:46:52.961Z"
   },
   {
    "duration": 4,
    "start_time": "2024-08-01T17:47:29.051Z"
   },
   {
    "duration": 9,
    "start_time": "2024-08-01T17:47:29.574Z"
   },
   {
    "duration": 6,
    "start_time": "2024-08-01T17:47:30.457Z"
   },
   {
    "duration": 3,
    "start_time": "2024-08-01T17:47:30.735Z"
   },
   {
    "duration": 4,
    "start_time": "2024-08-01T17:47:32.386Z"
   },
   {
    "duration": 5,
    "start_time": "2024-08-01T17:47:32.780Z"
   },
   {
    "duration": 3,
    "start_time": "2024-08-01T17:47:33.777Z"
   },
   {
    "duration": 13,
    "start_time": "2024-08-01T17:47:34.007Z"
   },
   {
    "duration": 11,
    "start_time": "2024-08-01T17:47:35.038Z"
   },
   {
    "duration": 12,
    "start_time": "2024-08-01T17:47:35.317Z"
   },
   {
    "duration": 5,
    "start_time": "2024-08-01T17:47:37.689Z"
   },
   {
    "duration": 3,
    "start_time": "2024-08-01T17:47:42.368Z"
   },
   {
    "duration": 29170,
    "start_time": "2024-08-01T17:47:44.725Z"
   },
   {
    "duration": 3,
    "start_time": "2024-08-01T17:48:52.181Z"
   },
   {
    "duration": 33347,
    "start_time": "2024-08-01T17:48:52.852Z"
   },
   {
    "duration": 5,
    "start_time": "2024-08-01T17:50:05.241Z"
   },
   {
    "duration": 6,
    "start_time": "2024-08-01T17:50:21.769Z"
   },
   {
    "duration": 43281,
    "start_time": "2024-08-01T17:50:25.631Z"
   },
   {
    "duration": 3,
    "start_time": "2024-08-01T17:51:18.063Z"
   },
   {
    "duration": 35322,
    "start_time": "2024-08-01T17:51:18.766Z"
   },
   {
    "duration": 3,
    "start_time": "2024-08-01T17:52:13.635Z"
   },
   {
    "duration": 35186,
    "start_time": "2024-08-01T17:52:14.206Z"
   },
   {
    "duration": 3,
    "start_time": "2024-08-01T17:52:55.050Z"
   },
   {
    "duration": 3,
    "start_time": "2024-08-01T17:52:55.327Z"
   },
   {
    "duration": 3,
    "start_time": "2024-08-01T17:52:55.621Z"
   },
   {
    "duration": 2056,
    "start_time": "2024-08-01T17:52:55.932Z"
   },
   {
    "duration": 5,
    "start_time": "2024-08-01T17:54:09.124Z"
   },
   {
    "duration": 4,
    "start_time": "2024-08-01T17:54:09.583Z"
   },
   {
    "duration": 4,
    "start_time": "2024-08-01T17:54:10.942Z"
   },
   {
    "duration": 92641,
    "start_time": "2024-08-01T17:54:11.826Z"
   },
   {
    "duration": 5,
    "start_time": "2024-08-01T17:56:45.337Z"
   },
   {
    "duration": 2,
    "start_time": "2024-08-01T17:56:49.066Z"
   },
   {
    "duration": 34795,
    "start_time": "2024-08-01T17:56:52.306Z"
   },
   {
    "duration": 6,
    "start_time": "2024-08-01T17:58:39.216Z"
   },
   {
    "duration": 4,
    "start_time": "2024-08-01T17:58:40.508Z"
   },
   {
    "duration": 7,
    "start_time": "2024-08-01T17:58:41.211Z"
   },
   {
    "duration": 5,
    "start_time": "2024-08-01T17:58:41.572Z"
   },
   {
    "duration": 3,
    "start_time": "2024-08-01T17:58:41.948Z"
   },
   {
    "duration": 4,
    "start_time": "2024-08-01T17:58:43.993Z"
   },
   {
    "duration": 4,
    "start_time": "2024-08-01T17:58:44.353Z"
   },
   {
    "duration": 2,
    "start_time": "2024-08-01T17:58:46.089Z"
   },
   {
    "duration": 14,
    "start_time": "2024-08-01T17:58:46.399Z"
   },
   {
    "duration": 12,
    "start_time": "2024-08-01T17:58:48.493Z"
   },
   {
    "duration": 11,
    "start_time": "2024-08-01T17:58:48.871Z"
   },
   {
    "duration": 6,
    "start_time": "2024-08-01T17:58:50.539Z"
   },
   {
    "duration": 3,
    "start_time": "2024-08-01T17:59:05.991Z"
   },
   {
    "duration": 39891,
    "start_time": "2024-08-01T17:59:07.414Z"
   },
   {
    "duration": 4,
    "start_time": "2024-08-01T17:59:52.134Z"
   },
   {
    "duration": 42386,
    "start_time": "2024-08-01T17:59:52.719Z"
   },
   {
    "duration": 7,
    "start_time": "2024-08-01T18:00:50.982Z"
   },
   {
    "duration": 5,
    "start_time": "2024-08-01T18:01:06.114Z"
   },
   {
    "duration": 32044,
    "start_time": "2024-08-01T18:01:09.664Z"
   },
   {
    "duration": 15,
    "start_time": "2024-08-01T18:01:53.810Z"
   },
   {
    "duration": 6,
    "start_time": "2024-08-01T18:01:56.607Z"
   },
   {
    "duration": 10,
    "start_time": "2024-08-01T18:01:57.098Z"
   },
   {
    "duration": 6,
    "start_time": "2024-08-01T18:01:57.410Z"
   },
   {
    "duration": 2,
    "start_time": "2024-08-01T18:01:57.737Z"
   },
   {
    "duration": 4,
    "start_time": "2024-08-01T18:01:59.504Z"
   },
   {
    "duration": 4,
    "start_time": "2024-08-01T18:01:59.799Z"
   },
   {
    "duration": 3,
    "start_time": "2024-08-01T18:02:01.297Z"
   },
   {
    "duration": 12,
    "start_time": "2024-08-01T18:02:01.549Z"
   },
   {
    "duration": 15,
    "start_time": "2024-08-01T18:02:02.093Z"
   },
   {
    "duration": 15,
    "start_time": "2024-08-01T18:02:02.336Z"
   },
   {
    "duration": 5,
    "start_time": "2024-08-01T18:02:03.742Z"
   },
   {
    "duration": 3,
    "start_time": "2024-08-01T18:02:10.226Z"
   },
   {
    "duration": 33156,
    "start_time": "2024-08-01T18:02:10.830Z"
   },
   {
    "duration": 3,
    "start_time": "2024-08-01T18:02:43.988Z"
   },
   {
    "duration": 33583,
    "start_time": "2024-08-01T18:02:46.417Z"
   },
   {
    "duration": 3,
    "start_time": "2024-08-01T18:03:21.036Z"
   },
   {
    "duration": 3302,
    "start_time": "2024-08-01T18:03:21.706Z"
   },
   {
    "duration": 6,
    "start_time": "2024-08-01T18:03:29.123Z"
   },
   {
    "duration": 3,
    "start_time": "2024-08-01T18:03:30.875Z"
   },
   {
    "duration": 3242,
    "start_time": "2024-08-01T18:03:31.366Z"
   },
   {
    "duration": 2633,
    "start_time": "2024-08-01T18:03:59.609Z"
   },
   {
    "duration": 6,
    "start_time": "2024-08-01T18:04:02.244Z"
   },
   {
    "duration": 31,
    "start_time": "2024-08-01T18:04:02.251Z"
   },
   {
    "duration": 32,
    "start_time": "2024-08-01T18:04:02.284Z"
   },
   {
    "duration": 12,
    "start_time": "2024-08-01T18:04:02.318Z"
   },
   {
    "duration": 149,
    "start_time": "2024-08-01T18:04:02.331Z"
   },
   {
    "duration": 15,
    "start_time": "2024-08-01T18:04:02.481Z"
   },
   {
    "duration": 21,
    "start_time": "2024-08-01T18:04:02.498Z"
   },
   {
    "duration": 12,
    "start_time": "2024-08-01T18:04:02.521Z"
   },
   {
    "duration": 29,
    "start_time": "2024-08-01T18:04:02.536Z"
   },
   {
    "duration": 91,
    "start_time": "2024-08-01T18:04:02.567Z"
   },
   {
    "duration": 9,
    "start_time": "2024-08-01T18:04:02.660Z"
   },
   {
    "duration": 28,
    "start_time": "2024-08-01T18:04:02.670Z"
   },
   {
    "duration": 16,
    "start_time": "2024-08-01T18:04:02.700Z"
   },
   {
    "duration": 26,
    "start_time": "2024-08-01T18:04:02.717Z"
   },
   {
    "duration": 14,
    "start_time": "2024-08-01T18:04:02.744Z"
   },
   {
    "duration": 32,
    "start_time": "2024-08-01T18:04:02.760Z"
   },
   {
    "duration": 25,
    "start_time": "2024-08-01T18:04:02.793Z"
   },
   {
    "duration": 7,
    "start_time": "2024-08-01T18:04:02.820Z"
   },
   {
    "duration": 6,
    "start_time": "2024-08-01T18:04:02.828Z"
   },
   {
    "duration": 12,
    "start_time": "2024-08-01T18:04:02.836Z"
   },
   {
    "duration": 7,
    "start_time": "2024-08-01T18:04:02.849Z"
   },
   {
    "duration": 4,
    "start_time": "2024-08-01T18:04:02.858Z"
   },
   {
    "duration": 16,
    "start_time": "2024-08-01T18:04:02.864Z"
   },
   {
    "duration": 50,
    "start_time": "2024-08-01T18:04:02.881Z"
   },
   {
    "duration": 8,
    "start_time": "2024-08-01T18:04:02.932Z"
   },
   {
    "duration": 5,
    "start_time": "2024-08-01T18:04:02.942Z"
   },
   {
    "duration": 13,
    "start_time": "2024-08-01T18:04:02.951Z"
   },
   {
    "duration": 345,
    "start_time": "2024-08-01T18:04:02.966Z"
   },
   {
    "duration": 237,
    "start_time": "2024-08-01T18:04:03.313Z"
   },
   {
    "duration": 453,
    "start_time": "2024-08-01T18:04:03.551Z"
   },
   {
    "duration": 258,
    "start_time": "2024-08-01T18:04:04.006Z"
   },
   {
    "duration": 235,
    "start_time": "2024-08-01T18:04:04.265Z"
   },
   {
    "duration": 233,
    "start_time": "2024-08-01T18:04:04.502Z"
   },
   {
    "duration": 1259,
    "start_time": "2024-08-01T18:04:04.737Z"
   },
   {
    "duration": 4,
    "start_time": "2024-08-01T18:04:06.000Z"
   },
   {
    "duration": 29,
    "start_time": "2024-08-01T18:04:06.005Z"
   },
   {
    "duration": 23,
    "start_time": "2024-08-01T18:04:06.035Z"
   },
   {
    "duration": 15,
    "start_time": "2024-08-01T18:04:06.059Z"
   },
   {
    "duration": 32,
    "start_time": "2024-08-01T18:04:06.075Z"
   },
   {
    "duration": 9,
    "start_time": "2024-08-01T18:04:06.109Z"
   },
   {
    "duration": 22,
    "start_time": "2024-08-01T18:04:06.119Z"
   },
   {
    "duration": 58,
    "start_time": "2024-08-01T18:04:06.142Z"
   },
   {
    "duration": 0,
    "start_time": "2024-08-01T18:04:06.202Z"
   },
   {
    "duration": 0,
    "start_time": "2024-08-01T18:04:06.203Z"
   },
   {
    "duration": 0,
    "start_time": "2024-08-01T18:04:06.204Z"
   },
   {
    "duration": 0,
    "start_time": "2024-08-01T18:04:06.205Z"
   },
   {
    "duration": 0,
    "start_time": "2024-08-01T18:04:06.206Z"
   },
   {
    "duration": 0,
    "start_time": "2024-08-01T18:04:06.207Z"
   },
   {
    "duration": 0,
    "start_time": "2024-08-01T18:04:06.209Z"
   },
   {
    "duration": 0,
    "start_time": "2024-08-01T18:04:06.210Z"
   },
   {
    "duration": 0,
    "start_time": "2024-08-01T18:04:06.211Z"
   },
   {
    "duration": 0,
    "start_time": "2024-08-01T18:04:06.212Z"
   },
   {
    "duration": 0,
    "start_time": "2024-08-01T18:04:06.213Z"
   },
   {
    "duration": 0,
    "start_time": "2024-08-01T18:04:06.214Z"
   },
   {
    "duration": 0,
    "start_time": "2024-08-01T18:04:06.215Z"
   },
   {
    "duration": 0,
    "start_time": "2024-08-01T18:04:06.216Z"
   },
   {
    "duration": 0,
    "start_time": "2024-08-01T18:04:06.217Z"
   },
   {
    "duration": 0,
    "start_time": "2024-08-01T18:04:06.219Z"
   },
   {
    "duration": 0,
    "start_time": "2024-08-01T18:04:06.220Z"
   },
   {
    "duration": 1,
    "start_time": "2024-08-01T18:04:06.220Z"
   },
   {
    "duration": 0,
    "start_time": "2024-08-01T18:04:06.221Z"
   },
   {
    "duration": 0,
    "start_time": "2024-08-01T18:04:06.222Z"
   },
   {
    "duration": 0,
    "start_time": "2024-08-01T18:04:06.223Z"
   },
   {
    "duration": 0,
    "start_time": "2024-08-01T18:04:06.224Z"
   },
   {
    "duration": 0,
    "start_time": "2024-08-01T18:04:06.225Z"
   },
   {
    "duration": 0,
    "start_time": "2024-08-01T18:04:06.226Z"
   },
   {
    "duration": 0,
    "start_time": "2024-08-01T18:04:06.227Z"
   },
   {
    "duration": 0,
    "start_time": "2024-08-01T18:04:06.228Z"
   },
   {
    "duration": 0,
    "start_time": "2024-08-01T18:04:06.230Z"
   },
   {
    "duration": 0,
    "start_time": "2024-08-01T18:04:06.231Z"
   },
   {
    "duration": 0,
    "start_time": "2024-08-01T18:04:06.232Z"
   },
   {
    "duration": 0,
    "start_time": "2024-08-01T18:04:06.233Z"
   },
   {
    "duration": 0,
    "start_time": "2024-08-01T18:04:06.234Z"
   },
   {
    "duration": 0,
    "start_time": "2024-08-01T18:04:06.235Z"
   },
   {
    "duration": 0,
    "start_time": "2024-08-01T18:04:06.236Z"
   },
   {
    "duration": 4,
    "start_time": "2024-08-01T18:04:09.706Z"
   },
   {
    "duration": 5,
    "start_time": "2024-08-01T18:04:11.963Z"
   },
   {
    "duration": 5,
    "start_time": "2024-08-01T18:04:12.292Z"
   },
   {
    "duration": 5,
    "start_time": "2024-08-01T18:04:14.729Z"
   },
   {
    "duration": 6,
    "start_time": "2024-08-01T18:04:15.400Z"
   },
   {
    "duration": 6,
    "start_time": "2024-08-01T18:04:16.464Z"
   },
   {
    "duration": 6,
    "start_time": "2024-08-01T18:04:17.004Z"
   },
   {
    "duration": 4,
    "start_time": "2024-08-01T18:04:20.278Z"
   },
   {
    "duration": 7,
    "start_time": "2024-08-01T18:04:20.866Z"
   },
   {
    "duration": 5,
    "start_time": "2024-08-01T18:04:21.128Z"
   },
   {
    "duration": 3,
    "start_time": "2024-08-01T18:04:21.423Z"
   },
   {
    "duration": 4,
    "start_time": "2024-08-01T18:04:22.911Z"
   },
   {
    "duration": 4,
    "start_time": "2024-08-01T18:04:23.206Z"
   },
   {
    "duration": 3,
    "start_time": "2024-08-01T18:04:25.479Z"
   },
   {
    "duration": 13,
    "start_time": "2024-08-01T18:04:25.695Z"
   },
   {
    "duration": 11,
    "start_time": "2024-08-01T18:04:27.229Z"
   },
   {
    "duration": 10,
    "start_time": "2024-08-01T18:04:27.426Z"
   },
   {
    "duration": 5,
    "start_time": "2024-08-01T18:04:28.261Z"
   },
   {
    "duration": 5,
    "start_time": "2024-08-01T18:04:30.632Z"
   },
   {
    "duration": 6,
    "start_time": "2024-08-01T18:04:31.009Z"
   },
   {
    "duration": 3,
    "start_time": "2024-08-01T18:04:38.516Z"
   },
   {
    "duration": 4568,
    "start_time": "2024-08-01T18:04:39.040Z"
   },
   {
    "duration": 3,
    "start_time": "2024-08-01T18:04:46.744Z"
   },
   {
    "duration": 5,
    "start_time": "2024-08-01T18:04:49.951Z"
   },
   {
    "duration": 31426,
    "start_time": "2024-08-01T18:04:53.174Z"
   },
   {
    "duration": 5,
    "start_time": "2024-08-01T18:05:53.431Z"
   },
   {
    "duration": 7,
    "start_time": "2024-08-01T18:05:54.034Z"
   },
   {
    "duration": 3874,
    "start_time": "2024-08-01T18:05:54.737Z"
   },
   {
    "duration": 4,
    "start_time": "2024-08-01T18:06:10.097Z"
   },
   {
    "duration": 4,
    "start_time": "2024-08-01T18:06:10.337Z"
   },
   {
    "duration": 3,
    "start_time": "2024-08-01T18:06:10.631Z"
   },
   {
    "duration": 2043,
    "start_time": "2024-08-01T18:06:10.897Z"
   },
   {
    "duration": 5,
    "start_time": "2024-08-01T18:06:49.106Z"
   },
   {
    "duration": 3,
    "start_time": "2024-08-01T18:06:50.169Z"
   },
   {
    "duration": 5,
    "start_time": "2024-08-01T18:06:51.640Z"
   },
   {
    "duration": 146,
    "start_time": "2024-08-01T18:06:55.011Z"
   },
   {
    "duration": 52,
    "start_time": "2024-08-01T18:07:02.214Z"
   },
   {
    "duration": 4,
    "start_time": "2024-08-01T18:07:16.454Z"
   },
   {
    "duration": 34055,
    "start_time": "2024-08-01T18:07:18.860Z"
   },
   {
    "duration": 72093,
    "start_time": "2024-08-01T18:08:20.897Z"
   },
   {
    "duration": 2,
    "start_time": "2024-08-01T18:10:18.731Z"
   },
   {
    "duration": 700682,
    "start_time": "2024-08-01T18:10:26.303Z"
   },
   {
    "duration": 3,
    "start_time": "2024-08-01T18:26:53.687Z"
   },
   {
    "duration": 5,
    "start_time": "2024-08-01T18:26:54.129Z"
   },
   {
    "duration": 6,
    "start_time": "2024-08-01T18:26:55.323Z"
   },
   {
    "duration": 5,
    "start_time": "2024-08-01T18:27:25.753Z"
   },
   {
    "duration": 17,
    "start_time": "2024-08-01T18:27:28.487Z"
   },
   {
    "duration": 5,
    "start_time": "2024-08-01T18:27:32.808Z"
   },
   {
    "duration": 5,
    "start_time": "2024-08-01T18:27:37.734Z"
   },
   {
    "duration": 14,
    "start_time": "2024-08-01T18:27:41.546Z"
   },
   {
    "duration": 10,
    "start_time": "2024-08-01T18:28:30.353Z"
   },
   {
    "duration": 5,
    "start_time": "2024-08-01T18:29:57.027Z"
   },
   {
    "duration": 2,
    "start_time": "2024-08-01T18:30:28.585Z"
   },
   {
    "duration": 17,
    "start_time": "2024-08-01T18:30:39.791Z"
   },
   {
    "duration": 3,
    "start_time": "2024-08-01T18:30:44.324Z"
   },
   {
    "duration": 6,
    "start_time": "2024-08-01T18:30:48.661Z"
   },
   {
    "duration": 5,
    "start_time": "2024-08-01T18:30:50.429Z"
   },
   {
    "duration": 2,
    "start_time": "2024-08-01T18:30:52.441Z"
   },
   {
    "duration": 4,
    "start_time": "2024-08-01T18:30:53.012Z"
   },
   {
    "duration": 4,
    "start_time": "2024-08-01T18:30:53.373Z"
   },
   {
    "duration": 3,
    "start_time": "2024-08-01T18:31:03.464Z"
   },
   {
    "duration": 10,
    "start_time": "2024-08-01T18:31:04.199Z"
   },
   {
    "duration": 9,
    "start_time": "2024-08-01T18:31:08.762Z"
   },
   {
    "duration": 10,
    "start_time": "2024-08-01T18:31:09.204Z"
   },
   {
    "duration": 5,
    "start_time": "2024-08-01T18:31:12.688Z"
   },
   {
    "duration": 3,
    "start_time": "2024-08-01T18:31:23.858Z"
   },
   {
    "duration": 13532,
    "start_time": "2024-08-01T18:31:25.166Z"
   },
   {
    "duration": 6,
    "start_time": "2024-08-01T18:31:42.013Z"
   },
   {
    "duration": 26467,
    "start_time": "2024-08-01T18:31:44.141Z"
   },
   {
    "duration": 3,
    "start_time": "2024-08-01T18:32:57.704Z"
   },
   {
    "duration": 689707,
    "start_time": "2024-08-01T18:33:32.317Z"
   },
   {
    "duration": 1722,
    "start_time": "2024-08-01T18:49:52.307Z"
   },
   {
    "duration": 8,
    "start_time": "2024-08-01T18:49:54.031Z"
   },
   {
    "duration": 19,
    "start_time": "2024-08-01T18:49:54.041Z"
   },
   {
    "duration": 8,
    "start_time": "2024-08-01T18:49:54.063Z"
   },
   {
    "duration": 5,
    "start_time": "2024-08-01T18:49:54.072Z"
   },
   {
    "duration": 134,
    "start_time": "2024-08-01T18:49:54.079Z"
   },
   {
    "duration": 5,
    "start_time": "2024-08-01T18:49:54.215Z"
   },
   {
    "duration": 16,
    "start_time": "2024-08-01T18:49:54.221Z"
   },
   {
    "duration": 24,
    "start_time": "2024-08-01T18:49:54.238Z"
   },
   {
    "duration": 21,
    "start_time": "2024-08-01T18:49:54.264Z"
   },
   {
    "duration": 20,
    "start_time": "2024-08-01T18:49:54.286Z"
   },
   {
    "duration": 21,
    "start_time": "2024-08-01T18:49:54.307Z"
   },
   {
    "duration": 34,
    "start_time": "2024-08-01T18:49:54.330Z"
   },
   {
    "duration": 7,
    "start_time": "2024-08-01T18:49:54.366Z"
   },
   {
    "duration": 6,
    "start_time": "2024-08-01T18:49:54.375Z"
   },
   {
    "duration": 8,
    "start_time": "2024-08-01T18:49:54.382Z"
   },
   {
    "duration": 18,
    "start_time": "2024-08-01T18:49:54.391Z"
   },
   {
    "duration": 19,
    "start_time": "2024-08-01T18:49:54.411Z"
   },
   {
    "duration": 15,
    "start_time": "2024-08-01T18:49:54.431Z"
   },
   {
    "duration": 25,
    "start_time": "2024-08-01T18:49:54.448Z"
   },
   {
    "duration": 13,
    "start_time": "2024-08-01T18:49:54.475Z"
   },
   {
    "duration": 25,
    "start_time": "2024-08-01T18:49:54.490Z"
   },
   {
    "duration": 12,
    "start_time": "2024-08-01T18:49:54.517Z"
   },
   {
    "duration": 55,
    "start_time": "2024-08-01T18:49:54.530Z"
   },
   {
    "duration": 48,
    "start_time": "2024-08-01T18:49:54.587Z"
   },
   {
    "duration": 19,
    "start_time": "2024-08-01T18:49:54.637Z"
   },
   {
    "duration": 42,
    "start_time": "2024-08-01T18:49:54.657Z"
   },
   {
    "duration": 37,
    "start_time": "2024-08-01T18:49:54.703Z"
   },
   {
    "duration": 652,
    "start_time": "2024-08-01T18:49:54.741Z"
   },
   {
    "duration": 346,
    "start_time": "2024-08-01T18:49:55.394Z"
   },
   {
    "duration": 445,
    "start_time": "2024-08-01T18:49:55.742Z"
   },
   {
    "duration": 208,
    "start_time": "2024-08-01T18:49:56.189Z"
   },
   {
    "duration": 198,
    "start_time": "2024-08-01T18:49:56.399Z"
   },
   {
    "duration": 193,
    "start_time": "2024-08-01T18:49:56.598Z"
   },
   {
    "duration": 1057,
    "start_time": "2024-08-01T18:49:56.792Z"
   },
   {
    "duration": 4,
    "start_time": "2024-08-01T18:49:57.851Z"
   },
   {
    "duration": 33,
    "start_time": "2024-08-01T18:49:57.856Z"
   },
   {
    "duration": 28,
    "start_time": "2024-08-01T18:49:57.891Z"
   },
   {
    "duration": 33,
    "start_time": "2024-08-01T18:49:57.920Z"
   },
   {
    "duration": 35,
    "start_time": "2024-08-01T18:49:57.954Z"
   },
   {
    "duration": 36,
    "start_time": "2024-08-01T18:49:57.990Z"
   },
   {
    "duration": 32,
    "start_time": "2024-08-01T18:49:58.028Z"
   },
   {
    "duration": 58,
    "start_time": "2024-08-01T18:49:58.061Z"
   },
   {
    "duration": 0,
    "start_time": "2024-08-01T18:49:58.120Z"
   },
   {
    "duration": 0,
    "start_time": "2024-08-01T18:49:58.121Z"
   },
   {
    "duration": 0,
    "start_time": "2024-08-01T18:49:58.122Z"
   },
   {
    "duration": 0,
    "start_time": "2024-08-01T18:49:58.123Z"
   },
   {
    "duration": 0,
    "start_time": "2024-08-01T18:49:58.124Z"
   },
   {
    "duration": 0,
    "start_time": "2024-08-01T18:49:58.124Z"
   },
   {
    "duration": 0,
    "start_time": "2024-08-01T18:49:58.125Z"
   },
   {
    "duration": 0,
    "start_time": "2024-08-01T18:49:58.126Z"
   },
   {
    "duration": 0,
    "start_time": "2024-08-01T18:49:58.127Z"
   },
   {
    "duration": 0,
    "start_time": "2024-08-01T18:49:58.128Z"
   },
   {
    "duration": 0,
    "start_time": "2024-08-01T18:49:58.129Z"
   },
   {
    "duration": 0,
    "start_time": "2024-08-01T18:49:58.130Z"
   },
   {
    "duration": 0,
    "start_time": "2024-08-01T18:49:58.131Z"
   },
   {
    "duration": 0,
    "start_time": "2024-08-01T18:49:58.132Z"
   },
   {
    "duration": 0,
    "start_time": "2024-08-01T18:49:58.133Z"
   },
   {
    "duration": 0,
    "start_time": "2024-08-01T18:49:58.134Z"
   },
   {
    "duration": 0,
    "start_time": "2024-08-01T18:49:58.135Z"
   },
   {
    "duration": 0,
    "start_time": "2024-08-01T18:49:58.136Z"
   },
   {
    "duration": 0,
    "start_time": "2024-08-01T18:49:58.136Z"
   },
   {
    "duration": 0,
    "start_time": "2024-08-01T18:49:58.137Z"
   },
   {
    "duration": 0,
    "start_time": "2024-08-01T18:49:58.138Z"
   },
   {
    "duration": 0,
    "start_time": "2024-08-01T18:49:58.139Z"
   },
   {
    "duration": 0,
    "start_time": "2024-08-01T18:49:58.140Z"
   },
   {
    "duration": 0,
    "start_time": "2024-08-01T18:49:58.141Z"
   },
   {
    "duration": 0,
    "start_time": "2024-08-01T18:49:58.142Z"
   },
   {
    "duration": 0,
    "start_time": "2024-08-01T18:49:58.143Z"
   },
   {
    "duration": 0,
    "start_time": "2024-08-01T18:49:58.143Z"
   },
   {
    "duration": 0,
    "start_time": "2024-08-01T18:49:58.144Z"
   },
   {
    "duration": 0,
    "start_time": "2024-08-01T18:49:58.145Z"
   },
   {
    "duration": 0,
    "start_time": "2024-08-01T18:49:58.146Z"
   },
   {
    "duration": 0,
    "start_time": "2024-08-01T18:49:58.147Z"
   },
   {
    "duration": 1,
    "start_time": "2024-08-01T18:49:58.147Z"
   },
   {
    "duration": 0,
    "start_time": "2024-08-01T18:49:58.148Z"
   },
   {
    "duration": 4,
    "start_time": "2024-08-01T18:50:03.616Z"
   },
   {
    "duration": 4,
    "start_time": "2024-08-01T18:50:04.302Z"
   },
   {
    "duration": 4,
    "start_time": "2024-08-01T18:50:04.906Z"
   },
   {
    "duration": 16,
    "start_time": "2024-08-01T18:50:27.101Z"
   },
   {
    "duration": 5,
    "start_time": "2024-08-01T18:50:44.172Z"
   },
   {
    "duration": 4,
    "start_time": "2024-08-01T18:51:04.616Z"
   },
   {
    "duration": 5,
    "start_time": "2024-08-01T18:51:15.773Z"
   },
   {
    "duration": 6,
    "start_time": "2024-08-01T18:51:18.881Z"
   },
   {
    "duration": 5,
    "start_time": "2024-08-01T18:51:19.699Z"
   },
   {
    "duration": 4,
    "start_time": "2024-08-01T18:51:27.830Z"
   },
   {
    "duration": 7,
    "start_time": "2024-08-01T18:51:28.482Z"
   },
   {
    "duration": 5,
    "start_time": "2024-08-01T18:51:28.943Z"
   },
   {
    "duration": 3,
    "start_time": "2024-08-01T18:51:30.381Z"
   },
   {
    "duration": 3,
    "start_time": "2024-08-01T18:51:30.972Z"
   },
   {
    "duration": 4,
    "start_time": "2024-08-01T18:51:31.724Z"
   },
   {
    "duration": 2,
    "start_time": "2024-08-01T18:51:39.103Z"
   },
   {
    "duration": 11,
    "start_time": "2024-08-01T18:51:39.464Z"
   },
   {
    "duration": 10,
    "start_time": "2024-08-01T18:51:40.936Z"
   },
   {
    "duration": 10,
    "start_time": "2024-08-01T18:51:41.199Z"
   },
   {
    "duration": 5,
    "start_time": "2024-08-01T18:51:41.755Z"
   },
   {
    "duration": 4,
    "start_time": "2024-08-01T18:51:44.735Z"
   },
   {
    "duration": 6,
    "start_time": "2024-08-01T18:51:44.931Z"
   },
   {
    "duration": 2,
    "start_time": "2024-08-01T18:51:56.319Z"
   },
   {
    "duration": 26096,
    "start_time": "2024-08-01T18:51:58.889Z"
   },
   {
    "duration": 3,
    "start_time": "2024-08-01T18:52:28.905Z"
   },
   {
    "duration": 4,
    "start_time": "2024-08-01T18:52:29.200Z"
   },
   {
    "duration": 3,
    "start_time": "2024-08-01T18:52:29.527Z"
   },
   {
    "duration": 1113,
    "start_time": "2024-08-01T18:52:29.888Z"
   },
   {
    "duration": 6,
    "start_time": "2024-08-01T18:52:41.694Z"
   },
   {
    "duration": 4,
    "start_time": "2024-08-01T18:52:41.988Z"
   },
   {
    "duration": 4,
    "start_time": "2024-08-01T18:52:43.806Z"
   },
   {
    "duration": 596666,
    "start_time": "2024-08-01T18:52:46.981Z"
   },
   {
    "duration": 359,
    "start_time": "2024-08-01T19:04:52.501Z"
   },
   {
    "duration": 2230,
    "start_time": "2024-08-01T19:06:36.686Z"
   },
   {
    "duration": 5,
    "start_time": "2024-08-01T19:06:38.918Z"
   },
   {
    "duration": 9,
    "start_time": "2024-08-01T19:06:38.924Z"
   },
   {
    "duration": 5,
    "start_time": "2024-08-01T19:06:38.935Z"
   },
   {
    "duration": 5,
    "start_time": "2024-08-01T19:06:38.987Z"
   },
   {
    "duration": 204,
    "start_time": "2024-08-01T19:06:38.994Z"
   },
   {
    "duration": 5,
    "start_time": "2024-08-01T19:06:39.200Z"
   },
   {
    "duration": 12,
    "start_time": "2024-08-01T19:06:39.207Z"
   },
   {
    "duration": 11,
    "start_time": "2024-08-01T19:06:39.221Z"
   },
   {
    "duration": 25,
    "start_time": "2024-08-01T19:06:39.285Z"
   },
   {
    "duration": 8,
    "start_time": "2024-08-01T19:06:39.311Z"
   },
   {
    "duration": 4,
    "start_time": "2024-08-01T19:06:39.321Z"
   },
   {
    "duration": 8,
    "start_time": "2024-08-01T19:06:39.327Z"
   },
   {
    "duration": 5,
    "start_time": "2024-08-01T19:06:39.338Z"
   },
   {
    "duration": 12,
    "start_time": "2024-08-01T19:06:39.344Z"
   },
   {
    "duration": 31,
    "start_time": "2024-08-01T19:06:39.357Z"
   },
   {
    "duration": 8,
    "start_time": "2024-08-01T19:06:39.390Z"
   },
   {
    "duration": 6,
    "start_time": "2024-08-01T19:06:39.399Z"
   },
   {
    "duration": 6,
    "start_time": "2024-08-01T19:06:39.407Z"
   },
   {
    "duration": 7,
    "start_time": "2024-08-01T19:06:39.414Z"
   },
   {
    "duration": 7,
    "start_time": "2024-08-01T19:06:39.422Z"
   },
   {
    "duration": 11,
    "start_time": "2024-08-01T19:06:39.430Z"
   },
   {
    "duration": 13,
    "start_time": "2024-08-01T19:06:39.442Z"
   },
   {
    "duration": 4,
    "start_time": "2024-08-01T19:06:39.457Z"
   },
   {
    "duration": 8,
    "start_time": "2024-08-01T19:06:39.486Z"
   },
   {
    "duration": 12,
    "start_time": "2024-08-01T19:06:39.496Z"
   },
   {
    "duration": 5,
    "start_time": "2024-08-01T19:06:39.509Z"
   },
   {
    "duration": 8,
    "start_time": "2024-08-01T19:06:39.515Z"
   },
   {
    "duration": 324,
    "start_time": "2024-08-01T19:06:39.524Z"
   },
   {
    "duration": 224,
    "start_time": "2024-08-01T19:06:39.850Z"
   },
   {
    "duration": 423,
    "start_time": "2024-08-01T19:06:40.076Z"
   },
   {
    "duration": 227,
    "start_time": "2024-08-01T19:06:40.501Z"
   },
   {
    "duration": 208,
    "start_time": "2024-08-01T19:06:40.729Z"
   },
   {
    "duration": 207,
    "start_time": "2024-08-01T19:06:40.938Z"
   },
   {
    "duration": 1156,
    "start_time": "2024-08-01T19:06:41.146Z"
   },
   {
    "duration": 4,
    "start_time": "2024-08-01T19:06:42.303Z"
   },
   {
    "duration": 17,
    "start_time": "2024-08-01T19:06:42.309Z"
   },
   {
    "duration": 31,
    "start_time": "2024-08-01T19:06:42.327Z"
   },
   {
    "duration": 7,
    "start_time": "2024-08-01T19:06:42.360Z"
   },
   {
    "duration": 13,
    "start_time": "2024-08-01T19:06:42.368Z"
   },
   {
    "duration": 12,
    "start_time": "2024-08-01T19:06:42.384Z"
   },
   {
    "duration": 20,
    "start_time": "2024-08-01T19:06:42.398Z"
   },
   {
    "duration": 60,
    "start_time": "2024-08-01T19:06:42.420Z"
   },
   {
    "duration": 0,
    "start_time": "2024-08-01T19:06:42.482Z"
   },
   {
    "duration": 0,
    "start_time": "2024-08-01T19:06:42.483Z"
   },
   {
    "duration": 0,
    "start_time": "2024-08-01T19:06:42.484Z"
   },
   {
    "duration": 0,
    "start_time": "2024-08-01T19:06:42.484Z"
   },
   {
    "duration": 1,
    "start_time": "2024-08-01T19:06:42.485Z"
   },
   {
    "duration": 0,
    "start_time": "2024-08-01T19:06:42.486Z"
   },
   {
    "duration": 0,
    "start_time": "2024-08-01T19:06:42.487Z"
   },
   {
    "duration": 0,
    "start_time": "2024-08-01T19:06:42.488Z"
   },
   {
    "duration": 0,
    "start_time": "2024-08-01T19:06:42.489Z"
   },
   {
    "duration": 0,
    "start_time": "2024-08-01T19:06:42.490Z"
   },
   {
    "duration": 0,
    "start_time": "2024-08-01T19:06:42.491Z"
   },
   {
    "duration": 0,
    "start_time": "2024-08-01T19:06:42.491Z"
   },
   {
    "duration": 0,
    "start_time": "2024-08-01T19:06:42.492Z"
   },
   {
    "duration": 0,
    "start_time": "2024-08-01T19:06:42.493Z"
   },
   {
    "duration": 0,
    "start_time": "2024-08-01T19:06:42.494Z"
   },
   {
    "duration": 0,
    "start_time": "2024-08-01T19:06:42.495Z"
   },
   {
    "duration": 0,
    "start_time": "2024-08-01T19:06:42.496Z"
   },
   {
    "duration": 0,
    "start_time": "2024-08-01T19:06:42.497Z"
   },
   {
    "duration": 0,
    "start_time": "2024-08-01T19:06:42.498Z"
   },
   {
    "duration": 0,
    "start_time": "2024-08-01T19:06:42.499Z"
   },
   {
    "duration": 0,
    "start_time": "2024-08-01T19:06:42.501Z"
   },
   {
    "duration": 0,
    "start_time": "2024-08-01T19:06:42.502Z"
   },
   {
    "duration": 0,
    "start_time": "2024-08-01T19:06:42.503Z"
   },
   {
    "duration": 0,
    "start_time": "2024-08-01T19:06:42.504Z"
   },
   {
    "duration": 0,
    "start_time": "2024-08-01T19:06:42.505Z"
   },
   {
    "duration": 0,
    "start_time": "2024-08-01T19:06:42.506Z"
   },
   {
    "duration": 0,
    "start_time": "2024-08-01T19:06:42.506Z"
   },
   {
    "duration": 0,
    "start_time": "2024-08-01T19:06:42.507Z"
   },
   {
    "duration": 0,
    "start_time": "2024-08-01T19:06:42.508Z"
   },
   {
    "duration": 0,
    "start_time": "2024-08-01T19:06:42.509Z"
   },
   {
    "duration": 0,
    "start_time": "2024-08-01T19:06:42.510Z"
   },
   {
    "duration": 0,
    "start_time": "2024-08-01T19:06:42.511Z"
   },
   {
    "duration": 0,
    "start_time": "2024-08-01T19:06:42.512Z"
   },
   {
    "duration": 0,
    "start_time": "2024-08-01T19:06:42.513Z"
   },
   {
    "duration": 4,
    "start_time": "2024-08-01T19:06:44.307Z"
   },
   {
    "duration": 4,
    "start_time": "2024-08-01T19:06:48.655Z"
   },
   {
    "duration": 5,
    "start_time": "2024-08-01T19:06:49.047Z"
   },
   {
    "duration": 5,
    "start_time": "2024-08-01T19:07:41.956Z"
   },
   {
    "duration": 4,
    "start_time": "2024-08-01T19:08:22.773Z"
   },
   {
    "duration": 3,
    "start_time": "2024-08-01T19:08:33.330Z"
   },
   {
    "duration": 6,
    "start_time": "2024-08-01T19:08:33.870Z"
   },
   {
    "duration": 5,
    "start_time": "2024-08-01T19:08:34.295Z"
   },
   {
    "duration": 3,
    "start_time": "2024-08-01T19:08:34.672Z"
   },
   {
    "duration": 3,
    "start_time": "2024-08-01T19:08:36.243Z"
   },
   {
    "duration": 4,
    "start_time": "2024-08-01T19:08:36.815Z"
   },
   {
    "duration": 2,
    "start_time": "2024-08-01T19:08:38.992Z"
   },
   {
    "duration": 13,
    "start_time": "2024-08-01T19:08:39.368Z"
   },
   {
    "duration": 8,
    "start_time": "2024-08-01T19:08:40.023Z"
   },
   {
    "duration": 9,
    "start_time": "2024-08-01T19:08:40.301Z"
   },
   {
    "duration": 5,
    "start_time": "2024-08-01T19:08:41.122Z"
   },
   {
    "duration": 4,
    "start_time": "2024-08-01T19:08:44.640Z"
   },
   {
    "duration": 5,
    "start_time": "2024-08-01T19:08:45.115Z"
   },
   {
    "duration": 3,
    "start_time": "2024-08-01T19:08:49.846Z"
   },
   {
    "duration": 25042,
    "start_time": "2024-08-01T19:08:50.761Z"
   },
   {
    "duration": 5,
    "start_time": "2024-08-01T19:09:27.189Z"
   },
   {
    "duration": 6,
    "start_time": "2024-08-01T19:09:27.433Z"
   },
   {
    "duration": 6,
    "start_time": "2024-08-01T19:09:33.340Z"
   },
   {
    "duration": 6,
    "start_time": "2024-08-01T19:09:33.781Z"
   },
   {
    "duration": 5,
    "start_time": "2024-08-01T19:10:06.590Z"
   },
   {
    "duration": 5,
    "start_time": "2024-08-01T19:10:07.063Z"
   },
   {
    "duration": 15,
    "start_time": "2024-08-01T19:10:55.810Z"
   },
   {
    "duration": 21,
    "start_time": "2024-08-01T19:11:19.473Z"
   },
   {
    "duration": 6,
    "start_time": "2024-08-01T19:14:46.522Z"
   },
   {
    "duration": 6,
    "start_time": "2024-08-01T19:14:46.865Z"
   },
   {
    "duration": 5,
    "start_time": "2024-08-01T19:14:58.026Z"
   },
   {
    "duration": 5,
    "start_time": "2024-08-01T19:14:58.501Z"
   },
   {
    "duration": 5,
    "start_time": "2024-08-01T19:15:50.033Z"
   },
   {
    "duration": 6,
    "start_time": "2024-08-01T19:15:50.260Z"
   },
   {
    "duration": 7,
    "start_time": "2024-08-01T19:16:30.493Z"
   },
   {
    "duration": 17,
    "start_time": "2024-08-01T19:16:36.664Z"
   },
   {
    "duration": 125,
    "start_time": "2024-08-01T19:17:04.732Z"
   },
   {
    "duration": 3,
    "start_time": "2024-08-01T19:17:12.908Z"
   },
   {
    "duration": 4,
    "start_time": "2024-08-01T19:17:19.630Z"
   },
   {
    "duration": 5,
    "start_time": "2024-08-01T19:17:20.366Z"
   },
   {
    "duration": 4,
    "start_time": "2024-08-01T19:17:20.758Z"
   },
   {
    "duration": 2,
    "start_time": "2024-08-01T19:17:21.331Z"
   },
   {
    "duration": 3,
    "start_time": "2024-08-01T19:17:23.785Z"
   },
   {
    "duration": 4,
    "start_time": "2024-08-01T19:17:24.210Z"
   },
   {
    "duration": 3,
    "start_time": "2024-08-01T19:17:26.369Z"
   },
   {
    "duration": 13,
    "start_time": "2024-08-01T19:17:26.876Z"
   },
   {
    "duration": 10,
    "start_time": "2024-08-01T19:17:27.613Z"
   },
   {
    "duration": 11,
    "start_time": "2024-08-01T19:17:28.479Z"
   },
   {
    "duration": 5,
    "start_time": "2024-08-01T19:17:30.001Z"
   },
   {
    "duration": 3,
    "start_time": "2024-08-01T19:17:37.018Z"
   },
   {
    "duration": 25800,
    "start_time": "2024-08-01T19:17:37.703Z"
   },
   {
    "duration": 5,
    "start_time": "2024-08-01T19:18:19.085Z"
   },
   {
    "duration": 4,
    "start_time": "2024-08-01T19:18:19.705Z"
   },
   {
    "duration": 6,
    "start_time": "2024-08-01T19:18:20.344Z"
   },
   {
    "duration": 5,
    "start_time": "2024-08-01T19:18:20.704Z"
   },
   {
    "duration": 2,
    "start_time": "2024-08-01T19:18:21.768Z"
   },
   {
    "duration": 4,
    "start_time": "2024-08-01T19:18:22.537Z"
   },
   {
    "duration": 3,
    "start_time": "2024-08-01T19:18:22.849Z"
   },
   {
    "duration": 3,
    "start_time": "2024-08-01T19:18:24.010Z"
   },
   {
    "duration": 12,
    "start_time": "2024-08-01T19:18:24.321Z"
   },
   {
    "duration": 11,
    "start_time": "2024-08-01T19:18:25.499Z"
   },
   {
    "duration": 11,
    "start_time": "2024-08-01T19:18:25.876Z"
   },
   {
    "duration": 4,
    "start_time": "2024-08-01T19:18:26.417Z"
   },
   {
    "duration": 2,
    "start_time": "2024-08-01T19:18:33.766Z"
   },
   {
    "duration": 26268,
    "start_time": "2024-08-01T19:18:34.420Z"
   },
   {
    "duration": 368,
    "start_time": "2024-08-01T19:19:37.452Z"
   },
   {
    "duration": 1773,
    "start_time": "2024-08-01T19:21:41.050Z"
   },
   {
    "duration": 5,
    "start_time": "2024-08-01T19:21:42.825Z"
   },
   {
    "duration": 5,
    "start_time": "2024-08-01T19:21:42.831Z"
   },
   {
    "duration": 33,
    "start_time": "2024-08-01T19:21:42.837Z"
   },
   {
    "duration": 28,
    "start_time": "2024-08-01T19:21:42.872Z"
   },
   {
    "duration": 109,
    "start_time": "2024-08-01T19:21:42.901Z"
   },
   {
    "duration": 5,
    "start_time": "2024-08-01T19:21:43.011Z"
   },
   {
    "duration": 12,
    "start_time": "2024-08-01T19:21:43.018Z"
   },
   {
    "duration": 11,
    "start_time": "2024-08-01T19:21:43.031Z"
   },
   {
    "duration": 22,
    "start_time": "2024-08-01T19:21:43.043Z"
   },
   {
    "duration": 24,
    "start_time": "2024-08-01T19:21:43.066Z"
   },
   {
    "duration": 4,
    "start_time": "2024-08-01T19:21:43.091Z"
   },
   {
    "duration": 6,
    "start_time": "2024-08-01T19:21:43.096Z"
   },
   {
    "duration": 5,
    "start_time": "2024-08-01T19:21:43.104Z"
   },
   {
    "duration": 4,
    "start_time": "2024-08-01T19:21:43.111Z"
   },
   {
    "duration": 6,
    "start_time": "2024-08-01T19:21:43.117Z"
   },
   {
    "duration": 8,
    "start_time": "2024-08-01T19:21:43.124Z"
   },
   {
    "duration": 11,
    "start_time": "2024-08-01T19:21:43.133Z"
   },
   {
    "duration": 13,
    "start_time": "2024-08-01T19:21:43.146Z"
   },
   {
    "duration": 29,
    "start_time": "2024-08-01T19:21:43.160Z"
   },
   {
    "duration": 4,
    "start_time": "2024-08-01T19:21:43.191Z"
   },
   {
    "duration": 7,
    "start_time": "2024-08-01T19:21:43.197Z"
   },
   {
    "duration": 3,
    "start_time": "2024-08-01T19:21:43.205Z"
   },
   {
    "duration": 11,
    "start_time": "2024-08-01T19:21:43.209Z"
   },
   {
    "duration": 6,
    "start_time": "2024-08-01T19:21:43.221Z"
   },
   {
    "duration": 8,
    "start_time": "2024-08-01T19:21:43.228Z"
   },
   {
    "duration": 4,
    "start_time": "2024-08-01T19:21:43.237Z"
   },
   {
    "duration": 13,
    "start_time": "2024-08-01T19:21:43.242Z"
   },
   {
    "duration": 320,
    "start_time": "2024-08-01T19:21:43.257Z"
   },
   {
    "duration": 219,
    "start_time": "2024-08-01T19:21:43.578Z"
   },
   {
    "duration": 446,
    "start_time": "2024-08-01T19:21:43.799Z"
   },
   {
    "duration": 225,
    "start_time": "2024-08-01T19:21:44.246Z"
   },
   {
    "duration": 214,
    "start_time": "2024-08-01T19:21:44.473Z"
   },
   {
    "duration": 215,
    "start_time": "2024-08-01T19:21:44.688Z"
   },
   {
    "duration": 1857,
    "start_time": "2024-08-01T19:21:44.905Z"
   },
   {
    "duration": 4,
    "start_time": "2024-08-01T19:21:46.764Z"
   },
   {
    "duration": 5,
    "start_time": "2024-08-01T19:21:46.770Z"
   },
   {
    "duration": 3,
    "start_time": "2024-08-01T19:21:46.777Z"
   },
   {
    "duration": 4,
    "start_time": "2024-08-01T19:21:46.785Z"
   },
   {
    "duration": 7,
    "start_time": "2024-08-01T19:21:46.791Z"
   },
   {
    "duration": 2,
    "start_time": "2024-08-01T19:21:46.803Z"
   },
   {
    "duration": 4,
    "start_time": "2024-08-01T19:21:46.807Z"
   },
   {
    "duration": 55,
    "start_time": "2024-08-01T19:21:46.813Z"
   },
   {
    "duration": 0,
    "start_time": "2024-08-01T19:21:46.870Z"
   },
   {
    "duration": 0,
    "start_time": "2024-08-01T19:21:46.871Z"
   },
   {
    "duration": 0,
    "start_time": "2024-08-01T19:21:46.872Z"
   },
   {
    "duration": 0,
    "start_time": "2024-08-01T19:21:46.874Z"
   },
   {
    "duration": 0,
    "start_time": "2024-08-01T19:21:46.875Z"
   },
   {
    "duration": 0,
    "start_time": "2024-08-01T19:21:46.876Z"
   },
   {
    "duration": 0,
    "start_time": "2024-08-01T19:21:46.878Z"
   },
   {
    "duration": 0,
    "start_time": "2024-08-01T19:21:46.879Z"
   },
   {
    "duration": 0,
    "start_time": "2024-08-01T19:21:46.881Z"
   },
   {
    "duration": 0,
    "start_time": "2024-08-01T19:21:46.882Z"
   },
   {
    "duration": 0,
    "start_time": "2024-08-01T19:21:46.883Z"
   },
   {
    "duration": 0,
    "start_time": "2024-08-01T19:21:46.885Z"
   },
   {
    "duration": 0,
    "start_time": "2024-08-01T19:21:46.886Z"
   },
   {
    "duration": 1,
    "start_time": "2024-08-01T19:21:46.887Z"
   },
   {
    "duration": 0,
    "start_time": "2024-08-01T19:21:46.889Z"
   },
   {
    "duration": 0,
    "start_time": "2024-08-01T19:21:46.890Z"
   },
   {
    "duration": 0,
    "start_time": "2024-08-01T19:21:46.892Z"
   },
   {
    "duration": 0,
    "start_time": "2024-08-01T19:21:46.893Z"
   },
   {
    "duration": 0,
    "start_time": "2024-08-01T19:21:46.894Z"
   },
   {
    "duration": 0,
    "start_time": "2024-08-01T19:21:46.896Z"
   },
   {
    "duration": 0,
    "start_time": "2024-08-01T19:21:46.897Z"
   },
   {
    "duration": 0,
    "start_time": "2024-08-01T19:21:46.899Z"
   },
   {
    "duration": 0,
    "start_time": "2024-08-01T19:21:46.900Z"
   },
   {
    "duration": 0,
    "start_time": "2024-08-01T19:21:46.901Z"
   },
   {
    "duration": 0,
    "start_time": "2024-08-01T19:21:46.903Z"
   },
   {
    "duration": 0,
    "start_time": "2024-08-01T19:21:46.904Z"
   },
   {
    "duration": 0,
    "start_time": "2024-08-01T19:21:46.905Z"
   },
   {
    "duration": 0,
    "start_time": "2024-08-01T19:21:46.906Z"
   },
   {
    "duration": 0,
    "start_time": "2024-08-01T19:21:46.907Z"
   },
   {
    "duration": 0,
    "start_time": "2024-08-01T19:21:46.908Z"
   },
   {
    "duration": 0,
    "start_time": "2024-08-01T19:21:46.909Z"
   },
   {
    "duration": 0,
    "start_time": "2024-08-01T19:21:46.910Z"
   },
   {
    "duration": 0,
    "start_time": "2024-08-01T19:21:46.911Z"
   },
   {
    "duration": 0,
    "start_time": "2024-08-01T19:21:46.912Z"
   },
   {
    "duration": 4,
    "start_time": "2024-08-01T19:21:49.090Z"
   },
   {
    "duration": 4,
    "start_time": "2024-08-01T19:21:49.989Z"
   },
   {
    "duration": 4,
    "start_time": "2024-08-01T19:21:50.300Z"
   },
   {
    "duration": 4,
    "start_time": "2024-08-01T19:22:52.909Z"
   },
   {
    "duration": 5,
    "start_time": "2024-08-01T19:22:53.416Z"
   },
   {
    "duration": 5,
    "start_time": "2024-08-01T19:23:00.647Z"
   },
   {
    "duration": 5,
    "start_time": "2024-08-01T19:23:01.121Z"
   },
   {
    "duration": 5,
    "start_time": "2024-08-01T19:23:29.380Z"
   },
   {
    "duration": 5,
    "start_time": "2024-08-01T19:23:29.609Z"
   },
   {
    "duration": 5,
    "start_time": "2024-08-01T19:23:36.550Z"
   },
   {
    "duration": 6,
    "start_time": "2024-08-01T19:23:37.041Z"
   },
   {
    "duration": 4,
    "start_time": "2024-08-01T19:23:37.320Z"
   },
   {
    "duration": 3,
    "start_time": "2024-08-01T19:23:37.828Z"
   },
   {
    "duration": 4,
    "start_time": "2024-08-01T19:23:39.528Z"
   },
   {
    "duration": 4,
    "start_time": "2024-08-01T19:23:40.526Z"
   },
   {
    "duration": 2,
    "start_time": "2024-08-01T19:23:41.736Z"
   },
   {
    "duration": 11,
    "start_time": "2024-08-01T19:23:41.965Z"
   },
   {
    "duration": 10,
    "start_time": "2024-08-01T19:23:43.977Z"
   },
   {
    "duration": 11,
    "start_time": "2024-08-01T19:23:44.517Z"
   },
   {
    "duration": 5,
    "start_time": "2024-08-01T19:23:44.927Z"
   },
   {
    "duration": 4,
    "start_time": "2024-08-01T19:23:49.768Z"
   },
   {
    "duration": 5,
    "start_time": "2024-08-01T19:23:50.064Z"
   },
   {
    "duration": 3,
    "start_time": "2024-08-01T19:23:55.411Z"
   },
   {
    "duration": 25006,
    "start_time": "2024-08-01T19:23:56.101Z"
   },
   {
    "duration": 1946,
    "start_time": "2024-08-01T19:25:36.739Z"
   },
   {
    "duration": 5,
    "start_time": "2024-08-01T19:25:38.687Z"
   },
   {
    "duration": 10,
    "start_time": "2024-08-01T19:25:38.694Z"
   },
   {
    "duration": 30,
    "start_time": "2024-08-01T19:25:38.706Z"
   },
   {
    "duration": 10,
    "start_time": "2024-08-01T19:25:38.738Z"
   },
   {
    "duration": 163,
    "start_time": "2024-08-01T19:25:38.749Z"
   },
   {
    "duration": 4,
    "start_time": "2024-08-01T19:25:38.914Z"
   },
   {
    "duration": 67,
    "start_time": "2024-08-01T19:25:38.919Z"
   },
   {
    "duration": 11,
    "start_time": "2024-08-01T19:25:38.987Z"
   },
   {
    "duration": 36,
    "start_time": "2024-08-01T19:25:38.999Z"
   },
   {
    "duration": 8,
    "start_time": "2024-08-01T19:25:39.084Z"
   },
   {
    "duration": 34,
    "start_time": "2024-08-01T19:25:39.094Z"
   },
   {
    "duration": 19,
    "start_time": "2024-08-01T19:25:39.130Z"
   },
   {
    "duration": 37,
    "start_time": "2024-08-01T19:25:39.151Z"
   },
   {
    "duration": 4,
    "start_time": "2024-08-01T19:25:39.190Z"
   },
   {
    "duration": 16,
    "start_time": "2024-08-01T19:25:39.195Z"
   },
   {
    "duration": 10,
    "start_time": "2024-08-01T19:25:39.212Z"
   },
   {
    "duration": 6,
    "start_time": "2024-08-01T19:25:39.223Z"
   },
   {
    "duration": 57,
    "start_time": "2024-08-01T19:25:39.230Z"
   },
   {
    "duration": 7,
    "start_time": "2024-08-01T19:25:39.288Z"
   },
   {
    "duration": 15,
    "start_time": "2024-08-01T19:25:39.296Z"
   },
   {
    "duration": 13,
    "start_time": "2024-08-01T19:25:39.313Z"
   },
   {
    "duration": 12,
    "start_time": "2024-08-01T19:25:39.328Z"
   },
   {
    "duration": 44,
    "start_time": "2024-08-01T19:25:39.341Z"
   },
   {
    "duration": 20,
    "start_time": "2024-08-01T19:25:39.387Z"
   },
   {
    "duration": 5,
    "start_time": "2024-08-01T19:25:39.408Z"
   },
   {
    "duration": 5,
    "start_time": "2024-08-01T19:25:39.415Z"
   },
   {
    "duration": 7,
    "start_time": "2024-08-01T19:25:39.421Z"
   },
   {
    "duration": 338,
    "start_time": "2024-08-01T19:25:39.429Z"
   },
   {
    "duration": 219,
    "start_time": "2024-08-01T19:25:39.768Z"
   },
   {
    "duration": 392,
    "start_time": "2024-08-01T19:25:39.988Z"
   },
   {
    "duration": 210,
    "start_time": "2024-08-01T19:25:40.384Z"
   },
   {
    "duration": 202,
    "start_time": "2024-08-01T19:25:40.596Z"
   },
   {
    "duration": 194,
    "start_time": "2024-08-01T19:25:40.799Z"
   },
   {
    "duration": 1076,
    "start_time": "2024-08-01T19:25:40.994Z"
   },
   {
    "duration": 4,
    "start_time": "2024-08-01T19:25:42.071Z"
   },
   {
    "duration": 6,
    "start_time": "2024-08-01T19:25:42.076Z"
   },
   {
    "duration": 4,
    "start_time": "2024-08-01T19:25:42.083Z"
   },
   {
    "duration": 8,
    "start_time": "2024-08-01T19:25:42.088Z"
   },
   {
    "duration": 12,
    "start_time": "2024-08-01T19:25:42.097Z"
   },
   {
    "duration": 2,
    "start_time": "2024-08-01T19:25:42.113Z"
   },
   {
    "duration": 4,
    "start_time": "2024-08-01T19:25:42.117Z"
   },
   {
    "duration": 54,
    "start_time": "2024-08-01T19:25:42.122Z"
   },
   {
    "duration": 0,
    "start_time": "2024-08-01T19:25:42.178Z"
   },
   {
    "duration": 0,
    "start_time": "2024-08-01T19:25:42.179Z"
   },
   {
    "duration": 0,
    "start_time": "2024-08-01T19:25:42.180Z"
   },
   {
    "duration": 0,
    "start_time": "2024-08-01T19:25:42.182Z"
   },
   {
    "duration": 0,
    "start_time": "2024-08-01T19:25:42.182Z"
   },
   {
    "duration": 0,
    "start_time": "2024-08-01T19:25:42.184Z"
   },
   {
    "duration": 0,
    "start_time": "2024-08-01T19:25:42.185Z"
   },
   {
    "duration": 0,
    "start_time": "2024-08-01T19:25:42.186Z"
   },
   {
    "duration": 0,
    "start_time": "2024-08-01T19:25:42.187Z"
   },
   {
    "duration": 0,
    "start_time": "2024-08-01T19:25:42.188Z"
   },
   {
    "duration": 0,
    "start_time": "2024-08-01T19:25:42.189Z"
   },
   {
    "duration": 0,
    "start_time": "2024-08-01T19:25:42.190Z"
   },
   {
    "duration": 0,
    "start_time": "2024-08-01T19:25:42.191Z"
   },
   {
    "duration": 0,
    "start_time": "2024-08-01T19:25:42.192Z"
   },
   {
    "duration": 0,
    "start_time": "2024-08-01T19:25:42.193Z"
   },
   {
    "duration": 0,
    "start_time": "2024-08-01T19:25:42.195Z"
   },
   {
    "duration": 0,
    "start_time": "2024-08-01T19:25:42.196Z"
   },
   {
    "duration": 0,
    "start_time": "2024-08-01T19:25:42.197Z"
   },
   {
    "duration": 0,
    "start_time": "2024-08-01T19:25:42.198Z"
   },
   {
    "duration": 1,
    "start_time": "2024-08-01T19:25:42.198Z"
   },
   {
    "duration": 0,
    "start_time": "2024-08-01T19:25:42.199Z"
   },
   {
    "duration": 0,
    "start_time": "2024-08-01T19:25:42.200Z"
   },
   {
    "duration": 0,
    "start_time": "2024-08-01T19:25:42.201Z"
   },
   {
    "duration": 0,
    "start_time": "2024-08-01T19:25:42.202Z"
   },
   {
    "duration": 0,
    "start_time": "2024-08-01T19:25:42.203Z"
   },
   {
    "duration": 0,
    "start_time": "2024-08-01T19:25:42.204Z"
   },
   {
    "duration": 0,
    "start_time": "2024-08-01T19:25:42.205Z"
   },
   {
    "duration": 0,
    "start_time": "2024-08-01T19:25:42.206Z"
   },
   {
    "duration": 0,
    "start_time": "2024-08-01T19:25:42.207Z"
   },
   {
    "duration": 0,
    "start_time": "2024-08-01T19:25:42.208Z"
   },
   {
    "duration": 0,
    "start_time": "2024-08-01T19:25:42.209Z"
   },
   {
    "duration": 0,
    "start_time": "2024-08-01T19:25:42.210Z"
   },
   {
    "duration": 0,
    "start_time": "2024-08-01T19:25:42.211Z"
   },
   {
    "duration": 0,
    "start_time": "2024-08-01T19:25:42.212Z"
   },
   {
    "duration": 0,
    "start_time": "2024-08-01T19:25:42.212Z"
   },
   {
    "duration": 4,
    "start_time": "2024-08-01T19:25:45.175Z"
   },
   {
    "duration": 4,
    "start_time": "2024-08-01T19:25:47.597Z"
   },
   {
    "duration": 4,
    "start_time": "2024-08-01T19:25:47.924Z"
   },
   {
    "duration": 4,
    "start_time": "2024-08-01T19:25:48.856Z"
   },
   {
    "duration": 4,
    "start_time": "2024-08-01T19:25:49.215Z"
   },
   {
    "duration": 4,
    "start_time": "2024-08-01T19:25:58.742Z"
   },
   {
    "duration": 6,
    "start_time": "2024-08-01T19:25:59.297Z"
   },
   {
    "duration": 5,
    "start_time": "2024-08-01T19:25:59.560Z"
   },
   {
    "duration": 2,
    "start_time": "2024-08-01T19:25:59.870Z"
   },
   {
    "duration": 4,
    "start_time": "2024-08-01T19:26:01.523Z"
   },
   {
    "duration": 4,
    "start_time": "2024-08-01T19:26:01.851Z"
   },
   {
    "duration": 2,
    "start_time": "2024-08-01T19:26:03.699Z"
   },
   {
    "duration": 13,
    "start_time": "2024-08-01T19:26:03.928Z"
   },
   {
    "duration": 9,
    "start_time": "2024-08-01T19:26:05.696Z"
   },
   {
    "duration": 10,
    "start_time": "2024-08-01T19:26:05.859Z"
   },
   {
    "duration": 6,
    "start_time": "2024-08-01T19:26:11.001Z"
   },
   {
    "duration": 4,
    "start_time": "2024-08-01T19:26:12.606Z"
   },
   {
    "duration": 5,
    "start_time": "2024-08-01T19:26:12.801Z"
   },
   {
    "duration": 3,
    "start_time": "2024-08-01T19:26:17.107Z"
   },
   {
    "duration": 25003,
    "start_time": "2024-08-01T19:26:18.300Z"
   },
   {
    "duration": 6,
    "start_time": "2024-08-01T19:26:57.273Z"
   },
   {
    "duration": 6,
    "start_time": "2024-08-01T19:26:57.730Z"
   },
   {
    "duration": 4,
    "start_time": "2024-08-01T19:27:03.655Z"
   },
   {
    "duration": 6,
    "start_time": "2024-08-01T19:27:04.177Z"
   },
   {
    "duration": 4,
    "start_time": "2024-08-01T19:27:04.472Z"
   },
   {
    "duration": 2,
    "start_time": "2024-08-01T19:27:04.750Z"
   },
   {
    "duration": 4,
    "start_time": "2024-08-01T19:27:05.306Z"
   },
   {
    "duration": 4,
    "start_time": "2024-08-01T19:27:05.552Z"
   },
   {
    "duration": 3,
    "start_time": "2024-08-01T19:27:07.334Z"
   },
   {
    "duration": 12,
    "start_time": "2024-08-01T19:27:07.580Z"
   },
   {
    "duration": 11,
    "start_time": "2024-08-01T19:27:08.332Z"
   },
   {
    "duration": 10,
    "start_time": "2024-08-01T19:27:08.610Z"
   },
   {
    "duration": 6,
    "start_time": "2024-08-01T19:27:09.183Z"
   },
   {
    "duration": 3,
    "start_time": "2024-08-01T19:27:14.810Z"
   },
   {
    "duration": 26225,
    "start_time": "2024-08-01T19:27:15.563Z"
   },
   {
    "duration": 5,
    "start_time": "2024-08-01T19:27:44.947Z"
   },
   {
    "duration": 3,
    "start_time": "2024-08-01T19:27:45.486Z"
   },
   {
    "duration": 2722,
    "start_time": "2024-08-01T19:27:46.077Z"
   },
   {
    "duration": 6,
    "start_time": "2024-08-01T19:27:54.111Z"
   },
   {
    "duration": 4,
    "start_time": "2024-08-01T19:27:54.340Z"
   },
   {
    "duration": 4,
    "start_time": "2024-08-01T19:27:55.601Z"
   },
   {
    "duration": 60955,
    "start_time": "2024-08-01T19:27:56.434Z"
   },
   {
    "duration": 77620,
    "start_time": "2024-08-01T19:29:18.538Z"
   },
   {
    "duration": 1858,
    "start_time": "2024-08-01T19:31:35.643Z"
   },
   {
    "duration": 5,
    "start_time": "2024-08-01T19:31:37.503Z"
   },
   {
    "duration": 12,
    "start_time": "2024-08-01T19:31:37.509Z"
   },
   {
    "duration": 6,
    "start_time": "2024-08-01T19:31:37.523Z"
   },
   {
    "duration": 9,
    "start_time": "2024-08-01T19:31:37.531Z"
   },
   {
    "duration": 119,
    "start_time": "2024-08-01T19:31:37.541Z"
   },
   {
    "duration": 6,
    "start_time": "2024-08-01T19:31:37.661Z"
   },
   {
    "duration": 11,
    "start_time": "2024-08-01T19:31:37.668Z"
   },
   {
    "duration": 25,
    "start_time": "2024-08-01T19:31:37.681Z"
   },
   {
    "duration": 26,
    "start_time": "2024-08-01T19:31:37.707Z"
   },
   {
    "duration": 26,
    "start_time": "2024-08-01T19:31:37.734Z"
   },
   {
    "duration": 7,
    "start_time": "2024-08-01T19:31:37.762Z"
   },
   {
    "duration": 17,
    "start_time": "2024-08-01T19:31:37.771Z"
   },
   {
    "duration": 6,
    "start_time": "2024-08-01T19:31:37.791Z"
   },
   {
    "duration": 14,
    "start_time": "2024-08-01T19:31:37.799Z"
   },
   {
    "duration": 13,
    "start_time": "2024-08-01T19:31:37.815Z"
   },
   {
    "duration": 27,
    "start_time": "2024-08-01T19:31:37.830Z"
   },
   {
    "duration": 50,
    "start_time": "2024-08-01T19:31:37.859Z"
   },
   {
    "duration": 10,
    "start_time": "2024-08-01T19:31:37.910Z"
   },
   {
    "duration": 14,
    "start_time": "2024-08-01T19:31:37.921Z"
   },
   {
    "duration": 10,
    "start_time": "2024-08-01T19:31:37.936Z"
   },
   {
    "duration": 21,
    "start_time": "2024-08-01T19:31:37.948Z"
   },
   {
    "duration": 31,
    "start_time": "2024-08-01T19:31:37.971Z"
   },
   {
    "duration": 29,
    "start_time": "2024-08-01T19:31:38.004Z"
   },
   {
    "duration": 26,
    "start_time": "2024-08-01T19:31:38.035Z"
   },
   {
    "duration": 20,
    "start_time": "2024-08-01T19:31:38.063Z"
   },
   {
    "duration": 14,
    "start_time": "2024-08-01T19:31:38.085Z"
   },
   {
    "duration": 14,
    "start_time": "2024-08-01T19:31:38.100Z"
   },
   {
    "duration": 296,
    "start_time": "2024-08-01T19:31:38.116Z"
   },
   {
    "duration": 386,
    "start_time": "2024-08-01T19:31:38.414Z"
   },
   {
    "duration": 810,
    "start_time": "2024-08-01T19:31:38.801Z"
   },
   {
    "duration": 337,
    "start_time": "2024-08-01T19:31:39.612Z"
   },
   {
    "duration": 203,
    "start_time": "2024-08-01T19:31:39.951Z"
   },
   {
    "duration": 192,
    "start_time": "2024-08-01T19:31:40.155Z"
   },
   {
    "duration": 1073,
    "start_time": "2024-08-01T19:31:40.348Z"
   },
   {
    "duration": 4,
    "start_time": "2024-08-01T19:31:41.423Z"
   },
   {
    "duration": 18,
    "start_time": "2024-08-01T19:31:41.428Z"
   },
   {
    "duration": 14,
    "start_time": "2024-08-01T19:31:41.448Z"
   },
   {
    "duration": 26,
    "start_time": "2024-08-01T19:31:41.464Z"
   },
   {
    "duration": 54,
    "start_time": "2024-08-01T19:31:41.492Z"
   },
   {
    "duration": 19,
    "start_time": "2024-08-01T19:31:41.550Z"
   },
   {
    "duration": 38,
    "start_time": "2024-08-01T19:31:41.570Z"
   },
   {
    "duration": 56,
    "start_time": "2024-08-01T19:31:41.609Z"
   },
   {
    "duration": 0,
    "start_time": "2024-08-01T19:31:41.666Z"
   },
   {
    "duration": 0,
    "start_time": "2024-08-01T19:31:41.667Z"
   },
   {
    "duration": 0,
    "start_time": "2024-08-01T19:31:41.668Z"
   },
   {
    "duration": 0,
    "start_time": "2024-08-01T19:31:41.669Z"
   },
   {
    "duration": 0,
    "start_time": "2024-08-01T19:31:41.670Z"
   },
   {
    "duration": 0,
    "start_time": "2024-08-01T19:31:41.670Z"
   },
   {
    "duration": 0,
    "start_time": "2024-08-01T19:31:41.671Z"
   },
   {
    "duration": 0,
    "start_time": "2024-08-01T19:31:41.672Z"
   },
   {
    "duration": 0,
    "start_time": "2024-08-01T19:31:41.673Z"
   },
   {
    "duration": 0,
    "start_time": "2024-08-01T19:31:41.674Z"
   },
   {
    "duration": 0,
    "start_time": "2024-08-01T19:31:41.675Z"
   },
   {
    "duration": 0,
    "start_time": "2024-08-01T19:31:41.676Z"
   },
   {
    "duration": 0,
    "start_time": "2024-08-01T19:31:41.677Z"
   },
   {
    "duration": 0,
    "start_time": "2024-08-01T19:31:41.677Z"
   },
   {
    "duration": 0,
    "start_time": "2024-08-01T19:31:41.678Z"
   },
   {
    "duration": 0,
    "start_time": "2024-08-01T19:31:41.679Z"
   },
   {
    "duration": 0,
    "start_time": "2024-08-01T19:31:41.681Z"
   },
   {
    "duration": 0,
    "start_time": "2024-08-01T19:31:41.681Z"
   },
   {
    "duration": 0,
    "start_time": "2024-08-01T19:31:41.682Z"
   },
   {
    "duration": 0,
    "start_time": "2024-08-01T19:31:41.683Z"
   },
   {
    "duration": 0,
    "start_time": "2024-08-01T19:31:41.684Z"
   },
   {
    "duration": 0,
    "start_time": "2024-08-01T19:31:41.685Z"
   },
   {
    "duration": 0,
    "start_time": "2024-08-01T19:31:41.686Z"
   },
   {
    "duration": 0,
    "start_time": "2024-08-01T19:31:41.687Z"
   },
   {
    "duration": 0,
    "start_time": "2024-08-01T19:31:41.688Z"
   },
   {
    "duration": 0,
    "start_time": "2024-08-01T19:31:41.689Z"
   },
   {
    "duration": 0,
    "start_time": "2024-08-01T19:31:41.689Z"
   },
   {
    "duration": 0,
    "start_time": "2024-08-01T19:31:41.690Z"
   },
   {
    "duration": 0,
    "start_time": "2024-08-01T19:31:41.691Z"
   },
   {
    "duration": 0,
    "start_time": "2024-08-01T19:31:41.692Z"
   },
   {
    "duration": 0,
    "start_time": "2024-08-01T19:31:41.693Z"
   },
   {
    "duration": 0,
    "start_time": "2024-08-01T19:31:41.694Z"
   },
   {
    "duration": 0,
    "start_time": "2024-08-01T19:31:41.695Z"
   },
   {
    "duration": 0,
    "start_time": "2024-08-01T19:31:41.696Z"
   },
   {
    "duration": 0,
    "start_time": "2024-08-01T19:31:41.696Z"
   },
   {
    "duration": 4,
    "start_time": "2024-08-01T19:31:44.207Z"
   },
   {
    "duration": 5,
    "start_time": "2024-08-01T19:31:46.138Z"
   },
   {
    "duration": 6,
    "start_time": "2024-08-01T19:31:46.416Z"
   },
   {
    "duration": 4,
    "start_time": "2024-08-01T19:31:48.477Z"
   },
   {
    "duration": 3,
    "start_time": "2024-08-01T19:31:48.673Z"
   },
   {
    "duration": 4,
    "start_time": "2024-08-01T19:31:53.337Z"
   },
   {
    "duration": 5,
    "start_time": "2024-08-01T19:31:53.909Z"
   },
   {
    "duration": 4,
    "start_time": "2024-08-01T19:31:54.286Z"
   },
   {
    "duration": 3,
    "start_time": "2024-08-01T19:31:54.613Z"
   },
   {
    "duration": 3,
    "start_time": "2024-08-01T19:31:55.234Z"
   },
   {
    "duration": 4,
    "start_time": "2024-08-01T19:31:55.594Z"
   },
   {
    "duration": 3,
    "start_time": "2024-08-01T19:31:57.458Z"
   },
   {
    "duration": 15,
    "start_time": "2024-08-01T19:31:57.786Z"
   },
   {
    "duration": 10,
    "start_time": "2024-08-01T19:31:58.931Z"
   },
   {
    "duration": 9,
    "start_time": "2024-08-01T19:31:59.193Z"
   },
   {
    "duration": 6,
    "start_time": "2024-08-01T19:31:59.586Z"
   },
   {
    "duration": 4,
    "start_time": "2024-08-01T19:32:01.254Z"
   },
   {
    "duration": 6,
    "start_time": "2024-08-01T19:32:02.565Z"
   },
   {
    "duration": 3,
    "start_time": "2024-08-01T19:32:07.392Z"
   },
   {
    "duration": 2799,
    "start_time": "2024-08-01T19:32:08.291Z"
   },
   {
    "duration": 5,
    "start_time": "2024-08-01T19:32:18.289Z"
   },
   {
    "duration": 4,
    "start_time": "2024-08-01T19:32:18.648Z"
   },
   {
    "duration": 5,
    "start_time": "2024-08-01T19:32:19.089Z"
   },
   {
    "duration": 59835,
    "start_time": "2024-08-01T19:32:21.167Z"
   },
   {
    "duration": 13,
    "start_time": "2024-08-01T19:33:47.447Z"
   },
   {
    "duration": 4,
    "start_time": "2024-08-01T19:33:51.194Z"
   },
   {
    "duration": 6,
    "start_time": "2024-08-01T19:33:51.989Z"
   },
   {
    "duration": 5,
    "start_time": "2024-08-01T19:33:52.047Z"
   },
   {
    "duration": 3,
    "start_time": "2024-08-01T19:33:53.682Z"
   },
   {
    "duration": 3,
    "start_time": "2024-08-01T19:33:54.500Z"
   },
   {
    "duration": 4,
    "start_time": "2024-08-01T19:33:54.876Z"
   },
   {
    "duration": 2,
    "start_time": "2024-08-01T19:33:57.658Z"
   },
   {
    "duration": 12,
    "start_time": "2024-08-01T19:33:57.969Z"
   },
   {
    "duration": 12,
    "start_time": "2024-08-01T19:33:59.606Z"
   },
   {
    "duration": 10,
    "start_time": "2024-08-01T19:33:59.966Z"
   },
   {
    "duration": 5,
    "start_time": "2024-08-01T19:34:10.471Z"
   },
   {
    "duration": 5,
    "start_time": "2024-08-01T19:34:13.431Z"
   },
   {
    "duration": 6,
    "start_time": "2024-08-01T19:34:13.757Z"
   },
   {
    "duration": 3,
    "start_time": "2024-08-01T19:34:17.193Z"
   },
   {
    "duration": 2886,
    "start_time": "2024-08-01T19:34:17.715Z"
   },
   {
    "duration": 4,
    "start_time": "2024-08-01T19:34:23.935Z"
   },
   {
    "duration": 4,
    "start_time": "2024-08-01T19:34:24.179Z"
   },
   {
    "duration": 4,
    "start_time": "2024-08-01T19:34:24.719Z"
   },
   {
    "duration": 62590,
    "start_time": "2024-08-01T19:34:27.339Z"
   },
   {
    "duration": 3,
    "start_time": "2024-08-01T19:36:46.574Z"
   },
   {
    "duration": 7,
    "start_time": "2024-08-01T19:36:47.031Z"
   },
   {
    "duration": 5,
    "start_time": "2024-08-01T19:36:47.276Z"
   },
   {
    "duration": 2,
    "start_time": "2024-08-01T19:36:47.555Z"
   },
   {
    "duration": 4,
    "start_time": "2024-08-01T19:36:48.176Z"
   },
   {
    "duration": 4,
    "start_time": "2024-08-01T19:36:48.618Z"
   },
   {
    "duration": 3,
    "start_time": "2024-08-01T19:36:51.646Z"
   },
   {
    "duration": 16,
    "start_time": "2024-08-01T19:36:52.055Z"
   },
   {
    "duration": 14,
    "start_time": "2024-08-01T19:36:52.889Z"
   },
   {
    "duration": 12,
    "start_time": "2024-08-01T19:36:53.512Z"
   },
   {
    "duration": 6,
    "start_time": "2024-08-01T19:36:55.605Z"
   },
   {
    "duration": 2,
    "start_time": "2024-08-01T19:36:58.272Z"
   },
   {
    "duration": 2687,
    "start_time": "2024-08-01T19:36:59.302Z"
   },
   {
    "duration": 62467,
    "start_time": "2024-08-01T19:37:08.974Z"
   },
   {
    "duration": 6,
    "start_time": "2024-08-01T19:38:27.752Z"
   },
   {
    "duration": 5,
    "start_time": "2024-08-01T19:38:31.204Z"
   },
   {
    "duration": 7,
    "start_time": "2024-08-01T19:38:31.810Z"
   },
   {
    "duration": 4,
    "start_time": "2024-08-01T19:38:32.088Z"
   },
   {
    "duration": 3,
    "start_time": "2024-08-01T19:38:32.415Z"
   },
   {
    "duration": 3,
    "start_time": "2024-08-01T19:38:33.330Z"
   },
   {
    "duration": 3,
    "start_time": "2024-08-01T19:38:33.724Z"
   },
   {
    "duration": 2,
    "start_time": "2024-08-01T19:38:47.083Z"
   },
   {
    "duration": 16,
    "start_time": "2024-08-01T19:38:48.491Z"
   },
   {
    "duration": 14,
    "start_time": "2024-08-01T19:38:49.277Z"
   },
   {
    "duration": 14,
    "start_time": "2024-08-01T19:38:49.637Z"
   },
   {
    "duration": 6,
    "start_time": "2024-08-01T19:38:50.276Z"
   },
   {
    "duration": 3,
    "start_time": "2024-08-01T19:39:00.148Z"
   },
   {
    "duration": 2565,
    "start_time": "2024-08-01T19:39:01.029Z"
   },
   {
    "duration": 62929,
    "start_time": "2024-08-01T19:39:07.314Z"
   },
   {
    "duration": 2299,
    "start_time": "2024-08-01T19:40:46.018Z"
   },
   {
    "duration": 5,
    "start_time": "2024-08-01T19:40:48.319Z"
   },
   {
    "duration": 11,
    "start_time": "2024-08-01T19:40:48.326Z"
   },
   {
    "duration": 9,
    "start_time": "2024-08-01T19:40:48.385Z"
   },
   {
    "duration": 8,
    "start_time": "2024-08-01T19:40:48.396Z"
   },
   {
    "duration": 126,
    "start_time": "2024-08-01T19:40:48.405Z"
   },
   {
    "duration": 5,
    "start_time": "2024-08-01T19:40:48.533Z"
   },
   {
    "duration": 48,
    "start_time": "2024-08-01T19:40:48.540Z"
   },
   {
    "duration": 28,
    "start_time": "2024-08-01T19:40:48.589Z"
   },
   {
    "duration": 43,
    "start_time": "2024-08-01T19:40:48.619Z"
   },
   {
    "duration": 53,
    "start_time": "2024-08-01T19:40:48.664Z"
   },
   {
    "duration": 59,
    "start_time": "2024-08-01T19:40:48.719Z"
   },
   {
    "duration": 54,
    "start_time": "2024-08-01T19:40:48.780Z"
   },
   {
    "duration": 72,
    "start_time": "2024-08-01T19:40:48.838Z"
   },
   {
    "duration": 81,
    "start_time": "2024-08-01T19:40:48.911Z"
   },
   {
    "duration": 23,
    "start_time": "2024-08-01T19:40:48.994Z"
   },
   {
    "duration": 35,
    "start_time": "2024-08-01T19:40:49.019Z"
   },
   {
    "duration": 12,
    "start_time": "2024-08-01T19:40:49.056Z"
   },
   {
    "duration": 19,
    "start_time": "2024-08-01T19:40:49.069Z"
   },
   {
    "duration": 8,
    "start_time": "2024-08-01T19:40:49.089Z"
   },
   {
    "duration": 8,
    "start_time": "2024-08-01T19:40:49.098Z"
   },
   {
    "duration": 8,
    "start_time": "2024-08-01T19:40:49.108Z"
   },
   {
    "duration": 9,
    "start_time": "2024-08-01T19:40:49.117Z"
   },
   {
    "duration": 17,
    "start_time": "2024-08-01T19:40:49.128Z"
   },
   {
    "duration": 8,
    "start_time": "2024-08-01T19:40:49.147Z"
   },
   {
    "duration": 17,
    "start_time": "2024-08-01T19:40:49.156Z"
   },
   {
    "duration": 5,
    "start_time": "2024-08-01T19:40:49.175Z"
   },
   {
    "duration": 12,
    "start_time": "2024-08-01T19:40:49.181Z"
   },
   {
    "duration": 280,
    "start_time": "2024-08-01T19:40:49.195Z"
   },
   {
    "duration": 212,
    "start_time": "2024-08-01T19:40:49.484Z"
   },
   {
    "duration": 409,
    "start_time": "2024-08-01T19:40:49.697Z"
   },
   {
    "duration": 222,
    "start_time": "2024-08-01T19:40:50.108Z"
   },
   {
    "duration": 210,
    "start_time": "2024-08-01T19:40:50.331Z"
   },
   {
    "duration": 200,
    "start_time": "2024-08-01T19:40:50.543Z"
   },
   {
    "duration": 1094,
    "start_time": "2024-08-01T19:40:50.744Z"
   },
   {
    "duration": 4,
    "start_time": "2024-08-01T19:40:51.839Z"
   },
   {
    "duration": 11,
    "start_time": "2024-08-01T19:40:51.844Z"
   },
   {
    "duration": 56,
    "start_time": "2024-08-01T19:40:51.857Z"
   },
   {
    "duration": 24,
    "start_time": "2024-08-01T19:40:51.915Z"
   },
   {
    "duration": 31,
    "start_time": "2024-08-01T19:40:51.941Z"
   },
   {
    "duration": 35,
    "start_time": "2024-08-01T19:40:51.977Z"
   },
   {
    "duration": 25,
    "start_time": "2024-08-01T19:40:52.013Z"
   },
   {
    "duration": 55,
    "start_time": "2024-08-01T19:40:52.039Z"
   },
   {
    "duration": 0,
    "start_time": "2024-08-01T19:40:52.095Z"
   },
   {
    "duration": 0,
    "start_time": "2024-08-01T19:40:52.097Z"
   },
   {
    "duration": 0,
    "start_time": "2024-08-01T19:40:52.098Z"
   },
   {
    "duration": 1,
    "start_time": "2024-08-01T19:40:52.098Z"
   },
   {
    "duration": 0,
    "start_time": "2024-08-01T19:40:52.100Z"
   },
   {
    "duration": 0,
    "start_time": "2024-08-01T19:40:52.101Z"
   },
   {
    "duration": 0,
    "start_time": "2024-08-01T19:40:52.102Z"
   },
   {
    "duration": 0,
    "start_time": "2024-08-01T19:40:52.103Z"
   },
   {
    "duration": 0,
    "start_time": "2024-08-01T19:40:52.104Z"
   },
   {
    "duration": 0,
    "start_time": "2024-08-01T19:40:52.105Z"
   },
   {
    "duration": 0,
    "start_time": "2024-08-01T19:40:52.105Z"
   },
   {
    "duration": 0,
    "start_time": "2024-08-01T19:40:52.107Z"
   },
   {
    "duration": 0,
    "start_time": "2024-08-01T19:40:52.107Z"
   },
   {
    "duration": 0,
    "start_time": "2024-08-01T19:40:52.108Z"
   },
   {
    "duration": 0,
    "start_time": "2024-08-01T19:40:52.109Z"
   },
   {
    "duration": 0,
    "start_time": "2024-08-01T19:40:52.110Z"
   },
   {
    "duration": 0,
    "start_time": "2024-08-01T19:40:52.111Z"
   },
   {
    "duration": 0,
    "start_time": "2024-08-01T19:40:52.112Z"
   },
   {
    "duration": 0,
    "start_time": "2024-08-01T19:40:52.113Z"
   },
   {
    "duration": 0,
    "start_time": "2024-08-01T19:40:52.114Z"
   },
   {
    "duration": 0,
    "start_time": "2024-08-01T19:40:52.115Z"
   },
   {
    "duration": 0,
    "start_time": "2024-08-01T19:40:52.116Z"
   },
   {
    "duration": 0,
    "start_time": "2024-08-01T19:40:52.117Z"
   },
   {
    "duration": 0,
    "start_time": "2024-08-01T19:40:52.117Z"
   },
   {
    "duration": 0,
    "start_time": "2024-08-01T19:40:52.118Z"
   },
   {
    "duration": 0,
    "start_time": "2024-08-01T19:40:52.119Z"
   },
   {
    "duration": 0,
    "start_time": "2024-08-01T19:40:52.120Z"
   },
   {
    "duration": 0,
    "start_time": "2024-08-01T19:40:52.121Z"
   },
   {
    "duration": 0,
    "start_time": "2024-08-01T19:40:52.122Z"
   },
   {
    "duration": 0,
    "start_time": "2024-08-01T19:40:52.123Z"
   },
   {
    "duration": 0,
    "start_time": "2024-08-01T19:40:52.125Z"
   },
   {
    "duration": 0,
    "start_time": "2024-08-01T19:40:52.126Z"
   },
   {
    "duration": 0,
    "start_time": "2024-08-01T19:40:52.127Z"
   },
   {
    "duration": 0,
    "start_time": "2024-08-01T19:40:52.128Z"
   },
   {
    "duration": 0,
    "start_time": "2024-08-01T19:40:52.129Z"
   },
   {
    "duration": 4,
    "start_time": "2024-08-01T19:40:54.453Z"
   },
   {
    "duration": 4,
    "start_time": "2024-08-01T19:40:55.042Z"
   },
   {
    "duration": 5,
    "start_time": "2024-08-01T19:40:55.368Z"
   },
   {
    "duration": 4,
    "start_time": "2024-08-01T19:40:58.084Z"
   },
   {
    "duration": 5,
    "start_time": "2024-08-01T19:40:58.328Z"
   },
   {
    "duration": 5,
    "start_time": "2024-08-01T19:40:59.244Z"
   },
   {
    "duration": 5,
    "start_time": "2024-08-01T19:41:00.472Z"
   },
   {
    "duration": 13,
    "start_time": "2024-08-01T19:41:00.980Z"
   },
   {
    "duration": 6,
    "start_time": "2024-08-01T19:41:02.779Z"
   },
   {
    "duration": 4,
    "start_time": "2024-08-01T19:41:05.169Z"
   },
   {
    "duration": 8,
    "start_time": "2024-08-01T19:41:06.134Z"
   },
   {
    "duration": 5,
    "start_time": "2024-08-01T19:41:06.381Z"
   },
   {
    "duration": 3,
    "start_time": "2024-08-01T19:41:06.691Z"
   },
   {
    "duration": 4,
    "start_time": "2024-08-01T19:41:08.475Z"
   },
   {
    "duration": 4,
    "start_time": "2024-08-01T19:41:08.737Z"
   },
   {
    "duration": 3,
    "start_time": "2024-08-01T19:41:09.850Z"
   },
   {
    "duration": 16,
    "start_time": "2024-08-01T19:41:14.417Z"
   },
   {
    "duration": 18,
    "start_time": "2024-08-01T19:41:15.285Z"
   },
   {
    "duration": 16,
    "start_time": "2024-08-01T19:41:15.513Z"
   },
   {
    "duration": 6,
    "start_time": "2024-08-01T19:41:15.841Z"
   },
   {
    "duration": 4,
    "start_time": "2024-08-01T19:41:18.347Z"
   },
   {
    "duration": 5,
    "start_time": "2024-08-01T19:41:18.592Z"
   },
   {
    "duration": 2,
    "start_time": "2024-08-01T19:41:29.592Z"
   },
   {
    "duration": 2689,
    "start_time": "2024-08-01T19:41:31.914Z"
   },
   {
    "duration": 4,
    "start_time": "2024-08-01T19:41:37.723Z"
   },
   {
    "duration": 4,
    "start_time": "2024-08-01T19:41:38.001Z"
   },
   {
    "duration": 4,
    "start_time": "2024-08-01T19:41:38.409Z"
   },
   {
    "duration": 75066,
    "start_time": "2024-08-01T19:41:40.258Z"
   },
   {
    "duration": 1730,
    "start_time": "2024-08-01T20:03:19.436Z"
   },
   {
    "duration": 5,
    "start_time": "2024-08-01T20:03:21.168Z"
   },
   {
    "duration": 9,
    "start_time": "2024-08-01T20:03:21.175Z"
   },
   {
    "duration": 11,
    "start_time": "2024-08-01T20:03:21.186Z"
   },
   {
    "duration": 10,
    "start_time": "2024-08-01T20:03:21.199Z"
   },
   {
    "duration": 123,
    "start_time": "2024-08-01T20:03:21.210Z"
   },
   {
    "duration": 5,
    "start_time": "2024-08-01T20:03:21.334Z"
   },
   {
    "duration": 14,
    "start_time": "2024-08-01T20:03:21.341Z"
   },
   {
    "duration": 11,
    "start_time": "2024-08-01T20:03:21.356Z"
   },
   {
    "duration": 32,
    "start_time": "2024-08-01T20:03:21.368Z"
   },
   {
    "duration": 7,
    "start_time": "2024-08-01T20:03:21.402Z"
   },
   {
    "duration": 22,
    "start_time": "2024-08-01T20:03:21.410Z"
   },
   {
    "duration": 6,
    "start_time": "2024-08-01T20:03:21.434Z"
   },
   {
    "duration": 10,
    "start_time": "2024-08-01T20:03:21.442Z"
   },
   {
    "duration": 9,
    "start_time": "2024-08-01T20:03:21.453Z"
   },
   {
    "duration": 9,
    "start_time": "2024-08-01T20:03:21.464Z"
   },
   {
    "duration": 12,
    "start_time": "2024-08-01T20:03:21.474Z"
   },
   {
    "duration": 8,
    "start_time": "2024-08-01T20:03:21.487Z"
   },
   {
    "duration": 5,
    "start_time": "2024-08-01T20:03:21.497Z"
   },
   {
    "duration": 7,
    "start_time": "2024-08-01T20:03:21.504Z"
   },
   {
    "duration": 5,
    "start_time": "2024-08-01T20:03:21.513Z"
   },
   {
    "duration": 10,
    "start_time": "2024-08-01T20:03:21.519Z"
   },
   {
    "duration": 5,
    "start_time": "2024-08-01T20:03:21.531Z"
   },
   {
    "duration": 7,
    "start_time": "2024-08-01T20:03:21.537Z"
   },
   {
    "duration": 10,
    "start_time": "2024-08-01T20:03:21.546Z"
   },
   {
    "duration": 16,
    "start_time": "2024-08-01T20:03:21.558Z"
   },
   {
    "duration": 19,
    "start_time": "2024-08-01T20:03:21.584Z"
   },
   {
    "duration": 18,
    "start_time": "2024-08-01T20:03:21.604Z"
   },
   {
    "duration": 392,
    "start_time": "2024-08-01T20:03:21.623Z"
   },
   {
    "duration": 479,
    "start_time": "2024-08-01T20:03:22.016Z"
   },
   {
    "duration": 728,
    "start_time": "2024-08-01T20:03:22.496Z"
   },
   {
    "duration": 222,
    "start_time": "2024-08-01T20:03:23.225Z"
   },
   {
    "duration": 207,
    "start_time": "2024-08-01T20:03:23.449Z"
   },
   {
    "duration": 201,
    "start_time": "2024-08-01T20:03:23.658Z"
   },
   {
    "duration": 1185,
    "start_time": "2024-08-01T20:03:23.861Z"
   },
   {
    "duration": 4,
    "start_time": "2024-08-01T20:03:25.047Z"
   },
   {
    "duration": 19,
    "start_time": "2024-08-01T20:03:25.053Z"
   },
   {
    "duration": 4,
    "start_time": "2024-08-01T20:03:25.074Z"
   },
   {
    "duration": 8,
    "start_time": "2024-08-01T20:03:25.079Z"
   },
   {
    "duration": 2,
    "start_time": "2024-08-01T20:03:25.089Z"
   },
   {
    "duration": 2,
    "start_time": "2024-08-01T20:03:25.096Z"
   },
   {
    "duration": 11,
    "start_time": "2024-08-01T20:03:25.099Z"
   },
   {
    "duration": 61,
    "start_time": "2024-08-01T20:03:25.111Z"
   },
   {
    "duration": 0,
    "start_time": "2024-08-01T20:03:25.173Z"
   },
   {
    "duration": 0,
    "start_time": "2024-08-01T20:03:25.175Z"
   },
   {
    "duration": 0,
    "start_time": "2024-08-01T20:03:25.176Z"
   },
   {
    "duration": 0,
    "start_time": "2024-08-01T20:03:25.178Z"
   },
   {
    "duration": 0,
    "start_time": "2024-08-01T20:03:25.179Z"
   },
   {
    "duration": 0,
    "start_time": "2024-08-01T20:03:25.180Z"
   },
   {
    "duration": 0,
    "start_time": "2024-08-01T20:03:25.181Z"
   },
   {
    "duration": 0,
    "start_time": "2024-08-01T20:03:25.182Z"
   },
   {
    "duration": 0,
    "start_time": "2024-08-01T20:03:25.183Z"
   },
   {
    "duration": 0,
    "start_time": "2024-08-01T20:03:25.184Z"
   },
   {
    "duration": 0,
    "start_time": "2024-08-01T20:03:25.185Z"
   },
   {
    "duration": 0,
    "start_time": "2024-08-01T20:03:25.186Z"
   },
   {
    "duration": 0,
    "start_time": "2024-08-01T20:03:25.187Z"
   },
   {
    "duration": 0,
    "start_time": "2024-08-01T20:03:25.188Z"
   },
   {
    "duration": 0,
    "start_time": "2024-08-01T20:03:25.189Z"
   },
   {
    "duration": 0,
    "start_time": "2024-08-01T20:03:25.190Z"
   },
   {
    "duration": 0,
    "start_time": "2024-08-01T20:03:25.191Z"
   },
   {
    "duration": 0,
    "start_time": "2024-08-01T20:03:25.192Z"
   },
   {
    "duration": 0,
    "start_time": "2024-08-01T20:03:25.193Z"
   },
   {
    "duration": 0,
    "start_time": "2024-08-01T20:03:25.193Z"
   },
   {
    "duration": 0,
    "start_time": "2024-08-01T20:03:25.194Z"
   },
   {
    "duration": 0,
    "start_time": "2024-08-01T20:03:25.195Z"
   },
   {
    "duration": 0,
    "start_time": "2024-08-01T20:03:25.196Z"
   },
   {
    "duration": 0,
    "start_time": "2024-08-01T20:03:25.197Z"
   },
   {
    "duration": 0,
    "start_time": "2024-08-01T20:03:25.198Z"
   },
   {
    "duration": 0,
    "start_time": "2024-08-01T20:03:25.199Z"
   },
   {
    "duration": 0,
    "start_time": "2024-08-01T20:03:25.200Z"
   },
   {
    "duration": 0,
    "start_time": "2024-08-01T20:03:25.201Z"
   },
   {
    "duration": 0,
    "start_time": "2024-08-01T20:03:25.202Z"
   },
   {
    "duration": 0,
    "start_time": "2024-08-01T20:03:25.202Z"
   },
   {
    "duration": 0,
    "start_time": "2024-08-01T20:03:25.203Z"
   },
   {
    "duration": 0,
    "start_time": "2024-08-01T20:03:25.204Z"
   },
   {
    "duration": 0,
    "start_time": "2024-08-01T20:03:25.205Z"
   },
   {
    "duration": 0,
    "start_time": "2024-08-01T20:03:25.206Z"
   },
   {
    "duration": 0,
    "start_time": "2024-08-01T20:03:25.207Z"
   },
   {
    "duration": 4,
    "start_time": "2024-08-01T20:03:27.280Z"
   },
   {
    "duration": 4,
    "start_time": "2024-08-01T20:03:28.834Z"
   },
   {
    "duration": 6,
    "start_time": "2024-08-01T20:03:29.111Z"
   },
   {
    "duration": 4,
    "start_time": "2024-08-01T20:03:34.263Z"
   },
   {
    "duration": 6,
    "start_time": "2024-08-01T20:03:35.145Z"
   },
   {
    "duration": 5,
    "start_time": "2024-08-01T20:03:35.669Z"
   },
   {
    "duration": 2,
    "start_time": "2024-08-01T20:03:36.062Z"
   },
   {
    "duration": 3,
    "start_time": "2024-08-01T20:03:37.779Z"
   },
   {
    "duration": 4,
    "start_time": "2024-08-01T20:03:38.056Z"
   },
   {
    "duration": 3,
    "start_time": "2024-08-01T20:03:39.675Z"
   },
   {
    "duration": 135,
    "start_time": "2024-08-01T20:03:39.970Z"
   },
   {
    "duration": 3,
    "start_time": "2024-08-01T20:03:56.547Z"
   },
   {
    "duration": 13,
    "start_time": "2024-08-01T20:03:56.972Z"
   },
   {
    "duration": 10,
    "start_time": "2024-08-01T20:03:58.198Z"
   },
   {
    "duration": 10,
    "start_time": "2024-08-01T20:03:58.412Z"
   },
   {
    "duration": 6,
    "start_time": "2024-08-01T20:03:58.886Z"
   },
   {
    "duration": 4,
    "start_time": "2024-08-01T20:04:00.768Z"
   },
   {
    "duration": 6,
    "start_time": "2024-08-01T20:04:00.980Z"
   },
   {
    "duration": 2,
    "start_time": "2024-08-01T20:04:10.012Z"
   },
   {
    "duration": 2454,
    "start_time": "2024-08-01T20:04:10.534Z"
   },
   {
    "duration": 5,
    "start_time": "2024-08-01T20:04:17.029Z"
   },
   {
    "duration": 4,
    "start_time": "2024-08-01T20:04:17.290Z"
   },
   {
    "duration": 4,
    "start_time": "2024-08-01T20:04:18.616Z"
   },
   {
    "duration": 68200,
    "start_time": "2024-08-01T20:04:19.417Z"
   },
   {
    "duration": 4,
    "start_time": "2024-08-01T20:05:53.199Z"
   },
   {
    "duration": 52,
    "start_time": "2024-08-01T20:06:00.166Z"
   },
   {
    "duration": 4,
    "start_time": "2024-08-01T20:06:28.073Z"
   },
   {
    "duration": 87925,
    "start_time": "2024-08-01T20:06:30.755Z"
   },
   {
    "duration": 3,
    "start_time": "2024-08-01T20:08:51.114Z"
   },
   {
    "duration": 84718,
    "start_time": "2024-08-01T20:08:54.745Z"
   },
   {
    "duration": 5,
    "start_time": "2024-08-01T20:10:56.587Z"
   },
   {
    "duration": 86610,
    "start_time": "2024-08-01T20:10:58.975Z"
   },
   {
    "duration": 4,
    "start_time": "2024-08-01T20:13:45.649Z"
   },
   {
    "duration": 85599,
    "start_time": "2024-08-01T20:13:48.970Z"
   },
   {
    "duration": 5,
    "start_time": "2024-08-01T20:16:02.016Z"
   },
   {
    "duration": 2,
    "start_time": "2024-08-01T20:16:06.371Z"
   },
   {
    "duration": 92212,
    "start_time": "2024-08-01T20:16:09.613Z"
   },
   {
    "duration": 2,
    "start_time": "2024-08-01T20:18:06.453Z"
   },
   {
    "duration": 87407,
    "start_time": "2024-08-01T20:18:09.821Z"
   },
   {
    "duration": 5,
    "start_time": "2024-08-01T20:20:30.366Z"
   },
   {
    "duration": 89029,
    "start_time": "2024-08-01T20:20:32.737Z"
   },
   {
    "duration": 3,
    "start_time": "2024-08-01T20:22:26.647Z"
   },
   {
    "duration": 88671,
    "start_time": "2024-08-01T20:22:31.150Z"
   },
   {
    "duration": 2,
    "start_time": "2024-08-01T20:24:12.633Z"
   },
   {
    "duration": 90465,
    "start_time": "2024-08-01T20:24:15.938Z"
   },
   {
    "duration": 3,
    "start_time": "2024-08-01T20:25:59.237Z"
   },
   {
    "duration": 6,
    "start_time": "2024-08-01T20:26:12.762Z"
   },
   {
    "duration": 6,
    "start_time": "2024-08-01T20:26:13.123Z"
   },
   {
    "duration": 6,
    "start_time": "2024-08-01T20:26:15.657Z"
   },
   {
    "duration": 6,
    "start_time": "2024-08-01T20:26:16.082Z"
   },
   {
    "duration": 14,
    "start_time": "2024-08-01T20:26:16.950Z"
   },
   {
    "duration": 6,
    "start_time": "2024-08-01T20:26:17.375Z"
   },
   {
    "duration": 5,
    "start_time": "2024-08-01T20:26:20.271Z"
   },
   {
    "duration": 8,
    "start_time": "2024-08-01T20:26:20.810Z"
   },
   {
    "duration": 5,
    "start_time": "2024-08-01T20:26:21.171Z"
   },
   {
    "duration": 3,
    "start_time": "2024-08-01T20:26:21.465Z"
   },
   {
    "duration": 4,
    "start_time": "2024-08-01T20:26:23.134Z"
   },
   {
    "duration": 4,
    "start_time": "2024-08-01T20:26:23.445Z"
   },
   {
    "duration": 3,
    "start_time": "2024-08-01T20:26:41.062Z"
   },
   {
    "duration": 17,
    "start_time": "2024-08-01T20:26:41.471Z"
   },
   {
    "duration": 18,
    "start_time": "2024-08-01T20:26:42.321Z"
   },
   {
    "duration": 17,
    "start_time": "2024-08-01T20:26:42.600Z"
   },
   {
    "duration": 5,
    "start_time": "2024-08-01T20:26:44.563Z"
   },
   {
    "duration": 3,
    "start_time": "2024-08-01T20:26:56.402Z"
   },
   {
    "duration": 92746,
    "start_time": "2024-08-01T20:27:00.868Z"
   },
   {
    "duration": 4,
    "start_time": "2024-08-01T20:29:14.525Z"
   },
   {
    "duration": 4,
    "start_time": "2024-08-01T20:29:15.391Z"
   },
   {
    "duration": 4,
    "start_time": "2024-08-01T20:29:18.496Z"
   },
   {
    "duration": 8,
    "start_time": "2024-08-01T20:29:19.036Z"
   },
   {
    "duration": 5,
    "start_time": "2024-08-01T20:29:19.330Z"
   },
   {
    "duration": 2,
    "start_time": "2024-08-01T20:29:19.625Z"
   },
   {
    "duration": 4,
    "start_time": "2024-08-01T20:29:20.278Z"
   },
   {
    "duration": 4,
    "start_time": "2024-08-01T20:29:20.720Z"
   },
   {
    "duration": 3,
    "start_time": "2024-08-01T20:29:23.289Z"
   },
   {
    "duration": 15,
    "start_time": "2024-08-01T20:29:23.567Z"
   },
   {
    "duration": 16,
    "start_time": "2024-08-01T20:29:25.335Z"
   },
   {
    "duration": 16,
    "start_time": "2024-08-01T20:29:25.678Z"
   },
   {
    "duration": 5,
    "start_time": "2024-08-01T20:29:27.020Z"
   },
   {
    "duration": 82390,
    "start_time": "2024-08-01T20:29:40.539Z"
   },
   {
    "duration": 5,
    "start_time": "2024-08-01T20:34:20.536Z"
   },
   {
    "duration": 3,
    "start_time": "2024-08-01T20:34:41.663Z"
   },
   {
    "duration": 96394,
    "start_time": "2024-08-01T20:34:45.082Z"
   },
   {
    "duration": 1808,
    "start_time": "2024-08-01T20:37:27.265Z"
   },
   {
    "duration": 4,
    "start_time": "2024-08-01T20:37:29.075Z"
   },
   {
    "duration": 4,
    "start_time": "2024-08-01T20:37:29.084Z"
   },
   {
    "duration": 5,
    "start_time": "2024-08-01T20:37:29.090Z"
   },
   {
    "duration": 3,
    "start_time": "2024-08-01T20:37:29.097Z"
   },
   {
    "duration": 110,
    "start_time": "2024-08-01T20:37:29.102Z"
   },
   {
    "duration": 5,
    "start_time": "2024-08-01T20:37:29.214Z"
   },
   {
    "duration": 20,
    "start_time": "2024-08-01T20:37:29.220Z"
   },
   {
    "duration": 47,
    "start_time": "2024-08-01T20:37:29.241Z"
   },
   {
    "duration": 24,
    "start_time": "2024-08-01T20:37:29.290Z"
   },
   {
    "duration": 7,
    "start_time": "2024-08-01T20:37:29.316Z"
   },
   {
    "duration": 7,
    "start_time": "2024-08-01T20:37:29.325Z"
   },
   {
    "duration": 5,
    "start_time": "2024-08-01T20:37:29.333Z"
   },
   {
    "duration": 6,
    "start_time": "2024-08-01T20:37:29.340Z"
   },
   {
    "duration": 37,
    "start_time": "2024-08-01T20:37:29.348Z"
   },
   {
    "duration": 5,
    "start_time": "2024-08-01T20:37:29.387Z"
   },
   {
    "duration": 8,
    "start_time": "2024-08-01T20:37:29.394Z"
   },
   {
    "duration": 5,
    "start_time": "2024-08-01T20:37:29.404Z"
   },
   {
    "duration": 6,
    "start_time": "2024-08-01T20:37:29.411Z"
   },
   {
    "duration": 9,
    "start_time": "2024-08-01T20:37:29.418Z"
   },
   {
    "duration": 5,
    "start_time": "2024-08-01T20:37:29.428Z"
   },
   {
    "duration": 8,
    "start_time": "2024-08-01T20:37:29.434Z"
   },
   {
    "duration": 42,
    "start_time": "2024-08-01T20:37:29.444Z"
   },
   {
    "duration": 25,
    "start_time": "2024-08-01T20:37:29.487Z"
   },
   {
    "duration": 30,
    "start_time": "2024-08-01T20:37:29.514Z"
   },
   {
    "duration": 15,
    "start_time": "2024-08-01T20:37:29.545Z"
   },
   {
    "duration": 5,
    "start_time": "2024-08-01T20:37:29.561Z"
   },
   {
    "duration": 7,
    "start_time": "2024-08-01T20:37:29.567Z"
   },
   {
    "duration": 292,
    "start_time": "2024-08-01T20:37:29.576Z"
   },
   {
    "duration": 231,
    "start_time": "2024-08-01T20:37:29.869Z"
   },
   {
    "duration": 416,
    "start_time": "2024-08-01T20:37:30.101Z"
   },
   {
    "duration": 222,
    "start_time": "2024-08-01T20:37:30.519Z"
   },
   {
    "duration": 224,
    "start_time": "2024-08-01T20:37:30.743Z"
   },
   {
    "duration": 222,
    "start_time": "2024-08-01T20:37:30.969Z"
   },
   {
    "duration": 1205,
    "start_time": "2024-08-01T20:37:31.193Z"
   },
   {
    "duration": 4,
    "start_time": "2024-08-01T20:37:32.399Z"
   },
   {
    "duration": 7,
    "start_time": "2024-08-01T20:37:32.404Z"
   },
   {
    "duration": 8,
    "start_time": "2024-08-01T20:37:32.412Z"
   },
   {
    "duration": 9,
    "start_time": "2024-08-01T20:37:32.422Z"
   },
   {
    "duration": 4,
    "start_time": "2024-08-01T20:37:32.433Z"
   },
   {
    "duration": 4,
    "start_time": "2024-08-01T20:37:32.441Z"
   },
   {
    "duration": 7,
    "start_time": "2024-08-01T20:37:32.446Z"
   },
   {
    "duration": 59,
    "start_time": "2024-08-01T20:37:32.455Z"
   },
   {
    "duration": 0,
    "start_time": "2024-08-01T20:37:32.516Z"
   },
   {
    "duration": 0,
    "start_time": "2024-08-01T20:37:32.517Z"
   },
   {
    "duration": 0,
    "start_time": "2024-08-01T20:37:32.518Z"
   },
   {
    "duration": 0,
    "start_time": "2024-08-01T20:37:32.519Z"
   },
   {
    "duration": 0,
    "start_time": "2024-08-01T20:37:32.520Z"
   },
   {
    "duration": 0,
    "start_time": "2024-08-01T20:37:32.521Z"
   },
   {
    "duration": 0,
    "start_time": "2024-08-01T20:37:32.522Z"
   },
   {
    "duration": 0,
    "start_time": "2024-08-01T20:37:32.523Z"
   },
   {
    "duration": 0,
    "start_time": "2024-08-01T20:37:32.524Z"
   },
   {
    "duration": 0,
    "start_time": "2024-08-01T20:37:32.525Z"
   },
   {
    "duration": 0,
    "start_time": "2024-08-01T20:37:32.526Z"
   },
   {
    "duration": 0,
    "start_time": "2024-08-01T20:37:32.526Z"
   },
   {
    "duration": 0,
    "start_time": "2024-08-01T20:37:32.527Z"
   },
   {
    "duration": 0,
    "start_time": "2024-08-01T20:37:32.528Z"
   },
   {
    "duration": 0,
    "start_time": "2024-08-01T20:37:32.529Z"
   },
   {
    "duration": 0,
    "start_time": "2024-08-01T20:37:32.530Z"
   },
   {
    "duration": 0,
    "start_time": "2024-08-01T20:37:32.531Z"
   },
   {
    "duration": 0,
    "start_time": "2024-08-01T20:37:32.532Z"
   },
   {
    "duration": 0,
    "start_time": "2024-08-01T20:37:32.533Z"
   },
   {
    "duration": 0,
    "start_time": "2024-08-01T20:37:32.534Z"
   },
   {
    "duration": 0,
    "start_time": "2024-08-01T20:37:32.535Z"
   },
   {
    "duration": 0,
    "start_time": "2024-08-01T20:37:32.536Z"
   },
   {
    "duration": 0,
    "start_time": "2024-08-01T20:37:32.537Z"
   },
   {
    "duration": 0,
    "start_time": "2024-08-01T20:37:32.538Z"
   },
   {
    "duration": 0,
    "start_time": "2024-08-01T20:37:32.539Z"
   },
   {
    "duration": 0,
    "start_time": "2024-08-01T20:37:32.539Z"
   },
   {
    "duration": 0,
    "start_time": "2024-08-01T20:37:32.540Z"
   },
   {
    "duration": 0,
    "start_time": "2024-08-01T20:37:32.541Z"
   },
   {
    "duration": 0,
    "start_time": "2024-08-01T20:37:32.542Z"
   },
   {
    "duration": 0,
    "start_time": "2024-08-01T20:37:32.543Z"
   },
   {
    "duration": 0,
    "start_time": "2024-08-01T20:37:32.544Z"
   },
   {
    "duration": 0,
    "start_time": "2024-08-01T20:37:32.545Z"
   },
   {
    "duration": 0,
    "start_time": "2024-08-01T20:37:32.546Z"
   },
   {
    "duration": 0,
    "start_time": "2024-08-01T20:37:32.547Z"
   },
   {
    "duration": 0,
    "start_time": "2024-08-01T20:37:32.548Z"
   },
   {
    "duration": 0,
    "start_time": "2024-08-01T20:37:32.549Z"
   },
   {
    "duration": 4,
    "start_time": "2024-08-01T20:37:36.913Z"
   },
   {
    "duration": 5,
    "start_time": "2024-08-01T20:37:38.075Z"
   },
   {
    "duration": 6,
    "start_time": "2024-08-01T20:37:38.370Z"
   },
   {
    "duration": 4,
    "start_time": "2024-08-01T20:37:40.546Z"
   },
   {
    "duration": 3,
    "start_time": "2024-08-01T20:37:40.841Z"
   },
   {
    "duration": 5,
    "start_time": "2024-08-01T20:37:44.443Z"
   },
   {
    "duration": 5,
    "start_time": "2024-08-01T20:37:44.738Z"
   },
   {
    "duration": 14,
    "start_time": "2024-08-01T20:37:47.520Z"
   },
   {
    "duration": 6,
    "start_time": "2024-08-01T20:37:48.371Z"
   },
   {
    "duration": 4,
    "start_time": "2024-08-01T20:37:50.663Z"
   },
   {
    "duration": 7,
    "start_time": "2024-08-01T20:37:51.560Z"
   },
   {
    "duration": 7,
    "start_time": "2024-08-01T20:37:51.569Z"
   },
   {
    "duration": 3,
    "start_time": "2024-08-01T20:37:53.395Z"
   },
   {
    "duration": 5,
    "start_time": "2024-08-01T20:37:54.066Z"
   },
   {
    "duration": 4,
    "start_time": "2024-08-01T20:37:54.620Z"
   },
   {
    "duration": 53,
    "start_time": "2024-08-01T20:37:55.439Z"
   },
   {
    "duration": 3,
    "start_time": "2024-08-01T20:38:06.138Z"
   },
   {
    "duration": 16,
    "start_time": "2024-08-01T20:38:06.841Z"
   },
   {
    "duration": 20,
    "start_time": "2024-08-01T20:38:07.594Z"
   },
   {
    "duration": 15,
    "start_time": "2024-08-01T20:38:07.887Z"
   },
   {
    "duration": 7,
    "start_time": "2024-08-01T20:38:09.410Z"
   },
   {
    "duration": 3,
    "start_time": "2024-08-01T20:38:16.266Z"
   },
   {
    "duration": 6,
    "start_time": "2024-08-01T20:38:19.441Z"
   },
   {
    "duration": 3,
    "start_time": "2024-08-01T20:38:19.786Z"
   },
   {
    "duration": 4,
    "start_time": "2024-08-01T20:38:20.277Z"
   },
   {
    "duration": 94152,
    "start_time": "2024-08-01T20:38:21.243Z"
   },
   {
    "duration": 1766,
    "start_time": "2024-08-01T20:40:18.242Z"
   },
   {
    "duration": 5,
    "start_time": "2024-08-01T20:40:20.010Z"
   },
   {
    "duration": 10,
    "start_time": "2024-08-01T20:40:20.016Z"
   },
   {
    "duration": 46,
    "start_time": "2024-08-01T20:40:20.028Z"
   },
   {
    "duration": 6,
    "start_time": "2024-08-01T20:40:20.076Z"
   },
   {
    "duration": 108,
    "start_time": "2024-08-01T20:40:20.084Z"
   },
   {
    "duration": 5,
    "start_time": "2024-08-01T20:40:20.193Z"
   },
   {
    "duration": 13,
    "start_time": "2024-08-01T20:40:20.200Z"
   },
   {
    "duration": 12,
    "start_time": "2024-08-01T20:40:20.214Z"
   },
   {
    "duration": 22,
    "start_time": "2024-08-01T20:40:20.228Z"
   },
   {
    "duration": 36,
    "start_time": "2024-08-01T20:40:20.252Z"
   },
   {
    "duration": 12,
    "start_time": "2024-08-01T20:40:20.290Z"
   },
   {
    "duration": 7,
    "start_time": "2024-08-01T20:40:20.304Z"
   },
   {
    "duration": 6,
    "start_time": "2024-08-01T20:40:20.313Z"
   },
   {
    "duration": 4,
    "start_time": "2024-08-01T20:40:20.320Z"
   },
   {
    "duration": 6,
    "start_time": "2024-08-01T20:40:20.326Z"
   },
   {
    "duration": 20,
    "start_time": "2024-08-01T20:40:20.334Z"
   },
   {
    "duration": 27,
    "start_time": "2024-08-01T20:40:20.355Z"
   },
   {
    "duration": 6,
    "start_time": "2024-08-01T20:40:20.383Z"
   },
   {
    "duration": 23,
    "start_time": "2024-08-01T20:40:20.390Z"
   },
   {
    "duration": 19,
    "start_time": "2024-08-01T20:40:20.415Z"
   },
   {
    "duration": 23,
    "start_time": "2024-08-01T20:40:20.435Z"
   },
   {
    "duration": 12,
    "start_time": "2024-08-01T20:40:20.459Z"
   },
   {
    "duration": 9,
    "start_time": "2024-08-01T20:40:20.472Z"
   },
   {
    "duration": 6,
    "start_time": "2024-08-01T20:40:20.482Z"
   },
   {
    "duration": 14,
    "start_time": "2024-08-01T20:40:20.489Z"
   },
   {
    "duration": 5,
    "start_time": "2024-08-01T20:40:20.504Z"
   },
   {
    "duration": 9,
    "start_time": "2024-08-01T20:40:20.513Z"
   },
   {
    "duration": 372,
    "start_time": "2024-08-01T20:40:20.523Z"
   },
   {
    "duration": 422,
    "start_time": "2024-08-01T20:40:20.897Z"
   },
   {
    "duration": 868,
    "start_time": "2024-08-01T20:40:21.321Z"
   },
   {
    "duration": 215,
    "start_time": "2024-08-01T20:40:22.191Z"
   },
   {
    "duration": 210,
    "start_time": "2024-08-01T20:40:22.408Z"
   },
   {
    "duration": 204,
    "start_time": "2024-08-01T20:40:22.619Z"
   },
   {
    "duration": 1157,
    "start_time": "2024-08-01T20:40:22.825Z"
   },
   {
    "duration": 4,
    "start_time": "2024-08-01T20:40:23.983Z"
   },
   {
    "duration": 10,
    "start_time": "2024-08-01T20:40:23.988Z"
   },
   {
    "duration": 10,
    "start_time": "2024-08-01T20:40:24.000Z"
   },
   {
    "duration": 3,
    "start_time": "2024-08-01T20:40:24.012Z"
   },
   {
    "duration": 3,
    "start_time": "2024-08-01T20:40:24.017Z"
   },
   {
    "duration": 2,
    "start_time": "2024-08-01T20:40:24.022Z"
   },
   {
    "duration": 4,
    "start_time": "2024-08-01T20:40:24.026Z"
   },
   {
    "duration": 63,
    "start_time": "2024-08-01T20:40:24.031Z"
   },
   {
    "duration": 0,
    "start_time": "2024-08-01T20:40:24.096Z"
   },
   {
    "duration": 0,
    "start_time": "2024-08-01T20:40:24.098Z"
   },
   {
    "duration": 0,
    "start_time": "2024-08-01T20:40:24.100Z"
   },
   {
    "duration": 0,
    "start_time": "2024-08-01T20:40:24.102Z"
   },
   {
    "duration": 0,
    "start_time": "2024-08-01T20:40:24.106Z"
   },
   {
    "duration": 0,
    "start_time": "2024-08-01T20:40:24.109Z"
   },
   {
    "duration": 0,
    "start_time": "2024-08-01T20:40:24.110Z"
   },
   {
    "duration": 0,
    "start_time": "2024-08-01T20:40:24.112Z"
   },
   {
    "duration": 0,
    "start_time": "2024-08-01T20:40:24.114Z"
   },
   {
    "duration": 0,
    "start_time": "2024-08-01T20:40:24.115Z"
   },
   {
    "duration": 0,
    "start_time": "2024-08-01T20:40:24.116Z"
   },
   {
    "duration": 0,
    "start_time": "2024-08-01T20:40:24.117Z"
   },
   {
    "duration": 0,
    "start_time": "2024-08-01T20:40:24.119Z"
   },
   {
    "duration": 0,
    "start_time": "2024-08-01T20:40:24.121Z"
   },
   {
    "duration": 0,
    "start_time": "2024-08-01T20:40:24.124Z"
   },
   {
    "duration": 0,
    "start_time": "2024-08-01T20:40:24.126Z"
   },
   {
    "duration": 0,
    "start_time": "2024-08-01T20:40:24.127Z"
   },
   {
    "duration": 0,
    "start_time": "2024-08-01T20:40:24.130Z"
   },
   {
    "duration": 0,
    "start_time": "2024-08-01T20:40:24.131Z"
   },
   {
    "duration": 0,
    "start_time": "2024-08-01T20:40:24.133Z"
   },
   {
    "duration": 0,
    "start_time": "2024-08-01T20:40:24.135Z"
   },
   {
    "duration": 0,
    "start_time": "2024-08-01T20:40:24.136Z"
   },
   {
    "duration": 0,
    "start_time": "2024-08-01T20:40:24.138Z"
   },
   {
    "duration": 0,
    "start_time": "2024-08-01T20:40:24.139Z"
   },
   {
    "duration": 0,
    "start_time": "2024-08-01T20:40:24.185Z"
   },
   {
    "duration": 0,
    "start_time": "2024-08-01T20:40:24.187Z"
   },
   {
    "duration": 0,
    "start_time": "2024-08-01T20:40:24.188Z"
   },
   {
    "duration": 0,
    "start_time": "2024-08-01T20:40:24.189Z"
   },
   {
    "duration": 0,
    "start_time": "2024-08-01T20:40:24.190Z"
   },
   {
    "duration": 0,
    "start_time": "2024-08-01T20:40:24.191Z"
   },
   {
    "duration": 0,
    "start_time": "2024-08-01T20:40:24.191Z"
   },
   {
    "duration": 0,
    "start_time": "2024-08-01T20:40:24.193Z"
   },
   {
    "duration": 0,
    "start_time": "2024-08-01T20:40:24.193Z"
   },
   {
    "duration": 0,
    "start_time": "2024-08-01T20:40:24.195Z"
   },
   {
    "duration": 0,
    "start_time": "2024-08-01T20:40:24.196Z"
   },
   {
    "duration": 0,
    "start_time": "2024-08-01T20:40:24.196Z"
   },
   {
    "duration": 4,
    "start_time": "2024-08-01T20:40:25.887Z"
   },
   {
    "duration": 4,
    "start_time": "2024-08-01T20:40:27.490Z"
   },
   {
    "duration": 5,
    "start_time": "2024-08-01T20:40:27.914Z"
   },
   {
    "duration": 4,
    "start_time": "2024-08-01T20:40:28.553Z"
   },
   {
    "duration": 4,
    "start_time": "2024-08-01T20:40:28.864Z"
   },
   {
    "duration": 3,
    "start_time": "2024-08-01T20:40:38.352Z"
   },
   {
    "duration": 6,
    "start_time": "2024-08-01T20:40:39.054Z"
   },
   {
    "duration": 5,
    "start_time": "2024-08-01T20:40:39.396Z"
   },
   {
    "duration": 3,
    "start_time": "2024-08-01T20:40:39.757Z"
   },
   {
    "duration": 4,
    "start_time": "2024-08-01T20:40:41.310Z"
   },
   {
    "duration": 4,
    "start_time": "2024-08-01T20:40:41.623Z"
   },
   {
    "duration": 3,
    "start_time": "2024-08-01T20:40:50.083Z"
   },
   {
    "duration": 12,
    "start_time": "2024-08-01T20:40:50.460Z"
   },
   {
    "duration": 9,
    "start_time": "2024-08-01T20:40:51.064Z"
   },
   {
    "duration": 9,
    "start_time": "2024-08-01T20:40:51.343Z"
   },
   {
    "duration": 5,
    "start_time": "2024-08-01T20:40:51.735Z"
   },
   {
    "duration": 3,
    "start_time": "2024-08-01T20:41:00.407Z"
   },
   {
    "duration": 6,
    "start_time": "2024-08-01T20:41:03.546Z"
   },
   {
    "duration": 3,
    "start_time": "2024-08-01T20:41:03.612Z"
   },
   {
    "duration": 5,
    "start_time": "2024-08-01T20:41:03.988Z"
   },
   {
    "duration": 93515,
    "start_time": "2024-08-01T20:41:04.790Z"
   },
   {
    "duration": 6,
    "start_time": "2024-08-01T20:46:41.514Z"
   },
   {
    "duration": 154,
    "start_time": "2024-08-01T20:46:51.106Z"
   },
   {
    "duration": 3,
    "start_time": "2024-08-01T20:47:01.187Z"
   },
   {
    "duration": 106464,
    "start_time": "2024-08-01T20:47:09.411Z"
   },
   {
    "duration": 3,
    "start_time": "2024-08-01T20:49:08.460Z"
   },
   {
    "duration": 104682,
    "start_time": "2024-08-01T20:49:12.665Z"
   },
   {
    "duration": 6,
    "start_time": "2024-08-01T20:51:27.426Z"
   },
   {
    "duration": 5,
    "start_time": "2024-08-01T20:51:27.688Z"
   },
   {
    "duration": 6,
    "start_time": "2024-08-01T20:51:31.781Z"
   },
   {
    "duration": 4,
    "start_time": "2024-08-01T20:51:33.958Z"
   },
   {
    "duration": 6,
    "start_time": "2024-08-01T20:51:34.482Z"
   },
   {
    "duration": 5,
    "start_time": "2024-08-01T20:51:34.761Z"
   },
   {
    "duration": 3,
    "start_time": "2024-08-01T20:51:35.054Z"
   },
   {
    "duration": 4,
    "start_time": "2024-08-01T20:51:35.645Z"
   },
   {
    "duration": 3,
    "start_time": "2024-08-01T20:51:35.939Z"
   },
   {
    "duration": 3,
    "start_time": "2024-08-01T20:51:46.401Z"
   },
   {
    "duration": 14,
    "start_time": "2024-08-01T20:51:46.761Z"
   },
   {
    "duration": 11,
    "start_time": "2024-08-01T20:51:48.709Z"
   },
   {
    "duration": 11,
    "start_time": "2024-08-01T20:51:48.939Z"
   },
   {
    "duration": 5,
    "start_time": "2024-08-01T20:51:50.691Z"
   },
   {
    "duration": 3,
    "start_time": "2024-08-01T20:51:59.366Z"
   },
   {
    "duration": 105657,
    "start_time": "2024-08-01T20:52:06.615Z"
   },
   {
    "duration": 2165,
    "start_time": "2024-08-01T20:54:49.020Z"
   },
   {
    "duration": 5,
    "start_time": "2024-08-01T20:54:51.187Z"
   },
   {
    "duration": 29,
    "start_time": "2024-08-01T20:54:51.194Z"
   },
   {
    "duration": 60,
    "start_time": "2024-08-01T20:54:51.225Z"
   },
   {
    "duration": 16,
    "start_time": "2024-08-01T20:54:51.287Z"
   },
   {
    "duration": 191,
    "start_time": "2024-08-01T20:54:51.305Z"
   },
   {
    "duration": 5,
    "start_time": "2024-08-01T20:54:51.498Z"
   },
   {
    "duration": 17,
    "start_time": "2024-08-01T20:54:51.504Z"
   },
   {
    "duration": 23,
    "start_time": "2024-08-01T20:54:51.523Z"
   },
   {
    "duration": 26,
    "start_time": "2024-08-01T20:54:51.548Z"
   },
   {
    "duration": 6,
    "start_time": "2024-08-01T20:54:51.576Z"
   },
   {
    "duration": 22,
    "start_time": "2024-08-01T20:54:51.585Z"
   },
   {
    "duration": 14,
    "start_time": "2024-08-01T20:54:51.608Z"
   },
   {
    "duration": 32,
    "start_time": "2024-08-01T20:54:51.624Z"
   },
   {
    "duration": 6,
    "start_time": "2024-08-01T20:54:51.657Z"
   },
   {
    "duration": 8,
    "start_time": "2024-08-01T20:54:51.664Z"
   },
   {
    "duration": 8,
    "start_time": "2024-08-01T20:54:51.673Z"
   },
   {
    "duration": 18,
    "start_time": "2024-08-01T20:54:51.682Z"
   },
   {
    "duration": 5,
    "start_time": "2024-08-01T20:54:51.702Z"
   },
   {
    "duration": 22,
    "start_time": "2024-08-01T20:54:51.708Z"
   },
   {
    "duration": 7,
    "start_time": "2024-08-01T20:54:51.732Z"
   },
   {
    "duration": 20,
    "start_time": "2024-08-01T20:54:51.740Z"
   },
   {
    "duration": 22,
    "start_time": "2024-08-01T20:54:51.762Z"
   },
   {
    "duration": 8,
    "start_time": "2024-08-01T20:54:51.785Z"
   },
   {
    "duration": 19,
    "start_time": "2024-08-01T20:54:51.794Z"
   },
   {
    "duration": 26,
    "start_time": "2024-08-01T20:54:51.814Z"
   },
   {
    "duration": 8,
    "start_time": "2024-08-01T20:54:51.842Z"
   },
   {
    "duration": 19,
    "start_time": "2024-08-01T20:54:51.851Z"
   },
   {
    "duration": 298,
    "start_time": "2024-08-01T20:54:51.872Z"
   },
   {
    "duration": 217,
    "start_time": "2024-08-01T20:54:52.171Z"
   },
   {
    "duration": 396,
    "start_time": "2024-08-01T20:54:52.389Z"
   },
   {
    "duration": 212,
    "start_time": "2024-08-01T20:54:52.786Z"
   },
   {
    "duration": 204,
    "start_time": "2024-08-01T20:54:52.999Z"
   },
   {
    "duration": 199,
    "start_time": "2024-08-01T20:54:53.205Z"
   },
   {
    "duration": 1151,
    "start_time": "2024-08-01T20:54:53.406Z"
   },
   {
    "duration": 3,
    "start_time": "2024-08-01T20:54:54.559Z"
   },
   {
    "duration": 29,
    "start_time": "2024-08-01T20:54:54.563Z"
   },
   {
    "duration": 21,
    "start_time": "2024-08-01T20:54:54.594Z"
   },
   {
    "duration": 16,
    "start_time": "2024-08-01T20:54:54.616Z"
   },
   {
    "duration": 13,
    "start_time": "2024-08-01T20:54:54.634Z"
   },
   {
    "duration": 5,
    "start_time": "2024-08-01T20:54:54.651Z"
   },
   {
    "duration": 12,
    "start_time": "2024-08-01T20:54:54.657Z"
   },
   {
    "duration": 53,
    "start_time": "2024-08-01T20:54:54.671Z"
   },
   {
    "duration": 0,
    "start_time": "2024-08-01T20:54:54.726Z"
   },
   {
    "duration": 0,
    "start_time": "2024-08-01T20:54:54.727Z"
   },
   {
    "duration": 0,
    "start_time": "2024-08-01T20:54:54.728Z"
   },
   {
    "duration": 0,
    "start_time": "2024-08-01T20:54:54.729Z"
   },
   {
    "duration": 0,
    "start_time": "2024-08-01T20:54:54.730Z"
   },
   {
    "duration": 0,
    "start_time": "2024-08-01T20:54:54.731Z"
   },
   {
    "duration": 0,
    "start_time": "2024-08-01T20:54:54.732Z"
   },
   {
    "duration": 0,
    "start_time": "2024-08-01T20:54:54.733Z"
   },
   {
    "duration": 0,
    "start_time": "2024-08-01T20:54:54.734Z"
   },
   {
    "duration": 0,
    "start_time": "2024-08-01T20:54:54.735Z"
   },
   {
    "duration": 0,
    "start_time": "2024-08-01T20:54:54.735Z"
   },
   {
    "duration": 0,
    "start_time": "2024-08-01T20:54:54.737Z"
   },
   {
    "duration": 0,
    "start_time": "2024-08-01T20:54:54.737Z"
   },
   {
    "duration": 0,
    "start_time": "2024-08-01T20:54:54.739Z"
   },
   {
    "duration": 0,
    "start_time": "2024-08-01T20:54:54.739Z"
   },
   {
    "duration": 0,
    "start_time": "2024-08-01T20:54:54.740Z"
   },
   {
    "duration": 0,
    "start_time": "2024-08-01T20:54:54.742Z"
   },
   {
    "duration": 0,
    "start_time": "2024-08-01T20:54:54.743Z"
   },
   {
    "duration": 0,
    "start_time": "2024-08-01T20:54:54.743Z"
   },
   {
    "duration": 0,
    "start_time": "2024-08-01T20:54:54.744Z"
   },
   {
    "duration": 0,
    "start_time": "2024-08-01T20:54:54.745Z"
   },
   {
    "duration": 0,
    "start_time": "2024-08-01T20:54:54.746Z"
   },
   {
    "duration": 0,
    "start_time": "2024-08-01T20:54:54.747Z"
   },
   {
    "duration": 0,
    "start_time": "2024-08-01T20:54:54.748Z"
   },
   {
    "duration": 0,
    "start_time": "2024-08-01T20:54:54.751Z"
   },
   {
    "duration": 0,
    "start_time": "2024-08-01T20:54:54.751Z"
   },
   {
    "duration": 0,
    "start_time": "2024-08-01T20:54:54.752Z"
   },
   {
    "duration": 0,
    "start_time": "2024-08-01T20:54:54.753Z"
   },
   {
    "duration": 0,
    "start_time": "2024-08-01T20:54:54.754Z"
   },
   {
    "duration": 0,
    "start_time": "2024-08-01T20:54:54.755Z"
   },
   {
    "duration": 0,
    "start_time": "2024-08-01T20:54:54.756Z"
   },
   {
    "duration": 0,
    "start_time": "2024-08-01T20:54:54.757Z"
   },
   {
    "duration": 0,
    "start_time": "2024-08-01T20:54:54.758Z"
   },
   {
    "duration": 0,
    "start_time": "2024-08-01T20:54:54.759Z"
   },
   {
    "duration": 0,
    "start_time": "2024-08-01T20:54:54.760Z"
   },
   {
    "duration": 0,
    "start_time": "2024-08-01T20:54:54.761Z"
   },
   {
    "duration": 5,
    "start_time": "2024-08-01T20:54:58.011Z"
   },
   {
    "duration": 4,
    "start_time": "2024-08-01T20:54:59.107Z"
   },
   {
    "duration": 4,
    "start_time": "2024-08-01T20:54:59.336Z"
   },
   {
    "duration": 4,
    "start_time": "2024-08-01T20:55:02.233Z"
   },
   {
    "duration": 6,
    "start_time": "2024-08-01T20:55:02.576Z"
   },
   {
    "duration": 6,
    "start_time": "2024-08-01T20:55:05.276Z"
   },
   {
    "duration": 5,
    "start_time": "2024-08-01T20:55:07.992Z"
   },
   {
    "duration": 6,
    "start_time": "2024-08-01T20:55:10.478Z"
   },
   {
    "duration": 4,
    "start_time": "2024-08-01T20:55:11.279Z"
   },
   {
    "duration": 7,
    "start_time": "2024-08-01T20:55:11.786Z"
   },
   {
    "duration": 5,
    "start_time": "2024-08-01T20:55:12.915Z"
   },
   {
    "duration": 3,
    "start_time": "2024-08-01T20:55:13.176Z"
   },
   {
    "duration": 3,
    "start_time": "2024-08-01T20:55:14.633Z"
   },
   {
    "duration": 4,
    "start_time": "2024-08-01T20:55:14.911Z"
   },
   {
    "duration": 2,
    "start_time": "2024-08-01T20:55:18.592Z"
   },
   {
    "duration": 13,
    "start_time": "2024-08-01T20:55:18.952Z"
   },
   {
    "duration": 12,
    "start_time": "2024-08-01T20:55:19.605Z"
   },
   {
    "duration": 13,
    "start_time": "2024-08-01T20:55:19.867Z"
   },
   {
    "duration": 6,
    "start_time": "2024-08-01T20:55:21.275Z"
   },
   {
    "duration": 5,
    "start_time": "2024-08-01T20:55:32.464Z"
   },
   {
    "duration": 6,
    "start_time": "2024-08-01T20:55:35.869Z"
   },
   {
    "duration": 4,
    "start_time": "2024-08-01T20:55:36.179Z"
   },
   {
    "duration": 4,
    "start_time": "2024-08-01T20:55:36.540Z"
   },
   {
    "duration": 122668,
    "start_time": "2024-08-01T20:55:38.357Z"
   },
   {
    "duration": 14,
    "start_time": "2024-08-01T20:58:16.875Z"
   },
   {
    "duration": 5,
    "start_time": "2024-08-01T20:58:20.275Z"
   },
   {
    "duration": 9,
    "start_time": "2024-08-01T20:58:20.814Z"
   },
   {
    "duration": 4,
    "start_time": "2024-08-01T20:58:21.077Z"
   },
   {
    "duration": 2,
    "start_time": "2024-08-01T20:58:22.548Z"
   },
   {
    "duration": 4,
    "start_time": "2024-08-01T20:58:23.070Z"
   },
   {
    "duration": 4,
    "start_time": "2024-08-01T20:58:23.496Z"
   },
   {
    "duration": 2,
    "start_time": "2024-08-01T20:58:47.621Z"
   },
   {
    "duration": 19,
    "start_time": "2024-08-01T20:58:48.012Z"
   },
   {
    "duration": 16,
    "start_time": "2024-08-01T20:58:49.598Z"
   },
   {
    "duration": 17,
    "start_time": "2024-08-01T20:58:50.825Z"
   },
   {
    "duration": 5,
    "start_time": "2024-08-01T20:58:51.021Z"
   },
   {
    "duration": 3,
    "start_time": "2024-08-01T20:59:03.189Z"
   },
   {
    "duration": 126265,
    "start_time": "2024-08-01T20:59:11.006Z"
   },
   {
    "duration": 0,
    "start_time": "2024-08-01T21:08:08.534Z"
   },
   {
    "duration": 0,
    "start_time": "2024-08-01T21:08:08.535Z"
   },
   {
    "duration": 0,
    "start_time": "2024-08-01T21:08:08.536Z"
   },
   {
    "duration": 0,
    "start_time": "2024-08-01T21:08:08.537Z"
   },
   {
    "duration": 0,
    "start_time": "2024-08-01T21:08:08.538Z"
   },
   {
    "duration": 0,
    "start_time": "2024-08-01T21:08:08.539Z"
   },
   {
    "duration": 0,
    "start_time": "2024-08-01T21:08:08.540Z"
   },
   {
    "duration": 0,
    "start_time": "2024-08-01T21:08:08.541Z"
   },
   {
    "duration": 0,
    "start_time": "2024-08-01T21:08:08.542Z"
   },
   {
    "duration": 0,
    "start_time": "2024-08-01T21:08:08.542Z"
   },
   {
    "duration": 0,
    "start_time": "2024-08-01T21:08:08.543Z"
   },
   {
    "duration": 0,
    "start_time": "2024-08-01T21:08:08.544Z"
   },
   {
    "duration": 0,
    "start_time": "2024-08-01T21:08:08.545Z"
   },
   {
    "duration": 0,
    "start_time": "2024-08-01T21:08:08.546Z"
   },
   {
    "duration": 0,
    "start_time": "2024-08-01T21:08:08.547Z"
   },
   {
    "duration": 0,
    "start_time": "2024-08-01T21:08:08.585Z"
   },
   {
    "duration": 0,
    "start_time": "2024-08-01T21:08:08.587Z"
   },
   {
    "duration": 0,
    "start_time": "2024-08-01T21:08:08.588Z"
   },
   {
    "duration": 0,
    "start_time": "2024-08-01T21:08:08.589Z"
   },
   {
    "duration": 0,
    "start_time": "2024-08-01T21:08:08.590Z"
   },
   {
    "duration": 0,
    "start_time": "2024-08-01T21:08:08.591Z"
   },
   {
    "duration": 0,
    "start_time": "2024-08-01T21:08:08.592Z"
   },
   {
    "duration": 0,
    "start_time": "2024-08-01T21:08:08.593Z"
   },
   {
    "duration": 0,
    "start_time": "2024-08-01T21:08:08.594Z"
   },
   {
    "duration": 0,
    "start_time": "2024-08-01T21:08:08.595Z"
   },
   {
    "duration": 0,
    "start_time": "2024-08-01T21:08:08.596Z"
   },
   {
    "duration": 0,
    "start_time": "2024-08-01T21:08:08.597Z"
   },
   {
    "duration": 0,
    "start_time": "2024-08-01T21:08:08.597Z"
   },
   {
    "duration": 0,
    "start_time": "2024-08-01T21:08:08.598Z"
   },
   {
    "duration": 0,
    "start_time": "2024-08-01T21:08:08.599Z"
   },
   {
    "duration": 0,
    "start_time": "2024-08-01T21:08:08.600Z"
   },
   {
    "duration": 0,
    "start_time": "2024-08-01T21:08:08.601Z"
   },
   {
    "duration": 0,
    "start_time": "2024-08-01T21:08:08.602Z"
   },
   {
    "duration": 0,
    "start_time": "2024-08-01T21:08:08.603Z"
   },
   {
    "duration": 0,
    "start_time": "2024-08-01T21:08:08.604Z"
   },
   {
    "duration": 0,
    "start_time": "2024-08-01T21:08:08.605Z"
   },
   {
    "duration": 0,
    "start_time": "2024-08-01T21:08:08.606Z"
   },
   {
    "duration": 0,
    "start_time": "2024-08-01T21:08:08.606Z"
   },
   {
    "duration": 0,
    "start_time": "2024-08-01T21:08:08.607Z"
   },
   {
    "duration": 0,
    "start_time": "2024-08-01T21:08:08.608Z"
   },
   {
    "duration": 0,
    "start_time": "2024-08-01T21:08:08.609Z"
   },
   {
    "duration": 0,
    "start_time": "2024-08-01T21:08:08.610Z"
   },
   {
    "duration": 0,
    "start_time": "2024-08-01T21:08:08.610Z"
   },
   {
    "duration": 0,
    "start_time": "2024-08-01T21:08:08.612Z"
   },
   {
    "duration": 0,
    "start_time": "2024-08-01T21:08:08.612Z"
   },
   {
    "duration": 0,
    "start_time": "2024-08-01T21:08:08.613Z"
   },
   {
    "duration": 0,
    "start_time": "2024-08-01T21:08:08.614Z"
   },
   {
    "duration": 0,
    "start_time": "2024-08-01T21:08:08.615Z"
   },
   {
    "duration": 0,
    "start_time": "2024-08-01T21:08:08.615Z"
   },
   {
    "duration": 0,
    "start_time": "2024-08-01T21:08:08.616Z"
   },
   {
    "duration": 0,
    "start_time": "2024-08-01T21:08:08.617Z"
   },
   {
    "duration": 0,
    "start_time": "2024-08-01T21:08:08.618Z"
   },
   {
    "duration": 0,
    "start_time": "2024-08-01T21:08:08.619Z"
   },
   {
    "duration": 0,
    "start_time": "2024-08-01T21:08:08.619Z"
   },
   {
    "duration": 0,
    "start_time": "2024-08-01T21:08:08.620Z"
   },
   {
    "duration": 0,
    "start_time": "2024-08-01T21:08:08.621Z"
   },
   {
    "duration": 0,
    "start_time": "2024-08-01T21:08:08.622Z"
   },
   {
    "duration": 0,
    "start_time": "2024-08-01T21:08:08.623Z"
   },
   {
    "duration": 0,
    "start_time": "2024-08-01T21:08:08.623Z"
   },
   {
    "duration": 0,
    "start_time": "2024-08-01T21:08:08.624Z"
   },
   {
    "duration": 0,
    "start_time": "2024-08-01T21:08:08.625Z"
   },
   {
    "duration": 0,
    "start_time": "2024-08-01T21:08:08.626Z"
   },
   {
    "duration": 0,
    "start_time": "2024-08-01T21:08:08.627Z"
   },
   {
    "duration": 0,
    "start_time": "2024-08-01T21:08:08.628Z"
   },
   {
    "duration": 0,
    "start_time": "2024-08-01T21:08:08.629Z"
   },
   {
    "duration": 0,
    "start_time": "2024-08-01T21:08:08.630Z"
   },
   {
    "duration": 0,
    "start_time": "2024-08-01T21:08:08.631Z"
   },
   {
    "duration": 0,
    "start_time": "2024-08-01T21:08:08.632Z"
   },
   {
    "duration": 0,
    "start_time": "2024-08-01T21:08:08.632Z"
   },
   {
    "duration": 0,
    "start_time": "2024-08-01T21:08:08.633Z"
   },
   {
    "duration": 0,
    "start_time": "2024-08-01T21:08:08.634Z"
   },
   {
    "duration": 0,
    "start_time": "2024-08-01T21:08:08.635Z"
   },
   {
    "duration": 0,
    "start_time": "2024-08-01T21:08:08.636Z"
   },
   {
    "duration": 0,
    "start_time": "2024-08-01T21:08:08.637Z"
   },
   {
    "duration": 0,
    "start_time": "2024-08-01T21:08:08.638Z"
   },
   {
    "duration": 0,
    "start_time": "2024-08-01T21:08:08.638Z"
   },
   {
    "duration": 0,
    "start_time": "2024-08-01T21:08:08.639Z"
   },
   {
    "duration": 0,
    "start_time": "2024-08-01T21:08:08.640Z"
   },
   {
    "duration": 0,
    "start_time": "2024-08-01T21:08:08.641Z"
   },
   {
    "duration": 6,
    "start_time": "2024-08-01T21:24:17.841Z"
   },
   {
    "duration": 4,
    "start_time": "2024-08-01T21:26:42.983Z"
   },
   {
    "duration": 6,
    "start_time": "2024-08-01T21:26:42.989Z"
   },
   {
    "duration": 4,
    "start_time": "2024-08-01T21:26:42.997Z"
   },
   {
    "duration": 5,
    "start_time": "2024-08-01T21:26:43.003Z"
   },
   {
    "duration": 6,
    "start_time": "2024-08-01T21:26:43.009Z"
   },
   {
    "duration": 32,
    "start_time": "2024-08-01T21:26:43.017Z"
   },
   {
    "duration": 3,
    "start_time": "2024-08-01T21:26:43.051Z"
   },
   {
    "duration": 33,
    "start_time": "2024-08-01T21:26:43.056Z"
   },
   {
    "duration": 18,
    "start_time": "2024-08-01T21:26:43.090Z"
   },
   {
    "duration": 27,
    "start_time": "2024-08-01T21:26:43.111Z"
   },
   {
    "duration": 7,
    "start_time": "2024-08-01T21:26:43.139Z"
   },
   {
    "duration": 10,
    "start_time": "2024-08-01T21:26:43.148Z"
   },
   {
    "duration": 10,
    "start_time": "2024-08-01T21:26:43.159Z"
   },
   {
    "duration": 16,
    "start_time": "2024-08-01T21:26:43.171Z"
   },
   {
    "duration": 14,
    "start_time": "2024-08-01T21:26:43.188Z"
   },
   {
    "duration": 37,
    "start_time": "2024-08-01T21:26:43.203Z"
   },
   {
    "duration": 23,
    "start_time": "2024-08-01T21:26:43.242Z"
   },
   {
    "duration": 7,
    "start_time": "2024-08-01T21:26:43.267Z"
   },
   {
    "duration": 9,
    "start_time": "2024-08-01T21:26:43.275Z"
   },
   {
    "duration": 8,
    "start_time": "2024-08-01T21:26:43.285Z"
   },
   {
    "duration": 6,
    "start_time": "2024-08-01T21:26:43.294Z"
   },
   {
    "duration": 9,
    "start_time": "2024-08-01T21:26:43.301Z"
   },
   {
    "duration": 4,
    "start_time": "2024-08-01T21:26:43.311Z"
   },
   {
    "duration": 9,
    "start_time": "2024-08-01T21:26:43.316Z"
   },
   {
    "duration": 7,
    "start_time": "2024-08-01T21:26:43.326Z"
   },
   {
    "duration": 72,
    "start_time": "2024-08-01T21:26:43.335Z"
   },
   {
    "duration": 6,
    "start_time": "2024-08-01T21:26:43.408Z"
   },
   {
    "duration": 5,
    "start_time": "2024-08-01T21:26:43.418Z"
   },
   {
    "duration": 303,
    "start_time": "2024-08-01T21:26:43.425Z"
   },
   {
    "duration": 223,
    "start_time": "2024-08-01T21:26:43.730Z"
   },
   {
    "duration": 392,
    "start_time": "2024-08-01T21:26:43.955Z"
   },
   {
    "duration": 205,
    "start_time": "2024-08-01T21:26:44.349Z"
   },
   {
    "duration": 201,
    "start_time": "2024-08-01T21:26:44.556Z"
   },
   {
    "duration": 227,
    "start_time": "2024-08-01T21:26:44.758Z"
   },
   {
    "duration": 1908,
    "start_time": "2024-08-01T21:26:44.986Z"
   },
   {
    "duration": 4,
    "start_time": "2024-08-01T21:26:46.896Z"
   },
   {
    "duration": 6,
    "start_time": "2024-08-01T21:26:46.902Z"
   },
   {
    "duration": 4,
    "start_time": "2024-08-01T21:26:46.909Z"
   },
   {
    "duration": 13,
    "start_time": "2024-08-01T21:26:46.914Z"
   },
   {
    "duration": 14,
    "start_time": "2024-08-01T21:26:46.929Z"
   },
   {
    "duration": 5,
    "start_time": "2024-08-01T21:26:46.944Z"
   },
   {
    "duration": 7,
    "start_time": "2024-08-01T21:26:46.950Z"
   },
   {
    "duration": 9,
    "start_time": "2024-08-01T21:26:46.958Z"
   },
   {
    "duration": 28,
    "start_time": "2024-08-01T21:26:46.969Z"
   },
   {
    "duration": 9,
    "start_time": "2024-08-01T21:26:46.999Z"
   },
   {
    "duration": 14,
    "start_time": "2024-08-01T21:26:47.010Z"
   },
   {
    "duration": 24,
    "start_time": "2024-08-01T21:26:47.025Z"
   },
   {
    "duration": 4,
    "start_time": "2024-08-01T21:26:47.051Z"
   },
   {
    "duration": 9,
    "start_time": "2024-08-01T21:26:47.056Z"
   },
   {
    "duration": 18,
    "start_time": "2024-08-01T21:26:47.067Z"
   },
   {
    "duration": 51,
    "start_time": "2024-08-01T21:26:47.087Z"
   },
   {
    "duration": 20,
    "start_time": "2024-08-01T21:26:47.140Z"
   },
   {
    "duration": 21,
    "start_time": "2024-08-01T21:26:47.161Z"
   },
   {
    "duration": 12,
    "start_time": "2024-08-01T21:26:47.183Z"
   },
   {
    "duration": 9,
    "start_time": "2024-08-01T21:26:47.197Z"
   },
   {
    "duration": 5,
    "start_time": "2024-08-01T21:26:47.208Z"
   },
   {
    "duration": 9,
    "start_time": "2024-08-01T21:26:47.215Z"
   },
   {
    "duration": 7,
    "start_time": "2024-08-01T21:26:47.226Z"
   },
   {
    "duration": 5,
    "start_time": "2024-08-01T21:26:47.234Z"
   },
   {
    "duration": 80,
    "start_time": "2024-08-01T21:26:47.242Z"
   },
   {
    "duration": 0,
    "start_time": "2024-08-01T21:26:47.324Z"
   },
   {
    "duration": 0,
    "start_time": "2024-08-01T21:26:47.325Z"
   },
   {
    "duration": 0,
    "start_time": "2024-08-01T21:26:47.326Z"
   },
   {
    "duration": 0,
    "start_time": "2024-08-01T21:26:47.328Z"
   },
   {
    "duration": 0,
    "start_time": "2024-08-01T21:26:47.330Z"
   },
   {
    "duration": 0,
    "start_time": "2024-08-01T21:26:47.331Z"
   },
   {
    "duration": 0,
    "start_time": "2024-08-01T21:26:47.333Z"
   },
   {
    "duration": 0,
    "start_time": "2024-08-01T21:26:47.334Z"
   },
   {
    "duration": 0,
    "start_time": "2024-08-01T21:26:47.335Z"
   },
   {
    "duration": 0,
    "start_time": "2024-08-01T21:26:47.337Z"
   },
   {
    "duration": 0,
    "start_time": "2024-08-01T21:26:47.338Z"
   },
   {
    "duration": 0,
    "start_time": "2024-08-01T21:26:47.339Z"
   },
   {
    "duration": 0,
    "start_time": "2024-08-01T21:26:47.340Z"
   },
   {
    "duration": 0,
    "start_time": "2024-08-01T21:26:47.341Z"
   },
   {
    "duration": 0,
    "start_time": "2024-08-01T21:26:47.342Z"
   },
   {
    "duration": 0,
    "start_time": "2024-08-01T21:26:47.343Z"
   },
   {
    "duration": 0,
    "start_time": "2024-08-01T21:26:47.344Z"
   },
   {
    "duration": 0,
    "start_time": "2024-08-01T21:26:47.344Z"
   },
   {
    "duration": 0,
    "start_time": "2024-08-01T21:26:47.345Z"
   },
   {
    "duration": 60,
    "start_time": "2024-08-01T21:26:56.999Z"
   },
   {
    "duration": 2,
    "start_time": "2024-08-01T21:27:03.543Z"
   },
   {
    "duration": 12,
    "start_time": "2024-08-01T21:27:03.918Z"
   },
   {
    "duration": 12,
    "start_time": "2024-08-01T21:27:06.062Z"
   },
   {
    "duration": 12,
    "start_time": "2024-08-01T21:27:06.323Z"
   },
   {
    "duration": 6,
    "start_time": "2024-08-01T21:27:08.335Z"
   },
   {
    "duration": 6,
    "start_time": "2024-08-01T21:27:13.045Z"
   },
   {
    "duration": 6,
    "start_time": "2024-08-01T21:27:14.256Z"
   },
   {
    "duration": 2,
    "start_time": "2024-08-01T21:27:21.092Z"
   },
   {
    "duration": 4784,
    "start_time": "2024-08-01T21:27:22.121Z"
   },
   {
    "duration": 3,
    "start_time": "2024-08-01T21:27:30.429Z"
   },
   {
    "duration": 3,
    "start_time": "2024-08-01T21:27:30.707Z"
   },
   {
    "duration": 4,
    "start_time": "2024-08-01T21:27:31.867Z"
   },
   {
    "duration": 997,
    "start_time": "2024-08-01T21:27:32.031Z"
   },
   {
    "duration": 7,
    "start_time": "2024-08-01T21:27:36.511Z"
   },
   {
    "duration": 4,
    "start_time": "2024-08-01T21:27:37.688Z"
   },
   {
    "duration": 4,
    "start_time": "2024-08-01T21:27:38.718Z"
   },
   {
    "duration": 108263,
    "start_time": "2024-08-01T21:27:40.598Z"
   },
   {
    "duration": 3,
    "start_time": "2024-08-01T21:30:02.100Z"
   },
   {
    "duration": 4,
    "start_time": "2024-08-01T21:30:05.831Z"
   },
   {
    "duration": 8,
    "start_time": "2024-08-01T21:30:06.436Z"
   },
   {
    "duration": 5,
    "start_time": "2024-08-01T21:30:06.747Z"
   },
   {
    "duration": 3,
    "start_time": "2024-08-01T21:30:07.024Z"
   },
   {
    "duration": 4,
    "start_time": "2024-08-01T21:30:08.808Z"
   },
   {
    "duration": 4,
    "start_time": "2024-08-01T21:30:09.118Z"
   },
   {
    "duration": 3,
    "start_time": "2024-08-01T21:30:12.308Z"
   },
   {
    "duration": 16,
    "start_time": "2024-08-01T21:30:12.539Z"
   },
   {
    "duration": 15,
    "start_time": "2024-08-01T21:30:15.254Z"
   },
   {
    "duration": 14,
    "start_time": "2024-08-01T21:30:15.647Z"
   },
   {
    "duration": 5,
    "start_time": "2024-08-01T21:30:16.938Z"
   },
   {
    "duration": 5211,
    "start_time": "2024-08-01T21:30:21.289Z"
   },
   {
    "duration": 3,
    "start_time": "2024-08-01T21:30:30.501Z"
   },
   {
    "duration": 3,
    "start_time": "2024-08-01T21:30:30.795Z"
   },
   {
    "duration": 4,
    "start_time": "2024-08-01T21:30:31.121Z"
   },
   {
    "duration": 990,
    "start_time": "2024-08-01T21:30:31.612Z"
   },
   {
    "duration": 111108,
    "start_time": "2024-08-01T21:30:38.141Z"
   },
   {
    "duration": 3,
    "start_time": "2024-08-01T21:32:46.759Z"
   },
   {
    "duration": 1009,
    "start_time": "2024-08-01T21:32:47.184Z"
   },
   {
    "duration": 7,
    "start_time": "2024-08-01T21:34:27.500Z"
   },
   {
    "duration": 15,
    "start_time": "2024-08-01T21:34:36.542Z"
   },
   {
    "duration": 24,
    "start_time": "2024-08-01T21:34:46.786Z"
   },
   {
    "duration": 65,
    "start_time": "2024-08-01T21:35:43.917Z"
   },
   {
    "duration": 6,
    "start_time": "2024-08-01T21:35:56.865Z"
   },
   {
    "duration": 21,
    "start_time": "2024-08-01T21:35:59.140Z"
   },
   {
    "duration": 4,
    "start_time": "2024-08-01T21:36:13.330Z"
   },
   {
    "duration": 7,
    "start_time": "2024-08-01T21:36:13.886Z"
   },
   {
    "duration": 5,
    "start_time": "2024-08-01T21:36:15.229Z"
   },
   {
    "duration": 2,
    "start_time": "2024-08-01T21:36:15.524Z"
   },
   {
    "duration": 4,
    "start_time": "2024-08-01T21:36:16.440Z"
   },
   {
    "duration": 3,
    "start_time": "2024-08-01T21:36:16.767Z"
   },
   {
    "duration": 3,
    "start_time": "2024-08-01T21:36:25.178Z"
   },
   {
    "duration": 16,
    "start_time": "2024-08-01T21:36:25.538Z"
   },
   {
    "duration": 15,
    "start_time": "2024-08-01T21:36:27.271Z"
   },
   {
    "duration": 132,
    "start_time": "2024-08-01T21:36:27.632Z"
   },
   {
    "duration": 6,
    "start_time": "2024-08-01T21:36:29.005Z"
   },
   {
    "duration": 3,
    "start_time": "2024-08-01T21:36:36.973Z"
   },
   {
    "duration": 6018,
    "start_time": "2024-08-01T21:36:37.677Z"
   },
   {
    "duration": 3,
    "start_time": "2024-08-01T21:36:50.807Z"
   },
   {
    "duration": 3,
    "start_time": "2024-08-01T21:36:51.068Z"
   },
   {
    "duration": 3,
    "start_time": "2024-08-01T21:36:51.313Z"
   },
   {
    "duration": 942,
    "start_time": "2024-08-01T21:36:51.723Z"
   },
   {
    "duration": 110951,
    "start_time": "2024-08-01T21:36:57.125Z"
   },
   {
    "duration": 3,
    "start_time": "2024-08-01T21:38:56.098Z"
   },
   {
    "duration": 976,
    "start_time": "2024-08-01T21:38:56.851Z"
   },
   {
    "duration": 6,
    "start_time": "2024-08-01T21:44:09.834Z"
   },
   {
    "duration": 6,
    "start_time": "2024-08-01T21:44:18.876Z"
   },
   {
    "duration": 111833,
    "start_time": "2024-08-01T21:44:21.265Z"
   },
   {
    "duration": 3,
    "start_time": "2024-08-01T21:58:14.336Z"
   },
   {
    "duration": 4,
    "start_time": "2024-08-01T21:58:18.966Z"
   },
   {
    "duration": 2534,
    "start_time": "2024-08-02T10:26:22.457Z"
   },
   {
    "duration": 5,
    "start_time": "2024-08-02T10:26:24.993Z"
   },
   {
    "duration": 8,
    "start_time": "2024-08-02T10:26:24.999Z"
   },
   {
    "duration": 3,
    "start_time": "2024-08-02T10:26:25.009Z"
   },
   {
    "duration": 14,
    "start_time": "2024-08-02T10:26:25.014Z"
   },
   {
    "duration": 208,
    "start_time": "2024-08-02T10:26:25.030Z"
   },
   {
    "duration": 6,
    "start_time": "2024-08-02T10:26:25.284Z"
   },
   {
    "duration": 14,
    "start_time": "2024-08-02T10:26:25.291Z"
   },
   {
    "duration": 10,
    "start_time": "2024-08-02T10:26:25.307Z"
   },
   {
    "duration": 31,
    "start_time": "2024-08-02T10:26:25.320Z"
   },
   {
    "duration": 36,
    "start_time": "2024-08-02T10:26:25.353Z"
   },
   {
    "duration": 37,
    "start_time": "2024-08-02T10:26:25.391Z"
   },
   {
    "duration": 6,
    "start_time": "2024-08-02T10:26:25.430Z"
   },
   {
    "duration": 11,
    "start_time": "2024-08-02T10:26:25.437Z"
   },
   {
    "duration": 6,
    "start_time": "2024-08-02T10:26:25.450Z"
   },
   {
    "duration": 7,
    "start_time": "2024-08-02T10:26:25.457Z"
   },
   {
    "duration": 8,
    "start_time": "2024-08-02T10:26:25.465Z"
   },
   {
    "duration": 10,
    "start_time": "2024-08-02T10:26:25.475Z"
   },
   {
    "duration": 6,
    "start_time": "2024-08-02T10:26:25.486Z"
   },
   {
    "duration": 7,
    "start_time": "2024-08-02T10:26:25.494Z"
   },
   {
    "duration": 6,
    "start_time": "2024-08-02T10:26:25.502Z"
   },
   {
    "duration": 6,
    "start_time": "2024-08-02T10:26:25.510Z"
   },
   {
    "duration": 12,
    "start_time": "2024-08-02T10:26:25.517Z"
   },
   {
    "duration": 17,
    "start_time": "2024-08-02T10:26:25.530Z"
   },
   {
    "duration": 18,
    "start_time": "2024-08-02T10:26:25.548Z"
   },
   {
    "duration": 24,
    "start_time": "2024-08-02T10:26:25.568Z"
   },
   {
    "duration": 5,
    "start_time": "2024-08-02T10:26:25.594Z"
   },
   {
    "duration": 10,
    "start_time": "2024-08-02T10:26:25.604Z"
   },
   {
    "duration": 313,
    "start_time": "2024-08-02T10:26:25.616Z"
   },
   {
    "duration": 227,
    "start_time": "2024-08-02T10:26:25.931Z"
   },
   {
    "duration": 416,
    "start_time": "2024-08-02T10:26:26.160Z"
   },
   {
    "duration": 223,
    "start_time": "2024-08-02T10:26:26.578Z"
   },
   {
    "duration": 218,
    "start_time": "2024-08-02T10:26:26.803Z"
   },
   {
    "duration": 213,
    "start_time": "2024-08-02T10:26:27.024Z"
   },
   {
    "duration": 1166,
    "start_time": "2024-08-02T10:26:27.239Z"
   },
   {
    "duration": 5,
    "start_time": "2024-08-02T10:26:28.407Z"
   },
   {
    "duration": 40,
    "start_time": "2024-08-02T10:26:28.414Z"
   },
   {
    "duration": 9,
    "start_time": "2024-08-02T10:26:28.457Z"
   },
   {
    "duration": 4,
    "start_time": "2024-08-02T10:26:28.468Z"
   },
   {
    "duration": 7,
    "start_time": "2024-08-02T10:26:28.473Z"
   },
   {
    "duration": 9,
    "start_time": "2024-08-02T10:26:28.481Z"
   },
   {
    "duration": 5,
    "start_time": "2024-08-02T10:26:28.491Z"
   },
   {
    "duration": 6,
    "start_time": "2024-08-02T10:26:28.498Z"
   },
   {
    "duration": 5,
    "start_time": "2024-08-02T10:26:28.505Z"
   },
   {
    "duration": 7,
    "start_time": "2024-08-02T10:26:28.512Z"
   },
   {
    "duration": 5,
    "start_time": "2024-08-02T10:26:28.520Z"
   },
   {
    "duration": 4,
    "start_time": "2024-08-02T10:26:28.527Z"
   },
   {
    "duration": 3,
    "start_time": "2024-08-02T10:26:28.533Z"
   },
   {
    "duration": 13,
    "start_time": "2024-08-02T10:26:28.538Z"
   },
   {
    "duration": 17,
    "start_time": "2024-08-02T10:26:28.552Z"
   },
   {
    "duration": 8,
    "start_time": "2024-08-02T10:26:28.570Z"
   },
   {
    "duration": 13,
    "start_time": "2024-08-02T10:26:28.584Z"
   },
   {
    "duration": 61,
    "start_time": "2024-08-02T10:26:28.598Z"
   },
   {
    "duration": 0,
    "start_time": "2024-08-02T10:26:28.660Z"
   },
   {
    "duration": 0,
    "start_time": "2024-08-02T10:26:28.662Z"
   },
   {
    "duration": 0,
    "start_time": "2024-08-02T10:26:28.663Z"
   },
   {
    "duration": 0,
    "start_time": "2024-08-02T10:26:28.664Z"
   },
   {
    "duration": 0,
    "start_time": "2024-08-02T10:26:28.665Z"
   },
   {
    "duration": 0,
    "start_time": "2024-08-02T10:26:28.666Z"
   },
   {
    "duration": 0,
    "start_time": "2024-08-02T10:26:28.667Z"
   },
   {
    "duration": 0,
    "start_time": "2024-08-02T10:26:28.668Z"
   },
   {
    "duration": 0,
    "start_time": "2024-08-02T10:26:28.669Z"
   },
   {
    "duration": 0,
    "start_time": "2024-08-02T10:26:28.670Z"
   },
   {
    "duration": 0,
    "start_time": "2024-08-02T10:26:28.672Z"
   },
   {
    "duration": 0,
    "start_time": "2024-08-02T10:26:28.673Z"
   },
   {
    "duration": 0,
    "start_time": "2024-08-02T10:26:28.674Z"
   },
   {
    "duration": 0,
    "start_time": "2024-08-02T10:26:28.675Z"
   },
   {
    "duration": 0,
    "start_time": "2024-08-02T10:26:28.676Z"
   },
   {
    "duration": 0,
    "start_time": "2024-08-02T10:26:28.677Z"
   },
   {
    "duration": 0,
    "start_time": "2024-08-02T10:26:28.679Z"
   },
   {
    "duration": 0,
    "start_time": "2024-08-02T10:26:28.680Z"
   },
   {
    "duration": 0,
    "start_time": "2024-08-02T10:26:28.681Z"
   },
   {
    "duration": 0,
    "start_time": "2024-08-02T10:26:28.682Z"
   },
   {
    "duration": 0,
    "start_time": "2024-08-02T10:26:28.683Z"
   },
   {
    "duration": 0,
    "start_time": "2024-08-02T10:26:28.685Z"
   },
   {
    "duration": 0,
    "start_time": "2024-08-02T10:26:28.686Z"
   },
   {
    "duration": 0,
    "start_time": "2024-08-02T10:26:28.687Z"
   },
   {
    "duration": 0,
    "start_time": "2024-08-02T10:26:28.688Z"
   },
   {
    "duration": 8,
    "start_time": "2024-08-02T10:26:46.372Z"
   },
   {
    "duration": 6,
    "start_time": "2024-08-02T10:26:49.377Z"
   },
   {
    "duration": 7,
    "start_time": "2024-08-02T10:26:49.934Z"
   },
   {
    "duration": 5,
    "start_time": "2024-08-02T10:26:50.179Z"
   },
   {
    "duration": 2,
    "start_time": "2024-08-02T10:26:50.655Z"
   },
   {
    "duration": 5,
    "start_time": "2024-08-02T10:26:52.404Z"
   },
   {
    "duration": 4,
    "start_time": "2024-08-02T10:26:52.749Z"
   },
   {
    "duration": 3,
    "start_time": "2024-08-02T10:26:53.813Z"
   },
   {
    "duration": 17,
    "start_time": "2024-08-02T10:26:54.093Z"
   },
   {
    "duration": 16,
    "start_time": "2024-08-02T10:26:55.680Z"
   },
   {
    "duration": 17,
    "start_time": "2024-08-02T10:26:55.942Z"
   },
   {
    "duration": 6,
    "start_time": "2024-08-02T10:26:56.236Z"
   },
   {
    "duration": 2,
    "start_time": "2024-08-02T10:27:00.052Z"
   },
   {
    "duration": 7,
    "start_time": "2024-08-02T10:27:05.700Z"
   },
   {
    "duration": 4,
    "start_time": "2024-08-02T10:27:06.224Z"
   },
   {
    "duration": 4,
    "start_time": "2024-08-02T10:27:06.666Z"
   },
   {
    "duration": 113099,
    "start_time": "2024-08-02T10:27:08.386Z"
   },
   {
    "duration": 1988,
    "start_time": "2024-08-02T10:43:34.312Z"
   },
   {
    "duration": 5,
    "start_time": "2024-08-02T10:43:36.304Z"
   },
   {
    "duration": 22,
    "start_time": "2024-08-02T10:43:36.310Z"
   },
   {
    "duration": 50,
    "start_time": "2024-08-02T10:43:36.334Z"
   },
   {
    "duration": 3,
    "start_time": "2024-08-02T10:43:36.386Z"
   },
   {
    "duration": 195,
    "start_time": "2024-08-02T10:43:36.390Z"
   },
   {
    "duration": 6,
    "start_time": "2024-08-02T10:43:36.587Z"
   },
   {
    "duration": 23,
    "start_time": "2024-08-02T10:43:36.595Z"
   },
   {
    "duration": 11,
    "start_time": "2024-08-02T10:43:36.620Z"
   },
   {
    "duration": 23,
    "start_time": "2024-08-02T10:43:36.684Z"
   },
   {
    "duration": 7,
    "start_time": "2024-08-02T10:43:36.709Z"
   },
   {
    "duration": 5,
    "start_time": "2024-08-02T10:43:36.718Z"
   },
   {
    "duration": 59,
    "start_time": "2024-08-02T10:43:36.726Z"
   },
   {
    "duration": 5,
    "start_time": "2024-08-02T10:43:36.787Z"
   },
   {
    "duration": 5,
    "start_time": "2024-08-02T10:43:36.794Z"
   },
   {
    "duration": 11,
    "start_time": "2024-08-02T10:43:36.801Z"
   },
   {
    "duration": 9,
    "start_time": "2024-08-02T10:43:36.813Z"
   },
   {
    "duration": 61,
    "start_time": "2024-08-02T10:43:36.824Z"
   },
   {
    "duration": 7,
    "start_time": "2024-08-02T10:43:36.886Z"
   },
   {
    "duration": 13,
    "start_time": "2024-08-02T10:43:36.895Z"
   },
   {
    "duration": 9,
    "start_time": "2024-08-02T10:43:36.909Z"
   },
   {
    "duration": 9,
    "start_time": "2024-08-02T10:43:36.920Z"
   },
   {
    "duration": 54,
    "start_time": "2024-08-02T10:43:36.930Z"
   },
   {
    "duration": 3,
    "start_time": "2024-08-02T10:43:36.986Z"
   },
   {
    "duration": 15,
    "start_time": "2024-08-02T10:43:36.991Z"
   },
   {
    "duration": 11,
    "start_time": "2024-08-02T10:43:37.008Z"
   },
   {
    "duration": 5,
    "start_time": "2024-08-02T10:43:37.020Z"
   },
   {
    "duration": 9,
    "start_time": "2024-08-02T10:43:37.027Z"
   },
   {
    "duration": 579,
    "start_time": "2024-08-02T10:43:37.038Z"
   },
   {
    "duration": 238,
    "start_time": "2024-08-02T10:43:37.619Z"
   },
   {
    "duration": 448,
    "start_time": "2024-08-02T10:43:37.858Z"
   },
   {
    "duration": 260,
    "start_time": "2024-08-02T10:43:38.308Z"
   },
   {
    "duration": 226,
    "start_time": "2024-08-02T10:43:38.569Z"
   },
   {
    "duration": 211,
    "start_time": "2024-08-02T10:43:38.796Z"
   },
   {
    "duration": 1504,
    "start_time": "2024-08-02T10:43:39.009Z"
   },
   {
    "duration": 4,
    "start_time": "2024-08-02T10:43:40.514Z"
   },
   {
    "duration": 66,
    "start_time": "2024-08-02T10:43:40.519Z"
   },
   {
    "duration": 4,
    "start_time": "2024-08-02T10:43:40.587Z"
   },
   {
    "duration": 53,
    "start_time": "2024-08-02T10:43:40.592Z"
   },
   {
    "duration": 0,
    "start_time": "2024-08-02T10:43:40.648Z"
   },
   {
    "duration": 0,
    "start_time": "2024-08-02T10:43:40.650Z"
   },
   {
    "duration": 0,
    "start_time": "2024-08-02T10:43:40.651Z"
   },
   {
    "duration": 0,
    "start_time": "2024-08-02T10:43:40.684Z"
   },
   {
    "duration": 0,
    "start_time": "2024-08-02T10:43:40.685Z"
   },
   {
    "duration": 0,
    "start_time": "2024-08-02T10:43:40.686Z"
   },
   {
    "duration": 0,
    "start_time": "2024-08-02T10:43:40.688Z"
   },
   {
    "duration": 0,
    "start_time": "2024-08-02T10:43:40.689Z"
   },
   {
    "duration": 0,
    "start_time": "2024-08-02T10:43:40.690Z"
   },
   {
    "duration": 0,
    "start_time": "2024-08-02T10:43:40.691Z"
   },
   {
    "duration": 0,
    "start_time": "2024-08-02T10:43:40.692Z"
   },
   {
    "duration": 0,
    "start_time": "2024-08-02T10:43:40.693Z"
   },
   {
    "duration": 0,
    "start_time": "2024-08-02T10:43:40.694Z"
   },
   {
    "duration": 0,
    "start_time": "2024-08-02T10:43:40.695Z"
   },
   {
    "duration": 0,
    "start_time": "2024-08-02T10:43:40.696Z"
   },
   {
    "duration": 0,
    "start_time": "2024-08-02T10:43:40.697Z"
   },
   {
    "duration": 0,
    "start_time": "2024-08-02T10:43:40.698Z"
   },
   {
    "duration": 0,
    "start_time": "2024-08-02T10:43:40.699Z"
   },
   {
    "duration": 0,
    "start_time": "2024-08-02T10:43:40.700Z"
   },
   {
    "duration": 0,
    "start_time": "2024-08-02T10:43:40.701Z"
   },
   {
    "duration": 0,
    "start_time": "2024-08-02T10:43:40.702Z"
   },
   {
    "duration": 0,
    "start_time": "2024-08-02T10:43:40.704Z"
   },
   {
    "duration": 0,
    "start_time": "2024-08-02T10:43:40.705Z"
   },
   {
    "duration": 0,
    "start_time": "2024-08-02T10:43:40.706Z"
   },
   {
    "duration": 0,
    "start_time": "2024-08-02T10:43:40.707Z"
   },
   {
    "duration": 0,
    "start_time": "2024-08-02T10:43:40.708Z"
   },
   {
    "duration": 0,
    "start_time": "2024-08-02T10:43:40.709Z"
   },
   {
    "duration": 0,
    "start_time": "2024-08-02T10:43:40.710Z"
   },
   {
    "duration": 0,
    "start_time": "2024-08-02T10:43:40.711Z"
   },
   {
    "duration": 0,
    "start_time": "2024-08-02T10:43:40.712Z"
   },
   {
    "duration": 0,
    "start_time": "2024-08-02T10:43:40.713Z"
   },
   {
    "duration": 0,
    "start_time": "2024-08-02T10:43:40.714Z"
   },
   {
    "duration": 0,
    "start_time": "2024-08-02T10:43:40.715Z"
   },
   {
    "duration": 0,
    "start_time": "2024-08-02T10:43:40.716Z"
   },
   {
    "duration": 0,
    "start_time": "2024-08-02T10:43:40.717Z"
   },
   {
    "duration": 0,
    "start_time": "2024-08-02T10:43:40.718Z"
   },
   {
    "duration": 0,
    "start_time": "2024-08-02T10:43:40.720Z"
   },
   {
    "duration": 0,
    "start_time": "2024-08-02T10:43:40.721Z"
   },
   {
    "duration": 0,
    "start_time": "2024-08-02T10:43:40.722Z"
   },
   {
    "duration": 4,
    "start_time": "2024-08-02T10:43:44.044Z"
   },
   {
    "duration": 177,
    "start_time": "2024-08-02T10:43:48.297Z"
   },
   {
    "duration": 142,
    "start_time": "2024-08-02T10:43:56.111Z"
   },
   {
    "duration": 138,
    "start_time": "2024-08-02T10:44:35.464Z"
   },
   {
    "duration": 148,
    "start_time": "2024-08-02T10:44:54.063Z"
   },
   {
    "duration": 148,
    "start_time": "2024-08-02T10:44:56.779Z"
   },
   {
    "duration": 139,
    "start_time": "2024-08-02T10:45:01.818Z"
   },
   {
    "duration": 142,
    "start_time": "2024-08-02T10:48:07.839Z"
   },
   {
    "duration": 142,
    "start_time": "2024-08-02T10:48:12.921Z"
   },
   {
    "duration": 147,
    "start_time": "2024-08-02T10:48:18.891Z"
   },
   {
    "duration": 156,
    "start_time": "2024-08-02T10:48:21.686Z"
   },
   {
    "duration": 140,
    "start_time": "2024-08-02T10:51:23.244Z"
   },
   {
    "duration": 59,
    "start_time": "2024-08-02T10:52:48.467Z"
   },
   {
    "duration": 137,
    "start_time": "2024-08-02T10:52:53.049Z"
   },
   {
    "duration": 4,
    "start_time": "2024-08-02T10:56:04.961Z"
   },
   {
    "duration": 429,
    "start_time": "2024-08-02T10:56:10.961Z"
   },
   {
    "duration": 6,
    "start_time": "2024-08-02T10:56:25.081Z"
   },
   {
    "duration": 4,
    "start_time": "2024-08-02T10:56:33.929Z"
   },
   {
    "duration": 170,
    "start_time": "2024-08-02T10:56:36.677Z"
   },
   {
    "duration": 4,
    "start_time": "2024-08-02T10:57:24.133Z"
   },
   {
    "duration": 4,
    "start_time": "2024-08-02T10:57:30.790Z"
   },
   {
    "duration": 135,
    "start_time": "2024-08-02T10:57:33.342Z"
   },
   {
    "duration": 154,
    "start_time": "2024-08-02T10:57:47.315Z"
   },
   {
    "duration": 151,
    "start_time": "2024-08-02T10:57:47.983Z"
   },
   {
    "duration": 139,
    "start_time": "2024-08-02T10:57:48.605Z"
   },
   {
    "duration": 2052,
    "start_time": "2024-08-02T11:08:42.619Z"
   },
   {
    "duration": 5,
    "start_time": "2024-08-02T11:08:44.673Z"
   },
   {
    "duration": 65,
    "start_time": "2024-08-02T11:08:44.683Z"
   },
   {
    "duration": 3,
    "start_time": "2024-08-02T11:08:44.750Z"
   },
   {
    "duration": 3,
    "start_time": "2024-08-02T11:08:44.755Z"
   },
   {
    "duration": 42,
    "start_time": "2024-08-02T11:08:44.760Z"
   },
   {
    "duration": 5,
    "start_time": "2024-08-02T11:08:44.804Z"
   },
   {
    "duration": 14,
    "start_time": "2024-08-02T11:08:44.810Z"
   },
   {
    "duration": 12,
    "start_time": "2024-08-02T11:08:44.825Z"
   },
   {
    "duration": 29,
    "start_time": "2024-08-02T11:08:44.839Z"
   },
   {
    "duration": 16,
    "start_time": "2024-08-02T11:08:44.869Z"
   },
   {
    "duration": 32,
    "start_time": "2024-08-02T11:08:44.887Z"
   },
   {
    "duration": 6,
    "start_time": "2024-08-02T11:08:44.921Z"
   },
   {
    "duration": 15,
    "start_time": "2024-08-02T11:08:44.928Z"
   },
   {
    "duration": 10,
    "start_time": "2024-08-02T11:08:44.945Z"
   },
   {
    "duration": 14,
    "start_time": "2024-08-02T11:08:44.956Z"
   },
   {
    "duration": 10,
    "start_time": "2024-08-02T11:08:44.971Z"
   },
   {
    "duration": 8,
    "start_time": "2024-08-02T11:08:44.982Z"
   },
   {
    "duration": 7,
    "start_time": "2024-08-02T11:08:44.991Z"
   },
   {
    "duration": 13,
    "start_time": "2024-08-02T11:08:44.999Z"
   },
   {
    "duration": 41,
    "start_time": "2024-08-02T11:08:45.013Z"
   },
   {
    "duration": 36,
    "start_time": "2024-08-02T11:08:45.055Z"
   },
   {
    "duration": 61,
    "start_time": "2024-08-02T11:08:45.093Z"
   },
   {
    "duration": 38,
    "start_time": "2024-08-02T11:08:45.156Z"
   },
   {
    "duration": 35,
    "start_time": "2024-08-02T11:08:45.195Z"
   },
   {
    "duration": 26,
    "start_time": "2024-08-02T11:08:45.232Z"
   },
   {
    "duration": 83,
    "start_time": "2024-08-02T11:08:45.260Z"
   },
   {
    "duration": 25,
    "start_time": "2024-08-02T11:08:45.347Z"
   },
   {
    "duration": 334,
    "start_time": "2024-08-02T11:08:45.374Z"
   },
   {
    "duration": 250,
    "start_time": "2024-08-02T11:08:45.710Z"
   },
   {
    "duration": 443,
    "start_time": "2024-08-02T11:08:45.961Z"
   },
   {
    "duration": 365,
    "start_time": "2024-08-02T11:08:46.406Z"
   },
   {
    "duration": 254,
    "start_time": "2024-08-02T11:08:46.773Z"
   },
   {
    "duration": 224,
    "start_time": "2024-08-02T11:08:47.029Z"
   },
   {
    "duration": 1091,
    "start_time": "2024-08-02T11:08:47.254Z"
   },
   {
    "duration": 176,
    "start_time": "2024-08-02T11:08:48.347Z"
   },
   {
    "duration": 173,
    "start_time": "2024-08-02T11:08:48.525Z"
   },
   {
    "duration": 193,
    "start_time": "2024-08-02T11:08:48.700Z"
   },
   {
    "duration": 300,
    "start_time": "2024-08-02T11:08:48.894Z"
   },
   {
    "duration": 4,
    "start_time": "2024-08-02T11:08:49.196Z"
   },
   {
    "duration": 10,
    "start_time": "2024-08-02T11:08:49.202Z"
   },
   {
    "duration": 19,
    "start_time": "2024-08-02T11:08:49.214Z"
   },
   {
    "duration": 50,
    "start_time": "2024-08-02T11:08:49.235Z"
   },
   {
    "duration": 68,
    "start_time": "2024-08-02T11:08:49.286Z"
   },
   {
    "duration": 4,
    "start_time": "2024-08-02T11:08:49.355Z"
   },
   {
    "duration": 11,
    "start_time": "2024-08-02T11:08:49.383Z"
   },
   {
    "duration": 12,
    "start_time": "2024-08-02T11:08:49.396Z"
   },
   {
    "duration": 10,
    "start_time": "2024-08-02T11:08:49.409Z"
   },
   {
    "duration": 22,
    "start_time": "2024-08-02T11:08:49.420Z"
   },
   {
    "duration": 7,
    "start_time": "2024-08-02T11:08:49.484Z"
   },
   {
    "duration": 30,
    "start_time": "2024-08-02T11:08:49.493Z"
   },
   {
    "duration": 12,
    "start_time": "2024-08-02T11:08:49.525Z"
   },
   {
    "duration": 45,
    "start_time": "2024-08-02T11:08:49.539Z"
   },
   {
    "duration": 23,
    "start_time": "2024-08-02T11:08:49.586Z"
   },
   {
    "duration": 9,
    "start_time": "2024-08-02T11:08:49.610Z"
   },
   {
    "duration": 6,
    "start_time": "2024-08-02T11:08:49.620Z"
   },
   {
    "duration": 7,
    "start_time": "2024-08-02T11:08:49.628Z"
   },
   {
    "duration": 62,
    "start_time": "2024-08-02T11:08:49.636Z"
   },
   {
    "duration": 16,
    "start_time": "2024-08-02T11:08:49.700Z"
   },
   {
    "duration": 69,
    "start_time": "2024-08-02T11:08:49.718Z"
   },
   {
    "duration": 7,
    "start_time": "2024-08-02T11:08:49.788Z"
   },
   {
    "duration": 13,
    "start_time": "2024-08-02T11:08:49.796Z"
   },
   {
    "duration": 12,
    "start_time": "2024-08-02T11:08:49.810Z"
   },
   {
    "duration": 11,
    "start_time": "2024-08-02T11:08:49.823Z"
   },
   {
    "duration": 5557,
    "start_time": "2024-08-02T11:08:49.835Z"
   },
   {
    "duration": 4,
    "start_time": "2024-08-02T11:08:55.393Z"
   },
   {
    "duration": 32,
    "start_time": "2024-08-02T11:08:55.398Z"
   },
   {
    "duration": 11,
    "start_time": "2024-08-02T11:08:55.432Z"
   },
   {
    "duration": 1129,
    "start_time": "2024-08-02T11:08:55.445Z"
   },
   {
    "duration": 9,
    "start_time": "2024-08-02T11:08:56.575Z"
   },
   {
    "duration": 14,
    "start_time": "2024-08-02T11:08:56.586Z"
   },
   {
    "duration": 12,
    "start_time": "2024-08-02T11:08:56.602Z"
   },
   {
    "duration": 114037,
    "start_time": "2024-08-02T11:08:56.615Z"
   },
   {
    "duration": 4,
    "start_time": "2024-08-02T11:10:50.653Z"
   },
   {
    "duration": 1012,
    "start_time": "2024-08-02T11:10:50.658Z"
   },
   {
    "duration": 2131,
    "start_time": "2024-08-02T11:11:50.247Z"
   },
   {
    "duration": 5,
    "start_time": "2024-08-02T11:11:52.383Z"
   },
   {
    "duration": 57,
    "start_time": "2024-08-02T11:11:52.389Z"
   },
   {
    "duration": 6,
    "start_time": "2024-08-02T11:11:52.448Z"
   },
   {
    "duration": 3,
    "start_time": "2024-08-02T11:11:52.456Z"
   },
   {
    "duration": 44,
    "start_time": "2024-08-02T11:11:52.461Z"
   },
   {
    "duration": 5,
    "start_time": "2024-08-02T11:11:52.507Z"
   },
   {
    "duration": 12,
    "start_time": "2024-08-02T11:11:52.514Z"
   },
   {
    "duration": 11,
    "start_time": "2024-08-02T11:11:52.528Z"
   },
   {
    "duration": 24,
    "start_time": "2024-08-02T11:11:52.542Z"
   },
   {
    "duration": 16,
    "start_time": "2024-08-02T11:11:52.568Z"
   },
   {
    "duration": 47,
    "start_time": "2024-08-02T11:11:52.586Z"
   },
   {
    "duration": 5,
    "start_time": "2024-08-02T11:11:52.635Z"
   },
   {
    "duration": 6,
    "start_time": "2024-08-02T11:11:52.641Z"
   },
   {
    "duration": 30,
    "start_time": "2024-08-02T11:11:52.649Z"
   },
   {
    "duration": 100,
    "start_time": "2024-08-02T11:11:52.681Z"
   },
   {
    "duration": 42,
    "start_time": "2024-08-02T11:11:52.783Z"
   },
   {
    "duration": 25,
    "start_time": "2024-08-02T11:11:52.826Z"
   },
   {
    "duration": 6,
    "start_time": "2024-08-02T11:11:52.853Z"
   },
   {
    "duration": 16,
    "start_time": "2024-08-02T11:11:52.860Z"
   },
   {
    "duration": 7,
    "start_time": "2024-08-02T11:11:52.878Z"
   },
   {
    "duration": 15,
    "start_time": "2024-08-02T11:11:52.887Z"
   },
   {
    "duration": 24,
    "start_time": "2024-08-02T11:11:52.904Z"
   },
   {
    "duration": 7,
    "start_time": "2024-08-02T11:11:52.929Z"
   },
   {
    "duration": 6,
    "start_time": "2024-08-02T11:11:52.938Z"
   },
   {
    "duration": 12,
    "start_time": "2024-08-02T11:11:52.945Z"
   },
   {
    "duration": 7,
    "start_time": "2024-08-02T11:11:52.958Z"
   },
   {
    "duration": 11,
    "start_time": "2024-08-02T11:11:52.970Z"
   },
   {
    "duration": 356,
    "start_time": "2024-08-02T11:11:52.983Z"
   },
   {
    "duration": 242,
    "start_time": "2024-08-02T11:11:53.340Z"
   },
   {
    "duration": 434,
    "start_time": "2024-08-02T11:11:53.584Z"
   },
   {
    "duration": 344,
    "start_time": "2024-08-02T11:11:54.019Z"
   },
   {
    "duration": 221,
    "start_time": "2024-08-02T11:11:54.364Z"
   },
   {
    "duration": 221,
    "start_time": "2024-08-02T11:11:54.587Z"
   },
   {
    "duration": 1072,
    "start_time": "2024-08-02T11:11:54.809Z"
   },
   {
    "duration": 145,
    "start_time": "2024-08-02T11:11:55.883Z"
   },
   {
    "duration": 157,
    "start_time": "2024-08-02T11:11:56.030Z"
   },
   {
    "duration": 158,
    "start_time": "2024-08-02T11:11:56.188Z"
   },
   {
    "duration": 152,
    "start_time": "2024-08-02T11:11:56.348Z"
   },
   {
    "duration": 4,
    "start_time": "2024-08-02T11:11:56.502Z"
   },
   {
    "duration": 16,
    "start_time": "2024-08-02T11:11:56.508Z"
   },
   {
    "duration": 7,
    "start_time": "2024-08-02T11:11:56.526Z"
   },
   {
    "duration": 43,
    "start_time": "2024-08-02T11:11:56.534Z"
   },
   {
    "duration": 29,
    "start_time": "2024-08-02T11:11:56.579Z"
   },
   {
    "duration": 21,
    "start_time": "2024-08-02T11:11:56.609Z"
   },
   {
    "duration": 6,
    "start_time": "2024-08-02T11:11:56.632Z"
   },
   {
    "duration": 9,
    "start_time": "2024-08-02T11:11:56.639Z"
   },
   {
    "duration": 111,
    "start_time": "2024-08-02T11:11:56.649Z"
   },
   {
    "duration": 18,
    "start_time": "2024-08-02T11:11:56.762Z"
   },
   {
    "duration": 8,
    "start_time": "2024-08-02T11:11:56.781Z"
   },
   {
    "duration": 10,
    "start_time": "2024-08-02T11:11:56.790Z"
   },
   {
    "duration": 14,
    "start_time": "2024-08-02T11:11:56.801Z"
   },
   {
    "duration": 13,
    "start_time": "2024-08-02T11:11:56.816Z"
   },
   {
    "duration": 25,
    "start_time": "2024-08-02T11:11:56.830Z"
   },
   {
    "duration": 17,
    "start_time": "2024-08-02T11:11:56.856Z"
   },
   {
    "duration": 20,
    "start_time": "2024-08-02T11:11:56.874Z"
   },
   {
    "duration": 42,
    "start_time": "2024-08-02T11:11:56.896Z"
   },
   {
    "duration": 27,
    "start_time": "2024-08-02T11:11:56.939Z"
   },
   {
    "duration": 16,
    "start_time": "2024-08-02T11:11:56.968Z"
   },
   {
    "duration": 29,
    "start_time": "2024-08-02T11:11:56.986Z"
   },
   {
    "duration": 10,
    "start_time": "2024-08-02T11:11:57.017Z"
   },
   {
    "duration": 5,
    "start_time": "2024-08-02T11:11:57.029Z"
   },
   {
    "duration": 9,
    "start_time": "2024-08-02T11:11:57.035Z"
   },
   {
    "duration": 34,
    "start_time": "2024-08-02T11:11:57.046Z"
   },
   {
    "duration": 5108,
    "start_time": "2024-08-02T11:11:57.082Z"
   },
   {
    "duration": 4,
    "start_time": "2024-08-02T11:12:02.191Z"
   },
   {
    "duration": 31,
    "start_time": "2024-08-02T11:12:02.196Z"
   },
   {
    "duration": 31,
    "start_time": "2024-08-02T11:12:02.229Z"
   },
   {
    "duration": 1125,
    "start_time": "2024-08-02T11:12:02.261Z"
   },
   {
    "duration": 6,
    "start_time": "2024-08-02T11:12:03.388Z"
   },
   {
    "duration": 10,
    "start_time": "2024-08-02T11:12:03.396Z"
   },
   {
    "duration": 7,
    "start_time": "2024-08-02T11:12:03.408Z"
   },
   {
    "duration": 114746,
    "start_time": "2024-08-02T11:12:03.417Z"
   },
   {
    "duration": 3,
    "start_time": "2024-08-02T11:13:58.165Z"
   },
   {
    "duration": 1089,
    "start_time": "2024-08-02T11:13:58.170Z"
   },
   {
    "duration": 3,
    "start_time": "2024-08-02T11:58:37.172Z"
   },
   {
    "duration": 4918,
    "start_time": "2024-08-02T12:43:27.383Z"
   },
   {
    "duration": 4,
    "start_time": "2024-08-02T12:43:34.608Z"
   },
   {
    "duration": 4,
    "start_time": "2024-08-02T12:43:34.870Z"
   },
   {
    "duration": 4,
    "start_time": "2024-08-02T12:43:35.114Z"
   },
   {
    "duration": 1015,
    "start_time": "2024-08-02T12:43:36.114Z"
   },
   {
    "duration": 2411,
    "start_time": "2024-08-03T12:45:53.158Z"
   },
   {
    "duration": 6,
    "start_time": "2024-08-03T12:45:55.571Z"
   },
   {
    "duration": 67,
    "start_time": "2024-08-03T12:45:55.579Z"
   },
   {
    "duration": 15,
    "start_time": "2024-08-03T12:45:55.648Z"
   },
   {
    "duration": 10,
    "start_time": "2024-08-03T12:45:55.664Z"
   },
   {
    "duration": 82,
    "start_time": "2024-08-03T12:45:55.676Z"
   },
   {
    "duration": 6,
    "start_time": "2024-08-03T12:45:55.760Z"
   },
   {
    "duration": 24,
    "start_time": "2024-08-03T12:45:55.767Z"
   },
   {
    "duration": 66,
    "start_time": "2024-08-03T12:45:55.793Z"
   },
   {
    "duration": 97,
    "start_time": "2024-08-03T12:45:55.862Z"
   },
   {
    "duration": 8,
    "start_time": "2024-08-03T12:45:55.960Z"
   },
   {
    "duration": 9,
    "start_time": "2024-08-03T12:45:55.970Z"
   },
   {
    "duration": 14,
    "start_time": "2024-08-03T12:45:55.980Z"
   },
   {
    "duration": 6,
    "start_time": "2024-08-03T12:45:56.047Z"
   },
   {
    "duration": 35,
    "start_time": "2024-08-03T12:45:56.055Z"
   },
   {
    "duration": 57,
    "start_time": "2024-08-03T12:45:56.092Z"
   },
   {
    "duration": 22,
    "start_time": "2024-08-03T12:45:56.151Z"
   },
   {
    "duration": 35,
    "start_time": "2024-08-03T12:45:56.175Z"
   },
   {
    "duration": 9,
    "start_time": "2024-08-03T12:45:56.245Z"
   },
   {
    "duration": 15,
    "start_time": "2024-08-03T12:45:56.256Z"
   },
   {
    "duration": 27,
    "start_time": "2024-08-03T12:45:56.272Z"
   },
   {
    "duration": 47,
    "start_time": "2024-08-03T12:45:56.300Z"
   },
   {
    "duration": 20,
    "start_time": "2024-08-03T12:45:56.348Z"
   },
   {
    "duration": 8,
    "start_time": "2024-08-03T12:45:56.370Z"
   },
   {
    "duration": 32,
    "start_time": "2024-08-03T12:45:56.380Z"
   },
   {
    "duration": 3,
    "start_time": "2024-08-03T12:45:56.447Z"
   },
   {
    "duration": 17,
    "start_time": "2024-08-03T12:45:56.451Z"
   },
   {
    "duration": 17,
    "start_time": "2024-08-03T12:45:56.474Z"
   },
   {
    "duration": 579,
    "start_time": "2024-08-03T12:45:56.493Z"
   },
   {
    "duration": 232,
    "start_time": "2024-08-03T12:45:57.073Z"
   },
   {
    "duration": 418,
    "start_time": "2024-08-03T12:45:57.307Z"
   },
   {
    "duration": 344,
    "start_time": "2024-08-03T12:45:57.727Z"
   },
   {
    "duration": 216,
    "start_time": "2024-08-03T12:45:58.073Z"
   },
   {
    "duration": 212,
    "start_time": "2024-08-03T12:45:58.291Z"
   },
   {
    "duration": 1092,
    "start_time": "2024-08-03T12:45:58.505Z"
   },
   {
    "duration": 151,
    "start_time": "2024-08-03T12:45:59.599Z"
   },
   {
    "duration": 159,
    "start_time": "2024-08-03T12:45:59.752Z"
   },
   {
    "duration": 161,
    "start_time": "2024-08-03T12:45:59.913Z"
   },
   {
    "duration": 155,
    "start_time": "2024-08-03T12:46:00.076Z"
   },
   {
    "duration": 69,
    "start_time": "2024-08-03T12:46:00.233Z"
   },
   {
    "duration": 0,
    "start_time": "2024-08-03T12:46:00.304Z"
   },
   {
    "duration": 0,
    "start_time": "2024-08-03T12:46:00.305Z"
   },
   {
    "duration": 0,
    "start_time": "2024-08-03T12:46:00.306Z"
   },
   {
    "duration": 0,
    "start_time": "2024-08-03T12:46:00.307Z"
   },
   {
    "duration": 0,
    "start_time": "2024-08-03T12:46:00.309Z"
   },
   {
    "duration": 0,
    "start_time": "2024-08-03T12:46:00.310Z"
   },
   {
    "duration": 0,
    "start_time": "2024-08-03T12:46:00.311Z"
   },
   {
    "duration": 0,
    "start_time": "2024-08-03T12:46:00.312Z"
   },
   {
    "duration": 0,
    "start_time": "2024-08-03T12:46:00.313Z"
   },
   {
    "duration": 0,
    "start_time": "2024-08-03T12:46:00.314Z"
   },
   {
    "duration": 0,
    "start_time": "2024-08-03T12:46:00.315Z"
   },
   {
    "duration": 0,
    "start_time": "2024-08-03T12:46:00.315Z"
   },
   {
    "duration": 0,
    "start_time": "2024-08-03T12:46:00.316Z"
   },
   {
    "duration": 0,
    "start_time": "2024-08-03T12:46:00.317Z"
   },
   {
    "duration": 0,
    "start_time": "2024-08-03T12:46:00.319Z"
   },
   {
    "duration": 0,
    "start_time": "2024-08-03T12:46:00.320Z"
   },
   {
    "duration": 0,
    "start_time": "2024-08-03T12:46:00.321Z"
   },
   {
    "duration": 0,
    "start_time": "2024-08-03T12:46:00.322Z"
   },
   {
    "duration": 0,
    "start_time": "2024-08-03T12:46:00.322Z"
   },
   {
    "duration": 0,
    "start_time": "2024-08-03T12:46:00.323Z"
   },
   {
    "duration": 0,
    "start_time": "2024-08-03T12:46:00.324Z"
   },
   {
    "duration": 0,
    "start_time": "2024-08-03T12:46:00.326Z"
   },
   {
    "duration": 0,
    "start_time": "2024-08-03T12:46:00.327Z"
   },
   {
    "duration": 0,
    "start_time": "2024-08-03T12:46:00.328Z"
   },
   {
    "duration": 0,
    "start_time": "2024-08-03T12:46:00.329Z"
   },
   {
    "duration": 0,
    "start_time": "2024-08-03T12:46:00.330Z"
   },
   {
    "duration": 0,
    "start_time": "2024-08-03T12:46:00.331Z"
   },
   {
    "duration": 0,
    "start_time": "2024-08-03T12:46:00.333Z"
   },
   {
    "duration": 0,
    "start_time": "2024-08-03T12:46:00.334Z"
   },
   {
    "duration": 0,
    "start_time": "2024-08-03T12:46:00.335Z"
   },
   {
    "duration": 0,
    "start_time": "2024-08-03T12:46:00.336Z"
   },
   {
    "duration": 0,
    "start_time": "2024-08-03T12:46:00.337Z"
   },
   {
    "duration": 0,
    "start_time": "2024-08-03T12:46:00.338Z"
   },
   {
    "duration": 0,
    "start_time": "2024-08-03T12:46:00.345Z"
   },
   {
    "duration": 0,
    "start_time": "2024-08-03T12:46:00.347Z"
   },
   {
    "duration": 3,
    "start_time": "2024-08-03T12:49:24.496Z"
   },
   {
    "duration": 6,
    "start_time": "2024-08-03T12:52:01.203Z"
   },
   {
    "duration": 6,
    "start_time": "2024-08-03T12:52:02.081Z"
   },
   {
    "duration": 6,
    "start_time": "2024-08-03T12:54:22.370Z"
   },
   {
    "duration": 6,
    "start_time": "2024-08-03T12:54:22.746Z"
   },
   {
    "duration": 8,
    "start_time": "2024-08-03T12:55:15.307Z"
   },
   {
    "duration": 5,
    "start_time": "2024-08-03T12:55:48.224Z"
   },
   {
    "duration": 7,
    "start_time": "2024-08-03T12:55:49.156Z"
   },
   {
    "duration": 5,
    "start_time": "2024-08-03T12:55:49.713Z"
   },
   {
    "duration": 3,
    "start_time": "2024-08-03T12:55:51.071Z"
   },
   {
    "duration": 4,
    "start_time": "2024-08-03T12:55:54.915Z"
   },
   {
    "duration": 4,
    "start_time": "2024-08-03T12:55:56.141Z"
   },
   {
    "duration": 3,
    "start_time": "2024-08-03T12:56:01.638Z"
   },
   {
    "duration": 15,
    "start_time": "2024-08-03T12:56:02.178Z"
   },
   {
    "duration": 3,
    "start_time": "2024-08-03T12:58:40.733Z"
   },
   {
    "duration": 10,
    "start_time": "2024-08-03T13:00:27.055Z"
   },
   {
    "duration": 169,
    "start_time": "2024-08-03T13:01:08.224Z"
   },
   {
    "duration": 5,
    "start_time": "2024-08-03T13:01:11.840Z"
   },
   {
    "duration": 3,
    "start_time": "2024-08-03T13:01:34.369Z"
   },
   {
    "duration": 4,
    "start_time": "2024-08-03T13:01:49.562Z"
   },
   {
    "duration": 21,
    "start_time": "2024-08-03T13:02:10.518Z"
   },
   {
    "duration": 4,
    "start_time": "2024-08-03T13:03:39.441Z"
   },
   {
    "duration": 27,
    "start_time": "2024-08-03T13:03:39.719Z"
   },
   {
    "duration": 2,
    "start_time": "2024-08-03T13:04:27.280Z"
   },
   {
    "duration": 14,
    "start_time": "2024-08-03T13:04:36.573Z"
   },
   {
    "duration": 27,
    "start_time": "2024-08-03T13:04:40.663Z"
   },
   {
    "duration": 28,
    "start_time": "2024-08-03T13:05:23.766Z"
   },
   {
    "duration": 6,
    "start_time": "2024-08-03T13:06:47.889Z"
   },
   {
    "duration": 37,
    "start_time": "2024-08-03T13:06:55.487Z"
   },
   {
    "duration": 21,
    "start_time": "2024-08-03T13:06:56.338Z"
   },
   {
    "duration": 62,
    "start_time": "2024-08-03T13:07:34.319Z"
   },
   {
    "duration": 18,
    "start_time": "2024-08-03T13:07:53.074Z"
   },
   {
    "duration": 82,
    "start_time": "2024-08-03T13:07:56.903Z"
   },
   {
    "duration": 74,
    "start_time": "2024-08-03T13:08:21.338Z"
   },
   {
    "duration": 14,
    "start_time": "2024-08-03T13:10:29.113Z"
   },
   {
    "duration": 4,
    "start_time": "2024-08-03T13:10:43.087Z"
   },
   {
    "duration": 4,
    "start_time": "2024-08-03T13:10:50.179Z"
   },
   {
    "duration": 34,
    "start_time": "2024-08-03T13:10:53.220Z"
   },
   {
    "duration": 5,
    "start_time": "2024-08-03T13:15:06.006Z"
   },
   {
    "duration": 8,
    "start_time": "2024-08-03T13:15:07.037Z"
   },
   {
    "duration": 5,
    "start_time": "2024-08-03T13:15:08.036Z"
   },
   {
    "duration": 3,
    "start_time": "2024-08-03T13:15:08.395Z"
   },
   {
    "duration": 4,
    "start_time": "2024-08-03T13:15:09.017Z"
   },
   {
    "duration": 4,
    "start_time": "2024-08-03T13:15:09.378Z"
   },
   {
    "duration": 3,
    "start_time": "2024-08-03T13:15:12.797Z"
   },
   {
    "duration": 15,
    "start_time": "2024-08-03T13:15:14.090Z"
   },
   {
    "duration": 3,
    "start_time": "2024-08-03T13:15:39.118Z"
   },
   {
    "duration": 9,
    "start_time": "2024-08-03T13:15:39.690Z"
   },
   {
    "duration": 2,
    "start_time": "2024-08-03T13:15:40.820Z"
   },
   {
    "duration": 6,
    "start_time": "2024-08-03T13:15:55.463Z"
   },
   {
    "duration": 3,
    "start_time": "2024-08-03T13:16:27.233Z"
   },
   {
    "duration": 73,
    "start_time": "2024-08-03T13:16:43.585Z"
   },
   {
    "duration": 15,
    "start_time": "2024-08-03T13:17:07.749Z"
   },
   {
    "duration": 7,
    "start_time": "2024-08-03T13:17:10.300Z"
   },
   {
    "duration": 36,
    "start_time": "2024-08-03T13:17:14.391Z"
   },
   {
    "duration": 28,
    "start_time": "2024-08-03T13:17:15.373Z"
   },
   {
    "duration": 4,
    "start_time": "2024-08-03T13:17:26.479Z"
   },
   {
    "duration": 7,
    "start_time": "2024-08-03T13:17:31.651Z"
   },
   {
    "duration": 6,
    "start_time": "2024-08-03T13:17:47.496Z"
   },
   {
    "duration": 3,
    "start_time": "2024-08-03T13:17:51.307Z"
   },
   {
    "duration": 41,
    "start_time": "2024-08-03T13:17:54.646Z"
   },
   {
    "duration": 4,
    "start_time": "2024-08-03T13:18:56.596Z"
   },
   {
    "duration": 8,
    "start_time": "2024-08-03T13:18:57.216Z"
   },
   {
    "duration": 5,
    "start_time": "2024-08-03T13:18:57.578Z"
   },
   {
    "duration": 2,
    "start_time": "2024-08-03T13:18:57.939Z"
   },
   {
    "duration": 10,
    "start_time": "2024-08-03T13:18:58.674Z"
   },
   {
    "duration": 6,
    "start_time": "2024-08-03T13:18:59.002Z"
   },
   {
    "duration": 4,
    "start_time": "2024-08-03T13:19:00.196Z"
   },
   {
    "duration": 17,
    "start_time": "2024-08-03T13:19:02.259Z"
   },
   {
    "duration": 3,
    "start_time": "2024-08-03T13:19:04.712Z"
   },
   {
    "duration": 11,
    "start_time": "2024-08-03T13:19:04.925Z"
   },
   {
    "duration": 5,
    "start_time": "2024-08-03T13:19:05.156Z"
   },
   {
    "duration": 3,
    "start_time": "2024-08-03T13:19:05.366Z"
   },
   {
    "duration": 21,
    "start_time": "2024-08-03T13:19:05.661Z"
   },
   {
    "duration": 6,
    "start_time": "2024-08-03T13:19:06.904Z"
   },
   {
    "duration": 28,
    "start_time": "2024-08-03T13:19:08.595Z"
   },
   {
    "duration": 25,
    "start_time": "2024-08-03T13:19:08.952Z"
   },
   {
    "duration": 6,
    "start_time": "2024-08-03T13:19:09.523Z"
   },
   {
    "duration": 5,
    "start_time": "2024-08-03T13:19:09.882Z"
   },
   {
    "duration": 4,
    "start_time": "2024-08-03T13:19:11.781Z"
   },
   {
    "duration": 3,
    "start_time": "2024-08-03T13:20:03.327Z"
   },
   {
    "duration": 6803,
    "start_time": "2024-08-03T13:20:04.554Z"
   },
   {
    "duration": 3,
    "start_time": "2024-08-03T13:20:13.582Z"
   },
   {
    "duration": 4,
    "start_time": "2024-08-03T13:20:13.876Z"
   },
   {
    "duration": 3,
    "start_time": "2024-08-03T13:20:14.186Z"
   },
   {
    "duration": 2290,
    "start_time": "2024-08-03T13:20:15.103Z"
   },
   {
    "duration": 10,
    "start_time": "2024-08-03T13:20:25.123Z"
   },
   {
    "duration": 5,
    "start_time": "2024-08-03T13:20:26.921Z"
   },
   {
    "duration": 5,
    "start_time": "2024-08-03T13:20:27.247Z"
   },
   {
    "duration": 213298,
    "start_time": "2024-08-03T13:20:30.649Z"
   },
   {
    "duration": 13081,
    "start_time": "2024-08-03T13:33:31.601Z"
   },
   {
    "duration": 12804,
    "start_time": "2024-08-03T13:34:01.644Z"
   },
   {
    "duration": 2145,
    "start_time": "2024-08-03T13:34:57.944Z"
   },
   {
    "duration": 4,
    "start_time": "2024-08-03T13:35:00.091Z"
   },
   {
    "duration": 132,
    "start_time": "2024-08-03T13:35:00.097Z"
   },
   {
    "duration": 146,
    "start_time": "2024-08-03T13:35:00.231Z"
   },
   {
    "duration": 126,
    "start_time": "2024-08-03T13:35:00.379Z"
   },
   {
    "duration": 91,
    "start_time": "2024-08-03T13:35:00.506Z"
   },
   {
    "duration": 53,
    "start_time": "2024-08-03T13:35:00.599Z"
   },
   {
    "duration": 72,
    "start_time": "2024-08-03T13:35:00.654Z"
   },
   {
    "duration": 32,
    "start_time": "2024-08-03T13:35:00.728Z"
   },
   {
    "duration": 49,
    "start_time": "2024-08-03T13:35:00.763Z"
   },
   {
    "duration": 60,
    "start_time": "2024-08-03T13:35:00.814Z"
   },
   {
    "duration": 148,
    "start_time": "2024-08-03T13:35:00.876Z"
   },
   {
    "duration": 30,
    "start_time": "2024-08-03T13:35:01.025Z"
   },
   {
    "duration": 42,
    "start_time": "2024-08-03T13:35:01.056Z"
   },
   {
    "duration": 50,
    "start_time": "2024-08-03T13:35:01.100Z"
   },
   {
    "duration": 139,
    "start_time": "2024-08-03T13:35:01.152Z"
   },
   {
    "duration": 85,
    "start_time": "2024-08-03T13:35:01.292Z"
   },
   {
    "duration": 49,
    "start_time": "2024-08-03T13:35:01.378Z"
   },
   {
    "duration": 53,
    "start_time": "2024-08-03T13:35:01.429Z"
   },
   {
    "duration": 82,
    "start_time": "2024-08-03T13:35:01.483Z"
   },
   {
    "duration": 62,
    "start_time": "2024-08-03T13:35:01.567Z"
   },
   {
    "duration": 45,
    "start_time": "2024-08-03T13:35:01.631Z"
   },
   {
    "duration": 264,
    "start_time": "2024-08-03T13:35:01.678Z"
   },
   {
    "duration": 135,
    "start_time": "2024-08-03T13:35:01.944Z"
   },
   {
    "duration": 36,
    "start_time": "2024-08-03T13:35:02.081Z"
   },
   {
    "duration": 57,
    "start_time": "2024-08-03T13:35:02.119Z"
   },
   {
    "duration": 28,
    "start_time": "2024-08-03T13:35:02.178Z"
   },
   {
    "duration": 28,
    "start_time": "2024-08-03T13:35:02.211Z"
   },
   {
    "duration": 326,
    "start_time": "2024-08-03T13:35:02.241Z"
   },
   {
    "duration": 231,
    "start_time": "2024-08-03T13:35:02.569Z"
   },
   {
    "duration": 624,
    "start_time": "2024-08-03T13:35:02.802Z"
   },
   {
    "duration": 76,
    "start_time": "2024-08-03T13:35:03.427Z"
   },
   {
    "duration": 0,
    "start_time": "2024-08-03T13:35:03.505Z"
   },
   {
    "duration": 0,
    "start_time": "2024-08-03T13:35:03.506Z"
   },
   {
    "duration": 0,
    "start_time": "2024-08-03T13:35:03.507Z"
   },
   {
    "duration": 0,
    "start_time": "2024-08-03T13:35:03.508Z"
   },
   {
    "duration": 0,
    "start_time": "2024-08-03T13:35:03.509Z"
   },
   {
    "duration": 0,
    "start_time": "2024-08-03T13:35:03.510Z"
   },
   {
    "duration": 0,
    "start_time": "2024-08-03T13:35:03.511Z"
   },
   {
    "duration": 0,
    "start_time": "2024-08-03T13:35:03.512Z"
   },
   {
    "duration": 0,
    "start_time": "2024-08-03T13:35:03.513Z"
   },
   {
    "duration": 0,
    "start_time": "2024-08-03T13:35:03.514Z"
   },
   {
    "duration": 0,
    "start_time": "2024-08-03T13:35:03.515Z"
   },
   {
    "duration": 0,
    "start_time": "2024-08-03T13:35:03.516Z"
   },
   {
    "duration": 0,
    "start_time": "2024-08-03T13:35:03.517Z"
   },
   {
    "duration": 0,
    "start_time": "2024-08-03T13:35:03.518Z"
   },
   {
    "duration": 0,
    "start_time": "2024-08-03T13:35:03.519Z"
   },
   {
    "duration": 0,
    "start_time": "2024-08-03T13:35:03.520Z"
   },
   {
    "duration": 0,
    "start_time": "2024-08-03T13:35:03.521Z"
   },
   {
    "duration": 0,
    "start_time": "2024-08-03T13:35:03.522Z"
   },
   {
    "duration": 0,
    "start_time": "2024-08-03T13:35:03.524Z"
   },
   {
    "duration": 0,
    "start_time": "2024-08-03T13:35:03.526Z"
   },
   {
    "duration": 0,
    "start_time": "2024-08-03T13:35:03.527Z"
   },
   {
    "duration": 0,
    "start_time": "2024-08-03T13:35:03.528Z"
   },
   {
    "duration": 0,
    "start_time": "2024-08-03T13:35:03.530Z"
   },
   {
    "duration": 0,
    "start_time": "2024-08-03T13:35:03.531Z"
   },
   {
    "duration": 0,
    "start_time": "2024-08-03T13:35:03.533Z"
   },
   {
    "duration": 0,
    "start_time": "2024-08-03T13:35:03.534Z"
   },
   {
    "duration": 0,
    "start_time": "2024-08-03T13:35:03.671Z"
   },
   {
    "duration": 0,
    "start_time": "2024-08-03T13:35:03.673Z"
   },
   {
    "duration": 0,
    "start_time": "2024-08-03T13:35:03.674Z"
   },
   {
    "duration": 0,
    "start_time": "2024-08-03T13:35:03.675Z"
   },
   {
    "duration": 0,
    "start_time": "2024-08-03T13:35:03.676Z"
   },
   {
    "duration": 0,
    "start_time": "2024-08-03T13:35:03.678Z"
   },
   {
    "duration": 0,
    "start_time": "2024-08-03T13:35:03.679Z"
   },
   {
    "duration": 0,
    "start_time": "2024-08-03T13:35:03.680Z"
   },
   {
    "duration": 0,
    "start_time": "2024-08-03T13:35:03.681Z"
   },
   {
    "duration": 0,
    "start_time": "2024-08-03T13:35:03.683Z"
   },
   {
    "duration": 0,
    "start_time": "2024-08-03T13:35:03.684Z"
   },
   {
    "duration": 0,
    "start_time": "2024-08-03T13:35:03.685Z"
   },
   {
    "duration": 0,
    "start_time": "2024-08-03T13:35:03.687Z"
   },
   {
    "duration": 0,
    "start_time": "2024-08-03T13:35:03.688Z"
   },
   {
    "duration": 0,
    "start_time": "2024-08-03T13:35:03.689Z"
   },
   {
    "duration": 0,
    "start_time": "2024-08-03T13:35:03.690Z"
   },
   {
    "duration": 0,
    "start_time": "2024-08-03T13:35:03.692Z"
   },
   {
    "duration": 0,
    "start_time": "2024-08-03T13:35:03.693Z"
   },
   {
    "duration": 0,
    "start_time": "2024-08-03T13:35:03.694Z"
   },
   {
    "duration": 0,
    "start_time": "2024-08-03T13:35:03.696Z"
   },
   {
    "duration": 0,
    "start_time": "2024-08-03T13:35:03.697Z"
   },
   {
    "duration": 0,
    "start_time": "2024-08-03T13:35:03.698Z"
   },
   {
    "duration": 0,
    "start_time": "2024-08-03T13:35:03.700Z"
   },
   {
    "duration": 1,
    "start_time": "2024-08-03T13:35:03.701Z"
   },
   {
    "duration": 0,
    "start_time": "2024-08-03T13:35:03.703Z"
   },
   {
    "duration": 1,
    "start_time": "2024-08-03T13:35:03.745Z"
   },
   {
    "duration": 4375,
    "start_time": "2024-08-03T13:35:10.294Z"
   },
   {
    "duration": 2367,
    "start_time": "2024-08-03T13:36:45.201Z"
   },
   {
    "duration": 4320,
    "start_time": "2024-08-03T13:36:58.511Z"
   },
   {
    "duration": 1689,
    "start_time": "2024-08-03T13:39:11.752Z"
   },
   {
    "duration": 2652,
    "start_time": "2024-08-03T13:39:40.282Z"
   },
   {
    "duration": 3887,
    "start_time": "2024-08-03T13:40:27.851Z"
   },
   {
    "duration": 4378,
    "start_time": "2024-08-03T13:42:05.107Z"
   },
   {
    "duration": 4214,
    "start_time": "2024-08-03T13:42:20.699Z"
   },
   {
    "duration": 4549,
    "start_time": "2024-08-03T13:42:33.154Z"
   },
   {
    "duration": 4220,
    "start_time": "2024-08-03T13:44:19.975Z"
   },
   {
    "duration": 4550,
    "start_time": "2024-08-03T13:44:25.634Z"
   },
   {
    "duration": 4908,
    "start_time": "2024-08-03T13:44:55.715Z"
   },
   {
    "duration": 4,
    "start_time": "2024-08-03T13:45:38.923Z"
   },
   {
    "duration": 3,
    "start_time": "2024-08-03T13:46:01.613Z"
   },
   {
    "duration": 3,
    "start_time": "2024-08-03T13:46:03.167Z"
   },
   {
    "duration": 4837,
    "start_time": "2024-08-03T13:46:22.744Z"
   },
   {
    "duration": 5000,
    "start_time": "2024-08-03T13:49:26.893Z"
   },
   {
    "duration": 4860,
    "start_time": "2024-08-03T13:49:43.642Z"
   },
   {
    "duration": 4998,
    "start_time": "2024-08-03T13:52:31.161Z"
   },
   {
    "duration": 4818,
    "start_time": "2024-08-03T13:52:41.452Z"
   },
   {
    "duration": 4902,
    "start_time": "2024-08-03T13:52:53.525Z"
   },
   {
    "duration": 4819,
    "start_time": "2024-08-03T13:53:08.494Z"
   },
   {
    "duration": 4772,
    "start_time": "2024-08-03T13:53:45.174Z"
   },
   {
    "duration": 4957,
    "start_time": "2024-08-03T13:53:59.019Z"
   },
   {
    "duration": 4668,
    "start_time": "2024-08-03T13:54:10.783Z"
   },
   {
    "duration": 897,
    "start_time": "2024-08-03T14:22:02.773Z"
   },
   {
    "duration": 142,
    "start_time": "2024-08-03T14:22:06.439Z"
   },
   {
    "duration": 138,
    "start_time": "2024-08-03T14:22:07.420Z"
   },
   {
    "duration": 133,
    "start_time": "2024-08-03T14:22:08.860Z"
   },
   {
    "duration": 123,
    "start_time": "2024-08-03T14:22:09.776Z"
   },
   {
    "duration": 2272,
    "start_time": "2024-08-03T14:35:46.225Z"
   },
   {
    "duration": 5,
    "start_time": "2024-08-03T14:35:48.499Z"
   },
   {
    "duration": 9,
    "start_time": "2024-08-03T14:35:48.505Z"
   },
   {
    "duration": 9,
    "start_time": "2024-08-03T14:35:48.516Z"
   },
   {
    "duration": 3,
    "start_time": "2024-08-03T14:35:48.527Z"
   },
   {
    "duration": 33,
    "start_time": "2024-08-03T14:35:48.532Z"
   },
   {
    "duration": 6,
    "start_time": "2024-08-03T14:35:48.567Z"
   },
   {
    "duration": 17,
    "start_time": "2024-08-03T14:35:48.575Z"
   },
   {
    "duration": 16,
    "start_time": "2024-08-03T14:35:48.594Z"
   },
   {
    "duration": 41,
    "start_time": "2024-08-03T14:35:48.613Z"
   },
   {
    "duration": 18,
    "start_time": "2024-08-03T14:35:48.656Z"
   },
   {
    "duration": 14,
    "start_time": "2024-08-03T14:35:48.676Z"
   },
   {
    "duration": 16,
    "start_time": "2024-08-03T14:35:48.692Z"
   },
   {
    "duration": 6,
    "start_time": "2024-08-03T14:35:48.710Z"
   },
   {
    "duration": 9,
    "start_time": "2024-08-03T14:35:48.717Z"
   },
   {
    "duration": 9,
    "start_time": "2024-08-03T14:35:48.728Z"
   },
   {
    "duration": 13,
    "start_time": "2024-08-03T14:35:48.739Z"
   },
   {
    "duration": 11,
    "start_time": "2024-08-03T14:35:48.754Z"
   },
   {
    "duration": 6,
    "start_time": "2024-08-03T14:35:48.767Z"
   },
   {
    "duration": 29,
    "start_time": "2024-08-03T14:35:48.775Z"
   },
   {
    "duration": 7,
    "start_time": "2024-08-03T14:35:48.806Z"
   },
   {
    "duration": 8,
    "start_time": "2024-08-03T14:35:48.815Z"
   },
   {
    "duration": 5,
    "start_time": "2024-08-03T14:35:48.825Z"
   },
   {
    "duration": 14,
    "start_time": "2024-08-03T14:35:48.832Z"
   },
   {
    "duration": 6,
    "start_time": "2024-08-03T14:35:48.848Z"
   },
   {
    "duration": 6,
    "start_time": "2024-08-03T14:35:48.855Z"
   },
   {
    "duration": 15,
    "start_time": "2024-08-03T14:35:48.863Z"
   },
   {
    "duration": 8,
    "start_time": "2024-08-03T14:35:48.883Z"
   },
   {
    "duration": 388,
    "start_time": "2024-08-03T14:35:48.892Z"
   },
   {
    "duration": 495,
    "start_time": "2024-08-03T14:35:49.282Z"
   },
   {
    "duration": 894,
    "start_time": "2024-08-03T14:35:49.779Z"
   },
   {
    "duration": 3,
    "start_time": "2024-08-03T14:35:50.675Z"
   },
   {
    "duration": 22,
    "start_time": "2024-08-03T14:35:50.680Z"
   },
   {
    "duration": 21,
    "start_time": "2024-08-03T14:35:50.704Z"
   },
   {
    "duration": 4514,
    "start_time": "2024-08-03T14:35:50.727Z"
   },
   {
    "duration": 1011,
    "start_time": "2024-08-03T14:35:55.242Z"
   },
   {
    "duration": 146,
    "start_time": "2024-08-03T14:35:56.255Z"
   },
   {
    "duration": 152,
    "start_time": "2024-08-03T14:35:56.403Z"
   },
   {
    "duration": 134,
    "start_time": "2024-08-03T14:35:56.556Z"
   },
   {
    "duration": 123,
    "start_time": "2024-08-03T14:35:56.692Z"
   },
   {
    "duration": 3,
    "start_time": "2024-08-03T14:35:56.816Z"
   },
   {
    "duration": 10,
    "start_time": "2024-08-03T14:35:56.820Z"
   },
   {
    "duration": 4,
    "start_time": "2024-08-03T14:35:56.832Z"
   },
   {
    "duration": 2,
    "start_time": "2024-08-03T14:35:56.846Z"
   },
   {
    "duration": 10,
    "start_time": "2024-08-03T14:35:56.850Z"
   },
   {
    "duration": 26,
    "start_time": "2024-08-03T14:35:56.861Z"
   },
   {
    "duration": 8,
    "start_time": "2024-08-03T14:35:56.889Z"
   },
   {
    "duration": 6,
    "start_time": "2024-08-03T14:35:56.899Z"
   },
   {
    "duration": 6,
    "start_time": "2024-08-03T14:35:56.906Z"
   },
   {
    "duration": 5,
    "start_time": "2024-08-03T14:35:56.914Z"
   },
   {
    "duration": 57,
    "start_time": "2024-08-03T14:35:56.920Z"
   },
   {
    "duration": 0,
    "start_time": "2024-08-03T14:35:56.979Z"
   },
   {
    "duration": 0,
    "start_time": "2024-08-03T14:35:56.980Z"
   },
   {
    "duration": 0,
    "start_time": "2024-08-03T14:35:56.981Z"
   },
   {
    "duration": 0,
    "start_time": "2024-08-03T14:35:56.982Z"
   },
   {
    "duration": 0,
    "start_time": "2024-08-03T14:35:56.983Z"
   },
   {
    "duration": 0,
    "start_time": "2024-08-03T14:35:56.984Z"
   },
   {
    "duration": 0,
    "start_time": "2024-08-03T14:35:56.985Z"
   },
   {
    "duration": 0,
    "start_time": "2024-08-03T14:35:56.986Z"
   },
   {
    "duration": 0,
    "start_time": "2024-08-03T14:35:56.987Z"
   },
   {
    "duration": 0,
    "start_time": "2024-08-03T14:35:56.988Z"
   },
   {
    "duration": 0,
    "start_time": "2024-08-03T14:35:56.989Z"
   },
   {
    "duration": 0,
    "start_time": "2024-08-03T14:35:56.990Z"
   },
   {
    "duration": 0,
    "start_time": "2024-08-03T14:35:56.991Z"
   },
   {
    "duration": 0,
    "start_time": "2024-08-03T14:35:56.992Z"
   },
   {
    "duration": 0,
    "start_time": "2024-08-03T14:35:56.993Z"
   },
   {
    "duration": 0,
    "start_time": "2024-08-03T14:35:56.994Z"
   },
   {
    "duration": 0,
    "start_time": "2024-08-03T14:35:56.996Z"
   },
   {
    "duration": 0,
    "start_time": "2024-08-03T14:35:56.996Z"
   },
   {
    "duration": 0,
    "start_time": "2024-08-03T14:35:56.997Z"
   },
   {
    "duration": 0,
    "start_time": "2024-08-03T14:35:56.998Z"
   },
   {
    "duration": 0,
    "start_time": "2024-08-03T14:35:56.999Z"
   },
   {
    "duration": 0,
    "start_time": "2024-08-03T14:35:57.000Z"
   },
   {
    "duration": 0,
    "start_time": "2024-08-03T14:35:57.001Z"
   },
   {
    "duration": 0,
    "start_time": "2024-08-03T14:35:57.002Z"
   },
   {
    "duration": 0,
    "start_time": "2024-08-03T14:35:57.003Z"
   },
   {
    "duration": 0,
    "start_time": "2024-08-03T14:35:57.004Z"
   },
   {
    "duration": 0,
    "start_time": "2024-08-03T14:35:57.005Z"
   },
   {
    "duration": 0,
    "start_time": "2024-08-03T14:35:57.006Z"
   },
   {
    "duration": 0,
    "start_time": "2024-08-03T14:35:57.007Z"
   },
   {
    "duration": 0,
    "start_time": "2024-08-03T14:35:57.008Z"
   },
   {
    "duration": 0,
    "start_time": "2024-08-03T14:35:57.009Z"
   },
   {
    "duration": 0,
    "start_time": "2024-08-03T14:35:57.010Z"
   },
   {
    "duration": 0,
    "start_time": "2024-08-03T14:35:57.011Z"
   },
   {
    "duration": 6,
    "start_time": "2024-08-03T14:36:07.036Z"
   },
   {
    "duration": 6,
    "start_time": "2024-08-03T14:36:10.016Z"
   },
   {
    "duration": 7,
    "start_time": "2024-08-03T14:36:10.589Z"
   },
   {
    "duration": 5,
    "start_time": "2024-08-03T14:36:10.819Z"
   },
   {
    "duration": 2,
    "start_time": "2024-08-03T14:36:12.096Z"
   },
   {
    "duration": 4,
    "start_time": "2024-08-03T14:36:12.636Z"
   },
   {
    "duration": 5,
    "start_time": "2024-08-03T14:36:12.898Z"
   },
   {
    "duration": 3,
    "start_time": "2024-08-03T14:36:18.681Z"
   },
   {
    "duration": 15,
    "start_time": "2024-08-03T14:36:19.022Z"
   },
   {
    "duration": 2,
    "start_time": "2024-08-03T14:36:19.758Z"
   },
   {
    "duration": 8,
    "start_time": "2024-08-03T14:36:20.036Z"
   },
   {
    "duration": 3,
    "start_time": "2024-08-03T14:36:21.214Z"
   },
   {
    "duration": 2,
    "start_time": "2024-08-03T14:36:21.427Z"
   },
   {
    "duration": 15,
    "start_time": "2024-08-03T14:36:21.705Z"
   },
   {
    "duration": 5,
    "start_time": "2024-08-03T14:36:21.934Z"
   },
   {
    "duration": 23,
    "start_time": "2024-08-03T14:36:23.715Z"
   },
   {
    "duration": 22,
    "start_time": "2024-08-03T14:36:24.158Z"
   },
   {
    "duration": 4,
    "start_time": "2024-08-03T14:36:24.501Z"
   },
   {
    "duration": 4,
    "start_time": "2024-08-03T14:36:25.810Z"
   },
   {
    "duration": 4,
    "start_time": "2024-08-03T14:36:26.089Z"
   },
   {
    "duration": 9,
    "start_time": "2024-08-03T14:36:32.305Z"
   },
   {
    "duration": 5,
    "start_time": "2024-08-03T14:36:33.384Z"
   },
   {
    "duration": 3,
    "start_time": "2024-08-03T14:36:43.493Z"
   },
   {
    "duration": 5682,
    "start_time": "2024-08-03T14:36:55.188Z"
   },
   {
    "duration": 3,
    "start_time": "2024-08-03T14:37:07.148Z"
   },
   {
    "duration": 4,
    "start_time": "2024-08-03T14:37:07.443Z"
   },
   {
    "duration": 4,
    "start_time": "2024-08-03T14:37:07.721Z"
   },
   {
    "duration": 1089,
    "start_time": "2024-08-03T14:37:08.017Z"
   },
   {
    "duration": 6,
    "start_time": "2024-08-03T14:37:11.337Z"
   },
   {
    "duration": 4,
    "start_time": "2024-08-03T14:37:13.152Z"
   },
   {
    "duration": 4,
    "start_time": "2024-08-03T14:37:13.380Z"
   },
   {
    "duration": 135680,
    "start_time": "2024-08-03T14:37:15.227Z"
   },
   {
    "duration": 57,
    "start_time": "2024-08-03T14:41:15.753Z"
   },
   {
    "duration": 5,
    "start_time": "2024-08-03T14:41:41.656Z"
   },
   {
    "duration": 5,
    "start_time": "2024-08-03T14:41:44.265Z"
   },
   {
    "duration": 8,
    "start_time": "2024-08-03T14:41:44.863Z"
   },
   {
    "duration": 6,
    "start_time": "2024-08-03T14:41:45.141Z"
   },
   {
    "duration": 2,
    "start_time": "2024-08-03T14:41:45.386Z"
   },
   {
    "duration": 4,
    "start_time": "2024-08-03T14:41:45.827Z"
   },
   {
    "duration": 5,
    "start_time": "2024-08-03T14:41:46.106Z"
   },
   {
    "duration": 3,
    "start_time": "2024-08-03T14:41:46.776Z"
   },
   {
    "duration": 14,
    "start_time": "2024-08-03T14:41:47.186Z"
   },
   {
    "duration": 3,
    "start_time": "2024-08-03T14:41:47.872Z"
   },
   {
    "duration": 9,
    "start_time": "2024-08-03T14:41:48.152Z"
   },
   {
    "duration": 3,
    "start_time": "2024-08-03T14:41:48.431Z"
   },
   {
    "duration": 3,
    "start_time": "2024-08-03T14:41:49.756Z"
   },
   {
    "duration": 20,
    "start_time": "2024-08-03T14:41:49.984Z"
   },
   {
    "duration": 6,
    "start_time": "2024-08-03T14:41:50.197Z"
   },
   {
    "duration": 24,
    "start_time": "2024-08-03T14:41:52.001Z"
   },
   {
    "duration": 29,
    "start_time": "2024-08-03T14:41:52.292Z"
   },
   {
    "duration": 4,
    "start_time": "2024-08-03T14:41:53.535Z"
   },
   {
    "duration": 5,
    "start_time": "2024-08-03T14:41:53.845Z"
   },
   {
    "duration": 3,
    "start_time": "2024-08-03T14:41:55.418Z"
   },
   {
    "duration": 3,
    "start_time": "2024-08-03T14:42:02.418Z"
   },
   {
    "duration": 5656,
    "start_time": "2024-08-03T14:42:04.594Z"
   },
   {
    "duration": 205431,
    "start_time": "2024-08-03T14:42:15.124Z"
   },
   {
    "duration": 5,
    "start_time": "2024-08-03T14:47:36.765Z"
   },
   {
    "duration": 5,
    "start_time": "2024-08-03T14:47:38.891Z"
   },
   {
    "duration": 8,
    "start_time": "2024-08-03T14:47:39.334Z"
   },
   {
    "duration": 6,
    "start_time": "2024-08-03T14:47:39.481Z"
   },
   {
    "duration": 138,
    "start_time": "2024-08-03T14:47:39.661Z"
   },
   {
    "duration": 4,
    "start_time": "2024-08-03T14:47:39.973Z"
   },
   {
    "duration": 4,
    "start_time": "2024-08-03T14:47:40.136Z"
   },
   {
    "duration": 3,
    "start_time": "2024-08-03T14:47:40.462Z"
   },
   {
    "duration": 17,
    "start_time": "2024-08-03T14:47:40.626Z"
   },
   {
    "duration": 2,
    "start_time": "2024-08-03T14:47:40.986Z"
   },
   {
    "duration": 9,
    "start_time": "2024-08-03T14:47:41.150Z"
   },
   {
    "duration": 3,
    "start_time": "2024-08-03T14:47:41.330Z"
   },
   {
    "duration": 3,
    "start_time": "2024-08-03T14:47:41.511Z"
   },
   {
    "duration": 15,
    "start_time": "2024-08-03T14:47:41.690Z"
   },
   {
    "duration": 6,
    "start_time": "2024-08-03T14:47:41.871Z"
   },
   {
    "duration": 22,
    "start_time": "2024-08-03T14:47:42.836Z"
   },
   {
    "duration": 21,
    "start_time": "2024-08-03T14:47:43.098Z"
   },
   {
    "duration": 4,
    "start_time": "2024-08-03T14:47:43.392Z"
   },
   {
    "duration": 4,
    "start_time": "2024-08-03T14:47:43.671Z"
   },
   {
    "duration": 4,
    "start_time": "2024-08-03T14:47:44.013Z"
   },
   {
    "duration": 208251,
    "start_time": "2024-08-03T14:47:50.819Z"
   },
   {
    "duration": 5,
    "start_time": "2024-08-03T14:59:11.159Z"
   },
   {
    "duration": 4,
    "start_time": "2024-08-03T14:59:17.602Z"
   },
   {
    "duration": 9,
    "start_time": "2024-08-03T14:59:17.978Z"
   },
   {
    "duration": 5,
    "start_time": "2024-08-03T14:59:18.157Z"
   },
   {
    "duration": 3,
    "start_time": "2024-08-03T14:59:18.305Z"
   },
   {
    "duration": 4,
    "start_time": "2024-08-03T14:59:19.661Z"
   },
   {
    "duration": 5,
    "start_time": "2024-08-03T14:59:19.809Z"
   },
   {
    "duration": 3,
    "start_time": "2024-08-03T14:59:27.773Z"
   },
   {
    "duration": 16,
    "start_time": "2024-08-03T14:59:28.051Z"
   },
   {
    "duration": 2,
    "start_time": "2024-08-03T14:59:28.558Z"
   },
   {
    "duration": 9,
    "start_time": "2024-08-03T14:59:28.722Z"
   },
   {
    "duration": 3,
    "start_time": "2024-08-03T14:59:28.902Z"
   },
   {
    "duration": 3,
    "start_time": "2024-08-03T14:59:29.115Z"
   },
   {
    "duration": 15,
    "start_time": "2024-08-03T14:59:29.311Z"
   },
   {
    "duration": 7,
    "start_time": "2024-08-03T14:59:29.474Z"
   },
   {
    "duration": 23,
    "start_time": "2024-08-03T14:59:29.980Z"
   },
   {
    "duration": 25,
    "start_time": "2024-08-03T14:59:30.210Z"
   },
   {
    "duration": 89,
    "start_time": "2024-08-03T14:59:30.406Z"
   },
   {
    "duration": 175,
    "start_time": "2024-08-03T14:59:30.717Z"
   },
   {
    "duration": 3,
    "start_time": "2024-08-03T14:59:31.794Z"
   },
   {
    "duration": 3,
    "start_time": "2024-08-03T14:59:43.200Z"
   },
   {
    "duration": 207061,
    "start_time": "2024-08-03T14:59:47.195Z"
   },
   {
    "duration": 4,
    "start_time": "2024-08-03T15:03:41.038Z"
   },
   {
    "duration": 215507,
    "start_time": "2024-08-03T15:03:46.566Z"
   },
   {
    "duration": 4,
    "start_time": "2024-08-03T15:08:35.612Z"
   },
   {
    "duration": 206782,
    "start_time": "2024-08-03T15:08:39.965Z"
   },
   {
    "duration": 3,
    "start_time": "2024-08-03T15:13:29.190Z"
   },
   {
    "duration": 3,
    "start_time": "2024-08-03T15:13:55.613Z"
   },
   {
    "duration": 208280,
    "start_time": "2024-08-03T15:13:59.784Z"
   },
   {
    "duration": 6,
    "start_time": "2024-08-03T15:18:10.900Z"
   },
   {
    "duration": 208350,
    "start_time": "2024-08-03T15:18:13.321Z"
   },
   {
    "duration": 2150,
    "start_time": "2024-08-03T15:22:02.821Z"
   },
   {
    "duration": 4,
    "start_time": "2024-08-03T15:22:04.973Z"
   },
   {
    "duration": 14,
    "start_time": "2024-08-03T15:22:04.979Z"
   },
   {
    "duration": 4,
    "start_time": "2024-08-03T15:22:04.995Z"
   },
   {
    "duration": 5,
    "start_time": "2024-08-03T15:22:05.000Z"
   },
   {
    "duration": 35,
    "start_time": "2024-08-03T15:22:05.007Z"
   },
   {
    "duration": 6,
    "start_time": "2024-08-03T15:22:05.044Z"
   },
   {
    "duration": 52,
    "start_time": "2024-08-03T15:22:05.052Z"
   },
   {
    "duration": 28,
    "start_time": "2024-08-03T15:22:05.106Z"
   },
   {
    "duration": 39,
    "start_time": "2024-08-03T15:22:05.136Z"
   },
   {
    "duration": 7,
    "start_time": "2024-08-03T15:22:05.177Z"
   },
   {
    "duration": 17,
    "start_time": "2024-08-03T15:22:05.185Z"
   },
   {
    "duration": 9,
    "start_time": "2024-08-03T15:22:05.204Z"
   },
   {
    "duration": 9,
    "start_time": "2024-08-03T15:22:05.215Z"
   },
   {
    "duration": 14,
    "start_time": "2024-08-03T15:22:05.226Z"
   },
   {
    "duration": 20,
    "start_time": "2024-08-03T15:22:05.242Z"
   },
   {
    "duration": 10,
    "start_time": "2024-08-03T15:22:05.264Z"
   },
   {
    "duration": 8,
    "start_time": "2024-08-03T15:22:05.276Z"
   },
   {
    "duration": 15,
    "start_time": "2024-08-03T15:22:05.286Z"
   },
   {
    "duration": 14,
    "start_time": "2024-08-03T15:22:05.302Z"
   },
   {
    "duration": 8,
    "start_time": "2024-08-03T15:22:05.317Z"
   },
   {
    "duration": 22,
    "start_time": "2024-08-03T15:22:05.327Z"
   },
   {
    "duration": 31,
    "start_time": "2024-08-03T15:22:05.351Z"
   },
   {
    "duration": 43,
    "start_time": "2024-08-03T15:22:05.383Z"
   },
   {
    "duration": 21,
    "start_time": "2024-08-03T15:22:05.427Z"
   },
   {
    "duration": 15,
    "start_time": "2024-08-03T15:22:05.449Z"
   },
   {
    "duration": 38,
    "start_time": "2024-08-03T15:22:05.466Z"
   },
   {
    "duration": 44,
    "start_time": "2024-08-03T15:22:05.508Z"
   },
   {
    "duration": 317,
    "start_time": "2024-08-03T15:22:05.553Z"
   },
   {
    "duration": 236,
    "start_time": "2024-08-03T15:22:05.871Z"
   },
   {
    "duration": 462,
    "start_time": "2024-08-03T15:22:06.108Z"
   },
   {
    "duration": 3,
    "start_time": "2024-08-03T15:22:06.572Z"
   },
   {
    "duration": 23,
    "start_time": "2024-08-03T15:22:06.576Z"
   },
   {
    "duration": 21,
    "start_time": "2024-08-03T15:22:06.601Z"
   },
   {
    "duration": 5307,
    "start_time": "2024-08-03T15:22:06.623Z"
   },
   {
    "duration": 1025,
    "start_time": "2024-08-03T15:22:11.931Z"
   },
   {
    "duration": 124,
    "start_time": "2024-08-03T15:22:12.958Z"
   },
   {
    "duration": 151,
    "start_time": "2024-08-03T15:22:13.083Z"
   },
   {
    "duration": 160,
    "start_time": "2024-08-03T15:22:13.236Z"
   },
   {
    "duration": 132,
    "start_time": "2024-08-03T15:22:13.398Z"
   },
   {
    "duration": 3,
    "start_time": "2024-08-03T15:22:13.531Z"
   },
   {
    "duration": 32,
    "start_time": "2024-08-03T15:22:13.535Z"
   },
   {
    "duration": 6,
    "start_time": "2024-08-03T15:22:13.568Z"
   },
   {
    "duration": 13,
    "start_time": "2024-08-03T15:22:13.576Z"
   },
   {
    "duration": 44,
    "start_time": "2024-08-03T15:22:13.590Z"
   },
   {
    "duration": 25,
    "start_time": "2024-08-03T15:22:13.635Z"
   },
   {
    "duration": 19,
    "start_time": "2024-08-03T15:22:13.661Z"
   },
   {
    "duration": 10,
    "start_time": "2024-08-03T15:22:13.681Z"
   },
   {
    "duration": 32,
    "start_time": "2024-08-03T15:22:13.693Z"
   },
   {
    "duration": 6,
    "start_time": "2024-08-03T15:22:13.727Z"
   },
   {
    "duration": 59,
    "start_time": "2024-08-03T15:22:13.734Z"
   },
   {
    "duration": 0,
    "start_time": "2024-08-03T15:22:13.795Z"
   },
   {
    "duration": 0,
    "start_time": "2024-08-03T15:22:13.796Z"
   },
   {
    "duration": 0,
    "start_time": "2024-08-03T15:22:13.798Z"
   },
   {
    "duration": 0,
    "start_time": "2024-08-03T15:22:13.799Z"
   },
   {
    "duration": 0,
    "start_time": "2024-08-03T15:22:13.799Z"
   },
   {
    "duration": 0,
    "start_time": "2024-08-03T15:22:13.801Z"
   },
   {
    "duration": 0,
    "start_time": "2024-08-03T15:22:13.802Z"
   },
   {
    "duration": 1,
    "start_time": "2024-08-03T15:22:13.802Z"
   },
   {
    "duration": 0,
    "start_time": "2024-08-03T15:22:13.804Z"
   },
   {
    "duration": 0,
    "start_time": "2024-08-03T15:22:13.805Z"
   },
   {
    "duration": 0,
    "start_time": "2024-08-03T15:22:13.806Z"
   },
   {
    "duration": 0,
    "start_time": "2024-08-03T15:22:13.808Z"
   },
   {
    "duration": 0,
    "start_time": "2024-08-03T15:22:13.809Z"
   },
   {
    "duration": 0,
    "start_time": "2024-08-03T15:22:13.810Z"
   },
   {
    "duration": 0,
    "start_time": "2024-08-03T15:22:13.811Z"
   },
   {
    "duration": 0,
    "start_time": "2024-08-03T15:22:13.812Z"
   },
   {
    "duration": 0,
    "start_time": "2024-08-03T15:22:13.813Z"
   },
   {
    "duration": 0,
    "start_time": "2024-08-03T15:22:13.814Z"
   },
   {
    "duration": 0,
    "start_time": "2024-08-03T15:22:13.815Z"
   },
   {
    "duration": 0,
    "start_time": "2024-08-03T15:22:13.817Z"
   },
   {
    "duration": 0,
    "start_time": "2024-08-03T15:22:13.818Z"
   },
   {
    "duration": 0,
    "start_time": "2024-08-03T15:22:13.819Z"
   },
   {
    "duration": 0,
    "start_time": "2024-08-03T15:22:13.820Z"
   },
   {
    "duration": 0,
    "start_time": "2024-08-03T15:22:13.821Z"
   },
   {
    "duration": 0,
    "start_time": "2024-08-03T15:22:13.822Z"
   },
   {
    "duration": 0,
    "start_time": "2024-08-03T15:22:13.823Z"
   },
   {
    "duration": 0,
    "start_time": "2024-08-03T15:22:13.824Z"
   },
   {
    "duration": 0,
    "start_time": "2024-08-03T15:22:13.826Z"
   },
   {
    "duration": 0,
    "start_time": "2024-08-03T15:22:13.827Z"
   },
   {
    "duration": 0,
    "start_time": "2024-08-03T15:22:13.828Z"
   },
   {
    "duration": 0,
    "start_time": "2024-08-03T15:22:13.829Z"
   },
   {
    "duration": 0,
    "start_time": "2024-08-03T15:22:13.830Z"
   },
   {
    "duration": 0,
    "start_time": "2024-08-03T15:22:13.831Z"
   },
   {
    "duration": 0,
    "start_time": "2024-08-03T15:22:13.846Z"
   },
   {
    "duration": 0,
    "start_time": "2024-08-03T15:22:13.847Z"
   },
   {
    "duration": 7,
    "start_time": "2024-08-03T15:22:16.690Z"
   },
   {
    "duration": 4,
    "start_time": "2024-08-03T15:22:17.099Z"
   },
   {
    "duration": 3,
    "start_time": "2024-08-03T15:22:17.428Z"
   },
   {
    "duration": 5,
    "start_time": "2024-08-03T15:22:18.735Z"
   },
   {
    "duration": 8,
    "start_time": "2024-08-03T15:22:19.324Z"
   },
   {
    "duration": 5,
    "start_time": "2024-08-03T15:22:19.668Z"
   },
   {
    "duration": 3,
    "start_time": "2024-08-03T15:22:20.063Z"
   },
   {
    "duration": 4,
    "start_time": "2024-08-03T15:22:20.634Z"
   },
   {
    "duration": 4,
    "start_time": "2024-08-03T15:22:20.928Z"
   },
   {
    "duration": 3,
    "start_time": "2024-08-03T15:22:21.664Z"
   },
   {
    "duration": 16,
    "start_time": "2024-08-03T15:22:22.368Z"
   },
   {
    "duration": 3,
    "start_time": "2024-08-03T15:22:23.185Z"
   },
   {
    "duration": 11,
    "start_time": "2024-08-03T15:22:23.628Z"
   },
   {
    "duration": 3,
    "start_time": "2024-08-03T15:22:23.938Z"
   },
   {
    "duration": 3,
    "start_time": "2024-08-03T15:22:24.249Z"
   },
   {
    "duration": 15,
    "start_time": "2024-08-03T15:22:24.543Z"
   },
   {
    "duration": 5,
    "start_time": "2024-08-03T15:22:24.838Z"
   },
   {
    "duration": 23,
    "start_time": "2024-08-03T15:22:25.736Z"
   },
   {
    "duration": 23,
    "start_time": "2024-08-03T15:22:26.063Z"
   },
   {
    "duration": 4,
    "start_time": "2024-08-03T15:22:26.408Z"
   },
   {
    "duration": 4,
    "start_time": "2024-08-03T15:22:26.735Z"
   },
   {
    "duration": 4,
    "start_time": "2024-08-03T15:22:27.274Z"
   },
   {
    "duration": 6,
    "start_time": "2024-08-03T15:22:29.254Z"
   },
   {
    "duration": 6,
    "start_time": "2024-08-03T15:22:29.663Z"
   },
   {
    "duration": 3,
    "start_time": "2024-08-03T15:22:31.675Z"
   },
   {
    "duration": 5813,
    "start_time": "2024-08-03T15:22:33.851Z"
   },
   {
    "duration": 3,
    "start_time": "2024-08-03T15:22:41.115Z"
   },
   {
    "duration": 4,
    "start_time": "2024-08-03T15:22:41.475Z"
   },
   {
    "duration": 3,
    "start_time": "2024-08-03T15:22:41.753Z"
   },
   {
    "duration": 1076,
    "start_time": "2024-08-03T15:22:42.097Z"
   },
   {
    "duration": 6,
    "start_time": "2024-08-03T15:22:46.989Z"
   },
   {
    "duration": 3,
    "start_time": "2024-08-03T15:22:47.674Z"
   },
   {
    "duration": 4,
    "start_time": "2024-08-03T15:22:48.035Z"
   },
   {
    "duration": 209545,
    "start_time": "2024-08-03T15:22:49.131Z"
   },
   {
    "duration": 2845,
    "start_time": "2024-08-03T15:27:43.658Z"
   },
   {
    "duration": 5,
    "start_time": "2024-08-03T15:27:46.505Z"
   },
   {
    "duration": 4,
    "start_time": "2024-08-03T15:27:46.546Z"
   },
   {
    "duration": 5,
    "start_time": "2024-08-03T15:27:46.553Z"
   },
   {
    "duration": 14,
    "start_time": "2024-08-03T15:27:46.560Z"
   },
   {
    "duration": 37,
    "start_time": "2024-08-03T15:27:46.576Z"
   },
   {
    "duration": 6,
    "start_time": "2024-08-03T15:27:46.615Z"
   },
   {
    "duration": 17,
    "start_time": "2024-08-03T15:27:46.623Z"
   },
   {
    "duration": 12,
    "start_time": "2024-08-03T15:27:46.641Z"
   },
   {
    "duration": 46,
    "start_time": "2024-08-03T15:27:46.655Z"
   },
   {
    "duration": 7,
    "start_time": "2024-08-03T15:27:46.702Z"
   },
   {
    "duration": 18,
    "start_time": "2024-08-03T15:27:46.710Z"
   },
   {
    "duration": 6,
    "start_time": "2024-08-03T15:27:46.730Z"
   },
   {
    "duration": 6,
    "start_time": "2024-08-03T15:27:46.738Z"
   },
   {
    "duration": 6,
    "start_time": "2024-08-03T15:27:46.746Z"
   },
   {
    "duration": 6,
    "start_time": "2024-08-03T15:27:46.754Z"
   },
   {
    "duration": 8,
    "start_time": "2024-08-03T15:27:46.761Z"
   },
   {
    "duration": 29,
    "start_time": "2024-08-03T15:27:46.770Z"
   },
   {
    "duration": 6,
    "start_time": "2024-08-03T15:27:46.800Z"
   },
   {
    "duration": 14,
    "start_time": "2024-08-03T15:27:46.808Z"
   },
   {
    "duration": 5,
    "start_time": "2024-08-03T15:27:46.824Z"
   },
   {
    "duration": 6,
    "start_time": "2024-08-03T15:27:46.831Z"
   },
   {
    "duration": 8,
    "start_time": "2024-08-03T15:27:46.838Z"
   },
   {
    "duration": 38,
    "start_time": "2024-08-03T15:27:46.848Z"
   },
   {
    "duration": 8,
    "start_time": "2024-08-03T15:27:46.888Z"
   },
   {
    "duration": 14,
    "start_time": "2024-08-03T15:27:46.897Z"
   },
   {
    "duration": 9,
    "start_time": "2024-08-03T15:27:46.913Z"
   },
   {
    "duration": 9,
    "start_time": "2024-08-03T15:27:46.926Z"
   },
   {
    "duration": 328,
    "start_time": "2024-08-03T15:27:46.937Z"
   },
   {
    "duration": 230,
    "start_time": "2024-08-03T15:27:47.266Z"
   },
   {
    "duration": 432,
    "start_time": "2024-08-03T15:27:47.498Z"
   },
   {
    "duration": 2,
    "start_time": "2024-08-03T15:27:47.932Z"
   },
   {
    "duration": 36,
    "start_time": "2024-08-03T15:27:47.935Z"
   },
   {
    "duration": 30,
    "start_time": "2024-08-03T15:27:47.973Z"
   },
   {
    "duration": 4425,
    "start_time": "2024-08-03T15:27:48.004Z"
   },
   {
    "duration": 1017,
    "start_time": "2024-08-03T15:27:52.431Z"
   },
   {
    "duration": 124,
    "start_time": "2024-08-03T15:27:53.450Z"
   },
   {
    "duration": 137,
    "start_time": "2024-08-03T15:27:53.575Z"
   },
   {
    "duration": 134,
    "start_time": "2024-08-03T15:27:53.714Z"
   },
   {
    "duration": 126,
    "start_time": "2024-08-03T15:27:53.850Z"
   },
   {
    "duration": 2,
    "start_time": "2024-08-03T15:27:53.978Z"
   },
   {
    "duration": 23,
    "start_time": "2024-08-03T15:27:53.982Z"
   },
   {
    "duration": 15,
    "start_time": "2024-08-03T15:27:54.006Z"
   },
   {
    "duration": 10,
    "start_time": "2024-08-03T15:27:54.023Z"
   },
   {
    "duration": 12,
    "start_time": "2024-08-03T15:27:54.034Z"
   },
   {
    "duration": 10,
    "start_time": "2024-08-03T15:27:54.047Z"
   },
   {
    "duration": 16,
    "start_time": "2024-08-03T15:27:54.059Z"
   },
   {
    "duration": 14,
    "start_time": "2024-08-03T15:27:54.077Z"
   },
   {
    "duration": 27,
    "start_time": "2024-08-03T15:27:54.093Z"
   },
   {
    "duration": 5,
    "start_time": "2024-08-03T15:27:54.122Z"
   },
   {
    "duration": 10,
    "start_time": "2024-08-03T15:27:54.129Z"
   },
   {
    "duration": 16,
    "start_time": "2024-08-03T15:27:54.141Z"
   },
   {
    "duration": 40,
    "start_time": "2024-08-03T15:27:54.158Z"
   },
   {
    "duration": 11,
    "start_time": "2024-08-03T15:27:54.200Z"
   },
   {
    "duration": 22,
    "start_time": "2024-08-03T15:27:54.213Z"
   },
   {
    "duration": 12,
    "start_time": "2024-08-03T15:27:54.236Z"
   },
   {
    "duration": 4,
    "start_time": "2024-08-03T15:27:54.250Z"
   },
   {
    "duration": 5,
    "start_time": "2024-08-03T15:27:54.256Z"
   },
   {
    "duration": 15,
    "start_time": "2024-08-03T15:27:54.262Z"
   },
   {
    "duration": 2,
    "start_time": "2024-08-03T15:27:54.279Z"
   },
   {
    "duration": 12,
    "start_time": "2024-08-03T15:27:54.283Z"
   },
   {
    "duration": 24,
    "start_time": "2024-08-03T15:27:54.297Z"
   },
   {
    "duration": 4,
    "start_time": "2024-08-03T15:27:54.323Z"
   },
   {
    "duration": 18,
    "start_time": "2024-08-03T15:27:54.329Z"
   },
   {
    "duration": 7,
    "start_time": "2024-08-03T15:27:54.348Z"
   },
   {
    "duration": 27,
    "start_time": "2024-08-03T15:27:54.357Z"
   },
   {
    "duration": 32,
    "start_time": "2024-08-03T15:27:54.385Z"
   },
   {
    "duration": 9,
    "start_time": "2024-08-03T15:27:54.418Z"
   },
   {
    "duration": 16,
    "start_time": "2024-08-03T15:27:54.429Z"
   },
   {
    "duration": 66,
    "start_time": "2024-08-03T15:27:54.447Z"
   },
   {
    "duration": 0,
    "start_time": "2024-08-03T15:27:54.514Z"
   },
   {
    "duration": 0,
    "start_time": "2024-08-03T15:27:54.516Z"
   },
   {
    "duration": 0,
    "start_time": "2024-08-03T15:27:54.517Z"
   },
   {
    "duration": 0,
    "start_time": "2024-08-03T15:27:54.518Z"
   },
   {
    "duration": 0,
    "start_time": "2024-08-03T15:27:54.520Z"
   },
   {
    "duration": 0,
    "start_time": "2024-08-03T15:27:54.522Z"
   },
   {
    "duration": 0,
    "start_time": "2024-08-03T15:27:54.523Z"
   },
   {
    "duration": 0,
    "start_time": "2024-08-03T15:27:54.525Z"
   },
   {
    "duration": 0,
    "start_time": "2024-08-03T15:27:54.526Z"
   },
   {
    "duration": 0,
    "start_time": "2024-08-03T15:27:54.528Z"
   },
   {
    "duration": 0,
    "start_time": "2024-08-03T15:27:54.529Z"
   },
   {
    "duration": 0,
    "start_time": "2024-08-03T15:27:54.531Z"
   },
   {
    "duration": 0,
    "start_time": "2024-08-03T15:27:54.532Z"
   },
   {
    "duration": 0,
    "start_time": "2024-08-03T15:27:54.534Z"
   },
   {
    "duration": 4,
    "start_time": "2024-08-03T15:28:43.418Z"
   },
   {
    "duration": 3,
    "start_time": "2024-08-03T15:29:04.262Z"
   },
   {
    "duration": 6,
    "start_time": "2024-08-03T15:29:08.009Z"
   },
   {
    "duration": 4,
    "start_time": "2024-08-03T15:29:16.988Z"
   },
   {
    "duration": 4,
    "start_time": "2024-08-03T15:29:17.334Z"
   },
   {
    "duration": 240,
    "start_time": "2024-08-03T15:29:18.576Z"
   },
   {
    "duration": 3,
    "start_time": "2024-08-03T15:29:34.028Z"
   },
   {
    "duration": 205303,
    "start_time": "2024-08-03T15:29:37.381Z"
   },
   {
    "duration": 7,
    "start_time": "2024-08-03T15:33:59.223Z"
   },
   {
    "duration": 4,
    "start_time": "2024-08-03T15:34:47.443Z"
   },
   {
    "duration": 226515,
    "start_time": "2024-08-03T15:35:01.040Z"
   },
   {
    "duration": 6,
    "start_time": "2024-08-03T15:39:44.581Z"
   },
   {
    "duration": 3,
    "start_time": "2024-08-03T15:39:54.493Z"
   },
   {
    "duration": 19,
    "start_time": "2024-08-03T15:40:28.536Z"
   },
   {
    "duration": 3,
    "start_time": "2024-08-03T15:40:52.029Z"
   },
   {
    "duration": 6,
    "start_time": "2024-08-03T15:40:58.313Z"
   },
   {
    "duration": 8,
    "start_time": "2024-08-03T15:40:58.820Z"
   },
   {
    "duration": 5,
    "start_time": "2024-08-03T15:40:59.004Z"
   },
   {
    "duration": 2,
    "start_time": "2024-08-03T15:40:59.165Z"
   },
   {
    "duration": 5,
    "start_time": "2024-08-03T15:40:59.507Z"
   },
   {
    "duration": 5,
    "start_time": "2024-08-03T15:41:00.082Z"
   },
   {
    "duration": 3,
    "start_time": "2024-08-03T15:41:00.851Z"
   },
   {
    "duration": 55,
    "start_time": "2024-08-03T15:41:01.180Z"
   },
   {
    "duration": 2,
    "start_time": "2024-08-03T15:41:01.800Z"
   },
   {
    "duration": 10,
    "start_time": "2024-08-03T15:41:02.013Z"
   },
   {
    "duration": 2,
    "start_time": "2024-08-03T15:41:02.243Z"
   },
   {
    "duration": 3,
    "start_time": "2024-08-03T15:41:02.472Z"
   },
   {
    "duration": 190,
    "start_time": "2024-08-03T15:41:02.848Z"
   },
   {
    "duration": 5,
    "start_time": "2024-08-03T15:41:03.487Z"
   },
   {
    "duration": 24,
    "start_time": "2024-08-03T15:41:04.485Z"
   },
   {
    "duration": 23,
    "start_time": "2024-08-03T15:41:04.846Z"
   },
   {
    "duration": 3,
    "start_time": "2024-08-03T15:41:05.583Z"
   },
   {
    "duration": 4,
    "start_time": "2024-08-03T15:41:06.040Z"
   },
   {
    "duration": 4,
    "start_time": "2024-08-03T15:41:06.498Z"
   },
   {
    "duration": 3,
    "start_time": "2024-08-03T15:41:45.835Z"
   },
   {
    "duration": 209347,
    "start_time": "2024-08-03T15:41:50.830Z"
   },
   {
    "duration": 7,
    "start_time": "2024-08-03T15:45:58.047Z"
   },
   {
    "duration": 3,
    "start_time": "2024-08-03T15:46:32.966Z"
   },
   {
    "duration": 234232,
    "start_time": "2024-08-03T15:46:38.222Z"
   },
   {
    "duration": 6,
    "start_time": "2024-08-03T15:51:44.096Z"
   },
   {
    "duration": 3,
    "start_time": "2024-08-03T15:52:19.239Z"
   },
   {
    "duration": 61,
    "start_time": "2024-08-03T15:52:24.493Z"
   },
   {
    "duration": 6,
    "start_time": "2024-08-03T15:52:39.541Z"
   },
   {
    "duration": 184978,
    "start_time": "2024-08-03T15:52:42.175Z"
   },
   {
    "duration": 66,
    "start_time": "2024-08-03T15:56:32.185Z"
   },
   {
    "duration": 6,
    "start_time": "2024-08-03T15:56:36.234Z"
   },
   {
    "duration": 3,
    "start_time": "2024-08-03T15:57:03.132Z"
   },
   {
    "duration": 2996,
    "start_time": "2024-08-03T16:00:02.818Z"
   },
   {
    "duration": 5,
    "start_time": "2024-08-03T16:00:05.816Z"
   },
   {
    "duration": 93,
    "start_time": "2024-08-03T16:00:05.823Z"
   },
   {
    "duration": 45,
    "start_time": "2024-08-03T16:00:05.918Z"
   },
   {
    "duration": 50,
    "start_time": "2024-08-03T16:00:05.964Z"
   },
   {
    "duration": 56,
    "start_time": "2024-08-03T16:00:06.015Z"
   },
   {
    "duration": 5,
    "start_time": "2024-08-03T16:00:06.073Z"
   },
   {
    "duration": 42,
    "start_time": "2024-08-03T16:00:06.079Z"
   },
   {
    "duration": 22,
    "start_time": "2024-08-03T16:00:06.122Z"
   },
   {
    "duration": 46,
    "start_time": "2024-08-03T16:00:06.147Z"
   },
   {
    "duration": 47,
    "start_time": "2024-08-03T16:00:06.194Z"
   },
   {
    "duration": 40,
    "start_time": "2024-08-03T16:00:06.242Z"
   },
   {
    "duration": 15,
    "start_time": "2024-08-03T16:00:06.283Z"
   },
   {
    "duration": 22,
    "start_time": "2024-08-03T16:00:06.299Z"
   },
   {
    "duration": 22,
    "start_time": "2024-08-03T16:00:06.323Z"
   },
   {
    "duration": 15,
    "start_time": "2024-08-03T16:00:06.346Z"
   },
   {
    "duration": 18,
    "start_time": "2024-08-03T16:00:06.363Z"
   },
   {
    "duration": 44,
    "start_time": "2024-08-03T16:00:06.383Z"
   },
   {
    "duration": 82,
    "start_time": "2024-08-03T16:00:06.428Z"
   },
   {
    "duration": 76,
    "start_time": "2024-08-03T16:00:06.512Z"
   },
   {
    "duration": 47,
    "start_time": "2024-08-03T16:00:06.589Z"
   },
   {
    "duration": 27,
    "start_time": "2024-08-03T16:00:06.638Z"
   },
   {
    "duration": 28,
    "start_time": "2024-08-03T16:00:06.667Z"
   },
   {
    "duration": 26,
    "start_time": "2024-08-03T16:00:06.696Z"
   },
   {
    "duration": 47,
    "start_time": "2024-08-03T16:00:06.724Z"
   },
   {
    "duration": 48,
    "start_time": "2024-08-03T16:00:06.773Z"
   },
   {
    "duration": 73,
    "start_time": "2024-08-03T16:00:06.823Z"
   },
   {
    "duration": 56,
    "start_time": "2024-08-03T16:00:06.900Z"
   },
   {
    "duration": 401,
    "start_time": "2024-08-03T16:00:06.958Z"
   },
   {
    "duration": 225,
    "start_time": "2024-08-03T16:00:07.360Z"
   },
   {
    "duration": 433,
    "start_time": "2024-08-03T16:00:07.587Z"
   },
   {
    "duration": 2,
    "start_time": "2024-08-03T16:00:08.022Z"
   },
   {
    "duration": 39,
    "start_time": "2024-08-03T16:00:08.026Z"
   },
   {
    "duration": 28,
    "start_time": "2024-08-03T16:00:08.066Z"
   },
   {
    "duration": 4553,
    "start_time": "2024-08-03T16:00:08.096Z"
   },
   {
    "duration": 1031,
    "start_time": "2024-08-03T16:00:12.651Z"
   },
   {
    "duration": 131,
    "start_time": "2024-08-03T16:00:13.684Z"
   },
   {
    "duration": 145,
    "start_time": "2024-08-03T16:00:13.816Z"
   },
   {
    "duration": 132,
    "start_time": "2024-08-03T16:00:13.963Z"
   },
   {
    "duration": 124,
    "start_time": "2024-08-03T16:00:14.097Z"
   },
   {
    "duration": 2,
    "start_time": "2024-08-03T16:00:14.223Z"
   },
   {
    "duration": 19,
    "start_time": "2024-08-03T16:00:14.227Z"
   },
   {
    "duration": 17,
    "start_time": "2024-08-03T16:00:14.247Z"
   },
   {
    "duration": 16,
    "start_time": "2024-08-03T16:00:14.265Z"
   },
   {
    "duration": 28,
    "start_time": "2024-08-03T16:00:14.282Z"
   },
   {
    "duration": 24,
    "start_time": "2024-08-03T16:00:14.312Z"
   },
   {
    "duration": 12,
    "start_time": "2024-08-03T16:00:14.337Z"
   },
   {
    "duration": 4,
    "start_time": "2024-08-03T16:00:14.350Z"
   },
   {
    "duration": 4,
    "start_time": "2024-08-03T16:00:14.355Z"
   },
   {
    "duration": 7,
    "start_time": "2024-08-03T16:00:14.361Z"
   },
   {
    "duration": 14,
    "start_time": "2024-08-03T16:00:14.370Z"
   },
   {
    "duration": 12,
    "start_time": "2024-08-03T16:00:14.386Z"
   },
   {
    "duration": 22,
    "start_time": "2024-08-03T16:00:14.399Z"
   },
   {
    "duration": 18,
    "start_time": "2024-08-03T16:00:14.422Z"
   },
   {
    "duration": 85,
    "start_time": "2024-08-03T16:00:14.441Z"
   },
   {
    "duration": 0,
    "start_time": "2024-08-03T16:00:14.528Z"
   },
   {
    "duration": 0,
    "start_time": "2024-08-03T16:00:14.530Z"
   },
   {
    "duration": 0,
    "start_time": "2024-08-03T16:00:14.530Z"
   },
   {
    "duration": 0,
    "start_time": "2024-08-03T16:00:14.532Z"
   },
   {
    "duration": 0,
    "start_time": "2024-08-03T16:00:14.533Z"
   },
   {
    "duration": 0,
    "start_time": "2024-08-03T16:00:14.534Z"
   },
   {
    "duration": 0,
    "start_time": "2024-08-03T16:00:14.535Z"
   },
   {
    "duration": 0,
    "start_time": "2024-08-03T16:00:14.537Z"
   },
   {
    "duration": 0,
    "start_time": "2024-08-03T16:00:14.539Z"
   },
   {
    "duration": 0,
    "start_time": "2024-08-03T16:00:14.541Z"
   },
   {
    "duration": 0,
    "start_time": "2024-08-03T16:00:14.542Z"
   },
   {
    "duration": 0,
    "start_time": "2024-08-03T16:00:14.543Z"
   },
   {
    "duration": 0,
    "start_time": "2024-08-03T16:00:14.544Z"
   },
   {
    "duration": 0,
    "start_time": "2024-08-03T16:00:14.546Z"
   },
   {
    "duration": 0,
    "start_time": "2024-08-03T16:00:14.547Z"
   },
   {
    "duration": 0,
    "start_time": "2024-08-03T16:00:14.549Z"
   },
   {
    "duration": 0,
    "start_time": "2024-08-03T16:00:14.550Z"
   },
   {
    "duration": 0,
    "start_time": "2024-08-03T16:00:14.551Z"
   },
   {
    "duration": 0,
    "start_time": "2024-08-03T16:00:14.553Z"
   },
   {
    "duration": 0,
    "start_time": "2024-08-03T16:00:14.554Z"
   },
   {
    "duration": 0,
    "start_time": "2024-08-03T16:00:14.557Z"
   },
   {
    "duration": 0,
    "start_time": "2024-08-03T16:00:14.558Z"
   },
   {
    "duration": 0,
    "start_time": "2024-08-03T16:00:14.559Z"
   },
   {
    "duration": 0,
    "start_time": "2024-08-03T16:00:14.561Z"
   },
   {
    "duration": 0,
    "start_time": "2024-08-03T16:00:14.562Z"
   },
   {
    "duration": 0,
    "start_time": "2024-08-03T16:00:14.564Z"
   },
   {
    "duration": 0,
    "start_time": "2024-08-03T16:00:14.565Z"
   },
   {
    "duration": 0,
    "start_time": "2024-08-03T16:00:14.566Z"
   },
   {
    "duration": 0,
    "start_time": "2024-08-03T16:00:14.568Z"
   },
   {
    "duration": 2,
    "start_time": "2024-08-03T16:00:17.808Z"
   },
   {
    "duration": 4,
    "start_time": "2024-08-03T16:00:18.461Z"
   },
   {
    "duration": 4,
    "start_time": "2024-08-03T16:00:18.740Z"
   },
   {
    "duration": 3,
    "start_time": "2024-08-03T16:00:23.678Z"
   },
   {
    "duration": 13,
    "start_time": "2024-08-03T16:00:24.005Z"
   },
   {
    "duration": 3,
    "start_time": "2024-08-03T16:00:24.920Z"
   },
   {
    "duration": 9,
    "start_time": "2024-08-03T16:00:25.166Z"
   },
   {
    "duration": 3,
    "start_time": "2024-08-03T16:00:25.686Z"
   },
   {
    "duration": 3,
    "start_time": "2024-08-03T16:00:25.869Z"
   },
   {
    "duration": 14,
    "start_time": "2024-08-03T16:00:26.655Z"
   },
   {
    "duration": 6,
    "start_time": "2024-08-03T16:00:27.374Z"
   },
   {
    "duration": 19,
    "start_time": "2024-08-03T16:00:28.404Z"
   },
   {
    "duration": 19,
    "start_time": "2024-08-03T16:00:28.765Z"
   },
   {
    "duration": 3,
    "start_time": "2024-08-03T16:00:29.566Z"
   },
   {
    "duration": 4,
    "start_time": "2024-08-03T16:00:29.910Z"
   },
   {
    "duration": 4,
    "start_time": "2024-08-03T16:00:30.335Z"
   },
   {
    "duration": 4,
    "start_time": "2024-08-03T16:00:52.051Z"
   },
   {
    "duration": 7,
    "start_time": "2024-08-03T16:00:56.633Z"
   },
   {
    "duration": 6,
    "start_time": "2024-08-03T16:00:57.155Z"
   },
   {
    "duration": 5,
    "start_time": "2024-08-03T16:00:57.418Z"
   },
   {
    "duration": 135094,
    "start_time": "2024-08-03T16:00:58.497Z"
   },
   {
    "duration": 13,
    "start_time": "2024-08-03T16:04:23.086Z"
   },
   {
    "duration": 5,
    "start_time": "2024-08-03T16:04:30.772Z"
   },
   {
    "duration": 9,
    "start_time": "2024-08-03T16:04:31.246Z"
   },
   {
    "duration": 5,
    "start_time": "2024-08-03T16:04:31.574Z"
   },
   {
    "duration": 55,
    "start_time": "2024-08-03T16:04:31.933Z"
   },
   {
    "duration": 4,
    "start_time": "2024-08-03T16:04:33.128Z"
   },
   {
    "duration": 4,
    "start_time": "2024-08-03T16:04:33.618Z"
   },
   {
    "duration": 3,
    "start_time": "2024-08-03T16:04:39.494Z"
   },
   {
    "duration": 17,
    "start_time": "2024-08-03T16:04:39.934Z"
   },
   {
    "duration": 3,
    "start_time": "2024-08-03T16:04:40.735Z"
   },
   {
    "duration": 10,
    "start_time": "2024-08-03T16:04:41.390Z"
   },
   {
    "duration": 2,
    "start_time": "2024-08-03T16:04:41.685Z"
   },
   {
    "duration": 3,
    "start_time": "2024-08-03T16:04:41.930Z"
   },
   {
    "duration": 14,
    "start_time": "2024-08-03T16:04:42.241Z"
   },
   {
    "duration": 6,
    "start_time": "2024-08-03T16:04:42.503Z"
   },
   {
    "duration": 23,
    "start_time": "2024-08-03T16:04:43.501Z"
   },
   {
    "duration": 23,
    "start_time": "2024-08-03T16:04:43.796Z"
   },
   {
    "duration": 5,
    "start_time": "2024-08-03T16:04:44.173Z"
   },
   {
    "duration": 4,
    "start_time": "2024-08-03T16:04:44.616Z"
   },
   {
    "duration": 4,
    "start_time": "2024-08-03T16:04:45.203Z"
   },
   {
    "duration": 3,
    "start_time": "2024-08-03T16:05:03.656Z"
   },
   {
    "duration": 7,
    "start_time": "2024-08-03T16:05:10.622Z"
   },
   {
    "duration": 5,
    "start_time": "2024-08-03T16:05:12.290Z"
   },
   {
    "duration": 5,
    "start_time": "2024-08-03T16:05:12.585Z"
   },
   {
    "duration": 203913,
    "start_time": "2024-08-03T16:05:15.041Z"
   },
   {
    "duration": 2063,
    "start_time": "2024-08-03T16:12:34.485Z"
   },
   {
    "duration": 6,
    "start_time": "2024-08-03T16:12:36.551Z"
   },
   {
    "duration": 17,
    "start_time": "2024-08-03T16:12:36.559Z"
   },
   {
    "duration": 5,
    "start_time": "2024-08-03T16:12:36.578Z"
   },
   {
    "duration": 7,
    "start_time": "2024-08-03T16:12:36.585Z"
   },
   {
    "duration": 60,
    "start_time": "2024-08-03T16:12:36.594Z"
   },
   {
    "duration": 5,
    "start_time": "2024-08-03T16:12:36.656Z"
   },
   {
    "duration": 14,
    "start_time": "2024-08-03T16:12:36.662Z"
   },
   {
    "duration": 12,
    "start_time": "2024-08-03T16:12:36.677Z"
   },
   {
    "duration": 37,
    "start_time": "2024-08-03T16:12:36.691Z"
   },
   {
    "duration": 20,
    "start_time": "2024-08-03T16:12:36.730Z"
   },
   {
    "duration": 12,
    "start_time": "2024-08-03T16:12:36.752Z"
   },
   {
    "duration": 12,
    "start_time": "2024-08-03T16:12:36.765Z"
   },
   {
    "duration": 7,
    "start_time": "2024-08-03T16:12:36.779Z"
   },
   {
    "duration": 11,
    "start_time": "2024-08-03T16:12:36.787Z"
   },
   {
    "duration": 9,
    "start_time": "2024-08-03T16:12:36.800Z"
   },
   {
    "duration": 15,
    "start_time": "2024-08-03T16:12:36.810Z"
   },
   {
    "duration": 13,
    "start_time": "2024-08-03T16:12:36.827Z"
   },
   {
    "duration": 9,
    "start_time": "2024-08-03T16:12:36.842Z"
   },
   {
    "duration": 30,
    "start_time": "2024-08-03T16:12:36.852Z"
   },
   {
    "duration": 28,
    "start_time": "2024-08-03T16:12:36.884Z"
   },
   {
    "duration": 25,
    "start_time": "2024-08-03T16:12:36.914Z"
   },
   {
    "duration": 24,
    "start_time": "2024-08-03T16:12:36.940Z"
   },
   {
    "duration": 10,
    "start_time": "2024-08-03T16:12:36.966Z"
   },
   {
    "duration": 11,
    "start_time": "2024-08-03T16:12:36.977Z"
   },
   {
    "duration": 13,
    "start_time": "2024-08-03T16:12:36.990Z"
   },
   {
    "duration": 6,
    "start_time": "2024-08-03T16:12:37.005Z"
   },
   {
    "duration": 18,
    "start_time": "2024-08-03T16:12:37.015Z"
   },
   {
    "duration": 351,
    "start_time": "2024-08-03T16:12:37.034Z"
   },
   {
    "duration": 232,
    "start_time": "2024-08-03T16:12:37.387Z"
   },
   {
    "duration": 422,
    "start_time": "2024-08-03T16:12:37.620Z"
   },
   {
    "duration": 2,
    "start_time": "2024-08-03T16:12:38.045Z"
   },
   {
    "duration": 22,
    "start_time": "2024-08-03T16:12:38.049Z"
   },
   {
    "duration": 20,
    "start_time": "2024-08-03T16:12:38.072Z"
   },
   {
    "duration": 5363,
    "start_time": "2024-08-03T16:12:38.094Z"
   },
   {
    "duration": 1057,
    "start_time": "2024-08-03T16:12:43.458Z"
   },
   {
    "duration": 142,
    "start_time": "2024-08-03T16:12:44.517Z"
   },
   {
    "duration": 139,
    "start_time": "2024-08-03T16:12:44.661Z"
   },
   {
    "duration": 145,
    "start_time": "2024-08-03T16:12:44.802Z"
   },
   {
    "duration": 129,
    "start_time": "2024-08-03T16:12:44.949Z"
   },
   {
    "duration": 3,
    "start_time": "2024-08-03T16:12:45.080Z"
   },
   {
    "duration": 24,
    "start_time": "2024-08-03T16:12:45.085Z"
   },
   {
    "duration": 23,
    "start_time": "2024-08-03T16:12:45.110Z"
   },
   {
    "duration": 21,
    "start_time": "2024-08-03T16:12:45.134Z"
   },
   {
    "duration": 57,
    "start_time": "2024-08-03T16:12:45.156Z"
   },
   {
    "duration": 20,
    "start_time": "2024-08-03T16:12:45.215Z"
   },
   {
    "duration": 25,
    "start_time": "2024-08-03T16:12:45.236Z"
   },
   {
    "duration": 18,
    "start_time": "2024-08-03T16:12:45.263Z"
   },
   {
    "duration": 54,
    "start_time": "2024-08-03T16:12:45.283Z"
   },
   {
    "duration": 30,
    "start_time": "2024-08-03T16:12:45.339Z"
   },
   {
    "duration": 41,
    "start_time": "2024-08-03T16:12:45.370Z"
   },
   {
    "duration": 27,
    "start_time": "2024-08-03T16:12:45.413Z"
   },
   {
    "duration": 46,
    "start_time": "2024-08-03T16:12:45.442Z"
   },
   {
    "duration": 16,
    "start_time": "2024-08-03T16:12:45.490Z"
   },
   {
    "duration": 16,
    "start_time": "2024-08-03T16:12:45.508Z"
   },
   {
    "duration": 20,
    "start_time": "2024-08-03T16:12:45.527Z"
   },
   {
    "duration": 19,
    "start_time": "2024-08-03T16:12:45.549Z"
   },
   {
    "duration": 4,
    "start_time": "2024-08-03T16:12:45.570Z"
   },
   {
    "duration": 21,
    "start_time": "2024-08-03T16:12:45.575Z"
   },
   {
    "duration": 3,
    "start_time": "2024-08-03T16:12:45.598Z"
   },
   {
    "duration": 21,
    "start_time": "2024-08-03T16:12:45.603Z"
   },
   {
    "duration": 7,
    "start_time": "2024-08-03T16:12:45.625Z"
   },
   {
    "duration": 17,
    "start_time": "2024-08-03T16:12:45.634Z"
   },
   {
    "duration": 36,
    "start_time": "2024-08-03T16:12:45.653Z"
   },
   {
    "duration": 6,
    "start_time": "2024-08-03T16:12:45.691Z"
   },
   {
    "duration": 21,
    "start_time": "2024-08-03T16:12:45.698Z"
   },
   {
    "duration": 39,
    "start_time": "2024-08-03T16:12:45.721Z"
   },
   {
    "duration": 48,
    "start_time": "2024-08-03T16:12:45.762Z"
   },
   {
    "duration": 9,
    "start_time": "2024-08-03T16:12:45.812Z"
   },
   {
    "duration": 60,
    "start_time": "2024-08-03T16:12:45.823Z"
   },
   {
    "duration": 0,
    "start_time": "2024-08-03T16:12:45.885Z"
   },
   {
    "duration": 0,
    "start_time": "2024-08-03T16:12:45.886Z"
   },
   {
    "duration": 0,
    "start_time": "2024-08-03T16:12:45.887Z"
   },
   {
    "duration": 0,
    "start_time": "2024-08-03T16:12:45.888Z"
   },
   {
    "duration": 0,
    "start_time": "2024-08-03T16:12:45.889Z"
   },
   {
    "duration": 0,
    "start_time": "2024-08-03T16:12:45.890Z"
   },
   {
    "duration": 0,
    "start_time": "2024-08-03T16:12:45.891Z"
   },
   {
    "duration": 0,
    "start_time": "2024-08-03T16:12:45.893Z"
   },
   {
    "duration": 0,
    "start_time": "2024-08-03T16:12:45.894Z"
   },
   {
    "duration": 0,
    "start_time": "2024-08-03T16:12:45.896Z"
   },
   {
    "duration": 0,
    "start_time": "2024-08-03T16:12:45.897Z"
   },
   {
    "duration": 0,
    "start_time": "2024-08-03T16:12:45.898Z"
   },
   {
    "duration": 0,
    "start_time": "2024-08-03T16:12:45.899Z"
   },
   {
    "duration": 0,
    "start_time": "2024-08-03T16:12:45.900Z"
   },
   {
    "duration": 3,
    "start_time": "2024-08-03T16:12:49.603Z"
   },
   {
    "duration": 3,
    "start_time": "2024-08-03T16:13:15.541Z"
   },
   {
    "duration": 3,
    "start_time": "2024-08-03T16:13:52.089Z"
   },
   {
    "duration": 8,
    "start_time": "2024-08-03T16:15:18.762Z"
   },
   {
    "duration": 4,
    "start_time": "2024-08-03T16:15:22.540Z"
   },
   {
    "duration": 5,
    "start_time": "2024-08-03T16:15:22.769Z"
   },
   {
    "duration": 243397,
    "start_time": "2024-08-03T16:15:33.585Z"
   },
   {
    "duration": 5,
    "start_time": "2024-08-03T16:20:54.202Z"
   },
   {
    "duration": 4,
    "start_time": "2024-08-03T16:20:56.196Z"
   },
   {
    "duration": 6,
    "start_time": "2024-08-03T16:20:56.490Z"
   },
   {
    "duration": 3,
    "start_time": "2024-08-03T16:21:18.192Z"
   },
   {
    "duration": 159985,
    "start_time": "2024-08-03T16:21:23.477Z"
   },
   {
    "duration": 7,
    "start_time": "2024-08-03T16:24:47.768Z"
   },
   {
    "duration": 4,
    "start_time": "2024-08-03T16:24:49.942Z"
   },
   {
    "duration": 4,
    "start_time": "2024-08-03T16:24:50.205Z"
   },
   {
    "duration": 4,
    "start_time": "2024-08-03T16:24:56.507Z"
   },
   {
    "duration": 134247,
    "start_time": "2024-08-03T16:25:00.129Z"
   },
   {
    "duration": 3,
    "start_time": "2024-08-03T16:27:53.226Z"
   },
   {
    "duration": 5,
    "start_time": "2024-08-03T16:27:57.365Z"
   },
   {
    "duration": 4,
    "start_time": "2024-08-03T16:27:57.871Z"
   },
   {
    "duration": 4,
    "start_time": "2024-08-03T16:27:59.247Z"
   },
   {
    "duration": 80142,
    "start_time": "2024-08-03T16:28:00.326Z"
   },
   {
    "duration": 3,
    "start_time": "2024-08-03T16:29:34.575Z"
   },
   {
    "duration": 2120,
    "start_time": "2024-08-03T16:49:39.467Z"
   },
   {
    "duration": 4,
    "start_time": "2024-08-03T16:49:41.589Z"
   },
   {
    "duration": 19,
    "start_time": "2024-08-03T16:49:41.595Z"
   },
   {
    "duration": 5,
    "start_time": "2024-08-03T16:49:41.616Z"
   },
   {
    "duration": 11,
    "start_time": "2024-08-03T16:49:41.623Z"
   },
   {
    "duration": 33,
    "start_time": "2024-08-03T16:49:41.636Z"
   },
   {
    "duration": 5,
    "start_time": "2024-08-03T16:49:41.671Z"
   },
   {
    "duration": 17,
    "start_time": "2024-08-03T16:49:41.678Z"
   },
   {
    "duration": 17,
    "start_time": "2024-08-03T16:49:41.697Z"
   },
   {
    "duration": 45,
    "start_time": "2024-08-03T16:49:41.718Z"
   },
   {
    "duration": 10,
    "start_time": "2024-08-03T16:49:41.765Z"
   },
   {
    "duration": 7,
    "start_time": "2024-08-03T16:49:41.777Z"
   },
   {
    "duration": 28,
    "start_time": "2024-08-03T16:49:41.786Z"
   },
   {
    "duration": 8,
    "start_time": "2024-08-03T16:49:41.815Z"
   },
   {
    "duration": 19,
    "start_time": "2024-08-03T16:49:41.825Z"
   },
   {
    "duration": 7,
    "start_time": "2024-08-03T16:49:41.846Z"
   },
   {
    "duration": 8,
    "start_time": "2024-08-03T16:49:41.854Z"
   },
   {
    "duration": 6,
    "start_time": "2024-08-03T16:49:41.864Z"
   },
   {
    "duration": 14,
    "start_time": "2024-08-03T16:49:41.871Z"
   },
   {
    "duration": 28,
    "start_time": "2024-08-03T16:49:41.886Z"
   },
   {
    "duration": 11,
    "start_time": "2024-08-03T16:49:41.916Z"
   },
   {
    "duration": 8,
    "start_time": "2024-08-03T16:49:41.929Z"
   },
   {
    "duration": 17,
    "start_time": "2024-08-03T16:49:41.939Z"
   },
   {
    "duration": 12,
    "start_time": "2024-08-03T16:49:41.958Z"
   },
   {
    "duration": 37,
    "start_time": "2024-08-03T16:49:41.972Z"
   },
   {
    "duration": 6,
    "start_time": "2024-08-03T16:49:42.010Z"
   },
   {
    "duration": 25,
    "start_time": "2024-08-03T16:49:42.017Z"
   },
   {
    "duration": 7,
    "start_time": "2024-08-03T16:49:42.046Z"
   },
   {
    "duration": 329,
    "start_time": "2024-08-03T16:49:42.055Z"
   },
   {
    "duration": 222,
    "start_time": "2024-08-03T16:49:42.386Z"
   },
   {
    "duration": 427,
    "start_time": "2024-08-03T16:49:42.610Z"
   },
   {
    "duration": 2,
    "start_time": "2024-08-03T16:49:43.039Z"
   },
   {
    "duration": 6,
    "start_time": "2024-08-03T16:49:43.043Z"
   },
   {
    "duration": 4,
    "start_time": "2024-08-03T16:49:43.050Z"
   },
   {
    "duration": 4546,
    "start_time": "2024-08-03T16:49:43.055Z"
   },
   {
    "duration": 1015,
    "start_time": "2024-08-03T16:49:47.602Z"
   },
   {
    "duration": 156,
    "start_time": "2024-08-03T16:49:48.620Z"
   },
   {
    "duration": 136,
    "start_time": "2024-08-03T16:49:48.778Z"
   },
   {
    "duration": 158,
    "start_time": "2024-08-03T16:49:48.916Z"
   },
   {
    "duration": 124,
    "start_time": "2024-08-03T16:49:49.076Z"
   },
   {
    "duration": 3,
    "start_time": "2024-08-03T16:49:49.201Z"
   },
   {
    "duration": 24,
    "start_time": "2024-08-03T16:49:49.205Z"
   },
   {
    "duration": 18,
    "start_time": "2024-08-03T16:49:49.231Z"
   },
   {
    "duration": 10,
    "start_time": "2024-08-03T16:49:49.251Z"
   },
   {
    "duration": 4,
    "start_time": "2024-08-03T16:49:49.263Z"
   },
   {
    "duration": 8,
    "start_time": "2024-08-03T16:49:49.269Z"
   },
   {
    "duration": 10,
    "start_time": "2024-08-03T16:49:49.279Z"
   },
   {
    "duration": 10,
    "start_time": "2024-08-03T16:49:49.291Z"
   },
   {
    "duration": 16,
    "start_time": "2024-08-03T16:49:49.303Z"
   },
   {
    "duration": 4,
    "start_time": "2024-08-03T16:49:49.321Z"
   },
   {
    "duration": 6,
    "start_time": "2024-08-03T16:49:49.326Z"
   },
   {
    "duration": 15,
    "start_time": "2024-08-03T16:49:49.333Z"
   },
   {
    "duration": 18,
    "start_time": "2024-08-03T16:49:49.350Z"
   },
   {
    "duration": 12,
    "start_time": "2024-08-03T16:49:49.369Z"
   },
   {
    "duration": 15,
    "start_time": "2024-08-03T16:49:49.382Z"
   },
   {
    "duration": 9,
    "start_time": "2024-08-03T16:49:49.399Z"
   },
   {
    "duration": 7,
    "start_time": "2024-08-03T16:49:49.409Z"
   },
   {
    "duration": 7,
    "start_time": "2024-08-03T16:49:49.417Z"
   },
   {
    "duration": 14,
    "start_time": "2024-08-03T16:49:49.425Z"
   },
   {
    "duration": 15,
    "start_time": "2024-08-03T16:49:49.440Z"
   },
   {
    "duration": 9,
    "start_time": "2024-08-03T16:49:49.457Z"
   },
   {
    "duration": 3,
    "start_time": "2024-08-03T16:49:49.468Z"
   },
   {
    "duration": 4,
    "start_time": "2024-08-03T16:49:49.472Z"
   },
   {
    "duration": 15,
    "start_time": "2024-08-03T16:49:49.478Z"
   },
   {
    "duration": 16,
    "start_time": "2024-08-03T16:49:49.495Z"
   },
   {
    "duration": 22,
    "start_time": "2024-08-03T16:49:49.513Z"
   },
   {
    "duration": 28,
    "start_time": "2024-08-03T16:49:49.537Z"
   },
   {
    "duration": 5,
    "start_time": "2024-08-03T16:49:49.566Z"
   },
   {
    "duration": 8,
    "start_time": "2024-08-03T16:49:49.572Z"
   },
   {
    "duration": 63,
    "start_time": "2024-08-03T16:49:49.581Z"
   },
   {
    "duration": 0,
    "start_time": "2024-08-03T16:49:49.646Z"
   },
   {
    "duration": 0,
    "start_time": "2024-08-03T16:49:49.648Z"
   },
   {
    "duration": 0,
    "start_time": "2024-08-03T16:49:49.649Z"
   },
   {
    "duration": 0,
    "start_time": "2024-08-03T16:49:49.650Z"
   },
   {
    "duration": 0,
    "start_time": "2024-08-03T16:49:49.650Z"
   },
   {
    "duration": 0,
    "start_time": "2024-08-03T16:49:49.651Z"
   },
   {
    "duration": 0,
    "start_time": "2024-08-03T16:49:49.652Z"
   },
   {
    "duration": 0,
    "start_time": "2024-08-03T16:49:49.653Z"
   },
   {
    "duration": 0,
    "start_time": "2024-08-03T16:49:49.654Z"
   },
   {
    "duration": 0,
    "start_time": "2024-08-03T16:49:49.655Z"
   },
   {
    "duration": 0,
    "start_time": "2024-08-03T16:49:49.656Z"
   },
   {
    "duration": 0,
    "start_time": "2024-08-03T16:49:49.657Z"
   },
   {
    "duration": 0,
    "start_time": "2024-08-03T16:49:49.658Z"
   },
   {
    "duration": 0,
    "start_time": "2024-08-03T16:49:49.659Z"
   },
   {
    "duration": 4,
    "start_time": "2024-08-03T16:50:26.827Z"
   },
   {
    "duration": 3,
    "start_time": "2024-08-03T16:50:40.891Z"
   },
   {
    "duration": 4,
    "start_time": "2024-08-03T16:50:44.065Z"
   },
   {
    "duration": 5,
    "start_time": "2024-08-03T16:50:44.652Z"
   },
   {
    "duration": 4,
    "start_time": "2024-08-03T16:50:44.947Z"
   },
   {
    "duration": 181,
    "start_time": "2024-08-03T16:50:45.519Z"
   },
   {
    "duration": 3,
    "start_time": "2024-08-03T16:51:00.633Z"
   },
   {
    "duration": 7,
    "start_time": "2024-08-03T16:51:03.628Z"
   },
   {
    "duration": 4,
    "start_time": "2024-08-03T16:51:04.510Z"
   },
   {
    "duration": 4,
    "start_time": "2024-08-03T16:51:04.805Z"
   },
   {
    "duration": 79540,
    "start_time": "2024-08-03T16:51:05.543Z"
   },
   {
    "duration": 5,
    "start_time": "2024-08-03T16:53:00.643Z"
   },
   {
    "duration": 15,
    "start_time": "2024-08-03T16:58:16.544Z"
   },
   {
    "duration": 6,
    "start_time": "2024-08-03T16:59:45.762Z"
   },
   {
    "duration": 8,
    "start_time": "2024-08-03T16:59:46.284Z"
   },
   {
    "duration": 6,
    "start_time": "2024-08-03T16:59:46.611Z"
   },
   {
    "duration": 2,
    "start_time": "2024-08-03T16:59:46.924Z"
   },
   {
    "duration": 4,
    "start_time": "2024-08-03T16:59:47.854Z"
   },
   {
    "duration": 4,
    "start_time": "2024-08-03T16:59:48.247Z"
   },
   {
    "duration": 3,
    "start_time": "2024-08-03T17:00:01.292Z"
   },
   {
    "duration": 17,
    "start_time": "2024-08-03T17:00:01.619Z"
   },
   {
    "duration": 241,
    "start_time": "2024-08-03T17:00:02.667Z"
   },
   {
    "duration": 10,
    "start_time": "2024-08-03T17:00:03.339Z"
   },
   {
    "duration": 3,
    "start_time": "2024-08-03T17:00:03.747Z"
   },
   {
    "duration": 3,
    "start_time": "2024-08-03T17:00:04.763Z"
   },
   {
    "duration": 18,
    "start_time": "2024-08-03T17:00:05.073Z"
   },
   {
    "duration": 6,
    "start_time": "2024-08-03T17:00:05.318Z"
   },
   {
    "duration": 24,
    "start_time": "2024-08-03T17:00:06.432Z"
   },
   {
    "duration": 25,
    "start_time": "2024-08-03T17:00:06.825Z"
   },
   {
    "duration": 5,
    "start_time": "2024-08-03T17:00:07.382Z"
   },
   {
    "duration": 4,
    "start_time": "2024-08-03T17:00:07.791Z"
   },
   {
    "duration": 4,
    "start_time": "2024-08-03T17:00:09.590Z"
   },
   {
    "duration": 3,
    "start_time": "2024-08-03T17:00:16.893Z"
   },
   {
    "duration": 6,
    "start_time": "2024-08-03T17:00:20.147Z"
   },
   {
    "duration": 4,
    "start_time": "2024-08-03T17:00:20.490Z"
   },
   {
    "duration": 5,
    "start_time": "2024-08-03T17:00:20.654Z"
   },
   {
    "duration": 134061,
    "start_time": "2024-08-03T17:00:21.490Z"
   },
   {
    "duration": 6,
    "start_time": "2024-08-03T17:03:17.213Z"
   },
   {
    "duration": 3,
    "start_time": "2024-08-03T17:03:27.294Z"
   },
   {
    "duration": 4,
    "start_time": "2024-08-03T17:03:30.109Z"
   },
   {
    "duration": 4,
    "start_time": "2024-08-03T17:03:30.305Z"
   },
   {
    "duration": 159040,
    "start_time": "2024-08-03T17:03:31.713Z"
   },
   {
    "duration": 2139,
    "start_time": "2024-08-03T17:17:10.218Z"
   },
   {
    "duration": 6,
    "start_time": "2024-08-03T17:17:13.717Z"
   },
   {
    "duration": 4,
    "start_time": "2024-08-03T17:17:14.389Z"
   },
   {
    "duration": 3,
    "start_time": "2024-08-03T17:17:15.744Z"
   },
   {
    "duration": 3,
    "start_time": "2024-08-03T17:17:17.805Z"
   },
   {
    "duration": 30,
    "start_time": "2024-08-03T17:17:18.066Z"
   },
   {
    "duration": 6,
    "start_time": "2024-08-03T17:17:18.327Z"
   },
   {
    "duration": 12,
    "start_time": "2024-08-03T17:17:19.047Z"
   },
   {
    "duration": 12,
    "start_time": "2024-08-03T17:17:19.391Z"
   },
   {
    "duration": 30,
    "start_time": "2024-08-03T17:17:20.764Z"
   },
   {
    "duration": 7,
    "start_time": "2024-08-03T17:17:23.724Z"
   },
   {
    "duration": 3,
    "start_time": "2024-08-03T17:17:25.883Z"
   },
   {
    "duration": 4,
    "start_time": "2024-08-03T17:17:26.602Z"
   },
   {
    "duration": 6,
    "start_time": "2024-08-03T17:17:29.300Z"
   },
   {
    "duration": 5,
    "start_time": "2024-08-03T17:17:33.193Z"
   },
   {
    "duration": 7,
    "start_time": "2024-08-03T17:17:33.487Z"
   },
   {
    "duration": 10,
    "start_time": "2024-08-03T17:17:33.798Z"
   },
   {
    "duration": 6,
    "start_time": "2024-08-03T17:17:36.218Z"
   },
   {
    "duration": 7,
    "start_time": "2024-08-03T17:17:47.417Z"
   },
   {
    "duration": 5,
    "start_time": "2024-08-03T17:17:51.784Z"
   },
   {
    "duration": 6,
    "start_time": "2024-08-03T17:17:58.603Z"
   },
   {
    "duration": 6,
    "start_time": "2024-08-03T17:18:01.497Z"
   },
   {
    "duration": 3,
    "start_time": "2024-08-03T17:18:05.030Z"
   },
   {
    "duration": 4,
    "start_time": "2024-08-03T17:18:10.818Z"
   },
   {
    "duration": 6,
    "start_time": "2024-08-03T17:18:11.128Z"
   },
   {
    "duration": 3,
    "start_time": "2024-08-03T17:18:19.444Z"
   },
   {
    "duration": 4,
    "start_time": "2024-08-03T17:18:19.755Z"
   },
   {
    "duration": 6,
    "start_time": "2024-08-03T17:18:20.066Z"
   },
   {
    "duration": 310,
    "start_time": "2024-08-03T17:18:48.050Z"
   },
   {
    "duration": 215,
    "start_time": "2024-08-03T17:19:06.598Z"
   },
   {
    "duration": 407,
    "start_time": "2024-08-03T17:19:53.172Z"
   },
   {
    "duration": 4442,
    "start_time": "2024-08-03T17:20:06.871Z"
   },
   {
    "duration": 1017,
    "start_time": "2024-08-03T17:20:35.315Z"
   },
   {
    "duration": 118,
    "start_time": "2024-08-03T17:20:45.968Z"
   },
   {
    "duration": 147,
    "start_time": "2024-08-03T17:21:08.032Z"
   },
   {
    "duration": 134,
    "start_time": "2024-08-03T17:21:14.858Z"
   },
   {
    "duration": 117,
    "start_time": "2024-08-03T17:21:22.013Z"
   },
   {
    "duration": 6,
    "start_time": "2024-08-03T17:22:00.818Z"
   },
   {
    "duration": 5,
    "start_time": "2024-08-03T17:22:03.810Z"
   },
   {
    "duration": 6,
    "start_time": "2024-08-03T17:22:37.992Z"
   },
   {
    "duration": 6,
    "start_time": "2024-08-03T17:22:40.692Z"
   },
   {
    "duration": 15,
    "start_time": "2024-08-03T17:23:41.679Z"
   },
   {
    "duration": 1201,
    "start_time": "2024-08-03T17:24:38.986Z"
   },
   {
    "duration": 13,
    "start_time": "2024-08-03T17:24:50.031Z"
   },
   {
    "duration": 9,
    "start_time": "2024-08-03T17:25:03.892Z"
   },
   {
    "duration": 9,
    "start_time": "2024-08-03T17:26:18.823Z"
   },
   {
    "duration": 5,
    "start_time": "2024-08-03T17:27:56.833Z"
   },
   {
    "duration": 8,
    "start_time": "2024-08-03T17:27:57.388Z"
   },
   {
    "duration": 4,
    "start_time": "2024-08-03T17:27:57.815Z"
   },
   {
    "duration": 3,
    "start_time": "2024-08-03T17:27:58.157Z"
   },
   {
    "duration": 4,
    "start_time": "2024-08-03T17:27:59.728Z"
   },
   {
    "duration": 4,
    "start_time": "2024-08-03T17:28:00.220Z"
   },
   {
    "duration": 3,
    "start_time": "2024-08-03T17:28:52.571Z"
   },
   {
    "duration": 16,
    "start_time": "2024-08-03T17:28:52.931Z"
   },
   {
    "duration": 3,
    "start_time": "2024-08-03T17:29:03.742Z"
   },
   {
    "duration": 10,
    "start_time": "2024-08-03T17:29:04.053Z"
   },
   {
    "duration": 3,
    "start_time": "2024-08-03T17:29:04.478Z"
   },
   {
    "duration": 3,
    "start_time": "2024-08-03T17:29:06.197Z"
   },
   {
    "duration": 14,
    "start_time": "2024-08-03T17:29:06.458Z"
   },
   {
    "duration": 5,
    "start_time": "2024-08-03T17:29:06.736Z"
   },
   {
    "duration": 32,
    "start_time": "2024-08-03T17:29:09.077Z"
   },
   {
    "duration": 24,
    "start_time": "2024-08-03T17:29:09.584Z"
   },
   {
    "duration": 4,
    "start_time": "2024-08-03T17:29:09.994Z"
   },
   {
    "duration": 3,
    "start_time": "2024-08-03T17:29:11.205Z"
   },
   {
    "duration": 4,
    "start_time": "2024-08-03T17:29:11.549Z"
   },
   {
    "duration": 5,
    "start_time": "2024-08-03T17:30:07.222Z"
   },
   {
    "duration": 6,
    "start_time": "2024-08-03T17:30:12.721Z"
   },
   {
    "duration": 3,
    "start_time": "2024-08-03T17:30:51.052Z"
   },
   {
    "duration": 4735,
    "start_time": "2024-08-03T17:33:29.015Z"
   },
   {
    "duration": 3,
    "start_time": "2024-08-03T17:33:41.829Z"
   },
   {
    "duration": 3,
    "start_time": "2024-08-03T17:33:42.141Z"
   },
   {
    "duration": 3,
    "start_time": "2024-08-03T17:33:52.947Z"
   },
   {
    "duration": 1015,
    "start_time": "2024-08-03T17:33:53.372Z"
   },
   {
    "duration": 5,
    "start_time": "2024-08-03T17:34:05.827Z"
   },
   {
    "duration": 4,
    "start_time": "2024-08-03T17:34:08.035Z"
   },
   {
    "duration": 5,
    "start_time": "2024-08-03T17:34:08.329Z"
   },
   {
    "duration": 160500,
    "start_time": "2024-08-03T17:34:10.767Z"
   },
   {
    "duration": 3,
    "start_time": "2024-08-03T17:37:30.830Z"
   },
   {
    "duration": 1013,
    "start_time": "2024-08-03T17:37:31.861Z"
   },
   {
    "duration": 2464,
    "start_time": "2024-08-03T17:37:48.829Z"
   },
   {
    "duration": 5,
    "start_time": "2024-08-03T17:37:51.345Z"
   },
   {
    "duration": 20,
    "start_time": "2024-08-03T17:37:51.351Z"
   },
   {
    "duration": 5,
    "start_time": "2024-08-03T17:37:51.373Z"
   },
   {
    "duration": 7,
    "start_time": "2024-08-03T17:37:51.379Z"
   },
   {
    "duration": 62,
    "start_time": "2024-08-03T17:37:51.387Z"
   },
   {
    "duration": 5,
    "start_time": "2024-08-03T17:37:51.451Z"
   },
   {
    "duration": 22,
    "start_time": "2024-08-03T17:37:51.458Z"
   },
   {
    "duration": 65,
    "start_time": "2024-08-03T17:37:51.482Z"
   },
   {
    "duration": 23,
    "start_time": "2024-08-03T17:37:51.550Z"
   },
   {
    "duration": 7,
    "start_time": "2024-08-03T17:37:51.575Z"
   },
   {
    "duration": 5,
    "start_time": "2024-08-03T17:37:51.584Z"
   },
   {
    "duration": 58,
    "start_time": "2024-08-03T17:37:51.590Z"
   },
   {
    "duration": 9,
    "start_time": "2024-08-03T17:37:51.649Z"
   },
   {
    "duration": 8,
    "start_time": "2024-08-03T17:37:51.660Z"
   },
   {
    "duration": 5,
    "start_time": "2024-08-03T17:37:51.669Z"
   },
   {
    "duration": 8,
    "start_time": "2024-08-03T17:37:51.676Z"
   },
   {
    "duration": 9,
    "start_time": "2024-08-03T17:37:51.685Z"
   },
   {
    "duration": 54,
    "start_time": "2024-08-03T17:37:51.695Z"
   },
   {
    "duration": 8,
    "start_time": "2024-08-03T17:37:51.751Z"
   },
   {
    "duration": 27,
    "start_time": "2024-08-03T17:37:51.760Z"
   },
   {
    "duration": 8,
    "start_time": "2024-08-03T17:37:51.788Z"
   },
   {
    "duration": 51,
    "start_time": "2024-08-03T17:37:51.797Z"
   },
   {
    "duration": 7,
    "start_time": "2024-08-03T17:37:51.850Z"
   },
   {
    "duration": 5,
    "start_time": "2024-08-03T17:37:51.858Z"
   },
   {
    "duration": 6,
    "start_time": "2024-08-03T17:37:51.865Z"
   },
   {
    "duration": 9,
    "start_time": "2024-08-03T17:37:51.872Z"
   },
   {
    "duration": 15,
    "start_time": "2024-08-03T17:37:51.886Z"
   },
   {
    "duration": 47,
    "start_time": "2024-08-03T17:37:51.903Z"
   },
   {
    "duration": 520,
    "start_time": "2024-08-03T17:37:51.952Z"
   },
   {
    "duration": 267,
    "start_time": "2024-08-03T17:37:52.473Z"
   },
   {
    "duration": 466,
    "start_time": "2024-08-03T17:37:52.741Z"
   },
   {
    "duration": 3,
    "start_time": "2024-08-03T17:37:53.208Z"
   },
   {
    "duration": 44,
    "start_time": "2024-08-03T17:37:53.213Z"
   },
   {
    "duration": 13,
    "start_time": "2024-08-03T17:37:53.259Z"
   },
   {
    "duration": 4552,
    "start_time": "2024-08-03T17:37:53.273Z"
   },
   {
    "duration": 1032,
    "start_time": "2024-08-03T17:37:57.826Z"
   },
   {
    "duration": 127,
    "start_time": "2024-08-03T17:37:58.860Z"
   },
   {
    "duration": 151,
    "start_time": "2024-08-03T17:37:58.989Z"
   },
   {
    "duration": 142,
    "start_time": "2024-08-03T17:37:59.142Z"
   },
   {
    "duration": 129,
    "start_time": "2024-08-03T17:37:59.286Z"
   },
   {
    "duration": 3,
    "start_time": "2024-08-03T17:37:59.417Z"
   },
   {
    "duration": 6,
    "start_time": "2024-08-03T17:37:59.423Z"
   },
   {
    "duration": 18,
    "start_time": "2024-08-03T17:37:59.433Z"
   },
   {
    "duration": 5,
    "start_time": "2024-08-03T17:37:59.453Z"
   },
   {
    "duration": 6,
    "start_time": "2024-08-03T17:37:59.460Z"
   },
   {
    "duration": 29,
    "start_time": "2024-08-03T17:37:59.468Z"
   },
   {
    "duration": 9,
    "start_time": "2024-08-03T17:37:59.501Z"
   },
   {
    "duration": 6,
    "start_time": "2024-08-03T17:37:59.512Z"
   },
   {
    "duration": 10,
    "start_time": "2024-08-03T17:37:59.520Z"
   },
   {
    "duration": 16,
    "start_time": "2024-08-03T17:37:59.531Z"
   },
   {
    "duration": 29,
    "start_time": "2024-08-03T17:37:59.548Z"
   },
   {
    "duration": 20,
    "start_time": "2024-08-03T17:37:59.579Z"
   },
   {
    "duration": 6,
    "start_time": "2024-08-03T17:37:59.600Z"
   },
   {
    "duration": 11,
    "start_time": "2024-08-03T17:37:59.608Z"
   },
   {
    "duration": 8,
    "start_time": "2024-08-03T17:37:59.621Z"
   },
   {
    "duration": 21,
    "start_time": "2024-08-03T17:37:59.630Z"
   },
   {
    "duration": 21,
    "start_time": "2024-08-03T17:37:59.653Z"
   },
   {
    "duration": 16,
    "start_time": "2024-08-03T17:37:59.677Z"
   },
   {
    "duration": 11,
    "start_time": "2024-08-03T17:37:59.695Z"
   },
   {
    "duration": 44,
    "start_time": "2024-08-03T17:37:59.708Z"
   },
   {
    "duration": 45,
    "start_time": "2024-08-03T17:37:59.753Z"
   },
   {
    "duration": 31,
    "start_time": "2024-08-03T17:37:59.800Z"
   },
   {
    "duration": 7,
    "start_time": "2024-08-03T17:37:59.833Z"
   },
   {
    "duration": 31,
    "start_time": "2024-08-03T17:37:59.842Z"
   },
   {
    "duration": 21,
    "start_time": "2024-08-03T17:37:59.874Z"
   },
   {
    "duration": 20,
    "start_time": "2024-08-03T17:37:59.897Z"
   },
   {
    "duration": 23,
    "start_time": "2024-08-03T17:37:59.919Z"
   },
   {
    "duration": 23,
    "start_time": "2024-08-03T17:37:59.944Z"
   },
   {
    "duration": 17,
    "start_time": "2024-08-03T17:37:59.968Z"
   },
   {
    "duration": 8,
    "start_time": "2024-08-03T17:37:59.986Z"
   },
   {
    "duration": 54,
    "start_time": "2024-08-03T17:37:59.995Z"
   },
   {
    "duration": 118,
    "start_time": "2024-08-03T17:38:00.051Z"
   },
   {
    "duration": 433,
    "start_time": "2024-08-03T17:38:00.171Z"
   },
   {
    "duration": 135,
    "start_time": "2024-08-03T17:38:00.606Z"
   },
   {
    "duration": 4116,
    "start_time": "2024-08-03T17:38:00.742Z"
   },
   {
    "duration": 3,
    "start_time": "2024-08-03T17:38:04.860Z"
   },
   {
    "duration": 25,
    "start_time": "2024-08-03T17:38:04.865Z"
   },
   {
    "duration": 15,
    "start_time": "2024-08-03T17:38:04.892Z"
   },
   {
    "duration": 1075,
    "start_time": "2024-08-03T17:38:04.909Z"
   },
   {
    "duration": 6,
    "start_time": "2024-08-03T17:38:05.986Z"
   },
   {
    "duration": 41,
    "start_time": "2024-08-03T17:38:05.997Z"
   },
   {
    "duration": 186,
    "start_time": "2024-08-03T17:38:06.040Z"
   },
   {
    "duration": 164125,
    "start_time": "2024-08-03T17:38:06.228Z"
   },
   {
    "duration": 4,
    "start_time": "2024-08-03T17:40:50.355Z"
   },
   {
    "duration": 1257,
    "start_time": "2024-08-03T17:40:50.360Z"
   }
  ],
  "hide_input": false,
  "kernelspec": {
   "display_name": "Python 3 (ipykernel)",
   "language": "python",
   "name": "python3"
  },
  "language_info": {
   "codemirror_mode": {
    "name": "ipython",
    "version": 3
   },
   "file_extension": ".py",
   "mimetype": "text/x-python",
   "name": "python",
   "nbconvert_exporter": "python",
   "pygments_lexer": "ipython3",
   "version": "3.11.4"
  },
  "toc": {
   "base_numbering": 1,
   "nav_menu": {},
   "number_sections": false,
   "sideBar": true,
   "skip_h1_title": false,
   "title_cell": "Table of Contents",
   "title_sidebar": "Contents",
   "toc_cell": false,
   "toc_position": {
    "height": "calc(100% - 180px)",
    "left": "10px",
    "top": "150px",
    "width": "384px"
   },
   "toc_section_display": true,
   "toc_window_display": true
  },
  "varInspector": {
   "cols": {
    "lenName": 16,
    "lenType": 16,
    "lenVar": 40
   },
   "kernels_config": {
    "python": {
     "delete_cmd_postfix": "",
     "delete_cmd_prefix": "del ",
     "library": "var_list.py",
     "varRefreshCmd": "print(var_dic_list())"
    },
    "r": {
     "delete_cmd_postfix": ") ",
     "delete_cmd_prefix": "rm(",
     "library": "var_list.r",
     "varRefreshCmd": "cat(var_dic_list()) "
    }
   },
   "types_to_exclude": [
    "module",
    "function",
    "builtin_function_or_method",
    "instance",
    "_Feature"
   ],
   "window_display": false
  }
 },
 "nbformat": 4,
 "nbformat_minor": 5
}
