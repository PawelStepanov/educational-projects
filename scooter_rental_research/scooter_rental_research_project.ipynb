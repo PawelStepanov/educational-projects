{
 "cells": [
  {
   "cell_type": "markdown",
   "id": "240ec8ef",
   "metadata": {},
   "source": [
    "#  Исследование данных об аренде самокатов"
   ]
  },
  {
   "cell_type": "markdown",
   "id": "d06f2390",
   "metadata": {},
   "source": [
    "**Цель исследования** - проанализировать данные и проверить гипотезы, которые могут помочь бизнесу вырасти.\n",
    "\n",
    "**Задачи:**\n",
    "- Проверить гипотезу о том, что тратят ли пользователи с подпиской больше времени на поездки?\n",
    "- Проверить гипотезу о том, что расстояние одной поездки в 3130 метров — оптимальное с точки зрения износа самоката. Можно ли сказать, что среднее расстояние, которое проезжают пользователи с подпиской за одну поездку, не превышает 3130 метров?\n",
    "- Проверить гипотезу о том, что помесячная выручка от пользователей с подпиской по месяцам выше, чем выручка от пользователей без подписки.\n",
    "\n",
    "**План исследования:**\n",
    "\n",
    "1. Изучить данные\n",
    "2. Предобработка данных\n",
    "3. Исследовательский анализ данных\n",
    "4. Проверка гипотез\n",
    "5. Распределение (доп.задание)\n",
    "6. Сделать общий вывод исследования\n",
    "\n",
    "**Согласно документации к данным.**\n",
    "\n",
    "Таблица `users_go` содержит информацию  о пользователях.\n",
    "\n",
    "- `user_id` — уникальный идентификатор пользователя\n",
    "- `name` — имя пользователя\n",
    "- `age` — возраст\n",
    "- `city` — город\n",
    "- `subscription_type` — тип подписки (free, ultra)\n",
    "\n",
    "Таблица `rides_go` содержит информаицию о поездках пользователей.\n",
    "\n",
    "- `user_id` — уникальный идентификатор пользователя\n",
    "- `distance` — расстояние, которое пользователь проехал в текущей сессии (в метрах)\n",
    "- `duration` — продолжительность сессии (в минутах) — время с того момента, как пользователь нажал кнопку «Начать поездку» до момента, как он нажал кнопку «Завершить поездку»\n",
    "- `date` — дата совершения поездки\n",
    "\n",
    "Таблица `subscriptions_go` содержит информаицию о подписках пользователей.\n",
    "\n",
    "- `subscription_type` — тип подписки\n",
    "- `minute_price` — стоимость одной минуты поездки по данной подписке\n",
    "- `start_ride_price` — стоимость начала поездки\n",
    "- `subscription_fee` — стоимость ежемесячного платежа"
   ]
  },
  {
   "cell_type": "markdown",
   "id": "058611aa",
   "metadata": {},
   "source": [
    "# Изучение данных."
   ]
  },
  {
   "cell_type": "markdown",
   "id": "a15a04c8",
   "metadata": {},
   "source": [
    "## Импорт библиотек"
   ]
  },
  {
   "cell_type": "code",
   "execution_count": 1,
   "id": "22d777a1",
   "metadata": {
    "ExecuteTime": {
     "end_time": "2024-05-16T15:22:38.728617Z",
     "start_time": "2024-05-16T15:22:37.157493Z"
    }
   },
   "outputs": [],
   "source": [
    "import os\n",
    "import warnings\n",
    "\n",
    "import pandas as pd \n",
    "import seaborn as sns\n",
    "import matplotlib.pyplot as plt \n",
    "import numpy as np \n",
    "from scipy import stats as st # Импорт scipy для проверки гипотез\n",
    "from math import sqrt"
   ]
  },
  {
   "cell_type": "markdown",
   "id": "98e3a4e6",
   "metadata": {},
   "source": [
    "## Функции"
   ]
  },
  {
   "cell_type": "code",
   "execution_count": 2,
   "id": "657cb534",
   "metadata": {
    "ExecuteTime": {
     "end_time": "2024-05-16T15:22:38.734320Z",
     "start_time": "2024-05-16T15:22:38.729622Z"
    }
   },
   "outputs": [],
   "source": [
    "def ttest(result):\n",
    "    \n",
    "    '''\n",
    "    Функция принимает результат t-теста и\n",
    "    сравнивает его значение с нашим уровнем статистической значимости\n",
    "    и выводит значение p-value и решение о гипотезе\n",
    "    \n",
    "    '''\n",
    "    \n",
    "    alpha = 0.05\n",
    "    \n",
    "    print('p-значение:', result.pvalue)\n",
    "    \n",
    "    if (result.pvalue < alpha):\n",
    "        return 'Отвергаем нулевую гипотезу'\n",
    "    else:\n",
    "        return 'Не отвергаем нулевую гипотезу'"
   ]
  },
  {
   "cell_type": "code",
   "execution_count": 3,
   "id": "0c76c52f",
   "metadata": {
    "ExecuteTime": {
     "end_time": "2024-05-16T15:22:38.740292Z",
     "start_time": "2024-05-16T15:22:38.736327Z"
    }
   },
   "outputs": [],
   "source": [
    "def linspace(start, stop, num):\n",
    "    \n",
    "    '''\n",
    "    Функция помогает построить\n",
    "    ось Х\n",
    "    '''\n",
    "    \n",
    "    step = (stop - start) / (num - 1)\n",
    "    result = []\n",
    "    for i in range(num):\n",
    "        result.append(start + step * i)\n",
    "    return result"
   ]
  },
  {
   "cell_type": "markdown",
   "id": "5170c57e",
   "metadata": {},
   "source": [
    "## Загрузка данных"
   ]
  },
  {
   "cell_type": "markdown",
   "id": "0e87fc67",
   "metadata": {},
   "source": [
    "Прочитаем файлы `users_go.csv`, `rides_go.csv` и `subscriptions.csv` и сохраним их в переменных `users`, `rides` и `subscriptions`."
   ]
  },
  {
   "cell_type": "code",
   "execution_count": 4,
   "id": "5310573d",
   "metadata": {
    "ExecuteTime": {
     "end_time": "2024-05-16T15:22:38.745960Z",
     "start_time": "2024-05-16T15:22:38.741299Z"
    }
   },
   "outputs": [],
   "source": [
    "pth1 = r\"C:\\Users\\stepa\\Downloads\\users_go.csv\"\n",
    "pth2 = r\"C:\\Users\\stepa\\Downloads\\rides_go.csv\"\n",
    "pth3 = r\"C:\\Users\\stepa\\Downloads\\subscriptions_go.csv\""
   ]
  },
  {
   "cell_type": "code",
   "execution_count": 5,
   "id": "a652db75",
   "metadata": {
    "ExecuteTime": {
     "end_time": "2024-05-16T15:22:38.759567Z",
     "start_time": "2024-05-16T15:22:38.748967Z"
    }
   },
   "outputs": [],
   "source": [
    "if os.path.exists(pth1):\n",
    "    users = pd.read_csv(pth1)\n",
    "else:\n",
    "    print('Ошибка')"
   ]
  },
  {
   "cell_type": "code",
   "execution_count": 6,
   "id": "0b8351ad",
   "metadata": {
    "ExecuteTime": {
     "end_time": "2024-05-16T15:22:38.776117Z",
     "start_time": "2024-05-16T15:22:38.761572Z"
    }
   },
   "outputs": [],
   "source": [
    "if os.path.exists(pth2):\n",
    "    rides = pd.read_csv(pth2)\n",
    "else:\n",
    "    print('Ошибка')"
   ]
  },
  {
   "cell_type": "code",
   "execution_count": 7,
   "id": "5b0bbc97",
   "metadata": {
    "ExecuteTime": {
     "end_time": "2024-05-16T15:22:38.782147Z",
     "start_time": "2024-05-16T15:22:38.777122Z"
    }
   },
   "outputs": [],
   "source": [
    "if os.path.exists(pth3):\n",
    "    subscriptions = pd.read_csv(pth3)\n",
    "else:\n",
    "    print('Ошибка')"
   ]
  },
  {
   "cell_type": "markdown",
   "id": "4e6fa771",
   "metadata": {},
   "source": [
    "Выведим первые 10 строк таблиц `users`, `rides` и `subscriptions`."
   ]
  },
  {
   "cell_type": "code",
   "execution_count": 8,
   "id": "293eb4d8",
   "metadata": {
    "ExecuteTime": {
     "end_time": "2024-05-16T15:22:38.915566Z",
     "start_time": "2024-05-16T15:22:38.783185Z"
    }
   },
   "outputs": [
    {
     "data": {
      "text/html": [
       "<div>\n",
       "<style scoped>\n",
       "    .dataframe tbody tr th:only-of-type {\n",
       "        vertical-align: middle;\n",
       "    }\n",
       "\n",
       "    .dataframe tbody tr th {\n",
       "        vertical-align: top;\n",
       "    }\n",
       "\n",
       "    .dataframe thead th {\n",
       "        text-align: right;\n",
       "    }\n",
       "</style>\n",
       "<table border=\"1\" class=\"dataframe\">\n",
       "  <thead>\n",
       "    <tr style=\"text-align: right;\">\n",
       "      <th></th>\n",
       "      <th>user_id</th>\n",
       "      <th>name</th>\n",
       "      <th>age</th>\n",
       "      <th>city</th>\n",
       "      <th>subscription_type</th>\n",
       "    </tr>\n",
       "  </thead>\n",
       "  <tbody>\n",
       "    <tr>\n",
       "      <th>0</th>\n",
       "      <td>1</td>\n",
       "      <td>Кира</td>\n",
       "      <td>22</td>\n",
       "      <td>Тюмень</td>\n",
       "      <td>ultra</td>\n",
       "    </tr>\n",
       "    <tr>\n",
       "      <th>1</th>\n",
       "      <td>2</td>\n",
       "      <td>Станислав</td>\n",
       "      <td>31</td>\n",
       "      <td>Омск</td>\n",
       "      <td>ultra</td>\n",
       "    </tr>\n",
       "    <tr>\n",
       "      <th>2</th>\n",
       "      <td>3</td>\n",
       "      <td>Алексей</td>\n",
       "      <td>20</td>\n",
       "      <td>Москва</td>\n",
       "      <td>ultra</td>\n",
       "    </tr>\n",
       "    <tr>\n",
       "      <th>3</th>\n",
       "      <td>4</td>\n",
       "      <td>Константин</td>\n",
       "      <td>26</td>\n",
       "      <td>Ростов-на-Дону</td>\n",
       "      <td>ultra</td>\n",
       "    </tr>\n",
       "    <tr>\n",
       "      <th>4</th>\n",
       "      <td>5</td>\n",
       "      <td>Адель</td>\n",
       "      <td>28</td>\n",
       "      <td>Омск</td>\n",
       "      <td>ultra</td>\n",
       "    </tr>\n",
       "    <tr>\n",
       "      <th>5</th>\n",
       "      <td>6</td>\n",
       "      <td>Регина</td>\n",
       "      <td>25</td>\n",
       "      <td>Краснодар</td>\n",
       "      <td>ultra</td>\n",
       "    </tr>\n",
       "    <tr>\n",
       "      <th>6</th>\n",
       "      <td>7</td>\n",
       "      <td>Игорь</td>\n",
       "      <td>23</td>\n",
       "      <td>Омск</td>\n",
       "      <td>ultra</td>\n",
       "    </tr>\n",
       "    <tr>\n",
       "      <th>7</th>\n",
       "      <td>8</td>\n",
       "      <td>Юрий</td>\n",
       "      <td>23</td>\n",
       "      <td>Краснодар</td>\n",
       "      <td>ultra</td>\n",
       "    </tr>\n",
       "    <tr>\n",
       "      <th>8</th>\n",
       "      <td>9</td>\n",
       "      <td>Ян</td>\n",
       "      <td>21</td>\n",
       "      <td>Пятигорск</td>\n",
       "      <td>ultra</td>\n",
       "    </tr>\n",
       "    <tr>\n",
       "      <th>9</th>\n",
       "      <td>10</td>\n",
       "      <td>Валерий</td>\n",
       "      <td>18</td>\n",
       "      <td>Екатеринбург</td>\n",
       "      <td>ultra</td>\n",
       "    </tr>\n",
       "  </tbody>\n",
       "</table>\n",
       "</div>"
      ],
      "text/plain": [
       "   user_id        name  age            city subscription_type\n",
       "0        1        Кира   22          Тюмень             ultra\n",
       "1        2   Станислав   31            Омск             ultra\n",
       "2        3     Алексей   20          Москва             ultra\n",
       "3        4  Константин   26  Ростов-на-Дону             ultra\n",
       "4        5       Адель   28            Омск             ultra\n",
       "5        6      Регина   25       Краснодар             ultra\n",
       "6        7       Игорь   23            Омск             ultra\n",
       "7        8        Юрий   23       Краснодар             ultra\n",
       "8        9          Ян   21       Пятигорск             ultra\n",
       "9       10     Валерий   18    Екатеринбург             ultra"
      ]
     },
     "execution_count": 8,
     "metadata": {},
     "output_type": "execute_result"
    }
   ],
   "source": [
    "users.head(10)"
   ]
  },
  {
   "cell_type": "code",
   "execution_count": 9,
   "id": "0d2c9bba",
   "metadata": {
    "ExecuteTime": {
     "end_time": "2024-05-16T15:22:38.968394Z",
     "start_time": "2024-05-16T15:22:38.918629Z"
    }
   },
   "outputs": [
    {
     "data": {
      "text/html": [
       "<div>\n",
       "<style scoped>\n",
       "    .dataframe tbody tr th:only-of-type {\n",
       "        vertical-align: middle;\n",
       "    }\n",
       "\n",
       "    .dataframe tbody tr th {\n",
       "        vertical-align: top;\n",
       "    }\n",
       "\n",
       "    .dataframe thead th {\n",
       "        text-align: right;\n",
       "    }\n",
       "</style>\n",
       "<table border=\"1\" class=\"dataframe\">\n",
       "  <thead>\n",
       "    <tr style=\"text-align: right;\">\n",
       "      <th></th>\n",
       "      <th>user_id</th>\n",
       "      <th>distance</th>\n",
       "      <th>duration</th>\n",
       "      <th>date</th>\n",
       "    </tr>\n",
       "  </thead>\n",
       "  <tbody>\n",
       "    <tr>\n",
       "      <th>0</th>\n",
       "      <td>1</td>\n",
       "      <td>4409.919140</td>\n",
       "      <td>25.599769</td>\n",
       "      <td>2021-01-01</td>\n",
       "    </tr>\n",
       "    <tr>\n",
       "      <th>1</th>\n",
       "      <td>1</td>\n",
       "      <td>2617.592153</td>\n",
       "      <td>15.816871</td>\n",
       "      <td>2021-01-18</td>\n",
       "    </tr>\n",
       "    <tr>\n",
       "      <th>2</th>\n",
       "      <td>1</td>\n",
       "      <td>754.159807</td>\n",
       "      <td>6.232113</td>\n",
       "      <td>2021-04-20</td>\n",
       "    </tr>\n",
       "    <tr>\n",
       "      <th>3</th>\n",
       "      <td>1</td>\n",
       "      <td>2694.783254</td>\n",
       "      <td>18.511000</td>\n",
       "      <td>2021-08-11</td>\n",
       "    </tr>\n",
       "    <tr>\n",
       "      <th>4</th>\n",
       "      <td>1</td>\n",
       "      <td>4028.687306</td>\n",
       "      <td>26.265803</td>\n",
       "      <td>2021-08-28</td>\n",
       "    </tr>\n",
       "    <tr>\n",
       "      <th>5</th>\n",
       "      <td>1</td>\n",
       "      <td>2770.890808</td>\n",
       "      <td>16.650138</td>\n",
       "      <td>2021-10-09</td>\n",
       "    </tr>\n",
       "    <tr>\n",
       "      <th>6</th>\n",
       "      <td>1</td>\n",
       "      <td>3039.020292</td>\n",
       "      <td>14.927879</td>\n",
       "      <td>2021-10-19</td>\n",
       "    </tr>\n",
       "    <tr>\n",
       "      <th>7</th>\n",
       "      <td>1</td>\n",
       "      <td>2842.118050</td>\n",
       "      <td>23.117468</td>\n",
       "      <td>2021-11-06</td>\n",
       "    </tr>\n",
       "    <tr>\n",
       "      <th>8</th>\n",
       "      <td>1</td>\n",
       "      <td>3412.690668</td>\n",
       "      <td>15.238072</td>\n",
       "      <td>2021-11-14</td>\n",
       "    </tr>\n",
       "    <tr>\n",
       "      <th>9</th>\n",
       "      <td>1</td>\n",
       "      <td>748.690645</td>\n",
       "      <td>15.041884</td>\n",
       "      <td>2021-11-22</td>\n",
       "    </tr>\n",
       "  </tbody>\n",
       "</table>\n",
       "</div>"
      ],
      "text/plain": [
       "   user_id     distance   duration        date\n",
       "0        1  4409.919140  25.599769  2021-01-01\n",
       "1        1  2617.592153  15.816871  2021-01-18\n",
       "2        1   754.159807   6.232113  2021-04-20\n",
       "3        1  2694.783254  18.511000  2021-08-11\n",
       "4        1  4028.687306  26.265803  2021-08-28\n",
       "5        1  2770.890808  16.650138  2021-10-09\n",
       "6        1  3039.020292  14.927879  2021-10-19\n",
       "7        1  2842.118050  23.117468  2021-11-06\n",
       "8        1  3412.690668  15.238072  2021-11-14\n",
       "9        1   748.690645  15.041884  2021-11-22"
      ]
     },
     "execution_count": 9,
     "metadata": {},
     "output_type": "execute_result"
    }
   ],
   "source": [
    "rides.head(10)"
   ]
  },
  {
   "cell_type": "code",
   "execution_count": 10,
   "id": "f2ced70f",
   "metadata": {
    "ExecuteTime": {
     "end_time": "2024-05-16T15:22:38.976602Z",
     "start_time": "2024-05-16T15:22:38.969402Z"
    }
   },
   "outputs": [
    {
     "data": {
      "text/html": [
       "<div>\n",
       "<style scoped>\n",
       "    .dataframe tbody tr th:only-of-type {\n",
       "        vertical-align: middle;\n",
       "    }\n",
       "\n",
       "    .dataframe tbody tr th {\n",
       "        vertical-align: top;\n",
       "    }\n",
       "\n",
       "    .dataframe thead th {\n",
       "        text-align: right;\n",
       "    }\n",
       "</style>\n",
       "<table border=\"1\" class=\"dataframe\">\n",
       "  <thead>\n",
       "    <tr style=\"text-align: right;\">\n",
       "      <th></th>\n",
       "      <th>subscription_type</th>\n",
       "      <th>minute_price</th>\n",
       "      <th>start_ride_price</th>\n",
       "      <th>subscription_fee</th>\n",
       "    </tr>\n",
       "  </thead>\n",
       "  <tbody>\n",
       "    <tr>\n",
       "      <th>0</th>\n",
       "      <td>free</td>\n",
       "      <td>8</td>\n",
       "      <td>50</td>\n",
       "      <td>0</td>\n",
       "    </tr>\n",
       "    <tr>\n",
       "      <th>1</th>\n",
       "      <td>ultra</td>\n",
       "      <td>6</td>\n",
       "      <td>0</td>\n",
       "      <td>199</td>\n",
       "    </tr>\n",
       "  </tbody>\n",
       "</table>\n",
       "</div>"
      ],
      "text/plain": [
       "  subscription_type  minute_price  start_ride_price  subscription_fee\n",
       "0              free             8                50                 0\n",
       "1             ultra             6                 0               199"
      ]
     },
     "execution_count": 10,
     "metadata": {},
     "output_type": "execute_result"
    }
   ],
   "source": [
    "subscriptions.head()"
   ]
  },
  {
   "cell_type": "markdown",
   "id": "1505e536",
   "metadata": {},
   "source": [
    "Общая информация о данных таблиц `users`, `rides` и `subscriptions`."
   ]
  },
  {
   "cell_type": "code",
   "execution_count": 11,
   "id": "29d4334c",
   "metadata": {
    "ExecuteTime": {
     "end_time": "2024-05-16T15:22:38.989076Z",
     "start_time": "2024-05-16T15:22:38.978608Z"
    }
   },
   "outputs": [
    {
     "name": "stdout",
     "output_type": "stream",
     "text": [
      "<class 'pandas.core.frame.DataFrame'>\n",
      "RangeIndex: 1565 entries, 0 to 1564\n",
      "Data columns (total 5 columns):\n",
      " #   Column             Non-Null Count  Dtype \n",
      "---  ------             --------------  ----- \n",
      " 0   user_id            1565 non-null   int64 \n",
      " 1   name               1565 non-null   object\n",
      " 2   age                1565 non-null   int64 \n",
      " 3   city               1565 non-null   object\n",
      " 4   subscription_type  1565 non-null   object\n",
      "dtypes: int64(2), object(3)\n",
      "memory usage: 61.3+ KB\n"
     ]
    }
   ],
   "source": [
    "users.info()"
   ]
  },
  {
   "cell_type": "markdown",
   "id": "c3968bdd",
   "metadata": {},
   "source": [
    "Рассмотрим полученную информацию подробнее.\n",
    "\n",
    "Всего в таблице 5 столбцов, тип данных - `int`(2), `object`(3). \n",
    "Название столбцов соотвествует стилю. Количестов значений в столбцах одинаковое, а значит пропусков нет."
   ]
  },
  {
   "cell_type": "code",
   "execution_count": 12,
   "id": "87a9636f",
   "metadata": {
    "ExecuteTime": {
     "end_time": "2024-05-16T15:22:38.997873Z",
     "start_time": "2024-05-16T15:22:38.990082Z"
    }
   },
   "outputs": [
    {
     "name": "stdout",
     "output_type": "stream",
     "text": [
      "<class 'pandas.core.frame.DataFrame'>\n",
      "RangeIndex: 18068 entries, 0 to 18067\n",
      "Data columns (total 4 columns):\n",
      " #   Column    Non-Null Count  Dtype  \n",
      "---  ------    --------------  -----  \n",
      " 0   user_id   18068 non-null  int64  \n",
      " 1   distance  18068 non-null  float64\n",
      " 2   duration  18068 non-null  float64\n",
      " 3   date      18068 non-null  object \n",
      "dtypes: float64(2), int64(1), object(1)\n",
      "memory usage: 564.8+ KB\n"
     ]
    }
   ],
   "source": [
    "rides.info()"
   ]
  },
  {
   "cell_type": "markdown",
   "id": "df7389da",
   "metadata": {},
   "source": [
    "Рассмотрим полученную информацию подробнее.\n",
    "\n",
    "Всего в таблице 4 столбца, тип данных - `int`(1), `object`(1) и `float`(2)\n",
    "\n",
    "Название столбцов соотвествует стилю. Количестов значений в столбцах одинаковое, а значит пропусков нет.\n",
    "Стобец `date` имеет тип данных `object` необходимо привести его к типу данных `datetime`."
   ]
  },
  {
   "cell_type": "code",
   "execution_count": 13,
   "id": "2313b629",
   "metadata": {
    "ExecuteTime": {
     "end_time": "2024-05-16T15:22:39.004877Z",
     "start_time": "2024-05-16T15:22:38.998880Z"
    }
   },
   "outputs": [
    {
     "name": "stdout",
     "output_type": "stream",
     "text": [
      "<class 'pandas.core.frame.DataFrame'>\n",
      "RangeIndex: 2 entries, 0 to 1\n",
      "Data columns (total 4 columns):\n",
      " #   Column             Non-Null Count  Dtype \n",
      "---  ------             --------------  ----- \n",
      " 0   subscription_type  2 non-null      object\n",
      " 1   minute_price       2 non-null      int64 \n",
      " 2   start_ride_price   2 non-null      int64 \n",
      " 3   subscription_fee   2 non-null      int64 \n",
      "dtypes: int64(3), object(1)\n",
      "memory usage: 196.0+ bytes\n"
     ]
    }
   ],
   "source": [
    "subscriptions.info()"
   ]
  },
  {
   "cell_type": "markdown",
   "id": "07d75d75",
   "metadata": {},
   "source": [
    "Всего в таблице 4 столбца, тип данных - `int`(3) и `object`(1). Название столбцов соотвествует стилю. Количестов значений в столбцах одинаковое, а значит пропусков нет."
   ]
  },
  {
   "cell_type": "markdown",
   "id": "d03ac817",
   "metadata": {},
   "source": [
    "**Вывод:**\n",
    "\n",
    "Каждая сторка таблиц содержит информацию о пользователях, о его его поездках и типе подписке. Есть несколько проблем такие, как:\n",
    "1. Исрпавить тип данных в столбце `date` с `object` на `datetime`;\n",
    "2. Создать столбец `month` с номером месяца;\n",
    "3. Следует сделать проверку на явные дубликаты;\n",
    "4. Стоит проверить столбец `name` на неявные дубликаты, так в именах могли написать е или ё;\n",
    "5. Также в столбце `name` могли быть сокрщаенное написание имен, например, Влад - Владислав;\n",
    "6. Стоит провеить столбце `city` на неявные дубликаты."
   ]
  },
  {
   "cell_type": "markdown",
   "id": "10997048",
   "metadata": {},
   "source": [
    "# Предобработка данных."
   ]
  },
  {
   "cell_type": "markdown",
   "id": "c8ad8d03",
   "metadata": {},
   "source": [
    "## Изменение типов данных"
   ]
  },
  {
   "cell_type": "markdown",
   "id": "488980e7",
   "metadata": {},
   "source": [
    "Изменим тип данных в столбце `date` с `object` на `datetime` в таблице `rides`."
   ]
  },
  {
   "cell_type": "code",
   "execution_count": 14,
   "id": "1d647be5",
   "metadata": {
    "ExecuteTime": {
     "end_time": "2024-05-16T15:22:39.013787Z",
     "start_time": "2024-05-16T15:22:39.005883Z"
    }
   },
   "outputs": [],
   "source": [
    "rides['date'] = pd.to_datetime(rides['date'], format='%Y-%m-%d') # Меняем тип данных на datetime"
   ]
  },
  {
   "cell_type": "markdown",
   "id": "7ba18a72",
   "metadata": {},
   "source": [
    "## Работа с явными дубликатами"
   ]
  },
  {
   "cell_type": "markdown",
   "id": "8bbbf29f",
   "metadata": {},
   "source": [
    "Сделаем проверку на явные дубликаты во всех таблицах."
   ]
  },
  {
   "cell_type": "code",
   "execution_count": 15,
   "id": "2185c571",
   "metadata": {
    "ExecuteTime": {
     "end_time": "2024-05-16T15:22:39.019763Z",
     "start_time": "2024-05-16T15:22:39.014793Z"
    }
   },
   "outputs": [
    {
     "data": {
      "text/plain": [
       "31"
      ]
     },
     "execution_count": 15,
     "metadata": {},
     "output_type": "execute_result"
    }
   ],
   "source": [
    "users.duplicated().sum() # Проверяем количество явных дубликатов"
   ]
  },
  {
   "cell_type": "markdown",
   "id": "73aff778",
   "metadata": {},
   "source": [
    "В таблице `users` был найден 31 дубликат, удалим их."
   ]
  },
  {
   "cell_type": "code",
   "execution_count": 16,
   "id": "e5688923",
   "metadata": {
    "ExecuteTime": {
     "end_time": "2024-05-16T15:22:39.025212Z",
     "start_time": "2024-05-16T15:22:39.020769Z"
    }
   },
   "outputs": [],
   "source": [
    "users = users.drop_duplicates().reset_index(drop=True) # Удаляем дубликаты"
   ]
  },
  {
   "cell_type": "markdown",
   "id": "45573496",
   "metadata": {},
   "source": [
    "Еще раз проверим, удалились ли дубликаты."
   ]
  },
  {
   "cell_type": "code",
   "execution_count": 17,
   "id": "691de86d",
   "metadata": {
    "ExecuteTime": {
     "end_time": "2024-05-16T15:22:39.032748Z",
     "start_time": "2024-05-16T15:22:39.026728Z"
    }
   },
   "outputs": [
    {
     "data": {
      "text/plain": [
       "0"
      ]
     },
     "execution_count": 17,
     "metadata": {},
     "output_type": "execute_result"
    }
   ],
   "source": [
    "users.duplicated().sum() # Проверяем количество явных дубликатов"
   ]
  },
  {
   "cell_type": "markdown",
   "id": "b42daca8",
   "metadata": {},
   "source": [
    "Проверим таблицу `rides`."
   ]
  },
  {
   "cell_type": "code",
   "execution_count": 18,
   "id": "4cd88741",
   "metadata": {
    "ExecuteTime": {
     "end_time": "2024-05-16T15:22:39.040386Z",
     "start_time": "2024-05-16T15:22:39.033755Z"
    }
   },
   "outputs": [
    {
     "data": {
      "text/plain": [
       "0"
      ]
     },
     "execution_count": 18,
     "metadata": {},
     "output_type": "execute_result"
    }
   ],
   "source": [
    "rides.duplicated().sum() # Проверяем количество явных дубликатов"
   ]
  },
  {
   "cell_type": "markdown",
   "id": "0bb15da3",
   "metadata": {},
   "source": [
    "В таблице `rides` явных дубликатов нет."
   ]
  },
  {
   "cell_type": "markdown",
   "id": "d9523ca6",
   "metadata": {},
   "source": [
    "Проверим таблицу `subscriptions`"
   ]
  },
  {
   "cell_type": "code",
   "execution_count": 19,
   "id": "17828e14",
   "metadata": {
    "ExecuteTime": {
     "end_time": "2024-05-16T15:22:39.047392Z",
     "start_time": "2024-05-16T15:22:39.041901Z"
    }
   },
   "outputs": [
    {
     "data": {
      "text/plain": [
       "0"
      ]
     },
     "execution_count": 19,
     "metadata": {},
     "output_type": "execute_result"
    }
   ],
   "source": [
    "subscriptions.duplicated().sum() # Проверяем количество явных дубликатов"
   ]
  },
  {
   "cell_type": "markdown",
   "id": "4ff71431",
   "metadata": {},
   "source": [
    "В таблице `subscriptions` явных дубликатов нет."
   ]
  },
  {
   "cell_type": "markdown",
   "id": "0bdb1220",
   "metadata": {},
   "source": [
    "## Работа с неявными дубликатами"
   ]
  },
  {
   "cell_type": "markdown",
   "id": "5135e3e3",
   "metadata": {},
   "source": [
    "Предположим, что в именах используется е или ё, то есть проверим столбец `name` в таблице `users`."
   ]
  },
  {
   "cell_type": "code",
   "execution_count": 20,
   "id": "5a2a040e",
   "metadata": {
    "ExecuteTime": {
     "end_time": "2024-05-16T15:22:39.054210Z",
     "start_time": "2024-05-16T15:22:39.048399Z"
    }
   },
   "outputs": [
    {
     "data": {
      "text/plain": [
       "name\n",
       "Анна         22\n",
       "Мария        22\n",
       "Александр    17\n",
       "Дмитрий      17\n",
       "Никита       16\n",
       "             ..\n",
       "Матвей        3\n",
       "Семен         2\n",
       "Тихон         1\n",
       "Радмир        1\n",
       "Милана        1\n",
       "Name: count, Length: 194, dtype: int64"
      ]
     },
     "execution_count": 20,
     "metadata": {},
     "output_type": "execute_result"
    }
   ],
   "source": [
    "users['name'].value_counts() # Считаем количество уникальных значений"
   ]
  },
  {
   "cell_type": "markdown",
   "id": "dc2d1ff4",
   "metadata": {},
   "source": [
    "Заменим ё на е и еще раз посчитаем уникальные значения"
   ]
  },
  {
   "cell_type": "code",
   "execution_count": 21,
   "id": "602758ba",
   "metadata": {
    "ExecuteTime": {
     "end_time": "2024-05-16T15:22:39.059918Z",
     "start_time": "2024-05-16T15:22:39.056217Z"
    }
   },
   "outputs": [],
   "source": [
    "users['name'] = users['name'].str.replace('ё', 'е') # Меняем ё на е"
   ]
  },
  {
   "cell_type": "code",
   "execution_count": 22,
   "id": "2b2aac55",
   "metadata": {
    "ExecuteTime": {
     "end_time": "2024-05-16T15:22:39.067272Z",
     "start_time": "2024-05-16T15:22:39.061434Z"
    }
   },
   "outputs": [
    {
     "data": {
      "text/plain": [
       "name\n",
       "Анна         22\n",
       "Мария        22\n",
       "Александр    17\n",
       "Дмитрий      17\n",
       "Никита       16\n",
       "             ..\n",
       "Матвей        3\n",
       "Семен         2\n",
       "Тихон         1\n",
       "Радмир        1\n",
       "Милана        1\n",
       "Name: count, Length: 194, dtype: int64"
      ]
     },
     "execution_count": 22,
     "metadata": {},
     "output_type": "execute_result"
    }
   ],
   "source": [
    "users['name'].value_counts() # Считаем количество уникальных значений"
   ]
  },
  {
   "cell_type": "markdown",
   "id": "2710e151",
   "metadata": {},
   "source": [
    "Длина осталась такой же, значит таких дубликатов не было\n",
    "\n",
    "Теперь проверим уникальные значения столбца `name` и изучим их. Вдург есть одни и теже имена, которые записаны по разному."
   ]
  },
  {
   "cell_type": "code",
   "execution_count": 23,
   "id": "6762b011",
   "metadata": {
    "ExecuteTime": {
     "end_time": "2024-05-16T15:22:39.073044Z",
     "start_time": "2024-05-16T15:22:39.068278Z"
    }
   },
   "outputs": [
    {
     "data": {
      "text/plain": [
       "array(['Кира', 'Станислав', 'Алексей', 'Константин', 'Адель', 'Регина',\n",
       "       'Игорь', 'Юрий', 'Ян', 'Валерий', 'Агата', 'Марк', 'Ева',\n",
       "       'Антонина', 'Валерия', 'Амалия', 'Даниил', 'Аделина', 'Святогор',\n",
       "       'Борис', 'Вероника', 'Ростислав', 'Назар', 'Эдуард', 'Василий',\n",
       "       'Денис', 'Тамара', 'Николай', 'Эвелина', 'Федор', 'Руслан', 'Иван',\n",
       "       'Любовь', 'Ярослава', 'Майя', 'Ильдар', 'Данила', 'Нина',\n",
       "       'Стефания', 'Ясмина', 'Дмитрий', 'Александр', 'Одиссей', 'Арсений',\n",
       "       'Алла', 'Таисия', 'Максим', 'Юлиана', 'Павел', 'Карина', 'Алиса',\n",
       "       'Лидия', 'Рамиль', 'Родион', 'Ника', 'Оксана', 'Анастасия',\n",
       "       'Маргарита', 'Вера', 'Тимур', 'Никита', 'Лев', 'Влад', 'Артур',\n",
       "       'Анна', 'Ольга', 'Вячеслав', 'Ксения', 'Виталина', 'Владислав',\n",
       "       'Тамерлан', 'Амина', 'Вадим', 'Олеся', 'Зарина', 'Егор', 'Гордей',\n",
       "       'Лилия', 'Святослав', 'Роберт', 'Амир', 'Влада', 'Богдан',\n",
       "       'Полина', 'Марат', 'Елисей', 'Макар', 'Алина', 'Глеб', 'Андрей',\n",
       "       'Альбина', 'Людмила', 'Марсель', 'Милена', 'Диана', 'Дарина',\n",
       "       'Данил', 'Артемий', 'Лиана', 'Альберт', 'Герман', 'Жанна', 'Нелли',\n",
       "       'Евгения', 'Ариана', 'Самира', 'Захар', 'Эльвира', 'Екатерина',\n",
       "       'Инна', 'Демид', 'Яна', 'Михаил', 'Татьяна', 'Степан', 'Мелания',\n",
       "       'Тимофей', 'Ирина', 'Анжелика', 'Владислава', 'Елизавета',\n",
       "       'Мадина', 'Снежана', 'Даниэль', 'Рустам', 'Каролина', 'Ангелина',\n",
       "       'Владимир', 'Виктория', 'Валентина', 'Семен', 'Арина', 'Лариса',\n",
       "       'Есения', 'Галина', 'Кирилл', 'Игнат', 'Виталий', 'Эмилия',\n",
       "       'Виолетта', 'Яромир', 'Софья', 'Мирослава', 'Евгений', 'Варвара',\n",
       "       'Платон', 'Наталия', 'Анатолий', 'Кристина', 'Всеволод', 'Дарья',\n",
       "       'Наташа', 'Мария', 'Марина', 'Василиса', 'Юлия', 'Илья', 'Злата',\n",
       "       'Роман', 'Наталья', 'Элина', 'Арсен', 'Айдар', 'Алия', 'Виктор',\n",
       "       'Мирон', 'Ульяна', 'Георгий', 'Петр', 'Эльмира', 'Олег', 'Дамир',\n",
       "       'Самир', 'Ярослав', 'Камилла', 'Сергей', 'Эмиль', 'Радмир',\n",
       "       'Савелий', 'Елена', 'Антон', 'Мирослав', 'София', 'Тихон', 'Артем',\n",
       "       'Давид', 'Григорий', 'Алена', 'Светлана', 'Леонид', 'Александра',\n",
       "       'Василина', 'Милана', 'Матвей'], dtype=object)"
      ]
     },
     "execution_count": 23,
     "metadata": {},
     "output_type": "execute_result"
    }
   ],
   "source": [
    "users['name'].unique() # Выводим уникальные значения"
   ]
  },
  {
   "cell_type": "markdown",
   "id": "103e3199",
   "metadata": {},
   "source": [
    "В столбце `name` есть имена Наташа, Влад и Влада, заменим их на Наталия, Владислав и Владислава"
   ]
  },
  {
   "cell_type": "code",
   "execution_count": 24,
   "id": "6dc05e7c",
   "metadata": {
    "ExecuteTime": {
     "end_time": "2024-05-16T15:22:39.078555Z",
     "start_time": "2024-05-16T15:22:39.074050Z"
    }
   },
   "outputs": [],
   "source": [
    "users['name'] = (\n",
    "    users['name']\n",
    "    .replace('Наташа', 'Наталия')\n",
    "    .replace('Влад', 'Владислав')\n",
    "    .replace('Влада', 'Владислава')\n",
    ")"
   ]
  },
  {
   "cell_type": "markdown",
   "id": "a0380d48",
   "metadata": {},
   "source": [
    "Теперь проверим написание городов, а значит надо проверить столбец `city` таблицы  `users`."
   ]
  },
  {
   "cell_type": "code",
   "execution_count": 25,
   "id": "61b467ef",
   "metadata": {
    "ExecuteTime": {
     "end_time": "2024-05-16T15:22:39.084981Z",
     "start_time": "2024-05-16T15:22:39.079562Z"
    }
   },
   "outputs": [
    {
     "data": {
      "text/plain": [
       "city\n",
       "Пятигорск         219\n",
       "Екатеринбург      204\n",
       "Ростов-на-Дону    198\n",
       "Краснодар         193\n",
       "Сочи              189\n",
       "Омск              183\n",
       "Тюмень            180\n",
       "Москва            168\n",
       "Name: count, dtype: int64"
      ]
     },
     "execution_count": 25,
     "metadata": {},
     "output_type": "execute_result"
    }
   ],
   "source": [
    "users['city'].value_counts() # Считаем количество уникальных значений"
   ]
  },
  {
   "cell_type": "markdown",
   "id": "8a4bd56f",
   "metadata": {},
   "source": [
    "В столбце `city` неявные дубликаты не обнаружены."
   ]
  },
  {
   "cell_type": "markdown",
   "id": "ad05d821",
   "metadata": {},
   "source": [
    "## Добавление нового столбца"
   ]
  },
  {
   "cell_type": "markdown",
   "id": "b1cc9b9c",
   "metadata": {},
   "source": [
    "Создадим новый столбец `month` с номером месяца."
   ]
  },
  {
   "cell_type": "code",
   "execution_count": 26,
   "id": "982cad89",
   "metadata": {
    "ExecuteTime": {
     "end_time": "2024-05-16T15:22:39.090136Z",
     "start_time": "2024-05-16T15:22:39.085988Z"
    }
   },
   "outputs": [],
   "source": [
    "rides['month'] = rides['date'].dt.month # Находим номер месяца"
   ]
  },
  {
   "cell_type": "markdown",
   "id": "e3cd9c28",
   "metadata": {},
   "source": [
    "Выясним за какой период у нас данные. Для этого найдем максимальную и минимальную дату в столбце `date`"
   ]
  },
  {
   "cell_type": "code",
   "execution_count": 27,
   "id": "d1c24680",
   "metadata": {
    "ExecuteTime": {
     "end_time": "2024-05-16T15:22:39.100284Z",
     "start_time": "2024-05-16T15:22:39.095664Z"
    }
   },
   "outputs": [
    {
     "data": {
      "text/plain": [
       "(Timestamp('2021-12-30 00:00:00'), Timestamp('2021-01-01 00:00:00'))"
      ]
     },
     "execution_count": 27,
     "metadata": {},
     "output_type": "execute_result"
    }
   ],
   "source": [
    "rides['date'].max(), rides['date'].min()"
   ]
  },
  {
   "cell_type": "markdown",
   "id": "16ee68fc",
   "metadata": {},
   "source": [
    "В данном случае, у нас данные за 2021 год"
   ]
  },
  {
   "cell_type": "markdown",
   "id": "286411e7",
   "metadata": {},
   "source": [
    "## Вывод"
   ]
  },
  {
   "cell_type": "markdown",
   "id": "1b2ab904",
   "metadata": {},
   "source": [
    "Вывод:\n",
    "\n",
    "На данном этапе были сделаны следующие шаги:\n",
    "    \n",
    "1. Изменили тип данных в столбце `date` с `object` на `datetime`;\n",
    "2. Удалили явные дубликаты в столбце `users` в количестве 31;\n",
    "3. В столбце `users` заменили буквы в именах с ё на е;\n",
    "4. В столбце `users` были найдены неявные дубликаты:\n",
    "    \n",
    "    - Заменили Влад на Владислав\n",
    "    \n",
    "    - Заменили Влада на Владислава\n",
    "    \n",
    "    - Заменили Наташа на Наталию\n",
    "    \n",
    "\n",
    "5. Был проверен столбец `city` на наличие неявных дубликатов - **не обнаружены**.\n",
    "6. Добавили столбец `month` с номером месяца;\n",
    "7. Узнали, что данные в нашем распорежение только за 2021 год;"
   ]
  },
  {
   "cell_type": "markdown",
   "id": "9c727115",
   "metadata": {},
   "source": [
    "# Исследовательский анализ данных"
   ]
  },
  {
   "cell_type": "markdown",
   "id": "f4dc02fc",
   "metadata": {},
   "source": [
    "Изучим общую информацию об пользователях, а именно:\n",
    "1. частота встречаемости городов;\n",
    "2. cоотношение пользователей с подпиской и без подписки;\n",
    "3. возраст пользователей;\n",
    "4. расстояние, которое пользователь преодолел за одну поездку;\n",
    "5. продолжительность поездок.\n",
    "\n",
    "Для этого нам понадобятся таблицы `users` и `rides`"
   ]
  },
  {
   "cell_type": "markdown",
   "id": "e5d0234f",
   "metadata": {},
   "source": [
    "## Частота встречаемости городов"
   ]
  },
  {
   "cell_type": "markdown",
   "id": "736520f5",
   "metadata": {},
   "source": [
    "Найдем частоту городов, для это просто посчитаем количество уникальных значений в столбце `city` и сохраним их в переменной `users_city`. Также сделаем сортировку по убыванию."
   ]
  },
  {
   "cell_type": "code",
   "execution_count": 28,
   "id": "7f311a49",
   "metadata": {
    "ExecuteTime": {
     "end_time": "2024-05-16T15:22:39.105152Z",
     "start_time": "2024-05-16T15:22:39.101794Z"
    }
   },
   "outputs": [],
   "source": [
    "users_city = users['city'].value_counts().sort_values(ascending=False) # Считаем количество уникальных значений и сортируем"
   ]
  },
  {
   "cell_type": "markdown",
   "id": "7ad7994d",
   "metadata": {},
   "source": [
    "Теперь построим столбчатый график для наглядности"
   ]
  },
  {
   "cell_type": "code",
   "execution_count": 29,
   "id": "e7166d11",
   "metadata": {
    "ExecuteTime": {
     "end_time": "2024-05-16T15:22:39.299825Z",
     "start_time": "2024-05-16T15:22:39.106158Z"
    }
   },
   "outputs": [
    {
     "data": {
      "image/png": "[encoded data removed]",
      "text/plain": [
       "<Figure size 640x480 with 1 Axes>"
      ]
     },
     "metadata": {},
     "output_type": "display_data"
    }
   ],
   "source": [
    "sns.barplot(y=users_city.index, x=users_city)\n",
    "plt.title('Частота встерчаемости городов');"
   ]
  },
  {
   "cell_type": "markdown",
   "id": "347575cf",
   "metadata": {},
   "source": [
    "**Вывод**\n",
    "\n",
    "Как видно из построенного графика, самый частый город это Пятигорск, менее частый город Москва"
   ]
  },
  {
   "cell_type": "markdown",
   "id": "d0065e90",
   "metadata": {},
   "source": [
    "## Соотношение пользователей с подпиской и без подписки"
   ]
  },
  {
   "cell_type": "markdown",
   "id": "7de1969b",
   "metadata": {},
   "source": [
    "Для этого нам понадобится столбец `subscription_type` из таблиц `users` и по этому столбцу построим круговую диаграмму методом `pie`"
   ]
  },
  {
   "cell_type": "code",
   "execution_count": 30,
   "id": "188ba8b3",
   "metadata": {
    "ExecuteTime": {
     "end_time": "2024-05-16T15:22:39.305960Z",
     "start_time": "2024-05-16T15:22:39.299825Z"
    }
   },
   "outputs": [
    {
     "data": {
      "text/plain": [
       "subscription_type\n",
       "free     835\n",
       "ultra    699\n",
       "Name: count, dtype: int64"
      ]
     },
     "execution_count": 30,
     "metadata": {},
     "output_type": "execute_result"
    }
   ],
   "source": [
    "count_subscrip = users['subscription_type'].value_counts()\n",
    "count_subscrip"
   ]
  },
  {
   "cell_type": "code",
   "execution_count": 31,
   "id": "15655536",
   "metadata": {
    "ExecuteTime": {
     "end_time": "2024-05-16T15:22:39.439710Z",
     "start_time": "2024-05-16T15:22:39.306966Z"
    }
   },
   "outputs": [
    {
     "data": {
      "image/png": "[encoded data removed]",
      "text/plain": [
       "<Figure size 1000x600 with 1 Axes>"
      ]
     },
     "metadata": {},
     "output_type": "display_data"
    }
   ],
   "source": [
    "# Cтроим круговую диаграмму\n",
    "plt.figure(figsize=(10, 6))\n",
    "plt.pie(count_subscrip.values, \n",
    "        labels=count_subscrip.index, \n",
    "        wedgeprops={'linewidth':4, 'edgecolor':'white'}, \n",
    "        autopct='%.1f%%')\n",
    "plt.title('Соотношение пользователей с подпиской и без подписки')\n",
    "plt.show()"
   ]
  },
  {
   "cell_type": "markdown",
   "id": "26b5c9de",
   "metadata": {},
   "source": [
    "**Вывод**\n",
    "\n",
    "В результате, получается, что людей без подписок больше, а именно их 835 против 699 с подпиской или же 54% против 45%."
   ]
  },
  {
   "cell_type": "markdown",
   "id": "34f6d7ad",
   "metadata": {},
   "source": [
    "## Возраст пользователей"
   ]
  },
  {
   "cell_type": "markdown",
   "id": "5e9ff61b",
   "metadata": {},
   "source": [
    "Узнаем люди какого возраста пользуются приложением. Здесь нам необходимо взять таблицу `users` со столбцом `age` и по этим данным построить график."
   ]
  },
  {
   "cell_type": "code",
   "execution_count": 32,
   "id": "31c90aed",
   "metadata": {
    "ExecuteTime": {
     "end_time": "2024-05-16T15:22:39.444101Z",
     "start_time": "2024-05-16T15:22:39.440717Z"
    }
   },
   "outputs": [],
   "source": [
    "age_users = users['age'].value_counts() # Считаем количество уникальных значений столбца age"
   ]
  },
  {
   "cell_type": "code",
   "execution_count": 33,
   "id": "b9673ea9",
   "metadata": {
    "ExecuteTime": {
     "end_time": "2024-05-16T15:22:39.730456Z",
     "start_time": "2024-05-16T15:22:39.445106Z"
    }
   },
   "outputs": [
    {
     "data": {
      "image/png": "[encoded data removed]",
      "text/plain": [
       "<Figure size 1000x600 with 1 Axes>"
      ]
     },
     "metadata": {},
     "output_type": "display_data"
    }
   ],
   "source": [
    "plt.figure(figsize = (10, 6))\n",
    "sns.countplot(x='age', data=users)\n",
    "plt.title('Возраст пользователей');"
   ]
  },
  {
   "cell_type": "markdown",
   "id": "31accbc9",
   "metadata": {},
   "source": [
    "**Вывод**\n",
    "\n",
    "По графику видно, что больше всего самокаты используют пользователи 25-ти лет.  Также можно сказать, что люди от 20 до 30 лет являются основными пользователями аренды самокатов."
   ]
  },
  {
   "cell_type": "markdown",
   "id": "3917b358",
   "metadata": {},
   "source": [
    "## Расстояние, которое пользователь преодолел за одну поездку"
   ]
  },
  {
   "cell_type": "markdown",
   "id": "5248294a",
   "metadata": {},
   "source": [
    "Посмотрим медианное, максимально и минимальное расстояние, которые пользователи преодолевают за одну поездку. Для этого возьмем столбец `distance` из `rides` и создадим сводную таблицу по пользователям. Для того, чтобы более подробно изучить данные."
   ]
  },
  {
   "cell_type": "code",
   "execution_count": 34,
   "id": "ef463c7f",
   "metadata": {
    "ExecuteTime": {
     "end_time": "2024-05-16T15:22:39.751027Z",
     "start_time": "2024-05-16T15:22:39.731970Z"
    }
   },
   "outputs": [],
   "source": [
    "# Создаем сводную таблицу и записываем ее в переменную users_distance\n",
    "users_distance = (\n",
    "    rides\n",
    "    .pivot_table(index='user_id', \n",
    "                 values='distance', \n",
    "                 aggfunc=['median', 'max', 'min'], \n",
    "                 margins=True)\n",
    ")"
   ]
  },
  {
   "cell_type": "markdown",
   "id": "a03120f0",
   "metadata": {},
   "source": [
    "Выводим первые 5 и последние 5 строчек полученной таблицы"
   ]
  },
  {
   "cell_type": "code",
   "execution_count": 35,
   "id": "ba7bf042",
   "metadata": {
    "ExecuteTime": {
     "end_time": "2024-05-16T15:22:39.761564Z",
     "start_time": "2024-05-16T15:22:39.752545Z"
    }
   },
   "outputs": [
    {
     "data": {
      "text/html": [
       "<div>\n",
       "<style scoped>\n",
       "    .dataframe tbody tr th:only-of-type {\n",
       "        vertical-align: middle;\n",
       "    }\n",
       "\n",
       "    .dataframe tbody tr th {\n",
       "        vertical-align: top;\n",
       "    }\n",
       "\n",
       "    .dataframe thead tr th {\n",
       "        text-align: left;\n",
       "    }\n",
       "\n",
       "    .dataframe thead tr:last-of-type th {\n",
       "        text-align: right;\n",
       "    }\n",
       "</style>\n",
       "<table border=\"1\" class=\"dataframe\">\n",
       "  <thead>\n",
       "    <tr>\n",
       "      <th></th>\n",
       "      <th>median</th>\n",
       "      <th>max</th>\n",
       "      <th>min</th>\n",
       "    </tr>\n",
       "    <tr>\n",
       "      <th></th>\n",
       "      <th>distance</th>\n",
       "      <th>distance</th>\n",
       "      <th>distance</th>\n",
       "    </tr>\n",
       "    <tr>\n",
       "      <th>user_id</th>\n",
       "      <th></th>\n",
       "      <th></th>\n",
       "      <th></th>\n",
       "    </tr>\n",
       "  </thead>\n",
       "  <tbody>\n",
       "    <tr>\n",
       "      <th>1</th>\n",
       "      <td>2806.504429</td>\n",
       "      <td>4409.919140</td>\n",
       "      <td>748.690645</td>\n",
       "    </tr>\n",
       "    <tr>\n",
       "      <th>2</th>\n",
       "      <td>3105.086678</td>\n",
       "      <td>4029.116927</td>\n",
       "      <td>923.007439</td>\n",
       "    </tr>\n",
       "    <tr>\n",
       "      <th>3</th>\n",
       "      <td>2858.693148</td>\n",
       "      <td>5335.212090</td>\n",
       "      <td>2560.495330</td>\n",
       "    </tr>\n",
       "    <tr>\n",
       "      <th>4</th>\n",
       "      <td>3373.276987</td>\n",
       "      <td>4649.488243</td>\n",
       "      <td>724.559572</td>\n",
       "    </tr>\n",
       "    <tr>\n",
       "      <th>5</th>\n",
       "      <td>3244.021903</td>\n",
       "      <td>4194.713218</td>\n",
       "      <td>2561.108241</td>\n",
       "    </tr>\n",
       "    <tr>\n",
       "      <th>...</th>\n",
       "      <td>...</td>\n",
       "      <td>...</td>\n",
       "      <td>...</td>\n",
       "    </tr>\n",
       "    <tr>\n",
       "      <th>1531</th>\n",
       "      <td>2999.913238</td>\n",
       "      <td>4928.408206</td>\n",
       "      <td>375.107762</td>\n",
       "    </tr>\n",
       "    <tr>\n",
       "      <th>1532</th>\n",
       "      <td>2615.477834</td>\n",
       "      <td>4602.642357</td>\n",
       "      <td>303.787850</td>\n",
       "    </tr>\n",
       "    <tr>\n",
       "      <th>1533</th>\n",
       "      <td>2965.546552</td>\n",
       "      <td>4581.943632</td>\n",
       "      <td>310.488247</td>\n",
       "    </tr>\n",
       "    <tr>\n",
       "      <th>1534</th>\n",
       "      <td>3434.290912</td>\n",
       "      <td>4928.173852</td>\n",
       "      <td>195.447469</td>\n",
       "    </tr>\n",
       "    <tr>\n",
       "      <th>All</th>\n",
       "      <td>3133.609994</td>\n",
       "      <td>7211.007745</td>\n",
       "      <td>0.855683</td>\n",
       "    </tr>\n",
       "  </tbody>\n",
       "</table>\n",
       "<p>1535 rows × 3 columns</p>\n",
       "</div>"
      ],
      "text/plain": [
       "              median          max          min\n",
       "            distance     distance     distance\n",
       "user_id                                       \n",
       "1        2806.504429  4409.919140   748.690645\n",
       "2        3105.086678  4029.116927   923.007439\n",
       "3        2858.693148  5335.212090  2560.495330\n",
       "4        3373.276987  4649.488243   724.559572\n",
       "5        3244.021903  4194.713218  2561.108241\n",
       "...              ...          ...          ...\n",
       "1531     2999.913238  4928.408206   375.107762\n",
       "1532     2615.477834  4602.642357   303.787850\n",
       "1533     2965.546552  4581.943632   310.488247\n",
       "1534     3434.290912  4928.173852   195.447469\n",
       "All      3133.609994  7211.007745     0.855683\n",
       "\n",
       "[1535 rows x 3 columns]"
      ]
     },
     "execution_count": 35,
     "metadata": {},
     "output_type": "execute_result"
    }
   ],
   "source": [
    "users_distance # Выводим значения"
   ]
  },
  {
   "cell_type": "markdown",
   "id": "a6185831",
   "metadata": {},
   "source": [
    "3133 метров столько в среднем пользователи преодолевают за одну поездку, максимальное расстояние 7211, а вот минимальное 85 см, что выглядит аномально, надо его проверить."
   ]
  },
  {
   "cell_type": "markdown",
   "id": "84b2d2fd",
   "metadata": {
    "ExecuteTime": {
     "end_time": "2023-12-09T13:52:07.496078Z",
     "start_time": "2023-12-09T13:52:07.482061Z"
    }
   },
   "source": [
    "проверим есть ли еще значения в таблице `rides` меньше 1."
   ]
  },
  {
   "cell_type": "code",
   "execution_count": 36,
   "id": "62e4f726",
   "metadata": {
    "ExecuteTime": {
     "end_time": "2024-05-16T15:22:39.771593Z",
     "start_time": "2024-05-16T15:22:39.763572Z"
    }
   },
   "outputs": [
    {
     "data": {
      "text/html": [
       "<div>\n",
       "<style scoped>\n",
       "    .dataframe tbody tr th:only-of-type {\n",
       "        vertical-align: middle;\n",
       "    }\n",
       "\n",
       "    .dataframe tbody tr th {\n",
       "        vertical-align: top;\n",
       "    }\n",
       "\n",
       "    .dataframe thead th {\n",
       "        text-align: right;\n",
       "    }\n",
       "</style>\n",
       "<table border=\"1\" class=\"dataframe\">\n",
       "  <thead>\n",
       "    <tr style=\"text-align: right;\">\n",
       "      <th></th>\n",
       "      <th>user_id</th>\n",
       "      <th>distance</th>\n",
       "      <th>duration</th>\n",
       "      <th>date</th>\n",
       "      <th>month</th>\n",
       "    </tr>\n",
       "  </thead>\n",
       "  <tbody>\n",
       "    <tr>\n",
       "      <th>11555</th>\n",
       "      <td>1069</td>\n",
       "      <td>0.855683</td>\n",
       "      <td>10.001902</td>\n",
       "      <td>2021-01-31</td>\n",
       "      <td>1</td>\n",
       "    </tr>\n",
       "  </tbody>\n",
       "</table>\n",
       "</div>"
      ],
      "text/plain": [
       "       user_id  distance   duration       date  month\n",
       "11555     1069  0.855683  10.001902 2021-01-31      1"
      ]
     },
     "execution_count": 36,
     "metadata": {},
     "output_type": "execute_result"
    }
   ],
   "source": [
    "rides[rides['distance'] < 1] # Смотрим на значения меньше 1"
   ]
  },
  {
   "cell_type": "markdown",
   "id": "c2a6412f",
   "metadata": {},
   "source": [
    "Удалять данное значение не будем, так как могли быть разные причины по которым получилось такое значение от технических до проблем у самого пользователя."
   ]
  },
  {
   "cell_type": "markdown",
   "id": "b5d6a56b",
   "metadata": {},
   "source": [
    "Построим график по столбцу `distance` таблицы `rides`."
   ]
  },
  {
   "cell_type": "code",
   "execution_count": 37,
   "id": "225f1f0c",
   "metadata": {
    "ExecuteTime": {
     "end_time": "2024-05-16T15:22:40.078279Z",
     "start_time": "2024-05-16T15:22:39.772601Z"
    }
   },
   "outputs": [
    {
     "data": {
      "image/png": "[encoded data removed]",
      "text/plain": [
       "<Figure size 1000x600 with 1 Axes>"
      ]
     },
     "metadata": {},
     "output_type": "display_data"
    }
   ],
   "source": [
    "# Строим столбчатый график расстояния\n",
    "plt.figure(figsize=(10, 6))\n",
    "plt.grid()\n",
    "sns.histplot(rides['distance'], kde=True, bins=50)\n",
    "plt.title('Расстояние, которое пользователь преодолел за одну поездку');"
   ]
  },
  {
   "cell_type": "markdown",
   "id": "6eef8730",
   "metadata": {},
   "source": [
    "**Вывод**\n",
    "\n",
    "Как видно по графику, что наиболее часто пользователи проезжают за одну поездку около 3000м, пользователи проезжающих больше 5000м довольно мало. Также заметен небольшой пик в районе 500м это может говорить, о том, что определенная часть пользователей ездит на небольшие расстояние, то есть, например, часто берут самокат для того, чтобы доехать до остановки или магазина."
   ]
  },
  {
   "cell_type": "markdown",
   "id": "92a66c7d",
   "metadata": {},
   "source": [
    "## Продолжительность поездок"
   ]
  },
  {
   "cell_type": "markdown",
   "id": "ec27fee2",
   "metadata": {},
   "source": [
    "Сделаем тоже самое для продолжительности поездок. Для этого возьмем столбец `duration` из `rides` и создадим сводную таблицу по пользователям и также изучим данные более подробно."
   ]
  },
  {
   "cell_type": "code",
   "execution_count": 38,
   "id": "936c53b1",
   "metadata": {
    "ExecuteTime": {
     "end_time": "2024-05-16T15:22:40.099827Z",
     "start_time": "2024-05-16T15:22:40.079793Z"
    }
   },
   "outputs": [],
   "source": [
    "# создаем сводную таблицу и записываем ее в переменную users_duration\n",
    "users_duration = (\n",
    "    rides\n",
    "    .pivot_table(index='user_id', \n",
    "                 values='duration', \n",
    "                 aggfunc=['median', 'max', 'min'], \n",
    "                 margins=True)\n",
    ")"
   ]
  },
  {
   "cell_type": "markdown",
   "id": "47fe4718",
   "metadata": {},
   "source": [
    "Выводим первые 5 и последние 5 строчек полученной таблицы."
   ]
  },
  {
   "cell_type": "code",
   "execution_count": 39,
   "id": "ee42d3b9",
   "metadata": {
    "ExecuteTime": {
     "end_time": "2024-05-16T15:22:40.110381Z",
     "start_time": "2024-05-16T15:22:40.101344Z"
    }
   },
   "outputs": [
    {
     "data": {
      "text/html": [
       "<div>\n",
       "<style scoped>\n",
       "    .dataframe tbody tr th:only-of-type {\n",
       "        vertical-align: middle;\n",
       "    }\n",
       "\n",
       "    .dataframe tbody tr th {\n",
       "        vertical-align: top;\n",
       "    }\n",
       "\n",
       "    .dataframe thead tr th {\n",
       "        text-align: left;\n",
       "    }\n",
       "\n",
       "    .dataframe thead tr:last-of-type th {\n",
       "        text-align: right;\n",
       "    }\n",
       "</style>\n",
       "<table border=\"1\" class=\"dataframe\">\n",
       "  <thead>\n",
       "    <tr>\n",
       "      <th></th>\n",
       "      <th>median</th>\n",
       "      <th>max</th>\n",
       "      <th>min</th>\n",
       "    </tr>\n",
       "    <tr>\n",
       "      <th></th>\n",
       "      <th>duration</th>\n",
       "      <th>duration</th>\n",
       "      <th>duration</th>\n",
       "    </tr>\n",
       "    <tr>\n",
       "      <th>user_id</th>\n",
       "      <th></th>\n",
       "      <th></th>\n",
       "      <th></th>\n",
       "    </tr>\n",
       "  </thead>\n",
       "  <tbody>\n",
       "    <tr>\n",
       "      <th>1</th>\n",
       "      <td>16.233505</td>\n",
       "      <td>26.265803</td>\n",
       "      <td>6.232113</td>\n",
       "    </tr>\n",
       "    <tr>\n",
       "      <th>2</th>\n",
       "      <td>18.779128</td>\n",
       "      <td>26.027432</td>\n",
       "      <td>6.914760</td>\n",
       "    </tr>\n",
       "    <tr>\n",
       "      <th>3</th>\n",
       "      <td>19.835873</td>\n",
       "      <td>25.848038</td>\n",
       "      <td>12.654443</td>\n",
       "    </tr>\n",
       "    <tr>\n",
       "      <th>4</th>\n",
       "      <td>20.723324</td>\n",
       "      <td>35.896929</td>\n",
       "      <td>11.811399</td>\n",
       "    </tr>\n",
       "    <tr>\n",
       "      <th>5</th>\n",
       "      <td>14.904990</td>\n",
       "      <td>21.680107</td>\n",
       "      <td>11.087710</td>\n",
       "    </tr>\n",
       "    <tr>\n",
       "      <th>...</th>\n",
       "      <td>...</td>\n",
       "      <td>...</td>\n",
       "      <td>...</td>\n",
       "    </tr>\n",
       "    <tr>\n",
       "      <th>1531</th>\n",
       "      <td>18.308701</td>\n",
       "      <td>30.428027</td>\n",
       "      <td>5.406654</td>\n",
       "    </tr>\n",
       "    <tr>\n",
       "      <th>1532</th>\n",
       "      <td>14.846434</td>\n",
       "      <td>32.013212</td>\n",
       "      <td>7.792490</td>\n",
       "    </tr>\n",
       "    <tr>\n",
       "      <th>1533</th>\n",
       "      <td>19.772353</td>\n",
       "      <td>27.989727</td>\n",
       "      <td>6.299996</td>\n",
       "    </tr>\n",
       "    <tr>\n",
       "      <th>1534</th>\n",
       "      <td>18.343604</td>\n",
       "      <td>26.916544</td>\n",
       "      <td>6.469074</td>\n",
       "    </tr>\n",
       "    <tr>\n",
       "      <th>All</th>\n",
       "      <td>17.678395</td>\n",
       "      <td>40.823963</td>\n",
       "      <td>0.500000</td>\n",
       "    </tr>\n",
       "  </tbody>\n",
       "</table>\n",
       "<p>1535 rows × 3 columns</p>\n",
       "</div>"
      ],
      "text/plain": [
       "            median        max        min\n",
       "          duration   duration   duration\n",
       "user_id                                 \n",
       "1        16.233505  26.265803   6.232113\n",
       "2        18.779128  26.027432   6.914760\n",
       "3        19.835873  25.848038  12.654443\n",
       "4        20.723324  35.896929  11.811399\n",
       "5        14.904990  21.680107  11.087710\n",
       "...            ...        ...        ...\n",
       "1531     18.308701  30.428027   5.406654\n",
       "1532     14.846434  32.013212   7.792490\n",
       "1533     19.772353  27.989727   6.299996\n",
       "1534     18.343604  26.916544   6.469074\n",
       "All      17.678395  40.823963   0.500000\n",
       "\n",
       "[1535 rows x 3 columns]"
      ]
     },
     "execution_count": 39,
     "metadata": {},
     "output_type": "execute_result"
    }
   ],
   "source": [
    "users_duration # Выводим значения"
   ]
  },
  {
   "cell_type": "markdown",
   "id": "87314936",
   "metadata": {},
   "source": [
    "17.7 минут, столько в среднем пользователи тратят на одну поездку. Максимальное затраченое время 40.8, а минмальное 5 секунд, время выглядит аномальным, стоит его проверить.\n",
    "\n",
    "Выведем время меньше минуты и изучим данные."
   ]
  },
  {
   "cell_type": "code",
   "execution_count": 40,
   "id": "786ca50a",
   "metadata": {
    "ExecuteTime": {
     "end_time": "2024-05-16T15:22:40.121961Z",
     "start_time": "2024-05-16T15:22:40.111387Z"
    }
   },
   "outputs": [
    {
     "data": {
      "text/html": [
       "<div>\n",
       "<style scoped>\n",
       "    .dataframe tbody tr th:only-of-type {\n",
       "        vertical-align: middle;\n",
       "    }\n",
       "\n",
       "    .dataframe tbody tr th {\n",
       "        vertical-align: top;\n",
       "    }\n",
       "\n",
       "    .dataframe thead th {\n",
       "        text-align: right;\n",
       "    }\n",
       "</style>\n",
       "<table border=\"1\" class=\"dataframe\">\n",
       "  <thead>\n",
       "    <tr style=\"text-align: right;\">\n",
       "      <th></th>\n",
       "      <th>user_id</th>\n",
       "      <th>distance</th>\n",
       "      <th>duration</th>\n",
       "      <th>date</th>\n",
       "      <th>month</th>\n",
       "    </tr>\n",
       "  </thead>\n",
       "  <tbody>\n",
       "    <tr>\n",
       "      <th>6531</th>\n",
       "      <td>701</td>\n",
       "      <td>4196.445201</td>\n",
       "      <td>0.5</td>\n",
       "      <td>2021-08-31</td>\n",
       "      <td>8</td>\n",
       "    </tr>\n",
       "    <tr>\n",
       "      <th>6570</th>\n",
       "      <td>704</td>\n",
       "      <td>4830.824371</td>\n",
       "      <td>0.5</td>\n",
       "      <td>2021-10-14</td>\n",
       "      <td>10</td>\n",
       "    </tr>\n",
       "    <tr>\n",
       "      <th>6680</th>\n",
       "      <td>712</td>\n",
       "      <td>4684.004397</td>\n",
       "      <td>0.5</td>\n",
       "      <td>2021-03-04</td>\n",
       "      <td>3</td>\n",
       "    </tr>\n",
       "    <tr>\n",
       "      <th>6695</th>\n",
       "      <td>713</td>\n",
       "      <td>5215.642710</td>\n",
       "      <td>0.5</td>\n",
       "      <td>2021-02-25</td>\n",
       "      <td>2</td>\n",
       "    </tr>\n",
       "    <tr>\n",
       "      <th>6768</th>\n",
       "      <td>718</td>\n",
       "      <td>5197.436649</td>\n",
       "      <td>0.5</td>\n",
       "      <td>2021-02-11</td>\n",
       "      <td>2</td>\n",
       "    </tr>\n",
       "    <tr>\n",
       "      <th>...</th>\n",
       "      <td>...</td>\n",
       "      <td>...</td>\n",
       "      <td>...</td>\n",
       "      <td>...</td>\n",
       "      <td>...</td>\n",
       "    </tr>\n",
       "    <tr>\n",
       "      <th>17004</th>\n",
       "      <td>1460</td>\n",
       "      <td>5531.335845</td>\n",
       "      <td>0.5</td>\n",
       "      <td>2021-01-19</td>\n",
       "      <td>1</td>\n",
       "    </tr>\n",
       "    <tr>\n",
       "      <th>17242</th>\n",
       "      <td>1477</td>\n",
       "      <td>6724.932981</td>\n",
       "      <td>0.5</td>\n",
       "      <td>2021-01-12</td>\n",
       "      <td>1</td>\n",
       "    </tr>\n",
       "    <tr>\n",
       "      <th>17314</th>\n",
       "      <td>1483</td>\n",
       "      <td>4445.481070</td>\n",
       "      <td>0.5</td>\n",
       "      <td>2021-03-06</td>\n",
       "      <td>3</td>\n",
       "    </tr>\n",
       "    <tr>\n",
       "      <th>17505</th>\n",
       "      <td>1496</td>\n",
       "      <td>5722.551787</td>\n",
       "      <td>0.5</td>\n",
       "      <td>2021-02-14</td>\n",
       "      <td>2</td>\n",
       "    </tr>\n",
       "    <tr>\n",
       "      <th>17909</th>\n",
       "      <td>1524</td>\n",
       "      <td>4103.998874</td>\n",
       "      <td>0.5</td>\n",
       "      <td>2021-06-18</td>\n",
       "      <td>6</td>\n",
       "    </tr>\n",
       "  </tbody>\n",
       "</table>\n",
       "<p>95 rows × 5 columns</p>\n",
       "</div>"
      ],
      "text/plain": [
       "       user_id     distance  duration       date  month\n",
       "6531       701  4196.445201       0.5 2021-08-31      8\n",
       "6570       704  4830.824371       0.5 2021-10-14     10\n",
       "6680       712  4684.004397       0.5 2021-03-04      3\n",
       "6695       713  5215.642710       0.5 2021-02-25      2\n",
       "6768       718  5197.436649       0.5 2021-02-11      2\n",
       "...        ...          ...       ...        ...    ...\n",
       "17004     1460  5531.335845       0.5 2021-01-19      1\n",
       "17242     1477  6724.932981       0.5 2021-01-12      1\n",
       "17314     1483  4445.481070       0.5 2021-03-06      3\n",
       "17505     1496  5722.551787       0.5 2021-02-14      2\n",
       "17909     1524  4103.998874       0.5 2021-06-18      6\n",
       "\n",
       "[95 rows x 5 columns]"
      ]
     },
     "execution_count": 40,
     "metadata": {},
     "output_type": "execute_result"
    }
   ],
   "source": [
    "rides[rides['duration'] < 1] # Смотрим на значения меньше 1"
   ]
  },
  {
   "cell_type": "markdown",
   "id": "6daa52f9",
   "metadata": {},
   "source": [
    "Видно, что таких пользователей много, а еще видно, что эти пользователи проехали большое расстояние, либо же это какой-то технический сбой, либо время записанно в каких-то других единицах, либо пользователи как-то обходят с помощью стороннего софта, чтобы платить меньше. Удалять данные значения не будем, но стоит взять их на вооружение и уточнить."
   ]
  },
  {
   "cell_type": "markdown",
   "id": "1ae77a2b",
   "metadata": {},
   "source": [
    "Построим график по столбцу `duration` таблицы `rides`\n"
   ]
  },
  {
   "cell_type": "code",
   "execution_count": 41,
   "id": "f20f2f0a",
   "metadata": {
    "ExecuteTime": {
     "end_time": "2024-05-16T15:22:40.402022Z",
     "start_time": "2024-05-16T15:22:40.122968Z"
    }
   },
   "outputs": [
    {
     "data": {
      "image/png": "[encoded data removed]",
      "text/plain": [
       "<Figure size 1000x600 with 1 Axes>"
      ]
     },
     "metadata": {},
     "output_type": "display_data"
    }
   ],
   "source": [
    "# Строим столбчатый график\n",
    "plt.figure(figsize=(10, 6))\n",
    "sns.histplot(rides['duration'], bins=40, kde=True)\n",
    "plt.title('Продолжительность поездок');"
   ]
  },
  {
   "cell_type": "markdown",
   "id": "3782dcfd",
   "metadata": {},
   "source": [
    "**Вывод**\n",
    "\n",
    "По графику видно, что данные по продолжительности поездок имеют нормальное распределение. Также можно сказать, что пик приходится примерно на 17 минут, наиболее часто берут самокат на продолжительность от 10 до 27 минут. Можно сказать, что это оптимальное время использование самоката. "
   ]
  },
  {
   "cell_type": "markdown",
   "id": "26f3492b",
   "metadata": {},
   "source": [
    "## Объединение данных"
   ]
  },
  {
   "cell_type": "markdown",
   "id": "2450c630",
   "metadata": {},
   "source": [
    "Округлим столбец `duration` в большую сторону, это необходимо для дальнейших расчетов. "
   ]
  },
  {
   "cell_type": "code",
   "execution_count": 42,
   "id": "92262c14",
   "metadata": {
    "ExecuteTime": {
     "end_time": "2024-05-16T15:22:40.406694Z",
     "start_time": "2024-05-16T15:22:40.403537Z"
    }
   },
   "outputs": [],
   "source": [
    "rides['duration'] = np.ceil(rides['duration']) # Округляем столбец"
   ]
  },
  {
   "cell_type": "markdown",
   "id": "4dc14436",
   "metadata": {},
   "source": [
    "Приступим к объединению датафреймов. Сначала объединим таблицы `users` и `rides` по столбцу `user_id` и сохраним все в переменную `information_users`."
   ]
  },
  {
   "cell_type": "code",
   "execution_count": 43,
   "id": "01801cb7",
   "metadata": {
    "ExecuteTime": {
     "end_time": "2024-05-16T15:22:40.415215Z",
     "start_time": "2024-05-16T15:22:40.407700Z"
    }
   },
   "outputs": [],
   "source": [
    "information_users = users.merge(rides, on='user_id', how='outer') # Объединяем таблицы users и rides"
   ]
  },
  {
   "cell_type": "markdown",
   "id": "b5038fbf",
   "metadata": {},
   "source": [
    "Теперь объединим с получившимся датафреймом, таблицу `subscriptions` по столбцу `subscription_type`."
   ]
  },
  {
   "cell_type": "code",
   "execution_count": 44,
   "id": "0f6e56fd",
   "metadata": {
    "ExecuteTime": {
     "end_time": "2024-05-16T15:22:40.422703Z",
     "start_time": "2024-05-16T15:22:40.416223Z"
    }
   },
   "outputs": [],
   "source": [
    "# Объединяем датафреймы\n",
    "information_users = information_users.merge(subscriptions, on='subscription_type', how='outer')"
   ]
  },
  {
   "cell_type": "markdown",
   "id": "125bbf61",
   "metadata": {},
   "source": [
    "Выведим информацию о получившися датафрейме, чтобы убедится, что все данные перенеслись верно, должно быть 18068 значений в каждом столбце"
   ]
  },
  {
   "cell_type": "code",
   "execution_count": 45,
   "id": "f242d56a",
   "metadata": {
    "ExecuteTime": {
     "end_time": "2024-05-16T15:22:40.433236Z",
     "start_time": "2024-05-16T15:22:40.424708Z"
    }
   },
   "outputs": [
    {
     "name": "stdout",
     "output_type": "stream",
     "text": [
      "<class 'pandas.core.frame.DataFrame'>\n",
      "RangeIndex: 18068 entries, 0 to 18067\n",
      "Data columns (total 12 columns):\n",
      " #   Column             Non-Null Count  Dtype         \n",
      "---  ------             --------------  -----         \n",
      " 0   user_id            18068 non-null  int64         \n",
      " 1   name               18068 non-null  object        \n",
      " 2   age                18068 non-null  int64         \n",
      " 3   city               18068 non-null  object        \n",
      " 4   subscription_type  18068 non-null  object        \n",
      " 5   distance           18068 non-null  float64       \n",
      " 6   duration           18068 non-null  float64       \n",
      " 7   date               18068 non-null  datetime64[ns]\n",
      " 8   month              18068 non-null  int32         \n",
      " 9   minute_price       18068 non-null  int64         \n",
      " 10  start_ride_price   18068 non-null  int64         \n",
      " 11  subscription_fee   18068 non-null  int64         \n",
      "dtypes: datetime64[ns](1), float64(2), int32(1), int64(5), object(3)\n",
      "memory usage: 1.6+ MB\n"
     ]
    }
   ],
   "source": [
    "information_users.info() # Выводим инфомрацию о датафрейме"
   ]
  },
  {
   "cell_type": "markdown",
   "id": "0177a1ca",
   "metadata": {},
   "source": [
    "Как видно все данные перенеслись верно."
   ]
  },
  {
   "cell_type": "code",
   "execution_count": 46,
   "id": "730f5f35",
   "metadata": {
    "ExecuteTime": {
     "end_time": "2024-05-16T15:22:40.444319Z",
     "start_time": "2024-05-16T15:22:40.434242Z"
    }
   },
   "outputs": [
    {
     "data": {
      "text/html": [
       "<div>\n",
       "<style scoped>\n",
       "    .dataframe tbody tr th:only-of-type {\n",
       "        vertical-align: middle;\n",
       "    }\n",
       "\n",
       "    .dataframe tbody tr th {\n",
       "        vertical-align: top;\n",
       "    }\n",
       "\n",
       "    .dataframe thead th {\n",
       "        text-align: right;\n",
       "    }\n",
       "</style>\n",
       "<table border=\"1\" class=\"dataframe\">\n",
       "  <thead>\n",
       "    <tr style=\"text-align: right;\">\n",
       "      <th></th>\n",
       "      <th>user_id</th>\n",
       "      <th>name</th>\n",
       "      <th>age</th>\n",
       "      <th>city</th>\n",
       "      <th>subscription_type</th>\n",
       "      <th>distance</th>\n",
       "      <th>duration</th>\n",
       "      <th>date</th>\n",
       "      <th>month</th>\n",
       "      <th>minute_price</th>\n",
       "      <th>start_ride_price</th>\n",
       "      <th>subscription_fee</th>\n",
       "    </tr>\n",
       "  </thead>\n",
       "  <tbody>\n",
       "    <tr>\n",
       "      <th>0</th>\n",
       "      <td>1</td>\n",
       "      <td>Кира</td>\n",
       "      <td>22</td>\n",
       "      <td>Тюмень</td>\n",
       "      <td>ultra</td>\n",
       "      <td>4409.919140</td>\n",
       "      <td>26.0</td>\n",
       "      <td>2021-01-01</td>\n",
       "      <td>1</td>\n",
       "      <td>6</td>\n",
       "      <td>0</td>\n",
       "      <td>199</td>\n",
       "    </tr>\n",
       "    <tr>\n",
       "      <th>1</th>\n",
       "      <td>1</td>\n",
       "      <td>Кира</td>\n",
       "      <td>22</td>\n",
       "      <td>Тюмень</td>\n",
       "      <td>ultra</td>\n",
       "      <td>2617.592153</td>\n",
       "      <td>16.0</td>\n",
       "      <td>2021-01-18</td>\n",
       "      <td>1</td>\n",
       "      <td>6</td>\n",
       "      <td>0</td>\n",
       "      <td>199</td>\n",
       "    </tr>\n",
       "    <tr>\n",
       "      <th>2</th>\n",
       "      <td>1</td>\n",
       "      <td>Кира</td>\n",
       "      <td>22</td>\n",
       "      <td>Тюмень</td>\n",
       "      <td>ultra</td>\n",
       "      <td>754.159807</td>\n",
       "      <td>7.0</td>\n",
       "      <td>2021-04-20</td>\n",
       "      <td>4</td>\n",
       "      <td>6</td>\n",
       "      <td>0</td>\n",
       "      <td>199</td>\n",
       "    </tr>\n",
       "    <tr>\n",
       "      <th>3</th>\n",
       "      <td>1</td>\n",
       "      <td>Кира</td>\n",
       "      <td>22</td>\n",
       "      <td>Тюмень</td>\n",
       "      <td>ultra</td>\n",
       "      <td>2694.783254</td>\n",
       "      <td>19.0</td>\n",
       "      <td>2021-08-11</td>\n",
       "      <td>8</td>\n",
       "      <td>6</td>\n",
       "      <td>0</td>\n",
       "      <td>199</td>\n",
       "    </tr>\n",
       "    <tr>\n",
       "      <th>4</th>\n",
       "      <td>1</td>\n",
       "      <td>Кира</td>\n",
       "      <td>22</td>\n",
       "      <td>Тюмень</td>\n",
       "      <td>ultra</td>\n",
       "      <td>4028.687306</td>\n",
       "      <td>27.0</td>\n",
       "      <td>2021-08-28</td>\n",
       "      <td>8</td>\n",
       "      <td>6</td>\n",
       "      <td>0</td>\n",
       "      <td>199</td>\n",
       "    </tr>\n",
       "  </tbody>\n",
       "</table>\n",
       "</div>"
      ],
      "text/plain": [
       "   user_id  name  age    city subscription_type     distance  duration  \\\n",
       "0        1  Кира   22  Тюмень             ultra  4409.919140      26.0   \n",
       "1        1  Кира   22  Тюмень             ultra  2617.592153      16.0   \n",
       "2        1  Кира   22  Тюмень             ultra   754.159807       7.0   \n",
       "3        1  Кира   22  Тюмень             ultra  2694.783254      19.0   \n",
       "4        1  Кира   22  Тюмень             ultra  4028.687306      27.0   \n",
       "\n",
       "        date  month  minute_price  start_ride_price  subscription_fee  \n",
       "0 2021-01-01      1             6                 0               199  \n",
       "1 2021-01-18      1             6                 0               199  \n",
       "2 2021-04-20      4             6                 0               199  \n",
       "3 2021-08-11      8             6                 0               199  \n",
       "4 2021-08-28      8             6                 0               199  "
      ]
     },
     "execution_count": 46,
     "metadata": {},
     "output_type": "execute_result"
    }
   ],
   "source": [
    "information_users.head() # Выводим значения таблицы"
   ]
  },
  {
   "cell_type": "markdown",
   "id": "afbd0d87",
   "metadata": {},
   "source": [
    "Также создадим два датафрейма с пользователями с подпиской и без для дальнейшего исследования"
   ]
  },
  {
   "cell_type": "markdown",
   "id": "a06e7212",
   "metadata": {},
   "source": [
    "Выделем пользователей с подпиской и сохраним их в переменную `users_ultra`."
   ]
  },
  {
   "cell_type": "code",
   "execution_count": 47,
   "id": "273d5b39",
   "metadata": {
    "ExecuteTime": {
     "end_time": "2024-05-16T15:22:40.450782Z",
     "start_time": "2024-05-16T15:22:40.445326Z"
    }
   },
   "outputs": [],
   "source": [
    "users_ultra = information_users[information_users['subscription_type'] == 'ultra'] "
   ]
  },
  {
   "cell_type": "markdown",
   "id": "f487a225",
   "metadata": {},
   "source": [
    "Проверим, выведя первые 5 строк таблицы"
   ]
  },
  {
   "cell_type": "code",
   "execution_count": 48,
   "id": "a25bfaab",
   "metadata": {
    "ExecuteTime": {
     "end_time": "2024-05-16T15:22:40.461834Z",
     "start_time": "2024-05-16T15:22:40.452304Z"
    }
   },
   "outputs": [
    {
     "data": {
      "text/html": [
       "<div>\n",
       "<style scoped>\n",
       "    .dataframe tbody tr th:only-of-type {\n",
       "        vertical-align: middle;\n",
       "    }\n",
       "\n",
       "    .dataframe tbody tr th {\n",
       "        vertical-align: top;\n",
       "    }\n",
       "\n",
       "    .dataframe thead th {\n",
       "        text-align: right;\n",
       "    }\n",
       "</style>\n",
       "<table border=\"1\" class=\"dataframe\">\n",
       "  <thead>\n",
       "    <tr style=\"text-align: right;\">\n",
       "      <th></th>\n",
       "      <th>user_id</th>\n",
       "      <th>name</th>\n",
       "      <th>age</th>\n",
       "      <th>city</th>\n",
       "      <th>subscription_type</th>\n",
       "      <th>distance</th>\n",
       "      <th>duration</th>\n",
       "      <th>date</th>\n",
       "      <th>month</th>\n",
       "      <th>minute_price</th>\n",
       "      <th>start_ride_price</th>\n",
       "      <th>subscription_fee</th>\n",
       "    </tr>\n",
       "  </thead>\n",
       "  <tbody>\n",
       "    <tr>\n",
       "      <th>0</th>\n",
       "      <td>1</td>\n",
       "      <td>Кира</td>\n",
       "      <td>22</td>\n",
       "      <td>Тюмень</td>\n",
       "      <td>ultra</td>\n",
       "      <td>4409.919140</td>\n",
       "      <td>26.0</td>\n",
       "      <td>2021-01-01</td>\n",
       "      <td>1</td>\n",
       "      <td>6</td>\n",
       "      <td>0</td>\n",
       "      <td>199</td>\n",
       "    </tr>\n",
       "    <tr>\n",
       "      <th>1</th>\n",
       "      <td>1</td>\n",
       "      <td>Кира</td>\n",
       "      <td>22</td>\n",
       "      <td>Тюмень</td>\n",
       "      <td>ultra</td>\n",
       "      <td>2617.592153</td>\n",
       "      <td>16.0</td>\n",
       "      <td>2021-01-18</td>\n",
       "      <td>1</td>\n",
       "      <td>6</td>\n",
       "      <td>0</td>\n",
       "      <td>199</td>\n",
       "    </tr>\n",
       "    <tr>\n",
       "      <th>2</th>\n",
       "      <td>1</td>\n",
       "      <td>Кира</td>\n",
       "      <td>22</td>\n",
       "      <td>Тюмень</td>\n",
       "      <td>ultra</td>\n",
       "      <td>754.159807</td>\n",
       "      <td>7.0</td>\n",
       "      <td>2021-04-20</td>\n",
       "      <td>4</td>\n",
       "      <td>6</td>\n",
       "      <td>0</td>\n",
       "      <td>199</td>\n",
       "    </tr>\n",
       "    <tr>\n",
       "      <th>3</th>\n",
       "      <td>1</td>\n",
       "      <td>Кира</td>\n",
       "      <td>22</td>\n",
       "      <td>Тюмень</td>\n",
       "      <td>ultra</td>\n",
       "      <td>2694.783254</td>\n",
       "      <td>19.0</td>\n",
       "      <td>2021-08-11</td>\n",
       "      <td>8</td>\n",
       "      <td>6</td>\n",
       "      <td>0</td>\n",
       "      <td>199</td>\n",
       "    </tr>\n",
       "    <tr>\n",
       "      <th>4</th>\n",
       "      <td>1</td>\n",
       "      <td>Кира</td>\n",
       "      <td>22</td>\n",
       "      <td>Тюмень</td>\n",
       "      <td>ultra</td>\n",
       "      <td>4028.687306</td>\n",
       "      <td>27.0</td>\n",
       "      <td>2021-08-28</td>\n",
       "      <td>8</td>\n",
       "      <td>6</td>\n",
       "      <td>0</td>\n",
       "      <td>199</td>\n",
       "    </tr>\n",
       "  </tbody>\n",
       "</table>\n",
       "</div>"
      ],
      "text/plain": [
       "   user_id  name  age    city subscription_type     distance  duration  \\\n",
       "0        1  Кира   22  Тюмень             ultra  4409.919140      26.0   \n",
       "1        1  Кира   22  Тюмень             ultra  2617.592153      16.0   \n",
       "2        1  Кира   22  Тюмень             ultra   754.159807       7.0   \n",
       "3        1  Кира   22  Тюмень             ultra  2694.783254      19.0   \n",
       "4        1  Кира   22  Тюмень             ultra  4028.687306      27.0   \n",
       "\n",
       "        date  month  minute_price  start_ride_price  subscription_fee  \n",
       "0 2021-01-01      1             6                 0               199  \n",
       "1 2021-01-18      1             6                 0               199  \n",
       "2 2021-04-20      4             6                 0               199  \n",
       "3 2021-08-11      8             6                 0               199  \n",
       "4 2021-08-28      8             6                 0               199  "
      ]
     },
     "execution_count": 48,
     "metadata": {},
     "output_type": "execute_result"
    }
   ],
   "source": [
    "users_ultra.head() # Выводим первые 5 строк таблицы"
   ]
  },
  {
   "cell_type": "markdown",
   "id": "cdbd6faa",
   "metadata": {},
   "source": [
    "Теперь создадим датафрейм с пользователями без подписки и сохраним в переменную `users_free`."
   ]
  },
  {
   "cell_type": "code",
   "execution_count": 49,
   "id": "410f7f7d",
   "metadata": {
    "ExecuteTime": {
     "end_time": "2024-05-16T15:22:40.468205Z",
     "start_time": "2024-05-16T15:22:40.462839Z"
    }
   },
   "outputs": [],
   "source": [
    "users_free = information_users[information_users['subscription_type'] == 'free']"
   ]
  },
  {
   "cell_type": "code",
   "execution_count": 50,
   "id": "fa6863c3",
   "metadata": {
    "ExecuteTime": {
     "end_time": "2024-05-16T15:22:40.479449Z",
     "start_time": "2024-05-16T15:22:40.469212Z"
    }
   },
   "outputs": [
    {
     "data": {
      "text/html": [
       "<div>\n",
       "<style scoped>\n",
       "    .dataframe tbody tr th:only-of-type {\n",
       "        vertical-align: middle;\n",
       "    }\n",
       "\n",
       "    .dataframe tbody tr th {\n",
       "        vertical-align: top;\n",
       "    }\n",
       "\n",
       "    .dataframe thead th {\n",
       "        text-align: right;\n",
       "    }\n",
       "</style>\n",
       "<table border=\"1\" class=\"dataframe\">\n",
       "  <thead>\n",
       "    <tr style=\"text-align: right;\">\n",
       "      <th></th>\n",
       "      <th>user_id</th>\n",
       "      <th>name</th>\n",
       "      <th>age</th>\n",
       "      <th>city</th>\n",
       "      <th>subscription_type</th>\n",
       "      <th>distance</th>\n",
       "      <th>duration</th>\n",
       "      <th>date</th>\n",
       "      <th>month</th>\n",
       "      <th>minute_price</th>\n",
       "      <th>start_ride_price</th>\n",
       "      <th>subscription_fee</th>\n",
       "    </tr>\n",
       "  </thead>\n",
       "  <tbody>\n",
       "    <tr>\n",
       "      <th>6500</th>\n",
       "      <td>700</td>\n",
       "      <td>Айдар</td>\n",
       "      <td>22</td>\n",
       "      <td>Омск</td>\n",
       "      <td>free</td>\n",
       "      <td>2515.690719</td>\n",
       "      <td>15.0</td>\n",
       "      <td>2021-01-02</td>\n",
       "      <td>1</td>\n",
       "      <td>8</td>\n",
       "      <td>50</td>\n",
       "      <td>0</td>\n",
       "    </tr>\n",
       "    <tr>\n",
       "      <th>6501</th>\n",
       "      <td>700</td>\n",
       "      <td>Айдар</td>\n",
       "      <td>22</td>\n",
       "      <td>Омск</td>\n",
       "      <td>free</td>\n",
       "      <td>846.932642</td>\n",
       "      <td>17.0</td>\n",
       "      <td>2021-02-01</td>\n",
       "      <td>2</td>\n",
       "      <td>8</td>\n",
       "      <td>50</td>\n",
       "      <td>0</td>\n",
       "    </tr>\n",
       "    <tr>\n",
       "      <th>6502</th>\n",
       "      <td>700</td>\n",
       "      <td>Айдар</td>\n",
       "      <td>22</td>\n",
       "      <td>Омск</td>\n",
       "      <td>free</td>\n",
       "      <td>4004.434142</td>\n",
       "      <td>21.0</td>\n",
       "      <td>2021-02-04</td>\n",
       "      <td>2</td>\n",
       "      <td>8</td>\n",
       "      <td>50</td>\n",
       "      <td>0</td>\n",
       "    </tr>\n",
       "    <tr>\n",
       "      <th>6503</th>\n",
       "      <td>700</td>\n",
       "      <td>Айдар</td>\n",
       "      <td>22</td>\n",
       "      <td>Омск</td>\n",
       "      <td>free</td>\n",
       "      <td>1205.911290</td>\n",
       "      <td>10.0</td>\n",
       "      <td>2021-02-10</td>\n",
       "      <td>2</td>\n",
       "      <td>8</td>\n",
       "      <td>50</td>\n",
       "      <td>0</td>\n",
       "    </tr>\n",
       "    <tr>\n",
       "      <th>6504</th>\n",
       "      <td>700</td>\n",
       "      <td>Айдар</td>\n",
       "      <td>22</td>\n",
       "      <td>Омск</td>\n",
       "      <td>free</td>\n",
       "      <td>3047.379435</td>\n",
       "      <td>18.0</td>\n",
       "      <td>2021-02-14</td>\n",
       "      <td>2</td>\n",
       "      <td>8</td>\n",
       "      <td>50</td>\n",
       "      <td>0</td>\n",
       "    </tr>\n",
       "  </tbody>\n",
       "</table>\n",
       "</div>"
      ],
      "text/plain": [
       "      user_id   name  age  city subscription_type     distance  duration  \\\n",
       "6500      700  Айдар   22  Омск              free  2515.690719      15.0   \n",
       "6501      700  Айдар   22  Омск              free   846.932642      17.0   \n",
       "6502      700  Айдар   22  Омск              free  4004.434142      21.0   \n",
       "6503      700  Айдар   22  Омск              free  1205.911290      10.0   \n",
       "6504      700  Айдар   22  Омск              free  3047.379435      18.0   \n",
       "\n",
       "           date  month  minute_price  start_ride_price  subscription_fee  \n",
       "6500 2021-01-02      1             8                50                 0  \n",
       "6501 2021-02-01      2             8                50                 0  \n",
       "6502 2021-02-04      2             8                50                 0  \n",
       "6503 2021-02-10      2             8                50                 0  \n",
       "6504 2021-02-14      2             8                50                 0  "
      ]
     },
     "execution_count": 50,
     "metadata": {},
     "output_type": "execute_result"
    }
   ],
   "source": [
    "users_free.head() # Выводим первые 5 строк таблицы"
   ]
  },
  {
   "cell_type": "markdown",
   "id": "8cf437ec",
   "metadata": {},
   "source": [
    "## Изучим пользователей с подпиской и без нее"
   ]
  },
  {
   "cell_type": "markdown",
   "id": "c0739777",
   "metadata": {},
   "source": [
    "Проанализируем оба датафрейма на информацию о расстоянии и времени поездок для пользователей обеих категорий (`ultra` и `free`)."
   ]
  },
  {
   "cell_type": "markdown",
   "id": "a537cbf6",
   "metadata": {},
   "source": [
    "### Расстояние пройденное пользователями с подпиской и без нее"
   ]
  },
  {
   "cell_type": "markdown",
   "id": "51696aa2",
   "metadata": {},
   "source": [
    "Изучим столбец `distance` таблицы `users_ultra` с помощью метода `describe()`"
   ]
  },
  {
   "cell_type": "markdown",
   "id": "9cbadef1",
   "metadata": {},
   "source": [
    "Посмотрим медианное расстояние, которые пользователи c **подпиской** преодолевают за одну поездку. Для этого возьмем столбец `distance` и посмотрим его статистику методом `describe()`"
   ]
  },
  {
   "cell_type": "code",
   "execution_count": 51,
   "id": "7be061df",
   "metadata": {
    "ExecuteTime": {
     "end_time": "2024-05-16T15:22:40.486940Z",
     "start_time": "2024-05-16T15:22:40.480456Z"
    }
   },
   "outputs": [
    {
     "data": {
      "text/plain": [
       "count    6500.000000\n",
       "mean     3115.445388\n",
       "std       836.895330\n",
       "min       244.210438\n",
       "25%      2785.444017\n",
       "50%      3148.637229\n",
       "75%      3560.574425\n",
       "max      5699.769662\n",
       "Name: distance, dtype: float64"
      ]
     },
     "execution_count": 51,
     "metadata": {},
     "output_type": "execute_result"
    }
   ],
   "source": [
    "users_ultra['distance'].describe()"
   ]
  },
  {
   "cell_type": "markdown",
   "id": "5ac05b13",
   "metadata": {},
   "source": [
    "3148 метров столько в среднем пользователи с **подпиской** преодолевают за одну поездку. Максимальное расстояние, которое преодолевал пользователь с подпиской 5699 метров, а минимальное 244 метра."
   ]
  },
  {
   "cell_type": "markdown",
   "id": "44758514",
   "metadata": {},
   "source": [
    "Посмотрим медианное, максимальное и минимальное расстояние, которые пользователи **без подписки** преодолевают за одну поездку. Для этого возьмем столбец `distance` из таблицы `users_free` и применим к нему метод `describe()`, который покажет числовую статистику этого столбца."
   ]
  },
  {
   "cell_type": "code",
   "execution_count": 52,
   "id": "5d41e850",
   "metadata": {
    "ExecuteTime": {
     "end_time": "2024-05-16T15:22:40.493987Z",
     "start_time": "2024-05-16T15:22:40.487945Z"
    }
   },
   "outputs": [
    {
     "data": {
      "text/plain": [
       "count    11568.000000\n",
       "mean      3045.495282\n",
       "std       1246.173806\n",
       "min          0.855683\n",
       "25%       2366.562689\n",
       "50%       3114.648465\n",
       "75%       3905.697894\n",
       "max       7211.007745\n",
       "Name: distance, dtype: float64"
      ]
     },
     "execution_count": 52,
     "metadata": {},
     "output_type": "execute_result"
    }
   ],
   "source": [
    "users_free['distance'].describe()"
   ]
  },
  {
   "cell_type": "markdown",
   "id": "ca3efbb7",
   "metadata": {},
   "source": [
    "3045 метров столько в среднем пользователи **без подписки** преодолевают за одну поездку. Самое большое расстояние, которое проехал пользователь без подписки 7211 метров, а самое минимальное 85см."
   ]
  },
  {
   "cell_type": "markdown",
   "id": "d9bf8b97",
   "metadata": {},
   "source": [
    "Построим график зависимости пользоваетлей (с подпиской и без нее) от расстояния, которое они проезжают "
   ]
  },
  {
   "cell_type": "code",
   "execution_count": 53,
   "id": "e74e5451",
   "metadata": {
    "ExecuteTime": {
     "end_time": "2024-05-16T15:22:40.797128Z",
     "start_time": "2024-05-16T15:22:40.494993Z"
    }
   },
   "outputs": [
    {
     "data": {
      "image/png": "[encoded data removed]",
      "text/plain": [
       "<Figure size 1000x600 with 1 Axes>"
      ]
     },
     "metadata": {},
     "output_type": "display_data"
    }
   ],
   "source": [
    "# Выставляем размер графика\n",
    "plt.figure(figsize=(10, 6))\n",
    "\n",
    "# Создаем отдельный список для каждой категории\n",
    "x1 = list(users_ultra['distance'])\n",
    "x2 = list(users_free['distance'])\n",
    "\n",
    "# Назначаем цвет и название для каждой категории\n",
    "colors = ['#E69F00', '#56B4E9']\n",
    "names = ['Пользователи с подпиской', 'Пользователи без подписки']\n",
    "\n",
    "# Строим гистограмму, используя список списков\n",
    "plt.hist([x1, x2], bins = 50,\n",
    "         color = colors, label=names)\n",
    "\n",
    "plt.grid()\n",
    "plt.legend()\n",
    "plt.xlabel('Расстояние (м)')\n",
    "plt.ylabel('Количество пользователей')\n",
    "plt.title('Растояние, которое проезжают пользователи')\n",
    "plt.show()"
   ]
  },
  {
   "cell_type": "markdown",
   "id": "e92838f4",
   "metadata": {},
   "source": [
    "**Вывод:**\n",
    "    \n",
    "По графику видно, пользователей без подписки больше, чем пользователей с подпиской, но пользователи с подпиской чаще проезжают расстояния примено от 2800м до 3500м. А пользователи без подписки обычно проезжают короткие расстояния, а также расстояния от 3500м и более. Это также можно подтвердить цифрами, которые мы получили ранее, так среднее знчение у пользователей с подпиской получается 3115м против 3045м, минимальное значение 244м против 0.85см, максимальное 5699м против 7211м.\n",
    "    \n",
    "Также в целом можно сказать, что пользователи с подпиской обычно берут самокаты для средних по расстоянию поездок."
   ]
  },
  {
   "cell_type": "markdown",
   "id": "998604b6",
   "metadata": {},
   "source": [
    "### Продолжительность заезда пользователей с подпиской и без нее"
   ]
  },
  {
   "cell_type": "markdown",
   "id": "5d107841",
   "metadata": {},
   "source": [
    "Сделаем анологичное исследование для продолжительности поездки\n",
    "\n",
    "Изучим столбец `duration` таблицы `users_ultra` с помощью метода `describe()`"
   ]
  },
  {
   "cell_type": "markdown",
   "id": "73b6c90e",
   "metadata": {},
   "source": [
    "Делаем анологичные действия для пользователей **с подпиской**, чтобы узнать их продолжительность. Для этого возьмем столбец `duration` и посмотрим его статистику методом `describe()`"
   ]
  },
  {
   "cell_type": "code",
   "execution_count": 54,
   "id": "b5bc0aa8",
   "metadata": {
    "ExecuteTime": {
     "end_time": "2024-05-16T15:22:40.804669Z",
     "start_time": "2024-05-16T15:22:40.798136Z"
    }
   },
   "outputs": [
    {
     "data": {
      "text/plain": [
       "count    6500.000000\n",
       "mean       19.037692\n",
       "std         5.577439\n",
       "min         4.000000\n",
       "25%        15.000000\n",
       "50%        19.000000\n",
       "75%        22.000000\n",
       "max        41.000000\n",
       "Name: duration, dtype: float64"
      ]
     },
     "execution_count": 54,
     "metadata": {},
     "output_type": "execute_result"
    }
   ],
   "source": [
    "users_ultra['duration'].describe()"
   ]
  },
  {
   "cell_type": "markdown",
   "id": "ea84ca9b",
   "metadata": {},
   "source": [
    "19 минут, столько в среднем пользователи **с подпиской** тратят на одну поездку, максимальное время затраченое на поездку 41 минуты, а минимальное 4."
   ]
  },
  {
   "cell_type": "markdown",
   "id": "e716c3a6",
   "metadata": {},
   "source": [
    "Теперь выведем такую же статистику для пользователей **без подписки**."
   ]
  },
  {
   "cell_type": "code",
   "execution_count": 55,
   "id": "43570d15",
   "metadata": {
    "ExecuteTime": {
     "end_time": "2024-05-16T15:22:40.812634Z",
     "start_time": "2024-05-16T15:22:40.806181Z"
    }
   },
   "outputs": [
    {
     "data": {
      "text/plain": [
       "count    11568.000000\n",
       "mean        17.890992\n",
       "std          6.330250\n",
       "min          1.000000\n",
       "25%         13.000000\n",
       "50%         18.000000\n",
       "75%         22.000000\n",
       "max         35.000000\n",
       "Name: duration, dtype: float64"
      ]
     },
     "execution_count": 55,
     "metadata": {},
     "output_type": "execute_result"
    }
   ],
   "source": [
    "users_free['duration'].describe()"
   ]
  },
  {
   "cell_type": "markdown",
   "id": "e6cca6a1",
   "metadata": {},
   "source": [
    "18 минут, столько в среднем пользователи **без подписки** тратят на одну поездку. Самая долгая поездка длиласт 35 минут, а самая короткая 1 минута."
   ]
  },
  {
   "cell_type": "markdown",
   "id": "2489901c",
   "metadata": {},
   "source": [
    "Визуализируем на одном графике пользователей с подпиской и без нее по всем данным столбца `duration`"
   ]
  },
  {
   "cell_type": "code",
   "execution_count": 56,
   "id": "0b283a47",
   "metadata": {
    "ExecuteTime": {
     "end_time": "2024-05-16T15:22:41.108320Z",
     "start_time": "2024-05-16T15:22:40.813641Z"
    }
   },
   "outputs": [
    {
     "data": {
      "image/png": "[encoded data removed]",
      "text/plain": [
       "<Figure size 1000x600 with 1 Axes>"
      ]
     },
     "metadata": {},
     "output_type": "display_data"
    }
   ],
   "source": [
    "# Выставляем размер графика\n",
    "plt.figure(figsize=(10, 6))\n",
    "\n",
    "# Создаем отдельный список для каждой категории\n",
    "x1 = list(users_ultra['duration'])\n",
    "x2 = list(users_free['duration'])\n",
    "\n",
    "# Назначаем цвет и название для каждой категории\n",
    "colors = ['#E69F00', '#56B4E9']\n",
    "names = ['Пользователи с подпиской', 'Пользователи без подписки']\n",
    "\n",
    "# Строим гистограмму, используя список списков\n",
    "plt.hist([x1, x2], bins = 50,\n",
    "         color = colors, label=names)\n",
    "\n",
    "plt.grid()\n",
    "plt.legend()\n",
    "plt.xlabel('Время (мин)')\n",
    "plt.ylabel('Количество пользователей')\n",
    "plt.title('Продолжительность заезда пользователей')\n",
    "plt.show()"
   ]
  },
  {
   "cell_type": "markdown",
   "id": "fc7c6c71",
   "metadata": {},
   "source": [
    "**Вывод:**\n",
    "    \n",
    "В целом пользователи с подпиской тратят столько же времени как и пользователи без подписки, разница только в том, что пользователей без подписки больше. Но есть некоторые исключения в том плане, что пользователи у пользователей с подпиской поездок дольше 35 минут больше (на графике небольшие пики с права). А у пользователей без подписки количество коротких заездов больше, можно заметить это на графике (несколькой небольших пиков слева)."
   ]
  },
  {
   "cell_type": "markdown",
   "id": "430752a9",
   "metadata": {},
   "source": [
    "**Вывод**\n",
    "\n",
    "В результате исследования можно сделать следующие выводы:\n",
    "\n",
    "Пользователей с подпиской меньше, чем пользователей без нее, но стоит учитывать, что пользователи с подпиской тоже когда-то были без нее, а значит одни и теже люди могут быть в двух категориях. \n",
    "    \n",
    "1. Пользователей без подписки больше, чем пользователей с подпиской\n",
    "2. Пользователи с подпиской обычно проезжают расстояние от 2800м до 3500м\n",
    "3. Пользователи без подписки чаще берут самокаты на короткое расстояние, а следовательно и поездки у них обычно короче\n",
    "4. Пользователи с подпиской чаще проезжают расстояния от 35м и более\n",
    "5. Продолжительность поездки в целом у пользователей одинаковая"
   ]
  },
  {
   "cell_type": "markdown",
   "id": "0c97d05d",
   "metadata": {},
   "source": [
    "## Подсчёт выручки"
   ]
  },
  {
   "cell_type": "markdown",
   "id": "019f8cdb",
   "metadata": {},
   "source": [
    "Создадим датафрейм с агрегированными данными о поездках, то есть найдем суммарное расстояние, количество поездок и суммарное время для каждого пользователя за каждый месяц. Для этого сделаем сводную таблицу по всем пользователям, то есть возьмем наш объединенный датафрейм `information_users`."
   ]
  },
  {
   "cell_type": "code",
   "execution_count": 57,
   "id": "e19bf4c2",
   "metadata": {
    "ExecuteTime": {
     "end_time": "2024-05-16T15:22:41.112972Z",
     "start_time": "2024-05-16T15:22:41.109839Z"
    }
   },
   "outputs": [],
   "source": [
    "# Для игнорирования предупреждений\n",
    "warnings.simplefilter(\"ignore\", FutureWarning)\n",
    "warnings.simplefilter(\"ignore\", RuntimeWarning)"
   ]
  },
  {
   "cell_type": "code",
   "execution_count": 58,
   "id": "8000ca0f",
   "metadata": {
    "ExecuteTime": {
     "end_time": "2024-05-16T15:22:41.288392Z",
     "start_time": "2024-05-16T15:22:41.113978Z"
    }
   },
   "outputs": [],
   "source": [
    "# Создаем сводную агрегированную таблицу и сбрасываем индексы и записываем в переменную agg_rides_users\n",
    "agg_rides_users = (\n",
    "    information_users\n",
    "    .pivot_table(\n",
    "        index=['user_id', 'month'], \n",
    "        values=['distance', 'duration', 'minute_price', \n",
    "                'start_ride_price', 'subscription_fee'], \n",
    "        aggfunc={'distance': sum, 'duration': [sum, len], \n",
    "                 'minute_price':'first', 'start_ride_price': 'first',\n",
    "                 'subscription_fee': 'first'})\n",
    "    .reset_index()\n",
    ")"
   ]
  },
  {
   "cell_type": "markdown",
   "id": "d225ef91",
   "metadata": {},
   "source": [
    "Переименуем столбцы"
   ]
  },
  {
   "cell_type": "code",
   "execution_count": 59,
   "id": "6aa909fc",
   "metadata": {
    "ExecuteTime": {
     "end_time": "2024-05-16T15:22:41.293425Z",
     "start_time": "2024-05-16T15:22:41.289397Z"
    }
   },
   "outputs": [],
   "source": [
    "# Меняем название столбцов\n",
    "agg_rides_users.columns = (\n",
    "    ['user_id','month', 'sum_distance', 'count_rides', 'sum_duration', \n",
    "     'minute_price', 'start_ride_price','subscription_fee']\n",
    ")"
   ]
  },
  {
   "cell_type": "markdown",
   "id": "d2728379",
   "metadata": {},
   "source": [
    "Создадим столбец с помесячной выручкой от каждого пользователя для пользователь без подписки получается, что он платит за каждый старт поездки, поэтому нам надо умножить количество поездок на стоимость старта (50 рублей), а также добавить стоимость каждой минуты в этой поездке (8 рублей для пользователей без подписки)\n",
    "\n",
    "Пользователи подписки не платят за каждый старт поездки, поэтому мы считаем стоимость каждой минуты поездки (6 рублей для пользователей с подпиской) и добавляем к ней сумму подписки (199 рублей)"
   ]
  },
  {
   "cell_type": "code",
   "execution_count": 60,
   "id": "fced736b",
   "metadata": {
    "ExecuteTime": {
     "end_time": "2024-05-16T15:22:41.298862Z",
     "start_time": "2024-05-16T15:22:41.294431Z"
    }
   },
   "outputs": [],
   "source": [
    "agg_rides_users['price_mounth'] = (\n",
    "    agg_rides_users['count_rides'] * agg_rides_users['start_ride_price'] \n",
    "    + agg_rides_users['sum_duration'] * agg_rides_users['minute_price'] \n",
    "    + agg_rides_users['subscription_fee']\n",
    ")"
   ]
  },
  {
   "cell_type": "markdown",
   "id": "ba5c5a34",
   "metadata": {},
   "source": [
    "#  Проверка гипотез"
   ]
  },
  {
   "cell_type": "markdown",
   "id": "db5e1fab",
   "metadata": {},
   "source": [
    "Необходимо проверить 3 гипотезы:\n",
    "1. Тратят ли пользователи с подпиской больше времени на поездки?\n",
    "2. Расстояние одной поездки в `3130` метров — оптимальное с точки зрения износа самоката. Можно ли сказать, что среднее расстояние, которое проезжают пользователи с подпиской за одну поездку, не превышает `3130` метров?\n",
    "3. Помесячная выручка от пользователей с подпиской по месяцам выше, чем выручка от пользователей без подписки."
   ]
  },
  {
   "cell_type": "markdown",
   "id": "dac4ef07",
   "metadata": {},
   "source": [
    "## Тратят ли пользователи с подпиской больше времени на поездки?"
   ]
  },
  {
   "cell_type": "markdown",
   "id": "8a92a71e",
   "metadata": {},
   "source": [
    "Необходимо сформулировать нулевую гипотезу. Предположим, что **H0** - в среднем пользователи с подпиской тратят столько же времени на поездки, как и пользователи без нее.\n",
    "\n",
    "Также необходима альтернативная гипотеза: **H1** -  в среднем пользователи с подпиской тратят больше времени на поездки, чем пользователи без нее."
   ]
  },
  {
   "cell_type": "markdown",
   "id": "8120f6ce",
   "metadata": {},
   "source": [
    "Для проверки отвергаем мы или не отвергаем нулевую гипотезу, была написана функцию `ttest`, которая принмает одно значение результат проверки гипотезы."
   ]
  },
  {
   "cell_type": "markdown",
   "id": "0e2493ec",
   "metadata": {},
   "source": [
    "Для проверки этой гипотезы нам понадобиться два датафрейма `users_ultra` и `users_free`, в которых хранятся данные о пользователях с подпиской и без нее. Из этих таблиц нам понадобиться столбец `duration`. Для проверки равентсва двух генеральных совокупностей воспользуемся методом `ttest_ind`, так как генеральные совокупности не зависят друг от друга и выборочные средние нормально распределены это условие должно выполнятся благодаря ЦПТ.\n",
    "\n",
    "Передадим методу два датафрейма, также параметр `equal_var` сделаем равным `False`, так как выборки разных размеров. И так, как наша альтернативаная гипотеза говорит, что пользователи тратят больше, то параметр `alternative` делаем равным `greater`"
   ]
  },
  {
   "cell_type": "code",
   "execution_count": 61,
   "id": "b517b2d6",
   "metadata": {
    "ExecuteTime": {
     "end_time": "2024-05-16T15:22:41.307277Z",
     "start_time": "2024-05-16T15:22:41.299868Z"
    }
   },
   "outputs": [
    {
     "name": "stdout",
     "output_type": "stream",
     "text": [
      "Среднее значение продолжительности поездки пользователей с подпиской 19.037692307692307\n",
      "Среднее значение продолжительности поездки пользователей без подписки 17.890992392807746\n",
      "p-значение: 1.1814679253701353e-36\n"
     ]
    },
    {
     "data": {
      "text/plain": [
       "'Отвергаем нулевую гипотезу'"
      ]
     },
     "execution_count": 61,
     "metadata": {},
     "output_type": "execute_result"
    }
   ],
   "source": [
    "result_duration = (\n",
    "    st.ttest_ind(\n",
    "        users_ultra['duration'], \n",
    "        users_free['duration'], \n",
    "        equal_var=False, \n",
    "        alternative='greater')\n",
    ")\n",
    "\n",
    "print('Среднее значение продолжительности поездки пользователей с подпиской', \n",
    "      users_ultra['duration'].mean())\n",
    "print('Среднее значение продолжительности поездки пользователей без подписки', \n",
    "      users_free['duration'].mean())\n",
    "\n",
    "ttest(result_duration)"
   ]
  },
  {
   "cell_type": "markdown",
   "id": "186b44da",
   "metadata": {},
   "source": [
    "Полученое значение p-value меньше заданного уровня значимости, поэтому мы отвергаем нулевую гипотезу. Также есть основания, что **пользователи с подпиской трататят больше времени на поездки**"
   ]
  },
  {
   "cell_type": "markdown",
   "id": "0192f52c",
   "metadata": {},
   "source": [
    "## Среднее расстояние, которое проезжают пользователи с подпиской за одну поездку, не превышает 3130 метров?"
   ]
  },
  {
   "cell_type": "markdown",
   "id": "85b107c6",
   "metadata": {},
   "source": [
    "Необходимо также сформировать нулевую и альтернативную гипотезу в нашем случам у нас одностороняя гипотеза:\n",
    "\n",
    "**H0** - среднее расстояние, которое проезжают пользователи с подпиской за одну поездку равняется 3130 метров\n",
    "\n",
    "**H1** - среднее расстояние, которое проезжают пользователи с подпиской за одну поездку больше 3130 метров \n",
    "- H0: μ = 3130\n",
    "- H1: μ > 3130"
   ]
  },
  {
   "cell_type": "markdown",
   "id": "2858ba08",
   "metadata": {},
   "source": [
    "Для проверки односторонней гипотезы из одной генеральной совокупности воспользуемся методом `ttest_1samp` и передадим ему столбец `distance` датафрейма `users_ultra`, то есть передаем какую дистанцую проезжают пользователи с подпиской, а также параметру `popmean`  передаем наше предполагаемое среднее `3130`, а параметру `alternative` передаем значение `greater`, так как у нас левостороняя гипотеза.\n",
    "\n",
    "Для вывода результата воспользуемся, написанной ранее функцией `ttest`"
   ]
  },
  {
   "cell_type": "code",
   "execution_count": 62,
   "id": "9856b77f",
   "metadata": {
    "ExecuteTime": {
     "end_time": "2024-05-16T15:22:41.314474Z",
     "start_time": "2024-05-16T15:22:41.308283Z"
    }
   },
   "outputs": [
    {
     "name": "stdout",
     "output_type": "stream",
     "text": [
      "p-значение: 0.9195368847849785\n"
     ]
    },
    {
     "data": {
      "text/plain": [
       "'Не отвергаем нулевую гипотезу'"
      ]
     },
     "execution_count": 62,
     "metadata": {},
     "output_type": "execute_result"
    }
   ],
   "source": [
    "results_distance = st.ttest_1samp(\n",
    "    users_ultra['distance'], \n",
    "    3130,\n",
    "      alternative='greater')\n",
    "\n",
    "ttest(results_distance)"
   ]
  },
  {
   "cell_type": "markdown",
   "id": "046428e9",
   "metadata": {},
   "source": [
    "В результате мы получаем значение p-value больше заданного уровня значимости, а следовательно мы не можем отвергать нулевую гипотезу, то есть можно сказать, что **растояние, которое проезжают пользователи в среднем не превышает значение 3130 метров**."
   ]
  },
  {
   "cell_type": "markdown",
   "id": "ccc270a5",
   "metadata": {},
   "source": [
    "## Помесячная выручка от пользователей с подпиской по месяцам выше, чем выручка от пользователей без подписки."
   ]
  },
  {
   "cell_type": "markdown",
   "id": "cfd2347d",
   "metadata": {},
   "source": [
    "Сформируем нуелвую и альтернативную гипотезу:\n",
    "- **H0** - в среднем помесячная выручка от пользователей с подпиской по месяцам такая же как и у пользователей без нее\n",
    "- **H1** - в среднем помесячная выручка от пользователей с подпиской по месяцам выше чем у пользователей без нее"
   ]
  },
  {
   "cell_type": "markdown",
   "id": "087a0ffd",
   "metadata": {},
   "source": [
    "В нашем распорежении правостороняя гипотеза для того, чтобы её проверить, нам понадобится столбец `price_month` из датафрейма  `agg_rides_users`, в котором хранится информация о месячной выручке с каждого пользователя. Эти данные мы передаем методу `ttest_ind` с параметрами `equal_var = False`, так как выборки разных размеров и `alternative` со значением `greater`. \n",
    "\n",
    "Результат метода передаем в функцию  `ttest`, которая выведет результат гипотезы"
   ]
  },
  {
   "cell_type": "code",
   "execution_count": 63,
   "id": "40bc0e93",
   "metadata": {
    "ExecuteTime": {
     "end_time": "2024-05-16T15:22:41.325276Z",
     "start_time": "2024-05-16T15:22:41.315481Z"
    }
   },
   "outputs": [
    {
     "name": "stdout",
     "output_type": "stream",
     "text": [
      "Среднея помесячная выручка от пользователей с подпиской 362.7921906022502\n",
      "Среднея помесячная выручка от пользователей без подписки 328.6413651073845\n",
      "p-значение: 8.874140893976874e-40\n"
     ]
    },
    {
     "data": {
      "text/plain": [
       "'Отвергаем нулевую гипотезу'"
      ]
     },
     "execution_count": 63,
     "metadata": {},
     "output_type": "execute_result"
    }
   ],
   "source": [
    "results_price = (\n",
    "    st.ttest_ind(\n",
    "        agg_rides_users[agg_rides_users['subscription_fee'] == 199]['price_mounth'], \n",
    "        agg_rides_users[agg_rides_users['subscription_fee'] == 0]['price_mounth'], \n",
    "        equal_var=False, \n",
    "        alternative='greater')\n",
    ")\n",
    "\n",
    "print('Среднея помесячная выручка от пользователей с подпиской', \n",
    "      agg_rides_users[agg_rides_users['subscription_fee'] == 199]['price_mounth'].mean())\n",
    "print('Среднея помесячная выручка от пользователей без подписки', \n",
    "      agg_rides_users[agg_rides_users['subscription_fee'] == 0]['price_mounth'].mean())\n",
    "\n",
    "ttest(results_price)"
   ]
  },
  {
   "cell_type": "markdown",
   "id": "2c574f03",
   "metadata": {},
   "source": [
    "В результате получаем, что значение p-value меньше заданаго уровня статистической значимости, а значит мы отврегаем нулевую гипотезу в пользу альтернативной. Значит можно сделать вывод, что **выручка с пользователей с подпиской выше.**"
   ]
  },
  {
   "cell_type": "markdown",
   "id": "8af0a0e4",
   "metadata": {},
   "source": [
    "**Ответ на вопрос**"
   ]
  },
  {
   "cell_type": "markdown",
   "id": "54b5ee75",
   "metadata": {},
   "source": [
    "Представьте такую ситуацию: техническая команда сервиса обновила сервера, с которыми взаимодействует мобильное приложение. Она надеется, что из-за этого количество обращений в техподдержку значимо снизилось. Некоторый файл содержит для каждого пользователя данные о количестве обращений до обновления и после него. Какой тест вам понадобился бы для проверки этой гипотезы?"
   ]
  },
  {
   "cell_type": "markdown",
   "id": "8d6f59b9",
   "metadata": {},
   "source": [
    "**Ответ**\n",
    "\n",
    "Так как мы имеем одну генеральную совокупность (ГС), с которой произошли изменения, то есть в нашем случае до обновления сервера и после. В этом случаем мы проверяем средннее двух ГС до и после обновления.\n",
    "\n",
    "В этом случаем нам необхоимо использовать Т-тест. В питоне это метод из библиотеки `scipy`, `ttest_rel()`, которому мы передаем данные до и после обновления."
   ]
  },
  {
   "cell_type": "markdown",
   "id": "cb81013a",
   "metadata": {},
   "source": [
    "# Распределения (Доп. задание)"
   ]
  },
  {
   "cell_type": "markdown",
   "id": "346e0b6f",
   "metadata": {},
   "source": [
    "## Задание 1"
   ]
  },
  {
   "cell_type": "markdown",
   "id": "b9997d1f",
   "metadata": {},
   "source": [
    "Отделу маркетинга GoFast поставили задачу: нужно провести акцию с раздачей промокодов на один бесплатный месяц подписки, в рамках которой как минимум 100 существующих клиентов должны продлить эту подписку. То есть по завершении периода действия подписки пользователь может либо отказаться от неё, либо продлить, совершив соответствующий платёж. \n",
    "\n",
    "Эта акция уже проводилась ранее и по итогу выяснилось, что после бесплатного пробного периода подписку продлевают 10% пользователей. Выясните, какое минимальное количество промокодов нужно разослать, чтобы вероятность не выполнить план была примерно 5%. Подберите параметры распределения, описывающего эту ситуацию, постройте график распределения и сформулируйте ответ на вопрос о количестве промокодов."
   ]
  },
  {
   "cell_type": "markdown",
   "id": "35cb3897",
   "metadata": {},
   "source": [
    "**Ответ**\n",
    "\n",
    "В данном случае нужно использовать биноминальное распределение, так как возможно всего два исхода\n",
    "- пользователь продлил подписку\n",
    "- пользователь не продлили подписку\n",
    "\n",
    "Данное распределение задается двумя параметрам n - количество попытко и p - вероятность успеха\n",
    "\n",
    "n - необходимо найти, p = 0.1.\n",
    "\n",
    "Для этой задачи построим биноминальное распределение при помощи метода `binom.pmf`, а при помощи метода `cdf()` определили минимальное количество промокодов."
   ]
  },
  {
   "cell_type": "code",
   "execution_count": 64,
   "id": "f2d37e5c",
   "metadata": {
    "ExecuteTime": {
     "end_time": "2024-05-16T15:22:42.687200Z",
     "start_time": "2024-05-16T15:22:41.326283Z"
    }
   },
   "outputs": [
    {
     "name": "stdout",
     "output_type": "stream",
     "text": [
      "0.051514916737416455\n"
     ]
    },
    {
     "data": {
      "image/png": "[encoded data removed]",
      "text/plain": [
       "<Figure size 1000x600 with 1 Axes>"
      ]
     },
     "metadata": {},
     "output_type": "display_data"
    }
   ],
   "source": [
    "# Создаем пустой список, для построения графика распределения\n",
    "distribution = []\n",
    "\n",
    "# Создаем цикл для перебора значение от 0 до 1170 + 1\n",
    "# и добавляем в список вероятность каждого значения\n",
    "for k in range(0, 1171):\n",
    "    value = st.binom.pmf(k, 1170, 0.1)\n",
    "    distribution.append(value)\n",
    "    \n",
    "# Количество пользователей\n",
    "x = 100\n",
    "\n",
    "# Выводим вероятность получить значение меньше этого\n",
    "print(st.binom(1170, 0.1).cdf(x))\n",
    "\n",
    "\n",
    "# Строим график биноминального распределения\n",
    "plt.figure(figsize=(10,6))\n",
    "plt.bar(range(0, 1171), distribution)\n",
    "plt.xlabel('Пользователи')\n",
    "plt.ylabel('Вероятность')\n",
    "plt.title('График биномиального распредления')\n",
    "plt.show()"
   ]
  },
  {
   "cell_type": "markdown",
   "id": "19156800",
   "metadata": {},
   "source": [
    "Для того, чтобы 100 клиентов продлили подписку и вероятность не выполнить план была примерно 5% необходимо отправить 1170 промокодов."
   ]
  },
  {
   "cell_type": "markdown",
   "id": "dd69b388",
   "metadata": {},
   "source": [
    "## Задание 2"
   ]
  },
  {
   "cell_type": "markdown",
   "id": "1dcd8485",
   "metadata": {},
   "source": [
    "Отдел маркетинга рассылает клиентам push-уведомления в мобильном приложении. Клиенты могут открыть его или не открывать. Известно, что уведомления открывают около 40% получивших клиентов. Отдел планирует разослать 1 млн уведомлений. С помощью аппроксимации постройте примерный график распределения и оцените вероятность того, что уведомление откроют не более \n",
    "399,5 тыс. пользователей."
   ]
  },
  {
   "cell_type": "markdown",
   "id": "e8cd4f10",
   "metadata": {},
   "source": [
    "**Ответ**\n",
    "\n",
    "Данное событие тоже описывается биноминальным распределением, так как имеет два исхода:\n",
    "- Пользователь открыл уведомление\n",
    "- Пользователь не открыл уведоление\n",
    "\n",
    "Но так, как считать каждое отдельное значение долго, аппроксимируем биноминальное распределение нормальным распределением. Так как наша n достаточно велика, а именно `1000000`, а значит аппроксимация нормальным распределением должна сработать. \n",
    "\n",
    "Сначала нам необходимо посчитать мат.ожиданние и СКО биноминального расспределение, после воспользуемся методом `st.norm` для того, чтобы задать нормальное распределение и потом с помощью метода `cdf` найдем вероятность получить значение меньше `395000`"
   ]
  },
  {
   "cell_type": "code",
   "execution_count": 65,
   "id": "15a59be0",
   "metadata": {
    "ExecuteTime": {
     "end_time": "2024-05-16T15:22:42.694719Z",
     "start_time": "2024-05-16T15:22:42.688207Z"
    }
   },
   "outputs": [
    {
     "data": {
      "text/plain": [
       "0.15371708296369768"
      ]
     },
     "execution_count": 65,
     "metadata": {},
     "output_type": "execute_result"
    }
   ],
   "source": [
    "# Задаём параметры биномиального распределения\n",
    "n = 1000000\n",
    "p = 0.4\n",
    "\n",
    "# Зададим МО и СКО нормального распределения равными\n",
    "# МО и СКО биномиального распределения\n",
    "mu = n * p\n",
    "sigma = sqrt(n * p * (1 - p))\n",
    "\n",
    "# Задаём нормальное распределение\n",
    "distr = st.norm(mu, sigma) \n",
    "\n",
    "# Считаем вероятность получить значение 399500\n",
    "distr.cdf(399500)"
   ]
  },
  {
   "cell_type": "markdown",
   "id": "7178b657",
   "metadata": {},
   "source": [
    "В результате вероястность того, что уведомление откроют не более 399500 пользователей равна 15%, а значит уведомления увидят большее количество пользователей, что хорошо."
   ]
  },
  {
   "cell_type": "code",
   "execution_count": 66,
   "id": "a57183ad",
   "metadata": {
    "ExecuteTime": {
     "end_time": "2024-05-16T15:22:42.856168Z",
     "start_time": "2024-05-16T15:22:42.696230Z"
    }
   },
   "outputs": [
    {
     "data": {
      "image/png": "[encoded data removed]",
      "text/plain": [
       "<Figure size 800x500 with 1 Axes>"
      ]
     },
     "metadata": {},
     "output_type": "display_data"
    }
   ],
   "source": [
    "# Задаем границы\n",
    "left = int(n * p - 3 * sqrt(n * p * (1 - p)))\n",
    "right = int(n * p + 3 * sqrt(n * p * (1 - p)))\n",
    "\n",
    "# Вызываем функцию для построения оси x \n",
    "x = linspace(left, right, 100)\n",
    "\n",
    "# Строим график распределения\n",
    "plt.figure(figsize=(8,5))\n",
    "plt.plot(x, st.norm.pdf(x, mu, sigma))\n",
    "plt.grid()\n",
    "plt.xlabel('Уведомления')\n",
    "plt.ylabel('Плотность вероятности')\n",
    "plt.title('График нормального распредления')\n",
    "plt.show()"
   ]
  },
  {
   "cell_type": "markdown",
   "id": "961a813d",
   "metadata": {},
   "source": [
    "# Общий вывод"
   ]
  },
  {
   "cell_type": "markdown",
   "id": "440bb0fb",
   "metadata": {},
   "source": [
    "Данные были получены из трёх файлов:\n",
    "- `users_go.csv`\n",
    "- `rides_go.csv`\n",
    "- `subscriptions_go.csv`\n",
    "\n",
    "В дальнейшем эти датасеты объединили в один под названием `information_users`\n",
    "\n",
    "Сначала был сделан обзор данных. Само исследование проходило в четыре этапа:\n",
    "- Изучить данные;\n",
    "- Предобработка данных;\n",
    "- Исследовательский анализ данных;\n",
    "- Проверка гипотез.\n",
    "\n",
    "**1. Обзор данных**\n",
    "\n",
    "- В таблице `users` 5 столбцов, тип данных - `int`(2), `object`(3). Название столбцов соотвествует стилю. Количестов значений в столбцах одинаковое, а значит пропусков нет;\n",
    "- В таблице `rides`  4 столбца, тип данных - `int`(1), `object`(1) и `float`(2). Название столбцов соотвествует стилю. Количестов значений в столбцах одинаковое, а значит пропусков нет;\n",
    "- В таблице `subscriptions` 4 столбца, тип данных - `int`(3) и `object`(1). Название столбцов соотвествует стилю. Количестов значений в столбцах одинаковое, а значит пропусков нет.\n",
    "\n",
    "**2. Предобработка данных**\n",
    "\n",
    "Проверили типы данных в датафреймах и поменяли их, где было необходимо:\n",
    "- Изменили тип данных в столбце `date` датасета `rides` с `object` на `datetime`.\n",
    "\n",
    "Создали новый столбец `month`, в котором хранится номер месяца.\n",
    "\n",
    "Узнали, что данные в нашем распорежение только за 2021 год.\n",
    "\n",
    "Изучили дубликаты в датафреймах:\n",
    "- В таблице `users` были удалены явные дубликаты в количестве 31;\n",
    "- По работали с неявными дубликатами в столбце `name` таблицы `users` и заменили в именах букву ё на е;\n",
    "- Также в столбце `name` были заменены неявные дубликаты:\n",
    "    - Заменили Влад на Владислав\n",
    "    - Заменили Влада на Владислава\n",
    "    - Заменили Наташа на Наталию\n",
    "- Проверили столбец `city` на неявные дубликаты - не обнаружены\n",
    "\n",
    "**3. Исследовательский анализ данных**\n",
    "\n",
    "1. Изучили и визуализировали при помощи гистограммы частоту встречаемости городов. В результате самый частый город - `Пятигорск`, наименее частый - `Москва`\n",
    "\n",
    "2. Изучили и визуализировали при помощи круговой диаграммы соотношение пользователей с подпиской и без подписки. В результате, получается, что людей без подписок больше, а именно их 835 против 699 с подпиской или же 54% против 45%.\n",
    "\n",
    "3. Изучили и визуализировали возраст пользователей. В результате выяснили, что больше всего самокаты используют пользователи 25-ти лет. Также можно сказать, что люди от 20 до 30 лет являются основными пользователями аренды самокатов. Меньше всего пользуются аудитория до 18 лет и от 35 и выше.\n",
    "\n",
    "4. Изучили и визуализировали расстояние, которое пользователь преодолел за одну поездку. В результате было найдено аномальное значение в котором пользователь проехал 85см причины появления такого значения разные от технических до проблем у самого пользователя. Также выяснили, что медианное расстояние 3133 метров, и что есть пользователи, которые преодолевают небольшое расстояние, так как такие значения возможны, например, пользователь взял самокат, чтобы доехать до остановки.\n",
    "\n",
    "5. Изучили и визуализировали расстояние продолжительность поездок. В результате выяснили, что обычно пользователи тратят 17.7 минут на одну поездку. Также есть большие значения, которые не будут считаться аномальными, так как пользователи в принципе могли взять в аренду самокат на больше чем 35 минут или меньше 5 минут. Но также были найдены аномальные значение в виде поездки, длившийся 5 секунд при большом пройденном расстоянии. Удалять данные значения не будем, но стоит взять их на вооружение и уточнить. Они могли появится из-за какого-то технического сбоя, либо время записанно в каких-то других единицах, либо пользователи как-то обходят с помощью стороннего софта, чтобы платить меньше.\n",
    "\n",
    "6. Объединили все три датафрейма в один под названием `information_users`\n",
    "\n",
    "7. Создали еще два датафрейма:\n",
    "    - c данными о пользователях без подписки под названием `users_free`;\n",
    "    - с данными о пользователях с подпиской под названием `users_ultra`.\n",
    "\n",
    "8. Изучили и визуализировали информацию о расстоянии и времени поездок для пользователей обеих категорий:В результате исследования можно сделать следующие выводы: \n",
    "    - Пользователей без подписки больше, чем пользователей с подпиской.\n",
    "    - Пользователи с подпиской обычно проезжают расстояния примено от 2800м до 3500м. А пользователи без подписки проезжают короткие расстояния, а также расстояния от 3500м и более.\n",
    "    - Также можно сказать, что пользователи с подпиской обычно берут самокаты для средних по расстоянию поездок\n",
    "    - В целом пользователи с подпиской тратят столько же времени как и пользователи без подписки.\n",
    "    - У пользователей с подпиской поездок дольше 35 минут больше. А у пользователей без подписки количество коротких заездов больше.\n",
    "\n",
    "9. Дальше приступили к расчету выручки:\n",
    "    - Создали агрегированный датафрейм по двум категориям пользователей, в которых хранилось суммарное расстояние, количество поездок и суммарное время для каждого пользователя за каждый месяц и назвали его: `agg_rides_users`. В этот датафрейм также был добавлен столбец с помесячной выручкой, которую принёс каждый пользователь. Выручка была посчитана по формуле в зависимости от подписки пользователя.\n",
    "\n",
    "**4. Проверка гипотез**\n",
    "\n",
    "Необходимо было проверить 3 гипотезы:\n",
    "\n",
    "1. Тратят ли пользователи с подпиской больше времени на поездки?\n",
    "2. Расстояние одной поездки в 3130 метров — оптимальное с точки зрения износа самоката. Можно ли сказать, что среднее расстояние, которое проезжают пользователи с подпиской за одну поездку, не превышает 3130 метров?\n",
    "3. Помесячная выручка от пользователей с подпиской по месяцам выше, чем выручка от пользователей без подписки?\n",
    "\n",
    "Для проверки отвергаем мы или не отвергаем нулевую гипотезу, была написана функция `ttest`, которая принмает одно значение результат проверки гипотезы.\n",
    "\n",
    "При проверки первой гипотезы были сформулированы нулевая гипотеза (`H0`) - в среднем пользователи с подпиской тратят столько же времени на поездки, как и пользователи без нее. А также альтернативная (`H1`) - в среднем пользователи с подпиской тратят больше времени на поездки, чем пользователи без нее.\n",
    "\n",
    "В результате мы отвергли нулевую гипотезу. И предположили, что есть основания, что пользователи с подпиской трататят больше времени на поездки. \n",
    "\n",
    "\n",
    "Для проверки второй гипотезы были сформулированны следующие `H0` и `H1`: \n",
    "\n",
    "`H0` - среднее расстояние, которое проезжают пользователи с подпиской за одну поездку равняется 3130 метров.\n",
    "\n",
    "`H1` - среднее расстояние, которое проезжают пользователи с подпиской за одну поездку больше 3130 метров.\n",
    "\n",
    "- H0: μ = 3130\n",
    "- H1: μ < 3130\n",
    "\n",
    "В результате мы не отвергли нулевую гипотезу и можно сказать, что растояние, которое проезжают пользователи в среднем не превышает значение 3130 метров\n",
    "\n",
    "В результате проверки третьей гипотезы, сформировали нуелвую и альтернативную гипотезу:\n",
    "- HO - в среднем помесячная выручка от пользователей с подпиской по месяцам такая же как и у пользователей без нее\n",
    "- H1 - в среднем помесячная выручка от пользователей с подпиской по месяцам выше чем у пользователей без нее\n",
    "\n",
    "В результате мы отврегаем нулевую гипотезу в пользу альтернативной. Значит можно сделать вывод, что выручка с пользователей с подпиской выше.\n",
    "\n",
    "**Вывод**\n",
    "\n",
    "Можно предположить, что пользователи с подпиской больше пользуются приложением и проезжают около 3км, но самих таких пользователей меньше. Также скорее всего выручка с таких пользователей выше.\n",
    "\n",
    "При увелечении пользователей с подпиской необходимо чаще менять самокаты из-за их износа, либо же увеличить их срок жизни, но при этом выручка станет благодаря этому больше."
   ]
  }
 ],
 "metadata": {
  "kernelspec": {
   "display_name": "Python 3 (ipykernel)",
   "language": "python",
   "name": "python3"
  },
  "language_info": {
   "codemirror_mode": {
    "name": "ipython",
    "version": 3
   },
   "file_extension": ".py",
   "mimetype": "text/x-python",
   "name": "python",
   "nbconvert_exporter": "python",
   "pygments_lexer": "ipython3",
   "version": "3.11.4"
  },
  "toc": {
   "base_numbering": 1,
   "nav_menu": {},
   "number_sections": true,
   "sideBar": true,
   "skip_h1_title": false,
   "title_cell": "Table of Contents",
   "title_sidebar": "Contents",
   "toc_cell": false,
   "toc_position": {
    "height": "calc(100% - 180px)",
    "left": "10px",
    "top": "150px",
    "width": "384px"
   },
   "toc_section_display": true,
   "toc_window_display": true
  },
  "varInspector": {
   "cols": {
    "lenName": 16,
    "lenType": 16,
    "lenVar": 40
   },
   "kernels_config": {
    "python": {
     "delete_cmd_postfix": "",
     "delete_cmd_prefix": "del ",
     "library": "var_list.py",
     "varRefreshCmd": "print(var_dic_list())"
    },
    "r": {
     "delete_cmd_postfix": ") ",
     "delete_cmd_prefix": "rm(",
     "library": "var_list.r",
     "varRefreshCmd": "cat(var_dic_list()) "
    }
   },
   "types_to_exclude": [
    "module",
    "function",
    "builtin_function_or_method",
    "instance",
    "_Feature"
   ],
   "window_display": false
  }
 },
 "nbformat": 4,
 "nbformat_minor": 5
}
