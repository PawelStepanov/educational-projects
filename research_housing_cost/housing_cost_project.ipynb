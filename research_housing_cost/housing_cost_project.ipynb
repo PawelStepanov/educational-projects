{
 "cells": [
  {
   "cell_type": "markdown",
   "id": "GEqQaHzsZ_bA",
   "metadata": {
    "id": "GEqQaHzsZ_bA"
   },
   "source": [
    "# Предсказание стоимости жилья\n",
    "\n",
    "**Цель исследования** - обучить модель линейной регрессии на данных о жилье в Калифорнии в 1990 году.\n",
    "\n",
    "**Задача:**\n",
    "- Нужно предсказать медианную стоимость дома в жилом массиве\n",
    "- Сравнить результаты работы модели на двух наборах данных (с категорильными и без категориальных данных) по метрикам RMSE, MAE и R2.\n",
    "\n",
    "**План исследования**\n",
    "\n",
    "1. Изучить данные\n",
    "2. Предподготовка данных\n",
    "3. Исследовательский анализ\n",
    "4. Корреляционные анализ\n",
    "5. Кодирование данных\n",
    "6. Обучение моделей\n",
    "7. Анализ результатов\n",
    "8. Общий вывод\n",
    "\n",
    "Согласно документации к данным:\n",
    "\n",
    "Таблица `housing` содержит информацию о жилых массивах в Калифорнии\n",
    "\n",
    "- `longitude` — широта;\n",
    "- `latitude` — долгота;\n",
    "- `housing_median_age` — медианный возраст жителей жилого массива;\n",
    "- `total_rooms` — общее количество комнат в домах жилого массива;\n",
    "- `total_bedrooms` — общее количество спален в домах жилого массива;\n",
    "- `population` — количество человек, которые проживают в жилом массиве;\n",
    "- `households` — количество домовладений в жилом массиве;\n",
    "- `median_income` — медианный доход жителей жилого массива;\n",
    "- `median_house_value` — медианная стоимость дома в жилом массиве;\n",
    "- `ocean_proximity` — близость к океану."
   ]
  },
  {
   "cell_type": "markdown",
   "id": "175bc32e",
   "metadata": {},
   "source": [
    "## Изучение данных"
   ]
  },
  {
   "cell_type": "markdown",
   "id": "046ae1c9",
   "metadata": {},
   "source": [
    "### Импорт библиотек"
   ]
  },
  {
   "cell_type": "code",
   "execution_count": 3,
   "id": "cd55049e",
   "metadata": {},
   "outputs": [],
   "source": [
    "import os\n",
    "\n",
    "import pandas as pd\n",
    "import numpy as np\n",
    "import seaborn as sns\n",
    "import matplotlib.pyplot as plt\n",
    "\n",
    "import pyspark\n",
    "from pyspark.sql import SparkSession\n",
    "from pyspark.sql.types import *\n",
    "import pyspark.sql.functions as F\n",
    "from pyspark.ml import Pipeline\n",
    "\n",
    "from pyspark.ml.feature import StringIndexer, VectorAssembler, StandardScaler, OneHotEncoder \n",
    "from pyspark.ml.regression import LinearRegression\n",
    "from pyspark.ml.evaluation import RegressionEvaluator\n",
    "from pyspark.mllib.evaluation import RegressionMetrics\n",
    "\n",
    "import phik\n",
    "from phik.report import plot_correlation_matrix"
   ]
  },
  {
   "cell_type": "markdown",
   "id": "c3d7db44",
   "metadata": {},
   "source": [
    "### Константы"
   ]
  },
  {
   "cell_type": "code",
   "execution_count": 4,
   "id": "233055f9",
   "metadata": {},
   "outputs": [],
   "source": [
    "RANDOM_SEED = 2022"
   ]
  },
  {
   "cell_type": "markdown",
   "id": "0c0aa9cd",
   "metadata": {},
   "source": [
    "### Загрузка данных"
   ]
  },
  {
   "cell_type": "markdown",
   "id": "8d89711f",
   "metadata": {},
   "source": [
    "Инициализируем локальную Spark-сессию."
   ]
  },
  {
   "cell_type": "code",
   "execution_count": 5,
   "id": "a8fd381f",
   "metadata": {},
   "outputs": [],
   "source": [
    "spark = SparkSession.builder.master('local').appName('Califorina Housing').getOrCreate()"
   ]
  },
  {
   "cell_type": "markdown",
   "id": "64b3b9ce",
   "metadata": {},
   "source": [
    "Прочитаем файл `housing.csv` и сохраним его в переменной `housing`"
   ]
  },
  {
   "cell_type": "code",
   "execution_count": 6,
   "id": "cb493f9e",
   "metadata": {},
   "outputs": [],
   "source": [
    "pth = '/datasets/housing.csv'"
   ]
  },
  {
   "cell_type": "code",
   "execution_count": 7,
   "id": "eefcc3f9",
   "metadata": {
    "scrolled": true
   },
   "outputs": [
    {
     "name": "stderr",
     "output_type": "stream",
     "text": [
      "                                                                                \r"
     ]
    }
   ],
   "source": [
    "if os.path.exists(pth):\n",
    "    housing = spark.read.option('header', 'true').csv(pth, inferSchema=True)\n",
    "else:\n",
    "    print('Ошибка')"
   ]
  },
  {
   "cell_type": "markdown",
   "id": "9ace6274",
   "metadata": {},
   "source": [
    "Выведем первые 5 строк"
   ]
  },
  {
   "cell_type": "code",
   "execution_count": 8,
   "id": "0769e78a",
   "metadata": {
    "scrolled": true
   },
   "outputs": [
    {
     "name": "stdout",
     "output_type": "stream",
     "text": [
      "+---------+--------+------------------+-----------+--------------+----------+----------+-------------+------------------+---------------+\n",
      "|longitude|latitude|housing_median_age|total_rooms|total_bedrooms|population|households|median_income|median_house_value|ocean_proximity|\n",
      "+---------+--------+------------------+-----------+--------------+----------+----------+-------------+------------------+---------------+\n",
      "|  -122.23|   37.88|              41.0|      880.0|         129.0|     322.0|     126.0|       8.3252|          452600.0|       NEAR BAY|\n",
      "|  -122.22|   37.86|              21.0|     7099.0|        1106.0|    2401.0|    1138.0|       8.3014|          358500.0|       NEAR BAY|\n",
      "|  -122.24|   37.85|              52.0|     1467.0|         190.0|     496.0|     177.0|       7.2574|          352100.0|       NEAR BAY|\n",
      "|  -122.25|   37.85|              52.0|     1274.0|         235.0|     558.0|     219.0|       5.6431|          341300.0|       NEAR BAY|\n",
      "|  -122.25|   37.85|              52.0|     1627.0|         280.0|     565.0|     259.0|       3.8462|          342200.0|       NEAR BAY|\n",
      "+---------+--------+------------------+-----------+--------------+----------+----------+-------------+------------------+---------------+\n",
      "only showing top 5 rows\n",
      "\n"
     ]
    }
   ],
   "source": [
    "housing.show(5)"
   ]
  },
  {
   "cell_type": "markdown",
   "id": "3e2f9286",
   "metadata": {},
   "source": [
    "Теперь выведим типы данных колонок датасета и посмотрим на описательную статистику"
   ]
  },
  {
   "cell_type": "code",
   "execution_count": 9,
   "id": "0157aff7",
   "metadata": {
    "scrolled": false
   },
   "outputs": [
    {
     "name": "stdout",
     "output_type": "stream",
     "text": [
      "               column    type\n",
      "0           longitude  double\n",
      "1            latitude  double\n",
      "2  housing_median_age  double\n",
      "3         total_rooms  double\n",
      "4      total_bedrooms  double\n",
      "5          population  double\n",
      "6          households  double\n",
      "7       median_income  double\n",
      "8  median_house_value  double\n",
      "9     ocean_proximity  string\n"
     ]
    }
   ],
   "source": [
    "print(pd.DataFrame(housing.dtypes, columns=['column', 'type']).head(10))"
   ]
  },
  {
   "cell_type": "code",
   "execution_count": 10,
   "id": "c17c3327",
   "metadata": {},
   "outputs": [
    {
     "name": "stderr",
     "output_type": "stream",
     "text": [
      "                                                                                \r"
     ]
    },
    {
     "data": {
      "text/html": [
       "<div>\n",
       "<style scoped>\n",
       "    .dataframe tbody tr th:only-of-type {\n",
       "        vertical-align: middle;\n",
       "    }\n",
       "\n",
       "    .dataframe tbody tr th {\n",
       "        vertical-align: top;\n",
       "    }\n",
       "\n",
       "    .dataframe thead th {\n",
       "        text-align: right;\n",
       "    }\n",
       "</style>\n",
       "<table border=\"1\" class=\"dataframe\">\n",
       "  <thead>\n",
       "    <tr style=\"text-align: right;\">\n",
       "      <th></th>\n",
       "      <th>summary</th>\n",
       "      <th>longitude</th>\n",
       "      <th>latitude</th>\n",
       "      <th>housing_median_age</th>\n",
       "      <th>total_rooms</th>\n",
       "      <th>total_bedrooms</th>\n",
       "      <th>population</th>\n",
       "      <th>households</th>\n",
       "      <th>median_income</th>\n",
       "      <th>median_house_value</th>\n",
       "      <th>ocean_proximity</th>\n",
       "    </tr>\n",
       "  </thead>\n",
       "  <tbody>\n",
       "    <tr>\n",
       "      <th>0</th>\n",
       "      <td>count</td>\n",
       "      <td>20640</td>\n",
       "      <td>20640</td>\n",
       "      <td>20640</td>\n",
       "      <td>20640</td>\n",
       "      <td>20433</td>\n",
       "      <td>20640</td>\n",
       "      <td>20640</td>\n",
       "      <td>20640</td>\n",
       "      <td>20640</td>\n",
       "      <td>20640</td>\n",
       "    </tr>\n",
       "    <tr>\n",
       "      <th>1</th>\n",
       "      <td>mean</td>\n",
       "      <td>-119.56970445736148</td>\n",
       "      <td>35.6318614341087</td>\n",
       "      <td>28.639486434108527</td>\n",
       "      <td>2635.7630813953488</td>\n",
       "      <td>537.8705525375618</td>\n",
       "      <td>1425.4767441860465</td>\n",
       "      <td>499.5396802325581</td>\n",
       "      <td>3.8706710029070246</td>\n",
       "      <td>206855.81690891474</td>\n",
       "      <td>None</td>\n",
       "    </tr>\n",
       "    <tr>\n",
       "      <th>2</th>\n",
       "      <td>stddev</td>\n",
       "      <td>2.003531723502584</td>\n",
       "      <td>2.135952397457101</td>\n",
       "      <td>12.58555761211163</td>\n",
       "      <td>2181.6152515827944</td>\n",
       "      <td>421.38507007403115</td>\n",
       "      <td>1132.46212176534</td>\n",
       "      <td>382.3297528316098</td>\n",
       "      <td>1.899821717945263</td>\n",
       "      <td>115395.61587441359</td>\n",
       "      <td>None</td>\n",
       "    </tr>\n",
       "    <tr>\n",
       "      <th>3</th>\n",
       "      <td>min</td>\n",
       "      <td>-124.35</td>\n",
       "      <td>32.54</td>\n",
       "      <td>1.0</td>\n",
       "      <td>2.0</td>\n",
       "      <td>1.0</td>\n",
       "      <td>3.0</td>\n",
       "      <td>1.0</td>\n",
       "      <td>0.4999</td>\n",
       "      <td>14999.0</td>\n",
       "      <td>&lt;1H OCEAN</td>\n",
       "    </tr>\n",
       "    <tr>\n",
       "      <th>4</th>\n",
       "      <td>max</td>\n",
       "      <td>-114.31</td>\n",
       "      <td>41.95</td>\n",
       "      <td>52.0</td>\n",
       "      <td>39320.0</td>\n",
       "      <td>6445.0</td>\n",
       "      <td>35682.0</td>\n",
       "      <td>6082.0</td>\n",
       "      <td>15.0001</td>\n",
       "      <td>500001.0</td>\n",
       "      <td>NEAR OCEAN</td>\n",
       "    </tr>\n",
       "  </tbody>\n",
       "</table>\n",
       "</div>"
      ],
      "text/plain": [
       "  summary            longitude           latitude  housing_median_age  \\\n",
       "0   count                20640              20640               20640   \n",
       "1    mean  -119.56970445736148   35.6318614341087  28.639486434108527   \n",
       "2  stddev    2.003531723502584  2.135952397457101   12.58555761211163   \n",
       "3     min              -124.35              32.54                 1.0   \n",
       "4     max              -114.31              41.95                52.0   \n",
       "\n",
       "          total_rooms      total_bedrooms          population  \\\n",
       "0               20640               20433               20640   \n",
       "1  2635.7630813953488   537.8705525375618  1425.4767441860465   \n",
       "2  2181.6152515827944  421.38507007403115    1132.46212176534   \n",
       "3                 2.0                 1.0                 3.0   \n",
       "4             39320.0              6445.0             35682.0   \n",
       "\n",
       "          households       median_income  median_house_value ocean_proximity  \n",
       "0              20640               20640               20640           20640  \n",
       "1  499.5396802325581  3.8706710029070246  206855.81690891474            None  \n",
       "2  382.3297528316098   1.899821717945263  115395.61587441359            None  \n",
       "3                1.0              0.4999             14999.0       <1H OCEAN  \n",
       "4             6082.0             15.0001            500001.0      NEAR OCEAN  "
      ]
     },
     "execution_count": 10,
     "metadata": {},
     "output_type": "execute_result"
    }
   ],
   "source": [
    "housing.describe().toPandas()"
   ]
  },
  {
   "cell_type": "markdown",
   "id": "f7a5ed33",
   "metadata": {},
   "source": [
    "Всего в таблице 10 столбцов. Все столбцы, кроме `ocean_proximity` имеют тип данных `doble`, он имеет тип данных `string`.  В датасете примерно 21 тысяча строк. Максимальная медианная стоимость дома равна полумиллиону долларов. "
   ]
  },
  {
   "cell_type": "markdown",
   "id": "74ed0ec8",
   "metadata": {},
   "source": [
    "### Вывод"
   ]
  },
  {
   "cell_type": "markdown",
   "id": "ea194082",
   "metadata": {},
   "source": [
    "Каждая сторка таблиц содержит информацию о жилых массивах в Калифорнии. Стоит сделать следующие шаги:\n",
    "\n",
    "1. Проверить на наличие пропусков в данных и если есть заполнить понеобходимости.\n",
    "2. Проверить явные и неявные дубликаты и если есть повозможности избавиться от них."
   ]
  },
  {
   "cell_type": "markdown",
   "id": "53871372",
   "metadata": {
    "id": "53871372"
   },
   "source": [
    "## Предобработка данных\n",
    "### Работа с пропусками"
   ]
  },
  {
   "cell_type": "markdown",
   "id": "87d95279",
   "metadata": {
    "id": "df92e3ec"
   },
   "source": [
    "Проверим есть ли пропущенные значения в датафрейме. Добавим проверку колонки в переменную col_fl. Приведем значения к типу `float` методом `cast()` и проверим на наличие значений `[None, np.nan, NULL]`."
   ]
  },
  {
   "cell_type": "code",
   "execution_count": 11,
   "id": "d0d163f6",
   "metadata": {
    "scrolled": false
   },
   "outputs": [
    {
     "name": "stdout",
     "output_type": "stream",
     "text": [
      "longitude 0\n",
      "latitude 0\n",
      "housing_median_age 0\n",
      "total_rooms 0\n",
      "total_bedrooms 207\n",
      "population 0\n",
      "households 0\n",
      "median_income 0\n",
      "median_house_value 0\n",
      "ocean_proximity 0\n"
     ]
    }
   ],
   "source": [
    "columns = housing.columns\n",
    "\n",
    "for column in columns:\n",
    "    ch_col = (F.col(column).isNull() | F.isnan(F.col(column)))\n",
    "    print(column, housing.filter(ch_col).count())"
   ]
  },
  {
   "cell_type": "markdown",
   "id": "b473aca1",
   "metadata": {},
   "source": [
    " Заполним пропуски медианным значением по cтолбцу `total_bedrooms`"
   ]
  },
  {
   "cell_type": "code",
   "execution_count": 12,
   "id": "fa28a5c8",
   "metadata": {},
   "outputs": [],
   "source": [
    "housing_sp = housing.na.fill(int(housing.approxQuantile('total_bedrooms', [0.5], 0)[0]))"
   ]
  },
  {
   "cell_type": "code",
   "execution_count": 13,
   "id": "772ae732",
   "metadata": {},
   "outputs": [],
   "source": [
    "#housing_sp = housing.na.fill(housing.select(F.mean('total_bedrooms')).collect()[0][0])"
   ]
  },
  {
   "cell_type": "markdown",
   "id": "6da28680",
   "metadata": {},
   "source": [
    "Проверим заполнились ли пропуски"
   ]
  },
  {
   "cell_type": "code",
   "execution_count": 14,
   "id": "649539a1",
   "metadata": {
    "scrolled": false
   },
   "outputs": [
    {
     "name": "stdout",
     "output_type": "stream",
     "text": [
      "longitude 0\n",
      "latitude 0\n",
      "housing_median_age 0\n",
      "total_rooms 0\n",
      "total_bedrooms 0\n",
      "population 0\n",
      "households 0\n",
      "median_income 0\n",
      "median_house_value 0\n",
      "ocean_proximity 0\n"
     ]
    }
   ],
   "source": [
    "columns = housing_sp.columns\n",
    "\n",
    "for column in columns:\n",
    "    ch_col = (F.col(column).isNull() | F.isnan(F.col(column)))\n",
    "    print(column, housing_sp.filter(ch_col).count())"
   ]
  },
  {
   "cell_type": "markdown",
   "id": "6a014668",
   "metadata": {},
   "source": [
    "Пропуски заполнены"
   ]
  },
  {
   "cell_type": "markdown",
   "id": "8dfe5f9f",
   "metadata": {},
   "source": [
    "### Работа с явными дубликатами"
   ]
  },
  {
   "cell_type": "markdown",
   "id": "26adf2db",
   "metadata": {},
   "source": [
    "Если дубликаты присутсвуют, то мы удалим их. Выведем количество значений"
   ]
  },
  {
   "cell_type": "code",
   "execution_count": 15,
   "id": "29cebd21",
   "metadata": {},
   "outputs": [
    {
     "data": {
      "text/plain": [
       "20640"
      ]
     },
     "execution_count": 15,
     "metadata": {},
     "output_type": "execute_result"
    }
   ],
   "source": [
    "housing_sp.count()"
   ]
  },
  {
   "cell_type": "markdown",
   "id": "c45d42f7",
   "metadata": {},
   "source": [
    "Удалим дубликаты, если они есть"
   ]
  },
  {
   "cell_type": "code",
   "execution_count": 16,
   "id": "4271e7fb",
   "metadata": {
    "scrolled": true
   },
   "outputs": [
    {
     "name": "stderr",
     "output_type": "stream",
     "text": [
      "                                                                                \r"
     ]
    },
    {
     "data": {
      "text/plain": [
       "20640"
      ]
     },
     "execution_count": 16,
     "metadata": {},
     "output_type": "execute_result"
    }
   ],
   "source": [
    "housing_sp.dropDuplicates().count()"
   ]
  },
  {
   "cell_type": "markdown",
   "id": "fc0a5ed9",
   "metadata": {},
   "source": [
    "Явных дубликатов  не обнаружено"
   ]
  },
  {
   "cell_type": "markdown",
   "id": "07160059",
   "metadata": {},
   "source": [
    "### Работа с неявными дубликатми"
   ]
  },
  {
   "cell_type": "markdown",
   "id": "027ad14c",
   "metadata": {},
   "source": [
    "Неявные дубликаты могут быть только в колонке `ocean_proximity`, поэтому выберем ее и выведем уникальные значения, чтобы посмотреть есть ли неявные дубликаты."
   ]
  },
  {
   "cell_type": "code",
   "execution_count": 17,
   "id": "b2ec6a41",
   "metadata": {
    "scrolled": true
   },
   "outputs": [
    {
     "name": "stderr",
     "output_type": "stream",
     "text": [
      "[Stage 52:==============================================>       (173 + 1) / 200]\r"
     ]
    },
    {
     "name": "stdout",
     "output_type": "stream",
     "text": [
      "[Row(ocean_proximity='ISLAND'), Row(ocean_proximity='NEAR OCEAN'), Row(ocean_proximity='NEAR BAY'), Row(ocean_proximity='<1H OCEAN'), Row(ocean_proximity='INLAND')]\n"
     ]
    },
    {
     "name": "stderr",
     "output_type": "stream",
     "text": [
      "                                                                                \r"
     ]
    }
   ],
   "source": [
    "ocean_dist = housing_sp.select('ocean_proximity').distinct()\n",
    "print(ocean_dist.collect())"
   ]
  },
  {
   "cell_type": "markdown",
   "id": "61a8ab02",
   "metadata": {},
   "source": [
    "Неявных дубликатов также не обнаружено"
   ]
  },
  {
   "cell_type": "markdown",
   "id": "36c800a2",
   "metadata": {},
   "source": [
    "### Вывод"
   ]
  },
  {
   "cell_type": "markdown",
   "id": "947663c4",
   "metadata": {},
   "source": [
    "На данном этапе были сделаны следующие действия:\n",
    "\n",
    "1. Сделали проверку на пропуски. Пропуски были в одном столбце `total_bedrooms`, заполнили их средним значением по столбцу `total_bedrooms`.\n",
    "2. Сделали проверку на явные дубликаты - **не обнаружены**.\n",
    "3. Сделали проверку на неявные дубликаты - **не обнаружены**."
   ]
  },
  {
   "cell_type": "markdown",
   "id": "67bb29bb",
   "metadata": {},
   "source": [
    "## Исследовательский анализ"
   ]
  },
  {
   "cell_type": "markdown",
   "id": "c1776489",
   "metadata": {},
   "source": [
    "Исследуем данные в датафрейме. Выясним процентное соотношение `ocean_proximity`, построив для этого круговую диаграмму. А также изучим колличественные переменные, построив гистограммы и боксплоты."
   ]
  },
  {
   "cell_type": "markdown",
   "id": "d88d7573",
   "metadata": {},
   "source": [
    "Начнем с анализа `ocean_proximity` и построим круговую диаграмму, но перед этим сделаем группировку по этому столбцу и посчитаем количество каждой категории."
   ]
  },
  {
   "cell_type": "code",
   "execution_count": 18,
   "id": "2b145462",
   "metadata": {
    "scrolled": true
   },
   "outputs": [
    {
     "name": "stderr",
     "output_type": "stream",
     "text": [
      "                                                                                \r"
     ]
    }
   ],
   "source": [
    "df_ocean_prox = housing_sp.groupBy('ocean_proximity').agg(F.count('total_rooms')).toPandas()"
   ]
  },
  {
   "cell_type": "code",
   "execution_count": 19,
   "id": "c58a632d",
   "metadata": {
    "scrolled": false
   },
   "outputs": [
    {
     "data": {
      "image/png": "[encoded data removed]",
      "text/plain": [
       "<Figure size 720x432 with 1 Axes>"
      ]
     },
     "metadata": {},
     "output_type": "display_data"
    }
   ],
   "source": [
    "plt.figure(figsize=(10, 6))\n",
    "plt.pie(df_ocean_prox['count(total_rooms)'], labels=df_ocean_prox['ocean_proximity'], \n",
    "        autopct='%.1f%%', wedgeprops={'linewidth':4, 'edgecolor':'white'})\n",
    "plt.title('Удаленность от океана', fontsize=15, fontweight='bold');"
   ]
  },
  {
   "cell_type": "markdown",
   "id": "5e71cdaf",
   "metadata": {},
   "source": [
    "В результате получаем следующиее соотношение категорий:\n",
    "\n",
    "- `<1H OCEAN` - 44.3%\n",
    "- `INLAND` - 31.7%\n",
    "- `NEAR OCEAN` - 12.9%\n",
    "- `NEAR BAY` - 11.1%\n",
    "- `ISLAND` - 0%"
   ]
  },
  {
   "cell_type": "markdown",
   "id": "e185b22d",
   "metadata": {},
   "source": [
    "Теперь изучим количественные перменные и сначала построим диаграмму размаха."
   ]
  },
  {
   "cell_type": "code",
   "execution_count": 20,
   "id": "5f90b7c0",
   "metadata": {},
   "outputs": [],
   "source": [
    "sampled_housing = housing.sample(True, 0.2, seed=RANDOM_SEED)"
   ]
  },
  {
   "cell_type": "code",
   "execution_count": 21,
   "id": "e940bf91",
   "metadata": {},
   "outputs": [
    {
     "data": {
      "text/plain": [
       "4113"
      ]
     },
     "execution_count": 21,
     "metadata": {},
     "output_type": "execute_result"
    }
   ],
   "source": [
    "sampled_housing.count()"
   ]
  },
  {
   "cell_type": "code",
   "execution_count": 22,
   "id": "05201f70",
   "metadata": {},
   "outputs": [],
   "source": [
    "df = sampled_housing.toPandas() # Создаем отдельный датафрейм"
   ]
  },
  {
   "cell_type": "code",
   "execution_count": 23,
   "id": "d1497ee1",
   "metadata": {
    "scrolled": false
   },
   "outputs": [
    {
     "data": {
      "image/png": "[encoded data removed]",
      "text/plain": [
       "<Figure size 2160x1440 with 9 Axes>"
      ]
     },
     "metadata": {
      "needs_background": "light"
     },
     "output_type": "display_data"
    }
   ],
   "source": [
    "plt.figure(figsize=(30, 20))\n",
    "\n",
    "plt.suptitle('Диаграмма размаха', fontsize=30, fontweight='bold')\n",
    "\n",
    "plt.subplot(3, 3, 1)\n",
    "sns.boxplot(y=df['longitude'], width=.1)\n",
    "plt.title('Широта', fontsize=20)\n",
    "\n",
    "plt.subplot(3, 3, 2)\n",
    "sns.boxplot(y=df['latitude'], width=.1, color='red')\n",
    "plt.title('Долгота', fontsize=20)\n",
    "\n",
    "plt.subplot(3, 3, 3)\n",
    "sns.boxplot(y=df['housing_median_age'], width=.1, color='orange')\n",
    "plt.title('Медианный возраст жителей', fontsize=20)\n",
    "\n",
    "plt.subplot(3, 3, 4)\n",
    "sns.boxplot(y=df['total_rooms'], width=.1, color='green')\n",
    "plt.title('Общее количество комнат', fontsize=20)\n",
    "\n",
    "plt.subplot(3, 3, 5)\n",
    "sns.boxplot(y=df['total_bedrooms'], width=.1, color='coral')\n",
    "plt.title('Общее количество спален', fontsize=20)\n",
    "\n",
    "plt.subplot(3, 3, 6)\n",
    "sns.boxplot(y=df['population'], width=.1, color='yellow')\n",
    "plt.title('Количество человек проживающих в жилом массиве', fontsize=15)\n",
    "\n",
    "plt.subplot(3, 3, 7)\n",
    "sns.boxplot(y=df['households'], width=.1, color='plum')\n",
    "plt.title('Количество домовладений', fontsize=20)\n",
    "\n",
    "plt.subplot(3, 3, 8)\n",
    "sns.boxplot(y=df['median_income'], width=.1, color='cyan')\n",
    "plt.title('Медианный доход жителей', fontsize=20)\n",
    "\n",
    "plt.subplot(3, 3, 9)\n",
    "sns.boxplot(y=df['median_house_value'], width=.1, color='lime')\n",
    "plt.title('Медианная стоимость дома', fontsize=20);"
   ]
  },
  {
   "cell_type": "markdown",
   "id": "156effc3",
   "metadata": {},
   "source": [
    "Из графиков видно, что в некоторых столбцах есть выбросы, но сами эти значения не будут аномальными, так как на диаграмме \"общее количество комнат\", так как это количество комнант в жилом массиве то такие отклоненние от медианы вполне естественно, так как массивы отличаются между собой домами, которые в них расположенны. Аналогично и для количества спален, так как домов в некоторых массивах больше и сами дома больше то и количество спален могут выбиваться от обычного количества, а следовательно и количество людей проживающих в них тоже будуте другим. По диаграмме \"медианный доход жителей\" тоже вполне естественно, так как в некоторых массивах просто живут люди с доходом выше среднего, что и послужило такими \"выбросами\". "
   ]
  },
  {
   "cell_type": "markdown",
   "id": "f32afbb6",
   "metadata": {},
   "source": [
    "Теперь построим гистограммы по количественным переменным."
   ]
  },
  {
   "cell_type": "code",
   "execution_count": 24,
   "id": "11cfd3a8",
   "metadata": {
    "scrolled": false
   },
   "outputs": [
    {
     "data": {
      "image/png": "[encoded data removed]",
      "text/plain": [
       "<Figure size 2160x1440 with 9 Axes>"
      ]
     },
     "metadata": {
      "needs_background": "light"
     },
     "output_type": "display_data"
    }
   ],
   "source": [
    "plt.figure(figsize=(30, 20))\n",
    "\n",
    "plt.suptitle('Гистограммы распределения', fontsize=30, fontweight='bold')\n",
    "\n",
    "plt.subplot(3, 3, 1)\n",
    "sns.histplot(df['longitude'], kde=True, bins=30)\n",
    "plt.title('Широта', fontsize=20)\n",
    "\n",
    "plt.subplot(3, 3, 2)\n",
    "sns.histplot(df['latitude'], kde=True, bins=30)\n",
    "plt.title('Долгота', fontsize=20)\n",
    "\n",
    "plt.subplot(3, 3, 3)\n",
    "sns.histplot(df['housing_median_age'], kde=True, bins=50)\n",
    "plt.title('Медианный возраст жителей', fontsize=20)\n",
    "\n",
    "plt.subplot(3, 3, 4)\n",
    "sns.histplot(df['total_rooms'], kde=True, bins=40)\n",
    "plt.title('Общее количество комнат', fontsize=20)\n",
    "\n",
    "plt.subplot(3, 3, 5)\n",
    "sns.histplot(df['total_bedrooms'], kde=True, bins=40)\n",
    "plt.title('Общее количество спален', fontsize=20)\n",
    "\n",
    "plt.subplot(3, 3, 6)\n",
    "sns.histplot(df['population'], kde=True, bins=30)\n",
    "plt.title('Количество человек проживающих в жилом массиве', fontsize=15)\n",
    "\n",
    "plt.subplot(3, 3, 7)\n",
    "sns.histplot(df['households'], kde=True, bins=30)\n",
    "plt.title('Количество домовладений', fontsize=20)\n",
    "\n",
    "plt.subplot(3, 3, 8)\n",
    "sns.histplot(df['median_income'], kde=True, bins=30)\n",
    "plt.title('Медианный доход жителей', fontsize=20)\n",
    "\n",
    "plt.subplot(3, 3, 9)\n",
    "sns.histplot(df['median_house_value'], kde=True, bins=40)\n",
    "plt.title('Медианная стоимость дома', fontsize=20);"
   ]
  },
  {
   "cell_type": "markdown",
   "id": "1d55b6e0",
   "metadata": {},
   "source": [
    "Многие количественные признаки распределены ненормально. `longitude`, `latitude`, `housing_median_age` и `median_house_value` - имеют мультимодальное распределение. Также можно отметить очень заметный пик после 50 в возрасте и пик возле 500000 в стоимсоти дома.\n",
    "Остальные признаки имеют уномодальное распределение."
   ]
  },
  {
   "cell_type": "markdown",
   "id": "77eddbc9",
   "metadata": {},
   "source": [
    "### Вывод"
   ]
  },
  {
   "cell_type": "markdown",
   "id": "a7847ea3",
   "metadata": {},
   "source": [
    "По результатам исследователького анализа можно сделать следующие выводы:\n",
    "\n",
    "1. По удалености от океана категории расположилось следующим образом:\n",
    "    - `<1H OCEAN` - 44.3%\n",
    "    - `INLAND` - 31.7%\n",
    "    - `NEAR OCEAN` - 12.9%\n",
    "    - `NEAR BAY` - 11.1%\n",
    "    - `ISLAND` - 0%\n",
    "2. Из графиков видно, что в некоторых столбцах есть выбросы, но сами эти значения не будут аномальными, так как на диаграмме \"общее количество комнат\", так как это количество комнант в жилом массиве то такие отклоненние от медианы вполне естественно, так как массивы отличаются между собой домами, которые в них расположенны. Аналогично и для количества спален, так как домов в некоторых массивах больше и сами дома больше то и количество спален могут выбиваться от обычного количества, а следовательно и количество людей проживающих в них тоже будуте другим. По диаграмме \"медианный доход жителей\" тоже вполне естественно, так как в некоторых массивах просто живут люди с доходом выше среднего, что и послужило такими \"выбросами\".\n",
    "3. Многие количественные признаки распределены ненормально. `longitude`, `latitude`, `housing_median_age` и `median_house_value` - имеют мультимодальное распределение. Также можно отметить очень заметный пик после 50 в возрасте и пик возле 500000 в стоимсоти дома. Остальные признаки имеют уномодальное смещеное распределение."
   ]
  },
  {
   "cell_type": "markdown",
   "id": "aabcfe44",
   "metadata": {},
   "source": [
    "## Корреляционные анализ"
   ]
  },
  {
   "cell_type": "markdown",
   "id": "2bc98d1d",
   "metadata": {},
   "source": [
    "Необходимо провести корреляционный анализ, для того, чтобы выяснить нет ли мультиколлинеарности между признаками. Так как данные у нас распределенны ненормально, то воспользуемся специальной библиотекой `phik` она рассчитывает коэффициент корреляции $\\phi_k$, который находит может находить взаимосвязи нетолько между числовыми, но и категориальными признаками. "
   ]
  },
  {
   "cell_type": "code",
   "execution_count": 25,
   "id": "839cc5d5",
   "metadata": {},
   "outputs": [],
   "source": [
    "# Рассчитываем коэффициент корреляции\n",
    "phik_matrix = df.phik_matrix(interval_cols=['longitude', 'latitude', 'housing_median_age', 'total_rooms', \n",
    "           'total_bedrooms', 'population', 'households', 'median_income', 'median_house_value'])"
   ]
  },
  {
   "cell_type": "code",
   "execution_count": 26,
   "id": "e0c9717f",
   "metadata": {
    "scrolled": false
   },
   "outputs": [
    {
     "data": {
      "image/png": "[encoded data removed]",
      "text/plain": [
       "<Figure size 504x504 with 2 Axes>"
      ]
     },
     "metadata": {
      "needs_background": "light"
     },
     "output_type": "display_data"
    }
   ],
   "source": [
    "plot_correlation_matrix(phik_matrix.values, x_labels=phik_matrix.columns, y_labels=phik_matrix.index, \n",
    "                        vmin=0, vmax=1, color_map='coolwarm', title='Корреляция $\\phi_k$', fontsize_factor=1,\n",
    "                       figsize=(7,7))\n",
    "\n",
    "plt.tight_layout()"
   ]
  },
  {
   "cell_type": "markdown",
   "id": "d06c5b1b",
   "metadata": {},
   "source": [
    "Наш целевой признак `median_house_value` не имеет мультиколлинеарности, но есть сильная взаимосвязь с `median_income` - 0.74 и `ocean_proximity` - 0.62. Также есть взаимосвязь с `longitude` и `latitude` - 0.51 и 0.51.\n",
    "\n",
    "Между входными признаками заметна мультиколлинеарность, а именно между `households` и `total_bedrooms` - 0.99\n",
    "\n",
    "Между остальными признаками есть только сильная взаимосвязь между `longitude` и `latitude` - 0.89\n",
    "\n",
    "Необходимо избавиться от мультиколлинеарности и для этого удалим столбец `households`. И еще раз построим матрицу корреляции.\n",
    "\n",
    "*также удалим столбец `total_rooms`, так как после удаления `households`, столбец `total_rooms` стал иметь мультиколлинеарность с большм количеством признаков.*"
   ]
  },
  {
   "cell_type": "code",
   "execution_count": 27,
   "id": "669a07e9",
   "metadata": {},
   "outputs": [],
   "source": [
    "# Рассчитываем коэффициент корреляции\n",
    "phik_matrix = (\n",
    "    df.drop(columns=['households', 'total_rooms'], axis=1)\n",
    "    .phik_matrix(interval_cols=['longitude', 'latitude', 'housing_median_age', \n",
    "                                'total_bedrooms', 'population', 'median_income', 'median_house_value']))"
   ]
  },
  {
   "cell_type": "code",
   "execution_count": 28,
   "id": "aed8a894",
   "metadata": {
    "scrolled": false
   },
   "outputs": [
    {
     "data": {
      "image/png": "[encoded data removed]",
      "text/plain": [
       "<Figure size 504x504 with 2 Axes>"
      ]
     },
     "metadata": {
      "needs_background": "light"
     },
     "output_type": "display_data"
    }
   ],
   "source": [
    "plot_correlation_matrix(phik_matrix.values, x_labels=phik_matrix.columns, y_labels=phik_matrix.index,\n",
    "                       vmin=0, vmax=1, color_map='coolwarm', title='Корреляция $\\phi_k$', fontsize_factor=1,\n",
    "                       figsize=(7,7))\n",
    "\n",
    "plt.tight_layout()"
   ]
  },
  {
   "cell_type": "markdown",
   "id": "24b82a5d",
   "metadata": {},
   "source": [
    "В результате мы избавились от мультиколлинеарности"
   ]
  },
  {
   "cell_type": "markdown",
   "id": "e2c061c3",
   "metadata": {},
   "source": [
    "## Кодирование данных"
   ]
  },
  {
   "cell_type": "markdown",
   "id": "1350d974",
   "metadata": {},
   "source": [
    "Кодирование и стандартизацию будем делать в `pipeline`. Категориальные значение преобразуем техникой `Onehotencoding`, а числовые отшкалируем техникой `StandardScaler`."
   ]
  },
  {
   "cell_type": "markdown",
   "id": "0354fce2",
   "metadata": {},
   "source": [
    "В начале разделим колонки на два типа: числовые и категориальные данные. Также выделим отдельно целевой признак."
   ]
  },
  {
   "cell_type": "code",
   "execution_count": 29,
   "id": "7617a33e",
   "metadata": {},
   "outputs": [],
   "source": [
    "cat_col = ['ocean_proximity']\n",
    "num_col = ['longitude', 'latitude', 'housing_median_age', \n",
    "           'total_bedrooms', 'population', 'median_income']\n",
    "target = 'median_house_value'"
   ]
  },
  {
   "cell_type": "markdown",
   "id": "fbc8eaf4",
   "metadata": {},
   "source": [
    "Делаем кодирование в `pipeline`"
   ]
  },
  {
   "cell_type": "code",
   "execution_count": 30,
   "id": "18eba83a",
   "metadata": {},
   "outputs": [],
   "source": [
    "stages = []"
   ]
  },
  {
   "cell_type": "code",
   "execution_count": 31,
   "id": "7fb7a4fb",
   "metadata": {},
   "outputs": [],
   "source": [
    "indexer = StringIndexer(inputCols=cat_col, outputCols=[cat_col[0]+'_idx'], handleInvalid = 'keep')\n",
    "\n",
    "encoder = OneHotEncoder(inputCols=[cat_col[0]+'_idx'], outputCols=[cat_col[0]+'_ohe'])\n",
    "\n",
    "stages += [indexer, encoder]"
   ]
  },
  {
   "cell_type": "code",
   "execution_count": 32,
   "id": "7332806e",
   "metadata": {},
   "outputs": [],
   "source": [
    "cat_assembler = VectorAssembler(inputCols=[cat_col[0]+'_ohe'], outputCol='cat_features')\n",
    "stages += [cat_assembler]"
   ]
  },
  {
   "cell_type": "code",
   "execution_count": 33,
   "id": "85f42c65",
   "metadata": {},
   "outputs": [],
   "source": [
    "num_assembler = VectorAssembler(inputCols=num_col, outputCol='num_features')\n",
    "\n",
    "stages += [num_assembler]\n",
    "\n",
    "scaler = StandardScaler(inputCol='num_features', outputCol='num_features_scaled')\n",
    "\n",
    "stages += [scaler]"
   ]
  },
  {
   "cell_type": "code",
   "execution_count": 34,
   "id": "b20f089b",
   "metadata": {},
   "outputs": [],
   "source": [
    "all_features = ['cat_features', 'num_features_scaled']\n",
    "\n",
    "total_assembler = VectorAssembler(inputCols=all_features, outputCol='features')\n",
    "\n",
    "stages += [total_assembler]"
   ]
  },
  {
   "cell_type": "markdown",
   "id": "9f0a82f3",
   "metadata": {
    "id": "9f0a82f3"
   },
   "source": [
    "## Обучение моделей"
   ]
  },
  {
   "cell_type": "markdown",
   "id": "fc5bca76",
   "metadata": {
    "id": "bddb08c4"
   },
   "source": [
    "Разделим на тренировочную и тестовую выборку"
   ]
  },
  {
   "cell_type": "code",
   "execution_count": 35,
   "id": "1d7fbf65",
   "metadata": {},
   "outputs": [],
   "source": [
    "train_df, test_df = housing_sp.randomSplit([.8,.2], seed=RANDOM_SEED)"
   ]
  },
  {
   "cell_type": "markdown",
   "id": "ea565004",
   "metadata": {},
   "source": [
    "Приступим к обучению модели. Наш целевой признак - `median_house_value`, то есть медианная стоимость дома в жилом массиве. То есть перед нами задача регрессии. Необходимо использовать `LinearRegression`. Будут обучаться две модели:\n",
    "1. Со всеми признаками (числовые и категориальные)\n",
    "2. Только числовые признаки.\n",
    "\n",
    "Результат работ модели будет сравнивать по метрикам `RMSE`, `MAE` и `R2`.\n",
    "\n",
    "Начнем с первой модели, которая включается в себя все признаки."
   ]
  },
  {
   "cell_type": "code",
   "execution_count": 36,
   "id": "bcbbea94",
   "metadata": {},
   "outputs": [],
   "source": [
    "lr = LinearRegression(labelCol=target, featuresCol='features', regParam=0.3, elasticNetParam=0, \n",
    "                      predictionCol='prediction_num_cat')\n",
    "\n",
    "stages += [lr]\n",
    "\n",
    "pipeline = Pipeline(stages=stages)"
   ]
  },
  {
   "cell_type": "code",
   "execution_count": 37,
   "id": "ac31b039",
   "metadata": {},
   "outputs": [
    {
     "name": "stderr",
     "output_type": "stream",
     "text": [
      "24/05/25 09:44:32 WARN BLAS: Failed to load implementation from: com.github.fommil.netlib.NativeSystemBLAS\n",
      "24/05/25 09:44:32 WARN BLAS: Failed to load implementation from: com.github.fommil.netlib.NativeRefBLAS\n",
      "24/05/25 09:44:32 WARN LAPACK: Failed to load implementation from: com.github.fommil.netlib.NativeSystemLAPACK\n",
      "24/05/25 09:44:32 WARN LAPACK: Failed to load implementation from: com.github.fommil.netlib.NativeRefLAPACK\n",
      "                                                                                \r"
     ]
    }
   ],
   "source": [
    "model = pipeline.fit(train_df)"
   ]
  },
  {
   "cell_type": "code",
   "execution_count": 38,
   "id": "25587c10",
   "metadata": {},
   "outputs": [],
   "source": [
    "predict = model.transform(test_df)\n",
    "predict_labes = predict.select(['prediction_num_cat', 'median_house_value'])"
   ]
  },
  {
   "cell_type": "markdown",
   "id": "f9a97e95",
   "metadata": {},
   "source": [
    "Приступим к обучению второй модели (только числовые признаки) и сделаем прогноз."
   ]
  },
  {
   "cell_type": "code",
   "execution_count": 39,
   "id": "bbd4a718",
   "metadata": {},
   "outputs": [],
   "source": [
    "lr_num = LinearRegression(labelCol=target, regParam=0.3, elasticNetParam=0,\n",
    "                          featuresCol='num_features_scaled')\n",
    "\n",
    "stages += [lr_num]\n",
    "\n",
    "pipeline_num = Pipeline(stages=stages)"
   ]
  },
  {
   "cell_type": "code",
   "execution_count": 40,
   "id": "17f3b93f",
   "metadata": {},
   "outputs": [],
   "source": [
    "model_num = pipeline_num.fit(train_df)"
   ]
  },
  {
   "cell_type": "code",
   "execution_count": 41,
   "id": "df0f59f7",
   "metadata": {},
   "outputs": [],
   "source": [
    "predict_num = model_num.transform(test_df)\n",
    "predict_labes_num = predict_num.select(['prediction', 'median_house_value'])"
   ]
  },
  {
   "cell_type": "markdown",
   "id": "757fd103",
   "metadata": {
    "id": "757fd103"
   },
   "source": [
    "## Анализ результатов"
   ]
  },
  {
   "cell_type": "markdown",
   "id": "f0e7fe87",
   "metadata": {},
   "source": [
    "Оценим результат работы моделей на метриках. Начнем с первой модели (со всеми признаками)"
   ]
  },
  {
   "cell_type": "code",
   "execution_count": 42,
   "id": "c0cfd5fa",
   "metadata": {
    "scrolled": true
   },
   "outputs": [],
   "source": [
    "result = predict_labes.collect()\n",
    "result_lst = [(float(i[0]), float(i[1])) for i in result]\n",
    "predict_labes = spark.sparkContext.parallelize(result_lst)"
   ]
  },
  {
   "cell_type": "code",
   "execution_count": 43,
   "id": "9bb9d138",
   "metadata": {},
   "outputs": [
    {
     "name": "stdout",
     "output_type": "stream",
     "text": [
      "RMSE: 68880.58\n",
      "MAE: 50272.94\n",
      "r2: 0.65\n"
     ]
    }
   ],
   "source": [
    "metrics = RegressionMetrics(predict_labes)\n",
    "\n",
    "print(f'RMSE: {metrics.rootMeanSquaredError:.2f}')\n",
    "print(f'MAE: {metrics.meanAbsoluteError:.2f}')\n",
    "print(f'r2: {metrics.r2:.2f}')"
   ]
  },
  {
   "cell_type": "markdown",
   "id": "99ab5c31",
   "metadata": {},
   "source": [
    "По результатам первой модели. Получаем, что в `65%` случаев предсказания модели ближе к истине, чем среднее значение целевого признака.\n",
    "\n",
    "`RMSE` показывает, что в среднем на `68880.58` предсказания отличаются от истиного значения\n",
    "\n",
    "`MAE` показывает, что в среднем на `50272.94` предсказания отличаются от истиного значения"
   ]
  },
  {
   "cell_type": "markdown",
   "id": "6baa2333",
   "metadata": {},
   "source": [
    "Посмотрим на результат работы второй модели"
   ]
  },
  {
   "cell_type": "code",
   "execution_count": 44,
   "id": "f6b79999",
   "metadata": {},
   "outputs": [],
   "source": [
    "result_num = predict_labes_num.collect()\n",
    "result_lst_num = [(float(i[0]), float(i[1])) for i in result_num]\n",
    "predict_labes_num = spark.sparkContext.parallelize(result_lst_num)"
   ]
  },
  {
   "cell_type": "code",
   "execution_count": 45,
   "id": "726f0715",
   "metadata": {
    "scrolled": true
   },
   "outputs": [
    {
     "name": "stdout",
     "output_type": "stream",
     "text": [
      "RMSE: 69696.64\n",
      "MAE: 51356.84\n",
      "r2: 0.64\n"
     ]
    }
   ],
   "source": [
    "metrics_num = RegressionMetrics(predict_labes_num)\n",
    "\n",
    "print(f'RMSE: {metrics_num.rootMeanSquaredError:.2f}')\n",
    "print(f'MAE: {metrics_num.meanAbsoluteError:.2f}')\n",
    "print(f'r2: {metrics_num.r2:.2f}')"
   ]
  },
  {
   "cell_type": "markdown",
   "id": "2e09d2a9",
   "metadata": {},
   "source": [
    "По результатам второй модели. Получаем, что в `64%` случаев предсказания модели ближе к истине, чем среднее значение целевого признака.\n",
    "\n",
    "`RMSE` показывает, что в среднем на `69696.64` предсказания отличаются от истиного значения\n",
    "\n",
    "`MAE` показывает, что в среднем на `51356.84` предсказания отличаются от истиного значения"
   ]
  },
  {
   "cell_type": "markdown",
   "id": "0eede1fb",
   "metadata": {},
   "source": [
    "В результате можно сказать, что первая модель лучше второй, так как она по всем метрикам лучше второй, хоть и не намного."
   ]
  },
  {
   "cell_type": "code",
   "execution_count": 46,
   "id": "4cc34175",
   "metadata": {},
   "outputs": [],
   "source": [
    "spark.stop()"
   ]
  },
  {
   "cell_type": "markdown",
   "id": "88259554",
   "metadata": {},
   "source": [
    "## Вывод"
   ]
  },
  {
   "cell_type": "markdown",
   "id": "0b9f5540",
   "metadata": {},
   "source": [
    "Данные были получены из файла:\n",
    "\n",
    "- `/datasets/housing.csv`\n",
    "\n",
    "Сначала был сделан обзор данных. Само исследование проходило в 6 этапов:\n",
    "\n",
    "1. Изучить данные\n",
    "2. Предобработка данных\n",
    "3. Исследовательский анализ\n",
    "4. Кодирование данных\n",
    "5. Обучение моделей\n",
    "6. Анализ результатов\n",
    "7. Общий вывод\n",
    "\n",
    "**1. Изученние данных**\n",
    "\n",
    "Вначале была инициализированна локальная spark-сессия.\n",
    "\n",
    "После изучения всех данных, выяснили. Всего в таблице 10 столбцов. Все столбцы, кроме `ocean_proximity` имеют тип данных `doble`, он имеет тип данных `string`.  В датасете примерно 21 тысяча строк. Максимальная медианная стоимость дома равна полумиллиону долларов. \n",
    "\n",
    "**2. Предобработка данных**\n",
    "\n",
    "Сделали проверку на пропуски. Пропуски были в одном столбце `total_bedrooms`, заполнили их медианными значениями по каждой категории `ocean_proximity`.\n",
    "\n",
    "Сделали проверку на явные дубликаты - **не обнаружены**.\n",
    "\n",
    "Сделали проверку на неявные дубликаты - **не обнаружены**.\n",
    "\n",
    "**3. Исследовательский анализ**\n",
    "\n",
    "По результатам исследователького анализа сделали следующие выводы:\n",
    "\n",
    "1. По удалености от океана категории расположилось следующим образом:\n",
    "    - `<1H OCEAN` - 44.3%\n",
    "    - `INLAND` - 31.7%\n",
    "    - `NEAR OCEAN` - 12.9%\n",
    "    - `NEAR BAY` - 11.1%\n",
    "    - `ISLAND` - 0%\n",
    "2. Из графиков видно, что в некоторых столбцах есть выбросы, но сами эти значения не будут аномальными, так как на диаграмме \"общее количество комнат\", так как это количество комнант в жилом массиве то такие отклоненние от медианы вполне естественно, так как массивы отличаются между собой домами, которые в них расположенны. Аналогично и для количества спален, так как домов в некоторых массивах больше и сами дома больше то и количество спален могут выбиваться от обычного количества, а следовательно и количество людей проживающих в них тоже будуте другим. По диаграмме \"медианный доход жителей\" тоже вполне естественно, так как в некоторых массивах просто живут люди с доходом выше среднего, что и послужило такими \"выбросами\".\n",
    "3. Многие количественные признаки распределены ненормально. `longitude`, `latitude`, `housing_median_age` и `median_house_value` - имеют мультимодальное распределение. Также можно отметить очень заметный пик после 50 в возрасте и пик возле 500000 в стоимсоти дома. Остальные признаки имеют уномодальное смещеное распределение.\n",
    "\n",
    "**4. Корреляционный анализ**\n",
    "\n",
    "Так как мы выяснили, что данные у нас распределенны ненормально для анализа взаимосвязи воспользовались модулем `phik`. В результате получили, что наш целевой признак `median_house_value` не имеет мультиколлинеарности, но есть сильная взаимосвязь с `median_income` - 0.74 и `ocean_proximity` - 0.62. Также есть взаимосвязь с `longitude` и `latitude` - 0.51 и 0.51.\n",
    "\n",
    "Также была заметна мультиколлинеарность между `households` и `total_bedrooms` - 0.99\n",
    "\n",
    "Избавились от нее при помощи удаления столбца `households`. Также в дальнейшем удалили столбец `total_rooms`, так как после удаления столбца `households`, у этого столбца появилась мультиколлинеарность с несколькими признаками.\n",
    "\n",
    "\n",
    "**5. Кодирование данных**\n",
    "\n",
    "Перед обучение необходимо было закодировать признаки. Для этого разделили признаки на категориальные и числовые, а также выделили целевой признак. Кодирование происходило в `pipeline`.\n",
    "\n",
    "Единственный категориальный признак `ocean_proximity` был закодирован с помощью `Onehotencoding`\n",
    "\n",
    "Для числовых признаков сделали шаклирование с помощью `StandardSacler`\n",
    "\n",
    "**6. Обучение модели**\n",
    "\n",
    "Наш целевой признак - `median_house_value`, то есть медианная стоимость дома в жилом массиве. И в результате получаем задачу регрессии. Необходимо использовать `LinearRegression`. Обучали две модели:\n",
    "1. Со всеми признаками (числовые и категориальные)\n",
    "2. Только числовые признаки.\n",
    "\n",
    "Результат работ моделей сравнивали по метрикам `RMSE`, `MAE` и `R2`.\n",
    "\n",
    "**7. Анализ результатов**\n",
    "\n",
    "По результатам первой модели. Получаем, что в `65%` случаев предсказания модели ближе к истине, чем среднее значение целевого признака.\n",
    "\n",
    "`RMSE` показывает, что в среднем на `68880.58` предсказания отличаются от истиного значения\n",
    "\n",
    "`MAE` показывает, что в среднем на `50272.94` предсказания отличаются от истиного значения\n",
    "\n",
    "По результатам второй модели. Получаем, что в `64%` случаев предсказания модели ближе к истине, чем среднее значение целевого признака.\n",
    "\n",
    "`RMSE` показывает, что в среднем на `69696.64` предсказания отличаются от истиного значения\n",
    "\n",
    "`MAE` показывает, что в среднем на `51356.84` предсказания отличаются от истиного значения\n",
    "\n",
    "**Вывод**\n",
    "\n",
    "По результатам исследования получили две модели. Первая из моделей, которая включает все признаки получилась лучше, хоть результат не намного лучше."
   ]
  }
 ],
 "metadata": {
  "ExecuteTimeLog": [
   {
    "duration": 1143,
    "start_time": "2024-05-16T13:11:39.320Z"
   },
   {
    "duration": 55,
    "start_time": "2024-05-16T13:45:57.168Z"
   },
   {
    "duration": 101,
    "start_time": "2024-05-16T13:46:22.191Z"
   },
   {
    "duration": 14377,
    "start_time": "2024-05-16T13:46:30.972Z"
   },
   {
    "duration": 2,
    "start_time": "2024-05-16T13:47:31.509Z"
   },
   {
    "duration": 6767,
    "start_time": "2024-05-16T13:48:57.455Z"
   },
   {
    "duration": 521,
    "start_time": "2024-05-16T13:50:54.911Z"
   },
   {
    "duration": 255,
    "start_time": "2024-05-16T13:51:09.267Z"
   },
   {
    "duration": 37,
    "start_time": "2024-05-16T13:52:48.195Z"
   },
   {
    "duration": 5,
    "start_time": "2024-05-16T13:52:53.472Z"
   },
   {
    "duration": 1539,
    "start_time": "2024-05-16T14:01:17.855Z"
   },
   {
    "duration": 1535,
    "start_time": "2024-05-16T16:29:35.932Z"
   },
   {
    "duration": 16033,
    "start_time": "2024-05-16T16:29:37.469Z"
   },
   {
    "duration": 3,
    "start_time": "2024-05-16T16:29:53.560Z"
   },
   {
    "duration": 9035,
    "start_time": "2024-05-16T16:29:53.565Z"
   },
   {
    "duration": 613,
    "start_time": "2024-05-16T16:30:02.658Z"
   },
   {
    "duration": 103,
    "start_time": "2024-05-16T16:30:03.272Z"
   },
   {
    "duration": 2283,
    "start_time": "2024-05-16T16:30:03.376Z"
   },
   {
    "duration": 5607,
    "start_time": "2024-05-16T18:25:08.452Z"
   },
   {
    "duration": 321,
    "start_time": "2024-05-16T18:28:11.454Z"
   },
   {
    "duration": 6876,
    "start_time": "2024-05-16T18:29:27.391Z"
   },
   {
    "duration": 720,
    "start_time": "2024-05-16T18:36:33.641Z"
   },
   {
    "duration": 317,
    "start_time": "2024-05-16T18:36:41.951Z"
   },
   {
    "duration": 15,
    "start_time": "2024-05-16T18:36:50.578Z"
   },
   {
    "duration": 808,
    "start_time": "2024-05-16T18:37:00.584Z"
   },
   {
    "duration": 3430,
    "start_time": "2024-05-16T18:38:13.771Z"
   },
   {
    "duration": 189,
    "start_time": "2024-05-16T18:38:19.171Z"
   },
   {
    "duration": 4491,
    "start_time": "2024-05-16T18:38:23.179Z"
   },
   {
    "duration": 4,
    "start_time": "2024-05-16T18:49:39.715Z"
   },
   {
    "duration": 5,
    "start_time": "2024-05-16T19:05:11.843Z"
   },
   {
    "duration": 4,
    "start_time": "2024-05-16T19:05:24.950Z"
   },
   {
    "duration": 122,
    "start_time": "2024-05-16T19:06:37.813Z"
   },
   {
    "duration": 5,
    "start_time": "2024-05-16T19:06:57.863Z"
   },
   {
    "duration": 154,
    "start_time": "2024-05-16T19:08:59.924Z"
   },
   {
    "duration": 1360,
    "start_time": "2024-05-16T19:11:47.315Z"
   },
   {
    "duration": 766,
    "start_time": "2024-05-16T19:11:51.301Z"
   },
   {
    "duration": 1519,
    "start_time": "2024-05-17T13:46:24.406Z"
   },
   {
    "duration": 15912,
    "start_time": "2024-05-17T13:46:25.928Z"
   },
   {
    "duration": 60,
    "start_time": "2024-05-17T13:46:41.842Z"
   },
   {
    "duration": 9232,
    "start_time": "2024-05-17T13:46:41.904Z"
   },
   {
    "duration": 875,
    "start_time": "2024-05-17T13:46:51.138Z"
   },
   {
    "duration": 118,
    "start_time": "2024-05-17T13:46:52.015Z"
   },
   {
    "duration": 1429,
    "start_time": "2024-05-17T13:46:52.195Z"
   },
   {
    "duration": 6394,
    "start_time": "2024-05-17T13:46:53.625Z"
   },
   {
    "duration": 375,
    "start_time": "2024-05-17T13:47:00.021Z"
   },
   {
    "duration": 7129,
    "start_time": "2024-05-17T13:47:00.398Z"
   },
   {
    "duration": 3,
    "start_time": "2024-05-17T13:47:07.599Z"
   },
   {
    "duration": 1512,
    "start_time": "2024-05-17T13:47:07.607Z"
   },
   {
    "duration": 875,
    "start_time": "2024-05-17T13:47:09.121Z"
   },
   {
    "duration": 1259,
    "start_time": "2024-05-17T13:51:08.605Z"
   },
   {
    "duration": 15849,
    "start_time": "2024-05-17T13:51:09.866Z"
   },
   {
    "duration": 4,
    "start_time": "2024-05-17T13:51:25.717Z"
   },
   {
    "duration": 8991,
    "start_time": "2024-05-17T13:51:25.722Z"
   },
   {
    "duration": 790,
    "start_time": "2024-05-17T13:51:34.716Z"
   },
   {
    "duration": 100,
    "start_time": "2024-05-17T13:51:35.508Z"
   },
   {
    "duration": 1327,
    "start_time": "2024-05-17T13:51:35.610Z"
   },
   {
    "duration": 6138,
    "start_time": "2024-05-17T13:51:36.997Z"
   },
   {
    "duration": 399,
    "start_time": "2024-05-17T13:51:43.137Z"
   },
   {
    "duration": 6884,
    "start_time": "2024-05-17T13:51:43.537Z"
   },
   {
    "duration": 75,
    "start_time": "2024-05-17T13:51:50.425Z"
   },
   {
    "duration": 0,
    "start_time": "2024-05-17T13:51:50.509Z"
   },
   {
    "duration": 0,
    "start_time": "2024-05-17T13:51:50.510Z"
   },
   {
    "duration": 118,
    "start_time": "2024-05-17T13:56:20.810Z"
   },
   {
    "duration": 17,
    "start_time": "2024-05-17T13:56:36.009Z"
   },
   {
    "duration": 3076,
    "start_time": "2024-05-17T13:57:21.133Z"
   },
   {
    "duration": 6,
    "start_time": "2024-05-17T13:58:41.257Z"
   },
   {
    "duration": 136,
    "start_time": "2024-05-17T13:59:43.280Z"
   },
   {
    "duration": 5,
    "start_time": "2024-05-17T14:00:02.201Z"
   },
   {
    "duration": 4,
    "start_time": "2024-05-17T14:00:15.714Z"
   },
   {
    "duration": 118,
    "start_time": "2024-05-17T14:00:30.147Z"
   },
   {
    "duration": 190,
    "start_time": "2024-05-17T14:00:33.623Z"
   },
   {
    "duration": 10,
    "start_time": "2024-05-17T14:01:28.995Z"
   },
   {
    "duration": 762,
    "start_time": "2024-05-17T14:01:34.009Z"
   },
   {
    "duration": 6,
    "start_time": "2024-05-17T14:01:39.425Z"
   },
   {
    "duration": 7,
    "start_time": "2024-05-17T14:01:43.250Z"
   },
   {
    "duration": 4,
    "start_time": "2024-05-17T14:02:06.414Z"
   },
   {
    "duration": 7,
    "start_time": "2024-05-17T14:02:23.233Z"
   },
   {
    "duration": 101,
    "start_time": "2024-05-17T14:02:34.675Z"
   },
   {
    "duration": 93,
    "start_time": "2024-05-17T14:02:57.163Z"
   },
   {
    "duration": 100,
    "start_time": "2024-05-17T14:03:00.932Z"
   },
   {
    "duration": 113,
    "start_time": "2024-05-17T14:04:17.590Z"
   },
   {
    "duration": 115,
    "start_time": "2024-05-17T14:04:51.848Z"
   },
   {
    "duration": 122,
    "start_time": "2024-05-17T14:05:15.226Z"
   },
   {
    "duration": 111,
    "start_time": "2024-05-17T14:05:27.544Z"
   },
   {
    "duration": 6,
    "start_time": "2024-05-17T14:11:07.075Z"
   },
   {
    "duration": 323,
    "start_time": "2024-05-17T14:11:16.694Z"
   },
   {
    "duration": 765,
    "start_time": "2024-05-17T14:11:33.277Z"
   },
   {
    "duration": 21,
    "start_time": "2024-05-17T14:21:06.656Z"
   },
   {
    "duration": 295,
    "start_time": "2024-05-17T14:21:25.420Z"
   },
   {
    "duration": 380,
    "start_time": "2024-05-17T14:21:39.640Z"
   },
   {
    "duration": 926,
    "start_time": "2024-05-17T14:22:08.509Z"
   },
   {
    "duration": 1184,
    "start_time": "2024-05-17T14:22:18.387Z"
   },
   {
    "duration": 1137,
    "start_time": "2024-05-17T14:22:29.710Z"
   },
   {
    "duration": 1073,
    "start_time": "2024-05-17T14:22:36.781Z"
   },
   {
    "duration": 1133,
    "start_time": "2024-05-17T14:23:05.233Z"
   },
   {
    "duration": 1063,
    "start_time": "2024-05-17T14:23:35.124Z"
   },
   {
    "duration": 1218,
    "start_time": "2024-05-17T14:26:32.091Z"
   },
   {
    "duration": 1076,
    "start_time": "2024-05-17T14:27:08.575Z"
   },
   {
    "duration": 1079,
    "start_time": "2024-05-17T14:29:06.492Z"
   },
   {
    "duration": 11988,
    "start_time": "2024-05-17T14:39:20.152Z"
   },
   {
    "duration": 608,
    "start_time": "2024-05-17T14:40:13.202Z"
   },
   {
    "duration": 851,
    "start_time": "2024-05-17T14:40:58.885Z"
   },
   {
    "duration": 770,
    "start_time": "2024-05-17T14:41:22.487Z"
   },
   {
    "duration": 795,
    "start_time": "2024-05-17T14:41:28.484Z"
   },
   {
    "duration": 54575,
    "start_time": "2024-05-17T14:41:45.247Z"
   },
   {
    "duration": 65,
    "start_time": "2024-05-17T14:43:52.982Z"
   },
   {
    "duration": 669,
    "start_time": "2024-05-17T14:44:03.996Z"
   },
   {
    "duration": 4099,
    "start_time": "2024-05-17T14:44:17.856Z"
   },
   {
    "duration": 4367,
    "start_time": "2024-05-17T14:44:42.710Z"
   },
   {
    "duration": 4805,
    "start_time": "2024-05-17T14:45:12.847Z"
   },
   {
    "duration": 4133,
    "start_time": "2024-05-17T14:45:46.788Z"
   },
   {
    "duration": 25,
    "start_time": "2024-05-17T14:56:44.511Z"
   },
   {
    "duration": 2282,
    "start_time": "2024-05-17T14:57:13.625Z"
   },
   {
    "duration": 1499,
    "start_time": "2024-05-19T14:54:44.878Z"
   },
   {
    "duration": 15129,
    "start_time": "2024-05-19T14:54:46.379Z"
   },
   {
    "duration": 3,
    "start_time": "2024-05-19T14:55:01.511Z"
   },
   {
    "duration": 8698,
    "start_time": "2024-05-19T14:55:01.517Z"
   },
   {
    "duration": 687,
    "start_time": "2024-05-19T14:55:10.217Z"
   },
   {
    "duration": 99,
    "start_time": "2024-05-19T14:55:10.907Z"
   },
   {
    "duration": 1287,
    "start_time": "2024-05-19T14:55:11.008Z"
   },
   {
    "duration": 5322,
    "start_time": "2024-05-19T14:55:12.296Z"
   },
   {
    "duration": 299,
    "start_time": "2024-05-19T14:55:17.620Z"
   },
   {
    "duration": 6013,
    "start_time": "2024-05-19T14:55:17.923Z"
   },
   {
    "duration": 2418,
    "start_time": "2024-05-19T14:55:23.995Z"
   },
   {
    "duration": 2595,
    "start_time": "2024-05-19T14:55:26.414Z"
   },
   {
    "duration": 291,
    "start_time": "2024-05-19T14:55:29.010Z"
   },
   {
    "duration": 695,
    "start_time": "2024-05-19T14:55:29.303Z"
   },
   {
    "duration": 1042,
    "start_time": "2024-05-19T14:55:29.999Z"
   },
   {
    "duration": 4174,
    "start_time": "2024-05-19T14:55:31.042Z"
   },
   {
    "duration": 2,
    "start_time": "2024-05-19T14:55:35.218Z"
   },
   {
    "duration": 1185,
    "start_time": "2024-05-19T14:55:35.221Z"
   },
   {
    "duration": 692,
    "start_time": "2024-05-19T14:55:36.408Z"
   },
   {
    "duration": 110,
    "start_time": "2024-05-19T15:00:14.610Z"
   },
   {
    "duration": 9,
    "start_time": "2024-05-19T15:00:23.142Z"
   },
   {
    "duration": 41,
    "start_time": "2024-05-19T15:00:56.494Z"
   },
   {
    "duration": 30,
    "start_time": "2024-05-19T15:04:51.388Z"
   },
   {
    "duration": 10,
    "start_time": "2024-05-19T15:07:01.975Z"
   },
   {
    "duration": 726,
    "start_time": "2024-05-19T15:07:09.624Z"
   },
   {
    "duration": 1290,
    "start_time": "2024-05-19T15:10:58.764Z"
   },
   {
    "duration": 15553,
    "start_time": "2024-05-19T15:11:00.056Z"
   },
   {
    "duration": 3,
    "start_time": "2024-05-19T15:11:15.611Z"
   },
   {
    "duration": 8492,
    "start_time": "2024-05-19T15:11:15.616Z"
   },
   {
    "duration": 690,
    "start_time": "2024-05-19T15:11:24.110Z"
   },
   {
    "duration": 113,
    "start_time": "2024-05-19T15:11:24.802Z"
   },
   {
    "duration": 1206,
    "start_time": "2024-05-19T15:11:24.917Z"
   },
   {
    "duration": 70,
    "start_time": "2024-05-19T15:11:26.125Z"
   },
   {
    "duration": 0,
    "start_time": "2024-05-19T15:11:26.197Z"
   },
   {
    "duration": 0,
    "start_time": "2024-05-19T15:11:26.198Z"
   },
   {
    "duration": 0,
    "start_time": "2024-05-19T15:11:26.200Z"
   },
   {
    "duration": 0,
    "start_time": "2024-05-19T15:11:26.200Z"
   },
   {
    "duration": 0,
    "start_time": "2024-05-19T15:11:26.202Z"
   },
   {
    "duration": 0,
    "start_time": "2024-05-19T15:11:26.202Z"
   },
   {
    "duration": 0,
    "start_time": "2024-05-19T15:11:26.204Z"
   },
   {
    "duration": 0,
    "start_time": "2024-05-19T15:11:26.205Z"
   },
   {
    "duration": 0,
    "start_time": "2024-05-19T15:11:26.206Z"
   },
   {
    "duration": 0,
    "start_time": "2024-05-19T15:11:26.208Z"
   },
   {
    "duration": 0,
    "start_time": "2024-05-19T15:11:26.209Z"
   },
   {
    "duration": 0,
    "start_time": "2024-05-19T15:11:26.210Z"
   },
   {
    "duration": 0,
    "start_time": "2024-05-19T15:11:26.211Z"
   },
   {
    "duration": 0,
    "start_time": "2024-05-19T15:11:26.212Z"
   },
   {
    "duration": 120,
    "start_time": "2024-05-19T15:13:15.009Z"
   },
   {
    "duration": 4839,
    "start_time": "2024-05-19T15:13:40.478Z"
   },
   {
    "duration": 267,
    "start_time": "2024-05-19T15:16:54.349Z"
   },
   {
    "duration": 6648,
    "start_time": "2024-05-19T15:16:55.452Z"
   },
   {
    "duration": 2463,
    "start_time": "2024-05-19T15:17:08.569Z"
   },
   {
    "duration": 549,
    "start_time": "2024-05-19T15:18:00.535Z"
   },
   {
    "duration": 27,
    "start_time": "2024-05-19T15:18:03.887Z"
   },
   {
    "duration": 994,
    "start_time": "2024-05-19T15:24:58.806Z"
   },
   {
    "duration": 919,
    "start_time": "2024-05-19T15:25:06.007Z"
   },
   {
    "duration": 5,
    "start_time": "2024-05-19T15:34:02.593Z"
   },
   {
    "duration": 8,
    "start_time": "2024-05-19T15:34:09.383Z"
   },
   {
    "duration": 23,
    "start_time": "2024-05-19T15:35:39.552Z"
   },
   {
    "duration": 843,
    "start_time": "2024-05-19T15:37:43.832Z"
   },
   {
    "duration": 427,
    "start_time": "2024-05-19T15:37:48.074Z"
   },
   {
    "duration": 3735,
    "start_time": "2024-05-19T15:37:53.766Z"
   },
   {
    "duration": 2011,
    "start_time": "2024-05-19T15:38:03.597Z"
   },
   {
    "duration": 1971,
    "start_time": "2024-05-19T15:38:14.770Z"
   },
   {
    "duration": 111,
    "start_time": "2024-05-19T15:38:20.238Z"
   },
   {
    "duration": 742,
    "start_time": "2024-05-19T15:38:26.987Z"
   },
   {
    "duration": 1026,
    "start_time": "2024-05-19T15:38:30.869Z"
   },
   {
    "duration": 4202,
    "start_time": "2024-05-19T15:38:40.848Z"
   },
   {
    "duration": 3,
    "start_time": "2024-05-19T15:38:51.918Z"
   },
   {
    "duration": 1215,
    "start_time": "2024-05-19T15:39:02.684Z"
   },
   {
    "duration": 566,
    "start_time": "2024-05-19T15:39:15.351Z"
   },
   {
    "duration": 38,
    "start_time": "2024-05-19T15:39:25.331Z"
   },
   {
    "duration": 37,
    "start_time": "2024-05-19T15:39:32.396Z"
   },
   {
    "duration": 1184,
    "start_time": "2024-05-19T15:39:42.329Z"
   },
   {
    "duration": 12,
    "start_time": "2024-05-19T15:58:05.870Z"
   },
   {
    "duration": 8,
    "start_time": "2024-05-19T15:58:12.855Z"
   },
   {
    "duration": 401,
    "start_time": "2024-05-19T15:59:04.302Z"
   },
   {
    "duration": 3,
    "start_time": "2024-05-19T15:59:33.351Z"
   },
   {
    "duration": 13,
    "start_time": "2024-05-19T16:01:50.131Z"
   },
   {
    "duration": 4,
    "start_time": "2024-05-19T16:02:48.553Z"
   },
   {
    "duration": 2189,
    "start_time": "2024-05-19T16:04:29.039Z"
   },
   {
    "duration": 11,
    "start_time": "2024-05-19T16:04:35.981Z"
   },
   {
    "duration": 58,
    "start_time": "2024-05-19T16:06:16.119Z"
   },
   {
    "duration": 2,
    "start_time": "2024-05-19T16:06:54.077Z"
   },
   {
    "duration": 8,
    "start_time": "2024-05-19T16:07:12.853Z"
   },
   {
    "duration": 3685,
    "start_time": "2024-05-19T16:07:38.930Z"
   },
   {
    "duration": 55,
    "start_time": "2024-05-19T16:47:12.953Z"
   },
   {
    "duration": 979,
    "start_time": "2024-05-19T16:47:20.130Z"
   },
   {
    "duration": 15,
    "start_time": "2024-05-19T16:50:13.463Z"
   },
   {
    "duration": 12,
    "start_time": "2024-05-19T16:50:24.916Z"
   },
   {
    "duration": 6,
    "start_time": "2024-05-19T16:51:29.167Z"
   },
   {
    "duration": 32,
    "start_time": "2024-05-19T16:56:32.509Z"
   },
   {
    "duration": 9,
    "start_time": "2024-05-19T16:58:54.532Z"
   },
   {
    "duration": 21,
    "start_time": "2024-05-19T16:58:57.704Z"
   },
   {
    "duration": 36,
    "start_time": "2024-05-19T16:59:17.662Z"
   },
   {
    "duration": 11,
    "start_time": "2024-05-19T16:59:19.068Z"
   },
   {
    "duration": 10,
    "start_time": "2024-05-19T17:00:04.115Z"
   },
   {
    "duration": 28,
    "start_time": "2024-05-19T17:01:52.837Z"
   },
   {
    "duration": 889,
    "start_time": "2024-05-19T17:03:39.524Z"
   },
   {
    "duration": 562,
    "start_time": "2024-05-19T17:04:43.751Z"
   },
   {
    "duration": 409,
    "start_time": "2024-05-19T17:06:27.490Z"
   },
   {
    "duration": 136,
    "start_time": "2024-05-19T17:07:53.262Z"
   },
   {
    "duration": 131,
    "start_time": "2024-05-19T17:07:58.461Z"
   },
   {
    "duration": 1223,
    "start_time": "2024-05-19T17:08:52.193Z"
   },
   {
    "duration": 2,
    "start_time": "2024-05-19T17:08:53.418Z"
   },
   {
    "duration": 15214,
    "start_time": "2024-05-19T17:08:53.422Z"
   },
   {
    "duration": 57,
    "start_time": "2024-05-19T17:09:08.639Z"
   },
   {
    "duration": 8211,
    "start_time": "2024-05-19T17:09:08.698Z"
   },
   {
    "duration": 696,
    "start_time": "2024-05-19T17:09:16.911Z"
   },
   {
    "duration": 100,
    "start_time": "2024-05-19T17:09:17.609Z"
   },
   {
    "duration": 1126,
    "start_time": "2024-05-19T17:09:17.711Z"
   },
   {
    "duration": 5000,
    "start_time": "2024-05-19T17:09:18.895Z"
   },
   {
    "duration": 633,
    "start_time": "2024-05-19T17:09:23.901Z"
   },
   {
    "duration": 23,
    "start_time": "2024-05-19T17:09:24.535Z"
   },
   {
    "duration": 968,
    "start_time": "2024-05-19T17:09:24.559Z"
   },
   {
    "duration": 1380,
    "start_time": "2024-05-19T17:09:25.528Z"
   },
   {
    "duration": 6097,
    "start_time": "2024-05-19T17:09:26.910Z"
   },
   {
    "duration": 2706,
    "start_time": "2024-05-19T17:09:33.010Z"
   },
   {
    "duration": 2492,
    "start_time": "2024-05-19T17:09:35.718Z"
   },
   {
    "duration": 156,
    "start_time": "2024-05-19T17:09:38.211Z"
   },
   {
    "duration": 563,
    "start_time": "2024-05-19T17:09:38.368Z"
   },
   {
    "duration": 1173,
    "start_time": "2024-05-19T17:09:38.933Z"
   },
   {
    "duration": 4108,
    "start_time": "2024-05-19T17:09:40.108Z"
   },
   {
    "duration": 3,
    "start_time": "2024-05-19T17:09:44.218Z"
   },
   {
    "duration": 1379,
    "start_time": "2024-05-19T17:09:44.222Z"
   },
   {
    "duration": 793,
    "start_time": "2024-05-19T17:09:45.603Z"
   },
   {
    "duration": 96,
    "start_time": "2024-05-19T17:09:46.398Z"
   },
   {
    "duration": 31,
    "start_time": "2024-05-19T17:09:46.497Z"
   },
   {
    "duration": 1565,
    "start_time": "2024-05-19T17:09:46.530Z"
   },
   {
    "duration": 8,
    "start_time": "2024-05-19T17:09:48.097Z"
   },
   {
    "duration": 385,
    "start_time": "2024-05-19T17:09:48.109Z"
   },
   {
    "duration": 26,
    "start_time": "2024-05-19T17:09:48.496Z"
   },
   {
    "duration": 4802,
    "start_time": "2024-05-19T17:09:48.524Z"
   },
   {
    "duration": 90,
    "start_time": "2024-05-19T17:09:53.327Z"
   },
   {
    "duration": 809,
    "start_time": "2024-05-19T17:09:53.419Z"
   },
   {
    "duration": 404,
    "start_time": "2024-05-19T17:09:54.295Z"
   },
   {
    "duration": 9,
    "start_time": "2024-05-19T17:13:48.925Z"
   },
   {
    "duration": 211,
    "start_time": "2024-05-19T17:14:26.736Z"
   },
   {
    "duration": 1289,
    "start_time": "2024-05-19T17:14:33.324Z"
   },
   {
    "duration": 3,
    "start_time": "2024-05-19T17:14:34.616Z"
   },
   {
    "duration": 16077,
    "start_time": "2024-05-19T17:14:34.621Z"
   },
   {
    "duration": 3,
    "start_time": "2024-05-19T17:14:50.700Z"
   },
   {
    "duration": 8708,
    "start_time": "2024-05-19T17:14:50.705Z"
   },
   {
    "duration": 711,
    "start_time": "2024-05-19T17:14:59.415Z"
   },
   {
    "duration": 42,
    "start_time": "2024-05-19T17:15:00.195Z"
   },
   {
    "duration": 1293,
    "start_time": "2024-05-19T17:15:00.238Z"
   },
   {
    "duration": 5162,
    "start_time": "2024-05-19T17:15:01.533Z"
   },
   {
    "duration": 802,
    "start_time": "2024-05-19T17:15:06.699Z"
   },
   {
    "duration": 27,
    "start_time": "2024-05-19T17:15:07.502Z"
   },
   {
    "duration": 1402,
    "start_time": "2024-05-19T17:15:07.531Z"
   },
   {
    "duration": 1563,
    "start_time": "2024-05-19T17:15:08.935Z"
   },
   {
    "duration": 6597,
    "start_time": "2024-05-19T17:15:10.499Z"
   },
   {
    "duration": 2720,
    "start_time": "2024-05-19T17:15:17.098Z"
   },
   {
    "duration": 2579,
    "start_time": "2024-05-19T17:15:19.820Z"
   },
   {
    "duration": 152,
    "start_time": "2024-05-19T17:15:22.401Z"
   },
   {
    "duration": 570,
    "start_time": "2024-05-19T17:15:22.555Z"
   },
   {
    "duration": 1068,
    "start_time": "2024-05-19T17:15:23.127Z"
   },
   {
    "duration": 4210,
    "start_time": "2024-05-19T17:15:24.197Z"
   },
   {
    "duration": 3,
    "start_time": "2024-05-19T17:15:28.408Z"
   },
   {
    "duration": 1381,
    "start_time": "2024-05-19T17:15:28.413Z"
   },
   {
    "duration": 716,
    "start_time": "2024-05-19T17:15:29.796Z"
   },
   {
    "duration": 182,
    "start_time": "2024-05-19T17:15:30.516Z"
   },
   {
    "duration": 88,
    "start_time": "2024-05-19T17:15:30.700Z"
   },
   {
    "duration": 1509,
    "start_time": "2024-05-19T17:15:30.789Z"
   },
   {
    "duration": 16,
    "start_time": "2024-05-19T17:15:32.300Z"
   },
   {
    "duration": 401,
    "start_time": "2024-05-19T17:15:32.320Z"
   },
   {
    "duration": 74,
    "start_time": "2024-05-19T17:15:32.723Z"
   },
   {
    "duration": 266,
    "start_time": "2024-05-19T17:15:32.799Z"
   },
   {
    "duration": 0,
    "start_time": "2024-05-19T17:15:33.066Z"
   },
   {
    "duration": 0,
    "start_time": "2024-05-19T17:15:33.068Z"
   },
   {
    "duration": 0,
    "start_time": "2024-05-19T17:15:33.069Z"
   },
   {
    "duration": 0,
    "start_time": "2024-05-19T17:15:33.070Z"
   },
   {
    "duration": 1,
    "start_time": "2024-05-19T17:15:33.071Z"
   },
   {
    "duration": 7,
    "start_time": "2024-05-19T17:16:37.655Z"
   },
   {
    "duration": 231,
    "start_time": "2024-05-19T17:16:41.063Z"
   },
   {
    "duration": 211,
    "start_time": "2024-05-19T17:17:05.105Z"
   },
   {
    "duration": 27,
    "start_time": "2024-05-19T17:20:06.087Z"
   },
   {
    "duration": 354,
    "start_time": "2024-05-19T17:20:15.840Z"
   },
   {
    "duration": 1381,
    "start_time": "2024-05-19T17:21:00.576Z"
   },
   {
    "duration": 2,
    "start_time": "2024-05-19T17:21:01.959Z"
   },
   {
    "duration": 15561,
    "start_time": "2024-05-19T17:21:01.963Z"
   },
   {
    "duration": 3,
    "start_time": "2024-05-19T17:21:17.527Z"
   },
   {
    "duration": 9473,
    "start_time": "2024-05-19T17:21:17.532Z"
   },
   {
    "duration": 814,
    "start_time": "2024-05-19T17:21:27.010Z"
   },
   {
    "duration": 99,
    "start_time": "2024-05-19T17:21:27.825Z"
   },
   {
    "duration": 1354,
    "start_time": "2024-05-19T17:21:27.926Z"
   },
   {
    "duration": 5833,
    "start_time": "2024-05-19T17:21:29.282Z"
   },
   {
    "duration": 1218,
    "start_time": "2024-05-19T17:21:35.118Z"
   },
   {
    "duration": 25,
    "start_time": "2024-05-19T17:21:36.338Z"
   },
   {
    "duration": 998,
    "start_time": "2024-05-19T17:21:36.365Z"
   },
   {
    "duration": 1632,
    "start_time": "2024-05-19T17:21:37.364Z"
   },
   {
    "duration": 7108,
    "start_time": "2024-05-19T17:21:38.998Z"
   },
   {
    "duration": 3314,
    "start_time": "2024-05-19T17:21:46.110Z"
   },
   {
    "duration": 3073,
    "start_time": "2024-05-19T17:21:49.425Z"
   },
   {
    "duration": 141,
    "start_time": "2024-05-19T17:21:52.503Z"
   },
   {
    "duration": 610,
    "start_time": "2024-05-19T17:21:52.646Z"
   },
   {
    "duration": 1301,
    "start_time": "2024-05-19T17:21:53.258Z"
   },
   {
    "duration": 4273,
    "start_time": "2024-05-19T17:21:54.562Z"
   },
   {
    "duration": 4,
    "start_time": "2024-05-19T17:21:58.836Z"
   },
   {
    "duration": 1475,
    "start_time": "2024-05-19T17:21:58.842Z"
   },
   {
    "duration": 711,
    "start_time": "2024-05-19T17:22:00.319Z"
   },
   {
    "duration": 104,
    "start_time": "2024-05-19T17:22:01.032Z"
   },
   {
    "duration": 90,
    "start_time": "2024-05-19T17:22:01.138Z"
   },
   {
    "duration": 1391,
    "start_time": "2024-05-19T17:22:01.230Z"
   },
   {
    "duration": 71,
    "start_time": "2024-05-19T17:22:02.623Z"
   },
   {
    "duration": 318,
    "start_time": "2024-05-19T17:22:02.698Z"
   },
   {
    "duration": 77,
    "start_time": "2024-05-19T17:22:03.018Z"
   },
   {
    "duration": 0,
    "start_time": "2024-05-19T17:22:03.097Z"
   },
   {
    "duration": 0,
    "start_time": "2024-05-19T17:22:03.098Z"
   },
   {
    "duration": 0,
    "start_time": "2024-05-19T17:22:03.099Z"
   },
   {
    "duration": 0,
    "start_time": "2024-05-19T17:22:03.100Z"
   },
   {
    "duration": 0,
    "start_time": "2024-05-19T17:22:03.101Z"
   },
   {
    "duration": 0,
    "start_time": "2024-05-19T17:22:03.102Z"
   },
   {
    "duration": 9,
    "start_time": "2024-05-19T17:22:44.074Z"
   },
   {
    "duration": 352,
    "start_time": "2024-05-19T17:22:50.767Z"
   },
   {
    "duration": 7,
    "start_time": "2024-05-19T17:25:19.507Z"
   },
   {
    "duration": 173,
    "start_time": "2024-05-19T17:25:23.444Z"
   },
   {
    "duration": 31,
    "start_time": "2024-05-19T17:25:39.633Z"
   },
   {
    "duration": 4635,
    "start_time": "2024-05-19T17:25:41.782Z"
   },
   {
    "duration": 33,
    "start_time": "2024-05-19T17:25:48.363Z"
   },
   {
    "duration": 804,
    "start_time": "2024-05-19T17:25:51.007Z"
   },
   {
    "duration": 418,
    "start_time": "2024-05-19T17:25:52.976Z"
   },
   {
    "duration": 10,
    "start_time": "2024-05-19T17:26:23.532Z"
   },
   {
    "duration": 8,
    "start_time": "2024-05-19T17:26:56.112Z"
   },
   {
    "duration": 3667,
    "start_time": "2024-05-19T17:27:26.330Z"
   },
   {
    "duration": 299,
    "start_time": "2024-05-19T17:28:34.979Z"
   },
   {
    "duration": 33,
    "start_time": "2024-05-19T17:29:10.732Z"
   },
   {
    "duration": 208,
    "start_time": "2024-05-19T17:29:46.712Z"
   },
   {
    "duration": 34,
    "start_time": "2024-05-19T17:29:49.546Z"
   },
   {
    "duration": 228,
    "start_time": "2024-05-19T17:29:50.198Z"
   },
   {
    "duration": 913,
    "start_time": "2024-05-19T17:31:38.516Z"
   },
   {
    "duration": 278,
    "start_time": "2024-05-19T17:32:01.320Z"
   },
   {
    "duration": 1258,
    "start_time": "2024-05-19T18:23:41.186Z"
   },
   {
    "duration": 2,
    "start_time": "2024-05-19T18:23:42.446Z"
   },
   {
    "duration": 15247,
    "start_time": "2024-05-19T18:23:42.450Z"
   },
   {
    "duration": 3,
    "start_time": "2024-05-19T18:23:57.700Z"
   },
   {
    "duration": 8101,
    "start_time": "2024-05-19T18:23:57.705Z"
   },
   {
    "duration": 693,
    "start_time": "2024-05-19T18:24:05.808Z"
   },
   {
    "duration": 105,
    "start_time": "2024-05-19T18:24:06.502Z"
   },
   {
    "duration": 1385,
    "start_time": "2024-05-19T18:24:06.609Z"
   },
   {
    "duration": 4827,
    "start_time": "2024-05-19T18:24:07.996Z"
   },
   {
    "duration": 976,
    "start_time": "2024-05-19T18:24:12.824Z"
   },
   {
    "duration": 23,
    "start_time": "2024-05-19T18:24:13.802Z"
   },
   {
    "duration": 918,
    "start_time": "2024-05-19T18:24:13.827Z"
   },
   {
    "duration": 1214,
    "start_time": "2024-05-19T18:24:14.793Z"
   },
   {
    "duration": 6388,
    "start_time": "2024-05-19T18:24:16.011Z"
   },
   {
    "duration": 2798,
    "start_time": "2024-05-19T18:24:22.401Z"
   },
   {
    "duration": 2522,
    "start_time": "2024-05-19T18:24:25.200Z"
   },
   {
    "duration": 171,
    "start_time": "2024-05-19T18:24:27.723Z"
   },
   {
    "duration": 531,
    "start_time": "2024-05-19T18:24:27.895Z"
   },
   {
    "duration": 1284,
    "start_time": "2024-05-19T18:24:28.427Z"
   },
   {
    "duration": 4131,
    "start_time": "2024-05-19T18:24:29.713Z"
   },
   {
    "duration": 61,
    "start_time": "2024-05-19T18:24:33.846Z"
   },
   {
    "duration": 0,
    "start_time": "2024-05-19T18:24:33.909Z"
   },
   {
    "duration": 0,
    "start_time": "2024-05-19T18:24:33.910Z"
   },
   {
    "duration": 0,
    "start_time": "2024-05-19T18:24:33.912Z"
   },
   {
    "duration": 0,
    "start_time": "2024-05-19T18:24:33.913Z"
   },
   {
    "duration": 0,
    "start_time": "2024-05-19T18:24:33.915Z"
   },
   {
    "duration": 0,
    "start_time": "2024-05-19T18:24:33.916Z"
   },
   {
    "duration": 0,
    "start_time": "2024-05-19T18:24:33.918Z"
   },
   {
    "duration": 0,
    "start_time": "2024-05-19T18:24:33.919Z"
   },
   {
    "duration": 0,
    "start_time": "2024-05-19T18:24:33.920Z"
   },
   {
    "duration": 0,
    "start_time": "2024-05-19T18:24:33.921Z"
   },
   {
    "duration": 0,
    "start_time": "2024-05-19T18:24:33.922Z"
   },
   {
    "duration": 0,
    "start_time": "2024-05-19T18:24:33.924Z"
   },
   {
    "duration": 0,
    "start_time": "2024-05-19T18:24:33.925Z"
   },
   {
    "duration": 0,
    "start_time": "2024-05-19T18:24:33.926Z"
   },
   {
    "duration": 0,
    "start_time": "2024-05-19T18:24:33.928Z"
   },
   {
    "duration": 0,
    "start_time": "2024-05-19T18:24:33.929Z"
   },
   {
    "duration": 0,
    "start_time": "2024-05-19T18:24:33.930Z"
   },
   {
    "duration": 0,
    "start_time": "2024-05-19T18:24:33.931Z"
   },
   {
    "duration": 0,
    "start_time": "2024-05-19T18:24:33.932Z"
   },
   {
    "duration": 3549,
    "start_time": "2024-05-19T18:24:43.482Z"
   },
   {
    "duration": 57,
    "start_time": "2024-05-19T18:26:37.627Z"
   },
   {
    "duration": 553,
    "start_time": "2024-05-19T18:28:38.241Z"
   },
   {
    "duration": 67,
    "start_time": "2024-05-19T18:31:09.658Z"
   },
   {
    "duration": 1323,
    "start_time": "2024-05-19T18:31:21.921Z"
   },
   {
    "duration": 19,
    "start_time": "2024-05-19T18:33:18.733Z"
   },
   {
    "duration": 4,
    "start_time": "2024-05-19T18:33:22.900Z"
   },
   {
    "duration": 352,
    "start_time": "2024-05-19T18:33:58.457Z"
   },
   {
    "duration": 522,
    "start_time": "2024-05-19T18:35:02.348Z"
   },
   {
    "duration": 1171,
    "start_time": "2024-05-19T18:35:04.407Z"
   },
   {
    "duration": 6,
    "start_time": "2024-05-19T18:35:49.553Z"
   },
   {
    "duration": 473,
    "start_time": "2024-05-19T18:36:29.999Z"
   },
   {
    "duration": 877,
    "start_time": "2024-05-19T18:38:21.185Z"
   },
   {
    "duration": 3,
    "start_time": "2024-05-19T18:38:41.447Z"
   },
   {
    "duration": 1253,
    "start_time": "2024-05-19T18:38:43.370Z"
   },
   {
    "duration": 221,
    "start_time": "2024-05-19T18:38:45.384Z"
   },
   {
    "duration": 42,
    "start_time": "2024-05-19T18:38:46.745Z"
   },
   {
    "duration": 27,
    "start_time": "2024-05-19T18:38:48.274Z"
   },
   {
    "duration": 1131,
    "start_time": "2024-05-19T18:38:49.501Z"
   },
   {
    "duration": 7,
    "start_time": "2024-05-19T18:38:52.134Z"
   },
   {
    "duration": 326,
    "start_time": "2024-05-19T18:38:53.495Z"
   },
   {
    "duration": 7,
    "start_time": "2024-05-19T18:38:55.643Z"
   },
   {
    "duration": 17,
    "start_time": "2024-05-19T18:38:57.815Z"
   },
   {
    "duration": 27,
    "start_time": "2024-05-19T18:38:59.908Z"
   },
   {
    "duration": 12,
    "start_time": "2024-05-19T18:39:00.999Z"
   },
   {
    "duration": 4411,
    "start_time": "2024-05-19T18:39:03.215Z"
   },
   {
    "duration": 34,
    "start_time": "2024-05-19T18:39:08.525Z"
   },
   {
    "duration": 3016,
    "start_time": "2024-05-19T18:39:10.089Z"
   },
   {
    "duration": 25,
    "start_time": "2024-05-19T18:39:13.858Z"
   },
   {
    "duration": 914,
    "start_time": "2024-05-19T18:39:15.501Z"
   },
   {
    "duration": 246,
    "start_time": "2024-05-19T18:39:17.660Z"
   },
   {
    "duration": 834,
    "start_time": "2024-05-19T18:39:38.362Z"
   },
   {
    "duration": 246,
    "start_time": "2024-05-19T18:39:40.251Z"
   },
   {
    "duration": 2429,
    "start_time": "2024-05-19T18:52:28.845Z"
   },
   {
    "duration": 5,
    "start_time": "2024-05-19T18:53:05.385Z"
   },
   {
    "duration": 2469,
    "start_time": "2024-05-19T19:10:33.521Z"
   },
   {
    "duration": 1239,
    "start_time": "2024-05-19T19:10:35.993Z"
   },
   {
    "duration": 2,
    "start_time": "2024-05-19T19:10:37.233Z"
   },
   {
    "duration": 15163,
    "start_time": "2024-05-19T19:10:37.237Z"
   },
   {
    "duration": 3,
    "start_time": "2024-05-19T19:10:52.403Z"
   },
   {
    "duration": 8301,
    "start_time": "2024-05-19T19:10:52.408Z"
   },
   {
    "duration": 701,
    "start_time": "2024-05-19T19:11:00.711Z"
   },
   {
    "duration": 108,
    "start_time": "2024-05-19T19:11:01.414Z"
   },
   {
    "duration": 1197,
    "start_time": "2024-05-19T19:11:01.525Z"
   },
   {
    "duration": 5075,
    "start_time": "2024-05-19T19:11:02.723Z"
   },
   {
    "duration": 699,
    "start_time": "2024-05-19T19:11:07.800Z"
   },
   {
    "duration": 25,
    "start_time": "2024-05-19T19:11:08.501Z"
   },
   {
    "duration": 997,
    "start_time": "2024-05-19T19:11:08.528Z"
   },
   {
    "duration": 1265,
    "start_time": "2024-05-19T19:11:09.529Z"
   },
   {
    "duration": 6325,
    "start_time": "2024-05-19T19:11:10.796Z"
   },
   {
    "duration": 2673,
    "start_time": "2024-05-19T19:11:17.124Z"
   },
   {
    "duration": 2423,
    "start_time": "2024-05-19T19:11:19.799Z"
   },
   {
    "duration": 224,
    "start_time": "2024-05-19T19:11:22.224Z"
   },
   {
    "duration": 673,
    "start_time": "2024-05-19T19:11:22.449Z"
   },
   {
    "duration": 1076,
    "start_time": "2024-05-19T19:11:23.124Z"
   },
   {
    "duration": 4342,
    "start_time": "2024-05-19T19:11:24.202Z"
   },
   {
    "duration": 590,
    "start_time": "2024-05-19T19:11:28.546Z"
   },
   {
    "duration": 1243,
    "start_time": "2024-05-19T19:11:29.138Z"
   },
   {
    "duration": 396,
    "start_time": "2024-05-19T19:11:30.383Z"
   },
   {
    "duration": 978,
    "start_time": "2024-05-19T19:11:30.780Z"
   },
   {
    "duration": 3,
    "start_time": "2024-05-19T19:11:31.759Z"
   },
   {
    "duration": 1259,
    "start_time": "2024-05-19T19:11:31.764Z"
   },
   {
    "duration": 374,
    "start_time": "2024-05-19T19:11:33.025Z"
   },
   {
    "duration": 97,
    "start_time": "2024-05-19T19:11:33.400Z"
   },
   {
    "duration": 26,
    "start_time": "2024-05-19T19:11:33.498Z"
   },
   {
    "duration": 1202,
    "start_time": "2024-05-19T19:11:33.526Z"
   },
   {
    "duration": 69,
    "start_time": "2024-05-19T19:11:34.731Z"
   },
   {
    "duration": 404,
    "start_time": "2024-05-19T19:11:34.802Z"
   },
   {
    "duration": 8,
    "start_time": "2024-05-19T19:11:35.208Z"
   },
   {
    "duration": 98,
    "start_time": "2024-05-19T19:11:35.217Z"
   },
   {
    "duration": 46,
    "start_time": "2024-05-19T19:11:35.316Z"
   },
   {
    "duration": 58,
    "start_time": "2024-05-19T19:11:35.363Z"
   },
   {
    "duration": 4475,
    "start_time": "2024-05-19T19:11:35.423Z"
   },
   {
    "duration": 36,
    "start_time": "2024-05-19T19:11:39.900Z"
   },
   {
    "duration": 3112,
    "start_time": "2024-05-19T19:11:39.995Z"
   },
   {
    "duration": 92,
    "start_time": "2024-05-19T19:11:43.111Z"
   },
   {
    "duration": 1022,
    "start_time": "2024-05-19T19:11:43.204Z"
   },
   {
    "duration": 466,
    "start_time": "2024-05-19T19:11:44.228Z"
   },
   {
    "duration": 830,
    "start_time": "2024-05-19T19:11:44.697Z"
   },
   {
    "duration": 284,
    "start_time": "2024-05-19T19:11:45.529Z"
   },
   {
    "duration": 1463,
    "start_time": "2024-05-20T15:30:54.221Z"
   },
   {
    "duration": 3890,
    "start_time": "2024-05-20T15:30:59.278Z"
   },
   {
    "duration": 58,
    "start_time": "2024-05-20T15:31:07.019Z"
   },
   {
    "duration": 3,
    "start_time": "2024-05-20T15:31:09.620Z"
   },
   {
    "duration": 14786,
    "start_time": "2024-05-20T15:31:11.462Z"
   },
   {
    "duration": 2,
    "start_time": "2024-05-20T15:31:34.964Z"
   },
   {
    "duration": 7983,
    "start_time": "2024-05-20T15:31:35.559Z"
   },
   {
    "duration": 629,
    "start_time": "2024-05-20T15:31:45.010Z"
   },
   {
    "duration": 44,
    "start_time": "2024-05-20T15:31:48.497Z"
   },
   {
    "duration": 4057,
    "start_time": "2024-05-20T15:32:07.072Z"
   },
   {
    "duration": 2,
    "start_time": "2024-05-20T15:32:35.575Z"
   },
   {
    "duration": 1564,
    "start_time": "2024-05-20T15:32:40.373Z"
   },
   {
    "duration": 3267,
    "start_time": "2024-05-20T15:36:45.179Z"
   },
   {
    "duration": 17,
    "start_time": "2024-05-20T15:37:39.532Z"
   },
   {
    "duration": 15,
    "start_time": "2024-05-20T15:37:50.233Z"
   },
   {
    "duration": 14,
    "start_time": "2024-05-20T15:38:17.297Z"
   },
   {
    "duration": 26,
    "start_time": "2024-05-20T15:38:32.915Z"
   },
   {
    "duration": 2980,
    "start_time": "2024-05-20T15:38:41.451Z"
   },
   {
    "duration": 12,
    "start_time": "2024-05-20T15:48:44.005Z"
   },
   {
    "duration": 14,
    "start_time": "2024-05-20T15:48:50.122Z"
   },
   {
    "duration": 12,
    "start_time": "2024-05-20T16:16:33.994Z"
   },
   {
    "duration": 18,
    "start_time": "2024-05-20T16:17:00.054Z"
   },
   {
    "duration": 2432,
    "start_time": "2024-05-20T16:17:13.189Z"
   },
   {
    "duration": 15,
    "start_time": "2024-05-20T16:18:42.955Z"
   },
   {
    "duration": 12,
    "start_time": "2024-05-20T16:18:46.781Z"
   },
   {
    "duration": 12,
    "start_time": "2024-05-20T16:19:10.529Z"
   },
   {
    "duration": 3,
    "start_time": "2024-05-20T16:24:52.750Z"
   },
   {
    "duration": 13,
    "start_time": "2024-05-20T16:25:16.038Z"
   },
   {
    "duration": 3,
    "start_time": "2024-05-20T16:25:19.660Z"
   },
   {
    "duration": 2357,
    "start_time": "2024-05-20T16:28:47.913Z"
   },
   {
    "duration": 53,
    "start_time": "2024-05-20T16:28:59.213Z"
   },
   {
    "duration": 52,
    "start_time": "2024-05-20T16:32:30.116Z"
   },
   {
    "duration": 1542,
    "start_time": "2024-05-20T16:32:45.584Z"
   },
   {
    "duration": 1108,
    "start_time": "2024-05-20T16:33:05.453Z"
   },
   {
    "duration": 1249,
    "start_time": "2024-05-20T16:33:37.380Z"
   },
   {
    "duration": 12,
    "start_time": "2024-05-20T17:01:25.030Z"
   },
   {
    "duration": 35,
    "start_time": "2024-05-20T17:01:48.863Z"
   },
   {
    "duration": 12,
    "start_time": "2024-05-20T17:01:55.246Z"
   },
   {
    "duration": 12,
    "start_time": "2024-05-20T17:02:00.767Z"
   },
   {
    "duration": 8,
    "start_time": "2024-05-20T17:03:04.870Z"
   },
   {
    "duration": 348,
    "start_time": "2024-05-20T17:03:08.777Z"
   },
   {
    "duration": 1886,
    "start_time": "2024-05-20T17:03:24.152Z"
   },
   {
    "duration": 200,
    "start_time": "2024-05-20T17:03:47.414Z"
   },
   {
    "duration": 1528,
    "start_time": "2024-05-20T17:03:55.366Z"
   },
   {
    "duration": 5,
    "start_time": "2024-05-20T17:04:03.123Z"
   },
   {
    "duration": 4,
    "start_time": "2024-05-20T17:04:08.282Z"
   },
   {
    "duration": 107,
    "start_time": "2024-05-20T17:05:46.873Z"
   },
   {
    "duration": 2788,
    "start_time": "2024-05-20T17:05:49.359Z"
   },
   {
    "duration": 1146,
    "start_time": "2024-05-20T17:05:56.214Z"
   },
   {
    "duration": 1351,
    "start_time": "2024-05-20T17:06:22.210Z"
   },
   {
    "duration": 122,
    "start_time": "2024-05-20T17:06:25.173Z"
   },
   {
    "duration": 6,
    "start_time": "2024-05-20T17:12:37.481Z"
   },
   {
    "duration": 194,
    "start_time": "2024-05-20T17:13:36.021Z"
   },
   {
    "duration": 4,
    "start_time": "2024-05-20T17:13:43.546Z"
   },
   {
    "duration": 113,
    "start_time": "2024-05-20T17:13:44.046Z"
   },
   {
    "duration": 4,
    "start_time": "2024-05-20T17:13:48.265Z"
   },
   {
    "duration": 158,
    "start_time": "2024-05-20T17:13:48.575Z"
   },
   {
    "duration": 4,
    "start_time": "2024-05-20T17:16:43.630Z"
   },
   {
    "duration": 110,
    "start_time": "2024-05-20T17:16:43.874Z"
   },
   {
    "duration": 2,
    "start_time": "2024-05-20T17:17:06.148Z"
   },
   {
    "duration": 304,
    "start_time": "2024-05-20T17:17:23.125Z"
   },
   {
    "duration": 944,
    "start_time": "2024-05-20T17:17:28.835Z"
   },
   {
    "duration": 1894,
    "start_time": "2024-05-20T17:18:32.752Z"
   },
   {
    "duration": 10,
    "start_time": "2024-05-20T17:18:47.962Z"
   },
   {
    "duration": 302,
    "start_time": "2024-05-20T17:19:23.788Z"
   },
   {
    "duration": 1181,
    "start_time": "2024-05-20T17:19:28.842Z"
   },
   {
    "duration": 110,
    "start_time": "2024-05-20T17:21:48.822Z"
   },
   {
    "duration": 6,
    "start_time": "2024-05-20T17:25:04.978Z"
   },
   {
    "duration": 250,
    "start_time": "2024-05-20T17:25:18.082Z"
   },
   {
    "duration": 4,
    "start_time": "2024-05-20T17:25:56.738Z"
   },
   {
    "duration": 999,
    "start_time": "2024-05-20T17:25:59.615Z"
   },
   {
    "duration": 21,
    "start_time": "2024-05-20T17:27:41.979Z"
   },
   {
    "duration": 95,
    "start_time": "2024-05-20T17:27:52.290Z"
   },
   {
    "duration": 393,
    "start_time": "2024-05-20T17:28:32.133Z"
   },
   {
    "duration": 355,
    "start_time": "2024-05-20T17:33:05.303Z"
   },
   {
    "duration": 247,
    "start_time": "2024-05-20T17:38:15.593Z"
   },
   {
    "duration": 966,
    "start_time": "2024-05-20T17:38:33.289Z"
   },
   {
    "duration": 1792,
    "start_time": "2024-05-20T17:38:56.338Z"
   },
   {
    "duration": 301,
    "start_time": "2024-05-20T17:39:07.934Z"
   },
   {
    "duration": 1033,
    "start_time": "2024-05-20T17:39:09.258Z"
   },
   {
    "duration": 6783,
    "start_time": "2024-05-20T17:40:29.138Z"
   },
   {
    "duration": 884,
    "start_time": "2024-05-20T17:40:41.990Z"
   },
   {
    "duration": 203,
    "start_time": "2024-05-20T17:41:04.842Z"
   },
   {
    "duration": 794,
    "start_time": "2024-05-20T17:41:05.986Z"
   },
   {
    "duration": 195,
    "start_time": "2024-05-20T17:42:39.261Z"
   },
   {
    "duration": 778,
    "start_time": "2024-05-20T17:42:41.011Z"
   },
   {
    "duration": 15,
    "start_time": "2024-05-20T17:47:41.869Z"
   },
   {
    "duration": 3,
    "start_time": "2024-05-20T17:47:46.482Z"
   },
   {
    "duration": 25,
    "start_time": "2024-05-20T18:06:42.904Z"
   },
   {
    "duration": 9,
    "start_time": "2024-05-20T18:08:18.919Z"
   },
   {
    "duration": 24,
    "start_time": "2024-05-20T18:09:16.920Z"
   },
   {
    "duration": 38,
    "start_time": "2024-05-20T18:11:24.110Z"
   },
   {
    "duration": 3,
    "start_time": "2024-05-20T18:11:56.830Z"
   },
   {
    "duration": 7,
    "start_time": "2024-05-20T18:12:00.801Z"
   },
   {
    "duration": 11,
    "start_time": "2024-05-20T18:12:03.206Z"
   },
   {
    "duration": 18,
    "start_time": "2024-05-20T18:12:37.709Z"
   },
   {
    "duration": 7,
    "start_time": "2024-05-20T18:12:50.127Z"
   },
   {
    "duration": 1850,
    "start_time": "2024-05-20T18:12:50.912Z"
   },
   {
    "duration": 22,
    "start_time": "2024-05-20T18:14:18.687Z"
   },
   {
    "duration": 7,
    "start_time": "2024-05-20T18:14:23.956Z"
   },
   {
    "duration": 677,
    "start_time": "2024-05-20T18:14:25.331Z"
   },
   {
    "duration": 7,
    "start_time": "2024-05-20T18:15:30.090Z"
   },
   {
    "duration": 660,
    "start_time": "2024-05-20T18:15:31.562Z"
   },
   {
    "duration": 19,
    "start_time": "2024-05-20T18:20:21.272Z"
   },
   {
    "duration": 20,
    "start_time": "2024-05-20T18:20:48.204Z"
   },
   {
    "duration": 22,
    "start_time": "2024-05-20T18:22:24.918Z"
   },
   {
    "duration": 20,
    "start_time": "2024-05-20T18:24:23.802Z"
   },
   {
    "duration": 7,
    "start_time": "2024-05-20T18:24:36.289Z"
   },
   {
    "duration": 597,
    "start_time": "2024-05-20T18:24:38.809Z"
   },
   {
    "duration": 21,
    "start_time": "2024-05-20T18:25:18.882Z"
   },
   {
    "duration": 7,
    "start_time": "2024-05-20T18:25:24.529Z"
   },
   {
    "duration": 3928,
    "start_time": "2024-05-20T18:25:25.315Z"
   },
   {
    "duration": 150,
    "start_time": "2024-05-20T18:26:25.662Z"
   },
   {
    "duration": 9,
    "start_time": "2024-05-20T18:26:39.668Z"
   },
   {
    "duration": 375,
    "start_time": "2024-05-20T18:26:48.563Z"
   },
   {
    "duration": 390,
    "start_time": "2024-05-20T18:29:26.666Z"
   },
   {
    "duration": 2662,
    "start_time": "2024-05-20T18:31:19.639Z"
   },
   {
    "duration": 1222,
    "start_time": "2024-05-20T18:31:22.303Z"
   },
   {
    "duration": 2,
    "start_time": "2024-05-20T18:31:23.527Z"
   },
   {
    "duration": 15013,
    "start_time": "2024-05-20T18:31:23.532Z"
   },
   {
    "duration": 3,
    "start_time": "2024-05-20T18:31:38.547Z"
   },
   {
    "duration": 7465,
    "start_time": "2024-05-20T18:31:38.552Z"
   },
   {
    "duration": 615,
    "start_time": "2024-05-20T18:31:46.019Z"
   },
   {
    "duration": 100,
    "start_time": "2024-05-20T18:31:46.636Z"
   },
   {
    "duration": 2,
    "start_time": "2024-05-20T18:31:46.738Z"
   },
   {
    "duration": 4084,
    "start_time": "2024-05-20T18:31:46.742Z"
   },
   {
    "duration": 3898,
    "start_time": "2024-05-20T18:31:50.828Z"
   },
   {
    "duration": 2,
    "start_time": "2024-05-20T18:31:54.728Z"
   },
   {
    "duration": 21,
    "start_time": "2024-05-20T18:31:54.732Z"
   },
   {
    "duration": 579,
    "start_time": "2024-05-20T18:31:54.754Z"
   },
   {
    "duration": 2986,
    "start_time": "2024-05-20T18:31:55.335Z"
   },
   {
    "duration": 3,
    "start_time": "2024-05-20T18:31:58.322Z"
   },
   {
    "duration": 14,
    "start_time": "2024-05-20T18:31:58.326Z"
   },
   {
    "duration": 279,
    "start_time": "2024-05-20T18:31:58.342Z"
   },
   {
    "duration": 4817,
    "start_time": "2024-05-20T18:31:58.622Z"
   },
   {
    "duration": 2081,
    "start_time": "2024-05-20T18:32:03.440Z"
   },
   {
    "duration": 2392,
    "start_time": "2024-05-20T18:32:05.523Z"
   },
   {
    "duration": 222,
    "start_time": "2024-05-20T18:32:07.916Z"
   },
   {
    "duration": 2,
    "start_time": "2024-05-20T18:32:08.140Z"
   },
   {
    "duration": 70,
    "start_time": "2024-05-20T18:32:08.144Z"
   },
   {
    "duration": 225,
    "start_time": "2024-05-20T18:32:08.215Z"
   },
   {
    "duration": 500,
    "start_time": "2024-05-20T18:32:08.441Z"
   },
   {
    "duration": 1893,
    "start_time": "2024-05-20T18:32:08.942Z"
   },
   {
    "duration": 1951,
    "start_time": "2024-05-20T18:32:10.839Z"
   },
   {
    "duration": 308,
    "start_time": "2024-05-20T18:32:12.792Z"
   },
   {
    "duration": 1177,
    "start_time": "2024-05-20T18:32:13.102Z"
   },
   {
    "duration": 204,
    "start_time": "2024-05-20T18:32:14.281Z"
   },
   {
    "duration": 852,
    "start_time": "2024-05-20T18:32:14.487Z"
   },
   {
    "duration": 2,
    "start_time": "2024-05-20T18:32:15.341Z"
   },
   {
    "duration": 6,
    "start_time": "2024-05-20T18:32:15.345Z"
   },
   {
    "duration": 1083,
    "start_time": "2024-05-20T18:32:15.353Z"
   },
   {
    "duration": 275,
    "start_time": "2024-05-20T18:32:16.438Z"
   },
   {
    "duration": 33,
    "start_time": "2024-05-20T18:32:16.714Z"
   },
   {
    "duration": 84,
    "start_time": "2024-05-20T18:32:16.749Z"
   },
   {
    "duration": 1105,
    "start_time": "2024-05-20T18:32:16.835Z"
   },
   {
    "duration": 75,
    "start_time": "2024-05-20T18:32:17.942Z"
   },
   {
    "duration": 396,
    "start_time": "2024-05-20T18:32:18.019Z"
   },
   {
    "duration": 7,
    "start_time": "2024-05-20T18:32:18.417Z"
   },
   {
    "duration": 22,
    "start_time": "2024-05-20T18:32:18.425Z"
   },
   {
    "duration": 71,
    "start_time": "2024-05-20T18:32:18.448Z"
   },
   {
    "duration": 11,
    "start_time": "2024-05-20T18:32:18.521Z"
   },
   {
    "duration": 105,
    "start_time": "2024-05-20T18:32:18.533Z"
   },
   {
    "duration": 127,
    "start_time": "2024-05-20T18:32:18.640Z"
   },
   {
    "duration": 0,
    "start_time": "2024-05-20T18:32:18.769Z"
   },
   {
    "duration": 0,
    "start_time": "2024-05-20T18:32:18.770Z"
   },
   {
    "duration": 0,
    "start_time": "2024-05-20T18:32:18.771Z"
   },
   {
    "duration": 0,
    "start_time": "2024-05-20T18:32:18.772Z"
   },
   {
    "duration": 0,
    "start_time": "2024-05-20T18:32:18.773Z"
   },
   {
    "duration": 1,
    "start_time": "2024-05-20T18:32:18.774Z"
   },
   {
    "duration": 0,
    "start_time": "2024-05-20T18:32:18.775Z"
   },
   {
    "duration": 0,
    "start_time": "2024-05-20T18:32:18.776Z"
   },
   {
    "duration": 0,
    "start_time": "2024-05-20T18:32:18.778Z"
   },
   {
    "duration": 8,
    "start_time": "2024-05-20T18:33:17.003Z"
   },
   {
    "duration": 5016,
    "start_time": "2024-05-20T18:33:53.429Z"
   },
   {
    "duration": 19,
    "start_time": "2024-05-20T18:34:00.437Z"
   },
   {
    "duration": 10,
    "start_time": "2024-05-20T18:34:02.892Z"
   },
   {
    "duration": 747,
    "start_time": "2024-05-20T18:34:03.480Z"
   },
   {
    "duration": 75,
    "start_time": "2024-05-20T18:34:14.671Z"
   },
   {
    "duration": 969,
    "start_time": "2024-05-20T18:34:18.450Z"
   },
   {
    "duration": 1093,
    "start_time": "2024-05-20T18:34:21.524Z"
   },
   {
    "duration": 23,
    "start_time": "2024-05-20T18:35:08.472Z"
   },
   {
    "duration": 6,
    "start_time": "2024-05-20T18:35:20.112Z"
   },
   {
    "duration": 84,
    "start_time": "2024-05-20T18:35:27.013Z"
   },
   {
    "duration": 2705,
    "start_time": "2024-05-20T18:37:17.464Z"
   },
   {
    "duration": 1246,
    "start_time": "2024-05-20T18:37:20.171Z"
   },
   {
    "duration": 2,
    "start_time": "2024-05-20T18:37:21.419Z"
   },
   {
    "duration": 14728,
    "start_time": "2024-05-20T18:37:21.423Z"
   },
   {
    "duration": 3,
    "start_time": "2024-05-20T18:37:36.153Z"
   },
   {
    "duration": 7516,
    "start_time": "2024-05-20T18:37:36.212Z"
   },
   {
    "duration": 713,
    "start_time": "2024-05-20T18:37:43.729Z"
   },
   {
    "duration": 105,
    "start_time": "2024-05-20T18:37:44.444Z"
   },
   {
    "duration": 2,
    "start_time": "2024-05-20T18:37:44.551Z"
   },
   {
    "duration": 3901,
    "start_time": "2024-05-20T18:37:44.614Z"
   },
   {
    "duration": 3633,
    "start_time": "2024-05-20T18:37:48.517Z"
   },
   {
    "duration": 2,
    "start_time": "2024-05-20T18:37:52.151Z"
   },
   {
    "duration": 14,
    "start_time": "2024-05-20T18:37:52.155Z"
   },
   {
    "duration": 554,
    "start_time": "2024-05-20T18:37:52.171Z"
   },
   {
    "duration": 2996,
    "start_time": "2024-05-20T18:37:52.727Z"
   },
   {
    "duration": 2,
    "start_time": "2024-05-20T18:37:55.724Z"
   },
   {
    "duration": 9,
    "start_time": "2024-05-20T18:37:55.728Z"
   },
   {
    "duration": 208,
    "start_time": "2024-05-20T18:37:55.738Z"
   },
   {
    "duration": 4826,
    "start_time": "2024-05-20T18:37:56.013Z"
   },
   {
    "duration": 2300,
    "start_time": "2024-05-20T18:38:00.840Z"
   },
   {
    "duration": 2390,
    "start_time": "2024-05-20T18:38:03.142Z"
   },
   {
    "duration": 166,
    "start_time": "2024-05-20T18:38:05.533Z"
   },
   {
    "duration": 3,
    "start_time": "2024-05-20T18:38:05.701Z"
   },
   {
    "duration": 34,
    "start_time": "2024-05-20T18:38:05.706Z"
   },
   {
    "duration": 301,
    "start_time": "2024-05-20T18:38:05.741Z"
   },
   {
    "duration": 585,
    "start_time": "2024-05-20T18:38:06.043Z"
   },
   {
    "duration": 1025,
    "start_time": "2024-05-20T18:38:06.630Z"
   },
   {
    "duration": 1856,
    "start_time": "2024-05-20T18:38:07.659Z"
   },
   {
    "duration": 320,
    "start_time": "2024-05-20T18:38:09.517Z"
   },
   {
    "duration": 1184,
    "start_time": "2024-05-20T18:38:09.838Z"
   },
   {
    "duration": 212,
    "start_time": "2024-05-20T18:38:11.023Z"
   },
   {
    "duration": 855,
    "start_time": "2024-05-20T18:38:11.237Z"
   },
   {
    "duration": 2,
    "start_time": "2024-05-20T18:38:12.094Z"
   },
   {
    "duration": 16,
    "start_time": "2024-05-20T18:38:12.097Z"
   },
   {
    "duration": 61,
    "start_time": "2024-05-20T18:38:12.114Z"
   },
   {
    "duration": 2,
    "start_time": "2024-05-20T18:38:12.177Z"
   },
   {
    "duration": 15,
    "start_time": "2024-05-20T18:38:12.181Z"
   },
   {
    "duration": 45,
    "start_time": "2024-05-20T18:38:12.197Z"
   },
   {
    "duration": 0,
    "start_time": "2024-05-20T18:38:12.244Z"
   },
   {
    "duration": 0,
    "start_time": "2024-05-20T18:38:12.245Z"
   },
   {
    "duration": 0,
    "start_time": "2024-05-20T18:38:12.246Z"
   },
   {
    "duration": 0,
    "start_time": "2024-05-20T18:38:12.248Z"
   },
   {
    "duration": 0,
    "start_time": "2024-05-20T18:38:12.249Z"
   },
   {
    "duration": 0,
    "start_time": "2024-05-20T18:38:12.250Z"
   },
   {
    "duration": 0,
    "start_time": "2024-05-20T18:38:12.252Z"
   },
   {
    "duration": 0,
    "start_time": "2024-05-20T18:38:12.253Z"
   },
   {
    "duration": 0,
    "start_time": "2024-05-20T18:38:12.254Z"
   },
   {
    "duration": 0,
    "start_time": "2024-05-20T18:38:12.256Z"
   },
   {
    "duration": 0,
    "start_time": "2024-05-20T18:38:12.257Z"
   },
   {
    "duration": 0,
    "start_time": "2024-05-20T18:38:12.258Z"
   },
   {
    "duration": 0,
    "start_time": "2024-05-20T18:38:12.259Z"
   },
   {
    "duration": 1,
    "start_time": "2024-05-20T18:38:12.260Z"
   },
   {
    "duration": 0,
    "start_time": "2024-05-20T18:38:12.262Z"
   },
   {
    "duration": 0,
    "start_time": "2024-05-20T18:38:12.263Z"
   },
   {
    "duration": 0,
    "start_time": "2024-05-20T18:38:12.264Z"
   },
   {
    "duration": 0,
    "start_time": "2024-05-20T18:38:12.266Z"
   },
   {
    "duration": 0,
    "start_time": "2024-05-20T18:38:12.267Z"
   },
   {
    "duration": 0,
    "start_time": "2024-05-20T18:38:12.268Z"
   },
   {
    "duration": 0,
    "start_time": "2024-05-20T18:38:12.270Z"
   },
   {
    "duration": 19,
    "start_time": "2024-05-20T18:40:44.461Z"
   },
   {
    "duration": 45,
    "start_time": "2024-05-20T18:40:47.012Z"
   },
   {
    "duration": 6092,
    "start_time": "2024-05-20T18:40:47.650Z"
   },
   {
    "duration": 227,
    "start_time": "2024-05-20T18:41:01.085Z"
   },
   {
    "duration": 11,
    "start_time": "2024-05-20T18:41:02.115Z"
   },
   {
    "duration": 438,
    "start_time": "2024-05-20T18:41:04.276Z"
   },
   {
    "duration": 670,
    "start_time": "2024-05-20T18:41:08.481Z"
   },
   {
    "duration": 16,
    "start_time": "2024-05-20T18:41:58.481Z"
   },
   {
    "duration": 14,
    "start_time": "2024-05-20T18:42:16.797Z"
   },
   {
    "duration": 368,
    "start_time": "2024-05-20T18:42:34.066Z"
   },
   {
    "duration": 366,
    "start_time": "2024-05-20T18:50:45.682Z"
   },
   {
    "duration": 13,
    "start_time": "2024-05-20T18:53:45.556Z"
   },
   {
    "duration": 12,
    "start_time": "2024-05-20T18:53:53.475Z"
   },
   {
    "duration": 1341,
    "start_time": "2024-05-20T19:03:03.508Z"
   },
   {
    "duration": 9,
    "start_time": "2024-05-20T19:04:14.354Z"
   },
   {
    "duration": 13,
    "start_time": "2024-05-20T19:05:16.929Z"
   },
   {
    "duration": 248,
    "start_time": "2024-05-20T19:06:24.789Z"
   },
   {
    "duration": 257,
    "start_time": "2024-05-20T19:08:56.856Z"
   },
   {
    "duration": 3,
    "start_time": "2024-05-20T19:16:14.957Z"
   },
   {
    "duration": 170,
    "start_time": "2024-05-20T19:16:15.857Z"
   },
   {
    "duration": 8,
    "start_time": "2024-05-20T19:17:40.532Z"
   },
   {
    "duration": 13,
    "start_time": "2024-05-20T19:17:53.606Z"
   },
   {
    "duration": 5,
    "start_time": "2024-05-20T19:18:28.771Z"
   },
   {
    "duration": 2,
    "start_time": "2024-05-20T19:18:34.694Z"
   },
   {
    "duration": 8,
    "start_time": "2024-05-20T19:18:37.376Z"
   },
   {
    "duration": 12,
    "start_time": "2024-05-20T19:20:54.380Z"
   },
   {
    "duration": 414,
    "start_time": "2024-05-20T19:20:55.101Z"
   },
   {
    "duration": 8,
    "start_time": "2024-05-20T19:20:57.393Z"
   },
   {
    "duration": 467,
    "start_time": "2024-05-20T19:20:59.766Z"
   },
   {
    "duration": 11,
    "start_time": "2024-05-20T19:21:06.901Z"
   },
   {
    "duration": 277,
    "start_time": "2024-05-20T19:26:24.184Z"
   },
   {
    "duration": 237,
    "start_time": "2024-05-20T19:35:20.408Z"
   },
   {
    "duration": 2684,
    "start_time": "2024-05-20T19:38:01.461Z"
   },
   {
    "duration": 1174,
    "start_time": "2024-05-20T19:38:04.147Z"
   },
   {
    "duration": 3,
    "start_time": "2024-05-20T19:38:05.322Z"
   },
   {
    "duration": 10,
    "start_time": "2024-05-20T19:38:05.327Z"
   },
   {
    "duration": 14580,
    "start_time": "2024-05-20T19:38:05.339Z"
   },
   {
    "duration": 3,
    "start_time": "2024-05-20T19:38:19.921Z"
   },
   {
    "duration": 7911,
    "start_time": "2024-05-20T19:38:19.926Z"
   },
   {
    "duration": 688,
    "start_time": "2024-05-20T19:38:27.839Z"
   },
   {
    "duration": 103,
    "start_time": "2024-05-20T19:38:28.529Z"
   },
   {
    "duration": 2,
    "start_time": "2024-05-20T19:38:28.636Z"
   },
   {
    "duration": 3899,
    "start_time": "2024-05-20T19:38:28.640Z"
   },
   {
    "duration": 4087,
    "start_time": "2024-05-20T19:38:32.540Z"
   },
   {
    "duration": 2,
    "start_time": "2024-05-20T19:38:36.629Z"
   },
   {
    "duration": 15,
    "start_time": "2024-05-20T19:38:36.632Z"
   },
   {
    "duration": 514,
    "start_time": "2024-05-20T19:38:36.712Z"
   },
   {
    "duration": 2954,
    "start_time": "2024-05-20T19:38:37.227Z"
   },
   {
    "duration": 29,
    "start_time": "2024-05-20T19:38:40.183Z"
   },
   {
    "duration": 12,
    "start_time": "2024-05-20T19:38:40.214Z"
   },
   {
    "duration": 51,
    "start_time": "2024-05-20T19:38:40.227Z"
   },
   {
    "duration": 0,
    "start_time": "2024-05-20T19:38:40.283Z"
   },
   {
    "duration": 0,
    "start_time": "2024-05-20T19:38:40.284Z"
   },
   {
    "duration": 0,
    "start_time": "2024-05-20T19:38:40.286Z"
   },
   {
    "duration": 0,
    "start_time": "2024-05-20T19:38:40.287Z"
   },
   {
    "duration": 0,
    "start_time": "2024-05-20T19:38:40.289Z"
   },
   {
    "duration": 0,
    "start_time": "2024-05-20T19:38:40.290Z"
   },
   {
    "duration": 0,
    "start_time": "2024-05-20T19:38:40.291Z"
   },
   {
    "duration": 0,
    "start_time": "2024-05-20T19:38:40.293Z"
   },
   {
    "duration": 0,
    "start_time": "2024-05-20T19:38:40.294Z"
   },
   {
    "duration": 0,
    "start_time": "2024-05-20T19:38:40.296Z"
   },
   {
    "duration": 0,
    "start_time": "2024-05-20T19:38:40.297Z"
   },
   {
    "duration": 0,
    "start_time": "2024-05-20T19:38:40.298Z"
   },
   {
    "duration": 0,
    "start_time": "2024-05-20T19:38:40.300Z"
   },
   {
    "duration": 0,
    "start_time": "2024-05-20T19:38:40.301Z"
   },
   {
    "duration": 0,
    "start_time": "2024-05-20T19:38:40.302Z"
   },
   {
    "duration": 0,
    "start_time": "2024-05-20T19:38:40.304Z"
   },
   {
    "duration": 0,
    "start_time": "2024-05-20T19:38:40.305Z"
   },
   {
    "duration": 0,
    "start_time": "2024-05-20T19:38:40.306Z"
   },
   {
    "duration": 0,
    "start_time": "2024-05-20T19:38:40.308Z"
   },
   {
    "duration": 0,
    "start_time": "2024-05-20T19:38:40.309Z"
   },
   {
    "duration": 0,
    "start_time": "2024-05-20T19:38:40.310Z"
   },
   {
    "duration": 0,
    "start_time": "2024-05-20T19:38:40.311Z"
   },
   {
    "duration": 0,
    "start_time": "2024-05-20T19:38:40.312Z"
   },
   {
    "duration": 0,
    "start_time": "2024-05-20T19:38:40.313Z"
   },
   {
    "duration": 0,
    "start_time": "2024-05-20T19:38:40.314Z"
   },
   {
    "duration": 0,
    "start_time": "2024-05-20T19:38:40.315Z"
   },
   {
    "duration": 0,
    "start_time": "2024-05-20T19:38:40.316Z"
   },
   {
    "duration": 0,
    "start_time": "2024-05-20T19:38:40.317Z"
   },
   {
    "duration": 0,
    "start_time": "2024-05-20T19:38:40.317Z"
   },
   {
    "duration": 0,
    "start_time": "2024-05-20T19:38:40.319Z"
   },
   {
    "duration": 0,
    "start_time": "2024-05-20T19:38:40.320Z"
   },
   {
    "duration": 0,
    "start_time": "2024-05-20T19:38:40.321Z"
   },
   {
    "duration": 0,
    "start_time": "2024-05-20T19:38:40.322Z"
   },
   {
    "duration": 0,
    "start_time": "2024-05-20T19:38:40.323Z"
   },
   {
    "duration": 0,
    "start_time": "2024-05-20T19:38:40.324Z"
   },
   {
    "duration": 0,
    "start_time": "2024-05-20T19:38:40.325Z"
   },
   {
    "duration": 0,
    "start_time": "2024-05-20T19:38:40.326Z"
   },
   {
    "duration": 0,
    "start_time": "2024-05-20T19:38:40.327Z"
   },
   {
    "duration": 0,
    "start_time": "2024-05-20T19:38:40.328Z"
   },
   {
    "duration": 0,
    "start_time": "2024-05-20T19:38:40.329Z"
   },
   {
    "duration": 0,
    "start_time": "2024-05-20T19:38:40.330Z"
   },
   {
    "duration": 0,
    "start_time": "2024-05-20T19:38:40.332Z"
   },
   {
    "duration": 0,
    "start_time": "2024-05-20T19:38:40.333Z"
   },
   {
    "duration": 1,
    "start_time": "2024-05-20T19:38:40.333Z"
   },
   {
    "duration": 0,
    "start_time": "2024-05-20T19:38:40.335Z"
   },
   {
    "duration": 0,
    "start_time": "2024-05-20T19:38:40.336Z"
   },
   {
    "duration": 185,
    "start_time": "2024-05-20T19:38:58.446Z"
   },
   {
    "duration": 4801,
    "start_time": "2024-05-20T19:39:00.441Z"
   },
   {
    "duration": 2023,
    "start_time": "2024-05-20T19:39:07.098Z"
   },
   {
    "duration": 1886,
    "start_time": "2024-05-20T19:39:24.456Z"
   },
   {
    "duration": 111,
    "start_time": "2024-05-20T19:39:27.337Z"
   },
   {
    "duration": 6,
    "start_time": "2024-05-20T19:39:30.086Z"
   },
   {
    "duration": 233,
    "start_time": "2024-05-20T19:39:30.560Z"
   },
   {
    "duration": 417,
    "start_time": "2024-05-20T19:39:31.706Z"
   },
   {
    "duration": 975,
    "start_time": "2024-05-20T19:39:33.571Z"
   },
   {
    "duration": 1792,
    "start_time": "2024-05-20T19:39:36.926Z"
   },
   {
    "duration": 297,
    "start_time": "2024-05-20T19:39:41.588Z"
   },
   {
    "duration": 1159,
    "start_time": "2024-05-20T19:39:43.404Z"
   },
   {
    "duration": 196,
    "start_time": "2024-05-20T19:39:48.834Z"
   },
   {
    "duration": 844,
    "start_time": "2024-05-20T19:39:49.570Z"
   },
   {
    "duration": 3,
    "start_time": "2024-05-20T19:39:56.831Z"
   },
   {
    "duration": 45,
    "start_time": "2024-05-20T19:40:11.476Z"
   },
   {
    "duration": 34,
    "start_time": "2024-05-20T19:40:19.573Z"
   },
   {
    "duration": 105,
    "start_time": "2024-05-20T19:40:22.371Z"
   },
   {
    "duration": 22,
    "start_time": "2024-05-20T19:40:28.688Z"
   },
   {
    "duration": 6868,
    "start_time": "2024-05-20T19:40:31.273Z"
   },
   {
    "duration": 221,
    "start_time": "2024-05-20T19:40:41.303Z"
   },
   {
    "duration": 733,
    "start_time": "2024-05-20T19:40:46.391Z"
   },
   {
    "duration": 3411,
    "start_time": "2024-05-21T05:18:54.651Z"
   },
   {
    "duration": 1458,
    "start_time": "2024-05-21T05:18:58.064Z"
   },
   {
    "duration": 3,
    "start_time": "2024-05-21T05:18:59.525Z"
   },
   {
    "duration": 15373,
    "start_time": "2024-05-21T05:18:59.530Z"
   },
   {
    "duration": 54,
    "start_time": "2024-05-21T05:19:14.905Z"
   },
   {
    "duration": 8705,
    "start_time": "2024-05-21T05:19:14.961Z"
   },
   {
    "duration": 707,
    "start_time": "2024-05-21T05:19:23.667Z"
   },
   {
    "duration": 108,
    "start_time": "2024-05-21T05:19:24.376Z"
   },
   {
    "duration": 2,
    "start_time": "2024-05-21T05:19:24.486Z"
   },
   {
    "duration": 4386,
    "start_time": "2024-05-21T05:19:24.491Z"
   },
   {
    "duration": 4162,
    "start_time": "2024-05-21T05:19:28.879Z"
   },
   {
    "duration": 16,
    "start_time": "2024-05-21T05:19:33.043Z"
   },
   {
    "duration": 22,
    "start_time": "2024-05-21T05:19:33.061Z"
   },
   {
    "duration": 577,
    "start_time": "2024-05-21T05:19:33.085Z"
   },
   {
    "duration": 3002,
    "start_time": "2024-05-21T05:19:33.664Z"
   },
   {
    "duration": 2,
    "start_time": "2024-05-21T05:19:36.667Z"
   },
   {
    "duration": 43,
    "start_time": "2024-05-21T05:19:36.671Z"
   },
   {
    "duration": 264,
    "start_time": "2024-05-21T05:19:36.716Z"
   },
   {
    "duration": 5580,
    "start_time": "2024-05-21T05:19:36.981Z"
   },
   {
    "duration": 2338,
    "start_time": "2024-05-21T05:19:42.562Z"
   },
   {
    "duration": 2672,
    "start_time": "2024-05-21T05:19:44.902Z"
   },
   {
    "duration": 320,
    "start_time": "2024-05-21T05:19:47.576Z"
   },
   {
    "duration": 2,
    "start_time": "2024-05-21T05:19:47.898Z"
   },
   {
    "duration": 60,
    "start_time": "2024-05-21T05:19:47.901Z"
   },
   {
    "duration": 265,
    "start_time": "2024-05-21T05:19:47.963Z"
   },
   {
    "duration": 460,
    "start_time": "2024-05-21T05:19:48.230Z"
   },
   {
    "duration": 1106,
    "start_time": "2024-05-21T05:19:48.692Z"
   },
   {
    "duration": 2058,
    "start_time": "2024-05-21T05:19:49.802Z"
   },
   {
    "duration": 392,
    "start_time": "2024-05-21T05:19:51.862Z"
   },
   {
    "duration": 1324,
    "start_time": "2024-05-21T05:19:52.256Z"
   },
   {
    "duration": 237,
    "start_time": "2024-05-21T05:19:53.581Z"
   },
   {
    "duration": 1009,
    "start_time": "2024-05-21T05:19:53.820Z"
   },
   {
    "duration": 62,
    "start_time": "2024-05-21T05:19:54.831Z"
   },
   {
    "duration": 0,
    "start_time": "2024-05-21T05:19:54.895Z"
   },
   {
    "duration": 0,
    "start_time": "2024-05-21T05:19:54.896Z"
   },
   {
    "duration": 0,
    "start_time": "2024-05-21T05:19:54.897Z"
   },
   {
    "duration": 0,
    "start_time": "2024-05-21T05:19:54.899Z"
   },
   {
    "duration": 0,
    "start_time": "2024-05-21T05:19:54.900Z"
   },
   {
    "duration": 0,
    "start_time": "2024-05-21T05:19:54.901Z"
   },
   {
    "duration": 0,
    "start_time": "2024-05-21T05:19:54.902Z"
   },
   {
    "duration": 0,
    "start_time": "2024-05-21T05:19:54.903Z"
   },
   {
    "duration": 0,
    "start_time": "2024-05-21T05:19:54.904Z"
   },
   {
    "duration": 0,
    "start_time": "2024-05-21T05:19:54.905Z"
   },
   {
    "duration": 0,
    "start_time": "2024-05-21T05:19:54.906Z"
   },
   {
    "duration": 0,
    "start_time": "2024-05-21T05:19:54.907Z"
   },
   {
    "duration": 0,
    "start_time": "2024-05-21T05:19:54.908Z"
   },
   {
    "duration": 0,
    "start_time": "2024-05-21T05:19:54.909Z"
   },
   {
    "duration": 0,
    "start_time": "2024-05-21T05:19:54.910Z"
   },
   {
    "duration": 0,
    "start_time": "2024-05-21T05:19:54.911Z"
   },
   {
    "duration": 0,
    "start_time": "2024-05-21T05:19:54.912Z"
   },
   {
    "duration": 0,
    "start_time": "2024-05-21T05:19:54.913Z"
   },
   {
    "duration": 0,
    "start_time": "2024-05-21T05:19:54.913Z"
   },
   {
    "duration": 0,
    "start_time": "2024-05-21T05:19:54.914Z"
   },
   {
    "duration": 0,
    "start_time": "2024-05-21T05:19:54.915Z"
   },
   {
    "duration": 0,
    "start_time": "2024-05-21T05:19:54.917Z"
   },
   {
    "duration": 0,
    "start_time": "2024-05-21T05:19:54.918Z"
   },
   {
    "duration": 0,
    "start_time": "2024-05-21T05:19:54.919Z"
   },
   {
    "duration": 0,
    "start_time": "2024-05-21T05:19:54.920Z"
   },
   {
    "duration": 0,
    "start_time": "2024-05-21T05:19:54.921Z"
   },
   {
    "duration": 0,
    "start_time": "2024-05-21T05:19:54.923Z"
   },
   {
    "duration": 0,
    "start_time": "2024-05-21T05:19:54.924Z"
   },
   {
    "duration": 0,
    "start_time": "2024-05-21T05:19:54.925Z"
   },
   {
    "duration": 0,
    "start_time": "2024-05-21T05:19:54.926Z"
   },
   {
    "duration": 0,
    "start_time": "2024-05-21T05:19:54.927Z"
   },
   {
    "duration": 353,
    "start_time": "2024-05-21T05:20:59.540Z"
   },
   {
    "duration": 2491,
    "start_time": "2024-05-21T05:21:08.940Z"
   },
   {
    "duration": 1293,
    "start_time": "2024-05-21T05:21:11.433Z"
   },
   {
    "duration": 3,
    "start_time": "2024-05-21T05:21:12.730Z"
   },
   {
    "duration": 4,
    "start_time": "2024-05-21T05:21:12.735Z"
   },
   {
    "duration": 15158,
    "start_time": "2024-05-21T05:21:12.740Z"
   },
   {
    "duration": 60,
    "start_time": "2024-05-21T05:21:27.900Z"
   },
   {
    "duration": 9104,
    "start_time": "2024-05-21T05:21:27.962Z"
   },
   {
    "duration": 710,
    "start_time": "2024-05-21T05:21:37.068Z"
   },
   {
    "duration": 107,
    "start_time": "2024-05-21T05:21:37.780Z"
   },
   {
    "duration": 3,
    "start_time": "2024-05-21T05:21:37.888Z"
   },
   {
    "duration": 4568,
    "start_time": "2024-05-21T05:21:37.892Z"
   },
   {
    "duration": 4157,
    "start_time": "2024-05-21T05:21:42.462Z"
   },
   {
    "duration": 38,
    "start_time": "2024-05-21T05:21:46.621Z"
   },
   {
    "duration": 79,
    "start_time": "2024-05-21T05:21:46.661Z"
   },
   {
    "duration": 535,
    "start_time": "2024-05-21T05:21:46.742Z"
   },
   {
    "duration": 3305,
    "start_time": "2024-05-21T05:21:47.278Z"
   },
   {
    "duration": 2,
    "start_time": "2024-05-21T05:21:50.585Z"
   },
   {
    "duration": 35,
    "start_time": "2024-05-21T05:21:50.589Z"
   },
   {
    "duration": 256,
    "start_time": "2024-05-21T05:21:50.626Z"
   },
   {
    "duration": 5983,
    "start_time": "2024-05-21T05:21:50.884Z"
   },
   {
    "duration": 2604,
    "start_time": "2024-05-21T05:21:56.869Z"
   },
   {
    "duration": 2539,
    "start_time": "2024-05-21T05:21:59.475Z"
   },
   {
    "duration": 167,
    "start_time": "2024-05-21T05:22:02.016Z"
   },
   {
    "duration": 61,
    "start_time": "2024-05-21T05:22:02.185Z"
   },
   {
    "duration": 106,
    "start_time": "2024-05-21T05:22:02.248Z"
   },
   {
    "duration": 411,
    "start_time": "2024-05-21T05:22:02.356Z"
   },
   {
    "duration": 503,
    "start_time": "2024-05-21T05:22:02.773Z"
   },
   {
    "duration": 1543,
    "start_time": "2024-05-21T05:22:03.278Z"
   },
   {
    "duration": 2112,
    "start_time": "2024-05-21T05:22:04.823Z"
   },
   {
    "duration": 355,
    "start_time": "2024-05-21T05:22:06.937Z"
   },
   {
    "duration": 1337,
    "start_time": "2024-05-21T05:22:07.293Z"
   },
   {
    "duration": 243,
    "start_time": "2024-05-21T05:22:08.631Z"
   },
   {
    "duration": 1003,
    "start_time": "2024-05-21T05:22:08.875Z"
   },
   {
    "duration": 53,
    "start_time": "2024-05-21T05:22:09.880Z"
   },
   {
    "duration": 0,
    "start_time": "2024-05-21T05:22:09.935Z"
   },
   {
    "duration": 0,
    "start_time": "2024-05-21T05:22:09.936Z"
   },
   {
    "duration": 0,
    "start_time": "2024-05-21T05:22:09.938Z"
   },
   {
    "duration": 0,
    "start_time": "2024-05-21T05:22:09.939Z"
   },
   {
    "duration": 0,
    "start_time": "2024-05-21T05:22:09.940Z"
   },
   {
    "duration": 0,
    "start_time": "2024-05-21T05:22:09.941Z"
   },
   {
    "duration": 0,
    "start_time": "2024-05-21T05:22:09.943Z"
   },
   {
    "duration": 0,
    "start_time": "2024-05-21T05:22:09.944Z"
   },
   {
    "duration": 1,
    "start_time": "2024-05-21T05:22:09.944Z"
   },
   {
    "duration": 0,
    "start_time": "2024-05-21T05:22:09.946Z"
   },
   {
    "duration": 0,
    "start_time": "2024-05-21T05:22:09.947Z"
   },
   {
    "duration": 0,
    "start_time": "2024-05-21T05:22:09.948Z"
   },
   {
    "duration": 0,
    "start_time": "2024-05-21T05:22:09.949Z"
   },
   {
    "duration": 0,
    "start_time": "2024-05-21T05:22:09.950Z"
   },
   {
    "duration": 0,
    "start_time": "2024-05-21T05:22:09.951Z"
   },
   {
    "duration": 0,
    "start_time": "2024-05-21T05:22:09.952Z"
   },
   {
    "duration": 0,
    "start_time": "2024-05-21T05:22:09.953Z"
   },
   {
    "duration": 0,
    "start_time": "2024-05-21T05:22:09.954Z"
   },
   {
    "duration": 0,
    "start_time": "2024-05-21T05:22:09.955Z"
   },
   {
    "duration": 0,
    "start_time": "2024-05-21T05:22:09.956Z"
   },
   {
    "duration": 0,
    "start_time": "2024-05-21T05:22:09.957Z"
   },
   {
    "duration": 0,
    "start_time": "2024-05-21T05:22:09.958Z"
   },
   {
    "duration": 0,
    "start_time": "2024-05-21T05:22:09.959Z"
   },
   {
    "duration": 0,
    "start_time": "2024-05-21T05:22:09.960Z"
   },
   {
    "duration": 0,
    "start_time": "2024-05-21T05:22:09.961Z"
   },
   {
    "duration": 0,
    "start_time": "2024-05-21T05:22:09.962Z"
   },
   {
    "duration": 0,
    "start_time": "2024-05-21T05:22:09.963Z"
   },
   {
    "duration": 0,
    "start_time": "2024-05-21T05:22:09.964Z"
   },
   {
    "duration": 0,
    "start_time": "2024-05-21T05:22:09.965Z"
   },
   {
    "duration": 0,
    "start_time": "2024-05-21T05:22:09.967Z"
   },
   {
    "duration": 0,
    "start_time": "2024-05-21T05:22:09.968Z"
   },
   {
    "duration": 0,
    "start_time": "2024-05-21T05:22:09.968Z"
   },
   {
    "duration": 24,
    "start_time": "2024-05-21T05:22:44.456Z"
   },
   {
    "duration": 3,
    "start_time": "2024-05-21T05:22:45.765Z"
   },
   {
    "duration": 68,
    "start_time": "2024-05-21T05:22:59.781Z"
   },
   {
    "duration": 294,
    "start_time": "2024-05-21T05:23:05.456Z"
   },
   {
    "duration": 6617,
    "start_time": "2024-05-21T05:23:08.269Z"
   },
   {
    "duration": 230,
    "start_time": "2024-05-21T05:23:21.340Z"
   },
   {
    "duration": 654,
    "start_time": "2024-05-21T05:23:26.837Z"
   },
   {
    "duration": 4035,
    "start_time": "2024-05-21T10:13:58.326Z"
   },
   {
    "duration": 1595,
    "start_time": "2024-05-21T10:14:02.364Z"
   },
   {
    "duration": 3,
    "start_time": "2024-05-21T10:14:03.961Z"
   },
   {
    "duration": 52,
    "start_time": "2024-05-21T10:14:03.966Z"
   },
   {
    "duration": 15696,
    "start_time": "2024-05-21T10:14:04.020Z"
   },
   {
    "duration": 4,
    "start_time": "2024-05-21T10:14:19.770Z"
   },
   {
    "duration": 8210,
    "start_time": "2024-05-21T10:14:19.776Z"
   },
   {
    "duration": 785,
    "start_time": "2024-05-21T10:14:27.988Z"
   },
   {
    "duration": 98,
    "start_time": "2024-05-21T10:14:28.775Z"
   },
   {
    "duration": 2,
    "start_time": "2024-05-21T10:14:28.877Z"
   },
   {
    "duration": 4116,
    "start_time": "2024-05-21T10:14:28.881Z"
   },
   {
    "duration": 4436,
    "start_time": "2024-05-21T10:14:32.999Z"
   },
   {
    "duration": 2,
    "start_time": "2024-05-21T10:14:37.437Z"
   },
   {
    "duration": 67,
    "start_time": "2024-05-21T10:14:37.469Z"
   },
   {
    "duration": 558,
    "start_time": "2024-05-21T10:14:37.538Z"
   },
   {
    "duration": 3202,
    "start_time": "2024-05-21T10:14:38.098Z"
   },
   {
    "duration": 3,
    "start_time": "2024-05-21T10:14:41.302Z"
   },
   {
    "duration": 93,
    "start_time": "2024-05-21T10:14:41.306Z"
   },
   {
    "duration": 289,
    "start_time": "2024-05-21T10:14:41.401Z"
   },
   {
    "duration": 5883,
    "start_time": "2024-05-21T10:14:41.692Z"
   },
   {
    "duration": 2397,
    "start_time": "2024-05-21T10:14:47.577Z"
   },
   {
    "duration": 2412,
    "start_time": "2024-05-21T10:14:49.976Z"
   },
   {
    "duration": 164,
    "start_time": "2024-05-21T10:14:52.390Z"
   },
   {
    "duration": 32,
    "start_time": "2024-05-21T10:14:52.555Z"
   },
   {
    "duration": 30,
    "start_time": "2024-05-21T10:14:52.589Z"
   },
   {
    "duration": 382,
    "start_time": "2024-05-21T10:14:52.621Z"
   },
   {
    "duration": 491,
    "start_time": "2024-05-21T10:14:53.004Z"
   },
   {
    "duration": 1609,
    "start_time": "2024-05-21T10:14:53.499Z"
   },
   {
    "duration": 2103,
    "start_time": "2024-05-21T10:14:55.110Z"
   },
   {
    "duration": 374,
    "start_time": "2024-05-21T10:14:57.216Z"
   },
   {
    "duration": 1312,
    "start_time": "2024-05-21T10:14:57.591Z"
   },
   {
    "duration": 245,
    "start_time": "2024-05-21T10:14:58.904Z"
   },
   {
    "duration": 978,
    "start_time": "2024-05-21T10:14:59.151Z"
   },
   {
    "duration": 56,
    "start_time": "2024-05-21T10:15:00.131Z"
   },
   {
    "duration": 0,
    "start_time": "2024-05-21T10:15:00.189Z"
   },
   {
    "duration": 0,
    "start_time": "2024-05-21T10:15:00.190Z"
   },
   {
    "duration": 0,
    "start_time": "2024-05-21T10:15:00.192Z"
   },
   {
    "duration": 0,
    "start_time": "2024-05-21T10:15:00.193Z"
   },
   {
    "duration": 0,
    "start_time": "2024-05-21T10:15:00.194Z"
   },
   {
    "duration": 0,
    "start_time": "2024-05-21T10:15:00.195Z"
   },
   {
    "duration": 0,
    "start_time": "2024-05-21T10:15:00.197Z"
   },
   {
    "duration": 0,
    "start_time": "2024-05-21T10:15:00.198Z"
   },
   {
    "duration": 0,
    "start_time": "2024-05-21T10:15:00.200Z"
   },
   {
    "duration": 0,
    "start_time": "2024-05-21T10:15:00.202Z"
   },
   {
    "duration": 0,
    "start_time": "2024-05-21T10:15:00.203Z"
   },
   {
    "duration": 0,
    "start_time": "2024-05-21T10:15:00.204Z"
   },
   {
    "duration": 0,
    "start_time": "2024-05-21T10:15:00.206Z"
   },
   {
    "duration": 0,
    "start_time": "2024-05-21T10:15:00.207Z"
   },
   {
    "duration": 0,
    "start_time": "2024-05-21T10:15:00.209Z"
   },
   {
    "duration": 0,
    "start_time": "2024-05-21T10:15:00.210Z"
   },
   {
    "duration": 0,
    "start_time": "2024-05-21T10:15:00.213Z"
   },
   {
    "duration": 0,
    "start_time": "2024-05-21T10:15:00.214Z"
   },
   {
    "duration": 0,
    "start_time": "2024-05-21T10:15:00.216Z"
   },
   {
    "duration": 0,
    "start_time": "2024-05-21T10:15:00.218Z"
   },
   {
    "duration": 0,
    "start_time": "2024-05-21T10:15:00.219Z"
   },
   {
    "duration": 0,
    "start_time": "2024-05-21T10:15:00.221Z"
   },
   {
    "duration": 0,
    "start_time": "2024-05-21T10:15:00.223Z"
   },
   {
    "duration": 0,
    "start_time": "2024-05-21T10:15:00.224Z"
   },
   {
    "duration": 0,
    "start_time": "2024-05-21T10:15:00.226Z"
   },
   {
    "duration": 0,
    "start_time": "2024-05-21T10:15:00.270Z"
   },
   {
    "duration": 0,
    "start_time": "2024-05-21T10:15:00.272Z"
   },
   {
    "duration": 0,
    "start_time": "2024-05-21T10:15:00.274Z"
   },
   {
    "duration": 0,
    "start_time": "2024-05-21T10:15:00.275Z"
   },
   {
    "duration": 0,
    "start_time": "2024-05-21T10:15:00.277Z"
   },
   {
    "duration": 0,
    "start_time": "2024-05-21T10:15:00.279Z"
   },
   {
    "duration": 0,
    "start_time": "2024-05-21T10:15:00.280Z"
   },
   {
    "duration": 21,
    "start_time": "2024-05-21T10:16:58.871Z"
   },
   {
    "duration": 2,
    "start_time": "2024-05-21T10:17:00.623Z"
   },
   {
    "duration": 1655,
    "start_time": "2024-05-21T10:17:58.522Z"
   },
   {
    "duration": 18,
    "start_time": "2024-05-21T10:18:56.922Z"
   },
   {
    "duration": 20,
    "start_time": "2024-05-21T10:19:05.858Z"
   },
   {
    "duration": 22,
    "start_time": "2024-05-21T10:19:17.346Z"
   },
   {
    "duration": 22,
    "start_time": "2024-05-21T10:20:54.370Z"
   },
   {
    "duration": 2567,
    "start_time": "2024-05-21T10:21:30.867Z"
   },
   {
    "duration": 1315,
    "start_time": "2024-05-21T10:21:33.436Z"
   },
   {
    "duration": 3,
    "start_time": "2024-05-21T10:21:34.753Z"
   },
   {
    "duration": 13,
    "start_time": "2024-05-21T10:21:34.757Z"
   },
   {
    "duration": 16201,
    "start_time": "2024-05-21T10:21:34.772Z"
   },
   {
    "duration": 4,
    "start_time": "2024-05-21T10:21:50.975Z"
   },
   {
    "duration": 8397,
    "start_time": "2024-05-21T10:21:50.981Z"
   },
   {
    "duration": 797,
    "start_time": "2024-05-21T10:21:59.380Z"
   },
   {
    "duration": 98,
    "start_time": "2024-05-21T10:22:00.179Z"
   },
   {
    "duration": 41,
    "start_time": "2024-05-21T10:22:00.280Z"
   },
   {
    "duration": 4359,
    "start_time": "2024-05-21T10:22:00.323Z"
   },
   {
    "duration": 4216,
    "start_time": "2024-05-21T10:22:04.684Z"
   },
   {
    "duration": 68,
    "start_time": "2024-05-21T10:22:08.902Z"
   },
   {
    "duration": 23,
    "start_time": "2024-05-21T10:22:08.973Z"
   },
   {
    "duration": 673,
    "start_time": "2024-05-21T10:22:08.999Z"
   },
   {
    "duration": 3100,
    "start_time": "2024-05-21T10:22:09.673Z"
   },
   {
    "duration": 2,
    "start_time": "2024-05-21T10:22:12.775Z"
   },
   {
    "duration": 39,
    "start_time": "2024-05-21T10:22:12.779Z"
   },
   {
    "duration": 256,
    "start_time": "2024-05-21T10:22:12.820Z"
   },
   {
    "duration": 5304,
    "start_time": "2024-05-21T10:22:13.078Z"
   },
   {
    "duration": 2300,
    "start_time": "2024-05-21T10:22:18.384Z"
   },
   {
    "duration": 2504,
    "start_time": "2024-05-21T10:22:20.686Z"
   },
   {
    "duration": 221,
    "start_time": "2024-05-21T10:22:23.191Z"
   },
   {
    "duration": 2,
    "start_time": "2024-05-21T10:22:23.414Z"
   },
   {
    "duration": 44,
    "start_time": "2024-05-21T10:22:23.418Z"
   },
   {
    "duration": 240,
    "start_time": "2024-05-21T10:22:23.464Z"
   },
   {
    "duration": 476,
    "start_time": "2024-05-21T10:22:23.706Z"
   },
   {
    "duration": 1405,
    "start_time": "2024-05-21T10:22:24.186Z"
   },
   {
    "duration": 2064,
    "start_time": "2024-05-21T10:22:25.592Z"
   },
   {
    "duration": 358,
    "start_time": "2024-05-21T10:22:27.658Z"
   },
   {
    "duration": 1363,
    "start_time": "2024-05-21T10:22:28.018Z"
   },
   {
    "duration": 232,
    "start_time": "2024-05-21T10:22:29.383Z"
   },
   {
    "duration": 1060,
    "start_time": "2024-05-21T10:22:29.617Z"
   },
   {
    "duration": 104,
    "start_time": "2024-05-21T10:22:30.678Z"
   },
   {
    "duration": 0,
    "start_time": "2024-05-21T10:22:30.783Z"
   },
   {
    "duration": 0,
    "start_time": "2024-05-21T10:22:30.785Z"
   },
   {
    "duration": 0,
    "start_time": "2024-05-21T10:22:30.786Z"
   },
   {
    "duration": 0,
    "start_time": "2024-05-21T10:22:30.787Z"
   },
   {
    "duration": 0,
    "start_time": "2024-05-21T10:22:30.788Z"
   },
   {
    "duration": 0,
    "start_time": "2024-05-21T10:22:30.789Z"
   },
   {
    "duration": 0,
    "start_time": "2024-05-21T10:22:30.790Z"
   },
   {
    "duration": 0,
    "start_time": "2024-05-21T10:22:30.791Z"
   },
   {
    "duration": 0,
    "start_time": "2024-05-21T10:22:30.792Z"
   },
   {
    "duration": 0,
    "start_time": "2024-05-21T10:22:30.793Z"
   },
   {
    "duration": 0,
    "start_time": "2024-05-21T10:22:30.794Z"
   },
   {
    "duration": 0,
    "start_time": "2024-05-21T10:22:30.795Z"
   },
   {
    "duration": 0,
    "start_time": "2024-05-21T10:22:30.796Z"
   },
   {
    "duration": 0,
    "start_time": "2024-05-21T10:22:30.797Z"
   },
   {
    "duration": 0,
    "start_time": "2024-05-21T10:22:30.798Z"
   },
   {
    "duration": 0,
    "start_time": "2024-05-21T10:22:30.799Z"
   },
   {
    "duration": 0,
    "start_time": "2024-05-21T10:22:30.800Z"
   },
   {
    "duration": 0,
    "start_time": "2024-05-21T10:22:30.801Z"
   },
   {
    "duration": 0,
    "start_time": "2024-05-21T10:22:30.802Z"
   },
   {
    "duration": 0,
    "start_time": "2024-05-21T10:22:30.803Z"
   },
   {
    "duration": 0,
    "start_time": "2024-05-21T10:22:30.804Z"
   },
   {
    "duration": 0,
    "start_time": "2024-05-21T10:22:30.805Z"
   },
   {
    "duration": 0,
    "start_time": "2024-05-21T10:22:30.806Z"
   },
   {
    "duration": 0,
    "start_time": "2024-05-21T10:22:30.807Z"
   },
   {
    "duration": 0,
    "start_time": "2024-05-21T10:22:30.808Z"
   },
   {
    "duration": 0,
    "start_time": "2024-05-21T10:22:30.809Z"
   },
   {
    "duration": 0,
    "start_time": "2024-05-21T10:22:30.810Z"
   },
   {
    "duration": 0,
    "start_time": "2024-05-21T10:22:30.811Z"
   },
   {
    "duration": 0,
    "start_time": "2024-05-21T10:22:30.812Z"
   },
   {
    "duration": 0,
    "start_time": "2024-05-21T10:22:30.813Z"
   },
   {
    "duration": 0,
    "start_time": "2024-05-21T10:22:30.814Z"
   },
   {
    "duration": 0,
    "start_time": "2024-05-21T10:22:30.815Z"
   },
   {
    "duration": 26,
    "start_time": "2024-05-21T10:23:54.147Z"
   },
   {
    "duration": 3,
    "start_time": "2024-05-21T10:23:55.176Z"
   },
   {
    "duration": 1704,
    "start_time": "2024-05-21T10:23:58.398Z"
   },
   {
    "duration": 203,
    "start_time": "2024-05-21T10:24:31.488Z"
   },
   {
    "duration": 2518,
    "start_time": "2024-05-21T10:24:39.758Z"
   },
   {
    "duration": 1267,
    "start_time": "2024-05-21T10:24:42.278Z"
   },
   {
    "duration": 3,
    "start_time": "2024-05-21T10:24:43.546Z"
   },
   {
    "duration": 69,
    "start_time": "2024-05-21T10:24:43.552Z"
   },
   {
    "duration": 15679,
    "start_time": "2024-05-21T10:24:43.623Z"
   },
   {
    "duration": 3,
    "start_time": "2024-05-21T10:24:59.304Z"
   },
   {
    "duration": 8392,
    "start_time": "2024-05-21T10:24:59.309Z"
   },
   {
    "duration": 898,
    "start_time": "2024-05-21T10:25:07.702Z"
   },
   {
    "duration": 102,
    "start_time": "2024-05-21T10:25:08.670Z"
   },
   {
    "duration": 3,
    "start_time": "2024-05-21T10:25:08.776Z"
   },
   {
    "duration": 4387,
    "start_time": "2024-05-21T10:25:08.782Z"
   },
   {
    "duration": 4216,
    "start_time": "2024-05-21T10:25:13.171Z"
   },
   {
    "duration": 2,
    "start_time": "2024-05-21T10:25:17.389Z"
   },
   {
    "duration": 31,
    "start_time": "2024-05-21T10:25:17.393Z"
   },
   {
    "duration": 653,
    "start_time": "2024-05-21T10:25:17.425Z"
   },
   {
    "duration": 3424,
    "start_time": "2024-05-21T10:25:18.079Z"
   },
   {
    "duration": 3,
    "start_time": "2024-05-21T10:25:21.505Z"
   },
   {
    "duration": 68,
    "start_time": "2024-05-21T10:25:21.569Z"
   },
   {
    "duration": 339,
    "start_time": "2024-05-21T10:25:21.639Z"
   },
   {
    "duration": 6509,
    "start_time": "2024-05-21T10:25:21.981Z"
   },
   {
    "duration": 2387,
    "start_time": "2024-05-21T10:25:28.492Z"
   },
   {
    "duration": 2796,
    "start_time": "2024-05-21T10:25:30.881Z"
   },
   {
    "duration": 207,
    "start_time": "2024-05-21T10:25:33.679Z"
   },
   {
    "duration": 3,
    "start_time": "2024-05-21T10:25:33.888Z"
   },
   {
    "duration": 45,
    "start_time": "2024-05-21T10:25:33.892Z"
   },
   {
    "duration": 258,
    "start_time": "2024-05-21T10:25:33.939Z"
   },
   {
    "duration": 490,
    "start_time": "2024-05-21T10:25:34.200Z"
   },
   {
    "duration": 1090,
    "start_time": "2024-05-21T10:25:34.694Z"
   },
   {
    "duration": 2133,
    "start_time": "2024-05-21T10:25:35.786Z"
   },
   {
    "duration": 413,
    "start_time": "2024-05-21T10:25:37.921Z"
   },
   {
    "duration": 1348,
    "start_time": "2024-05-21T10:25:38.335Z"
   },
   {
    "duration": 281,
    "start_time": "2024-05-21T10:25:39.684Z"
   },
   {
    "duration": 1114,
    "start_time": "2024-05-21T10:25:39.970Z"
   },
   {
    "duration": 52,
    "start_time": "2024-05-21T10:25:41.086Z"
   },
   {
    "duration": 0,
    "start_time": "2024-05-21T10:25:41.139Z"
   },
   {
    "duration": 0,
    "start_time": "2024-05-21T10:25:41.141Z"
   },
   {
    "duration": 0,
    "start_time": "2024-05-21T10:25:41.141Z"
   },
   {
    "duration": 0,
    "start_time": "2024-05-21T10:25:41.143Z"
   },
   {
    "duration": 0,
    "start_time": "2024-05-21T10:25:41.144Z"
   },
   {
    "duration": 0,
    "start_time": "2024-05-21T10:25:41.145Z"
   },
   {
    "duration": 0,
    "start_time": "2024-05-21T10:25:41.146Z"
   },
   {
    "duration": 0,
    "start_time": "2024-05-21T10:25:41.147Z"
   },
   {
    "duration": 0,
    "start_time": "2024-05-21T10:25:41.148Z"
   },
   {
    "duration": 0,
    "start_time": "2024-05-21T10:25:41.149Z"
   },
   {
    "duration": 0,
    "start_time": "2024-05-21T10:25:41.150Z"
   },
   {
    "duration": 0,
    "start_time": "2024-05-21T10:25:41.151Z"
   },
   {
    "duration": 1,
    "start_time": "2024-05-21T10:25:41.152Z"
   },
   {
    "duration": 0,
    "start_time": "2024-05-21T10:25:41.154Z"
   },
   {
    "duration": 0,
    "start_time": "2024-05-21T10:25:41.155Z"
   },
   {
    "duration": 0,
    "start_time": "2024-05-21T10:25:41.156Z"
   },
   {
    "duration": 0,
    "start_time": "2024-05-21T10:25:41.157Z"
   },
   {
    "duration": 0,
    "start_time": "2024-05-21T10:25:41.158Z"
   },
   {
    "duration": 0,
    "start_time": "2024-05-21T10:25:41.159Z"
   },
   {
    "duration": 0,
    "start_time": "2024-05-21T10:25:41.160Z"
   },
   {
    "duration": 0,
    "start_time": "2024-05-21T10:25:41.161Z"
   },
   {
    "duration": 0,
    "start_time": "2024-05-21T10:25:41.162Z"
   },
   {
    "duration": 0,
    "start_time": "2024-05-21T10:25:41.169Z"
   },
   {
    "duration": 0,
    "start_time": "2024-05-21T10:25:41.170Z"
   },
   {
    "duration": 0,
    "start_time": "2024-05-21T10:25:41.171Z"
   },
   {
    "duration": 0,
    "start_time": "2024-05-21T10:25:41.172Z"
   },
   {
    "duration": 0,
    "start_time": "2024-05-21T10:25:41.173Z"
   },
   {
    "duration": 0,
    "start_time": "2024-05-21T10:25:41.174Z"
   },
   {
    "duration": 0,
    "start_time": "2024-05-21T10:25:41.175Z"
   },
   {
    "duration": 0,
    "start_time": "2024-05-21T10:25:41.176Z"
   },
   {
    "duration": 0,
    "start_time": "2024-05-21T10:25:41.177Z"
   },
   {
    "duration": 0,
    "start_time": "2024-05-21T10:25:41.178Z"
   },
   {
    "duration": 27,
    "start_time": "2024-05-21T10:25:44.119Z"
   },
   {
    "duration": 3,
    "start_time": "2024-05-21T10:25:44.887Z"
   },
   {
    "duration": 1740,
    "start_time": "2024-05-21T10:25:48.047Z"
   },
   {
    "duration": 250,
    "start_time": "2024-05-21T10:25:58.835Z"
   },
   {
    "duration": 93,
    "start_time": "2024-05-21T10:26:18.577Z"
   },
   {
    "duration": 29,
    "start_time": "2024-05-21T10:26:27.365Z"
   },
   {
    "duration": 1153,
    "start_time": "2024-05-21T10:26:34.552Z"
   },
   {
    "duration": 7,
    "start_time": "2024-05-21T10:26:42.965Z"
   },
   {
    "duration": 641,
    "start_time": "2024-05-21T10:26:51.577Z"
   },
   {
    "duration": 36,
    "start_time": "2024-05-21T10:27:10.008Z"
   },
   {
    "duration": 105,
    "start_time": "2024-05-21T10:27:11.186Z"
   },
   {
    "duration": 2,
    "start_time": "2024-05-21T10:27:17.223Z"
   },
   {
    "duration": 3189,
    "start_time": "2024-05-21T10:27:19.956Z"
   },
   {
    "duration": 102,
    "start_time": "2024-05-21T10:27:30.105Z"
   },
   {
    "duration": 9,
    "start_time": "2024-05-21T10:28:13.835Z"
   },
   {
    "duration": 2500,
    "start_time": "2024-05-21T10:34:41.001Z"
   },
   {
    "duration": 1254,
    "start_time": "2024-05-21T10:34:43.504Z"
   },
   {
    "duration": 4,
    "start_time": "2024-05-21T10:34:44.759Z"
   },
   {
    "duration": 67,
    "start_time": "2024-05-21T10:34:44.765Z"
   },
   {
    "duration": 15476,
    "start_time": "2024-05-21T10:34:44.834Z"
   },
   {
    "duration": 4,
    "start_time": "2024-05-21T10:35:00.313Z"
   },
   {
    "duration": 8877,
    "start_time": "2024-05-21T10:35:00.318Z"
   },
   {
    "duration": 677,
    "start_time": "2024-05-21T10:35:09.197Z"
   },
   {
    "duration": 105,
    "start_time": "2024-05-21T10:35:09.876Z"
   },
   {
    "duration": 2,
    "start_time": "2024-05-21T10:35:09.984Z"
   },
   {
    "duration": 4200,
    "start_time": "2024-05-21T10:35:09.988Z"
   },
   {
    "duration": 4431,
    "start_time": "2024-05-21T10:35:14.190Z"
   },
   {
    "duration": 47,
    "start_time": "2024-05-21T10:35:18.623Z"
   },
   {
    "duration": 36,
    "start_time": "2024-05-21T10:35:18.672Z"
   },
   {
    "duration": 570,
    "start_time": "2024-05-21T10:35:18.710Z"
   },
   {
    "duration": 3393,
    "start_time": "2024-05-21T10:35:19.282Z"
   },
   {
    "duration": 3,
    "start_time": "2024-05-21T10:35:22.677Z"
   },
   {
    "duration": 88,
    "start_time": "2024-05-21T10:35:22.681Z"
   },
   {
    "duration": 299,
    "start_time": "2024-05-21T10:35:22.771Z"
   },
   {
    "duration": 6100,
    "start_time": "2024-05-21T10:35:23.072Z"
   },
   {
    "duration": 2526,
    "start_time": "2024-05-21T10:35:29.174Z"
   },
   {
    "duration": 2401,
    "start_time": "2024-05-21T10:35:31.702Z"
   },
   {
    "duration": 208,
    "start_time": "2024-05-21T10:35:34.104Z"
   },
   {
    "duration": 2,
    "start_time": "2024-05-21T10:35:34.313Z"
   },
   {
    "duration": 17,
    "start_time": "2024-05-21T10:35:34.317Z"
   },
   {
    "duration": 335,
    "start_time": "2024-05-21T10:35:34.336Z"
   },
   {
    "duration": 498,
    "start_time": "2024-05-21T10:35:34.672Z"
   },
   {
    "duration": 1163,
    "start_time": "2024-05-21T10:35:35.174Z"
   },
   {
    "duration": 2096,
    "start_time": "2024-05-21T10:35:36.338Z"
   },
   {
    "duration": 383,
    "start_time": "2024-05-21T10:35:38.436Z"
   },
   {
    "duration": 1433,
    "start_time": "2024-05-21T10:35:38.821Z"
   },
   {
    "duration": 278,
    "start_time": "2024-05-21T10:35:40.256Z"
   },
   {
    "duration": 1635,
    "start_time": "2024-05-21T10:35:40.535Z"
   },
   {
    "duration": 49,
    "start_time": "2024-05-21T10:35:42.172Z"
   },
   {
    "duration": 0,
    "start_time": "2024-05-21T10:35:42.223Z"
   },
   {
    "duration": 0,
    "start_time": "2024-05-21T10:35:42.224Z"
   },
   {
    "duration": 0,
    "start_time": "2024-05-21T10:35:42.226Z"
   },
   {
    "duration": 0,
    "start_time": "2024-05-21T10:35:42.227Z"
   },
   {
    "duration": 0,
    "start_time": "2024-05-21T10:35:42.228Z"
   },
   {
    "duration": 0,
    "start_time": "2024-05-21T10:35:42.229Z"
   },
   {
    "duration": 0,
    "start_time": "2024-05-21T10:35:42.230Z"
   },
   {
    "duration": 0,
    "start_time": "2024-05-21T10:35:42.231Z"
   },
   {
    "duration": 0,
    "start_time": "2024-05-21T10:35:42.232Z"
   },
   {
    "duration": 0,
    "start_time": "2024-05-21T10:35:42.233Z"
   },
   {
    "duration": 0,
    "start_time": "2024-05-21T10:35:42.235Z"
   },
   {
    "duration": 0,
    "start_time": "2024-05-21T10:35:42.269Z"
   },
   {
    "duration": 0,
    "start_time": "2024-05-21T10:35:42.271Z"
   },
   {
    "duration": 0,
    "start_time": "2024-05-21T10:35:42.272Z"
   },
   {
    "duration": 0,
    "start_time": "2024-05-21T10:35:42.274Z"
   },
   {
    "duration": 0,
    "start_time": "2024-05-21T10:35:42.276Z"
   },
   {
    "duration": 0,
    "start_time": "2024-05-21T10:35:42.277Z"
   },
   {
    "duration": 0,
    "start_time": "2024-05-21T10:35:42.279Z"
   },
   {
    "duration": 0,
    "start_time": "2024-05-21T10:35:42.280Z"
   },
   {
    "duration": 0,
    "start_time": "2024-05-21T10:35:42.282Z"
   },
   {
    "duration": 0,
    "start_time": "2024-05-21T10:35:42.284Z"
   },
   {
    "duration": 0,
    "start_time": "2024-05-21T10:35:42.285Z"
   },
   {
    "duration": 0,
    "start_time": "2024-05-21T10:35:42.286Z"
   },
   {
    "duration": 0,
    "start_time": "2024-05-21T10:35:42.288Z"
   },
   {
    "duration": 0,
    "start_time": "2024-05-21T10:35:42.289Z"
   },
   {
    "duration": 0,
    "start_time": "2024-05-21T10:35:42.290Z"
   },
   {
    "duration": 0,
    "start_time": "2024-05-21T10:35:42.291Z"
   },
   {
    "duration": 0,
    "start_time": "2024-05-21T10:35:42.292Z"
   },
   {
    "duration": 0,
    "start_time": "2024-05-21T10:35:42.293Z"
   },
   {
    "duration": 0,
    "start_time": "2024-05-21T10:35:42.295Z"
   },
   {
    "duration": 0,
    "start_time": "2024-05-21T10:35:42.296Z"
   },
   {
    "duration": 0,
    "start_time": "2024-05-21T10:35:42.297Z"
   },
   {
    "duration": 24,
    "start_time": "2024-05-21T10:35:46.019Z"
   },
   {
    "duration": 3,
    "start_time": "2024-05-21T10:35:46.934Z"
   },
   {
    "duration": 53,
    "start_time": "2024-05-21T10:36:00.325Z"
   },
   {
    "duration": 42,
    "start_time": "2024-05-21T10:36:05.874Z"
   },
   {
    "duration": 7550,
    "start_time": "2024-05-21T10:36:10.146Z"
   },
   {
    "duration": 263,
    "start_time": "2024-05-21T10:36:34.222Z"
   },
   {
    "duration": 106,
    "start_time": "2024-05-21T10:37:10.046Z"
   },
   {
    "duration": 15,
    "start_time": "2024-05-21T10:37:47.327Z"
   },
   {
    "duration": 15,
    "start_time": "2024-05-21T10:38:18.960Z"
   },
   {
    "duration": 4,
    "start_time": "2024-05-21T10:38:28.389Z"
   },
   {
    "duration": 21,
    "start_time": "2024-05-21T10:38:34.625Z"
   },
   {
    "duration": 860,
    "start_time": "2024-05-21T10:39:04.497Z"
   },
   {
    "duration": 2496,
    "start_time": "2024-05-21T10:41:16.670Z"
   },
   {
    "duration": 1398,
    "start_time": "2024-05-21T10:41:19.169Z"
   },
   {
    "duration": 3,
    "start_time": "2024-05-21T10:41:20.570Z"
   },
   {
    "duration": 30,
    "start_time": "2024-05-21T10:41:20.576Z"
   },
   {
    "duration": 16879,
    "start_time": "2024-05-21T10:41:20.608Z"
   },
   {
    "duration": 3,
    "start_time": "2024-05-21T10:41:37.489Z"
   },
   {
    "duration": 9476,
    "start_time": "2024-05-21T10:41:37.494Z"
   },
   {
    "duration": 712,
    "start_time": "2024-05-21T10:41:46.972Z"
   },
   {
    "duration": 89,
    "start_time": "2024-05-21T10:41:47.686Z"
   },
   {
    "duration": 3,
    "start_time": "2024-05-21T10:41:47.778Z"
   },
   {
    "duration": 4827,
    "start_time": "2024-05-21T10:41:47.782Z"
   },
   {
    "duration": 4509,
    "start_time": "2024-05-21T10:41:52.669Z"
   },
   {
    "duration": 3,
    "start_time": "2024-05-21T10:41:57.180Z"
   },
   {
    "duration": 9,
    "start_time": "2024-05-21T10:41:57.185Z"
   },
   {
    "duration": 77,
    "start_time": "2024-05-21T10:41:57.196Z"
   },
   {
    "duration": 0,
    "start_time": "2024-05-21T10:41:57.279Z"
   },
   {
    "duration": 0,
    "start_time": "2024-05-21T10:41:57.280Z"
   },
   {
    "duration": 0,
    "start_time": "2024-05-21T10:41:57.281Z"
   },
   {
    "duration": 0,
    "start_time": "2024-05-21T10:41:57.282Z"
   },
   {
    "duration": 0,
    "start_time": "2024-05-21T10:41:57.283Z"
   },
   {
    "duration": 0,
    "start_time": "2024-05-21T10:41:57.285Z"
   },
   {
    "duration": 0,
    "start_time": "2024-05-21T10:41:57.286Z"
   },
   {
    "duration": 0,
    "start_time": "2024-05-21T10:41:57.287Z"
   },
   {
    "duration": 0,
    "start_time": "2024-05-21T10:41:57.288Z"
   },
   {
    "duration": 0,
    "start_time": "2024-05-21T10:41:57.289Z"
   },
   {
    "duration": 0,
    "start_time": "2024-05-21T10:41:57.291Z"
   },
   {
    "duration": 0,
    "start_time": "2024-05-21T10:41:57.292Z"
   },
   {
    "duration": 0,
    "start_time": "2024-05-21T10:41:57.293Z"
   },
   {
    "duration": 0,
    "start_time": "2024-05-21T10:41:57.294Z"
   },
   {
    "duration": 1,
    "start_time": "2024-05-21T10:41:57.295Z"
   },
   {
    "duration": 0,
    "start_time": "2024-05-21T10:41:57.296Z"
   },
   {
    "duration": 0,
    "start_time": "2024-05-21T10:41:57.297Z"
   },
   {
    "duration": 0,
    "start_time": "2024-05-21T10:41:57.298Z"
   },
   {
    "duration": 0,
    "start_time": "2024-05-21T10:41:57.300Z"
   },
   {
    "duration": 0,
    "start_time": "2024-05-21T10:41:57.300Z"
   },
   {
    "duration": 0,
    "start_time": "2024-05-21T10:41:57.302Z"
   },
   {
    "duration": 0,
    "start_time": "2024-05-21T10:41:57.303Z"
   },
   {
    "duration": 0,
    "start_time": "2024-05-21T10:41:57.304Z"
   },
   {
    "duration": 0,
    "start_time": "2024-05-21T10:41:57.305Z"
   },
   {
    "duration": 0,
    "start_time": "2024-05-21T10:41:57.370Z"
   },
   {
    "duration": 0,
    "start_time": "2024-05-21T10:41:57.371Z"
   },
   {
    "duration": 0,
    "start_time": "2024-05-21T10:41:57.372Z"
   },
   {
    "duration": 0,
    "start_time": "2024-05-21T10:41:57.373Z"
   },
   {
    "duration": 0,
    "start_time": "2024-05-21T10:41:57.375Z"
   },
   {
    "duration": 0,
    "start_time": "2024-05-21T10:41:57.376Z"
   },
   {
    "duration": 0,
    "start_time": "2024-05-21T10:41:57.377Z"
   },
   {
    "duration": 0,
    "start_time": "2024-05-21T10:41:57.378Z"
   },
   {
    "duration": 0,
    "start_time": "2024-05-21T10:41:57.379Z"
   },
   {
    "duration": 0,
    "start_time": "2024-05-21T10:41:57.380Z"
   },
   {
    "duration": 0,
    "start_time": "2024-05-21T10:41:57.381Z"
   },
   {
    "duration": 0,
    "start_time": "2024-05-21T10:41:57.383Z"
   },
   {
    "duration": 0,
    "start_time": "2024-05-21T10:41:57.384Z"
   },
   {
    "duration": 0,
    "start_time": "2024-05-21T10:41:57.385Z"
   },
   {
    "duration": 0,
    "start_time": "2024-05-21T10:41:57.386Z"
   },
   {
    "duration": 0,
    "start_time": "2024-05-21T10:41:57.387Z"
   },
   {
    "duration": 0,
    "start_time": "2024-05-21T10:41:57.389Z"
   },
   {
    "duration": 0,
    "start_time": "2024-05-21T10:41:57.390Z"
   },
   {
    "duration": 0,
    "start_time": "2024-05-21T10:41:57.391Z"
   },
   {
    "duration": 0,
    "start_time": "2024-05-21T10:41:57.392Z"
   },
   {
    "duration": 0,
    "start_time": "2024-05-21T10:41:57.393Z"
   },
   {
    "duration": 0,
    "start_time": "2024-05-21T10:41:57.394Z"
   },
   {
    "duration": 0,
    "start_time": "2024-05-21T10:41:57.396Z"
   },
   {
    "duration": 0,
    "start_time": "2024-05-21T10:41:57.397Z"
   },
   {
    "duration": 0,
    "start_time": "2024-05-21T10:41:57.398Z"
   },
   {
    "duration": 0,
    "start_time": "2024-05-21T10:41:57.399Z"
   },
   {
    "duration": 0,
    "start_time": "2024-05-21T10:41:57.400Z"
   },
   {
    "duration": 0,
    "start_time": "2024-05-21T10:41:57.402Z"
   },
   {
    "duration": 770,
    "start_time": "2024-05-21T10:42:03.237Z"
   },
   {
    "duration": 14,
    "start_time": "2024-05-21T10:42:12.909Z"
   },
   {
    "duration": 585,
    "start_time": "2024-05-21T10:42:23.907Z"
   },
   {
    "duration": 3476,
    "start_time": "2024-05-21T10:42:29.488Z"
   },
   {
    "duration": 587,
    "start_time": "2024-05-21T10:42:38.654Z"
   },
   {
    "duration": 8,
    "start_time": "2024-05-21T10:42:45.609Z"
   },
   {
    "duration": 603,
    "start_time": "2024-05-21T10:42:56.327Z"
   },
   {
    "duration": 11,
    "start_time": "2024-05-21T10:42:57.635Z"
   },
   {
    "duration": 249,
    "start_time": "2024-05-21T10:44:09.940Z"
   },
   {
    "duration": 5408,
    "start_time": "2024-05-21T10:44:10.987Z"
   },
   {
    "duration": 2364,
    "start_time": "2024-05-21T10:44:17.044Z"
   },
   {
    "duration": 2527,
    "start_time": "2024-05-21T10:44:23.673Z"
   },
   {
    "duration": 124,
    "start_time": "2024-05-21T10:44:26.684Z"
   },
   {
    "duration": 7,
    "start_time": "2024-05-21T10:44:29.302Z"
   },
   {
    "duration": 315,
    "start_time": "2024-05-21T10:44:30.072Z"
   },
   {
    "duration": 319,
    "start_time": "2024-05-21T10:44:30.874Z"
   },
   {
    "duration": 1125,
    "start_time": "2024-05-21T10:44:32.805Z"
   },
   {
    "duration": 2101,
    "start_time": "2024-05-21T10:44:35.737Z"
   },
   {
    "duration": 379,
    "start_time": "2024-05-21T10:44:40.550Z"
   },
   {
    "duration": 1370,
    "start_time": "2024-05-21T10:44:41.875Z"
   },
   {
    "duration": 233,
    "start_time": "2024-05-21T10:44:44.871Z"
   },
   {
    "duration": 981,
    "start_time": "2024-05-21T10:44:45.738Z"
   },
   {
    "duration": 25,
    "start_time": "2024-05-21T10:44:48.732Z"
   },
   {
    "duration": 3,
    "start_time": "2024-05-21T10:44:50.484Z"
   },
   {
    "duration": 54,
    "start_time": "2024-05-21T10:44:52.496Z"
   },
   {
    "duration": 38,
    "start_time": "2024-05-21T10:44:53.642Z"
   },
   {
    "duration": 6279,
    "start_time": "2024-05-21T10:44:54.901Z"
   },
   {
    "duration": 175,
    "start_time": "2024-05-21T10:45:01.182Z"
   },
   {
    "duration": 241,
    "start_time": "2024-05-21T10:45:03.051Z"
   },
   {
    "duration": 500,
    "start_time": "2024-05-21T10:45:03.788Z"
   },
   {
    "duration": 2571,
    "start_time": "2024-05-21T10:46:34.487Z"
   },
   {
    "duration": 1297,
    "start_time": "2024-05-21T10:46:37.061Z"
   },
   {
    "duration": 3,
    "start_time": "2024-05-21T10:46:38.359Z"
   },
   {
    "duration": 19,
    "start_time": "2024-05-21T10:46:38.365Z"
   },
   {
    "duration": 15718,
    "start_time": "2024-05-21T10:46:38.386Z"
   },
   {
    "duration": 3,
    "start_time": "2024-05-21T10:46:54.107Z"
   },
   {
    "duration": 9039,
    "start_time": "2024-05-21T10:46:54.169Z"
   },
   {
    "duration": 680,
    "start_time": "2024-05-21T10:47:03.210Z"
   },
   {
    "duration": 105,
    "start_time": "2024-05-21T10:47:03.892Z"
   },
   {
    "duration": 2,
    "start_time": "2024-05-21T10:47:04.000Z"
   },
   {
    "duration": 4087,
    "start_time": "2024-05-21T10:47:04.004Z"
   },
   {
    "duration": 4401,
    "start_time": "2024-05-21T10:47:08.093Z"
   },
   {
    "duration": 3,
    "start_time": "2024-05-21T10:47:12.497Z"
   },
   {
    "duration": 75,
    "start_time": "2024-05-21T10:47:12.502Z"
   },
   {
    "duration": 83,
    "start_time": "2024-05-21T10:47:12.579Z"
   },
   {
    "duration": 0,
    "start_time": "2024-05-21T10:47:12.667Z"
   },
   {
    "duration": 0,
    "start_time": "2024-05-21T10:47:12.668Z"
   },
   {
    "duration": 0,
    "start_time": "2024-05-21T10:47:12.669Z"
   },
   {
    "duration": 1,
    "start_time": "2024-05-21T10:47:12.670Z"
   },
   {
    "duration": 0,
    "start_time": "2024-05-21T10:47:12.672Z"
   },
   {
    "duration": 0,
    "start_time": "2024-05-21T10:47:12.673Z"
   },
   {
    "duration": 0,
    "start_time": "2024-05-21T10:47:12.674Z"
   },
   {
    "duration": 0,
    "start_time": "2024-05-21T10:47:12.675Z"
   },
   {
    "duration": 0,
    "start_time": "2024-05-21T10:47:12.676Z"
   },
   {
    "duration": 0,
    "start_time": "2024-05-21T10:47:12.677Z"
   },
   {
    "duration": 0,
    "start_time": "2024-05-21T10:47:12.678Z"
   },
   {
    "duration": 0,
    "start_time": "2024-05-21T10:47:12.679Z"
   },
   {
    "duration": 0,
    "start_time": "2024-05-21T10:47:12.681Z"
   },
   {
    "duration": 0,
    "start_time": "2024-05-21T10:47:12.681Z"
   },
   {
    "duration": 0,
    "start_time": "2024-05-21T10:47:12.682Z"
   },
   {
    "duration": 0,
    "start_time": "2024-05-21T10:47:12.683Z"
   },
   {
    "duration": 0,
    "start_time": "2024-05-21T10:47:12.684Z"
   },
   {
    "duration": 0,
    "start_time": "2024-05-21T10:47:12.685Z"
   },
   {
    "duration": 0,
    "start_time": "2024-05-21T10:47:12.687Z"
   },
   {
    "duration": 0,
    "start_time": "2024-05-21T10:47:12.688Z"
   },
   {
    "duration": 0,
    "start_time": "2024-05-21T10:47:12.689Z"
   },
   {
    "duration": 0,
    "start_time": "2024-05-21T10:47:12.690Z"
   },
   {
    "duration": 0,
    "start_time": "2024-05-21T10:47:12.691Z"
   },
   {
    "duration": 0,
    "start_time": "2024-05-21T10:47:12.692Z"
   },
   {
    "duration": 0,
    "start_time": "2024-05-21T10:47:12.693Z"
   },
   {
    "duration": 0,
    "start_time": "2024-05-21T10:47:12.694Z"
   },
   {
    "duration": 0,
    "start_time": "2024-05-21T10:47:12.695Z"
   },
   {
    "duration": 0,
    "start_time": "2024-05-21T10:47:12.696Z"
   },
   {
    "duration": 0,
    "start_time": "2024-05-21T10:47:12.697Z"
   },
   {
    "duration": 0,
    "start_time": "2024-05-21T10:47:12.770Z"
   },
   {
    "duration": 0,
    "start_time": "2024-05-21T10:47:12.771Z"
   },
   {
    "duration": 0,
    "start_time": "2024-05-21T10:47:12.772Z"
   },
   {
    "duration": 0,
    "start_time": "2024-05-21T10:47:12.774Z"
   },
   {
    "duration": 0,
    "start_time": "2024-05-21T10:47:12.775Z"
   },
   {
    "duration": 0,
    "start_time": "2024-05-21T10:47:12.776Z"
   },
   {
    "duration": 0,
    "start_time": "2024-05-21T10:47:12.778Z"
   },
   {
    "duration": 0,
    "start_time": "2024-05-21T10:47:12.779Z"
   },
   {
    "duration": 0,
    "start_time": "2024-05-21T10:47:12.780Z"
   },
   {
    "duration": 0,
    "start_time": "2024-05-21T10:47:12.782Z"
   },
   {
    "duration": 0,
    "start_time": "2024-05-21T10:47:12.783Z"
   },
   {
    "duration": 0,
    "start_time": "2024-05-21T10:47:12.784Z"
   },
   {
    "duration": 0,
    "start_time": "2024-05-21T10:47:12.785Z"
   },
   {
    "duration": 0,
    "start_time": "2024-05-21T10:47:12.786Z"
   },
   {
    "duration": 0,
    "start_time": "2024-05-21T10:47:12.788Z"
   },
   {
    "duration": 0,
    "start_time": "2024-05-21T10:47:12.789Z"
   },
   {
    "duration": 0,
    "start_time": "2024-05-21T10:47:12.790Z"
   },
   {
    "duration": 0,
    "start_time": "2024-05-21T10:47:12.791Z"
   },
   {
    "duration": 0,
    "start_time": "2024-05-21T10:47:12.792Z"
   },
   {
    "duration": 0,
    "start_time": "2024-05-21T10:47:12.793Z"
   },
   {
    "duration": 0,
    "start_time": "2024-05-21T10:47:12.794Z"
   },
   {
    "duration": 0,
    "start_time": "2024-05-21T10:47:12.796Z"
   },
   {
    "duration": 0,
    "start_time": "2024-05-21T10:47:12.797Z"
   },
   {
    "duration": 1156,
    "start_time": "2024-05-21T10:47:55.545Z"
   },
   {
    "duration": 19,
    "start_time": "2024-05-21T10:48:02.083Z"
   },
   {
    "duration": 8,
    "start_time": "2024-05-21T10:48:15.989Z"
   },
   {
    "duration": 85,
    "start_time": "2024-05-21T10:52:31.269Z"
   },
   {
    "duration": 537,
    "start_time": "2024-05-21T10:52:35.833Z"
   },
   {
    "duration": 3094,
    "start_time": "2024-05-21T10:52:37.436Z"
   },
   {
    "duration": 171,
    "start_time": "2024-05-21T10:52:42.935Z"
   },
   {
    "duration": 5546,
    "start_time": "2024-05-21T10:52:43.851Z"
   },
   {
    "duration": 2456,
    "start_time": "2024-05-21T10:53:05.025Z"
   },
   {
    "duration": 2416,
    "start_time": "2024-05-21T10:53:09.477Z"
   },
   {
    "duration": 155,
    "start_time": "2024-05-21T10:53:12.440Z"
   },
   {
    "duration": 7,
    "start_time": "2024-05-21T10:53:22.615Z"
   },
   {
    "duration": 253,
    "start_time": "2024-05-21T10:53:23.041Z"
   },
   {
    "duration": 568,
    "start_time": "2024-05-21T10:53:23.417Z"
   },
   {
    "duration": 1045,
    "start_time": "2024-05-21T10:53:26.084Z"
   },
   {
    "duration": 2126,
    "start_time": "2024-05-21T10:53:29.618Z"
   },
   {
    "duration": 361,
    "start_time": "2024-05-21T10:53:37.165Z"
   },
   {
    "duration": 1367,
    "start_time": "2024-05-21T10:53:38.409Z"
   },
   {
    "duration": 259,
    "start_time": "2024-05-21T10:54:26.087Z"
   },
   {
    "duration": 928,
    "start_time": "2024-05-21T10:54:29.112Z"
   },
   {
    "duration": 24,
    "start_time": "2024-05-21T10:54:32.890Z"
   },
   {
    "duration": 2,
    "start_time": "2024-05-21T10:54:33.772Z"
   },
   {
    "duration": 63,
    "start_time": "2024-05-21T10:54:35.475Z"
   },
   {
    "duration": 41,
    "start_time": "2024-05-21T10:54:36.471Z"
   },
   {
    "duration": 7786,
    "start_time": "2024-05-21T10:54:38.338Z"
   },
   {
    "duration": 279,
    "start_time": "2024-05-21T10:54:46.127Z"
   },
   {
    "duration": 652,
    "start_time": "2024-05-21T10:54:54.722Z"
   },
   {
    "duration": 2488,
    "start_time": "2024-05-21T11:12:41.088Z"
   },
   {
    "duration": 1264,
    "start_time": "2024-05-21T11:12:43.578Z"
   },
   {
    "duration": 2,
    "start_time": "2024-05-21T11:12:44.844Z"
   },
   {
    "duration": 31,
    "start_time": "2024-05-21T11:12:44.848Z"
   },
   {
    "duration": 15696,
    "start_time": "2024-05-21T11:12:44.881Z"
   },
   {
    "duration": 3,
    "start_time": "2024-05-21T11:13:00.579Z"
   },
   {
    "duration": 9417,
    "start_time": "2024-05-21T11:13:00.584Z"
   },
   {
    "duration": 783,
    "start_time": "2024-05-21T11:13:10.003Z"
   },
   {
    "duration": 117,
    "start_time": "2024-05-21T11:13:10.788Z"
   },
   {
    "duration": 3,
    "start_time": "2024-05-21T11:13:10.908Z"
   },
   {
    "duration": 4568,
    "start_time": "2024-05-21T11:13:10.912Z"
   },
   {
    "duration": 3991,
    "start_time": "2024-05-21T11:13:15.482Z"
   },
   {
    "duration": 3,
    "start_time": "2024-05-21T11:13:19.474Z"
   },
   {
    "duration": 93,
    "start_time": "2024-05-21T11:13:19.479Z"
   },
   {
    "duration": 696,
    "start_time": "2024-05-21T11:13:19.574Z"
   },
   {
    "duration": 3302,
    "start_time": "2024-05-21T11:13:20.271Z"
   },
   {
    "duration": 2,
    "start_time": "2024-05-21T11:13:23.575Z"
   },
   {
    "duration": 87,
    "start_time": "2024-05-21T11:13:23.579Z"
   },
   {
    "duration": 224,
    "start_time": "2024-05-21T11:13:23.668Z"
   },
   {
    "duration": 5478,
    "start_time": "2024-05-21T11:13:23.893Z"
   },
   {
    "duration": 2097,
    "start_time": "2024-05-21T11:13:29.374Z"
   },
   {
    "duration": 2242,
    "start_time": "2024-05-21T11:13:31.473Z"
   },
   {
    "duration": 165,
    "start_time": "2024-05-21T11:13:33.769Z"
   },
   {
    "duration": 3,
    "start_time": "2024-05-21T11:13:33.935Z"
   },
   {
    "duration": 16,
    "start_time": "2024-05-21T11:13:33.939Z"
   },
   {
    "duration": 310,
    "start_time": "2024-05-21T11:13:33.956Z"
   },
   {
    "duration": 426,
    "start_time": "2024-05-21T11:13:34.267Z"
   },
   {
    "duration": 1842,
    "start_time": "2024-05-21T11:13:34.698Z"
   },
   {
    "duration": 2099,
    "start_time": "2024-05-21T11:13:36.542Z"
   },
   {
    "duration": 376,
    "start_time": "2024-05-21T11:13:38.643Z"
   },
   {
    "duration": 1330,
    "start_time": "2024-05-21T11:13:39.021Z"
   },
   {
    "duration": 259,
    "start_time": "2024-05-21T11:13:40.353Z"
   },
   {
    "duration": 1042,
    "start_time": "2024-05-21T11:13:40.614Z"
   },
   {
    "duration": 3,
    "start_time": "2024-05-21T11:13:41.658Z"
   },
   {
    "duration": 15,
    "start_time": "2024-05-21T11:13:41.662Z"
   },
   {
    "duration": 41,
    "start_time": "2024-05-21T11:13:41.679Z"
   },
   {
    "duration": 10,
    "start_time": "2024-05-21T11:13:41.722Z"
   },
   {
    "duration": 12,
    "start_time": "2024-05-21T11:13:41.734Z"
   },
   {
    "duration": 23,
    "start_time": "2024-05-21T11:13:41.747Z"
   },
   {
    "duration": 4,
    "start_time": "2024-05-21T11:13:41.772Z"
   },
   {
    "duration": 5,
    "start_time": "2024-05-21T11:13:41.780Z"
   },
   {
    "duration": 14,
    "start_time": "2024-05-21T11:13:41.788Z"
   },
   {
    "duration": 93,
    "start_time": "2024-05-21T11:13:41.804Z"
   },
   {
    "duration": 18,
    "start_time": "2024-05-21T11:13:41.899Z"
   },
   {
    "duration": 6,
    "start_time": "2024-05-21T11:13:41.919Z"
   },
   {
    "duration": 7,
    "start_time": "2024-05-21T11:13:41.926Z"
   },
   {
    "duration": 6,
    "start_time": "2024-05-21T11:13:41.935Z"
   },
   {
    "duration": 5,
    "start_time": "2024-05-21T11:13:41.943Z"
   },
   {
    "duration": 34,
    "start_time": "2024-05-21T11:13:41.950Z"
   },
   {
    "duration": 2,
    "start_time": "2024-05-21T11:13:41.986Z"
   },
   {
    "duration": 4,
    "start_time": "2024-05-21T11:13:41.990Z"
   },
   {
    "duration": 43,
    "start_time": "2024-05-21T11:13:41.995Z"
   },
   {
    "duration": 7906,
    "start_time": "2024-05-21T11:13:42.070Z"
   },
   {
    "duration": 301,
    "start_time": "2024-05-21T11:13:49.978Z"
   },
   {
    "duration": 2,
    "start_time": "2024-05-21T11:13:50.281Z"
   },
   {
    "duration": 36,
    "start_time": "2024-05-21T11:13:50.285Z"
   },
   {
    "duration": 132,
    "start_time": "2024-05-21T11:13:50.369Z"
   },
   {
    "duration": 0,
    "start_time": "2024-05-21T11:13:50.503Z"
   },
   {
    "duration": 0,
    "start_time": "2024-05-21T11:13:50.504Z"
   },
   {
    "duration": 0,
    "start_time": "2024-05-21T11:13:50.505Z"
   },
   {
    "duration": 0,
    "start_time": "2024-05-21T11:13:50.506Z"
   },
   {
    "duration": 0,
    "start_time": "2024-05-21T11:13:50.507Z"
   },
   {
    "duration": 0,
    "start_time": "2024-05-21T11:13:50.509Z"
   },
   {
    "duration": 1,
    "start_time": "2024-05-21T11:13:50.510Z"
   },
   {
    "duration": 8,
    "start_time": "2024-05-21T11:17:22.434Z"
   },
   {
    "duration": 3792,
    "start_time": "2024-05-21T11:17:23.693Z"
   },
   {
    "duration": 11,
    "start_time": "2024-05-21T11:34:50.928Z"
   },
   {
    "duration": 9,
    "start_time": "2024-05-21T11:35:06.576Z"
   },
   {
    "duration": 10,
    "start_time": "2024-05-21T11:35:11.501Z"
   },
   {
    "duration": 9,
    "start_time": "2024-05-21T11:36:37.789Z"
   },
   {
    "duration": 2986,
    "start_time": "2024-05-21T11:36:38.690Z"
   },
   {
    "duration": 2610,
    "start_time": "2024-05-21T11:38:38.791Z"
   },
   {
    "duration": 1296,
    "start_time": "2024-05-21T11:38:41.403Z"
   },
   {
    "duration": 3,
    "start_time": "2024-05-21T11:38:42.700Z"
   },
   {
    "duration": 6,
    "start_time": "2024-05-21T11:38:42.705Z"
   },
   {
    "duration": 15587,
    "start_time": "2024-05-21T11:38:42.712Z"
   },
   {
    "duration": 3,
    "start_time": "2024-05-21T11:38:58.301Z"
   },
   {
    "duration": 8789,
    "start_time": "2024-05-21T11:38:58.306Z"
   },
   {
    "duration": 787,
    "start_time": "2024-05-21T11:39:07.097Z"
   },
   {
    "duration": 107,
    "start_time": "2024-05-21T11:39:07.886Z"
   },
   {
    "duration": 3,
    "start_time": "2024-05-21T11:39:07.997Z"
   },
   {
    "duration": 4391,
    "start_time": "2024-05-21T11:39:08.002Z"
   },
   {
    "duration": 4122,
    "start_time": "2024-05-21T11:39:12.396Z"
   },
   {
    "duration": 3,
    "start_time": "2024-05-21T11:39:16.519Z"
   },
   {
    "duration": 26,
    "start_time": "2024-05-21T11:39:16.569Z"
   },
   {
    "duration": 691,
    "start_time": "2024-05-21T11:39:16.598Z"
   },
   {
    "duration": 3427,
    "start_time": "2024-05-21T11:39:17.291Z"
   },
   {
    "duration": 3,
    "start_time": "2024-05-21T11:39:20.720Z"
   },
   {
    "duration": 123,
    "start_time": "2024-05-21T11:39:20.725Z"
   },
   {
    "duration": 237,
    "start_time": "2024-05-21T11:39:20.850Z"
   },
   {
    "duration": 6280,
    "start_time": "2024-05-21T11:39:21.090Z"
   },
   {
    "duration": 2500,
    "start_time": "2024-05-21T11:39:27.372Z"
   },
   {
    "duration": 2503,
    "start_time": "2024-05-21T11:39:29.874Z"
   },
   {
    "duration": 178,
    "start_time": "2024-05-21T11:39:32.378Z"
   },
   {
    "duration": 2,
    "start_time": "2024-05-21T11:39:32.558Z"
   },
   {
    "duration": 9,
    "start_time": "2024-05-21T11:39:32.569Z"
   },
   {
    "duration": 320,
    "start_time": "2024-05-21T11:39:32.579Z"
   },
   {
    "duration": 582,
    "start_time": "2024-05-21T11:39:32.900Z"
   },
   {
    "duration": 1289,
    "start_time": "2024-05-21T11:39:33.486Z"
   },
   {
    "duration": 2126,
    "start_time": "2024-05-21T11:39:34.777Z"
   },
   {
    "duration": 371,
    "start_time": "2024-05-21T11:39:36.904Z"
   },
   {
    "duration": 1399,
    "start_time": "2024-05-21T11:39:37.277Z"
   },
   {
    "duration": 237,
    "start_time": "2024-05-21T11:39:38.678Z"
   },
   {
    "duration": 1067,
    "start_time": "2024-05-21T11:39:38.917Z"
   },
   {
    "duration": 3,
    "start_time": "2024-05-21T11:39:39.987Z"
   },
   {
    "duration": 84,
    "start_time": "2024-05-21T11:39:39.992Z"
   },
   {
    "duration": 52,
    "start_time": "2024-05-21T11:39:40.078Z"
   },
   {
    "duration": 11,
    "start_time": "2024-05-21T11:39:40.132Z"
   },
   {
    "duration": 79,
    "start_time": "2024-05-21T11:39:40.145Z"
   },
   {
    "duration": 7,
    "start_time": "2024-05-21T11:39:40.226Z"
   },
   {
    "duration": 3,
    "start_time": "2024-05-21T11:39:40.234Z"
   },
   {
    "duration": 5,
    "start_time": "2024-05-21T11:39:40.238Z"
   },
   {
    "duration": 11,
    "start_time": "2024-05-21T11:39:40.244Z"
   },
   {
    "duration": 7,
    "start_time": "2024-05-21T11:39:40.257Z"
   },
   {
    "duration": 13,
    "start_time": "2024-05-21T11:39:40.265Z"
   },
   {
    "duration": 13,
    "start_time": "2024-05-21T11:39:40.279Z"
   },
   {
    "duration": 4,
    "start_time": "2024-05-21T11:39:40.294Z"
   },
   {
    "duration": 4,
    "start_time": "2024-05-21T11:39:40.299Z"
   },
   {
    "duration": 10,
    "start_time": "2024-05-21T11:39:40.305Z"
   },
   {
    "duration": 28,
    "start_time": "2024-05-21T11:39:40.316Z"
   },
   {
    "duration": 3,
    "start_time": "2024-05-21T11:39:40.345Z"
   },
   {
    "duration": 41,
    "start_time": "2024-05-21T11:39:40.349Z"
   },
   {
    "duration": 59,
    "start_time": "2024-05-21T11:39:40.392Z"
   },
   {
    "duration": 7948,
    "start_time": "2024-05-21T11:39:40.454Z"
   },
   {
    "duration": 631,
    "start_time": "2024-05-21T11:39:48.404Z"
   },
   {
    "duration": 0,
    "start_time": "2024-05-21T11:39:49.037Z"
   },
   {
    "duration": 0,
    "start_time": "2024-05-21T11:39:49.038Z"
   },
   {
    "duration": 0,
    "start_time": "2024-05-21T11:39:49.069Z"
   },
   {
    "duration": 0,
    "start_time": "2024-05-21T11:39:49.071Z"
   },
   {
    "duration": 0,
    "start_time": "2024-05-21T11:39:49.073Z"
   },
   {
    "duration": 0,
    "start_time": "2024-05-21T11:39:49.074Z"
   },
   {
    "duration": 0,
    "start_time": "2024-05-21T11:39:49.076Z"
   },
   {
    "duration": 0,
    "start_time": "2024-05-21T11:39:49.077Z"
   },
   {
    "duration": 0,
    "start_time": "2024-05-21T11:39:49.079Z"
   },
   {
    "duration": 0,
    "start_time": "2024-05-21T11:39:49.081Z"
   },
   {
    "duration": 168,
    "start_time": "2024-05-21T11:40:56.226Z"
   },
   {
    "duration": 8,
    "start_time": "2024-05-21T11:40:59.025Z"
   },
   {
    "duration": 6182,
    "start_time": "2024-05-21T11:40:59.925Z"
   },
   {
    "duration": 375,
    "start_time": "2024-05-21T11:41:08.551Z"
   },
   {
    "duration": 322,
    "start_time": "2024-05-21T11:41:26.808Z"
   },
   {
    "duration": 252,
    "start_time": "2024-05-21T11:41:37.527Z"
   },
   {
    "duration": 509,
    "start_time": "2024-05-21T11:41:55.197Z"
   },
   {
    "duration": 1307,
    "start_time": "2024-05-21T11:41:56.685Z"
   },
   {
    "duration": 592,
    "start_time": "2024-05-21T11:42:18.085Z"
   },
   {
    "duration": 193,
    "start_time": "2024-05-21T11:42:19.298Z"
   },
   {
    "duration": 229,
    "start_time": "2024-05-21T11:43:15.566Z"
   },
   {
    "duration": 252,
    "start_time": "2024-05-21T11:43:29.841Z"
   },
   {
    "duration": 202,
    "start_time": "2024-05-21T11:43:38.682Z"
   },
   {
    "duration": 178,
    "start_time": "2024-05-21T11:44:10.727Z"
   },
   {
    "duration": 161,
    "start_time": "2024-05-21T11:44:15.751Z"
   },
   {
    "duration": 2817,
    "start_time": "2024-05-21T12:08:11.847Z"
   },
   {
    "duration": 1316,
    "start_time": "2024-05-21T12:08:14.666Z"
   },
   {
    "duration": 3,
    "start_time": "2024-05-21T12:08:15.984Z"
   },
   {
    "duration": 51,
    "start_time": "2024-05-21T12:08:15.990Z"
   },
   {
    "duration": 15133,
    "start_time": "2024-05-21T12:08:16.043Z"
   },
   {
    "duration": 3,
    "start_time": "2024-05-21T12:08:31.178Z"
   },
   {
    "duration": 8402,
    "start_time": "2024-05-21T12:08:31.183Z"
   },
   {
    "duration": 791,
    "start_time": "2024-05-21T12:08:39.586Z"
   },
   {
    "duration": 103,
    "start_time": "2024-05-21T12:08:40.378Z"
   },
   {
    "duration": 2,
    "start_time": "2024-05-21T12:08:40.485Z"
   },
   {
    "duration": 4382,
    "start_time": "2024-05-21T12:08:40.489Z"
   },
   {
    "duration": 4416,
    "start_time": "2024-05-21T12:08:44.873Z"
   },
   {
    "duration": 3,
    "start_time": "2024-05-21T12:08:49.290Z"
   },
   {
    "duration": 75,
    "start_time": "2024-05-21T12:08:49.295Z"
   },
   {
    "duration": 635,
    "start_time": "2024-05-21T12:08:49.371Z"
   },
   {
    "duration": 3272,
    "start_time": "2024-05-21T12:08:50.008Z"
   },
   {
    "duration": 3,
    "start_time": "2024-05-21T12:08:53.282Z"
   },
   {
    "duration": 28,
    "start_time": "2024-05-21T12:08:53.287Z"
   },
   {
    "duration": 273,
    "start_time": "2024-05-21T12:08:53.317Z"
   },
   {
    "duration": 5782,
    "start_time": "2024-05-21T12:08:53.592Z"
   },
   {
    "duration": 2300,
    "start_time": "2024-05-21T12:08:59.376Z"
   },
   {
    "duration": 2817,
    "start_time": "2024-05-21T12:09:01.678Z"
   },
   {
    "duration": 199,
    "start_time": "2024-05-21T12:09:04.497Z"
   },
   {
    "duration": 3,
    "start_time": "2024-05-21T12:09:04.697Z"
   },
   {
    "duration": 87,
    "start_time": "2024-05-21T12:09:04.701Z"
   },
   {
    "duration": 303,
    "start_time": "2024-05-21T12:09:04.789Z"
   },
   {
    "duration": 476,
    "start_time": "2024-05-21T12:09:05.094Z"
   },
   {
    "duration": 2312,
    "start_time": "2024-05-21T12:09:05.574Z"
   },
   {
    "duration": 2387,
    "start_time": "2024-05-21T12:09:07.888Z"
   },
   {
    "duration": 440,
    "start_time": "2024-05-21T12:09:10.278Z"
   },
   {
    "duration": 1430,
    "start_time": "2024-05-21T12:09:10.720Z"
   },
   {
    "duration": 262,
    "start_time": "2024-05-21T12:09:12.152Z"
   },
   {
    "duration": 1038,
    "start_time": "2024-05-21T12:09:12.416Z"
   },
   {
    "duration": 3,
    "start_time": "2024-05-21T12:09:13.455Z"
   },
   {
    "duration": 10,
    "start_time": "2024-05-21T12:09:13.460Z"
   },
   {
    "duration": 40,
    "start_time": "2024-05-21T12:09:13.472Z"
   },
   {
    "duration": 11,
    "start_time": "2024-05-21T12:09:13.514Z"
   },
   {
    "duration": 12,
    "start_time": "2024-05-21T12:09:13.526Z"
   },
   {
    "duration": 31,
    "start_time": "2024-05-21T12:09:13.539Z"
   },
   {
    "duration": 3,
    "start_time": "2024-05-21T12:09:13.571Z"
   },
   {
    "duration": 10,
    "start_time": "2024-05-21T12:09:13.575Z"
   },
   {
    "duration": 5,
    "start_time": "2024-05-21T12:09:13.586Z"
   },
   {
    "duration": 5,
    "start_time": "2024-05-21T12:09:13.593Z"
   },
   {
    "duration": 16,
    "start_time": "2024-05-21T12:09:13.600Z"
   },
   {
    "duration": 6,
    "start_time": "2024-05-21T12:09:13.618Z"
   },
   {
    "duration": 4,
    "start_time": "2024-05-21T12:09:13.626Z"
   },
   {
    "duration": 3,
    "start_time": "2024-05-21T12:09:13.632Z"
   },
   {
    "duration": 4,
    "start_time": "2024-05-21T12:09:13.637Z"
   },
   {
    "duration": 32,
    "start_time": "2024-05-21T12:09:13.643Z"
   },
   {
    "duration": 4,
    "start_time": "2024-05-21T12:09:13.678Z"
   },
   {
    "duration": 71,
    "start_time": "2024-05-21T12:09:13.684Z"
   },
   {
    "duration": 42,
    "start_time": "2024-05-21T12:09:13.756Z"
   },
   {
    "duration": 7312,
    "start_time": "2024-05-21T12:09:13.800Z"
   },
   {
    "duration": 273,
    "start_time": "2024-05-21T12:09:21.114Z"
   },
   {
    "duration": 2,
    "start_time": "2024-05-21T12:09:21.389Z"
   },
   {
    "duration": 9,
    "start_time": "2024-05-21T12:09:21.392Z"
   },
   {
    "duration": 13,
    "start_time": "2024-05-21T12:09:21.403Z"
   },
   {
    "duration": 4656,
    "start_time": "2024-05-21T12:09:21.417Z"
   },
   {
    "duration": 313,
    "start_time": "2024-05-21T12:09:26.074Z"
   },
   {
    "duration": 597,
    "start_time": "2024-05-21T12:09:26.389Z"
   },
   {
    "duration": 1095,
    "start_time": "2024-05-21T12:09:26.987Z"
   },
   {
    "duration": 599,
    "start_time": "2024-05-21T12:09:28.084Z"
   },
   {
    "duration": 302,
    "start_time": "2024-05-21T12:09:28.685Z"
   },
   {
    "duration": 1000,
    "start_time": "2024-05-21T12:09:28.989Z"
   },
   {
    "duration": 3315,
    "start_time": "2024-05-25T09:01:28.605Z"
   },
   {
    "duration": 1451,
    "start_time": "2024-05-25T09:01:36.626Z"
   },
   {
    "duration": 2,
    "start_time": "2024-05-25T09:01:40.338Z"
   },
   {
    "duration": 14763,
    "start_time": "2024-05-25T09:01:41.991Z"
   },
   {
    "duration": 2,
    "start_time": "2024-05-25T09:02:01.375Z"
   },
   {
    "duration": 7847,
    "start_time": "2024-05-25T09:02:03.615Z"
   },
   {
    "duration": 573,
    "start_time": "2024-05-25T09:02:15.787Z"
   },
   {
    "duration": 38,
    "start_time": "2024-05-25T09:02:18.081Z"
   },
   {
    "duration": 3708,
    "start_time": "2024-05-25T09:02:26.440Z"
   },
   {
    "duration": 1477,
    "start_time": "2024-05-25T09:02:42.574Z"
   },
   {
    "duration": 3857,
    "start_time": "2024-05-25T09:03:30.218Z"
   },
   {
    "duration": 101,
    "start_time": "2024-05-25T09:04:51.501Z"
   },
   {
    "duration": 675,
    "start_time": "2024-05-25T09:05:01.300Z"
   },
   {
    "duration": 2768,
    "start_time": "2024-05-25T09:05:05.361Z"
   },
   {
    "duration": 284,
    "start_time": "2024-05-25T09:06:06.776Z"
   },
   {
    "duration": 5526,
    "start_time": "2024-05-25T09:06:08.867Z"
   },
   {
    "duration": 2540,
    "start_time": "2024-05-25T09:06:16.811Z"
   },
   {
    "duration": 2267,
    "start_time": "2024-05-25T09:06:22.301Z"
   },
   {
    "duration": 146,
    "start_time": "2024-05-25T09:06:25.338Z"
   },
   {
    "duration": 7,
    "start_time": "2024-05-25T09:06:37.713Z"
   },
   {
    "duration": 193,
    "start_time": "2024-05-25T09:06:38.320Z"
   },
   {
    "duration": 382,
    "start_time": "2024-05-25T09:06:41.786Z"
   },
   {
    "duration": 954,
    "start_time": "2024-05-25T09:06:51.384Z"
   },
   {
    "duration": 1949,
    "start_time": "2024-05-25T09:07:51.165Z"
   },
   {
    "duration": 323,
    "start_time": "2024-05-25T09:08:01.696Z"
   },
   {
    "duration": 1258,
    "start_time": "2024-05-25T09:08:03.687Z"
   },
   {
    "duration": 213,
    "start_time": "2024-05-25T09:08:08.683Z"
   },
   {
    "duration": 947,
    "start_time": "2024-05-25T09:08:10.247Z"
   },
   {
    "duration": 3,
    "start_time": "2024-05-25T09:08:51.467Z"
   },
   {
    "duration": 2,
    "start_time": "2024-05-25T09:08:57.205Z"
   },
   {
    "duration": 30,
    "start_time": "2024-05-25T09:08:58.813Z"
   },
   {
    "duration": 12,
    "start_time": "2024-05-25T09:09:04.460Z"
   },
   {
    "duration": 21,
    "start_time": "2024-05-25T09:09:05.046Z"
   },
   {
    "duration": 7,
    "start_time": "2024-05-25T09:09:05.574Z"
   },
   {
    "duration": 18,
    "start_time": "2024-05-25T09:09:33.475Z"
   },
   {
    "duration": 36,
    "start_time": "2024-05-25T09:09:44.691Z"
   },
   {
    "duration": 8,
    "start_time": "2024-05-25T09:29:27.749Z"
   },
   {
    "duration": 8,
    "start_time": "2024-05-25T09:29:32.194Z"
   },
   {
    "duration": 7016,
    "start_time": "2024-05-25T09:29:32.846Z"
   },
   {
    "duration": 2374,
    "start_time": "2024-05-25T09:30:07.005Z"
   },
   {
    "duration": 1230,
    "start_time": "2024-05-25T09:30:09.381Z"
   },
   {
    "duration": 3,
    "start_time": "2024-05-25T09:30:10.612Z"
   },
   {
    "duration": 14969,
    "start_time": "2024-05-25T09:30:10.617Z"
   },
   {
    "duration": 3,
    "start_time": "2024-05-25T09:30:25.589Z"
   },
   {
    "duration": 7839,
    "start_time": "2024-05-25T09:30:25.645Z"
   },
   {
    "duration": 782,
    "start_time": "2024-05-25T09:30:33.486Z"
   },
   {
    "duration": 110,
    "start_time": "2024-05-25T09:30:34.270Z"
   },
   {
    "duration": 4401,
    "start_time": "2024-05-25T09:30:34.382Z"
   },
   {
    "duration": 4568,
    "start_time": "2024-05-25T09:30:38.786Z"
   },
   {
    "duration": 898,
    "start_time": "2024-05-25T09:30:43.356Z"
   },
   {
    "duration": 3,
    "start_time": "2024-05-25T09:30:44.256Z"
   },
   {
    "duration": 3296,
    "start_time": "2024-05-25T09:30:44.260Z"
   },
   {
    "duration": 224,
    "start_time": "2024-05-25T09:30:47.558Z"
   },
   {
    "duration": 5375,
    "start_time": "2024-05-25T09:30:47.784Z"
   },
   {
    "duration": 2219,
    "start_time": "2024-05-25T09:30:53.161Z"
   },
   {
    "duration": 2288,
    "start_time": "2024-05-25T09:30:55.381Z"
   },
   {
    "duration": 191,
    "start_time": "2024-05-25T09:30:57.671Z"
   },
   {
    "duration": 6,
    "start_time": "2024-05-25T09:30:57.864Z"
   },
   {
    "duration": 284,
    "start_time": "2024-05-25T09:30:57.872Z"
   },
   {
    "duration": 397,
    "start_time": "2024-05-25T09:30:58.157Z"
   },
   {
    "duration": 1089,
    "start_time": "2024-05-25T09:30:58.556Z"
   },
   {
    "duration": 2012,
    "start_time": "2024-05-25T09:30:59.647Z"
   },
   {
    "duration": 382,
    "start_time": "2024-05-25T09:31:01.661Z"
   },
   {
    "duration": 1298,
    "start_time": "2024-05-25T09:31:02.044Z"
   },
   {
    "duration": 261,
    "start_time": "2024-05-25T09:31:03.345Z"
   },
   {
    "duration": 980,
    "start_time": "2024-05-25T09:31:03.608Z"
   },
   {
    "duration": 3,
    "start_time": "2024-05-25T09:31:04.591Z"
   },
   {
    "duration": 6,
    "start_time": "2024-05-25T09:31:04.596Z"
   },
   {
    "duration": 48,
    "start_time": "2024-05-25T09:31:04.604Z"
   },
   {
    "duration": 10,
    "start_time": "2024-05-25T09:31:04.654Z"
   },
   {
    "duration": 14,
    "start_time": "2024-05-25T09:31:04.666Z"
   },
   {
    "duration": 7,
    "start_time": "2024-05-25T09:31:04.682Z"
   },
   {
    "duration": 74,
    "start_time": "2024-05-25T09:31:04.691Z"
   },
   {
    "duration": 0,
    "start_time": "2024-05-25T09:31:04.767Z"
   },
   {
    "duration": 0,
    "start_time": "2024-05-25T09:31:04.769Z"
   },
   {
    "duration": 0,
    "start_time": "2024-05-25T09:31:04.771Z"
   },
   {
    "duration": 0,
    "start_time": "2024-05-25T09:31:04.772Z"
   },
   {
    "duration": 0,
    "start_time": "2024-05-25T09:31:04.774Z"
   },
   {
    "duration": 0,
    "start_time": "2024-05-25T09:31:04.775Z"
   },
   {
    "duration": 0,
    "start_time": "2024-05-25T09:31:04.777Z"
   },
   {
    "duration": 0,
    "start_time": "2024-05-25T09:31:04.778Z"
   },
   {
    "duration": 0,
    "start_time": "2024-05-25T09:31:04.780Z"
   },
   {
    "duration": 1,
    "start_time": "2024-05-25T09:31:04.781Z"
   },
   {
    "duration": 0,
    "start_time": "2024-05-25T09:31:04.783Z"
   },
   {
    "duration": 0,
    "start_time": "2024-05-25T09:31:04.784Z"
   },
   {
    "duration": 0,
    "start_time": "2024-05-25T09:31:04.786Z"
   },
   {
    "duration": 18,
    "start_time": "2024-05-25T09:31:43.193Z"
   },
   {
    "duration": 50,
    "start_time": "2024-05-25T09:31:46.904Z"
   },
   {
    "duration": 6593,
    "start_time": "2024-05-25T09:31:48.761Z"
   },
   {
    "duration": 276,
    "start_time": "2024-05-25T09:32:02.182Z"
   },
   {
    "duration": 714,
    "start_time": "2024-05-25T09:32:07.739Z"
   },
   {
    "duration": 1084,
    "start_time": "2024-05-25T09:32:08.976Z"
   },
   {
    "duration": 8,
    "start_time": "2024-05-25T09:33:23.251Z"
   },
   {
    "duration": 5530,
    "start_time": "2024-05-25T09:33:24.128Z"
   },
   {
    "duration": 179,
    "start_time": "2024-05-25T09:33:30.587Z"
   },
   {
    "duration": 491,
    "start_time": "2024-05-25T09:33:39.271Z"
   },
   {
    "duration": 206,
    "start_time": "2024-05-25T09:33:41.960Z"
   },
   {
    "duration": 3684,
    "start_time": "2024-05-25T09:40:40.197Z"
   },
   {
    "duration": 128,
    "start_time": "2024-05-25T09:41:09.752Z"
   },
   {
    "duration": 14,
    "start_time": "2024-05-25T09:41:20.889Z"
   },
   {
    "duration": 2356,
    "start_time": "2024-05-25T09:43:27.160Z"
   },
   {
    "duration": 2367,
    "start_time": "2024-05-25T09:43:29.518Z"
   },
   {
    "duration": 1193,
    "start_time": "2024-05-25T09:43:31.887Z"
   },
   {
    "duration": 3,
    "start_time": "2024-05-25T09:43:33.081Z"
   },
   {
    "duration": 15201,
    "start_time": "2024-05-25T09:43:33.086Z"
   },
   {
    "duration": 4,
    "start_time": "2024-05-25T09:43:48.344Z"
   },
   {
    "duration": 8026,
    "start_time": "2024-05-25T09:43:48.350Z"
   },
   {
    "duration": 779,
    "start_time": "2024-05-25T09:43:56.378Z"
   },
   {
    "duration": 111,
    "start_time": "2024-05-25T09:43:57.159Z"
   },
   {
    "duration": 4892,
    "start_time": "2024-05-25T09:43:57.272Z"
   },
   {
    "duration": 5215,
    "start_time": "2024-05-25T09:44:02.166Z"
   },
   {
    "duration": 771,
    "start_time": "2024-05-25T09:44:07.389Z"
   },
   {
    "duration": 3,
    "start_time": "2024-05-25T09:44:08.161Z"
   },
   {
    "duration": 2930,
    "start_time": "2024-05-25T09:44:08.168Z"
   },
   {
    "duration": 259,
    "start_time": "2024-05-25T09:44:11.100Z"
   },
   {
    "duration": 5104,
    "start_time": "2024-05-25T09:44:11.361Z"
   },
   {
    "duration": 2192,
    "start_time": "2024-05-25T09:44:16.467Z"
   },
   {
    "duration": 2287,
    "start_time": "2024-05-25T09:44:18.661Z"
   },
   {
    "duration": 214,
    "start_time": "2024-05-25T09:44:20.949Z"
   },
   {
    "duration": 6,
    "start_time": "2024-05-25T09:44:21.164Z"
   },
   {
    "duration": 299,
    "start_time": "2024-05-25T09:44:21.171Z"
   },
   {
    "duration": 409,
    "start_time": "2024-05-25T09:44:21.471Z"
   },
   {
    "duration": 1017,
    "start_time": "2024-05-25T09:44:21.947Z"
   },
   {
    "duration": 1911,
    "start_time": "2024-05-25T09:44:22.966Z"
   },
   {
    "duration": 369,
    "start_time": "2024-05-25T09:44:24.879Z"
   },
   {
    "duration": 1303,
    "start_time": "2024-05-25T09:44:25.250Z"
   },
   {
    "duration": 215,
    "start_time": "2024-05-25T09:44:26.555Z"
   },
   {
    "duration": 916,
    "start_time": "2024-05-25T09:44:26.772Z"
   },
   {
    "duration": 3,
    "start_time": "2024-05-25T09:44:27.691Z"
   },
   {
    "duration": 20,
    "start_time": "2024-05-25T09:44:27.695Z"
   },
   {
    "duration": 47,
    "start_time": "2024-05-25T09:44:27.717Z"
   },
   {
    "duration": 10,
    "start_time": "2024-05-25T09:44:27.766Z"
   },
   {
    "duration": 14,
    "start_time": "2024-05-25T09:44:27.777Z"
   },
   {
    "duration": 17,
    "start_time": "2024-05-25T09:44:27.793Z"
   },
   {
    "duration": 35,
    "start_time": "2024-05-25T09:44:27.812Z"
   },
   {
    "duration": 43,
    "start_time": "2024-05-25T09:44:27.849Z"
   },
   {
    "duration": 6176,
    "start_time": "2024-05-25T09:44:27.894Z"
   },
   {
    "duration": 273,
    "start_time": "2024-05-25T09:44:34.072Z"
   },
   {
    "duration": 8,
    "start_time": "2024-05-25T09:44:34.347Z"
   },
   {
    "duration": 4907,
    "start_time": "2024-05-25T09:44:34.356Z"
   },
   {
    "duration": 220,
    "start_time": "2024-05-25T09:44:39.266Z"
   },
   {
    "duration": 523,
    "start_time": "2024-05-25T09:44:39.545Z"
   },
   {
    "duration": 1081,
    "start_time": "2024-05-25T09:44:40.070Z"
   },
   {
    "duration": 513,
    "start_time": "2024-05-25T09:44:41.153Z"
   },
   {
    "duration": 298,
    "start_time": "2024-05-25T09:44:41.668Z"
   },
   {
    "duration": 1000,
    "start_time": "2024-05-25T09:44:41.968Z"
   }
  ],
  "colab": {
   "name": "PySparkSprint.ipynb",
   "provenance": []
  },
  "hide_input": false,
  "kernelspec": {
   "display_name": "Python 3 (ipykernel)",
   "language": "python",
   "name": "python3"
  },
  "language_info": {
   "codemirror_mode": {
    "name": "ipython",
    "version": 3
   },
   "file_extension": ".py",
   "mimetype": "text/x-python",
   "name": "python",
   "nbconvert_exporter": "python",
   "pygments_lexer": "ipython3",
   "version": "3.11.4"
  },
  "toc": {
   "base_numbering": 1,
   "nav_menu": {},
   "number_sections": true,
   "sideBar": true,
   "skip_h1_title": true,
   "title_cell": "Table of Contents",
   "title_sidebar": "Contents",
   "toc_cell": false,
   "toc_position": {
    "height": "calc(100% - 180px)",
    "left": "10px",
    "top": "150px",
    "width": "275px"
   },
   "toc_section_display": true,
   "toc_window_display": true
  },
  "varInspector": {
   "cols": {
    "lenName": 16,
    "lenType": 16,
    "lenVar": 40
   },
   "kernels_config": {
    "python": {
     "delete_cmd_postfix": "",
     "delete_cmd_prefix": "del ",
     "library": "var_list.py",
     "varRefreshCmd": "print(var_dic_list())"
    },
    "r": {
     "delete_cmd_postfix": ") ",
     "delete_cmd_prefix": "rm(",
     "library": "var_list.r",
     "varRefreshCmd": "cat(var_dic_list()) "
    }
   },
   "types_to_exclude": [
    "module",
    "function",
    "builtin_function_or_method",
    "instance",
    "_Feature"
   ],
   "window_display": false
  }
 },
 "nbformat": 4,
 "nbformat_minor": 5
}
