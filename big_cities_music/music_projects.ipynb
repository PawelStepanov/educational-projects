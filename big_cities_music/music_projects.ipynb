{
 "cells": [
  {
   "cell_type": "markdown",
   "id": "a17e8483",
   "metadata": {},
   "source": [
    "# Музыка больших городов"
   ]
  },
  {
   "cell_type": "markdown",
   "id": "4cc6994b",
   "metadata": {},
   "source": [
    "Сравнение Москвы и Петербурга окружено мифами. Например:\n",
    " * Москва — мегаполис, подчинённый жёсткому ритму рабочей недели;\n",
    " * Петербург — культурная столица, со своими вкусами.\n",
    "\n",
    "На данных Яндекс Музыки необходимо сравнить поведение пользователей двух столиц.\n",
    "\n",
    "**Цель исследования** — проверьте три гипотезы:\n",
    "1. Активность пользователей зависит от дня недели. Причём в Москве и Петербурге это проявляется по-разному.\n",
    "2. В понедельник утром в Москве преобладают одни жанры, а в Петербурге — другие. Так же и вечером пятницы преобладают разные жанры — в зависимости от города.\n",
    "3. Москва и Петербург предпочитают разные жанры музыки. В Москве чаще слушают поп-музыку, в Петербурге — русский рэп.\n",
    "\n",
    "Данные о поведении пользователей находятся в файле `yandex_music_project.csv`. О качестве данных ничего не известно. \n",
    "\n",
    "**План исследования:**\n",
    "\n",
    "1. Изучить данные;\n",
    "2. Предобработка данных;\n",
    "3. Проверка первой гипотезы;\n",
    "4. Проверка второй гипотезы;\n",
    "5. Проверка третьей гипотезы;\n",
    "6. Общий вывод.\n",
    "\n",
    "**Согласно документации к данным:**\n",
    "\n",
    "- `userID` — идентификатор пользователя;\n",
    "- `Track` — название трека;\n",
    "- `artist` — имя исполнителя;\n",
    "- `genre` — название жанра;\n",
    "- `City` — город пользователя;\n",
    "- `time` — время начала прослушивания;\n",
    "- `Day` — день недели."
   ]
  },
  {
   "cell_type": "markdown",
   "id": "28483215",
   "metadata": {},
   "source": [
    "# Изучение данных."
   ]
  },
  {
   "cell_type": "markdown",
   "id": "6f8dff07",
   "metadata": {},
   "source": [
    "Изучим данные, предоставленные сервисом для проекта"
   ]
  },
  {
   "cell_type": "markdown",
   "id": "25e1c5e2",
   "metadata": {},
   "source": [
    "## Импорт библиотек"
   ]
  },
  {
   "cell_type": "code",
   "execution_count": 1,
   "id": "484b5f60",
   "metadata": {
    "ExecuteTime": {
     "end_time": "2024-04-22T13:12:44.364507Z",
     "start_time": "2024-04-22T13:12:43.831081Z"
    }
   },
   "outputs": [],
   "source": [
    "import os\n",
    "\n",
    "import pandas as pd # импорт библиотеки pandas"
   ]
  },
  {
   "cell_type": "markdown",
   "id": "3e2f5f1a",
   "metadata": {},
   "source": [
    "## Функции"
   ]
  },
  {
   "cell_type": "code",
   "execution_count": 2,
   "id": "72c7034b",
   "metadata": {
    "ExecuteTime": {
     "end_time": "2024-04-22T13:12:44.369141Z",
     "start_time": "2024-04-22T13:12:44.365514Z"
    }
   },
   "outputs": [],
   "source": [
    "def number_tracks(day, city):\n",
    "    '''\n",
    "    Функция принимает параметры день недели и название города, \n",
    "    а возвращает количество прослушанных композиций, \n",
    "    для которых известен жанр. \n",
    "    '''\n",
    "\n",
    "    track_list = df[df['day'] == day]\n",
    "    track_list = track_list[track_list['city'] == city]\n",
    "    track_list_count = track_list['user_id'].count()\n",
    "\n",
    "    return track_list_count"
   ]
  },
  {
   "cell_type": "code",
   "execution_count": 3,
   "id": "4b312758",
   "metadata": {
    "ExecuteTime": {
     "end_time": "2024-04-22T13:12:44.375996Z",
     "start_time": "2024-04-22T13:12:44.372149Z"
    }
   },
   "outputs": [],
   "source": [
    "def genre_weekday(df, day, time1, time2):\n",
    "    '''\n",
    "    Функция с параметрами df, day, time1, time2,\n",
    "    которая возвращает информацию о самых популярных жанрах в указанный день в\n",
    "    заданное время\n",
    "    '''\n",
    "\n",
    "    genre_df = df[df['day'] == day]\n",
    "    genre_df = genre_df[genre_df['time'] < time2]\n",
    "    genre_df = genre_df[genre_df['time'] > time1]\n",
    "    genre_df_grouped = genre_df.groupby('genre')['genre'].count()\n",
    "    genre_df_sorted = genre_df_grouped.sort_values(ascending=False)\n",
    "\n",
    "    return genre_df_sorted[:10]"
   ]
  },
  {
   "cell_type": "markdown",
   "id": "7fbd4a73",
   "metadata": {},
   "source": [
    "## Загрузка данных"
   ]
  },
  {
   "cell_type": "code",
   "execution_count": 4,
   "id": "4814ce6e",
   "metadata": {
    "ExecuteTime": {
     "end_time": "2024-04-22T13:12:44.380525Z",
     "start_time": "2024-04-22T13:12:44.377003Z"
    }
   },
   "outputs": [],
   "source": [
    "pth = r\"C:\\Users\\stepa\\Downloads\\yandex_music_project.csv\""
   ]
  },
  {
   "cell_type": "code",
   "execution_count": 5,
   "id": "cdeb6b71",
   "metadata": {
    "ExecuteTime": {
     "end_time": "2024-04-22T13:12:44.489606Z",
     "start_time": "2024-04-22T13:12:44.381532Z"
    }
   },
   "outputs": [],
   "source": [
    "if os.path.exists(pth):\n",
    "    df = pd.read_csv(pth)\n",
    "else:\n",
    "    print('Ошибка')"
   ]
  },
  {
   "cell_type": "markdown",
   "id": "1c1cec82",
   "metadata": {},
   "source": [
    "Получение первых 10 строк таблицы."
   ]
  },
  {
   "cell_type": "code",
   "execution_count": 6,
   "id": "df1d1dcd",
   "metadata": {
    "ExecuteTime": {
     "end_time": "2024-04-22T13:12:44.504257Z",
     "start_time": "2024-04-22T13:12:44.490613Z"
    }
   },
   "outputs": [
    {
     "data": {
      "text/html": [
       "<div>\n",
       "<style scoped>\n",
       "    .dataframe tbody tr th:only-of-type {\n",
       "        vertical-align: middle;\n",
       "    }\n",
       "\n",
       "    .dataframe tbody tr th {\n",
       "        vertical-align: top;\n",
       "    }\n",
       "\n",
       "    .dataframe thead th {\n",
       "        text-align: right;\n",
       "    }\n",
       "</style>\n",
       "<table border=\"1\" class=\"dataframe\">\n",
       "  <thead>\n",
       "    <tr style=\"text-align: right;\">\n",
       "      <th></th>\n",
       "      <th>userID</th>\n",
       "      <th>Track</th>\n",
       "      <th>artist</th>\n",
       "      <th>genre</th>\n",
       "      <th>City</th>\n",
       "      <th>time</th>\n",
       "      <th>Day</th>\n",
       "    </tr>\n",
       "  </thead>\n",
       "  <tbody>\n",
       "    <tr>\n",
       "      <th>0</th>\n",
       "      <td>FFB692EC</td>\n",
       "      <td>Kamigata To Boots</td>\n",
       "      <td>The Mass Missile</td>\n",
       "      <td>rock</td>\n",
       "      <td>Saint-Petersburg</td>\n",
       "      <td>20:28:33</td>\n",
       "      <td>Wednesday</td>\n",
       "    </tr>\n",
       "    <tr>\n",
       "      <th>1</th>\n",
       "      <td>55204538</td>\n",
       "      <td>Delayed Because of Accident</td>\n",
       "      <td>Andreas Rönnberg</td>\n",
       "      <td>rock</td>\n",
       "      <td>Moscow</td>\n",
       "      <td>14:07:09</td>\n",
       "      <td>Friday</td>\n",
       "    </tr>\n",
       "    <tr>\n",
       "      <th>2</th>\n",
       "      <td>20EC38</td>\n",
       "      <td>Funiculì funiculà</td>\n",
       "      <td>Mario Lanza</td>\n",
       "      <td>pop</td>\n",
       "      <td>Saint-Petersburg</td>\n",
       "      <td>20:58:07</td>\n",
       "      <td>Wednesday</td>\n",
       "    </tr>\n",
       "    <tr>\n",
       "      <th>3</th>\n",
       "      <td>A3DD03C9</td>\n",
       "      <td>Dragons in the Sunset</td>\n",
       "      <td>Fire + Ice</td>\n",
       "      <td>folk</td>\n",
       "      <td>Saint-Petersburg</td>\n",
       "      <td>08:37:09</td>\n",
       "      <td>Monday</td>\n",
       "    </tr>\n",
       "    <tr>\n",
       "      <th>4</th>\n",
       "      <td>E2DC1FAE</td>\n",
       "      <td>Soul People</td>\n",
       "      <td>Space Echo</td>\n",
       "      <td>dance</td>\n",
       "      <td>Moscow</td>\n",
       "      <td>08:34:34</td>\n",
       "      <td>Monday</td>\n",
       "    </tr>\n",
       "    <tr>\n",
       "      <th>5</th>\n",
       "      <td>842029A1</td>\n",
       "      <td>Преданная</td>\n",
       "      <td>IMPERVTOR</td>\n",
       "      <td>rusrap</td>\n",
       "      <td>Saint-Petersburg</td>\n",
       "      <td>13:09:41</td>\n",
       "      <td>Friday</td>\n",
       "    </tr>\n",
       "    <tr>\n",
       "      <th>6</th>\n",
       "      <td>4CB90AA5</td>\n",
       "      <td>True</td>\n",
       "      <td>Roman Messer</td>\n",
       "      <td>dance</td>\n",
       "      <td>Moscow</td>\n",
       "      <td>13:00:07</td>\n",
       "      <td>Wednesday</td>\n",
       "    </tr>\n",
       "    <tr>\n",
       "      <th>7</th>\n",
       "      <td>F03E1C1F</td>\n",
       "      <td>Feeling This Way</td>\n",
       "      <td>Polina Griffith</td>\n",
       "      <td>dance</td>\n",
       "      <td>Moscow</td>\n",
       "      <td>20:47:49</td>\n",
       "      <td>Wednesday</td>\n",
       "    </tr>\n",
       "    <tr>\n",
       "      <th>8</th>\n",
       "      <td>8FA1D3BE</td>\n",
       "      <td>И вновь продолжается бой</td>\n",
       "      <td>NaN</td>\n",
       "      <td>ruspop</td>\n",
       "      <td>Moscow</td>\n",
       "      <td>09:17:40</td>\n",
       "      <td>Friday</td>\n",
       "    </tr>\n",
       "    <tr>\n",
       "      <th>9</th>\n",
       "      <td>E772D5C0</td>\n",
       "      <td>Pessimist</td>\n",
       "      <td>NaN</td>\n",
       "      <td>dance</td>\n",
       "      <td>Saint-Petersburg</td>\n",
       "      <td>21:20:49</td>\n",
       "      <td>Wednesday</td>\n",
       "    </tr>\n",
       "  </tbody>\n",
       "</table>\n",
       "</div>"
      ],
      "text/plain": [
       "     userID                        Track            artist   genre  \\\n",
       "0  FFB692EC            Kamigata To Boots  The Mass Missile    rock   \n",
       "1  55204538  Delayed Because of Accident  Andreas Rönnberg    rock   \n",
       "2    20EC38            Funiculì funiculà       Mario Lanza     pop   \n",
       "3  A3DD03C9        Dragons in the Sunset        Fire + Ice    folk   \n",
       "4  E2DC1FAE                  Soul People        Space Echo   dance   \n",
       "5  842029A1                    Преданная         IMPERVTOR  rusrap   \n",
       "6  4CB90AA5                         True      Roman Messer   dance   \n",
       "7  F03E1C1F             Feeling This Way   Polina Griffith   dance   \n",
       "8  8FA1D3BE     И вновь продолжается бой               NaN  ruspop   \n",
       "9  E772D5C0                    Pessimist               NaN   dance   \n",
       "\n",
       "             City        time        Day  \n",
       "0  Saint-Petersburg  20:28:33  Wednesday  \n",
       "1            Moscow  14:07:09     Friday  \n",
       "2  Saint-Petersburg  20:58:07  Wednesday  \n",
       "3  Saint-Petersburg  08:37:09     Monday  \n",
       "4            Moscow  08:34:34     Monday  \n",
       "5  Saint-Petersburg  13:09:41     Friday  \n",
       "6            Moscow  13:00:07  Wednesday  \n",
       "7            Moscow  20:47:49  Wednesday  \n",
       "8            Moscow  09:17:40     Friday  \n",
       "9  Saint-Petersburg  21:20:49  Wednesday  "
      ]
     },
     "execution_count": 6,
     "metadata": {},
     "output_type": "execute_result"
    }
   ],
   "source": [
    "df.head(10)  # Получение первых 10 строк таблицы df"
   ]
  },
  {
   "cell_type": "markdown",
   "id": "a45e8fd3",
   "metadata": {},
   "source": [
    "Общая информация о данных таблицы `df`."
   ]
  },
  {
   "cell_type": "code",
   "execution_count": 7,
   "id": "cabe4ca7",
   "metadata": {
    "ExecuteTime": {
     "end_time": "2024-04-22T13:12:44.571141Z",
     "start_time": "2024-04-22T13:12:44.505263Z"
    }
   },
   "outputs": [
    {
     "name": "stdout",
     "output_type": "stream",
     "text": [
      "<class 'pandas.core.frame.DataFrame'>\n",
      "RangeIndex: 65079 entries, 0 to 65078\n",
      "Data columns (total 7 columns):\n",
      " #   Column    Non-Null Count  Dtype \n",
      "---  ------    --------------  ----- \n",
      " 0     userID  65079 non-null  object\n",
      " 1   Track     63848 non-null  object\n",
      " 2   artist    57876 non-null  object\n",
      " 3   genre     63881 non-null  object\n",
      " 4     City    65079 non-null  object\n",
      " 5   time      65079 non-null  object\n",
      " 6   Day       65079 non-null  object\n",
      "dtypes: object(7)\n",
      "memory usage: 3.5+ MB\n"
     ]
    }
   ],
   "source": [
    "df.info()  # Получение общей информации о данных в таблице df"
   ]
  },
  {
   "cell_type": "markdown",
   "id": "0cb90c39",
   "metadata": {},
   "source": [
    "Рассмотрим полученную информацию подробнее.\n",
    "\n",
    "Всего в таблице 7 столбцов, тип данных у каждого столбца - `object`\n",
    "\n",
    "Количество значений в столбцах различается. Значит, в данных есть пропущенные значения.\n",
    "\n",
    "**Выводы**\n",
    "\n",
    "Каждая строка таблицы содержит информацию о композициях определённого жанра в определённом исполнении, которые пользователи слушали в одном из городов в определённое время и день недели. Две проблемы, которые нужно решать: пропуски и некачественные названия столбцов. Для проверки рабочих гипотез особенно ценны столбцы `time`, `day` и `City`. Данные из столбца `genre` позволят узнать самые популярные жанры."
   ]
  },
  {
   "cell_type": "markdown",
   "id": "2320bef0",
   "metadata": {},
   "source": [
    "# Предобработка данных\n",
    "\n",
    "Исключим пропуски, переименуем столбцы, а также проверим данные на наличие дубликатов.\n",
    "\n",
    "Получаем перечень названий столбцов. В названиях колонок видны три нарушения стиля:\n",
    "1. Строчные буквы сочетаются с прописными.\n",
    "2. Встречаются пробелы.\n",
    "3. Отсутствует \"змеинный_регистр\"."
   ]
  },
  {
   "cell_type": "code",
   "execution_count": 8,
   "id": "25d3d8f0",
   "metadata": {
    "ExecuteTime": {
     "end_time": "2024-04-22T13:12:44.576286Z",
     "start_time": "2024-04-22T13:12:44.572148Z"
    }
   },
   "outputs": [
    {
     "data": {
      "text/plain": [
       "Index(['  userID', 'Track', 'artist', 'genre', '  City  ', 'time', 'Day'], dtype='object')"
      ]
     },
     "execution_count": 8,
     "metadata": {},
     "output_type": "execute_result"
    }
   ],
   "source": [
    "df.columns  # Перечень названий столбцов таблицы df"
   ]
  },
  {
   "cell_type": "markdown",
   "id": "e147cde0",
   "metadata": {},
   "source": [
    "В названиях столбцов есть пробелы, которые могут затруднять доступ к данным.\n",
    "\n",
    "Переименуем столбцы для удобства дальнейшей работы. Проверим результат.\n"
   ]
  },
  {
   "cell_type": "code",
   "execution_count": 9,
   "id": "9b6f7a1b",
   "metadata": {
    "ExecuteTime": {
     "end_time": "2024-04-22T13:12:44.585353Z",
     "start_time": "2024-04-22T13:12:44.579294Z"
    }
   },
   "outputs": [],
   "source": [
    "df = df.rename(columns={'  userID': 'user_id', 'Track': 'track',\n",
    "               '  City  ': 'city', 'Day': 'day'})  # Переименование столбцов"
   ]
  },
  {
   "cell_type": "code",
   "execution_count": 10,
   "id": "0dcc13da",
   "metadata": {
    "ExecuteTime": {
     "end_time": "2024-04-22T13:12:44.591466Z",
     "start_time": "2024-04-22T13:12:44.587359Z"
    }
   },
   "outputs": [
    {
     "data": {
      "text/plain": [
       "Index(['user_id', 'track', 'artist', 'genre', 'city', 'time', 'day'], dtype='object')"
      ]
     },
     "execution_count": 10,
     "metadata": {},
     "output_type": "execute_result"
    }
   ],
   "source": [
    "df.columns  # Проверка результатов - перечень названий столбцов"
   ]
  },
  {
   "cell_type": "markdown",
   "id": "1c2b16d5",
   "metadata": {},
   "source": [
    "Проверим данные на наличие пропусков."
   ]
  },
  {
   "cell_type": "code",
   "execution_count": 11,
   "id": "75df137d",
   "metadata": {
    "ExecuteTime": {
     "end_time": "2024-04-22T13:12:44.656212Z",
     "start_time": "2024-04-22T13:12:44.592472Z"
    }
   },
   "outputs": [
    {
     "data": {
      "text/plain": [
       "user_id       0\n",
       "track      1231\n",
       "artist     7203\n",
       "genre      1198\n",
       "city          0\n",
       "time          0\n",
       "day           0\n",
       "dtype: int64"
      ]
     },
     "execution_count": 11,
     "metadata": {},
     "output_type": "execute_result"
    }
   ],
   "source": [
    "df.isna().sum()  # Подсчёт пропусков"
   ]
  },
  {
   "cell_type": "markdown",
   "id": "21296497",
   "metadata": {},
   "source": [
    "Пустые значения свидетельствуют, что для некоторых треков доступна не вся информация. Причины могут быть разные: скажем, не назван конкретный исполнитель народной песни. Хуже, если проблемы с записью данных. Каждый отдельный случай необходимо разобрать и выявить причину.\n",
    "\n",
    "Заменяем пропущенные значения в столбцах с названием трека, жанра и исполнителя на строку `unknown`. После этой операции нужно убедиться, что таблица больше не содержит пропусков."
   ]
  },
  {
   "cell_type": "code",
   "execution_count": 12,
   "id": "53bc5da2",
   "metadata": {
    "ExecuteTime": {
     "end_time": "2024-04-22T13:12:44.680621Z",
     "start_time": "2024-04-22T13:12:44.657219Z"
    }
   },
   "outputs": [],
   "source": [
    "# Перебор названий столбцов в цикле и замена пропущенных значений на 'unknown'\n",
    "columns_to_replace = ['track', 'artist', 'genre']\n",
    "for column in columns_to_replace:\n",
    "    df[column] = df[column].fillna('unknown')"
   ]
  },
  {
   "cell_type": "code",
   "execution_count": 13,
   "id": "e3a57279",
   "metadata": {
    "ExecuteTime": {
     "end_time": "2024-04-22T13:12:44.747354Z",
     "start_time": "2024-04-22T13:12:44.682134Z"
    }
   },
   "outputs": [
    {
     "data": {
      "text/plain": [
       "user_id    0\n",
       "track      0\n",
       "artist     0\n",
       "genre      0\n",
       "city       0\n",
       "time       0\n",
       "day        0\n",
       "dtype: int64"
      ]
     },
     "execution_count": 13,
     "metadata": {},
     "output_type": "execute_result"
    }
   ],
   "source": [
    "df.isna().sum()  # Подсчёт пропусков"
   ]
  },
  {
   "cell_type": "markdown",
   "id": "b582de07",
   "metadata": {},
   "source": [
    "Необходимо установить наличие дубликатов. Если найдутся, удаляем, и проверяем, все ли удалились."
   ]
  },
  {
   "cell_type": "code",
   "execution_count": 14,
   "id": "1ecfd4d8",
   "metadata": {
    "ExecuteTime": {
     "end_time": "2024-04-22T13:12:44.796427Z",
     "start_time": "2024-04-22T13:12:44.748362Z"
    }
   },
   "outputs": [
    {
     "data": {
      "text/plain": [
       "3826"
      ]
     },
     "execution_count": 14,
     "metadata": {},
     "output_type": "execute_result"
    }
   ],
   "source": [
    "df.duplicated().sum()  # Подсчёт явных дубликатов"
   ]
  },
  {
   "cell_type": "code",
   "execution_count": 15,
   "id": "66bb2d53",
   "metadata": {
    "ExecuteTime": {
     "end_time": "2024-04-22T13:12:44.859768Z",
     "start_time": "2024-04-22T13:12:44.797435Z"
    }
   },
   "outputs": [],
   "source": [
    "df = df.drop_duplicates()  # Удаление явных дубликатов"
   ]
  },
  {
   "cell_type": "code",
   "execution_count": 16,
   "id": "b6e28b0c",
   "metadata": {
    "ExecuteTime": {
     "end_time": "2024-04-22T13:12:44.904616Z",
     "start_time": "2024-04-22T13:12:44.860775Z"
    }
   },
   "outputs": [
    {
     "data": {
      "text/plain": [
       "0"
      ]
     },
     "execution_count": 16,
     "metadata": {},
     "output_type": "execute_result"
    }
   ],
   "source": [
    "df.duplicated().sum()  # Проверка на отсутствие дубликатов"
   ]
  },
  {
   "cell_type": "markdown",
   "id": "95b74c5d",
   "metadata": {},
   "source": [
    "Теперь избавимся от неявных дубликатов в колонке `genre`. Например, название одного и того же жанра может быть записано немного по-разному."
   ]
  },
  {
   "cell_type": "code",
   "execution_count": 17,
   "id": "4d1c0875",
   "metadata": {
    "ExecuteTime": {
     "end_time": "2024-04-22T13:12:44.942805Z",
     "start_time": "2024-04-22T13:12:44.905622Z"
    }
   },
   "outputs": [
    {
     "data": {
      "text/plain": [
       "array(['acid', 'acoustic', 'action', 'adult', 'africa', 'afrikaans',\n",
       "       'alternative', 'alternativepunk', 'ambient', 'americana',\n",
       "       'animated', 'anime', 'arabesk', 'arabic', 'arena',\n",
       "       'argentinetango', 'art', 'audiobook', 'author', 'avantgarde',\n",
       "       'axé', 'baile', 'balkan', 'beats', 'bigroom', 'black', 'bluegrass',\n",
       "       'blues', 'bollywood', 'bossa', 'brazilian', 'breakbeat', 'breaks',\n",
       "       'broadway', 'cantautori', 'cantopop', 'canzone', 'caribbean',\n",
       "       'caucasian', 'celtic', 'chamber', 'chanson', 'children', 'chill',\n",
       "       'chinese', 'choral', 'christian', 'christmas', 'classical',\n",
       "       'classicmetal', 'club', 'colombian', 'comedy', 'conjazz',\n",
       "       'contemporary', 'country', 'cuban', 'dance', 'dancehall',\n",
       "       'dancepop', 'dark', 'death', 'deep', 'deutschrock', 'deutschspr',\n",
       "       'dirty', 'disco', 'dnb', 'documentary', 'downbeat', 'downtempo',\n",
       "       'drum', 'dub', 'dubstep', 'eastern', 'easy', 'electronic',\n",
       "       'electropop', 'emo', 'entehno', 'epicmetal', 'estrada', 'ethnic',\n",
       "       'eurofolk', 'european', 'experimental', 'extrememetal', 'fado',\n",
       "       'fairytail', 'film', 'fitness', 'flamenco', 'folk', 'folklore',\n",
       "       'folkmetal', 'folkrock', 'folktronica', 'forró', 'frankreich',\n",
       "       'französisch', 'french', 'funk', 'future', 'gangsta', 'garage',\n",
       "       'german', 'ghazal', 'gitarre', 'glitch', 'gospel', 'gothic',\n",
       "       'grime', 'grunge', 'gypsy', 'handsup', \"hard'n'heavy\", 'hardcore',\n",
       "       'hardstyle', 'hardtechno', 'hip', 'hip-hop', 'hiphop',\n",
       "       'historisch', 'holiday', 'hop', 'horror', 'house', 'hymn', 'idm',\n",
       "       'independent', 'indian', 'indie', 'indipop', 'industrial',\n",
       "       'inspirational', 'instrumental', 'international', 'irish', 'jam',\n",
       "       'japanese', 'jazz', 'jewish', 'jpop', 'jungle', 'k-pop',\n",
       "       'karadeniz', 'karaoke', 'kayokyoku', 'korean', 'laiko', 'latin',\n",
       "       'latino', 'leftfield', 'local', 'lounge', 'loungeelectronic',\n",
       "       'lovers', 'malaysian', 'mandopop', 'marschmusik', 'meditative',\n",
       "       'mediterranean', 'melodic', 'metal', 'metalcore', 'mexican',\n",
       "       'middle', 'minimal', 'miscellaneous', 'modern', 'mood', 'mpb',\n",
       "       'muslim', 'native', 'neoklassik', 'neue', 'new', 'newage',\n",
       "       'newwave', 'nu', 'nujazz', 'numetal', 'oceania', 'old', 'opera',\n",
       "       'orchestral', 'other', 'piano', 'podcasts', 'pop', 'popdance',\n",
       "       'popelectronic', 'popeurodance', 'poprussian', 'post',\n",
       "       'posthardcore', 'postrock', 'power', 'progmetal', 'progressive',\n",
       "       'psychedelic', 'punjabi', 'punk', 'quebecois', 'ragga', 'ram',\n",
       "       'rancheras', 'rap', 'rave', 'reggae', 'reggaeton', 'regional',\n",
       "       'relax', 'religious', 'retro', 'rhythm', 'rnb', 'rnr', 'rock',\n",
       "       'rockabilly', 'rockalternative', 'rockindie', 'rockother',\n",
       "       'romance', 'roots', 'ruspop', 'rusrap', 'rusrock', 'russian',\n",
       "       'salsa', 'samba', 'scenic', 'schlager', 'self', 'sertanejo',\n",
       "       'shanson', 'shoegazing', 'showtunes', 'singer', 'ska', 'skarock',\n",
       "       'slow', 'smooth', 'soft', 'soul', 'soulful', 'sound', 'soundtrack',\n",
       "       'southern', 'specialty', 'speech', 'spiritual', 'sport',\n",
       "       'stonerrock', 'surf', 'swing', 'synthpop', 'synthrock',\n",
       "       'sängerportrait', 'tango', 'tanzorchester', 'taraftar', 'tatar',\n",
       "       'tech', 'techno', 'teen', 'thrash', 'top', 'traditional',\n",
       "       'tradjazz', 'trance', 'tribal', 'trip', 'triphop', 'tropical',\n",
       "       'türk', 'türkçe', 'ukrrock', 'unknown', 'urban', 'uzbek',\n",
       "       'variété', 'vi', 'videogame', 'vocal', 'western', 'world',\n",
       "       'worldbeat', 'ïîï', 'электроника'], dtype=object)"
      ]
     },
     "execution_count": 17,
     "metadata": {},
     "output_type": "execute_result"
    }
   ],
   "source": [
    "# Просмотр уникальных названий жанров\n",
    "genre_columns = df['genre']\n",
    "genre_columns = genre_columns.sort_values()\n",
    "genre_columns.unique()"
   ]
  },
  {
   "cell_type": "markdown",
   "id": "f34d70bf",
   "metadata": {},
   "source": [
    "После просмотра списка были найдены неявные дубликаты названия `hiphop`. Это могут быть названия с ошибками или альтернативные названия того же жанра.\n",
    "\n",
    "Найденные неявные дубликаты:\n",
    "* *hip*,\n",
    "* *hop*,\n",
    "* *hip-hop*.\n",
    "\n",
    "Очистим от них таблицу, после этой операции нужно убедиться, что таблица больше не содержит неявных дубликатов."
   ]
  },
  {
   "cell_type": "code",
   "execution_count": 18,
   "id": "f0045ead",
   "metadata": {
    "ExecuteTime": {
     "end_time": "2024-04-22T13:12:44.959127Z",
     "start_time": "2024-04-22T13:12:44.943812Z"
    }
   },
   "outputs": [],
   "source": [
    "# Устранение неявных дубликатов\n",
    "duplicates = ['hip', 'hop', 'hip-hop']\n",
    "name = 'hiphop'\n",
    "df['genre'] = df['genre'].replace(duplicates, name)"
   ]
  },
  {
   "cell_type": "markdown",
   "id": "388a218f",
   "metadata": {},
   "source": [
    "Проверим, что заменили неправильные названия."
   ]
  },
  {
   "cell_type": "code",
   "execution_count": 19,
   "id": "28fe1733",
   "metadata": {
    "ExecuteTime": {
     "end_time": "2024-04-22T13:12:44.997502Z",
     "start_time": "2024-04-22T13:12:44.960134Z"
    }
   },
   "outputs": [
    {
     "data": {
      "text/plain": [
       "array(['acid', 'acoustic', 'action', 'adult', 'africa', 'afrikaans',\n",
       "       'alternative', 'alternativepunk', 'ambient', 'americana',\n",
       "       'animated', 'anime', 'arabesk', 'arabic', 'arena',\n",
       "       'argentinetango', 'art', 'audiobook', 'author', 'avantgarde',\n",
       "       'axé', 'baile', 'balkan', 'beats', 'bigroom', 'black', 'bluegrass',\n",
       "       'blues', 'bollywood', 'bossa', 'brazilian', 'breakbeat', 'breaks',\n",
       "       'broadway', 'cantautori', 'cantopop', 'canzone', 'caribbean',\n",
       "       'caucasian', 'celtic', 'chamber', 'chanson', 'children', 'chill',\n",
       "       'chinese', 'choral', 'christian', 'christmas', 'classical',\n",
       "       'classicmetal', 'club', 'colombian', 'comedy', 'conjazz',\n",
       "       'contemporary', 'country', 'cuban', 'dance', 'dancehall',\n",
       "       'dancepop', 'dark', 'death', 'deep', 'deutschrock', 'deutschspr',\n",
       "       'dirty', 'disco', 'dnb', 'documentary', 'downbeat', 'downtempo',\n",
       "       'drum', 'dub', 'dubstep', 'eastern', 'easy', 'electronic',\n",
       "       'electropop', 'emo', 'entehno', 'epicmetal', 'estrada', 'ethnic',\n",
       "       'eurofolk', 'european', 'experimental', 'extrememetal', 'fado',\n",
       "       'fairytail', 'film', 'fitness', 'flamenco', 'folk', 'folklore',\n",
       "       'folkmetal', 'folkrock', 'folktronica', 'forró', 'frankreich',\n",
       "       'französisch', 'french', 'funk', 'future', 'gangsta', 'garage',\n",
       "       'german', 'ghazal', 'gitarre', 'glitch', 'gospel', 'gothic',\n",
       "       'grime', 'grunge', 'gypsy', 'handsup', \"hard'n'heavy\", 'hardcore',\n",
       "       'hardstyle', 'hardtechno', 'hiphop', 'historisch', 'holiday',\n",
       "       'horror', 'house', 'hymn', 'idm', 'independent', 'indian', 'indie',\n",
       "       'indipop', 'industrial', 'inspirational', 'instrumental',\n",
       "       'international', 'irish', 'jam', 'japanese', 'jazz', 'jewish',\n",
       "       'jpop', 'jungle', 'k-pop', 'karadeniz', 'karaoke', 'kayokyoku',\n",
       "       'korean', 'laiko', 'latin', 'latino', 'leftfield', 'local',\n",
       "       'lounge', 'loungeelectronic', 'lovers', 'malaysian', 'mandopop',\n",
       "       'marschmusik', 'meditative', 'mediterranean', 'melodic', 'metal',\n",
       "       'metalcore', 'mexican', 'middle', 'minimal', 'miscellaneous',\n",
       "       'modern', 'mood', 'mpb', 'muslim', 'native', 'neoklassik', 'neue',\n",
       "       'new', 'newage', 'newwave', 'nu', 'nujazz', 'numetal', 'oceania',\n",
       "       'old', 'opera', 'orchestral', 'other', 'piano', 'podcasts', 'pop',\n",
       "       'popdance', 'popelectronic', 'popeurodance', 'poprussian', 'post',\n",
       "       'posthardcore', 'postrock', 'power', 'progmetal', 'progressive',\n",
       "       'psychedelic', 'punjabi', 'punk', 'quebecois', 'ragga', 'ram',\n",
       "       'rancheras', 'rap', 'rave', 'reggae', 'reggaeton', 'regional',\n",
       "       'relax', 'religious', 'retro', 'rhythm', 'rnb', 'rnr', 'rock',\n",
       "       'rockabilly', 'rockalternative', 'rockindie', 'rockother',\n",
       "       'romance', 'roots', 'ruspop', 'rusrap', 'rusrock', 'russian',\n",
       "       'salsa', 'samba', 'scenic', 'schlager', 'self', 'sertanejo',\n",
       "       'shanson', 'shoegazing', 'showtunes', 'singer', 'ska', 'skarock',\n",
       "       'slow', 'smooth', 'soft', 'soul', 'soulful', 'sound', 'soundtrack',\n",
       "       'southern', 'specialty', 'speech', 'spiritual', 'sport',\n",
       "       'stonerrock', 'surf', 'swing', 'synthpop', 'synthrock',\n",
       "       'sängerportrait', 'tango', 'tanzorchester', 'taraftar', 'tatar',\n",
       "       'tech', 'techno', 'teen', 'thrash', 'top', 'traditional',\n",
       "       'tradjazz', 'trance', 'tribal', 'trip', 'triphop', 'tropical',\n",
       "       'türk', 'türkçe', 'ukrrock', 'unknown', 'urban', 'uzbek',\n",
       "       'variété', 'vi', 'videogame', 'vocal', 'western', 'world',\n",
       "       'worldbeat', 'ïîï', 'электроника'], dtype=object)"
      ]
     },
     "execution_count": 19,
     "metadata": {},
     "output_type": "execute_result"
    }
   ],
   "source": [
    "# Проверка на неявные дубликаты\n",
    "genre_columns = df['genre']\n",
    "genre_columns = genre_columns.sort_values()\n",
    "genre_columns.unique()"
   ]
  },
  {
   "cell_type": "markdown",
   "id": "50a55fe3",
   "metadata": {},
   "source": [
    "**Вывод**\n",
    "\n",
    "На этапе предобработки в данных обнаружились не только пропуски и проблемы с названиями столбцов, но и всяческие виды дубликатов. Их удаление позволит провести анализ точнее. Поскольку сведения о жанрах важно сохранить для анализа, не просто удаляем все пропущенные значения, но заполним пропущенные имена исполнителей и названия треков. Имена столбцов теперь корректны и удобны для дальнейшей работы."
   ]
  },
  {
   "cell_type": "markdown",
   "id": "db9a2f25",
   "metadata": {},
   "source": [
    "# Действительно ли музыку в разных городах слушают по-разному?"
   ]
  },
  {
   "cell_type": "markdown",
   "id": "89a416e0",
   "metadata": {},
   "source": [
    "Первая гипотеза утверждает, что пользователи по-разному слушают музыку в Москве и Санкт-Петербурге. Проверяем это предположение по данным о трёх днях недели — понедельнике, среде и пятнице.\n",
    "\n",
    "Для каждого города устанавливаем количество прослушанных в эти дни композиций с известным жанром, и сравниваем результаты.\n",
    "\n",
    "Оценим активность пользователей в каждом городе. Сгруппируем данные по городу и посчитаем прослушивания в каждой группе."
   ]
  },
  {
   "cell_type": "markdown",
   "id": "fce317d6",
   "metadata": {},
   "source": [
    "Оценим активность пользователей в каждом городе. Сгруппируем данные по городу и посчитаем прослушивания в каждой группе"
   ]
  },
  {
   "cell_type": "code",
   "execution_count": 20,
   "id": "297cfa55",
   "metadata": {
    "ExecuteTime": {
     "end_time": "2024-04-22T13:12:45.010114Z",
     "start_time": "2024-04-22T13:12:44.998510Z"
    }
   },
   "outputs": [
    {
     "data": {
      "text/plain": [
       "city\n",
       "Moscow              42741\n",
       "Saint-Petersburg    18512\n",
       "Name: time, dtype: int64"
      ]
     },
     "execution_count": 20,
     "metadata": {},
     "output_type": "execute_result"
    }
   ],
   "source": [
    "df.groupby('city')['time'].count()  # Подсчёт прослушиваний в каждом городе"
   ]
  },
  {
   "cell_type": "markdown",
   "id": "57d87478",
   "metadata": {},
   "source": [
    "В Москве прослушиваний больше, чем в Петербурге. Из этого не следует, что московские пользователи чаще слушают музыку. Просто самих пользователей в Москве больше.\n",
    "\n",
    "\n",
    "Сгруппируем данные по дню недели и подсчитаем прослушанные в понедельник, среду и пятницу композиции, для которых известен жанр."
   ]
  },
  {
   "cell_type": "code",
   "execution_count": 21,
   "id": "cabe4c85",
   "metadata": {
    "ExecuteTime": {
     "end_time": "2024-04-22T13:12:45.022260Z",
     "start_time": "2024-04-22T13:12:45.011121Z"
    }
   },
   "outputs": [
    {
     "data": {
      "text/plain": [
       "day\n",
       "Friday       21840\n",
       "Monday       21354\n",
       "Wednesday    18059\n",
       "Name: time, dtype: int64"
      ]
     },
     "execution_count": 21,
     "metadata": {},
     "output_type": "execute_result"
    }
   ],
   "source": [
    "# Подсчёт прослушиваний в каждый из трёх дней\n",
    "df.groupby('day')['time'].count()"
   ]
  },
  {
   "cell_type": "markdown",
   "id": "b4cf6e8e",
   "metadata": {},
   "source": [
    "Понедельник и пятница — время для музыки; по средам пользователи немного больше вовлечены в работу."
   ]
  },
  {
   "cell_type": "markdown",
   "id": "2ab428fa",
   "metadata": {},
   "source": [
    "Проверяем количество прослушанных композиций для каждого города и понедельника, затем среды и пятницы. Для этого была написана функция `number_tracks()`"
   ]
  },
  {
   "cell_type": "code",
   "execution_count": 22,
   "id": "999ca446",
   "metadata": {
    "ExecuteTime": {
     "end_time": "2024-04-22T13:12:45.046324Z",
     "start_time": "2024-04-22T13:12:45.022766Z"
    }
   },
   "outputs": [
    {
     "data": {
      "text/plain": [
       "15740"
      ]
     },
     "execution_count": 22,
     "metadata": {},
     "output_type": "execute_result"
    }
   ],
   "source": [
    "# Количество прослушиваний в Москве по понедельникам\n",
    "number_tracks('Monday', 'Moscow')"
   ]
  },
  {
   "cell_type": "code",
   "execution_count": 23,
   "id": "089178be",
   "metadata": {
    "ExecuteTime": {
     "end_time": "2024-04-22T13:12:45.062359Z",
     "start_time": "2024-04-22T13:12:45.047332Z"
    }
   },
   "outputs": [
    {
     "data": {
      "text/plain": [
       "5614"
      ]
     },
     "execution_count": 23,
     "metadata": {},
     "output_type": "execute_result"
    }
   ],
   "source": [
    "# Количество прослушиваний в Санкт-Петербурге по понедельникам\n",
    "number_tracks('Monday', 'Saint-Petersburg')"
   ]
  },
  {
   "cell_type": "code",
   "execution_count": 24,
   "id": "b15fe07e",
   "metadata": {
    "ExecuteTime": {
     "end_time": "2024-04-22T13:12:45.078677Z",
     "start_time": "2024-04-22T13:12:45.063782Z"
    }
   },
   "outputs": [
    {
     "data": {
      "text/plain": [
       "11056"
      ]
     },
     "execution_count": 24,
     "metadata": {},
     "output_type": "execute_result"
    }
   ],
   "source": [
    "# Количество прослушиваний в Москве по средам\n",
    "number_tracks('Wednesday', 'Moscow')"
   ]
  },
  {
   "cell_type": "code",
   "execution_count": 25,
   "id": "b11b2d5d",
   "metadata": {
    "ExecuteTime": {
     "end_time": "2024-04-22T13:12:45.094657Z",
     "start_time": "2024-04-22T13:12:45.079685Z"
    }
   },
   "outputs": [
    {
     "data": {
      "text/plain": [
       "7003"
      ]
     },
     "execution_count": 25,
     "metadata": {},
     "output_type": "execute_result"
    }
   ],
   "source": [
    "# Количество прослушиваний в Санкт-Петербурге по средам\n",
    "number_tracks('Wednesday', 'Saint-Petersburg')"
   ]
  },
  {
   "cell_type": "code",
   "execution_count": 26,
   "id": "5da3c3f8",
   "metadata": {
    "ExecuteTime": {
     "end_time": "2024-04-22T13:12:45.112844Z",
     "start_time": "2024-04-22T13:12:45.095663Z"
    }
   },
   "outputs": [
    {
     "data": {
      "text/plain": [
       "15945"
      ]
     },
     "execution_count": 26,
     "metadata": {},
     "output_type": "execute_result"
    }
   ],
   "source": [
    "# Количество прослушиваний в Москве по пятницам\n",
    "number_tracks('Friday', 'Moscow')"
   ]
  },
  {
   "cell_type": "code",
   "execution_count": 27,
   "id": "f4ceae47",
   "metadata": {
    "ExecuteTime": {
     "end_time": "2024-04-22T13:12:45.133956Z",
     "start_time": "2024-04-22T13:12:45.117908Z"
    }
   },
   "outputs": [
    {
     "data": {
      "text/plain": [
       "5895"
      ]
     },
     "execution_count": 27,
     "metadata": {},
     "output_type": "execute_result"
    }
   ],
   "source": [
    "# Количество прослушиваний в Санкт-Петербурге по пятницам\n",
    "number_tracks('Friday', 'Saint-Petersburg')"
   ]
  },
  {
   "cell_type": "markdown",
   "id": "eec7c1c5",
   "metadata": {},
   "source": [
    "Сведём полученную информацию в одну таблицу, где `['city', 'monday', 'wednesday', 'friday']` названия столбцов."
   ]
  },
  {
   "cell_type": "code",
   "execution_count": 28,
   "id": "916ab448",
   "metadata": {
    "ExecuteTime": {
     "end_time": "2024-04-22T13:12:45.142981Z",
     "start_time": "2024-04-22T13:12:45.134961Z"
    }
   },
   "outputs": [
    {
     "data": {
      "text/html": [
       "<div>\n",
       "<style scoped>\n",
       "    .dataframe tbody tr th:only-of-type {\n",
       "        vertical-align: middle;\n",
       "    }\n",
       "\n",
       "    .dataframe tbody tr th {\n",
       "        vertical-align: top;\n",
       "    }\n",
       "\n",
       "    .dataframe thead th {\n",
       "        text-align: right;\n",
       "    }\n",
       "</style>\n",
       "<table border=\"1\" class=\"dataframe\">\n",
       "  <thead>\n",
       "    <tr style=\"text-align: right;\">\n",
       "      <th></th>\n",
       "      <th>city</th>\n",
       "      <th>monday</th>\n",
       "      <th>wednesday</th>\n",
       "      <th>friday</th>\n",
       "    </tr>\n",
       "  </thead>\n",
       "  <tbody>\n",
       "    <tr>\n",
       "      <th>0</th>\n",
       "      <td>Saint-Petersburg</td>\n",
       "      <td>5614</td>\n",
       "      <td>7003</td>\n",
       "      <td>5895</td>\n",
       "    </tr>\n",
       "    <tr>\n",
       "      <th>1</th>\n",
       "      <td>Moscow</td>\n",
       "      <td>15740</td>\n",
       "      <td>11056</td>\n",
       "      <td>15945</td>\n",
       "    </tr>\n",
       "  </tbody>\n",
       "</table>\n",
       "</div>"
      ],
      "text/plain": [
       "               city  monday  wednesday  friday\n",
       "0  Saint-Petersburg    5614       7003    5895\n",
       "1            Moscow   15740      11056   15945"
      ]
     },
     "execution_count": 28,
     "metadata": {},
     "output_type": "execute_result"
    }
   ],
   "source": [
    "data = [\n",
    "    ['Saint-Petersburg', 5614, 7003, 5895],\n",
    "    ['Moscow', 15740, 11056, 15945]\n",
    "]  # Таблица с результатами\n",
    "columns = ['city', 'monday', 'wednesday', 'friday']\n",
    "info = pd.DataFrame(data=data, columns=columns)\n",
    "info"
   ]
  },
  {
   "cell_type": "markdown",
   "id": "57e22239",
   "metadata": {},
   "source": [
    "**Выводы**\n",
    "\n",
    "Данные показывают разницу поведения пользователей:\n",
    "\n",
    "- В Москве пик прослушиваний приходится на понедельник и пятницу, а в среду заметен спад.\n",
    "- В Петербурге, наоборот, больше слушают музыку по средам. Активность в понедельник и пятницу здесь почти в равной мере уступает среде.\n",
    "\n",
    "Значит, данные говорят в пользу первой гипотезы."
   ]
  },
  {
   "cell_type": "markdown",
   "id": "4e697247",
   "metadata": {},
   "source": [
    "# Утро понедельника и вечер пятницы — разная музыка или одна и та же?"
   ]
  },
  {
   "cell_type": "markdown",
   "id": "6e574571",
   "metadata": {},
   "source": [
    "Согласно второй гипотезе, утром в понедельник в Москве преобладают одни жанры, а в Петербурге — другие. Так же и вечером пятницы преобладают разные жанры — в зависимости от города."
   ]
  },
  {
   "cell_type": "markdown",
   "id": "ef7b07df",
   "metadata": {},
   "source": [
    "Получим таблицы данных по Москве `moscow_general` и по Санкт-Петербургу `spb_general`."
   ]
  },
  {
   "cell_type": "code",
   "execution_count": 29,
   "id": "c6c142e0",
   "metadata": {
    "ExecuteTime": {
     "end_time": "2024-04-22T13:12:45.154673Z",
     "start_time": "2024-04-22T13:12:45.143988Z"
    }
   },
   "outputs": [],
   "source": [
    "moscow_general = df[df['city'] == 'Moscow']"
   ]
  },
  {
   "cell_type": "code",
   "execution_count": 30,
   "id": "403184c0",
   "metadata": {
    "ExecuteTime": {
     "end_time": "2024-04-22T13:12:45.165196Z",
     "start_time": "2024-04-22T13:12:45.155680Z"
    }
   },
   "outputs": [],
   "source": [
    "spb_general = df[df['city'] == 'Saint-Petersburg']"
   ]
  },
  {
   "cell_type": "markdown",
   "id": "22f54bc4",
   "metadata": {},
   "source": [
    "Создаём функцию `genre_weekday()`, которая возвращает список жанров по запрошенному дню недели и времени суток с такого-то часа по такой-то."
   ]
  },
  {
   "cell_type": "markdown",
   "id": "4ba89e3e",
   "metadata": {},
   "source": [
    "Cравниваем полученные результаты по таблице для Москвы и Санкт-Петербурга в понедельник утром (с 7 до 11) и в пятницу вечером (с 17 до 23)."
   ]
  },
  {
   "cell_type": "code",
   "execution_count": 31,
   "id": "5a75f2c6",
   "metadata": {
    "ExecuteTime": {
     "end_time": "2024-04-22T13:12:45.182255Z",
     "start_time": "2024-04-22T13:12:45.167203Z"
    }
   },
   "outputs": [
    {
     "data": {
      "text/plain": [
       "genre\n",
       "pop            781\n",
       "dance          549\n",
       "electronic     480\n",
       "rock           474\n",
       "hiphop         286\n",
       "ruspop         186\n",
       "world          181\n",
       "rusrap         175\n",
       "alternative    164\n",
       "unknown        161\n",
       "Name: genre, dtype: int64"
      ]
     },
     "execution_count": 31,
     "metadata": {},
     "output_type": "execute_result"
    }
   ],
   "source": [
    "# Вызов функции для утра понедельника в Москве\n",
    "genre_weekday(moscow_general, 'Monday', '07:00', '11:00')"
   ]
  },
  {
   "cell_type": "code",
   "execution_count": 32,
   "id": "96604a58",
   "metadata": {
    "ExecuteTime": {
     "end_time": "2024-04-22T13:12:45.193534Z",
     "start_time": "2024-04-22T13:12:45.183262Z"
    }
   },
   "outputs": [
    {
     "data": {
      "text/plain": [
       "genre\n",
       "pop            218\n",
       "dance          182\n",
       "rock           162\n",
       "electronic     147\n",
       "hiphop          80\n",
       "ruspop          64\n",
       "alternative     58\n",
       "rusrap          55\n",
       "jazz            44\n",
       "classical       40\n",
       "Name: genre, dtype: int64"
      ]
     },
     "execution_count": 32,
     "metadata": {},
     "output_type": "execute_result"
    }
   ],
   "source": [
    "# Вызов функции для утра понедельника в Петербурге\n",
    "genre_weekday(spb_general, 'Monday', '07:00', '11:00')"
   ]
  },
  {
   "cell_type": "code",
   "execution_count": 33,
   "id": "e94717dd",
   "metadata": {
    "ExecuteTime": {
     "end_time": "2024-04-22T13:12:45.213070Z",
     "start_time": "2024-04-22T13:12:45.194541Z"
    }
   },
   "outputs": [
    {
     "data": {
      "text/plain": [
       "genre\n",
       "pop            713\n",
       "rock           517\n",
       "dance          495\n",
       "electronic     482\n",
       "hiphop         273\n",
       "world          208\n",
       "ruspop         170\n",
       "alternative    163\n",
       "classical      163\n",
       "rusrap         142\n",
       "Name: genre, dtype: int64"
      ]
     },
     "execution_count": 33,
     "metadata": {},
     "output_type": "execute_result"
    }
   ],
   "source": [
    "# Вызов функции для вечера пятницы в Москве\n",
    "genre_weekday(moscow_general, 'Friday', '17:00', '23:00')"
   ]
  },
  {
   "cell_type": "code",
   "execution_count": 34,
   "id": "002b33b6",
   "metadata": {
    "ExecuteTime": {
     "end_time": "2024-04-22T13:12:45.225578Z",
     "start_time": "2024-04-22T13:12:45.214078Z"
    }
   },
   "outputs": [
    {
     "data": {
      "text/plain": [
       "genre\n",
       "pop            256\n",
       "electronic     216\n",
       "rock           216\n",
       "dance          210\n",
       "hiphop          97\n",
       "alternative     63\n",
       "jazz            61\n",
       "classical       60\n",
       "rusrap          59\n",
       "world           54\n",
       "Name: genre, dtype: int64"
      ]
     },
     "execution_count": 34,
     "metadata": {},
     "output_type": "execute_result"
    }
   ],
   "source": [
    "# Вызов функции для вечера пятницы в Петербурге\n",
    "genre_weekday(spb_general, 'Friday', '17:00', '23:00')"
   ]
  },
  {
   "cell_type": "markdown",
   "id": "d0919869",
   "metadata": {},
   "source": [
    "**Выводы**\n",
    "\n",
    "Если сравнить топ-10 жанров в понедельник утром, можно сделать такие выводы:\n",
    "\n",
    "1. В Москве и Петербурге слушают похожую музыку. Единственное различие — в московский рейтинг вошёл жанр “world”, а в петербургский — джаз и классика.\n",
    "\n",
    "2. В Москве пропущенных значений оказалось так много, что значение `'unknown'` заняло десятое место среди самых популярных жанров. Значит, пропущенные значения занимают существенную долю в данных и угрожают достоверности исследования.\n",
    "\n",
    "Вечер пятницы не меняет эту картину. Некоторые жанры поднимаются немного выше, другие спускаются, но в целом топ-10 остаётся тем же самым.\n",
    "\n",
    "Таким образом, вторая гипотеза подтвердилась лишь частично:\n",
    "* Пользователи слушают похожую музыку в начале недели и в конце.\n",
    "* Разница между Москвой и Петербургом не слишком выражена. В Москве чаще слушают русскую популярную музыку, в Петербурге — джаз.\n",
    "\n",
    "Однако пропуски в данных ставят под сомнение этот результат. В Москве их так много, что рейтинг топ-10 мог бы выглядеть иначе, если бы не утерянные  данные о жанрах."
   ]
  },
  {
   "cell_type": "markdown",
   "id": "ba2e97dd",
   "metadata": {},
   "source": [
    "# Москва и Питер — две разные столицы, два разных направления в музыке. Правда?\n",
    "\n",
    "Гипотеза: Петербург — столица рэпа, музыку этого жанра там слушают чаще, чем в Москве.  А Москва — город контрастов, в котором, тем не менее, преобладает поп-музыка."
   ]
  },
  {
   "cell_type": "markdown",
   "id": "9fef1c29",
   "metadata": {},
   "source": [
    "Сгруппируем таблицу `moscow_general` по жанру и посчитаем прослушивания треков каждого жанра методом `count()`. Затем отсортируем результат в порядке убывания и сохраним его в таблице `moscow_genres`."
   ]
  },
  {
   "cell_type": "code",
   "execution_count": 35,
   "id": "fe090126",
   "metadata": {
    "ExecuteTime": {
     "end_time": "2024-04-22T13:12:45.236609Z",
     "start_time": "2024-04-22T13:12:45.226585Z"
    }
   },
   "outputs": [
    {
     "data": {
      "text/plain": [
       "genre\n",
       "pop            5892\n",
       "dance          4435\n",
       "rock           3965\n",
       "electronic     3786\n",
       "hiphop         2096\n",
       "               ... \n",
       "neoklassik        1\n",
       "mood              1\n",
       "metalcore         1\n",
       "marschmusik       1\n",
       "ïîï               1\n",
       "Name: genre, Length: 267, dtype: int64"
      ]
     },
     "execution_count": 35,
     "metadata": {},
     "output_type": "execute_result"
    }
   ],
   "source": [
    "moscow_genres = moscow_general.groupby('genre')['genre'].count()\n",
    "moscow_genres = moscow_genres.sort_values(ascending=False)\n",
    "moscow_genres"
   ]
  },
  {
   "cell_type": "code",
   "execution_count": 36,
   "id": "d2145927",
   "metadata": {
    "ExecuteTime": {
     "end_time": "2024-04-22T13:12:45.242369Z",
     "start_time": "2024-04-22T13:12:45.237615Z"
    }
   },
   "outputs": [
    {
     "data": {
      "text/plain": [
       "genre\n",
       "pop            5892\n",
       "dance          4435\n",
       "rock           3965\n",
       "electronic     3786\n",
       "hiphop         2096\n",
       "classical      1616\n",
       "world          1432\n",
       "alternative    1379\n",
       "ruspop         1372\n",
       "rusrap         1161\n",
       "Name: genre, dtype: int64"
      ]
     },
     "execution_count": 36,
     "metadata": {},
     "output_type": "execute_result"
    }
   ],
   "source": [
    "moscow_genres[:10]  # Просмотр первых 10 строк moscow_genres"
   ]
  },
  {
   "cell_type": "markdown",
   "id": "ec56a308",
   "metadata": {},
   "source": [
    "Сгруппируем таблицу `spb_general` по жанру, сосчитаем численность композиций каждого жанра методом `count()`, отсортируем в порядке убывания и сохраним результат в таблице `spb_genres`.\n",
    "\n",
    "Просматриваем первые 10 строк этой таблицы. Теперь можно сравнивать два города."
   ]
  },
  {
   "cell_type": "code",
   "execution_count": 37,
   "id": "db74785f",
   "metadata": {
    "ExecuteTime": {
     "end_time": "2024-04-22T13:12:45.252441Z",
     "start_time": "2024-04-22T13:12:45.243375Z"
    }
   },
   "outputs": [
    {
     "data": {
      "text/plain": [
       "genre\n",
       "pop              2431\n",
       "dance            1932\n",
       "rock             1879\n",
       "electronic       1736\n",
       "hiphop            960\n",
       "                 ... \n",
       "international       1\n",
       "independent         1\n",
       "idm                 1\n",
       "gypsy               1\n",
       "электроника         1\n",
       "Name: genre, Length: 211, dtype: int64"
      ]
     },
     "execution_count": 37,
     "metadata": {},
     "output_type": "execute_result"
    }
   ],
   "source": [
    "spb_genres = spb_general.groupby('genre')['genre'].count()\n",
    "spb_genres = spb_genres.sort_values(ascending=False)\n",
    "spb_genres"
   ]
  },
  {
   "cell_type": "code",
   "execution_count": 38,
   "id": "6b094b86",
   "metadata": {
    "ExecuteTime": {
     "end_time": "2024-04-22T13:12:45.258780Z",
     "start_time": "2024-04-22T13:12:45.253448Z"
    }
   },
   "outputs": [
    {
     "data": {
      "text/plain": [
       "genre\n",
       "pop            2431\n",
       "dance          1932\n",
       "rock           1879\n",
       "electronic     1736\n",
       "hiphop          960\n",
       "alternative     649\n",
       "classical       646\n",
       "rusrap          564\n",
       "ruspop          538\n",
       "world           515\n",
       "Name: genre, dtype: int64"
      ]
     },
     "execution_count": 38,
     "metadata": {},
     "output_type": "execute_result"
    }
   ],
   "source": [
    "spb_genres[:10]  # Просмотр первых 10 строк spb_genres"
   ]
  },
  {
   "cell_type": "markdown",
   "id": "edcb2971",
   "metadata": {},
   "source": [
    "**Выводы**\n",
    "\n",
    "Гипотеза частично подтвердилась:\n",
    "* Поп-музыка — самый популярный жанр в Москве, как и предполагала гипотеза. Более того, в топ-10 жанров встречается близкий жанр — русская популярная музыка.\n",
    "* Вопреки ожиданиям, рэп одинаково популярен в Москве и Петербурге."
   ]
  },
  {
   "cell_type": "markdown",
   "id": "c1b21767",
   "metadata": {},
   "source": [
    "# Общий вывод"
   ]
  },
  {
   "cell_type": "markdown",
   "id": "b64a0da0",
   "metadata": {},
   "source": [
    "**Рабочие гипотезы**:\n",
    "\n",
    "* музыку в двух городах — Москве и Санкт-Петербурге — слушают в разном режиме;\n",
    "\n",
    "* списки десяти самых популярных жанров утром в понедельник и вечером в пятницу имеют характерные отличия;\n",
    "\n",
    "* население двух городов предпочитает разные музыкальные жанры.\n",
    "\n",
    "**Общие результаты**\n",
    "\n",
    "Москва и Петербург сходятся во вкусах: везде преобладает популярная музыка. При этом зависимости предпочтений от дня недели в каждом отдельном городе нет — люди постоянно слушают то, что им нравится. Но между городами в разрезе дней неделей наблюдается зеркальность относительно среды: Москва больше слушает в понедельник и пятницу, а Петербург наоборот - больше в среду, но меньше в понедельник и пятницу.\n",
    "\n",
    "**В результате:**\n",
    "* первая гипотеза потвердилась.\n",
    "* вторая гипотеза потвердилась лишь отчасти, результат мог оказаться иным, если бы не пропуски в данных.\n",
    "* третья не подведилась, если различия в предпочтениях и существуют, на основной массе пользователей они незаметны."
   ]
  }
 ],
 "metadata": {
  "hide_input": false,
  "kernelspec": {
   "display_name": "Python 3 (ipykernel)",
   "language": "python",
   "name": "python3"
  },
  "language_info": {
   "codemirror_mode": {
    "name": "ipython",
    "version": 3
   },
   "file_extension": ".py",
   "mimetype": "text/x-python",
   "name": "python",
   "nbconvert_exporter": "python",
   "pygments_lexer": "ipython3",
   "version": "3.11.4"
  },
  "toc": {
   "base_numbering": 1,
   "nav_menu": {},
   "number_sections": true,
   "sideBar": true,
   "skip_h1_title": false,
   "title_cell": "Table of Contents",
   "title_sidebar": "Contents",
   "toc_cell": false,
   "toc_position": {
    "height": "calc(100% - 180px)",
    "left": "10px",
    "top": "150px",
    "width": "384px"
   },
   "toc_section_display": true,
   "toc_window_display": true
  },
  "varInspector": {
   "cols": {
    "lenName": 16,
    "lenType": 16,
    "lenVar": 40
   },
   "kernels_config": {
    "python": {
     "delete_cmd_postfix": "",
     "delete_cmd_prefix": "del ",
     "library": "var_list.py",
     "varRefreshCmd": "print(var_dic_list())"
    },
    "r": {
     "delete_cmd_postfix": ") ",
     "delete_cmd_prefix": "rm(",
     "library": "var_list.r",
     "varRefreshCmd": "cat(var_dic_list()) "
    }
   },
   "types_to_exclude": [
    "module",
    "function",
    "builtin_function_or_method",
    "instance",
    "_Feature"
   ],
   "window_display": false
  }
 },
 "nbformat": 4,
 "nbformat_minor": 5
}
