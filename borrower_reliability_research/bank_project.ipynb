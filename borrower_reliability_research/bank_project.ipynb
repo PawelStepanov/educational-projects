{
 "cells": [
  {
   "cell_type": "markdown",
   "id": "f7ac6fdc",
   "metadata": {},
   "source": [
    "# Исследование надежности заемщиков"
   ]
  },
  {
   "cell_type": "markdown",
   "id": "1381c82e",
   "metadata": {},
   "source": [
    "**Цель исследования** — разобраться, влияет ли семейное положение и количество детей клиента на факт погашения кредита в срок. А также влияет ли уровень дохода и цели кредита на возвращения кредита в срок.\n",
    "\n",
    "Результаты исследования будут учтены при построении модели кредитного скоринга — специальной системы, которая оценивает способность потенциального заёмщика вернуть кредит банку.\n",
    "\n",
    "**План исследования**\n",
    "\n",
    "1. Сделать обзор данных \n",
    "2. Предобработка данных\n",
    "3. Анализ данных и ответы на поставленные вопросы\n",
    "\n",
    "**Согласно документации к данным:**\n",
    "* `children` — количество детей в семье\n",
    "* `days_employed` — общий трудовой стаж в днях\n",
    "* `dob_years` — возраст клиента в годах\n",
    "* `education` — уровень образования клиента\n",
    "* `education_id` — идентификатор уровня образования\n",
    "* `family_status` — семейное положение\n",
    "* `family_status_id` — идентификатор семейного положения\n",
    "* `gender` — пол клиента\n",
    "* `income_type` — тип занятости\n",
    "* `debt` — имел ли задолженность по возврату кредитов\n",
    "* `total_income` — ежемесячный доход\n",
    "* `purpose` — цель получения кредита"
   ]
  },
  {
   "cell_type": "markdown",
   "id": "db105712",
   "metadata": {},
   "source": [
    "# Изучение данных"
   ]
  },
  {
   "cell_type": "markdown",
   "id": "b8feb9da",
   "metadata": {},
   "source": [
    "Изучим данные, предоставленные сервисом для проекта."
   ]
  },
  {
   "cell_type": "markdown",
   "id": "0fb908ba",
   "metadata": {},
   "source": [
    "## Импорт библиотек"
   ]
  },
  {
   "cell_type": "code",
   "execution_count": 1,
   "id": "7241df1c",
   "metadata": {
    "ExecuteTime": {
     "end_time": "2024-04-22T13:04:16.812177Z",
     "start_time": "2024-04-22T13:04:16.293071Z"
    }
   },
   "outputs": [],
   "source": [
    "import os\n",
    "\n",
    "import pandas as pd # импорт библиотеки pandas"
   ]
  },
  {
   "cell_type": "markdown",
   "id": "90264be1",
   "metadata": {},
   "source": [
    "## Функции"
   ]
  },
  {
   "cell_type": "code",
   "execution_count": 2,
   "id": "9085226b",
   "metadata": {
    "ExecuteTime": {
     "end_time": "2024-04-22T13:04:16.817969Z",
     "start_time": "2024-04-22T13:04:16.813183Z"
    }
   },
   "outputs": [],
   "source": [
    "def categorize_income(income):\n",
    "    \n",
    "    '''\n",
    "    Функция определяет категорию клиента\n",
    "    в зависимости от его дохода\n",
    "    '''\n",
    "    \n",
    "    try:\n",
    "        if 0 <= income <= 30000:\n",
    "            return 'E'\n",
    "        elif 30001 <= income <= 50000:\n",
    "            return 'D'\n",
    "        elif 50001 <= income <= 200000:\n",
    "            return 'C'\n",
    "        elif 200001 <= income <= 1000000:\n",
    "            return 'B'\n",
    "        elif income >= 1000001:\n",
    "            return 'A'\n",
    "    except:\n",
    "        pass"
   ]
  },
  {
   "cell_type": "code",
   "execution_count": 3,
   "id": "15419145",
   "metadata": {
    "ExecuteTime": {
     "end_time": "2024-04-22T13:04:16.823866Z",
     "start_time": "2024-04-22T13:04:16.819482Z"
    }
   },
   "outputs": [],
   "source": [
    "def categorize_purpose(row):\n",
    "    \n",
    "    '''\n",
    "    Функция определяет категорию для\n",
    "    цели получения кредита\n",
    "    '''\n",
    "    \n",
    "    try:\n",
    "        if 'автом' in row:\n",
    "            return 'операции с автомобилем'\n",
    "        elif 'жил' in row or 'недвиж' in row:\n",
    "            return 'операции с недвижимостью'\n",
    "        elif 'свад' in row:\n",
    "            return 'проведение свадьбы'\n",
    "        elif 'образов' in row:\n",
    "            return 'получение образования'\n",
    "    except:\n",
    "        return 'нет категории'"
   ]
  },
  {
   "cell_type": "code",
   "execution_count": 4,
   "id": "74780a42",
   "metadata": {
    "ExecuteTime": {
     "end_time": "2024-04-22T13:04:16.829385Z",
     "start_time": "2024-04-22T13:04:16.824873Z"
    }
   },
   "outputs": [],
   "source": [
    "def que(category):\n",
    "    \n",
    "    '''\n",
    "    Функция создает сводную таблицу для\n",
    "    определения общего количества выданных кредитов,\n",
    "    всех должников и долю должников от общего количества\n",
    "    \n",
    "    '''\n",
    "    \n",
    "    data_temp = temp.pivot_table(index=category, values='debt', aggfunc=['count', 'sum', 'mean'])\n",
    "    data_temp.columns = ['Всего кредитополучателей', 'Всего должников', 'Доля должников']\n",
    "    # Оформим таблицу цветным градиентом\n",
    "    display(data_temp.style.format(\"{:.3f}\").background_gradient(cmap='Blues', axis=0))"
   ]
  },
  {
   "cell_type": "markdown",
   "id": "93ec61c4",
   "metadata": {},
   "source": [
    "## Загрузка данных"
   ]
  },
  {
   "cell_type": "code",
   "execution_count": 5,
   "id": "6de66d2e",
   "metadata": {
    "ExecuteTime": {
     "end_time": "2024-04-22T13:04:16.833510Z",
     "start_time": "2024-04-22T13:04:16.830406Z"
    }
   },
   "outputs": [],
   "source": [
    "pth = r\"C:\\Users\\stepa\\Downloads\\data.csv\""
   ]
  },
  {
   "cell_type": "code",
   "execution_count": 6,
   "id": "261fd62d",
   "metadata": {
    "ExecuteTime": {
     "end_time": "2024-04-22T13:04:16.884558Z",
     "start_time": "2024-04-22T13:04:16.834517Z"
    }
   },
   "outputs": [],
   "source": [
    "if os.path.exists(pth):\n",
    "    data = pd.read_csv(pth)\n",
    "else:\n",
    "    print('Ошибка')"
   ]
  },
  {
   "cell_type": "markdown",
   "id": "f949d7b6",
   "metadata": {},
   "source": [
    "Получение первых 10 строк таблицы."
   ]
  },
  {
   "cell_type": "code",
   "execution_count": 7,
   "id": "9607d3b7",
   "metadata": {
    "ExecuteTime": {
     "end_time": "2024-04-22T13:04:16.901685Z",
     "start_time": "2024-04-22T13:04:16.885563Z"
    }
   },
   "outputs": [
    {
     "data": {
      "text/html": [
       "<div>\n",
       "<style scoped>\n",
       "    .dataframe tbody tr th:only-of-type {\n",
       "        vertical-align: middle;\n",
       "    }\n",
       "\n",
       "    .dataframe tbody tr th {\n",
       "        vertical-align: top;\n",
       "    }\n",
       "\n",
       "    .dataframe thead th {\n",
       "        text-align: right;\n",
       "    }\n",
       "</style>\n",
       "<table border=\"1\" class=\"dataframe\">\n",
       "  <thead>\n",
       "    <tr style=\"text-align: right;\">\n",
       "      <th></th>\n",
       "      <th>children</th>\n",
       "      <th>days_employed</th>\n",
       "      <th>dob_years</th>\n",
       "      <th>education</th>\n",
       "      <th>education_id</th>\n",
       "      <th>family_status</th>\n",
       "      <th>family_status_id</th>\n",
       "      <th>gender</th>\n",
       "      <th>income_type</th>\n",
       "      <th>debt</th>\n",
       "      <th>total_income</th>\n",
       "      <th>purpose</th>\n",
       "    </tr>\n",
       "  </thead>\n",
       "  <tbody>\n",
       "    <tr>\n",
       "      <th>0</th>\n",
       "      <td>1</td>\n",
       "      <td>-8437.673028</td>\n",
       "      <td>42</td>\n",
       "      <td>высшее</td>\n",
       "      <td>0</td>\n",
       "      <td>женат / замужем</td>\n",
       "      <td>0</td>\n",
       "      <td>F</td>\n",
       "      <td>сотрудник</td>\n",
       "      <td>0</td>\n",
       "      <td>253875.639453</td>\n",
       "      <td>покупка жилья</td>\n",
       "    </tr>\n",
       "    <tr>\n",
       "      <th>1</th>\n",
       "      <td>1</td>\n",
       "      <td>-4024.803754</td>\n",
       "      <td>36</td>\n",
       "      <td>среднее</td>\n",
       "      <td>1</td>\n",
       "      <td>женат / замужем</td>\n",
       "      <td>0</td>\n",
       "      <td>F</td>\n",
       "      <td>сотрудник</td>\n",
       "      <td>0</td>\n",
       "      <td>112080.014102</td>\n",
       "      <td>приобретение автомобиля</td>\n",
       "    </tr>\n",
       "    <tr>\n",
       "      <th>2</th>\n",
       "      <td>0</td>\n",
       "      <td>-5623.422610</td>\n",
       "      <td>33</td>\n",
       "      <td>Среднее</td>\n",
       "      <td>1</td>\n",
       "      <td>женат / замужем</td>\n",
       "      <td>0</td>\n",
       "      <td>M</td>\n",
       "      <td>сотрудник</td>\n",
       "      <td>0</td>\n",
       "      <td>145885.952297</td>\n",
       "      <td>покупка жилья</td>\n",
       "    </tr>\n",
       "    <tr>\n",
       "      <th>3</th>\n",
       "      <td>3</td>\n",
       "      <td>-4124.747207</td>\n",
       "      <td>32</td>\n",
       "      <td>среднее</td>\n",
       "      <td>1</td>\n",
       "      <td>женат / замужем</td>\n",
       "      <td>0</td>\n",
       "      <td>M</td>\n",
       "      <td>сотрудник</td>\n",
       "      <td>0</td>\n",
       "      <td>267628.550329</td>\n",
       "      <td>дополнительное образование</td>\n",
       "    </tr>\n",
       "    <tr>\n",
       "      <th>4</th>\n",
       "      <td>0</td>\n",
       "      <td>340266.072047</td>\n",
       "      <td>53</td>\n",
       "      <td>среднее</td>\n",
       "      <td>1</td>\n",
       "      <td>гражданский брак</td>\n",
       "      <td>1</td>\n",
       "      <td>F</td>\n",
       "      <td>пенсионер</td>\n",
       "      <td>0</td>\n",
       "      <td>158616.077870</td>\n",
       "      <td>сыграть свадьбу</td>\n",
       "    </tr>\n",
       "    <tr>\n",
       "      <th>5</th>\n",
       "      <td>0</td>\n",
       "      <td>-926.185831</td>\n",
       "      <td>27</td>\n",
       "      <td>высшее</td>\n",
       "      <td>0</td>\n",
       "      <td>гражданский брак</td>\n",
       "      <td>1</td>\n",
       "      <td>M</td>\n",
       "      <td>компаньон</td>\n",
       "      <td>0</td>\n",
       "      <td>255763.565419</td>\n",
       "      <td>покупка жилья</td>\n",
       "    </tr>\n",
       "    <tr>\n",
       "      <th>6</th>\n",
       "      <td>0</td>\n",
       "      <td>-2879.202052</td>\n",
       "      <td>43</td>\n",
       "      <td>высшее</td>\n",
       "      <td>0</td>\n",
       "      <td>женат / замужем</td>\n",
       "      <td>0</td>\n",
       "      <td>F</td>\n",
       "      <td>компаньон</td>\n",
       "      <td>0</td>\n",
       "      <td>240525.971920</td>\n",
       "      <td>операции с жильем</td>\n",
       "    </tr>\n",
       "    <tr>\n",
       "      <th>7</th>\n",
       "      <td>0</td>\n",
       "      <td>-152.779569</td>\n",
       "      <td>50</td>\n",
       "      <td>СРЕДНЕЕ</td>\n",
       "      <td>1</td>\n",
       "      <td>женат / замужем</td>\n",
       "      <td>0</td>\n",
       "      <td>M</td>\n",
       "      <td>сотрудник</td>\n",
       "      <td>0</td>\n",
       "      <td>135823.934197</td>\n",
       "      <td>образование</td>\n",
       "    </tr>\n",
       "    <tr>\n",
       "      <th>8</th>\n",
       "      <td>2</td>\n",
       "      <td>-6929.865299</td>\n",
       "      <td>35</td>\n",
       "      <td>ВЫСШЕЕ</td>\n",
       "      <td>0</td>\n",
       "      <td>гражданский брак</td>\n",
       "      <td>1</td>\n",
       "      <td>F</td>\n",
       "      <td>сотрудник</td>\n",
       "      <td>0</td>\n",
       "      <td>95856.832424</td>\n",
       "      <td>на проведение свадьбы</td>\n",
       "    </tr>\n",
       "    <tr>\n",
       "      <th>9</th>\n",
       "      <td>0</td>\n",
       "      <td>-2188.756445</td>\n",
       "      <td>41</td>\n",
       "      <td>среднее</td>\n",
       "      <td>1</td>\n",
       "      <td>женат / замужем</td>\n",
       "      <td>0</td>\n",
       "      <td>M</td>\n",
       "      <td>сотрудник</td>\n",
       "      <td>0</td>\n",
       "      <td>144425.938277</td>\n",
       "      <td>покупка жилья для семьи</td>\n",
       "    </tr>\n",
       "  </tbody>\n",
       "</table>\n",
       "</div>"
      ],
      "text/plain": [
       "   children  days_employed  dob_years education  education_id  \\\n",
       "0         1   -8437.673028         42    высшее             0   \n",
       "1         1   -4024.803754         36   среднее             1   \n",
       "2         0   -5623.422610         33   Среднее             1   \n",
       "3         3   -4124.747207         32   среднее             1   \n",
       "4         0  340266.072047         53   среднее             1   \n",
       "5         0    -926.185831         27    высшее             0   \n",
       "6         0   -2879.202052         43    высшее             0   \n",
       "7         0    -152.779569         50   СРЕДНЕЕ             1   \n",
       "8         2   -6929.865299         35    ВЫСШЕЕ             0   \n",
       "9         0   -2188.756445         41   среднее             1   \n",
       "\n",
       "      family_status  family_status_id gender income_type  debt   total_income  \\\n",
       "0   женат / замужем                 0      F   сотрудник     0  253875.639453   \n",
       "1   женат / замужем                 0      F   сотрудник     0  112080.014102   \n",
       "2   женат / замужем                 0      M   сотрудник     0  145885.952297   \n",
       "3   женат / замужем                 0      M   сотрудник     0  267628.550329   \n",
       "4  гражданский брак                 1      F   пенсионер     0  158616.077870   \n",
       "5  гражданский брак                 1      M   компаньон     0  255763.565419   \n",
       "6   женат / замужем                 0      F   компаньон     0  240525.971920   \n",
       "7   женат / замужем                 0      M   сотрудник     0  135823.934197   \n",
       "8  гражданский брак                 1      F   сотрудник     0   95856.832424   \n",
       "9   женат / замужем                 0      M   сотрудник     0  144425.938277   \n",
       "\n",
       "                      purpose  \n",
       "0               покупка жилья  \n",
       "1     приобретение автомобиля  \n",
       "2               покупка жилья  \n",
       "3  дополнительное образование  \n",
       "4             сыграть свадьбу  \n",
       "5               покупка жилья  \n",
       "6           операции с жильем  \n",
       "7                 образование  \n",
       "8       на проведение свадьбы  \n",
       "9     покупка жилья для семьи  "
      ]
     },
     "execution_count": 7,
     "metadata": {},
     "output_type": "execute_result"
    }
   ],
   "source": [
    "data.head(10) # получение первых 10 строк таблицы data"
   ]
  },
  {
   "cell_type": "markdown",
   "id": "a3eb23d0",
   "metadata": {},
   "source": [
    "Общая информация о данных таблицы `data`"
   ]
  },
  {
   "cell_type": "code",
   "execution_count": 8,
   "id": "10593bac",
   "metadata": {
    "ExecuteTime": {
     "end_time": "2024-04-22T13:04:16.926622Z",
     "start_time": "2024-04-22T13:04:16.902691Z"
    },
    "scrolled": true
   },
   "outputs": [
    {
     "name": "stdout",
     "output_type": "stream",
     "text": [
      "<class 'pandas.core.frame.DataFrame'>\n",
      "RangeIndex: 21525 entries, 0 to 21524\n",
      "Data columns (total 12 columns):\n",
      " #   Column            Non-Null Count  Dtype  \n",
      "---  ------            --------------  -----  \n",
      " 0   children          21525 non-null  int64  \n",
      " 1   days_employed     19351 non-null  float64\n",
      " 2   dob_years         21525 non-null  int64  \n",
      " 3   education         21525 non-null  object \n",
      " 4   education_id      21525 non-null  int64  \n",
      " 5   family_status     21525 non-null  object \n",
      " 6   family_status_id  21525 non-null  int64  \n",
      " 7   gender            21525 non-null  object \n",
      " 8   income_type       21525 non-null  object \n",
      " 9   debt              21525 non-null  int64  \n",
      " 10  total_income      19351 non-null  float64\n",
      " 11  purpose           21525 non-null  object \n",
      "dtypes: float64(2), int64(5), object(5)\n",
      "memory usage: 2.0+ MB\n"
     ]
    }
   ],
   "source": [
    "data.info() # получение общей информации о данных в таблице data"
   ]
  },
  {
   "cell_type": "markdown",
   "id": "11afe76f",
   "metadata": {},
   "source": [
    "## Вывод"
   ]
  },
  {
   "cell_type": "markdown",
   "id": "337f7e60",
   "metadata": {},
   "source": [
    "Каждая сторка таблиц содержит информацию о заёмщиках. Необходимо сделать проверку данных:\n",
    "\n",
    "- Cделать проверку на пропуски;\n",
    "- Сделать проверку на явные и неявные дубликаты;\n",
    "- Изменить тип данных в столбце `total_income` на `int`;\n",
    "- Сделать новый столбце с категориями на основании доходов клиентов."
   ]
  },
  {
   "cell_type": "markdown",
   "id": "747d23e9",
   "metadata": {},
   "source": [
    "# Предобработка данных"
   ]
  },
  {
   "cell_type": "markdown",
   "id": "512fb8b3",
   "metadata": {},
   "source": [
    "## Работа с пропусками"
   ]
  },
  {
   "cell_type": "markdown",
   "id": "f6729fea",
   "metadata": {},
   "source": [
    "Выведим количество пропущенных значений для каждого столбца. "
   ]
  },
  {
   "cell_type": "code",
   "execution_count": 9,
   "id": "9732a09c",
   "metadata": {
    "ExecuteTime": {
     "end_time": "2024-04-22T13:04:16.949170Z",
     "start_time": "2024-04-22T13:04:16.929642Z"
    }
   },
   "outputs": [
    {
     "data": {
      "text/plain": [
       "children               0\n",
       "days_employed       2174\n",
       "dob_years              0\n",
       "education              0\n",
       "education_id           0\n",
       "family_status          0\n",
       "family_status_id       0\n",
       "gender                 0\n",
       "income_type            0\n",
       "debt                   0\n",
       "total_income        2174\n",
       "purpose                0\n",
       "dtype: int64"
      ]
     },
     "execution_count": 9,
     "metadata": {},
     "output_type": "execute_result"
    }
   ],
   "source": [
    "data.isna().sum()"
   ]
  },
  {
   "cell_type": "markdown",
   "id": "e3111fed",
   "metadata": {},
   "source": [
    "В двух столбцах есть пропущенные значения. Это `days_employed`и `total_income` — хранит данные о доходах. На сумму дохода сильнее всего влияет тип занятости, поэтому заполним пропуски в этом столбце медианным значением по каждому типу из столбца `income_type`."
   ]
  },
  {
   "cell_type": "code",
   "execution_count": 10,
   "id": "fe03df76",
   "metadata": {
    "ExecuteTime": {
     "end_time": "2024-04-22T13:04:16.983174Z",
     "start_time": "2024-04-22T13:04:16.950683Z"
    }
   },
   "outputs": [],
   "source": [
    "for t in data['income_type'].unique():\n",
    "    data.loc[(data['income_type'] == t) & (data['total_income'].isna()), 'total_income'] = \\\n",
    "    data.loc[(data['income_type'] == t), 'total_income'].median()"
   ]
  },
  {
   "cell_type": "markdown",
   "id": "e410e9d5",
   "metadata": {},
   "source": [
    "## Обработка аномальных значений"
   ]
  },
  {
   "cell_type": "markdown",
   "id": "f0851ae7",
   "metadata": {},
   "source": [
    "В столбце `days_employed` встречаются артефакты (аномалии). В этом столбце есть отрицательное количество дней трудового стажа. Обработаем значения в данном столбце."
   ]
  },
  {
   "cell_type": "code",
   "execution_count": 11,
   "id": "200c9de0",
   "metadata": {
    "ExecuteTime": {
     "end_time": "2024-04-22T13:04:16.987505Z",
     "start_time": "2024-04-22T13:04:16.984181Z"
    }
   },
   "outputs": [],
   "source": [
    "data['days_employed'] = data['days_employed'].abs()"
   ]
  },
  {
   "cell_type": "markdown",
   "id": "08735e63",
   "metadata": {},
   "source": [
    "Для каждого типа занятости выведим медианное значение трудового стажа `days_employed` в днях."
   ]
  },
  {
   "cell_type": "code",
   "execution_count": 12,
   "id": "700174ce",
   "metadata": {
    "ExecuteTime": {
     "end_time": "2024-04-22T13:04:16.996158Z",
     "start_time": "2024-04-22T13:04:16.988514Z"
    }
   },
   "outputs": [
    {
     "data": {
      "text/plain": [
       "income_type\n",
       "безработный        366413.652744\n",
       "в декрете            3296.759962\n",
       "госслужащий          2689.368353\n",
       "компаньон            1547.382223\n",
       "пенсионер          365213.306266\n",
       "предприниматель       520.848083\n",
       "сотрудник            1574.202821\n",
       "студент               578.751554\n",
       "Name: days_employed, dtype: float64"
      ]
     },
     "execution_count": 12,
     "metadata": {},
     "output_type": "execute_result"
    }
   ],
   "source": [
    "data.groupby('income_type')['days_employed'].agg('median')"
   ]
  },
  {
   "cell_type": "markdown",
   "id": "c1fb3476",
   "metadata": {},
   "source": [
    "У двух типов (безработные и пенсионеры) получатся аномально большие значения. Исправить такие значения сложно, но этот столбец не понадобится нам для исследования, поэтому оставим как есть."
   ]
  },
  {
   "cell_type": "markdown",
   "id": "c625404b",
   "metadata": {},
   "source": [
    "Выведим перечень уникальных значений столбца `children`."
   ]
  },
  {
   "cell_type": "code",
   "execution_count": 13,
   "id": "c5321c76",
   "metadata": {
    "ExecuteTime": {
     "end_time": "2024-04-22T13:04:17.001934Z",
     "start_time": "2024-04-22T13:04:16.997164Z"
    }
   },
   "outputs": [
    {
     "data": {
      "text/plain": [
       "array([ 1,  0,  3,  2, -1,  4, 20,  5], dtype=int64)"
      ]
     },
     "execution_count": 13,
     "metadata": {},
     "output_type": "execute_result"
    }
   ],
   "source": [
    "data['children'].unique()"
   ]
  },
  {
   "cell_type": "markdown",
   "id": "1b8fe9cb",
   "metadata": {},
   "source": [
    "В столбце `children` есть два аномальных значения. Удалим строки, в которых встречаются такие аномальные значения из датафрейма `data`."
   ]
  },
  {
   "cell_type": "code",
   "execution_count": 14,
   "id": "dc6afbaa",
   "metadata": {
    "ExecuteTime": {
     "end_time": "2024-04-22T13:04:17.009960Z",
     "start_time": "2024-04-22T13:04:17.002940Z"
    }
   },
   "outputs": [],
   "source": [
    "data = data[(data['children'] != -1) & (data['children'] != 20)]"
   ]
  },
  {
   "cell_type": "markdown",
   "id": "dfef8fb1",
   "metadata": {},
   "source": [
    "Ещё раз выведим перечень уникальных значений столбца `children`, чтобы убедиться, что артефакты удалены."
   ]
  },
  {
   "cell_type": "code",
   "execution_count": 15,
   "id": "5128d380",
   "metadata": {
    "ExecuteTime": {
     "end_time": "2024-04-22T13:04:17.015989Z",
     "start_time": "2024-04-22T13:04:17.011968Z"
    }
   },
   "outputs": [
    {
     "data": {
      "text/plain": [
       "array([1, 0, 3, 2, 4, 5], dtype=int64)"
      ]
     },
     "execution_count": 15,
     "metadata": {},
     "output_type": "execute_result"
    }
   ],
   "source": [
    "data['children'].unique()"
   ]
  },
  {
   "cell_type": "markdown",
   "id": "adcbfc63",
   "metadata": {},
   "source": [
    "## Удаление пропусков (продолжение)"
   ]
  },
  {
   "cell_type": "markdown",
   "id": "f61b1185",
   "metadata": {},
   "source": [
    "Заполним пропуски в столбце `days_employed` медианными значениями по каждому типу занятости `income_type`."
   ]
  },
  {
   "cell_type": "code",
   "execution_count": 16,
   "id": "d2ce6027",
   "metadata": {
    "ExecuteTime": {
     "end_time": "2024-04-22T13:04:17.049919Z",
     "start_time": "2024-04-22T13:04:17.016995Z"
    }
   },
   "outputs": [],
   "source": [
    "for t in data['income_type'].unique():\n",
    "    data.loc[(data['income_type'] == t) & (data['days_employed'].isna()), 'days_employed'] = \\\n",
    "    data.loc[(data['income_type'] == t), 'days_employed'].median()"
   ]
  },
  {
   "cell_type": "markdown",
   "id": "ccc9dc10",
   "metadata": {},
   "source": [
    "Убедимся, что все пропуски заполнены. Ещё раз выведим количество пропущенных значений для каждого столбца."
   ]
  },
  {
   "cell_type": "code",
   "execution_count": 17,
   "id": "d6cf343d",
   "metadata": {
    "ExecuteTime": {
     "end_time": "2024-04-22T13:04:17.069992Z",
     "start_time": "2024-04-22T13:04:17.050926Z"
    }
   },
   "outputs": [
    {
     "data": {
      "text/plain": [
       "children            0\n",
       "days_employed       0\n",
       "dob_years           0\n",
       "education           0\n",
       "education_id        0\n",
       "family_status       0\n",
       "family_status_id    0\n",
       "gender              0\n",
       "income_type         0\n",
       "debt                0\n",
       "total_income        0\n",
       "purpose             0\n",
       "dtype: int64"
      ]
     },
     "execution_count": 17,
     "metadata": {},
     "output_type": "execute_result"
    }
   ],
   "source": [
    "data.isna().sum()"
   ]
  },
  {
   "cell_type": "markdown",
   "id": "8c58b9ae",
   "metadata": {},
   "source": [
    "## Изменение типов данных"
   ]
  },
  {
   "cell_type": "markdown",
   "id": "6380948f",
   "metadata": {},
   "source": [
    "Заменим вещественный тип данных в столбце `total_income` на целочисленный."
   ]
  },
  {
   "cell_type": "code",
   "execution_count": 18,
   "id": "c1df4d17",
   "metadata": {
    "ExecuteTime": {
     "end_time": "2024-04-22T13:04:17.074548Z",
     "start_time": "2024-04-22T13:04:17.070997Z"
    }
   },
   "outputs": [],
   "source": [
    "data['total_income'] = data['total_income'].astype(int)"
   ]
  },
  {
   "cell_type": "markdown",
   "id": "f69996b5",
   "metadata": {},
   "source": [
    "## Работа с дубликатами"
   ]
  },
  {
   "cell_type": "markdown",
   "id": "9885dc00",
   "metadata": {},
   "source": [
    "Обработаем неявные дубликаты в столбце `education`. В этом столбце есть одни и те же значения, но записанные по-разному: с использованием заглавных и строчных букв. Приведем их к нижнему регистру."
   ]
  },
  {
   "cell_type": "code",
   "execution_count": 19,
   "id": "6740feb7",
   "metadata": {
    "ExecuteTime": {
     "end_time": "2024-04-22T13:04:17.084404Z",
     "start_time": "2024-04-22T13:04:17.075554Z"
    }
   },
   "outputs": [],
   "source": [
    "data['education'] = data['education'].str.lower()"
   ]
  },
  {
   "cell_type": "markdown",
   "id": "33db31bc",
   "metadata": {},
   "source": [
    "Выведим на экран количество строк-дубликатов в данных. И если такие строки присутствуют, удалим их."
   ]
  },
  {
   "cell_type": "code",
   "execution_count": 20,
   "id": "8d5de20d",
   "metadata": {
    "ExecuteTime": {
     "end_time": "2024-04-22T13:04:17.103142Z",
     "start_time": "2024-04-22T13:04:17.085415Z"
    }
   },
   "outputs": [
    {
     "data": {
      "text/plain": [
       "71"
      ]
     },
     "execution_count": 20,
     "metadata": {},
     "output_type": "execute_result"
    }
   ],
   "source": [
    "data.duplicated().sum()"
   ]
  },
  {
   "cell_type": "code",
   "execution_count": 21,
   "id": "e54b6ab8",
   "metadata": {
    "ExecuteTime": {
     "end_time": "2024-04-22T13:04:17.122590Z",
     "start_time": "2024-04-22T13:04:17.104148Z"
    }
   },
   "outputs": [],
   "source": [
    "data = data.drop_duplicates()"
   ]
  },
  {
   "cell_type": "markdown",
   "id": "42208cd1",
   "metadata": {},
   "source": [
    "## Категоризация данных"
   ]
  },
  {
   "cell_type": "markdown",
   "id": "30a7732a",
   "metadata": {},
   "source": [
    "На основании диапазонов, указанных ниже, создадим в датафрейме `data` столбец `total_income_category` с категориями, для этого была написана функция `categorize_income`:\n",
    "\n",
    "- 0–30000 — `'E'`;\n",
    "- 30001–50000 — `'D'`;\n",
    "- 50001–200000 — `'C'`;\n",
    "- 200001–1000000 — `'B'`;\n",
    "- 1000001 и выше — `'A'`."
   ]
  },
  {
   "cell_type": "code",
   "execution_count": 22,
   "id": "95d4d83b",
   "metadata": {
    "ExecuteTime": {
     "end_time": "2024-04-22T13:04:17.132653Z",
     "start_time": "2024-04-22T13:04:17.123597Z"
    }
   },
   "outputs": [],
   "source": [
    "data['total_income_category'] = data['total_income'].apply(categorize_income)"
   ]
  },
  {
   "cell_type": "markdown",
   "id": "b55050cc",
   "metadata": {},
   "source": [
    "Выведим на экран перечень уникальных целей взятия кредита из столбца `purpose`"
   ]
  },
  {
   "cell_type": "code",
   "execution_count": 23,
   "id": "066687bd",
   "metadata": {
    "ExecuteTime": {
     "end_time": "2024-04-22T13:04:17.140748Z",
     "start_time": "2024-04-22T13:04:17.133659Z"
    }
   },
   "outputs": [
    {
     "data": {
      "text/plain": [
       "array(['покупка жилья', 'приобретение автомобиля',\n",
       "       'дополнительное образование', 'сыграть свадьбу',\n",
       "       'операции с жильем', 'образование', 'на проведение свадьбы',\n",
       "       'покупка жилья для семьи', 'покупка недвижимости',\n",
       "       'покупка коммерческой недвижимости', 'покупка жилой недвижимости',\n",
       "       'строительство собственной недвижимости', 'недвижимость',\n",
       "       'строительство недвижимости', 'на покупку подержанного автомобиля',\n",
       "       'на покупку своего автомобиля',\n",
       "       'операции с коммерческой недвижимостью',\n",
       "       'строительство жилой недвижимости', 'жилье',\n",
       "       'операции со своей недвижимостью', 'автомобили',\n",
       "       'заняться образованием', 'сделка с подержанным автомобилем',\n",
       "       'получение образования', 'автомобиль', 'свадьба',\n",
       "       'получение дополнительного образования', 'покупка своего жилья',\n",
       "       'операции с недвижимостью', 'получение высшего образования',\n",
       "       'свой автомобиль', 'сделка с автомобилем',\n",
       "       'профильное образование', 'высшее образование',\n",
       "       'покупка жилья для сдачи', 'на покупку автомобиля', 'ремонт жилью',\n",
       "       'заняться высшим образованием'], dtype=object)"
      ]
     },
     "execution_count": 23,
     "metadata": {},
     "output_type": "execute_result"
    }
   ],
   "source": [
    "data['purpose'].unique()"
   ]
  },
  {
   "cell_type": "markdown",
   "id": "40d0ade7",
   "metadata": {},
   "source": [
    "Создадим функцию `categorize_purpose`, которая на основании данных из столбца `purpose` сформирует новый столбец `purpose_category`, в который войдут следующие категории:\n",
    "\n",
    "- `'операции с автомобилем'`,\n",
    "- `'операции с недвижимостью'`,\n",
    "- `'проведение свадьбы'`,\n",
    "- `'получение образования'`.\n"
   ]
  },
  {
   "cell_type": "code",
   "execution_count": 24,
   "id": "58c23e81",
   "metadata": {
    "ExecuteTime": {
     "end_time": "2024-04-22T13:04:17.151392Z",
     "start_time": "2024-04-22T13:04:17.142758Z"
    }
   },
   "outputs": [],
   "source": [
    "data['purpose_category'] = data['purpose'].apply(categorize_purpose)"
   ]
  },
  {
   "cell_type": "markdown",
   "id": "353d6e6c",
   "metadata": {},
   "source": [
    "## Вывод"
   ]
  },
  {
   "cell_type": "markdown",
   "id": "b7175169",
   "metadata": {},
   "source": [
    "На данном этапе были сделаны следующие действия:\n",
    "1. Сделали проверку на пропуски:\n",
    "    - В столбце `total_income` заполнили пропуски в медианным значением по каждому типу из столбца `income_type`.\n",
    "    - В столбце `days_employed` заполнили пропуски медианными значениями по каждому типу занятости `income_type`.\n",
    "2. Обработали аномальные значения:\n",
    "    - В столбце `days_employed` избавились от отрицательных количеств дней трудового стажа.\n",
    "    - В столбце `children` удалили аномальные значения.\n",
    "3. Изменили тип данных в столбце `total_income` на `int`.\n",
    "4. Сделали проверку на неявные дубликаты:\n",
    "    - В столбце `education` привели значения к нижнему регистру.\n",
    "5. Сделали проверку на янвые дублика - **удалили их**\n",
    "6. Добавили новый столбец `total_income_category` с категориями клиентов в зависимости от их дохода\n",
    "7. Добавили новый столбец `purpose_category` с категориями для целей кредита."
   ]
  },
  {
   "cell_type": "markdown",
   "id": "084b7961",
   "metadata": {},
   "source": [
    "# Исследование данных и ответы на вопросы\n",
    "## Есть ли зависимость между количеством детей и возвратом кредита в срок?"
   ]
  },
  {
   "cell_type": "markdown",
   "id": "e7b6cdd8",
   "metadata": {},
   "source": [
    "Для того, чтобы выяснить это, напишем функцию `que`, в которой сделаем группировку по количеству детей. А также так, как в столбце `debt` значения могут принимать только `0` и `1`, то можно найти количество должников в зависимости от количества детей, а еще найдем количество людей в каждой группе. Для этого воспользуемся методом `aggfunc` с фнуккциями `sum`, `count` и `mean`."
   ]
  },
  {
   "cell_type": "code",
   "execution_count": 25,
   "id": "c5131c18",
   "metadata": {
    "ExecuteTime": {
     "end_time": "2024-04-22T13:04:17.158904Z",
     "start_time": "2024-04-22T13:04:17.153398Z"
    }
   },
   "outputs": [],
   "source": [
    "# Создаем копию датасета, что бы не работать с исходным\n",
    "temp = data.copy()"
   ]
  },
  {
   "cell_type": "code",
   "execution_count": 26,
   "id": "eed52b08",
   "metadata": {
    "ExecuteTime": {
     "end_time": "2024-04-22T13:04:17.670036Z",
     "start_time": "2024-04-22T13:04:17.160423Z"
    }
   },
   "outputs": [
    {
     "data": {
      "text/html": [
       "<style type=\"text/css\">\n",
       "#T_e575b_row0_col0, #T_e575b_row0_col1, #T_e575b_row4_col2 {\n",
       "  background-color: #08306b;\n",
       "  color: #f1f1f1;\n",
       "}\n",
       "#T_e575b_row0_col2 {\n",
       "  background-color: #1c6bb0;\n",
       "  color: #f1f1f1;\n",
       "}\n",
       "#T_e575b_row1_col0 {\n",
       "  background-color: #a9cfe5;\n",
       "  color: #000000;\n",
       "}\n",
       "#T_e575b_row1_col1 {\n",
       "  background-color: #8dc1dd;\n",
       "  color: #000000;\n",
       "}\n",
       "#T_e575b_row1_col2 {\n",
       "  background-color: #083d7f;\n",
       "  color: #f1f1f1;\n",
       "}\n",
       "#T_e575b_row2_col0 {\n",
       "  background-color: #dae8f6;\n",
       "  color: #000000;\n",
       "}\n",
       "#T_e575b_row2_col1 {\n",
       "  background-color: #d3e4f3;\n",
       "  color: #000000;\n",
       "}\n",
       "#T_e575b_row2_col2 {\n",
       "  background-color: #083776;\n",
       "  color: #f1f1f1;\n",
       "}\n",
       "#T_e575b_row3_col0 {\n",
       "  background-color: #f3f8fe;\n",
       "  color: #000000;\n",
       "}\n",
       "#T_e575b_row3_col1 {\n",
       "  background-color: #f2f8fd;\n",
       "  color: #000000;\n",
       "}\n",
       "#T_e575b_row3_col2 {\n",
       "  background-color: #0f5aa3;\n",
       "  color: #f1f1f1;\n",
       "}\n",
       "#T_e575b_row4_col0, #T_e575b_row4_col1, #T_e575b_row5_col0, #T_e575b_row5_col1, #T_e575b_row5_col2 {\n",
       "  background-color: #f7fbff;\n",
       "  color: #000000;\n",
       "}\n",
       "</style>\n",
       "<table id=\"T_e575b\">\n",
       "  <thead>\n",
       "    <tr>\n",
       "      <th class=\"blank level0\" >&nbsp;</th>\n",
       "      <th id=\"T_e575b_level0_col0\" class=\"col_heading level0 col0\" >Всего кредитополучателей</th>\n",
       "      <th id=\"T_e575b_level0_col1\" class=\"col_heading level0 col1\" >Всего должников</th>\n",
       "      <th id=\"T_e575b_level0_col2\" class=\"col_heading level0 col2\" >Доля должников</th>\n",
       "    </tr>\n",
       "    <tr>\n",
       "      <th class=\"index_name level0\" >children</th>\n",
       "      <th class=\"blank col0\" >&nbsp;</th>\n",
       "      <th class=\"blank col1\" >&nbsp;</th>\n",
       "      <th class=\"blank col2\" >&nbsp;</th>\n",
       "    </tr>\n",
       "  </thead>\n",
       "  <tbody>\n",
       "    <tr>\n",
       "      <th id=\"T_e575b_level0_row0\" class=\"row_heading level0 row0\" >0</th>\n",
       "      <td id=\"T_e575b_row0_col0\" class=\"data row0 col0\" >14091.000</td>\n",
       "      <td id=\"T_e575b_row0_col1\" class=\"data row0 col1\" >1063.000</td>\n",
       "      <td id=\"T_e575b_row0_col2\" class=\"data row0 col2\" >0.075</td>\n",
       "    </tr>\n",
       "    <tr>\n",
       "      <th id=\"T_e575b_level0_row1\" class=\"row_heading level0 row1\" >1</th>\n",
       "      <td id=\"T_e575b_row1_col0\" class=\"data row1 col0\" >4808.000</td>\n",
       "      <td id=\"T_e575b_row1_col1\" class=\"data row1 col1\" >444.000</td>\n",
       "      <td id=\"T_e575b_row1_col2\" class=\"data row1 col2\" >0.092</td>\n",
       "    </tr>\n",
       "    <tr>\n",
       "      <th id=\"T_e575b_level0_row2\" class=\"row_heading level0 row2\" >2</th>\n",
       "      <td id=\"T_e575b_row2_col0\" class=\"data row2 col0\" >2052.000</td>\n",
       "      <td id=\"T_e575b_row2_col1\" class=\"data row2 col1\" >194.000</td>\n",
       "      <td id=\"T_e575b_row2_col2\" class=\"data row2 col2\" >0.095</td>\n",
       "    </tr>\n",
       "    <tr>\n",
       "      <th id=\"T_e575b_level0_row3\" class=\"row_heading level0 row3\" >3</th>\n",
       "      <td id=\"T_e575b_row3_col0\" class=\"data row3 col0\" >330.000</td>\n",
       "      <td id=\"T_e575b_row3_col1\" class=\"data row3 col1\" >27.000</td>\n",
       "      <td id=\"T_e575b_row3_col2\" class=\"data row3 col2\" >0.082</td>\n",
       "    </tr>\n",
       "    <tr>\n",
       "      <th id=\"T_e575b_level0_row4\" class=\"row_heading level0 row4\" >4</th>\n",
       "      <td id=\"T_e575b_row4_col0\" class=\"data row4 col0\" >41.000</td>\n",
       "      <td id=\"T_e575b_row4_col1\" class=\"data row4 col1\" >4.000</td>\n",
       "      <td id=\"T_e575b_row4_col2\" class=\"data row4 col2\" >0.098</td>\n",
       "    </tr>\n",
       "    <tr>\n",
       "      <th id=\"T_e575b_level0_row5\" class=\"row_heading level0 row5\" >5</th>\n",
       "      <td id=\"T_e575b_row5_col0\" class=\"data row5 col0\" >9.000</td>\n",
       "      <td id=\"T_e575b_row5_col1\" class=\"data row5 col1\" >0.000</td>\n",
       "      <td id=\"T_e575b_row5_col2\" class=\"data row5 col2\" >0.000</td>\n",
       "    </tr>\n",
       "  </tbody>\n",
       "</table>\n"
      ],
      "text/plain": [
       "<pandas.io.formats.style.Styler at 0x1784990b050>"
      ]
     },
     "metadata": {},
     "output_type": "display_data"
    }
   ],
   "source": [
    "que('children')"
   ]
  },
  {
   "cell_type": "markdown",
   "id": "7d868664",
   "metadata": {},
   "source": [
    "### Вывод. \n",
    "\n",
    "Принимая во внимание то, что у нас не равные выборки, а также исключим категорию с 5-тью детьми. Можно разбить людей на две категории:\n",
    "* Люди, которые не имеют детей\n",
    "* Люди с детьми \n",
    "\n",
    "Исходя из этих двух групп делаем вывод, что первая группа (люди без детей) чаще возвращают кредиты в срок."
   ]
  },
  {
   "cell_type": "markdown",
   "id": "46f1569e",
   "metadata": {},
   "source": [
    "## Есть ли зависимость между семейным положением и возвратом кредита в срок?"
   ]
  },
  {
   "cell_type": "markdown",
   "id": "be9696da",
   "metadata": {},
   "source": [
    "Мы заранее написали функцию, так как задачи анологичные, поэтому воспользуемся написанной ранее функцией для стобца `family_status`."
   ]
  },
  {
   "cell_type": "code",
   "execution_count": 27,
   "id": "f2e47622",
   "metadata": {
    "ExecuteTime": {
     "end_time": "2024-04-22T13:04:17.700420Z",
     "start_time": "2024-04-22T13:04:17.676043Z"
    }
   },
   "outputs": [
    {
     "data": {
      "text/html": [
       "<style type=\"text/css\">\n",
       "#T_28d17_row0_col0 {\n",
       "  background-color: #d7e6f5;\n",
       "  color: #000000;\n",
       "}\n",
       "#T_28d17_row0_col1 {\n",
       "  background-color: #c7dcef;\n",
       "  color: #000000;\n",
       "}\n",
       "#T_28d17_row0_col2, #T_28d17_row4_col0, #T_28d17_row4_col1 {\n",
       "  background-color: #08306b;\n",
       "  color: #f1f1f1;\n",
       "}\n",
       "#T_28d17_row1_col0 {\n",
       "  background-color: #f3f8fe;\n",
       "  color: #000000;\n",
       "}\n",
       "#T_28d17_row1_col1 {\n",
       "  background-color: #f2f8fd;\n",
       "  color: #000000;\n",
       "}\n",
       "#T_28d17_row1_col2 {\n",
       "  background-color: #dce9f6;\n",
       "  color: #000000;\n",
       "}\n",
       "#T_28d17_row2_col0, #T_28d17_row2_col1, #T_28d17_row2_col2 {\n",
       "  background-color: #f7fbff;\n",
       "  color: #000000;\n",
       "}\n",
       "#T_28d17_row3_col0 {\n",
       "  background-color: #bcd7eb;\n",
       "  color: #000000;\n",
       "}\n",
       "#T_28d17_row3_col1 {\n",
       "  background-color: #9fcae1;\n",
       "  color: #000000;\n",
       "}\n",
       "#T_28d17_row3_col2 {\n",
       "  background-color: #0b559f;\n",
       "  color: #f1f1f1;\n",
       "}\n",
       "#T_28d17_row4_col2 {\n",
       "  background-color: #b7d4ea;\n",
       "  color: #000000;\n",
       "}\n",
       "</style>\n",
       "<table id=\"T_28d17\">\n",
       "  <thead>\n",
       "    <tr>\n",
       "      <th class=\"blank level0\" >&nbsp;</th>\n",
       "      <th id=\"T_28d17_level0_col0\" class=\"col_heading level0 col0\" >Всего кредитополучателей</th>\n",
       "      <th id=\"T_28d17_level0_col1\" class=\"col_heading level0 col1\" >Всего должников</th>\n",
       "      <th id=\"T_28d17_level0_col2\" class=\"col_heading level0 col2\" >Доля должников</th>\n",
       "    </tr>\n",
       "    <tr>\n",
       "      <th class=\"index_name level0\" >family_status</th>\n",
       "      <th class=\"blank col0\" >&nbsp;</th>\n",
       "      <th class=\"blank col1\" >&nbsp;</th>\n",
       "      <th class=\"blank col2\" >&nbsp;</th>\n",
       "    </tr>\n",
       "  </thead>\n",
       "  <tbody>\n",
       "    <tr>\n",
       "      <th id=\"T_28d17_level0_row0\" class=\"row_heading level0 row0\" >Не женат / не замужем</th>\n",
       "      <td id=\"T_28d17_row0_col0\" class=\"data row0 col0\" >2796.000</td>\n",
       "      <td id=\"T_28d17_row0_col1\" class=\"data row0 col1\" >273.000</td>\n",
       "      <td id=\"T_28d17_row0_col2\" class=\"data row0 col2\" >0.098</td>\n",
       "    </tr>\n",
       "    <tr>\n",
       "      <th id=\"T_28d17_level0_row1\" class=\"row_heading level0 row1\" >в разводе</th>\n",
       "      <td id=\"T_28d17_row1_col0\" class=\"data row1 col0\" >1189.000</td>\n",
       "      <td id=\"T_28d17_row1_col1\" class=\"data row1 col1\" >84.000</td>\n",
       "      <td id=\"T_28d17_row1_col2\" class=\"data row1 col2\" >0.071</td>\n",
       "    </tr>\n",
       "    <tr>\n",
       "      <th id=\"T_28d17_level0_row2\" class=\"row_heading level0 row2\" >вдовец / вдова</th>\n",
       "      <td id=\"T_28d17_row2_col0\" class=\"data row2 col0\" >951.000</td>\n",
       "      <td id=\"T_28d17_row2_col1\" class=\"data row2 col1\" >63.000</td>\n",
       "      <td id=\"T_28d17_row2_col2\" class=\"data row2 col2\" >0.066</td>\n",
       "    </tr>\n",
       "    <tr>\n",
       "      <th id=\"T_28d17_level0_row3\" class=\"row_heading level0 row3\" >гражданский брак</th>\n",
       "      <td id=\"T_28d17_row3_col0\" class=\"data row3 col0\" >4134.000</td>\n",
       "      <td id=\"T_28d17_row3_col1\" class=\"data row3 col1\" >385.000</td>\n",
       "      <td id=\"T_28d17_row3_col2\" class=\"data row3 col2\" >0.093</td>\n",
       "    </tr>\n",
       "    <tr>\n",
       "      <th id=\"T_28d17_level0_row4\" class=\"row_heading level0 row4\" >женат / замужем</th>\n",
       "      <td id=\"T_28d17_row4_col0\" class=\"data row4 col0\" >12261.000</td>\n",
       "      <td id=\"T_28d17_row4_col1\" class=\"data row4 col1\" >927.000</td>\n",
       "      <td id=\"T_28d17_row4_col2\" class=\"data row4 col2\" >0.076</td>\n",
       "    </tr>\n",
       "  </tbody>\n",
       "</table>\n"
      ],
      "text/plain": [
       "<pandas.io.formats.style.Styler at 0x1784b165950>"
      ]
     },
     "metadata": {},
     "output_type": "display_data"
    }
   ],
   "source": [
    "que('family_status')"
   ]
  },
  {
   "cell_type": "markdown",
   "id": "d5626e36",
   "metadata": {},
   "source": [
    "### Вывод.\n",
    "\n",
    "По полученным данным можно сгруппировать людей по двум группам:\n",
    "\n",
    "1. Люди, которые никогда не состояли в официальном браке (гражданский или не женаты / не замужем)\n",
    "2. Люди, которые состояли в официальном браке\n",
    "\n",
    "Исходя из данной группировки можно сказать, что люди, относящиеся ко второй группе, чаще возвращают кредиты в срок."
   ]
  },
  {
   "cell_type": "markdown",
   "id": "53c4b1ec",
   "metadata": {},
   "source": [
    "## Есть ли зависимость между уровнем дохода и возвратом кредита в срок?"
   ]
  },
  {
   "cell_type": "markdown",
   "id": "c0097126",
   "metadata": {},
   "source": [
    "Анологичная задача, поэтому также воспользуемся функцией для столбца `total_income_category`."
   ]
  },
  {
   "cell_type": "code",
   "execution_count": 28,
   "id": "9bebd7bc",
   "metadata": {
    "ExecuteTime": {
     "end_time": "2024-04-22T13:04:17.722959Z",
     "start_time": "2024-04-22T13:04:17.701427Z"
    }
   },
   "outputs": [
    {
     "data": {
      "text/html": [
       "<style type=\"text/css\">\n",
       "#T_edf31_row0_col0, #T_edf31_row0_col1, #T_edf31_row3_col2, #T_edf31_row4_col0, #T_edf31_row4_col1 {\n",
       "  background-color: #f7fbff;\n",
       "  color: #000000;\n",
       "}\n",
       "#T_edf31_row0_col2 {\n",
       "  background-color: #3c8cc3;\n",
       "  color: #f1f1f1;\n",
       "}\n",
       "#T_edf31_row1_col0 {\n",
       "  background-color: #b2d2e8;\n",
       "  color: #000000;\n",
       "}\n",
       "#T_edf31_row1_col1 {\n",
       "  background-color: #c3daee;\n",
       "  color: #000000;\n",
       "}\n",
       "#T_edf31_row1_col2 {\n",
       "  background-color: #aacfe5;\n",
       "  color: #000000;\n",
       "}\n",
       "#T_edf31_row2_col0, #T_edf31_row2_col1, #T_edf31_row4_col2 {\n",
       "  background-color: #08306b;\n",
       "  color: #f1f1f1;\n",
       "}\n",
       "#T_edf31_row2_col2 {\n",
       "  background-color: #1562a9;\n",
       "  color: #f1f1f1;\n",
       "}\n",
       "#T_edf31_row3_col0 {\n",
       "  background-color: #f3f8fe;\n",
       "  color: #000000;\n",
       "}\n",
       "#T_edf31_row3_col1 {\n",
       "  background-color: #f5f9fe;\n",
       "  color: #000000;\n",
       "}\n",
       "</style>\n",
       "<table id=\"T_edf31\">\n",
       "  <thead>\n",
       "    <tr>\n",
       "      <th class=\"blank level0\" >&nbsp;</th>\n",
       "      <th id=\"T_edf31_level0_col0\" class=\"col_heading level0 col0\" >Всего кредитополучателей</th>\n",
       "      <th id=\"T_edf31_level0_col1\" class=\"col_heading level0 col1\" >Всего должников</th>\n",
       "      <th id=\"T_edf31_level0_col2\" class=\"col_heading level0 col2\" >Доля должников</th>\n",
       "    </tr>\n",
       "    <tr>\n",
       "      <th class=\"index_name level0\" >total_income_category</th>\n",
       "      <th class=\"blank col0\" >&nbsp;</th>\n",
       "      <th class=\"blank col1\" >&nbsp;</th>\n",
       "      <th class=\"blank col2\" >&nbsp;</th>\n",
       "    </tr>\n",
       "  </thead>\n",
       "  <tbody>\n",
       "    <tr>\n",
       "      <th id=\"T_edf31_level0_row0\" class=\"row_heading level0 row0\" >A</th>\n",
       "      <td id=\"T_edf31_row0_col0\" class=\"data row0 col0\" >25.000</td>\n",
       "      <td id=\"T_edf31_row0_col1\" class=\"data row0 col1\" >2.000</td>\n",
       "      <td id=\"T_edf31_row0_col2\" class=\"data row0 col2\" >0.080</td>\n",
       "    </tr>\n",
       "    <tr>\n",
       "      <th id=\"T_edf31_level0_row1\" class=\"row_heading level0 row1\" >B</th>\n",
       "      <td id=\"T_edf31_row1_col0\" class=\"data row1 col0\" >5014.000</td>\n",
       "      <td id=\"T_edf31_row1_col1\" class=\"data row1 col1\" >354.000</td>\n",
       "      <td id=\"T_edf31_row1_col2\" class=\"data row1 col2\" >0.071</td>\n",
       "    </tr>\n",
       "    <tr>\n",
       "      <th id=\"T_edf31_level0_row2\" class=\"row_heading level0 row2\" >C</th>\n",
       "      <td id=\"T_edf31_row2_col0\" class=\"data row2 col0\" >15921.000</td>\n",
       "      <td id=\"T_edf31_row2_col1\" class=\"data row2 col1\" >1353.000</td>\n",
       "      <td id=\"T_edf31_row2_col2\" class=\"data row2 col2\" >0.085</td>\n",
       "    </tr>\n",
       "    <tr>\n",
       "      <th id=\"T_edf31_level0_row3\" class=\"row_heading level0 row3\" >D</th>\n",
       "      <td id=\"T_edf31_row3_col0\" class=\"data row3 col0\" >349.000</td>\n",
       "      <td id=\"T_edf31_row3_col1\" class=\"data row3 col1\" >21.000</td>\n",
       "      <td id=\"T_edf31_row3_col2\" class=\"data row3 col2\" >0.060</td>\n",
       "    </tr>\n",
       "    <tr>\n",
       "      <th id=\"T_edf31_level0_row4\" class=\"row_heading level0 row4\" >E</th>\n",
       "      <td id=\"T_edf31_row4_col0\" class=\"data row4 col0\" >22.000</td>\n",
       "      <td id=\"T_edf31_row4_col1\" class=\"data row4 col1\" >2.000</td>\n",
       "      <td id=\"T_edf31_row4_col2\" class=\"data row4 col2\" >0.091</td>\n",
       "    </tr>\n",
       "  </tbody>\n",
       "</table>\n"
      ],
      "text/plain": [
       "<pandas.io.formats.style.Styler at 0x17848533050>"
      ]
     },
     "metadata": {},
     "output_type": "display_data"
    }
   ],
   "source": [
    "que('total_income_category')"
   ]
  },
  {
   "cell_type": "markdown",
   "id": "6ee5e4a3",
   "metadata": {},
   "source": [
    "### Вывод.\n",
    "\n",
    "Из-за того, что выборки не равны и как можно увидеть, что в 3-ёх категориях недостаточный размер выборки для вывода, поэтому придется их не учитывать. В результате, возьмем оставшиеся две группы `B` и `C`.\n",
    "\n",
    "В итоге прослеживается следующая зависимость, что чем больше у человека доход, тем чаще он возвращает кредиты в срок."
   ]
  },
  {
   "cell_type": "markdown",
   "id": "e3176647",
   "metadata": {},
   "source": [
    "## Как разные цели кредита влияют на его возврат в срок?"
   ]
  },
  {
   "cell_type": "markdown",
   "id": "bfd9b06b",
   "metadata": {},
   "source": [
    "Сделаем анологичные действия, но только для столбца `purpose_category`."
   ]
  },
  {
   "cell_type": "code",
   "execution_count": 29,
   "id": "b5a2529a",
   "metadata": {
    "ExecuteTime": {
     "end_time": "2024-04-22T13:04:17.748194Z",
     "start_time": "2024-04-22T13:04:17.723965Z"
    }
   },
   "outputs": [
    {
     "data": {
      "text/html": [
       "<style type=\"text/css\">\n",
       "#T_58d4d_row0_col0 {\n",
       "  background-color: #caddf0;\n",
       "  color: #000000;\n",
       "}\n",
       "#T_58d4d_row0_col1 {\n",
       "  background-color: #a1cbe2;\n",
       "  color: #000000;\n",
       "}\n",
       "#T_58d4d_row0_col2, #T_58d4d_row1_col0, #T_58d4d_row1_col1 {\n",
       "  background-color: #08306b;\n",
       "  color: #f1f1f1;\n",
       "}\n",
       "#T_58d4d_row1_col2, #T_58d4d_row3_col0, #T_58d4d_row3_col1 {\n",
       "  background-color: #f7fbff;\n",
       "  color: #000000;\n",
       "}\n",
       "#T_58d4d_row2_col0 {\n",
       "  background-color: #d0e2f2;\n",
       "  color: #000000;\n",
       "}\n",
       "#T_58d4d_row2_col1 {\n",
       "  background-color: #b3d3e8;\n",
       "  color: #000000;\n",
       "}\n",
       "#T_58d4d_row2_col2 {\n",
       "  background-color: #083b7c;\n",
       "  color: #f1f1f1;\n",
       "}\n",
       "#T_58d4d_row3_col2 {\n",
       "  background-color: #b2d2e8;\n",
       "  color: #000000;\n",
       "}\n",
       "</style>\n",
       "<table id=\"T_58d4d\">\n",
       "  <thead>\n",
       "    <tr>\n",
       "      <th class=\"blank level0\" >&nbsp;</th>\n",
       "      <th id=\"T_58d4d_level0_col0\" class=\"col_heading level0 col0\" >Всего кредитополучателей</th>\n",
       "      <th id=\"T_58d4d_level0_col1\" class=\"col_heading level0 col1\" >Всего должников</th>\n",
       "      <th id=\"T_58d4d_level0_col2\" class=\"col_heading level0 col2\" >Доля должников</th>\n",
       "    </tr>\n",
       "    <tr>\n",
       "      <th class=\"index_name level0\" >purpose_category</th>\n",
       "      <th class=\"blank col0\" >&nbsp;</th>\n",
       "      <th class=\"blank col1\" >&nbsp;</th>\n",
       "      <th class=\"blank col2\" >&nbsp;</th>\n",
       "    </tr>\n",
       "  </thead>\n",
       "  <tbody>\n",
       "    <tr>\n",
       "      <th id=\"T_58d4d_level0_row0\" class=\"row_heading level0 row0\" >операции с автомобилем</th>\n",
       "      <td id=\"T_58d4d_row0_col0\" class=\"data row0 col0\" >4279.000</td>\n",
       "      <td id=\"T_58d4d_row0_col1\" class=\"data row0 col1\" >400.000</td>\n",
       "      <td id=\"T_58d4d_row0_col2\" class=\"data row0 col2\" >0.093</td>\n",
       "    </tr>\n",
       "    <tr>\n",
       "      <th id=\"T_58d4d_level0_row1\" class=\"row_heading level0 row1\" >операции с недвижимостью</th>\n",
       "      <td id=\"T_58d4d_row1_col0\" class=\"data row1 col0\" >10751.000</td>\n",
       "      <td id=\"T_58d4d_row1_col1\" class=\"data row1 col1\" >780.000</td>\n",
       "      <td id=\"T_58d4d_row1_col2\" class=\"data row1 col2\" >0.073</td>\n",
       "    </tr>\n",
       "    <tr>\n",
       "      <th id=\"T_58d4d_level0_row2\" class=\"row_heading level0 row2\" >получение образования</th>\n",
       "      <td id=\"T_58d4d_row2_col0\" class=\"data row2 col0\" >3988.000</td>\n",
       "      <td id=\"T_58d4d_row2_col1\" class=\"data row2 col1\" >369.000</td>\n",
       "      <td id=\"T_58d4d_row2_col2\" class=\"data row2 col2\" >0.093</td>\n",
       "    </tr>\n",
       "    <tr>\n",
       "      <th id=\"T_58d4d_level0_row3\" class=\"row_heading level0 row3\" >проведение свадьбы</th>\n",
       "      <td id=\"T_58d4d_row3_col0\" class=\"data row3 col0\" >2313.000</td>\n",
       "      <td id=\"T_58d4d_row3_col1\" class=\"data row3 col1\" >183.000</td>\n",
       "      <td id=\"T_58d4d_row3_col2\" class=\"data row3 col2\" >0.079</td>\n",
       "    </tr>\n",
       "  </tbody>\n",
       "</table>\n"
      ],
      "text/plain": [
       "<pandas.io.formats.style.Styler at 0x17848533050>"
      ]
     },
     "metadata": {},
     "output_type": "display_data"
    }
   ],
   "source": [
    "que('purpose_category')"
   ]
  },
  {
   "cell_type": "markdown",
   "id": "3c4df5aa",
   "metadata": {},
   "source": [
    "### Вывод.\n",
    "\n",
    "По полученным данным можно сформировать две группы:\n",
    "\n",
    "1. Люди, которые взяли кредит для недвижимости или свадьбы.\n",
    "2. Люди, которые взяли кредит для образования или автомобиля.\n",
    "\n",
    "Можно сказать, что первая группа людей чаще возваращает кредиты в срок, чем вторая группа."
   ]
  },
  {
   "cell_type": "markdown",
   "id": "1ed19d9d",
   "metadata": {},
   "source": [
    "# Общий вывод."
   ]
  },
  {
   "cell_type": "markdown",
   "id": "8d3216da",
   "metadata": {},
   "source": [
    "Данные были получены из файла `data.csv`. О качестве данных ничего не известно, поэтому сначала сделали обзор данных. Само исследование проходило в три этапа:\n",
    "1. Обзор данных\n",
    "2. Предобработка данных\n",
    "3. Анализ и ответы на поставленные вопросы\n",
    "\n",
    "**1. Обзор данных.** \n",
    "\n",
    "В таблице 12 столбцов. Тип данных в столбцах — `object`(5), `float`(2) и `int`(5)\n",
    "\n",
    "Согласно документации к данным:\n",
    "* `children` — количество детей в семье\n",
    "* `days_employed` — общий трудовой стаж в днях\n",
    "* `dob_years` — возраст клиента в годах\n",
    "* `education` — уровень образования клиента\n",
    "* `education_id` — идентификатор уровня образования\n",
    "* `family_status` — семейное положение\n",
    "* `family_status_id` — идентификатор семейного положения\n",
    "* `gender` — пол клиента\n",
    "* `income_type` — тип занятости\n",
    "* `debt` — имел ли задолженность по возврату кредитов\n",
    "* `total_income` — ежемесячный доход\n",
    "* `purpose` — цель получения кредита\n",
    "\n",
    "**Вывод**\n",
    "\n",
    "Количество значений в двух столбцах различается. Значит, в данных есть пропущенные значения.\n",
    "\n",
    "**2. Предобработка данных.**\n",
    "\n",
    "Пропуски данных были в двух столбцах `total_income` и `days_employed`. \n",
    "\n",
    "* В начале заполнили пропуски в `total_income` медианным значением по каждому типу из столбца `income_type`, так как тип занятости влияет на уровень дохода.\n",
    "* Следующая аномалия заключалась в том, что в столбце `days_employed` встречались отрицательные значения - заменили их на положительные.\n",
    "* Для каждого типа занятости было получено медианное значение по столбцу `days_employed` и в итоге были выявлены аномальные значения для безработных и пенсионеров, но на данное исследование они не повлияют.\n",
    "* Удалили строки с аномальными значениями в столбце `children`. \n",
    "* Заполнили  пропуски в столбце `days_employed` медианными значениями по каждому типу занятости `income_type`.\n",
    "* Обработали неявные дубликаты в столбце `education` встречались одни и те же значения, но написанные в разном регистре - привели к одному регистру.\n",
    "* Назначали категорию каждому человеку в зависимости от его дохода от `Е` до `А`, где `Е` - самый минимальный доход.\n",
    "* Назначали категорию людям в зависимости от их целей, то есть операции с недвижимостью или автомобилями, получение образования и проведение свадьбы.\n",
    "\n",
    "**3. Анализ и ответы на поставленные вопросы**\n",
    "\n",
    "Необходимо было ответить на четыре вопроса:\n",
    "\n",
    "1. Есть зависимость между количеством детей и возвратом кредита в срок?\n",
    "\n",
    "В ходе данного исследование пришлось принимать во внимание то, что выборки получились разные. Также из-за сильного выброса пришлось исключить категорию людей с пятью детьми, так как данная категория в данном случае является нерелевантной. Принимая во внимание все исключения в итоге разбили людей на две категории, первая из которых чаще возвращает кредиты в срок:\n",
    "\n",
    "* Люди, которые не имеют детей\n",
    "* Люди с детьми\n",
    "\n",
    "Что в результате дает нам ответ на поставленный вопрос, что зависимость между количеством детей и возвратом кредита в срок **есть**.\n",
    "\n",
    "2. Есть ли зависимость между семейным положением и возвратом кредита в срок? Ответ: **есть**\n",
    "\n",
    "В ходе данного исследование было установлено, что люди, которые никогда не состояли в официальном браке, хуже возвращают кредиты в срок. В результате было выделено две группы людей:\n",
    "\n",
    "* Люди, которые никогда не состояли в официальном браке\n",
    "* Люди, которые состояли в официальном браке\n",
    "\n",
    "3. Есть ли зависимость между уровнем дохода и возвратом кредита в срок? Ответ: **частично есть**\n",
    "\n",
    "На этом этапе пришлось исключить три категории из пяти. Дело все в том, что в этих категориях недостаточный объем выборки.\n",
    "В итоге прослеживается следующая зависимость, что чем больше у человека доход, тем чаще он возвращает кредиты в срок, но надо учитывать тот факт, что исследование было неполным из-за исключения трех категорий.\n",
    "\n",
    "4. Как разные цели кредита влияют на его возврат в срок?\n",
    "\n",
    "В результате данного исследования можно разделить людей на две группы, в первую входят те, кто чаще закрывает кредиты в срок:\n",
    "\n",
    "1. Люди, которые взяли кредит для недвижимости или свадьбы.\n",
    "2. Люди, которые взяли кредит для образования или автомобиля.\n",
    "\n",
    "**Рекомендации.**\n",
    "\n",
    "Идеальный заемщик может быть следующим:\n",
    "\n",
    "* У него нету детей\n",
    "* Когда-либо состоял в официальном браке\n",
    "* Доход от 200000\n",
    "* Берет кредит на недвижимость или для проведения свадьбы"
   ]
  }
 ],
 "metadata": {
  "kernelspec": {
   "display_name": "Python 3 (ipykernel)",
   "language": "python",
   "name": "python3"
  },
  "language_info": {
   "codemirror_mode": {
    "name": "ipython",
    "version": 3
   },
   "file_extension": ".py",
   "mimetype": "text/x-python",
   "name": "python",
   "nbconvert_exporter": "python",
   "pygments_lexer": "ipython3",
   "version": "3.11.4"
  },
  "toc": {
   "base_numbering": 1,
   "nav_menu": {},
   "number_sections": true,
   "sideBar": true,
   "skip_h1_title": false,
   "title_cell": "Table of Contents",
   "title_sidebar": "Contents",
   "toc_cell": false,
   "toc_position": {
    "height": "calc(100% - 180px)",
    "left": "10px",
    "top": "150px",
    "width": "384px"
   },
   "toc_section_display": true,
   "toc_window_display": true
  },
  "varInspector": {
   "cols": {
    "lenName": 16,
    "lenType": 16,
    "lenVar": 40
   },
   "kernels_config": {
    "python": {
     "delete_cmd_postfix": "",
     "delete_cmd_prefix": "del ",
     "library": "var_list.py",
     "varRefreshCmd": "print(var_dic_list())"
    },
    "r": {
     "delete_cmd_postfix": ") ",
     "delete_cmd_prefix": "rm(",
     "library": "var_list.r",
     "varRefreshCmd": "cat(var_dic_list()) "
    }
   },
   "types_to_exclude": [
    "module",
    "function",
    "builtin_function_or_method",
    "instance",
    "_Feature"
   ],
   "window_display": false
  }
 },
 "nbformat": 4,
 "nbformat_minor": 5
}
