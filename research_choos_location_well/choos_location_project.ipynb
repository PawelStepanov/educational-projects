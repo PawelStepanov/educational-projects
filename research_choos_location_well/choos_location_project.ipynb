{
 "cells": [
  {
   "cell_type": "markdown",
   "metadata": {},
   "source": [
    "# Выбор локации для скважины"
   ]
  },
  {
   "cell_type": "markdown",
   "metadata": {},
   "source": [
    "**Цель исследования** - Решить, где бурить скважину для добывающей компании «ГлавРосГосНефть»\n",
    "\n",
    "**Задачи:**\n",
    "\n",
    "1. Построить модель для определения региона, где добыча принесёт наибольшую прибыль. \n",
    "2. Проанализировать возможную прибыль и риски.\n",
    "\n",
    "**План исследования**\n",
    "1. Изучить данные;\n",
    "2. Предобработка данных;\n",
    "3. Исследовательский анализ данных;\n",
    "4. Корреляционный анализ;\n",
    "5. Обучение модели;\n",
    "6. Подготовка к расчету прибыли;\n",
    "7. Расчет прибыли и рисков;\n",
    "8. Вывод.\n",
    "\n",
    "**Согласно документации к данным**\n",
    "\n",
    "Таблицы `geo_data_0`, `geo_data_1` и `geo_data_2` находятся данные геологоразведки трёх регионов.\n",
    "\n",
    "- `id` — уникальный идентификатор скважины;\n",
    "- `f0`, `f1`, `f2` — три признака точек;\n",
    "- `product` — объём запасов в скважине (тыс. баррелей)."
   ]
  },
  {
   "cell_type": "markdown",
   "metadata": {},
   "source": [
    "## Изучение данных\n",
    "### Импорт библиотек"
   ]
  },
  {
   "cell_type": "code",
   "execution_count": 1,
   "metadata": {
    "ExecuteTime": {
     "end_time": "2024-05-18T18:39:54.774997Z",
     "start_time": "2024-05-18T18:39:52.772866Z"
    }
   },
   "outputs": [],
   "source": [
    "import os\n",
    "\n",
    "import pandas as pd\n",
    "import matplotlib.pyplot as plt\n",
    "import seaborn as sns\n",
    "import numpy as np\n",
    "from scipy import stats as st\n",
    "\n",
    "# Импортируем для машинного обучения\n",
    "from sklearn.linear_model import LinearRegression\n",
    "from sklearn.dummy import DummyRegressor\n",
    "from sklearn.model_selection import train_test_split\n",
    "from sklearn.preprocessing import StandardScaler\n",
    "from sklearn.metrics import mean_squared_error\n",
    "\n",
    "# Импортируем сторонние библиотеки\n",
    "import phik\n",
    "from phik.report import plot_correlation_matrix"
   ]
  },
  {
   "cell_type": "markdown",
   "metadata": {},
   "source": [
    "### Функции"
   ]
  },
  {
   "cell_type": "code",
   "execution_count": 2,
   "metadata": {
    "ExecuteTime": {
     "end_time": "2024-05-18T18:39:54.784227Z",
     "start_time": "2024-05-18T18:39:54.776518Z"
    }
   },
   "outputs": [],
   "source": [
    "def linear_regres(X, y, num_columns, RANDOM_STATE, TEST_SIZE):\n",
    "    '''\n",
    "    Функция принимает значение входных признаков, целевого признака,\n",
    "    название количественных столбцов и константы. Подготавливает \n",
    "    данные для машинного обучения и обучает модель линейной регрессии. \n",
    "    Выводит метрику оценки модели, то корень  средне квадратичной ошибки, \n",
    "    а также среднее значение прогноза, предсказания на валидационной выборке\n",
    "    и правильные ответы на валидационной выборке\n",
    "\n",
    "    '''\n",
    "\n",
    "    X_train, X_valid, y_train, y_valid = train_test_split(\n",
    "        X,\n",
    "        y,\n",
    "        test_size=TEST_SIZE,\n",
    "        random_state=RANDOM_STATE\n",
    "    )\n",
    "\n",
    "    scaler = StandardScaler()\n",
    "\n",
    "    X_train_scaler = scaler.fit_transform(X_train[num_columns])\n",
    "    X_valid_scaler = scaler.transform(X_valid[num_columns])\n",
    "\n",
    "    X_train = pd.DataFrame(X_train_scaler, columns=num_columns)\n",
    "    X_valid = pd.DataFrame(X_valid_scaler, columns=num_columns)\n",
    "\n",
    "    model_lr = LinearRegression()\n",
    "    model_lr.fit(X_train, y_train)\n",
    "\n",
    "    predictions = model_lr.predict(X_valid)\n",
    "    rmse = mean_squared_error(y_valid, predictions, squared=False)\n",
    "\n",
    "    # Проверка модели на адекватность\n",
    "    model_dr = DummyRegressor(strategy='mean')\n",
    "    model_dr.fit(X_train, y_train)\n",
    "    predictions_dr = model_dr.predict(X_valid)\n",
    "    rmse_dr = mean_squared_error(y_valid, predictions_dr, squared=False)\n",
    "\n",
    "    print('Корень среднеквадратичной ошибки дамми модели =', rmse_dr, end='\\n\\n')\n",
    "    print('Корень среднеквадратичной ошибки =', rmse)\n",
    "    print('Средний запаз предсказаного сырья =', predictions.mean())\n",
    "\n",
    "    return model_lr, predictions, y_valid"
   ]
  },
  {
   "cell_type": "code",
   "execution_count": 3,
   "metadata": {
    "ExecuteTime": {
     "end_time": "2024-05-18T18:39:54.789882Z",
     "start_time": "2024-05-18T18:39:54.786765Z"
    }
   },
   "outputs": [],
   "source": [
    "def volume_vs_mean(product, sufficient_volume):\n",
    "    '''\n",
    "    Функция сравнивает безубыточный объем со средним \n",
    "    запасом сырья в каждом регионе. На вход получает\n",
    "    среднее значение реального объема и безубыточный объем. \n",
    "    Для расчета используется константа\n",
    "    \n",
    "    '''\n",
    "\n",
    "    if product >= sufficient_volume:\n",
    "        print('Разработка безубыточная')\n",
    "    else:\n",
    "        print('Разработка убыточная\\nУбыток =',\n",
    "              (sufficient_volume - product) * PRICE_BARREL)"
   ]
  },
  {
   "cell_type": "code",
   "execution_count": 4,
   "metadata": {
    "ExecuteTime": {
     "end_time": "2024-05-18T18:39:54.795351Z",
     "start_time": "2024-05-18T18:39:54.790898Z"
    }
   },
   "outputs": [],
   "source": [
    "def calculation_profit(predictions, real_values):\n",
    "    '''\n",
    "    Функция расчитывает прибыль по 200 лучшим предсказаным \n",
    "    точкам. На вход получает реальные значения и предсказания \n",
    "    модели. Для расчета используются три константы.\n",
    "    \n",
    "    '''\n",
    "\n",
    "    predict_sort = predictions.sort_values(ascending=False)\n",
    "    select_points = real_values[predict_sort.index][:BEST_POINTS]\n",
    "\n",
    "    return select_points.sum() * PRICE_BARREL - BUDGET"
   ]
  },
  {
   "cell_type": "code",
   "execution_count": 5,
   "metadata": {
    "ExecuteTime": {
     "end_time": "2024-05-18T18:39:54.802936Z",
     "start_time": "2024-05-18T18:39:54.796355Z"
    }
   },
   "outputs": [],
   "source": [
    "def bootstrap(predictions, real_values):\n",
    "    '''\n",
    "    Функция для использования техники bootstrap\n",
    "    для расчета средней прибыли, 95%-го доверительного\n",
    "    интервала рисков убытков и ROI. На вход получает \n",
    "    предсказания модели и реальные значения. Для расчета \n",
    "    используются три константы и функция для расчета прибыли.\n",
    "\n",
    "    '''\n",
    "\n",
    "    real_values = real_values.reset_index(drop=True)\n",
    "    predictions = pd.Series(predictions)\n",
    "\n",
    "    values = []\n",
    "    for i in range(1000):\n",
    "        pred_subsample = predictions.sample(\n",
    "            n=EXPLORED_POINTS, replace=True, random_state=STATE)\n",
    "        real_subsample = real_values[pred_subsample.index]\n",
    "        values.append(calculation_profit(pred_subsample, real_subsample))\n",
    "\n",
    "    values = pd.Series(values)\n",
    "\n",
    "    conf_int = st.norm.interval(\n",
    "        0.95, loc=np.mean(values), scale=st.sem(values))\n",
    "    roi = (np.mean(values) - BUDGET) / BUDGET\n",
    "\n",
    "    print(f'Средняя выручка: {np.mean(values):.2f}')\n",
    "    print('Доверительный интервал =', conf_int)\n",
    "    print(f'Риск убытков = {sum(values < 0) / sum(values > 0):.0%}')\n",
    "    print(f'Возврат на инвестиции = {roi:.0%}')"
   ]
  },
  {
   "cell_type": "markdown",
   "metadata": {},
   "source": [
    "Смотри, при подсчете через scipy используется распределение Стьюдента. Ты оцениваешь для него параметры и берешь квантили по нему. В нашем же случае у тебя есть \"истинное\" распределение. Зачем от истинного переходить к его оценке, чтобы по оценке посмотреть на квантили, если мы сразу можем взять квантили."
   ]
  },
  {
   "cell_type": "markdown",
   "metadata": {},
   "source": [
    "### Константы"
   ]
  },
  {
   "cell_type": "code",
   "execution_count": 6,
   "metadata": {
    "ExecuteTime": {
     "end_time": "2024-05-18T18:39:54.808022Z",
     "start_time": "2024-05-18T18:39:54.803948Z"
    }
   },
   "outputs": [],
   "source": [
    "# Задаем константы для деления датасета\n",
    "RANDOM_STATE = 42\n",
    "TEST_SIZE = 0.25\n",
    "\n",
    "# Константы для расчета прибыли\n",
    "BUDGET = 10_000_000_000\n",
    "PRICE_BARREL = 450000\n",
    "EXPLORED_POINTS = 500\n",
    "BEST_POINTS = 200\n",
    "STATE = np.random.RandomState(12345)"
   ]
  },
  {
   "cell_type": "markdown",
   "metadata": {},
   "source": [
    "### Загрузка данных и их изучение"
   ]
  },
  {
   "cell_type": "code",
   "execution_count": 7,
   "metadata": {
    "ExecuteTime": {
     "end_time": "2024-05-18T18:39:54.812625Z",
     "start_time": "2024-05-18T18:39:54.809039Z"
    }
   },
   "outputs": [],
   "source": [
    "pth0 = r\"C:\\Users\\stepa\\Downloads\\geo_data_0.csv\"\n",
    "pth1 = r\"C:\\Users\\stepa\\Downloads\\geo_data_1.csv\"\n",
    "pth2 = r\"C:\\Users\\stepa\\Downloads\\geo_data_2.csv\""
   ]
  },
  {
   "cell_type": "code",
   "execution_count": 8,
   "metadata": {
    "ExecuteTime": {
     "end_time": "2024-05-18T18:39:54.903500Z",
     "start_time": "2024-05-18T18:39:54.814157Z"
    }
   },
   "outputs": [],
   "source": [
    "if os.path.exists(pth0):\n",
    "    geo_data_0 = pd.read_csv(pth0)\n",
    "else:\n",
    "    print('Ошибка')"
   ]
  },
  {
   "cell_type": "code",
   "execution_count": 9,
   "metadata": {
    "ExecuteTime": {
     "end_time": "2024-05-18T18:39:54.999555Z",
     "start_time": "2024-05-18T18:39:54.906594Z"
    }
   },
   "outputs": [],
   "source": [
    "if os.path.exists(pth1):\n",
    "    geo_data_1 = pd.read_csv(pth1)\n",
    "else:\n",
    "    print('Ошибка')"
   ]
  },
  {
   "cell_type": "code",
   "execution_count": 10,
   "metadata": {
    "ExecuteTime": {
     "end_time": "2024-05-18T18:39:55.088782Z",
     "start_time": "2024-05-18T18:39:55.000573Z"
    }
   },
   "outputs": [],
   "source": [
    "if os.path.exists(pth2):\n",
    "    geo_data_2 = pd.read_csv(pth2)\n",
    "else:\n",
    "    print('Ошибка')"
   ]
  },
  {
   "cell_type": "markdown",
   "metadata": {},
   "source": [
    "Выведем первые 5 строк всех таблиц"
   ]
  },
  {
   "cell_type": "code",
   "execution_count": 11,
   "metadata": {
    "ExecuteTime": {
     "end_time": "2024-05-18T18:39:55.102480Z",
     "start_time": "2024-05-18T18:39:55.090308Z"
    },
    "scrolled": true
   },
   "outputs": [
    {
     "data": {
      "text/html": [
       "<div>\n",
       "<style scoped>\n",
       "    .dataframe tbody tr th:only-of-type {\n",
       "        vertical-align: middle;\n",
       "    }\n",
       "\n",
       "    .dataframe tbody tr th {\n",
       "        vertical-align: top;\n",
       "    }\n",
       "\n",
       "    .dataframe thead th {\n",
       "        text-align: right;\n",
       "    }\n",
       "</style>\n",
       "<table border=\"1\" class=\"dataframe\">\n",
       "  <thead>\n",
       "    <tr style=\"text-align: right;\">\n",
       "      <th></th>\n",
       "      <th>id</th>\n",
       "      <th>f0</th>\n",
       "      <th>f1</th>\n",
       "      <th>f2</th>\n",
       "      <th>product</th>\n",
       "    </tr>\n",
       "  </thead>\n",
       "  <tbody>\n",
       "    <tr>\n",
       "      <th>0</th>\n",
       "      <td>txEyH</td>\n",
       "      <td>0.705745</td>\n",
       "      <td>-0.497823</td>\n",
       "      <td>1.221170</td>\n",
       "      <td>105.280062</td>\n",
       "    </tr>\n",
       "    <tr>\n",
       "      <th>1</th>\n",
       "      <td>2acmU</td>\n",
       "      <td>1.334711</td>\n",
       "      <td>-0.340164</td>\n",
       "      <td>4.365080</td>\n",
       "      <td>73.037750</td>\n",
       "    </tr>\n",
       "    <tr>\n",
       "      <th>2</th>\n",
       "      <td>409Wp</td>\n",
       "      <td>1.022732</td>\n",
       "      <td>0.151990</td>\n",
       "      <td>1.419926</td>\n",
       "      <td>85.265647</td>\n",
       "    </tr>\n",
       "    <tr>\n",
       "      <th>3</th>\n",
       "      <td>iJLyR</td>\n",
       "      <td>-0.032172</td>\n",
       "      <td>0.139033</td>\n",
       "      <td>2.978566</td>\n",
       "      <td>168.620776</td>\n",
       "    </tr>\n",
       "    <tr>\n",
       "      <th>4</th>\n",
       "      <td>Xdl7t</td>\n",
       "      <td>1.988431</td>\n",
       "      <td>0.155413</td>\n",
       "      <td>4.751769</td>\n",
       "      <td>154.036647</td>\n",
       "    </tr>\n",
       "  </tbody>\n",
       "</table>\n",
       "</div>"
      ],
      "text/plain": [
       "      id        f0        f1        f2     product\n",
       "0  txEyH  0.705745 -0.497823  1.221170  105.280062\n",
       "1  2acmU  1.334711 -0.340164  4.365080   73.037750\n",
       "2  409Wp  1.022732  0.151990  1.419926   85.265647\n",
       "3  iJLyR -0.032172  0.139033  2.978566  168.620776\n",
       "4  Xdl7t  1.988431  0.155413  4.751769  154.036647"
      ]
     },
     "execution_count": 11,
     "metadata": {},
     "output_type": "execute_result"
    }
   ],
   "source": [
    "geo_data_0.head()"
   ]
  },
  {
   "cell_type": "code",
   "execution_count": 12,
   "metadata": {
    "ExecuteTime": {
     "end_time": "2024-05-18T18:39:55.111135Z",
     "start_time": "2024-05-18T18:39:55.103507Z"
    }
   },
   "outputs": [
    {
     "data": {
      "text/html": [
       "<div>\n",
       "<style scoped>\n",
       "    .dataframe tbody tr th:only-of-type {\n",
       "        vertical-align: middle;\n",
       "    }\n",
       "\n",
       "    .dataframe tbody tr th {\n",
       "        vertical-align: top;\n",
       "    }\n",
       "\n",
       "    .dataframe thead th {\n",
       "        text-align: right;\n",
       "    }\n",
       "</style>\n",
       "<table border=\"1\" class=\"dataframe\">\n",
       "  <thead>\n",
       "    <tr style=\"text-align: right;\">\n",
       "      <th></th>\n",
       "      <th>id</th>\n",
       "      <th>f0</th>\n",
       "      <th>f1</th>\n",
       "      <th>f2</th>\n",
       "      <th>product</th>\n",
       "    </tr>\n",
       "  </thead>\n",
       "  <tbody>\n",
       "    <tr>\n",
       "      <th>0</th>\n",
       "      <td>kBEdx</td>\n",
       "      <td>-15.001348</td>\n",
       "      <td>-8.276000</td>\n",
       "      <td>-0.005876</td>\n",
       "      <td>3.179103</td>\n",
       "    </tr>\n",
       "    <tr>\n",
       "      <th>1</th>\n",
       "      <td>62mP7</td>\n",
       "      <td>14.272088</td>\n",
       "      <td>-3.475083</td>\n",
       "      <td>0.999183</td>\n",
       "      <td>26.953261</td>\n",
       "    </tr>\n",
       "    <tr>\n",
       "      <th>2</th>\n",
       "      <td>vyE1P</td>\n",
       "      <td>6.263187</td>\n",
       "      <td>-5.948386</td>\n",
       "      <td>5.001160</td>\n",
       "      <td>134.766305</td>\n",
       "    </tr>\n",
       "    <tr>\n",
       "      <th>3</th>\n",
       "      <td>KcrkZ</td>\n",
       "      <td>-13.081196</td>\n",
       "      <td>-11.506057</td>\n",
       "      <td>4.999415</td>\n",
       "      <td>137.945408</td>\n",
       "    </tr>\n",
       "    <tr>\n",
       "      <th>4</th>\n",
       "      <td>AHL4O</td>\n",
       "      <td>12.702195</td>\n",
       "      <td>-8.147433</td>\n",
       "      <td>5.004363</td>\n",
       "      <td>134.766305</td>\n",
       "    </tr>\n",
       "  </tbody>\n",
       "</table>\n",
       "</div>"
      ],
      "text/plain": [
       "      id         f0         f1        f2     product\n",
       "0  kBEdx -15.001348  -8.276000 -0.005876    3.179103\n",
       "1  62mP7  14.272088  -3.475083  0.999183   26.953261\n",
       "2  vyE1P   6.263187  -5.948386  5.001160  134.766305\n",
       "3  KcrkZ -13.081196 -11.506057  4.999415  137.945408\n",
       "4  AHL4O  12.702195  -8.147433  5.004363  134.766305"
      ]
     },
     "execution_count": 12,
     "metadata": {},
     "output_type": "execute_result"
    }
   ],
   "source": [
    "geo_data_1.head()"
   ]
  },
  {
   "cell_type": "code",
   "execution_count": 13,
   "metadata": {
    "ExecuteTime": {
     "end_time": "2024-05-18T18:39:55.120826Z",
     "start_time": "2024-05-18T18:39:55.112659Z"
    },
    "scrolled": true
   },
   "outputs": [
    {
     "data": {
      "text/html": [
       "<div>\n",
       "<style scoped>\n",
       "    .dataframe tbody tr th:only-of-type {\n",
       "        vertical-align: middle;\n",
       "    }\n",
       "\n",
       "    .dataframe tbody tr th {\n",
       "        vertical-align: top;\n",
       "    }\n",
       "\n",
       "    .dataframe thead th {\n",
       "        text-align: right;\n",
       "    }\n",
       "</style>\n",
       "<table border=\"1\" class=\"dataframe\">\n",
       "  <thead>\n",
       "    <tr style=\"text-align: right;\">\n",
       "      <th></th>\n",
       "      <th>id</th>\n",
       "      <th>f0</th>\n",
       "      <th>f1</th>\n",
       "      <th>f2</th>\n",
       "      <th>product</th>\n",
       "    </tr>\n",
       "  </thead>\n",
       "  <tbody>\n",
       "    <tr>\n",
       "      <th>0</th>\n",
       "      <td>fwXo0</td>\n",
       "      <td>-1.146987</td>\n",
       "      <td>0.963328</td>\n",
       "      <td>-0.828965</td>\n",
       "      <td>27.758673</td>\n",
       "    </tr>\n",
       "    <tr>\n",
       "      <th>1</th>\n",
       "      <td>WJtFt</td>\n",
       "      <td>0.262778</td>\n",
       "      <td>0.269839</td>\n",
       "      <td>-2.530187</td>\n",
       "      <td>56.069697</td>\n",
       "    </tr>\n",
       "    <tr>\n",
       "      <th>2</th>\n",
       "      <td>ovLUW</td>\n",
       "      <td>0.194587</td>\n",
       "      <td>0.289035</td>\n",
       "      <td>-5.586433</td>\n",
       "      <td>62.871910</td>\n",
       "    </tr>\n",
       "    <tr>\n",
       "      <th>3</th>\n",
       "      <td>q6cA6</td>\n",
       "      <td>2.236060</td>\n",
       "      <td>-0.553760</td>\n",
       "      <td>0.930038</td>\n",
       "      <td>114.572842</td>\n",
       "    </tr>\n",
       "    <tr>\n",
       "      <th>4</th>\n",
       "      <td>WPMUX</td>\n",
       "      <td>-0.515993</td>\n",
       "      <td>1.716266</td>\n",
       "      <td>5.899011</td>\n",
       "      <td>149.600746</td>\n",
       "    </tr>\n",
       "  </tbody>\n",
       "</table>\n",
       "</div>"
      ],
      "text/plain": [
       "      id        f0        f1        f2     product\n",
       "0  fwXo0 -1.146987  0.963328 -0.828965   27.758673\n",
       "1  WJtFt  0.262778  0.269839 -2.530187   56.069697\n",
       "2  ovLUW  0.194587  0.289035 -5.586433   62.871910\n",
       "3  q6cA6  2.236060 -0.553760  0.930038  114.572842\n",
       "4  WPMUX -0.515993  1.716266  5.899011  149.600746"
      ]
     },
     "execution_count": 13,
     "metadata": {},
     "output_type": "execute_result"
    }
   ],
   "source": [
    "geo_data_2.head()"
   ]
  },
  {
   "cell_type": "markdown",
   "metadata": {},
   "source": [
    "Посмотрим на общую информацию о данных в таблицах"
   ]
  },
  {
   "cell_type": "code",
   "execution_count": 14,
   "metadata": {
    "ExecuteTime": {
     "end_time": "2024-05-18T18:39:55.135553Z",
     "start_time": "2024-05-18T18:39:55.121839Z"
    },
    "scrolled": true
   },
   "outputs": [
    {
     "name": "stdout",
     "output_type": "stream",
     "text": [
      "<class 'pandas.core.frame.DataFrame'>\n",
      "RangeIndex: 100000 entries, 0 to 99999\n",
      "Data columns (total 5 columns):\n",
      " #   Column   Non-Null Count   Dtype  \n",
      "---  ------   --------------   -----  \n",
      " 0   id       100000 non-null  object \n",
      " 1   f0       100000 non-null  float64\n",
      " 2   f1       100000 non-null  float64\n",
      " 3   f2       100000 non-null  float64\n",
      " 4   product  100000 non-null  float64\n",
      "dtypes: float64(4), object(1)\n",
      "memory usage: 3.8+ MB\n"
     ]
    }
   ],
   "source": [
    "geo_data_0.info()"
   ]
  },
  {
   "cell_type": "code",
   "execution_count": 15,
   "metadata": {
    "ExecuteTime": {
     "end_time": "2024-05-18T18:39:55.158940Z",
     "start_time": "2024-05-18T18:39:55.136568Z"
    },
    "scrolled": true
   },
   "outputs": [
    {
     "data": {
      "text/html": [
       "<div>\n",
       "<style scoped>\n",
       "    .dataframe tbody tr th:only-of-type {\n",
       "        vertical-align: middle;\n",
       "    }\n",
       "\n",
       "    .dataframe tbody tr th {\n",
       "        vertical-align: top;\n",
       "    }\n",
       "\n",
       "    .dataframe thead th {\n",
       "        text-align: right;\n",
       "    }\n",
       "</style>\n",
       "<table border=\"1\" class=\"dataframe\">\n",
       "  <thead>\n",
       "    <tr style=\"text-align: right;\">\n",
       "      <th></th>\n",
       "      <th>f0</th>\n",
       "      <th>f1</th>\n",
       "      <th>f2</th>\n",
       "      <th>product</th>\n",
       "    </tr>\n",
       "  </thead>\n",
       "  <tbody>\n",
       "    <tr>\n",
       "      <th>count</th>\n",
       "      <td>100000.000000</td>\n",
       "      <td>100000.000000</td>\n",
       "      <td>100000.000000</td>\n",
       "      <td>100000.000000</td>\n",
       "    </tr>\n",
       "    <tr>\n",
       "      <th>mean</th>\n",
       "      <td>0.500419</td>\n",
       "      <td>0.250143</td>\n",
       "      <td>2.502647</td>\n",
       "      <td>92.500000</td>\n",
       "    </tr>\n",
       "    <tr>\n",
       "      <th>std</th>\n",
       "      <td>0.871832</td>\n",
       "      <td>0.504433</td>\n",
       "      <td>3.248248</td>\n",
       "      <td>44.288691</td>\n",
       "    </tr>\n",
       "    <tr>\n",
       "      <th>min</th>\n",
       "      <td>-1.408605</td>\n",
       "      <td>-0.848218</td>\n",
       "      <td>-12.088328</td>\n",
       "      <td>0.000000</td>\n",
       "    </tr>\n",
       "    <tr>\n",
       "      <th>25%</th>\n",
       "      <td>-0.072580</td>\n",
       "      <td>-0.200881</td>\n",
       "      <td>0.287748</td>\n",
       "      <td>56.497507</td>\n",
       "    </tr>\n",
       "    <tr>\n",
       "      <th>50%</th>\n",
       "      <td>0.502360</td>\n",
       "      <td>0.250252</td>\n",
       "      <td>2.515969</td>\n",
       "      <td>91.849972</td>\n",
       "    </tr>\n",
       "    <tr>\n",
       "      <th>75%</th>\n",
       "      <td>1.073581</td>\n",
       "      <td>0.700646</td>\n",
       "      <td>4.715088</td>\n",
       "      <td>128.564089</td>\n",
       "    </tr>\n",
       "    <tr>\n",
       "      <th>max</th>\n",
       "      <td>2.362331</td>\n",
       "      <td>1.343769</td>\n",
       "      <td>16.003790</td>\n",
       "      <td>185.364347</td>\n",
       "    </tr>\n",
       "  </tbody>\n",
       "</table>\n",
       "</div>"
      ],
      "text/plain": [
       "                  f0             f1             f2        product\n",
       "count  100000.000000  100000.000000  100000.000000  100000.000000\n",
       "mean        0.500419       0.250143       2.502647      92.500000\n",
       "std         0.871832       0.504433       3.248248      44.288691\n",
       "min        -1.408605      -0.848218     -12.088328       0.000000\n",
       "25%        -0.072580      -0.200881       0.287748      56.497507\n",
       "50%         0.502360       0.250252       2.515969      91.849972\n",
       "75%         1.073581       0.700646       4.715088     128.564089\n",
       "max         2.362331       1.343769      16.003790     185.364347"
      ]
     },
     "execution_count": 15,
     "metadata": {},
     "output_type": "execute_result"
    }
   ],
   "source": [
    "geo_data_0.describe()"
   ]
  },
  {
   "cell_type": "markdown",
   "metadata": {},
   "source": [
    "Рассмотрим полученную информацию подробнее.\n",
    "\n",
    "Всего в таблице 5 столбцов, тип данных - `object`(1), `float`(4).\n",
    "Количестов значений в столбцах одинаковое, а значит пропусков нет. Название столбцов соотвествует стилю. Исходя из данных аномальных значений нет."
   ]
  },
  {
   "cell_type": "code",
   "execution_count": 16,
   "metadata": {
    "ExecuteTime": {
     "end_time": "2024-05-18T18:39:55.170031Z",
     "start_time": "2024-05-18T18:39:55.159961Z"
    },
    "scrolled": false
   },
   "outputs": [
    {
     "name": "stdout",
     "output_type": "stream",
     "text": [
      "<class 'pandas.core.frame.DataFrame'>\n",
      "RangeIndex: 100000 entries, 0 to 99999\n",
      "Data columns (total 5 columns):\n",
      " #   Column   Non-Null Count   Dtype  \n",
      "---  ------   --------------   -----  \n",
      " 0   id       100000 non-null  object \n",
      " 1   f0       100000 non-null  float64\n",
      " 2   f1       100000 non-null  float64\n",
      " 3   f2       100000 non-null  float64\n",
      " 4   product  100000 non-null  float64\n",
      "dtypes: float64(4), object(1)\n",
      "memory usage: 3.8+ MB\n"
     ]
    }
   ],
   "source": [
    "geo_data_1.info()"
   ]
  },
  {
   "cell_type": "code",
   "execution_count": 17,
   "metadata": {
    "ExecuteTime": {
     "end_time": "2024-05-18T18:39:55.192978Z",
     "start_time": "2024-05-18T18:39:55.170545Z"
    },
    "scrolled": false
   },
   "outputs": [
    {
     "data": {
      "text/html": [
       "<div>\n",
       "<style scoped>\n",
       "    .dataframe tbody tr th:only-of-type {\n",
       "        vertical-align: middle;\n",
       "    }\n",
       "\n",
       "    .dataframe tbody tr th {\n",
       "        vertical-align: top;\n",
       "    }\n",
       "\n",
       "    .dataframe thead th {\n",
       "        text-align: right;\n",
       "    }\n",
       "</style>\n",
       "<table border=\"1\" class=\"dataframe\">\n",
       "  <thead>\n",
       "    <tr style=\"text-align: right;\">\n",
       "      <th></th>\n",
       "      <th>f0</th>\n",
       "      <th>f1</th>\n",
       "      <th>f2</th>\n",
       "      <th>product</th>\n",
       "    </tr>\n",
       "  </thead>\n",
       "  <tbody>\n",
       "    <tr>\n",
       "      <th>count</th>\n",
       "      <td>100000.000000</td>\n",
       "      <td>100000.000000</td>\n",
       "      <td>100000.000000</td>\n",
       "      <td>100000.000000</td>\n",
       "    </tr>\n",
       "    <tr>\n",
       "      <th>mean</th>\n",
       "      <td>1.141296</td>\n",
       "      <td>-4.796579</td>\n",
       "      <td>2.494541</td>\n",
       "      <td>68.825000</td>\n",
       "    </tr>\n",
       "    <tr>\n",
       "      <th>std</th>\n",
       "      <td>8.965932</td>\n",
       "      <td>5.119872</td>\n",
       "      <td>1.703572</td>\n",
       "      <td>45.944423</td>\n",
       "    </tr>\n",
       "    <tr>\n",
       "      <th>min</th>\n",
       "      <td>-31.609576</td>\n",
       "      <td>-26.358598</td>\n",
       "      <td>-0.018144</td>\n",
       "      <td>0.000000</td>\n",
       "    </tr>\n",
       "    <tr>\n",
       "      <th>25%</th>\n",
       "      <td>-6.298551</td>\n",
       "      <td>-8.267985</td>\n",
       "      <td>1.000021</td>\n",
       "      <td>26.953261</td>\n",
       "    </tr>\n",
       "    <tr>\n",
       "      <th>50%</th>\n",
       "      <td>1.153055</td>\n",
       "      <td>-4.813172</td>\n",
       "      <td>2.011479</td>\n",
       "      <td>57.085625</td>\n",
       "    </tr>\n",
       "    <tr>\n",
       "      <th>75%</th>\n",
       "      <td>8.621015</td>\n",
       "      <td>-1.332816</td>\n",
       "      <td>3.999904</td>\n",
       "      <td>107.813044</td>\n",
       "    </tr>\n",
       "    <tr>\n",
       "      <th>max</th>\n",
       "      <td>29.421755</td>\n",
       "      <td>18.734063</td>\n",
       "      <td>5.019721</td>\n",
       "      <td>137.945408</td>\n",
       "    </tr>\n",
       "  </tbody>\n",
       "</table>\n",
       "</div>"
      ],
      "text/plain": [
       "                  f0             f1             f2        product\n",
       "count  100000.000000  100000.000000  100000.000000  100000.000000\n",
       "mean        1.141296      -4.796579       2.494541      68.825000\n",
       "std         8.965932       5.119872       1.703572      45.944423\n",
       "min       -31.609576     -26.358598      -0.018144       0.000000\n",
       "25%        -6.298551      -8.267985       1.000021      26.953261\n",
       "50%         1.153055      -4.813172       2.011479      57.085625\n",
       "75%         8.621015      -1.332816       3.999904     107.813044\n",
       "max        29.421755      18.734063       5.019721     137.945408"
      ]
     },
     "execution_count": 17,
     "metadata": {},
     "output_type": "execute_result"
    }
   ],
   "source": [
    "geo_data_1.describe()"
   ]
  },
  {
   "cell_type": "markdown",
   "metadata": {},
   "source": [
    "Рассмотрим полученную информацию подробнее.\n",
    "\n",
    "Всего в таблице 5 столбцов, тип данных - `object`(1), `float`(4).\n",
    "Количестов значений в столбцах одинаковое, а значит пропусков нет. Название столбцов соотвествует стилю. Исходя из данных аномальных значений нет."
   ]
  },
  {
   "cell_type": "code",
   "execution_count": 18,
   "metadata": {
    "ExecuteTime": {
     "end_time": "2024-05-18T18:39:55.205274Z",
     "start_time": "2024-05-18T18:39:55.194510Z"
    }
   },
   "outputs": [
    {
     "name": "stdout",
     "output_type": "stream",
     "text": [
      "<class 'pandas.core.frame.DataFrame'>\n",
      "RangeIndex: 100000 entries, 0 to 99999\n",
      "Data columns (total 5 columns):\n",
      " #   Column   Non-Null Count   Dtype  \n",
      "---  ------   --------------   -----  \n",
      " 0   id       100000 non-null  object \n",
      " 1   f0       100000 non-null  float64\n",
      " 2   f1       100000 non-null  float64\n",
      " 3   f2       100000 non-null  float64\n",
      " 4   product  100000 non-null  float64\n",
      "dtypes: float64(4), object(1)\n",
      "memory usage: 3.8+ MB\n"
     ]
    }
   ],
   "source": [
    "geo_data_2.info()"
   ]
  },
  {
   "cell_type": "code",
   "execution_count": 19,
   "metadata": {
    "ExecuteTime": {
     "end_time": "2024-05-18T18:39:55.229060Z",
     "start_time": "2024-05-18T18:39:55.206291Z"
    },
    "scrolled": true
   },
   "outputs": [
    {
     "data": {
      "text/html": [
       "<div>\n",
       "<style scoped>\n",
       "    .dataframe tbody tr th:only-of-type {\n",
       "        vertical-align: middle;\n",
       "    }\n",
       "\n",
       "    .dataframe tbody tr th {\n",
       "        vertical-align: top;\n",
       "    }\n",
       "\n",
       "    .dataframe thead th {\n",
       "        text-align: right;\n",
       "    }\n",
       "</style>\n",
       "<table border=\"1\" class=\"dataframe\">\n",
       "  <thead>\n",
       "    <tr style=\"text-align: right;\">\n",
       "      <th></th>\n",
       "      <th>f0</th>\n",
       "      <th>f1</th>\n",
       "      <th>f2</th>\n",
       "      <th>product</th>\n",
       "    </tr>\n",
       "  </thead>\n",
       "  <tbody>\n",
       "    <tr>\n",
       "      <th>count</th>\n",
       "      <td>100000.000000</td>\n",
       "      <td>100000.000000</td>\n",
       "      <td>100000.000000</td>\n",
       "      <td>100000.000000</td>\n",
       "    </tr>\n",
       "    <tr>\n",
       "      <th>mean</th>\n",
       "      <td>0.002023</td>\n",
       "      <td>-0.002081</td>\n",
       "      <td>2.495128</td>\n",
       "      <td>95.000000</td>\n",
       "    </tr>\n",
       "    <tr>\n",
       "      <th>std</th>\n",
       "      <td>1.732045</td>\n",
       "      <td>1.730417</td>\n",
       "      <td>3.473445</td>\n",
       "      <td>44.749921</td>\n",
       "    </tr>\n",
       "    <tr>\n",
       "      <th>min</th>\n",
       "      <td>-8.760004</td>\n",
       "      <td>-7.084020</td>\n",
       "      <td>-11.970335</td>\n",
       "      <td>0.000000</td>\n",
       "    </tr>\n",
       "    <tr>\n",
       "      <th>25%</th>\n",
       "      <td>-1.162288</td>\n",
       "      <td>-1.174820</td>\n",
       "      <td>0.130359</td>\n",
       "      <td>59.450441</td>\n",
       "    </tr>\n",
       "    <tr>\n",
       "      <th>50%</th>\n",
       "      <td>0.009424</td>\n",
       "      <td>-0.009482</td>\n",
       "      <td>2.484236</td>\n",
       "      <td>94.925613</td>\n",
       "    </tr>\n",
       "    <tr>\n",
       "      <th>75%</th>\n",
       "      <td>1.158535</td>\n",
       "      <td>1.163678</td>\n",
       "      <td>4.858794</td>\n",
       "      <td>130.595027</td>\n",
       "    </tr>\n",
       "    <tr>\n",
       "      <th>max</th>\n",
       "      <td>7.238262</td>\n",
       "      <td>7.844801</td>\n",
       "      <td>16.739402</td>\n",
       "      <td>190.029838</td>\n",
       "    </tr>\n",
       "  </tbody>\n",
       "</table>\n",
       "</div>"
      ],
      "text/plain": [
       "                  f0             f1             f2        product\n",
       "count  100000.000000  100000.000000  100000.000000  100000.000000\n",
       "mean        0.002023      -0.002081       2.495128      95.000000\n",
       "std         1.732045       1.730417       3.473445      44.749921\n",
       "min        -8.760004      -7.084020     -11.970335       0.000000\n",
       "25%        -1.162288      -1.174820       0.130359      59.450441\n",
       "50%         0.009424      -0.009482       2.484236      94.925613\n",
       "75%         1.158535       1.163678       4.858794     130.595027\n",
       "max         7.238262       7.844801      16.739402     190.029838"
      ]
     },
     "execution_count": 19,
     "metadata": {},
     "output_type": "execute_result"
    }
   ],
   "source": [
    "geo_data_2.describe()"
   ]
  },
  {
   "cell_type": "markdown",
   "metadata": {},
   "source": [
    "Рассмотрим полученную информацию подробнее.\n",
    "\n",
    "Всего в таблице 5 столбцов, тип данных - `object`(1), `float`(4).\n",
    "Количестов значений в столбцах одинаковое, а значит пропусков нет. Название столбцов соотвествует стилю. Исходя из данных аномальных значений нет."
   ]
  },
  {
   "cell_type": "markdown",
   "metadata": {},
   "source": [
    "### Вывод"
   ]
  },
  {
   "cell_type": "markdown",
   "metadata": {},
   "source": [
    "Каждая сторка таблиц содержит информацию о скважинах. Необходимо сделать проверку данных:\n",
    "\n",
    "- Cделать проверку на пропуски \n",
    "- Сделать проверку на явные и неявные дубликаты."
   ]
  },
  {
   "cell_type": "markdown",
   "metadata": {},
   "source": [
    "## Предобработка данных\n",
    "### Работа с явными дубликатами"
   ]
  },
  {
   "cell_type": "markdown",
   "metadata": {},
   "source": [
    "Сделаем проверку на явные дубликаты во всех таблицах"
   ]
  },
  {
   "cell_type": "code",
   "execution_count": 20,
   "metadata": {
    "ExecuteTime": {
     "end_time": "2024-05-18T18:39:55.277384Z",
     "start_time": "2024-05-18T18:39:55.230086Z"
    },
    "scrolled": true
   },
   "outputs": [
    {
     "data": {
      "text/plain": [
       "0"
      ]
     },
     "execution_count": 20,
     "metadata": {},
     "output_type": "execute_result"
    }
   ],
   "source": [
    "geo_data_0.duplicated().sum()"
   ]
  },
  {
   "cell_type": "code",
   "execution_count": 21,
   "metadata": {
    "ExecuteTime": {
     "end_time": "2024-05-18T18:39:55.318926Z",
     "start_time": "2024-05-18T18:39:55.278412Z"
    }
   },
   "outputs": [
    {
     "data": {
      "text/plain": [
       "0"
      ]
     },
     "execution_count": 21,
     "metadata": {},
     "output_type": "execute_result"
    }
   ],
   "source": [
    "geo_data_1.duplicated().sum()"
   ]
  },
  {
   "cell_type": "code",
   "execution_count": 22,
   "metadata": {
    "ExecuteTime": {
     "end_time": "2024-05-18T18:39:55.371249Z",
     "start_time": "2024-05-18T18:39:55.319438Z"
    },
    "scrolled": false
   },
   "outputs": [
    {
     "data": {
      "text/plain": [
       "0"
      ]
     },
     "execution_count": 22,
     "metadata": {},
     "output_type": "execute_result"
    }
   ],
   "source": [
    "geo_data_2.duplicated().sum()"
   ]
  },
  {
   "cell_type": "markdown",
   "metadata": {},
   "source": [
    "### Работа с неявными дубликатами."
   ]
  },
  {
   "cell_type": "markdown",
   "metadata": {},
   "source": [
    "Сделаем проверку на неявные дубликаты. В таблицах значения `id` записаны на английском, но некоторые английские буквы совпадают с русскими. И вдруг вместо английских написали русские буквы. Чтобы не проверять каждую букву, удалим столбец `id` и если есть есть неявные дубликаты, то они в таком случае станут явными и будет проведена проврека на явные дубликаты.\n",
    "\n",
    "Работать будем с копиями таблиц"
   ]
  },
  {
   "cell_type": "code",
   "execution_count": 23,
   "metadata": {
    "ExecuteTime": {
     "end_time": "2024-05-18T18:39:55.376834Z",
     "start_time": "2024-05-18T18:39:55.372769Z"
    }
   },
   "outputs": [],
   "source": [
    "gd0 = geo_data_0.copy()"
   ]
  },
  {
   "cell_type": "code",
   "execution_count": 24,
   "metadata": {
    "ExecuteTime": {
     "end_time": "2024-05-18T18:39:55.383953Z",
     "start_time": "2024-05-18T18:39:55.378344Z"
    }
   },
   "outputs": [],
   "source": [
    "gd0 = gd0.drop(columns=['id'], axis=1)"
   ]
  },
  {
   "cell_type": "code",
   "execution_count": 25,
   "metadata": {
    "ExecuteTime": {
     "end_time": "2024-05-18T18:39:55.418469Z",
     "start_time": "2024-05-18T18:39:55.385477Z"
    }
   },
   "outputs": [
    {
     "data": {
      "text/plain": [
       "0"
      ]
     },
     "execution_count": 25,
     "metadata": {},
     "output_type": "execute_result"
    }
   ],
   "source": [
    "gd0.duplicated().sum()"
   ]
  },
  {
   "cell_type": "code",
   "execution_count": 26,
   "metadata": {
    "ExecuteTime": {
     "end_time": "2024-05-18T18:39:55.424562Z",
     "start_time": "2024-05-18T18:39:55.419991Z"
    }
   },
   "outputs": [],
   "source": [
    "gd1 = geo_data_1.copy()"
   ]
  },
  {
   "cell_type": "code",
   "execution_count": 27,
   "metadata": {
    "ExecuteTime": {
     "end_time": "2024-05-18T18:39:55.435721Z",
     "start_time": "2024-05-18T18:39:55.430633Z"
    }
   },
   "outputs": [],
   "source": [
    "gd1 = gd1.drop(columns=['id'], axis=1)"
   ]
  },
  {
   "cell_type": "code",
   "execution_count": 28,
   "metadata": {
    "ExecuteTime": {
     "end_time": "2024-05-18T18:39:55.464120Z",
     "start_time": "2024-05-18T18:39:55.436733Z"
    }
   },
   "outputs": [
    {
     "data": {
      "text/plain": [
       "0"
      ]
     },
     "execution_count": 28,
     "metadata": {},
     "output_type": "execute_result"
    }
   ],
   "source": [
    "gd1.duplicated().sum()"
   ]
  },
  {
   "cell_type": "code",
   "execution_count": 29,
   "metadata": {
    "ExecuteTime": {
     "end_time": "2024-05-18T18:39:55.469753Z",
     "start_time": "2024-05-18T18:39:55.465156Z"
    }
   },
   "outputs": [],
   "source": [
    "gd2 = geo_data_2.copy()"
   ]
  },
  {
   "cell_type": "code",
   "execution_count": 30,
   "metadata": {
    "ExecuteTime": {
     "end_time": "2024-05-18T18:39:55.477422Z",
     "start_time": "2024-05-18T18:39:55.471277Z"
    }
   },
   "outputs": [],
   "source": [
    "gd2 = gd2.drop(columns=['id'], axis=1)"
   ]
  },
  {
   "cell_type": "code",
   "execution_count": 31,
   "metadata": {
    "ExecuteTime": {
     "end_time": "2024-05-18T18:39:55.510965Z",
     "start_time": "2024-05-18T18:39:55.479463Z"
    }
   },
   "outputs": [
    {
     "data": {
      "text/plain": [
       "0"
      ]
     },
     "execution_count": 31,
     "metadata": {},
     "output_type": "execute_result"
    }
   ],
   "source": [
    "gd2.duplicated().sum()"
   ]
  },
  {
   "cell_type": "markdown",
   "metadata": {},
   "source": [
    "### Работа с пропусками"
   ]
  },
  {
   "cell_type": "markdown",
   "metadata": {},
   "source": [
    "Хоть этап изучения данных показал, что пропусков нет, но необходимо в этом удостоверится, поэтому проверим все таблицы на наличие пропусков."
   ]
  },
  {
   "cell_type": "code",
   "execution_count": 32,
   "metadata": {
    "ExecuteTime": {
     "end_time": "2024-05-18T18:39:55.520926Z",
     "start_time": "2024-05-18T18:39:55.511977Z"
    }
   },
   "outputs": [
    {
     "data": {
      "text/plain": [
       "id         0\n",
       "f0         0\n",
       "f1         0\n",
       "f2         0\n",
       "product    0\n",
       "dtype: int64"
      ]
     },
     "execution_count": 32,
     "metadata": {},
     "output_type": "execute_result"
    }
   ],
   "source": [
    "geo_data_0.isna().sum()"
   ]
  },
  {
   "cell_type": "code",
   "execution_count": 33,
   "metadata": {
    "ExecuteTime": {
     "end_time": "2024-05-18T18:39:55.531782Z",
     "start_time": "2024-05-18T18:39:55.521939Z"
    },
    "scrolled": true
   },
   "outputs": [
    {
     "data": {
      "text/plain": [
       "id         0\n",
       "f0         0\n",
       "f1         0\n",
       "f2         0\n",
       "product    0\n",
       "dtype: int64"
      ]
     },
     "execution_count": 33,
     "metadata": {},
     "output_type": "execute_result"
    }
   ],
   "source": [
    "geo_data_1.isna().sum()"
   ]
  },
  {
   "cell_type": "code",
   "execution_count": 34,
   "metadata": {
    "ExecuteTime": {
     "end_time": "2024-05-18T18:39:55.541528Z",
     "start_time": "2024-05-18T18:39:55.532788Z"
    }
   },
   "outputs": [
    {
     "data": {
      "text/plain": [
       "id         0\n",
       "f0         0\n",
       "f1         0\n",
       "f2         0\n",
       "product    0\n",
       "dtype: int64"
      ]
     },
     "execution_count": 34,
     "metadata": {},
     "output_type": "execute_result"
    }
   ],
   "source": [
    "geo_data_1.isna().sum()"
   ]
  },
  {
   "cell_type": "markdown",
   "metadata": {},
   "source": [
    "В датафреймах пропусков не обнаружено"
   ]
  },
  {
   "cell_type": "markdown",
   "metadata": {},
   "source": [
    "### Вывод."
   ]
  },
  {
   "cell_type": "markdown",
   "metadata": {},
   "source": [
    "На данном этапе были сделаны следующие действия:\n",
    "\n",
    "1. Сделали проверку на явные дубликаты - **не обнаружены**\n",
    "2. Сделали проверку на неявные дублика - **не обнаружены**\n",
    "3. Cделали проверку на пропуски - **не обнаружены**"
   ]
  },
  {
   "cell_type": "markdown",
   "metadata": {},
   "source": [
    "## Исследовательский анализ данных"
   ]
  },
  {
   "cell_type": "markdown",
   "metadata": {},
   "source": [
    "Изучим количественные переменные в датафреймах, для этого посмотрим на их распределение. Диаграммы размаха строить не будем, так как, что у нас за признаки не известно и понять являются ли на самом деле значения аномальными не получится."
   ]
  },
  {
   "cell_type": "code",
   "execution_count": 35,
   "metadata": {
    "ExecuteTime": {
     "end_time": "2024-05-18T18:39:57.674138Z",
     "start_time": "2024-05-18T18:39:55.543046Z"
    }
   },
   "outputs": [
    {
     "data": {
      "image/png": "[encoded data removed]",
      "text/plain": [
       "<Figure size 1500x1000 with 4 Axes>"
      ]
     },
     "metadata": {},
     "output_type": "display_data"
    }
   ],
   "source": [
    "plt.figure(figsize=(15, 10))\n",
    "\n",
    "plt.suptitle('Гистограммы распределения geo_data_0',\n",
    "             fontsize=15, fontweight='bold')\n",
    "\n",
    "plt.subplot(2, 2, 1)\n",
    "sns.histplot(geo_data_0['f0'], kde=True, bins=30)\n",
    "plt.title('Признак f0')\n",
    "\n",
    "plt.subplot(2, 2, 2)\n",
    "sns.histplot(geo_data_0['f1'], kde=True, bins=30)\n",
    "plt.title('Признак f1')\n",
    "\n",
    "plt.subplot(2, 2, 3)\n",
    "sns.histplot(geo_data_0['f2'], kde=True, bins=30)\n",
    "plt.title('Признак f2')\n",
    "\n",
    "plt.subplot(2, 2, 4)\n",
    "sns.histplot(geo_data_0['product'], kde=True, bins=30)\n",
    "plt.title('Объем запасов в скважине');"
   ]
  },
  {
   "cell_type": "code",
   "execution_count": 36,
   "metadata": {
    "ExecuteTime": {
     "end_time": "2024-05-18T18:39:59.883552Z",
     "start_time": "2024-05-18T18:39:57.675691Z"
    },
    "scrolled": false
   },
   "outputs": [
    {
     "data": {
      "image/png": "[encoded data removed]",
      "text/plain": [
       "<Figure size 1500x1000 with 4 Axes>"
      ]
     },
     "metadata": {},
     "output_type": "display_data"
    }
   ],
   "source": [
    "plt.figure(figsize=(15, 10))\n",
    "\n",
    "plt.suptitle('Гистограммы распределения geo_data_1', fontsize=15, fontweight='bold')\n",
    "\n",
    "plt.subplot(2, 2, 1)\n",
    "sns.histplot(geo_data_1['f0'], kde=True, bins=30)\n",
    "plt.title('Признак f0')\n",
    "\n",
    "plt.subplot(2, 2, 2)\n",
    "sns.histplot(geo_data_1['f1'], kde=True, bins=30)\n",
    "plt.title('Признак f1')\n",
    "\n",
    "plt.subplot(2, 2, 3)\n",
    "sns.histplot(geo_data_1['f2'], kde=True, bins=20)\n",
    "plt.title('Признак f2')\n",
    "\n",
    "plt.subplot(2, 2, 4)\n",
    "sns.histplot(geo_data_1['product'], kde=True, bins=20)\n",
    "plt.title('Объем запасов в скважине');"
   ]
  },
  {
   "cell_type": "code",
   "execution_count": 37,
   "metadata": {
    "ExecuteTime": {
     "end_time": "2024-05-18T18:40:02.227163Z",
     "start_time": "2024-05-18T18:39:59.884065Z"
    },
    "scrolled": false
   },
   "outputs": [
    {
     "data": {
      "image/png": "[encoded data removed]",
      "text/plain": [
       "<Figure size 1500x1000 with 4 Axes>"
      ]
     },
     "metadata": {},
     "output_type": "display_data"
    }
   ],
   "source": [
    "plt.figure(figsize=(15, 10))\n",
    "\n",
    "plt.suptitle('Гистограммы распределения geo_data_2',\n",
    "             fontsize=15, fontweight='bold')\n",
    "\n",
    "plt.subplot(2, 2, 1)\n",
    "sns.histplot(geo_data_2['f0'], kde=True, bins=30)\n",
    "plt.title('Признак f0')\n",
    "\n",
    "plt.subplot(2, 2, 2)\n",
    "sns.histplot(geo_data_2['f1'], kde=True, bins=30)\n",
    "plt.title('Признак f1')\n",
    "\n",
    "plt.subplot(2, 2, 3)\n",
    "sns.histplot(geo_data_2['f2'], kde=True, bins=30)\n",
    "plt.title('Признак f2')\n",
    "\n",
    "plt.subplot(2, 2, 4)\n",
    "sns.histplot(geo_data_2['product'], kde=True, bins=30)\n",
    "plt.title('Объем запасов в скважине');"
   ]
  },
  {
   "cell_type": "markdown",
   "metadata": {},
   "source": [
    "### Вывод"
   ]
  },
  {
   "cell_type": "markdown",
   "metadata": {},
   "source": [
    "По результатам исследователького анализа можно сделать следующие выводы:\n",
    "\n",
    "1. В таблице `geo_data_0` только признак `f2` распределен нормально, а остальные распределенны мультимодально.\n",
    "2. В таблице `geo_data_1` признак `f1` распределен нормально, а признак `f0` имеет два пика.\n",
    "3. В таблице `geo_data_2` признаки `f0`, `f1` и `f2` распределены нормально, признак `product` мультимодально."
   ]
  },
  {
   "cell_type": "markdown",
   "metadata": {},
   "source": [
    "## Корреляционный анализ"
   ]
  },
  {
   "cell_type": "markdown",
   "metadata": {},
   "source": [
    "Исходя из исследовательского анализа стало понятно, что не все данные в наших датафремах распределены нормально, поэтому для изучения взаимосвязи между переменнами в таблицах необходимо использовать коэффициент корреляции $\\phi_k$, он может находить взаимосвязь между категориальными, порядковыми и интервальными признаками. Чем ближе его значение по модулю к 1, тем сильнее связь.\n",
    "\n",
    "Расчитаем корреляцию при помощи библиотеки $\\phi_k$ для всех наших признаков из датафрейма `geo_data_0`."
   ]
  },
  {
   "cell_type": "code",
   "execution_count": 38,
   "metadata": {
    "ExecuteTime": {
     "end_time": "2024-05-18T18:40:04.437578Z",
     "start_time": "2024-05-18T18:40:02.228726Z"
    }
   },
   "outputs": [],
   "source": [
    "# Расчитываем коэффициент корреляции Фи\n",
    "phik_matrix_0 = geo_data_0.drop(columns='id', axis=1).phik_matrix(\n",
    "    interval_cols=['f0', 'f1', 'f2', 'product'])"
   ]
  },
  {
   "cell_type": "code",
   "execution_count": 39,
   "metadata": {
    "ExecuteTime": {
     "end_time": "2024-05-18T18:40:04.761958Z",
     "start_time": "2024-05-18T18:40:04.438639Z"
    }
   },
   "outputs": [
    {
     "data": {
      "image/png": "[encoded data removed]",
      "text/plain": [
       "<Figure size 400x400 with 2 Axes>"
      ]
     },
     "metadata": {},
     "output_type": "display_data"
    }
   ],
   "source": [
    "plot_correlation_matrix(phik_matrix_0.values, x_labels=phik_matrix_0.columns, y_labels=phik_matrix_0.index,\n",
    "                        vmin=0, vmax=1, color_map='coolwarm', title='Корреляция $\\phi_k$', fontsize_factor=1,\n",
    "                        figsize=(4, 4))\n",
    "plt.tight_layout()"
   ]
  },
  {
   "cell_type": "markdown",
   "metadata": {},
   "source": [
    "Наш целевой признак `product` посмотрим как он взаимодействует с входными признаками.\n",
    "\n",
    "Есть хорошая взаимосвязь с `f2` - 0.48 и слабая взаимосвязь с `f1` и `f0` - 0.25 и 0.22.\n",
    "\n",
    "Также изучим все взаимосвязи между признаками.\n",
    "\n",
    "Признак `f2` не имеет взаимосвязи с `f1` и `f0`.\n",
    "\n",
    "Признак `f1` имеет взаимосвязь с `f1` - 0.76\n",
    "\n",
    "Мультиколлинеарность между признаками не наблюдается."
   ]
  },
  {
   "cell_type": "markdown",
   "metadata": {},
   "source": [
    "Расчитаем корреляцию при помощи библиотеки $\\phi_k$ для всех наших признаков из датафрейма `geo_data_1`."
   ]
  },
  {
   "cell_type": "code",
   "execution_count": 40,
   "metadata": {
    "ExecuteTime": {
     "end_time": "2024-05-18T18:40:04.956589Z",
     "start_time": "2024-05-18T18:40:04.762989Z"
    }
   },
   "outputs": [],
   "source": [
    "# Расчитываем коэффициент корреляции Фи\n",
    "phik_matrix_1 = geo_data_1.drop(columns='id', axis=1).phik_matrix(\n",
    "    interval_cols=['f0', 'f1', 'f2', 'product'])"
   ]
  },
  {
   "cell_type": "code",
   "execution_count": 41,
   "metadata": {
    "ExecuteTime": {
     "end_time": "2024-05-18T18:40:05.198209Z",
     "start_time": "2024-05-18T18:40:04.958115Z"
    },
    "scrolled": false
   },
   "outputs": [
    {
     "data": {
      "image/png": "[encoded data removed]",
      "text/plain": [
       "<Figure size 400x400 with 2 Axes>"
      ]
     },
     "metadata": {},
     "output_type": "display_data"
    }
   ],
   "source": [
    "plot_correlation_matrix(phik_matrix_1.values, x_labels=phik_matrix_0.columns, y_labels=phik_matrix_0.index,\n",
    "                        vmin=0, vmax=1, color_map='coolwarm', title='Корреляция $\\phi_k$', fontsize_factor=1,\n",
    "                        figsize=(4, 4))\n",
    "plt.tight_layout()"
   ]
  },
  {
   "cell_type": "markdown",
   "metadata": {},
   "source": [
    "Наш целевой признак `product` посмотрим как он взаимодействует с входными признаками.\n",
    "\n",
    "Есть сильная взаимосвязь с `f2` - 0.98 и хорошая взаимосвязь с `f0` и слабая взаиомсвязь с `f1` - 0.19.\n",
    "\n",
    "Также изучим все взаимосвязи между признаками.\n",
    "\n",
    "Признак `f2` не имеет взаимосвязи с `f1` и `f0`.\n",
    "\n",
    "Признак `f1` имеет взаимосвязь с `f1` - 0.19\n",
    "\n",
    "Мультиколлинеарность между признаками не наблюдается."
   ]
  },
  {
   "cell_type": "markdown",
   "metadata": {},
   "source": [
    "Расчитаем корреляцию при помощи библиотеки $\\phi_k$ для всех наших признаков из датафрейма `geo_data_2`."
   ]
  },
  {
   "cell_type": "code",
   "execution_count": 42,
   "metadata": {
    "ExecuteTime": {
     "end_time": "2024-05-18T18:40:05.395339Z",
     "start_time": "2024-05-18T18:40:05.199743Z"
    }
   },
   "outputs": [],
   "source": [
    "# Расчитываем коэффициент корреляции Фи\n",
    "phik_matrix_2 = geo_data_2.drop(columns='id', axis=1).phik_matrix(\n",
    "    interval_cols=['f0', 'f1', 'f2', 'product'])"
   ]
  },
  {
   "cell_type": "code",
   "execution_count": 43,
   "metadata": {
    "ExecuteTime": {
     "end_time": "2024-05-18T18:40:05.629811Z",
     "start_time": "2024-05-18T18:40:05.395849Z"
    },
    "scrolled": false
   },
   "outputs": [
    {
     "data": {
      "image/png": "[encoded data removed]",
      "text/plain": [
       "<Figure size 400x400 with 2 Axes>"
      ]
     },
     "metadata": {},
     "output_type": "display_data"
    }
   ],
   "source": [
    "plot_correlation_matrix(phik_matrix_2.values, x_labels=phik_matrix_2.columns, y_labels=phik_matrix_2.index,\n",
    "                        vmin=0, vmax=1, color_map='coolwarm', title='Корреляция $\\phi_k$', fontsize_factor=1,\n",
    "                        figsize=(4, 4))\n",
    "plt.tight_layout()"
   ]
  },
  {
   "cell_type": "markdown",
   "metadata": {},
   "source": [
    "Наш целевой признак `product` посмотрим как он взаимодействует с входными признаками.\n",
    "\n",
    "Есть хорошая взаимосвязь с `f2` - 0.44 и слабая взаимосвязь с `f1` и `f0` - 0.22 и 0.20.\n",
    "\n",
    "Также изучим все взаимосвязи между признаками.\n",
    "\n",
    "Признак `f2` не имеет взаимосвязи с `f1` и `f0`.\n",
    "\n",
    "Признак `f1` имеет взаимосвязь с `f1` - 0.22\n",
    "\n",
    "Мультиколлинеарность между признаками не наблюдается."
   ]
  },
  {
   "cell_type": "markdown",
   "metadata": {},
   "source": [
    "## Обучение и проверка модели"
   ]
  },
  {
   "cell_type": "markdown",
   "metadata": {},
   "source": [
    "Приступим к обучению модели. Для целового признака `product` воспользуемся линейной регрессией. Разделим выборки на тренировочную и валидационную. Так как у нас только количественные признаки, то будем использовать только стандартизацию `StandardScaler`. Для обучения модели была написана функция `linear_regres`. Оценивать модель будем по среднему запасу предсказанного сырья и RMSE модели."
   ]
  },
  {
   "cell_type": "code",
   "execution_count": 44,
   "metadata": {
    "ExecuteTime": {
     "end_time": "2024-05-18T18:40:05.656198Z",
     "start_time": "2024-05-18T18:40:05.630832Z"
    }
   },
   "outputs": [
    {
     "name": "stdout",
     "output_type": "stream",
     "text": [
      "Корень среднеквадратичной ошибки дамми модели = 44.27723501700235\n",
      "\n",
      "Корень среднеквадратичной ошибки = 37.75660035026169\n",
      "Средний запаз предсказаного сырья = 92.39879990657768\n"
     ]
    }
   ],
   "source": [
    "X = geo_data_0.drop(columns=['id', 'product'], axis=1)\n",
    "y = geo_data_0['product']\n",
    "\n",
    "num_columns = ['f0', 'f1', 'f2']\n",
    "\n",
    "model_lr_0, predictions_0, y_valid_0 = (\n",
    "    linear_regres(\n",
    "        X,\n",
    "        y,\n",
    "        num_columns,\n",
    "        RANDOM_STATE,\n",
    "        TEST_SIZE)\n",
    ")"
   ]
  },
  {
   "cell_type": "code",
   "execution_count": 45,
   "metadata": {
    "ExecuteTime": {
     "end_time": "2024-05-18T18:40:05.679015Z",
     "start_time": "2024-05-18T18:40:05.657211Z"
    }
   },
   "outputs": [
    {
     "name": "stdout",
     "output_type": "stream",
     "text": [
      "Корень среднеквадратичной ошибки дамми модели = 45.94485941764291\n",
      "\n",
      "Корень среднеквадратичной ошибки = 0.8902801001028842\n",
      "Средний запаз предсказаного сырья = 68.7128780391376\n"
     ]
    }
   ],
   "source": [
    "X = geo_data_1.drop(columns=['id', 'product'], axis=1)\n",
    "y = geo_data_1['product']\n",
    "\n",
    "num_columns = ['f0', 'f1', 'f2']\n",
    "\n",
    "model_lr_1, predictions_1, y_valid_1 = (\n",
    "    linear_regres(\n",
    "        X,\n",
    "        y,\n",
    "        num_columns,\n",
    "        RANDOM_STATE,\n",
    "        TEST_SIZE)\n",
    ")"
   ]
  },
  {
   "cell_type": "code",
   "execution_count": 46,
   "metadata": {
    "ExecuteTime": {
     "end_time": "2024-05-18T18:40:05.702013Z",
     "start_time": "2024-05-18T18:40:05.680548Z"
    },
    "scrolled": false
   },
   "outputs": [
    {
     "name": "stdout",
     "output_type": "stream",
     "text": [
      "Корень среднеквадратичной ошибки дамми модели = 44.78277680055413\n",
      "\n",
      "Корень среднеквадратичной ошибки = 40.145872311342174\n",
      "Средний запаз предсказаного сырья = 94.77102387765939\n"
     ]
    }
   ],
   "source": [
    "X = geo_data_2.drop(columns=['id', 'product'], axis=1)\n",
    "y = geo_data_2['product']\n",
    "\n",
    "num_columns = ['f0', 'f1', 'f2']\n",
    "\n",
    "model_lr_2, predictions_2, y_valid_2 = (\n",
    "    linear_regres(\n",
    "        X,\n",
    "        y,\n",
    "        num_columns,\n",
    "        RANDOM_STATE,\n",
    "        TEST_SIZE)\n",
    ")"
   ]
  },
  {
   "cell_type": "markdown",
   "metadata": {},
   "source": [
    "### Вывод\n",
    "\n",
    "Исходя из обучения можно сделать следующие выводы по регионам:\n",
    "\n",
    "По первому региону:\n",
    "- `RMSE` показывает, что в среднем на `37.75 тыс. баррелей` предсказания отличаются от истиного значения\n",
    "- Средний запас предсказанного сырья `92.39 тыс. баррелей`\n",
    "\n",
    "По второму региону:\n",
    "- `RMSE` показывает, что в среднем на `0.89 тыс. баррелей` предсказания отличаются от истиного значения\n",
    "- Средний запас предсказанного сырья `68.71 тыс. баррелей`\n",
    "\n",
    "По третьему региону:\n",
    "- `RMSE` показывает, что в среднем на `40.14 тыс. баррелей` предсказания отличаются от истиного значения\n",
    "- Средний запас предсказанного сырья `94.77 тыс. баррелей`\n",
    "\n",
    "Все модели прошли проверку на адекватность.\n",
    "\n",
    "Результаты `RMSE` по второму региону можно объяснить тем, что между целевым признаком и `f1` есть сильная взаимосвязь, что может о говорить о качетсвенных данных и поэтому модель лучше работает."
   ]
  },
  {
   "cell_type": "markdown",
   "metadata": {},
   "source": [
    "\n",
    "<div class=\"alert alert-block alert-success\">\n",
    "<b>Успех:</b> Шаг проделан лаконично, все метрики посчитаны корректно\n",
    "</div> "
   ]
  },
  {
   "cell_type": "markdown",
   "metadata": {},
   "source": [
    "## Подготовка к расчёту прибыли"
   ]
  },
  {
   "cell_type": "markdown",
   "metadata": {},
   "source": [
    "Бюджет на разработку скважин в регионе 10 млрд. рублей. Цена за 1 баррель 450 рублей. В таблицах объем указан в тысячах баррелей, а следовательно доход с каждой 1 составляет 450000 рублей.\n",
    "\n",
    "Чтобы не было убытка необходимо расчитать достаточный объем сырья для одной скважины. Для этого необходимо разделить весь бюджет на доход и полученное число поделить на количество скважин (200)"
   ]
  },
  {
   "cell_type": "code",
   "execution_count": 47,
   "metadata": {
    "ExecuteTime": {
     "end_time": "2024-05-18T18:40:05.707155Z",
     "start_time": "2024-05-18T18:40:05.703594Z"
    }
   },
   "outputs": [
    {
     "data": {
      "text/plain": [
       "111.11111111111111"
      ]
     },
     "execution_count": 47,
     "metadata": {},
     "output_type": "execute_result"
    }
   ],
   "source": [
    "sufficient_volume = BUDGET / PRICE_BARREL / BEST_POINTS\n",
    "sufficient_volume"
   ]
  },
  {
   "cell_type": "markdown",
   "metadata": {},
   "source": [
    "При условии, что будет потрачен весь бюджет на разработку скважин. Для безубыточной разработки необходимо, чтобы в одной скважине было `112 тыс. баррелей`. Сравним достаточный объем со средним запасом в каждом регионе. Для этого написана функция `volume_vs_mean`, которая сравнивает достаточный объем со средним запасом в каждом регионе. По условию исследуем 500 точек, поэтому для расчета среднего возьмем 500 лучших точек.  "
   ]
  },
  {
   "cell_type": "code",
   "execution_count": 48,
   "metadata": {
    "ExecuteTime": {
     "end_time": "2024-05-18T18:40:05.715291Z",
     "start_time": "2024-05-18T18:40:05.708181Z"
    },
    "scrolled": true
   },
   "outputs": [
    {
     "name": "stdout",
     "output_type": "stream",
     "text": [
      "Разработка безубыточная\n"
     ]
    }
   ],
   "source": [
    "volume_vs_mean(y_valid_0\n",
    "               .sort_values(ascending=False)\n",
    "               [:EXPLORED_POINTS].mean(),\n",
    "               sufficient_volume)"
   ]
  },
  {
   "cell_type": "code",
   "execution_count": 49,
   "metadata": {
    "ExecuteTime": {
     "end_time": "2024-05-18T18:40:05.720864Z",
     "start_time": "2024-05-18T18:40:05.716308Z"
    }
   },
   "outputs": [
    {
     "name": "stdout",
     "output_type": "stream",
     "text": [
      "Разработка безубыточная\n"
     ]
    }
   ],
   "source": [
    "volume_vs_mean(y_valid_1\n",
    "               .sort_values(ascending=False)\n",
    "               [:EXPLORED_POINTS].mean(),\n",
    "               sufficient_volume)"
   ]
  },
  {
   "cell_type": "code",
   "execution_count": 50,
   "metadata": {
    "ExecuteTime": {
     "end_time": "2024-05-18T18:40:05.726935Z",
     "start_time": "2024-05-18T18:40:05.721880Z"
    },
    "scrolled": true
   },
   "outputs": [
    {
     "name": "stdout",
     "output_type": "stream",
     "text": [
      "Разработка безубыточная\n"
     ]
    }
   ],
   "source": [
    "volume_vs_mean(y_valid_2\n",
    "               .sort_values(ascending=False)\n",
    "               [:EXPLORED_POINTS].mean(),\n",
    "               sufficient_volume)"
   ]
  },
  {
   "cell_type": "markdown",
   "metadata": {},
   "source": [
    "**Вывод**\n",
    "\n",
    "Входе подготовки к расчету прибыли, рассчитали необходимый безубыточный объем и сравнили его со **средним** значением запаса сырья. Исследовали 500 точек и взяли их среднее. В результе исходя из того, что берем среднее значение и что весь бюджет будет задействован. В среденем все три региона безубыточны"
   ]
  },
  {
   "cell_type": "markdown",
   "metadata": {},
   "source": [
    "Рассчитаем прибыль по 200 лучшим точкам в каждом регионе. Для этого была написана функция `calculation_profit`. "
   ]
  },
  {
   "cell_type": "code",
   "execution_count": 51,
   "metadata": {
    "ExecuteTime": {
     "end_time": "2024-05-18T18:40:05.737120Z",
     "start_time": "2024-05-18T18:40:05.730026Z"
    }
   },
   "outputs": [
    {
     "data": {
      "text/plain": [
       "3359141114.462179"
      ]
     },
     "execution_count": 51,
     "metadata": {},
     "output_type": "execute_result"
    }
   ],
   "source": [
    "calculation_profit(pd.Series(predictions_0), y_valid_0.reset_index(drop=True))"
   ]
  },
  {
   "cell_type": "code",
   "execution_count": 52,
   "metadata": {
    "ExecuteTime": {
     "end_time": "2024-05-18T18:40:05.745256Z",
     "start_time": "2024-05-18T18:40:05.738126Z"
    }
   },
   "outputs": [
    {
     "data": {
      "text/plain": [
       "2415086696.681511"
      ]
     },
     "execution_count": 52,
     "metadata": {},
     "output_type": "execute_result"
    }
   ],
   "source": [
    "calculation_profit(pd.Series(predictions_1), y_valid_1.reset_index(drop=True))"
   ]
  },
  {
   "cell_type": "code",
   "execution_count": 53,
   "metadata": {
    "ExecuteTime": {
     "end_time": "2024-05-18T18:40:05.755403Z",
     "start_time": "2024-05-18T18:40:05.746778Z"
    },
    "scrolled": true
   },
   "outputs": [
    {
     "data": {
      "text/plain": [
       "2598571759.374111"
      ]
     },
     "execution_count": 53,
     "metadata": {},
     "output_type": "execute_result"
    }
   ],
   "source": [
    "calculation_profit(pd.Series(predictions_2), y_valid_2.reset_index(drop=True))"
   ]
  },
  {
   "cell_type": "markdown",
   "metadata": {},
   "source": [
    "**Вывод**\n",
    "\n",
    "Исходя из того, что выбрали самые лучшие точки, то самый прибыльный регион в этом случаем первый, то есть `geo_data_0`, но также стоит учитывать, тот факт, что самый точный предсказаный регион это второй, и возможно это повлияет в дальнейшем на окончательный выбор."
   ]
  },
  {
   "cell_type": "markdown",
   "metadata": {},
   "source": [
    "## Расчёт прибыли и рисков "
   ]
  },
  {
   "cell_type": "markdown",
   "metadata": {},
   "source": [
    "Приступим к расчету прибыли, для этого применим технику `Bootstrap` с 1000 выборок, чтобы найти распредление прибыли. По условию задачи исследуют 500 точек и из них выбираются 200 лучших. Также необходимо найти среднюю прибыль и 95%-й доверительный. Для этого была написана функция `bootstrap`, которая принимает на вход предсказания модели.\n",
    "\n",
    "Для доверительного интервала будем использовать `st.norm.interval`, так как мы имеем дело с большой выборкой, мы предполагаем, что выборочное распредлеение выборочного среднего нормально распределено, беря за основу центральную предельную теорему."
   ]
  },
  {
   "cell_type": "code",
   "execution_count": 54,
   "metadata": {
    "ExecuteTime": {
     "end_time": "2024-05-18T18:40:06.745539Z",
     "start_time": "2024-05-18T18:40:05.756420Z"
    }
   },
   "outputs": [
    {
     "name": "stdout",
     "output_type": "stream",
     "text": [
      "Средняя выручка: 435933772.14\n",
      "Доверительный интервал = (418781909.44463146, 453085634.83269274)\n",
      "Риск убытков = 6%\n",
      "Возврат на инвестиции = -96%\n"
     ]
    }
   ],
   "source": [
    "bootstrap(predictions_0, y_valid_0)"
   ]
  },
  {
   "cell_type": "markdown",
   "metadata": {},
   "source": [
    "Для первого региона `geo_data_0` существует только 5% вероятность того, что истинная средняя выручка меньше 418781909 рублей или больше 453085634 рублей.\n",
    "\n",
    "Риски убытков - 6%. ROI = -96%, то есть 96% процент прибыли не окупится в самом начале."
   ]
  },
  {
   "cell_type": "code",
   "execution_count": 55,
   "metadata": {
    "ExecuteTime": {
     "end_time": "2024-05-18T18:40:07.719207Z",
     "start_time": "2024-05-18T18:40:06.747065Z"
    }
   },
   "outputs": [
    {
     "name": "stdout",
     "output_type": "stream",
     "text": [
      "Средняя выручка: 498569016.92\n",
      "Доверительный интервал = (485292695.8987885, 511845337.93478817)\n",
      "Риск убытков = 1%\n",
      "Возврат на инвестиции = -95%\n"
     ]
    }
   ],
   "source": [
    "bootstrap(predictions_1, y_valid_1)"
   ]
  },
  {
   "cell_type": "markdown",
   "metadata": {},
   "source": [
    "Для второго региона `geo_data_1` существует только 5% вероятность того, что истинная средняя выручка меньше 485292695 рублей или больше 511845337 рублей.\n",
    "\n",
    "Риски убытков - 1%. ROI = -95%, то есть 95% процент прибыли не окупится в самом начале."
   ]
  },
  {
   "cell_type": "code",
   "execution_count": 56,
   "metadata": {
    "ExecuteTime": {
     "end_time": "2024-05-18T18:40:08.760645Z",
     "start_time": "2024-05-18T18:40:07.720728Z"
    },
    "scrolled": true
   },
   "outputs": [
    {
     "name": "stdout",
     "output_type": "stream",
     "text": [
      "Средняя выручка: 412672898.99\n",
      "Доверительный интервал = (394920802.6085457, 430424995.3685182)\n",
      "Риск убытков = 8%\n",
      "Возврат на инвестиции = -96%\n"
     ]
    }
   ],
   "source": [
    "bootstrap(predictions_2, y_valid_2)"
   ]
  },
  {
   "cell_type": "markdown",
   "metadata": {},
   "source": [
    "Для третьего региона `geo_data_2` существует только 5% вероятность того, что истинная средняя выручка меньше 394920802 рублей или больше 430424995 рублей.\n",
    "\n",
    "Риски убытков - 8%. ROI = -96%, то есть 96% процент прибыли не окупится в самом начале."
   ]
  },
  {
   "cell_type": "markdown",
   "metadata": {},
   "source": [
    "### Вывод\n",
    "\n",
    "В результате получили следующее:\n",
    "\n",
    "По первому региону:\n",
    "- Средняя выручка: 435933772 рублей\n",
    "- Доверительный интервал = (418781909, 453085634)\n",
    "- Риск убытков = 6%\n",
    "- Возврат на инвестиции = -96%\n",
    "\n",
    "По второму региону:\n",
    "- Средняя выручка: 498569016 рублей\n",
    "- Доверительный интервал = (485292695, 511845337)\n",
    "- Риск убытков = 1%\n",
    "- Возврат на инвестиции = -95%\n",
    "\n",
    "По третьему региону:\n",
    "- Средняя выручка: 412672898 рублей\n",
    "- Доверительный интервал = (394920802, 430424995)\n",
    "- Риск убытков = 8%\n",
    "- Возврат на инвестиции = -96%\n",
    "\n",
    "Делаем выбор в пользу второго региона у него показатели самые лучшие."
   ]
  },
  {
   "cell_type": "markdown",
   "metadata": {},
   "source": [
    "## Вывод"
   ]
  },
  {
   "cell_type": "markdown",
   "metadata": {},
   "source": [
    "Данные были получены из трех файлов:\n",
    "\n",
    "- `geo_data_0`;\n",
    "- `geo_data_1`;\n",
    "- `geo_data_2`.\n",
    "\n",
    "Сначала был сделан обзор данных. Само исследование проходило в 5 этапов:\n",
    "\n",
    "1. Подготовка данных;\n",
    "    - Обзор данных;\n",
    "    - Предобработка данных;\n",
    "    - Исследовательский анализ данных;\n",
    "    - Корреляционный анализ.\n",
    "2. Обучение модели;\n",
    "3. Подготовка к расчету прибыли;\n",
    "4. Расчет прибыли и рисков;\n",
    "5. Вывод.\n",
    "\n",
    "**1 Подготовка данных.**\n",
    "**1.1 Обзор данных.**\n",
    "\n",
    "Во всех таблицах 5 столбцов, тип данных - `object`(1), `float`(4).\n",
    "Пропусков нет. Название столбцов соотвествует стилю. Исходя из данных аномальных значений нет.\n",
    "\n",
    "**1.2 Предобработка данных.**\n",
    "\n",
    "1. Сделали проверку на явные дубликаты - **не обнаружены**\n",
    "2. Сделали проверку на неявные дублика - **не обнаружены**\n",
    "3. Cделали проверку на пропуски - **не обнаружены**\n",
    "\n",
    "**1.3 Исследовательский анализ данных.**\n",
    "\n",
    "Так как в данных были только количественные признаки и что у нас за признаки не известно, то смотрели только на то как они распределены.\n",
    "\n",
    "1. В таблице `geo_data_0` только признак `f2` распределен нормально, а остальные распределенны мультимодально.\n",
    "2. В таблице `geo_data_1` признак `f1` распределен нормально, а признак `f0` имеет два пика.\n",
    "3. В таблице `geo_data_2` признаки `f0`, `f1` и `f2` распределены нормально, признак `product` мультимодально.\n",
    "\n",
    "**1.4 Корреляционный анализ.**\n",
    "\n",
    "Так как большинство данных распределены ненормальное, то использовали корреляцию $\\phi_k$. Наш целевой признак `product`\n",
    "\n",
    "Результаты для `geo_data_0`:\n",
    "\n",
    "Целевой признак следующим образом взаимодействует с входными признаками:\n",
    "\n",
    "- Есть хорошая взаимосвязь с `f2` - 0.48 \n",
    "- Слабая взаимосвязь с `f1` и `f0` - 0.25 и 0.22.\n",
    "\n",
    "Входные признаки взаимодействую между собой следующим образом:\n",
    "\n",
    "- Признак `f2` не имеет взаимосвязи с `f1` и `f0`.\n",
    "- Признак `f1` имеет взаимосвязь с `f1` - 0.76\n",
    "\n",
    "Мультиколлинеарность между признаками не наблюдается.\n",
    "\n",
    "Результаты для `geo_data_1`:\n",
    "\n",
    "Целевой признак следующим образом взаимодействует с входными признаками:\n",
    "\n",
    "- Есть сильная взаимосвязь с `f2` - 0.98\n",
    "- Хорошая взаимосвязь с `f0` \n",
    "- Слабая взаиомсвязь с `f1` - 0.19.\n",
    "\n",
    "Входные признаки взаимодействую между собой следующим образом:\n",
    "\n",
    "- Признак `f2` не имеет взаимосвязи с `f1` и `f0`.\n",
    "- Признак `f1` имеет взаимосвязь с `f1` - 0.19\n",
    "\n",
    "Мультиколлинеарность между признаками не наблюдается.\n",
    "\n",
    "Результаты для `geo_data_2`:\n",
    "\n",
    "Целевой признак следующим образом взаимодействует с входными признаками:\n",
    "\n",
    "- Есть хорошая взаимосвязь с `f2` - 0.44 \n",
    "- Cлабая взаимосвязь с `f1` и `f0` - 0.22 и 0.20.\n",
    "\n",
    "Входные признаки взаимодействую между собой следующим образом:\n",
    "\n",
    "- Признак `f2` не имеет взаимосвязи с `f1` и `f0`.\n",
    "- Признак `f1` имеет взаимосвязь с `f1` - 0.22\n",
    "\n",
    "Мультиколлинеарность между признаками не наблюдается.\n",
    "\n",
    "**2. Обучение модели.**\n",
    "\n",
    "Необходимо было оучить модель, чтобы она могла предсказать наш целевой признак `product`. Для этого воспользовались линейной регрессией. И написали для обучения модели функцию `linear_regres`. Оценивали модель по среднему запасу предсказанного сырья и RMSE модели. А также была проведена проверка на адектваность модели\n",
    "\n",
    "По первому региону:\n",
    "- `RMSE` показывает, что в среднем на `37.75 тыс. баррелей` предсказания отличаются от истиного значения\n",
    "- Средний запас предсказанного сырья `92.39 тыс. баррелей`\n",
    "\n",
    "По второму региону:\n",
    "- `RMSE` показывает, что в среднем на `0.89 тыс. баррелей` предсказания отличаются от истиного значения\n",
    "- Средний запас предсказанного сырья `68.71 тыс. баррелей`\n",
    "\n",
    "По третьему региону:\n",
    "- `RMSE` показывает, что в среднем на `40.14 тыс. баррелей` предсказания отличаются от истиного значения\n",
    "- Средний запас предсказанного сырья `94.77 тыс. баррелей`\n",
    "\n",
    "Все модели прошли проверку на адекватность.\n",
    "\n",
    "**3. Подготовка к расчету прибыли.**\n",
    "\n",
    "Рассчитали достаточный объем сырья для одной скважины, чтобы разработка месторождения была безубыточная. Для этого разделили весь бюджет на доход и получившиеся число разделили на количество скважин (200). В результате получили, что при условии, что будет потрачен весь бюджет на разработку скважин. Для безубыточной разработки необходимо, чтобы в одной скважине было `112 тыс. баррелей`.\n",
    "\n",
    "После этого сравнили достаточный объем со средним запасом в каждом регионе. Для этого написали функцию `volume_vs_mean`. В результе исходя из того, что берем среднее значение и что весь бюджет будет задействован. В среденем все три региона безубыточны.\n",
    "\n",
    "Далее рассчитали прибыль по 200 лучшим точкам в каждом регионе. Для этого написали функцию `calculation_profit`. В результате, исходя из того, что выбрали самые лучшие точки, то самый прибыльный регион в этом случаем первый, то есть `geo_data_0`.\n",
    "\n",
    "**4. Расчет прибыли и рисков.**\n",
    "\n",
    "Для расчета прибыли использовали технику `Bootstrap` с 1000 выборок. Исходя из условия задачи брали 500 точек и из них выбирали 200 лучших. Нашли среднюю прибыль, 95%-й доверительный интервал, риск убыток и ROI. Для этого написали функцию `bootstrap`.\n",
    "\n",
    "Для доверительного интервала использовали `st.norm.interval`, так как мы имеем дело с большой выборкой, мы предполагаем, что выборочное распредлеение выборочного среднего нормально распределено, беря за основу центральную предельную теорему.\n",
    "\n",
    "По первому региону:\n",
    "- Средняя выручка: 435933772 рублей\n",
    "- Доверительный интервал = (418781909, 453085634)\n",
    "- Риск убытков = 6%\n",
    "- Возврат на инвестиции = -96%\n",
    "\n",
    "По второму региону:\n",
    "- Средняя выручка: 498569016 рублей\n",
    "- Доверительный интервал = (485292695, 511845337)\n",
    "- Риск убытков = 1%\n",
    "- Возврат на инвестиции = -95%\n",
    "\n",
    "По третьему региону:\n",
    "- Средняя выручка: 412672898 рублей\n",
    "- Доверительный интервал = (394920802, 430424995)\n",
    "- Риск убытков = 8%\n",
    "- Возврат на инвестиции = -96%\n",
    "\n",
    "**Вывод.**\n",
    "\n",
    "Исходя из расчетов можно предложить второй регион `geo_data_1` для разработки месторождения. Так как у него наименьший риск убытков (1%) по сравнению с другими регионами (6% и 7%). Также учитывали ROI, то есть возврат инвестиций и у второго региона возврат инвестиций больше всех, хоть он и отрицательный. Также у него самый большой доверительный интервал. А также в пользу второго региона говорит то, что у него получилась самая точная модель, так как были качественные данные, высокая корреляция одного входного признака с целевым."
   ]
  }
 ],
 "metadata": {
  "ExecuteTimeLog": [
   {
    "duration": 1266,
    "start_time": "2024-03-11T12:33:17.576Z"
   },
   {
    "duration": 3,
    "start_time": "2024-03-11T12:34:11.928Z"
   },
   {
    "duration": 370,
    "start_time": "2024-03-11T12:39:35.985Z"
   },
   {
    "duration": 115,
    "start_time": "2024-03-11T12:39:47.553Z"
   },
   {
    "duration": 12,
    "start_time": "2024-03-11T12:40:58.660Z"
   },
   {
    "duration": 549,
    "start_time": "2024-03-11T12:41:36.516Z"
   },
   {
    "duration": 10,
    "start_time": "2024-03-11T12:41:39.655Z"
   },
   {
    "duration": 144,
    "start_time": "2024-03-11T12:41:56.263Z"
   },
   {
    "duration": 8,
    "start_time": "2024-03-11T12:41:58.716Z"
   },
   {
    "duration": 1126,
    "start_time": "2024-03-11T12:42:16.750Z"
   },
   {
    "duration": 158,
    "start_time": "2024-03-11T12:42:19.694Z"
   },
   {
    "duration": 88,
    "start_time": "2024-03-11T12:42:30.664Z"
   },
   {
    "duration": 8,
    "start_time": "2024-03-11T12:42:43.850Z"
   },
   {
    "duration": 3,
    "start_time": "2024-03-11T12:45:38.493Z"
   },
   {
    "duration": 153,
    "start_time": "2024-03-11T12:45:42.335Z"
   },
   {
    "duration": 138,
    "start_time": "2024-03-11T12:45:59.028Z"
   },
   {
    "duration": 176,
    "start_time": "2024-03-11T12:46:16.137Z"
   },
   {
    "duration": 13,
    "start_time": "2024-03-11T12:46:17.874Z"
   },
   {
    "duration": 9,
    "start_time": "2024-03-11T12:47:06.904Z"
   },
   {
    "duration": 13,
    "start_time": "2024-03-11T12:47:11.401Z"
   },
   {
    "duration": 13,
    "start_time": "2024-03-11T12:47:17.006Z"
   },
   {
    "duration": 19,
    "start_time": "2024-03-11T12:47:40.964Z"
   },
   {
    "duration": 37,
    "start_time": "2024-03-11T12:48:07.892Z"
   },
   {
    "duration": 15,
    "start_time": "2024-03-11T12:53:59.481Z"
   },
   {
    "duration": 50,
    "start_time": "2024-03-11T12:54:09.617Z"
   },
   {
    "duration": 38,
    "start_time": "2024-03-11T12:54:17.670Z"
   },
   {
    "duration": 15,
    "start_time": "2024-03-11T12:54:21.459Z"
   },
   {
    "duration": 44,
    "start_time": "2024-03-11T12:54:30.958Z"
   },
   {
    "duration": 43,
    "start_time": "2024-03-11T13:06:11.068Z"
   },
   {
    "duration": 38,
    "start_time": "2024-03-11T13:06:22.466Z"
   },
   {
    "duration": 43,
    "start_time": "2024-03-11T13:06:27.533Z"
   },
   {
    "duration": 5,
    "start_time": "2024-03-11T13:17:36.292Z"
   },
   {
    "duration": 83,
    "start_time": "2024-03-11T13:18:10.082Z"
   },
   {
    "duration": 15,
    "start_time": "2024-03-11T13:20:13.502Z"
   },
   {
    "duration": 18,
    "start_time": "2024-03-11T13:21:54.412Z"
   },
   {
    "duration": 8,
    "start_time": "2024-03-11T13:22:01.873Z"
   },
   {
    "duration": 38,
    "start_time": "2024-03-11T13:22:12.407Z"
   },
   {
    "duration": 5,
    "start_time": "2024-03-11T13:25:39.137Z"
   },
   {
    "duration": 5,
    "start_time": "2024-03-11T13:25:45.793Z"
   },
   {
    "duration": 29,
    "start_time": "2024-03-11T13:25:51.467Z"
   },
   {
    "duration": 4,
    "start_time": "2024-03-11T13:25:58.166Z"
   },
   {
    "duration": 7,
    "start_time": "2024-03-11T13:26:22.968Z"
   },
   {
    "duration": 42,
    "start_time": "2024-03-11T13:26:28.722Z"
   },
   {
    "duration": 17,
    "start_time": "2024-03-11T13:30:58.527Z"
   },
   {
    "duration": 17,
    "start_time": "2024-03-11T13:31:06.814Z"
   },
   {
    "duration": 17,
    "start_time": "2024-03-11T13:31:16.545Z"
   },
   {
    "duration": 17,
    "start_time": "2024-03-11T13:42:19.152Z"
   },
   {
    "duration": 204,
    "start_time": "2024-03-11T13:42:33.235Z"
   },
   {
    "duration": 205,
    "start_time": "2024-03-11T13:43:24.927Z"
   },
   {
    "duration": 392,
    "start_time": "2024-03-11T13:43:51.871Z"
   },
   {
    "duration": 365,
    "start_time": "2024-03-11T13:43:55.863Z"
   },
   {
    "duration": 1281,
    "start_time": "2024-03-11T13:46:50.144Z"
   },
   {
    "duration": 2561,
    "start_time": "2024-03-11T13:46:58.242Z"
   },
   {
    "duration": 2565,
    "start_time": "2024-03-11T13:47:26.545Z"
   },
   {
    "duration": 258,
    "start_time": "2024-03-11T13:47:47.252Z"
   },
   {
    "duration": 2634,
    "start_time": "2024-03-11T13:47:56.747Z"
   },
   {
    "duration": 2468,
    "start_time": "2024-03-11T13:51:16.631Z"
   },
   {
    "duration": 2730,
    "start_time": "2024-03-11T13:51:40.664Z"
   },
   {
    "duration": 2516,
    "start_time": "2024-03-11T13:51:57.892Z"
   },
   {
    "duration": 2793,
    "start_time": "2024-03-11T13:52:04.378Z"
   },
   {
    "duration": 2543,
    "start_time": "2024-03-11T13:52:11.362Z"
   },
   {
    "duration": 2575,
    "start_time": "2024-03-11T13:52:24.607Z"
   },
   {
    "duration": 2576,
    "start_time": "2024-03-11T13:53:10.074Z"
   },
   {
    "duration": 2508,
    "start_time": "2024-03-11T13:54:33.469Z"
   },
   {
    "duration": 2759,
    "start_time": "2024-03-11T13:55:05.140Z"
   },
   {
    "duration": 2635,
    "start_time": "2024-03-11T13:55:16.783Z"
   },
   {
    "duration": 14,
    "start_time": "2024-03-11T14:55:24.227Z"
   },
   {
    "duration": 3292,
    "start_time": "2024-03-11T14:55:48.803Z"
   },
   {
    "duration": 227,
    "start_time": "2024-03-11T14:55:54.661Z"
   },
   {
    "duration": 376,
    "start_time": "2024-03-11T15:00:47.466Z"
   },
   {
    "duration": 303,
    "start_time": "2024-03-11T15:00:57.682Z"
   },
   {
    "duration": 13,
    "start_time": "2024-03-11T15:03:28.636Z"
   },
   {
    "duration": 506,
    "start_time": "2024-03-11T15:03:40.386Z"
   },
   {
    "duration": 333,
    "start_time": "2024-03-11T15:03:45.903Z"
   },
   {
    "duration": 343,
    "start_time": "2024-03-11T15:03:51.217Z"
   },
   {
    "duration": 306,
    "start_time": "2024-03-11T15:03:54.795Z"
   },
   {
    "duration": 14,
    "start_time": "2024-03-11T15:09:31.823Z"
   },
   {
    "duration": 276,
    "start_time": "2024-03-11T15:09:35.832Z"
   },
   {
    "duration": 327,
    "start_time": "2024-03-11T15:09:36.175Z"
   },
   {
    "duration": 309,
    "start_time": "2024-03-11T15:10:04.034Z"
   },
   {
    "duration": 11,
    "start_time": "2024-03-11T15:12:36.926Z"
   },
   {
    "duration": 10,
    "start_time": "2024-03-11T15:12:44.101Z"
   },
   {
    "duration": 367,
    "start_time": "2024-03-11T15:13:08.268Z"
   },
   {
    "duration": 261,
    "start_time": "2024-03-11T15:31:04.675Z"
   },
   {
    "duration": 10,
    "start_time": "2024-03-11T15:33:22.965Z"
   },
   {
    "duration": 324,
    "start_time": "2024-03-11T15:33:29.426Z"
   },
   {
    "duration": 337,
    "start_time": "2024-03-11T15:33:32.750Z"
   },
   {
    "duration": 450,
    "start_time": "2024-03-11T15:33:48.115Z"
   },
   {
    "duration": 329,
    "start_time": "2024-03-11T15:33:53.318Z"
   },
   {
    "duration": 230,
    "start_time": "2024-03-11T15:41:31.929Z"
   },
   {
    "duration": 51,
    "start_time": "2024-03-11T15:41:38.832Z"
   },
   {
    "duration": 13,
    "start_time": "2024-03-11T15:41:52.422Z"
   },
   {
    "duration": 13,
    "start_time": "2024-03-11T15:42:36.512Z"
   },
   {
    "duration": 4,
    "start_time": "2024-03-11T15:48:53.191Z"
   },
   {
    "duration": 3,
    "start_time": "2024-03-11T15:59:12.806Z"
   },
   {
    "duration": 5,
    "start_time": "2024-03-11T17:20:34.694Z"
   },
   {
    "duration": 3680,
    "start_time": "2024-03-12T11:26:22.053Z"
   },
   {
    "duration": 1695,
    "start_time": "2024-03-12T11:26:25.735Z"
   },
   {
    "duration": 3,
    "start_time": "2024-03-12T11:26:27.431Z"
   },
   {
    "duration": 6,
    "start_time": "2024-03-12T11:26:27.436Z"
   },
   {
    "duration": 527,
    "start_time": "2024-03-12T11:26:27.444Z"
   },
   {
    "duration": 580,
    "start_time": "2024-03-12T11:26:27.973Z"
   },
   {
    "duration": 553,
    "start_time": "2024-03-12T11:26:28.555Z"
   },
   {
    "duration": 13,
    "start_time": "2024-03-12T11:26:29.109Z"
   },
   {
    "duration": 9,
    "start_time": "2024-03-12T11:26:29.123Z"
   },
   {
    "duration": 9,
    "start_time": "2024-03-12T11:26:29.135Z"
   },
   {
    "duration": 26,
    "start_time": "2024-03-12T11:26:29.146Z"
   },
   {
    "duration": 38,
    "start_time": "2024-03-12T11:26:29.174Z"
   },
   {
    "duration": 14,
    "start_time": "2024-03-12T11:26:29.213Z"
   },
   {
    "duration": 61,
    "start_time": "2024-03-12T11:26:29.229Z"
   },
   {
    "duration": 15,
    "start_time": "2024-03-12T11:26:29.292Z"
   },
   {
    "duration": 35,
    "start_time": "2024-03-12T11:26:29.310Z"
   },
   {
    "duration": 62,
    "start_time": "2024-03-12T11:26:29.347Z"
   },
   {
    "duration": 42,
    "start_time": "2024-03-12T11:26:29.410Z"
   },
   {
    "duration": 46,
    "start_time": "2024-03-12T11:26:29.470Z"
   },
   {
    "duration": 5,
    "start_time": "2024-03-12T11:26:29.518Z"
   },
   {
    "duration": 8,
    "start_time": "2024-03-12T11:26:29.524Z"
   },
   {
    "duration": 51,
    "start_time": "2024-03-12T11:26:29.534Z"
   },
   {
    "duration": 3,
    "start_time": "2024-03-12T11:26:29.587Z"
   },
   {
    "duration": 6,
    "start_time": "2024-03-12T11:26:29.592Z"
   },
   {
    "duration": 45,
    "start_time": "2024-03-12T11:26:29.599Z"
   },
   {
    "duration": 3,
    "start_time": "2024-03-12T11:26:29.646Z"
   },
   {
    "duration": 11,
    "start_time": "2024-03-12T11:26:29.651Z"
   },
   {
    "duration": 39,
    "start_time": "2024-03-12T11:26:29.664Z"
   },
   {
    "duration": 10,
    "start_time": "2024-03-12T11:26:29.704Z"
   },
   {
    "duration": 17,
    "start_time": "2024-03-12T11:26:29.716Z"
   },
   {
    "duration": 21,
    "start_time": "2024-03-12T11:26:29.734Z"
   },
   {
    "duration": 2789,
    "start_time": "2024-03-12T11:26:29.756Z"
   },
   {
    "duration": 2741,
    "start_time": "2024-03-12T11:26:32.546Z"
   },
   {
    "duration": 2782,
    "start_time": "2024-03-12T11:26:35.288Z"
   },
   {
    "duration": 287,
    "start_time": "2024-03-12T11:26:38.072Z"
   },
   {
    "duration": 412,
    "start_time": "2024-03-12T11:26:38.360Z"
   },
   {
    "duration": 290,
    "start_time": "2024-03-12T11:26:38.774Z"
   },
   {
    "duration": 332,
    "start_time": "2024-03-12T11:26:39.070Z"
   },
   {
    "duration": 284,
    "start_time": "2024-03-12T11:26:39.404Z"
   },
   {
    "duration": 360,
    "start_time": "2024-03-12T11:26:39.690Z"
   },
   {
    "duration": 111,
    "start_time": "2024-03-12T11:34:46.684Z"
   },
   {
    "duration": 4,
    "start_time": "2024-03-12T11:34:50.674Z"
   },
   {
    "duration": 2,
    "start_time": "2024-03-12T11:35:20.116Z"
   },
   {
    "duration": 10,
    "start_time": "2024-03-12T11:35:22.289Z"
   },
   {
    "duration": 12,
    "start_time": "2024-03-12T11:35:45.977Z"
   },
   {
    "duration": 14,
    "start_time": "2024-03-12T11:42:45.298Z"
   },
   {
    "duration": 49,
    "start_time": "2024-03-12T11:42:53.819Z"
   },
   {
    "duration": 29,
    "start_time": "2024-03-12T11:44:01.012Z"
   },
   {
    "duration": 36,
    "start_time": "2024-03-12T11:44:08.338Z"
   },
   {
    "duration": 35,
    "start_time": "2024-03-12T11:44:14.343Z"
   },
   {
    "duration": 4,
    "start_time": "2024-03-12T11:46:03.654Z"
   },
   {
    "duration": 95,
    "start_time": "2024-03-12T11:47:16.980Z"
   },
   {
    "duration": 36,
    "start_time": "2024-03-12T11:47:25.141Z"
   },
   {
    "duration": 36,
    "start_time": "2024-03-12T11:50:40.564Z"
   },
   {
    "duration": 6,
    "start_time": "2024-03-12T11:55:56.460Z"
   },
   {
    "duration": 32,
    "start_time": "2024-03-12T11:55:57.272Z"
   },
   {
    "duration": 32,
    "start_time": "2024-03-12T11:56:46.356Z"
   },
   {
    "duration": 31,
    "start_time": "2024-03-12T11:57:02.574Z"
   },
   {
    "duration": 5,
    "start_time": "2024-03-12T12:02:01.658Z"
   },
   {
    "duration": 35,
    "start_time": "2024-03-12T12:02:12.726Z"
   },
   {
    "duration": 33,
    "start_time": "2024-03-12T12:02:13.346Z"
   },
   {
    "duration": 31,
    "start_time": "2024-03-12T12:02:14.131Z"
   },
   {
    "duration": 101,
    "start_time": "2024-03-12T12:45:47.495Z"
   },
   {
    "duration": 7,
    "start_time": "2024-03-12T12:46:05.451Z"
   },
   {
    "duration": 43,
    "start_time": "2024-03-12T12:46:14.336Z"
   },
   {
    "duration": 6,
    "start_time": "2024-03-12T12:48:30.347Z"
   },
   {
    "duration": 137,
    "start_time": "2024-03-12T12:48:39.342Z"
   },
   {
    "duration": 7,
    "start_time": "2024-03-12T12:49:42.325Z"
   },
   {
    "duration": 38,
    "start_time": "2024-03-12T12:49:53.079Z"
   },
   {
    "duration": 35,
    "start_time": "2024-03-12T12:49:53.879Z"
   },
   {
    "duration": 36,
    "start_time": "2024-03-12T12:49:57.445Z"
   },
   {
    "duration": 2551,
    "start_time": "2024-03-12T12:57:40.950Z"
   },
   {
    "duration": 4,
    "start_time": "2024-03-12T12:57:43.504Z"
   },
   {
    "duration": 10,
    "start_time": "2024-03-12T12:57:43.510Z"
   },
   {
    "duration": 11,
    "start_time": "2024-03-12T12:57:43.522Z"
   },
   {
    "duration": 7,
    "start_time": "2024-03-12T12:57:43.535Z"
   },
   {
    "duration": 156,
    "start_time": "2024-03-12T12:57:43.544Z"
   },
   {
    "duration": 130,
    "start_time": "2024-03-12T12:57:43.702Z"
   },
   {
    "duration": 134,
    "start_time": "2024-03-12T12:57:43.834Z"
   },
   {
    "duration": 10,
    "start_time": "2024-03-12T12:57:43.969Z"
   },
   {
    "duration": 19,
    "start_time": "2024-03-12T12:57:43.981Z"
   },
   {
    "duration": 22,
    "start_time": "2024-03-12T12:57:44.002Z"
   },
   {
    "duration": 22,
    "start_time": "2024-03-12T12:57:44.025Z"
   },
   {
    "duration": 39,
    "start_time": "2024-03-12T12:57:44.048Z"
   },
   {
    "duration": 14,
    "start_time": "2024-03-12T12:57:44.088Z"
   },
   {
    "duration": 35,
    "start_time": "2024-03-12T12:57:44.104Z"
   },
   {
    "duration": 35,
    "start_time": "2024-03-12T12:57:44.141Z"
   },
   {
    "duration": 37,
    "start_time": "2024-03-12T12:57:44.177Z"
   },
   {
    "duration": 69,
    "start_time": "2024-03-12T12:57:44.216Z"
   },
   {
    "duration": 40,
    "start_time": "2024-03-12T12:57:44.287Z"
   },
   {
    "duration": 61,
    "start_time": "2024-03-12T12:57:44.329Z"
   },
   {
    "duration": 4,
    "start_time": "2024-03-12T12:57:44.391Z"
   },
   {
    "duration": 10,
    "start_time": "2024-03-12T12:57:44.396Z"
   },
   {
    "duration": 32,
    "start_time": "2024-03-12T12:57:44.408Z"
   },
   {
    "duration": 4,
    "start_time": "2024-03-12T12:57:44.441Z"
   },
   {
    "duration": 24,
    "start_time": "2024-03-12T12:57:44.446Z"
   },
   {
    "duration": 40,
    "start_time": "2024-03-12T12:57:44.471Z"
   },
   {
    "duration": 3,
    "start_time": "2024-03-12T12:57:44.513Z"
   },
   {
    "duration": 7,
    "start_time": "2024-03-12T12:57:44.520Z"
   },
   {
    "duration": 34,
    "start_time": "2024-03-12T12:57:44.528Z"
   },
   {
    "duration": 15,
    "start_time": "2024-03-12T12:57:44.564Z"
   },
   {
    "duration": 11,
    "start_time": "2024-03-12T12:57:44.581Z"
   },
   {
    "duration": 19,
    "start_time": "2024-03-12T12:57:44.593Z"
   },
   {
    "duration": 2672,
    "start_time": "2024-03-12T12:57:44.614Z"
   },
   {
    "duration": 2689,
    "start_time": "2024-03-12T12:57:47.288Z"
   },
   {
    "duration": 2911,
    "start_time": "2024-03-12T12:57:49.978Z"
   },
   {
    "duration": 309,
    "start_time": "2024-03-12T12:57:52.890Z"
   },
   {
    "duration": 345,
    "start_time": "2024-03-12T12:57:53.200Z"
   },
   {
    "duration": 289,
    "start_time": "2024-03-12T12:57:53.547Z"
   },
   {
    "duration": 324,
    "start_time": "2024-03-12T12:57:53.838Z"
   },
   {
    "duration": 278,
    "start_time": "2024-03-12T12:57:54.169Z"
   },
   {
    "duration": 313,
    "start_time": "2024-03-12T12:57:54.449Z"
   },
   {
    "duration": 205,
    "start_time": "2024-03-12T12:57:54.764Z"
   },
   {
    "duration": 121,
    "start_time": "2024-03-12T12:57:54.972Z"
   },
   {
    "duration": 194,
    "start_time": "2024-03-12T12:57:55.095Z"
   },
   {
    "duration": 2460,
    "start_time": "2024-03-12T12:58:24.811Z"
   },
   {
    "duration": 1503,
    "start_time": "2024-03-12T12:58:27.273Z"
   },
   {
    "duration": 6,
    "start_time": "2024-03-12T12:58:28.778Z"
   },
   {
    "duration": 6,
    "start_time": "2024-03-12T12:58:28.786Z"
   },
   {
    "duration": 4,
    "start_time": "2024-03-12T12:58:28.794Z"
   },
   {
    "duration": 155,
    "start_time": "2024-03-12T12:58:28.799Z"
   },
   {
    "duration": 129,
    "start_time": "2024-03-12T12:58:28.956Z"
   },
   {
    "duration": 137,
    "start_time": "2024-03-12T12:58:29.086Z"
   },
   {
    "duration": 13,
    "start_time": "2024-03-12T12:58:29.224Z"
   },
   {
    "duration": 9,
    "start_time": "2024-03-12T12:58:29.239Z"
   },
   {
    "duration": 20,
    "start_time": "2024-03-12T12:58:29.250Z"
   },
   {
    "duration": 15,
    "start_time": "2024-03-12T12:58:29.272Z"
   },
   {
    "duration": 37,
    "start_time": "2024-03-12T12:58:29.288Z"
   },
   {
    "duration": 14,
    "start_time": "2024-03-12T12:58:29.326Z"
   },
   {
    "duration": 59,
    "start_time": "2024-03-12T12:58:29.342Z"
   },
   {
    "duration": 14,
    "start_time": "2024-03-12T12:58:29.403Z"
   },
   {
    "duration": 51,
    "start_time": "2024-03-12T12:58:29.419Z"
   },
   {
    "duration": 47,
    "start_time": "2024-03-12T12:58:29.472Z"
   },
   {
    "duration": 57,
    "start_time": "2024-03-12T12:58:29.520Z"
   },
   {
    "duration": 45,
    "start_time": "2024-03-12T12:58:29.579Z"
   },
   {
    "duration": 3,
    "start_time": "2024-03-12T12:58:29.626Z"
   },
   {
    "duration": 6,
    "start_time": "2024-03-12T12:58:29.631Z"
   },
   {
    "duration": 52,
    "start_time": "2024-03-12T12:58:29.639Z"
   },
   {
    "duration": 4,
    "start_time": "2024-03-12T12:58:29.692Z"
   },
   {
    "duration": 16,
    "start_time": "2024-03-12T12:58:29.697Z"
   },
   {
    "duration": 35,
    "start_time": "2024-03-12T12:58:29.715Z"
   },
   {
    "duration": 4,
    "start_time": "2024-03-12T12:58:29.751Z"
   },
   {
    "duration": 12,
    "start_time": "2024-03-12T12:58:29.759Z"
   },
   {
    "duration": 35,
    "start_time": "2024-03-12T12:58:29.772Z"
   },
   {
    "duration": 11,
    "start_time": "2024-03-12T12:58:29.808Z"
   },
   {
    "duration": 17,
    "start_time": "2024-03-12T12:58:29.820Z"
   },
   {
    "duration": 10,
    "start_time": "2024-03-12T12:58:29.839Z"
   },
   {
    "duration": 2787,
    "start_time": "2024-03-12T12:58:29.850Z"
   },
   {
    "duration": 2710,
    "start_time": "2024-03-12T12:58:32.638Z"
   },
   {
    "duration": 2726,
    "start_time": "2024-03-12T12:58:35.350Z"
   },
   {
    "duration": 291,
    "start_time": "2024-03-12T12:58:38.078Z"
   },
   {
    "duration": 450,
    "start_time": "2024-03-12T12:58:38.371Z"
   },
   {
    "duration": 290,
    "start_time": "2024-03-12T12:58:38.822Z"
   },
   {
    "duration": 335,
    "start_time": "2024-03-12T12:58:39.113Z"
   },
   {
    "duration": 290,
    "start_time": "2024-03-12T12:58:39.450Z"
   },
   {
    "duration": 324,
    "start_time": "2024-03-12T12:58:39.742Z"
   },
   {
    "duration": 103,
    "start_time": "2024-03-12T12:58:40.069Z"
   },
   {
    "duration": 126,
    "start_time": "2024-03-12T12:58:40.174Z"
   },
   {
    "duration": 204,
    "start_time": "2024-03-12T12:58:40.370Z"
   },
   {
    "duration": 3,
    "start_time": "2024-03-12T13:01:16.031Z"
   },
   {
    "duration": 6,
    "start_time": "2024-03-12T13:01:51.902Z"
   },
   {
    "duration": 84,
    "start_time": "2024-03-12T13:01:57.786Z"
   },
   {
    "duration": 5,
    "start_time": "2024-03-12T13:02:08.175Z"
   },
   {
    "duration": 35,
    "start_time": "2024-03-12T13:02:12.785Z"
   },
   {
    "duration": 6,
    "start_time": "2024-03-12T13:02:24.369Z"
   },
   {
    "duration": 34,
    "start_time": "2024-03-12T13:02:29.492Z"
   },
   {
    "duration": 6,
    "start_time": "2024-03-12T13:02:38.338Z"
   },
   {
    "duration": 37,
    "start_time": "2024-03-12T13:02:46.647Z"
   },
   {
    "duration": 33,
    "start_time": "2024-03-12T13:02:47.888Z"
   },
   {
    "duration": 40,
    "start_time": "2024-03-12T13:02:50.717Z"
   },
   {
    "duration": 5,
    "start_time": "2024-03-12T13:14:37.275Z"
   },
   {
    "duration": 3,
    "start_time": "2024-03-12T13:22:39.304Z"
   },
   {
    "duration": 4,
    "start_time": "2024-03-12T13:22:46.289Z"
   },
   {
    "duration": 5,
    "start_time": "2024-03-12T14:13:00.405Z"
   },
   {
    "duration": 119,
    "start_time": "2024-03-12T14:13:22.738Z"
   },
   {
    "duration": 3,
    "start_time": "2024-03-12T14:13:34.203Z"
   },
   {
    "duration": 3,
    "start_time": "2024-03-12T14:13:41.462Z"
   },
   {
    "duration": 3,
    "start_time": "2024-03-12T14:13:43.342Z"
   },
   {
    "duration": 3,
    "start_time": "2024-03-12T14:13:47.266Z"
   },
   {
    "duration": 4,
    "start_time": "2024-03-12T14:13:48.771Z"
   },
   {
    "duration": 3,
    "start_time": "2024-03-12T14:14:03.767Z"
   },
   {
    "duration": 4,
    "start_time": "2024-03-12T14:14:06.726Z"
   },
   {
    "duration": 3,
    "start_time": "2024-03-12T14:14:11.775Z"
   },
   {
    "duration": 4,
    "start_time": "2024-03-12T14:14:16.374Z"
   },
   {
    "duration": 3,
    "start_time": "2024-03-12T14:14:50.984Z"
   },
   {
    "duration": 4,
    "start_time": "2024-03-12T14:14:55.677Z"
   },
   {
    "duration": 4,
    "start_time": "2024-03-12T14:15:00.861Z"
   },
   {
    "duration": 4,
    "start_time": "2024-03-12T14:15:03.709Z"
   },
   {
    "duration": 3,
    "start_time": "2024-03-12T14:17:17.459Z"
   },
   {
    "duration": 4,
    "start_time": "2024-03-12T14:17:17.834Z"
   },
   {
    "duration": 4,
    "start_time": "2024-03-12T14:17:18.144Z"
   },
   {
    "duration": 4,
    "start_time": "2024-03-12T14:17:18.389Z"
   },
   {
    "duration": 4,
    "start_time": "2024-03-12T14:17:23.769Z"
   },
   {
    "duration": 4,
    "start_time": "2024-03-12T14:17:25.699Z"
   },
   {
    "duration": 4,
    "start_time": "2024-03-12T14:17:25.862Z"
   },
   {
    "duration": 3,
    "start_time": "2024-03-12T14:17:26.584Z"
   },
   {
    "duration": 3,
    "start_time": "2024-03-12T14:17:37.836Z"
   },
   {
    "duration": 4,
    "start_time": "2024-03-12T14:20:52.954Z"
   },
   {
    "duration": 10,
    "start_time": "2024-03-12T14:21:01.625Z"
   },
   {
    "duration": 8,
    "start_time": "2024-03-12T14:21:05.749Z"
   },
   {
    "duration": 4,
    "start_time": "2024-03-12T14:21:10.738Z"
   },
   {
    "duration": 3,
    "start_time": "2024-03-12T14:21:16.218Z"
   },
   {
    "duration": 2450,
    "start_time": "2024-03-12T14:21:44.913Z"
   },
   {
    "duration": 1502,
    "start_time": "2024-03-12T14:21:47.365Z"
   },
   {
    "duration": 6,
    "start_time": "2024-03-12T14:21:48.869Z"
   },
   {
    "duration": 22,
    "start_time": "2024-03-12T14:21:48.877Z"
   },
   {
    "duration": 26,
    "start_time": "2024-03-12T14:21:48.901Z"
   },
   {
    "duration": 18,
    "start_time": "2024-03-12T14:21:48.929Z"
   },
   {
    "duration": 169,
    "start_time": "2024-03-12T14:21:48.949Z"
   },
   {
    "duration": 131,
    "start_time": "2024-03-12T14:21:49.120Z"
   },
   {
    "duration": 136,
    "start_time": "2024-03-12T14:21:49.252Z"
   },
   {
    "duration": 14,
    "start_time": "2024-03-12T14:21:49.391Z"
   },
   {
    "duration": 10,
    "start_time": "2024-03-12T14:21:49.407Z"
   },
   {
    "duration": 11,
    "start_time": "2024-03-12T14:21:49.418Z"
   },
   {
    "duration": 16,
    "start_time": "2024-03-12T14:21:49.431Z"
   },
   {
    "duration": 55,
    "start_time": "2024-03-12T14:21:49.449Z"
   },
   {
    "duration": 15,
    "start_time": "2024-03-12T14:21:49.505Z"
   },
   {
    "duration": 57,
    "start_time": "2024-03-12T14:21:49.521Z"
   },
   {
    "duration": 15,
    "start_time": "2024-03-12T14:21:49.579Z"
   },
   {
    "duration": 38,
    "start_time": "2024-03-12T14:21:49.595Z"
   },
   {
    "duration": 70,
    "start_time": "2024-03-12T14:21:49.634Z"
   },
   {
    "duration": 45,
    "start_time": "2024-03-12T14:21:49.705Z"
   },
   {
    "duration": 55,
    "start_time": "2024-03-12T14:21:49.751Z"
   },
   {
    "duration": 4,
    "start_time": "2024-03-12T14:21:49.808Z"
   },
   {
    "duration": 7,
    "start_time": "2024-03-12T14:21:49.814Z"
   },
   {
    "duration": 50,
    "start_time": "2024-03-12T14:21:49.823Z"
   },
   {
    "duration": 4,
    "start_time": "2024-03-12T14:21:49.875Z"
   },
   {
    "duration": 30,
    "start_time": "2024-03-12T14:21:49.880Z"
   },
   {
    "duration": 26,
    "start_time": "2024-03-12T14:21:49.912Z"
   },
   {
    "duration": 4,
    "start_time": "2024-03-12T14:21:49.943Z"
   },
   {
    "duration": 9,
    "start_time": "2024-03-12T14:21:49.948Z"
   },
   {
    "duration": 47,
    "start_time": "2024-03-12T14:21:49.958Z"
   },
   {
    "duration": 10,
    "start_time": "2024-03-12T14:21:50.007Z"
   },
   {
    "duration": 19,
    "start_time": "2024-03-12T14:21:50.019Z"
   },
   {
    "duration": 20,
    "start_time": "2024-03-12T14:21:50.039Z"
   },
   {
    "duration": 2660,
    "start_time": "2024-03-12T14:21:50.061Z"
   },
   {
    "duration": 2754,
    "start_time": "2024-03-12T14:21:52.723Z"
   },
   {
    "duration": 2809,
    "start_time": "2024-03-12T14:21:55.478Z"
   },
   {
    "duration": 294,
    "start_time": "2024-03-12T14:21:58.289Z"
   },
   {
    "duration": 454,
    "start_time": "2024-03-12T14:21:58.585Z"
   },
   {
    "duration": 285,
    "start_time": "2024-03-12T14:21:59.041Z"
   },
   {
    "duration": 335,
    "start_time": "2024-03-12T14:21:59.328Z"
   },
   {
    "duration": 316,
    "start_time": "2024-03-12T14:21:59.669Z"
   },
   {
    "duration": 352,
    "start_time": "2024-03-12T14:21:59.987Z"
   },
   {
    "duration": 50,
    "start_time": "2024-03-12T14:22:00.341Z"
   },
   {
    "duration": 197,
    "start_time": "2024-03-12T14:22:00.393Z"
   },
   {
    "duration": 210,
    "start_time": "2024-03-12T14:22:00.591Z"
   },
   {
    "duration": 102,
    "start_time": "2024-03-12T14:22:00.870Z"
   },
   {
    "duration": 110,
    "start_time": "2024-03-12T14:22:00.973Z"
   },
   {
    "duration": 70,
    "start_time": "2024-03-12T14:22:01.085Z"
   },
   {
    "duration": 33,
    "start_time": "2024-03-12T14:22:01.157Z"
   },
   {
    "duration": 14,
    "start_time": "2024-03-12T14:22:24.445Z"
   },
   {
    "duration": 16,
    "start_time": "2024-03-12T14:22:26.588Z"
   },
   {
    "duration": 14,
    "start_time": "2024-03-12T14:22:47.964Z"
   },
   {
    "duration": 14,
    "start_time": "2024-03-12T14:22:48.488Z"
   },
   {
    "duration": 8,
    "start_time": "2024-03-12T14:23:26.145Z"
   },
   {
    "duration": 126,
    "start_time": "2024-03-12T14:23:37.089Z"
   },
   {
    "duration": 6,
    "start_time": "2024-03-12T14:23:41.330Z"
   },
   {
    "duration": 4,
    "start_time": "2024-03-12T14:24:05.128Z"
   },
   {
    "duration": 6,
    "start_time": "2024-03-12T14:24:09.429Z"
   },
   {
    "duration": 9,
    "start_time": "2024-03-12T14:24:19.408Z"
   },
   {
    "duration": 3,
    "start_time": "2024-03-12T14:24:31.378Z"
   },
   {
    "duration": 3,
    "start_time": "2024-03-12T14:24:33.754Z"
   },
   {
    "duration": 3,
    "start_time": "2024-03-12T14:25:16.655Z"
   },
   {
    "duration": 4,
    "start_time": "2024-03-12T14:25:19.126Z"
   },
   {
    "duration": 3,
    "start_time": "2024-03-12T14:26:59.823Z"
   },
   {
    "duration": 3,
    "start_time": "2024-03-12T14:28:03.696Z"
   },
   {
    "duration": 3,
    "start_time": "2024-03-12T14:28:06.117Z"
   },
   {
    "duration": 4,
    "start_time": "2024-03-12T14:28:23.816Z"
   },
   {
    "duration": 9,
    "start_time": "2024-03-12T14:28:31.554Z"
   },
   {
    "duration": 2,
    "start_time": "2024-03-12T14:28:39.180Z"
   },
   {
    "duration": 3,
    "start_time": "2024-03-12T14:28:41.701Z"
   },
   {
    "duration": 3,
    "start_time": "2024-03-12T14:28:44.025Z"
   },
   {
    "duration": 4,
    "start_time": "2024-03-12T14:28:50.245Z"
   },
   {
    "duration": 4,
    "start_time": "2024-03-12T14:28:54.942Z"
   },
   {
    "duration": 4,
    "start_time": "2024-03-12T14:28:58.543Z"
   },
   {
    "duration": 4,
    "start_time": "2024-03-12T14:29:01.276Z"
   },
   {
    "duration": 18,
    "start_time": "2024-03-12T14:30:32.317Z"
   },
   {
    "duration": 3,
    "start_time": "2024-03-12T14:31:27.477Z"
   },
   {
    "duration": 9,
    "start_time": "2024-03-12T14:31:41.274Z"
   },
   {
    "duration": 15,
    "start_time": "2024-03-12T14:31:48.979Z"
   },
   {
    "duration": 26,
    "start_time": "2024-03-12T14:31:56.207Z"
   },
   {
    "duration": 17,
    "start_time": "2024-03-12T14:32:00.320Z"
   },
   {
    "duration": 3,
    "start_time": "2024-03-12T14:34:22.244Z"
   },
   {
    "duration": 16,
    "start_time": "2024-03-12T14:34:25.906Z"
   },
   {
    "duration": 17,
    "start_time": "2024-03-12T14:34:31.043Z"
   },
   {
    "duration": 17,
    "start_time": "2024-03-12T14:34:33.595Z"
   },
   {
    "duration": 17,
    "start_time": "2024-03-12T14:39:56.827Z"
   },
   {
    "duration": 17,
    "start_time": "2024-03-12T14:40:02.014Z"
   },
   {
    "duration": 15,
    "start_time": "2024-03-12T14:40:32.015Z"
   },
   {
    "duration": 9,
    "start_time": "2024-03-12T14:40:46.923Z"
   },
   {
    "duration": 5,
    "start_time": "2024-03-12T14:41:47.617Z"
   },
   {
    "duration": 8,
    "start_time": "2024-03-12T14:41:57.682Z"
   },
   {
    "duration": 8,
    "start_time": "2024-03-12T14:42:06.823Z"
   },
   {
    "duration": 7,
    "start_time": "2024-03-12T14:42:23.706Z"
   },
   {
    "duration": 6,
    "start_time": "2024-03-12T14:42:32.752Z"
   },
   {
    "duration": 5,
    "start_time": "2024-03-12T14:43:03.789Z"
   },
   {
    "duration": 6,
    "start_time": "2024-03-12T14:43:10.509Z"
   },
   {
    "duration": 6,
    "start_time": "2024-03-12T14:44:37.240Z"
   },
   {
    "duration": 6,
    "start_time": "2024-03-12T14:44:45.928Z"
   },
   {
    "duration": 7,
    "start_time": "2024-03-12T14:44:50.360Z"
   },
   {
    "duration": 3,
    "start_time": "2024-03-12T14:46:46.929Z"
   },
   {
    "duration": 3,
    "start_time": "2024-03-12T14:46:59.818Z"
   },
   {
    "duration": 4,
    "start_time": "2024-03-12T14:47:11.293Z"
   },
   {
    "duration": 7,
    "start_time": "2024-03-12T14:47:11.914Z"
   },
   {
    "duration": 6,
    "start_time": "2024-03-12T14:47:12.093Z"
   },
   {
    "duration": 6,
    "start_time": "2024-03-12T14:47:12.274Z"
   },
   {
    "duration": 3,
    "start_time": "2024-03-12T14:47:12.978Z"
   },
   {
    "duration": 17,
    "start_time": "2024-03-12T14:47:13.336Z"
   },
   {
    "duration": 16,
    "start_time": "2024-03-12T14:47:13.549Z"
   },
   {
    "duration": 18,
    "start_time": "2024-03-12T14:47:13.778Z"
   },
   {
    "duration": 3,
    "start_time": "2024-03-12T14:47:27.251Z"
   },
   {
    "duration": 9,
    "start_time": "2024-03-12T14:54:58.092Z"
   },
   {
    "duration": 22,
    "start_time": "2024-03-12T14:55:31.828Z"
   },
   {
    "duration": 3316,
    "start_time": "2024-03-13T13:10:39.555Z"
   },
   {
    "duration": 1637,
    "start_time": "2024-03-13T13:10:42.873Z"
   },
   {
    "duration": 6,
    "start_time": "2024-03-13T13:10:44.512Z"
   },
   {
    "duration": 16,
    "start_time": "2024-03-13T13:10:44.520Z"
   },
   {
    "duration": 6,
    "start_time": "2024-03-13T13:10:44.538Z"
   },
   {
    "duration": 13,
    "start_time": "2024-03-13T13:10:44.546Z"
   },
   {
    "duration": 6,
    "start_time": "2024-03-13T13:10:44.560Z"
   },
   {
    "duration": 520,
    "start_time": "2024-03-13T13:10:44.567Z"
   },
   {
    "duration": 557,
    "start_time": "2024-03-13T13:10:45.089Z"
   },
   {
    "duration": 529,
    "start_time": "2024-03-13T13:10:45.648Z"
   },
   {
    "duration": 13,
    "start_time": "2024-03-13T13:10:46.178Z"
   },
   {
    "duration": 28,
    "start_time": "2024-03-13T13:10:46.192Z"
   },
   {
    "duration": 18,
    "start_time": "2024-03-13T13:10:46.221Z"
   },
   {
    "duration": 45,
    "start_time": "2024-03-13T13:10:46.240Z"
   },
   {
    "duration": 42,
    "start_time": "2024-03-13T13:10:46.287Z"
   },
   {
    "duration": 13,
    "start_time": "2024-03-13T13:10:46.331Z"
   },
   {
    "duration": 60,
    "start_time": "2024-03-13T13:10:46.346Z"
   },
   {
    "duration": 13,
    "start_time": "2024-03-13T13:10:46.408Z"
   },
   {
    "duration": 43,
    "start_time": "2024-03-13T13:10:46.423Z"
   },
   {
    "duration": 49,
    "start_time": "2024-03-13T13:10:46.468Z"
   },
   {
    "duration": 41,
    "start_time": "2024-03-13T13:10:46.518Z"
   },
   {
    "duration": 56,
    "start_time": "2024-03-13T13:10:46.560Z"
   },
   {
    "duration": 4,
    "start_time": "2024-03-13T13:10:46.617Z"
   },
   {
    "duration": 14,
    "start_time": "2024-03-13T13:10:46.622Z"
   },
   {
    "duration": 34,
    "start_time": "2024-03-13T13:10:46.637Z"
   },
   {
    "duration": 16,
    "start_time": "2024-03-13T13:10:46.673Z"
   },
   {
    "duration": 6,
    "start_time": "2024-03-13T13:10:46.690Z"
   },
   {
    "duration": 25,
    "start_time": "2024-03-13T13:10:46.700Z"
   },
   {
    "duration": 3,
    "start_time": "2024-03-13T13:10:46.727Z"
   },
   {
    "duration": 12,
    "start_time": "2024-03-13T13:10:46.731Z"
   },
   {
    "duration": 45,
    "start_time": "2024-03-13T13:10:46.745Z"
   },
   {
    "duration": 10,
    "start_time": "2024-03-13T13:10:46.791Z"
   },
   {
    "duration": 13,
    "start_time": "2024-03-13T13:10:46.803Z"
   },
   {
    "duration": 9,
    "start_time": "2024-03-13T13:10:46.817Z"
   },
   {
    "duration": 2665,
    "start_time": "2024-03-13T13:10:46.827Z"
   },
   {
    "duration": 2687,
    "start_time": "2024-03-13T13:10:49.494Z"
   },
   {
    "duration": 2735,
    "start_time": "2024-03-13T13:10:52.187Z"
   },
   {
    "duration": 311,
    "start_time": "2024-03-13T13:10:54.923Z"
   },
   {
    "duration": 454,
    "start_time": "2024-03-13T13:10:55.235Z"
   },
   {
    "duration": 277,
    "start_time": "2024-03-13T13:10:55.692Z"
   },
   {
    "duration": 306,
    "start_time": "2024-03-13T13:10:55.970Z"
   },
   {
    "duration": 290,
    "start_time": "2024-03-13T13:10:56.278Z"
   },
   {
    "duration": 303,
    "start_time": "2024-03-13T13:10:56.570Z"
   },
   {
    "duration": 114,
    "start_time": "2024-03-13T13:10:56.875Z"
   },
   {
    "duration": 120,
    "start_time": "2024-03-13T13:10:56.991Z"
   },
   {
    "duration": 282,
    "start_time": "2024-03-13T13:10:57.113Z"
   },
   {
    "duration": 90,
    "start_time": "2024-03-13T13:10:57.398Z"
   },
   {
    "duration": 7,
    "start_time": "2024-03-13T13:10:57.490Z"
   },
   {
    "duration": 11,
    "start_time": "2024-03-13T13:10:57.499Z"
   },
   {
    "duration": 7,
    "start_time": "2024-03-13T13:10:57.512Z"
   },
   {
    "duration": 16,
    "start_time": "2024-03-13T13:10:57.521Z"
   },
   {
    "duration": 52,
    "start_time": "2024-03-13T13:10:57.539Z"
   },
   {
    "duration": 29,
    "start_time": "2024-03-13T13:10:57.593Z"
   },
   {
    "duration": 3,
    "start_time": "2024-03-13T13:58:50.541Z"
   },
   {
    "duration": 3,
    "start_time": "2024-03-13T13:59:27.816Z"
   },
   {
    "duration": 122,
    "start_time": "2024-03-13T13:59:29.135Z"
   },
   {
    "duration": 6,
    "start_time": "2024-03-13T14:00:13.166Z"
   },
   {
    "duration": 2,
    "start_time": "2024-03-13T14:00:44.207Z"
   },
   {
    "duration": 10,
    "start_time": "2024-03-13T14:00:51.681Z"
   },
   {
    "duration": 6,
    "start_time": "2024-03-13T14:00:59.091Z"
   },
   {
    "duration": 4,
    "start_time": "2024-03-13T14:01:10.171Z"
   },
   {
    "duration": 11,
    "start_time": "2024-03-13T14:01:23.744Z"
   },
   {
    "duration": 11,
    "start_time": "2024-03-13T14:02:23.864Z"
   },
   {
    "duration": 103,
    "start_time": "2024-03-13T14:02:46.007Z"
   },
   {
    "duration": 4,
    "start_time": "2024-03-13T14:03:05.173Z"
   },
   {
    "duration": 5,
    "start_time": "2024-03-13T14:18:21.854Z"
   },
   {
    "duration": 9,
    "start_time": "2024-03-13T14:20:46.880Z"
   },
   {
    "duration": 4,
    "start_time": "2024-03-13T14:20:52.606Z"
   },
   {
    "duration": 3,
    "start_time": "2024-03-13T14:20:54.072Z"
   },
   {
    "duration": 99,
    "start_time": "2024-03-13T14:25:22.004Z"
   },
   {
    "duration": 102,
    "start_time": "2024-03-13T14:25:30.182Z"
   },
   {
    "duration": 4,
    "start_time": "2024-03-13T14:25:38.200Z"
   },
   {
    "duration": 4,
    "start_time": "2024-03-13T14:26:04.863Z"
   },
   {
    "duration": 97,
    "start_time": "2024-03-13T14:26:18.405Z"
   },
   {
    "duration": 220,
    "start_time": "2024-03-13T14:27:43.381Z"
   },
   {
    "duration": 4,
    "start_time": "2024-03-13T14:28:02.450Z"
   },
   {
    "duration": 3,
    "start_time": "2024-03-13T14:28:57.015Z"
   },
   {
    "duration": 13,
    "start_time": "2024-03-13T14:29:30.599Z"
   },
   {
    "duration": 3,
    "start_time": "2024-03-13T14:29:39.271Z"
   },
   {
    "duration": 4,
    "start_time": "2024-03-13T14:30:11.768Z"
   },
   {
    "duration": 5,
    "start_time": "2024-03-13T14:30:24.545Z"
   },
   {
    "duration": 4,
    "start_time": "2024-03-13T14:30:39.488Z"
   },
   {
    "duration": 5,
    "start_time": "2024-03-13T14:30:57.719Z"
   },
   {
    "duration": 15,
    "start_time": "2024-03-13T14:31:20.320Z"
   },
   {
    "duration": 11,
    "start_time": "2024-03-13T14:31:55.591Z"
   },
   {
    "duration": 24,
    "start_time": "2024-03-13T14:31:59.760Z"
   },
   {
    "duration": 8,
    "start_time": "2024-03-13T14:33:21.834Z"
   },
   {
    "duration": 200,
    "start_time": "2024-03-13T14:40:03.012Z"
   },
   {
    "duration": 4,
    "start_time": "2024-03-13T14:40:03.830Z"
   },
   {
    "duration": 5,
    "start_time": "2024-03-13T14:40:04.337Z"
   },
   {
    "duration": 8,
    "start_time": "2024-03-13T14:40:04.892Z"
   },
   {
    "duration": 3,
    "start_time": "2024-03-13T15:05:53.165Z"
   },
   {
    "duration": 4,
    "start_time": "2024-03-13T15:06:40.465Z"
   },
   {
    "duration": 3,
    "start_time": "2024-03-13T15:07:06.970Z"
   },
   {
    "duration": 4,
    "start_time": "2024-03-13T15:07:13.777Z"
   },
   {
    "duration": 13,
    "start_time": "2024-03-13T15:07:18.213Z"
   },
   {
    "duration": 3,
    "start_time": "2024-03-13T15:07:21.318Z"
   },
   {
    "duration": 4,
    "start_time": "2024-03-13T15:07:23.822Z"
   },
   {
    "duration": 5,
    "start_time": "2024-03-13T15:10:37.230Z"
   },
   {
    "duration": 3,
    "start_time": "2024-03-13T15:10:41.662Z"
   },
   {
    "duration": 4,
    "start_time": "2024-03-13T15:12:05.891Z"
   },
   {
    "duration": 3,
    "start_time": "2024-03-13T15:12:10.569Z"
   },
   {
    "duration": 3,
    "start_time": "2024-03-13T15:12:38.422Z"
   },
   {
    "duration": 320,
    "start_time": "2024-03-13T15:12:55.638Z"
   },
   {
    "duration": 4,
    "start_time": "2024-03-13T15:12:58.170Z"
   },
   {
    "duration": 3,
    "start_time": "2024-03-13T15:12:58.512Z"
   },
   {
    "duration": 4,
    "start_time": "2024-03-13T15:12:59.036Z"
   },
   {
    "duration": 173,
    "start_time": "2024-03-13T15:13:32.413Z"
   },
   {
    "duration": 4,
    "start_time": "2024-03-13T15:13:32.724Z"
   },
   {
    "duration": 10,
    "start_time": "2024-03-13T15:24:34.771Z"
   },
   {
    "duration": 283,
    "start_time": "2024-03-13T15:25:02.642Z"
   },
   {
    "duration": 4,
    "start_time": "2024-03-13T15:25:03.688Z"
   },
   {
    "duration": 5,
    "start_time": "2024-03-13T15:29:12.558Z"
   },
   {
    "duration": 9,
    "start_time": "2024-03-13T15:29:20.730Z"
   },
   {
    "duration": 9,
    "start_time": "2024-03-13T15:29:25.375Z"
   },
   {
    "duration": 292,
    "start_time": "2024-03-13T15:29:34.942Z"
   },
   {
    "duration": 8,
    "start_time": "2024-03-13T15:29:45.761Z"
   },
   {
    "duration": 277,
    "start_time": "2024-03-13T15:29:46.286Z"
   },
   {
    "duration": 4,
    "start_time": "2024-03-13T15:30:42.256Z"
   },
   {
    "duration": 8,
    "start_time": "2024-03-13T15:30:55.906Z"
   },
   {
    "duration": 2413,
    "start_time": "2024-03-13T15:33:38.418Z"
   },
   {
    "duration": 1331,
    "start_time": "2024-03-13T15:33:40.833Z"
   },
   {
    "duration": 6,
    "start_time": "2024-03-13T15:33:42.165Z"
   },
   {
    "duration": 17,
    "start_time": "2024-03-13T15:33:42.173Z"
   },
   {
    "duration": 16,
    "start_time": "2024-03-13T15:33:42.191Z"
   },
   {
    "duration": 12,
    "start_time": "2024-03-13T15:33:42.209Z"
   },
   {
    "duration": 15,
    "start_time": "2024-03-13T15:33:42.223Z"
   },
   {
    "duration": 146,
    "start_time": "2024-03-13T15:33:42.239Z"
   },
   {
    "duration": 125,
    "start_time": "2024-03-13T15:33:42.387Z"
   },
   {
    "duration": 144,
    "start_time": "2024-03-13T15:33:42.514Z"
   },
   {
    "duration": 12,
    "start_time": "2024-03-13T15:33:42.660Z"
   },
   {
    "duration": 16,
    "start_time": "2024-03-13T15:33:42.674Z"
   },
   {
    "duration": 13,
    "start_time": "2024-03-13T15:33:42.691Z"
   },
   {
    "duration": 21,
    "start_time": "2024-03-13T15:33:42.706Z"
   },
   {
    "duration": 36,
    "start_time": "2024-03-13T15:33:42.728Z"
   },
   {
    "duration": 31,
    "start_time": "2024-03-13T15:33:42.766Z"
   },
   {
    "duration": 35,
    "start_time": "2024-03-13T15:33:42.798Z"
   },
   {
    "duration": 14,
    "start_time": "2024-03-13T15:33:42.835Z"
   },
   {
    "duration": 52,
    "start_time": "2024-03-13T15:33:42.850Z"
   },
   {
    "duration": 50,
    "start_time": "2024-03-13T15:33:42.903Z"
   },
   {
    "duration": 60,
    "start_time": "2024-03-13T15:33:42.955Z"
   },
   {
    "duration": 50,
    "start_time": "2024-03-13T15:33:43.016Z"
   },
   {
    "duration": 19,
    "start_time": "2024-03-13T15:33:43.068Z"
   },
   {
    "duration": 7,
    "start_time": "2024-03-13T15:33:43.088Z"
   },
   {
    "duration": 37,
    "start_time": "2024-03-13T15:33:43.097Z"
   },
   {
    "duration": 3,
    "start_time": "2024-03-13T15:33:43.135Z"
   },
   {
    "duration": 13,
    "start_time": "2024-03-13T15:33:43.140Z"
   },
   {
    "duration": 34,
    "start_time": "2024-03-13T15:33:43.156Z"
   },
   {
    "duration": 4,
    "start_time": "2024-03-13T15:33:43.191Z"
   },
   {
    "duration": 11,
    "start_time": "2024-03-13T15:33:43.196Z"
   },
   {
    "duration": 41,
    "start_time": "2024-03-13T15:33:43.208Z"
   },
   {
    "duration": 13,
    "start_time": "2024-03-13T15:33:43.250Z"
   },
   {
    "duration": 30,
    "start_time": "2024-03-13T15:33:43.264Z"
   },
   {
    "duration": 14,
    "start_time": "2024-03-13T15:33:43.296Z"
   },
   {
    "duration": 2709,
    "start_time": "2024-03-13T15:33:43.311Z"
   },
   {
    "duration": 2746,
    "start_time": "2024-03-13T15:33:46.021Z"
   },
   {
    "duration": 2704,
    "start_time": "2024-03-13T15:33:48.769Z"
   },
   {
    "duration": 289,
    "start_time": "2024-03-13T15:33:51.475Z"
   },
   {
    "duration": 428,
    "start_time": "2024-03-13T15:33:51.765Z"
   },
   {
    "duration": 266,
    "start_time": "2024-03-13T15:33:52.195Z"
   },
   {
    "duration": 307,
    "start_time": "2024-03-13T15:33:52.462Z"
   },
   {
    "duration": 279,
    "start_time": "2024-03-13T15:33:52.771Z"
   },
   {
    "duration": 320,
    "start_time": "2024-03-13T15:33:53.051Z"
   },
   {
    "duration": 114,
    "start_time": "2024-03-13T15:33:53.373Z"
   },
   {
    "duration": 125,
    "start_time": "2024-03-13T15:33:53.489Z"
   },
   {
    "duration": 194,
    "start_time": "2024-03-13T15:33:53.617Z"
   },
   {
    "duration": 4,
    "start_time": "2024-03-13T15:33:53.888Z"
   },
   {
    "duration": 113,
    "start_time": "2024-03-13T15:33:53.894Z"
   },
   {
    "duration": 17,
    "start_time": "2024-03-13T15:33:54.008Z"
   },
   {
    "duration": 14,
    "start_time": "2024-03-13T15:33:54.026Z"
   },
   {
    "duration": 36,
    "start_time": "2024-03-13T15:33:54.042Z"
   },
   {
    "duration": 26,
    "start_time": "2024-03-13T15:33:54.080Z"
   },
   {
    "duration": 21,
    "start_time": "2024-03-13T15:33:54.108Z"
   },
   {
    "duration": 7,
    "start_time": "2024-03-13T15:33:54.130Z"
   },
   {
    "duration": 421,
    "start_time": "2024-03-13T15:33:54.139Z"
   },
   {
    "duration": 0,
    "start_time": "2024-03-13T15:33:54.561Z"
   },
   {
    "duration": 0,
    "start_time": "2024-03-13T15:33:54.562Z"
   },
   {
    "duration": 4,
    "start_time": "2024-03-13T15:34:16.853Z"
   },
   {
    "duration": 279,
    "start_time": "2024-03-13T15:34:17.933Z"
   },
   {
    "duration": 3,
    "start_time": "2024-03-13T15:35:03.878Z"
   },
   {
    "duration": 17,
    "start_time": "2024-03-13T15:35:18.901Z"
   },
   {
    "duration": 3,
    "start_time": "2024-03-13T15:37:13.257Z"
   },
   {
    "duration": 16,
    "start_time": "2024-03-13T15:37:32.117Z"
   },
   {
    "duration": 15,
    "start_time": "2024-03-13T15:37:36.156Z"
   },
   {
    "duration": 18,
    "start_time": "2024-03-13T15:37:39.234Z"
   },
   {
    "duration": 4,
    "start_time": "2024-03-13T15:38:27.257Z"
   },
   {
    "duration": 6,
    "start_time": "2024-03-13T15:38:47.825Z"
   },
   {
    "duration": 6,
    "start_time": "2024-03-13T15:38:48.233Z"
   },
   {
    "duration": 7,
    "start_time": "2024-03-13T15:38:48.757Z"
   },
   {
    "duration": 12,
    "start_time": "2024-03-13T15:39:03.436Z"
   },
   {
    "duration": 4,
    "start_time": "2024-03-13T15:39:41.676Z"
   },
   {
    "duration": 277,
    "start_time": "2024-03-13T15:39:42.985Z"
   },
   {
    "duration": 285,
    "start_time": "2024-03-13T15:39:44.504Z"
   },
   {
    "duration": 269,
    "start_time": "2024-03-13T15:39:50.685Z"
   },
   {
    "duration": 5,
    "start_time": "2024-03-13T15:43:28.258Z"
   },
   {
    "duration": 264,
    "start_time": "2024-03-13T15:43:40.313Z"
   },
   {
    "duration": 260,
    "start_time": "2024-03-13T15:43:41.196Z"
   },
   {
    "duration": 259,
    "start_time": "2024-03-13T15:43:41.802Z"
   },
   {
    "duration": 2467,
    "start_time": "2024-03-13T17:33:20.671Z"
   },
   {
    "duration": 1459,
    "start_time": "2024-03-13T17:33:23.140Z"
   },
   {
    "duration": 6,
    "start_time": "2024-03-13T17:33:24.600Z"
   },
   {
    "duration": 7,
    "start_time": "2024-03-13T17:33:24.607Z"
   },
   {
    "duration": 4,
    "start_time": "2024-03-13T17:33:24.615Z"
   },
   {
    "duration": 18,
    "start_time": "2024-03-13T17:33:24.621Z"
   },
   {
    "duration": 6,
    "start_time": "2024-03-13T17:33:24.640Z"
   },
   {
    "duration": 7,
    "start_time": "2024-03-13T17:33:24.647Z"
   },
   {
    "duration": 149,
    "start_time": "2024-03-13T17:33:24.656Z"
   },
   {
    "duration": 129,
    "start_time": "2024-03-13T17:33:24.807Z"
   },
   {
    "duration": 132,
    "start_time": "2024-03-13T17:33:24.938Z"
   },
   {
    "duration": 13,
    "start_time": "2024-03-13T17:33:25.071Z"
   },
   {
    "duration": 9,
    "start_time": "2024-03-13T17:33:25.085Z"
   },
   {
    "duration": 17,
    "start_time": "2024-03-13T17:33:25.095Z"
   },
   {
    "duration": 16,
    "start_time": "2024-03-13T17:33:25.113Z"
   },
   {
    "duration": 36,
    "start_time": "2024-03-13T17:33:25.131Z"
   },
   {
    "duration": 17,
    "start_time": "2024-03-13T17:33:25.186Z"
   },
   {
    "duration": 34,
    "start_time": "2024-03-13T17:33:25.205Z"
   },
   {
    "duration": 17,
    "start_time": "2024-03-13T17:33:25.241Z"
   },
   {
    "duration": 35,
    "start_time": "2024-03-13T17:33:25.286Z"
   },
   {
    "duration": 44,
    "start_time": "2024-03-13T17:33:25.323Z"
   },
   {
    "duration": 62,
    "start_time": "2024-03-13T17:33:25.368Z"
   },
   {
    "duration": 57,
    "start_time": "2024-03-13T17:33:25.432Z"
   },
   {
    "duration": 3,
    "start_time": "2024-03-13T17:33:25.491Z"
   },
   {
    "duration": 8,
    "start_time": "2024-03-13T17:33:25.496Z"
   },
   {
    "duration": 32,
    "start_time": "2024-03-13T17:33:25.505Z"
   },
   {
    "duration": 3,
    "start_time": "2024-03-13T17:33:25.539Z"
   },
   {
    "duration": 6,
    "start_time": "2024-03-13T17:33:25.545Z"
   },
   {
    "duration": 51,
    "start_time": "2024-03-13T17:33:25.553Z"
   },
   {
    "duration": 3,
    "start_time": "2024-03-13T17:33:25.606Z"
   },
   {
    "duration": 7,
    "start_time": "2024-03-13T17:33:25.611Z"
   },
   {
    "duration": 33,
    "start_time": "2024-03-13T17:33:25.619Z"
   },
   {
    "duration": 36,
    "start_time": "2024-03-13T17:33:25.653Z"
   },
   {
    "duration": 11,
    "start_time": "2024-03-13T17:33:25.690Z"
   },
   {
    "duration": 10,
    "start_time": "2024-03-13T17:33:25.703Z"
   },
   {
    "duration": 2625,
    "start_time": "2024-03-13T17:33:25.715Z"
   },
   {
    "duration": 2765,
    "start_time": "2024-03-13T17:33:28.341Z"
   },
   {
    "duration": 2837,
    "start_time": "2024-03-13T17:33:31.107Z"
   },
   {
    "duration": 299,
    "start_time": "2024-03-13T17:33:33.945Z"
   },
   {
    "duration": 456,
    "start_time": "2024-03-13T17:33:34.245Z"
   },
   {
    "duration": 290,
    "start_time": "2024-03-13T17:33:34.702Z"
   },
   {
    "duration": 340,
    "start_time": "2024-03-13T17:33:34.994Z"
   },
   {
    "duration": 270,
    "start_time": "2024-03-13T17:33:35.335Z"
   },
   {
    "duration": 353,
    "start_time": "2024-03-13T17:33:35.607Z"
   },
   {
    "duration": 44,
    "start_time": "2024-03-13T17:33:35.962Z"
   },
   {
    "duration": 199,
    "start_time": "2024-03-13T17:33:36.008Z"
   },
   {
    "duration": 202,
    "start_time": "2024-03-13T17:33:36.209Z"
   },
   {
    "duration": 5,
    "start_time": "2024-03-13T17:33:36.488Z"
   },
   {
    "duration": 94,
    "start_time": "2024-03-13T17:33:36.495Z"
   },
   {
    "duration": 7,
    "start_time": "2024-03-13T17:33:36.590Z"
   },
   {
    "duration": 13,
    "start_time": "2024-03-13T17:33:36.598Z"
   },
   {
    "duration": 16,
    "start_time": "2024-03-13T17:33:36.613Z"
   },
   {
    "duration": 16,
    "start_time": "2024-03-13T17:33:36.631Z"
   },
   {
    "duration": 41,
    "start_time": "2024-03-13T17:33:36.649Z"
   },
   {
    "duration": 294,
    "start_time": "2024-03-13T17:33:36.692Z"
   },
   {
    "duration": 269,
    "start_time": "2024-03-13T17:33:36.988Z"
   },
   {
    "duration": 282,
    "start_time": "2024-03-13T17:33:37.259Z"
   },
   {
    "duration": 2483,
    "start_time": "2024-03-13T17:38:09.108Z"
   },
   {
    "duration": 1472,
    "start_time": "2024-03-13T17:38:11.594Z"
   },
   {
    "duration": 8,
    "start_time": "2024-03-13T17:38:13.067Z"
   },
   {
    "duration": 11,
    "start_time": "2024-03-13T17:38:13.077Z"
   },
   {
    "duration": 4,
    "start_time": "2024-03-13T17:38:13.090Z"
   },
   {
    "duration": 6,
    "start_time": "2024-03-13T17:38:13.095Z"
   },
   {
    "duration": 12,
    "start_time": "2024-03-13T17:38:13.102Z"
   },
   {
    "duration": 5,
    "start_time": "2024-03-13T17:38:13.115Z"
   },
   {
    "duration": 156,
    "start_time": "2024-03-13T17:38:13.122Z"
   },
   {
    "duration": 130,
    "start_time": "2024-03-13T17:38:13.281Z"
   },
   {
    "duration": 128,
    "start_time": "2024-03-13T17:38:13.412Z"
   },
   {
    "duration": 13,
    "start_time": "2024-03-13T17:38:13.541Z"
   },
   {
    "duration": 33,
    "start_time": "2024-03-13T17:38:13.555Z"
   },
   {
    "duration": 24,
    "start_time": "2024-03-13T17:38:13.589Z"
   },
   {
    "duration": 30,
    "start_time": "2024-03-13T17:38:13.614Z"
   },
   {
    "duration": 52,
    "start_time": "2024-03-13T17:38:13.646Z"
   },
   {
    "duration": 13,
    "start_time": "2024-03-13T17:38:13.700Z"
   },
   {
    "duration": 39,
    "start_time": "2024-03-13T17:38:13.714Z"
   },
   {
    "duration": 15,
    "start_time": "2024-03-13T17:38:13.754Z"
   },
   {
    "duration": 38,
    "start_time": "2024-03-13T17:38:13.788Z"
   },
   {
    "duration": 66,
    "start_time": "2024-03-13T17:38:13.827Z"
   },
   {
    "duration": 43,
    "start_time": "2024-03-13T17:38:13.894Z"
   },
   {
    "duration": 56,
    "start_time": "2024-03-13T17:38:13.939Z"
   },
   {
    "duration": 5,
    "start_time": "2024-03-13T17:38:13.996Z"
   },
   {
    "duration": 21,
    "start_time": "2024-03-13T17:38:14.003Z"
   },
   {
    "duration": 52,
    "start_time": "2024-03-13T17:38:14.026Z"
   },
   {
    "duration": 4,
    "start_time": "2024-03-13T17:38:14.080Z"
   },
   {
    "duration": 7,
    "start_time": "2024-03-13T17:38:14.088Z"
   },
   {
    "duration": 57,
    "start_time": "2024-03-13T17:38:14.096Z"
   },
   {
    "duration": 13,
    "start_time": "2024-03-13T17:38:14.155Z"
   },
   {
    "duration": 13,
    "start_time": "2024-03-13T17:38:14.169Z"
   },
   {
    "duration": 45,
    "start_time": "2024-03-13T17:38:14.184Z"
   },
   {
    "duration": 10,
    "start_time": "2024-03-13T17:38:14.231Z"
   },
   {
    "duration": 25,
    "start_time": "2024-03-13T17:38:14.243Z"
   },
   {
    "duration": 32,
    "start_time": "2024-03-13T17:38:14.269Z"
   },
   {
    "duration": 2617,
    "start_time": "2024-03-13T17:38:14.303Z"
   },
   {
    "duration": 2881,
    "start_time": "2024-03-13T17:38:16.921Z"
   },
   {
    "duration": 2769,
    "start_time": "2024-03-13T17:38:19.803Z"
   },
   {
    "duration": 276,
    "start_time": "2024-03-13T17:38:22.573Z"
   },
   {
    "duration": 437,
    "start_time": "2024-03-13T17:38:22.851Z"
   },
   {
    "duration": 284,
    "start_time": "2024-03-13T17:38:23.289Z"
   },
   {
    "duration": 351,
    "start_time": "2024-03-13T17:38:23.574Z"
   },
   {
    "duration": 291,
    "start_time": "2024-03-13T17:38:23.926Z"
   },
   {
    "duration": 358,
    "start_time": "2024-03-13T17:38:24.219Z"
   },
   {
    "duration": 101,
    "start_time": "2024-03-13T17:38:24.587Z"
   },
   {
    "duration": 125,
    "start_time": "2024-03-13T17:38:24.690Z"
   },
   {
    "duration": 195,
    "start_time": "2024-03-13T17:38:24.817Z"
   },
   {
    "duration": 82,
    "start_time": "2024-03-13T17:38:25.013Z"
   },
   {
    "duration": 8,
    "start_time": "2024-03-13T17:38:25.186Z"
   },
   {
    "duration": 12,
    "start_time": "2024-03-13T17:38:25.195Z"
   },
   {
    "duration": 9,
    "start_time": "2024-03-13T17:38:25.208Z"
   },
   {
    "duration": 19,
    "start_time": "2024-03-13T17:38:25.219Z"
   },
   {
    "duration": 21,
    "start_time": "2024-03-13T17:38:25.240Z"
   },
   {
    "duration": 18,
    "start_time": "2024-03-13T17:38:25.287Z"
   },
   {
    "duration": 304,
    "start_time": "2024-03-13T17:38:25.306Z"
   },
   {
    "duration": 276,
    "start_time": "2024-03-13T17:38:25.612Z"
   },
   {
    "duration": 302,
    "start_time": "2024-03-13T17:38:25.890Z"
   },
   {
    "duration": 3141,
    "start_time": "2024-03-13T20:19:13.636Z"
   },
   {
    "duration": 9618,
    "start_time": "2024-03-13T20:19:16.778Z"
   },
   {
    "duration": 6,
    "start_time": "2024-03-13T20:19:26.398Z"
   },
   {
    "duration": 6,
    "start_time": "2024-03-13T20:19:26.405Z"
   },
   {
    "duration": 12,
    "start_time": "2024-03-13T20:19:26.413Z"
   },
   {
    "duration": 8,
    "start_time": "2024-03-13T20:19:26.427Z"
   },
   {
    "duration": 9,
    "start_time": "2024-03-13T20:19:26.436Z"
   },
   {
    "duration": 5,
    "start_time": "2024-03-13T20:19:26.446Z"
   },
   {
    "duration": 145,
    "start_time": "2024-03-13T20:19:26.452Z"
   },
   {
    "duration": 121,
    "start_time": "2024-03-13T20:19:26.599Z"
   },
   {
    "duration": 124,
    "start_time": "2024-03-13T20:19:26.721Z"
   },
   {
    "duration": 19,
    "start_time": "2024-03-13T20:19:26.846Z"
   },
   {
    "duration": 8,
    "start_time": "2024-03-13T20:19:26.867Z"
   },
   {
    "duration": 8,
    "start_time": "2024-03-13T20:19:26.880Z"
   },
   {
    "duration": 21,
    "start_time": "2024-03-13T20:19:26.889Z"
   },
   {
    "duration": 56,
    "start_time": "2024-03-13T20:19:26.912Z"
   },
   {
    "duration": 14,
    "start_time": "2024-03-13T20:19:26.970Z"
   },
   {
    "duration": 32,
    "start_time": "2024-03-13T20:19:26.986Z"
   },
   {
    "duration": 15,
    "start_time": "2024-03-13T20:19:27.019Z"
   },
   {
    "duration": 59,
    "start_time": "2024-03-13T20:19:27.035Z"
   },
   {
    "duration": 43,
    "start_time": "2024-03-13T20:19:27.096Z"
   },
   {
    "duration": 62,
    "start_time": "2024-03-13T20:19:27.141Z"
   },
   {
    "duration": 42,
    "start_time": "2024-03-13T20:19:27.205Z"
   },
   {
    "duration": 18,
    "start_time": "2024-03-13T20:19:27.248Z"
   },
   {
    "duration": 7,
    "start_time": "2024-03-13T20:19:27.267Z"
   },
   {
    "duration": 41,
    "start_time": "2024-03-13T20:19:27.275Z"
   },
   {
    "duration": 4,
    "start_time": "2024-03-13T20:19:27.317Z"
   },
   {
    "duration": 10,
    "start_time": "2024-03-13T20:19:27.322Z"
   },
   {
    "duration": 34,
    "start_time": "2024-03-13T20:19:27.333Z"
   },
   {
    "duration": 4,
    "start_time": "2024-03-13T20:19:27.368Z"
   },
   {
    "duration": 6,
    "start_time": "2024-03-13T20:19:27.373Z"
   },
   {
    "duration": 30,
    "start_time": "2024-03-13T20:19:27.380Z"
   },
   {
    "duration": 9,
    "start_time": "2024-03-13T20:19:27.412Z"
   },
   {
    "duration": 12,
    "start_time": "2024-03-13T20:19:27.422Z"
   },
   {
    "duration": 36,
    "start_time": "2024-03-13T20:19:27.436Z"
   },
   {
    "duration": 3294,
    "start_time": "2024-03-13T20:19:27.474Z"
   },
   {
    "duration": 2630,
    "start_time": "2024-03-13T20:19:30.769Z"
   },
   {
    "duration": 2764,
    "start_time": "2024-03-13T20:19:33.401Z"
   },
   {
    "duration": 268,
    "start_time": "2024-03-13T20:19:36.166Z"
   },
   {
    "duration": 398,
    "start_time": "2024-03-13T20:19:36.436Z"
   },
   {
    "duration": 301,
    "start_time": "2024-03-13T20:19:36.838Z"
   },
   {
    "duration": 304,
    "start_time": "2024-03-13T20:19:37.141Z"
   },
   {
    "duration": 264,
    "start_time": "2024-03-13T20:19:37.447Z"
   },
   {
    "duration": 331,
    "start_time": "2024-03-13T20:19:37.713Z"
   },
   {
    "duration": 120,
    "start_time": "2024-03-13T20:19:38.046Z"
   },
   {
    "duration": 123,
    "start_time": "2024-03-13T20:19:38.168Z"
   },
   {
    "duration": 186,
    "start_time": "2024-03-13T20:19:38.293Z"
   },
   {
    "duration": 86,
    "start_time": "2024-03-13T20:19:38.481Z"
   },
   {
    "duration": 97,
    "start_time": "2024-03-13T20:19:38.569Z"
   },
   {
    "duration": 5,
    "start_time": "2024-03-13T20:19:38.667Z"
   },
   {
    "duration": 6,
    "start_time": "2024-03-13T20:19:38.673Z"
   },
   {
    "duration": 16,
    "start_time": "2024-03-13T20:19:38.680Z"
   },
   {
    "duration": 16,
    "start_time": "2024-03-13T20:19:38.697Z"
   },
   {
    "duration": 52,
    "start_time": "2024-03-13T20:19:38.714Z"
   },
   {
    "duration": 294,
    "start_time": "2024-03-13T20:19:38.767Z"
   },
   {
    "duration": 266,
    "start_time": "2024-03-13T20:19:39.064Z"
   },
   {
    "duration": 263,
    "start_time": "2024-03-13T20:19:39.331Z"
   },
   {
    "duration": 3580,
    "start_time": "2024-03-14T11:13:53.038Z"
   },
   {
    "duration": 1702,
    "start_time": "2024-03-14T11:13:56.620Z"
   },
   {
    "duration": 8,
    "start_time": "2024-03-14T11:13:58.327Z"
   },
   {
    "duration": 13,
    "start_time": "2024-03-14T11:13:58.337Z"
   },
   {
    "duration": 12,
    "start_time": "2024-03-14T11:13:58.352Z"
   },
   {
    "duration": 12,
    "start_time": "2024-03-14T11:13:58.366Z"
   },
   {
    "duration": 20,
    "start_time": "2024-03-14T11:13:58.379Z"
   },
   {
    "duration": 13,
    "start_time": "2024-03-14T11:13:58.400Z"
   },
   {
    "duration": 539,
    "start_time": "2024-03-14T11:13:58.416Z"
   },
   {
    "duration": 564,
    "start_time": "2024-03-14T11:13:58.956Z"
   },
   {
    "duration": 558,
    "start_time": "2024-03-14T11:13:59.522Z"
   },
   {
    "duration": 21,
    "start_time": "2024-03-14T11:14:00.081Z"
   },
   {
    "duration": 44,
    "start_time": "2024-03-14T11:14:00.104Z"
   },
   {
    "duration": 108,
    "start_time": "2024-03-14T11:14:00.150Z"
   },
   {
    "duration": 69,
    "start_time": "2024-03-14T11:14:00.260Z"
   },
   {
    "duration": 79,
    "start_time": "2024-03-14T11:14:00.331Z"
   },
   {
    "duration": 152,
    "start_time": "2024-03-14T11:14:00.411Z"
   },
   {
    "duration": 61,
    "start_time": "2024-03-14T11:14:00.564Z"
   },
   {
    "duration": 28,
    "start_time": "2024-03-14T11:14:00.627Z"
   },
   {
    "duration": 68,
    "start_time": "2024-03-14T11:14:00.657Z"
   },
   {
    "duration": 75,
    "start_time": "2024-03-14T11:14:00.727Z"
   },
   {
    "duration": 58,
    "start_time": "2024-03-14T11:14:00.804Z"
   },
   {
    "duration": 136,
    "start_time": "2024-03-14T11:14:00.864Z"
   },
   {
    "duration": 15,
    "start_time": "2024-03-14T11:14:01.002Z"
   },
   {
    "duration": 31,
    "start_time": "2024-03-14T11:14:01.018Z"
   },
   {
    "duration": 69,
    "start_time": "2024-03-14T11:14:01.051Z"
   },
   {
    "duration": 4,
    "start_time": "2024-03-14T11:14:01.123Z"
   },
   {
    "duration": 166,
    "start_time": "2024-03-14T11:14:01.128Z"
   },
   {
    "duration": 70,
    "start_time": "2024-03-14T11:14:01.298Z"
   },
   {
    "duration": 13,
    "start_time": "2024-03-14T11:14:01.370Z"
   },
   {
    "duration": 49,
    "start_time": "2024-03-14T11:14:01.385Z"
   },
   {
    "duration": 84,
    "start_time": "2024-03-14T11:14:01.436Z"
   },
   {
    "duration": 11,
    "start_time": "2024-03-14T11:14:01.521Z"
   },
   {
    "duration": 29,
    "start_time": "2024-03-14T11:14:01.534Z"
   },
   {
    "duration": 35,
    "start_time": "2024-03-14T11:14:01.565Z"
   },
   {
    "duration": 2930,
    "start_time": "2024-03-14T11:14:01.602Z"
   },
   {
    "duration": 2767,
    "start_time": "2024-03-14T11:14:04.534Z"
   },
   {
    "duration": 2829,
    "start_time": "2024-03-14T11:14:07.302Z"
   },
   {
    "duration": 297,
    "start_time": "2024-03-14T11:14:10.133Z"
   },
   {
    "duration": 446,
    "start_time": "2024-03-14T11:14:10.432Z"
   },
   {
    "duration": 295,
    "start_time": "2024-03-14T11:14:10.880Z"
   },
   {
    "duration": 388,
    "start_time": "2024-03-14T11:14:11.176Z"
   },
   {
    "duration": 299,
    "start_time": "2024-03-14T11:14:11.565Z"
   },
   {
    "duration": 352,
    "start_time": "2024-03-14T11:14:11.866Z"
   },
   {
    "duration": 86,
    "start_time": "2024-03-14T11:14:12.219Z"
   },
   {
    "duration": 115,
    "start_time": "2024-03-14T11:14:12.307Z"
   },
   {
    "duration": 120,
    "start_time": "2024-03-14T11:14:12.488Z"
   },
   {
    "duration": 82,
    "start_time": "2024-03-14T11:14:12.610Z"
   },
   {
    "duration": 13,
    "start_time": "2024-03-14T11:14:12.696Z"
   },
   {
    "duration": 7,
    "start_time": "2024-03-14T11:14:12.788Z"
   },
   {
    "duration": 41,
    "start_time": "2024-03-14T11:14:12.799Z"
   },
   {
    "duration": 34,
    "start_time": "2024-03-14T11:14:12.842Z"
   },
   {
    "duration": 34,
    "start_time": "2024-03-14T11:14:12.878Z"
   },
   {
    "duration": 35,
    "start_time": "2024-03-14T11:14:12.914Z"
   },
   {
    "duration": 293,
    "start_time": "2024-03-14T11:14:12.951Z"
   },
   {
    "duration": 300,
    "start_time": "2024-03-14T11:14:13.246Z"
   },
   {
    "duration": 301,
    "start_time": "2024-03-14T11:14:13.548Z"
   },
   {
    "duration": 117,
    "start_time": "2024-03-14T11:19:31.000Z"
   },
   {
    "duration": 26411,
    "start_time": "2024-03-14T11:21:13.041Z"
   },
   {
    "duration": 467,
    "start_time": "2024-03-14T11:21:39.454Z"
   },
   {
    "duration": 2932,
    "start_time": "2024-03-14T11:25:44.329Z"
   },
   {
    "duration": 2623,
    "start_time": "2024-03-14T11:25:54.422Z"
   },
   {
    "duration": 63,
    "start_time": "2024-03-14T11:26:05.317Z"
   },
   {
    "duration": 7,
    "start_time": "2024-03-14T11:26:17.831Z"
   },
   {
    "duration": 4,
    "start_time": "2024-03-14T11:26:18.304Z"
   },
   {
    "duration": 4,
    "start_time": "2024-03-14T11:26:18.503Z"
   },
   {
    "duration": 4,
    "start_time": "2024-03-14T11:26:19.025Z"
   },
   {
    "duration": 4,
    "start_time": "2024-03-14T11:26:21.544Z"
   },
   {
    "duration": 3,
    "start_time": "2024-03-14T11:26:22.312Z"
   },
   {
    "duration": 175,
    "start_time": "2024-03-14T11:26:23.834Z"
   },
   {
    "duration": 130,
    "start_time": "2024-03-14T11:26:24.010Z"
   },
   {
    "duration": 159,
    "start_time": "2024-03-14T11:26:24.160Z"
   },
   {
    "duration": 13,
    "start_time": "2024-03-14T11:26:24.733Z"
   },
   {
    "duration": 9,
    "start_time": "2024-03-14T11:26:24.900Z"
   },
   {
    "duration": 9,
    "start_time": "2024-03-14T11:26:25.504Z"
   },
   {
    "duration": 19,
    "start_time": "2024-03-14T11:26:26.827Z"
   },
   {
    "duration": 39,
    "start_time": "2024-03-14T11:26:26.975Z"
   },
   {
    "duration": 15,
    "start_time": "2024-03-14T11:26:27.267Z"
   },
   {
    "duration": 35,
    "start_time": "2024-03-14T11:26:27.612Z"
   },
   {
    "duration": 15,
    "start_time": "2024-03-14T11:26:29.132Z"
   },
   {
    "duration": 15,
    "start_time": "2024-03-14T11:26:56.324Z"
   },
   {
    "duration": 6699,
    "start_time": "2024-03-14T11:27:01.116Z"
   },
   {
    "duration": 296,
    "start_time": "2024-03-14T11:27:40.799Z"
   },
   {
    "duration": 100,
    "start_time": "2024-03-14T11:27:55.129Z"
   },
   {
    "duration": 2932,
    "start_time": "2024-03-14T11:28:46.599Z"
   },
   {
    "duration": 2656,
    "start_time": "2024-03-14T11:28:51.963Z"
   },
   {
    "duration": 71,
    "start_time": "2024-03-14T11:28:59.476Z"
   },
   {
    "duration": 7,
    "start_time": "2024-03-14T11:29:02.250Z"
   },
   {
    "duration": 3,
    "start_time": "2024-03-14T11:29:02.576Z"
   },
   {
    "duration": 8,
    "start_time": "2024-03-14T11:29:02.887Z"
   },
   {
    "duration": 5,
    "start_time": "2024-03-14T11:29:03.213Z"
   },
   {
    "duration": 4,
    "start_time": "2024-03-14T11:29:04.669Z"
   },
   {
    "duration": 2,
    "start_time": "2024-03-14T11:29:05.372Z"
   },
   {
    "duration": 174,
    "start_time": "2024-03-14T11:29:05.569Z"
   },
   {
    "duration": 161,
    "start_time": "2024-03-14T11:29:05.764Z"
   },
   {
    "duration": 153,
    "start_time": "2024-03-14T11:29:05.961Z"
   },
   {
    "duration": 12,
    "start_time": "2024-03-14T11:29:06.435Z"
   },
   {
    "duration": 10,
    "start_time": "2024-03-14T11:29:06.648Z"
   },
   {
    "duration": 9,
    "start_time": "2024-03-14T11:29:06.877Z"
   },
   {
    "duration": 15,
    "start_time": "2024-03-14T11:29:07.466Z"
   },
   {
    "duration": 41,
    "start_time": "2024-03-14T11:29:07.662Z"
   },
   {
    "duration": 24,
    "start_time": "2024-03-14T11:29:08.482Z"
   },
   {
    "duration": 46,
    "start_time": "2024-03-14T11:29:08.795Z"
   },
   {
    "duration": 15,
    "start_time": "2024-03-14T11:29:09.822Z"
   },
   {
    "duration": 35,
    "start_time": "2024-03-14T11:29:10.215Z"
   },
   {
    "duration": 14,
    "start_time": "2024-03-14T11:29:13.555Z"
   },
   {
    "duration": 6696,
    "start_time": "2024-03-14T11:29:15.371Z"
   },
   {
    "duration": 2778,
    "start_time": "2024-03-14T11:30:02.955Z"
   },
   {
    "duration": 1523,
    "start_time": "2024-03-14T11:30:05.735Z"
   },
   {
    "duration": 6,
    "start_time": "2024-03-14T11:30:07.259Z"
   },
   {
    "duration": 28,
    "start_time": "2024-03-14T11:30:07.267Z"
   },
   {
    "duration": 22,
    "start_time": "2024-03-14T11:30:07.299Z"
   },
   {
    "duration": 27,
    "start_time": "2024-03-14T11:30:07.323Z"
   },
   {
    "duration": 32,
    "start_time": "2024-03-14T11:30:07.352Z"
   },
   {
    "duration": 22,
    "start_time": "2024-03-14T11:30:07.386Z"
   },
   {
    "duration": 175,
    "start_time": "2024-03-14T11:30:07.409Z"
   },
   {
    "duration": 147,
    "start_time": "2024-03-14T11:30:07.587Z"
   },
   {
    "duration": 139,
    "start_time": "2024-03-14T11:30:07.735Z"
   },
   {
    "duration": 19,
    "start_time": "2024-03-14T11:30:07.875Z"
   },
   {
    "duration": 35,
    "start_time": "2024-03-14T11:30:07.899Z"
   },
   {
    "duration": 17,
    "start_time": "2024-03-14T11:30:07.936Z"
   },
   {
    "duration": 20,
    "start_time": "2024-03-14T11:30:07.954Z"
   },
   {
    "duration": 49,
    "start_time": "2024-03-14T11:30:07.975Z"
   },
   {
    "duration": 13,
    "start_time": "2024-03-14T11:30:08.026Z"
   },
   {
    "duration": 32,
    "start_time": "2024-03-14T11:30:08.041Z"
   },
   {
    "duration": 38,
    "start_time": "2024-03-14T11:30:08.075Z"
   },
   {
    "duration": 34,
    "start_time": "2024-03-14T11:30:08.115Z"
   },
   {
    "duration": 76,
    "start_time": "2024-03-14T11:30:08.150Z"
   },
   {
    "duration": 74,
    "start_time": "2024-03-14T11:30:08.228Z"
   },
   {
    "duration": 50,
    "start_time": "2024-03-14T11:30:08.304Z"
   },
   {
    "duration": 4,
    "start_time": "2024-03-14T11:30:08.356Z"
   },
   {
    "duration": 22,
    "start_time": "2024-03-14T11:30:08.361Z"
   },
   {
    "duration": 58,
    "start_time": "2024-03-14T11:30:08.385Z"
   },
   {
    "duration": 4,
    "start_time": "2024-03-14T11:30:08.444Z"
   },
   {
    "duration": 33,
    "start_time": "2024-03-14T11:30:08.451Z"
   },
   {
    "duration": 53,
    "start_time": "2024-03-14T11:30:08.486Z"
   },
   {
    "duration": 16,
    "start_time": "2024-03-14T11:30:08.540Z"
   },
   {
    "duration": 19,
    "start_time": "2024-03-14T11:30:08.558Z"
   },
   {
    "duration": 53,
    "start_time": "2024-03-14T11:30:08.578Z"
   },
   {
    "duration": 10,
    "start_time": "2024-03-14T11:30:08.632Z"
   },
   {
    "duration": 27,
    "start_time": "2024-03-14T11:30:08.644Z"
   },
   {
    "duration": 12,
    "start_time": "2024-03-14T11:30:08.672Z"
   },
   {
    "duration": 2825,
    "start_time": "2024-03-14T11:30:08.685Z"
   },
   {
    "duration": 2836,
    "start_time": "2024-03-14T11:30:11.514Z"
   },
   {
    "duration": 2757,
    "start_time": "2024-03-14T11:30:14.352Z"
   },
   {
    "duration": 301,
    "start_time": "2024-03-14T11:30:17.110Z"
   },
   {
    "duration": 477,
    "start_time": "2024-03-14T11:30:17.413Z"
   },
   {
    "duration": 279,
    "start_time": "2024-03-14T11:30:17.899Z"
   },
   {
    "duration": 383,
    "start_time": "2024-03-14T11:30:18.179Z"
   },
   {
    "duration": 295,
    "start_time": "2024-03-14T11:30:18.563Z"
   },
   {
    "duration": 345,
    "start_time": "2024-03-14T11:30:18.859Z"
   },
   {
    "duration": 86,
    "start_time": "2024-03-14T11:30:19.206Z"
   },
   {
    "duration": 207,
    "start_time": "2024-03-14T11:30:19.294Z"
   },
   {
    "duration": 186,
    "start_time": "2024-03-14T11:30:19.503Z"
   },
   {
    "duration": 5,
    "start_time": "2024-03-14T11:30:19.694Z"
   },
   {
    "duration": 93,
    "start_time": "2024-03-14T11:30:19.701Z"
   },
   {
    "duration": 17,
    "start_time": "2024-03-14T11:30:19.796Z"
   },
   {
    "duration": 8,
    "start_time": "2024-03-14T11:30:19.815Z"
   },
   {
    "duration": 19,
    "start_time": "2024-03-14T11:30:19.825Z"
   },
   {
    "duration": 16,
    "start_time": "2024-03-14T11:30:19.846Z"
   },
   {
    "duration": 40,
    "start_time": "2024-03-14T11:30:19.864Z"
   },
   {
    "duration": 323,
    "start_time": "2024-03-14T11:30:19.906Z"
   },
   {
    "duration": 308,
    "start_time": "2024-03-14T11:30:20.231Z"
   },
   {
    "duration": 305,
    "start_time": "2024-03-14T11:30:20.540Z"
   },
   {
    "duration": 4,
    "start_time": "2024-03-14T11:34:32.995Z"
   },
   {
    "duration": 7,
    "start_time": "2024-03-14T11:34:58.226Z"
   },
   {
    "duration": 5,
    "start_time": "2024-03-14T11:34:59.574Z"
   },
   {
    "duration": 6,
    "start_time": "2024-03-14T11:34:59.696Z"
   },
   {
    "duration": 108,
    "start_time": "2024-03-14T11:49:23.114Z"
   },
   {
    "duration": 7,
    "start_time": "2024-03-14T11:50:52.001Z"
   },
   {
    "duration": 7,
    "start_time": "2024-03-14T11:53:29.059Z"
   },
   {
    "duration": 77,
    "start_time": "2024-03-14T11:53:37.513Z"
   },
   {
    "duration": 9,
    "start_time": "2024-03-14T11:53:48.405Z"
   },
   {
    "duration": 10,
    "start_time": "2024-03-14T11:54:14.411Z"
   },
   {
    "duration": 4,
    "start_time": "2024-03-14T11:54:18.043Z"
   },
   {
    "duration": 4,
    "start_time": "2024-03-14T11:54:52.340Z"
   },
   {
    "duration": 11,
    "start_time": "2024-03-14T11:55:05.931Z"
   },
   {
    "duration": 3,
    "start_time": "2024-03-14T11:58:09.482Z"
   },
   {
    "duration": 6,
    "start_time": "2024-03-14T11:58:22.948Z"
   },
   {
    "duration": 3,
    "start_time": "2024-03-14T12:01:13.729Z"
   },
   {
    "duration": 17,
    "start_time": "2024-03-14T12:01:32.151Z"
   },
   {
    "duration": 4,
    "start_time": "2024-03-14T12:01:45.550Z"
   },
   {
    "duration": 8,
    "start_time": "2024-03-14T12:01:48.610Z"
   },
   {
    "duration": 4,
    "start_time": "2024-03-14T12:03:11.266Z"
   },
   {
    "duration": 9,
    "start_time": "2024-03-14T12:03:12.885Z"
   },
   {
    "duration": 3,
    "start_time": "2024-03-14T12:03:21.478Z"
   },
   {
    "duration": 8,
    "start_time": "2024-03-14T12:03:22.313Z"
   },
   {
    "duration": 4,
    "start_time": "2024-03-14T12:03:25.946Z"
   },
   {
    "duration": 8,
    "start_time": "2024-03-14T12:03:26.813Z"
   },
   {
    "duration": 8,
    "start_time": "2024-03-14T12:03:36.835Z"
   },
   {
    "duration": 9,
    "start_time": "2024-03-14T12:03:46.142Z"
   },
   {
    "duration": 5,
    "start_time": "2024-03-14T12:08:56.131Z"
   },
   {
    "duration": 5,
    "start_time": "2024-03-14T12:10:35.806Z"
   },
   {
    "duration": 26,
    "start_time": "2024-03-14T12:10:45.354Z"
   },
   {
    "duration": 3,
    "start_time": "2024-03-14T12:12:26.999Z"
   },
   {
    "duration": 6,
    "start_time": "2024-03-14T12:12:39.293Z"
   },
   {
    "duration": 6,
    "start_time": "2024-03-14T12:12:53.296Z"
   },
   {
    "duration": 2,
    "start_time": "2024-03-14T12:14:03.684Z"
   },
   {
    "duration": 3,
    "start_time": "2024-03-14T12:14:19.087Z"
   },
   {
    "duration": 7,
    "start_time": "2024-03-14T12:14:22.259Z"
   },
   {
    "duration": 2,
    "start_time": "2024-03-14T12:14:40.526Z"
   },
   {
    "duration": 5,
    "start_time": "2024-03-14T12:14:43.945Z"
   },
   {
    "duration": 4,
    "start_time": "2024-03-14T12:17:42.416Z"
   },
   {
    "duration": 5,
    "start_time": "2024-03-14T12:17:49.485Z"
   },
   {
    "duration": 1506,
    "start_time": "2024-03-14T12:17:50.548Z"
   },
   {
    "duration": 1495,
    "start_time": "2024-03-14T12:18:29.071Z"
   },
   {
    "duration": 1466,
    "start_time": "2024-03-14T12:18:36.622Z"
   },
   {
    "duration": 4,
    "start_time": "2024-03-14T12:20:58.185Z"
   },
   {
    "duration": 3,
    "start_time": "2024-03-14T12:21:09.445Z"
   },
   {
    "duration": 6,
    "start_time": "2024-03-14T12:21:47.075Z"
   },
   {
    "duration": 5,
    "start_time": "2024-03-14T12:21:50.069Z"
   },
   {
    "duration": 6,
    "start_time": "2024-03-14T12:21:55.599Z"
   },
   {
    "duration": 15,
    "start_time": "2024-03-14T12:23:02.912Z"
   },
   {
    "duration": 5,
    "start_time": "2024-03-14T12:23:22.396Z"
   },
   {
    "duration": 6,
    "start_time": "2024-03-14T12:23:25.308Z"
   },
   {
    "duration": 4,
    "start_time": "2024-03-14T12:23:34.864Z"
   },
   {
    "duration": 4,
    "start_time": "2024-03-14T12:23:45.055Z"
   },
   {
    "duration": 5,
    "start_time": "2024-03-14T12:24:23.304Z"
   },
   {
    "duration": 5,
    "start_time": "2024-03-14T12:25:32.705Z"
   },
   {
    "duration": 5,
    "start_time": "2024-03-14T12:25:35.142Z"
   },
   {
    "duration": 3,
    "start_time": "2024-03-14T12:26:10.470Z"
   },
   {
    "duration": 3,
    "start_time": "2024-03-14T12:26:29.447Z"
   },
   {
    "duration": 4,
    "start_time": "2024-03-14T12:26:39.143Z"
   },
   {
    "duration": 4,
    "start_time": "2024-03-14T12:26:47.748Z"
   },
   {
    "duration": 4,
    "start_time": "2024-03-14T12:26:59.751Z"
   },
   {
    "duration": 4,
    "start_time": "2024-03-14T12:27:00.176Z"
   },
   {
    "duration": 3,
    "start_time": "2024-03-14T12:27:10.090Z"
   },
   {
    "duration": 8,
    "start_time": "2024-03-14T12:27:56.993Z"
   },
   {
    "duration": 4,
    "start_time": "2024-03-14T12:29:17.924Z"
   },
   {
    "duration": 9,
    "start_time": "2024-03-14T12:29:20.280Z"
   },
   {
    "duration": 4,
    "start_time": "2024-03-14T12:30:45.089Z"
   },
   {
    "duration": 9,
    "start_time": "2024-03-14T12:30:49.767Z"
   },
   {
    "duration": 3,
    "start_time": "2024-03-14T12:31:02.488Z"
   },
   {
    "duration": 19,
    "start_time": "2024-03-14T12:31:10.114Z"
   },
   {
    "duration": 3,
    "start_time": "2024-03-14T12:31:51.801Z"
   },
   {
    "duration": 10,
    "start_time": "2024-03-14T12:31:55.052Z"
   },
   {
    "duration": 10,
    "start_time": "2024-03-14T12:32:00.035Z"
   },
   {
    "duration": 16,
    "start_time": "2024-03-14T12:32:00.484Z"
   },
   {
    "duration": 9,
    "start_time": "2024-03-14T12:32:00.910Z"
   },
   {
    "duration": 5,
    "start_time": "2024-03-14T12:32:06.710Z"
   },
   {
    "duration": 23,
    "start_time": "2024-03-14T12:32:07.502Z"
   },
   {
    "duration": 4,
    "start_time": "2024-03-14T12:32:32.157Z"
   },
   {
    "duration": 10,
    "start_time": "2024-03-14T12:32:45.020Z"
   },
   {
    "duration": 9,
    "start_time": "2024-03-14T12:32:56.926Z"
   },
   {
    "duration": 10,
    "start_time": "2024-03-14T12:33:07.177Z"
   },
   {
    "duration": 5,
    "start_time": "2024-03-14T12:33:11.514Z"
   },
   {
    "duration": 1475,
    "start_time": "2024-03-14T12:33:14.652Z"
   },
   {
    "duration": 1482,
    "start_time": "2024-03-14T12:33:28.825Z"
   },
   {
    "duration": 1434,
    "start_time": "2024-03-14T12:33:41.402Z"
   },
   {
    "duration": 4,
    "start_time": "2024-03-14T12:34:32.395Z"
   },
   {
    "duration": 1444,
    "start_time": "2024-03-14T12:34:33.079Z"
   },
   {
    "duration": 138,
    "start_time": "2024-03-14T12:42:03.350Z"
   },
   {
    "duration": 80,
    "start_time": "2024-03-14T12:42:11.310Z"
   },
   {
    "duration": 7,
    "start_time": "2024-03-14T12:42:35.900Z"
   },
   {
    "duration": 34,
    "start_time": "2024-03-14T12:42:44.943Z"
   },
   {
    "duration": 61,
    "start_time": "2024-03-14T12:42:46.032Z"
   },
   {
    "duration": 40,
    "start_time": "2024-03-14T12:42:47.363Z"
   },
   {
    "duration": 48,
    "start_time": "2024-03-14T12:42:57.892Z"
   },
   {
    "duration": 6,
    "start_time": "2024-03-14T12:44:26.584Z"
   },
   {
    "duration": 1048,
    "start_time": "2024-03-14T12:44:27.367Z"
   },
   {
    "duration": 5,
    "start_time": "2024-03-14T12:48:49.532Z"
   },
   {
    "duration": 1385,
    "start_time": "2024-03-14T12:48:50.495Z"
   },
   {
    "duration": 3,
    "start_time": "2024-03-14T12:49:21.829Z"
   },
   {
    "duration": 4,
    "start_time": "2024-03-14T12:50:13.793Z"
   },
   {
    "duration": 12,
    "start_time": "2024-03-14T12:53:46.795Z"
   },
   {
    "duration": 9,
    "start_time": "2024-03-14T12:53:52.322Z"
   },
   {
    "duration": 14,
    "start_time": "2024-03-14T12:53:57.609Z"
   },
   {
    "duration": 6,
    "start_time": "2024-03-14T12:54:22.581Z"
   },
   {
    "duration": 1441,
    "start_time": "2024-03-14T12:54:23.432Z"
   },
   {
    "duration": 1324,
    "start_time": "2024-03-14T12:54:36.517Z"
   },
   {
    "duration": 6,
    "start_time": "2024-03-14T12:54:41.458Z"
   },
   {
    "duration": 6,
    "start_time": "2024-03-14T12:54:57.712Z"
   },
   {
    "duration": 6,
    "start_time": "2024-03-14T12:55:03.454Z"
   },
   {
    "duration": 7,
    "start_time": "2024-03-14T12:55:24.477Z"
   },
   {
    "duration": 5,
    "start_time": "2024-03-14T12:55:36.057Z"
   },
   {
    "duration": 6,
    "start_time": "2024-03-14T12:57:06.486Z"
   },
   {
    "duration": 5,
    "start_time": "2024-03-14T12:57:12.768Z"
   },
   {
    "duration": 3,
    "start_time": "2024-03-14T12:57:17.840Z"
   },
   {
    "duration": 3,
    "start_time": "2024-03-14T12:57:21.322Z"
   },
   {
    "duration": 3,
    "start_time": "2024-03-14T12:57:27.341Z"
   },
   {
    "duration": 3,
    "start_time": "2024-03-14T12:58:01.802Z"
   },
   {
    "duration": 4,
    "start_time": "2024-03-14T12:58:09.342Z"
   },
   {
    "duration": 4,
    "start_time": "2024-03-14T12:58:13.612Z"
   },
   {
    "duration": 5,
    "start_time": "2024-03-14T13:01:10.690Z"
   },
   {
    "duration": 1349,
    "start_time": "2024-03-14T13:01:11.751Z"
   },
   {
    "duration": 1462,
    "start_time": "2024-03-14T13:01:49.874Z"
   },
   {
    "duration": 1417,
    "start_time": "2024-03-14T13:01:56.496Z"
   },
   {
    "duration": 4,
    "start_time": "2024-03-14T13:07:29.662Z"
   },
   {
    "duration": 8,
    "start_time": "2024-03-14T13:08:05.172Z"
   },
   {
    "duration": 5,
    "start_time": "2024-03-14T13:09:12.893Z"
   },
   {
    "duration": 8,
    "start_time": "2024-03-14T13:09:29.832Z"
   },
   {
    "duration": 1363,
    "start_time": "2024-03-14T13:17:54.929Z"
   },
   {
    "duration": 1357,
    "start_time": "2024-03-14T13:18:02.755Z"
   },
   {
    "duration": 1394,
    "start_time": "2024-03-14T13:18:09.168Z"
   },
   {
    "duration": 2607,
    "start_time": "2024-03-14T13:58:11.842Z"
   },
   {
    "duration": 1426,
    "start_time": "2024-03-14T13:58:14.452Z"
   },
   {
    "duration": 7,
    "start_time": "2024-03-14T13:58:15.879Z"
   },
   {
    "duration": 13,
    "start_time": "2024-03-14T13:58:15.888Z"
   },
   {
    "duration": 6,
    "start_time": "2024-03-14T13:58:15.902Z"
   },
   {
    "duration": 17,
    "start_time": "2024-03-14T13:58:15.909Z"
   },
   {
    "duration": 4,
    "start_time": "2024-03-14T13:58:15.928Z"
   },
   {
    "duration": 14,
    "start_time": "2024-03-14T13:58:15.933Z"
   },
   {
    "duration": 160,
    "start_time": "2024-03-14T13:58:15.949Z"
   },
   {
    "duration": 126,
    "start_time": "2024-03-14T13:58:16.112Z"
   },
   {
    "duration": 140,
    "start_time": "2024-03-14T13:58:16.239Z"
   },
   {
    "duration": 13,
    "start_time": "2024-03-14T13:58:16.380Z"
   },
   {
    "duration": 15,
    "start_time": "2024-03-14T13:58:16.395Z"
   },
   {
    "duration": 23,
    "start_time": "2024-03-14T13:58:16.412Z"
   },
   {
    "duration": 25,
    "start_time": "2024-03-14T13:58:16.437Z"
   },
   {
    "duration": 54,
    "start_time": "2024-03-14T13:58:16.464Z"
   },
   {
    "duration": 15,
    "start_time": "2024-03-14T13:58:16.519Z"
   },
   {
    "duration": 38,
    "start_time": "2024-03-14T13:58:16.535Z"
   },
   {
    "duration": 16,
    "start_time": "2024-03-14T13:58:16.587Z"
   },
   {
    "duration": 37,
    "start_time": "2024-03-14T13:58:16.605Z"
   },
   {
    "duration": 70,
    "start_time": "2024-03-14T13:58:16.644Z"
   },
   {
    "duration": 45,
    "start_time": "2024-03-14T13:58:16.716Z"
   },
   {
    "duration": 60,
    "start_time": "2024-03-14T13:58:16.762Z"
   },
   {
    "duration": 4,
    "start_time": "2024-03-14T13:58:16.823Z"
   },
   {
    "duration": 14,
    "start_time": "2024-03-14T13:58:16.828Z"
   },
   {
    "duration": 49,
    "start_time": "2024-03-14T13:58:16.843Z"
   },
   {
    "duration": 3,
    "start_time": "2024-03-14T13:58:16.894Z"
   },
   {
    "duration": 29,
    "start_time": "2024-03-14T13:58:16.901Z"
   },
   {
    "duration": 27,
    "start_time": "2024-03-14T13:58:16.932Z"
   },
   {
    "duration": 3,
    "start_time": "2024-03-14T13:58:16.961Z"
   },
   {
    "duration": 27,
    "start_time": "2024-03-14T13:58:16.966Z"
   },
   {
    "duration": 58,
    "start_time": "2024-03-14T13:58:16.994Z"
   },
   {
    "duration": 16,
    "start_time": "2024-03-14T13:58:17.054Z"
   },
   {
    "duration": 20,
    "start_time": "2024-03-14T13:58:17.072Z"
   },
   {
    "duration": 10,
    "start_time": "2024-03-14T13:58:17.094Z"
   },
   {
    "duration": 2766,
    "start_time": "2024-03-14T13:58:17.106Z"
   },
   {
    "duration": 2897,
    "start_time": "2024-03-14T13:58:19.873Z"
   },
   {
    "duration": 2965,
    "start_time": "2024-03-14T13:58:22.772Z"
   },
   {
    "duration": 311,
    "start_time": "2024-03-14T13:58:25.739Z"
   },
   {
    "duration": 425,
    "start_time": "2024-03-14T13:58:26.052Z"
   },
   {
    "duration": 291,
    "start_time": "2024-03-14T13:58:26.486Z"
   },
   {
    "duration": 361,
    "start_time": "2024-03-14T13:58:26.778Z"
   },
   {
    "duration": 292,
    "start_time": "2024-03-14T13:58:27.140Z"
   },
   {
    "duration": 368,
    "start_time": "2024-03-14T13:58:27.433Z"
   },
   {
    "duration": 39,
    "start_time": "2024-03-14T13:58:27.803Z"
   },
   {
    "duration": 141,
    "start_time": "2024-03-14T13:58:27.888Z"
   },
   {
    "duration": 144,
    "start_time": "2024-03-14T13:58:28.089Z"
   },
   {
    "duration": 8,
    "start_time": "2024-03-14T13:58:28.289Z"
   },
   {
    "duration": 89,
    "start_time": "2024-03-14T13:58:28.300Z"
   },
   {
    "duration": 6,
    "start_time": "2024-03-14T13:58:28.391Z"
   },
   {
    "duration": 8,
    "start_time": "2024-03-14T13:58:28.399Z"
   },
   {
    "duration": 19,
    "start_time": "2024-03-14T13:58:28.408Z"
   },
   {
    "duration": 9,
    "start_time": "2024-03-14T13:58:28.428Z"
   },
   {
    "duration": 28,
    "start_time": "2024-03-14T13:58:28.439Z"
   },
   {
    "duration": 124,
    "start_time": "2024-03-14T13:58:28.469Z"
   },
   {
    "duration": 0,
    "start_time": "2024-03-14T13:58:28.595Z"
   },
   {
    "duration": 0,
    "start_time": "2024-03-14T13:58:28.596Z"
   },
   {
    "duration": 0,
    "start_time": "2024-03-14T13:58:28.597Z"
   },
   {
    "duration": 2665,
    "start_time": "2024-03-14T14:00:56.494Z"
   },
   {
    "duration": 1697,
    "start_time": "2024-03-14T14:00:59.161Z"
   },
   {
    "duration": 6,
    "start_time": "2024-03-14T14:01:00.860Z"
   },
   {
    "duration": 88,
    "start_time": "2024-03-14T14:01:00.868Z"
   },
   {
    "duration": 89,
    "start_time": "2024-03-14T14:01:00.957Z"
   },
   {
    "duration": 47,
    "start_time": "2024-03-14T14:01:01.048Z"
   },
   {
    "duration": 91,
    "start_time": "2024-03-14T14:01:01.096Z"
   },
   {
    "duration": 159,
    "start_time": "2024-03-14T14:01:01.188Z"
   },
   {
    "duration": 199,
    "start_time": "2024-03-14T14:01:01.348Z"
   },
   {
    "duration": 145,
    "start_time": "2024-03-14T14:01:01.550Z"
   },
   {
    "duration": 140,
    "start_time": "2024-03-14T14:01:01.698Z"
   },
   {
    "duration": 45,
    "start_time": "2024-03-14T14:01:01.840Z"
   },
   {
    "duration": 39,
    "start_time": "2024-03-14T14:01:01.887Z"
   },
   {
    "duration": 48,
    "start_time": "2024-03-14T14:01:01.928Z"
   },
   {
    "duration": 40,
    "start_time": "2024-03-14T14:01:01.978Z"
   },
   {
    "duration": 58,
    "start_time": "2024-03-14T14:01:02.020Z"
   },
   {
    "duration": 33,
    "start_time": "2024-03-14T14:01:02.079Z"
   },
   {
    "duration": 95,
    "start_time": "2024-03-14T14:01:02.114Z"
   },
   {
    "duration": 19,
    "start_time": "2024-03-14T14:01:02.211Z"
   },
   {
    "duration": 78,
    "start_time": "2024-03-14T14:01:02.232Z"
   },
   {
    "duration": 55,
    "start_time": "2024-03-14T14:01:02.312Z"
   },
   {
    "duration": 48,
    "start_time": "2024-03-14T14:01:02.369Z"
   },
   {
    "duration": 46,
    "start_time": "2024-03-14T14:01:02.418Z"
   },
   {
    "duration": 5,
    "start_time": "2024-03-14T14:01:02.466Z"
   },
   {
    "duration": 15,
    "start_time": "2024-03-14T14:01:02.488Z"
   },
   {
    "duration": 64,
    "start_time": "2024-03-14T14:01:02.504Z"
   },
   {
    "duration": 4,
    "start_time": "2024-03-14T14:01:02.569Z"
   },
   {
    "duration": 34,
    "start_time": "2024-03-14T14:01:02.576Z"
   },
   {
    "duration": 62,
    "start_time": "2024-03-14T14:01:02.612Z"
   },
   {
    "duration": 28,
    "start_time": "2024-03-14T14:01:02.676Z"
   },
   {
    "duration": 26,
    "start_time": "2024-03-14T14:01:02.706Z"
   },
   {
    "duration": 50,
    "start_time": "2024-03-14T14:01:02.734Z"
   },
   {
    "duration": 19,
    "start_time": "2024-03-14T14:01:02.786Z"
   },
   {
    "duration": 26,
    "start_time": "2024-03-14T14:01:02.807Z"
   },
   {
    "duration": 30,
    "start_time": "2024-03-14T14:01:02.835Z"
   },
   {
    "duration": 3058,
    "start_time": "2024-03-14T14:01:02.866Z"
   },
   {
    "duration": 2781,
    "start_time": "2024-03-14T14:01:05.926Z"
   },
   {
    "duration": 2864,
    "start_time": "2024-03-14T14:01:08.709Z"
   },
   {
    "duration": 309,
    "start_time": "2024-03-14T14:01:11.575Z"
   },
   {
    "duration": 472,
    "start_time": "2024-03-14T14:01:11.885Z"
   },
   {
    "duration": 299,
    "start_time": "2024-03-14T14:01:12.359Z"
   },
   {
    "duration": 350,
    "start_time": "2024-03-14T14:01:12.660Z"
   },
   {
    "duration": 304,
    "start_time": "2024-03-14T14:01:13.012Z"
   },
   {
    "duration": 378,
    "start_time": "2024-03-14T14:01:13.317Z"
   },
   {
    "duration": 43,
    "start_time": "2024-03-14T14:01:13.697Z"
   },
   {
    "duration": 194,
    "start_time": "2024-03-14T14:01:13.793Z"
   },
   {
    "duration": 195,
    "start_time": "2024-03-14T14:01:13.992Z"
   },
   {
    "duration": 5,
    "start_time": "2024-03-14T14:01:14.190Z"
   },
   {
    "duration": 8,
    "start_time": "2024-03-14T14:01:14.198Z"
   },
   {
    "duration": 6,
    "start_time": "2024-03-14T14:01:14.288Z"
   },
   {
    "duration": 8,
    "start_time": "2024-03-14T14:01:14.295Z"
   },
   {
    "duration": 11,
    "start_time": "2024-03-14T14:01:14.305Z"
   },
   {
    "duration": 9,
    "start_time": "2024-03-14T14:01:14.318Z"
   },
   {
    "duration": 15,
    "start_time": "2024-03-14T14:01:14.328Z"
   },
   {
    "duration": 1525,
    "start_time": "2024-03-14T14:01:14.347Z"
   },
   {
    "duration": 1471,
    "start_time": "2024-03-14T14:01:15.873Z"
   },
   {
    "duration": 1484,
    "start_time": "2024-03-14T14:01:17.346Z"
   },
   {
    "duration": 1159,
    "start_time": "2024-03-14T14:37:53.071Z"
   },
   {
    "duration": 2652,
    "start_time": "2024-03-14T14:37:56.590Z"
   },
   {
    "duration": 1183,
    "start_time": "2024-03-14T14:38:09.010Z"
   },
   {
    "duration": 13,
    "start_time": "2024-03-14T14:38:22.925Z"
   },
   {
    "duration": 6186,
    "start_time": "2024-03-14T14:38:29.304Z"
   },
   {
    "duration": 3053,
    "start_time": "2024-03-14T14:39:43.425Z"
   },
   {
    "duration": 108,
    "start_time": "2024-03-14T14:39:52.632Z"
   },
   {
    "duration": 93,
    "start_time": "2024-03-14T14:40:06.137Z"
   },
   {
    "duration": 1620,
    "start_time": "2024-03-14T14:40:14.901Z"
   },
   {
    "duration": 2793,
    "start_time": "2024-03-14T14:41:58.749Z"
   },
   {
    "duration": 4,
    "start_time": "2024-03-14T14:42:03.853Z"
   },
   {
    "duration": 14,
    "start_time": "2024-03-14T14:42:19.006Z"
   },
   {
    "duration": 5715,
    "start_time": "2024-03-14T14:42:23.391Z"
   },
   {
    "duration": 2589,
    "start_time": "2024-03-14T14:47:12.571Z"
   },
   {
    "duration": 1418,
    "start_time": "2024-03-14T14:47:15.162Z"
   },
   {
    "duration": 6,
    "start_time": "2024-03-14T14:47:16.582Z"
   },
   {
    "duration": 10,
    "start_time": "2024-03-14T14:47:16.600Z"
   },
   {
    "duration": 17,
    "start_time": "2024-03-14T14:47:16.611Z"
   },
   {
    "duration": 9,
    "start_time": "2024-03-14T14:47:16.630Z"
   },
   {
    "duration": 14,
    "start_time": "2024-03-14T14:47:16.640Z"
   },
   {
    "duration": 14,
    "start_time": "2024-03-14T14:47:16.656Z"
   },
   {
    "duration": 162,
    "start_time": "2024-03-14T14:47:16.672Z"
   },
   {
    "duration": 129,
    "start_time": "2024-03-14T14:47:16.837Z"
   },
   {
    "duration": 134,
    "start_time": "2024-03-14T14:47:16.968Z"
   },
   {
    "duration": 13,
    "start_time": "2024-03-14T14:47:17.104Z"
   },
   {
    "duration": 8,
    "start_time": "2024-03-14T14:47:17.119Z"
   },
   {
    "duration": 11,
    "start_time": "2024-03-14T14:47:17.129Z"
   },
   {
    "duration": 18,
    "start_time": "2024-03-14T14:47:17.141Z"
   },
   {
    "duration": 57,
    "start_time": "2024-03-14T14:47:17.160Z"
   },
   {
    "duration": 15,
    "start_time": "2024-03-14T14:47:17.218Z"
   },
   {
    "duration": 37,
    "start_time": "2024-03-14T14:47:17.235Z"
   },
   {
    "duration": 28,
    "start_time": "2024-03-14T14:47:17.273Z"
   },
   {
    "duration": 35,
    "start_time": "2024-03-14T14:47:17.303Z"
   },
   {
    "duration": 66,
    "start_time": "2024-03-14T14:47:17.339Z"
   },
   {
    "duration": 41,
    "start_time": "2024-03-14T14:47:17.407Z"
   },
   {
    "duration": 61,
    "start_time": "2024-03-14T14:47:17.449Z"
   },
   {
    "duration": 3,
    "start_time": "2024-03-14T14:47:17.512Z"
   },
   {
    "duration": 11,
    "start_time": "2024-03-14T14:47:17.516Z"
   },
   {
    "duration": 33,
    "start_time": "2024-03-14T14:47:17.529Z"
   },
   {
    "duration": 4,
    "start_time": "2024-03-14T14:47:17.563Z"
   },
   {
    "duration": 26,
    "start_time": "2024-03-14T14:47:17.570Z"
   },
   {
    "duration": 34,
    "start_time": "2024-03-14T14:47:17.597Z"
   },
   {
    "duration": 4,
    "start_time": "2024-03-14T14:47:17.632Z"
   },
   {
    "duration": 11,
    "start_time": "2024-03-14T14:47:17.637Z"
   },
   {
    "duration": 47,
    "start_time": "2024-03-14T14:47:17.649Z"
   },
   {
    "duration": 11,
    "start_time": "2024-03-14T14:47:17.697Z"
   },
   {
    "duration": 13,
    "start_time": "2024-03-14T14:47:17.709Z"
   },
   {
    "duration": 10,
    "start_time": "2024-03-14T14:47:17.723Z"
   },
   {
    "duration": 2714,
    "start_time": "2024-03-14T14:47:17.734Z"
   },
   {
    "duration": 2708,
    "start_time": "2024-03-14T14:47:20.449Z"
   },
   {
    "duration": 2787,
    "start_time": "2024-03-14T14:47:23.158Z"
   },
   {
    "duration": 288,
    "start_time": "2024-03-14T14:47:25.946Z"
   },
   {
    "duration": 430,
    "start_time": "2024-03-14T14:47:26.236Z"
   },
   {
    "duration": 289,
    "start_time": "2024-03-14T14:47:26.668Z"
   },
   {
    "duration": 337,
    "start_time": "2024-03-14T14:47:26.959Z"
   },
   {
    "duration": 273,
    "start_time": "2024-03-14T14:47:27.297Z"
   },
   {
    "duration": 318,
    "start_time": "2024-03-14T14:47:27.572Z"
   },
   {
    "duration": 96,
    "start_time": "2024-03-14T14:47:27.892Z"
   },
   {
    "duration": 128,
    "start_time": "2024-03-14T14:47:27.991Z"
   },
   {
    "duration": 195,
    "start_time": "2024-03-14T14:47:28.121Z"
   },
   {
    "duration": 5,
    "start_time": "2024-03-14T14:47:28.388Z"
   },
   {
    "duration": 96,
    "start_time": "2024-03-14T14:47:28.396Z"
   },
   {
    "duration": 5,
    "start_time": "2024-03-14T14:47:28.494Z"
   },
   {
    "duration": 6,
    "start_time": "2024-03-14T14:47:28.500Z"
   },
   {
    "duration": 9,
    "start_time": "2024-03-14T14:47:28.507Z"
   },
   {
    "duration": 16,
    "start_time": "2024-03-14T14:47:28.517Z"
   },
   {
    "duration": 9,
    "start_time": "2024-03-14T14:47:28.535Z"
   },
   {
    "duration": 1418,
    "start_time": "2024-03-14T14:47:28.545Z"
   },
   {
    "duration": 1422,
    "start_time": "2024-03-14T14:47:29.964Z"
   },
   {
    "duration": 1396,
    "start_time": "2024-03-14T14:47:31.387Z"
   }
  ],
  "hide_input": false,
  "kernelspec": {
   "display_name": "Python 3 (ipykernel)",
   "language": "python",
   "name": "python3"
  },
  "language_info": {
   "codemirror_mode": {
    "name": "ipython",
    "version": 3
   },
   "file_extension": ".py",
   "mimetype": "text/x-python",
   "name": "python",
   "nbconvert_exporter": "python",
   "pygments_lexer": "ipython3",
   "version": "3.11.4"
  },
  "toc": {
   "base_numbering": 1,
   "nav_menu": {},
   "number_sections": true,
   "sideBar": true,
   "skip_h1_title": true,
   "title_cell": "Table of Contents",
   "title_sidebar": "Contents",
   "toc_cell": false,
   "toc_position": {
    "height": "calc(100% - 180px)",
    "left": "10px",
    "top": "150px",
    "width": "384px"
   },
   "toc_section_display": true,
   "toc_window_display": true
  },
  "varInspector": {
   "cols": {
    "lenName": 16,
    "lenType": 16,
    "lenVar": 40
   },
   "kernels_config": {
    "python": {
     "delete_cmd_postfix": "",
     "delete_cmd_prefix": "del ",
     "library": "var_list.py",
     "varRefreshCmd": "print(var_dic_list())"
    },
    "r": {
     "delete_cmd_postfix": ") ",
     "delete_cmd_prefix": "rm(",
     "library": "var_list.r",
     "varRefreshCmd": "cat(var_dic_list()) "
    }
   },
   "types_to_exclude": [
    "module",
    "function",
    "builtin_function_or_method",
    "instance",
    "_Feature"
   ],
   "window_display": false
  }
 },
 "nbformat": 4,
 "nbformat_minor": 2
}
