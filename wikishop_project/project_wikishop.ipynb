{
 "cells": [
  {
   "cell_type": "markdown",
   "metadata": {
    "id": "R26N0ZPrYXgr"
   },
   "source": [
    "# Проект для «Викишоп»"
   ]
  },
  {
   "cell_type": "markdown",
   "metadata": {
    "id": "IiGM9k8lYXgr"
   },
   "source": [
    "Интернет-магазин «Викишоп» запускает новый сервис. Теперь пользователи могут редактировать и дополнять описания товаров, как в вики-сообществах. То есть клиенты предлагают свои правки и комментируют изменения других.\n",
    "\n",
    "**Цель** — необходимо сделать модель, которая будет искать токсичные комментарии и отправлять их на модерацию.\n",
    "\n",
    "**Задача** — Обучить модель классифицировать комментарии на позитивные и негативные со значением метрики качества *F1* не меньше 0.75.\n",
    "\n",
    "**План**\n",
    "\n",
    "1. Изучение и подготовка данных.\n",
    "2. Обучение моделей\n",
    "3. Вывод\n",
    "\n",
    "**Описание данных**\n",
    "\n",
    "Данные находятся в файле `toxic_comments.csv`. Столбец *text* в нём содержит текст комментария, а *toxic* — целевой признак."
   ]
  },
  {
   "cell_type": "markdown",
   "metadata": {
    "id": "Y0l9KH9yYXgs"
   },
   "source": [
    "## Изучение и подготовка данных\n",
    "### Импорт библиотек"
   ]
  },
  {
   "cell_type": "code",
   "execution_count": 16,
   "metadata": {
    "ExecuteTime": {
     "end_time": "2024-09-26T07:15:19.707601Z",
     "start_time": "2024-09-26T07:15:19.702620Z"
    },
    "id": "ibDc06jxYXgs"
   },
   "outputs": [],
   "source": [
    "import os\n",
    "import warnings\n",
    "import re\n",
    "\n",
    "import pandas as pd\n",
    "import numpy as np\n",
    "import torch\n",
    "from sklearn.feature_extraction.text import TfidfVectorizer\n",
    "from sklearn.linear_model import LogisticRegression\n",
    "from sklearn.tree import DecisionTreeClassifier\n",
    "from sklearn.svm import SVC\n",
    "from sklearn.model_selection import (train_test_split,\n",
    "                                     cross_val_score, RandomizedSearchCV)\n",
    "from sklearn.metrics import f1_score\n",
    "from sklearn.exceptions import ConvergenceWarning\n",
    "from sklearn.dummy import DummyClassifier\n",
    "from sklearn.pipeline import Pipeline\n",
    "from imblearn.under_sampling import RandomUnderSampler\n",
    "from tqdm.notebook import tqdm\n",
    "\n",
    "import transformers\n",
    "import nltk\n",
    "from nltk.corpus import wordnet\n",
    "from nltk.corpus import stopwords as nltk_stopwords\n",
    "from nltk.stem import WordNetLemmatizer\n",
    "from nltk.tokenize import word_tokenize\n",
    "\n",
    "from lightgbm import LGBMClassifier"
   ]
  },
  {
   "cell_type": "code",
   "execution_count": 2,
   "metadata": {
    "ExecuteTime": {
     "end_time": "2024-09-26T07:12:44.458721Z",
     "start_time": "2024-09-26T07:12:44.455163Z"
    },
    "id": "Wkgc4tUaYXgt"
   },
   "outputs": [],
   "source": [
    "pd.options.mode.chained_assignment = None\n",
    "warnings.simplefilter('ignore', FutureWarning)\n",
    "warnings.simplefilter('ignore', ConvergenceWarning)\n",
    "warnings.simplefilter('ignore', UserWarning)"
   ]
  },
  {
   "cell_type": "code",
   "execution_count": 3,
   "metadata": {
    "ExecuteTime": {
     "end_time": "2024-09-26T07:12:46.117486Z",
     "start_time": "2024-09-26T07:12:45.632958Z"
    },
    "colab": {
     "base_uri": "https://localhost:8080/"
    },
    "id": "g4IWbJqRYXgu",
    "outputId": "80dc7b37-d03f-4ce3-ed32-1f802211644b"
   },
   "outputs": [
    {
     "name": "stderr",
     "output_type": "stream",
     "text": [
      "[nltk_data] Downloading package omw-1.4 to\n",
      "[nltk_data]     C:\\Users\\stepa\\AppData\\Roaming\\nltk_data...\n",
      "[nltk_data]   Package omw-1.4 is already up-to-date!\n",
      "[nltk_data] Downloading package wordnet to\n",
      "[nltk_data]     C:\\Users\\stepa\\AppData\\Roaming\\nltk_data...\n",
      "[nltk_data]   Package wordnet is already up-to-date!\n",
      "[nltk_data] Downloading package stopwords to\n",
      "[nltk_data]     C:\\Users\\stepa\\AppData\\Roaming\\nltk_data...\n",
      "[nltk_data]   Package stopwords is already up-to-date!\n",
      "[nltk_data] Downloading package punkt to\n",
      "[nltk_data]     C:\\Users\\stepa\\AppData\\Roaming\\nltk_data...\n",
      "[nltk_data]   Package punkt is already up-to-date!\n",
      "[nltk_data] Downloading package averaged_perceptron_tagger to\n",
      "[nltk_data]     C:\\Users\\stepa\\AppData\\Roaming\\nltk_data...\n",
      "[nltk_data]   Package averaged_perceptron_tagger is already up-to-\n",
      "[nltk_data]       date!\n"
     ]
    },
    {
     "data": {
      "text/plain": [
       "True"
      ]
     },
     "execution_count": 3,
     "metadata": {},
     "output_type": "execute_result"
    }
   ],
   "source": [
    "nltk.download('omw-1.4')\n",
    "nltk.download('wordnet')\n",
    "nltk.download('stopwords')\n",
    "nltk.download('punkt')\n",
    "nltk.download('averaged_perceptron_tagger')"
   ]
  },
  {
   "cell_type": "markdown",
   "metadata": {
    "id": "_0GC6YpiYXgu"
   },
   "source": [
    "### Функции"
   ]
  },
  {
   "cell_type": "code",
   "execution_count": 59,
   "metadata": {
    "id": "cdlscR7QYXgu"
   },
   "outputs": [],
   "source": [
    "def lemmatize(text):\n",
    "    '''\n",
    "    Функция делает токенизацию, а затем лемматизацию слов и\n",
    "    возвращает список лемматизированных предложений\n",
    "    '''\n",
    "\n",
    "    # Инициализируем класс для лемматизации\n",
    "    lemmatizer = WordNetLemmatizer()\n",
    "    lt = []\n",
    "    for sentence in text:\n",
    "        # Вызываем функцию для отчистки текста\n",
    "        sentence_clear = clear_text(sentence)\n",
    "        tokens = word_tokenize(sentence_clear)  # Делаем токенизацию\n",
    "        # Делаем лемматизацию\n",
    "        lemmatized_sentence = [lemmatizer.lemmatize(\n",
    "            token, get_wordnet_pos(token)) for token in tokens]\n",
    "        # Объединяем слова в предложение\n",
    "        lemm_text = ' '.join(lemmatized_sentence)\n",
    "        lt.append(lemm_text)\n",
    "\n",
    "    return lt"
   ]
  },
  {
   "cell_type": "code",
   "execution_count": 60,
   "metadata": {
    "id": "hsfd_R23YXgv"
   },
   "outputs": [],
   "source": [
    "def get_wordnet_pos(word):\n",
    "    '''\n",
    "    Сопоставьте тег POS с первым символом lemmatize()\n",
    "    '''\n",
    "    tag = nltk.pos_tag([word])[0][1][0].upper()\n",
    "    tag_dict = {\"J\": wordnet.ADJ,\n",
    "                \"N\": wordnet.NOUN,\n",
    "                \"V\": wordnet.VERB,\n",
    "                \"R\": wordnet.ADV}\n",
    "    return tag_dict.get(tag, wordnet.NOUN)"
   ]
  },
  {
   "cell_type": "code",
   "execution_count": 61,
   "metadata": {
    "id": "QAOjwNWDYXgv"
   },
   "outputs": [],
   "source": [
    "def clear_text(text):\n",
    "    '''\n",
    "    Функция очищает текст от лишних симолов\n",
    "    '''\n",
    "    pattern = r'[^a-zA-Z]'\n",
    "    re_text = re.sub(pattern, ' ', text)\n",
    "    total_text = ' '.join(re_text.split()).lower()\n",
    "    return total_text"
   ]
  },
  {
   "cell_type": "markdown",
   "metadata": {
    "id": "_nspfsL4YXgv"
   },
   "source": [
    "### Константы"
   ]
  },
  {
   "cell_type": "code",
   "execution_count": 4,
   "metadata": {
    "ExecuteTime": {
     "end_time": "2024-09-26T07:12:49.709601Z",
     "start_time": "2024-09-26T07:12:49.705762Z"
    },
    "id": "qYM_5SmjYXgv"
   },
   "outputs": [],
   "source": [
    "PTH = r\"C:\\Users\\stepa\\Downloads\\toxic_comments.csv\"\n",
    "RANDOM_STATE = 42\n",
    "TEST_SIZE = 0.25"
   ]
  },
  {
   "cell_type": "markdown",
   "metadata": {
    "id": "7BHyjZDTYXgw"
   },
   "source": [
    "### Загрузка данных"
   ]
  },
  {
   "cell_type": "markdown",
   "metadata": {
    "id": "POdnT_3mYXgw"
   },
   "source": [
    "Прочитаем файл `toxic_comments.csv` и сохраним его в `df_toxic`"
   ]
  },
  {
   "cell_type": "code",
   "execution_count": 5,
   "metadata": {
    "ExecuteTime": {
     "end_time": "2024-09-26T07:12:52.799887Z",
     "start_time": "2024-09-26T07:12:51.914917Z"
    },
    "id": "52eaPmAcYXgw"
   },
   "outputs": [],
   "source": [
    "if os.path.exists(PTH):\n",
    "    df_toxic = pd.read_csv(PTH, index_col=0)\n",
    "else:\n",
    "    print('Ошибка, файл не найден')"
   ]
  },
  {
   "cell_type": "markdown",
   "metadata": {
    "id": "90T_etAsYXgw"
   },
   "source": [
    "Посмотрим на первые 5 строк датафрейма"
   ]
  },
  {
   "cell_type": "code",
   "execution_count": null,
   "metadata": {
    "colab": {
     "base_uri": "https://localhost:8080/",
     "height": 206
    },
    "id": "GATNXSdSYXgw",
    "outputId": "aa34b218-231b-4825-b872-1f4994a4e0d0"
   },
   "outputs": [
    {
     "data": {
      "application/vnd.google.colaboratory.intrinsic+json": {
       "type": "dataframe",
       "variable_name": "df_toxic"
      },
      "text/html": [
       "\n",
       "  <div id=\"df-22cf1e4a-c569-420b-a23e-48c4f2a766d5\" class=\"colab-df-container\">\n",
       "    <div>\n",
       "<style scoped>\n",
       "    .dataframe tbody tr th:only-of-type {\n",
       "        vertical-align: middle;\n",
       "    }\n",
       "\n",
       "    .dataframe tbody tr th {\n",
       "        vertical-align: top;\n",
       "    }\n",
       "\n",
       "    .dataframe thead th {\n",
       "        text-align: right;\n",
       "    }\n",
       "</style>\n",
       "<table border=\"1\" class=\"dataframe\">\n",
       "  <thead>\n",
       "    <tr style=\"text-align: right;\">\n",
       "      <th></th>\n",
       "      <th>text</th>\n",
       "      <th>toxic</th>\n",
       "    </tr>\n",
       "  </thead>\n",
       "  <tbody>\n",
       "    <tr>\n",
       "      <th>0</th>\n",
       "      <td>Explanation\\nWhy the edits made under my usern...</td>\n",
       "      <td>0</td>\n",
       "    </tr>\n",
       "    <tr>\n",
       "      <th>1</th>\n",
       "      <td>D'aww! He matches this background colour I'm s...</td>\n",
       "      <td>0</td>\n",
       "    </tr>\n",
       "    <tr>\n",
       "      <th>2</th>\n",
       "      <td>Hey man, I'm really not trying to edit war. It...</td>\n",
       "      <td>0</td>\n",
       "    </tr>\n",
       "    <tr>\n",
       "      <th>3</th>\n",
       "      <td>\"\\nMore\\nI can't make any real suggestions on ...</td>\n",
       "      <td>0</td>\n",
       "    </tr>\n",
       "    <tr>\n",
       "      <th>4</th>\n",
       "      <td>You, sir, are my hero. Any chance you remember...</td>\n",
       "      <td>0</td>\n",
       "    </tr>\n",
       "  </tbody>\n",
       "</table>\n",
       "</div>\n",
       "    <div class=\"colab-df-buttons\">\n",
       "\n",
       "  <div class=\"colab-df-container\">\n",
       "    <button class=\"colab-df-convert\" onclick=\"convertToInteractive('df-22cf1e4a-c569-420b-a23e-48c4f2a766d5')\"\n",
       "            title=\"Convert this dataframe to an interactive table.\"\n",
       "            style=\"display:none;\">\n",
       "\n",
       "  <svg xmlns=\"http://www.w3.org/2000/svg\" height=\"24px\" viewBox=\"0 -960 960 960\">\n",
       "    <path d=\"M120-120v-720h720v720H120Zm60-500h600v-160H180v160Zm220 220h160v-160H400v160Zm0 220h160v-160H400v160ZM180-400h160v-160H180v160Zm440 0h160v-160H620v160ZM180-180h160v-160H180v160Zm440 0h160v-160H620v160Z\"/>\n",
       "  </svg>\n",
       "    </button>\n",
       "\n",
       "  <style>\n",
       "    .colab-df-container {\n",
       "      display:flex;\n",
       "      gap: 12px;\n",
       "    }\n",
       "\n",
       "    .colab-df-convert {\n",
       "      background-color: #E8F0FE;\n",
       "      border: none;\n",
       "      border-radius: 50%;\n",
       "      cursor: pointer;\n",
       "      display: none;\n",
       "      fill: #1967D2;\n",
       "      height: 32px;\n",
       "      padding: 0 0 0 0;\n",
       "      width: 32px;\n",
       "    }\n",
       "\n",
       "    .colab-df-convert:hover {\n",
       "      background-color: #E2EBFA;\n",
       "      box-shadow: 0px 1px 2px rgba(60, 64, 67, 0.3), 0px 1px 3px 1px rgba(60, 64, 67, 0.15);\n",
       "      fill: #174EA6;\n",
       "    }\n",
       "\n",
       "    .colab-df-buttons div {\n",
       "      margin-bottom: 4px;\n",
       "    }\n",
       "\n",
       "    [theme=dark] .colab-df-convert {\n",
       "      background-color: #3B4455;\n",
       "      fill: #D2E3FC;\n",
       "    }\n",
       "\n",
       "    [theme=dark] .colab-df-convert:hover {\n",
       "      background-color: #434B5C;\n",
       "      box-shadow: 0px 1px 3px 1px rgba(0, 0, 0, 0.15);\n",
       "      filter: drop-shadow(0px 1px 2px rgba(0, 0, 0, 0.3));\n",
       "      fill: #FFFFFF;\n",
       "    }\n",
       "  </style>\n",
       "\n",
       "    <script>\n",
       "      const buttonEl =\n",
       "        document.querySelector('#df-22cf1e4a-c569-420b-a23e-48c4f2a766d5 button.colab-df-convert');\n",
       "      buttonEl.style.display =\n",
       "        google.colab.kernel.accessAllowed ? 'block' : 'none';\n",
       "\n",
       "      async function convertToInteractive(key) {\n",
       "        const element = document.querySelector('#df-22cf1e4a-c569-420b-a23e-48c4f2a766d5');\n",
       "        const dataTable =\n",
       "          await google.colab.kernel.invokeFunction('convertToInteractive',\n",
       "                                                    [key], {});\n",
       "        if (!dataTable) return;\n",
       "\n",
       "        const docLinkHtml = 'Like what you see? Visit the ' +\n",
       "          '<a target=\"_blank\" href=https://colab.research.google.com/notebooks/data_table.ipynb>data table notebook</a>'\n",
       "          + ' to learn more about interactive tables.';\n",
       "        element.innerHTML = '';\n",
       "        dataTable['output_type'] = 'display_data';\n",
       "        await google.colab.output.renderOutput(dataTable, element);\n",
       "        const docLink = document.createElement('div');\n",
       "        docLink.innerHTML = docLinkHtml;\n",
       "        element.appendChild(docLink);\n",
       "      }\n",
       "    </script>\n",
       "  </div>\n",
       "\n",
       "\n",
       "<div id=\"df-bc29bfa1-fc82-4280-bdfb-3e694dc1bd52\">\n",
       "  <button class=\"colab-df-quickchart\" onclick=\"quickchart('df-bc29bfa1-fc82-4280-bdfb-3e694dc1bd52')\"\n",
       "            title=\"Suggest charts\"\n",
       "            style=\"display:none;\">\n",
       "\n",
       "<svg xmlns=\"http://www.w3.org/2000/svg\" height=\"24px\"viewBox=\"0 0 24 24\"\n",
       "     width=\"24px\">\n",
       "    <g>\n",
       "        <path d=\"M19 3H5c-1.1 0-2 .9-2 2v14c0 1.1.9 2 2 2h14c1.1 0 2-.9 2-2V5c0-1.1-.9-2-2-2zM9 17H7v-7h2v7zm4 0h-2V7h2v10zm4 0h-2v-4h2v4z\"/>\n",
       "    </g>\n",
       "</svg>\n",
       "  </button>\n",
       "\n",
       "<style>\n",
       "  .colab-df-quickchart {\n",
       "      --bg-color: #E8F0FE;\n",
       "      --fill-color: #1967D2;\n",
       "      --hover-bg-color: #E2EBFA;\n",
       "      --hover-fill-color: #174EA6;\n",
       "      --disabled-fill-color: #AAA;\n",
       "      --disabled-bg-color: #DDD;\n",
       "  }\n",
       "\n",
       "  [theme=dark] .colab-df-quickchart {\n",
       "      --bg-color: #3B4455;\n",
       "      --fill-color: #D2E3FC;\n",
       "      --hover-bg-color: #434B5C;\n",
       "      --hover-fill-color: #FFFFFF;\n",
       "      --disabled-bg-color: #3B4455;\n",
       "      --disabled-fill-color: #666;\n",
       "  }\n",
       "\n",
       "  .colab-df-quickchart {\n",
       "    background-color: var(--bg-color);\n",
       "    border: none;\n",
       "    border-radius: 50%;\n",
       "    cursor: pointer;\n",
       "    display: none;\n",
       "    fill: var(--fill-color);\n",
       "    height: 32px;\n",
       "    padding: 0;\n",
       "    width: 32px;\n",
       "  }\n",
       "\n",
       "  .colab-df-quickchart:hover {\n",
       "    background-color: var(--hover-bg-color);\n",
       "    box-shadow: 0 1px 2px rgba(60, 64, 67, 0.3), 0 1px 3px 1px rgba(60, 64, 67, 0.15);\n",
       "    fill: var(--button-hover-fill-color);\n",
       "  }\n",
       "\n",
       "  .colab-df-quickchart-complete:disabled,\n",
       "  .colab-df-quickchart-complete:disabled:hover {\n",
       "    background-color: var(--disabled-bg-color);\n",
       "    fill: var(--disabled-fill-color);\n",
       "    box-shadow: none;\n",
       "  }\n",
       "\n",
       "  .colab-df-spinner {\n",
       "    border: 2px solid var(--fill-color);\n",
       "    border-color: transparent;\n",
       "    border-bottom-color: var(--fill-color);\n",
       "    animation:\n",
       "      spin 1s steps(1) infinite;\n",
       "  }\n",
       "\n",
       "  @keyframes spin {\n",
       "    0% {\n",
       "      border-color: transparent;\n",
       "      border-bottom-color: var(--fill-color);\n",
       "      border-left-color: var(--fill-color);\n",
       "    }\n",
       "    20% {\n",
       "      border-color: transparent;\n",
       "      border-left-color: var(--fill-color);\n",
       "      border-top-color: var(--fill-color);\n",
       "    }\n",
       "    30% {\n",
       "      border-color: transparent;\n",
       "      border-left-color: var(--fill-color);\n",
       "      border-top-color: var(--fill-color);\n",
       "      border-right-color: var(--fill-color);\n",
       "    }\n",
       "    40% {\n",
       "      border-color: transparent;\n",
       "      border-right-color: var(--fill-color);\n",
       "      border-top-color: var(--fill-color);\n",
       "    }\n",
       "    60% {\n",
       "      border-color: transparent;\n",
       "      border-right-color: var(--fill-color);\n",
       "    }\n",
       "    80% {\n",
       "      border-color: transparent;\n",
       "      border-right-color: var(--fill-color);\n",
       "      border-bottom-color: var(--fill-color);\n",
       "    }\n",
       "    90% {\n",
       "      border-color: transparent;\n",
       "      border-bottom-color: var(--fill-color);\n",
       "    }\n",
       "  }\n",
       "</style>\n",
       "\n",
       "  <script>\n",
       "    async function quickchart(key) {\n",
       "      const quickchartButtonEl =\n",
       "        document.querySelector('#' + key + ' button');\n",
       "      quickchartButtonEl.disabled = true;  // To prevent multiple clicks.\n",
       "      quickchartButtonEl.classList.add('colab-df-spinner');\n",
       "      try {\n",
       "        const charts = await google.colab.kernel.invokeFunction(\n",
       "            'suggestCharts', [key], {});\n",
       "      } catch (error) {\n",
       "        console.error('Error during call to suggestCharts:', error);\n",
       "      }\n",
       "      quickchartButtonEl.classList.remove('colab-df-spinner');\n",
       "      quickchartButtonEl.classList.add('colab-df-quickchart-complete');\n",
       "    }\n",
       "    (() => {\n",
       "      let quickchartButtonEl =\n",
       "        document.querySelector('#df-bc29bfa1-fc82-4280-bdfb-3e694dc1bd52 button');\n",
       "      quickchartButtonEl.style.display =\n",
       "        google.colab.kernel.accessAllowed ? 'block' : 'none';\n",
       "    })();\n",
       "  </script>\n",
       "</div>\n",
       "    </div>\n",
       "  </div>\n"
      ],
      "text/plain": [
       "                                                text  toxic\n",
       "0  Explanation\\nWhy the edits made under my usern...      0\n",
       "1  D'aww! He matches this background colour I'm s...      0\n",
       "2  Hey man, I'm really not trying to edit war. It...      0\n",
       "3  \"\\nMore\\nI can't make any real suggestions on ...      0\n",
       "4  You, sir, are my hero. Any chance you remember...      0"
      ]
     },
     "execution_count": 10,
     "metadata": {},
     "output_type": "execute_result"
    }
   ],
   "source": [
    "df_toxic.head()"
   ]
  },
  {
   "cell_type": "markdown",
   "metadata": {
    "id": "zzd9pPkVYXgw"
   },
   "source": [
    "Посмотрим на размерность датафрейма"
   ]
  },
  {
   "cell_type": "code",
   "execution_count": null,
   "metadata": {
    "colab": {
     "base_uri": "https://localhost:8080/"
    },
    "id": "-SLLCEpSYXgw",
    "outputId": "a7dfe2e6-3f95-44fa-86c3-413907dff917",
    "scrolled": true
   },
   "outputs": [
    {
     "data": {
      "text/plain": [
       "(159292, 2)"
      ]
     },
     "execution_count": 11,
     "metadata": {},
     "output_type": "execute_result"
    }
   ],
   "source": [
    "df_toxic.shape"
   ]
  },
  {
   "cell_type": "markdown",
   "metadata": {
    "id": "EY6oXTlCYXgx"
   },
   "source": [
    "Теперь посмотрим на балан классов в таргете."
   ]
  },
  {
   "cell_type": "code",
   "execution_count": null,
   "metadata": {
    "colab": {
     "base_uri": "https://localhost:8080/",
     "height": 178
    },
    "id": "_sDEyoTAYXgx",
    "outputId": "75762e8d-80c9-4dfe-e2e4-2e900c708923"
   },
   "outputs": [
    {
     "data": {
      "text/html": [
       "<div>\n",
       "<style scoped>\n",
       "    .dataframe tbody tr th:only-of-type {\n",
       "        vertical-align: middle;\n",
       "    }\n",
       "\n",
       "    .dataframe tbody tr th {\n",
       "        vertical-align: top;\n",
       "    }\n",
       "\n",
       "    .dataframe thead th {\n",
       "        text-align: right;\n",
       "    }\n",
       "</style>\n",
       "<table border=\"1\" class=\"dataframe\">\n",
       "  <thead>\n",
       "    <tr style=\"text-align: right;\">\n",
       "      <th></th>\n",
       "      <th>count</th>\n",
       "    </tr>\n",
       "    <tr>\n",
       "      <th>toxic</th>\n",
       "      <th></th>\n",
       "    </tr>\n",
       "  </thead>\n",
       "  <tbody>\n",
       "    <tr>\n",
       "      <th>0</th>\n",
       "      <td>143106</td>\n",
       "    </tr>\n",
       "    <tr>\n",
       "      <th>1</th>\n",
       "      <td>16186</td>\n",
       "    </tr>\n",
       "  </tbody>\n",
       "</table>\n",
       "</div><br><label><b>dtype:</b> int64</label>"
      ],
      "text/plain": [
       "toxic\n",
       "0    143106\n",
       "1     16186\n",
       "Name: count, dtype: int64"
      ]
     },
     "execution_count": 12,
     "metadata": {},
     "output_type": "execute_result"
    }
   ],
   "source": [
    "df_toxic['toxic'].value_counts()"
   ]
  },
  {
   "cell_type": "markdown",
   "metadata": {},
   "source": [
    "Получаем сильный дисбаланс классов."
   ]
  },
  {
   "cell_type": "markdown",
   "metadata": {
    "id": "qSK87KsLYXgx"
   },
   "source": [
    "### Подготовка данных"
   ]
  },
  {
   "cell_type": "markdown",
   "metadata": {
    "id": "b3l4XC42YXgx"
   },
   "source": [
    "Приступим к подготовке данных. Для этого создадим корпусов текстов. Затем проведем лемматизацию, используя модуль `nltk`, то есть приведем слова к начальной форме, после этого отчистим текст от лишних знаков, чтобы остались только буквы. Удалим стоп слова и посчитаем оценку важности слов (`TF-IDF`)"
   ]
  },
  {
   "cell_type": "code",
   "execution_count": 62,
   "metadata": {
    "id": "uphx6freYXgx"
   },
   "outputs": [],
   "source": [
    "# Создаем корпус текстов\n",
    "corpus = df_toxic['text'].values"
   ]
  },
  {
   "cell_type": "code",
   "execution_count": 63,
   "metadata": {
    "id": "JWPWqJZ3YXgy",
    "scrolled": false
   },
   "outputs": [],
   "source": [
    "lemm_text = lemmatize(corpus)"
   ]
  },
  {
   "cell_type": "markdown",
   "metadata": {
    "id": "ndMH_g6vYXg1"
   },
   "source": [
    "Добавим лемматизированные предложения в датафрейм, как новый признак."
   ]
  },
  {
   "cell_type": "code",
   "execution_count": 64,
   "metadata": {
    "id": "bcYOOYPAYXg1"
   },
   "outputs": [],
   "source": [
    "# Добавляем лемматизированые предложения в датафрейм\n",
    "df_toxic['lemm_text'] = lemm_text"
   ]
  },
  {
   "cell_type": "code",
   "execution_count": 65,
   "metadata": {
    "colab": {
     "base_uri": "https://localhost:8080/",
     "height": 206
    },
    "id": "UxFJijXVYXg1",
    "outputId": "ad0ce81f-21e6-4868-b321-9b68efb0419a",
    "scrolled": true
   },
   "outputs": [
    {
     "data": {
      "application/vnd.google.colaboratory.intrinsic+json": {
       "type": "dataframe",
       "variable_name": "df_toxic"
      },
      "text/html": [
       "\n",
       "  <div id=\"df-78a2ec64-369d-44af-8da9-bf124fb31aa3\" class=\"colab-df-container\">\n",
       "    <div>\n",
       "<style scoped>\n",
       "    .dataframe tbody tr th:only-of-type {\n",
       "        vertical-align: middle;\n",
       "    }\n",
       "\n",
       "    .dataframe tbody tr th {\n",
       "        vertical-align: top;\n",
       "    }\n",
       "\n",
       "    .dataframe thead th {\n",
       "        text-align: right;\n",
       "    }\n",
       "</style>\n",
       "<table border=\"1\" class=\"dataframe\">\n",
       "  <thead>\n",
       "    <tr style=\"text-align: right;\">\n",
       "      <th></th>\n",
       "      <th>text</th>\n",
       "      <th>toxic</th>\n",
       "      <th>lemm_text</th>\n",
       "    </tr>\n",
       "  </thead>\n",
       "  <tbody>\n",
       "    <tr>\n",
       "      <th>0</th>\n",
       "      <td>Explanation\\nWhy the edits made under my usern...</td>\n",
       "      <td>0</td>\n",
       "      <td>explanation why the edits make under my userna...</td>\n",
       "    </tr>\n",
       "    <tr>\n",
       "      <th>1</th>\n",
       "      <td>D'aww! He matches this background colour I'm s...</td>\n",
       "      <td>0</td>\n",
       "      <td>d aww he match this background colour i m seem...</td>\n",
       "    </tr>\n",
       "    <tr>\n",
       "      <th>2</th>\n",
       "      <td>Hey man, I'm really not trying to edit war. It...</td>\n",
       "      <td>0</td>\n",
       "      <td>hey man i m really not try to edit war it s ju...</td>\n",
       "    </tr>\n",
       "    <tr>\n",
       "      <th>3</th>\n",
       "      <td>\"\\nMore\\nI can't make any real suggestions on ...</td>\n",
       "      <td>0</td>\n",
       "      <td>more i can t make any real suggestion on impro...</td>\n",
       "    </tr>\n",
       "    <tr>\n",
       "      <th>4</th>\n",
       "      <td>You, sir, are my hero. Any chance you remember...</td>\n",
       "      <td>0</td>\n",
       "      <td>you sir be my hero any chance you remember wha...</td>\n",
       "    </tr>\n",
       "  </tbody>\n",
       "</table>\n",
       "</div>\n",
       "    <div class=\"colab-df-buttons\">\n",
       "\n",
       "  <div class=\"colab-df-container\">\n",
       "    <button class=\"colab-df-convert\" onclick=\"convertToInteractive('df-78a2ec64-369d-44af-8da9-bf124fb31aa3')\"\n",
       "            title=\"Convert this dataframe to an interactive table.\"\n",
       "            style=\"display:none;\">\n",
       "\n",
       "  <svg xmlns=\"http://www.w3.org/2000/svg\" height=\"24px\" viewBox=\"0 -960 960 960\">\n",
       "    <path d=\"M120-120v-720h720v720H120Zm60-500h600v-160H180v160Zm220 220h160v-160H400v160Zm0 220h160v-160H400v160ZM180-400h160v-160H180v160Zm440 0h160v-160H620v160ZM180-180h160v-160H180v160Zm440 0h160v-160H620v160Z\"/>\n",
       "  </svg>\n",
       "    </button>\n",
       "\n",
       "  <style>\n",
       "    .colab-df-container {\n",
       "      display:flex;\n",
       "      gap: 12px;\n",
       "    }\n",
       "\n",
       "    .colab-df-convert {\n",
       "      background-color: #E8F0FE;\n",
       "      border: none;\n",
       "      border-radius: 50%;\n",
       "      cursor: pointer;\n",
       "      display: none;\n",
       "      fill: #1967D2;\n",
       "      height: 32px;\n",
       "      padding: 0 0 0 0;\n",
       "      width: 32px;\n",
       "    }\n",
       "\n",
       "    .colab-df-convert:hover {\n",
       "      background-color: #E2EBFA;\n",
       "      box-shadow: 0px 1px 2px rgba(60, 64, 67, 0.3), 0px 1px 3px 1px rgba(60, 64, 67, 0.15);\n",
       "      fill: #174EA6;\n",
       "    }\n",
       "\n",
       "    .colab-df-buttons div {\n",
       "      margin-bottom: 4px;\n",
       "    }\n",
       "\n",
       "    [theme=dark] .colab-df-convert {\n",
       "      background-color: #3B4455;\n",
       "      fill: #D2E3FC;\n",
       "    }\n",
       "\n",
       "    [theme=dark] .colab-df-convert:hover {\n",
       "      background-color: #434B5C;\n",
       "      box-shadow: 0px 1px 3px 1px rgba(0, 0, 0, 0.15);\n",
       "      filter: drop-shadow(0px 1px 2px rgba(0, 0, 0, 0.3));\n",
       "      fill: #FFFFFF;\n",
       "    }\n",
       "  </style>\n",
       "\n",
       "    <script>\n",
       "      const buttonEl =\n",
       "        document.querySelector('#df-78a2ec64-369d-44af-8da9-bf124fb31aa3 button.colab-df-convert');\n",
       "      buttonEl.style.display =\n",
       "        google.colab.kernel.accessAllowed ? 'block' : 'none';\n",
       "\n",
       "      async function convertToInteractive(key) {\n",
       "        const element = document.querySelector('#df-78a2ec64-369d-44af-8da9-bf124fb31aa3');\n",
       "        const dataTable =\n",
       "          await google.colab.kernel.invokeFunction('convertToInteractive',\n",
       "                                                    [key], {});\n",
       "        if (!dataTable) return;\n",
       "\n",
       "        const docLinkHtml = 'Like what you see? Visit the ' +\n",
       "          '<a target=\"_blank\" href=https://colab.research.google.com/notebooks/data_table.ipynb>data table notebook</a>'\n",
       "          + ' to learn more about interactive tables.';\n",
       "        element.innerHTML = '';\n",
       "        dataTable['output_type'] = 'display_data';\n",
       "        await google.colab.output.renderOutput(dataTable, element);\n",
       "        const docLink = document.createElement('div');\n",
       "        docLink.innerHTML = docLinkHtml;\n",
       "        element.appendChild(docLink);\n",
       "      }\n",
       "    </script>\n",
       "  </div>\n",
       "\n",
       "\n",
       "<div id=\"df-5b374f60-143f-4b17-9880-c872268a5efa\">\n",
       "  <button class=\"colab-df-quickchart\" onclick=\"quickchart('df-5b374f60-143f-4b17-9880-c872268a5efa')\"\n",
       "            title=\"Suggest charts\"\n",
       "            style=\"display:none;\">\n",
       "\n",
       "<svg xmlns=\"http://www.w3.org/2000/svg\" height=\"24px\"viewBox=\"0 0 24 24\"\n",
       "     width=\"24px\">\n",
       "    <g>\n",
       "        <path d=\"M19 3H5c-1.1 0-2 .9-2 2v14c0 1.1.9 2 2 2h14c1.1 0 2-.9 2-2V5c0-1.1-.9-2-2-2zM9 17H7v-7h2v7zm4 0h-2V7h2v10zm4 0h-2v-4h2v4z\"/>\n",
       "    </g>\n",
       "</svg>\n",
       "  </button>\n",
       "\n",
       "<style>\n",
       "  .colab-df-quickchart {\n",
       "      --bg-color: #E8F0FE;\n",
       "      --fill-color: #1967D2;\n",
       "      --hover-bg-color: #E2EBFA;\n",
       "      --hover-fill-color: #174EA6;\n",
       "      --disabled-fill-color: #AAA;\n",
       "      --disabled-bg-color: #DDD;\n",
       "  }\n",
       "\n",
       "  [theme=dark] .colab-df-quickchart {\n",
       "      --bg-color: #3B4455;\n",
       "      --fill-color: #D2E3FC;\n",
       "      --hover-bg-color: #434B5C;\n",
       "      --hover-fill-color: #FFFFFF;\n",
       "      --disabled-bg-color: #3B4455;\n",
       "      --disabled-fill-color: #666;\n",
       "  }\n",
       "\n",
       "  .colab-df-quickchart {\n",
       "    background-color: var(--bg-color);\n",
       "    border: none;\n",
       "    border-radius: 50%;\n",
       "    cursor: pointer;\n",
       "    display: none;\n",
       "    fill: var(--fill-color);\n",
       "    height: 32px;\n",
       "    padding: 0;\n",
       "    width: 32px;\n",
       "  }\n",
       "\n",
       "  .colab-df-quickchart:hover {\n",
       "    background-color: var(--hover-bg-color);\n",
       "    box-shadow: 0 1px 2px rgba(60, 64, 67, 0.3), 0 1px 3px 1px rgba(60, 64, 67, 0.15);\n",
       "    fill: var(--button-hover-fill-color);\n",
       "  }\n",
       "\n",
       "  .colab-df-quickchart-complete:disabled,\n",
       "  .colab-df-quickchart-complete:disabled:hover {\n",
       "    background-color: var(--disabled-bg-color);\n",
       "    fill: var(--disabled-fill-color);\n",
       "    box-shadow: none;\n",
       "  }\n",
       "\n",
       "  .colab-df-spinner {\n",
       "    border: 2px solid var(--fill-color);\n",
       "    border-color: transparent;\n",
       "    border-bottom-color: var(--fill-color);\n",
       "    animation:\n",
       "      spin 1s steps(1) infinite;\n",
       "  }\n",
       "\n",
       "  @keyframes spin {\n",
       "    0% {\n",
       "      border-color: transparent;\n",
       "      border-bottom-color: var(--fill-color);\n",
       "      border-left-color: var(--fill-color);\n",
       "    }\n",
       "    20% {\n",
       "      border-color: transparent;\n",
       "      border-left-color: var(--fill-color);\n",
       "      border-top-color: var(--fill-color);\n",
       "    }\n",
       "    30% {\n",
       "      border-color: transparent;\n",
       "      border-left-color: var(--fill-color);\n",
       "      border-top-color: var(--fill-color);\n",
       "      border-right-color: var(--fill-color);\n",
       "    }\n",
       "    40% {\n",
       "      border-color: transparent;\n",
       "      border-right-color: var(--fill-color);\n",
       "      border-top-color: var(--fill-color);\n",
       "    }\n",
       "    60% {\n",
       "      border-color: transparent;\n",
       "      border-right-color: var(--fill-color);\n",
       "    }\n",
       "    80% {\n",
       "      border-color: transparent;\n",
       "      border-right-color: var(--fill-color);\n",
       "      border-bottom-color: var(--fill-color);\n",
       "    }\n",
       "    90% {\n",
       "      border-color: transparent;\n",
       "      border-bottom-color: var(--fill-color);\n",
       "    }\n",
       "  }\n",
       "</style>\n",
       "\n",
       "  <script>\n",
       "    async function quickchart(key) {\n",
       "      const quickchartButtonEl =\n",
       "        document.querySelector('#' + key + ' button');\n",
       "      quickchartButtonEl.disabled = true;  // To prevent multiple clicks.\n",
       "      quickchartButtonEl.classList.add('colab-df-spinner');\n",
       "      try {\n",
       "        const charts = await google.colab.kernel.invokeFunction(\n",
       "            'suggestCharts', [key], {});\n",
       "      } catch (error) {\n",
       "        console.error('Error during call to suggestCharts:', error);\n",
       "      }\n",
       "      quickchartButtonEl.classList.remove('colab-df-spinner');\n",
       "      quickchartButtonEl.classList.add('colab-df-quickchart-complete');\n",
       "    }\n",
       "    (() => {\n",
       "      let quickchartButtonEl =\n",
       "        document.querySelector('#df-5b374f60-143f-4b17-9880-c872268a5efa button');\n",
       "      quickchartButtonEl.style.display =\n",
       "        google.colab.kernel.accessAllowed ? 'block' : 'none';\n",
       "    })();\n",
       "  </script>\n",
       "</div>\n",
       "    </div>\n",
       "  </div>\n"
      ],
      "text/plain": [
       "                                                text  toxic  \\\n",
       "0  Explanation\\nWhy the edits made under my usern...      0   \n",
       "1  D'aww! He matches this background colour I'm s...      0   \n",
       "2  Hey man, I'm really not trying to edit war. It...      0   \n",
       "3  \"\\nMore\\nI can't make any real suggestions on ...      0   \n",
       "4  You, sir, are my hero. Any chance you remember...      0   \n",
       "\n",
       "                                           lemm_text  \n",
       "0  explanation why the edits make under my userna...  \n",
       "1  d aww he match this background colour i m seem...  \n",
       "2  hey man i m really not try to edit war it s ju...  \n",
       "3  more i can t make any real suggestion on impro...  \n",
       "4  you sir be my hero any chance you remember wha...  "
      ]
     },
     "execution_count": 65,
     "metadata": {},
     "output_type": "execute_result"
    }
   ],
   "source": [
    "# Выведем первые 5 строк\n",
    "df_toxic.head()"
   ]
  },
  {
   "cell_type": "code",
   "execution_count": 66,
   "metadata": {
    "id": "ajmwon9HYXg2"
   },
   "outputs": [],
   "source": [
    "# Удалим корпус, для экономии памяти\n",
    "del corpus"
   ]
  },
  {
   "cell_type": "markdown",
   "metadata": {
    "id": "_p-36xNMYXg2"
   },
   "source": [
    "Перед тем как начать считать `TF-IDF` разделим данные на тренировчную и тестовую выборки"
   ]
  },
  {
   "cell_type": "code",
   "execution_count": 67,
   "metadata": {
    "id": "uk91utQRYXg2"
   },
   "outputs": [],
   "source": [
    "# Отделяем таргет\n",
    "X = df_toxic.drop(columns='toxic', axis=1)\n",
    "y = df_toxic['toxic']"
   ]
  },
  {
   "cell_type": "code",
   "execution_count": 68,
   "metadata": {
    "id": "-bdsrIg4YXg2"
   },
   "outputs": [],
   "source": [
    "# Разделяем данные на выборки\n",
    "X_train, X_test, y_train, y_test = train_test_split(\n",
    "    X,\n",
    "    y,\n",
    "    random_state=RANDOM_STATE,\n",
    "    test_size=TEST_SIZE,\n",
    "    stratify=y\n",
    ")"
   ]
  },
  {
   "cell_type": "markdown",
   "metadata": {
    "id": "Dam0SRgsYXg4"
   },
   "source": [
    "Теперь создадим корпуст по лемматизированым текстам"
   ]
  },
  {
   "cell_type": "code",
   "execution_count": 69,
   "metadata": {
    "id": "an_8cfAyYXg4"
   },
   "outputs": [],
   "source": [
    "# Создаем корпус текстов\n",
    "corpus = X_train['lemm_text'].values"
   ]
  },
  {
   "cell_type": "code",
   "execution_count": 70,
   "metadata": {
    "id": "xoEODq3FYXg4"
   },
   "outputs": [],
   "source": [
    "# Создаем корпус текстов\n",
    "corpus_test = X_test['lemm_text'].values"
   ]
  },
  {
   "cell_type": "code",
   "execution_count": 71,
   "metadata": {
    "id": "EM9ZO2J2YXg4",
    "scrolled": false
   },
   "outputs": [],
   "source": [
    "# Загузим английские стоп-слова\n",
    "stopwords = list(nltk_stopwords.words('english'))"
   ]
  },
  {
   "cell_type": "markdown",
   "metadata": {
    "id": "9hiN-cV-YXg4"
   },
   "source": [
    "Оценку важности слов (`TF-IDF`) будем проводить в пайплайне вместе с обучением модели при использовании кросс-валидации."
   ]
  },
  {
   "cell_type": "code",
   "execution_count": 72,
   "metadata": {
    "id": "bbVeIVBbYXg5"
   },
   "outputs": [],
   "source": [
    "# Создаем пайплайн, в котором объединяем векторизатор и модель\n",
    "pipeline = Pipeline(\n",
    "    [\n",
    "        (\"vect\", TfidfVectorizer(stop_words=stopwords)),\n",
    "        (\"model\", LogisticRegression(random_state=RANDOM_STATE)),\n",
    "    ]\n",
    ")"
   ]
  },
  {
   "cell_type": "markdown",
   "metadata": {
    "id": "K_hYFCm-YXg6"
   },
   "source": [
    "Можем приступать к обучению моделей"
   ]
  },
  {
   "cell_type": "markdown",
   "metadata": {
    "id": "4j0ee7yUYXg6"
   },
   "source": [
    "## Обучение моделей"
   ]
  },
  {
   "cell_type": "markdown",
   "metadata": {
    "id": "TRZ0ie_xYXg6"
   },
   "source": [
    "Перед нами стоит задача классификации. Целевой признак `toxic`. Будем обучать 4 модели с использованием кросс-валидации:\n",
    "- `LogisticRegression`\n",
    "- `DecisionTreeClassifier`\n",
    "- `SVM`\n",
    "- `LGBMClassifier`\n",
    "\n",
    "Проверять результаты моделей будем на метрике `F1`, она должна быть больше 75. После этого выберем лучшую модель и подберем ей гиперпараметры методом `RandomizedSearchCV`."
   ]
  },
  {
   "cell_type": "markdown",
   "metadata": {},
   "source": [
    "### Базовые модели"
   ]
  },
  {
   "cell_type": "markdown",
   "metadata": {
    "id": "UxujkMPcYXg6"
   },
   "source": [
    "#### LogisticRegression"
   ]
  },
  {
   "cell_type": "markdown",
   "metadata": {
    "id": "_TsqIx2EYXg6"
   },
   "source": [
    "Начнем с логистической регрессии с кросс-валидацией."
   ]
  },
  {
   "cell_type": "code",
   "execution_count": null,
   "metadata": {
    "id": "izgf1fNzYXg7"
   },
   "outputs": [],
   "source": [
    "# Выполняем кросс-валидацию\n",
    "score_lg = cross_val_score(pipeline, corpus, y_train, cv=5, scoring='f1')"
   ]
  },
  {
   "cell_type": "code",
   "execution_count": null,
   "metadata": {
    "id": "HtPZGdshYXg7",
    "outputId": "19c66e3f-89a1-4706-903e-51957759f18c"
   },
   "outputs": [
    {
     "name": "stdout",
     "output_type": "stream",
     "text": [
      "Результат на кросс-валидации: 0.72\n",
      "Отклонение на кросс-валидации: 0.57%\n"
     ]
    }
   ],
   "source": [
    "print(f'Результат на кросс-валидации: {score_lg.mean():.2f}')\n",
    "print(f'Отклонение на кросс-валидации: {score_lg.std():.2%}')"
   ]
  },
  {
   "cell_type": "markdown",
   "metadata": {
    "id": "G_gH68UeYXg8"
   },
   "source": [
    "Получаем метрику на кросс-валидации 0.72 и отклонение 0.57%."
   ]
  },
  {
   "cell_type": "markdown",
   "metadata": {
    "id": "WFcygDpAYXg8"
   },
   "source": [
    "#### DecisionTreeClassifier"
   ]
  },
  {
   "cell_type": "markdown",
   "metadata": {
    "id": "fWkA5QLnYXg8"
   },
   "source": [
    "Теперь приступим к дереву решения. Для кросс-валидации будем использовать метод `cross_val_score`."
   ]
  },
  {
   "cell_type": "code",
   "execution_count": null,
   "metadata": {
    "id": "3f2fh4-jYXg8",
    "outputId": "094fee6c-33fa-46f8-c34e-eef1d71e0595"
   },
   "outputs": [
    {
     "data": {
      "text/plain": [
       "Pipeline(steps=[('vect',\n",
       "                 TfidfVectorizer(stop_words=['i', 'me', 'my', 'myself', 'we',\n",
       "                                             'our', 'ours', 'ourselves', 'you',\n",
       "                                             \"you're\", \"you've\", \"you'll\",\n",
       "                                             \"you'd\", 'your', 'yours',\n",
       "                                             'yourself', 'yourselves', 'he',\n",
       "                                             'him', 'his', 'himself', 'she',\n",
       "                                             \"she's\", 'her', 'hers', 'herself',\n",
       "                                             'it', \"it's\", 'its', 'itself', ...])),\n",
       "                ('model', DecisionTreeClassifier(random_state=42))])"
      ]
     },
     "execution_count": 36,
     "metadata": {},
     "output_type": "execute_result"
    }
   ],
   "source": [
    "# Обновляем модель в существующем пайплайне на DecisionTreeClassifier\n",
    "pipeline.set_params(model=DecisionTreeClassifier(random_state=RANDOM_STATE))"
   ]
  },
  {
   "cell_type": "code",
   "execution_count": null,
   "metadata": {
    "id": "nT5hBaE3YXg8"
   },
   "outputs": [],
   "source": [
    "# Выполняем кросс-валидацию\n",
    "score_tree = cross_val_score(pipeline, corpus, y_train, cv=5, scoring='f1')"
   ]
  },
  {
   "cell_type": "code",
   "execution_count": null,
   "metadata": {
    "id": "IoVgymcQYXg9",
    "outputId": "cfd3267a-7e8a-4449-a437-c5a64f1e1a65"
   },
   "outputs": [
    {
     "name": "stdout",
     "output_type": "stream",
     "text": [
      "Результат на кросс-валидации: 0.71\n",
      "Отклонение на кросс-валидации: 0.31%\n"
     ]
    }
   ],
   "source": [
    "print(f'Результат на кросс-валидации: {score_tree.mean():.2f}')\n",
    "print(f'Отклонение на кросс-валидации: {score_tree.std():.2%}')"
   ]
  },
  {
   "cell_type": "markdown",
   "metadata": {
    "id": "rwLqzMPlYXg9"
   },
   "source": [
    "Результат на кросс-валидации 0.71, что хуже, чем у логистической регрессии, но зато отклонение 0.31%."
   ]
  },
  {
   "cell_type": "markdown",
   "metadata": {
    "id": "73kUhr8FYXg9"
   },
   "source": [
    "#### SVM"
   ]
  },
  {
   "cell_type": "markdown",
   "metadata": {
    "id": "j78NuGqGYXg9"
   },
   "source": [
    "Предпоследним алгоритмом будет метод опорных векторов с ядром `rbf`"
   ]
  },
  {
   "cell_type": "code",
   "execution_count": null,
   "metadata": {
    "id": "9ckjjylUYXg9",
    "outputId": "b746dfb5-3f06-455b-d850-50389ab08c8f"
   },
   "outputs": [
    {
     "data": {
      "text/plain": [
       "Pipeline(steps=[('vect',\n",
       "                 TfidfVectorizer(stop_words=['i', 'me', 'my', 'myself', 'we',\n",
       "                                             'our', 'ours', 'ourselves', 'you',\n",
       "                                             \"you're\", \"you've\", \"you'll\",\n",
       "                                             \"you'd\", 'your', 'yours',\n",
       "                                             'yourself', 'yourselves', 'he',\n",
       "                                             'him', 'his', 'himself', 'she',\n",
       "                                             \"she's\", 'her', 'hers', 'herself',\n",
       "                                             'it', \"it's\", 'its', 'itself', ...])),\n",
       "                ('model', SVC(random_state=42))])"
      ]
     },
     "execution_count": 43,
     "metadata": {},
     "output_type": "execute_result"
    }
   ],
   "source": [
    "# Обновляем модель в существующем пайплайне на SVM\n",
    "pipeline.set_params(model=SVC(random_state=RANDOM_STATE, kernel='rbf'))"
   ]
  },
  {
   "cell_type": "code",
   "execution_count": null,
   "metadata": {
    "id": "9r1aIGfzYXg-"
   },
   "outputs": [],
   "source": [
    "# Выполняем кросс-валидацию\n",
    "score_svc = cross_val_score(pipeline, corpus, y_train, cv=5, scoring='f1')"
   ]
  },
  {
   "cell_type": "code",
   "execution_count": null,
   "metadata": {
    "id": "5MvE-XITYXg-",
    "outputId": "460445c6-deea-4f1a-c39c-8e5edfbb3180"
   },
   "outputs": [
    {
     "name": "stdout",
     "output_type": "stream",
     "text": [
      "Результат на кросс-валидации: 0.74\n",
      "Отклонение на кросс-валидации: 0.53%\n"
     ]
    }
   ],
   "source": [
    "print(f'Результат на кросс-валидации: {score_svc.mean():.2f}')\n",
    "print(f'Отклонение на кросс-валидации: {score_svc.std():.2%}')"
   ]
  },
  {
   "cell_type": "markdown",
   "metadata": {
    "id": "L7HQE-dKYXg-"
   },
   "source": [
    "Результат на кросс-валидации 0.74, а также большие отклонения 0.53%. Пока что это лучшая модель"
   ]
  },
  {
   "cell_type": "markdown",
   "metadata": {
    "id": "9M6AS7SPejv9"
   },
   "source": [
    "#### LGMBClassifier"
   ]
  },
  {
   "cell_type": "markdown",
   "metadata": {},
   "source": [
    "Последним попробуем градиентный бустинг из библиотеки LGBM"
   ]
  },
  {
   "cell_type": "code",
   "execution_count": null,
   "metadata": {
    "colab": {
     "base_uri": "https://localhost:8080/",
     "height": 143
    },
    "id": "Vl0bPGNdexgB",
    "outputId": "98c60876-0d8c-4126-fda4-9efc3dda18ed"
   },
   "outputs": [
    {
     "data": {
      "text/html": [
       "<style>#sk-container-id-1 {\n",
       "  /* Definition of color scheme common for light and dark mode */\n",
       "  --sklearn-color-text: black;\n",
       "  --sklearn-color-line: gray;\n",
       "  /* Definition of color scheme for unfitted estimators */\n",
       "  --sklearn-color-unfitted-level-0: #fff5e6;\n",
       "  --sklearn-color-unfitted-level-1: #f6e4d2;\n",
       "  --sklearn-color-unfitted-level-2: #ffe0b3;\n",
       "  --sklearn-color-unfitted-level-3: chocolate;\n",
       "  /* Definition of color scheme for fitted estimators */\n",
       "  --sklearn-color-fitted-level-0: #f0f8ff;\n",
       "  --sklearn-color-fitted-level-1: #d4ebff;\n",
       "  --sklearn-color-fitted-level-2: #b3dbfd;\n",
       "  --sklearn-color-fitted-level-3: cornflowerblue;\n",
       "\n",
       "  /* Specific color for light theme */\n",
       "  --sklearn-color-text-on-default-background: var(--sg-text-color, var(--theme-code-foreground, var(--jp-content-font-color1, black)));\n",
       "  --sklearn-color-background: var(--sg-background-color, var(--theme-background, var(--jp-layout-color0, white)));\n",
       "  --sklearn-color-border-box: var(--sg-text-color, var(--theme-code-foreground, var(--jp-content-font-color1, black)));\n",
       "  --sklearn-color-icon: #696969;\n",
       "\n",
       "  @media (prefers-color-scheme: dark) {\n",
       "    /* Redefinition of color scheme for dark theme */\n",
       "    --sklearn-color-text-on-default-background: var(--sg-text-color, var(--theme-code-foreground, var(--jp-content-font-color1, white)));\n",
       "    --sklearn-color-background: var(--sg-background-color, var(--theme-background, var(--jp-layout-color0, #111)));\n",
       "    --sklearn-color-border-box: var(--sg-text-color, var(--theme-code-foreground, var(--jp-content-font-color1, white)));\n",
       "    --sklearn-color-icon: #878787;\n",
       "  }\n",
       "}\n",
       "\n",
       "#sk-container-id-1 {\n",
       "  color: var(--sklearn-color-text);\n",
       "}\n",
       "\n",
       "#sk-container-id-1 pre {\n",
       "  padding: 0;\n",
       "}\n",
       "\n",
       "#sk-container-id-1 input.sk-hidden--visually {\n",
       "  border: 0;\n",
       "  clip: rect(1px 1px 1px 1px);\n",
       "  clip: rect(1px, 1px, 1px, 1px);\n",
       "  height: 1px;\n",
       "  margin: -1px;\n",
       "  overflow: hidden;\n",
       "  padding: 0;\n",
       "  position: absolute;\n",
       "  width: 1px;\n",
       "}\n",
       "\n",
       "#sk-container-id-1 div.sk-dashed-wrapped {\n",
       "  border: 1px dashed var(--sklearn-color-line);\n",
       "  margin: 0 0.4em 0.5em 0.4em;\n",
       "  box-sizing: border-box;\n",
       "  padding-bottom: 0.4em;\n",
       "  background-color: var(--sklearn-color-background);\n",
       "}\n",
       "\n",
       "#sk-container-id-1 div.sk-container {\n",
       "  /* jupyter's `normalize.less` sets `[hidden] { display: none; }`\n",
       "     but bootstrap.min.css set `[hidden] { display: none !important; }`\n",
       "     so we also need the `!important` here to be able to override the\n",
       "     default hidden behavior on the sphinx rendered scikit-learn.org.\n",
       "     See: https://github.com/scikit-learn/scikit-learn/issues/21755 */\n",
       "  display: inline-block !important;\n",
       "  position: relative;\n",
       "}\n",
       "\n",
       "#sk-container-id-1 div.sk-text-repr-fallback {\n",
       "  display: none;\n",
       "}\n",
       "\n",
       "div.sk-parallel-item,\n",
       "div.sk-serial,\n",
       "div.sk-item {\n",
       "  /* draw centered vertical line to link estimators */\n",
       "  background-image: linear-gradient(var(--sklearn-color-text-on-default-background), var(--sklearn-color-text-on-default-background));\n",
       "  background-size: 2px 100%;\n",
       "  background-repeat: no-repeat;\n",
       "  background-position: center center;\n",
       "}\n",
       "\n",
       "/* Parallel-specific style estimator block */\n",
       "\n",
       "#sk-container-id-1 div.sk-parallel-item::after {\n",
       "  content: \"\";\n",
       "  width: 100%;\n",
       "  border-bottom: 2px solid var(--sklearn-color-text-on-default-background);\n",
       "  flex-grow: 1;\n",
       "}\n",
       "\n",
       "#sk-container-id-1 div.sk-parallel {\n",
       "  display: flex;\n",
       "  align-items: stretch;\n",
       "  justify-content: center;\n",
       "  background-color: var(--sklearn-color-background);\n",
       "  position: relative;\n",
       "}\n",
       "\n",
       "#sk-container-id-1 div.sk-parallel-item {\n",
       "  display: flex;\n",
       "  flex-direction: column;\n",
       "}\n",
       "\n",
       "#sk-container-id-1 div.sk-parallel-item:first-child::after {\n",
       "  align-self: flex-end;\n",
       "  width: 50%;\n",
       "}\n",
       "\n",
       "#sk-container-id-1 div.sk-parallel-item:last-child::after {\n",
       "  align-self: flex-start;\n",
       "  width: 50%;\n",
       "}\n",
       "\n",
       "#sk-container-id-1 div.sk-parallel-item:only-child::after {\n",
       "  width: 0;\n",
       "}\n",
       "\n",
       "/* Serial-specific style estimator block */\n",
       "\n",
       "#sk-container-id-1 div.sk-serial {\n",
       "  display: flex;\n",
       "  flex-direction: column;\n",
       "  align-items: center;\n",
       "  background-color: var(--sklearn-color-background);\n",
       "  padding-right: 1em;\n",
       "  padding-left: 1em;\n",
       "}\n",
       "\n",
       "\n",
       "/* Toggleable style: style used for estimator/Pipeline/ColumnTransformer box that is\n",
       "clickable and can be expanded/collapsed.\n",
       "- Pipeline and ColumnTransformer use this feature and define the default style\n",
       "- Estimators will overwrite some part of the style using the `sk-estimator` class\n",
       "*/\n",
       "\n",
       "/* Pipeline and ColumnTransformer style (default) */\n",
       "\n",
       "#sk-container-id-1 div.sk-toggleable {\n",
       "  /* Default theme specific background. It is overwritten whether we have a\n",
       "  specific estimator or a Pipeline/ColumnTransformer */\n",
       "  background-color: var(--sklearn-color-background);\n",
       "}\n",
       "\n",
       "/* Toggleable label */\n",
       "#sk-container-id-1 label.sk-toggleable__label {\n",
       "  cursor: pointer;\n",
       "  display: block;\n",
       "  width: 100%;\n",
       "  margin-bottom: 0;\n",
       "  padding: 0.5em;\n",
       "  box-sizing: border-box;\n",
       "  text-align: center;\n",
       "}\n",
       "\n",
       "#sk-container-id-1 label.sk-toggleable__label-arrow:before {\n",
       "  /* Arrow on the left of the label */\n",
       "  content: \"▸\";\n",
       "  float: left;\n",
       "  margin-right: 0.25em;\n",
       "  color: var(--sklearn-color-icon);\n",
       "}\n",
       "\n",
       "#sk-container-id-1 label.sk-toggleable__label-arrow:hover:before {\n",
       "  color: var(--sklearn-color-text);\n",
       "}\n",
       "\n",
       "/* Toggleable content - dropdown */\n",
       "\n",
       "#sk-container-id-1 div.sk-toggleable__content {\n",
       "  max-height: 0;\n",
       "  max-width: 0;\n",
       "  overflow: hidden;\n",
       "  text-align: left;\n",
       "  /* unfitted */\n",
       "  background-color: var(--sklearn-color-unfitted-level-0);\n",
       "}\n",
       "\n",
       "#sk-container-id-1 div.sk-toggleable__content.fitted {\n",
       "  /* fitted */\n",
       "  background-color: var(--sklearn-color-fitted-level-0);\n",
       "}\n",
       "\n",
       "#sk-container-id-1 div.sk-toggleable__content pre {\n",
       "  margin: 0.2em;\n",
       "  border-radius: 0.25em;\n",
       "  color: var(--sklearn-color-text);\n",
       "  /* unfitted */\n",
       "  background-color: var(--sklearn-color-unfitted-level-0);\n",
       "}\n",
       "\n",
       "#sk-container-id-1 div.sk-toggleable__content.fitted pre {\n",
       "  /* unfitted */\n",
       "  background-color: var(--sklearn-color-fitted-level-0);\n",
       "}\n",
       "\n",
       "#sk-container-id-1 input.sk-toggleable__control:checked~div.sk-toggleable__content {\n",
       "  /* Expand drop-down */\n",
       "  max-height: 200px;\n",
       "  max-width: 100%;\n",
       "  overflow: auto;\n",
       "}\n",
       "\n",
       "#sk-container-id-1 input.sk-toggleable__control:checked~label.sk-toggleable__label-arrow:before {\n",
       "  content: \"▾\";\n",
       "}\n",
       "\n",
       "/* Pipeline/ColumnTransformer-specific style */\n",
       "\n",
       "#sk-container-id-1 div.sk-label input.sk-toggleable__control:checked~label.sk-toggleable__label {\n",
       "  color: var(--sklearn-color-text);\n",
       "  background-color: var(--sklearn-color-unfitted-level-2);\n",
       "}\n",
       "\n",
       "#sk-container-id-1 div.sk-label.fitted input.sk-toggleable__control:checked~label.sk-toggleable__label {\n",
       "  background-color: var(--sklearn-color-fitted-level-2);\n",
       "}\n",
       "\n",
       "/* Estimator-specific style */\n",
       "\n",
       "/* Colorize estimator box */\n",
       "#sk-container-id-1 div.sk-estimator input.sk-toggleable__control:checked~label.sk-toggleable__label {\n",
       "  /* unfitted */\n",
       "  background-color: var(--sklearn-color-unfitted-level-2);\n",
       "}\n",
       "\n",
       "#sk-container-id-1 div.sk-estimator.fitted input.sk-toggleable__control:checked~label.sk-toggleable__label {\n",
       "  /* fitted */\n",
       "  background-color: var(--sklearn-color-fitted-level-2);\n",
       "}\n",
       "\n",
       "#sk-container-id-1 div.sk-label label.sk-toggleable__label,\n",
       "#sk-container-id-1 div.sk-label label {\n",
       "  /* The background is the default theme color */\n",
       "  color: var(--sklearn-color-text-on-default-background);\n",
       "}\n",
       "\n",
       "/* On hover, darken the color of the background */\n",
       "#sk-container-id-1 div.sk-label:hover label.sk-toggleable__label {\n",
       "  color: var(--sklearn-color-text);\n",
       "  background-color: var(--sklearn-color-unfitted-level-2);\n",
       "}\n",
       "\n",
       "/* Label box, darken color on hover, fitted */\n",
       "#sk-container-id-1 div.sk-label.fitted:hover label.sk-toggleable__label.fitted {\n",
       "  color: var(--sklearn-color-text);\n",
       "  background-color: var(--sklearn-color-fitted-level-2);\n",
       "}\n",
       "\n",
       "/* Estimator label */\n",
       "\n",
       "#sk-container-id-1 div.sk-label label {\n",
       "  font-family: monospace;\n",
       "  font-weight: bold;\n",
       "  display: inline-block;\n",
       "  line-height: 1.2em;\n",
       "}\n",
       "\n",
       "#sk-container-id-1 div.sk-label-container {\n",
       "  text-align: center;\n",
       "}\n",
       "\n",
       "/* Estimator-specific */\n",
       "#sk-container-id-1 div.sk-estimator {\n",
       "  font-family: monospace;\n",
       "  border: 1px dotted var(--sklearn-color-border-box);\n",
       "  border-radius: 0.25em;\n",
       "  box-sizing: border-box;\n",
       "  margin-bottom: 0.5em;\n",
       "  /* unfitted */\n",
       "  background-color: var(--sklearn-color-unfitted-level-0);\n",
       "}\n",
       "\n",
       "#sk-container-id-1 div.sk-estimator.fitted {\n",
       "  /* fitted */\n",
       "  background-color: var(--sklearn-color-fitted-level-0);\n",
       "}\n",
       "\n",
       "/* on hover */\n",
       "#sk-container-id-1 div.sk-estimator:hover {\n",
       "  /* unfitted */\n",
       "  background-color: var(--sklearn-color-unfitted-level-2);\n",
       "}\n",
       "\n",
       "#sk-container-id-1 div.sk-estimator.fitted:hover {\n",
       "  /* fitted */\n",
       "  background-color: var(--sklearn-color-fitted-level-2);\n",
       "}\n",
       "\n",
       "/* Specification for estimator info (e.g. \"i\" and \"?\") */\n",
       "\n",
       "/* Common style for \"i\" and \"?\" */\n",
       "\n",
       ".sk-estimator-doc-link,\n",
       "a:link.sk-estimator-doc-link,\n",
       "a:visited.sk-estimator-doc-link {\n",
       "  float: right;\n",
       "  font-size: smaller;\n",
       "  line-height: 1em;\n",
       "  font-family: monospace;\n",
       "  background-color: var(--sklearn-color-background);\n",
       "  border-radius: 1em;\n",
       "  height: 1em;\n",
       "  width: 1em;\n",
       "  text-decoration: none !important;\n",
       "  margin-left: 1ex;\n",
       "  /* unfitted */\n",
       "  border: var(--sklearn-color-unfitted-level-1) 1pt solid;\n",
       "  color: var(--sklearn-color-unfitted-level-1);\n",
       "}\n",
       "\n",
       ".sk-estimator-doc-link.fitted,\n",
       "a:link.sk-estimator-doc-link.fitted,\n",
       "a:visited.sk-estimator-doc-link.fitted {\n",
       "  /* fitted */\n",
       "  border: var(--sklearn-color-fitted-level-1) 1pt solid;\n",
       "  color: var(--sklearn-color-fitted-level-1);\n",
       "}\n",
       "\n",
       "/* On hover */\n",
       "div.sk-estimator:hover .sk-estimator-doc-link:hover,\n",
       ".sk-estimator-doc-link:hover,\n",
       "div.sk-label-container:hover .sk-estimator-doc-link:hover,\n",
       ".sk-estimator-doc-link:hover {\n",
       "  /* unfitted */\n",
       "  background-color: var(--sklearn-color-unfitted-level-3);\n",
       "  color: var(--sklearn-color-background);\n",
       "  text-decoration: none;\n",
       "}\n",
       "\n",
       "div.sk-estimator.fitted:hover .sk-estimator-doc-link.fitted:hover,\n",
       ".sk-estimator-doc-link.fitted:hover,\n",
       "div.sk-label-container:hover .sk-estimator-doc-link.fitted:hover,\n",
       ".sk-estimator-doc-link.fitted:hover {\n",
       "  /* fitted */\n",
       "  background-color: var(--sklearn-color-fitted-level-3);\n",
       "  color: var(--sklearn-color-background);\n",
       "  text-decoration: none;\n",
       "}\n",
       "\n",
       "/* Span, style for the box shown on hovering the info icon */\n",
       ".sk-estimator-doc-link span {\n",
       "  display: none;\n",
       "  z-index: 9999;\n",
       "  position: relative;\n",
       "  font-weight: normal;\n",
       "  right: .2ex;\n",
       "  padding: .5ex;\n",
       "  margin: .5ex;\n",
       "  width: min-content;\n",
       "  min-width: 20ex;\n",
       "  max-width: 50ex;\n",
       "  color: var(--sklearn-color-text);\n",
       "  box-shadow: 2pt 2pt 4pt #999;\n",
       "  /* unfitted */\n",
       "  background: var(--sklearn-color-unfitted-level-0);\n",
       "  border: .5pt solid var(--sklearn-color-unfitted-level-3);\n",
       "}\n",
       "\n",
       ".sk-estimator-doc-link.fitted span {\n",
       "  /* fitted */\n",
       "  background: var(--sklearn-color-fitted-level-0);\n",
       "  border: var(--sklearn-color-fitted-level-3);\n",
       "}\n",
       "\n",
       ".sk-estimator-doc-link:hover span {\n",
       "  display: block;\n",
       "}\n",
       "\n",
       "/* \"?\"-specific style due to the `<a>` HTML tag */\n",
       "\n",
       "#sk-container-id-1 a.estimator_doc_link {\n",
       "  float: right;\n",
       "  font-size: 1rem;\n",
       "  line-height: 1em;\n",
       "  font-family: monospace;\n",
       "  background-color: var(--sklearn-color-background);\n",
       "  border-radius: 1rem;\n",
       "  height: 1rem;\n",
       "  width: 1rem;\n",
       "  text-decoration: none;\n",
       "  /* unfitted */\n",
       "  color: var(--sklearn-color-unfitted-level-1);\n",
       "  border: var(--sklearn-color-unfitted-level-1) 1pt solid;\n",
       "}\n",
       "\n",
       "#sk-container-id-1 a.estimator_doc_link.fitted {\n",
       "  /* fitted */\n",
       "  border: var(--sklearn-color-fitted-level-1) 1pt solid;\n",
       "  color: var(--sklearn-color-fitted-level-1);\n",
       "}\n",
       "\n",
       "/* On hover */\n",
       "#sk-container-id-1 a.estimator_doc_link:hover {\n",
       "  /* unfitted */\n",
       "  background-color: var(--sklearn-color-unfitted-level-3);\n",
       "  color: var(--sklearn-color-background);\n",
       "  text-decoration: none;\n",
       "}\n",
       "\n",
       "#sk-container-id-1 a.estimator_doc_link.fitted:hover {\n",
       "  /* fitted */\n",
       "  background-color: var(--sklearn-color-fitted-level-3);\n",
       "}\n",
       "</style><div id=\"sk-container-id-1\" class=\"sk-top-container\"><div class=\"sk-text-repr-fallback\"><pre>Pipeline(steps=[(&#x27;vect&#x27;,\n",
       "                 TfidfVectorizer(stop_words=[&#x27;i&#x27;, &#x27;me&#x27;, &#x27;my&#x27;, &#x27;myself&#x27;, &#x27;we&#x27;,\n",
       "                                             &#x27;our&#x27;, &#x27;ours&#x27;, &#x27;ourselves&#x27;, &#x27;you&#x27;,\n",
       "                                             &quot;you&#x27;re&quot;, &quot;you&#x27;ve&quot;, &quot;you&#x27;ll&quot;,\n",
       "                                             &quot;you&#x27;d&quot;, &#x27;your&#x27;, &#x27;yours&#x27;,\n",
       "                                             &#x27;yourself&#x27;, &#x27;yourselves&#x27;, &#x27;he&#x27;,\n",
       "                                             &#x27;him&#x27;, &#x27;his&#x27;, &#x27;himself&#x27;, &#x27;she&#x27;,\n",
       "                                             &quot;she&#x27;s&quot;, &#x27;her&#x27;, &#x27;hers&#x27;, &#x27;herself&#x27;,\n",
       "                                             &#x27;it&#x27;, &quot;it&#x27;s&quot;, &#x27;its&#x27;, &#x27;itself&#x27;, ...])),\n",
       "                (&#x27;model&#x27;,\n",
       "                 LGBMClassifier(n_jobs=-1, objective=&#x27;binary&#x27;, random_state=42,\n",
       "                                verbosity=-1))])</pre><b>In a Jupyter environment, please rerun this cell to show the HTML representation or trust the notebook. <br />On GitHub, the HTML representation is unable to render, please try loading this page with nbviewer.org.</b></div><div class=\"sk-container\" hidden><div class=\"sk-item sk-dashed-wrapped\"><div class=\"sk-label-container\"><div class=\"sk-label  sk-toggleable\"><input class=\"sk-toggleable__control sk-hidden--visually\" id=\"sk-estimator-id-1\" type=\"checkbox\" ><label for=\"sk-estimator-id-1\" class=\"sk-toggleable__label  sk-toggleable__label-arrow \">&nbsp;&nbsp;Pipeline<a class=\"sk-estimator-doc-link \" rel=\"noreferrer\" target=\"_blank\" href=\"https://scikit-learn.org/1.5/modules/generated/sklearn.pipeline.Pipeline.html\">?<span>Documentation for Pipeline</span></a><span class=\"sk-estimator-doc-link \">i<span>Not fitted</span></span></label><div class=\"sk-toggleable__content \"><pre>Pipeline(steps=[(&#x27;vect&#x27;,\n",
       "                 TfidfVectorizer(stop_words=[&#x27;i&#x27;, &#x27;me&#x27;, &#x27;my&#x27;, &#x27;myself&#x27;, &#x27;we&#x27;,\n",
       "                                             &#x27;our&#x27;, &#x27;ours&#x27;, &#x27;ourselves&#x27;, &#x27;you&#x27;,\n",
       "                                             &quot;you&#x27;re&quot;, &quot;you&#x27;ve&quot;, &quot;you&#x27;ll&quot;,\n",
       "                                             &quot;you&#x27;d&quot;, &#x27;your&#x27;, &#x27;yours&#x27;,\n",
       "                                             &#x27;yourself&#x27;, &#x27;yourselves&#x27;, &#x27;he&#x27;,\n",
       "                                             &#x27;him&#x27;, &#x27;his&#x27;, &#x27;himself&#x27;, &#x27;she&#x27;,\n",
       "                                             &quot;she&#x27;s&quot;, &#x27;her&#x27;, &#x27;hers&#x27;, &#x27;herself&#x27;,\n",
       "                                             &#x27;it&#x27;, &quot;it&#x27;s&quot;, &#x27;its&#x27;, &#x27;itself&#x27;, ...])),\n",
       "                (&#x27;model&#x27;,\n",
       "                 LGBMClassifier(n_jobs=-1, objective=&#x27;binary&#x27;, random_state=42,\n",
       "                                verbosity=-1))])</pre></div> </div></div><div class=\"sk-serial\"><div class=\"sk-item\"><div class=\"sk-estimator  sk-toggleable\"><input class=\"sk-toggleable__control sk-hidden--visually\" id=\"sk-estimator-id-2\" type=\"checkbox\" ><label for=\"sk-estimator-id-2\" class=\"sk-toggleable__label  sk-toggleable__label-arrow \">&nbsp;TfidfVectorizer<a class=\"sk-estimator-doc-link \" rel=\"noreferrer\" target=\"_blank\" href=\"https://scikit-learn.org/1.5/modules/generated/sklearn.feature_extraction.text.TfidfVectorizer.html\">?<span>Documentation for TfidfVectorizer</span></a></label><div class=\"sk-toggleable__content \"><pre>TfidfVectorizer(stop_words=[&#x27;i&#x27;, &#x27;me&#x27;, &#x27;my&#x27;, &#x27;myself&#x27;, &#x27;we&#x27;, &#x27;our&#x27;, &#x27;ours&#x27;,\n",
       "                            &#x27;ourselves&#x27;, &#x27;you&#x27;, &quot;you&#x27;re&quot;, &quot;you&#x27;ve&quot;, &quot;you&#x27;ll&quot;,\n",
       "                            &quot;you&#x27;d&quot;, &#x27;your&#x27;, &#x27;yours&#x27;, &#x27;yourself&#x27;, &#x27;yourselves&#x27;,\n",
       "                            &#x27;he&#x27;, &#x27;him&#x27;, &#x27;his&#x27;, &#x27;himself&#x27;, &#x27;she&#x27;, &quot;she&#x27;s&quot;,\n",
       "                            &#x27;her&#x27;, &#x27;hers&#x27;, &#x27;herself&#x27;, &#x27;it&#x27;, &quot;it&#x27;s&quot;, &#x27;its&#x27;,\n",
       "                            &#x27;itself&#x27;, ...])</pre></div> </div></div><div class=\"sk-item\"><div class=\"sk-estimator  sk-toggleable\"><input class=\"sk-toggleable__control sk-hidden--visually\" id=\"sk-estimator-id-3\" type=\"checkbox\" ><label for=\"sk-estimator-id-3\" class=\"sk-toggleable__label  sk-toggleable__label-arrow \">LGBMClassifier</label><div class=\"sk-toggleable__content \"><pre>LGBMClassifier(n_jobs=-1, objective=&#x27;binary&#x27;, random_state=42, verbosity=-1)</pre></div> </div></div></div></div></div></div>"
      ],
      "text/plain": [
       "Pipeline(steps=[('vect',\n",
       "                 TfidfVectorizer(stop_words=['i', 'me', 'my', 'myself', 'we',\n",
       "                                             'our', 'ours', 'ourselves', 'you',\n",
       "                                             \"you're\", \"you've\", \"you'll\",\n",
       "                                             \"you'd\", 'your', 'yours',\n",
       "                                             'yourself', 'yourselves', 'he',\n",
       "                                             'him', 'his', 'himself', 'she',\n",
       "                                             \"she's\", 'her', 'hers', 'herself',\n",
       "                                             'it', \"it's\", 'its', 'itself', ...])),\n",
       "                ('model',\n",
       "                 LGBMClassifier(n_jobs=-1, objective='binary', random_state=42,\n",
       "                                verbosity=-1))])"
      ]
     },
     "execution_count": 26,
     "metadata": {},
     "output_type": "execute_result"
    }
   ],
   "source": [
    "# Обновляем модель в существующем пайплайне на LGBMClassifier\n",
    "pipeline.set_params(model=LGBMClassifier(\n",
    "    random_state=RANDOM_STATE, n_jobs=-1, objective='binary', verbosity=-1))"
   ]
  },
  {
   "cell_type": "code",
   "execution_count": null,
   "metadata": {
    "id": "IfzqEUpJfZ3R"
   },
   "outputs": [],
   "source": [
    "# Выполняем кросс-валидацию\n",
    "score_lgbm = cross_val_score(pipeline, corpus, y_train, cv=5, scoring='f1')"
   ]
  },
  {
   "cell_type": "code",
   "execution_count": null,
   "metadata": {
    "colab": {
     "base_uri": "https://localhost:8080/"
    },
    "id": "kn3R4-PKfft6",
    "outputId": "ea564740-bb39-4d74-cdd7-40e73efc3559"
   },
   "outputs": [
    {
     "name": "stdout",
     "output_type": "stream",
     "text": [
      "Результат на кросс-валидации: 0.74\n",
      "Отклонение на кросс-валидации: 0.84%\n"
     ]
    }
   ],
   "source": [
    "print(f'Результат на кросс-валидации: {score_lgbm.mean():.2f}')\n",
    "print(f'Отклонение на кросс-валидации: {score_lgbm.std():.2%}')"
   ]
  },
  {
   "cell_type": "markdown",
   "metadata": {
    "id": "cHEdHciJyiEA"
   },
   "source": [
    "Получаем 0.74 на кросс-валидации и отклонение 0.84."
   ]
  },
  {
   "cell_type": "markdown",
   "metadata": {
    "id": "VY0CkDU4YXg_"
   },
   "source": [
    "Сравним все модели между собой, результат сравнения свели в таблицу\n",
    "\n",
    "| **Модели**  |  **F1 на кросс-валидации** | **Отклонение метрики**  | **Удовлетворяет условию** |\n",
    "|:------------- |:---------------:| :-------------:| :-------------:|\n",
    "| **LogisticRegressionCV**  |<span style=\"color:red\"> 0.72</span> | 0.57 | ❌ |\n",
    "| **SVM** |<span style=\"color:red\"> 0.74</span>| 0.53 | ❌ |\n",
    "| **DecisionTreeRegressor**   |<span style=\"color:red\"> 0.71</span>| 0.31 | ❌|\n",
    "| **LGBMClassifier**   |<span style=\"color:red\"> 0.74</span>| 0.85 | ❌|\n",
    "\n",
    "По итогу выбор между `SVM` и `LGBMClassifier`. Хоть отклонение у `LGBMClassifier` больше, но она обучалась быстрее, поэтому дальше будем работать с этой моделью."
   ]
  },
  {
   "cell_type": "markdown",
   "metadata": {},
   "source": [
    "### LGMBClassifier подбор гиперпараметров"
   ]
  },
  {
   "cell_type": "markdown",
   "metadata": {},
   "source": [
    "Так ни одна из моделей не удовлетворяет условию задачи, попробуем улучшить результат подобрав гиперпараметры для лучшей базовой модели. \n",
    "\n",
    "Параметры этой модели будем подбирать с помощью `RandomizedSearchCV()`:\n",
    "\n",
    "- `num_leaves`\n",
    "- `n_estimators`\n",
    "- `min_child_samples`\n",
    "- `max_depth`"
   ]
  },
  {
   "cell_type": "code",
   "execution_count": 84,
   "metadata": {
    "colab": {
     "base_uri": "https://localhost:8080/",
     "height": 143
    },
    "id": "J5ijFUDcOOEn",
    "outputId": "2fe471ae-fbf8-45b5-ee0a-5081c9c48638"
   },
   "outputs": [
    {
     "data": {
      "text/html": [
       "<style>#sk-container-id-3 {\n",
       "  /* Definition of color scheme common for light and dark mode */\n",
       "  --sklearn-color-text: black;\n",
       "  --sklearn-color-line: gray;\n",
       "  /* Definition of color scheme for unfitted estimators */\n",
       "  --sklearn-color-unfitted-level-0: #fff5e6;\n",
       "  --sklearn-color-unfitted-level-1: #f6e4d2;\n",
       "  --sklearn-color-unfitted-level-2: #ffe0b3;\n",
       "  --sklearn-color-unfitted-level-3: chocolate;\n",
       "  /* Definition of color scheme for fitted estimators */\n",
       "  --sklearn-color-fitted-level-0: #f0f8ff;\n",
       "  --sklearn-color-fitted-level-1: #d4ebff;\n",
       "  --sklearn-color-fitted-level-2: #b3dbfd;\n",
       "  --sklearn-color-fitted-level-3: cornflowerblue;\n",
       "\n",
       "  /* Specific color for light theme */\n",
       "  --sklearn-color-text-on-default-background: var(--sg-text-color, var(--theme-code-foreground, var(--jp-content-font-color1, black)));\n",
       "  --sklearn-color-background: var(--sg-background-color, var(--theme-background, var(--jp-layout-color0, white)));\n",
       "  --sklearn-color-border-box: var(--sg-text-color, var(--theme-code-foreground, var(--jp-content-font-color1, black)));\n",
       "  --sklearn-color-icon: #696969;\n",
       "\n",
       "  @media (prefers-color-scheme: dark) {\n",
       "    /* Redefinition of color scheme for dark theme */\n",
       "    --sklearn-color-text-on-default-background: var(--sg-text-color, var(--theme-code-foreground, var(--jp-content-font-color1, white)));\n",
       "    --sklearn-color-background: var(--sg-background-color, var(--theme-background, var(--jp-layout-color0, #111)));\n",
       "    --sklearn-color-border-box: var(--sg-text-color, var(--theme-code-foreground, var(--jp-content-font-color1, white)));\n",
       "    --sklearn-color-icon: #878787;\n",
       "  }\n",
       "}\n",
       "\n",
       "#sk-container-id-3 {\n",
       "  color: var(--sklearn-color-text);\n",
       "}\n",
       "\n",
       "#sk-container-id-3 pre {\n",
       "  padding: 0;\n",
       "}\n",
       "\n",
       "#sk-container-id-3 input.sk-hidden--visually {\n",
       "  border: 0;\n",
       "  clip: rect(1px 1px 1px 1px);\n",
       "  clip: rect(1px, 1px, 1px, 1px);\n",
       "  height: 1px;\n",
       "  margin: -1px;\n",
       "  overflow: hidden;\n",
       "  padding: 0;\n",
       "  position: absolute;\n",
       "  width: 1px;\n",
       "}\n",
       "\n",
       "#sk-container-id-3 div.sk-dashed-wrapped {\n",
       "  border: 1px dashed var(--sklearn-color-line);\n",
       "  margin: 0 0.4em 0.5em 0.4em;\n",
       "  box-sizing: border-box;\n",
       "  padding-bottom: 0.4em;\n",
       "  background-color: var(--sklearn-color-background);\n",
       "}\n",
       "\n",
       "#sk-container-id-3 div.sk-container {\n",
       "  /* jupyter's `normalize.less` sets `[hidden] { display: none; }`\n",
       "     but bootstrap.min.css set `[hidden] { display: none !important; }`\n",
       "     so we also need the `!important` here to be able to override the\n",
       "     default hidden behavior on the sphinx rendered scikit-learn.org.\n",
       "     See: https://github.com/scikit-learn/scikit-learn/issues/21755 */\n",
       "  display: inline-block !important;\n",
       "  position: relative;\n",
       "}\n",
       "\n",
       "#sk-container-id-3 div.sk-text-repr-fallback {\n",
       "  display: none;\n",
       "}\n",
       "\n",
       "div.sk-parallel-item,\n",
       "div.sk-serial,\n",
       "div.sk-item {\n",
       "  /* draw centered vertical line to link estimators */\n",
       "  background-image: linear-gradient(var(--sklearn-color-text-on-default-background), var(--sklearn-color-text-on-default-background));\n",
       "  background-size: 2px 100%;\n",
       "  background-repeat: no-repeat;\n",
       "  background-position: center center;\n",
       "}\n",
       "\n",
       "/* Parallel-specific style estimator block */\n",
       "\n",
       "#sk-container-id-3 div.sk-parallel-item::after {\n",
       "  content: \"\";\n",
       "  width: 100%;\n",
       "  border-bottom: 2px solid var(--sklearn-color-text-on-default-background);\n",
       "  flex-grow: 1;\n",
       "}\n",
       "\n",
       "#sk-container-id-3 div.sk-parallel {\n",
       "  display: flex;\n",
       "  align-items: stretch;\n",
       "  justify-content: center;\n",
       "  background-color: var(--sklearn-color-background);\n",
       "  position: relative;\n",
       "}\n",
       "\n",
       "#sk-container-id-3 div.sk-parallel-item {\n",
       "  display: flex;\n",
       "  flex-direction: column;\n",
       "}\n",
       "\n",
       "#sk-container-id-3 div.sk-parallel-item:first-child::after {\n",
       "  align-self: flex-end;\n",
       "  width: 50%;\n",
       "}\n",
       "\n",
       "#sk-container-id-3 div.sk-parallel-item:last-child::after {\n",
       "  align-self: flex-start;\n",
       "  width: 50%;\n",
       "}\n",
       "\n",
       "#sk-container-id-3 div.sk-parallel-item:only-child::after {\n",
       "  width: 0;\n",
       "}\n",
       "\n",
       "/* Serial-specific style estimator block */\n",
       "\n",
       "#sk-container-id-3 div.sk-serial {\n",
       "  display: flex;\n",
       "  flex-direction: column;\n",
       "  align-items: center;\n",
       "  background-color: var(--sklearn-color-background);\n",
       "  padding-right: 1em;\n",
       "  padding-left: 1em;\n",
       "}\n",
       "\n",
       "\n",
       "/* Toggleable style: style used for estimator/Pipeline/ColumnTransformer box that is\n",
       "clickable and can be expanded/collapsed.\n",
       "- Pipeline and ColumnTransformer use this feature and define the default style\n",
       "- Estimators will overwrite some part of the style using the `sk-estimator` class\n",
       "*/\n",
       "\n",
       "/* Pipeline and ColumnTransformer style (default) */\n",
       "\n",
       "#sk-container-id-3 div.sk-toggleable {\n",
       "  /* Default theme specific background. It is overwritten whether we have a\n",
       "  specific estimator or a Pipeline/ColumnTransformer */\n",
       "  background-color: var(--sklearn-color-background);\n",
       "}\n",
       "\n",
       "/* Toggleable label */\n",
       "#sk-container-id-3 label.sk-toggleable__label {\n",
       "  cursor: pointer;\n",
       "  display: block;\n",
       "  width: 100%;\n",
       "  margin-bottom: 0;\n",
       "  padding: 0.5em;\n",
       "  box-sizing: border-box;\n",
       "  text-align: center;\n",
       "}\n",
       "\n",
       "#sk-container-id-3 label.sk-toggleable__label-arrow:before {\n",
       "  /* Arrow on the left of the label */\n",
       "  content: \"▸\";\n",
       "  float: left;\n",
       "  margin-right: 0.25em;\n",
       "  color: var(--sklearn-color-icon);\n",
       "}\n",
       "\n",
       "#sk-container-id-3 label.sk-toggleable__label-arrow:hover:before {\n",
       "  color: var(--sklearn-color-text);\n",
       "}\n",
       "\n",
       "/* Toggleable content - dropdown */\n",
       "\n",
       "#sk-container-id-3 div.sk-toggleable__content {\n",
       "  max-height: 0;\n",
       "  max-width: 0;\n",
       "  overflow: hidden;\n",
       "  text-align: left;\n",
       "  /* unfitted */\n",
       "  background-color: var(--sklearn-color-unfitted-level-0);\n",
       "}\n",
       "\n",
       "#sk-container-id-3 div.sk-toggleable__content.fitted {\n",
       "  /* fitted */\n",
       "  background-color: var(--sklearn-color-fitted-level-0);\n",
       "}\n",
       "\n",
       "#sk-container-id-3 div.sk-toggleable__content pre {\n",
       "  margin: 0.2em;\n",
       "  border-radius: 0.25em;\n",
       "  color: var(--sklearn-color-text);\n",
       "  /* unfitted */\n",
       "  background-color: var(--sklearn-color-unfitted-level-0);\n",
       "}\n",
       "\n",
       "#sk-container-id-3 div.sk-toggleable__content.fitted pre {\n",
       "  /* unfitted */\n",
       "  background-color: var(--sklearn-color-fitted-level-0);\n",
       "}\n",
       "\n",
       "#sk-container-id-3 input.sk-toggleable__control:checked~div.sk-toggleable__content {\n",
       "  /* Expand drop-down */\n",
       "  max-height: 200px;\n",
       "  max-width: 100%;\n",
       "  overflow: auto;\n",
       "}\n",
       "\n",
       "#sk-container-id-3 input.sk-toggleable__control:checked~label.sk-toggleable__label-arrow:before {\n",
       "  content: \"▾\";\n",
       "}\n",
       "\n",
       "/* Pipeline/ColumnTransformer-specific style */\n",
       "\n",
       "#sk-container-id-3 div.sk-label input.sk-toggleable__control:checked~label.sk-toggleable__label {\n",
       "  color: var(--sklearn-color-text);\n",
       "  background-color: var(--sklearn-color-unfitted-level-2);\n",
       "}\n",
       "\n",
       "#sk-container-id-3 div.sk-label.fitted input.sk-toggleable__control:checked~label.sk-toggleable__label {\n",
       "  background-color: var(--sklearn-color-fitted-level-2);\n",
       "}\n",
       "\n",
       "/* Estimator-specific style */\n",
       "\n",
       "/* Colorize estimator box */\n",
       "#sk-container-id-3 div.sk-estimator input.sk-toggleable__control:checked~label.sk-toggleable__label {\n",
       "  /* unfitted */\n",
       "  background-color: var(--sklearn-color-unfitted-level-2);\n",
       "}\n",
       "\n",
       "#sk-container-id-3 div.sk-estimator.fitted input.sk-toggleable__control:checked~label.sk-toggleable__label {\n",
       "  /* fitted */\n",
       "  background-color: var(--sklearn-color-fitted-level-2);\n",
       "}\n",
       "\n",
       "#sk-container-id-3 div.sk-label label.sk-toggleable__label,\n",
       "#sk-container-id-3 div.sk-label label {\n",
       "  /* The background is the default theme color */\n",
       "  color: var(--sklearn-color-text-on-default-background);\n",
       "}\n",
       "\n",
       "/* On hover, darken the color of the background */\n",
       "#sk-container-id-3 div.sk-label:hover label.sk-toggleable__label {\n",
       "  color: var(--sklearn-color-text);\n",
       "  background-color: var(--sklearn-color-unfitted-level-2);\n",
       "}\n",
       "\n",
       "/* Label box, darken color on hover, fitted */\n",
       "#sk-container-id-3 div.sk-label.fitted:hover label.sk-toggleable__label.fitted {\n",
       "  color: var(--sklearn-color-text);\n",
       "  background-color: var(--sklearn-color-fitted-level-2);\n",
       "}\n",
       "\n",
       "/* Estimator label */\n",
       "\n",
       "#sk-container-id-3 div.sk-label label {\n",
       "  font-family: monospace;\n",
       "  font-weight: bold;\n",
       "  display: inline-block;\n",
       "  line-height: 1.2em;\n",
       "}\n",
       "\n",
       "#sk-container-id-3 div.sk-label-container {\n",
       "  text-align: center;\n",
       "}\n",
       "\n",
       "/* Estimator-specific */\n",
       "#sk-container-id-3 div.sk-estimator {\n",
       "  font-family: monospace;\n",
       "  border: 1px dotted var(--sklearn-color-border-box);\n",
       "  border-radius: 0.25em;\n",
       "  box-sizing: border-box;\n",
       "  margin-bottom: 0.5em;\n",
       "  /* unfitted */\n",
       "  background-color: var(--sklearn-color-unfitted-level-0);\n",
       "}\n",
       "\n",
       "#sk-container-id-3 div.sk-estimator.fitted {\n",
       "  /* fitted */\n",
       "  background-color: var(--sklearn-color-fitted-level-0);\n",
       "}\n",
       "\n",
       "/* on hover */\n",
       "#sk-container-id-3 div.sk-estimator:hover {\n",
       "  /* unfitted */\n",
       "  background-color: var(--sklearn-color-unfitted-level-2);\n",
       "}\n",
       "\n",
       "#sk-container-id-3 div.sk-estimator.fitted:hover {\n",
       "  /* fitted */\n",
       "  background-color: var(--sklearn-color-fitted-level-2);\n",
       "}\n",
       "\n",
       "/* Specification for estimator info (e.g. \"i\" and \"?\") */\n",
       "\n",
       "/* Common style for \"i\" and \"?\" */\n",
       "\n",
       ".sk-estimator-doc-link,\n",
       "a:link.sk-estimator-doc-link,\n",
       "a:visited.sk-estimator-doc-link {\n",
       "  float: right;\n",
       "  font-size: smaller;\n",
       "  line-height: 1em;\n",
       "  font-family: monospace;\n",
       "  background-color: var(--sklearn-color-background);\n",
       "  border-radius: 1em;\n",
       "  height: 1em;\n",
       "  width: 1em;\n",
       "  text-decoration: none !important;\n",
       "  margin-left: 1ex;\n",
       "  /* unfitted */\n",
       "  border: var(--sklearn-color-unfitted-level-1) 1pt solid;\n",
       "  color: var(--sklearn-color-unfitted-level-1);\n",
       "}\n",
       "\n",
       ".sk-estimator-doc-link.fitted,\n",
       "a:link.sk-estimator-doc-link.fitted,\n",
       "a:visited.sk-estimator-doc-link.fitted {\n",
       "  /* fitted */\n",
       "  border: var(--sklearn-color-fitted-level-1) 1pt solid;\n",
       "  color: var(--sklearn-color-fitted-level-1);\n",
       "}\n",
       "\n",
       "/* On hover */\n",
       "div.sk-estimator:hover .sk-estimator-doc-link:hover,\n",
       ".sk-estimator-doc-link:hover,\n",
       "div.sk-label-container:hover .sk-estimator-doc-link:hover,\n",
       ".sk-estimator-doc-link:hover {\n",
       "  /* unfitted */\n",
       "  background-color: var(--sklearn-color-unfitted-level-3);\n",
       "  color: var(--sklearn-color-background);\n",
       "  text-decoration: none;\n",
       "}\n",
       "\n",
       "div.sk-estimator.fitted:hover .sk-estimator-doc-link.fitted:hover,\n",
       ".sk-estimator-doc-link.fitted:hover,\n",
       "div.sk-label-container:hover .sk-estimator-doc-link.fitted:hover,\n",
       ".sk-estimator-doc-link.fitted:hover {\n",
       "  /* fitted */\n",
       "  background-color: var(--sklearn-color-fitted-level-3);\n",
       "  color: var(--sklearn-color-background);\n",
       "  text-decoration: none;\n",
       "}\n",
       "\n",
       "/* Span, style for the box shown on hovering the info icon */\n",
       ".sk-estimator-doc-link span {\n",
       "  display: none;\n",
       "  z-index: 9999;\n",
       "  position: relative;\n",
       "  font-weight: normal;\n",
       "  right: .2ex;\n",
       "  padding: .5ex;\n",
       "  margin: .5ex;\n",
       "  width: min-content;\n",
       "  min-width: 20ex;\n",
       "  max-width: 50ex;\n",
       "  color: var(--sklearn-color-text);\n",
       "  box-shadow: 2pt 2pt 4pt #999;\n",
       "  /* unfitted */\n",
       "  background: var(--sklearn-color-unfitted-level-0);\n",
       "  border: .5pt solid var(--sklearn-color-unfitted-level-3);\n",
       "}\n",
       "\n",
       ".sk-estimator-doc-link.fitted span {\n",
       "  /* fitted */\n",
       "  background: var(--sklearn-color-fitted-level-0);\n",
       "  border: var(--sklearn-color-fitted-level-3);\n",
       "}\n",
       "\n",
       ".sk-estimator-doc-link:hover span {\n",
       "  display: block;\n",
       "}\n",
       "\n",
       "/* \"?\"-specific style due to the `<a>` HTML tag */\n",
       "\n",
       "#sk-container-id-3 a.estimator_doc_link {\n",
       "  float: right;\n",
       "  font-size: 1rem;\n",
       "  line-height: 1em;\n",
       "  font-family: monospace;\n",
       "  background-color: var(--sklearn-color-background);\n",
       "  border-radius: 1rem;\n",
       "  height: 1rem;\n",
       "  width: 1rem;\n",
       "  text-decoration: none;\n",
       "  /* unfitted */\n",
       "  color: var(--sklearn-color-unfitted-level-1);\n",
       "  border: var(--sklearn-color-unfitted-level-1) 1pt solid;\n",
       "}\n",
       "\n",
       "#sk-container-id-3 a.estimator_doc_link.fitted {\n",
       "  /* fitted */\n",
       "  border: var(--sklearn-color-fitted-level-1) 1pt solid;\n",
       "  color: var(--sklearn-color-fitted-level-1);\n",
       "}\n",
       "\n",
       "/* On hover */\n",
       "#sk-container-id-3 a.estimator_doc_link:hover {\n",
       "  /* unfitted */\n",
       "  background-color: var(--sklearn-color-unfitted-level-3);\n",
       "  color: var(--sklearn-color-background);\n",
       "  text-decoration: none;\n",
       "}\n",
       "\n",
       "#sk-container-id-3 a.estimator_doc_link.fitted:hover {\n",
       "  /* fitted */\n",
       "  background-color: var(--sklearn-color-fitted-level-3);\n",
       "}\n",
       "</style><div id=\"sk-container-id-3\" class=\"sk-top-container\"><div class=\"sk-text-repr-fallback\"><pre>Pipeline(steps=[(&#x27;vect&#x27;,\n",
       "                 TfidfVectorizer(stop_words=[&#x27;i&#x27;, &#x27;me&#x27;, &#x27;my&#x27;, &#x27;myself&#x27;, &#x27;we&#x27;,\n",
       "                                             &#x27;our&#x27;, &#x27;ours&#x27;, &#x27;ourselves&#x27;, &#x27;you&#x27;,\n",
       "                                             &quot;you&#x27;re&quot;, &quot;you&#x27;ve&quot;, &quot;you&#x27;ll&quot;,\n",
       "                                             &quot;you&#x27;d&quot;, &#x27;your&#x27;, &#x27;yours&#x27;,\n",
       "                                             &#x27;yourself&#x27;, &#x27;yourselves&#x27;, &#x27;he&#x27;,\n",
       "                                             &#x27;him&#x27;, &#x27;his&#x27;, &#x27;himself&#x27;, &#x27;she&#x27;,\n",
       "                                             &quot;she&#x27;s&quot;, &#x27;her&#x27;, &#x27;hers&#x27;, &#x27;herself&#x27;,\n",
       "                                             &#x27;it&#x27;, &quot;it&#x27;s&quot;, &#x27;its&#x27;, &#x27;itself&#x27;, ...])),\n",
       "                (&#x27;model&#x27;,\n",
       "                 LGBMClassifier(n_jobs=-1, objective=&#x27;binary&#x27;, random_state=42,\n",
       "                                verbosity=-1))])</pre><b>In a Jupyter environment, please rerun this cell to show the HTML representation or trust the notebook. <br />On GitHub, the HTML representation is unable to render, please try loading this page with nbviewer.org.</b></div><div class=\"sk-container\" hidden><div class=\"sk-item sk-dashed-wrapped\"><div class=\"sk-label-container\"><div class=\"sk-label  sk-toggleable\"><input class=\"sk-toggleable__control sk-hidden--visually\" id=\"sk-estimator-id-7\" type=\"checkbox\" ><label for=\"sk-estimator-id-7\" class=\"sk-toggleable__label  sk-toggleable__label-arrow \">&nbsp;&nbsp;Pipeline<a class=\"sk-estimator-doc-link \" rel=\"noreferrer\" target=\"_blank\" href=\"https://scikit-learn.org/1.5/modules/generated/sklearn.pipeline.Pipeline.html\">?<span>Documentation for Pipeline</span></a><span class=\"sk-estimator-doc-link \">i<span>Not fitted</span></span></label><div class=\"sk-toggleable__content \"><pre>Pipeline(steps=[(&#x27;vect&#x27;,\n",
       "                 TfidfVectorizer(stop_words=[&#x27;i&#x27;, &#x27;me&#x27;, &#x27;my&#x27;, &#x27;myself&#x27;, &#x27;we&#x27;,\n",
       "                                             &#x27;our&#x27;, &#x27;ours&#x27;, &#x27;ourselves&#x27;, &#x27;you&#x27;,\n",
       "                                             &quot;you&#x27;re&quot;, &quot;you&#x27;ve&quot;, &quot;you&#x27;ll&quot;,\n",
       "                                             &quot;you&#x27;d&quot;, &#x27;your&#x27;, &#x27;yours&#x27;,\n",
       "                                             &#x27;yourself&#x27;, &#x27;yourselves&#x27;, &#x27;he&#x27;,\n",
       "                                             &#x27;him&#x27;, &#x27;his&#x27;, &#x27;himself&#x27;, &#x27;she&#x27;,\n",
       "                                             &quot;she&#x27;s&quot;, &#x27;her&#x27;, &#x27;hers&#x27;, &#x27;herself&#x27;,\n",
       "                                             &#x27;it&#x27;, &quot;it&#x27;s&quot;, &#x27;its&#x27;, &#x27;itself&#x27;, ...])),\n",
       "                (&#x27;model&#x27;,\n",
       "                 LGBMClassifier(n_jobs=-1, objective=&#x27;binary&#x27;, random_state=42,\n",
       "                                verbosity=-1))])</pre></div> </div></div><div class=\"sk-serial\"><div class=\"sk-item\"><div class=\"sk-estimator  sk-toggleable\"><input class=\"sk-toggleable__control sk-hidden--visually\" id=\"sk-estimator-id-8\" type=\"checkbox\" ><label for=\"sk-estimator-id-8\" class=\"sk-toggleable__label  sk-toggleable__label-arrow \">&nbsp;TfidfVectorizer<a class=\"sk-estimator-doc-link \" rel=\"noreferrer\" target=\"_blank\" href=\"https://scikit-learn.org/1.5/modules/generated/sklearn.feature_extraction.text.TfidfVectorizer.html\">?<span>Documentation for TfidfVectorizer</span></a></label><div class=\"sk-toggleable__content \"><pre>TfidfVectorizer(stop_words=[&#x27;i&#x27;, &#x27;me&#x27;, &#x27;my&#x27;, &#x27;myself&#x27;, &#x27;we&#x27;, &#x27;our&#x27;, &#x27;ours&#x27;,\n",
       "                            &#x27;ourselves&#x27;, &#x27;you&#x27;, &quot;you&#x27;re&quot;, &quot;you&#x27;ve&quot;, &quot;you&#x27;ll&quot;,\n",
       "                            &quot;you&#x27;d&quot;, &#x27;your&#x27;, &#x27;yours&#x27;, &#x27;yourself&#x27;, &#x27;yourselves&#x27;,\n",
       "                            &#x27;he&#x27;, &#x27;him&#x27;, &#x27;his&#x27;, &#x27;himself&#x27;, &#x27;she&#x27;, &quot;she&#x27;s&quot;,\n",
       "                            &#x27;her&#x27;, &#x27;hers&#x27;, &#x27;herself&#x27;, &#x27;it&#x27;, &quot;it&#x27;s&quot;, &#x27;its&#x27;,\n",
       "                            &#x27;itself&#x27;, ...])</pre></div> </div></div><div class=\"sk-item\"><div class=\"sk-estimator  sk-toggleable\"><input class=\"sk-toggleable__control sk-hidden--visually\" id=\"sk-estimator-id-9\" type=\"checkbox\" ><label for=\"sk-estimator-id-9\" class=\"sk-toggleable__label  sk-toggleable__label-arrow \">LGBMClassifier</label><div class=\"sk-toggleable__content \"><pre>LGBMClassifier(n_jobs=-1, objective=&#x27;binary&#x27;, random_state=42, verbosity=-1)</pre></div> </div></div></div></div></div></div>"
      ],
      "text/plain": [
       "Pipeline(steps=[('vect',\n",
       "                 TfidfVectorizer(stop_words=['i', 'me', 'my', 'myself', 'we',\n",
       "                                             'our', 'ours', 'ourselves', 'you',\n",
       "                                             \"you're\", \"you've\", \"you'll\",\n",
       "                                             \"you'd\", 'your', 'yours',\n",
       "                                             'yourself', 'yourselves', 'he',\n",
       "                                             'him', 'his', 'himself', 'she',\n",
       "                                             \"she's\", 'her', 'hers', 'herself',\n",
       "                                             'it', \"it's\", 'its', 'itself', ...])),\n",
       "                ('model',\n",
       "                 LGBMClassifier(n_jobs=-1, objective='binary', random_state=42,\n",
       "                                verbosity=-1))])"
      ]
     },
     "execution_count": 84,
     "metadata": {},
     "output_type": "execute_result"
    }
   ],
   "source": [
    "# Обновляем модель в существующем пайплайне на LGBMClassifier\n",
    "pipeline.set_params(model=LGBMClassifier(\n",
    "    random_state=RANDOM_STATE, n_jobs=-1, objective='binary', verbosity=-1))"
   ]
  },
  {
   "cell_type": "code",
   "execution_count": 85,
   "metadata": {
    "id": "eF4wxXIhODge"
   },
   "outputs": [],
   "source": [
    "# Создаём словарь со значениями гиперпараметров для перебора\n",
    "parameters_lgbm = {\n",
    "    'model__num_leaves': [50, 100, 130],\n",
    "    'model__n_estimators': [1000, 1500, 2000],\n",
    "    'model__max_depth': range(2, 10),\n",
    "    'model__min_child_samples': [30, 50]\n",
    "}"
   ]
  },
  {
   "cell_type": "code",
   "execution_count": 86,
   "metadata": {
    "id": "6UJxuCgPOFhA"
   },
   "outputs": [],
   "source": [
    "# Инициализируем класс для случайного поиска\n",
    "randomized_search_lgbm = RandomizedSearchCV(\n",
    "    pipeline,\n",
    "    parameters_lgbm,\n",
    "    cv=5,\n",
    "    scoring='f1',\n",
    "    n_jobs=-1,\n",
    "    random_state=RANDOM_STATE\n",
    ")"
   ]
  },
  {
   "cell_type": "code",
   "execution_count": 87,
   "metadata": {
    "colab": {
     "base_uri": "https://localhost:8080/",
     "height": 176
    },
    "id": "YYd5Ydn1Oagb",
    "outputId": "3fb0c2bc-00bd-4804-f998-5d36d86d8dda",
    "scrolled": true
   },
   "outputs": [
    {
     "data": {
      "text/html": [
       "<style>#sk-container-id-4 {\n",
       "  /* Definition of color scheme common for light and dark mode */\n",
       "  --sklearn-color-text: black;\n",
       "  --sklearn-color-line: gray;\n",
       "  /* Definition of color scheme for unfitted estimators */\n",
       "  --sklearn-color-unfitted-level-0: #fff5e6;\n",
       "  --sklearn-color-unfitted-level-1: #f6e4d2;\n",
       "  --sklearn-color-unfitted-level-2: #ffe0b3;\n",
       "  --sklearn-color-unfitted-level-3: chocolate;\n",
       "  /* Definition of color scheme for fitted estimators */\n",
       "  --sklearn-color-fitted-level-0: #f0f8ff;\n",
       "  --sklearn-color-fitted-level-1: #d4ebff;\n",
       "  --sklearn-color-fitted-level-2: #b3dbfd;\n",
       "  --sklearn-color-fitted-level-3: cornflowerblue;\n",
       "\n",
       "  /* Specific color for light theme */\n",
       "  --sklearn-color-text-on-default-background: var(--sg-text-color, var(--theme-code-foreground, var(--jp-content-font-color1, black)));\n",
       "  --sklearn-color-background: var(--sg-background-color, var(--theme-background, var(--jp-layout-color0, white)));\n",
       "  --sklearn-color-border-box: var(--sg-text-color, var(--theme-code-foreground, var(--jp-content-font-color1, black)));\n",
       "  --sklearn-color-icon: #696969;\n",
       "\n",
       "  @media (prefers-color-scheme: dark) {\n",
       "    /* Redefinition of color scheme for dark theme */\n",
       "    --sklearn-color-text-on-default-background: var(--sg-text-color, var(--theme-code-foreground, var(--jp-content-font-color1, white)));\n",
       "    --sklearn-color-background: var(--sg-background-color, var(--theme-background, var(--jp-layout-color0, #111)));\n",
       "    --sklearn-color-border-box: var(--sg-text-color, var(--theme-code-foreground, var(--jp-content-font-color1, white)));\n",
       "    --sklearn-color-icon: #878787;\n",
       "  }\n",
       "}\n",
       "\n",
       "#sk-container-id-4 {\n",
       "  color: var(--sklearn-color-text);\n",
       "}\n",
       "\n",
       "#sk-container-id-4 pre {\n",
       "  padding: 0;\n",
       "}\n",
       "\n",
       "#sk-container-id-4 input.sk-hidden--visually {\n",
       "  border: 0;\n",
       "  clip: rect(1px 1px 1px 1px);\n",
       "  clip: rect(1px, 1px, 1px, 1px);\n",
       "  height: 1px;\n",
       "  margin: -1px;\n",
       "  overflow: hidden;\n",
       "  padding: 0;\n",
       "  position: absolute;\n",
       "  width: 1px;\n",
       "}\n",
       "\n",
       "#sk-container-id-4 div.sk-dashed-wrapped {\n",
       "  border: 1px dashed var(--sklearn-color-line);\n",
       "  margin: 0 0.4em 0.5em 0.4em;\n",
       "  box-sizing: border-box;\n",
       "  padding-bottom: 0.4em;\n",
       "  background-color: var(--sklearn-color-background);\n",
       "}\n",
       "\n",
       "#sk-container-id-4 div.sk-container {\n",
       "  /* jupyter's `normalize.less` sets `[hidden] { display: none; }`\n",
       "     but bootstrap.min.css set `[hidden] { display: none !important; }`\n",
       "     so we also need the `!important` here to be able to override the\n",
       "     default hidden behavior on the sphinx rendered scikit-learn.org.\n",
       "     See: https://github.com/scikit-learn/scikit-learn/issues/21755 */\n",
       "  display: inline-block !important;\n",
       "  position: relative;\n",
       "}\n",
       "\n",
       "#sk-container-id-4 div.sk-text-repr-fallback {\n",
       "  display: none;\n",
       "}\n",
       "\n",
       "div.sk-parallel-item,\n",
       "div.sk-serial,\n",
       "div.sk-item {\n",
       "  /* draw centered vertical line to link estimators */\n",
       "  background-image: linear-gradient(var(--sklearn-color-text-on-default-background), var(--sklearn-color-text-on-default-background));\n",
       "  background-size: 2px 100%;\n",
       "  background-repeat: no-repeat;\n",
       "  background-position: center center;\n",
       "}\n",
       "\n",
       "/* Parallel-specific style estimator block */\n",
       "\n",
       "#sk-container-id-4 div.sk-parallel-item::after {\n",
       "  content: \"\";\n",
       "  width: 100%;\n",
       "  border-bottom: 2px solid var(--sklearn-color-text-on-default-background);\n",
       "  flex-grow: 1;\n",
       "}\n",
       "\n",
       "#sk-container-id-4 div.sk-parallel {\n",
       "  display: flex;\n",
       "  align-items: stretch;\n",
       "  justify-content: center;\n",
       "  background-color: var(--sklearn-color-background);\n",
       "  position: relative;\n",
       "}\n",
       "\n",
       "#sk-container-id-4 div.sk-parallel-item {\n",
       "  display: flex;\n",
       "  flex-direction: column;\n",
       "}\n",
       "\n",
       "#sk-container-id-4 div.sk-parallel-item:first-child::after {\n",
       "  align-self: flex-end;\n",
       "  width: 50%;\n",
       "}\n",
       "\n",
       "#sk-container-id-4 div.sk-parallel-item:last-child::after {\n",
       "  align-self: flex-start;\n",
       "  width: 50%;\n",
       "}\n",
       "\n",
       "#sk-container-id-4 div.sk-parallel-item:only-child::after {\n",
       "  width: 0;\n",
       "}\n",
       "\n",
       "/* Serial-specific style estimator block */\n",
       "\n",
       "#sk-container-id-4 div.sk-serial {\n",
       "  display: flex;\n",
       "  flex-direction: column;\n",
       "  align-items: center;\n",
       "  background-color: var(--sklearn-color-background);\n",
       "  padding-right: 1em;\n",
       "  padding-left: 1em;\n",
       "}\n",
       "\n",
       "\n",
       "/* Toggleable style: style used for estimator/Pipeline/ColumnTransformer box that is\n",
       "clickable and can be expanded/collapsed.\n",
       "- Pipeline and ColumnTransformer use this feature and define the default style\n",
       "- Estimators will overwrite some part of the style using the `sk-estimator` class\n",
       "*/\n",
       "\n",
       "/* Pipeline and ColumnTransformer style (default) */\n",
       "\n",
       "#sk-container-id-4 div.sk-toggleable {\n",
       "  /* Default theme specific background. It is overwritten whether we have a\n",
       "  specific estimator or a Pipeline/ColumnTransformer */\n",
       "  background-color: var(--sklearn-color-background);\n",
       "}\n",
       "\n",
       "/* Toggleable label */\n",
       "#sk-container-id-4 label.sk-toggleable__label {\n",
       "  cursor: pointer;\n",
       "  display: block;\n",
       "  width: 100%;\n",
       "  margin-bottom: 0;\n",
       "  padding: 0.5em;\n",
       "  box-sizing: border-box;\n",
       "  text-align: center;\n",
       "}\n",
       "\n",
       "#sk-container-id-4 label.sk-toggleable__label-arrow:before {\n",
       "  /* Arrow on the left of the label */\n",
       "  content: \"▸\";\n",
       "  float: left;\n",
       "  margin-right: 0.25em;\n",
       "  color: var(--sklearn-color-icon);\n",
       "}\n",
       "\n",
       "#sk-container-id-4 label.sk-toggleable__label-arrow:hover:before {\n",
       "  color: var(--sklearn-color-text);\n",
       "}\n",
       "\n",
       "/* Toggleable content - dropdown */\n",
       "\n",
       "#sk-container-id-4 div.sk-toggleable__content {\n",
       "  max-height: 0;\n",
       "  max-width: 0;\n",
       "  overflow: hidden;\n",
       "  text-align: left;\n",
       "  /* unfitted */\n",
       "  background-color: var(--sklearn-color-unfitted-level-0);\n",
       "}\n",
       "\n",
       "#sk-container-id-4 div.sk-toggleable__content.fitted {\n",
       "  /* fitted */\n",
       "  background-color: var(--sklearn-color-fitted-level-0);\n",
       "}\n",
       "\n",
       "#sk-container-id-4 div.sk-toggleable__content pre {\n",
       "  margin: 0.2em;\n",
       "  border-radius: 0.25em;\n",
       "  color: var(--sklearn-color-text);\n",
       "  /* unfitted */\n",
       "  background-color: var(--sklearn-color-unfitted-level-0);\n",
       "}\n",
       "\n",
       "#sk-container-id-4 div.sk-toggleable__content.fitted pre {\n",
       "  /* unfitted */\n",
       "  background-color: var(--sklearn-color-fitted-level-0);\n",
       "}\n",
       "\n",
       "#sk-container-id-4 input.sk-toggleable__control:checked~div.sk-toggleable__content {\n",
       "  /* Expand drop-down */\n",
       "  max-height: 200px;\n",
       "  max-width: 100%;\n",
       "  overflow: auto;\n",
       "}\n",
       "\n",
       "#sk-container-id-4 input.sk-toggleable__control:checked~label.sk-toggleable__label-arrow:before {\n",
       "  content: \"▾\";\n",
       "}\n",
       "\n",
       "/* Pipeline/ColumnTransformer-specific style */\n",
       "\n",
       "#sk-container-id-4 div.sk-label input.sk-toggleable__control:checked~label.sk-toggleable__label {\n",
       "  color: var(--sklearn-color-text);\n",
       "  background-color: var(--sklearn-color-unfitted-level-2);\n",
       "}\n",
       "\n",
       "#sk-container-id-4 div.sk-label.fitted input.sk-toggleable__control:checked~label.sk-toggleable__label {\n",
       "  background-color: var(--sklearn-color-fitted-level-2);\n",
       "}\n",
       "\n",
       "/* Estimator-specific style */\n",
       "\n",
       "/* Colorize estimator box */\n",
       "#sk-container-id-4 div.sk-estimator input.sk-toggleable__control:checked~label.sk-toggleable__label {\n",
       "  /* unfitted */\n",
       "  background-color: var(--sklearn-color-unfitted-level-2);\n",
       "}\n",
       "\n",
       "#sk-container-id-4 div.sk-estimator.fitted input.sk-toggleable__control:checked~label.sk-toggleable__label {\n",
       "  /* fitted */\n",
       "  background-color: var(--sklearn-color-fitted-level-2);\n",
       "}\n",
       "\n",
       "#sk-container-id-4 div.sk-label label.sk-toggleable__label,\n",
       "#sk-container-id-4 div.sk-label label {\n",
       "  /* The background is the default theme color */\n",
       "  color: var(--sklearn-color-text-on-default-background);\n",
       "}\n",
       "\n",
       "/* On hover, darken the color of the background */\n",
       "#sk-container-id-4 div.sk-label:hover label.sk-toggleable__label {\n",
       "  color: var(--sklearn-color-text);\n",
       "  background-color: var(--sklearn-color-unfitted-level-2);\n",
       "}\n",
       "\n",
       "/* Label box, darken color on hover, fitted */\n",
       "#sk-container-id-4 div.sk-label.fitted:hover label.sk-toggleable__label.fitted {\n",
       "  color: var(--sklearn-color-text);\n",
       "  background-color: var(--sklearn-color-fitted-level-2);\n",
       "}\n",
       "\n",
       "/* Estimator label */\n",
       "\n",
       "#sk-container-id-4 div.sk-label label {\n",
       "  font-family: monospace;\n",
       "  font-weight: bold;\n",
       "  display: inline-block;\n",
       "  line-height: 1.2em;\n",
       "}\n",
       "\n",
       "#sk-container-id-4 div.sk-label-container {\n",
       "  text-align: center;\n",
       "}\n",
       "\n",
       "/* Estimator-specific */\n",
       "#sk-container-id-4 div.sk-estimator {\n",
       "  font-family: monospace;\n",
       "  border: 1px dotted var(--sklearn-color-border-box);\n",
       "  border-radius: 0.25em;\n",
       "  box-sizing: border-box;\n",
       "  margin-bottom: 0.5em;\n",
       "  /* unfitted */\n",
       "  background-color: var(--sklearn-color-unfitted-level-0);\n",
       "}\n",
       "\n",
       "#sk-container-id-4 div.sk-estimator.fitted {\n",
       "  /* fitted */\n",
       "  background-color: var(--sklearn-color-fitted-level-0);\n",
       "}\n",
       "\n",
       "/* on hover */\n",
       "#sk-container-id-4 div.sk-estimator:hover {\n",
       "  /* unfitted */\n",
       "  background-color: var(--sklearn-color-unfitted-level-2);\n",
       "}\n",
       "\n",
       "#sk-container-id-4 div.sk-estimator.fitted:hover {\n",
       "  /* fitted */\n",
       "  background-color: var(--sklearn-color-fitted-level-2);\n",
       "}\n",
       "\n",
       "/* Specification for estimator info (e.g. \"i\" and \"?\") */\n",
       "\n",
       "/* Common style for \"i\" and \"?\" */\n",
       "\n",
       ".sk-estimator-doc-link,\n",
       "a:link.sk-estimator-doc-link,\n",
       "a:visited.sk-estimator-doc-link {\n",
       "  float: right;\n",
       "  font-size: smaller;\n",
       "  line-height: 1em;\n",
       "  font-family: monospace;\n",
       "  background-color: var(--sklearn-color-background);\n",
       "  border-radius: 1em;\n",
       "  height: 1em;\n",
       "  width: 1em;\n",
       "  text-decoration: none !important;\n",
       "  margin-left: 1ex;\n",
       "  /* unfitted */\n",
       "  border: var(--sklearn-color-unfitted-level-1) 1pt solid;\n",
       "  color: var(--sklearn-color-unfitted-level-1);\n",
       "}\n",
       "\n",
       ".sk-estimator-doc-link.fitted,\n",
       "a:link.sk-estimator-doc-link.fitted,\n",
       "a:visited.sk-estimator-doc-link.fitted {\n",
       "  /* fitted */\n",
       "  border: var(--sklearn-color-fitted-level-1) 1pt solid;\n",
       "  color: var(--sklearn-color-fitted-level-1);\n",
       "}\n",
       "\n",
       "/* On hover */\n",
       "div.sk-estimator:hover .sk-estimator-doc-link:hover,\n",
       ".sk-estimator-doc-link:hover,\n",
       "div.sk-label-container:hover .sk-estimator-doc-link:hover,\n",
       ".sk-estimator-doc-link:hover {\n",
       "  /* unfitted */\n",
       "  background-color: var(--sklearn-color-unfitted-level-3);\n",
       "  color: var(--sklearn-color-background);\n",
       "  text-decoration: none;\n",
       "}\n",
       "\n",
       "div.sk-estimator.fitted:hover .sk-estimator-doc-link.fitted:hover,\n",
       ".sk-estimator-doc-link.fitted:hover,\n",
       "div.sk-label-container:hover .sk-estimator-doc-link.fitted:hover,\n",
       ".sk-estimator-doc-link.fitted:hover {\n",
       "  /* fitted */\n",
       "  background-color: var(--sklearn-color-fitted-level-3);\n",
       "  color: var(--sklearn-color-background);\n",
       "  text-decoration: none;\n",
       "}\n",
       "\n",
       "/* Span, style for the box shown on hovering the info icon */\n",
       ".sk-estimator-doc-link span {\n",
       "  display: none;\n",
       "  z-index: 9999;\n",
       "  position: relative;\n",
       "  font-weight: normal;\n",
       "  right: .2ex;\n",
       "  padding: .5ex;\n",
       "  margin: .5ex;\n",
       "  width: min-content;\n",
       "  min-width: 20ex;\n",
       "  max-width: 50ex;\n",
       "  color: var(--sklearn-color-text);\n",
       "  box-shadow: 2pt 2pt 4pt #999;\n",
       "  /* unfitted */\n",
       "  background: var(--sklearn-color-unfitted-level-0);\n",
       "  border: .5pt solid var(--sklearn-color-unfitted-level-3);\n",
       "}\n",
       "\n",
       ".sk-estimator-doc-link.fitted span {\n",
       "  /* fitted */\n",
       "  background: var(--sklearn-color-fitted-level-0);\n",
       "  border: var(--sklearn-color-fitted-level-3);\n",
       "}\n",
       "\n",
       ".sk-estimator-doc-link:hover span {\n",
       "  display: block;\n",
       "}\n",
       "\n",
       "/* \"?\"-specific style due to the `<a>` HTML tag */\n",
       "\n",
       "#sk-container-id-4 a.estimator_doc_link {\n",
       "  float: right;\n",
       "  font-size: 1rem;\n",
       "  line-height: 1em;\n",
       "  font-family: monospace;\n",
       "  background-color: var(--sklearn-color-background);\n",
       "  border-radius: 1rem;\n",
       "  height: 1rem;\n",
       "  width: 1rem;\n",
       "  text-decoration: none;\n",
       "  /* unfitted */\n",
       "  color: var(--sklearn-color-unfitted-level-1);\n",
       "  border: var(--sklearn-color-unfitted-level-1) 1pt solid;\n",
       "}\n",
       "\n",
       "#sk-container-id-4 a.estimator_doc_link.fitted {\n",
       "  /* fitted */\n",
       "  border: var(--sklearn-color-fitted-level-1) 1pt solid;\n",
       "  color: var(--sklearn-color-fitted-level-1);\n",
       "}\n",
       "\n",
       "/* On hover */\n",
       "#sk-container-id-4 a.estimator_doc_link:hover {\n",
       "  /* unfitted */\n",
       "  background-color: var(--sklearn-color-unfitted-level-3);\n",
       "  color: var(--sklearn-color-background);\n",
       "  text-decoration: none;\n",
       "}\n",
       "\n",
       "#sk-container-id-4 a.estimator_doc_link.fitted:hover {\n",
       "  /* fitted */\n",
       "  background-color: var(--sklearn-color-fitted-level-3);\n",
       "}\n",
       "</style><div id=\"sk-container-id-4\" class=\"sk-top-container\"><div class=\"sk-text-repr-fallback\"><pre>RandomizedSearchCV(cv=5,\n",
       "                   estimator=Pipeline(steps=[(&#x27;vect&#x27;,\n",
       "                                              TfidfVectorizer(stop_words=[&#x27;i&#x27;,\n",
       "                                                                          &#x27;me&#x27;,\n",
       "                                                                          &#x27;my&#x27;,\n",
       "                                                                          &#x27;myself&#x27;,\n",
       "                                                                          &#x27;we&#x27;,\n",
       "                                                                          &#x27;our&#x27;,\n",
       "                                                                          &#x27;ours&#x27;,\n",
       "                                                                          &#x27;ourselves&#x27;,\n",
       "                                                                          &#x27;you&#x27;,\n",
       "                                                                          &quot;you&#x27;re&quot;,\n",
       "                                                                          &quot;you&#x27;ve&quot;,\n",
       "                                                                          &quot;you&#x27;ll&quot;,\n",
       "                                                                          &quot;you&#x27;d&quot;,\n",
       "                                                                          &#x27;your&#x27;,\n",
       "                                                                          &#x27;yours&#x27;,\n",
       "                                                                          &#x27;yourself&#x27;,\n",
       "                                                                          &#x27;yourselves&#x27;,\n",
       "                                                                          &#x27;he&#x27;,\n",
       "                                                                          &#x27;him&#x27;,\n",
       "                                                                          &#x27;his&#x27;,\n",
       "                                                                          &#x27;himself&#x27;,\n",
       "                                                                          &#x27;she&#x27;,\n",
       "                                                                          &quot;she&#x27;s&quot;,\n",
       "                                                                          &#x27;her&#x27;,\n",
       "                                                                          &#x27;hers&#x27;,\n",
       "                                                                          &#x27;herself&#x27;,\n",
       "                                                                          &#x27;it&#x27;,\n",
       "                                                                          &quot;it&#x27;s&quot;,\n",
       "                                                                          &#x27;its&#x27;,\n",
       "                                                                          &#x27;itself&#x27;, ...])),\n",
       "                                             (&#x27;model&#x27;,\n",
       "                                              LGBMClassifier(n_jobs=-1,\n",
       "                                                             objective=&#x27;binary&#x27;,\n",
       "                                                             random_state=42,\n",
       "                                                             verbosity=-1))]),\n",
       "                   n_jobs=-1,\n",
       "                   param_distributions={&#x27;model__max_depth&#x27;: range(2, 10),\n",
       "                                        &#x27;model__min_child_samples&#x27;: [30, 50],\n",
       "                                        &#x27;model__n_estimators&#x27;: [1000, 1500,\n",
       "                                                                2000],\n",
       "                                        &#x27;model__num_leaves&#x27;: [50, 100, 130]},\n",
       "                   random_state=42, scoring=&#x27;f1&#x27;)</pre><b>In a Jupyter environment, please rerun this cell to show the HTML representation or trust the notebook. <br />On GitHub, the HTML representation is unable to render, please try loading this page with nbviewer.org.</b></div><div class=\"sk-container\" hidden><div class=\"sk-item sk-dashed-wrapped\"><div class=\"sk-label-container\"><div class=\"sk-label fitted sk-toggleable\"><input class=\"sk-toggleable__control sk-hidden--visually\" id=\"sk-estimator-id-10\" type=\"checkbox\" ><label for=\"sk-estimator-id-10\" class=\"sk-toggleable__label fitted sk-toggleable__label-arrow fitted\">&nbsp;&nbsp;RandomizedSearchCV<a class=\"sk-estimator-doc-link fitted\" rel=\"noreferrer\" target=\"_blank\" href=\"https://scikit-learn.org/1.5/modules/generated/sklearn.model_selection.RandomizedSearchCV.html\">?<span>Documentation for RandomizedSearchCV</span></a><span class=\"sk-estimator-doc-link fitted\">i<span>Fitted</span></span></label><div class=\"sk-toggleable__content fitted\"><pre>RandomizedSearchCV(cv=5,\n",
       "                   estimator=Pipeline(steps=[(&#x27;vect&#x27;,\n",
       "                                              TfidfVectorizer(stop_words=[&#x27;i&#x27;,\n",
       "                                                                          &#x27;me&#x27;,\n",
       "                                                                          &#x27;my&#x27;,\n",
       "                                                                          &#x27;myself&#x27;,\n",
       "                                                                          &#x27;we&#x27;,\n",
       "                                                                          &#x27;our&#x27;,\n",
       "                                                                          &#x27;ours&#x27;,\n",
       "                                                                          &#x27;ourselves&#x27;,\n",
       "                                                                          &#x27;you&#x27;,\n",
       "                                                                          &quot;you&#x27;re&quot;,\n",
       "                                                                          &quot;you&#x27;ve&quot;,\n",
       "                                                                          &quot;you&#x27;ll&quot;,\n",
       "                                                                          &quot;you&#x27;d&quot;,\n",
       "                                                                          &#x27;your&#x27;,\n",
       "                                                                          &#x27;yours&#x27;,\n",
       "                                                                          &#x27;yourself&#x27;,\n",
       "                                                                          &#x27;yourselves&#x27;,\n",
       "                                                                          &#x27;he&#x27;,\n",
       "                                                                          &#x27;him&#x27;,\n",
       "                                                                          &#x27;his&#x27;,\n",
       "                                                                          &#x27;himself&#x27;,\n",
       "                                                                          &#x27;she&#x27;,\n",
       "                                                                          &quot;she&#x27;s&quot;,\n",
       "                                                                          &#x27;her&#x27;,\n",
       "                                                                          &#x27;hers&#x27;,\n",
       "                                                                          &#x27;herself&#x27;,\n",
       "                                                                          &#x27;it&#x27;,\n",
       "                                                                          &quot;it&#x27;s&quot;,\n",
       "                                                                          &#x27;its&#x27;,\n",
       "                                                                          &#x27;itself&#x27;, ...])),\n",
       "                                             (&#x27;model&#x27;,\n",
       "                                              LGBMClassifier(n_jobs=-1,\n",
       "                                                             objective=&#x27;binary&#x27;,\n",
       "                                                             random_state=42,\n",
       "                                                             verbosity=-1))]),\n",
       "                   n_jobs=-1,\n",
       "                   param_distributions={&#x27;model__max_depth&#x27;: range(2, 10),\n",
       "                                        &#x27;model__min_child_samples&#x27;: [30, 50],\n",
       "                                        &#x27;model__n_estimators&#x27;: [1000, 1500,\n",
       "                                                                2000],\n",
       "                                        &#x27;model__num_leaves&#x27;: [50, 100, 130]},\n",
       "                   random_state=42, scoring=&#x27;f1&#x27;)</pre></div> </div></div><div class=\"sk-parallel\"><div class=\"sk-parallel-item\"><div class=\"sk-item\"><div class=\"sk-label-container\"><div class=\"sk-label fitted sk-toggleable\"><input class=\"sk-toggleable__control sk-hidden--visually\" id=\"sk-estimator-id-11\" type=\"checkbox\" ><label for=\"sk-estimator-id-11\" class=\"sk-toggleable__label fitted sk-toggleable__label-arrow fitted\">best_estimator_: Pipeline</label><div class=\"sk-toggleable__content fitted\"><pre>Pipeline(steps=[(&#x27;vect&#x27;,\n",
       "                 TfidfVectorizer(stop_words=[&#x27;i&#x27;, &#x27;me&#x27;, &#x27;my&#x27;, &#x27;myself&#x27;, &#x27;we&#x27;,\n",
       "                                             &#x27;our&#x27;, &#x27;ours&#x27;, &#x27;ourselves&#x27;, &#x27;you&#x27;,\n",
       "                                             &quot;you&#x27;re&quot;, &quot;you&#x27;ve&quot;, &quot;you&#x27;ll&quot;,\n",
       "                                             &quot;you&#x27;d&quot;, &#x27;your&#x27;, &#x27;yours&#x27;,\n",
       "                                             &#x27;yourself&#x27;, &#x27;yourselves&#x27;, &#x27;he&#x27;,\n",
       "                                             &#x27;him&#x27;, &#x27;his&#x27;, &#x27;himself&#x27;, &#x27;she&#x27;,\n",
       "                                             &quot;she&#x27;s&quot;, &#x27;her&#x27;, &#x27;hers&#x27;, &#x27;herself&#x27;,\n",
       "                                             &#x27;it&#x27;, &quot;it&#x27;s&quot;, &#x27;its&#x27;, &#x27;itself&#x27;, ...])),\n",
       "                (&#x27;model&#x27;,\n",
       "                 LGBMClassifier(max_depth=7, min_child_samples=30,\n",
       "                                n_estimators=2000, n_jobs=-1, num_leaves=100,\n",
       "                                objective=&#x27;binary&#x27;, random_state=42,\n",
       "                                verbosity=-1))])</pre></div> </div></div><div class=\"sk-serial\"><div class=\"sk-item\"><div class=\"sk-serial\"><div class=\"sk-item\"><div class=\"sk-estimator fitted sk-toggleable\"><input class=\"sk-toggleable__control sk-hidden--visually\" id=\"sk-estimator-id-12\" type=\"checkbox\" ><label for=\"sk-estimator-id-12\" class=\"sk-toggleable__label fitted sk-toggleable__label-arrow fitted\">&nbsp;TfidfVectorizer<a class=\"sk-estimator-doc-link fitted\" rel=\"noreferrer\" target=\"_blank\" href=\"https://scikit-learn.org/1.5/modules/generated/sklearn.feature_extraction.text.TfidfVectorizer.html\">?<span>Documentation for TfidfVectorizer</span></a></label><div class=\"sk-toggleable__content fitted\"><pre>TfidfVectorizer(stop_words=[&#x27;i&#x27;, &#x27;me&#x27;, &#x27;my&#x27;, &#x27;myself&#x27;, &#x27;we&#x27;, &#x27;our&#x27;, &#x27;ours&#x27;,\n",
       "                            &#x27;ourselves&#x27;, &#x27;you&#x27;, &quot;you&#x27;re&quot;, &quot;you&#x27;ve&quot;, &quot;you&#x27;ll&quot;,\n",
       "                            &quot;you&#x27;d&quot;, &#x27;your&#x27;, &#x27;yours&#x27;, &#x27;yourself&#x27;, &#x27;yourselves&#x27;,\n",
       "                            &#x27;he&#x27;, &#x27;him&#x27;, &#x27;his&#x27;, &#x27;himself&#x27;, &#x27;she&#x27;, &quot;she&#x27;s&quot;,\n",
       "                            &#x27;her&#x27;, &#x27;hers&#x27;, &#x27;herself&#x27;, &#x27;it&#x27;, &quot;it&#x27;s&quot;, &#x27;its&#x27;,\n",
       "                            &#x27;itself&#x27;, ...])</pre></div> </div></div><div class=\"sk-item\"><div class=\"sk-estimator fitted sk-toggleable\"><input class=\"sk-toggleable__control sk-hidden--visually\" id=\"sk-estimator-id-13\" type=\"checkbox\" ><label for=\"sk-estimator-id-13\" class=\"sk-toggleable__label fitted sk-toggleable__label-arrow fitted\">LGBMClassifier</label><div class=\"sk-toggleable__content fitted\"><pre>LGBMClassifier(max_depth=7, min_child_samples=30, n_estimators=2000, n_jobs=-1,\n",
       "               num_leaves=100, objective=&#x27;binary&#x27;, random_state=42,\n",
       "               verbosity=-1)</pre></div> </div></div></div></div></div></div></div></div></div></div></div>"
      ],
      "text/plain": [
       "RandomizedSearchCV(cv=5,\n",
       "                   estimator=Pipeline(steps=[('vect',\n",
       "                                              TfidfVectorizer(stop_words=['i',\n",
       "                                                                          'me',\n",
       "                                                                          'my',\n",
       "                                                                          'myself',\n",
       "                                                                          'we',\n",
       "                                                                          'our',\n",
       "                                                                          'ours',\n",
       "                                                                          'ourselves',\n",
       "                                                                          'you',\n",
       "                                                                          \"you're\",\n",
       "                                                                          \"you've\",\n",
       "                                                                          \"you'll\",\n",
       "                                                                          \"you'd\",\n",
       "                                                                          'your',\n",
       "                                                                          'yours',\n",
       "                                                                          'yourself',\n",
       "                                                                          'yourselves',\n",
       "                                                                          'he',\n",
       "                                                                          'him',\n",
       "                                                                          'his',\n",
       "                                                                          'himself',\n",
       "                                                                          'she',\n",
       "                                                                          \"she's\",\n",
       "                                                                          'her',\n",
       "                                                                          'hers',\n",
       "                                                                          'herself',\n",
       "                                                                          'it',\n",
       "                                                                          \"it's\",\n",
       "                                                                          'its',\n",
       "                                                                          'itself', ...])),\n",
       "                                             ('model',\n",
       "                                              LGBMClassifier(n_jobs=-1,\n",
       "                                                             objective='binary',\n",
       "                                                             random_state=42,\n",
       "                                                             verbosity=-1))]),\n",
       "                   n_jobs=-1,\n",
       "                   param_distributions={'model__max_depth': range(2, 10),\n",
       "                                        'model__min_child_samples': [30, 50],\n",
       "                                        'model__n_estimators': [1000, 1500,\n",
       "                                                                2000],\n",
       "                                        'model__num_leaves': [50, 100, 130]},\n",
       "                   random_state=42, scoring='f1')"
      ]
     },
     "execution_count": 87,
     "metadata": {},
     "output_type": "execute_result"
    }
   ],
   "source": [
    "randomized_search_lgbm.fit(corpus, y_train)"
   ]
  },
  {
   "cell_type": "code",
   "execution_count": 100,
   "metadata": {
    "colab": {
     "base_uri": "https://localhost:8080/"
    },
    "id": "Mgzo3wx1Oit3",
    "outputId": "615983c5-c72f-4924-ea07-504a61f42a2c",
    "scrolled": true
   },
   "outputs": [
    {
     "name": "stdout",
     "output_type": "stream",
     "text": [
      "Лучшая модель и её параметры:\n",
      "\n",
      " Pipeline(steps=[('vect',\n",
      "                 TfidfVectorizer(stop_words=['i', 'me', 'my', 'myself', 'we',\n",
      "                                             'our', 'ours', 'ourselves', 'you',\n",
      "                                             \"you're\", \"you've\", \"you'll\",\n",
      "                                             \"you'd\", 'your', 'yours',\n",
      "                                             'yourself', 'yourselves', 'he',\n",
      "                                             'him', 'his', 'himself', 'she',\n",
      "                                             \"she's\", 'her', 'hers', 'herself',\n",
      "                                             'it', \"it's\", 'its', 'itself', ...])),\n",
      "                ('model',\n",
      "                 LGBMClassifier(max_depth=7, min_child_samples=30,\n",
      "                                n_estimators=2000, n_jobs=-1, num_leaves=100,\n",
      "                                objective='binary', random_state=42,\n",
      "                                verbosity=-1))])\n",
      "Метрика F1 на кросс-валидации: 0.77\n",
      "Отклонение метрики на кросс-валидации: 0.00\n"
     ]
    }
   ],
   "source": [
    "print('Лучшая модель и её параметры:\\n\\n',\n",
    "      randomized_search_lgbm.best_estimator_)\n",
    "\n",
    "print(f'Метрика F1 на кросс-валидации: \\\n",
    "{randomized_search_lgbm.best_score_:.2f}')\n",
    "\n",
    "print(f'Отклонение метрики на кросс-валидации: \\\n",
    "{pd.DataFrame(randomized_search_lgbm.cv_results_)[\"std_test_score\"].mean():.2f}')"
   ]
  },
  {
   "cell_type": "markdown",
   "metadata": {},
   "source": [
    "Получили метрику F1 - 0.77, что больше 0.75, а значит данная модель удовлетворяет условию задачи. Теперь можем делать предсказания на тесте."
   ]
  },
  {
   "cell_type": "markdown",
   "metadata": {},
   "source": [
    "### Предсказание на тестовой выборке"
   ]
  },
  {
   "cell_type": "code",
   "execution_count": 89,
   "metadata": {
    "id": "LPtVInV5XMKK"
   },
   "outputs": [],
   "source": [
    "# Считаем TF-IDF на тренировочной выборке\n",
    "count_tf_idf = TfidfVectorizer(stop_words=stopwords)\n",
    "tf_idf = count_tf_idf.fit_transform(corpus)"
   ]
  },
  {
   "cell_type": "code",
   "execution_count": 90,
   "metadata": {
    "id": "XBY3vxx8XZID"
   },
   "outputs": [],
   "source": [
    "# Считаем TF-IDF на тестовой выборке\n",
    "tf_idf_test = count_tf_idf.transform(corpus_test)"
   ]
  },
  {
   "cell_type": "code",
   "execution_count": 98,
   "metadata": {
    "id": "TbHign_IW3W-"
   },
   "outputs": [],
   "source": [
    "pred = randomized_search_lgbm.best_estimator_.named_steps['model'].predict(\n",
    "    tf_idf_test)"
   ]
  },
  {
   "cell_type": "code",
   "execution_count": 99,
   "metadata": {
    "colab": {
     "base_uri": "https://localhost:8080/"
    },
    "id": "VveFSFPVXd0L",
    "outputId": "886e509c-ef1a-4244-c1e1-b10b3e2f4447"
   },
   "outputs": [
    {
     "name": "stdout",
     "output_type": "stream",
     "text": [
      "Метрика F1 на тесте: 0.77\n"
     ]
    }
   ],
   "source": [
    "print(f'Метрика F1 на тесте: {f1_score(y_test, pred):.2f}')"
   ]
  },
  {
   "cell_type": "markdown",
   "metadata": {},
   "source": [
    "На тестовой выборке тоже получаем результат 0.77. "
   ]
  },
  {
   "cell_type": "markdown",
   "metadata": {
    "id": "fzV950BWYXg_"
   },
   "source": [
    "## *Дополнительно BERT*"
   ]
  },
  {
   "cell_type": "markdown",
   "metadata": {
    "id": "gMFOgl2-YXg_"
   },
   "source": [
    "Попробуем улучшить результат и воспользуемся моделью BERT. Файлы, config, vocab и model взяты c этого сайта [huggingface](https://huggingface.co/google-bert/bert-large-cased/tree/main).\n",
    "\n",
    "Так как я ограничен технически то полным датафреймом воспользоваться не получиться (в колаб кончается память, в кагл очень долго считает (~145ч), на моем компьютере тоже самое, что и на кагл). В начале изучения данных увидели, что у нас есть дисбаланс классов, поэтому для BERT воспользуемся андерсамлингом и уменьшим наш мажорный класс. (Использую BERT только для выборки из 500 наблюдений)"
   ]
  },
  {
   "cell_type": "code",
   "execution_count": null,
   "metadata": {
    "id": "oGQRBADoYXg_"
   },
   "outputs": [],
   "source": [
    "# В репозитории BERT просят оставить ссылку на статью\n",
    "@article{turc2019,\n",
    "         title = {Well-Read Students Learn Better: On the Importance of Pre-training Compact Models},\n",
    "         author = {Turc, Iulia and Chang, Ming -\n",
    "                   Wei and Lee, Kenton and Toutanova, Kristina},\n",
    "         journal = {arXiv preprint arXiv: 1908.08962v2},\n",
    "         year = {2019}\n",
    "         }"
   ]
  },
  {
   "cell_type": "code",
   "execution_count": 6,
   "metadata": {
    "ExecuteTime": {
     "end_time": "2024-09-26T07:13:01.433895Z",
     "start_time": "2024-09-26T07:13:01.421871Z"
    }
   },
   "outputs": [],
   "source": [
    "# Отделяем таргет от остальных значений\n",
    "X = df_toxic.drop(columns='toxic', axis=1)\n",
    "y = df_toxic['toxic']"
   ]
  },
  {
   "cell_type": "code",
   "execution_count": 7,
   "metadata": {
    "ExecuteTime": {
     "end_time": "2024-09-26T07:13:02.175769Z",
     "start_time": "2024-09-26T07:13:02.139821Z"
    }
   },
   "outputs": [],
   "source": [
    "# Делаем андерсэмплинг\n",
    "sampler = RandomUnderSampler(random_state=RANDOM_STATE)\n",
    "X_resample, y_resample = sampler.fit_resample(X, y)"
   ]
  },
  {
   "cell_type": "code",
   "execution_count": 8,
   "metadata": {
    "ExecuteTime": {
     "end_time": "2024-09-26T07:13:03.306758Z",
     "start_time": "2024-09-26T07:13:03.302071Z"
    }
   },
   "outputs": [],
   "source": [
    "# Создаем сэмлированый датафрейм\n",
    "df_resample = pd.concat([X_resample, y_resample], axis=1)"
   ]
  },
  {
   "cell_type": "code",
   "execution_count": 9,
   "metadata": {
    "ExecuteTime": {
     "end_time": "2024-09-26T07:13:04.093803Z",
     "start_time": "2024-09-26T07:13:04.086282Z"
    }
   },
   "outputs": [
    {
     "data": {
      "text/plain": [
       "toxic\n",
       "0    16186\n",
       "1    16186\n",
       "Name: count, dtype: int64"
      ]
     },
     "execution_count": 9,
     "metadata": {},
     "output_type": "execute_result"
    }
   ],
   "source": [
    "# Проверяем баланс классов\n",
    "df_resample['toxic'].value_counts()"
   ]
  },
  {
   "cell_type": "code",
   "execution_count": 34,
   "metadata": {
    "ExecuteTime": {
     "end_time": "2024-09-26T07:16:38.929029Z",
     "start_time": "2024-09-26T07:16:38.924728Z"
    },
    "id": "jiqQ7xiHYXhA"
   },
   "outputs": [],
   "source": [
    "# Выбираем случайные 500 значений\n",
    "df_small = df_resample.sample(500)"
   ]
  },
  {
   "cell_type": "code",
   "execution_count": 35,
   "metadata": {
    "ExecuteTime": {
     "end_time": "2024-09-26T07:16:40.174205Z",
     "start_time": "2024-09-26T07:16:39.793047Z"
    },
    "colab": {
     "base_uri": "https://localhost:8080/",
     "height": 145,
     "referenced_widgets": [
      "3bb7176193694ef6a06e07227d6896c0",
      "a1437e03af134f36b5b63885284ff3f1",
      "c7c88424cc444b74ae4e9e27da7db882",
      "39ce911e5b7c4ef6b24f0b4f1e32eda8",
      "f69a869c5d2246ed94c0605ead029d3f",
      "cc985d65fdea44dba64d4a5296b18f3d",
      "2c3e9471e972460a8be4a834b0b227ac",
      "c60a18d4615a4df699a5e1b199b2fdc2",
      "c3cd2f6bf1604b008e70e355f2e4018f",
      "21f7c6ca961d416bb86f802a12c3c2da",
      "1c3930eb5a044a71b10b3d453fc37950",
      "e4a7f48ffc244d669d424f3ad1a6ef25",
      "92c05ba54183458e86c11817987aa6ef",
      "1d6b000fb6f64a86be9bfb21a2e10798",
      "e3788e1f62b143919f6b755eefbc5b85",
      "8f0c034ec85f4905a7b8c71d70f5f7ee",
      "9995db22e56d47468dd44c7a475fe140",
      "ff354fb0364c40c49a59ffde47d24337",
      "c2aed145ecb74cbeae12f731eb7ed13c",
      "be5bb136eeb942b3805f50d49c3a6380",
      "9b0bf39b9aa747a5a462489097b30e12",
      "8de1a0b7b6fe4a989ad5ab52e80f7d2b",
      "906f769daad7491da3264242c47afc31",
      "6ecf3f1a238c4804bb8706c5260e77c6",
      "d187b96b3c244f869ae96dd0cb6757d3",
      "d18dac01c6f74800af74687c177d2704",
      "e2c6b5f4a2c147838e4b299054ca5952",
      "0883745110bd4cc4b0db99978286056c",
      "b2a2aba7e42a4d15bc7015a1a6eeff2b",
      "c6bf3d3924dc409c9883e4b724404bf0",
      "b7cef2a0c4e14484b83790ca25814d91",
      "214e0dcc4dd84b919353b9837bbbdc8c",
      "7ea132213b00451cbba218fdfcd97635",
      "c6041ca1b9bc4d92badfc462cc53e252",
      "3643a62423fe4c75b524ed9b4fa5dee0",
      "638d317044a04dc885cd66fd74f0fe99",
      "9d2349a1ec7548b48f4513c64b4e9112",
      "165454aecc91487eae12c31a8a4080df",
      "f4d8f740bc1547749a6d294ebb988359",
      "a89bc13f5796493fbc425fcd91e3a8f9",
      "931ce5d2accf4d30bd178c74a975d691",
      "9333dd55faf2468ab39068aa1c880202",
      "2d7a8e3e2b314fa08a1ca228c8833baf",
      "acd21acc585b42be82d9dd1e3ee5a24b"
     ]
    },
    "id": "MzcVTcLrYXhA",
    "outputId": "787852ec-d72f-4f42-fee2-ea46b11f819b"
   },
   "outputs": [],
   "source": [
    "# Инициализируем токенизатор\n",
    "tokenizer = transformers.BertTokenizer.from_pretrained('bert-large-cased')"
   ]
  },
  {
   "cell_type": "code",
   "execution_count": 37,
   "metadata": {
    "ExecuteTime": {
     "end_time": "2024-09-26T07:16:57.002445Z",
     "start_time": "2024-09-26T07:16:56.563207Z"
    },
    "colab": {
     "base_uri": "https://localhost:8080/"
    },
    "collapsed": true,
    "id": "GVJ9v4EDYXhA",
    "outputId": "9edc39d7-23cb-465f-c69d-3b93f404c82e"
   },
   "outputs": [
    {
     "name": "stderr",
     "output_type": "stream",
     "text": [
      "Token indices sequence length is longer than the specified maximum sequence length for this model (884 > 512). Running this sequence through the model will result in indexing errors\n",
      "Token indices sequence length is longer than the specified maximum sequence length for this model (723 > 512). Running this sequence through the model will result in indexing errors\n",
      "Token indices sequence length is longer than the specified maximum sequence length for this model (1237 > 512). Running this sequence through the model will result in indexing errors\n",
      "Token indices sequence length is longer than the specified maximum sequence length for this model (893 > 512). Running this sequence through the model will result in indexing errors\n",
      "Token indices sequence length is longer than the specified maximum sequence length for this model (557 > 512). Running this sequence through the model will result in indexing errors\n",
      "Token indices sequence length is longer than the specified maximum sequence length for this model (698 > 512). Running this sequence through the model will result in indexing errors\n",
      "Token indices sequence length is longer than the specified maximum sequence length for this model (1000 > 512). Running this sequence through the model will result in indexing errors\n",
      "Token indices sequence length is longer than the specified maximum sequence length for this model (645 > 512). Running this sequence through the model will result in indexing errors\n",
      "Token indices sequence length is longer than the specified maximum sequence length for this model (1048 > 512). Running this sequence through the model will result in indexing errors\n",
      "Token indices sequence length is longer than the specified maximum sequence length for this model (579 > 512). Running this sequence through the model will result in indexing errors\n",
      "Token indices sequence length is longer than the specified maximum sequence length for this model (690 > 512). Running this sequence through the model will result in indexing errors\n",
      "Token indices sequence length is longer than the specified maximum sequence length for this model (517 > 512). Running this sequence through the model will result in indexing errors\n",
      "Token indices sequence length is longer than the specified maximum sequence length for this model (748 > 512). Running this sequence through the model will result in indexing errors\n",
      "Token indices sequence length is longer than the specified maximum sequence length for this model (2838 > 512). Running this sequence through the model will result in indexing errors\n",
      "Token indices sequence length is longer than the specified maximum sequence length for this model (578 > 512). Running this sequence through the model will result in indexing errors\n"
     ]
    }
   ],
   "source": [
    "# Преобразуем текст в номера токенов из словаря\n",
    "tokenized = df_small['text'].apply(\n",
    "    lambda x: tokenizer.encode(x, add_special_tokens=True))"
   ]
  },
  {
   "cell_type": "code",
   "execution_count": 38,
   "metadata": {
    "ExecuteTime": {
     "end_time": "2024-09-26T07:16:59.871000Z",
     "start_time": "2024-09-26T07:16:59.867682Z"
    },
    "colab": {
     "base_uri": "https://localhost:8080/"
    },
    "id": "dossOp7CYXhA",
    "outputId": "271d579b-d436-4a4a-9082-c92ee655bba6"
   },
   "outputs": [
    {
     "name": "stdout",
     "output_type": "stream",
     "text": [
      "2840\n"
     ]
    }
   ],
   "source": [
    "# Ищем максимальную последовательность\n",
    "max_len = max(len(token) for token in tokenized.values)\n",
    "print(max_len)"
   ]
  },
  {
   "cell_type": "markdown",
   "metadata": {
    "id": "-olotXMrYXhC"
   },
   "source": [
    "Так как данная модель BERT имеет максимальную возможную длину вектора 512, то проверим, сколько значений превышают этот порог"
   ]
  },
  {
   "cell_type": "code",
   "execution_count": 39,
   "metadata": {
    "ExecuteTime": {
     "end_time": "2024-09-26T07:17:00.574786Z",
     "start_time": "2024-09-26T07:17:00.569407Z"
    },
    "id": "GcKk8h6IYXhC"
   },
   "outputs": [
    {
     "name": "stdout",
     "output_type": "stream",
     "text": [
      "Количество значений, превышающих максимальную длину: 15\n"
     ]
    }
   ],
   "source": [
    "# Создаем счетчик и пустой список для индексов\n",
    "cnt = 0\n",
    "idx = []\n",
    "\n",
    "# Считаем количество значений, которые превышают порог\n",
    "for i in tokenized.index:\n",
    "    if len(tokenized[i]) > 512:\n",
    "        cnt += 1\n",
    "        idx.append(i)\n",
    "print(f'Количество значений, превышающих максимальную длину: {cnt}')"
   ]
  },
  {
   "cell_type": "markdown",
   "metadata": {
    "id": "5mRZhRDCYXhC"
   },
   "source": [
    "Таких значений мало, а значит их можно спокойно удалить"
   ]
  },
  {
   "cell_type": "code",
   "execution_count": 40,
   "metadata": {
    "ExecuteTime": {
     "end_time": "2024-09-26T07:17:03.338186Z",
     "start_time": "2024-09-26T07:17:03.334679Z"
    },
    "id": "su2cmIqLYXhD"
   },
   "outputs": [],
   "source": [
    "# Удаляем значения превышающие порог\n",
    "tokenized = tokenized.drop(index=idx)"
   ]
  },
  {
   "cell_type": "code",
   "execution_count": 41,
   "metadata": {
    "ExecuteTime": {
     "end_time": "2024-09-26T07:17:03.715601Z",
     "start_time": "2024-09-26T07:17:03.712094Z"
    },
    "id": "XI2dEY0rYXhD"
   },
   "outputs": [
    {
     "name": "stdout",
     "output_type": "stream",
     "text": [
      "501\n"
     ]
    }
   ],
   "source": [
    "# Ищем максимальную последовательность\n",
    "max_len = max(len(token) for token in tokenized.values)\n",
    "print(max_len)"
   ]
  },
  {
   "cell_type": "code",
   "execution_count": 42,
   "metadata": {
    "ExecuteTime": {
     "end_time": "2024-09-26T07:17:05.381309Z",
     "start_time": "2024-09-26T07:17:05.364822Z"
    },
    "id": "Ri1lgzmfYXhD"
   },
   "outputs": [],
   "source": [
    "# Применим метод padding\n",
    "padded = np.array([i + [0]*(max_len - len(i)) for i in tokenized.values])"
   ]
  },
  {
   "cell_type": "code",
   "execution_count": 43,
   "metadata": {
    "ExecuteTime": {
     "end_time": "2024-09-26T07:17:05.907317Z",
     "start_time": "2024-09-26T07:17:05.903529Z"
    },
    "colab": {
     "base_uri": "https://localhost:8080/"
    },
    "id": "f2PtXQZaYXhD",
    "outputId": "9a24feed-d8e7-4c5d-a49c-6ef1c309880e"
   },
   "outputs": [
    {
     "data": {
      "text/plain": [
       "(485, 501)"
      ]
     },
     "execution_count": 43,
     "metadata": {},
     "output_type": "execute_result"
    }
   ],
   "source": [
    "# Проверим размерность\n",
    "padded.shape"
   ]
  },
  {
   "cell_type": "code",
   "execution_count": 44,
   "metadata": {
    "ExecuteTime": {
     "end_time": "2024-09-26T07:17:15.250489Z",
     "start_time": "2024-09-26T07:17:15.246925Z"
    },
    "id": "lZ_Vb2lIYXhD"
   },
   "outputs": [],
   "source": [
    "# Создаем маску \"внимания\"\n",
    "attention_mask = np.where(padded !=0, 1, 0)"
   ]
  },
  {
   "cell_type": "code",
   "execution_count": 45,
   "metadata": {
    "ExecuteTime": {
     "end_time": "2024-09-26T07:17:24.625276Z",
     "start_time": "2024-09-26T07:17:16.573607Z"
    },
    "colab": {
     "base_uri": "https://localhost:8080/",
     "height": 49,
     "referenced_widgets": [
      "b10fef04c461498fa8d87d526997d16b",
      "403c02fef9244acab813600f0f55a1c3",
      "96ee141a30344071894cddb143a9aee4",
      "e1b35539afb540f386a8c350560cb2de",
      "a66d3ff7507c4ad59351696318826571",
      "74bd8d34f54445b58332aec2fbacd346",
      "c05bb4537c2147dfb10fe7f1d0e6080d",
      "0a66db99fa0742ffafcff3d27944796a",
      "7ca583aa3af440e7890895deb01c78fe",
      "1de77160230c409c854276d67a54dbd2",
      "3af24ba590a940f3a7744670dae61282"
     ]
    },
    "id": "g-t2c4HeYXhE",
    "outputId": "71bd38d8-d3d6-449a-bdea-d547b1060266"
   },
   "outputs": [],
   "source": [
    "# Инициалзируем модель\n",
    "model = transformers.BertModel.from_pretrained('bert-large-cased')"
   ]
  },
  {
   "cell_type": "code",
   "execution_count": 46,
   "metadata": {
    "ExecuteTime": {
     "end_time": "2024-09-26T07:58:48.191324Z",
     "start_time": "2024-09-26T07:17:31.591294Z"
    },
    "colab": {
     "base_uri": "https://localhost:8080/",
     "height": 356
    },
    "id": "Zm770U1sYXhE",
    "outputId": "04b876ca-c62d-4680-a020-02f10e9c66df"
   },
   "outputs": [
    {
     "data": {
      "application/vnd.jupyter.widget-view+json": {
       "model_id": "ccfe4d6f762b4081bd4827b50376a00c",
       "version_major": 2,
       "version_minor": 0
      },
      "text/plain": [
       "  0%|          | 0/5 [00:00<?, ?it/s]"
      ]
     },
     "metadata": {},
     "output_type": "display_data"
    }
   ],
   "source": [
    "device = torch.device(\n",
    "    \"cuda:0\") if torch.cuda.is_available() else torch.device(\"cpu\")\n",
    "\n",
    "# Указываем размер батча и создаем пустой список для эмбеддингов\n",
    "batch_size = 97\n",
    "embeddings = []\n",
    "model.to(device)   # Закидываем модель на GPU\n",
    "\n",
    "# Создаем цикл по батчу\n",
    "for i in tqdm(range(padded.shape[0] // batch_size)):\n",
    "    start_index = batch_size*i\n",
    "    end_index = batch_size*(i+1)\n",
    "    # Преобразуем данные\n",
    "    batch = torch.LongTensor(padded[start_index:end_index]).to(\n",
    "        device)  # Закидываем тензор на GPU\n",
    "    # Преобразуем маску\n",
    "    attention_mask_batch = torch.LongTensor(\n",
    "        attention_mask[start_index:end_index]).to(device)\n",
    "\n",
    "    # Указываем, что не используем градиент\n",
    "    with torch.no_grad():\n",
    "        batch_embeddings = model(batch, attention_mask=attention_mask_batch)\n",
    "\n",
    "    # Переводим обратно на проц\n",
    "    embeddings.append(batch_embeddings[0][:, 0, :].cpu().numpy())\n",
    "    del batch\n",
    "    del attention_mask_batch\n",
    "    del batch_embeddings"
   ]
  },
  {
   "cell_type": "code",
   "execution_count": 47,
   "metadata": {
    "ExecuteTime": {
     "end_time": "2024-09-26T07:58:55.135093Z",
     "start_time": "2024-09-26T07:58:55.125844Z"
    },
    "id": "x96QpBkXYXhE"
   },
   "outputs": [],
   "source": [
    "# Собираем все эмбеддинги в матрицу признаков\n",
    "features = np.concatenate(embeddings)"
   ]
  },
  {
   "cell_type": "code",
   "execution_count": 48,
   "metadata": {
    "ExecuteTime": {
     "end_time": "2024-09-26T07:58:56.251463Z",
     "start_time": "2024-09-26T07:58:56.235192Z"
    },
    "id": "19TMsBmKYXhE"
   },
   "outputs": [],
   "source": [
    "# Создаем датафрейм эмбеддингов\n",
    "df_embeddings = pd.DataFrame(features)"
   ]
  },
  {
   "cell_type": "code",
   "execution_count": 49,
   "metadata": {
    "ExecuteTime": {
     "end_time": "2024-09-26T07:58:58.063698Z",
     "start_time": "2024-09-26T07:58:58.002773Z"
    },
    "id": "8XVesguNYXhF"
   },
   "outputs": [],
   "source": [
    "# Удаляем значения из датафрейма, которые превышают порог\n",
    "df_small_idx = df_small.drop(index=idx)"
   ]
  },
  {
   "cell_type": "code",
   "execution_count": 50,
   "metadata": {
    "ExecuteTime": {
     "end_time": "2024-09-26T07:58:58.693032Z",
     "start_time": "2024-09-26T07:58:58.689617Z"
    },
    "id": "7K1xyFcQYXhF"
   },
   "outputs": [],
   "source": [
    "# Обновляем значения индексов\n",
    "df_embeddings.index = df_small_idx.index"
   ]
  },
  {
   "cell_type": "code",
   "execution_count": 51,
   "metadata": {
    "ExecuteTime": {
     "end_time": "2024-09-26T07:59:08.707188Z",
     "start_time": "2024-09-26T07:59:08.687566Z"
    },
    "id": "y6sW5B2xYXhF"
   },
   "outputs": [],
   "source": [
    "# Добавляем в датафрейм эмбеддингов столбец с тагретом\n",
    "df_embeddings['toxic'] = df_small_idx['toxic']"
   ]
  },
  {
   "cell_type": "code",
   "execution_count": 52,
   "metadata": {
    "ExecuteTime": {
     "end_time": "2024-09-26T07:59:09.841126Z",
     "start_time": "2024-09-26T07:59:09.702441Z"
    },
    "id": "Qkriq6OLYXhF"
   },
   "outputs": [
    {
     "data": {
      "text/html": [
       "<div>\n",
       "<style scoped>\n",
       "    .dataframe tbody tr th:only-of-type {\n",
       "        vertical-align: middle;\n",
       "    }\n",
       "\n",
       "    .dataframe tbody tr th {\n",
       "        vertical-align: top;\n",
       "    }\n",
       "\n",
       "    .dataframe thead th {\n",
       "        text-align: right;\n",
       "    }\n",
       "</style>\n",
       "<table border=\"1\" class=\"dataframe\">\n",
       "  <thead>\n",
       "    <tr style=\"text-align: right;\">\n",
       "      <th></th>\n",
       "      <th>0</th>\n",
       "      <th>1</th>\n",
       "      <th>2</th>\n",
       "      <th>3</th>\n",
       "      <th>4</th>\n",
       "      <th>5</th>\n",
       "      <th>6</th>\n",
       "      <th>7</th>\n",
       "      <th>8</th>\n",
       "      <th>9</th>\n",
       "      <th>...</th>\n",
       "      <th>1015</th>\n",
       "      <th>1016</th>\n",
       "      <th>1017</th>\n",
       "      <th>1018</th>\n",
       "      <th>1019</th>\n",
       "      <th>1020</th>\n",
       "      <th>1021</th>\n",
       "      <th>1022</th>\n",
       "      <th>1023</th>\n",
       "      <th>toxic</th>\n",
       "    </tr>\n",
       "  </thead>\n",
       "  <tbody>\n",
       "    <tr>\n",
       "      <th>90720</th>\n",
       "      <td>-0.605833</td>\n",
       "      <td>-0.386955</td>\n",
       "      <td>0.894628</td>\n",
       "      <td>0.504852</td>\n",
       "      <td>-0.828088</td>\n",
       "      <td>-0.106698</td>\n",
       "      <td>-0.003293</td>\n",
       "      <td>0.527482</td>\n",
       "      <td>0.001371</td>\n",
       "      <td>0.075519</td>\n",
       "      <td>...</td>\n",
       "      <td>0.595570</td>\n",
       "      <td>0.046099</td>\n",
       "      <td>0.001099</td>\n",
       "      <td>0.607826</td>\n",
       "      <td>0.128096</td>\n",
       "      <td>-0.486376</td>\n",
       "      <td>-0.869532</td>\n",
       "      <td>-0.360505</td>\n",
       "      <td>0.193627</td>\n",
       "      <td>0</td>\n",
       "    </tr>\n",
       "    <tr>\n",
       "      <th>3311</th>\n",
       "      <td>-0.266143</td>\n",
       "      <td>-0.793055</td>\n",
       "      <td>0.743506</td>\n",
       "      <td>0.167285</td>\n",
       "      <td>-0.050390</td>\n",
       "      <td>0.164040</td>\n",
       "      <td>-0.566893</td>\n",
       "      <td>0.703971</td>\n",
       "      <td>0.279710</td>\n",
       "      <td>-0.486641</td>\n",
       "      <td>...</td>\n",
       "      <td>0.382834</td>\n",
       "      <td>0.165652</td>\n",
       "      <td>-0.195410</td>\n",
       "      <td>0.529792</td>\n",
       "      <td>-0.417769</td>\n",
       "      <td>-0.143766</td>\n",
       "      <td>-0.373297</td>\n",
       "      <td>-0.262777</td>\n",
       "      <td>0.268213</td>\n",
       "      <td>0</td>\n",
       "    </tr>\n",
       "    <tr>\n",
       "      <th>152898</th>\n",
       "      <td>0.130858</td>\n",
       "      <td>-0.467700</td>\n",
       "      <td>0.747462</td>\n",
       "      <td>-0.181684</td>\n",
       "      <td>-0.320892</td>\n",
       "      <td>-0.248948</td>\n",
       "      <td>-0.697752</td>\n",
       "      <td>0.517300</td>\n",
       "      <td>0.028104</td>\n",
       "      <td>-0.493354</td>\n",
       "      <td>...</td>\n",
       "      <td>0.639658</td>\n",
       "      <td>0.324668</td>\n",
       "      <td>0.018745</td>\n",
       "      <td>0.514426</td>\n",
       "      <td>-0.321434</td>\n",
       "      <td>-0.526317</td>\n",
       "      <td>-0.402321</td>\n",
       "      <td>0.079822</td>\n",
       "      <td>0.409070</td>\n",
       "      <td>1</td>\n",
       "    </tr>\n",
       "    <tr>\n",
       "      <th>42690</th>\n",
       "      <td>-0.485343</td>\n",
       "      <td>-0.276089</td>\n",
       "      <td>0.306762</td>\n",
       "      <td>0.071361</td>\n",
       "      <td>-0.347920</td>\n",
       "      <td>-0.272762</td>\n",
       "      <td>-0.622653</td>\n",
       "      <td>0.622671</td>\n",
       "      <td>0.111816</td>\n",
       "      <td>-0.349448</td>\n",
       "      <td>...</td>\n",
       "      <td>0.213279</td>\n",
       "      <td>0.068472</td>\n",
       "      <td>0.332071</td>\n",
       "      <td>0.646844</td>\n",
       "      <td>0.054494</td>\n",
       "      <td>0.149767</td>\n",
       "      <td>-0.384126</td>\n",
       "      <td>-0.389681</td>\n",
       "      <td>-0.138949</td>\n",
       "      <td>0</td>\n",
       "    </tr>\n",
       "    <tr>\n",
       "      <th>91151</th>\n",
       "      <td>0.141174</td>\n",
       "      <td>-0.370319</td>\n",
       "      <td>0.094330</td>\n",
       "      <td>0.325538</td>\n",
       "      <td>0.091724</td>\n",
       "      <td>-0.326363</td>\n",
       "      <td>-0.480000</td>\n",
       "      <td>0.342367</td>\n",
       "      <td>-0.090163</td>\n",
       "      <td>-0.172868</td>\n",
       "      <td>...</td>\n",
       "      <td>0.396844</td>\n",
       "      <td>-0.236613</td>\n",
       "      <td>0.182056</td>\n",
       "      <td>0.764871</td>\n",
       "      <td>-0.450307</td>\n",
       "      <td>-0.195933</td>\n",
       "      <td>-0.080253</td>\n",
       "      <td>-0.577175</td>\n",
       "      <td>0.126797</td>\n",
       "      <td>1</td>\n",
       "    </tr>\n",
       "  </tbody>\n",
       "</table>\n",
       "<p>5 rows × 1025 columns</p>\n",
       "</div>"
      ],
      "text/plain": [
       "               0         1         2         3         4         5         6  \\\n",
       "90720  -0.605833 -0.386955  0.894628  0.504852 -0.828088 -0.106698 -0.003293   \n",
       "3311   -0.266143 -0.793055  0.743506  0.167285 -0.050390  0.164040 -0.566893   \n",
       "152898  0.130858 -0.467700  0.747462 -0.181684 -0.320892 -0.248948 -0.697752   \n",
       "42690  -0.485343 -0.276089  0.306762  0.071361 -0.347920 -0.272762 -0.622653   \n",
       "91151   0.141174 -0.370319  0.094330  0.325538  0.091724 -0.326363 -0.480000   \n",
       "\n",
       "               7         8         9  ...      1015      1016      1017  \\\n",
       "90720   0.527482  0.001371  0.075519  ...  0.595570  0.046099  0.001099   \n",
       "3311    0.703971  0.279710 -0.486641  ...  0.382834  0.165652 -0.195410   \n",
       "152898  0.517300  0.028104 -0.493354  ...  0.639658  0.324668  0.018745   \n",
       "42690   0.622671  0.111816 -0.349448  ...  0.213279  0.068472  0.332071   \n",
       "91151   0.342367 -0.090163 -0.172868  ...  0.396844 -0.236613  0.182056   \n",
       "\n",
       "            1018      1019      1020      1021      1022      1023  toxic  \n",
       "90720   0.607826  0.128096 -0.486376 -0.869532 -0.360505  0.193627      0  \n",
       "3311    0.529792 -0.417769 -0.143766 -0.373297 -0.262777  0.268213      0  \n",
       "152898  0.514426 -0.321434 -0.526317 -0.402321  0.079822  0.409070      1  \n",
       "42690   0.646844  0.054494  0.149767 -0.384126 -0.389681 -0.138949      0  \n",
       "91151   0.764871 -0.450307 -0.195933 -0.080253 -0.577175  0.126797      1  \n",
       "\n",
       "[5 rows x 1025 columns]"
      ]
     },
     "execution_count": 52,
     "metadata": {},
     "output_type": "execute_result"
    }
   ],
   "source": [
    "# Смотрим на первые 5 строк\n",
    "df_embeddings.head()"
   ]
  },
  {
   "cell_type": "code",
   "execution_count": 53,
   "metadata": {
    "ExecuteTime": {
     "end_time": "2024-09-26T07:59:16.109221Z",
     "start_time": "2024-09-26T07:59:15.609407Z"
    },
    "id": "oGMtBb3_YXhF"
   },
   "outputs": [],
   "source": [
    "# Отделяем таргет от остальных значений\n",
    "X = df_embeddings.drop(columns='toxic', axis=1)\n",
    "y = df_embeddings['toxic']"
   ]
  },
  {
   "cell_type": "code",
   "execution_count": 54,
   "metadata": {
    "ExecuteTime": {
     "end_time": "2024-09-26T07:59:17.113740Z",
     "start_time": "2024-09-26T07:59:17.050441Z"
    },
    "id": "bhpgg5SeYXhF"
   },
   "outputs": [],
   "source": [
    "# Разделяем данные на тренировочную и тестовую выборку\n",
    "X_train, X_test, y_train, y_test = train_test_split(\n",
    "    X,\n",
    "    y,\n",
    "    random_state=RANDOM_STATE,\n",
    "    test_size=TEST_SIZE,\n",
    "    stratify=y\n",
    ")"
   ]
  },
  {
   "cell_type": "markdown",
   "metadata": {
    "id": "izEs0MFNYXhF"
   },
   "source": [
    "Будем использовать лучшую модель из предыдущего пунтка, а именно `LGBMClassifier` c параметрами max_depth=7, min_child_samples=30, n_estimators=2000, num_leaves=100"
   ]
  },
  {
   "cell_type": "code",
   "execution_count": 55,
   "metadata": {
    "ExecuteTime": {
     "end_time": "2024-09-26T07:59:20.745574Z",
     "start_time": "2024-09-26T07:59:20.731535Z"
    },
    "id": "F8cvCfqAYXhG"
   },
   "outputs": [],
   "source": [
    "# Инициализируем модель\n",
    "lgbm = LGBMClassifier(random_state=RANDOM_STATE, n_jobs=-1, objective='binary',\n",
    "                      verbosity=-1, max_depth=7, min_child_samples=30, n_estimators=2000, num_leaves=100)"
   ]
  },
  {
   "cell_type": "code",
   "execution_count": 56,
   "metadata": {
    "ExecuteTime": {
     "end_time": "2024-09-26T07:59:23.894424Z",
     "start_time": "2024-09-26T07:59:22.106788Z"
    },
    "id": "WtCr--YnYXhG"
   },
   "outputs": [
    {
     "data": {
      "text/html": [
       "<style>#sk-container-id-1 {color: black;}#sk-container-id-1 pre{padding: 0;}#sk-container-id-1 div.sk-toggleable {background-color: white;}#sk-container-id-1 label.sk-toggleable__label {cursor: pointer;display: block;width: 100%;margin-bottom: 0;padding: 0.3em;box-sizing: border-box;text-align: center;}#sk-container-id-1 label.sk-toggleable__label-arrow:before {content: \"▸\";float: left;margin-right: 0.25em;color: #696969;}#sk-container-id-1 label.sk-toggleable__label-arrow:hover:before {color: black;}#sk-container-id-1 div.sk-estimator:hover label.sk-toggleable__label-arrow:before {color: black;}#sk-container-id-1 div.sk-toggleable__content {max-height: 0;max-width: 0;overflow: hidden;text-align: left;background-color: #f0f8ff;}#sk-container-id-1 div.sk-toggleable__content pre {margin: 0.2em;color: black;border-radius: 0.25em;background-color: #f0f8ff;}#sk-container-id-1 input.sk-toggleable__control:checked~div.sk-toggleable__content {max-height: 200px;max-width: 100%;overflow: auto;}#sk-container-id-1 input.sk-toggleable__control:checked~label.sk-toggleable__label-arrow:before {content: \"▾\";}#sk-container-id-1 div.sk-estimator input.sk-toggleable__control:checked~label.sk-toggleable__label {background-color: #d4ebff;}#sk-container-id-1 div.sk-label input.sk-toggleable__control:checked~label.sk-toggleable__label {background-color: #d4ebff;}#sk-container-id-1 input.sk-hidden--visually {border: 0;clip: rect(1px 1px 1px 1px);clip: rect(1px, 1px, 1px, 1px);height: 1px;margin: -1px;overflow: hidden;padding: 0;position: absolute;width: 1px;}#sk-container-id-1 div.sk-estimator {font-family: monospace;background-color: #f0f8ff;border: 1px dotted black;border-radius: 0.25em;box-sizing: border-box;margin-bottom: 0.5em;}#sk-container-id-1 div.sk-estimator:hover {background-color: #d4ebff;}#sk-container-id-1 div.sk-parallel-item::after {content: \"\";width: 100%;border-bottom: 1px solid gray;flex-grow: 1;}#sk-container-id-1 div.sk-label:hover label.sk-toggleable__label {background-color: #d4ebff;}#sk-container-id-1 div.sk-serial::before {content: \"\";position: absolute;border-left: 1px solid gray;box-sizing: border-box;top: 0;bottom: 0;left: 50%;z-index: 0;}#sk-container-id-1 div.sk-serial {display: flex;flex-direction: column;align-items: center;background-color: white;padding-right: 0.2em;padding-left: 0.2em;position: relative;}#sk-container-id-1 div.sk-item {position: relative;z-index: 1;}#sk-container-id-1 div.sk-parallel {display: flex;align-items: stretch;justify-content: center;background-color: white;position: relative;}#sk-container-id-1 div.sk-item::before, #sk-container-id-1 div.sk-parallel-item::before {content: \"\";position: absolute;border-left: 1px solid gray;box-sizing: border-box;top: 0;bottom: 0;left: 50%;z-index: -1;}#sk-container-id-1 div.sk-parallel-item {display: flex;flex-direction: column;z-index: 1;position: relative;background-color: white;}#sk-container-id-1 div.sk-parallel-item:first-child::after {align-self: flex-end;width: 50%;}#sk-container-id-1 div.sk-parallel-item:last-child::after {align-self: flex-start;width: 50%;}#sk-container-id-1 div.sk-parallel-item:only-child::after {width: 0;}#sk-container-id-1 div.sk-dashed-wrapped {border: 1px dashed gray;margin: 0 0.4em 0.5em 0.4em;box-sizing: border-box;padding-bottom: 0.4em;background-color: white;}#sk-container-id-1 div.sk-label label {font-family: monospace;font-weight: bold;display: inline-block;line-height: 1.2em;}#sk-container-id-1 div.sk-label-container {text-align: center;}#sk-container-id-1 div.sk-container {/* jupyter's `normalize.less` sets `[hidden] { display: none; }` but bootstrap.min.css set `[hidden] { display: none !important; }` so we also need the `!important` here to be able to override the default hidden behavior on the sphinx rendered scikit-learn.org. See: https://github.com/scikit-learn/scikit-learn/issues/21755 */display: inline-block !important;position: relative;}#sk-container-id-1 div.sk-text-repr-fallback {display: none;}</style><div id=\"sk-container-id-1\" class=\"sk-top-container\"><div class=\"sk-text-repr-fallback\"><pre>LGBMClassifier(max_depth=7, min_child_samples=30, n_estimators=2000, n_jobs=-1,\n",
       "               num_leaves=100, objective=&#x27;binary&#x27;, random_state=42,\n",
       "               verbosity=-1)</pre><b>In a Jupyter environment, please rerun this cell to show the HTML representation or trust the notebook. <br />On GitHub, the HTML representation is unable to render, please try loading this page with nbviewer.org.</b></div><div class=\"sk-container\" hidden><div class=\"sk-item\"><div class=\"sk-estimator sk-toggleable\"><input class=\"sk-toggleable__control sk-hidden--visually\" id=\"sk-estimator-id-1\" type=\"checkbox\" checked><label for=\"sk-estimator-id-1\" class=\"sk-toggleable__label sk-toggleable__label-arrow\">LGBMClassifier</label><div class=\"sk-toggleable__content\"><pre>LGBMClassifier(max_depth=7, min_child_samples=30, n_estimators=2000, n_jobs=-1,\n",
       "               num_leaves=100, objective=&#x27;binary&#x27;, random_state=42,\n",
       "               verbosity=-1)</pre></div></div></div></div></div>"
      ],
      "text/plain": [
       "LGBMClassifier(max_depth=7, min_child_samples=30, n_estimators=2000, n_jobs=-1,\n",
       "               num_leaves=100, objective='binary', random_state=42,\n",
       "               verbosity=-1)"
      ]
     },
     "execution_count": 56,
     "metadata": {},
     "output_type": "execute_result"
    }
   ],
   "source": [
    "# Обучаем модель\n",
    "lgbm.fit(X_train, y_train)"
   ]
  },
  {
   "cell_type": "code",
   "execution_count": 57,
   "metadata": {
    "ExecuteTime": {
     "end_time": "2024-09-26T07:59:25.344832Z",
     "start_time": "2024-09-26T07:59:25.329544Z"
    },
    "id": "5AWHfa5PYXhG"
   },
   "outputs": [],
   "source": [
    "# Делаем предсказания на тесте\n",
    "preds = lgbm.predict(X_test)"
   ]
  },
  {
   "cell_type": "code",
   "execution_count": 58,
   "metadata": {
    "ExecuteTime": {
     "end_time": "2024-09-26T07:59:26.218968Z",
     "start_time": "2024-09-26T07:59:26.199189Z"
    },
    "id": "bO6crPvSYXhG"
   },
   "outputs": [
    {
     "name": "stdout",
     "output_type": "stream",
     "text": [
      "Результат на тесте: 0.78\n"
     ]
    }
   ],
   "source": [
    "# Считаем метрику f1\n",
    "print(f'Результат на тесте: {f1_score(y_test, preds):.2f}')"
   ]
  },
  {
   "cell_type": "markdown",
   "metadata": {
    "id": "CGkCWRdJYXhG"
   },
   "source": [
    "По итогу получаем метрику 0.78. Скорее всего, если бы получилось использовать весь датафрейм результат был бы гораздо лучше."
   ]
  },
  {
   "cell_type": "markdown",
   "metadata": {
    "id": "RG3uGEVKYXhG"
   },
   "source": [
    "## Выводы"
   ]
  },
  {
   "cell_type": "markdown",
   "metadata": {
    "id": "BW1wOvauYXhG"
   },
   "source": [
    "Данные были получены из файла:\n",
    "\n",
    "`toxic_comments.csv`\n",
    "Сначала был сделан обзор данных. Само исследование проходило в 6 этапов:\n",
    "\n",
    "1. Изучение и подготовка данных.\n",
    "2. Обучение моделей\n",
    "3. Вывод\n",
    "\n",
    "**1. Изучение и подготовка данных.**\n",
    "\n",
    "Сохранили файл в переменную `df_toxic`. Размерность файла - (159292, 2). Присутствует дисбаланс классов.\n",
    "\n",
    "Данные подготовили следующим образом. Создали корпусов текстов и сделали лемматизацию, используя модуль `nltk`, то есть привели слова к начальной форме, после этого отчистили текст от лишних знаков, чтобы остались только буквы. Удалили стоп-слова. Разделили данные на тренировочные и тестовые. Оценку важности слов (`TF-IDF`) проводили в пайплайне в месте с обучением модели с использованием кросс-волидации.\n",
    "\n",
    "**2. Обучение моделей**\n",
    "\n",
    "Перед нами стояла задача классификации. Целевой признак `toxic`. Обучали 4 модели с использованием кросс-валидации:\n",
    "- `LogisticRegression`\n",
    "- `DecisionTreeClassifier`\n",
    "- `SVM`\n",
    "- `LGBMClassifier`\n",
    "\n",
    "Проверяли результаты моделей на метрике `F1`, она должна была быть больше 0.75. После этого выбрали лучшую модель и подобрали ей гиперпараметры методом `RandomizedSearchCV`.\n",
    "\n",
    "Сравнили все модели между собой и свели результат в таблицу\n",
    "\n",
    "| **Модели**  |  **F1 на кросс-волидации** | **Отклонение метрики**  | **Удовлетворяет условию** |\n",
    "|:------------- |:---------------:| :-------------:| :-------------:|\n",
    "| **LogisticRegressionCV**  |<span style=\"color:red\"> 0.72</span> | 0.57 | ❌ |\n",
    "| **SVM** |<span style=\"color:red\"> 0.74</span>| 0.53 | ❌ |\n",
    "| **DecisionTreeRegressor**   |<span style=\"color:red\"> 0.71</span>| 0.31 | ❌|\n",
    "| **LGBMClassifier**   |<span style=\"color:red\"> 0.74</span>| 0.85 | ❌|\n",
    "\n",
    "По итогу был выбор между `SVM` и `LGBMClassifier`. Хоть отклонение у `LGBMClassifier` больше, но она обучалась быстрее, поэтому подбирали гиперпараметры для нее. Подбирали следующие гиперпараметры:\n",
    "\n",
    "- `num_leaves`\n",
    "- `n_estimators`\n",
    "- `min_child_samples`\n",
    "- `max_depth`\n",
    "\n",
    "В результате получили модель с параметрами max_depth=7, min_child_samples=30, n_estimators=2000, num_leaves=100. Метрика F1 0.77. Так как метрика на кросс-валидации удовлетворяет условию. То выбрали данную модель как итоговую и сделали проверку на тесте. По итогу метрика на тесте составила 0.77.\n",
    "\n",
    "\n",
    "***Дополнительный пункт BERT***\n",
    "\n",
    "Данный пункт является дополнительным, так как из-за технических ограничений в полной мере воспользоваться `BERT` не представлялось возможным, поэтому `BERT` опробован на 500 наблюдений. Так как у нас наблюдается дисбаланс классов был сделан андерсэмплинг.\n",
    "\n",
    "Преобразовали текст в номера токенов из словаря. Так как данная модель BERT имеет максимальную возможную длину вектора 512, то проверили, сколько значений превышают этот порог. Максимальная длина вектора у нас 2840 и 15 значений превысили данный порог. Эти 15 значений были удалены. Далее воспользовались методом padding и создали маску \"внимания\". Нашли эмбендинги для каждого наблюдения. И приступили к обучению модели. Взяли лучшую модель по итогам работы, а именно `LGBMClassifier`. В результате получили метрику `F1` на тесте 0.78.\n",
    "\n",
    "**Вывод**\n",
    "\n",
    "По итогу работы была сделана модель, которая может искать токсичные комментарии. Были обучены 4 модели и лучшая из них `LGBMClassifier` с метрикой `F1` 0.77, что удовлетворяет условию задачи (>0.75). Также была попытка воспользоваться `BERT`, но из-за технических ограничений в полную силу с ним поработать не получилось (на тесте - 0.78)\n",
    "\n",
    "Данную работу можно улучшить, если использовать `BERT` на всем датафрейме или использовать специальную модель `unitary/toxic-bert`."
   ]
  }
 ],
 "metadata": {
  "ExecuteTimeLog": [
   {
    "duration": 2451,
    "start_time": "2024-09-19T09:01:21.147Z"
   },
   {
    "duration": 3,
    "start_time": "2024-09-19T09:01:51.776Z"
   },
   {
    "duration": 3730,
    "start_time": "2024-09-19T09:01:52.463Z"
   },
   {
    "duration": 2404,
    "start_time": "2024-09-19T09:02:05.567Z"
   },
   {
    "duration": 4,
    "start_time": "2024-09-19T09:02:14.290Z"
   },
   {
    "duration": 2352,
    "start_time": "2024-09-19T09:03:24.706Z"
   },
   {
    "duration": 2,
    "start_time": "2024-09-19T09:03:28.174Z"
   },
   {
    "duration": 3687,
    "start_time": "2024-09-19T09:03:28.565Z"
   },
   {
    "duration": 2205,
    "start_time": "2024-09-19T09:03:32.689Z"
   },
   {
    "duration": 3,
    "start_time": "2024-09-19T09:03:36.206Z"
   },
   {
    "duration": 2501,
    "start_time": "2024-09-19T09:05:22.544Z"
   },
   {
    "duration": 3,
    "start_time": "2024-09-19T09:05:25.979Z"
   },
   {
    "duration": 3694,
    "start_time": "2024-09-19T09:05:26.422Z"
   },
   {
    "duration": 2284,
    "start_time": "2024-09-19T09:05:32.329Z"
   },
   {
    "duration": 3,
    "start_time": "2024-09-19T09:05:35.047Z"
   },
   {
    "duration": 899,
    "start_time": "2024-09-19T09:05:49.942Z"
   },
   {
    "duration": 3,
    "start_time": "2024-09-19T09:07:01.267Z"
   },
   {
    "duration": 167,
    "start_time": "2024-09-19T09:07:12.097Z"
   },
   {
    "duration": 3,
    "start_time": "2024-09-19T09:09:28.319Z"
   },
   {
    "duration": 2408,
    "start_time": "2024-09-19T09:11:59.607Z"
   },
   {
    "duration": 3,
    "start_time": "2024-09-19T09:12:02.601Z"
   },
   {
    "duration": 946,
    "start_time": "2024-09-19T09:12:03.059Z"
   },
   {
    "duration": 2226,
    "start_time": "2024-09-19T09:12:04.402Z"
   },
   {
    "duration": 4,
    "start_time": "2024-09-19T09:12:07.120Z"
   },
   {
    "duration": 87665,
    "start_time": "2024-09-19T09:12:08.608Z"
   },
   {
    "duration": 56,
    "start_time": "2024-09-19T09:13:50.256Z"
   },
   {
    "duration": 4,
    "start_time": "2024-09-19T09:15:57.010Z"
   },
   {
    "duration": 3,
    "start_time": "2024-09-19T09:16:24.559Z"
   },
   {
    "duration": 4,
    "start_time": "2024-09-19T09:17:54.880Z"
   },
   {
    "duration": 3,
    "start_time": "2024-09-19T09:17:56.450Z"
   },
   {
    "duration": 72835,
    "start_time": "2024-09-19T09:17:59.803Z"
   },
   {
    "duration": 22,
    "start_time": "2024-09-19T09:21:21.352Z"
   },
   {
    "duration": 22,
    "start_time": "2024-09-19T09:22:49.929Z"
   },
   {
    "duration": 10,
    "start_time": "2024-09-19T09:22:57.209Z"
   },
   {
    "duration": 2517,
    "start_time": "2024-09-19T09:27:01.181Z"
   },
   {
    "duration": 2,
    "start_time": "2024-09-19T09:27:04.500Z"
   },
   {
    "duration": 3818,
    "start_time": "2024-09-19T09:27:04.974Z"
   },
   {
    "duration": 2204,
    "start_time": "2024-09-19T09:27:10.309Z"
   },
   {
    "duration": 3,
    "start_time": "2024-09-19T09:27:12.943Z"
   },
   {
    "duration": 3,
    "start_time": "2024-09-19T09:27:15.300Z"
   },
   {
    "duration": 74682,
    "start_time": "2024-09-19T09:27:18.114Z"
   },
   {
    "duration": 23,
    "start_time": "2024-09-19T09:35:24.458Z"
   },
   {
    "duration": 15,
    "start_time": "2024-09-19T09:35:25.199Z"
   },
   {
    "duration": 178,
    "start_time": "2024-09-19T09:35:33.952Z"
   },
   {
    "duration": 2263,
    "start_time": "2024-09-19T09:35:40.870Z"
   },
   {
    "duration": 234,
    "start_time": "2024-09-19T09:37:02.118Z"
   },
   {
    "duration": 9877,
    "start_time": "2024-09-19T09:37:51.362Z"
   },
   {
    "duration": 3,
    "start_time": "2024-09-19T09:38:12.585Z"
   },
   {
    "duration": 2,
    "start_time": "2024-09-19T09:39:49.026Z"
   },
   {
    "duration": 84,
    "start_time": "2024-09-19T09:43:09.710Z"
   },
   {
    "duration": 2,
    "start_time": "2024-09-19T09:43:20.338Z"
   },
   {
    "duration": 52148,
    "start_time": "2024-09-19T09:43:34.911Z"
   },
   {
    "duration": 4,
    "start_time": "2024-09-19T09:44:57.885Z"
   },
   {
    "duration": 6,
    "start_time": "2024-09-19T09:45:06.245Z"
   },
   {
    "duration": 16,
    "start_time": "2024-09-19T09:45:07.227Z"
   },
   {
    "duration": 2400,
    "start_time": "2024-09-19T09:46:05.543Z"
   },
   {
    "duration": 2,
    "start_time": "2024-09-19T09:46:09.551Z"
   },
   {
    "duration": 892,
    "start_time": "2024-09-19T09:46:09.976Z"
   },
   {
    "duration": 2294,
    "start_time": "2024-09-19T09:46:11.972Z"
   },
   {
    "duration": 4,
    "start_time": "2024-09-19T09:46:15.393Z"
   },
   {
    "duration": 3,
    "start_time": "2024-09-19T09:46:16.392Z"
   },
   {
    "duration": 71825,
    "start_time": "2024-09-19T09:46:17.914Z"
   },
   {
    "duration": 24,
    "start_time": "2024-09-19T09:47:40.752Z"
   },
   {
    "duration": 14,
    "start_time": "2024-09-19T09:47:42.377Z"
   },
   {
    "duration": 169,
    "start_time": "2024-09-19T09:47:45.774Z"
   },
   {
    "duration": 60,
    "start_time": "2024-09-19T09:49:43.627Z"
   },
   {
    "duration": 151,
    "start_time": "2024-09-19T09:50:08.913Z"
   },
   {
    "duration": 66,
    "start_time": "2024-09-19T09:50:39.227Z"
   },
   {
    "duration": 1692,
    "start_time": "2024-09-19T09:50:56.991Z"
   },
   {
    "duration": 564,
    "start_time": "2024-09-19T09:51:00.672Z"
   },
   {
    "duration": 224,
    "start_time": "2024-09-19T09:51:06.036Z"
   },
   {
    "duration": 7535,
    "start_time": "2024-09-19T09:51:10.551Z"
   },
   {
    "duration": 2372,
    "start_time": "2024-09-19T09:51:47.282Z"
   },
   {
    "duration": 4,
    "start_time": "2024-09-19T09:52:06.119Z"
   },
   {
    "duration": 3,
    "start_time": "2024-09-19T09:52:12.840Z"
   },
   {
    "duration": 46212,
    "start_time": "2024-09-19T09:52:23.640Z"
   },
   {
    "duration": 7,
    "start_time": "2024-09-19T09:54:48.960Z"
   },
   {
    "duration": 17,
    "start_time": "2024-09-19T09:54:49.777Z"
   },
   {
    "duration": 213,
    "start_time": "2024-09-19T09:55:56.365Z"
   },
   {
    "duration": 4,
    "start_time": "2024-09-19T09:56:11.271Z"
   },
   {
    "duration": 14,
    "start_time": "2024-09-19T09:57:30.160Z"
   },
   {
    "duration": 2,
    "start_time": "2024-09-19T09:57:34.333Z"
   },
   {
    "duration": 3,
    "start_time": "2024-09-19T09:57:35.509Z"
   },
   {
    "duration": 3,
    "start_time": "2024-09-19T09:57:49.621Z"
   },
   {
    "duration": 9,
    "start_time": "2024-09-19T09:57:51.338Z"
   },
   {
    "duration": 2437,
    "start_time": "2024-09-19T09:58:37.606Z"
   },
   {
    "duration": 2,
    "start_time": "2024-09-19T09:58:40.763Z"
   },
   {
    "duration": 3841,
    "start_time": "2024-09-19T09:58:41.189Z"
   },
   {
    "duration": 2263,
    "start_time": "2024-09-19T09:58:47.159Z"
   },
   {
    "duration": 3,
    "start_time": "2024-09-19T09:58:50.054Z"
   },
   {
    "duration": 3,
    "start_time": "2024-09-19T09:58:51.885Z"
   },
   {
    "duration": 71604,
    "start_time": "2024-09-19T09:58:53.031Z"
   },
   {
    "duration": 29,
    "start_time": "2024-09-19T10:00:40.561Z"
   },
   {
    "duration": 15,
    "start_time": "2024-09-19T10:00:41.546Z"
   },
   {
    "duration": 163,
    "start_time": "2024-09-19T10:00:42.718Z"
   },
   {
    "duration": 60,
    "start_time": "2024-09-19T10:00:44.567Z"
   },
   {
    "duration": 71,
    "start_time": "2024-09-19T10:00:45.499Z"
   },
   {
    "duration": 1731,
    "start_time": "2024-09-19T10:00:46.448Z"
   },
   {
    "duration": 563,
    "start_time": "2024-09-19T10:00:49.325Z"
   },
   {
    "duration": 226,
    "start_time": "2024-09-19T10:00:50.583Z"
   },
   {
    "duration": 7604,
    "start_time": "2024-09-19T10:00:53.493Z"
   },
   {
    "duration": 2367,
    "start_time": "2024-09-19T10:01:05.234Z"
   },
   {
    "duration": 3,
    "start_time": "2024-09-19T10:01:08.686Z"
   },
   {
    "duration": 2,
    "start_time": "2024-09-19T10:01:10.552Z"
   },
   {
    "duration": 44885,
    "start_time": "2024-09-19T10:01:11.271Z"
   },
   {
    "duration": 6,
    "start_time": "2024-09-19T10:02:04.916Z"
   },
   {
    "duration": 15,
    "start_time": "2024-09-19T10:02:06.144Z"
   },
   {
    "duration": 3,
    "start_time": "2024-09-19T10:02:16.784Z"
   },
   {
    "duration": 122708,
    "start_time": "2024-09-19T10:02:19.598Z"
   },
   {
    "duration": 2937,
    "start_time": "2024-09-19T10:06:45.887Z"
   },
   {
    "duration": 16,
    "start_time": "2024-09-19T10:06:49.698Z"
   },
   {
    "duration": 115,
    "start_time": "2024-09-19T10:15:19.665Z"
   },
   {
    "duration": 3,
    "start_time": "2024-09-19T10:16:10.068Z"
   },
   {
    "duration": 47,
    "start_time": "2024-09-19T10:22:52.411Z"
   },
   {
    "duration": 5,
    "start_time": "2024-09-19T10:22:57.417Z"
   },
   {
    "duration": 3190,
    "start_time": "2024-09-20T11:16:31.989Z"
   },
   {
    "duration": 58,
    "start_time": "2024-09-20T11:28:10.439Z"
   },
   {
    "duration": 1289,
    "start_time": "2024-09-20T11:28:14.122Z"
   },
   {
    "duration": 315,
    "start_time": "2024-09-20T11:28:16.573Z"
   },
   {
    "duration": 3,
    "start_time": "2024-09-20T11:28:18.537Z"
   },
   {
    "duration": 3,
    "start_time": "2024-09-20T11:28:19.142Z"
   },
   {
    "duration": 3,
    "start_time": "2024-09-20T11:28:22.577Z"
   },
   {
    "duration": 3745,
    "start_time": "2024-09-20T11:28:26.340Z"
   },
   {
    "duration": 11,
    "start_time": "2024-09-20T11:28:30.804Z"
   },
   {
    "duration": 3,
    "start_time": "2024-09-20T11:28:31.869Z"
   },
   {
    "duration": 3,
    "start_time": "2024-09-20T11:28:33.716Z"
   },
   {
    "duration": 2451,
    "start_time": "2024-09-20T11:28:37.461Z"
   },
   {
    "duration": 161,
    "start_time": "2024-09-20T11:29:07.523Z"
   },
   {
    "duration": 4,
    "start_time": "2024-09-20T11:30:22.771Z"
   },
   {
    "duration": 8374,
    "start_time": "2024-09-20T11:30:37.183Z"
   },
   {
    "duration": 24,
    "start_time": "2024-09-20T11:30:53.489Z"
   },
   {
    "duration": 10,
    "start_time": "2024-09-20T11:30:54.291Z"
   },
   {
    "duration": 6,
    "start_time": "2024-09-20T11:31:29.775Z"
   },
   {
    "duration": 7,
    "start_time": "2024-09-20T11:31:39.532Z"
   },
   {
    "duration": 10,
    "start_time": "2024-09-20T11:31:43.017Z"
   },
   {
    "duration": 13,
    "start_time": "2024-09-20T11:32:35.132Z"
   },
   {
    "duration": 78,
    "start_time": "2024-09-20T11:33:29.802Z"
   },
   {
    "duration": 5,
    "start_time": "2024-09-20T11:33:40.335Z"
   },
   {
    "duration": 2601,
    "start_time": "2024-09-20T11:34:07.713Z"
   },
   {
    "duration": 170,
    "start_time": "2024-09-20T11:34:10.852Z"
   },
   {
    "duration": 4,
    "start_time": "2024-09-20T11:34:19.508Z"
   },
   {
    "duration": 934,
    "start_time": "2024-09-20T11:34:20.620Z"
   },
   {
    "duration": 10,
    "start_time": "2024-09-20T11:34:22.486Z"
   },
   {
    "duration": 6,
    "start_time": "2024-09-20T11:34:23.957Z"
   },
   {
    "duration": 1515,
    "start_time": "2024-09-20T11:34:28.932Z"
   },
   {
    "duration": 2960,
    "start_time": "2024-09-20T11:36:34.202Z"
   },
   {
    "duration": 481,
    "start_time": "2024-09-20T11:37:20.128Z"
   },
   {
    "duration": 39,
    "start_time": "2024-09-20T11:37:46.925Z"
   },
   {
    "duration": 6,
    "start_time": "2024-09-20T11:38:04.760Z"
   },
   {
    "duration": 5,
    "start_time": "2024-09-20T11:39:14.981Z"
   },
   {
    "duration": 2666,
    "start_time": "2024-09-20T11:40:00.213Z"
   },
   {
    "duration": 171,
    "start_time": "2024-09-20T11:40:03.519Z"
   },
   {
    "duration": 4,
    "start_time": "2024-09-20T11:42:51.844Z"
   },
   {
    "duration": 3,
    "start_time": "2024-09-20T11:42:52.319Z"
   },
   {
    "duration": 2,
    "start_time": "2024-09-20T11:42:53.186Z"
   },
   {
    "duration": 912,
    "start_time": "2024-09-20T11:42:54.904Z"
   },
   {
    "duration": 10,
    "start_time": "2024-09-20T11:42:57.669Z"
   },
   {
    "duration": 4,
    "start_time": "2024-09-20T11:42:58.437Z"
   },
   {
    "duration": 2312,
    "start_time": "2024-09-20T11:43:00.860Z"
   },
   {
    "duration": 474,
    "start_time": "2024-09-20T11:43:08.260Z"
   },
   {
    "duration": 4,
    "start_time": "2024-09-20T11:43:19.881Z"
   },
   {
    "duration": 91406,
    "start_time": "2024-09-20T11:43:22.598Z"
   },
   {
    "duration": 34,
    "start_time": "2024-09-20T11:45:06.443Z"
   },
   {
    "duration": 9,
    "start_time": "2024-09-20T11:45:19.046Z"
   },
   {
    "duration": 2479,
    "start_time": "2024-09-20T11:45:43.385Z"
   },
   {
    "duration": 151,
    "start_time": "2024-09-20T11:45:48.048Z"
   },
   {
    "duration": 4,
    "start_time": "2024-09-20T11:45:49.325Z"
   },
   {
    "duration": 3,
    "start_time": "2024-09-20T11:45:50.012Z"
   },
   {
    "duration": 3,
    "start_time": "2024-09-20T11:45:51.387Z"
   },
   {
    "duration": 914,
    "start_time": "2024-09-20T11:45:52.941Z"
   },
   {
    "duration": 11,
    "start_time": "2024-09-20T11:45:54.790Z"
   },
   {
    "duration": 4,
    "start_time": "2024-09-20T11:45:55.724Z"
   },
   {
    "duration": 2169,
    "start_time": "2024-09-20T11:45:57.555Z"
   },
   {
    "duration": 90195,
    "start_time": "2024-09-20T11:46:00.909Z"
   },
   {
    "duration": 23,
    "start_time": "2024-09-20T11:48:20.472Z"
   },
   {
    "duration": 9,
    "start_time": "2024-09-20T11:48:21.257Z"
   },
   {
    "duration": 140,
    "start_time": "2024-09-20T11:56:41.295Z"
   },
   {
    "duration": 163,
    "start_time": "2024-09-20T12:30:24.937Z"
   },
   {
    "duration": 27,
    "start_time": "2024-09-20T12:30:30.925Z"
   },
   {
    "duration": 63,
    "start_time": "2024-09-20T12:30:31.578Z"
   },
   {
    "duration": 1713,
    "start_time": "2024-09-20T12:30:32.807Z"
   },
   {
    "duration": 550,
    "start_time": "2024-09-20T12:30:37.044Z"
   },
   {
    "duration": 5,
    "start_time": "2024-09-20T12:31:07.803Z"
   },
   {
    "duration": 7064,
    "start_time": "2024-09-20T12:32:05.076Z"
   },
   {
    "duration": 2313,
    "start_time": "2024-09-20T12:32:14.958Z"
   },
   {
    "duration": 3,
    "start_time": "2024-09-20T12:32:19.686Z"
   },
   {
    "duration": 3,
    "start_time": "2024-09-20T12:33:06.544Z"
   },
   {
    "duration": 4,
    "start_time": "2024-09-20T12:33:30.205Z"
   },
   {
    "duration": 3,
    "start_time": "2024-09-20T12:33:56.165Z"
   },
   {
    "duration": 44202,
    "start_time": "2024-09-20T12:34:05.350Z"
   },
   {
    "duration": 7,
    "start_time": "2024-09-20T12:34:59.988Z"
   },
   {
    "duration": 15,
    "start_time": "2024-09-20T12:35:00.905Z"
   },
   {
    "duration": 4,
    "start_time": "2024-09-20T12:38:34.630Z"
   },
   {
    "duration": 3,
    "start_time": "2024-09-20T12:38:45.716Z"
   },
   {
    "duration": 1278079,
    "start_time": "2024-09-20T12:38:47.074Z"
   },
   {
    "duration": 6,
    "start_time": "2024-09-20T13:00:12.017Z"
   },
   {
    "duration": 15,
    "start_time": "2024-09-20T13:00:12.834Z"
   },
   {
    "duration": 2499,
    "start_time": "2024-09-20T13:39:44.102Z"
   },
   {
    "duration": 2,
    "start_time": "2024-09-20T13:39:46.603Z"
   },
   {
    "duration": 253,
    "start_time": "2024-09-20T13:39:46.607Z"
   },
   {
    "duration": 4,
    "start_time": "2024-09-20T13:39:46.862Z"
   },
   {
    "duration": 4,
    "start_time": "2024-09-20T13:39:46.868Z"
   },
   {
    "duration": 5,
    "start_time": "2024-09-20T13:39:46.873Z"
   },
   {
    "duration": 878,
    "start_time": "2024-09-20T13:39:46.879Z"
   },
   {
    "duration": 8,
    "start_time": "2024-09-20T13:39:47.759Z"
   },
   {
    "duration": 102,
    "start_time": "2024-09-20T13:39:47.769Z"
   },
   {
    "duration": 2387,
    "start_time": "2024-09-20T13:39:47.872Z"
   },
   {
    "duration": 88564,
    "start_time": "2024-09-20T13:39:50.261Z"
   },
   {
    "duration": 42,
    "start_time": "2024-09-20T13:41:18.827Z"
   },
   {
    "duration": 39,
    "start_time": "2024-09-20T13:41:18.871Z"
   },
   {
    "duration": 139,
    "start_time": "2024-09-20T13:41:18.913Z"
   },
   {
    "duration": 75,
    "start_time": "2024-09-20T13:41:19.054Z"
   },
   {
    "duration": 67,
    "start_time": "2024-09-20T13:41:19.131Z"
   },
   {
    "duration": 1629,
    "start_time": "2024-09-20T13:41:19.200Z"
   },
   {
    "duration": 589,
    "start_time": "2024-09-20T13:41:20.831Z"
   },
   {
    "duration": 5,
    "start_time": "2024-09-20T13:41:21.421Z"
   },
   {
    "duration": 7192,
    "start_time": "2024-09-20T13:41:21.428Z"
   },
   {
    "duration": 2246,
    "start_time": "2024-09-20T13:41:28.621Z"
   },
   {
    "duration": 3,
    "start_time": "2024-09-20T13:41:30.869Z"
   },
   {
    "duration": 31,
    "start_time": "2024-09-20T13:41:30.874Z"
   },
   {
    "duration": 1237247,
    "start_time": "2024-09-20T13:41:30.906Z"
   },
   {
    "duration": 6,
    "start_time": "2024-09-20T14:02:08.155Z"
   },
   {
    "duration": 32,
    "start_time": "2024-09-20T14:02:08.163Z"
   },
   {
    "duration": 72,
    "start_time": "2024-09-20T14:02:08.197Z"
   },
   {
    "duration": 0,
    "start_time": "2024-09-20T14:02:08.270Z"
   },
   {
    "duration": 0,
    "start_time": "2024-09-20T14:02:08.272Z"
   },
   {
    "duration": 0,
    "start_time": "2024-09-20T14:02:08.273Z"
   },
   {
    "duration": 2,
    "start_time": "2024-09-20T14:10:12.657Z"
   },
   {
    "duration": 3,
    "start_time": "2024-09-20T14:11:52.511Z"
   },
   {
    "duration": 3,
    "start_time": "2024-09-20T14:13:54.819Z"
   },
   {
    "duration": 3,
    "start_time": "2024-09-20T14:14:03.365Z"
   },
   {
    "duration": 3,
    "start_time": "2024-09-20T14:14:04.036Z"
   },
   {
    "duration": 1681,
    "start_time": "2024-09-20T14:22:52.228Z"
   },
   {
    "duration": 3,
    "start_time": "2024-09-20T14:22:55.762Z"
   },
   {
    "duration": 400,
    "start_time": "2024-09-20T14:22:56.744Z"
   },
   {
    "duration": 4,
    "start_time": "2024-09-20T14:22:59.279Z"
   },
   {
    "duration": 3,
    "start_time": "2024-09-20T14:22:59.753Z"
   },
   {
    "duration": 3,
    "start_time": "2024-09-20T14:23:01.733Z"
   },
   {
    "duration": 3806,
    "start_time": "2024-09-20T14:23:02.862Z"
   },
   {
    "duration": 8,
    "start_time": "2024-09-20T14:23:19.573Z"
   },
   {
    "duration": 3,
    "start_time": "2024-09-20T14:23:20.652Z"
   },
   {
    "duration": 2377,
    "start_time": "2024-09-20T14:23:21.782Z"
   },
   {
    "duration": 88325,
    "start_time": "2024-09-20T14:23:24.727Z"
   },
   {
    "duration": 22,
    "start_time": "2024-09-20T14:26:14.106Z"
   },
   {
    "duration": 8,
    "start_time": "2024-09-20T14:26:14.695Z"
   },
   {
    "duration": 148,
    "start_time": "2024-09-20T14:26:15.252Z"
   },
   {
    "duration": 27,
    "start_time": "2024-09-20T14:26:16.986Z"
   },
   {
    "duration": 68,
    "start_time": "2024-09-20T14:26:18.377Z"
   },
   {
    "duration": 1647,
    "start_time": "2024-09-20T14:26:21.241Z"
   },
   {
    "duration": 535,
    "start_time": "2024-09-20T14:26:24.596Z"
   },
   {
    "duration": 4,
    "start_time": "2024-09-20T14:26:25.643Z"
   },
   {
    "duration": 7105,
    "start_time": "2024-09-20T14:26:26.641Z"
   },
   {
    "duration": 2306,
    "start_time": "2024-09-20T14:26:34.415Z"
   },
   {
    "duration": 4,
    "start_time": "2024-09-20T14:26:37.360Z"
   },
   {
    "duration": 2,
    "start_time": "2024-09-20T14:26:46.671Z"
   },
   {
    "duration": 2550,
    "start_time": "2024-09-20T14:48:31.698Z"
   },
   {
    "duration": 3,
    "start_time": "2024-09-20T14:48:34.250Z"
   },
   {
    "duration": 608,
    "start_time": "2024-09-20T14:48:34.255Z"
   },
   {
    "duration": 4,
    "start_time": "2024-09-20T14:48:34.865Z"
   },
   {
    "duration": 29,
    "start_time": "2024-09-20T14:48:34.871Z"
   },
   {
    "duration": 10,
    "start_time": "2024-09-20T14:48:34.902Z"
   },
   {
    "duration": 3757,
    "start_time": "2024-09-20T14:48:34.914Z"
   },
   {
    "duration": 9,
    "start_time": "2024-09-20T14:48:38.672Z"
   },
   {
    "duration": 3,
    "start_time": "2024-09-20T14:48:38.682Z"
   },
   {
    "duration": 2214,
    "start_time": "2024-09-20T14:48:38.687Z"
   },
   {
    "duration": 88315,
    "start_time": "2024-09-20T14:48:40.903Z"
   },
   {
    "duration": 23,
    "start_time": "2024-09-20T14:50:09.219Z"
   },
   {
    "duration": 22,
    "start_time": "2024-09-20T14:50:09.252Z"
   },
   {
    "duration": 159,
    "start_time": "2024-09-20T14:50:09.277Z"
   },
   {
    "duration": 35,
    "start_time": "2024-09-20T14:50:09.438Z"
   },
   {
    "duration": 67,
    "start_time": "2024-09-20T14:50:09.475Z"
   },
   {
    "duration": 1660,
    "start_time": "2024-09-20T14:50:09.543Z"
   },
   {
    "duration": 570,
    "start_time": "2024-09-20T14:50:11.205Z"
   },
   {
    "duration": 5,
    "start_time": "2024-09-20T14:50:11.777Z"
   },
   {
    "duration": 7209,
    "start_time": "2024-09-20T14:50:11.783Z"
   },
   {
    "duration": 2268,
    "start_time": "2024-09-20T14:50:18.993Z"
   },
   {
    "duration": 3,
    "start_time": "2024-09-20T14:50:21.263Z"
   },
   {
    "duration": 179,
    "start_time": "2024-09-20T14:50:21.268Z"
   },
   {
    "duration": 0,
    "start_time": "2024-09-20T14:50:21.449Z"
   },
   {
    "duration": 0,
    "start_time": "2024-09-20T14:50:21.452Z"
   },
   {
    "duration": 0,
    "start_time": "2024-09-20T14:50:21.453Z"
   },
   {
    "duration": 0,
    "start_time": "2024-09-20T14:50:21.454Z"
   },
   {
    "duration": 0,
    "start_time": "2024-09-20T14:50:21.455Z"
   },
   {
    "duration": 0,
    "start_time": "2024-09-20T14:50:21.456Z"
   },
   {
    "duration": 0,
    "start_time": "2024-09-20T14:50:21.457Z"
   },
   {
    "duration": 0,
    "start_time": "2024-09-20T14:50:21.458Z"
   },
   {
    "duration": 0,
    "start_time": "2024-09-20T14:50:21.459Z"
   },
   {
    "duration": 0,
    "start_time": "2024-09-20T14:50:21.460Z"
   },
   {
    "duration": 0,
    "start_time": "2024-09-20T14:50:21.461Z"
   },
   {
    "duration": 0,
    "start_time": "2024-09-20T14:50:21.462Z"
   },
   {
    "duration": 0,
    "start_time": "2024-09-20T14:50:21.463Z"
   },
   {
    "duration": 0,
    "start_time": "2024-09-20T14:50:21.464Z"
   },
   {
    "duration": 0,
    "start_time": "2024-09-20T14:50:21.465Z"
   },
   {
    "duration": 0,
    "start_time": "2024-09-20T14:50:21.466Z"
   },
   {
    "duration": 0,
    "start_time": "2024-09-20T14:50:21.467Z"
   },
   {
    "duration": 0,
    "start_time": "2024-09-20T14:50:21.468Z"
   },
   {
    "duration": 0,
    "start_time": "2024-09-20T14:50:21.469Z"
   },
   {
    "duration": 0,
    "start_time": "2024-09-20T14:50:21.470Z"
   },
   {
    "duration": 0,
    "start_time": "2024-09-20T14:50:21.471Z"
   },
   {
    "duration": 0,
    "start_time": "2024-09-20T14:50:21.472Z"
   },
   {
    "duration": 0,
    "start_time": "2024-09-20T14:50:21.473Z"
   },
   {
    "duration": 2494,
    "start_time": "2024-09-20T14:53:33.128Z"
   },
   {
    "duration": 3,
    "start_time": "2024-09-20T14:53:35.624Z"
   },
   {
    "duration": 274,
    "start_time": "2024-09-20T14:53:35.628Z"
   },
   {
    "duration": 4,
    "start_time": "2024-09-20T14:53:35.904Z"
   },
   {
    "duration": 10,
    "start_time": "2024-09-20T14:53:35.910Z"
   },
   {
    "duration": 20,
    "start_time": "2024-09-20T14:53:35.922Z"
   },
   {
    "duration": 910,
    "start_time": "2024-09-20T14:53:35.944Z"
   },
   {
    "duration": 8,
    "start_time": "2024-09-20T14:53:36.856Z"
   },
   {
    "duration": 16,
    "start_time": "2024-09-20T14:53:36.865Z"
   },
   {
    "duration": 2201,
    "start_time": "2024-09-20T14:53:36.883Z"
   },
   {
    "duration": 88470,
    "start_time": "2024-09-20T14:53:39.086Z"
   },
   {
    "duration": 23,
    "start_time": "2024-09-20T14:55:07.558Z"
   },
   {
    "duration": 17,
    "start_time": "2024-09-20T14:55:07.583Z"
   },
   {
    "duration": 165,
    "start_time": "2024-09-20T14:55:07.603Z"
   },
   {
    "duration": 36,
    "start_time": "2024-09-20T14:55:07.769Z"
   },
   {
    "duration": 68,
    "start_time": "2024-09-20T14:55:07.807Z"
   },
   {
    "duration": 1624,
    "start_time": "2024-09-20T14:55:07.877Z"
   },
   {
    "duration": 541,
    "start_time": "2024-09-20T14:55:09.503Z"
   },
   {
    "duration": 76,
    "start_time": "2024-09-20T14:55:10.045Z"
   },
   {
    "duration": 7200,
    "start_time": "2024-09-20T14:55:10.123Z"
   },
   {
    "duration": 2249,
    "start_time": "2024-09-20T14:55:17.324Z"
   },
   {
    "duration": 3,
    "start_time": "2024-09-20T14:55:19.575Z"
   },
   {
    "duration": 4,
    "start_time": "2024-09-20T14:55:19.580Z"
   },
   {
    "duration": 44370,
    "start_time": "2024-09-20T14:55:19.585Z"
   },
   {
    "duration": 247,
    "start_time": "2024-09-20T14:56:03.963Z"
   },
   {
    "duration": 1,
    "start_time": "2024-09-20T14:56:04.211Z"
   },
   {
    "duration": 1,
    "start_time": "2024-09-20T14:56:04.212Z"
   },
   {
    "duration": 0,
    "start_time": "2024-09-20T14:56:04.213Z"
   },
   {
    "duration": 0,
    "start_time": "2024-09-20T14:56:04.215Z"
   },
   {
    "duration": 0,
    "start_time": "2024-09-20T14:56:04.216Z"
   },
   {
    "duration": 0,
    "start_time": "2024-09-20T14:56:04.217Z"
   },
   {
    "duration": 0,
    "start_time": "2024-09-20T14:56:04.218Z"
   },
   {
    "duration": 0,
    "start_time": "2024-09-20T14:56:04.219Z"
   },
   {
    "duration": 0,
    "start_time": "2024-09-20T14:56:04.220Z"
   },
   {
    "duration": 0,
    "start_time": "2024-09-20T14:56:04.221Z"
   },
   {
    "duration": 0,
    "start_time": "2024-09-20T14:56:04.222Z"
   },
   {
    "duration": 0,
    "start_time": "2024-09-20T14:56:04.223Z"
   },
   {
    "duration": 0,
    "start_time": "2024-09-20T14:56:04.224Z"
   },
   {
    "duration": 0,
    "start_time": "2024-09-20T14:56:04.252Z"
   },
   {
    "duration": 0,
    "start_time": "2024-09-20T14:56:04.253Z"
   },
   {
    "duration": 0,
    "start_time": "2024-09-20T14:56:04.254Z"
   },
   {
    "duration": 0,
    "start_time": "2024-09-20T14:56:04.255Z"
   },
   {
    "duration": 0,
    "start_time": "2024-09-20T14:56:04.256Z"
   },
   {
    "duration": 0,
    "start_time": "2024-09-20T14:56:04.257Z"
   },
   {
    "duration": 0,
    "start_time": "2024-09-20T14:56:04.258Z"
   },
   {
    "duration": 0,
    "start_time": "2024-09-20T14:56:04.260Z"
   },
   {
    "duration": 2397,
    "start_time": "2024-09-20T14:56:40.193Z"
   },
   {
    "duration": 3,
    "start_time": "2024-09-20T14:56:42.592Z"
   },
   {
    "duration": 317,
    "start_time": "2024-09-20T14:56:42.596Z"
   },
   {
    "duration": 4,
    "start_time": "2024-09-20T14:56:42.914Z"
   },
   {
    "duration": 4,
    "start_time": "2024-09-20T14:56:42.920Z"
   },
   {
    "duration": 6,
    "start_time": "2024-09-20T14:56:42.926Z"
   },
   {
    "duration": 893,
    "start_time": "2024-09-20T14:56:42.934Z"
   },
   {
    "duration": 8,
    "start_time": "2024-09-20T14:56:43.829Z"
   },
   {
    "duration": 31,
    "start_time": "2024-09-20T14:56:43.838Z"
   },
   {
    "duration": 2135,
    "start_time": "2024-09-20T14:56:43.871Z"
   },
   {
    "duration": 86774,
    "start_time": "2024-09-20T14:56:46.007Z"
   },
   {
    "duration": 21,
    "start_time": "2024-09-20T14:58:12.783Z"
   },
   {
    "duration": 10,
    "start_time": "2024-09-20T14:58:12.806Z"
   },
   {
    "duration": 158,
    "start_time": "2024-09-20T14:58:12.818Z"
   },
   {
    "duration": 32,
    "start_time": "2024-09-20T14:58:12.977Z"
   },
   {
    "duration": 82,
    "start_time": "2024-09-20T14:58:13.011Z"
   },
   {
    "duration": 1663,
    "start_time": "2024-09-20T14:58:13.095Z"
   },
   {
    "duration": 550,
    "start_time": "2024-09-20T14:58:14.761Z"
   },
   {
    "duration": 20,
    "start_time": "2024-09-20T14:58:15.313Z"
   },
   {
    "duration": 7086,
    "start_time": "2024-09-20T14:58:15.334Z"
   },
   {
    "duration": 2236,
    "start_time": "2024-09-20T14:58:22.421Z"
   },
   {
    "duration": 3,
    "start_time": "2024-09-20T14:58:24.659Z"
   },
   {
    "duration": 32,
    "start_time": "2024-09-20T14:58:24.664Z"
   },
   {
    "duration": 44356,
    "start_time": "2024-09-20T14:58:24.698Z"
   },
   {
    "duration": 199508,
    "start_time": "2024-09-20T14:59:09.056Z"
   },
   {
    "duration": 91,
    "start_time": "2024-09-20T15:02:28.565Z"
   },
   {
    "duration": 21,
    "start_time": "2024-09-20T15:02:28.658Z"
   },
   {
    "duration": 170,
    "start_time": "2024-09-20T15:02:28.681Z"
   },
   {
    "duration": 0,
    "start_time": "2024-09-20T15:02:28.852Z"
   },
   {
    "duration": 0,
    "start_time": "2024-09-20T15:02:28.854Z"
   },
   {
    "duration": 0,
    "start_time": "2024-09-20T15:02:28.855Z"
   },
   {
    "duration": 0,
    "start_time": "2024-09-20T15:02:28.856Z"
   },
   {
    "duration": 0,
    "start_time": "2024-09-20T15:02:28.857Z"
   },
   {
    "duration": 0,
    "start_time": "2024-09-20T15:02:28.857Z"
   },
   {
    "duration": 0,
    "start_time": "2024-09-20T15:02:28.858Z"
   },
   {
    "duration": 0,
    "start_time": "2024-09-20T15:02:28.859Z"
   },
   {
    "duration": 0,
    "start_time": "2024-09-20T15:02:28.860Z"
   },
   {
    "duration": 0,
    "start_time": "2024-09-20T15:02:28.861Z"
   },
   {
    "duration": 0,
    "start_time": "2024-09-20T15:02:28.862Z"
   },
   {
    "duration": 0,
    "start_time": "2024-09-20T15:02:28.863Z"
   },
   {
    "duration": 0,
    "start_time": "2024-09-20T15:02:28.864Z"
   },
   {
    "duration": 0,
    "start_time": "2024-09-20T15:02:28.864Z"
   },
   {
    "duration": 0,
    "start_time": "2024-09-20T15:02:28.865Z"
   },
   {
    "duration": 0,
    "start_time": "2024-09-20T15:02:28.866Z"
   },
   {
    "duration": 0,
    "start_time": "2024-09-20T15:02:28.867Z"
   },
   {
    "duration": 0,
    "start_time": "2024-09-20T15:02:28.868Z"
   },
   {
    "duration": 2391,
    "start_time": "2024-09-20T15:02:56.346Z"
   },
   {
    "duration": 3,
    "start_time": "2024-09-20T15:02:58.739Z"
   },
   {
    "duration": 321,
    "start_time": "2024-09-20T15:02:58.743Z"
   },
   {
    "duration": 5,
    "start_time": "2024-09-20T15:02:59.066Z"
   },
   {
    "duration": 23,
    "start_time": "2024-09-20T15:02:59.074Z"
   },
   {
    "duration": 18,
    "start_time": "2024-09-20T15:02:59.099Z"
   },
   {
    "duration": 917,
    "start_time": "2024-09-20T15:02:59.119Z"
   },
   {
    "duration": 19,
    "start_time": "2024-09-20T15:03:00.038Z"
   },
   {
    "duration": 79,
    "start_time": "2024-09-20T15:03:00.058Z"
   },
   {
    "duration": 2247,
    "start_time": "2024-09-20T15:03:00.139Z"
   },
   {
    "duration": 88446,
    "start_time": "2024-09-20T15:03:02.388Z"
   },
   {
    "duration": 27,
    "start_time": "2024-09-20T15:04:30.836Z"
   },
   {
    "duration": 15,
    "start_time": "2024-09-20T15:04:30.865Z"
   },
   {
    "duration": 163,
    "start_time": "2024-09-20T15:04:30.883Z"
   },
   {
    "duration": 34,
    "start_time": "2024-09-20T15:04:31.053Z"
   },
   {
    "duration": 78,
    "start_time": "2024-09-20T15:04:31.089Z"
   },
   {
    "duration": 1733,
    "start_time": "2024-09-20T15:04:31.169Z"
   },
   {
    "duration": 562,
    "start_time": "2024-09-20T15:04:32.904Z"
   },
   {
    "duration": 12,
    "start_time": "2024-09-20T15:04:33.468Z"
   },
   {
    "duration": 7219,
    "start_time": "2024-09-20T15:04:33.481Z"
   },
   {
    "duration": 2240,
    "start_time": "2024-09-20T15:04:40.702Z"
   },
   {
    "duration": 9,
    "start_time": "2024-09-20T15:04:42.943Z"
   },
   {
    "duration": 2,
    "start_time": "2024-09-20T15:04:42.954Z"
   },
   {
    "duration": 44994,
    "start_time": "2024-09-20T15:04:42.958Z"
   },
   {
    "duration": 197106,
    "start_time": "2024-09-20T15:05:27.954Z"
   },
   {
    "duration": 96,
    "start_time": "2024-09-20T15:08:45.062Z"
   },
   {
    "duration": 34,
    "start_time": "2024-09-20T15:08:45.160Z"
   },
   {
    "duration": 2,
    "start_time": "2024-09-20T15:08:45.196Z"
   },
   {
    "duration": 24,
    "start_time": "2024-09-20T15:08:45.200Z"
   },
   {
    "duration": 2522,
    "start_time": "2024-09-20T15:10:21.744Z"
   },
   {
    "duration": 2,
    "start_time": "2024-09-20T15:10:24.268Z"
   },
   {
    "duration": 489,
    "start_time": "2024-09-20T15:10:24.271Z"
   },
   {
    "duration": 4,
    "start_time": "2024-09-20T15:10:24.761Z"
   },
   {
    "duration": 10,
    "start_time": "2024-09-20T15:10:24.767Z"
   },
   {
    "duration": 17,
    "start_time": "2024-09-20T15:10:24.778Z"
   },
   {
    "duration": 3755,
    "start_time": "2024-09-20T15:10:24.796Z"
   },
   {
    "duration": 9,
    "start_time": "2024-09-20T15:10:28.552Z"
   },
   {
    "duration": 9,
    "start_time": "2024-09-20T15:10:28.563Z"
   },
   {
    "duration": 2185,
    "start_time": "2024-09-20T15:10:28.574Z"
   },
   {
    "duration": 88391,
    "start_time": "2024-09-20T15:10:30.761Z"
   },
   {
    "duration": 22,
    "start_time": "2024-09-20T15:11:59.153Z"
   },
   {
    "duration": 15,
    "start_time": "2024-09-20T15:11:59.177Z"
   },
   {
    "duration": 163,
    "start_time": "2024-09-20T15:11:59.195Z"
   },
   {
    "duration": 71,
    "start_time": "2024-09-20T15:11:59.360Z"
   },
   {
    "duration": 69,
    "start_time": "2024-09-20T15:11:59.433Z"
   },
   {
    "duration": 1679,
    "start_time": "2024-09-20T15:11:59.503Z"
   },
   {
    "duration": 546,
    "start_time": "2024-09-20T15:12:01.184Z"
   },
   {
    "duration": 17,
    "start_time": "2024-09-20T15:12:01.732Z"
   },
   {
    "duration": 7234,
    "start_time": "2024-09-20T15:12:01.751Z"
   },
   {
    "duration": 2262,
    "start_time": "2024-09-20T15:12:08.986Z"
   },
   {
    "duration": 3,
    "start_time": "2024-09-20T15:12:11.252Z"
   },
   {
    "duration": 14,
    "start_time": "2024-09-20T15:12:11.257Z"
   },
   {
    "duration": 43382,
    "start_time": "2024-09-20T15:12:11.272Z"
   },
   {
    "duration": 198902,
    "start_time": "2024-09-20T15:12:54.656Z"
   },
   {
    "duration": 96,
    "start_time": "2024-09-20T15:16:13.561Z"
   },
   {
    "duration": 16,
    "start_time": "2024-09-20T15:16:13.658Z"
   },
   {
    "duration": 2,
    "start_time": "2024-09-20T15:16:13.676Z"
   },
   {
    "duration": 3,
    "start_time": "2024-09-20T15:16:13.679Z"
   },
   {
    "duration": 2591,
    "start_time": "2024-09-20T15:17:30.741Z"
   },
   {
    "duration": 3,
    "start_time": "2024-09-20T15:17:33.334Z"
   },
   {
    "duration": 589,
    "start_time": "2024-09-20T15:17:33.338Z"
   },
   {
    "duration": 5,
    "start_time": "2024-09-20T15:17:33.929Z"
   },
   {
    "duration": 12,
    "start_time": "2024-09-20T15:17:33.937Z"
   },
   {
    "duration": 13,
    "start_time": "2024-09-20T15:17:33.952Z"
   },
   {
    "duration": 3739,
    "start_time": "2024-09-20T15:17:33.967Z"
   },
   {
    "duration": 8,
    "start_time": "2024-09-20T15:17:37.708Z"
   },
   {
    "duration": 15,
    "start_time": "2024-09-20T15:17:37.717Z"
   },
   {
    "duration": 2189,
    "start_time": "2024-09-20T15:17:37.733Z"
   },
   {
    "duration": 87789,
    "start_time": "2024-09-20T15:17:39.923Z"
   },
   {
    "duration": 23,
    "start_time": "2024-09-20T15:19:07.714Z"
   },
   {
    "duration": 16,
    "start_time": "2024-09-20T15:19:07.738Z"
   },
   {
    "duration": 165,
    "start_time": "2024-09-20T15:19:07.757Z"
   },
   {
    "duration": 38,
    "start_time": "2024-09-20T15:19:07.923Z"
   },
   {
    "duration": 71,
    "start_time": "2024-09-20T15:19:07.963Z"
   },
   {
    "duration": 1676,
    "start_time": "2024-09-20T15:19:08.036Z"
   },
   {
    "duration": 554,
    "start_time": "2024-09-20T15:19:09.714Z"
   },
   {
    "duration": 11,
    "start_time": "2024-09-20T15:19:10.270Z"
   },
   {
    "duration": 7350,
    "start_time": "2024-09-20T15:19:10.282Z"
   },
   {
    "duration": 2234,
    "start_time": "2024-09-20T15:19:17.633Z"
   },
   {
    "duration": 3,
    "start_time": "2024-09-20T15:19:19.869Z"
   },
   {
    "duration": 14,
    "start_time": "2024-09-20T15:19:19.874Z"
   },
   {
    "duration": 44665,
    "start_time": "2024-09-20T15:19:19.889Z"
   },
   {
    "duration": 198997,
    "start_time": "2024-09-20T15:20:04.557Z"
   },
   {
    "duration": 6,
    "start_time": "2024-09-20T15:23:23.556Z"
   },
   {
    "duration": 22,
    "start_time": "2024-09-20T15:23:23.565Z"
   },
   {
    "duration": 2,
    "start_time": "2024-09-20T15:23:23.589Z"
   },
   {
    "duration": 4,
    "start_time": "2024-09-20T15:23:23.592Z"
   },
   {
    "duration": 3,
    "start_time": "2024-09-20T15:23:23.598Z"
   },
   {
    "duration": 4,
    "start_time": "2024-09-20T15:23:23.602Z"
   },
   {
    "duration": 4,
    "start_time": "2024-09-20T15:23:23.607Z"
   },
   {
    "duration": 4,
    "start_time": "2024-09-20T15:23:23.612Z"
   },
   {
    "duration": 16,
    "start_time": "2024-09-20T15:23:23.617Z"
   },
   {
    "duration": 18,
    "start_time": "2024-09-20T15:23:23.634Z"
   },
   {
    "duration": 333193,
    "start_time": "2024-09-20T15:23:23.653Z"
   },
   {
    "duration": 1340139,
    "start_time": "2024-09-20T15:28:56.851Z"
   },
   {
    "duration": 131,
    "start_time": "2024-09-20T15:51:16.992Z"
   },
   {
    "duration": 16,
    "start_time": "2024-09-20T15:51:17.124Z"
   },
   {
    "duration": 11,
    "start_time": "2024-09-20T15:51:17.141Z"
   },
   {
    "duration": 3,
    "start_time": "2024-09-20T15:51:17.156Z"
   },
   {
    "duration": 28,
    "start_time": "2024-09-20T15:51:17.160Z"
   },
   {
    "duration": 2516,
    "start_time": "2024-09-20T15:52:47.156Z"
   },
   {
    "duration": 3,
    "start_time": "2024-09-20T15:52:51.753Z"
   },
   {
    "duration": 376,
    "start_time": "2024-09-20T15:52:52.457Z"
   },
   {
    "duration": 4,
    "start_time": "2024-09-20T15:52:54.192Z"
   },
   {
    "duration": 3,
    "start_time": "2024-09-20T15:52:54.733Z"
   },
   {
    "duration": 3,
    "start_time": "2024-09-20T15:52:56.630Z"
   },
   {
    "duration": 3783,
    "start_time": "2024-09-20T15:52:57.759Z"
   },
   {
    "duration": 8,
    "start_time": "2024-09-20T15:53:04.044Z"
   },
   {
    "duration": 3,
    "start_time": "2024-09-20T15:53:05.090Z"
   },
   {
    "duration": 2287,
    "start_time": "2024-09-20T15:53:06.153Z"
   },
   {
    "duration": 88293,
    "start_time": "2024-09-20T15:53:09.293Z"
   },
   {
    "duration": 22,
    "start_time": "2024-09-20T15:54:52.158Z"
   },
   {
    "duration": 7,
    "start_time": "2024-09-20T15:54:52.829Z"
   },
   {
    "duration": 162,
    "start_time": "2024-09-20T15:54:53.450Z"
   },
   {
    "duration": 28,
    "start_time": "2024-09-20T15:54:57.106Z"
   },
   {
    "duration": 68,
    "start_time": "2024-09-20T15:54:57.753Z"
   },
   {
    "duration": 1710,
    "start_time": "2024-09-20T15:54:58.883Z"
   },
   {
    "duration": 560,
    "start_time": "2024-09-20T15:55:01.092Z"
   },
   {
    "duration": 3,
    "start_time": "2024-09-20T15:55:03.218Z"
   },
   {
    "duration": 7395,
    "start_time": "2024-09-20T15:55:04.429Z"
   },
   {
    "duration": 2345,
    "start_time": "2024-09-20T15:55:14.052Z"
   },
   {
    "duration": 4,
    "start_time": "2024-09-20T15:55:17.455Z"
   },
   {
    "duration": 3,
    "start_time": "2024-09-20T15:56:24.812Z"
   },
   {
    "duration": 3021860,
    "start_time": "2024-09-20T15:56:26.939Z"
   },
   {
    "duration": 11472045,
    "start_time": "2024-09-20T16:48:02.592Z"
   },
   {
    "duration": 306248,
    "start_time": "2024-09-20T19:59:35.401Z"
   },
   {
    "duration": 16,
    "start_time": "2024-09-20T20:05:00.361Z"
   },
   {
    "duration": 2792,
    "start_time": "2024-09-23T14:40:39.712Z"
   },
   {
    "duration": 3,
    "start_time": "2024-09-23T14:40:47.744Z"
   },
   {
    "duration": 903,
    "start_time": "2024-09-23T14:40:50.000Z"
   },
   {
    "duration": 4,
    "start_time": "2024-09-23T14:40:55.334Z"
   },
   {
    "duration": 3,
    "start_time": "2024-09-23T14:40:55.825Z"
   },
   {
    "duration": 2,
    "start_time": "2024-09-23T14:40:56.970Z"
   },
   {
    "duration": 1324,
    "start_time": "2024-09-23T14:41:00.666Z"
   },
   {
    "duration": 9,
    "start_time": "2024-09-23T14:41:04.983Z"
   },
   {
    "duration": 4,
    "start_time": "2024-09-23T14:41:06.699Z"
   },
   {
    "duration": 2846,
    "start_time": "2024-09-23T14:41:07.911Z"
   },
   {
    "duration": 98567,
    "start_time": "2024-09-23T14:41:14.158Z"
   },
   {
    "duration": 28,
    "start_time": "2024-09-23T14:43:08.217Z"
   },
   {
    "duration": 14,
    "start_time": "2024-09-23T14:43:10.112Z"
   },
   {
    "duration": 157,
    "start_time": "2024-09-23T14:43:14.119Z"
   },
   {
    "duration": 33,
    "start_time": "2024-09-23T14:43:16.132Z"
   },
   {
    "duration": 7,
    "start_time": "2024-09-23T14:43:26.913Z"
   },
   {
    "duration": 17,
    "start_time": "2024-09-23T14:43:36.136Z"
   },
   {
    "duration": 92,
    "start_time": "2024-09-23T14:43:39.424Z"
   },
   {
    "duration": 1824,
    "start_time": "2024-09-23T14:43:42.352Z"
   },
   {
    "duration": 595,
    "start_time": "2024-09-23T14:43:45.346Z"
   },
   {
    "duration": 4,
    "start_time": "2024-09-23T14:43:48.158Z"
   },
   {
    "duration": 8010,
    "start_time": "2024-09-23T14:43:51.201Z"
   },
   {
    "duration": 2561,
    "start_time": "2024-09-23T14:44:08.181Z"
   },
   {
    "duration": 4,
    "start_time": "2024-09-23T14:44:12.825Z"
   },
   {
    "duration": 2,
    "start_time": "2024-09-23T14:44:24.673Z"
   },
   {
    "duration": 3,
    "start_time": "2024-09-23T14:44:30.220Z"
   },
   {
    "duration": 1355314,
    "start_time": "2024-09-23T14:44:31.812Z"
   },
   {
    "duration": 7,
    "start_time": "2024-09-23T15:07:17.769Z"
   },
   {
    "duration": 16,
    "start_time": "2024-09-23T15:09:45.186Z"
   },
   {
    "duration": 4,
    "start_time": "2024-09-23T15:34:00.047Z"
   },
   {
    "duration": 2,
    "start_time": "2024-09-23T15:36:06.513Z"
   },
   {
    "duration": 7,
    "start_time": "2024-09-23T15:36:29.545Z"
   },
   {
    "duration": 3,
    "start_time": "2024-09-23T15:36:45.877Z"
   },
   {
    "duration": 15,
    "start_time": "2024-09-23T15:36:55.433Z"
   },
   {
    "duration": 3,
    "start_time": "2024-09-23T15:37:03.450Z"
   },
   {
    "duration": 7,
    "start_time": "2024-09-23T15:37:03.925Z"
   },
   {
    "duration": 3,
    "start_time": "2024-09-23T15:37:04.432Z"
   },
   {
    "duration": 15,
    "start_time": "2024-09-23T15:37:05.119Z"
   },
   {
    "duration": 3,
    "start_time": "2024-09-23T15:37:10.861Z"
   },
   {
    "duration": 10,
    "start_time": "2024-09-23T15:37:11.254Z"
   },
   {
    "duration": 3,
    "start_time": "2024-09-23T15:37:12.465Z"
   },
   {
    "duration": 16,
    "start_time": "2024-09-23T15:37:12.875Z"
   },
   {
    "duration": 2,
    "start_time": "2024-09-23T15:37:22.288Z"
   },
   {
    "duration": 9,
    "start_time": "2024-09-23T15:37:22.845Z"
   },
   {
    "duration": 4,
    "start_time": "2024-09-23T15:37:23.188Z"
   },
   {
    "duration": 16,
    "start_time": "2024-09-23T15:37:23.549Z"
   },
   {
    "duration": 18231,
    "start_time": "2024-09-23T17:10:09.803Z"
   },
   {
    "duration": 3,
    "start_time": "2024-09-23T17:10:28.036Z"
   },
   {
    "duration": 1590,
    "start_time": "2024-09-23T17:10:28.041Z"
   },
   {
    "duration": 4,
    "start_time": "2024-09-23T17:10:29.633Z"
   },
   {
    "duration": 61,
    "start_time": "2024-09-23T17:10:29.640Z"
   },
   {
    "duration": 39,
    "start_time": "2024-09-23T17:10:29.703Z"
   },
   {
    "duration": 1575,
    "start_time": "2024-09-23T17:10:29.744Z"
   },
   {
    "duration": 10,
    "start_time": "2024-09-23T17:10:31.321Z"
   },
   {
    "duration": 17,
    "start_time": "2024-09-23T17:10:31.332Z"
   },
   {
    "duration": 3158,
    "start_time": "2024-09-24T09:59:09.796Z"
   },
   {
    "duration": 3,
    "start_time": "2024-09-24T09:59:23.255Z"
   },
   {
    "duration": 1127,
    "start_time": "2024-09-24T09:59:27.182Z"
   },
   {
    "duration": 5,
    "start_time": "2024-09-24T09:59:32.615Z"
   },
   {
    "duration": 3,
    "start_time": "2024-09-24T09:59:35.296Z"
   },
   {
    "duration": 3,
    "start_time": "2024-09-24T09:59:36.064Z"
   },
   {
    "duration": 3,
    "start_time": "2024-09-24T09:59:39.892Z"
   },
   {
    "duration": 3724,
    "start_time": "2024-09-24T09:59:42.167Z"
   },
   {
    "duration": 8,
    "start_time": "2024-09-24T09:59:47.624Z"
   },
   {
    "duration": 4,
    "start_time": "2024-09-24T09:59:49.334Z"
   },
   {
    "duration": 3,
    "start_time": "2024-09-24T10:00:11.987Z"
   },
   {
    "duration": 1158284,
    "start_time": "2024-09-24T10:00:23.069Z"
   },
   {
    "duration": 7,
    "start_time": "2024-09-24T10:50:10.395Z"
   },
   {
    "duration": 38,
    "start_time": "2024-09-24T10:50:38.482Z"
   },
   {
    "duration": 7,
    "start_time": "2024-09-24T10:50:39.272Z"
   },
   {
    "duration": 3,
    "start_time": "2024-09-24T10:50:47.742Z"
   },
   {
    "duration": 33,
    "start_time": "2024-09-24T10:52:29.943Z"
   },
   {
    "duration": 69,
    "start_time": "2024-09-24T10:52:30.368Z"
   },
   {
    "duration": 3,
    "start_time": "2024-09-24T10:52:34.344Z"
   },
   {
    "duration": 3,
    "start_time": "2024-09-24T10:52:38.008Z"
   },
   {
    "duration": 3,
    "start_time": "2024-09-24T10:52:40.201Z"
   },
   {
    "duration": 7,
    "start_time": "2024-09-24T10:53:54.048Z"
   },
   {
    "duration": 4,
    "start_time": "2024-09-24T10:56:29.131Z"
   },
   {
    "duration": 8,
    "start_time": "2024-09-24T10:56:42.684Z"
   },
   {
    "duration": 3,
    "start_time": "2024-09-24T10:56:55.004Z"
   },
   {
    "duration": 153,
    "start_time": "2024-09-24T10:57:01.107Z"
   },
   {
    "duration": 10,
    "start_time": "2024-09-24T10:57:10.532Z"
   },
   {
    "duration": 5,
    "start_time": "2024-09-24T11:00:51.565Z"
   },
   {
    "duration": 2,
    "start_time": "2024-09-24T11:01:02.019Z"
   },
   {
    "duration": 3,
    "start_time": "2024-09-24T11:01:14.213Z"
   },
   {
    "duration": 211326,
    "start_time": "2024-09-24T11:02:09.539Z"
   },
   {
    "duration": 3,
    "start_time": "2024-09-24T11:07:08.295Z"
   },
   {
    "duration": 2,
    "start_time": "2024-09-24T11:07:41.206Z"
   },
   {
    "duration": 2,
    "start_time": "2024-09-24T11:08:08.760Z"
   },
   {
    "duration": 2,
    "start_time": "2024-09-24T11:08:31.220Z"
   },
   {
    "duration": 8,
    "start_time": "2024-09-24T11:11:51.462Z"
   },
   {
    "duration": 2,
    "start_time": "2024-09-24T11:11:58.495Z"
   },
   {
    "duration": 2,
    "start_time": "2024-09-24T11:12:04.158Z"
   },
   {
    "duration": 11,
    "start_time": "2024-09-24T11:12:19.418Z"
   },
   {
    "duration": 1183075,
    "start_time": "2024-09-24T11:12:27.949Z"
   },
   {
    "duration": 2,
    "start_time": "2024-09-24T11:32:11.026Z"
   },
   {
    "duration": 3,
    "start_time": "2024-09-24T11:32:26.070Z"
   },
   {
    "duration": 8,
    "start_time": "2024-09-24T11:32:39.380Z"
   },
   {
    "duration": 2,
    "start_time": "2024-09-24T11:32:41.113Z"
   },
   {
    "duration": 9359745,
    "start_time": "2024-09-24T11:32:48.487Z"
   },
   {
    "duration": 3,
    "start_time": "2024-09-24T14:10:32.363Z"
   }
  ],
  "colab": {
   "provenance": [],
   "toc_visible": true
  },
  "hide_input": false,
  "kernelspec": {
   "display_name": "Python 3 (ipykernel)",
   "language": "python",
   "name": "python3"
  },
  "language_info": {
   "codemirror_mode": {
    "name": "ipython",
    "version": 3
   },
   "file_extension": ".py",
   "mimetype": "text/x-python",
   "name": "python",
   "nbconvert_exporter": "python",
   "pygments_lexer": "ipython3",
   "version": "3.11.4"
  },
  "toc": {
   "base_numbering": 1,
   "nav_menu": {},
   "number_sections": true,
   "sideBar": true,
   "skip_h1_title": true,
   "title_cell": "Содержание",
   "title_sidebar": "Contents",
   "toc_cell": false,
   "toc_position": {
    "height": "calc(100% - 180px)",
    "left": "10px",
    "top": "150px",
    "width": "318px"
   },
   "toc_section_display": true,
   "toc_window_display": true
  },
  "varInspector": {
   "cols": {
    "lenName": 16,
    "lenType": 16,
    "lenVar": 40
   },
   "kernels_config": {
    "python": {
     "delete_cmd_postfix": "",
     "delete_cmd_prefix": "del ",
     "library": "var_list.py",
     "varRefreshCmd": "print(var_dic_list())"
    },
    "r": {
     "delete_cmd_postfix": ") ",
     "delete_cmd_prefix": "rm(",
     "library": "var_list.r",
     "varRefreshCmd": "cat(var_dic_list()) "
    }
   },
   "types_to_exclude": [
    "module",
    "function",
    "builtin_function_or_method",
    "instance",
    "_Feature"
   ],
   "window_display": false
  },
  "widgets": {
   "application/vnd.jupyter.widget-state+json": {
    "0883745110bd4cc4b0db99978286056c": {
     "model_module": "@jupyter-widgets/base",
     "model_module_version": "1.2.0",
     "model_name": "LayoutModel",
     "state": {
      "_model_module": "@jupyter-widgets/base",
      "_model_module_version": "1.2.0",
      "_model_name": "LayoutModel",
      "_view_count": null,
      "_view_module": "@jupyter-widgets/base",
      "_view_module_version": "1.2.0",
      "_view_name": "LayoutView",
      "align_content": null,
      "align_items": null,
      "align_self": null,
      "border": null,
      "bottom": null,
      "display": null,
      "flex": null,
      "flex_flow": null,
      "grid_area": null,
      "grid_auto_columns": null,
      "grid_auto_flow": null,
      "grid_auto_rows": null,
      "grid_column": null,
      "grid_gap": null,
      "grid_row": null,
      "grid_template_areas": null,
      "grid_template_columns": null,
      "grid_template_rows": null,
      "height": null,
      "justify_content": null,
      "justify_items": null,
      "left": null,
      "margin": null,
      "max_height": null,
      "max_width": null,
      "min_height": null,
      "min_width": null,
      "object_fit": null,
      "object_position": null,
      "order": null,
      "overflow": null,
      "overflow_x": null,
      "overflow_y": null,
      "padding": null,
      "right": null,
      "top": null,
      "visibility": null,
      "width": null
     }
    },
    "0a66db99fa0742ffafcff3d27944796a": {
     "model_module": "@jupyter-widgets/base",
     "model_module_version": "1.2.0",
     "model_name": "LayoutModel",
     "state": {
      "_model_module": "@jupyter-widgets/base",
      "_model_module_version": "1.2.0",
      "_model_name": "LayoutModel",
      "_view_count": null,
      "_view_module": "@jupyter-widgets/base",
      "_view_module_version": "1.2.0",
      "_view_name": "LayoutView",
      "align_content": null,
      "align_items": null,
      "align_self": null,
      "border": null,
      "bottom": null,
      "display": null,
      "flex": null,
      "flex_flow": null,
      "grid_area": null,
      "grid_auto_columns": null,
      "grid_auto_flow": null,
      "grid_auto_rows": null,
      "grid_column": null,
      "grid_gap": null,
      "grid_row": null,
      "grid_template_areas": null,
      "grid_template_columns": null,
      "grid_template_rows": null,
      "height": null,
      "justify_content": null,
      "justify_items": null,
      "left": null,
      "margin": null,
      "max_height": null,
      "max_width": null,
      "min_height": null,
      "min_width": null,
      "object_fit": null,
      "object_position": null,
      "order": null,
      "overflow": null,
      "overflow_x": null,
      "overflow_y": null,
      "padding": null,
      "right": null,
      "top": null,
      "visibility": null,
      "width": null
     }
    },
    "165454aecc91487eae12c31a8a4080df": {
     "model_module": "@jupyter-widgets/base",
     "model_module_version": "1.2.0",
     "model_name": "LayoutModel",
     "state": {
      "_model_module": "@jupyter-widgets/base",
      "_model_module_version": "1.2.0",
      "_model_name": "LayoutModel",
      "_view_count": null,
      "_view_module": "@jupyter-widgets/base",
      "_view_module_version": "1.2.0",
      "_view_name": "LayoutView",
      "align_content": null,
      "align_items": null,
      "align_self": null,
      "border": null,
      "bottom": null,
      "display": null,
      "flex": null,
      "flex_flow": null,
      "grid_area": null,
      "grid_auto_columns": null,
      "grid_auto_flow": null,
      "grid_auto_rows": null,
      "grid_column": null,
      "grid_gap": null,
      "grid_row": null,
      "grid_template_areas": null,
      "grid_template_columns": null,
      "grid_template_rows": null,
      "height": null,
      "justify_content": null,
      "justify_items": null,
      "left": null,
      "margin": null,
      "max_height": null,
      "max_width": null,
      "min_height": null,
      "min_width": null,
      "object_fit": null,
      "object_position": null,
      "order": null,
      "overflow": null,
      "overflow_x": null,
      "overflow_y": null,
      "padding": null,
      "right": null,
      "top": null,
      "visibility": null,
      "width": null
     }
    },
    "1c3930eb5a044a71b10b3d453fc37950": {
     "model_module": "@jupyter-widgets/controls",
     "model_module_version": "1.5.0",
     "model_name": "DescriptionStyleModel",
     "state": {
      "_model_module": "@jupyter-widgets/controls",
      "_model_module_version": "1.5.0",
      "_model_name": "DescriptionStyleModel",
      "_view_count": null,
      "_view_module": "@jupyter-widgets/base",
      "_view_module_version": "1.2.0",
      "_view_name": "StyleView",
      "description_width": ""
     }
    },
    "1d6b000fb6f64a86be9bfb21a2e10798": {
     "model_module": "@jupyter-widgets/controls",
     "model_module_version": "1.5.0",
     "model_name": "FloatProgressModel",
     "state": {
      "_dom_classes": [],
      "_model_module": "@jupyter-widgets/controls",
      "_model_module_version": "1.5.0",
      "_model_name": "FloatProgressModel",
      "_view_count": null,
      "_view_module": "@jupyter-widgets/controls",
      "_view_module_version": "1.5.0",
      "_view_name": "ProgressView",
      "bar_style": "success",
      "description": "",
      "description_tooltip": null,
      "layout": "IPY_MODEL_c2aed145ecb74cbeae12f731eb7ed13c",
      "max": 213450,
      "min": 0,
      "orientation": "horizontal",
      "style": "IPY_MODEL_be5bb136eeb942b3805f50d49c3a6380",
      "value": 213450
     }
    },
    "1de77160230c409c854276d67a54dbd2": {
     "model_module": "@jupyter-widgets/base",
     "model_module_version": "1.2.0",
     "model_name": "LayoutModel",
     "state": {
      "_model_module": "@jupyter-widgets/base",
      "_model_module_version": "1.2.0",
      "_model_name": "LayoutModel",
      "_view_count": null,
      "_view_module": "@jupyter-widgets/base",
      "_view_module_version": "1.2.0",
      "_view_name": "LayoutView",
      "align_content": null,
      "align_items": null,
      "align_self": null,
      "border": null,
      "bottom": null,
      "display": null,
      "flex": null,
      "flex_flow": null,
      "grid_area": null,
      "grid_auto_columns": null,
      "grid_auto_flow": null,
      "grid_auto_rows": null,
      "grid_column": null,
      "grid_gap": null,
      "grid_row": null,
      "grid_template_areas": null,
      "grid_template_columns": null,
      "grid_template_rows": null,
      "height": null,
      "justify_content": null,
      "justify_items": null,
      "left": null,
      "margin": null,
      "max_height": null,
      "max_width": null,
      "min_height": null,
      "min_width": null,
      "object_fit": null,
      "object_position": null,
      "order": null,
      "overflow": null,
      "overflow_x": null,
      "overflow_y": null,
      "padding": null,
      "right": null,
      "top": null,
      "visibility": null,
      "width": null
     }
    },
    "214e0dcc4dd84b919353b9837bbbdc8c": {
     "model_module": "@jupyter-widgets/base",
     "model_module_version": "1.2.0",
     "model_name": "LayoutModel",
     "state": {
      "_model_module": "@jupyter-widgets/base",
      "_model_module_version": "1.2.0",
      "_model_name": "LayoutModel",
      "_view_count": null,
      "_view_module": "@jupyter-widgets/base",
      "_view_module_version": "1.2.0",
      "_view_name": "LayoutView",
      "align_content": null,
      "align_items": null,
      "align_self": null,
      "border": null,
      "bottom": null,
      "display": null,
      "flex": null,
      "flex_flow": null,
      "grid_area": null,
      "grid_auto_columns": null,
      "grid_auto_flow": null,
      "grid_auto_rows": null,
      "grid_column": null,
      "grid_gap": null,
      "grid_row": null,
      "grid_template_areas": null,
      "grid_template_columns": null,
      "grid_template_rows": null,
      "height": null,
      "justify_content": null,
      "justify_items": null,
      "left": null,
      "margin": null,
      "max_height": null,
      "max_width": null,
      "min_height": null,
      "min_width": null,
      "object_fit": null,
      "object_position": null,
      "order": null,
      "overflow": null,
      "overflow_x": null,
      "overflow_y": null,
      "padding": null,
      "right": null,
      "top": null,
      "visibility": null,
      "width": null
     }
    },
    "21f7c6ca961d416bb86f802a12c3c2da": {
     "model_module": "@jupyter-widgets/base",
     "model_module_version": "1.2.0",
     "model_name": "LayoutModel",
     "state": {
      "_model_module": "@jupyter-widgets/base",
      "_model_module_version": "1.2.0",
      "_model_name": "LayoutModel",
      "_view_count": null,
      "_view_module": "@jupyter-widgets/base",
      "_view_module_version": "1.2.0",
      "_view_name": "LayoutView",
      "align_content": null,
      "align_items": null,
      "align_self": null,
      "border": null,
      "bottom": null,
      "display": null,
      "flex": null,
      "flex_flow": null,
      "grid_area": null,
      "grid_auto_columns": null,
      "grid_auto_flow": null,
      "grid_auto_rows": null,
      "grid_column": null,
      "grid_gap": null,
      "grid_row": null,
      "grid_template_areas": null,
      "grid_template_columns": null,
      "grid_template_rows": null,
      "height": null,
      "justify_content": null,
      "justify_items": null,
      "left": null,
      "margin": null,
      "max_height": null,
      "max_width": null,
      "min_height": null,
      "min_width": null,
      "object_fit": null,
      "object_position": null,
      "order": null,
      "overflow": null,
      "overflow_x": null,
      "overflow_y": null,
      "padding": null,
      "right": null,
      "top": null,
      "visibility": null,
      "width": null
     }
    },
    "2c3e9471e972460a8be4a834b0b227ac": {
     "model_module": "@jupyter-widgets/controls",
     "model_module_version": "1.5.0",
     "model_name": "DescriptionStyleModel",
     "state": {
      "_model_module": "@jupyter-widgets/controls",
      "_model_module_version": "1.5.0",
      "_model_name": "DescriptionStyleModel",
      "_view_count": null,
      "_view_module": "@jupyter-widgets/base",
      "_view_module_version": "1.2.0",
      "_view_name": "StyleView",
      "description_width": ""
     }
    },
    "2d7a8e3e2b314fa08a1ca228c8833baf": {
     "model_module": "@jupyter-widgets/base",
     "model_module_version": "1.2.0",
     "model_name": "LayoutModel",
     "state": {
      "_model_module": "@jupyter-widgets/base",
      "_model_module_version": "1.2.0",
      "_model_name": "LayoutModel",
      "_view_count": null,
      "_view_module": "@jupyter-widgets/base",
      "_view_module_version": "1.2.0",
      "_view_name": "LayoutView",
      "align_content": null,
      "align_items": null,
      "align_self": null,
      "border": null,
      "bottom": null,
      "display": null,
      "flex": null,
      "flex_flow": null,
      "grid_area": null,
      "grid_auto_columns": null,
      "grid_auto_flow": null,
      "grid_auto_rows": null,
      "grid_column": null,
      "grid_gap": null,
      "grid_row": null,
      "grid_template_areas": null,
      "grid_template_columns": null,
      "grid_template_rows": null,
      "height": null,
      "justify_content": null,
      "justify_items": null,
      "left": null,
      "margin": null,
      "max_height": null,
      "max_width": null,
      "min_height": null,
      "min_width": null,
      "object_fit": null,
      "object_position": null,
      "order": null,
      "overflow": null,
      "overflow_x": null,
      "overflow_y": null,
      "padding": null,
      "right": null,
      "top": null,
      "visibility": null,
      "width": null
     }
    },
    "3643a62423fe4c75b524ed9b4fa5dee0": {
     "model_module": "@jupyter-widgets/controls",
     "model_module_version": "1.5.0",
     "model_name": "HTMLModel",
     "state": {
      "_dom_classes": [],
      "_model_module": "@jupyter-widgets/controls",
      "_model_module_version": "1.5.0",
      "_model_name": "HTMLModel",
      "_view_count": null,
      "_view_module": "@jupyter-widgets/controls",
      "_view_module_version": "1.5.0",
      "_view_name": "HTMLView",
      "description": "",
      "description_tooltip": null,
      "layout": "IPY_MODEL_f4d8f740bc1547749a6d294ebb988359",
      "placeholder": "​",
      "style": "IPY_MODEL_a89bc13f5796493fbc425fcd91e3a8f9",
      "value": "config.json: 100%"
     }
    },
    "39ce911e5b7c4ef6b24f0b4f1e32eda8": {
     "model_module": "@jupyter-widgets/controls",
     "model_module_version": "1.5.0",
     "model_name": "HTMLModel",
     "state": {
      "_dom_classes": [],
      "_model_module": "@jupyter-widgets/controls",
      "_model_module_version": "1.5.0",
      "_model_name": "HTMLModel",
      "_view_count": null,
      "_view_module": "@jupyter-widgets/controls",
      "_view_module_version": "1.5.0",
      "_view_name": "HTMLView",
      "description": "",
      "description_tooltip": null,
      "layout": "IPY_MODEL_21f7c6ca961d416bb86f802a12c3c2da",
      "placeholder": "​",
      "style": "IPY_MODEL_1c3930eb5a044a71b10b3d453fc37950",
      "value": " 49.0/49.0 [00:00&lt;00:00, 2.70kB/s]"
     }
    },
    "3af24ba590a940f3a7744670dae61282": {
     "model_module": "@jupyter-widgets/controls",
     "model_module_version": "1.5.0",
     "model_name": "DescriptionStyleModel",
     "state": {
      "_model_module": "@jupyter-widgets/controls",
      "_model_module_version": "1.5.0",
      "_model_name": "DescriptionStyleModel",
      "_view_count": null,
      "_view_module": "@jupyter-widgets/base",
      "_view_module_version": "1.2.0",
      "_view_name": "StyleView",
      "description_width": ""
     }
    },
    "3bb7176193694ef6a06e07227d6896c0": {
     "model_module": "@jupyter-widgets/controls",
     "model_module_version": "1.5.0",
     "model_name": "HBoxModel",
     "state": {
      "_dom_classes": [],
      "_model_module": "@jupyter-widgets/controls",
      "_model_module_version": "1.5.0",
      "_model_name": "HBoxModel",
      "_view_count": null,
      "_view_module": "@jupyter-widgets/controls",
      "_view_module_version": "1.5.0",
      "_view_name": "HBoxView",
      "box_style": "",
      "children": [
       "IPY_MODEL_a1437e03af134f36b5b63885284ff3f1",
       "IPY_MODEL_c7c88424cc444b74ae4e9e27da7db882",
       "IPY_MODEL_39ce911e5b7c4ef6b24f0b4f1e32eda8"
      ],
      "layout": "IPY_MODEL_f69a869c5d2246ed94c0605ead029d3f"
     }
    },
    "403c02fef9244acab813600f0f55a1c3": {
     "model_module": "@jupyter-widgets/controls",
     "model_module_version": "1.5.0",
     "model_name": "HTMLModel",
     "state": {
      "_dom_classes": [],
      "_model_module": "@jupyter-widgets/controls",
      "_model_module_version": "1.5.0",
      "_model_name": "HTMLModel",
      "_view_count": null,
      "_view_module": "@jupyter-widgets/controls",
      "_view_module_version": "1.5.0",
      "_view_name": "HTMLView",
      "description": "",
      "description_tooltip": null,
      "layout": "IPY_MODEL_74bd8d34f54445b58332aec2fbacd346",
      "placeholder": "​",
      "style": "IPY_MODEL_c05bb4537c2147dfb10fe7f1d0e6080d",
      "value": "model.safetensors: 100%"
     }
    },
    "638d317044a04dc885cd66fd74f0fe99": {
     "model_module": "@jupyter-widgets/controls",
     "model_module_version": "1.5.0",
     "model_name": "FloatProgressModel",
     "state": {
      "_dom_classes": [],
      "_model_module": "@jupyter-widgets/controls",
      "_model_module_version": "1.5.0",
      "_model_name": "FloatProgressModel",
      "_view_count": null,
      "_view_module": "@jupyter-widgets/controls",
      "_view_module_version": "1.5.0",
      "_view_name": "ProgressView",
      "bar_style": "success",
      "description": "",
      "description_tooltip": null,
      "layout": "IPY_MODEL_931ce5d2accf4d30bd178c74a975d691",
      "max": 762,
      "min": 0,
      "orientation": "horizontal",
      "style": "IPY_MODEL_9333dd55faf2468ab39068aa1c880202",
      "value": 762
     }
    },
    "6ecf3f1a238c4804bb8706c5260e77c6": {
     "model_module": "@jupyter-widgets/controls",
     "model_module_version": "1.5.0",
     "model_name": "HTMLModel",
     "state": {
      "_dom_classes": [],
      "_model_module": "@jupyter-widgets/controls",
      "_model_module_version": "1.5.0",
      "_model_name": "HTMLModel",
      "_view_count": null,
      "_view_module": "@jupyter-widgets/controls",
      "_view_module_version": "1.5.0",
      "_view_name": "HTMLView",
      "description": "",
      "description_tooltip": null,
      "layout": "IPY_MODEL_0883745110bd4cc4b0db99978286056c",
      "placeholder": "​",
      "style": "IPY_MODEL_b2a2aba7e42a4d15bc7015a1a6eeff2b",
      "value": "tokenizer.json: 100%"
     }
    },
    "74bd8d34f54445b58332aec2fbacd346": {
     "model_module": "@jupyter-widgets/base",
     "model_module_version": "1.2.0",
     "model_name": "LayoutModel",
     "state": {
      "_model_module": "@jupyter-widgets/base",
      "_model_module_version": "1.2.0",
      "_model_name": "LayoutModel",
      "_view_count": null,
      "_view_module": "@jupyter-widgets/base",
      "_view_module_version": "1.2.0",
      "_view_name": "LayoutView",
      "align_content": null,
      "align_items": null,
      "align_self": null,
      "border": null,
      "bottom": null,
      "display": null,
      "flex": null,
      "flex_flow": null,
      "grid_area": null,
      "grid_auto_columns": null,
      "grid_auto_flow": null,
      "grid_auto_rows": null,
      "grid_column": null,
      "grid_gap": null,
      "grid_row": null,
      "grid_template_areas": null,
      "grid_template_columns": null,
      "grid_template_rows": null,
      "height": null,
      "justify_content": null,
      "justify_items": null,
      "left": null,
      "margin": null,
      "max_height": null,
      "max_width": null,
      "min_height": null,
      "min_width": null,
      "object_fit": null,
      "object_position": null,
      "order": null,
      "overflow": null,
      "overflow_x": null,
      "overflow_y": null,
      "padding": null,
      "right": null,
      "top": null,
      "visibility": null,
      "width": null
     }
    },
    "7ca583aa3af440e7890895deb01c78fe": {
     "model_module": "@jupyter-widgets/controls",
     "model_module_version": "1.5.0",
     "model_name": "ProgressStyleModel",
     "state": {
      "_model_module": "@jupyter-widgets/controls",
      "_model_module_version": "1.5.0",
      "_model_name": "ProgressStyleModel",
      "_view_count": null,
      "_view_module": "@jupyter-widgets/base",
      "_view_module_version": "1.2.0",
      "_view_name": "StyleView",
      "bar_color": null,
      "description_width": ""
     }
    },
    "7ea132213b00451cbba218fdfcd97635": {
     "model_module": "@jupyter-widgets/controls",
     "model_module_version": "1.5.0",
     "model_name": "DescriptionStyleModel",
     "state": {
      "_model_module": "@jupyter-widgets/controls",
      "_model_module_version": "1.5.0",
      "_model_name": "DescriptionStyleModel",
      "_view_count": null,
      "_view_module": "@jupyter-widgets/base",
      "_view_module_version": "1.2.0",
      "_view_name": "StyleView",
      "description_width": ""
     }
    },
    "8de1a0b7b6fe4a989ad5ab52e80f7d2b": {
     "model_module": "@jupyter-widgets/controls",
     "model_module_version": "1.5.0",
     "model_name": "DescriptionStyleModel",
     "state": {
      "_model_module": "@jupyter-widgets/controls",
      "_model_module_version": "1.5.0",
      "_model_name": "DescriptionStyleModel",
      "_view_count": null,
      "_view_module": "@jupyter-widgets/base",
      "_view_module_version": "1.2.0",
      "_view_name": "StyleView",
      "description_width": ""
     }
    },
    "8f0c034ec85f4905a7b8c71d70f5f7ee": {
     "model_module": "@jupyter-widgets/base",
     "model_module_version": "1.2.0",
     "model_name": "LayoutModel",
     "state": {
      "_model_module": "@jupyter-widgets/base",
      "_model_module_version": "1.2.0",
      "_model_name": "LayoutModel",
      "_view_count": null,
      "_view_module": "@jupyter-widgets/base",
      "_view_module_version": "1.2.0",
      "_view_name": "LayoutView",
      "align_content": null,
      "align_items": null,
      "align_self": null,
      "border": null,
      "bottom": null,
      "display": null,
      "flex": null,
      "flex_flow": null,
      "grid_area": null,
      "grid_auto_columns": null,
      "grid_auto_flow": null,
      "grid_auto_rows": null,
      "grid_column": null,
      "grid_gap": null,
      "grid_row": null,
      "grid_template_areas": null,
      "grid_template_columns": null,
      "grid_template_rows": null,
      "height": null,
      "justify_content": null,
      "justify_items": null,
      "left": null,
      "margin": null,
      "max_height": null,
      "max_width": null,
      "min_height": null,
      "min_width": null,
      "object_fit": null,
      "object_position": null,
      "order": null,
      "overflow": null,
      "overflow_x": null,
      "overflow_y": null,
      "padding": null,
      "right": null,
      "top": null,
      "visibility": null,
      "width": null
     }
    },
    "906f769daad7491da3264242c47afc31": {
     "model_module": "@jupyter-widgets/controls",
     "model_module_version": "1.5.0",
     "model_name": "HBoxModel",
     "state": {
      "_dom_classes": [],
      "_model_module": "@jupyter-widgets/controls",
      "_model_module_version": "1.5.0",
      "_model_name": "HBoxModel",
      "_view_count": null,
      "_view_module": "@jupyter-widgets/controls",
      "_view_module_version": "1.5.0",
      "_view_name": "HBoxView",
      "box_style": "",
      "children": [
       "IPY_MODEL_6ecf3f1a238c4804bb8706c5260e77c6",
       "IPY_MODEL_d187b96b3c244f869ae96dd0cb6757d3",
       "IPY_MODEL_d18dac01c6f74800af74687c177d2704"
      ],
      "layout": "IPY_MODEL_e2c6b5f4a2c147838e4b299054ca5952"
     }
    },
    "92c05ba54183458e86c11817987aa6ef": {
     "model_module": "@jupyter-widgets/controls",
     "model_module_version": "1.5.0",
     "model_name": "HTMLModel",
     "state": {
      "_dom_classes": [],
      "_model_module": "@jupyter-widgets/controls",
      "_model_module_version": "1.5.0",
      "_model_name": "HTMLModel",
      "_view_count": null,
      "_view_module": "@jupyter-widgets/controls",
      "_view_module_version": "1.5.0",
      "_view_name": "HTMLView",
      "description": "",
      "description_tooltip": null,
      "layout": "IPY_MODEL_9995db22e56d47468dd44c7a475fe140",
      "placeholder": "​",
      "style": "IPY_MODEL_ff354fb0364c40c49a59ffde47d24337",
      "value": "vocab.txt: 100%"
     }
    },
    "931ce5d2accf4d30bd178c74a975d691": {
     "model_module": "@jupyter-widgets/base",
     "model_module_version": "1.2.0",
     "model_name": "LayoutModel",
     "state": {
      "_model_module": "@jupyter-widgets/base",
      "_model_module_version": "1.2.0",
      "_model_name": "LayoutModel",
      "_view_count": null,
      "_view_module": "@jupyter-widgets/base",
      "_view_module_version": "1.2.0",
      "_view_name": "LayoutView",
      "align_content": null,
      "align_items": null,
      "align_self": null,
      "border": null,
      "bottom": null,
      "display": null,
      "flex": null,
      "flex_flow": null,
      "grid_area": null,
      "grid_auto_columns": null,
      "grid_auto_flow": null,
      "grid_auto_rows": null,
      "grid_column": null,
      "grid_gap": null,
      "grid_row": null,
      "grid_template_areas": null,
      "grid_template_columns": null,
      "grid_template_rows": null,
      "height": null,
      "justify_content": null,
      "justify_items": null,
      "left": null,
      "margin": null,
      "max_height": null,
      "max_width": null,
      "min_height": null,
      "min_width": null,
      "object_fit": null,
      "object_position": null,
      "order": null,
      "overflow": null,
      "overflow_x": null,
      "overflow_y": null,
      "padding": null,
      "right": null,
      "top": null,
      "visibility": null,
      "width": null
     }
    },
    "9333dd55faf2468ab39068aa1c880202": {
     "model_module": "@jupyter-widgets/controls",
     "model_module_version": "1.5.0",
     "model_name": "ProgressStyleModel",
     "state": {
      "_model_module": "@jupyter-widgets/controls",
      "_model_module_version": "1.5.0",
      "_model_name": "ProgressStyleModel",
      "_view_count": null,
      "_view_module": "@jupyter-widgets/base",
      "_view_module_version": "1.2.0",
      "_view_name": "StyleView",
      "bar_color": null,
      "description_width": ""
     }
    },
    "96ee141a30344071894cddb143a9aee4": {
     "model_module": "@jupyter-widgets/controls",
     "model_module_version": "1.5.0",
     "model_name": "FloatProgressModel",
     "state": {
      "_dom_classes": [],
      "_model_module": "@jupyter-widgets/controls",
      "_model_module_version": "1.5.0",
      "_model_name": "FloatProgressModel",
      "_view_count": null,
      "_view_module": "@jupyter-widgets/controls",
      "_view_module_version": "1.5.0",
      "_view_name": "ProgressView",
      "bar_style": "success",
      "description": "",
      "description_tooltip": null,
      "layout": "IPY_MODEL_0a66db99fa0742ffafcff3d27944796a",
      "max": 1338695354,
      "min": 0,
      "orientation": "horizontal",
      "style": "IPY_MODEL_7ca583aa3af440e7890895deb01c78fe",
      "value": 1338695354
     }
    },
    "9995db22e56d47468dd44c7a475fe140": {
     "model_module": "@jupyter-widgets/base",
     "model_module_version": "1.2.0",
     "model_name": "LayoutModel",
     "state": {
      "_model_module": "@jupyter-widgets/base",
      "_model_module_version": "1.2.0",
      "_model_name": "LayoutModel",
      "_view_count": null,
      "_view_module": "@jupyter-widgets/base",
      "_view_module_version": "1.2.0",
      "_view_name": "LayoutView",
      "align_content": null,
      "align_items": null,
      "align_self": null,
      "border": null,
      "bottom": null,
      "display": null,
      "flex": null,
      "flex_flow": null,
      "grid_area": null,
      "grid_auto_columns": null,
      "grid_auto_flow": null,
      "grid_auto_rows": null,
      "grid_column": null,
      "grid_gap": null,
      "grid_row": null,
      "grid_template_areas": null,
      "grid_template_columns": null,
      "grid_template_rows": null,
      "height": null,
      "justify_content": null,
      "justify_items": null,
      "left": null,
      "margin": null,
      "max_height": null,
      "max_width": null,
      "min_height": null,
      "min_width": null,
      "object_fit": null,
      "object_position": null,
      "order": null,
      "overflow": null,
      "overflow_x": null,
      "overflow_y": null,
      "padding": null,
      "right": null,
      "top": null,
      "visibility": null,
      "width": null
     }
    },
    "9b0bf39b9aa747a5a462489097b30e12": {
     "model_module": "@jupyter-widgets/base",
     "model_module_version": "1.2.0",
     "model_name": "LayoutModel",
     "state": {
      "_model_module": "@jupyter-widgets/base",
      "_model_module_version": "1.2.0",
      "_model_name": "LayoutModel",
      "_view_count": null,
      "_view_module": "@jupyter-widgets/base",
      "_view_module_version": "1.2.0",
      "_view_name": "LayoutView",
      "align_content": null,
      "align_items": null,
      "align_self": null,
      "border": null,
      "bottom": null,
      "display": null,
      "flex": null,
      "flex_flow": null,
      "grid_area": null,
      "grid_auto_columns": null,
      "grid_auto_flow": null,
      "grid_auto_rows": null,
      "grid_column": null,
      "grid_gap": null,
      "grid_row": null,
      "grid_template_areas": null,
      "grid_template_columns": null,
      "grid_template_rows": null,
      "height": null,
      "justify_content": null,
      "justify_items": null,
      "left": null,
      "margin": null,
      "max_height": null,
      "max_width": null,
      "min_height": null,
      "min_width": null,
      "object_fit": null,
      "object_position": null,
      "order": null,
      "overflow": null,
      "overflow_x": null,
      "overflow_y": null,
      "padding": null,
      "right": null,
      "top": null,
      "visibility": null,
      "width": null
     }
    },
    "9d2349a1ec7548b48f4513c64b4e9112": {
     "model_module": "@jupyter-widgets/controls",
     "model_module_version": "1.5.0",
     "model_name": "HTMLModel",
     "state": {
      "_dom_classes": [],
      "_model_module": "@jupyter-widgets/controls",
      "_model_module_version": "1.5.0",
      "_model_name": "HTMLModel",
      "_view_count": null,
      "_view_module": "@jupyter-widgets/controls",
      "_view_module_version": "1.5.0",
      "_view_name": "HTMLView",
      "description": "",
      "description_tooltip": null,
      "layout": "IPY_MODEL_2d7a8e3e2b314fa08a1ca228c8833baf",
      "placeholder": "​",
      "style": "IPY_MODEL_acd21acc585b42be82d9dd1e3ee5a24b",
      "value": " 762/762 [00:00&lt;00:00, 37.0kB/s]"
     }
    },
    "a1437e03af134f36b5b63885284ff3f1": {
     "model_module": "@jupyter-widgets/controls",
     "model_module_version": "1.5.0",
     "model_name": "HTMLModel",
     "state": {
      "_dom_classes": [],
      "_model_module": "@jupyter-widgets/controls",
      "_model_module_version": "1.5.0",
      "_model_name": "HTMLModel",
      "_view_count": null,
      "_view_module": "@jupyter-widgets/controls",
      "_view_module_version": "1.5.0",
      "_view_name": "HTMLView",
      "description": "",
      "description_tooltip": null,
      "layout": "IPY_MODEL_cc985d65fdea44dba64d4a5296b18f3d",
      "placeholder": "​",
      "style": "IPY_MODEL_2c3e9471e972460a8be4a834b0b227ac",
      "value": "tokenizer_config.json: 100%"
     }
    },
    "a66d3ff7507c4ad59351696318826571": {
     "model_module": "@jupyter-widgets/base",
     "model_module_version": "1.2.0",
     "model_name": "LayoutModel",
     "state": {
      "_model_module": "@jupyter-widgets/base",
      "_model_module_version": "1.2.0",
      "_model_name": "LayoutModel",
      "_view_count": null,
      "_view_module": "@jupyter-widgets/base",
      "_view_module_version": "1.2.0",
      "_view_name": "LayoutView",
      "align_content": null,
      "align_items": null,
      "align_self": null,
      "border": null,
      "bottom": null,
      "display": null,
      "flex": null,
      "flex_flow": null,
      "grid_area": null,
      "grid_auto_columns": null,
      "grid_auto_flow": null,
      "grid_auto_rows": null,
      "grid_column": null,
      "grid_gap": null,
      "grid_row": null,
      "grid_template_areas": null,
      "grid_template_columns": null,
      "grid_template_rows": null,
      "height": null,
      "justify_content": null,
      "justify_items": null,
      "left": null,
      "margin": null,
      "max_height": null,
      "max_width": null,
      "min_height": null,
      "min_width": null,
      "object_fit": null,
      "object_position": null,
      "order": null,
      "overflow": null,
      "overflow_x": null,
      "overflow_y": null,
      "padding": null,
      "right": null,
      "top": null,
      "visibility": null,
      "width": null
     }
    },
    "a89bc13f5796493fbc425fcd91e3a8f9": {
     "model_module": "@jupyter-widgets/controls",
     "model_module_version": "1.5.0",
     "model_name": "DescriptionStyleModel",
     "state": {
      "_model_module": "@jupyter-widgets/controls",
      "_model_module_version": "1.5.0",
      "_model_name": "DescriptionStyleModel",
      "_view_count": null,
      "_view_module": "@jupyter-widgets/base",
      "_view_module_version": "1.2.0",
      "_view_name": "StyleView",
      "description_width": ""
     }
    },
    "acd21acc585b42be82d9dd1e3ee5a24b": {
     "model_module": "@jupyter-widgets/controls",
     "model_module_version": "1.5.0",
     "model_name": "DescriptionStyleModel",
     "state": {
      "_model_module": "@jupyter-widgets/controls",
      "_model_module_version": "1.5.0",
      "_model_name": "DescriptionStyleModel",
      "_view_count": null,
      "_view_module": "@jupyter-widgets/base",
      "_view_module_version": "1.2.0",
      "_view_name": "StyleView",
      "description_width": ""
     }
    },
    "b10fef04c461498fa8d87d526997d16b": {
     "model_module": "@jupyter-widgets/controls",
     "model_module_version": "1.5.0",
     "model_name": "HBoxModel",
     "state": {
      "_dom_classes": [],
      "_model_module": "@jupyter-widgets/controls",
      "_model_module_version": "1.5.0",
      "_model_name": "HBoxModel",
      "_view_count": null,
      "_view_module": "@jupyter-widgets/controls",
      "_view_module_version": "1.5.0",
      "_view_name": "HBoxView",
      "box_style": "",
      "children": [
       "IPY_MODEL_403c02fef9244acab813600f0f55a1c3",
       "IPY_MODEL_96ee141a30344071894cddb143a9aee4",
       "IPY_MODEL_e1b35539afb540f386a8c350560cb2de"
      ],
      "layout": "IPY_MODEL_a66d3ff7507c4ad59351696318826571"
     }
    },
    "b2a2aba7e42a4d15bc7015a1a6eeff2b": {
     "model_module": "@jupyter-widgets/controls",
     "model_module_version": "1.5.0",
     "model_name": "DescriptionStyleModel",
     "state": {
      "_model_module": "@jupyter-widgets/controls",
      "_model_module_version": "1.5.0",
      "_model_name": "DescriptionStyleModel",
      "_view_count": null,
      "_view_module": "@jupyter-widgets/base",
      "_view_module_version": "1.2.0",
      "_view_name": "StyleView",
      "description_width": ""
     }
    },
    "b7cef2a0c4e14484b83790ca25814d91": {
     "model_module": "@jupyter-widgets/controls",
     "model_module_version": "1.5.0",
     "model_name": "ProgressStyleModel",
     "state": {
      "_model_module": "@jupyter-widgets/controls",
      "_model_module_version": "1.5.0",
      "_model_name": "ProgressStyleModel",
      "_view_count": null,
      "_view_module": "@jupyter-widgets/base",
      "_view_module_version": "1.2.0",
      "_view_name": "StyleView",
      "bar_color": null,
      "description_width": ""
     }
    },
    "be5bb136eeb942b3805f50d49c3a6380": {
     "model_module": "@jupyter-widgets/controls",
     "model_module_version": "1.5.0",
     "model_name": "ProgressStyleModel",
     "state": {
      "_model_module": "@jupyter-widgets/controls",
      "_model_module_version": "1.5.0",
      "_model_name": "ProgressStyleModel",
      "_view_count": null,
      "_view_module": "@jupyter-widgets/base",
      "_view_module_version": "1.2.0",
      "_view_name": "StyleView",
      "bar_color": null,
      "description_width": ""
     }
    },
    "c05bb4537c2147dfb10fe7f1d0e6080d": {
     "model_module": "@jupyter-widgets/controls",
     "model_module_version": "1.5.0",
     "model_name": "DescriptionStyleModel",
     "state": {
      "_model_module": "@jupyter-widgets/controls",
      "_model_module_version": "1.5.0",
      "_model_name": "DescriptionStyleModel",
      "_view_count": null,
      "_view_module": "@jupyter-widgets/base",
      "_view_module_version": "1.2.0",
      "_view_name": "StyleView",
      "description_width": ""
     }
    },
    "c2aed145ecb74cbeae12f731eb7ed13c": {
     "model_module": "@jupyter-widgets/base",
     "model_module_version": "1.2.0",
     "model_name": "LayoutModel",
     "state": {
      "_model_module": "@jupyter-widgets/base",
      "_model_module_version": "1.2.0",
      "_model_name": "LayoutModel",
      "_view_count": null,
      "_view_module": "@jupyter-widgets/base",
      "_view_module_version": "1.2.0",
      "_view_name": "LayoutView",
      "align_content": null,
      "align_items": null,
      "align_self": null,
      "border": null,
      "bottom": null,
      "display": null,
      "flex": null,
      "flex_flow": null,
      "grid_area": null,
      "grid_auto_columns": null,
      "grid_auto_flow": null,
      "grid_auto_rows": null,
      "grid_column": null,
      "grid_gap": null,
      "grid_row": null,
      "grid_template_areas": null,
      "grid_template_columns": null,
      "grid_template_rows": null,
      "height": null,
      "justify_content": null,
      "justify_items": null,
      "left": null,
      "margin": null,
      "max_height": null,
      "max_width": null,
      "min_height": null,
      "min_width": null,
      "object_fit": null,
      "object_position": null,
      "order": null,
      "overflow": null,
      "overflow_x": null,
      "overflow_y": null,
      "padding": null,
      "right": null,
      "top": null,
      "visibility": null,
      "width": null
     }
    },
    "c3cd2f6bf1604b008e70e355f2e4018f": {
     "model_module": "@jupyter-widgets/controls",
     "model_module_version": "1.5.0",
     "model_name": "ProgressStyleModel",
     "state": {
      "_model_module": "@jupyter-widgets/controls",
      "_model_module_version": "1.5.0",
      "_model_name": "ProgressStyleModel",
      "_view_count": null,
      "_view_module": "@jupyter-widgets/base",
      "_view_module_version": "1.2.0",
      "_view_name": "StyleView",
      "bar_color": null,
      "description_width": ""
     }
    },
    "c6041ca1b9bc4d92badfc462cc53e252": {
     "model_module": "@jupyter-widgets/controls",
     "model_module_version": "1.5.0",
     "model_name": "HBoxModel",
     "state": {
      "_dom_classes": [],
      "_model_module": "@jupyter-widgets/controls",
      "_model_module_version": "1.5.0",
      "_model_name": "HBoxModel",
      "_view_count": null,
      "_view_module": "@jupyter-widgets/controls",
      "_view_module_version": "1.5.0",
      "_view_name": "HBoxView",
      "box_style": "",
      "children": [
       "IPY_MODEL_3643a62423fe4c75b524ed9b4fa5dee0",
       "IPY_MODEL_638d317044a04dc885cd66fd74f0fe99",
       "IPY_MODEL_9d2349a1ec7548b48f4513c64b4e9112"
      ],
      "layout": "IPY_MODEL_165454aecc91487eae12c31a8a4080df"
     }
    },
    "c60a18d4615a4df699a5e1b199b2fdc2": {
     "model_module": "@jupyter-widgets/base",
     "model_module_version": "1.2.0",
     "model_name": "LayoutModel",
     "state": {
      "_model_module": "@jupyter-widgets/base",
      "_model_module_version": "1.2.0",
      "_model_name": "LayoutModel",
      "_view_count": null,
      "_view_module": "@jupyter-widgets/base",
      "_view_module_version": "1.2.0",
      "_view_name": "LayoutView",
      "align_content": null,
      "align_items": null,
      "align_self": null,
      "border": null,
      "bottom": null,
      "display": null,
      "flex": null,
      "flex_flow": null,
      "grid_area": null,
      "grid_auto_columns": null,
      "grid_auto_flow": null,
      "grid_auto_rows": null,
      "grid_column": null,
      "grid_gap": null,
      "grid_row": null,
      "grid_template_areas": null,
      "grid_template_columns": null,
      "grid_template_rows": null,
      "height": null,
      "justify_content": null,
      "justify_items": null,
      "left": null,
      "margin": null,
      "max_height": null,
      "max_width": null,
      "min_height": null,
      "min_width": null,
      "object_fit": null,
      "object_position": null,
      "order": null,
      "overflow": null,
      "overflow_x": null,
      "overflow_y": null,
      "padding": null,
      "right": null,
      "top": null,
      "visibility": null,
      "width": null
     }
    },
    "c6bf3d3924dc409c9883e4b724404bf0": {
     "model_module": "@jupyter-widgets/base",
     "model_module_version": "1.2.0",
     "model_name": "LayoutModel",
     "state": {
      "_model_module": "@jupyter-widgets/base",
      "_model_module_version": "1.2.0",
      "_model_name": "LayoutModel",
      "_view_count": null,
      "_view_module": "@jupyter-widgets/base",
      "_view_module_version": "1.2.0",
      "_view_name": "LayoutView",
      "align_content": null,
      "align_items": null,
      "align_self": null,
      "border": null,
      "bottom": null,
      "display": null,
      "flex": null,
      "flex_flow": null,
      "grid_area": null,
      "grid_auto_columns": null,
      "grid_auto_flow": null,
      "grid_auto_rows": null,
      "grid_column": null,
      "grid_gap": null,
      "grid_row": null,
      "grid_template_areas": null,
      "grid_template_columns": null,
      "grid_template_rows": null,
      "height": null,
      "justify_content": null,
      "justify_items": null,
      "left": null,
      "margin": null,
      "max_height": null,
      "max_width": null,
      "min_height": null,
      "min_width": null,
      "object_fit": null,
      "object_position": null,
      "order": null,
      "overflow": null,
      "overflow_x": null,
      "overflow_y": null,
      "padding": null,
      "right": null,
      "top": null,
      "visibility": null,
      "width": null
     }
    },
    "c7c88424cc444b74ae4e9e27da7db882": {
     "model_module": "@jupyter-widgets/controls",
     "model_module_version": "1.5.0",
     "model_name": "FloatProgressModel",
     "state": {
      "_dom_classes": [],
      "_model_module": "@jupyter-widgets/controls",
      "_model_module_version": "1.5.0",
      "_model_name": "FloatProgressModel",
      "_view_count": null,
      "_view_module": "@jupyter-widgets/controls",
      "_view_module_version": "1.5.0",
      "_view_name": "ProgressView",
      "bar_style": "success",
      "description": "",
      "description_tooltip": null,
      "layout": "IPY_MODEL_c60a18d4615a4df699a5e1b199b2fdc2",
      "max": 49,
      "min": 0,
      "orientation": "horizontal",
      "style": "IPY_MODEL_c3cd2f6bf1604b008e70e355f2e4018f",
      "value": 49
     }
    },
    "cc985d65fdea44dba64d4a5296b18f3d": {
     "model_module": "@jupyter-widgets/base",
     "model_module_version": "1.2.0",
     "model_name": "LayoutModel",
     "state": {
      "_model_module": "@jupyter-widgets/base",
      "_model_module_version": "1.2.0",
      "_model_name": "LayoutModel",
      "_view_count": null,
      "_view_module": "@jupyter-widgets/base",
      "_view_module_version": "1.2.0",
      "_view_name": "LayoutView",
      "align_content": null,
      "align_items": null,
      "align_self": null,
      "border": null,
      "bottom": null,
      "display": null,
      "flex": null,
      "flex_flow": null,
      "grid_area": null,
      "grid_auto_columns": null,
      "grid_auto_flow": null,
      "grid_auto_rows": null,
      "grid_column": null,
      "grid_gap": null,
      "grid_row": null,
      "grid_template_areas": null,
      "grid_template_columns": null,
      "grid_template_rows": null,
      "height": null,
      "justify_content": null,
      "justify_items": null,
      "left": null,
      "margin": null,
      "max_height": null,
      "max_width": null,
      "min_height": null,
      "min_width": null,
      "object_fit": null,
      "object_position": null,
      "order": null,
      "overflow": null,
      "overflow_x": null,
      "overflow_y": null,
      "padding": null,
      "right": null,
      "top": null,
      "visibility": null,
      "width": null
     }
    },
    "d187b96b3c244f869ae96dd0cb6757d3": {
     "model_module": "@jupyter-widgets/controls",
     "model_module_version": "1.5.0",
     "model_name": "FloatProgressModel",
     "state": {
      "_dom_classes": [],
      "_model_module": "@jupyter-widgets/controls",
      "_model_module_version": "1.5.0",
      "_model_name": "FloatProgressModel",
      "_view_count": null,
      "_view_module": "@jupyter-widgets/controls",
      "_view_module_version": "1.5.0",
      "_view_name": "ProgressView",
      "bar_style": "success",
      "description": "",
      "description_tooltip": null,
      "layout": "IPY_MODEL_c6bf3d3924dc409c9883e4b724404bf0",
      "max": 435797,
      "min": 0,
      "orientation": "horizontal",
      "style": "IPY_MODEL_b7cef2a0c4e14484b83790ca25814d91",
      "value": 435797
     }
    },
    "d18dac01c6f74800af74687c177d2704": {
     "model_module": "@jupyter-widgets/controls",
     "model_module_version": "1.5.0",
     "model_name": "HTMLModel",
     "state": {
      "_dom_classes": [],
      "_model_module": "@jupyter-widgets/controls",
      "_model_module_version": "1.5.0",
      "_model_name": "HTMLModel",
      "_view_count": null,
      "_view_module": "@jupyter-widgets/controls",
      "_view_module_version": "1.5.0",
      "_view_name": "HTMLView",
      "description": "",
      "description_tooltip": null,
      "layout": "IPY_MODEL_214e0dcc4dd84b919353b9837bbbdc8c",
      "placeholder": "​",
      "style": "IPY_MODEL_7ea132213b00451cbba218fdfcd97635",
      "value": " 436k/436k [00:00&lt;00:00, 3.35MB/s]"
     }
    },
    "e1b35539afb540f386a8c350560cb2de": {
     "model_module": "@jupyter-widgets/controls",
     "model_module_version": "1.5.0",
     "model_name": "HTMLModel",
     "state": {
      "_dom_classes": [],
      "_model_module": "@jupyter-widgets/controls",
      "_model_module_version": "1.5.0",
      "_model_name": "HTMLModel",
      "_view_count": null,
      "_view_module": "@jupyter-widgets/controls",
      "_view_module_version": "1.5.0",
      "_view_name": "HTMLView",
      "description": "",
      "description_tooltip": null,
      "layout": "IPY_MODEL_1de77160230c409c854276d67a54dbd2",
      "placeholder": "​",
      "style": "IPY_MODEL_3af24ba590a940f3a7744670dae61282",
      "value": " 1.34G/1.34G [00:16&lt;00:00, 110MB/s]"
     }
    },
    "e2c6b5f4a2c147838e4b299054ca5952": {
     "model_module": "@jupyter-widgets/base",
     "model_module_version": "1.2.0",
     "model_name": "LayoutModel",
     "state": {
      "_model_module": "@jupyter-widgets/base",
      "_model_module_version": "1.2.0",
      "_model_name": "LayoutModel",
      "_view_count": null,
      "_view_module": "@jupyter-widgets/base",
      "_view_module_version": "1.2.0",
      "_view_name": "LayoutView",
      "align_content": null,
      "align_items": null,
      "align_self": null,
      "border": null,
      "bottom": null,
      "display": null,
      "flex": null,
      "flex_flow": null,
      "grid_area": null,
      "grid_auto_columns": null,
      "grid_auto_flow": null,
      "grid_auto_rows": null,
      "grid_column": null,
      "grid_gap": null,
      "grid_row": null,
      "grid_template_areas": null,
      "grid_template_columns": null,
      "grid_template_rows": null,
      "height": null,
      "justify_content": null,
      "justify_items": null,
      "left": null,
      "margin": null,
      "max_height": null,
      "max_width": null,
      "min_height": null,
      "min_width": null,
      "object_fit": null,
      "object_position": null,
      "order": null,
      "overflow": null,
      "overflow_x": null,
      "overflow_y": null,
      "padding": null,
      "right": null,
      "top": null,
      "visibility": null,
      "width": null
     }
    },
    "e3788e1f62b143919f6b755eefbc5b85": {
     "model_module": "@jupyter-widgets/controls",
     "model_module_version": "1.5.0",
     "model_name": "HTMLModel",
     "state": {
      "_dom_classes": [],
      "_model_module": "@jupyter-widgets/controls",
      "_model_module_version": "1.5.0",
      "_model_name": "HTMLModel",
      "_view_count": null,
      "_view_module": "@jupyter-widgets/controls",
      "_view_module_version": "1.5.0",
      "_view_name": "HTMLView",
      "description": "",
      "description_tooltip": null,
      "layout": "IPY_MODEL_9b0bf39b9aa747a5a462489097b30e12",
      "placeholder": "​",
      "style": "IPY_MODEL_8de1a0b7b6fe4a989ad5ab52e80f7d2b",
      "value": " 213k/213k [00:00&lt;00:00, 2.70MB/s]"
     }
    },
    "e4a7f48ffc244d669d424f3ad1a6ef25": {
     "model_module": "@jupyter-widgets/controls",
     "model_module_version": "1.5.0",
     "model_name": "HBoxModel",
     "state": {
      "_dom_classes": [],
      "_model_module": "@jupyter-widgets/controls",
      "_model_module_version": "1.5.0",
      "_model_name": "HBoxModel",
      "_view_count": null,
      "_view_module": "@jupyter-widgets/controls",
      "_view_module_version": "1.5.0",
      "_view_name": "HBoxView",
      "box_style": "",
      "children": [
       "IPY_MODEL_92c05ba54183458e86c11817987aa6ef",
       "IPY_MODEL_1d6b000fb6f64a86be9bfb21a2e10798",
       "IPY_MODEL_e3788e1f62b143919f6b755eefbc5b85"
      ],
      "layout": "IPY_MODEL_8f0c034ec85f4905a7b8c71d70f5f7ee"
     }
    },
    "f4d8f740bc1547749a6d294ebb988359": {
     "model_module": "@jupyter-widgets/base",
     "model_module_version": "1.2.0",
     "model_name": "LayoutModel",
     "state": {
      "_model_module": "@jupyter-widgets/base",
      "_model_module_version": "1.2.0",
      "_model_name": "LayoutModel",
      "_view_count": null,
      "_view_module": "@jupyter-widgets/base",
      "_view_module_version": "1.2.0",
      "_view_name": "LayoutView",
      "align_content": null,
      "align_items": null,
      "align_self": null,
      "border": null,
      "bottom": null,
      "display": null,
      "flex": null,
      "flex_flow": null,
      "grid_area": null,
      "grid_auto_columns": null,
      "grid_auto_flow": null,
      "grid_auto_rows": null,
      "grid_column": null,
      "grid_gap": null,
      "grid_row": null,
      "grid_template_areas": null,
      "grid_template_columns": null,
      "grid_template_rows": null,
      "height": null,
      "justify_content": null,
      "justify_items": null,
      "left": null,
      "margin": null,
      "max_height": null,
      "max_width": null,
      "min_height": null,
      "min_width": null,
      "object_fit": null,
      "object_position": null,
      "order": null,
      "overflow": null,
      "overflow_x": null,
      "overflow_y": null,
      "padding": null,
      "right": null,
      "top": null,
      "visibility": null,
      "width": null
     }
    },
    "f69a869c5d2246ed94c0605ead029d3f": {
     "model_module": "@jupyter-widgets/base",
     "model_module_version": "1.2.0",
     "model_name": "LayoutModel",
     "state": {
      "_model_module": "@jupyter-widgets/base",
      "_model_module_version": "1.2.0",
      "_model_name": "LayoutModel",
      "_view_count": null,
      "_view_module": "@jupyter-widgets/base",
      "_view_module_version": "1.2.0",
      "_view_name": "LayoutView",
      "align_content": null,
      "align_items": null,
      "align_self": null,
      "border": null,
      "bottom": null,
      "display": null,
      "flex": null,
      "flex_flow": null,
      "grid_area": null,
      "grid_auto_columns": null,
      "grid_auto_flow": null,
      "grid_auto_rows": null,
      "grid_column": null,
      "grid_gap": null,
      "grid_row": null,
      "grid_template_areas": null,
      "grid_template_columns": null,
      "grid_template_rows": null,
      "height": null,
      "justify_content": null,
      "justify_items": null,
      "left": null,
      "margin": null,
      "max_height": null,
      "max_width": null,
      "min_height": null,
      "min_width": null,
      "object_fit": null,
      "object_position": null,
      "order": null,
      "overflow": null,
      "overflow_x": null,
      "overflow_y": null,
      "padding": null,
      "right": null,
      "top": null,
      "visibility": null,
      "width": null
     }
    },
    "ff354fb0364c40c49a59ffde47d24337": {
     "model_module": "@jupyter-widgets/controls",
     "model_module_version": "1.5.0",
     "model_name": "DescriptionStyleModel",
     "state": {
      "_model_module": "@jupyter-widgets/controls",
      "_model_module_version": "1.5.0",
      "_model_name": "DescriptionStyleModel",
      "_view_count": null,
      "_view_module": "@jupyter-widgets/base",
      "_view_module_version": "1.2.0",
      "_view_name": "StyleView",
      "description_width": ""
     }
    }
   }
  }
 },
 "nbformat": 4,
 "nbformat_minor": 1
}
