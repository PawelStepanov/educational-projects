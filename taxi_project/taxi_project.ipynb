{
 "cells": [
  {
   "cell_type": "markdown",
   "metadata": {},
   "source": [
    "#  Прогнозирование заказов такси"
   ]
  },
  {
   "cell_type": "markdown",
   "metadata": {},
   "source": [
    "Компания «Чётенькое такси» собрала исторические данные о заказах такси в аэропортах. Чтобы привлекать больше водителей в период пиковой нагрузки. \n",
    "\n",
    "**Цель** - Спрогнозировать количество заказов такси на следующий час.\n",
    "\n",
    "**Задача** - Построить модель для предсказания заказов такси на следующий час.\n",
    "\n",
    "Значение метрики **RMSE** на тестовой выборке должно быть не больше 48.\n",
    "\n",
    "Данные лежат в файле `/datasets/taxi.csv`. Количество заказов находится в столбце `num_orders`.\n",
    "\n",
    "**План исследования** \n",
    "1. Изучение данных \n",
    "2. Подготовка и предобработка данных\n",
    "3. Анализ\n",
    "4. Обучение\n",
    "5. Тестирование\n",
    "6. Вывод"
   ]
  },
  {
   "cell_type": "markdown",
   "metadata": {},
   "source": [
    "## Изучение данных\n",
    "### Импорт библиотек"
   ]
  },
  {
   "cell_type": "code",
   "execution_count": 1,
   "metadata": {},
   "outputs": [],
   "source": [
    "import os\n",
    "import warnings\n",
    "from math import sqrt\n",
    "\n",
    "import pandas as pd\n",
    "import numpy as np\n",
    "import matplotlib.pyplot as plt\n",
    "import seaborn as sns\n",
    "from statsmodels.tsa.seasonal import seasonal_decompose\n",
    "from statsmodels. tsa.stattools import adfuller\n",
    "from tqdm.notebook import tqdm\n",
    "\n",
    "from sklearn.model_selection import (\n",
    "    train_test_split, RandomizedSearchCV, TimeSeriesSplit)\n",
    "from sklearn.metrics import mean_squared_error\n",
    "from sklearn.linear_model import Ridge\n",
    "from sklearn.tree import DecisionTreeRegressor\n",
    "from sklearn.neighbors import KNeighborsRegressor\n",
    "from sklearn.exceptions import FitFailedWarning\n",
    "from lightgbm import LGBMRegressor"
   ]
  },
  {
   "cell_type": "code",
   "execution_count": 2,
   "metadata": {},
   "outputs": [],
   "source": [
    "%matplotlib inline\n",
    "warnings.simplefilter('ignore', UserWarning)\n",
    "warnings.simplefilter('ignore', FutureWarning)\n",
    "warnings.simplefilter('ignore', FitFailedWarning)\n",
    "pd.options.mode.chained_assignment = None"
   ]
  },
  {
   "cell_type": "markdown",
   "metadata": {},
   "source": [
    "### Функции"
   ]
  },
  {
   "cell_type": "code",
   "execution_count": 3,
   "metadata": {},
   "outputs": [],
   "source": [
    "def dickey_fuller(data, alpha):\n",
    "    '''\n",
    "    Функция проверяет временной ряд на стационарность\n",
    "    используя статистический тест Дики-Фуллера\n",
    "    '''\n",
    "\n",
    "    stat, p = adfuller(data)[0:2]\n",
    "\n",
    "    if p > alpha:\n",
    "        print('Не отвергаем H0. Временной ряд является нестационарным')\n",
    "    else:\n",
    "        print('Отвергаем H0 и принимаем H1. Временной ряд является стационарным')"
   ]
  },
  {
   "cell_type": "code",
   "execution_count": 4,
   "metadata": {},
   "outputs": [],
   "source": [
    "def features_add(df, max_lag, rolling_size):\n",
    "    '''\n",
    "    Функция создает 3 новых календарных признаков:день, день недели и час.\n",
    "    Создает отстающие значения. Параметр max_lag задает количество отставаний\n",
    "    и создаются столбцы от 1 до max_lag. И добавляется столбец со скользящим средним.\n",
    "    '''\n",
    "    data = df.copy()\n",
    "\n",
    "    data['day'] = data.index.day\n",
    "    data['dayofweek'] = data.index.dayofweek\n",
    "    data['hour'] = data.index.hour\n",
    "\n",
    "    for lag in range(1, max_lag+1):\n",
    "        data[f'lag_{lag}'] = data['num_orders'].shift(lag)\n",
    "\n",
    "    data['rolling_mean'] = data['num_orders'].shift().rolling(rolling_size).mean()\n",
    "\n",
    "    return data"
   ]
  },
  {
   "cell_type": "markdown",
   "metadata": {},
   "source": [
    "### Константы"
   ]
  },
  {
   "cell_type": "code",
   "execution_count": 5,
   "metadata": {},
   "outputs": [],
   "source": [
    "PTH = '/datasets/taxi.csv'\n",
    "TEST_SIZE = 0.1\n",
    "RANDOM_STATE = 42\n",
    "ALPHA = 0.01"
   ]
  },
  {
   "cell_type": "markdown",
   "metadata": {},
   "source": [
    "### Загрузка данных"
   ]
  },
  {
   "cell_type": "markdown",
   "metadata": {},
   "source": [
    "Сохраним датасет в переменную `taxi_df`"
   ]
  },
  {
   "cell_type": "code",
   "execution_count": 6,
   "metadata": {},
   "outputs": [],
   "source": [
    "if os.path.exists(PTH):\n",
    "    taxi_df = pd.read_csv(PTH, index_col=[0], parse_dates=[0])\n",
    "else:\n",
    "    print('Файл не найден')"
   ]
  },
  {
   "cell_type": "markdown",
   "metadata": {},
   "source": [
    "Посмотрим на размерность таблицы"
   ]
  },
  {
   "cell_type": "code",
   "execution_count": 7,
   "metadata": {},
   "outputs": [
    {
     "data": {
      "text/plain": [
       "(26496, 1)"
      ]
     },
     "execution_count": 7,
     "metadata": {},
     "output_type": "execute_result"
    }
   ],
   "source": [
    "taxi_df.shape  # Выводим размер таблицы"
   ]
  },
  {
   "cell_type": "markdown",
   "metadata": {},
   "source": [
    "Посмотрим на первые 5 строк, а также выведем информацию о таблице"
   ]
  },
  {
   "cell_type": "code",
   "execution_count": 8,
   "metadata": {},
   "outputs": [
    {
     "data": {
      "text/html": [
       "<div>\n",
       "<style scoped>\n",
       "    .dataframe tbody tr th:only-of-type {\n",
       "        vertical-align: middle;\n",
       "    }\n",
       "\n",
       "    .dataframe tbody tr th {\n",
       "        vertical-align: top;\n",
       "    }\n",
       "\n",
       "    .dataframe thead th {\n",
       "        text-align: right;\n",
       "    }\n",
       "</style>\n",
       "<table border=\"1\" class=\"dataframe\">\n",
       "  <thead>\n",
       "    <tr style=\"text-align: right;\">\n",
       "      <th></th>\n",
       "      <th>num_orders</th>\n",
       "    </tr>\n",
       "    <tr>\n",
       "      <th>datetime</th>\n",
       "      <th></th>\n",
       "    </tr>\n",
       "  </thead>\n",
       "  <tbody>\n",
       "    <tr>\n",
       "      <th>2018-03-01 00:00:00</th>\n",
       "      <td>9</td>\n",
       "    </tr>\n",
       "    <tr>\n",
       "      <th>2018-03-01 00:10:00</th>\n",
       "      <td>14</td>\n",
       "    </tr>\n",
       "    <tr>\n",
       "      <th>2018-03-01 00:20:00</th>\n",
       "      <td>28</td>\n",
       "    </tr>\n",
       "    <tr>\n",
       "      <th>2018-03-01 00:30:00</th>\n",
       "      <td>20</td>\n",
       "    </tr>\n",
       "    <tr>\n",
       "      <th>2018-03-01 00:40:00</th>\n",
       "      <td>32</td>\n",
       "    </tr>\n",
       "  </tbody>\n",
       "</table>\n",
       "</div>"
      ],
      "text/plain": [
       "                     num_orders\n",
       "datetime                       \n",
       "2018-03-01 00:00:00           9\n",
       "2018-03-01 00:10:00          14\n",
       "2018-03-01 00:20:00          28\n",
       "2018-03-01 00:30:00          20\n",
       "2018-03-01 00:40:00          32"
      ]
     },
     "execution_count": 8,
     "metadata": {},
     "output_type": "execute_result"
    }
   ],
   "source": [
    "taxi_df.head()  # Смотрим на первые 5 строк"
   ]
  },
  {
   "cell_type": "code",
   "execution_count": 9,
   "metadata": {},
   "outputs": [
    {
     "name": "stdout",
     "output_type": "stream",
     "text": [
      "<class 'pandas.core.frame.DataFrame'>\n",
      "DatetimeIndex: 26496 entries, 2018-03-01 00:00:00 to 2018-08-31 23:50:00\n",
      "Data columns (total 1 columns):\n",
      " #   Column      Non-Null Count  Dtype\n",
      "---  ------      --------------  -----\n",
      " 0   num_orders  26496 non-null  int64\n",
      "dtypes: int64(1)\n",
      "memory usage: 414.0 KB\n"
     ]
    }
   ],
   "source": [
    "taxi_df.info()  # Выводим информацию"
   ]
  },
  {
   "cell_type": "markdown",
   "metadata": {},
   "source": [
    "В таблице 1 столбец `int`(1), второй столбец используем в качестве индексов. Количество строк 26496."
   ]
  },
  {
   "cell_type": "markdown",
   "metadata": {},
   "source": [
    "### Вывод"
   ]
  },
  {
   "cell_type": "markdown",
   "metadata": {},
   "source": [
    "Данные, как и было сказано в документации находятся в `/datasets/taxi.csv`. У нас два столбца один используем в качестве индекса (столбец с датой) и второй столбец - наш таргет. По требованию заказчика необходимо сделать ресемплирование по одному часу. После этого изменим тип данных в столбце для экономии памяти и сделаем проверку на пропуски."
   ]
  },
  {
   "cell_type": "markdown",
   "metadata": {},
   "source": [
    "## Подготовка и предобработка данных"
   ]
  },
  {
   "cell_type": "markdown",
   "metadata": {},
   "source": [
    "Сделаем ресемплирование по одному часу."
   ]
  },
  {
   "cell_type": "code",
   "execution_count": 10,
   "metadata": {},
   "outputs": [],
   "source": [
    "# Отсортируем по индексу\n",
    "taxi_df.sort_index(inplace=True)"
   ]
  },
  {
   "cell_type": "code",
   "execution_count": 11,
   "metadata": {},
   "outputs": [],
   "source": [
    "# Делаем ресемплирование\n",
    "taxi_df = taxi_df.resample('1H').sum()"
   ]
  },
  {
   "cell_type": "code",
   "execution_count": 12,
   "metadata": {
    "scrolled": true
   },
   "outputs": [
    {
     "data": {
      "text/html": [
       "<div>\n",
       "<style scoped>\n",
       "    .dataframe tbody tr th:only-of-type {\n",
       "        vertical-align: middle;\n",
       "    }\n",
       "\n",
       "    .dataframe tbody tr th {\n",
       "        vertical-align: top;\n",
       "    }\n",
       "\n",
       "    .dataframe thead th {\n",
       "        text-align: right;\n",
       "    }\n",
       "</style>\n",
       "<table border=\"1\" class=\"dataframe\">\n",
       "  <thead>\n",
       "    <tr style=\"text-align: right;\">\n",
       "      <th></th>\n",
       "      <th>num_orders</th>\n",
       "    </tr>\n",
       "    <tr>\n",
       "      <th>datetime</th>\n",
       "      <th></th>\n",
       "    </tr>\n",
       "  </thead>\n",
       "  <tbody>\n",
       "    <tr>\n",
       "      <th>2018-03-01 00:00:00</th>\n",
       "      <td>124</td>\n",
       "    </tr>\n",
       "    <tr>\n",
       "      <th>2018-03-01 01:00:00</th>\n",
       "      <td>85</td>\n",
       "    </tr>\n",
       "    <tr>\n",
       "      <th>2018-03-01 02:00:00</th>\n",
       "      <td>71</td>\n",
       "    </tr>\n",
       "    <tr>\n",
       "      <th>2018-03-01 03:00:00</th>\n",
       "      <td>66</td>\n",
       "    </tr>\n",
       "    <tr>\n",
       "      <th>2018-03-01 04:00:00</th>\n",
       "      <td>43</td>\n",
       "    </tr>\n",
       "  </tbody>\n",
       "</table>\n",
       "</div>"
      ],
      "text/plain": [
       "                     num_orders\n",
       "datetime                       \n",
       "2018-03-01 00:00:00         124\n",
       "2018-03-01 01:00:00          85\n",
       "2018-03-01 02:00:00          71\n",
       "2018-03-01 03:00:00          66\n",
       "2018-03-01 04:00:00          43"
      ]
     },
     "execution_count": 12,
     "metadata": {},
     "output_type": "execute_result"
    }
   ],
   "source": [
    "taxi_df.head()  # Проверяем ресемплирование"
   ]
  },
  {
   "cell_type": "code",
   "execution_count": 13,
   "metadata": {},
   "outputs": [],
   "source": [
    "# Меняем типы данных\n",
    "taxi_df['num_orders'] = taxi_df['num_orders'].astype('int32')"
   ]
  },
  {
   "cell_type": "code",
   "execution_count": 14,
   "metadata": {
    "scrolled": true
   },
   "outputs": [
    {
     "data": {
      "text/plain": [
       "num_orders    0\n",
       "dtype: int64"
      ]
     },
     "execution_count": 14,
     "metadata": {},
     "output_type": "execute_result"
    }
   ],
   "source": [
    "taxi_df.isna().sum()  # Проверяем пропущенные значения"
   ]
  },
  {
   "cell_type": "markdown",
   "metadata": {},
   "source": [
    "### Вывод"
   ]
  },
  {
   "cell_type": "markdown",
   "metadata": {},
   "source": [
    "На данном этапе сделали следующее:\n",
    "- Отсортировали датафрейм по индексу\n",
    "- Сделали ресемплирование по условию заказчика\n",
    "- Проверили данные на пропущенные значения. По итогу их не обнаружили\n",
    "\n",
    "Теперь можем приступать к анализу."
   ]
  },
  {
   "cell_type": "markdown",
   "metadata": {},
   "source": [
    "## Анализ"
   ]
  },
  {
   "cell_type": "markdown",
   "metadata": {},
   "source": [
    "Посмотрим за какой период у нас данные"
   ]
  },
  {
   "cell_type": "code",
   "execution_count": 15,
   "metadata": {},
   "outputs": [
    {
     "data": {
      "text/plain": [
       "(Timestamp('2018-03-01 00:00:00', freq='H'),\n",
       " Timestamp('2018-08-31 23:00:00', freq='H'))"
      ]
     },
     "execution_count": 15,
     "metadata": {},
     "output_type": "execute_result"
    }
   ],
   "source": [
    "# Находим первую и последнию дату в таблице\n",
    "taxi_df.index.min(), taxi_df.index.max()"
   ]
  },
  {
   "cell_type": "markdown",
   "metadata": {},
   "source": [
    "У нас данные с марта 2018 по сентябрь 2018"
   ]
  },
  {
   "cell_type": "markdown",
   "metadata": {},
   "source": [
    "Построим график заказов такси после ресемплирования"
   ]
  },
  {
   "cell_type": "code",
   "execution_count": 16,
   "metadata": {
    "scrolled": true
   },
   "outputs": [
    {
     "data": {
      "image/png": "[encoded data removed]",
      "text/plain": [
       "<Figure size 1080x360 with 1 Axes>"
      ]
     },
     "metadata": {
      "needs_background": "light"
     },
     "output_type": "display_data"
    }
   ],
   "source": [
    "# Строим график\n",
    "plt.figure(figsize=(15, 5))\n",
    "sns.lineplot(data=taxi_df, y='num_orders', x=taxi_df.index)\n",
    "plt.title('График заказов такси')"
   ]
  },
  {
   "cell_type": "markdown",
   "metadata": {},
   "source": [
    "Разложим временной ряд на тренд и сезонную компоненту."
   ]
  },
  {
   "cell_type": "code",
   "execution_count": 17,
   "metadata": {},
   "outputs": [],
   "source": [
    "decomposed = seasonal_decompose(taxi_df)  # Делаем декомпозицию временного ряда"
   ]
  },
  {
   "cell_type": "code",
   "execution_count": 18,
   "metadata": {},
   "outputs": [
    {
     "data": {
      "image/png": "[encoded data removed]",
      "text/plain": [
       "<Figure size 1080x576 with 3 Axes>"
      ]
     },
     "metadata": {
      "needs_background": "light"
     },
     "output_type": "display_data"
    }
   ],
   "source": [
    "# Строим график\n",
    "plt.figure(figsize=(15, 8))\n",
    "plt.subplot(311)\n",
    "decomposed.trend.plot(ax=plt.gca())\n",
    "plt.ylabel('Количество заказов')\n",
    "plt.title('Тренд')\n",
    "plt.subplot(312)\n",
    "decomposed.seasonal.plot(ax=plt.gca())\n",
    "plt.title('Сезонность')\n",
    "plt.ylabel('Частота')\n",
    "plt.subplot(313)\n",
    "decomposed.resid.plot(ax=plt.gca())\n",
    "plt.title('Остатки')\n",
    "plt.ylabel('Частота')\n",
    "plt.tight_layout()"
   ]
  },
  {
   "cell_type": "markdown",
   "metadata": {},
   "source": [
    "Тренд — ежемесячное увеличение количества заказов такси, так как растут продажи авиабилетов, а значит люди чаще летают. Сезонность связана с периодом меньше месяца, ее нужно исследовать боле тщательно. Остатки необъяснимы."
   ]
  },
  {
   "cell_type": "markdown",
   "metadata": {},
   "source": [
    "Построим график сезонности за две недели марта 2018 с 12 по 25"
   ]
  },
  {
   "cell_type": "code",
   "execution_count": 19,
   "metadata": {},
   "outputs": [],
   "source": [
    "# Делаем ресемплирование по дню для двух недель\n",
    "data_week = taxi_df['2018-03-12':'2018-03-25'].resample('1D').sum()"
   ]
  },
  {
   "cell_type": "code",
   "execution_count": 20,
   "metadata": {},
   "outputs": [],
   "source": [
    "# Делаем декомпозицию временного ряда\n",
    "decomposed = seasonal_decompose(data_week)"
   ]
  },
  {
   "cell_type": "code",
   "execution_count": 21,
   "metadata": {
    "scrolled": false
   },
   "outputs": [
    {
     "data": {
      "image/png": "[encoded data removed]",
      "text/plain": [
       "<Figure size 1080x360 with 1 Axes>"
      ]
     },
     "metadata": {
      "needs_background": "light"
     },
     "output_type": "display_data"
    }
   ],
   "source": [
    "# Строим график\n",
    "plt.figure(figsize=(15, 5))\n",
    "decomposed.seasonal.plot()\n",
    "plt.ylabel('Частота')\n",
    "plt.title('Сезонность')"
   ]
  },
  {
   "cell_type": "markdown",
   "metadata": {},
   "source": [
    "Количество заказов такси увеличивает с приближением выходных, а пик приходится на пятницу. Можно объяснить тем, что на выходные люди куда-нибудь улетают. А вот пн уже возвращаются, что как раз и показывает небольшой пик на графике."
   ]
  },
  {
   "cell_type": "markdown",
   "metadata": {},
   "source": [
    "Узнаем стационарный у нас ряд или нет. То есть найдем среднее и стандартное отклонение и если они не меняются, то у нас стационарный ряд."
   ]
  },
  {
   "cell_type": "code",
   "execution_count": 22,
   "metadata": {},
   "outputs": [],
   "source": [
    "# Делаем копию датасета\n",
    "mean_std = taxi_df.copy()"
   ]
  },
  {
   "cell_type": "code",
   "execution_count": 23,
   "metadata": {},
   "outputs": [],
   "source": [
    "# Находим СКО и среднее\n",
    "mean_std['mean'] = mean_std['num_orders'].shift().rolling(15).mean()\n",
    "mean_std['std'] = mean_std['num_orders'].shift().rolling(15).std()"
   ]
  },
  {
   "cell_type": "code",
   "execution_count": 24,
   "metadata": {},
   "outputs": [
    {
     "data": {
      "image/png": "[encoded data removed]",
      "text/plain": [
       "<Figure size 1080x360 with 1 Axes>"
      ]
     },
     "metadata": {
      "needs_background": "light"
     },
     "output_type": "display_data"
    }
   ],
   "source": [
    "# Строим график\n",
    "plt.figure(figsize=(15, 5))\n",
    "sns.lineplot(data=mean_std, y='num_orders', x=mean_std.index)\n",
    "sns.lineplot(data=mean_std, y='mean', x=mean_std.index)\n",
    "sns.lineplot(data=mean_std, y='std', x=mean_std.index)\n",
    "plt.legend(['num_orders', 'mean', 'std'])\n",
    "plt.title('Скользящие СКО и среднее')"
   ]
  },
  {
   "cell_type": "markdown",
   "metadata": {},
   "source": [
    "Хоть по графику и видно, что ряд нестационарный, так как меняется среднее значение, но убедимся в этом используя статистический тест Дики-Фуллера. Для этого выдвинем гипотезы:\n",
    "\n",
    "- **H0** - Временной ряд является нестационарным.\n",
    "- **H1** - Временной ряд является стационарным.\n",
    "\n",
    "Предположим, что верна нулевая гипотеза, тогда"
   ]
  },
  {
   "cell_type": "code",
   "execution_count": 25,
   "metadata": {},
   "outputs": [
    {
     "name": "stdout",
     "output_type": "stream",
     "text": [
      "Не отвергаем H0. Временной ряд является нестационарным\n"
     ]
    }
   ],
   "source": [
    "dickey_fuller(mean_std['num_orders'], ALPHA)"
   ]
  },
  {
   "cell_type": "markdown",
   "metadata": {},
   "source": [
    "С помощью статистического теста мы убедились, что ряд нестационарный.Но попробуем немного ослабить уровень значимости и примем его равным 5% и посмотрим какой получиться результат."
   ]
  },
  {
   "cell_type": "code",
   "execution_count": 26,
   "metadata": {},
   "outputs": [
    {
     "name": "stdout",
     "output_type": "stream",
     "text": [
      "Отвергаем H0 и принимаем H1. Временной ряд является стационарным\n"
     ]
    }
   ],
   "source": [
    "dickey_fuller(mean_std['num_orders'], 0.05)"
   ]
  },
  {
   "cell_type": "markdown",
   "metadata": {},
   "source": [
    "При уровне значимости равным 5% тест говорит, что у наш ряд является стационарным. Значит можно приступать к прогнозированию"
   ]
  },
  {
   "cell_type": "markdown",
   "metadata": {},
   "source": [
    "### Вывод"
   ]
  },
  {
   "cell_type": "markdown",
   "metadata": {},
   "source": [
    "На данном этапе провели анализ датафрейма и узнали, что у нас данные с марта по сентябрь 2018 года. Сделали декомпозицию ряда и выявили тренд — ежемесячное увеличение количества заказов такси. И сезонность — такси чаще заказывают, когда приближаются выходные и пик приходиться на пятницу. Можно объяснить тем, что на выходные люди куда-нибудь улетают. А вот понедельник уже возвращаются, что как раз и показывает небольшой пик на графике. Проверили временной ряд на стационарность при помощи статистического тест Дики-Фуллера. При уровне значимость 1%, тест говорит, что ряд нестационарный, но если его ослабить и взять уровень значимости 5%, то в таком случае тест говорит, что наш ряд стационарный. На этом уровне значимости и остановились. Теперь можно приступать к обучению моделей."
   ]
  },
  {
   "cell_type": "markdown",
   "metadata": {},
   "source": [
    "## Обучение"
   ]
  },
  {
   "cell_type": "markdown",
   "metadata": {},
   "source": [
    "Приступим к обучению модели. Перед нами стоит задача регрессии, целевой признак `num_orders`. Оценивать результат будем по метрике RMSE, которая должна быть меньше < 48. Обучать будем 4 модели с подбором гипепараметров при помощи `RandomizedSearchCV`:\n",
    "- `Ridge`\n",
    "- `DecisionTreeRegressor`\n",
    "- `KNeighborsRegressor`\n",
    "- `LGBMRegressor`\n",
    "\n",
    "Перед обучением создадим новые признаки для этого была написана функция `features_add` она принимает датафрейм и два числа, которые отвечают за размер отставания и за ширину окна для скользящего среднего."
   ]
  },
  {
   "cell_type": "code",
   "execution_count": 28,
   "metadata": {},
   "outputs": [],
   "source": [
    "# Создаем новые признаки\n",
    "df_total = features_add(taxi_df, 8, 8)"
   ]
  },
  {
   "cell_type": "code",
   "execution_count": 29,
   "metadata": {},
   "outputs": [],
   "source": [
    "# Разбиваем данные на выборки\n",
    "train, test = train_test_split(df_total, shuffle=False, test_size=TEST_SIZE)"
   ]
  },
  {
   "cell_type": "code",
   "execution_count": 30,
   "metadata": {},
   "outputs": [
    {
     "name": "stdout",
     "output_type": "stream",
     "text": [
      "Обучающая выборка:\n",
      "2018-03-01 00:00:00 2018-08-13 13:00:00\n",
      "Тестовая выборка:\n",
      "2018-08-13 14:00:00 2018-08-31 23:00:00\n"
     ]
    }
   ],
   "source": [
    "# Проверяем разбились ли данные корректно\n",
    "print('Обучающая выборка:')\n",
    "print(train.index.min(), train.index.max())\n",
    "print('Тестовая выборка:')\n",
    "print(test.index.min(), test.index.max())"
   ]
  },
  {
   "cell_type": "markdown",
   "metadata": {},
   "source": [
    "Данные разбили правильно"
   ]
  },
  {
   "cell_type": "code",
   "execution_count": 31,
   "metadata": {},
   "outputs": [],
   "source": [
    "# Удаляем пропуски\n",
    "train = train.dropna()"
   ]
  },
  {
   "cell_type": "code",
   "execution_count": 32,
   "metadata": {},
   "outputs": [],
   "source": [
    "# Отделяем таргет\n",
    "X_train = train.drop(columns=['num_orders'], axis=1)\n",
    "y_train = train['num_orders']\n",
    "X_test = test.drop(columns=['num_orders'], axis=1)\n",
    "y_test = test['num_orders']"
   ]
  },
  {
   "cell_type": "code",
   "execution_count": 33,
   "metadata": {},
   "outputs": [],
   "source": [
    "# Создаем список для перебора моделей и их гиперпараметров\n",
    "algs = [\n",
    "    ['Ридж регрессия', Ridge(random_state=RANDOM_STATE), {\n",
    "        'alpha': [0.1, 1, 10]}],\n",
    "    ['Решающее дерево', DecisionTreeRegressor(random_state=RANDOM_STATE),\n",
    "     {'min_samples_split': range(1, 7), 'min_samples_leaf': range(1, 7), 'max_depth': range(2, 7)}],\n",
    "    ['К-ближайших соседа', KNeighborsRegressor(),\n",
    "     {'n_neighbors': range(2, 40), 'algorithm': ['ball_tree', 'kd_tree']}],\n",
    "    ['Градиентный бустинг', LGBMRegressor(random_state=RANDOM_STATE, verbosity=-1),\n",
    "     {'num_leaves': range(31, 50), 'n_estimators': [100, 150], 'learning_rate': [0.01, 0.1, 1]}]\n",
    "]"
   ]
  },
  {
   "cell_type": "code",
   "execution_count": 34,
   "metadata": {},
   "outputs": [],
   "source": [
    "# Используем кросс-валидацию временный рядов\n",
    "tss = TimeSeriesSplit(n_splits=5)"
   ]
  },
  {
   "cell_type": "code",
   "execution_count": 35,
   "metadata": {},
   "outputs": [
    {
     "data": {
      "application/vnd.jupyter.widget-view+json": {
       "model_id": "3c5d788022ad4e399497caa3dce3fb02",
       "version_major": 2,
       "version_minor": 0
      },
      "text/plain": [
       "  0%|          | 0/4 [00:00<?, ?it/s]"
      ]
     },
     "metadata": {},
     "output_type": "display_data"
    },
    {
     "name": "stdout",
     "output_type": "stream",
     "text": [
      "Ридж регрессия: RMSE: 31.22\n",
      "{'alpha': 10}\n",
      "Решающее дерево: RMSE: 23.57\n",
      "{'min_samples_split': 4, 'min_samples_leaf': 2, 'max_depth': 6}\n",
      "К-ближайших соседа: RMSE: 27.32\n",
      "{'n_neighbors': 30, 'algorithm': 'ball_tree'}\n",
      "Градиентный бустинг: RMSE: 13.85\n",
      "{'num_leaves': 38, 'n_estimators': 100, 'learning_rate': 0.1}\n"
     ]
    }
   ],
   "source": [
    "# Перебираем в цикле модели и гиперпараметры, обучаем их и выводим результат на тренировочной\n",
    "best_model = []\n",
    "for alg_name, model, parametrs, in tqdm(algs):\n",
    "    rscv = RandomizedSearchCV(\n",
    "        model, parametrs, cv=tss,\n",
    "        scoring='neg_mean_squared_error', n_jobs=-1, random_state=RANDOM_STATE)\n",
    "    rscv.fit(X_train, y_train)\n",
    "    pred = rscv.predict(X_train)\n",
    "    rmse = sqrt(mean_squared_error(y_train, pred))\n",
    "    print(f'{alg_name}: RMSE: {rmse:.2f}')\n",
    "    print(rscv.best_params_)\n",
    "    best_model.append(rscv.best_estimator_)"
   ]
  },
  {
   "cell_type": "markdown",
   "metadata": {},
   "source": [
    "### Проверка на адекватность"
   ]
  },
  {
   "cell_type": "markdown",
   "metadata": {},
   "source": [
    "Проверим модели на адекватность. Новое значение прогнозируется предыдущим значением ряда."
   ]
  },
  {
   "cell_type": "code",
   "execution_count": 36,
   "metadata": {},
   "outputs": [
    {
     "name": "stdout",
     "output_type": "stream",
     "text": [
      "Среднее количество заказов в час: 139.56\n",
      "RMSE: 58.86\n"
     ]
    }
   ],
   "source": [
    "print('Среднее количество заказов в час:', round(test['num_orders'].mean(), 2))\n",
    "\n",
    "pred_previous = test['num_orders'].shift()\n",
    "pred_previous.iloc[0] = train['num_orders'].iloc[-1]\n",
    "print('RMSE:', round(sqrt(mean_squared_error(\n",
    "    test['num_orders'], pred_previous)), 2))"
   ]
  },
  {
   "cell_type": "markdown",
   "metadata": {},
   "source": [
    "Все модели по итогу прошли проверку на адекватность. Сведем все результаты в таблицу.\n",
    "\n",
    "|**Модель**| **RMSE** | **Прошла проверку на адекватность** | **Удовлетворяет условию заказчика** |\n",
    "|:--- |:----:|:----:|:----:|\n",
    "|**Ridge**| 31.22 | ✅ | ✅ | ✅ |\n",
    "|**DecisionTreeRegressor**| 23.57 | ✅ | ✅ |\n",
    "|**KNeighborsRegressor**| 27.32 | ✅ | ✅ |\n",
    "|**LGBMRegressor**| 13.85 | ✅ | ✅ |\n",
    "\n",
    "Все модели удовлетворяют условию заказчика. Выбираем из них самую лучшую `LGBMRegressor` и проверим ее результаты на тесте."
   ]
  },
  {
   "cell_type": "markdown",
   "metadata": {},
   "source": [
    "## Предсказание на тесте"
   ]
  },
  {
   "cell_type": "markdown",
   "metadata": {},
   "source": [
    "Сделаем предсказания на тесте, используя нашу лучшую модель"
   ]
  },
  {
   "cell_type": "code",
   "execution_count": 37,
   "metadata": {},
   "outputs": [
    {
     "name": "stdout",
     "output_type": "stream",
     "text": [
      "46.08\n"
     ]
    }
   ],
   "source": [
    "# Делаем предсказания на тесте, используя лучшую модель и считаем rmse\n",
    "predict = best_model[3].predict(X_test)\n",
    "rmse = round(sqrt(mean_squared_error(y_test, predict)), 2)\n",
    "print(rmse)"
   ]
  },
  {
   "cell_type": "markdown",
   "metadata": {},
   "source": [
    "Получаем метрику RMSE - 46.08. Она соотвесвует условию заказчика. Построим график предсказния и правильных ответов."
   ]
  },
  {
   "cell_type": "code",
   "execution_count": 38,
   "metadata": {},
   "outputs": [],
   "source": [
    "# Cохраняем предсказания в тестовый датафрейм\n",
    "test['predict'] = predict"
   ]
  },
  {
   "cell_type": "code",
   "execution_count": 39,
   "metadata": {},
   "outputs": [
    {
     "data": {
      "image/png": "[encoded data removed]",
      "text/plain": [
       "<Figure size 1080x360 with 1 Axes>"
      ]
     },
     "metadata": {
      "needs_background": "light"
     },
     "output_type": "display_data"
    }
   ],
   "source": [
    "# Строим график\n",
    "plt.figure(figsize=(15, 5))\n",
    "sns.lineplot(data=test, y='num_orders', x=test.index)\n",
    "sns.lineplot(data=test, y='predict', x=test.index)\n",
    "plt.legend(['Факт', 'Прогноз'])\n",
    "plt.xticks(rotation=15)\n",
    "plt.title('График факт-прогноз')"
   ]
  },
  {
   "cell_type": "markdown",
   "metadata": {},
   "source": [
    "По графику видно, что в целом модель работает хорошо, но модель не смогла уловить редкие пики (резкое увеличение заказов такси)."
   ]
  },
  {
   "cell_type": "markdown",
   "metadata": {},
   "source": [
    "## Вывод"
   ]
  },
  {
   "cell_type": "markdown",
   "metadata": {},
   "source": [
    "Данные лежат в файле `/datasets/taxi.csv`. Количество заказов находится в столбце `num_orders` (таргет).\n",
    "\n",
    "План исследования:\n",
    "1. Изучение данных \n",
    "2. Подготовка и предобработка данных\n",
    "3. Анализ\n",
    "4. Обучение\n",
    "5. Тестирование\n",
    "6. Вывод\n",
    "\n",
    "**1. Изучение данных**\n",
    "\n",
    "Данные, как и было сказано в документации находятся в `/datasets/taxi.csv`. У нас два столбца один используем в качестве индекса (столбец с датой) и второй столбец - наш таргет.  В таблице 1 столбец `int`(1). Количество строк 26496.\n",
    "\n",
    "**2. Подготовка и предобработка данных**\n",
    "\n",
    "Сначала отсортировали датафрейм по индексу. Далее по требованию заказчика сделали ресемплирование по одному часу. Проверили данные на пропущенные значения. По итогу их не обнаружили. Приступили к анализу.\n",
    "\n",
    "**3. Анализ**\n",
    "\n",
    "Провели анализ датафрейма и узнали, что у нас данные с марта по сентябрь 2018 года. Сделали декомпозицию ряда и выявили тренд — ежемесячное увеличение количества заказов такси. И сезонность — такси чаще заказывают, когда приближаются выходные и пик приходиться на пятницу. Можно объяснить тем, что на выходные люди куда-нибудь улетают. А вот пн уже возвращаются, что как раз и показывает небольшой пик на графике. Потом сделали наш ряд более стационарным, что позволило нам приступить к обучению. Проверили временной ряд на стационарность при помощи статистического тест Дики-Фуллера и написали функцию для этого `dickey_fuller`. При уровне значимость 1%, тест говорит, что ряд нестационарный, но если его ослабить и взять уровень значимости 5%, то в таком случае тест говорит, что наш ряд стационарный. На этом уровне значимости и остановились. Теперь можно приступать к обучению моделей.\n",
    "\n",
    "**4. Обучение**\n",
    "\n",
    "Перед нами стояла задача регрессии, целевой признак `num_orders`. Оценивали результат по метрике RMSE, которая должна быть меньше < 48 (по условию заказчика). Обучали будем 4 модели с подбором гипепараметров при помощи `RandomizedSearchCV`:\n",
    "- `Ridge`\n",
    "- `DecisionTreeRegressor`\n",
    "- `KNeighborsRegressor`\n",
    "- `LGBMRegressor`\n",
    "\n",
    "Перед обучением создали новые признаки и для этого написали функцию `features_add` она принимает датафрейм и два числа, которые отвечают за размер отставания и за ширину окна для скользящего среднего. Создает 3 календарных признака (день, день недели и час), отстающие значения от 1 до числа, который отвечает за размер отставания и столбец со скользящим средним.Возвращала датафрейм с новыми признаками. Также при подборе гиперпараметров использовали кросс-валидацию для временных рядов `TimeSeriesSplit`. Проверили модели на адекватность. Прогнозировали новое значение предыдущим значением ряда. Свели все результаты в таблицу.\n",
    "\n",
    "|**Модель**| **RMSE** | **Прошла проверку на адекватность** | **Удовлетворяет условию заказчика** |\n",
    "|:--- |:----:|:----:|:----:|\n",
    "|**Ridge**| 31.22 | ✅ | ✅ | ✅ |\n",
    "|**DecisionTreeRegressor**| 23.57 | ✅ | ✅ |\n",
    "|**KNeighborsRegressor**| 27.32 | ✅ | ✅ |\n",
    "|**LGBMRegressor**| 13.85 | ✅ | ✅ |\n",
    "\n",
    "Все модели удовлетворяют условию заказчика. Выбирали из них одну самую лучшую `LGBMRegressor` и проверили ее результаты на тесте.\n",
    "\n",
    "**5. Тестирование**\n",
    "\n",
    "Проверили нашу модель на тестовых данных. В результате получили метрику RMSE - 46.08. Она соотвесвует условию заказчика. А также построили график предсказния и правильных ответов. Модель работает хорошо с данными, но она не смогла уловить редкие пики (резкое увеличение заказов такси).\n",
    "\n",
    "**Вывод**\n",
    "\n",
    "По итогу была обучена модель, которая может предсказывать заказы такси на следующий час. Лучшая модель по итогу стала `LGBMRegressor` ее значение метрики 46.08 (удовлетворяет условиям заказчика). То есть она в среднем ошибается на 46 заказов. Данную модель думаю можно улучшить увеличив количество данных на которых можно обучиться. А также добавить больше данных о поездках."
   ]
  }
 ],
 "metadata": {
  "ExecuteTimeLog": [
   {
    "duration": 1438,
    "start_time": "2024-09-03T07:57:06.057Z"
   },
   {
    "duration": 6,
    "start_time": "2024-09-03T07:57:17.585Z"
   },
   {
    "duration": 2,
    "start_time": "2024-09-03T07:57:38.860Z"
   },
   {
    "duration": 168,
    "start_time": "2024-09-03T07:58:37.012Z"
   },
   {
    "duration": 14,
    "start_time": "2024-09-03T07:58:46.958Z"
   },
   {
    "duration": 9,
    "start_time": "2024-09-03T07:58:50.448Z"
   },
   {
    "duration": 14,
    "start_time": "2024-09-03T08:05:05.740Z"
   },
   {
    "duration": 58,
    "start_time": "2024-09-03T08:07:58.927Z"
   },
   {
    "duration": 7,
    "start_time": "2024-09-03T08:07:59.460Z"
   },
   {
    "duration": 11,
    "start_time": "2024-09-03T08:08:02.605Z"
   },
   {
    "duration": 4,
    "start_time": "2024-09-03T08:13:27.905Z"
   },
   {
    "duration": 13,
    "start_time": "2024-09-03T08:23:31.277Z"
   },
   {
    "duration": 9,
    "start_time": "2024-09-03T08:23:36.440Z"
   },
   {
    "duration": 4,
    "start_time": "2024-09-03T08:25:34.983Z"
   },
   {
    "duration": 10,
    "start_time": "2024-09-03T08:25:42.083Z"
   },
   {
    "duration": 7,
    "start_time": "2024-09-03T08:25:48.984Z"
   },
   {
    "duration": 10,
    "start_time": "2024-09-03T08:25:52.478Z"
   },
   {
    "duration": 10,
    "start_time": "2024-09-03T08:27:01.566Z"
   },
   {
    "duration": 9,
    "start_time": "2024-09-03T08:27:11.769Z"
   },
   {
    "duration": 6,
    "start_time": "2024-09-03T08:28:56.363Z"
   },
   {
    "duration": 109,
    "start_time": "2024-09-03T08:29:06.251Z"
   },
   {
    "duration": 8,
    "start_time": "2024-09-03T08:29:12.743Z"
   },
   {
    "duration": 5,
    "start_time": "2024-09-03T08:29:19.391Z"
   },
   {
    "duration": 238,
    "start_time": "2024-09-03T08:31:57.390Z"
   },
   {
    "duration": 225,
    "start_time": "2024-09-03T08:32:21.904Z"
   },
   {
    "duration": 256,
    "start_time": "2024-09-03T08:32:27.315Z"
   },
   {
    "duration": 312,
    "start_time": "2024-09-03T08:32:46.621Z"
   },
   {
    "duration": 165,
    "start_time": "2024-09-03T08:32:49.647Z"
   },
   {
    "duration": 25,
    "start_time": "2024-09-03T08:33:17.739Z"
   },
   {
    "duration": 136,
    "start_time": "2024-09-03T08:34:00.692Z"
   },
   {
    "duration": 9,
    "start_time": "2024-09-03T08:34:16.082Z"
   },
   {
    "duration": 1172,
    "start_time": "2024-09-03T08:34:21.926Z"
   },
   {
    "duration": 5,
    "start_time": "2024-09-03T08:34:27.310Z"
   },
   {
    "duration": 509,
    "start_time": "2024-09-03T08:34:31.979Z"
   },
   {
    "duration": 487,
    "start_time": "2024-09-03T08:34:50.440Z"
   },
   {
    "duration": 509,
    "start_time": "2024-09-03T08:34:54.626Z"
   },
   {
    "duration": 506,
    "start_time": "2024-09-03T08:35:00.521Z"
   },
   {
    "duration": 521,
    "start_time": "2024-09-03T08:36:02.802Z"
   },
   {
    "duration": 513,
    "start_time": "2024-09-03T08:36:08.595Z"
   },
   {
    "duration": 4,
    "start_time": "2024-09-03T08:37:51.692Z"
   },
   {
    "duration": 4,
    "start_time": "2024-09-03T08:38:01.717Z"
   },
   {
    "duration": 5,
    "start_time": "2024-09-03T08:38:21.957Z"
   },
   {
    "duration": 8,
    "start_time": "2024-09-03T08:43:18.511Z"
   },
   {
    "duration": 831,
    "start_time": "2024-09-03T08:43:26.926Z"
   },
   {
    "duration": 748,
    "start_time": "2024-09-03T08:44:58.773Z"
   },
   {
    "duration": 701,
    "start_time": "2024-09-03T08:45:09.281Z"
   },
   {
    "duration": 853,
    "start_time": "2024-09-03T08:45:15.739Z"
   },
   {
    "duration": 12,
    "start_time": "2024-09-03T08:53:25.978Z"
   },
   {
    "duration": 12,
    "start_time": "2024-09-03T08:53:33.268Z"
   },
   {
    "duration": 6,
    "start_time": "2024-09-03T08:53:42.561Z"
   },
   {
    "duration": 587,
    "start_time": "2024-09-03T08:54:05.140Z"
   },
   {
    "duration": 7,
    "start_time": "2024-09-03T08:54:19.191Z"
   },
   {
    "duration": 768,
    "start_time": "2024-09-03T08:54:19.686Z"
   },
   {
    "duration": 7,
    "start_time": "2024-09-03T08:54:22.545Z"
   },
   {
    "duration": 6,
    "start_time": "2024-09-03T08:54:22.870Z"
   },
   {
    "duration": 3,
    "start_time": "2024-09-03T08:54:43.031Z"
   },
   {
    "duration": 14,
    "start_time": "2024-09-03T08:54:59.478Z"
   },
   {
    "duration": 106,
    "start_time": "2024-09-03T08:55:11.551Z"
   },
   {
    "duration": 269,
    "start_time": "2024-09-03T08:55:28.718Z"
   },
   {
    "duration": 167,
    "start_time": "2024-09-03T08:55:39.293Z"
   },
   {
    "duration": 185,
    "start_time": "2024-09-03T08:55:53.491Z"
   },
   {
    "duration": 194,
    "start_time": "2024-09-03T08:56:17.837Z"
   },
   {
    "duration": 194,
    "start_time": "2024-09-03T08:56:31.394Z"
   },
   {
    "duration": 201,
    "start_time": "2024-09-03T08:56:37.131Z"
   },
   {
    "duration": 205,
    "start_time": "2024-09-03T09:03:29.643Z"
   },
   {
    "duration": 10,
    "start_time": "2024-09-03T09:04:40.677Z"
   },
   {
    "duration": 7,
    "start_time": "2024-09-03T09:04:41.025Z"
   },
   {
    "duration": 208,
    "start_time": "2024-09-03T09:04:41.351Z"
   },
   {
    "duration": 3,
    "start_time": "2024-09-03T09:21:30.563Z"
   },
   {
    "duration": 6,
    "start_time": "2024-09-03T09:22:00.252Z"
   },
   {
    "duration": 1171,
    "start_time": "2024-09-03T09:23:01.655Z"
   },
   {
    "duration": 1192,
    "start_time": "2024-09-03T09:23:43.328Z"
   },
   {
    "duration": 1288,
    "start_time": "2024-09-03T09:23:59.470Z"
   },
   {
    "duration": 1163,
    "start_time": "2024-09-03T09:24:04.049Z"
   },
   {
    "duration": 1172,
    "start_time": "2024-09-03T09:24:22.567Z"
   },
   {
    "duration": 1244,
    "start_time": "2024-09-03T09:24:55.361Z"
   },
   {
    "duration": 1178,
    "start_time": "2024-09-03T09:25:11.247Z"
   },
   {
    "duration": 1278,
    "start_time": "2024-09-03T09:25:42.545Z"
   },
   {
    "duration": 1209,
    "start_time": "2024-09-03T09:26:09.625Z"
   },
   {
    "duration": 6,
    "start_time": "2024-09-03T09:38:57.294Z"
   },
   {
    "duration": 1211,
    "start_time": "2024-09-03T09:39:04.009Z"
   },
   {
    "duration": 7,
    "start_time": "2024-09-03T09:42:26.986Z"
   },
   {
    "duration": 1253,
    "start_time": "2024-09-03T09:42:27.424Z"
   },
   {
    "duration": 6,
    "start_time": "2024-09-03T09:42:47.338Z"
   },
   {
    "duration": 1276,
    "start_time": "2024-09-03T09:42:47.776Z"
   },
   {
    "duration": 8,
    "start_time": "2024-09-03T09:43:45.636Z"
   },
   {
    "duration": 1295,
    "start_time": "2024-09-03T09:43:45.984Z"
   },
   {
    "duration": 7,
    "start_time": "2024-09-03T09:43:58.663Z"
   },
   {
    "duration": 1195,
    "start_time": "2024-09-03T09:43:59.000Z"
   },
   {
    "duration": 7,
    "start_time": "2024-09-03T09:57:58.549Z"
   },
   {
    "duration": 1257,
    "start_time": "2024-09-03T09:57:58.942Z"
   },
   {
    "duration": 6,
    "start_time": "2024-09-03T10:03:25.762Z"
   },
   {
    "duration": 5,
    "start_time": "2024-09-03T10:03:32.219Z"
   },
   {
    "duration": 24,
    "start_time": "2024-09-03T10:11:31.907Z"
   },
   {
    "duration": 26,
    "start_time": "2024-09-03T10:11:41.604Z"
   },
   {
    "duration": 4,
    "start_time": "2024-09-03T10:11:52.146Z"
   },
   {
    "duration": 13,
    "start_time": "2024-09-03T10:25:49.129Z"
   },
   {
    "duration": 4,
    "start_time": "2024-09-03T10:25:58.668Z"
   },
   {
    "duration": 30,
    "start_time": "2024-09-03T10:26:29.123Z"
   },
   {
    "duration": 18,
    "start_time": "2024-09-03T10:27:24.220Z"
   },
   {
    "duration": 24,
    "start_time": "2024-09-03T10:27:30.188Z"
   },
   {
    "duration": 10,
    "start_time": "2024-09-03T10:28:02.848Z"
   },
   {
    "duration": 3,
    "start_time": "2024-09-03T10:28:12.973Z"
   },
   {
    "duration": 5,
    "start_time": "2024-09-03T10:28:17.172Z"
   },
   {
    "duration": 6,
    "start_time": "2024-09-03T10:28:19.363Z"
   },
   {
    "duration": 6,
    "start_time": "2024-09-03T10:28:57.412Z"
   },
   {
    "duration": 5,
    "start_time": "2024-09-03T10:29:05.163Z"
   },
   {
    "duration": 4,
    "start_time": "2024-09-03T10:29:27.011Z"
   },
   {
    "duration": 3,
    "start_time": "2024-09-03T10:29:33.918Z"
   },
   {
    "duration": 5,
    "start_time": "2024-09-03T10:29:37.800Z"
   },
   {
    "duration": 5,
    "start_time": "2024-09-03T10:29:38.216Z"
   },
   {
    "duration": 6,
    "start_time": "2024-09-03T10:30:22.767Z"
   },
   {
    "duration": 5,
    "start_time": "2024-09-03T10:30:49.857Z"
   },
   {
    "duration": 10,
    "start_time": "2024-09-03T10:39:18.355Z"
   },
   {
    "duration": 3,
    "start_time": "2024-09-03T10:39:48.112Z"
   },
   {
    "duration": 10,
    "start_time": "2024-09-03T10:40:13.897Z"
   },
   {
    "duration": 11,
    "start_time": "2024-09-03T10:40:28.860Z"
   },
   {
    "duration": 10,
    "start_time": "2024-09-03T10:40:50.955Z"
   },
   {
    "duration": 12,
    "start_time": "2024-09-03T10:40:53.914Z"
   },
   {
    "duration": 12,
    "start_time": "2024-09-03T10:41:16.066Z"
   },
   {
    "duration": 3,
    "start_time": "2024-09-03T10:43:29.235Z"
   },
   {
    "duration": 12,
    "start_time": "2024-09-03T10:43:29.685Z"
   },
   {
    "duration": 10,
    "start_time": "2024-09-03T11:01:21.728Z"
   },
   {
    "duration": 5,
    "start_time": "2024-09-03T11:03:30.262Z"
   },
   {
    "duration": 11,
    "start_time": "2024-09-03T11:05:00.770Z"
   },
   {
    "duration": 10,
    "start_time": "2024-09-03T11:05:25.139Z"
   },
   {
    "duration": 5,
    "start_time": "2024-09-03T11:05:31.865Z"
   },
   {
    "duration": 4,
    "start_time": "2024-09-03T11:05:36.928Z"
   },
   {
    "duration": 4,
    "start_time": "2024-09-03T11:06:31.155Z"
   },
   {
    "duration": 39,
    "start_time": "2024-09-03T11:06:41.808Z"
   },
   {
    "duration": 36,
    "start_time": "2024-09-03T11:07:10.414Z"
   },
   {
    "duration": 47,
    "start_time": "2024-09-03T11:12:44.585Z"
   },
   {
    "duration": 4,
    "start_time": "2024-09-03T11:16:33.357Z"
   },
   {
    "duration": 48,
    "start_time": "2024-09-03T11:16:34.167Z"
   },
   {
    "duration": 5,
    "start_time": "2024-09-03T11:16:48.162Z"
   },
   {
    "duration": 4,
    "start_time": "2024-09-03T11:17:01.134Z"
   },
   {
    "duration": 55,
    "start_time": "2024-09-03T11:17:02.034Z"
   },
   {
    "duration": 4,
    "start_time": "2024-09-03T11:24:15.223Z"
   },
   {
    "duration": 4,
    "start_time": "2024-09-03T11:25:13.173Z"
   },
   {
    "duration": 28533,
    "start_time": "2024-09-03T11:25:14.378Z"
   },
   {
    "duration": 29,
    "start_time": "2024-09-03T11:27:49.788Z"
   },
   {
    "duration": 4,
    "start_time": "2024-09-03T11:27:54.085Z"
   },
   {
    "duration": 5,
    "start_time": "2024-09-03T11:27:55.289Z"
   },
   {
    "duration": 6,
    "start_time": "2024-09-03T11:27:55.783Z"
   },
   {
    "duration": 5,
    "start_time": "2024-09-03T11:27:56.312Z"
   },
   {
    "duration": 4,
    "start_time": "2024-09-03T11:27:58.033Z"
   },
   {
    "duration": 30676,
    "start_time": "2024-09-03T11:27:59.137Z"
   },
   {
    "duration": 25,
    "start_time": "2024-09-03T11:28:54.431Z"
   },
   {
    "duration": 25,
    "start_time": "2024-09-03T11:29:02.643Z"
   },
   {
    "duration": 25,
    "start_time": "2024-09-03T11:31:05.350Z"
   },
   {
    "duration": 5,
    "start_time": "2024-09-03T11:31:10.615Z"
   },
   {
    "duration": 4,
    "start_time": "2024-09-03T11:31:11.369Z"
   },
   {
    "duration": 6,
    "start_time": "2024-09-03T11:31:13.123Z"
   },
   {
    "duration": 7,
    "start_time": "2024-09-03T11:31:13.517Z"
   },
   {
    "duration": 4,
    "start_time": "2024-09-03T11:31:14.417Z"
   },
   {
    "duration": 32628,
    "start_time": "2024-09-03T11:31:15.982Z"
   },
   {
    "duration": 5,
    "start_time": "2024-09-03T11:33:06.256Z"
   },
   {
    "duration": 41731,
    "start_time": "2024-09-03T11:33:06.875Z"
   },
   {
    "duration": 22,
    "start_time": "2024-09-03T11:34:47.035Z"
   },
   {
    "duration": 4,
    "start_time": "2024-09-03T11:34:48.803Z"
   },
   {
    "duration": 5,
    "start_time": "2024-09-03T11:34:49.229Z"
   },
   {
    "duration": 6,
    "start_time": "2024-09-03T11:34:49.600Z"
   },
   {
    "duration": 5,
    "start_time": "2024-09-03T11:34:50.084Z"
   },
   {
    "duration": 70,
    "start_time": "2024-09-03T11:34:51.626Z"
   },
   {
    "duration": 65,
    "start_time": "2024-09-03T11:35:09.772Z"
   },
   {
    "duration": 5,
    "start_time": "2024-09-03T11:35:25.297Z"
   },
   {
    "duration": 37549,
    "start_time": "2024-09-03T11:35:26.062Z"
   },
   {
    "duration": 12,
    "start_time": "2024-09-03T11:36:38.008Z"
   },
   {
    "duration": 4,
    "start_time": "2024-09-03T11:37:17.833Z"
   },
   {
    "duration": 6,
    "start_time": "2024-09-03T11:37:18.395Z"
   },
   {
    "duration": 4,
    "start_time": "2024-09-03T11:38:09.302Z"
   },
   {
    "duration": 78148,
    "start_time": "2024-09-03T11:38:09.664Z"
   },
   {
    "duration": 5,
    "start_time": "2024-09-03T11:44:53.533Z"
   },
   {
    "duration": 22,
    "start_time": "2024-09-03T11:45:13.672Z"
   },
   {
    "duration": 5,
    "start_time": "2024-09-03T11:45:14.413Z"
   },
   {
    "duration": 5,
    "start_time": "2024-09-03T11:45:15.921Z"
   },
   {
    "duration": 6,
    "start_time": "2024-09-03T11:45:16.326Z"
   },
   {
    "duration": 6,
    "start_time": "2024-09-03T11:45:17.541Z"
   },
   {
    "duration": 5,
    "start_time": "2024-09-03T11:45:17.991Z"
   },
   {
    "duration": 86142,
    "start_time": "2024-09-03T11:45:18.666Z"
   },
   {
    "duration": 7,
    "start_time": "2024-09-03T12:29:37.373Z"
   },
   {
    "duration": 6,
    "start_time": "2024-09-03T12:30:05.150Z"
   },
   {
    "duration": 6,
    "start_time": "2024-09-03T12:30:19.381Z"
   },
   {
    "duration": 1548,
    "start_time": "2024-09-03T12:38:47.853Z"
   },
   {
    "duration": 5,
    "start_time": "2024-09-03T12:38:49.403Z"
   },
   {
    "duration": 14,
    "start_time": "2024-09-03T12:38:49.409Z"
   },
   {
    "duration": 5,
    "start_time": "2024-09-03T12:38:49.425Z"
   },
   {
    "duration": 54,
    "start_time": "2024-09-03T12:38:49.432Z"
   },
   {
    "duration": 6,
    "start_time": "2024-09-03T12:38:49.487Z"
   },
   {
    "duration": 77,
    "start_time": "2024-09-03T12:38:49.494Z"
   },
   {
    "duration": 10,
    "start_time": "2024-09-03T12:38:49.573Z"
   },
   {
    "duration": 113,
    "start_time": "2024-09-03T12:38:49.585Z"
   },
   {
    "duration": 0,
    "start_time": "2024-09-03T12:38:49.700Z"
   },
   {
    "duration": 0,
    "start_time": "2024-09-03T12:38:49.705Z"
   },
   {
    "duration": 0,
    "start_time": "2024-09-03T12:38:49.706Z"
   },
   {
    "duration": 0,
    "start_time": "2024-09-03T12:38:49.707Z"
   },
   {
    "duration": 0,
    "start_time": "2024-09-03T12:38:49.709Z"
   },
   {
    "duration": 0,
    "start_time": "2024-09-03T12:38:49.711Z"
   },
   {
    "duration": 0,
    "start_time": "2024-09-03T12:38:49.712Z"
   },
   {
    "duration": 0,
    "start_time": "2024-09-03T12:38:49.713Z"
   },
   {
    "duration": 0,
    "start_time": "2024-09-03T12:38:49.714Z"
   },
   {
    "duration": 0,
    "start_time": "2024-09-03T12:38:49.715Z"
   },
   {
    "duration": 0,
    "start_time": "2024-09-03T12:38:49.716Z"
   },
   {
    "duration": 0,
    "start_time": "2024-09-03T12:38:49.717Z"
   },
   {
    "duration": 0,
    "start_time": "2024-09-03T12:38:49.718Z"
   },
   {
    "duration": 0,
    "start_time": "2024-09-03T12:38:49.719Z"
   },
   {
    "duration": 0,
    "start_time": "2024-09-03T12:38:49.720Z"
   },
   {
    "duration": 0,
    "start_time": "2024-09-03T12:38:49.721Z"
   },
   {
    "duration": 0,
    "start_time": "2024-09-03T12:38:49.722Z"
   },
   {
    "duration": 0,
    "start_time": "2024-09-03T12:38:49.723Z"
   },
   {
    "duration": 0,
    "start_time": "2024-09-03T12:38:49.724Z"
   },
   {
    "duration": 1,
    "start_time": "2024-09-03T12:38:49.724Z"
   },
   {
    "duration": 0,
    "start_time": "2024-09-03T12:38:49.725Z"
   },
   {
    "duration": 0,
    "start_time": "2024-09-03T12:38:49.726Z"
   },
   {
    "duration": 1,
    "start_time": "2024-09-03T12:38:49.727Z"
   },
   {
    "duration": 0,
    "start_time": "2024-09-03T12:38:49.728Z"
   },
   {
    "duration": 0,
    "start_time": "2024-09-03T12:38:49.729Z"
   },
   {
    "duration": 1514,
    "start_time": "2024-09-03T12:39:08.331Z"
   },
   {
    "duration": 5,
    "start_time": "2024-09-03T12:39:09.847Z"
   },
   {
    "duration": 10,
    "start_time": "2024-09-03T12:39:09.854Z"
   },
   {
    "duration": 7,
    "start_time": "2024-09-03T12:39:09.865Z"
   },
   {
    "duration": 60,
    "start_time": "2024-09-03T12:39:09.875Z"
   },
   {
    "duration": 6,
    "start_time": "2024-09-03T12:39:09.936Z"
   },
   {
    "duration": 9,
    "start_time": "2024-09-03T12:39:09.944Z"
   },
   {
    "duration": 26,
    "start_time": "2024-09-03T12:39:09.954Z"
   },
   {
    "duration": 20,
    "start_time": "2024-09-03T12:39:09.982Z"
   },
   {
    "duration": 17,
    "start_time": "2024-09-03T12:39:10.003Z"
   },
   {
    "duration": 7,
    "start_time": "2024-09-03T12:39:10.022Z"
   },
   {
    "duration": 17,
    "start_time": "2024-09-03T12:39:10.030Z"
   },
   {
    "duration": 18,
    "start_time": "2024-09-03T12:39:10.049Z"
   },
   {
    "duration": 8,
    "start_time": "2024-09-03T12:39:10.070Z"
   },
   {
    "duration": 614,
    "start_time": "2024-09-03T12:39:10.079Z"
   },
   {
    "duration": 12,
    "start_time": "2024-09-03T12:39:10.694Z"
   },
   {
    "duration": 886,
    "start_time": "2024-09-03T12:39:10.708Z"
   },
   {
    "duration": 8,
    "start_time": "2024-09-03T12:39:11.595Z"
   },
   {
    "duration": 18,
    "start_time": "2024-09-03T12:39:11.605Z"
   },
   {
    "duration": 215,
    "start_time": "2024-09-03T12:39:11.624Z"
   },
   {
    "duration": 3,
    "start_time": "2024-09-03T12:39:11.841Z"
   },
   {
    "duration": 8,
    "start_time": "2024-09-03T12:39:11.846Z"
   },
   {
    "duration": 1171,
    "start_time": "2024-09-03T12:39:11.856Z"
   },
   {
    "duration": 8,
    "start_time": "2024-09-03T12:39:13.029Z"
   },
   {
    "duration": 1257,
    "start_time": "2024-09-03T12:39:13.039Z"
   },
   {
    "duration": 9,
    "start_time": "2024-09-03T12:39:14.298Z"
   },
   {
    "duration": 34,
    "start_time": "2024-09-03T12:39:14.309Z"
   },
   {
    "duration": 6,
    "start_time": "2024-09-03T12:39:14.345Z"
   },
   {
    "duration": 14,
    "start_time": "2024-09-03T12:39:14.353Z"
   },
   {
    "duration": 6,
    "start_time": "2024-09-03T12:39:14.369Z"
   },
   {
    "duration": 31,
    "start_time": "2024-09-03T12:39:14.376Z"
   },
   {
    "duration": 90,
    "start_time": "2024-09-03T12:39:14.409Z"
   },
   {
    "duration": 82606,
    "start_time": "2024-09-03T12:39:14.500Z"
   },
   {
    "duration": 6,
    "start_time": "2024-09-03T12:40:37.108Z"
   },
   {
    "duration": 5,
    "start_time": "2024-09-03T15:24:58.553Z"
   },
   {
    "duration": 1551,
    "start_time": "2024-09-03T15:25:10.909Z"
   },
   {
    "duration": 5,
    "start_time": "2024-09-03T15:25:13.801Z"
   },
   {
    "duration": 6,
    "start_time": "2024-09-03T15:26:13.449Z"
   },
   {
    "duration": 3,
    "start_time": "2024-09-03T15:27:56.371Z"
   },
   {
    "duration": 52,
    "start_time": "2024-09-03T15:27:58.065Z"
   },
   {
    "duration": 6,
    "start_time": "2024-09-03T15:27:59.460Z"
   },
   {
    "duration": 11,
    "start_time": "2024-09-03T15:28:01.508Z"
   },
   {
    "duration": 11,
    "start_time": "2024-09-03T15:28:05.895Z"
   },
   {
    "duration": 3,
    "start_time": "2024-09-03T15:28:10.013Z"
   },
   {
    "duration": 9,
    "start_time": "2024-09-03T15:28:10.530Z"
   },
   {
    "duration": 8,
    "start_time": "2024-09-03T15:28:13.287Z"
   },
   {
    "duration": 3,
    "start_time": "2024-09-03T15:28:13.804Z"
   },
   {
    "duration": 6,
    "start_time": "2024-09-03T15:28:14.310Z"
   },
   {
    "duration": 5,
    "start_time": "2024-09-03T15:28:24.998Z"
   },
   {
    "duration": 575,
    "start_time": "2024-09-03T15:28:27.912Z"
   },
   {
    "duration": 304,
    "start_time": "2024-09-03T15:29:01.348Z"
   },
   {
    "duration": 7,
    "start_time": "2024-09-03T15:29:04.385Z"
   },
   {
    "duration": 805,
    "start_time": "2024-09-03T15:29:04.845Z"
   },
   {
    "duration": 758,
    "start_time": "2024-09-03T15:29:19.247Z"
   },
   {
    "duration": 878,
    "start_time": "2024-09-03T15:30:07.544Z"
   },
   {
    "duration": 9,
    "start_time": "2024-09-03T15:30:41.834Z"
   },
   {
    "duration": 7,
    "start_time": "2024-09-03T15:30:42.295Z"
   },
   {
    "duration": 202,
    "start_time": "2024-09-03T15:30:43.488Z"
   },
   {
    "duration": 3,
    "start_time": "2024-09-03T15:32:28.497Z"
   },
   {
    "duration": 7,
    "start_time": "2024-09-03T15:32:29.015Z"
   },
   {
    "duration": 1247,
    "start_time": "2024-09-03T15:32:34.528Z"
   },
   {
    "duration": 27,
    "start_time": "2024-09-03T15:36:34.967Z"
   },
   {
    "duration": 2872,
    "start_time": "2024-09-03T15:37:52.245Z"
   },
   {
    "duration": 3403,
    "start_time": "2024-09-03T15:38:21.721Z"
   },
   {
    "duration": 2442,
    "start_time": "2024-09-03T15:38:37.179Z"
   },
   {
    "duration": 3165,
    "start_time": "2024-09-03T15:38:45.954Z"
   },
   {
    "duration": 2046,
    "start_time": "2024-09-03T15:41:16.459Z"
   },
   {
    "duration": 1993,
    "start_time": "2024-09-03T15:42:10.911Z"
   },
   {
    "duration": 1932,
    "start_time": "2024-09-03T15:42:17.874Z"
   },
   {
    "duration": 3246,
    "start_time": "2024-09-03T15:42:21.868Z"
   },
   {
    "duration": 3125,
    "start_time": "2024-09-03T15:42:32.679Z"
   },
   {
    "duration": 3,
    "start_time": "2024-09-03T15:42:50.083Z"
   },
   {
    "duration": 3278,
    "start_time": "2024-09-03T15:44:48.549Z"
   },
   {
    "duration": 3197,
    "start_time": "2024-09-03T15:44:59.821Z"
   },
   {
    "duration": 2,
    "start_time": "2024-09-03T15:45:31.446Z"
   },
   {
    "duration": 3388,
    "start_time": "2024-09-03T15:45:40.232Z"
   },
   {
    "duration": 3,
    "start_time": "2024-09-03T16:20:14.975Z"
   },
   {
    "duration": 4,
    "start_time": "2024-09-03T16:20:23.425Z"
   },
   {
    "duration": 4,
    "start_time": "2024-09-03T16:21:38.947Z"
   },
   {
    "duration": 4,
    "start_time": "2024-09-03T16:24:46.365Z"
   },
   {
    "duration": 1613,
    "start_time": "2024-09-03T16:24:55.578Z"
   },
   {
    "duration": 5,
    "start_time": "2024-09-03T16:24:58.784Z"
   },
   {
    "duration": 4,
    "start_time": "2024-09-03T16:25:18.483Z"
   },
   {
    "duration": 5,
    "start_time": "2024-09-03T16:25:19.292Z"
   },
   {
    "duration": 3,
    "start_time": "2024-09-03T16:25:22.488Z"
   },
   {
    "duration": 62,
    "start_time": "2024-09-03T16:25:23.737Z"
   },
   {
    "duration": 5,
    "start_time": "2024-09-03T16:25:25.008Z"
   },
   {
    "duration": 9,
    "start_time": "2024-09-03T16:25:25.875Z"
   },
   {
    "duration": 11,
    "start_time": "2024-09-03T16:25:26.312Z"
   },
   {
    "duration": 3,
    "start_time": "2024-09-03T16:25:28.473Z"
   },
   {
    "duration": 9,
    "start_time": "2024-09-03T16:25:29.137Z"
   },
   {
    "duration": 7,
    "start_time": "2024-09-03T16:25:29.867Z"
   },
   {
    "duration": 4,
    "start_time": "2024-09-03T16:25:30.295Z"
   },
   {
    "duration": 6,
    "start_time": "2024-09-03T16:25:30.767Z"
   },
   {
    "duration": 6,
    "start_time": "2024-09-03T16:25:32.354Z"
   },
   {
    "duration": 676,
    "start_time": "2024-09-03T16:25:33.907Z"
   },
   {
    "duration": 9,
    "start_time": "2024-09-03T16:25:35.561Z"
   },
   {
    "duration": 861,
    "start_time": "2024-09-03T16:25:36.213Z"
   },
   {
    "duration": 9,
    "start_time": "2024-09-03T16:25:40.004Z"
   },
   {
    "duration": 8,
    "start_time": "2024-09-03T16:25:40.421Z"
   },
   {
    "duration": 220,
    "start_time": "2024-09-03T16:25:41.039Z"
   },
   {
    "duration": 2,
    "start_time": "2024-09-03T16:25:42.806Z"
   },
   {
    "duration": 6,
    "start_time": "2024-09-03T16:25:43.222Z"
   },
   {
    "duration": 1259,
    "start_time": "2024-09-03T16:25:45.460Z"
   },
   {
    "duration": 2849,
    "start_time": "2024-09-03T16:25:50.962Z"
   },
   {
    "duration": 1736,
    "start_time": "2024-09-03T16:26:53.278Z"
   },
   {
    "duration": 2,
    "start_time": "2024-09-03T16:28:06.730Z"
   },
   {
    "duration": 3,
    "start_time": "2024-09-03T16:28:11.983Z"
   },
   {
    "duration": 14,
    "start_time": "2024-09-03T16:34:53.700Z"
   },
   {
    "duration": 6,
    "start_time": "2024-09-03T16:35:05.530Z"
   },
   {
    "duration": 4,
    "start_time": "2024-09-03T16:35:06.375Z"
   },
   {
    "duration": 6,
    "start_time": "2024-09-03T16:35:07.634Z"
   },
   {
    "duration": 5,
    "start_time": "2024-09-03T16:35:08.152Z"
   },
   {
    "duration": 5,
    "start_time": "2024-09-03T16:54:44.092Z"
   },
   {
    "duration": 2,
    "start_time": "2024-09-03T16:56:19.854Z"
   },
   {
    "duration": 126,
    "start_time": "2024-09-03T16:56:32.526Z"
   },
   {
    "duration": 28,
    "start_time": "2024-09-03T16:56:50.926Z"
   },
   {
    "duration": 14,
    "start_time": "2024-09-03T16:56:53.683Z"
   },
   {
    "duration": 15,
    "start_time": "2024-09-03T16:57:03.431Z"
   },
   {
    "duration": 4,
    "start_time": "2024-09-03T16:57:18.951Z"
   },
   {
    "duration": 3,
    "start_time": "2024-09-03T16:57:22.933Z"
   },
   {
    "duration": 68092,
    "start_time": "2024-09-03T16:57:24.216Z"
   },
   {
    "duration": 7,
    "start_time": "2024-09-03T17:00:55.305Z"
   },
   {
    "duration": 71609,
    "start_time": "2024-09-03T17:03:45.201Z"
   },
   {
    "duration": 89259,
    "start_time": "2024-09-03T17:08:51.157Z"
   },
   {
    "duration": 7,
    "start_time": "2024-09-03T17:10:29.380Z"
   },
   {
    "duration": 4,
    "start_time": "2024-09-03T17:10:38.954Z"
   },
   {
    "duration": 12,
    "start_time": "2024-09-03T17:10:53.171Z"
   },
   {
    "duration": 68873,
    "start_time": "2024-09-03T17:11:23.044Z"
   },
   {
    "duration": 11,
    "start_time": "2024-09-03T17:12:57.522Z"
   },
   {
    "duration": 12,
    "start_time": "2024-09-03T17:13:18.279Z"
   },
   {
    "duration": 68792,
    "start_time": "2024-09-03T17:13:21.418Z"
   },
   {
    "duration": 10,
    "start_time": "2024-09-03T17:14:54.053Z"
   },
   {
    "duration": 4,
    "start_time": "2024-09-03T17:17:06.473Z"
   },
   {
    "duration": 2,
    "start_time": "2024-09-03T17:17:09.640Z"
   },
   {
    "duration": 74554,
    "start_time": "2024-09-03T17:17:10.260Z"
   },
   {
    "duration": 11,
    "start_time": "2024-09-03T17:19:15.958Z"
   },
   {
    "duration": 4,
    "start_time": "2024-09-03T17:20:44.790Z"
   },
   {
    "duration": 3,
    "start_time": "2024-09-03T17:20:46.026Z"
   },
   {
    "duration": 65170,
    "start_time": "2024-09-03T17:20:46.847Z"
   },
   {
    "duration": 8,
    "start_time": "2024-09-03T17:23:04.967Z"
   },
   {
    "duration": 5,
    "start_time": "2024-09-03T17:24:27.307Z"
   },
   {
    "duration": 3,
    "start_time": "2024-09-03T17:24:28.308Z"
   },
   {
    "duration": 65235,
    "start_time": "2024-09-03T17:24:28.781Z"
   },
   {
    "duration": 8,
    "start_time": "2024-09-03T17:26:19.000Z"
   },
   {
    "duration": 5,
    "start_time": "2024-09-03T17:29:59.830Z"
   },
   {
    "duration": 4,
    "start_time": "2024-09-03T17:30:21.374Z"
   },
   {
    "duration": 5,
    "start_time": "2024-09-03T17:30:22.825Z"
   },
   {
    "duration": 6,
    "start_time": "2024-09-03T17:30:33.085Z"
   },
   {
    "duration": 7,
    "start_time": "2024-09-03T17:31:13.091Z"
   },
   {
    "duration": 5,
    "start_time": "2024-09-03T17:32:44.454Z"
   },
   {
    "duration": 3,
    "start_time": "2024-09-03T17:32:47.345Z"
   },
   {
    "duration": 58040,
    "start_time": "2024-09-03T17:32:59.682Z"
   },
   {
    "duration": 7,
    "start_time": "2024-09-03T17:34:27.923Z"
   },
   {
    "duration": 12,
    "start_time": "2024-09-03T17:35:11.562Z"
   },
   {
    "duration": 16,
    "start_time": "2024-09-03T17:36:37.041Z"
   },
   {
    "duration": 5,
    "start_time": "2024-09-03T17:36:38.424Z"
   },
   {
    "duration": 5,
    "start_time": "2024-09-03T17:36:38.874Z"
   },
   {
    "duration": 7,
    "start_time": "2024-09-03T17:36:39.325Z"
   },
   {
    "duration": 6,
    "start_time": "2024-09-03T17:36:43.341Z"
   },
   {
    "duration": 7,
    "start_time": "2024-09-03T17:36:43.982Z"
   },
   {
    "duration": 5,
    "start_time": "2024-09-03T17:36:46.007Z"
   },
   {
    "duration": 2,
    "start_time": "2024-09-03T17:36:47.335Z"
   },
   {
    "duration": 70577,
    "start_time": "2024-09-03T17:36:48.238Z"
   },
   {
    "duration": 7,
    "start_time": "2024-09-03T17:38:21.814Z"
   },
   {
    "duration": 11,
    "start_time": "2024-09-03T17:38:25.628Z"
   },
   {
    "duration": 17,
    "start_time": "2024-09-03T17:38:45.945Z"
   },
   {
    "duration": 6,
    "start_time": "2024-09-03T17:38:46.385Z"
   },
   {
    "duration": 5,
    "start_time": "2024-09-03T17:38:46.767Z"
   },
   {
    "duration": 4,
    "start_time": "2024-09-03T17:38:47.172Z"
   },
   {
    "duration": 6,
    "start_time": "2024-09-03T17:38:48.129Z"
   },
   {
    "duration": 6,
    "start_time": "2024-09-03T17:38:48.522Z"
   },
   {
    "duration": 5,
    "start_time": "2024-09-03T17:38:49.928Z"
   },
   {
    "duration": 2,
    "start_time": "2024-09-03T17:38:51.211Z"
   },
   {
    "duration": 69653,
    "start_time": "2024-09-03T17:38:51.752Z"
   },
   {
    "duration": 7,
    "start_time": "2024-09-03T17:40:22.078Z"
   },
   {
    "duration": 11,
    "start_time": "2024-09-03T17:40:25.916Z"
   },
   {
    "duration": 11,
    "start_time": "2024-09-03T17:40:42.870Z"
   },
   {
    "duration": 5,
    "start_time": "2024-09-03T17:40:43.274Z"
   },
   {
    "duration": 5,
    "start_time": "2024-09-03T17:40:43.622Z"
   },
   {
    "duration": 6,
    "start_time": "2024-09-03T17:40:43.995Z"
   },
   {
    "duration": 6,
    "start_time": "2024-09-03T17:40:44.771Z"
   },
   {
    "duration": 6,
    "start_time": "2024-09-03T17:40:45.108Z"
   },
   {
    "duration": 5,
    "start_time": "2024-09-03T17:40:46.143Z"
   },
   {
    "duration": 3,
    "start_time": "2024-09-03T17:40:47.358Z"
   },
   {
    "duration": 58317,
    "start_time": "2024-09-03T17:40:48.393Z"
   },
   {
    "duration": 6,
    "start_time": "2024-09-03T17:42:07.391Z"
   },
   {
    "duration": 11,
    "start_time": "2024-09-03T17:42:09.766Z"
   },
   {
    "duration": 12,
    "start_time": "2024-09-03T17:42:35.192Z"
   },
   {
    "duration": 6,
    "start_time": "2024-09-03T17:42:35.517Z"
   },
   {
    "duration": 5,
    "start_time": "2024-09-03T17:42:35.854Z"
   },
   {
    "duration": 7,
    "start_time": "2024-09-03T17:42:39.309Z"
   },
   {
    "duration": 6,
    "start_time": "2024-09-03T17:42:42.616Z"
   },
   {
    "duration": 5,
    "start_time": "2024-09-03T17:42:43.944Z"
   },
   {
    "duration": 3,
    "start_time": "2024-09-03T17:42:45.024Z"
   },
   {
    "duration": 61249,
    "start_time": "2024-09-03T17:42:45.464Z"
   },
   {
    "duration": 64186,
    "start_time": "2024-09-03T17:44:27.323Z"
   },
   {
    "duration": 11,
    "start_time": "2024-09-03T17:46:00.823Z"
   },
   {
    "duration": 23,
    "start_time": "2024-09-03T17:49:05.687Z"
   },
   {
    "duration": 4,
    "start_time": "2024-09-03T17:49:23.322Z"
   },
   {
    "duration": 16,
    "start_time": "2024-09-03T17:49:45.928Z"
   },
   {
    "duration": 13,
    "start_time": "2024-09-03T17:50:34.350Z"
   },
   {
    "duration": 4,
    "start_time": "2024-09-03T17:50:45.847Z"
   },
   {
    "duration": 4,
    "start_time": "2024-09-03T17:51:18.113Z"
   },
   {
    "duration": 3,
    "start_time": "2024-09-03T17:51:21.309Z"
   },
   {
    "duration": 343,
    "start_time": "2024-09-03T17:53:02.021Z"
   },
   {
    "duration": 323,
    "start_time": "2024-09-03T17:53:06.374Z"
   },
   {
    "duration": 337,
    "start_time": "2024-09-03T17:53:56.482Z"
   },
   {
    "duration": 329,
    "start_time": "2024-09-03T17:53:59.756Z"
   },
   {
    "duration": 324,
    "start_time": "2024-09-03T17:54:39.785Z"
   },
   {
    "duration": 6,
    "start_time": "2024-09-04T12:10:20.975Z"
   },
   {
    "duration": 18,
    "start_time": "2024-09-04T12:10:20.983Z"
   },
   {
    "duration": 10,
    "start_time": "2024-09-04T12:10:21.003Z"
   },
   {
    "duration": 4,
    "start_time": "2024-09-04T12:10:21.014Z"
   },
   {
    "duration": 11,
    "start_time": "2024-09-04T12:10:21.020Z"
   },
   {
    "duration": 52,
    "start_time": "2024-09-04T12:10:21.033Z"
   },
   {
    "duration": 4,
    "start_time": "2024-09-04T12:10:21.086Z"
   },
   {
    "duration": 7,
    "start_time": "2024-09-04T12:10:21.092Z"
   },
   {
    "duration": 12,
    "start_time": "2024-09-04T12:10:21.101Z"
   },
   {
    "duration": 3,
    "start_time": "2024-09-04T12:10:21.115Z"
   },
   {
    "duration": 11,
    "start_time": "2024-09-04T12:10:21.119Z"
   },
   {
    "duration": 24,
    "start_time": "2024-09-04T12:10:21.132Z"
   },
   {
    "duration": 11,
    "start_time": "2024-09-04T12:10:21.158Z"
   },
   {
    "duration": 14,
    "start_time": "2024-09-04T12:10:21.171Z"
   },
   {
    "duration": 6,
    "start_time": "2024-09-04T12:10:21.187Z"
   },
   {
    "duration": 780,
    "start_time": "2024-09-04T12:10:21.194Z"
   },
   {
    "duration": 7,
    "start_time": "2024-09-04T12:10:21.976Z"
   },
   {
    "duration": 1071,
    "start_time": "2024-09-04T12:10:21.984Z"
   },
   {
    "duration": 14,
    "start_time": "2024-09-04T12:10:23.056Z"
   },
   {
    "duration": 22,
    "start_time": "2024-09-04T12:10:23.072Z"
   },
   {
    "duration": 351,
    "start_time": "2024-09-04T12:10:23.096Z"
   },
   {
    "duration": 3,
    "start_time": "2024-09-04T12:10:23.448Z"
   },
   {
    "duration": 16,
    "start_time": "2024-09-04T12:10:23.453Z"
   },
   {
    "duration": 1404,
    "start_time": "2024-09-04T12:10:23.470Z"
   },
   {
    "duration": 1691,
    "start_time": "2024-09-04T12:10:24.876Z"
   },
   {
    "duration": 1801,
    "start_time": "2024-09-04T12:10:26.570Z"
   },
   {
    "duration": 2,
    "start_time": "2024-09-04T12:10:28.373Z"
   },
   {
    "duration": 106,
    "start_time": "2024-09-04T12:10:28.472Z"
   },
   {
    "duration": 57,
    "start_time": "2024-09-04T12:10:28.579Z"
   },
   {
    "duration": 1500,
    "start_time": "2024-09-04T12:10:35.551Z"
   },
   {
    "duration": 16,
    "start_time": "2024-09-04T12:10:37.052Z"
   },
   {
    "duration": 3,
    "start_time": "2024-09-04T12:10:37.070Z"
   },
   {
    "duration": 6,
    "start_time": "2024-09-04T12:10:37.076Z"
   },
   {
    "duration": 5,
    "start_time": "2024-09-04T12:10:37.083Z"
   },
   {
    "duration": 48,
    "start_time": "2024-09-04T12:10:37.089Z"
   },
   {
    "duration": 8,
    "start_time": "2024-09-04T12:10:37.140Z"
   },
   {
    "duration": 17,
    "start_time": "2024-09-04T12:10:37.149Z"
   },
   {
    "duration": 11,
    "start_time": "2024-09-04T12:10:37.168Z"
   },
   {
    "duration": 2,
    "start_time": "2024-09-04T12:10:37.182Z"
   },
   {
    "duration": 9,
    "start_time": "2024-09-04T12:10:37.186Z"
   },
   {
    "duration": 7,
    "start_time": "2024-09-04T12:10:37.196Z"
   },
   {
    "duration": 29,
    "start_time": "2024-09-04T12:10:37.204Z"
   },
   {
    "duration": 9,
    "start_time": "2024-09-04T12:10:37.235Z"
   },
   {
    "duration": 15,
    "start_time": "2024-09-04T12:10:37.246Z"
   },
   {
    "duration": 763,
    "start_time": "2024-09-04T12:10:37.262Z"
   },
   {
    "duration": 7,
    "start_time": "2024-09-04T12:10:38.027Z"
   },
   {
    "duration": 1097,
    "start_time": "2024-09-04T12:10:38.036Z"
   },
   {
    "duration": 7,
    "start_time": "2024-09-04T12:10:39.135Z"
   },
   {
    "duration": 22,
    "start_time": "2024-09-04T12:10:39.144Z"
   },
   {
    "duration": 359,
    "start_time": "2024-09-04T12:10:39.167Z"
   },
   {
    "duration": 3,
    "start_time": "2024-09-04T12:10:39.528Z"
   },
   {
    "duration": 20,
    "start_time": "2024-09-04T12:10:39.532Z"
   },
   {
    "duration": 1412,
    "start_time": "2024-09-04T12:10:39.553Z"
   },
   {
    "duration": 1709,
    "start_time": "2024-09-04T12:10:40.967Z"
   },
   {
    "duration": 1423,
    "start_time": "2024-09-04T12:10:42.767Z"
   },
   {
    "duration": 4,
    "start_time": "2024-09-04T12:10:44.266Z"
   },
   {
    "duration": 97,
    "start_time": "2024-09-04T12:10:44.276Z"
   },
   {
    "duration": 6,
    "start_time": "2024-09-04T12:10:44.375Z"
   },
   {
    "duration": 4,
    "start_time": "2024-09-04T12:10:44.382Z"
   },
   {
    "duration": 5,
    "start_time": "2024-09-04T12:10:44.388Z"
   },
   {
    "duration": 10,
    "start_time": "2024-09-04T12:10:44.394Z"
   },
   {
    "duration": 4,
    "start_time": "2024-09-04T12:10:44.406Z"
   },
   {
    "duration": 4,
    "start_time": "2024-09-04T12:10:44.412Z"
   },
   {
    "duration": 256149,
    "start_time": "2024-09-04T12:10:44.417Z"
   },
   {
    "duration": 6,
    "start_time": "2024-09-04T12:15:00.568Z"
   },
   {
    "duration": 76,
    "start_time": "2024-09-04T12:15:00.575Z"
   },
   {
    "duration": 17,
    "start_time": "2024-09-04T12:15:00.653Z"
   },
   {
    "duration": 565,
    "start_time": "2024-09-04T12:15:00.671Z"
   }
  ],
  "hide_input": false,
  "kernelspec": {
   "display_name": "Python 3 (ipykernel)",
   "language": "python",
   "name": "python3"
  },
  "language_info": {
   "codemirror_mode": {
    "name": "ipython",
    "version": 3
   },
   "file_extension": ".py",
   "mimetype": "text/x-python",
   "name": "python",
   "nbconvert_exporter": "python",
   "pygments_lexer": "ipython3",
   "version": "3.11.4"
  },
  "toc": {
   "base_numbering": 1,
   "nav_menu": {},
   "number_sections": true,
   "sideBar": true,
   "skip_h1_title": true,
   "title_cell": "Содержание",
   "title_sidebar": "Contents",
   "toc_cell": false,
   "toc_position": {
    "height": "calc(100% - 180px)",
    "left": "10px",
    "top": "150px",
    "width": "384px"
   },
   "toc_section_display": true,
   "toc_window_display": true
  },
  "varInspector": {
   "cols": {
    "lenName": 16,
    "lenType": 16,
    "lenVar": 40
   },
   "kernels_config": {
    "python": {
     "delete_cmd_postfix": "",
     "delete_cmd_prefix": "del ",
     "library": "var_list.py",
     "varRefreshCmd": "print(var_dic_list())"
    },
    "r": {
     "delete_cmd_postfix": ") ",
     "delete_cmd_prefix": "rm(",
     "library": "var_list.r",
     "varRefreshCmd": "cat(var_dic_list()) "
    }
   },
   "types_to_exclude": [
    "module",
    "function",
    "builtin_function_or_method",
    "instance",
    "_Feature"
   ],
   "window_display": false
  }
 },
 "nbformat": 4,
 "nbformat_minor": 2
}
